{
 "cells": [
  {
   "cell_type": "markdown",
   "id": "928415ef",
   "metadata": {},
   "source": [
    "# Probabilidad y Estadistica"
   ]
  },
  {
   "cell_type": "code",
   "execution_count": 1,
   "id": "1b377624",
   "metadata": {},
   "outputs": [],
   "source": [
    "import pandas as pd #Datos\n",
    "import matplotlib.pyplot as plt #Gráficos\n",
    "import seaborn as sns #Gráficos\n",
    "import numpy as np #Mate\n",
    "import ipywidgets as widgets #Graf Interactivos\n",
    "import random #Aleatorio\n",
    "import scipy.stats as stats #Est\n",
    "from scipy.stats import binom #Est\n",
    "from scipy.stats import norm #Est\n",
    "import warnings \n",
    "\n",
    "warnings.filterwarnings(\"ignore\")"
   ]
  },
  {
   "cell_type": "code",
   "execution_count": null,
   "id": "877f1a17",
   "metadata": {},
   "outputs": [],
   "source": [
    "sns.set()"
   ]
  },
  {
   "cell_type": "markdown",
   "id": "4ef6f6ac",
   "metadata": {},
   "source": [
    "### Teorema de bayes"
   ]
  },
  {
   "cell_type": "markdown",
   "id": "c1116622",
   "metadata": {},
   "source": [
    "1. **Partición de $\\Omega$**:  \n",
    "   Sea $\\{A_1, A_2, \\dots, A_n\\}$ una partición de $\\Omega$. Esto significa que los conjuntos $A_1, A_2, \\dots, A_n$ son mutuamente excluyentes y cubren todo el espacio muestral:\n",
    "   $$\n",
    "   A_i \\cap A_j = \\emptyset \\text{ para } i \\neq j, \\quad \\bigcup_{i=1}^n A_i = \\Omega.\n",
    "   $$\n",
    "   Además, cada uno de estos eventos tiene una probabilidad no nula, es decir, $P(A_i) \\neq 0$ para todo $i$.\n",
    "\n",
    "2. **Evento $B$ con $P(B) \\neq 0$**:  \n",
    "   El evento $B$ es un evento particular en el espacio muestral $\\Omega$ tal que su probabilidad $P(B)$ también es no nula.\n",
    "\n",
    "3. **Probabilidad Condicional con Bayes**:  \n",
    "   La fórmula busca expresar la probabilidad condicional de $A_i$ dado que $B$ ocurrió, $P(A_i | B)$, en términos de las probabilidades condicionales de $B$ dado cada $A_k$, y las probabilidades de los eventos $A_k$ que forman la partición de $\\Omega$.\n",
    "\n",
    "   La fórmula general es:\n",
    "   $$\n",
    "   P(A_i | B) = \\frac{P(B | A_i) P(A_i)}{P(B)}\n",
    "   $$\n",
    "   donde:\n",
    "   - $P(B | A_i)$ es la probabilidad de que ocurra $B$ dado que $A_i$ ocurrió.\n",
    "   - $P(A_i)$ es la probabilidad de que ocurra $A_i$.\n",
    "   - $P(B)$ es la probabilidad total de $B$, que se puede calcular usando la **probabilidad total** en función de los eventos de la partición.\n",
    "\n",
    "4. **Expresión Completa para $P(A_i | B)$**:  \n",
    "   Dado que $\\{A_1, A_2, \\dots, A_n\\}$ es una partición de $\\Omega$, podemos usar la fórmula de la probabilidad total para expresar $P(B)$ como:\n",
    "   $$\n",
    "   P(B) = \\sum_{k=1}^n P(B | A_k) P(A_k).\n",
    "   $$\n",
    "   \n",
    "   Sustituyendo esto en la fórmula de $P(A_i | B)$, obtenemos:\n",
    "   $$\n",
    "   P(A_i | B) = \\frac{P(B | A_i) P(A_i)}{\\sum_{k=1}^n P(B | A_k) P(A_k)}.\n",
    "   $$\n",
    "   \n",
    "   Esta fórmula nos da la **probabilidad de que ocurra $A_i$ dado que ocurrió $B$**, considerando que el evento $B$ puede suceder en función de cualquiera de los eventos en la partición $\\{A_1, A_2, \\dots, A_n\\}$. \n",
    "\n",
    "Esta expresión es útil en situaciones en las que queremos actualizar la probabilidad de algún evento en particular ($A_i$) una vez que sabemos que $B$ ha ocurrido, teniendo en cuenta varias causas posibles para $B$.\n"
   ]
  },
  {
   "cell_type": "markdown",
   "id": "cd505c1c",
   "metadata": {},
   "source": [
    "Cuando la particion consta de dos elementos entonces  \n",
    "\n",
    "\n",
    "$\\displaystyle P(A|B)={\\frac {P(B|A)P(A)}{P(B|A)P(A)+P(B|A^c)P(A^c)}}$    \n"
   ]
  },
  {
   "cell_type": "markdown",
   "id": "710bbcdd",
   "metadata": {},
   "source": [
    "Ejemplo: En una fabrica hay dos maquinas. La maquina 1 realiza el 60% de la producción total y la maquina 2 el 40%. De su produccion total la maquina 1 produce el 3% de material defectuoso mientras que la maquina 2 el 5%.  \n",
    "\n",
    "Si se ha encontrado un material defectuoso, ¿cúal es la probabilidad de que venga de la maquina 2?"
   ]
  },
  {
   "cell_type": "markdown",
   "id": "73bf19ef",
   "metadata": {},
   "source": [
    "Para resolver este problema, podemos aplicar la **fórmula de Bayes**, ya que estamos tratando de encontrar la probabilidad de que un material defectuoso venga de la máquina 2, dado que sabemos que el material es defectuoso.\n",
    "\n",
    "### Paso 1: Definir los eventos\n",
    "Llamemos a los eventos de la siguiente manera:\n",
    "- \\( M_1 \\): El material proviene de la máquina 1.\n",
    "- \\( M_2 \\): El material proviene de la máquina 2.\n",
    "- \\( D \\): El material es defectuoso.\n",
    "\n",
    "Queremos encontrar \\( P(M_2 | D) \\), es decir, la probabilidad de que el material provenga de la máquina 2 dado que es defectuoso.\n",
    "\n",
    "### Paso 2: Datos proporcionados\n",
    "- \\( P(M_1) = 0.60 \\): La probabilidad de que un material provenga de la máquina 1 (ya que esta produce el 60% de la producción total).\n",
    "- \\( P(M_2) = 0.40 \\): La probabilidad de que un material provenga de la máquina 2 (ya que esta produce el 40% de la producción total).\n",
    "- \\( P(D | M_1) = 0.03 \\): La probabilidad de que el material sea defectuoso si proviene de la máquina 1 (3% de la producción de la máquina 1 es defectuosa).\n",
    "- \\( P(D | M_2) = 0.05 \\): La probabilidad de que el material sea defectuoso si proviene de la máquina 2 (5% de la producción de la máquina 2 es defectuosa).\n",
    "\n",
    "### Paso 3: Calcular la probabilidad total de \\( D \\)\n",
    "Para encontrar \\( P(D) \\), la probabilidad total de que el material sea defectuoso, usamos la **fórmula de la probabilidad total** considerando ambas máquinas:\n",
    "$$\n",
    "P(D) = P(D | M_1) \\cdot P(M_1) + P(D | M_2) \\cdot P(M_2)\n",
    "$$\n",
    "Sustituyendo los valores:\n",
    "$$\n",
    "P(D) = (0.03 \\cdot 0.60) + (0.05 \\cdot 0.40)\n",
    "$$\n",
    "$$\n",
    "P(D) = 0.018 + 0.02 = 0.038\n",
    "$$\n",
    "\n",
    "### Paso 4: Aplicar la fórmula de Bayes\n",
    "Ahora usamos la **fórmula de Bayes** para calcular \\( P(M_2 | D) \\):\n",
    "$$\n",
    "P(M_2 | D) = \\frac{P(D | M_2) \\cdot P(M_2)}{P(D)}\n",
    "$$\n",
    "Sustituyendo los valores:\n",
    "$$\n",
    "P(M_2 | D) = \\frac{0.05 \\cdot 0.40}{0.038}\n",
    "$$\n",
    "$$\n",
    "P(M_2 | D) = \\frac{0.02}{0.038} \\approx 0.5263\n",
    "$$\n",
    "\n",
    "### Respuesta\n",
    "La probabilidad de que un material defectuoso provenga de la máquina 2 es aproximadamente **0.5263**, o **52.63%**.\n",
    "\n",
    "### Explicación del resultado\n",
    "Aunque la máquina 1 produce más material (60% del total), la máquina 2 tiene una tasa de defectos más alta (5% en comparación con el 3% de la máquina 1). Esto hace que, al encontrar un material defectuoso, haya una mayor probabilidad de que provenga de la máquina 2.\n"
   ]
  },
  {
   "cell_type": "code",
   "execution_count": 2,
   "id": "d7e6a325",
   "metadata": {},
   "outputs": [
    {
     "data": {
      "text/plain": [
       "0.5263157894736842"
      ]
     },
     "execution_count": 2,
     "metadata": {},
     "output_type": "execute_result"
    }
   ],
   "source": [
    "(5/100)*(40/100) / ( (3/100)*(60/100) +(5/100)*(40/100))"
   ]
  },
  {
   "cell_type": "markdown",
   "id": "5c8f891a",
   "metadata": {},
   "source": [
    "### Independencia en Probabilidad\n",
    "\n",
    "En probabilidad, dos eventos \\( A \\) y \\( B \\) se dicen **independientes** si la ocurrencia de uno no afecta la ocurrencia del otro. Matemáticamente, esto se expresa como:\n",
    "\n",
    "$$\n",
    "P(A \\cap B) = P(A) \\cdot P(B)\n",
    "$$\n",
    "\n",
    "Si esta igualdad se cumple, entonces los eventos \\( A \\) y \\( B \\) son independientes.\n",
    "\n",
    "**Intuición**: La independencia implica que el conocimiento de que uno de los eventos ocurre no proporciona ninguna información adicional sobre la probabilidad del otro evento. Esto contrasta con eventos **dependientes**, donde la ocurrencia de uno afecta la probabilidad de que ocurra el otro.\n",
    "\n",
    "### Ejemplo de Independencia\n",
    "\n",
    "Supongamos que lanzamos una moneda y tiramos un dado. Definimos dos eventos:\n",
    "- \\( A \\): La moneda cae en \"cara\".\n",
    "- \\( B \\): El dado muestra un número par.\n",
    "\n",
    "La probabilidad de que ocurra \\( A \\) es \\( P(A) = 0.5 \\) (50%) y la probabilidad de que ocurra \\( B \\) es \\( P(B) = 0.5 \\) (hay tres números pares en un dado de seis caras).\n",
    "\n",
    "La probabilidad de que ocurran ambos eventos juntos (\\( A \\cap B \\)) es el producto de sus probabilidades, porque son eventos independientes (el resultado de la moneda no afecta el resultado del dado):\n",
    "$$\n",
    "P(A \\cap B) = P(A) \\cdot P(B) = 0.5 \\cdot 0.5 = 0.25\n",
    "$$\n",
    "\n",
    "En Python, podríamos simular esto para confirmar la independencia con una simulación de múltiples lanzamientos de moneda y dados:"
   ]
  },
  {
   "cell_type": "code",
   "execution_count": 3,
   "id": "ea26704d",
   "metadata": {},
   "outputs": [
    {
     "name": "stdout",
     "output_type": "stream",
     "text": [
      "P(A) = 0.499999\n",
      "P(B) = 0.500272\n",
      "P(A ∩ B) = 0.249861\n",
      "P(A) * P(B) = 0.25013549972800003\n",
      "¿Son independientes? False\n"
     ]
    }
   ],
   "source": [
    "# Número de simulaciones\n",
    "random.seed(6)\n",
    "\n",
    "n = 1_000_000\n",
    "count_A = 0\n",
    "count_B = 0\n",
    "count_A_and_B = 0\n",
    "\n",
    "for _ in range(n):\n",
    "    coin = random.choice([\"cara\", \"cruz\"])\n",
    "    die = random.randint(1, 6)\n",
    "    \n",
    "    # Evento A: cara en la moneda\n",
    "    if coin == \"cara\":\n",
    "        count_A += 1\n",
    "    \n",
    "    # Evento B: número par en el dado\n",
    "    if die % 2 == 0:\n",
    "        count_B += 1\n",
    "    \n",
    "    # Ambos eventos A y B\n",
    "    if coin == \"cara\" and die % 2 == 0:\n",
    "        count_A_and_B += 1\n",
    "\n",
    "# Probabilidades estimadas\n",
    "P_A = count_A / n\n",
    "P_B = count_B / n\n",
    "P_A_and_B = count_A_and_B / n\n",
    "\n",
    "# Verificación de independencia\n",
    "independencia = P_A_and_B == P_A * P_B\n",
    "\n",
    "print(f\"P(A) = {P_A}\")\n",
    "print(f\"P(B) = {P_B}\")\n",
    "print(f\"P(A ∩ B) = {P_A_and_B}\")\n",
    "print(f\"P(A) * P(B) = {P_A * P_B}\")\n",
    "print(f\"¿Son independientes? {independencia}\")"
   ]
  },
  {
   "cell_type": "markdown",
   "id": "c86a0a08",
   "metadata": {},
   "source": [
    "# Variables Aleatorias\n",
    "\n",
    "Una **variable aleatoria** es una función que asigna un número a cada evento de un espacio muestral, convirtiendo resultados de experimentos aleatorios en valores numéricos. Las variables aleatorias nos permiten analizar y describir eventos inciertos de una manera cuantitativa.\n",
    "\n",
    "Existen dos tipos principales de variables aleatorias:\n",
    "\n",
    "1. **Discretas**: Solo pueden tomar ciertos valores específicos (por ejemplo, el número de veces que sale cara en 10 lanzamientos de una moneda).\n",
    "2. **Continuas**: Pueden tomar cualquier valor en un rango o intervalo continuo (por ejemplo, el precio de un activo financiero en un intervalo de tiempo).\n",
    "\n",
    "Ejemplos de variables aleatorias en finanzas:\n",
    "- El precio de un activo.\n",
    "- Retornos o rendimientos de una inversión.\n",
    "- Tasas de interés.\n",
    "- Pérdidas y ganancias (P&L) de un portafolio.\n",
    "\n",
    "### Funciones para Describir Variables Aleatorias\n",
    "\n",
    "Existen dos funciones principales para describir las propiedades de una variable aleatoria:\n",
    "\n",
    "#### 1. Distribución de Probabilidad\n",
    "La **distribución de probabilidad** describe la probabilidad de que una variable aleatoria tome ciertos valores.\n",
    "\n",
    "- Para una variable aleatoria discreta \\(X\\), usamos la **función de masa de probabilidad** (PMF). La suma de las probabilidades de todos los valores posibles es igual a 1:\n",
    "  $$\n",
    "  \\sum_k P(X = x_k) = 1\n",
    "  $$\n",
    "  \n",
    "- Para una variable aleatoria continua \\(X\\), usamos la **función de densidad de probabilidad** (PDF). La integral de la densidad de probabilidad en todo el dominio es igual a 1:\n",
    "  $$\n",
    "  \\int_{-\\infty}^{\\infty} f(x) \\, dx = 1\n",
    "  $$\n",
    "\n",
    "#### 2. Función de Distribución Acumulada (CDF)\n",
    "La **función de distribución acumulada** (CDF) proporciona la probabilidad de que una variable aleatoria \\(X\\) sea menor o igual a un valor específico \\(x\\):\n",
    "$$\n",
    "F(x) = P(X \\leq x) = \\int_{-\\infty}^x f(t) \\, dt\n",
    "$$\n",
    "La CDF es una función creciente que varía de 0 a 1.\n",
    "\n",
    "Si conocemos la CDF, la PDF se puede obtener derivando la CDF:\n",
    "$$\n",
    "f(x) = \\frac{dF(x)}{dx}\n",
    "$$\n",
    "\n",
    "Además, la probabilidad de que \\(X\\) esté entre dos valores \\(a\\) y \\(b\\) se puede calcular usando la CDF:\n",
    "$$\n",
    "P(a < X < b) = F(b) - F(a)\n",
    "$$\n",
    "\n",
    "### Ejemplos en Python\n",
    "\n",
    "A continuación, mostramos cómo trabajar con variables aleatorias discretas y continuas en Python, utilizando la biblioteca `scipy.stats`.\n",
    "\n",
    "#### Ejemplo 1: Variable Aleatoria Discreta\n",
    "\n",
    "Supongamos que tenemos una variable aleatoria que representa el número de caras en 10 lanzamientos de una moneda. Esta variable sigue una **distribución binomial**.\n",
    "\n"
   ]
  },
  {
   "cell_type": "code",
   "execution_count": 4,
   "id": "ff96dd7d",
   "metadata": {},
   "outputs": [
    {
     "data": {
      "image/png": "[encoded data removed]",
      "text/plain": [
       "<Figure size 1000x600 with 1 Axes>"
      ]
     },
     "metadata": {},
     "output_type": "display_data"
    }
   ],
   "source": [
    "# Parámetros de la distribución binomial\n",
    "n = 10  # número de lanzamientos\n",
    "p = 0.5  # probabilidad de obtener cara\n",
    "\n",
    "# Distribución de probabilidad (PMF)\n",
    "x = range(n + 1)\n",
    "pmf = binom.pmf(x, n, p)\n",
    "\n",
    "# Gráfica de la PMF\n",
    "plt.figure(figsize=(10, 6))\n",
    "plt.stem(x, pmf)\n",
    "plt.xlabel('Número de caras en 10 lanzamientos')\n",
    "plt.ylabel('Probabilidad')\n",
    "plt.title('Función de Masa de Probabilidad (PMF) - Distribución Binomial')\n",
    "plt.grid(True)\n",
    "plt.show()\n"
   ]
  },
  {
   "cell_type": "code",
   "execution_count": 5,
   "id": "b4c44b56",
   "metadata": {},
   "outputs": [
    {
     "data": {
      "text/plain": [
       "0.9999999999999999"
      ]
     },
     "execution_count": 5,
     "metadata": {},
     "output_type": "execute_result"
    }
   ],
   "source": [
    "sum(pmf)"
   ]
  },
  {
   "cell_type": "code",
   "execution_count": 6,
   "id": "b0bdef5c",
   "metadata": {},
   "outputs": [
    {
     "data": {
      "text/plain": [
       "array([0.00097656, 0.00976563, 0.04394531, 0.1171875 , 0.20507812,\n",
       "       0.24609375, 0.20507812, 0.1171875 , 0.04394531, 0.00976563,\n",
       "       0.00097656])"
      ]
     },
     "execution_count": 6,
     "metadata": {},
     "output_type": "execute_result"
    }
   ],
   "source": [
    "pmf"
   ]
  },
  {
   "cell_type": "markdown",
   "id": "c09ad635",
   "metadata": {},
   "source": [
    "#### Ejemplo 2: Variable Aleatoria Continua\n",
    "\n",
    "Consideremos una variable aleatoria que representa los retornos diarios de un activo financiero, modelada como una distribución normal con media 0 y desviación estándar 1."
   ]
  },
  {
   "cell_type": "markdown",
   "id": "243a39d7",
   "metadata": {},
   "source": [
    "Esta línea crea un conjunto de valores para la variable 𝑥 en el rango de −4 a 4 usando np.linspace, que genera 1,000 puntos equidistantes. Este rango es suficiente para cubrir la mayoría del área bajo la curva de la distribución normal estándar (ya que el 99.7% de los valores de una normal estándar están entre -3 y 3)."
   ]
  },
  {
   "cell_type": "code",
   "execution_count": 7,
   "id": "5449e4ec",
   "metadata": {},
   "outputs": [
    {
     "data": {
      "image/png": "[encoded data removed]",
      "text/plain": [
       "<Figure size 1000x600 with 1 Axes>"
      ]
     },
     "metadata": {},
     "output_type": "display_data"
    }
   ],
   "source": [
    "# Parámetros de la distribución normal\n",
    "mu = 0    # media\n",
    "sigma = 1  # desviación estándar\n",
    "\n",
    "# Distribución de densidad de probabilidad (PDF)\n",
    "x = np.linspace(-4, 4, 1000)\n",
    "pdf = norm.pdf(x, mu, sigma)\n",
    "\n",
    "# Función de distribución acumulada (CDF)\n",
    "cdf = norm.cdf(x, mu, sigma)\n",
    "\n",
    "# Gráfica de la PDF y la CDF\n",
    "plt.figure(figsize=(10, 6))\n",
    "plt.plot(x, pdf, label='PDF', color='blue')\n",
    "plt.plot(x, cdf, label='CDF', color='red')\n",
    "plt.xlabel('Valor de X')\n",
    "plt.ylabel('Densidad / Probabilidad acumulada')\n",
    "plt.title('Función de Densidad de Probabilidad (PDF) y Función de Distribución Acumulada (CDF) - Distribución Normal')\n",
    "plt.legend()\n",
    "plt.grid(True)\n",
    "plt.show()"
   ]
  },
  {
   "cell_type": "markdown",
   "id": "d46b9c4c",
   "metadata": {},
   "source": [
    "# Esperanza y Varianza de Variables Aleatorias\n",
    "\n",
    "La **esperanza** (o valor esperado) y la **varianza** son dos medidas fundamentales en probabilidad y estadística que nos ayudan a describir el comportamiento de una variable aleatoria.\n",
    "\n",
    "### Esperanza (Valor Esperado)\n",
    "El **valor esperado** o **esperanza** de una variable aleatoria \\( X \\) es el promedio ponderado de todos los valores posibles de \\( X \\), considerando sus probabilidades. Se interpreta como el \"valor promedio\" que esperamos observar si el experimento se repite muchas veces.\n",
    "\n",
    "Para variables aleatorias **discretas**:\n",
    "$$\n",
    "E[X] = \\sum x \\, P(X = x)\n",
    "$$\n",
    "\n",
    "Para variables aleatorias **continuas**:\n",
    "$$\n",
    "E[X] = \\int_{-\\infty}^{\\infty} x \\, f(x) \\, dx\n",
    "$$\n",
    "donde $ f(x) $ es la función de densidad de probabilidad (PDF) de $ X $.\n",
    "\n",
    "#### Ejemplo en Python: Valor Esperado para una Variable Aleatoria Discreta\n",
    "\n",
    "Supongamos que $X $ es una variable aleatoria que representa el número de caras en dos lanzamientos de una moneda. Puede tomar los valores 0, 1 o 2, con probabilidades 0.25, 0.5 y 0.25, respectivamente."
   ]
  },
  {
   "cell_type": "code",
   "execution_count": null,
   "id": "f9c0a167",
   "metadata": {},
   "outputs": [],
   "source": [
    "# Valores posibles de X y sus probabilidades\n",
    "valores_X = np.array([0, 1, 2])\n",
    "probabilidades_X = np.array([0.25, 0.5, 0.25])\n",
    "\n",
    "# Cálculo de la esperanza\n",
    "esperanza_X = np.sum(valores_X * probabilidades_X)\n",
    "print(\"Esperanza (E[X]):\", esperanza_X)"
   ]
  },
  {
   "cell_type": "markdown",
   "id": "dbf6de63",
   "metadata": {},
   "source": [
    "### Varianza\n",
    "La **varianza** de una variable aleatoria $X$ mide la \"dispersión\" de sus valores en torno a la media. Es el promedio ponderado de las desviaciones al cuadrado con respecto a la media, y nos indica cuánto varían los valores de $X$ respecto a su valor esperado.\n",
    "\n",
    "Para una variable aleatoria **discreta**:\n",
    "$$\n",
    "\\text{Var}(X) = \\sum (x - \\mu)^2 \\, P(X = x)\n",
    "$$\n",
    "\n",
    "Para una variable aleatoria **continua**:\n",
    "$$\n",
    "\\text{Var}(X) = \\int_{-\\infty}^{\\infty} (x - \\mu)^2 \\, f(x) \\, dx\n",
    "$$\n",
    "\n",
    "Otra forma de calcular la varianza es usando:\n",
    "$$\n",
    "\\text{Var}(X) = E[X^2] - (E[X])^2\n",
    "$$\n",
    "\n",
    "#### Ejemplo en Python: Varianza para una Variable Aleatoria Discreta\n",
    "\n",
    "Continuamos con el mismo ejemplo de los lanzamientos de la moneda. Calcularemos la varianza usando las probabilidades.\n"
   ]
  },
  {
   "cell_type": "code",
   "execution_count": null,
   "id": "c9da89b6",
   "metadata": {},
   "outputs": [],
   "source": [
    "valores_X"
   ]
  },
  {
   "cell_type": "code",
   "execution_count": null,
   "id": "ff3a9fa2",
   "metadata": {},
   "outputs": [],
   "source": [
    "# Media (ya calculada)\n",
    "mu_X = esperanza_X\n",
    "\n",
    "# Cálculo de la varianza\n",
    "varianza_X = np.sum((valores_X - mu_X)**2 * probabilidades_X)\n",
    "print(\"Varianza (Var[X]):\", varianza_X)\n",
    "\n",
    "# Alternativamente, usando E[X^2] - (E[X])^2\n",
    "esperanza_X2 = np.sum(valores_X**2 * probabilidades_X)\n",
    "varianza_alternativa = esperanza_X2 - mu_X**2\n",
    "print(\"Varianza (Var[X]) usando E[X^2] - (E[X])^2:\", varianza_alternativa)\n"
   ]
  },
  {
   "cell_type": "markdown",
   "id": "1740c9c5",
   "metadata": {},
   "source": [
    "### Ley de los Grandes Números\n",
    "\n",
    "La **Ley de los Grandes Números** es un teorema fundamental en probabilidad y estadística. Establece que, al aumentar el número de repeticiones de un experimento aleatorio, la **media aritmética** de los resultados observados se aproximará a la **media esperada** del experimento.\n",
    "\n",
    "#### Formulación Formal\n",
    "Sea $X_1, X_2, \\dots, X_n$ una sucesión de variables aleatorias independientes e idénticamente distribuidas con media esperada $ \\mu = \\mathbb{E}[X_i] $. Entonces, la Ley de los Grandes Números afirma que, a medida que $ n $ tiende a infinito, la media muestral $ \\overline{X}_n $ se aproxima a $ \\mu $:\n",
    "$$\n",
    "\\lim_{n \\to \\infty} \\overline{X}_n = \\mu\n",
    "$$\n",
    "donde:\n",
    "$$\n",
    "\\overline{X}_n = \\frac{1}{n} \\sum_{i=1}^{n} X_i\n",
    "$$\n",
    "\n",
    "#### Explicación Intuitiva\n",
    "La Ley de los Grandes Números significa que, si repetimos un experimento aleatorio muchas veces (como lanzar una moneda o tirar un dado), el promedio de los resultados observados se acercará al valor esperado. Por ejemplo, si lanzamos una moneda justa muchas veces, la proporción de \"caras\" tenderá a 0.5 a medida que el número de lanzamientos crece.\n",
    "\n",
    "#### Ejemplo en Python\n",
    "\n",
    "Para ilustrar la Ley de los Grandes Números, consideremos un experimento donde tiramos un dado muchas veces y calculamos la media de los resultados. Sabemos que el valor esperado de una tirada de dado (justo) es 3.5. Vamos a simular miles de lanzamientos para observar cómo la media muestral se aproxima a 3.5."
   ]
  },
  {
   "cell_type": "code",
   "execution_count": null,
   "id": "7d43f7a5",
   "metadata": {},
   "outputs": [],
   "source": [
    "# Número de lanzamientos\n",
    "n_lanzamientos = 10_000\n",
    "resultados = []\n",
    "\n",
    "# Simulamos lanzamientos de un dado\n",
    "for i in range(1, n_lanzamientos + 1):\n",
    "    lanzamiento = np.random.randint(1, 7)  # Genera un número entre 1 y 6\n",
    "    resultados.append(lanzamiento)\n",
    "    \n",
    "    # Calcula la media muestral hasta el lanzamiento actual\n",
    "    media_muestral = np.mean(resultados)\n",
    "    \n",
    "    # Guardamos la media muestral en cada paso\n",
    "    if i == 1:\n",
    "        medias_muestrales = [media_muestral]\n",
    "    else:\n",
    "        medias_muestrales.append(media_muestral)\n",
    "\n",
    "# Visualizamos la aproximación de la media muestral a la media esperada\n",
    "plt.figure(figsize=(10, 6))\n",
    "plt.plot(medias_muestrales, label='Media muestral')\n",
    "plt.axhline(y=3.5, color='r', linestyle='--', label='Valor Esperado (3.5)')\n",
    "plt.xlabel('Número de Lanzamientos')\n",
    "plt.ylabel('Media Muestral')\n",
    "plt.title('Ley de los Grandes Números: Lanzamiento de un Dado')\n",
    "plt.legend()\n",
    "plt.grid(True)\n",
    "plt.show()"
   ]
  },
  {
   "cell_type": "markdown",
   "id": "e6ab7aff",
   "metadata": {},
   "source": [
    "\n",
    "Sea el experimento del lanzamiento de una moneda, en el primer experimento, la moneda va a tener la misma posibilidad de caer en cara o cruz; mientras que en el segundo ejemplo, vamos a modificar la probabilidad de la moneda para que caiga cara solo en 1 de 6 veces."
   ]
  },
  {
   "cell_type": "code",
   "execution_count": null,
   "id": "2fb780e4",
   "metadata": {},
   "outputs": [],
   "source": [
    "resultados = []\n",
    "for lanzamientos in range(1,10000):\n",
    "    lanzamientos_res = np.random.choice([0,1], lanzamientos) \n",
    "    caras = lanzamientos_res.mean()\n",
    "    resultados.append(caras)\n",
    "\n",
    "# graficamente\n",
    "df = pd.DataFrame({ 'lanzamientos' : resultados})\n",
    "\n",
    "df.plot(title='Ley de grandes números',color='r',figsize=(8, 6))\n",
    "plt.axhline(0.5)\n",
    "plt.xlabel(\"Número de lanzamientos\")\n",
    "plt.ylabel(\"frecuencia caras\")\n",
    "plt.grid()\n",
    "plt.show()"
   ]
  },
  {
   "cell_type": "code",
   "execution_count": null,
   "id": "d39203e3",
   "metadata": {},
   "outputs": [],
   "source": [
    "import numpy as np\n",
    "import matplotlib.pyplot as plt"
   ]
  },
  {
   "cell_type": "code",
   "execution_count": null,
   "id": "3b771942",
   "metadata": {},
   "outputs": [],
   "source": [
    "np.random.seed(8)\n",
    "\n",
    "\n",
    "#Tamaños de la muestra\n",
    "pasos = 100\n",
    "valores_n = np.arange(1, pasos + 1)\n",
    "\n",
    "#Generar muestras grandes\n",
    "muestra_cauchy_grande = np.random.standard_cauchy(size=pasos)\n",
    "muestra_normal_grande = np.random.normal(loc = 0, scale = 1, size=pasos)\n",
    "\n",
    "#Calcular promedios\n",
    "\n",
    "promedios_cauchy = [np.mean(muestra_cauchy_grande[:i]) for i in valores_n]\n",
    "promedios_normal = [np.mean(muestra_normal_grande[:i]) for i in valores_n]\n",
    "\n",
    "# Crear el gráfico\n",
    "\n",
    "plt.figure(figsize=(12,6))\n",
    "\n",
    "# Línea para la dist Cauchy\n",
    "\n",
    "plt.plot(valores_n, promedios_cauchy, label = \"Cauchy\", color = \"orange\",linewidth = 2)\n",
    "\n",
    "plt.plot(valores_n, promedios_normal, label = \"normal\", color = \"blue\",linewidth = 2)\n",
    "\n",
    "# Línea en y = 0\n",
    "\n",
    "plt.axhline(0, color = \"black\", linestyle = \"--\", linewidth = 1)\n",
    "\n",
    "#Personalizar\n",
    "\n",
    "plt.title(\"Evolución del prom Muestral conforme n crece\")\n",
    "plt.xlabel(\"Tamaño muestra n\")\n",
    "plt.ylabel(\"Promedio Muestral\")\n",
    "plt.grid(True)\n",
    "plt.show()"
   ]
  },
  {
   "cell_type": "markdown",
   "id": "4637693d",
   "metadata": {},
   "source": [
    "# Teorema del Límite Central (TLC)\n",
    "\n",
    "El **Teorema del Límite Central** es uno de los resultados más importantes en probabilidad y estadística. Nos dice que, bajo ciertas condiciones, la suma (o promedio) de muchas variables aleatorias independientes e idénticamente distribuidas se distribuye aproximadamente de manera normal, independientemente de la distribución original de las variables.\n",
    "\n",
    "### Formulación Formal\n",
    "Sea $X_1, X_2, \\dots, X_n$ una muestra de variables aleatorias independientes e idénticamente distribuidas con media $\\mu$ y varianza $\\sigma^2$. Entonces, el promedio muestral $\\overline{X}_n = \\frac{1}{n} \\sum_{i=1}^n X_i$ tiene la siguiente propiedad:\n",
    "\n",
    "A medida que $n$ tiende a infinito, la distribución de $\\overline{X}_n$ se aproxima a una distribución normal con media $\\mu$ y varianza $\\frac{\\sigma^2}{n}$:\n",
    "$$\n",
    "\\overline{X}_n \\sim  N\\left(\\mu, \\frac{\\sigma^2}{n}\\right)\n",
    "$$\n",
    "\n",
    "En otras palabras, cuando $n$ es grande, podemos aproximar la distribución de la media muestral usando una distribución normal.\n",
    "\n",
    "### Explicación Intuitiva\n",
    "El Teorema del Límite Central implica que, si tomamos muchas muestras de una variable aleatoria (sin importar su distribución original), el promedio de esas muestras se distribuirá aproximadamente de manera normal a medida que el tamaño de la muestra crece. Esto es especialmente útil porque nos permite aplicar la teoría de la probabilidad y estadística basada en la distribución normal, incluso cuando no sabemos exactamente cómo se distribuye la variable original.\n",
    "\n",
    "### Ejemplo 1: Distribución Uniforme\n",
    "\n",
    "Para demostrar el Teorema del Límite Central, consideremos una variable aleatoria que sigue una **distribución uniforme** entre 0 y 1. Aunque la distribución uniforme no es normal, el promedio de muchas muestras de esta distribución debería acercarse a una distribución normal cuando el tamaño de la muestra es suficientemente grande."
   ]
  },
  {
   "cell_type": "code",
   "execution_count": null,
   "id": "61b36ca4",
   "metadata": {},
   "outputs": [],
   "source": [
    "import numpy as np\n",
    "import matplotlib.pyplot as plt\n",
    "\n",
    "# Parámetros\n",
    "n_muestras = 1_000  # número de muestras\n",
    "n_repeticiones = 10_000  # repeticiones para el promedio\n",
    "\n",
    "# Generar muestras de una distribución uniforme\n",
    "muestras_uniforme = np.random.uniform(0, 1,  (n_repeticiones, n_muestras))\n",
    "\n",
    "# Calcular el promedio de cada muestra\n",
    "promedios_uniforme = muestras_uniforme.mean(axis=1)\n",
    "\n",
    "# Graficar el histograma de los promedios\n",
    "plt.figure(figsize=(10, 6))\n",
    "plt.hist(promedios_uniforme, bins=30, density=True, alpha=0.7, color='skyblue')\n",
    "plt.title('Teorema del Límite Central: Promedio de muestras de una distribución uniforme')\n",
    "plt.xlabel('Promedio de la muestra')\n",
    "plt.ylabel('Densidad')\n",
    "plt.grid(True)\n",
    "plt.show()"
   ]
  },
  {
   "cell_type": "code",
   "execution_count": null,
   "id": "25af1009",
   "metadata": {
    "scrolled": true
   },
   "outputs": [],
   "source": [
    "muestras_uniforme"
   ]
  },
  {
   "cell_type": "markdown",
   "id": "6bb14160",
   "metadata": {},
   "source": [
    "#### Ejemplo 2: Distribución Exponencial\n",
    "Ahora, consideremos una variable aleatoria que sigue una distribución exponencial con una media de 1. La distribución exponencial es asimétrica y muy diferente de la normal. Sin embargo, el Teorema del Límite Central afirma que el promedio de muchas muestras de esta distribución se debería aproximar a una normal cuando el tamaño de la muestra es suficientemente grande."
   ]
  },
  {
   "cell_type": "code",
   "execution_count": null,
   "id": "e738a046",
   "metadata": {},
   "outputs": [],
   "source": [
    "# Generar muestras de una distribución exponencial\n",
    "muestras_exponencial = np.random.exponential(1, (n_repeticiones, n_muestras))\n",
    "\n",
    "# Calcular el promedio de cada muestra\n",
    "promedios_exponencial = muestras_exponencial.mean(axis=1)\n",
    "\n",
    "# Graficar el histograma de los promedios\n",
    "plt.figure(figsize=(10, 6))\n",
    "plt.hist(promedios_exponencial, bins=30, density=True, alpha=0.7, color='salmon')\n",
    "plt.title('Teorema del Límite Central: Promedio de muestras de una distribución exponencial')\n",
    "plt.xlabel('Promedio de la muestra')\n",
    "plt.ylabel('Densidad')\n",
    "plt.grid(True)\n",
    "plt.show()\n"
   ]
  },
  {
   "cell_type": "markdown",
   "id": "662f0f58",
   "metadata": {},
   "source": [
    "# Variables aleatorias especiales"
   ]
  },
  {
   "cell_type": "markdown",
   "id": "f6530432",
   "metadata": {},
   "source": [
    "# Distribución de Bernoulli\n",
    "\n",
    "La **Distribución de Bernoulli** es una de las distribuciones de probabilidad más simples y fundamentales en estadística. Modela experimentos que tienen exactamente dos posibles resultados: éxito o fracaso. Un ejemplo típico es el lanzamiento de una moneda, donde podemos obtener \"cara\" (éxito) o \"cruz\" (fracaso).\n",
    "\n",
    "### Definición Formal\n",
    "\n",
    "Sea $X$ una variable aleatoria con una distribución de Bernoulli. Entonces $X$ toma el valor:\n",
    "- 1 con probabilidad $p$ (éxito),\n",
    "- 0 con probabilidad $1 - p$ (fracaso).\n",
    "\n",
    "Esto se puede escribir como:\n",
    "$$\n",
    "P(X = 1) = p \\quad \\text{y} \\quad P(X = 0) = 1 - p\n",
    "$$\n",
    "donde $p$ es la probabilidad de éxito y $0 \\leq p \\leq 1$.\n",
    "\n",
    "La función de probabilidad para una variable aleatoria Bernoulli se expresa como:\n",
    "$$\n",
    "P(X = x) = p^x (1 - p)^{1 - x}\n",
    "$$\n",
    "donde $x$ es 0 o 1.\n",
    "\n",
    "### Media de una Variable Aleatoria Bernoulli\n",
    "\n",
    "La **media** o **esperanza** de una variable aleatoria Bernoulli, denotada $E[X]$, es el valor promedio esperado de $X$. Se calcula como:\n",
    "$$\n",
    "E[X] = p\n",
    "$$\n",
    "Esto tiene sentido intuitivo, ya que, si $p = 0.6$, entonces el valor esperado de $X$ (el \"éxito\") será 0.6.\n",
    "\n",
    "### Varianza de una Variable Aleatoria Bernoulli\n",
    "\n",
    "La **varianza** de una variable aleatoria Bernoulli, denotada $\\text{Var}(X)$, mide la dispersión de $X$ respecto a su media. Se calcula como:\n",
    "$$\n",
    "\\text{Var}(X) = p(1 - p)\n",
    "$$\n",
    "La varianza es mayor cuando $p$ está cerca de 0.5, lo cual indica mayor incertidumbre. Si $p$ está cerca de 0 o 1, la varianza es menor porque los resultados son más predecibles.\n",
    "\n",
    "### Ejemplo Práctico en Python\n",
    "\n",
    "Supongamos que estamos modelando el lanzamiento de una moneda sesgada, donde la probabilidad de obtener \"cara\" es $p = 0.7$.\n",
    "\n",
    "Este ejemplo muestra cómo:\n",
    "1. Simular valores de una variable aleatoria Bernoulli.\n",
    "2. Calcular la media y varianza de los datos simulados.\n",
    "3. Comparar con la media y varianza teóricas."
   ]
  },
  {
   "cell_type": "code",
   "execution_count": null,
   "id": "7944683c",
   "metadata": {},
   "outputs": [],
   "source": [
    "# Parámetro de la distribución Bernoulli\n",
    "p = 0.7  # probabilidad de éxito (obtener \"cara\")\n",
    "\n",
    "# Número de simulaciones\n",
    "n_simulaciones = 100_000\n",
    "\n",
    "# Simular n_simulaciones de una variable aleatoria Bernoulli\n",
    "muestras = np.random.binomial(1, p, n_simulaciones) #indica que cada experimento tiene un solo ensayo (es decir, una variable Bernoulli).\n",
    "\n",
    "# Calcular media y varianza de las muestras simuladas\n",
    "media_muestral = np.mean(muestras)\n",
    "varianza_muestral = np.var(muestras)\n",
    "\n",
    "# Resultados teóricos\n",
    "media_teorica = p\n",
    "varianza_teorica = p * (1 - p)\n",
    "\n",
    "print(f\"Media muestral: {media_muestral}\")\n",
    "print(f\"Varianza muestral: {varianza_muestral}\")\n",
    "print(f\"Media teórica: {media_teorica}\")\n",
    "print(f\"Varianza teórica: {varianza_teorica}\")"
   ]
  },
  {
   "cell_type": "code",
   "execution_count": null,
   "id": "3754eaf3",
   "metadata": {},
   "outputs": [],
   "source": [
    "muestras"
   ]
  },
  {
   "cell_type": "code",
   "execution_count": null,
   "id": "4e0b3737",
   "metadata": {},
   "outputs": [],
   "source": [
    "import math"
   ]
  },
  {
   "cell_type": "code",
   "execution_count": null,
   "id": "7dc7bdbb",
   "metadata": {},
   "outputs": [],
   "source": [
    "permutacion = math.perm(3,3)\n",
    "permutacion"
   ]
  },
  {
   "cell_type": "markdown",
   "id": "78fe3511",
   "metadata": {},
   "source": [
    "ABC, ACB, BAC, BCA, CAB, CBA"
   ]
  },
  {
   "cell_type": "code",
   "execution_count": null,
   "id": "2825ccd1",
   "metadata": {},
   "outputs": [],
   "source": [
    "combinacion = math.comb(3,2)\n",
    "combinacion"
   ]
  },
  {
   "cell_type": "code",
   "execution_count": null,
   "id": "0ee153ef",
   "metadata": {},
   "outputs": [],
   "source": [
    "AB, AC, BC"
   ]
  },
  {
   "cell_type": "markdown",
   "id": "4be210d5",
   "metadata": {},
   "source": [
    "# Distribución Binomial\n",
    "\n",
    "La **Distribución Binomial** es una distribución discreta que describe el número de éxitos en una secuencia de ensayos independientes y con la misma probabilidad de éxito en cada ensayo. Esta distribución es fundamental para modelar experimentos que se repiten un número fijo de veces y que tienen dos posibles resultados (éxito o fracaso) en cada ensayo.\n",
    "\n",
    "### Definición Formal\n",
    "\n",
    "Sea $X$ una variable aleatoria que sigue una distribución binomial con parámetros $n$ y $p$, donde:\n",
    "- $n$ es el número de ensayos,\n",
    "- $p$ es la probabilidad de éxito en cada ensayo.\n",
    "\n",
    "Entonces, $X$ representa el número de éxitos en los $n$ ensayos, y su función de probabilidad está dada por:\n",
    "$$\n",
    "P(X = k) = \\binom{n}{k} p^k (1 - p)^{n - k}\n",
    "$$\n",
    "donde $k = 0, 1, 2, \\dots, n$ y $\\binom{n}{k}$ es el **coeficiente binomial**:\n",
    "$$\n",
    "\\binom{n}{k} = \\frac{n!}{k!(n - k)!}\n",
    "$$\n",
    "\n",
    "### Media de una Variable Aleatoria Binomial\n",
    "\n",
    "La **media** o **esperanza** de una variable aleatoria binomial, denotada $E[X]$, se calcula como:\n",
    "$$\n",
    "E[X] = n \\cdot p\n",
    "$$\n",
    "Esto representa el número esperado de éxitos en $n$ ensayos.\n",
    "\n",
    "### Varianza de una Variable Aleatoria Binomial\n",
    "\n",
    "La **varianza** de una variable aleatoria binomial, denotada $\\text{Var}(X)$, mide la dispersión de $X$ respecto a su media. Se calcula como:\n",
    "$$\n",
    "\\text{Var}(X) = n \\cdot p \\cdot (1 - p)\n",
    "$$\n",
    "Esta varianza depende tanto del número de ensayos $n$ como de la probabilidad de éxito $p$.\n",
    "\n",
    "### Ejemplo Práctico en Python\n",
    "\n",
    "Supongamos que estamos modelando el número de veces que obtenemos \"cara\" en 10 lanzamientos de una moneda, donde la probabilidad de obtener cara es $p = 0.5$.\n",
    "\n",
    "Este ejemplo muestra cómo:\n",
    "1. Simular valores de una variable aleatoria binomial.\n",
    "2. Calcular la media y varianza de los datos simulados.\n",
    "3. Comparar con la media y varianza teóricas."
   ]
  },
  {
   "cell_type": "code",
   "execution_count": null,
   "id": "c34d4ec8",
   "metadata": {
    "scrolled": false
   },
   "outputs": [],
   "source": [
    "# Parámetros de la distribución binomial\n",
    "n = 10    # número de ensayos (lanzamientos de la moneda)\n",
    "p = 0.5   # probabilidad de éxito (obtener \"cara\")\n",
    "\n",
    "# Número de simulaciones\n",
    "n_simulaciones = 10_000\n",
    "\n",
    "# Simular n_simulaciones de una variable aleatoria Binomial\n",
    "muestras = np.random.binomial(n, p, n_simulaciones)\n",
    "\n",
    "# Calcular media y varianza de las muestras simuladas\n",
    "media_muestral = np.mean(muestras)\n",
    "varianza_muestral = np.var(muestras)\n",
    "\n",
    "# Resultados teóricos\n",
    "media_teorica = n * p\n",
    "varianza_teorica = n * p * (1 - p)\n",
    "\n",
    "print(f\"Media muestral: {media_muestral}\")\n",
    "print(f\"Varianza muestral: {varianza_muestral}\")\n",
    "print(f\"Media teórica: {media_teorica}\")\n",
    "print(f\"Varianza teórica: {varianza_teorica}\")"
   ]
  },
  {
   "cell_type": "markdown",
   "id": "9fe539e6",
   "metadata": {},
   "source": [
    "# Distribución Multinomial\n",
    "\n",
    "La **Distribución Multinomial** es una generalización de la distribución binomial que permite modelar experimentos con más de dos posibles resultados. Describe el número de veces que cada posible resultado ocurre en un número fijo de ensayos independientes, donde cada ensayo tiene una de varias categorías posibles y cada categoría tiene una probabilidad específica de ocurrir.\n",
    "\n",
    "### Definición Formal\n",
    "\n",
    "Sea $X = (X_1, X_2, \\dots, X_k)$ una variable aleatoria multinomial con parámetros:\n",
    "- $n$: el número total de ensayos,\n",
    "- $p = (p_1, p_2, \\dots, p_k)$: un vector de probabilidades, donde $p_i$ es la probabilidad de que un ensayo dé como resultado la categoría $i$.\n",
    "\n",
    "Entonces, $X_i$ representa el número de veces que el resultado $i$ ocurre en los $n$ ensayos, y la función de probabilidad de $X$ está dada por:\n",
    "$$\n",
    "P(X_1 = x_1, X_2 = x_2, \\dots, X_k = x_k) = \\frac{n!}{x_1! x_2! \\dots x_k!} p_1^{x_1} p_2^{x_2} \\dots p_k^{x_k}\n",
    "$$\n",
    "donde $x_1 + x_2 + \\dots + x_k = n$ y $\\sum_{i=1}^k p_i = 1$.\n",
    "\n",
    "### Media de una Variable Aleatoria Multinomial\n",
    "\n",
    "La **media** de cada componente $X_i$ de una variable aleatoria multinomial es:\n",
    "$$\n",
    "E[X_i] = n \\cdot p_i\n",
    "$$\n",
    "Esto representa el número esperado de veces que ocurre el resultado $i$ en $n$ ensayos.\n",
    "\n",
    "### Varianza y Covarianza de una Variable Aleatoria Multinomial\n",
    "\n",
    "La **varianza** de cada componente $X_i$ es:\n",
    "$$\n",
    "\\text{Var}(X_i) = n \\cdot p_i \\cdot (1 - p_i)\n",
    "$$\n",
    "\n",
    "La **covarianza** entre dos componentes distintos $X_i$ y $X_j$ es:\n",
    "$$\n",
    "\\text{Cov}(X_i, X_j) = -n \\cdot p_i \\cdot p_j\n",
    "$$\n",
    "Esto indica que, en un experimento multinomial, un aumento en una categoría está correlacionado con una disminución en las otras categorías, dado que el número total de ensayos $n$ es fijo.\n",
    "\n",
    "### Ejemplo Práctico en Python\n",
    "\n",
    "Supongamos que estamos lanzando un dado justo de seis caras 100 veces. Cada cara tiene una probabilidad de $p = \\frac{1}{6}$ de aparecer. Queremos observar la distribución del número de veces que cada cara aparece en estos 100 lanzamientos.\n",
    "\n",
    "Este ejemplo muestra cómo:\n",
    "1. Simular valores de una variable aleatoria multinomial.\n",
    "2. Calcular la media y varianza de los datos simulados.\n",
    "3. Comparar con la media y varianza teóricas."
   ]
  },
  {
   "cell_type": "code",
   "execution_count": null,
   "id": "bb92db58",
   "metadata": {},
   "outputs": [],
   "source": [
    "p = [1/6] * 6\n",
    "p"
   ]
  },
  {
   "cell_type": "code",
   "execution_count": null,
   "id": "3ad634fd",
   "metadata": {},
   "outputs": [],
   "source": [
    "# Parámetros de la distribución multinomial\n",
    "n = 100              # número de lanzamientos (ensayos)\n",
    "p = [1/6] * 6        # probabilidades para cada una de las 6 caras del dado\n",
    "\n",
    "# Número de simulaciones\n",
    "n_simulaciones = 1_000\n",
    "\n",
    "# Simular n_simulaciones de una variable aleatoria multinomial\n",
    "muestras = np.random.multinomial(n, p, n_simulaciones)\n",
    "\n",
    "# Calcular media muestral para cada cara\n",
    "medias_muestrales = np.mean(muestras, axis=0)\n",
    "varianzas_muestrales = np.var(muestras, axis=0)\n",
    "\n",
    "# Resultados teóricos\n",
    "medias_teoricas = np.array([n * prob for prob in p])\n",
    "varianzas_teoricas = np.array([n * prob * (1 - prob) for prob in p])\n",
    "\n",
    "print(\"Medias muestrales:\", medias_muestrales)\n",
    "print(\"Varianzas muestrales:\", varianzas_muestrales)\n",
    "print(\"Medias teóricas:\", medias_teoricas)\n",
    "print(\"Varianzas teóricas:\", varianzas_teoricas)"
   ]
  },
  {
   "cell_type": "code",
   "execution_count": null,
   "id": "29108d05",
   "metadata": {},
   "outputs": [],
   "source": [
    "100*1/6"
   ]
  },
  {
   "cell_type": "markdown",
   "id": "163903bb",
   "metadata": {},
   "source": [
    "# Distribución de Poisson\n",
    "\n",
    "La **Distribución de Poisson** es una distribución discreta que modela la probabilidad de un número dado de eventos que ocurren en un intervalo fijo de tiempo o espacio, cuando estos eventos suceden con una tasa promedio constante y son independientes entre sí. Es útil para modelar eventos raros, como el número de llamadas que recibe un centro de atención al cliente en una hora.\n",
    "\n",
    "### Definición Formal\n",
    "\n",
    "Sea $X$ una variable aleatoria que sigue una distribución de Poisson con parámetro $\\lambda$, donde:\n",
    "- $\\lambda$ es el número promedio de eventos que ocurren en el intervalo.\n",
    "\n",
    "La función de probabilidad de $X$ está dada por:\n",
    "$$\n",
    "P(X = k) = \\frac{\\lambda^k e^{-\\lambda}}{k!}\n",
    "$$\n",
    "donde $k = 0, 1, 2, \\dots$ representa el número de eventos que pueden ocurrir.\n",
    "\n",
    "### Media y Varianza de una Variable Aleatoria Poisson\n",
    "\n",
    "La **media** y la **varianza** de una variable aleatoria Poisson son iguales y se calculan como:\n",
    "$$\n",
    "E[X] = \\lambda\n",
    "$$\n",
    "$$\n",
    "\\text{Var}(X) = \\lambda\n",
    "$$\n",
    "Esto significa que, en promedio, el número de eventos observados es $\\lambda$, y la varianza también es $\\lambda$, lo que indica que la dispersión de los valores alrededor de la media aumenta con $\\lambda$.\n",
    "\n",
    "### Ejemplo Práctico en Python\n",
    "\n",
    "Supongamos que queremos modelar el número de llamadas que recibe un centro de atención al cliente en una hora, y que la tasa promedio es de $\\lambda = 5$ llamadas por hora.\n",
    "\n",
    "Este ejemplo muestra cómo:\n",
    "1. Simular valores de una variable aleatoria Poisson.\n",
    "2. Calcular la media y varianza de los datos simulados.\n",
    "3. Comparar con la media y varianza teóricas."
   ]
  },
  {
   "cell_type": "code",
   "execution_count": null,
   "id": "93889016",
   "metadata": {},
   "outputs": [],
   "source": [
    "# Parámetro de la distribución de Poisson\n",
    "lambd = 5  # tasa promedio de eventos (llamadas por minuto)\n",
    "\n",
    "# Número de simulaciones\n",
    "n_simulaciones = 10_000\n",
    "\n",
    "# Simular n_simulaciones de una variable aleatoria Poisson\n",
    "muestras = np.random.poisson(lambd, n_simulaciones)\n",
    "\n",
    "# Calcular media y varianza de las muestras simuladas\n",
    "media_muestral = np.mean(muestras)\n",
    "varianza_muestral = np.var(muestras)\n",
    "\n",
    "# Resultados teóricos\n",
    "media_teorica = lambd\n",
    "varianza_teorica = lambd\n",
    "\n",
    "print(f\"Media muestral: {media_muestral}\")\n",
    "print(f\"Varianza muestral: {varianza_muestral}\")\n",
    "print(f\"Media teórica: {media_teorica}\")\n",
    "print(f\"Varianza teórica: {varianza_teorica}\")\n"
   ]
  },
  {
   "cell_type": "code",
   "execution_count": null,
   "id": "5a4bbd3c",
   "metadata": {},
   "outputs": [],
   "source": [
    "import numpy as np\n",
    "import matplotlib.pyplot as plt\n",
    "\n",
    "# Parámetro de la distribución de Poisson\n",
    "lambd = 5  # tasa promedio de eventos (llamadas por hora)\n",
    "\n",
    "# Número de simulaciones\n",
    "n_simulaciones = 1_000\n",
    "\n",
    "# Simular n_simulaciones de una variable aleatoria Poisson\n",
    "muestras = np.random.poisson(lambd, n_simulaciones)\n",
    "\n",
    "# Graficar el histograma de las muestras\n",
    "plt.figure(figsize=(10, 6))\n",
    "plt.hist(muestras, bins=20, density=True, alpha=0.6, color='skyblue', edgecolor='black')\n",
    "plt.title('Distribución de Poisson - Número de Eventos por Intervalo')\n",
    "plt.xlabel('Número de Eventos (k)')\n",
    "plt.ylabel('Densidad de Frecuencia')\n",
    "plt.grid(True)\n",
    "plt.show()\n"
   ]
  },
  {
   "cell_type": "code",
   "execution_count": null,
   "id": "af8d31d5",
   "metadata": {},
   "outputs": [],
   "source": [
    "muestras"
   ]
  },
  {
   "cell_type": "markdown",
   "id": "c872d433",
   "metadata": {},
   "source": [
    "### Asimetría (Skewness) y Curtosis (Kurtosis)\n",
    "\n",
    "La **asimetría** y **curtosis** son medidas estadísticas que nos ayudan a entender la forma de una distribución de probabilidad.\n",
    "\n",
    "- **Asimetría (Skewness)**: Mide la simetría de la distribución. Una distribución es simétrica si tiene un skewness de 0. \n",
    "  - Si la asimetría es positiva (skew > 0), la cola derecha es más larga, lo que significa que la distribución está sesgada hacia la derecha.\n",
    "  - Si la asimetría es negativa (skew < 0), la cola izquierda es más larga, lo que significa que la distribución está sesgada hacia la izquierda.\n",
    "\n",
    "- **Curtosis (Kurtosis)**: Mide la \"altitud\" de las colas de la distribución. \n",
    "  - Una curtosis de 0 indica una distribución similar a la normal.\n",
    "  - Una curtosis positiva indica colas más pesadas o una distribución más concentrada alrededor de la media.\n",
    "  - Una curtosis negativa indica colas más ligeras o una distribución más plana.\n",
    "\n",
    "Para calcular la asimetría y curtosis en Python, podemos usar la biblioteca `scipy.stats`."
   ]
  },
  {
   "cell_type": "code",
   "execution_count": null,
   "id": "9a3dd7d7",
   "metadata": {},
   "outputs": [],
   "source": [
    "muestras"
   ]
  },
  {
   "cell_type": "code",
   "execution_count": null,
   "id": "ce04c592",
   "metadata": {},
   "outputs": [],
   "source": [
    "from scipy.stats import skew, kurtosis\n",
    "\n",
    "# Calcular asimetría y curtosis de las muestras de Poisson\n",
    "asimetria = skew(muestras)\n",
    "curtosis = kurtosis(muestras, fisher=False)  # fisher=False da la curtosis en exceso\n",
    "\n",
    "print(f\"Asimetría (Skewness): {asimetria}\")\n",
    "print(f\"Curtosis (Kurtosis): {curtosis}\")\n"
   ]
  }
 ],
 "metadata": {
  "kernelspec": {
   "display_name": "Python 3 (ipykernel)",
   "language": "python",
   "name": "python3"
  },
  "language_info": {
   "codemirror_mode": {
    "name": "ipython",
    "version": 3
   },
   "file_extension": ".py",
   "mimetype": "text/x-python",
   "name": "python",
   "nbconvert_exporter": "python",
   "pygments_lexer": "ipython3",
   "version": "3.11.3"
  }
 },
 "nbformat": 4,
 "nbformat_minor": 5
}
