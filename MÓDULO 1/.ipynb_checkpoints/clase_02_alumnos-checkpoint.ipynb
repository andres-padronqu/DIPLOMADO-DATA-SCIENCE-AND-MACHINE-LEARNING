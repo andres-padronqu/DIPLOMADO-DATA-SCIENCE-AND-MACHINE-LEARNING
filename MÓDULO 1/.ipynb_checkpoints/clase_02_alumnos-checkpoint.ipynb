{
 "cells": [
  {
   "attachments": {
    "logo_ITAM.png": {
     "image/png": "[encoded data removed]"
    }
   },
   "cell_type": "markdown",
   "id": "e473289d",
   "metadata": {},
   "source": [
    "![logo_ITAM.png](attachment:logo_ITAM.png)"
   ]
  },
  {
   "cell_type": "markdown",
   "id": "ba3285ab",
   "metadata": {},
   "source": [
    "## Clase 2 - Estructuras y tipos de datos en python\n",
    "\n",
    "Veremos qué es una tupla, listas y diccionarios y cómo generarlos."
   ]
  },
  {
   "cell_type": "markdown",
   "id": "c18a2fb7",
   "metadata": {},
   "source": [
    "**Algunos libros-páginas que pueden ser de ayuda**\n",
    "\n",
    "**1.** Libros de ayuda y ejercicios adicionales\n",
    "\n",
    "* Algoritmos resueltos con python - Para entender mejor cómo comenzar a programar y construir programas de cero:\n",
    "\n",
    "* Aprende python en un fin de semana - para los que tienen un poco de dificultades al programar.\n",
    "\n",
    "* Python Cookbook - varios problemas con solución, algoritmos, estructuras de datos\n",
    "\n",
    "* Fluent python - para profundizar más en python\n",
    "\n",
    "* Python for data analyst - enfocado a análisis de datos y ciencia de datos.\n",
    "\n",
    "$$$$\n",
    "\n",
    "**2.** Durante estas clases hemos visto algunos objetos y funciones incorporadas (built-in) en la librería estándar. Una página interesante para cosas básicas de la librería estándar:\n",
    "\n",
    "http://research.iac.es/sieinvens/python-course/modulos.html#la-libreria-estandar-de-python\n",
    "\n",
    "$$$$\n",
    "\n",
    "**3.** Algunas páginas que pueden servir de ayuda:\n",
    "\n",
    "* **Visualizador de código:** nos permite ver cómo se lleva a cabo la ejecución de un programa en distintos lenguajes, en particula, en python. Lo demos encontrar [aqui](https://pythontutor.com/visualize.html#mode=edit).\n",
    "\n",
    "\n",
    "* **30 días de Python:** es un repositorio en GitHub que funciona para aprender a programar en python en un mes. Lo podemos encontrar en este [enlace](https://github.com/Asabeneh/30-Days-Of-Python).\n",
    "\n",
    "\n",
    "$$$$\n",
    "\n",
    "**4.** En esta [página](https://www.w3schools.com/python/python_ref_functions.asp) podemos encontrar más detalles acerca de las funciones built-in de python.\n",
    "\n",
    "\n",
    "$$$$\n",
    "\n",
    "**4.** En esta [liga](https://ipython.readthedocs.io/en/stable/interactive/magics.html) aparece el listado de los comandos mágicos que también se pueden usar directamente en python (built-in)\n",
    "\n",
    "\n",
    "$$$$\n",
    "\n",
    "**5.** En esta [liga](https://www.hackerrank.com/domains/python) encuentran ejercicios con los que pueden practicar cualquier tema básico de python.\n"
   ]
  },
  {
   "cell_type": "code",
   "execution_count": 1,
   "id": "d4e4b50e",
   "metadata": {
    "scrolled": true
   },
   "outputs": [
    {
     "data": {
      "text/plain": [
       "['ArithmeticError',\n",
       " 'AssertionError',\n",
       " 'AttributeError',\n",
       " 'BaseException',\n",
       " 'BaseExceptionGroup',\n",
       " 'BlockingIOError',\n",
       " 'BrokenPipeError',\n",
       " 'BufferError',\n",
       " 'BytesWarning',\n",
       " 'ChildProcessError',\n",
       " 'ConnectionAbortedError',\n",
       " 'ConnectionError',\n",
       " 'ConnectionRefusedError',\n",
       " 'ConnectionResetError',\n",
       " 'DeprecationWarning',\n",
       " 'EOFError',\n",
       " 'Ellipsis',\n",
       " 'EncodingWarning',\n",
       " 'EnvironmentError',\n",
       " 'Exception',\n",
       " 'ExceptionGroup',\n",
       " 'False',\n",
       " 'FileExistsError',\n",
       " 'FileNotFoundError',\n",
       " 'FloatingPointError',\n",
       " 'FutureWarning',\n",
       " 'GeneratorExit',\n",
       " 'IOError',\n",
       " 'ImportError',\n",
       " 'ImportWarning',\n",
       " 'IndentationError',\n",
       " 'IndexError',\n",
       " 'InterruptedError',\n",
       " 'IsADirectoryError',\n",
       " 'KeyError',\n",
       " 'KeyboardInterrupt',\n",
       " 'LookupError',\n",
       " 'MemoryError',\n",
       " 'ModuleNotFoundError',\n",
       " 'NameError',\n",
       " 'None',\n",
       " 'NotADirectoryError',\n",
       " 'NotImplemented',\n",
       " 'NotImplementedError',\n",
       " 'OSError',\n",
       " 'OverflowError',\n",
       " 'PendingDeprecationWarning',\n",
       " 'PermissionError',\n",
       " 'ProcessLookupError',\n",
       " 'RecursionError',\n",
       " 'ReferenceError',\n",
       " 'ResourceWarning',\n",
       " 'RuntimeError',\n",
       " 'RuntimeWarning',\n",
       " 'StopAsyncIteration',\n",
       " 'StopIteration',\n",
       " 'SyntaxError',\n",
       " 'SyntaxWarning',\n",
       " 'SystemError',\n",
       " 'SystemExit',\n",
       " 'TabError',\n",
       " 'TimeoutError',\n",
       " 'True',\n",
       " 'TypeError',\n",
       " 'UnboundLocalError',\n",
       " 'UnicodeDecodeError',\n",
       " 'UnicodeEncodeError',\n",
       " 'UnicodeError',\n",
       " 'UnicodeTranslateError',\n",
       " 'UnicodeWarning',\n",
       " 'UserWarning',\n",
       " 'ValueError',\n",
       " 'Warning',\n",
       " 'ZeroDivisionError',\n",
       " '__IPYTHON__',\n",
       " '__build_class__',\n",
       " '__debug__',\n",
       " '__doc__',\n",
       " '__import__',\n",
       " '__loader__',\n",
       " '__name__',\n",
       " '__package__',\n",
       " '__spec__',\n",
       " 'abs',\n",
       " 'aiter',\n",
       " 'all',\n",
       " 'anext',\n",
       " 'any',\n",
       " 'ascii',\n",
       " 'bin',\n",
       " 'bool',\n",
       " 'breakpoint',\n",
       " 'bytearray',\n",
       " 'bytes',\n",
       " 'callable',\n",
       " 'chr',\n",
       " 'classmethod',\n",
       " 'compile',\n",
       " 'complex',\n",
       " 'copyright',\n",
       " 'credits',\n",
       " 'delattr',\n",
       " 'dict',\n",
       " 'dir',\n",
       " 'display',\n",
       " 'divmod',\n",
       " 'enumerate',\n",
       " 'eval',\n",
       " 'exec',\n",
       " 'execfile',\n",
       " 'filter',\n",
       " 'float',\n",
       " 'format',\n",
       " 'frozenset',\n",
       " 'get_ipython',\n",
       " 'getattr',\n",
       " 'globals',\n",
       " 'hasattr',\n",
       " 'hash',\n",
       " 'help',\n",
       " 'hex',\n",
       " 'id',\n",
       " 'input',\n",
       " 'int',\n",
       " 'isinstance',\n",
       " 'issubclass',\n",
       " 'iter',\n",
       " 'len',\n",
       " 'license',\n",
       " 'list',\n",
       " 'locals',\n",
       " 'map',\n",
       " 'max',\n",
       " 'memoryview',\n",
       " 'min',\n",
       " 'next',\n",
       " 'object',\n",
       " 'oct',\n",
       " 'open',\n",
       " 'ord',\n",
       " 'pow',\n",
       " 'print',\n",
       " 'property',\n",
       " 'range',\n",
       " 'repr',\n",
       " 'reversed',\n",
       " 'round',\n",
       " 'runfile',\n",
       " 'set',\n",
       " 'setattr',\n",
       " 'slice',\n",
       " 'sorted',\n",
       " 'staticmethod',\n",
       " 'str',\n",
       " 'sum',\n",
       " 'super',\n",
       " 'tuple',\n",
       " 'type',\n",
       " 'vars',\n",
       " 'zip']"
      ]
     },
     "execution_count": 1,
     "metadata": {},
     "output_type": "execute_result"
    }
   ],
   "source": [
    "## Acceder a todos los recursos built-in de python:\n",
    "dir(__builtins__)"
   ]
  },
  {
   "cell_type": "markdown",
   "id": "0728f794",
   "metadata": {},
   "source": [
    "## Listas   $\\quad [\\ \\ ]$"
   ]
  },
  {
   "cell_type": "markdown",
   "id": "95d5bf37",
   "metadata": {},
   "source": [
    "Una lista es un arreglo **ordenado** de elementos. Se define por valores separados por coma y encerrados por dos corchetes (`[]`)"
   ]
  },
  {
   "cell_type": "code",
   "execution_count": 18,
   "id": "67ed1c2c",
   "metadata": {},
   "outputs": [],
   "source": [
    "materias = [\"CALCULO\", \"FINANZAS\", \"OPTIMIZACION\", \"GEOMETRIA\", \"PROGRAMACION\", \"ESTADISTICA\"]"
   ]
  },
  {
   "cell_type": "code",
   "execution_count": 3,
   "id": "c8739bc4",
   "metadata": {},
   "outputs": [
    {
     "data": {
      "text/plain": [
       "list"
      ]
     },
     "execution_count": 3,
     "metadata": {},
     "output_type": "execute_result"
    }
   ],
   "source": [
    "type(materias)"
   ]
  },
  {
   "cell_type": "code",
   "execution_count": 4,
   "id": "c362b30c",
   "metadata": {
    "scrolled": false
   },
   "outputs": [
    {
     "data": {
      "text/plain": [
       "['__add__',\n",
       " '__class__',\n",
       " '__class_getitem__',\n",
       " '__contains__',\n",
       " '__delattr__',\n",
       " '__delitem__',\n",
       " '__dir__',\n",
       " '__doc__',\n",
       " '__eq__',\n",
       " '__format__',\n",
       " '__ge__',\n",
       " '__getattribute__',\n",
       " '__getitem__',\n",
       " '__getstate__',\n",
       " '__gt__',\n",
       " '__hash__',\n",
       " '__iadd__',\n",
       " '__imul__',\n",
       " '__init__',\n",
       " '__init_subclass__',\n",
       " '__iter__',\n",
       " '__le__',\n",
       " '__len__',\n",
       " '__lt__',\n",
       " '__mul__',\n",
       " '__ne__',\n",
       " '__new__',\n",
       " '__reduce__',\n",
       " '__reduce_ex__',\n",
       " '__repr__',\n",
       " '__reversed__',\n",
       " '__rmul__',\n",
       " '__setattr__',\n",
       " '__setitem__',\n",
       " '__sizeof__',\n",
       " '__str__',\n",
       " '__subclasshook__',\n",
       " 'append',\n",
       " 'clear',\n",
       " 'copy',\n",
       " 'count',\n",
       " 'extend',\n",
       " 'index',\n",
       " 'insert',\n",
       " 'pop',\n",
       " 'remove',\n",
       " 'reverse',\n",
       " 'sort']"
      ]
     },
     "execution_count": 4,
     "metadata": {},
     "output_type": "execute_result"
    }
   ],
   "source": [
    "dir(materias)"
   ]
  },
  {
   "cell_type": "code",
   "execution_count": 5,
   "id": "bbce4c48",
   "metadata": {},
   "outputs": [
    {
     "data": {
      "text/plain": [
       "['CALCULO',\n",
       " 'FINANZAS',\n",
       " 'OPTIMIZACION',\n",
       " 'GEOMETRIA',\n",
       " 'PROGRAMACION',\n",
       " 'ESTADISTICA']"
      ]
     },
     "execution_count": 5,
     "metadata": {},
     "output_type": "execute_result"
    }
   ],
   "source": [
    "materias"
   ]
  },
  {
   "cell_type": "code",
   "execution_count": 6,
   "id": "1230e7e3",
   "metadata": {},
   "outputs": [
    {
     "data": {
      "text/plain": [
       "'CALCULO'"
      ]
     },
     "execution_count": 6,
     "metadata": {},
     "output_type": "execute_result"
    }
   ],
   "source": [
    "materias[0]"
   ]
  },
  {
   "cell_type": "code",
   "execution_count": 7,
   "id": "97fc7b62",
   "metadata": {},
   "outputs": [
    {
     "data": {
      "text/plain": [
       "'ESTADISTICA'"
      ]
     },
     "execution_count": 7,
     "metadata": {},
     "output_type": "execute_result"
    }
   ],
   "source": [
    "materias[-1]"
   ]
  },
  {
   "cell_type": "code",
   "execution_count": 8,
   "id": "2f0dd8f3",
   "metadata": {},
   "outputs": [
    {
     "data": {
      "text/plain": [
       "['CALCULO', 'OPTIMIZACION', 'PROGRAMACION']"
      ]
     },
     "execution_count": 8,
     "metadata": {},
     "output_type": "execute_result"
    }
   ],
   "source": [
    "materias[::2]"
   ]
  },
  {
   "cell_type": "code",
   "execution_count": 9,
   "id": "ff6c1c71",
   "metadata": {},
   "outputs": [
    {
     "data": {
      "text/plain": [
       "['CALCULO',\n",
       " 'FINANZAS',\n",
       " 'OPTIMIZACION',\n",
       " 'GEOMETRIA',\n",
       " 'PROGRAMACION',\n",
       " 'ESTADISTICA']"
      ]
     },
     "execution_count": 9,
     "metadata": {},
     "output_type": "execute_result"
    }
   ],
   "source": [
    "materias[:]"
   ]
  },
  {
   "cell_type": "markdown",
   "id": "40503f22",
   "metadata": {},
   "source": [
    "En una lista, al igual que con strings (una secuencia ordenada de caracteres), accedemos a los valores de una lista usando la misma notación de corchetes. \n",
    "```python \n",
    "#Primer Caso\n",
    "[0] #Acceden al primer elemento de la lista\n",
    "\n",
    "#Segundo Caso\n",
    "[1] #Acceden al segundo elemento de la lista\n",
    "\n",
    "#Tercer Caso\n",
    "[-1] #Acceden al ultimo elemento de la lista\n",
    "\n",
    "#Cuarto Caso\n",
    "[1:4] #Acceden del segundo al cuarto (contados de manera natural)\n",
    "\n",
    "#Quinto Caso\n",
    "[0][-1] #Acceden al ultimo elemento del primer elemento de la lista\n",
    "\n",
    "\n",
    "#Sexto Caso\n",
    "[0][0] #Acceden al primer elemento del primer elemento de la lista\n",
    "\n",
    "```"
   ]
  },
  {
   "cell_type": "code",
   "execution_count": 10,
   "id": "7d9bed7b",
   "metadata": {},
   "outputs": [
    {
     "data": {
      "text/plain": [
       "['CALCULO',\n",
       " 'FINANZAS',\n",
       " 'OPTIMIZACION',\n",
       " 'GEOMETRIA',\n",
       " 'PROGRAMACION',\n",
       " 'ESTADISTICA']"
      ]
     },
     "execution_count": 10,
     "metadata": {},
     "output_type": "execute_result"
    }
   ],
   "source": [
    "materias"
   ]
  },
  {
   "cell_type": "code",
   "execution_count": 11,
   "id": "f22a76c9",
   "metadata": {},
   "outputs": [
    {
     "data": {
      "text/plain": [
       "'CALCULO'"
      ]
     },
     "execution_count": 11,
     "metadata": {},
     "output_type": "execute_result"
    }
   ],
   "source": [
    "#1\n",
    "materias[0]"
   ]
  },
  {
   "cell_type": "code",
   "execution_count": 12,
   "id": "b97559e8",
   "metadata": {},
   "outputs": [
    {
     "data": {
      "text/plain": [
       "'FINANZAS'"
      ]
     },
     "execution_count": 12,
     "metadata": {},
     "output_type": "execute_result"
    }
   ],
   "source": [
    "#2\n",
    "materias[1]"
   ]
  },
  {
   "cell_type": "code",
   "execution_count": 13,
   "id": "960b7541",
   "metadata": {},
   "outputs": [
    {
     "data": {
      "text/plain": [
       "'CALCULO'"
      ]
     },
     "execution_count": 13,
     "metadata": {},
     "output_type": "execute_result"
    }
   ],
   "source": [
    "#3\n",
    "materias[0]"
   ]
  },
  {
   "cell_type": "code",
   "execution_count": 14,
   "id": "021aa828",
   "metadata": {},
   "outputs": [
    {
     "data": {
      "text/plain": [
       "['FINANZAS', 'OPTIMIZACION', 'GEOMETRIA']"
      ]
     },
     "execution_count": 14,
     "metadata": {},
     "output_type": "execute_result"
    }
   ],
   "source": [
    "#4\n",
    "materias[1:4]"
   ]
  },
  {
   "cell_type": "code",
   "execution_count": 16,
   "id": "0decb738",
   "metadata": {},
   "outputs": [
    {
     "data": {
      "text/plain": [
       "'O'"
      ]
     },
     "execution_count": 16,
     "metadata": {},
     "output_type": "execute_result"
    }
   ],
   "source": [
    "#5 #de calulo sacame la ultima letra\n",
    "materias[0][-1]"
   ]
  },
  {
   "cell_type": "code",
   "execution_count": 17,
   "id": "4f151579",
   "metadata": {},
   "outputs": [
    {
     "data": {
      "text/plain": [
       "'OLUCLAC'"
      ]
     },
     "execution_count": 17,
     "metadata": {},
     "output_type": "execute_result"
    }
   ],
   "source": [
    "#6\n",
    "materias[0][::-1]   "
   ]
  },
  {
   "cell_type": "markdown",
   "id": "c4cd6e67",
   "metadata": {},
   "source": [
    "... pero esto último no necesariamente se puede hacer en todas las listas:"
   ]
  },
  {
   "cell_type": "code",
   "execution_count": 18,
   "id": "d2c7b10c",
   "metadata": {},
   "outputs": [],
   "source": [
    "enteros = [1,2,3,4,5,6,7,8]"
   ]
  },
  {
   "cell_type": "code",
   "execution_count": 19,
   "id": "636c2bb8",
   "metadata": {},
   "outputs": [
    {
     "data": {
      "text/plain": [
       "1"
      ]
     },
     "execution_count": 19,
     "metadata": {},
     "output_type": "execute_result"
    }
   ],
   "source": [
    "enteros[0]"
   ]
  },
  {
   "cell_type": "code",
   "execution_count": 20,
   "id": "73e439b2",
   "metadata": {},
   "outputs": [
    {
     "ename": "TypeError",
     "evalue": "'int' object is not subscriptable",
     "output_type": "error",
     "traceback": [
      "\u001b[0;31m---------------------------------------------------------------------------\u001b[0m",
      "\u001b[0;31mTypeError\u001b[0m                                 Traceback (most recent call last)",
      "Cell \u001b[0;32mIn[20], line 1\u001b[0m\n\u001b[0;32m----> 1\u001b[0m enteros[\u001b[38;5;241m0\u001b[39m][\u001b[38;5;241m0\u001b[39m]\n",
      "\u001b[0;31mTypeError\u001b[0m: 'int' object is not subscriptable"
     ]
    }
   ],
   "source": [
    "enteros[0][0]"
   ]
  },
  {
   "cell_type": "markdown",
   "id": "3209955f",
   "metadata": {},
   "source": [
    "### Número de elementos \n",
    "Por medio de la función `len` podemos conocer el número de elementos dde una lista"
   ]
  },
  {
   "cell_type": "code",
   "execution_count": 21,
   "id": "cf30c3fb",
   "metadata": {},
   "outputs": [
    {
     "data": {
      "text/plain": [
       "6"
      ]
     },
     "execution_count": 21,
     "metadata": {},
     "output_type": "execute_result"
    }
   ],
   "source": [
    "len(materias)"
   ]
  },
  {
   "cell_type": "code",
   "execution_count": 22,
   "id": "598e4e67",
   "metadata": {},
   "outputs": [
    {
     "data": {
      "text/plain": [
       "['CALCULO',\n",
       " 'FINANZAS',\n",
       " 'OPTIMIZACION',\n",
       " 'GEOMETRIA',\n",
       " 'PROGRAMACION',\n",
       " 'ESTADISTICA']"
      ]
     },
     "execution_count": 22,
     "metadata": {},
     "output_type": "execute_result"
    }
   ],
   "source": [
    "materias"
   ]
  },
  {
   "cell_type": "markdown",
   "id": "3d05b0d6",
   "metadata": {},
   "source": [
    "### Suma de elementos\n",
    "Otra de la función en Python, es `sum`., sobre la cual podemos sumar todos los elementos de una lista"
   ]
  },
  {
   "cell_type": "code",
   "execution_count": 23,
   "id": "89117f1d",
   "metadata": {},
   "outputs": [
    {
     "data": {
      "text/plain": [
       "[1, 2, 3, 4, 5, 6, 7, 8]"
      ]
     },
     "execution_count": 23,
     "metadata": {},
     "output_type": "execute_result"
    }
   ],
   "source": [
    "enteros"
   ]
  },
  {
   "cell_type": "code",
   "execution_count": 24,
   "id": "e7898a9d",
   "metadata": {},
   "outputs": [
    {
     "data": {
      "text/plain": [
       "36"
      ]
     },
     "execution_count": 24,
     "metadata": {},
     "output_type": "execute_result"
    }
   ],
   "source": [
    "sum(enteros)"
   ]
  },
  {
   "cell_type": "code",
   "execution_count": 25,
   "id": "5c4ed792",
   "metadata": {
    "scrolled": true
   },
   "outputs": [
    {
     "ename": "TypeError",
     "evalue": "unsupported operand type(s) for +: 'int' and 'str'",
     "output_type": "error",
     "traceback": [
      "\u001b[0;31m---------------------------------------------------------------------------\u001b[0m",
      "\u001b[0;31mTypeError\u001b[0m                                 Traceback (most recent call last)",
      "Cell \u001b[0;32mIn[25], line 1\u001b[0m\n\u001b[0;32m----> 1\u001b[0m \u001b[38;5;28msum\u001b[39m(materias)\n",
      "\u001b[0;31mTypeError\u001b[0m: unsupported operand type(s) for +: 'int' and 'str'"
     ]
    }
   ],
   "source": [
    "sum(materias)  #no es lo mismo a esto:  m[0] + m[1] + "
   ]
  },
  {
   "cell_type": "code",
   "execution_count": 26,
   "id": "583d6a29",
   "metadata": {},
   "outputs": [
    {
     "data": {
      "text/plain": [
       "'CALCULOFINANZAS'"
      ]
     },
     "execution_count": 26,
     "metadata": {},
     "output_type": "execute_result"
    }
   ],
   "source": [
    "##  no es lo mismo que esto:\n",
    "\n",
    "materias[0] + materias[1]"
   ]
  },
  {
   "cell_type": "code",
   "execution_count": 27,
   "id": "61031bd6",
   "metadata": {},
   "outputs": [
    {
     "data": {
      "text/plain": [
       "27"
      ]
     },
     "execution_count": 27,
     "metadata": {},
     "output_type": "execute_result"
    }
   ],
   "source": [
    "sum([1,2,3,4,5], start=12)   # shift + tab accedo a la ayuda"
   ]
  },
  {
   "cell_type": "code",
   "execution_count": 28,
   "id": "c5c014d7",
   "metadata": {},
   "outputs": [
    {
     "data": {
      "text/plain": [
       "NoneType"
      ]
     },
     "execution_count": 28,
     "metadata": {},
     "output_type": "execute_result"
    }
   ],
   "source": [
    "b = None   # tipo nulo o NoneType de python\n",
    "type(b)"
   ]
  },
  {
   "cell_type": "code",
   "execution_count": 29,
   "id": "901001cf",
   "metadata": {},
   "outputs": [
    {
     "data": {
      "text/plain": [
       "list"
      ]
     },
     "execution_count": 29,
     "metadata": {},
     "output_type": "execute_result"
    }
   ],
   "source": [
    "a = []\n",
    "\n",
    "type(a)"
   ]
  },
  {
   "cell_type": "code",
   "execution_count": 30,
   "id": "5487a12c",
   "metadata": {},
   "outputs": [
    {
     "data": {
      "text/plain": [
       "False"
      ]
     },
     "execution_count": 30,
     "metadata": {},
     "output_type": "execute_result"
    }
   ],
   "source": [
    "b == a"
   ]
  },
  {
   "cell_type": "code",
   "execution_count": 31,
   "id": "1ffaec3d",
   "metadata": {},
   "outputs": [
    {
     "name": "stdout",
     "output_type": "stream",
     "text": [
      "<class 'list'>\n"
     ]
    },
    {
     "data": {
      "text/plain": [
       "0"
      ]
     },
     "execution_count": 31,
     "metadata": {},
     "output_type": "execute_result"
    }
   ],
   "source": [
    "\n",
    "\n",
    "print(type(a))\n",
    "\n",
    "sum(a)"
   ]
  },
  {
   "cell_type": "code",
   "execution_count": 32,
   "id": "a022422d",
   "metadata": {},
   "outputs": [
    {
     "data": {
      "text/plain": [
       "[]"
      ]
     },
     "execution_count": 32,
     "metadata": {},
     "output_type": "execute_result"
    }
   ],
   "source": [
    "a"
   ]
  },
  {
   "cell_type": "code",
   "execution_count": 33,
   "id": "43693a7e",
   "metadata": {},
   "outputs": [
    {
     "data": {
      "text/plain": [
       "36"
      ]
     },
     "execution_count": 33,
     "metadata": {},
     "output_type": "execute_result"
    }
   ],
   "source": [
    "#  enteros[0] + enteros[1] + ... + enteros[-1] + start\n",
    "sum(enteros, start=0)"
   ]
  },
  {
   "cell_type": "code",
   "execution_count": 34,
   "id": "88689c7f",
   "metadata": {},
   "outputs": [
    {
     "data": {
      "text/plain": [
       "5"
      ]
     },
     "execution_count": 34,
     "metadata": {},
     "output_type": "execute_result"
    }
   ],
   "source": [
    "max([1,2,3,4,5])"
   ]
  },
  {
   "cell_type": "code",
   "execution_count": 35,
   "id": "a93e49dc",
   "metadata": {},
   "outputs": [
    {
     "data": {
      "text/plain": [
       "8"
      ]
     },
     "execution_count": 35,
     "metadata": {},
     "output_type": "execute_result"
    }
   ],
   "source": [
    "max(enteros)"
   ]
  },
  {
   "cell_type": "code",
   "execution_count": 36,
   "id": "aa24ed7a",
   "metadata": {},
   "outputs": [
    {
     "data": {
      "text/plain": [
       "[1, 1, 2, 3, 4, 5, 9]"
      ]
     },
     "execution_count": 36,
     "metadata": {},
     "output_type": "execute_result"
    }
   ],
   "source": [
    "x = [3,1,4,1,5,9,2]\n",
    "\n",
    "sorted(x) #menor a mayor, no modifica la lista que estás ordenando"
   ]
  },
  {
   "cell_type": "code",
   "execution_count": 37,
   "id": "0ffa411f",
   "metadata": {},
   "outputs": [
    {
     "data": {
      "text/plain": [
       "[3, 1, 4, 1, 5, 9, 2]"
      ]
     },
     "execution_count": 37,
     "metadata": {},
     "output_type": "execute_result"
    }
   ],
   "source": [
    "x"
   ]
  },
  {
   "cell_type": "code",
   "execution_count": 39,
   "id": "afc01ec6",
   "metadata": {},
   "outputs": [],
   "source": [
    "x.sort()  # modficia la lista original"
   ]
  },
  {
   "cell_type": "code",
   "execution_count": 40,
   "id": "07411cc5",
   "metadata": {},
   "outputs": [
    {
     "data": {
      "text/plain": [
       "[1, 1, 2, 3, 4, 5, 9]"
      ]
     },
     "execution_count": 40,
     "metadata": {},
     "output_type": "execute_result"
    }
   ],
   "source": [
    "x"
   ]
  },
  {
   "cell_type": "code",
   "execution_count": 41,
   "id": "09284437",
   "metadata": {},
   "outputs": [
    {
     "data": {
      "text/plain": [
       "[9, 5, 4, 3, 2, 1, 1]"
      ]
     },
     "execution_count": 41,
     "metadata": {},
     "output_type": "execute_result"
    }
   ],
   "source": [
    "sorted(x)[::-1] #mayor a menor\n",
    "\n",
    "## se les ocurre alguna otra forma para hacer esto?"
   ]
  },
  {
   "cell_type": "code",
   "execution_count": 42,
   "id": "c473ec9c",
   "metadata": {},
   "outputs": [
    {
     "data": {
      "text/plain": [
       "[9, 5, 4, 3, 2, 1, 1]"
      ]
     },
     "execution_count": 42,
     "metadata": {},
     "output_type": "execute_result"
    }
   ],
   "source": [
    "sorted(x, reverse=True)   ## key = lo podemos ver después"
   ]
  },
  {
   "cell_type": "code",
   "execution_count": 43,
   "id": "804f452b",
   "metadata": {},
   "outputs": [
    {
     "data": {
      "text/plain": [
       "[1, 1, 2, 3, 4, 5, 9]"
      ]
     },
     "execution_count": 43,
     "metadata": {},
     "output_type": "execute_result"
    }
   ],
   "source": [
    "x"
   ]
  },
  {
   "cell_type": "code",
   "execution_count": 44,
   "id": "58aef357",
   "metadata": {},
   "outputs": [],
   "source": [
    "x.sort(reverse=True)   # shidt + tab para mostrar la ayuda de las funciones/metodos, etc"
   ]
  },
  {
   "cell_type": "code",
   "execution_count": 45,
   "id": "d8093498",
   "metadata": {},
   "outputs": [
    {
     "data": {
      "text/plain": [
       "[9, 5, 4, 3, 2, 1, 1]"
      ]
     },
     "execution_count": 45,
     "metadata": {},
     "output_type": "execute_result"
    }
   ],
   "source": [
    "x"
   ]
  },
  {
   "cell_type": "code",
   "execution_count": 46,
   "id": "3b2add7c",
   "metadata": {
    "scrolled": true
   },
   "outputs": [
    {
     "data": {
      "text/plain": [
       "['CALCULO',\n",
       " 'ESTADISTICA',\n",
       " 'FINANZAS',\n",
       " 'GEOMETRIA',\n",
       " 'OPTIMIZACION',\n",
       " 'PROGRAMACION']"
      ]
     },
     "execution_count": 46,
     "metadata": {},
     "output_type": "execute_result"
    }
   ],
   "source": [
    "sorted(materias)"
   ]
  },
  {
   "cell_type": "code",
   "execution_count": 47,
   "id": "28c6c7e1",
   "metadata": {},
   "outputs": [
    {
     "data": {
      "text/plain": [
       "['OPTIMIZACION',\n",
       " 'PROGRAMACION',\n",
       " 'ESTADISTICA',\n",
       " 'GEOMETRIA',\n",
       " 'FINANZAS',\n",
       " 'CALCULO']"
      ]
     },
     "execution_count": 47,
     "metadata": {},
     "output_type": "execute_result"
    }
   ],
   "source": [
    "# qué pasa si quisiéramos ordenar por longitud de cada string\n",
    "\n",
    "sorted(materias, key=len, reverse=True)"
   ]
  },
  {
   "cell_type": "code",
   "execution_count": 48,
   "id": "3e7b7cbf",
   "metadata": {},
   "outputs": [
    {
     "data": {
      "text/plain": [
       "list"
      ]
     },
     "execution_count": 48,
     "metadata": {},
     "output_type": "execute_result"
    }
   ],
   "source": [
    "x = [[1,2,3], [2,3,4], [5,1,3], [1,1,1], [-1,0,0], [1,1,3]]\n",
    "type(x)"
   ]
  },
  {
   "cell_type": "code",
   "execution_count": 49,
   "id": "b3196183",
   "metadata": {},
   "outputs": [
    {
     "data": {
      "text/plain": [
       "[1, 2, 3]"
      ]
     },
     "execution_count": 49,
     "metadata": {},
     "output_type": "execute_result"
    }
   ],
   "source": [
    "x[0]"
   ]
  },
  {
   "cell_type": "code",
   "execution_count": 50,
   "id": "fefa9e9b",
   "metadata": {},
   "outputs": [
    {
     "data": {
      "text/plain": [
       "[[-1, 0, 0], [1, 1, 1], [1, 1, 3], [1, 2, 3], [2, 3, 4], [5, 1, 3]]"
      ]
     },
     "execution_count": 50,
     "metadata": {},
     "output_type": "execute_result"
    }
   ],
   "source": [
    "x.sort() #orden canónico\n",
    "x"
   ]
  },
  {
   "cell_type": "code",
   "execution_count": 52,
   "id": "3a21f551",
   "metadata": {},
   "outputs": [
    {
     "data": {
      "text/plain": [
       "[[-1, 0, 0], [1, 1, 1], [1, 1, 3], [1, 2, 3], [5, 1, 3], [2, 3, 4]]"
      ]
     },
     "execution_count": 52,
     "metadata": {},
     "output_type": "execute_result"
    }
   ],
   "source": [
    "sorted(x, key=min)"
   ]
  },
  {
   "cell_type": "markdown",
   "id": "1a385cf6",
   "metadata": {},
   "source": [
    "¿Cómo se calcula la norma de un vector?\n",
    "\n",
    "$$\\|x\\| = \\sqrt{x_1^2 + x_2^2 + x_3^2}$$"
   ]
  },
  {
   "cell_type": "code",
   "execution_count": 53,
   "id": "4338b6b3",
   "metadata": {},
   "outputs": [],
   "source": [
    "def norma(x):\n",
    "    return (x[0]**2 + x[1]**2 + x[2]**2)**0.5"
   ]
  },
  {
   "cell_type": "code",
   "execution_count": 54,
   "id": "ddc6c2dd",
   "metadata": {},
   "outputs": [
    {
     "data": {
      "text/plain": [
       "5.916079783099616"
      ]
     },
     "execution_count": 54,
     "metadata": {},
     "output_type": "execute_result"
    }
   ],
   "source": [
    "norma([1,3,5])"
   ]
  },
  {
   "cell_type": "code",
   "execution_count": 55,
   "id": "b183d4b9",
   "metadata": {},
   "outputs": [
    {
     "data": {
      "text/plain": [
       "5.916079783099616"
      ]
     },
     "execution_count": 55,
     "metadata": {},
     "output_type": "execute_result"
    }
   ],
   "source": [
    "35**0.5"
   ]
  },
  {
   "cell_type": "code",
   "execution_count": 56,
   "id": "c0da35cf",
   "metadata": {},
   "outputs": [
    {
     "data": {
      "text/plain": [
       "[[-1, 0, 0], [1, 1, 1], [1, 1, 3], [1, 2, 3], [2, 3, 4], [5, 1, 3]]"
      ]
     },
     "execution_count": 56,
     "metadata": {},
     "output_type": "execute_result"
    }
   ],
   "source": [
    "x"
   ]
  },
  {
   "cell_type": "code",
   "execution_count": 57,
   "id": "a0d2781d",
   "metadata": {},
   "outputs": [
    {
     "data": {
      "text/plain": [
       "1.0"
      ]
     },
     "execution_count": 57,
     "metadata": {},
     "output_type": "execute_result"
    }
   ],
   "source": [
    "norma(x[0])"
   ]
  },
  {
   "cell_type": "code",
   "execution_count": 58,
   "id": "a2845e56",
   "metadata": {},
   "outputs": [
    {
     "data": {
      "text/plain": [
       "[[-1, 0, 0], [1, 1, 1], [1, 1, 3], [1, 2, 3], [2, 3, 4], [5, 1, 3]]"
      ]
     },
     "execution_count": 58,
     "metadata": {},
     "output_type": "execute_result"
    }
   ],
   "source": [
    "x = [[1,2,3], [2,3,4], [5,1,3], [1,1,1], [-1,0,0], [1,1,3]]\n",
    "\n",
    "x.sort(key=norma)\n",
    "x"
   ]
  },
  {
   "cell_type": "code",
   "execution_count": 59,
   "id": "41a1314a",
   "metadata": {},
   "outputs": [
    {
     "data": {
      "text/plain": [
       "[[-1, 0, 0], [1, 2, 3], [5, 1, 3], [1, 1, 1], [1, 1, 3], [2, 3, 4]]"
      ]
     },
     "execution_count": 59,
     "metadata": {},
     "output_type": "execute_result"
    }
   ],
   "source": [
    "x = [[1,2,3], [2,3,4], [5,1,3], [1,1,1], [-1,0,0], [1,1,3]]\n",
    "\n",
    "###     1       2         1        1         -1        1\n",
    "x.sort(key=min)\n",
    "x"
   ]
  },
  {
   "cell_type": "code",
   "execution_count": 60,
   "id": "9a720a88",
   "metadata": {},
   "outputs": [
    {
     "data": {
      "text/plain": [
       "[[-1, 0, 0], [1, 2, 3], [1, 3, 5], [1, 1, 1], [1, 1, 3], [2, 3, 4]]"
      ]
     },
     "execution_count": 60,
     "metadata": {},
     "output_type": "execute_result"
    }
   ],
   "source": [
    "[elem.sort() for elem in x]\n",
    "x"
   ]
  },
  {
   "cell_type": "code",
   "execution_count": 63,
   "id": "c4d31554",
   "metadata": {},
   "outputs": [
    {
     "data": {
      "text/plain": [
       "[[4, 3], [3, 5], [8, 6], [5, 7]]"
      ]
     },
     "execution_count": 63,
     "metadata": {},
     "output_type": "execute_result"
    }
   ],
   "source": [
    "def secondElement(elem): #por el segundo elemento\n",
    "    return elem[1]\n",
    "\n",
    "my_list = [[5, 7], [4, 3], [8, 6], [3, 5]]\n",
    "\n",
    "# sorts with a key\n",
    "my_list.sort(key=secondElement)\n",
    "my_list"
   ]
  },
  {
   "cell_type": "code",
   "execution_count": 64,
   "id": "e01878ca",
   "metadata": {},
   "outputs": [
    {
     "data": {
      "text/plain": [
       "[[-1, 0, 0], [1, 1, 1], [1, 1, 3], [1, 2, 3], [1, 3, 5], [2, 3, 4]]"
      ]
     },
     "execution_count": 64,
     "metadata": {},
     "output_type": "execute_result"
    }
   ],
   "source": [
    "x.sort(key=secondElement)\n",
    "x"
   ]
  },
  {
   "cell_type": "code",
   "execution_count": 65,
   "id": "d8deb64f",
   "metadata": {},
   "outputs": [
    {
     "data": {
      "text/plain": [
       "['CALCULO',\n",
       " 'ESTADISTICA',\n",
       " 'FINANZAS',\n",
       " 'GEOMETRIA',\n",
       " 'OPTIMIZACION',\n",
       " 'PROGRAMACION']"
      ]
     },
     "execution_count": 65,
     "metadata": {},
     "output_type": "execute_result"
    }
   ],
   "source": [
    "sorted(materias)"
   ]
  },
  {
   "cell_type": "code",
   "execution_count": 66,
   "id": "c4047a37",
   "metadata": {},
   "outputs": [
    {
     "data": {
      "text/plain": [
       "['CALCULO',\n",
       " 'ESTADISTICA',\n",
       " 'FINANZAS',\n",
       " 'GEOMETRIA',\n",
       " 'OPTIMIZACION',\n",
       " 'PROGRAMACION']"
      ]
     },
     "execution_count": 66,
     "metadata": {},
     "output_type": "execute_result"
    }
   ],
   "source": [
    "materias.sort()\n",
    "materias"
   ]
  },
  {
   "cell_type": "code",
   "execution_count": 67,
   "id": "2ddfa929",
   "metadata": {},
   "outputs": [
    {
     "data": {
      "text/plain": [
       "[[-1, 0, 0], [1, 1, 1], [1, 1, 3], [1, 2, 3], [1, 3, 5], [2, 3, 4]]"
      ]
     },
     "execution_count": 67,
     "metadata": {},
     "output_type": "execute_result"
    }
   ],
   "source": [
    "x"
   ]
  },
  {
   "cell_type": "code",
   "execution_count": 68,
   "id": "6b0fd1e8",
   "metadata": {},
   "outputs": [
    {
     "data": {
      "text/plain": [
       "[[-1, 0, 0], [1, 1, 1], [1, 1, 3], [1, 2, 3], [1, 3, 5], [2, 3, 4]]"
      ]
     },
     "execution_count": 68,
     "metadata": {},
     "output_type": "execute_result"
    }
   ],
   "source": [
    "# observemos que no se cambió la lista original\n",
    "Y = sorted(x)\n",
    "Y"
   ]
  },
  {
   "cell_type": "code",
   "execution_count": 69,
   "id": "124a2839",
   "metadata": {},
   "outputs": [
    {
     "data": {
      "text/plain": [
       "[[-1, 0, 0], [1, 1, 1], [1, 1, 3], [1, 2, 3], [1, 3, 5], [2, 3, 4]]"
      ]
     },
     "execution_count": 69,
     "metadata": {},
     "output_type": "execute_result"
    }
   ],
   "source": [
    "x"
   ]
  },
  {
   "cell_type": "code",
   "execution_count": 70,
   "id": "dbd5d6ef",
   "metadata": {},
   "outputs": [
    {
     "data": {
      "text/plain": [
       "[2, 3, 4]"
      ]
     },
     "execution_count": 70,
     "metadata": {},
     "output_type": "execute_result"
    }
   ],
   "source": [
    "x[-1]"
   ]
  },
  {
   "cell_type": "code",
   "execution_count": 71,
   "id": "f9596f1f",
   "metadata": {},
   "outputs": [],
   "source": [
    "#Una lista es mutable (sí me permite cambiar valores)\n",
    "\n",
    "## cambiamos el último valor de la lista\n",
    "\n",
    "x[-1] = \"dfd\""
   ]
  },
  {
   "cell_type": "code",
   "execution_count": 72,
   "id": "bd40c91c",
   "metadata": {},
   "outputs": [
    {
     "data": {
      "text/plain": [
       "[[-1, 0, 0], [1, 1, 1], [1, 1, 3], [1, 2, 3], [1, 3, 5], 'dfd']"
      ]
     },
     "execution_count": 72,
     "metadata": {},
     "output_type": "execute_result"
    }
   ],
   "source": [
    "x "
   ]
  },
  {
   "cell_type": "code",
   "execution_count": 73,
   "id": "cad7e5d1",
   "metadata": {},
   "outputs": [
    {
     "ename": "TypeError",
     "evalue": "'<' not supported between instances of 'str' and 'list'",
     "output_type": "error",
     "traceback": [
      "\u001b[0;31m---------------------------------------------------------------------------\u001b[0m",
      "\u001b[0;31mTypeError\u001b[0m                                 Traceback (most recent call last)",
      "Cell \u001b[0;32mIn[73], line 1\u001b[0m\n\u001b[0;32m----> 1\u001b[0m x\u001b[38;5;241m.\u001b[39msort()\n",
      "\u001b[0;31mTypeError\u001b[0m: '<' not supported between instances of 'str' and 'list'"
     ]
    }
   ],
   "source": [
    "x.sort()   # aqui tendríamos que crear nuestra propia regla de orden"
   ]
  },
  {
   "cell_type": "code",
   "execution_count": 74,
   "id": "edd6cd61",
   "metadata": {},
   "outputs": [
    {
     "ename": "TypeError",
     "evalue": "'str' object does not support item assignment",
     "output_type": "error",
     "traceback": [
      "\u001b[0;31m---------------------------------------------------------------------------\u001b[0m",
      "\u001b[0;31mTypeError\u001b[0m                                 Traceback (most recent call last)",
      "Cell \u001b[0;32mIn[74], line 3\u001b[0m\n\u001b[1;32m      1\u001b[0m my_str \u001b[38;5;241m=\u001b[39m \u001b[38;5;124m\"\u001b[39m\u001b[38;5;124mhola\u001b[39m\u001b[38;5;124m\"\u001b[39m   \u001b[38;5;66;03m# no mutables\u001b[39;00m\n\u001b[0;32m----> 3\u001b[0m my_str[\u001b[38;5;241m0\u001b[39m] \u001b[38;5;241m=\u001b[39m \u001b[38;5;124m\"\u001b[39m\u001b[38;5;124mH\u001b[39m\u001b[38;5;124m\"\u001b[39m\n",
      "\u001b[0;31mTypeError\u001b[0m: 'str' object does not support item assignment"
     ]
    }
   ],
   "source": [
    "my_str = \"hola\"   # no mutables\n",
    "\n",
    "my_str[0] = \"H\"\n"
   ]
  },
  {
   "cell_type": "markdown",
   "id": "0af39b21",
   "metadata": {},
   "source": [
    "## objetos mutables y no"
   ]
  },
  {
   "cell_type": "code",
   "execution_count": 75,
   "id": "f1552cda",
   "metadata": {},
   "outputs": [
    {
     "data": {
      "text/plain": [
       "5"
      ]
     },
     "execution_count": 75,
     "metadata": {},
     "output_type": "execute_result"
    }
   ],
   "source": [
    "a = 5\n",
    "b = a #asigna el valoe que contiene la variable a a la variable b\n",
    "\n",
    "a = 3 #modificacmos el valor de la variable a\n",
    "\n",
    "b"
   ]
  },
  {
   "cell_type": "code",
   "execution_count": null,
   "id": "46e038f4",
   "metadata": {},
   "outputs": [],
   "source": [
    "dir(list)"
   ]
  },
  {
   "cell_type": "code",
   "execution_count": 76,
   "id": "89fdd2ba",
   "metadata": {},
   "outputs": [],
   "source": [
    "a = [1,2,3] #las listas son mutables\n",
    "\n",
    "b = a"
   ]
  },
  {
   "cell_type": "code",
   "execution_count": 77,
   "id": "40d2f8a7",
   "metadata": {},
   "outputs": [
    {
     "data": {
      "text/plain": [
       "[1, 2, 3]"
      ]
     },
     "execution_count": 77,
     "metadata": {},
     "output_type": "execute_result"
    }
   ],
   "source": [
    "a"
   ]
  },
  {
   "cell_type": "code",
   "execution_count": 78,
   "id": "b8ee0234",
   "metadata": {},
   "outputs": [
    {
     "data": {
      "text/plain": [
       "[1, 2, 3]"
      ]
     },
     "execution_count": 78,
     "metadata": {},
     "output_type": "execute_result"
    }
   ],
   "source": [
    "b"
   ]
  },
  {
   "cell_type": "code",
   "execution_count": 79,
   "id": "70f62cf7",
   "metadata": {},
   "outputs": [
    {
     "data": {
      "text/plain": [
       "[10, 2, 3]"
      ]
     },
     "execution_count": 79,
     "metadata": {},
     "output_type": "execute_result"
    }
   ],
   "source": [
    "a[0] = 10\n",
    "a\n"
   ]
  },
  {
   "cell_type": "code",
   "execution_count": 80,
   "id": "563c48a8",
   "metadata": {},
   "outputs": [
    {
     "data": {
      "text/plain": [
       "[10, 2, 3]"
      ]
     },
     "execution_count": 80,
     "metadata": {},
     "output_type": "execute_result"
    }
   ],
   "source": [
    "b"
   ]
  },
  {
   "cell_type": "markdown",
   "id": "5ff6beb6",
   "metadata": {},
   "source": [
    "una forma sencilla de ver cual es o no mutable es ver dir"
   ]
  },
  {
   "cell_type": "code",
   "execution_count": 81,
   "id": "ff6a8526",
   "metadata": {},
   "outputs": [
    {
     "data": {
      "text/plain": [
       "['__add__',\n",
       " '__class__',\n",
       " '__class_getitem__',\n",
       " '__contains__',\n",
       " '__delattr__',\n",
       " '__delitem__',\n",
       " '__dir__',\n",
       " '__doc__',\n",
       " '__eq__',\n",
       " '__format__',\n",
       " '__ge__',\n",
       " '__getattribute__',\n",
       " '__getitem__',\n",
       " '__getstate__',\n",
       " '__gt__',\n",
       " '__hash__',\n",
       " '__iadd__',\n",
       " '__imul__',\n",
       " '__init__',\n",
       " '__init_subclass__',\n",
       " '__iter__',\n",
       " '__le__',\n",
       " '__len__',\n",
       " '__lt__',\n",
       " '__mul__',\n",
       " '__ne__',\n",
       " '__new__',\n",
       " '__reduce__',\n",
       " '__reduce_ex__',\n",
       " '__repr__',\n",
       " '__reversed__',\n",
       " '__rmul__',\n",
       " '__setattr__',\n",
       " '__setitem__',\n",
       " '__sizeof__',\n",
       " '__str__',\n",
       " '__subclasshook__',\n",
       " 'append',\n",
       " 'clear',\n",
       " 'copy',\n",
       " 'count',\n",
       " 'extend',\n",
       " 'index',\n",
       " 'insert',\n",
       " 'pop',\n",
       " 'remove',\n",
       " 'reverse',\n",
       " 'sort']"
      ]
     },
     "execution_count": 81,
     "metadata": {},
     "output_type": "execute_result"
    }
   ],
   "source": [
    "dir(list) #si tiene copy es que si es mutable"
   ]
  },
  {
   "cell_type": "markdown",
   "id": "cbb2d8d9",
   "metadata": {},
   "source": [
    "### una relacion entre list y str"
   ]
  },
  {
   "cell_type": "code",
   "execution_count": 91,
   "id": "35e1ca8a",
   "metadata": {},
   "outputs": [
    {
     "data": {
      "text/plain": [
       "str"
      ]
     },
     "execution_count": 91,
     "metadata": {},
     "output_type": "execute_result"
    }
   ],
   "source": [
    "# Podemos ver los strings como listas:\n",
    "\n",
    "y = \"Python\"\n",
    "\n",
    "type(y)"
   ]
  },
  {
   "cell_type": "code",
   "execution_count": 92,
   "id": "1974248d",
   "metadata": {},
   "outputs": [
    {
     "ename": "TypeError",
     "evalue": "'str' object does not support item assignment",
     "output_type": "error",
     "traceback": [
      "\u001b[0;31m---------------------------------------------------------------------------\u001b[0m",
      "\u001b[0;31mTypeError\u001b[0m                                 Traceback (most recent call last)",
      "Cell \u001b[0;32mIn[92], line 3\u001b[0m\n\u001b[1;32m      1\u001b[0m \u001b[38;5;66;03m# ...pero a diferencia de las listas, no podemos modificar valores en un string:\u001b[39;00m\n\u001b[0;32m----> 3\u001b[0m y[\u001b[38;5;241m-\u001b[39m\u001b[38;5;241m1\u001b[39m] \u001b[38;5;241m=\u001b[39m \u001b[38;5;124m\"\u001b[39m\u001b[38;5;124mf\u001b[39m\u001b[38;5;124m\"\u001b[39m\n",
      "\u001b[0;31mTypeError\u001b[0m: 'str' object does not support item assignment"
     ]
    }
   ],
   "source": [
    "# ...pero a diferencia de las listas, no podemos modificar valores en un string:\n",
    "\n",
    "y[-1] = \"f\""
   ]
  },
  {
   "cell_type": "code",
   "execution_count": 93,
   "id": "c972e511",
   "metadata": {},
   "outputs": [
    {
     "data": {
      "text/plain": [
       "['P', 'y', 't', 'h', 'o', 'n']"
      ]
     },
     "execution_count": 93,
     "metadata": {},
     "output_type": "execute_result"
    }
   ],
   "source": [
    "list(y)"
   ]
  },
  {
   "cell_type": "code",
   "execution_count": 94,
   "id": "43399583",
   "metadata": {},
   "outputs": [
    {
     "data": {
      "text/plain": [
       "['P', 'y', 't', 'h', 'o', 'n']"
      ]
     },
     "execution_count": 94,
     "metadata": {},
     "output_type": "execute_result"
    }
   ],
   "source": [
    "# sin embargo, sí podemos crear una lista a partir de un string:\n",
    "\n",
    "y_list = list(y)\n",
    "y_list"
   ]
  },
  {
   "cell_type": "code",
   "execution_count": 95,
   "id": "9e66b1c4",
   "metadata": {},
   "outputs": [
    {
     "data": {
      "text/plain": [
       "['F', 'y', 't', 'h', 'o', 'n']"
      ]
     },
     "execution_count": 95,
     "metadata": {},
     "output_type": "execute_result"
    }
   ],
   "source": [
    "y_list[0] = \"F\"\n",
    "\n",
    "y_list"
   ]
  },
  {
   "cell_type": "markdown",
   "id": "5ad4ec10",
   "metadata": {},
   "source": [
    "como juntamos los caracteres"
   ]
  },
  {
   "cell_type": "code",
   "execution_count": 98,
   "id": "e89e3efd",
   "metadata": {
    "scrolled": true
   },
   "outputs": [
    {
     "data": {
      "text/plain": [
       "'Fython'"
      ]
     },
     "execution_count": 98,
     "metadata": {},
     "output_type": "execute_result"
    }
   ],
   "source": [
    "\"\".join(y_list) #puedo ponerle caracteres para pegarlos o nada"
   ]
  },
  {
   "cell_type": "code",
   "execution_count": 97,
   "id": "4a28ed82",
   "metadata": {},
   "outputs": [
    {
     "data": {
      "text/plain": [
       "\"['F', 'y', 't', 'h', 'o', 'n']\""
      ]
     },
     "execution_count": 97,
     "metadata": {},
     "output_type": "execute_result"
    }
   ],
   "source": [
    "str(y_list) #no funciona"
   ]
  },
  {
   "cell_type": "code",
   "execution_count": 102,
   "id": "3e93050b",
   "metadata": {},
   "outputs": [
    {
     "data": {
      "text/plain": [
       "'Cualq*ier_otro mensaje'"
      ]
     },
     "execution_count": 102,
     "metadata": {},
     "output_type": "execute_result"
    }
   ],
   "source": [
    "y = \"Cualquier otro mensaje\"\n",
    "\n",
    "y_list = list(y)\n",
    "\n",
    "y_list[9] = \"_\"\n",
    "y_list[5] = \"*\"\n",
    "\n",
    "\"\".join(y_list)"
   ]
  },
  {
   "cell_type": "code",
   "execution_count": 89,
   "id": "dc9f264e",
   "metadata": {},
   "outputs": [
    {
     "data": {
      "text/plain": [
       "['__add__',\n",
       " '__class__',\n",
       " '__contains__',\n",
       " '__delattr__',\n",
       " '__dir__',\n",
       " '__doc__',\n",
       " '__eq__',\n",
       " '__format__',\n",
       " '__ge__',\n",
       " '__getattribute__',\n",
       " '__getitem__',\n",
       " '__getnewargs__',\n",
       " '__getstate__',\n",
       " '__gt__',\n",
       " '__hash__',\n",
       " '__init__',\n",
       " '__init_subclass__',\n",
       " '__iter__',\n",
       " '__le__',\n",
       " '__len__',\n",
       " '__lt__',\n",
       " '__mod__',\n",
       " '__mul__',\n",
       " '__ne__',\n",
       " '__new__',\n",
       " '__reduce__',\n",
       " '__reduce_ex__',\n",
       " '__repr__',\n",
       " '__rmod__',\n",
       " '__rmul__',\n",
       " '__setattr__',\n",
       " '__sizeof__',\n",
       " '__str__',\n",
       " '__subclasshook__',\n",
       " 'capitalize',\n",
       " 'casefold',\n",
       " 'center',\n",
       " 'count',\n",
       " 'encode',\n",
       " 'endswith',\n",
       " 'expandtabs',\n",
       " 'find',\n",
       " 'format',\n",
       " 'format_map',\n",
       " 'index',\n",
       " 'isalnum',\n",
       " 'isalpha',\n",
       " 'isascii',\n",
       " 'isdecimal',\n",
       " 'isdigit',\n",
       " 'isidentifier',\n",
       " 'islower',\n",
       " 'isnumeric',\n",
       " 'isprintable',\n",
       " 'isspace',\n",
       " 'istitle',\n",
       " 'isupper',\n",
       " 'join',\n",
       " 'ljust',\n",
       " 'lower',\n",
       " 'lstrip',\n",
       " 'maketrans',\n",
       " 'partition',\n",
       " 'removeprefix',\n",
       " 'removesuffix',\n",
       " 'replace',\n",
       " 'rfind',\n",
       " 'rindex',\n",
       " 'rjust',\n",
       " 'rpartition',\n",
       " 'rsplit',\n",
       " 'rstrip',\n",
       " 'split',\n",
       " 'splitlines',\n",
       " 'startswith',\n",
       " 'strip',\n",
       " 'swapcase',\n",
       " 'title',\n",
       " 'translate',\n",
       " 'upper',\n",
       " 'zfill']"
      ]
     },
     "execution_count": 89,
     "metadata": {},
     "output_type": "execute_result"
    }
   ],
   "source": [
    "dir(str)"
   ]
  },
  {
   "cell_type": "code",
   "execution_count": 103,
   "id": "60384a2d",
   "metadata": {
    "scrolled": true
   },
   "outputs": [
    {
     "name": "stdout",
     "output_type": "stream",
     "text": [
      "Help on method_descriptor:\n",
      "\n",
      "join(self, iterable, /)\n",
      "    Concatenate any number of strings.\n",
      "    \n",
      "    The string whose method is called is inserted in between each given string.\n",
      "    The result is returned as a new string.\n",
      "    \n",
      "    Example: '.'.join(['ab', 'pq', 'rs']) -> 'ab.pq.rs'\n",
      "\n"
     ]
    }
   ],
   "source": [
    "help(str.join)"
   ]
  },
  {
   "cell_type": "markdown",
   "id": "3f02474b",
   "metadata": {},
   "source": [
    "\n",
    "mi_cadena = \"hola\"\n",
    "\n",
    "iterable = [\"uno\", \"dos\", \"tres\"]\n",
    "\n",
    "mi_cadena.join(iterable)  ==  iterable[0] + mi_cadena + iterable[1] + mi_cadena + .... + iterable[-1]"
   ]
  },
  {
   "cell_type": "markdown",
   "id": "68f8d844",
   "metadata": {},
   "source": [
    "# Índices \n",
    "A diferencia de un `str`, una `list` nos permite obtener, asignar, reemplazar y eliminar dentro una lista"
   ]
  },
  {
   "cell_type": "code",
   "execution_count": 17,
   "id": "a855ba0b",
   "metadata": {},
   "outputs": [
    {
     "ename": "NameError",
     "evalue": "name 'materias' is not defined",
     "output_type": "error",
     "traceback": [
      "\u001b[0;31m---------------------------------------------------------------------------\u001b[0m",
      "\u001b[0;31mNameError\u001b[0m                                 Traceback (most recent call last)",
      "Cell \u001b[0;32mIn[17], line 1\u001b[0m\n\u001b[0;32m----> 1\u001b[0m materias\n",
      "\u001b[0;31mNameError\u001b[0m: name 'materias' is not defined"
     ]
    }
   ],
   "source": [
    "materias"
   ]
  },
  {
   "cell_type": "code",
   "execution_count": 105,
   "id": "a1f045f0",
   "metadata": {},
   "outputs": [
    {
     "data": {
      "text/plain": [
       "'CALCULO'"
      ]
     },
     "execution_count": 105,
     "metadata": {},
     "output_type": "execute_result"
    }
   ],
   "source": [
    "#conseguir primer elemento de materias\n",
    "materias[0]"
   ]
  },
  {
   "cell_type": "code",
   "execution_count": 106,
   "id": "1987b526",
   "metadata": {},
   "outputs": [
    {
     "data": {
      "text/plain": [
       "['ALGEBRA',\n",
       " 'ESTADISTICA',\n",
       " 'FINANZAS',\n",
       " 'GEOMETRIA',\n",
       " 'OPTIMIZACION',\n",
       " 'PROGRAMACION']"
      ]
     },
     "execution_count": 106,
     "metadata": {},
     "output_type": "execute_result"
    }
   ],
   "source": [
    "#Asignar a un primer elementro otra materia\n",
    "materias[0] = \"ALGEBRA\"\n",
    "materias"
   ]
  },
  {
   "cell_type": "code",
   "execution_count": 107,
   "id": "662bdd80",
   "metadata": {},
   "outputs": [],
   "source": [
    "materias.append(\"PRUEBA\") #append agrega al final elementos"
   ]
  },
  {
   "cell_type": "code",
   "execution_count": 108,
   "id": "ab46694b",
   "metadata": {
    "scrolled": false
   },
   "outputs": [
    {
     "data": {
      "text/plain": [
       "['ALGEBRA',\n",
       " 'ESTADISTICA',\n",
       " 'FINANZAS',\n",
       " 'GEOMETRIA',\n",
       " 'OPTIMIZACION',\n",
       " 'PROGRAMACION',\n",
       " 'PRUEBA']"
      ]
     },
     "execution_count": 108,
     "metadata": {},
     "output_type": "execute_result"
    }
   ],
   "source": [
    "materias"
   ]
  },
  {
   "cell_type": "code",
   "execution_count": 109,
   "id": "15315790",
   "metadata": {},
   "outputs": [],
   "source": [
    "materias.insert(0, \"CALCULO\") #inserto en el índice"
   ]
  },
  {
   "cell_type": "code",
   "execution_count": 110,
   "id": "699842c3",
   "metadata": {},
   "outputs": [
    {
     "data": {
      "text/plain": [
       "['CALCULO',\n",
       " 'ALGEBRA',\n",
       " 'ESTADISTICA',\n",
       " 'FINANZAS',\n",
       " 'GEOMETRIA',\n",
       " 'OPTIMIZACION',\n",
       " 'PROGRAMACION',\n",
       " 'PRUEBA']"
      ]
     },
     "execution_count": 110,
     "metadata": {},
     "output_type": "execute_result"
    }
   ],
   "source": [
    "materias"
   ]
  },
  {
   "cell_type": "code",
   "execution_count": 111,
   "id": "468cb1a9",
   "metadata": {},
   "outputs": [
    {
     "data": {
      "text/plain": [
       "['__add__',\n",
       " '__class__',\n",
       " '__class_getitem__',\n",
       " '__contains__',\n",
       " '__delattr__',\n",
       " '__delitem__',\n",
       " '__dir__',\n",
       " '__doc__',\n",
       " '__eq__',\n",
       " '__format__',\n",
       " '__ge__',\n",
       " '__getattribute__',\n",
       " '__getitem__',\n",
       " '__getstate__',\n",
       " '__gt__',\n",
       " '__hash__',\n",
       " '__iadd__',\n",
       " '__imul__',\n",
       " '__init__',\n",
       " '__init_subclass__',\n",
       " '__iter__',\n",
       " '__le__',\n",
       " '__len__',\n",
       " '__lt__',\n",
       " '__mul__',\n",
       " '__ne__',\n",
       " '__new__',\n",
       " '__reduce__',\n",
       " '__reduce_ex__',\n",
       " '__repr__',\n",
       " '__reversed__',\n",
       " '__rmul__',\n",
       " '__setattr__',\n",
       " '__setitem__',\n",
       " '__sizeof__',\n",
       " '__str__',\n",
       " '__subclasshook__',\n",
       " 'append',\n",
       " 'clear',\n",
       " 'copy',\n",
       " 'count',\n",
       " 'extend',\n",
       " 'index',\n",
       " 'insert',\n",
       " 'pop',\n",
       " 'remove',\n",
       " 'reverse',\n",
       " 'sort']"
      ]
     },
     "execution_count": 111,
     "metadata": {},
     "output_type": "execute_result"
    }
   ],
   "source": [
    "dir(list)"
   ]
  },
  {
   "cell_type": "code",
   "execution_count": 112,
   "id": "b3984459",
   "metadata": {},
   "outputs": [
    {
     "data": {
      "text/plain": [
       "['h', 'e', 'l', 'l', 'o']"
      ]
     },
     "execution_count": 112,
     "metadata": {},
     "output_type": "execute_result"
    }
   ],
   "source": [
    "list(\"hello\")"
   ]
  },
  {
   "cell_type": "code",
   "execution_count": 113,
   "id": "6e584d04",
   "metadata": {},
   "outputs": [],
   "source": [
    "lista1 = [\"pi\", 6, [\"alpha\",\"beta\"], True]"
   ]
  },
  {
   "cell_type": "code",
   "execution_count": 114,
   "id": "e7cf0000",
   "metadata": {},
   "outputs": [
    {
     "data": {
      "text/plain": [
       "list"
      ]
     },
     "execution_count": 114,
     "metadata": {},
     "output_type": "execute_result"
    }
   ],
   "source": [
    "type(lista1)"
   ]
  },
  {
   "cell_type": "code",
   "execution_count": 115,
   "id": "e0316540",
   "metadata": {},
   "outputs": [
    {
     "data": {
      "text/plain": [
       "['pi', 6, ['alpha', 'beta'], True]"
      ]
     },
     "execution_count": 115,
     "metadata": {},
     "output_type": "execute_result"
    }
   ],
   "source": [
    "lista1"
   ]
  },
  {
   "cell_type": "code",
   "execution_count": 116,
   "id": "bfb77fbf",
   "metadata": {},
   "outputs": [
    {
     "data": {
      "text/plain": [
       "['alpha', 'beta']"
      ]
     },
     "execution_count": 116,
     "metadata": {},
     "output_type": "execute_result"
    }
   ],
   "source": [
    "lista1[2]"
   ]
  },
  {
   "cell_type": "code",
   "execution_count": 117,
   "id": "80da4784",
   "metadata": {},
   "outputs": [
    {
     "data": {
      "text/plain": [
       "'alpha'"
      ]
     },
     "execution_count": 117,
     "metadata": {},
     "output_type": "execute_result"
    }
   ],
   "source": [
    "lista1[2][0]"
   ]
  },
  {
   "cell_type": "code",
   "execution_count": 118,
   "id": "75ccc3db",
   "metadata": {},
   "outputs": [
    {
     "data": {
      "text/plain": [
       "'p'"
      ]
     },
     "execution_count": 118,
     "metadata": {},
     "output_type": "execute_result"
    }
   ],
   "source": [
    "lista1[2][0][2]"
   ]
  },
  {
   "cell_type": "code",
   "execution_count": 119,
   "id": "ecbc34a1",
   "metadata": {},
   "outputs": [],
   "source": [
    "a = []"
   ]
  },
  {
   "cell_type": "code",
   "execution_count": 120,
   "id": "577e44ec",
   "metadata": {},
   "outputs": [
    {
     "data": {
      "text/plain": [
       "list"
      ]
     },
     "execution_count": 120,
     "metadata": {},
     "output_type": "execute_result"
    }
   ],
   "source": [
    "type(a)"
   ]
  },
  {
   "cell_type": "code",
   "execution_count": 121,
   "id": "eeeaf175",
   "metadata": {},
   "outputs": [
    {
     "data": {
      "text/plain": [
       "['CALCULO',\n",
       " 'ALGEBRA',\n",
       " 'ESTADISTICA',\n",
       " 'FINANZAS',\n",
       " 'GEOMETRIA',\n",
       " 'OPTIMIZACION',\n",
       " 'PROGRAMACION',\n",
       " 'PRUEBA']"
      ]
     },
     "execution_count": 121,
     "metadata": {},
     "output_type": "execute_result"
    }
   ],
   "source": [
    "materias"
   ]
  },
  {
   "cell_type": "code",
   "execution_count": 123,
   "id": "0ab5663e",
   "metadata": {},
   "outputs": [
    {
     "ename": "ValueError",
     "evalue": "list.remove(x): x not in list",
     "output_type": "error",
     "traceback": [
      "\u001b[0;31m---------------------------------------------------------------------------\u001b[0m",
      "\u001b[0;31mValueError\u001b[0m                                Traceback (most recent call last)",
      "Cell \u001b[0;32mIn[123], line 1\u001b[0m\n\u001b[0;32m----> 1\u001b[0m materias\u001b[38;5;241m.\u001b[39mremove(\u001b[38;5;124m'\u001b[39m\u001b[38;5;124mGEOMETRIA\u001b[39m\u001b[38;5;124m'\u001b[39m)\n",
      "\u001b[0;31mValueError\u001b[0m: list.remove(x): x not in list"
     ]
    }
   ],
   "source": [
    "materias.remove('GEOMETRIA')"
   ]
  },
  {
   "cell_type": "code",
   "execution_count": 124,
   "id": "cc734b16",
   "metadata": {
    "scrolled": false
   },
   "outputs": [
    {
     "data": {
      "text/plain": [
       "['CALCULO',\n",
       " 'ALGEBRA',\n",
       " 'ESTADISTICA',\n",
       " 'FINANZAS',\n",
       " 'OPTIMIZACION',\n",
       " 'PROGRAMACION',\n",
       " 'PRUEBA']"
      ]
     },
     "execution_count": 124,
     "metadata": {},
     "output_type": "execute_result"
    }
   ],
   "source": [
    "materias"
   ]
  },
  {
   "cell_type": "code",
   "execution_count": 125,
   "id": "11cf63b4",
   "metadata": {},
   "outputs": [
    {
     "ename": "ValueError",
     "evalue": "list.remove(x): x not in list",
     "output_type": "error",
     "traceback": [
      "\u001b[0;31m---------------------------------------------------------------------------\u001b[0m",
      "\u001b[0;31mValueError\u001b[0m                                Traceback (most recent call last)",
      "Cell \u001b[0;32mIn[125], line 1\u001b[0m\n\u001b[0;32m----> 1\u001b[0m materias\u001b[38;5;241m.\u001b[39mremove(\u001b[38;5;124m'\u001b[39m\u001b[38;5;124mPRUEBAX\u001b[39m\u001b[38;5;124m'\u001b[39m)\n",
      "\u001b[0;31mValueError\u001b[0m: list.remove(x): x not in list"
     ]
    }
   ],
   "source": [
    "materias.remove('PRUEBAX') #SI NO EXISTE ME DARA ERROR"
   ]
  },
  {
   "cell_type": "code",
   "execution_count": 126,
   "id": "3cda0759",
   "metadata": {
    "scrolled": true
   },
   "outputs": [
    {
     "data": {
      "text/plain": [
       "'PRUEBA'"
      ]
     },
     "execution_count": 126,
     "metadata": {},
     "output_type": "execute_result"
    }
   ],
   "source": [
    "materias.pop() #REMUEVE EL ULTIMO ELEMENTO DE LA LISTA"
   ]
  },
  {
   "cell_type": "code",
   "execution_count": 127,
   "id": "d806c36e",
   "metadata": {},
   "outputs": [
    {
     "data": {
      "text/plain": [
       "['CALCULO',\n",
       " 'ALGEBRA',\n",
       " 'ESTADISTICA',\n",
       " 'FINANZAS',\n",
       " 'OPTIMIZACION',\n",
       " 'PROGRAMACION']"
      ]
     },
     "execution_count": 127,
     "metadata": {},
     "output_type": "execute_result"
    }
   ],
   "source": [
    "materias"
   ]
  },
  {
   "cell_type": "code",
   "execution_count": 128,
   "id": "cadd0850",
   "metadata": {},
   "outputs": [],
   "source": [
    "a = materias.pop(0) #REMUEVO CON INDICE"
   ]
  },
  {
   "cell_type": "code",
   "execution_count": 129,
   "id": "fdfc4bc4",
   "metadata": {},
   "outputs": [
    {
     "data": {
      "text/plain": [
       "['ALGEBRA', 'ESTADISTICA', 'FINANZAS', 'OPTIMIZACION', 'PROGRAMACION']"
      ]
     },
     "execution_count": 129,
     "metadata": {},
     "output_type": "execute_result"
    }
   ],
   "source": [
    "materias"
   ]
  },
  {
   "cell_type": "code",
   "execution_count": 130,
   "id": "5427541e",
   "metadata": {},
   "outputs": [
    {
     "data": {
      "text/plain": [
       "'CALCULO'"
      ]
     },
     "execution_count": 130,
     "metadata": {},
     "output_type": "execute_result"
    }
   ],
   "source": [
    "a"
   ]
  },
  {
   "cell_type": "code",
   "execution_count": 131,
   "id": "1b080aa2",
   "metadata": {},
   "outputs": [
    {
     "data": {
      "text/plain": [
       "['ALGEBRA', 'ESTADISTICA', 'FINANZAS', 'OPTIMIZACION', 'PROGRAMACION']"
      ]
     },
     "execution_count": 131,
     "metadata": {},
     "output_type": "execute_result"
    }
   ],
   "source": [
    "materias"
   ]
  },
  {
   "cell_type": "code",
   "execution_count": 132,
   "id": "3c949b4b",
   "metadata": {},
   "outputs": [
    {
     "data": {
      "text/plain": [
       "['OPTIMIZACION', 'PROGRAMACION']"
      ]
     },
     "execution_count": 132,
     "metadata": {},
     "output_type": "execute_result"
    }
   ],
   "source": [
    "materias[3:]"
   ]
  },
  {
   "cell_type": "code",
   "execution_count": 133,
   "id": "f203c70b",
   "metadata": {},
   "outputs": [
    {
     "name": "stdout",
     "output_type": "stream",
     "text": [
      "['ALGEBRA', 'ESTADISTICA', 'FINANZAS']\n"
     ]
    }
   ],
   "source": [
    "#eliminar elementos\n",
    "#eliminar del segundo al tercer elemento\n",
    "materias[3:] = [] \n",
    "print(materias)"
   ]
  },
  {
   "cell_type": "code",
   "execution_count": 134,
   "id": "d5a18ea6",
   "metadata": {},
   "outputs": [
    {
     "name": "stdout",
     "output_type": "stream",
     "text": [
      "ESTADISTICA\n",
      "['ALGEBRA', 'FINANZAS']\n"
     ]
    }
   ],
   "source": [
    "a = materias.pop(1)\n",
    "\n",
    "print(a)\n",
    "print(materias)"
   ]
  },
  {
   "cell_type": "code",
   "execution_count": 135,
   "id": "932ddf09",
   "metadata": {
    "scrolled": true
   },
   "outputs": [],
   "source": [
    "materias.remove(materias[0])"
   ]
  },
  {
   "cell_type": "code",
   "execution_count": 136,
   "id": "d5ac1dc0",
   "metadata": {},
   "outputs": [
    {
     "data": {
      "text/plain": [
       "['FINANZAS']"
      ]
     },
     "execution_count": 136,
     "metadata": {},
     "output_type": "execute_result"
    }
   ],
   "source": [
    "materias"
   ]
  },
  {
   "cell_type": "code",
   "execution_count": 137,
   "id": "3491c5ae",
   "metadata": {},
   "outputs": [
    {
     "data": {
      "text/plain": [
       "[[-1, 0, 0], [1, 1, 1], [1, 1, 3], [1, 2, 3], [1, 3, 5], 'dfd']"
      ]
     },
     "execution_count": 137,
     "metadata": {},
     "output_type": "execute_result"
    }
   ],
   "source": [
    "x"
   ]
  },
  {
   "cell_type": "code",
   "execution_count": 138,
   "id": "7eb36baa",
   "metadata": {},
   "outputs": [
    {
     "data": {
      "text/plain": [
       "['FINANZAS', [-1, 0, 0], [1, 1, 1], [1, 1, 3], [1, 2, 3], [1, 3, 5], 'dfd']"
      ]
     },
     "execution_count": 138,
     "metadata": {},
     "output_type": "execute_result"
    }
   ],
   "source": [
    "materias + x #CONCATENA SIN MODIFICAR"
   ]
  },
  {
   "cell_type": "code",
   "execution_count": 139,
   "id": "aadd1f0a",
   "metadata": {},
   "outputs": [
    {
     "data": {
      "text/plain": [
       "['FINANZAS']"
      ]
     },
     "execution_count": 139,
     "metadata": {},
     "output_type": "execute_result"
    }
   ],
   "source": [
    "materias"
   ]
  },
  {
   "cell_type": "code",
   "execution_count": 140,
   "id": "8ced7e49",
   "metadata": {},
   "outputs": [
    {
     "data": {
      "text/plain": [
       "[[-1, 0, 0], [1, 1, 1], [1, 1, 3], [1, 2, 3], [1, 3, 5], 'dfd']"
      ]
     },
     "execution_count": 140,
     "metadata": {},
     "output_type": "execute_result"
    }
   ],
   "source": [
    "x"
   ]
  },
  {
   "cell_type": "code",
   "execution_count": 141,
   "id": "756cf494",
   "metadata": {},
   "outputs": [],
   "source": [
    "#materias.append(a)\n",
    "materias.extend(x)  # esto sí modifica la lista materias\n",
    "\n",
    "## materias = materias + x"
   ]
  },
  {
   "cell_type": "code",
   "execution_count": 142,
   "id": "b631afab",
   "metadata": {},
   "outputs": [
    {
     "data": {
      "text/plain": [
       "['FINANZAS', [-1, 0, 0], [1, 1, 1], [1, 1, 3], [1, 2, 3], [1, 3, 5], 'dfd']"
      ]
     },
     "execution_count": 142,
     "metadata": {},
     "output_type": "execute_result"
    }
   ],
   "source": [
    "materias"
   ]
  },
  {
   "cell_type": "code",
   "execution_count": 143,
   "id": "46d41156",
   "metadata": {},
   "outputs": [
    {
     "ename": "ValueError",
     "evalue": "list.remove(x): x not in list",
     "output_type": "error",
     "traceback": [
      "\u001b[0;31m---------------------------------------------------------------------------\u001b[0m",
      "\u001b[0;31mValueError\u001b[0m                                Traceback (most recent call last)",
      "Cell \u001b[0;32mIn[143], line 1\u001b[0m\n\u001b[0;32m----> 1\u001b[0m materias\u001b[38;5;241m.\u001b[39mremove(\u001b[38;5;124m\"\u001b[39m\u001b[38;5;124mC_ESTOC\u001b[39m\u001b[38;5;124m\"\u001b[39m)\n",
      "\u001b[0;31mValueError\u001b[0m: list.remove(x): x not in list"
     ]
    }
   ],
   "source": [
    "materias.remove(\"C_ESTOC\")"
   ]
  },
  {
   "cell_type": "code",
   "execution_count": 144,
   "id": "3b273854",
   "metadata": {
    "scrolled": true
   },
   "outputs": [
    {
     "data": {
      "text/plain": [
       "[1, 6, 1, 2, 3, 4, 5, 6, 1, 1, 1, 1, 1, 1]"
      ]
     },
     "execution_count": 144,
     "metadata": {},
     "output_type": "execute_result"
    }
   ],
   "source": [
    "numeros = [1,6,1,2,3,4,5,6,1,1,1,1,1,1,]\n",
    "\n",
    "#numeros.remove(1)\n",
    "numeros"
   ]
  },
  {
   "cell_type": "code",
   "execution_count": 145,
   "id": "5cf52afa",
   "metadata": {},
   "outputs": [
    {
     "data": {
      "text/plain": [
       "6"
      ]
     },
     "execution_count": 145,
     "metadata": {},
     "output_type": "execute_result"
    }
   ],
   "source": [
    "max(numeros)"
   ]
  },
  {
   "cell_type": "code",
   "execution_count": 146,
   "id": "dacfd402",
   "metadata": {},
   "outputs": [
    {
     "data": {
      "text/plain": [
       "[1, 2, 3, 4, 5, 6]"
      ]
     },
     "execution_count": 146,
     "metadata": {},
     "output_type": "execute_result"
    }
   ],
   "source": [
    "list(set(numeros))"
   ]
  },
  {
   "cell_type": "markdown",
   "id": "b8a60670",
   "metadata": {},
   "source": [
    "## Estructuras\n",
    "Las listas pueden agrupar cualquier tipo de objeto, a este tipo de listas les podemos llamar estructuras"
   ]
  },
  {
   "cell_type": "code",
   "execution_count": null,
   "id": "e0e24c88",
   "metadata": {},
   "outputs": [],
   "source": [
    "e = 2.7182\n",
    "\n",
    "lista1 = [\"pi\", e, [\"alpha\",\"beta\"], \"gamma\", True, 4]"
   ]
  },
  {
   "cell_type": "code",
   "execution_count": null,
   "id": "e6027a08",
   "metadata": {},
   "outputs": [],
   "source": [
    "lista1"
   ]
  },
  {
   "cell_type": "code",
   "execution_count": null,
   "id": "d00816ec",
   "metadata": {},
   "outputs": [],
   "source": [
    "#query \n",
    "#¿Cómo accederían a 'beta' y luego que les arroje el resultado \"ETA\"\n",
    "lista1[2][1][1:].upper()"
   ]
  },
  {
   "cell_type": "code",
   "execution_count": null,
   "id": "9071057b",
   "metadata": {},
   "outputs": [],
   "source": [
    "lista1[2][1][-3:].upper()"
   ]
  },
  {
   "cell_type": "code",
   "execution_count": null,
   "id": "13926728",
   "metadata": {},
   "outputs": [],
   "source": [
    "len(\"string\")"
   ]
  },
  {
   "cell_type": "code",
   "execution_count": null,
   "id": "b9e4b145",
   "metadata": {},
   "outputs": [],
   "source": [
    "len([\"string\"]) # es diferente el length de una lista que de un string\n",
    "#la lista sólo tiene un elemento "
   ]
  },
  {
   "cell_type": "code",
   "execution_count": null,
   "id": "2c77a789",
   "metadata": {},
   "outputs": [],
   "source": [
    "type(lista1[2])"
   ]
  },
  {
   "cell_type": "code",
   "execution_count": null,
   "id": "f4854ef7",
   "metadata": {},
   "outputs": [],
   "source": [
    "type(lista1[2][0])"
   ]
  },
  {
   "cell_type": "code",
   "execution_count": null,
   "id": "ae81bd5c",
   "metadata": {},
   "outputs": [],
   "source": [
    "type(lista1[1])"
   ]
  },
  {
   "cell_type": "code",
   "execution_count": null,
   "id": "f484cbfb",
   "metadata": {},
   "outputs": [],
   "source": [
    "type(lista1[-1])"
   ]
  },
  {
   "cell_type": "code",
   "execution_count": null,
   "id": "e0ea40dd",
   "metadata": {},
   "outputs": [],
   "source": [
    "[\"string\"]"
   ]
  },
  {
   "cell_type": "code",
   "execution_count": null,
   "id": "cb478304",
   "metadata": {},
   "outputs": [],
   "source": [
    "lista1[2]"
   ]
  },
  {
   "cell_type": "code",
   "execution_count": null,
   "id": "b7d32568",
   "metadata": {},
   "outputs": [],
   "source": [
    "lista1"
   ]
  },
  {
   "cell_type": "code",
   "execution_count": null,
   "id": "e35810ea",
   "metadata": {},
   "outputs": [],
   "source": [
    "# veremos más detalles de los ciclos más adelante\n",
    "for x in \"string\": \n",
    "    print(x)"
   ]
  },
  {
   "cell_type": "code",
   "execution_count": null,
   "id": "2dc95416",
   "metadata": {},
   "outputs": [],
   "source": [
    "for x in lista1:\n",
    "    print(x)"
   ]
  },
  {
   "cell_type": "code",
   "execution_count": null,
   "id": "c06b73f9",
   "metadata": {},
   "outputs": [],
   "source": [
    "lista1"
   ]
  },
  {
   "cell_type": "code",
   "execution_count": null,
   "id": "a17de4e3",
   "metadata": {},
   "outputs": [],
   "source": [
    "len(lista1)"
   ]
  },
  {
   "cell_type": "code",
   "execution_count": null,
   "id": "e7e58255",
   "metadata": {},
   "outputs": [],
   "source": [
    "lista1[6]"
   ]
  },
  {
   "cell_type": "markdown",
   "id": "e15424da",
   "metadata": {},
   "source": [
    "## Concatenar dos listas"
   ]
  },
  {
   "cell_type": "code",
   "execution_count": 147,
   "id": "4aaab3fa",
   "metadata": {},
   "outputs": [
    {
     "data": {
      "text/plain": [
       "'Hola Mundo'"
      ]
     },
     "execution_count": 147,
     "metadata": {},
     "output_type": "execute_result"
    }
   ],
   "source": [
    "\"Hola\" + \" Mundo\""
   ]
  },
  {
   "cell_type": "code",
   "execution_count": 1,
   "id": "c3e100d4",
   "metadata": {},
   "outputs": [],
   "source": [
    "matematicos = [\"Gauss\", \"Fermat\",\"Spivak\",\"Oksendal\"]\n",
    "\n",
    "fisicos = [\"Newton\",\"Einsten\",\"Maxwell\"]"
   ]
  },
  {
   "cell_type": "code",
   "execution_count": 149,
   "id": "eee66c45",
   "metadata": {},
   "outputs": [
    {
     "data": {
      "text/plain": [
       "['Gauss', 'Fermat', 'Spivak', 'Oksendal']"
      ]
     },
     "execution_count": 149,
     "metadata": {},
     "output_type": "execute_result"
    }
   ],
   "source": [
    "matematicos"
   ]
  },
  {
   "cell_type": "code",
   "execution_count": 150,
   "id": "4696d7a9",
   "metadata": {},
   "outputs": [
    {
     "data": {
      "text/plain": [
       "['Newton', 'Einsten', 'Maxwell']"
      ]
     },
     "execution_count": 150,
     "metadata": {},
     "output_type": "execute_result"
    }
   ],
   "source": [
    "fisicos"
   ]
  },
  {
   "cell_type": "code",
   "execution_count": 3,
   "id": "f1c3174c",
   "metadata": {},
   "outputs": [
    {
     "data": {
      "text/plain": [
       "['Gauss', 'Fermat', 'Spivak', 'Oksendal', 'Newton', 'Einsten', 'Maxwell']"
      ]
     },
     "execution_count": 3,
     "metadata": {},
     "output_type": "execute_result"
    }
   ],
   "source": [
    "cientificos = matematicos + fisicos\n",
    "cientificos"
   ]
  },
  {
   "cell_type": "code",
   "execution_count": 152,
   "id": "6863063e",
   "metadata": {},
   "outputs": [
    {
     "data": {
      "text/plain": [
       "['Gauss', 'Fermat', 'Spivak', 'Oksendal', 'Newton', 'Einsten', 'Maxwell']"
      ]
     },
     "execution_count": 152,
     "metadata": {},
     "output_type": "execute_result"
    }
   ],
   "source": [
    "## se pueden usar otros métodos, como extend\n",
    "matematicos.extend(fisicos)\n",
    "\n",
    "matematicos\n"
   ]
  },
  {
   "cell_type": "code",
   "execution_count": 153,
   "id": "6a698b83",
   "metadata": {},
   "outputs": [
    {
     "data": {
      "text/plain": [
       "['Gauss',\n",
       " 'Fermat',\n",
       " 'Spivak',\n",
       " 'Oksendal',\n",
       " 'Newton',\n",
       " 'Einsten',\n",
       " 'Maxwell',\n",
       " 'Newton',\n",
       " 'Einsten',\n",
       " 'Maxwell']"
      ]
     },
     "execution_count": 153,
     "metadata": {},
     "output_type": "execute_result"
    }
   ],
   "source": [
    "## usnado el operador * (python 3.6 en adelante)\n",
    "todos = [*matematicos, *fisicos]\n",
    "todos"
   ]
  },
  {
   "cell_type": "code",
   "execution_count": 154,
   "id": "bce3ef6d",
   "metadata": {},
   "outputs": [
    {
     "data": {
      "text/plain": [
       "[1, 1, 4, 5, 5, 7]"
      ]
     },
     "execution_count": 154,
     "metadata": {},
     "output_type": "execute_result"
    }
   ],
   "source": [
    "#Las funciones no cambian la naturaleza del objeto\n",
    "X=[4,1,5,7,1,5]\n",
    "sorted(X)"
   ]
  },
  {
   "cell_type": "code",
   "execution_count": 155,
   "id": "601f7b67",
   "metadata": {},
   "outputs": [
    {
     "data": {
      "text/plain": [
       "[4, 1, 5, 7, 1, 5]"
      ]
     },
     "execution_count": 155,
     "metadata": {},
     "output_type": "execute_result"
    }
   ],
   "source": [
    "X #no ha cambiado X porque no lo hemos asignado. X nos sigue dando el original"
   ]
  },
  {
   "cell_type": "code",
   "execution_count": 156,
   "id": "6b3459c6",
   "metadata": {},
   "outputs": [],
   "source": [
    "X = sorted(X)"
   ]
  },
  {
   "cell_type": "code",
   "execution_count": 157,
   "id": "ceac7620",
   "metadata": {},
   "outputs": [
    {
     "data": {
      "text/plain": [
       "[1, 1, 4, 5, 5, 7]"
      ]
     },
     "execution_count": 157,
     "metadata": {},
     "output_type": "execute_result"
    }
   ],
   "source": [
    "X"
   ]
  },
  {
   "cell_type": "code",
   "execution_count": 158,
   "id": "3760e7f9",
   "metadata": {},
   "outputs": [
    {
     "data": {
      "text/plain": [
       "[4, 1, 5, 7, 1, 5]"
      ]
     },
     "execution_count": 158,
     "metadata": {},
     "output_type": "execute_result"
    }
   ],
   "source": [
    "X=[4,1,5,7,1,5]\n",
    "X"
   ]
  },
  {
   "cell_type": "markdown",
   "id": "aee8dfd4",
   "metadata": {},
   "source": [
    "**Los métodos SÍ cambian la naturaleza del objeto**"
   ]
  },
  {
   "cell_type": "code",
   "execution_count": null,
   "id": "5127ede0",
   "metadata": {},
   "outputs": [],
   "source": [
    "X.sort(reverse=True)"
   ]
  },
  {
   "cell_type": "code",
   "execution_count": null,
   "id": "79ae538e",
   "metadata": {},
   "outputs": [],
   "source": [
    "X"
   ]
  },
  {
   "cell_type": "markdown",
   "id": "ff0effa5",
   "metadata": {},
   "source": [
    "## Copias de listas"
   ]
  },
  {
   "cell_type": "markdown",
   "id": "a711f95a",
   "metadata": {},
   "source": [
    "Cada elemento en python lo identifica con un único `id`"
   ]
  },
  {
   "cell_type": "code",
   "execution_count": 4,
   "id": "f8ce80ab",
   "metadata": {},
   "outputs": [
    {
     "data": {
      "text/plain": [
       "['Gauss', 'Fermat', 'Spivak', 'Oksendal', 'Newton', 'Einsten', 'Maxwell']"
      ]
     },
     "execution_count": 4,
     "metadata": {},
     "output_type": "execute_result"
    }
   ],
   "source": [
    "cientificos"
   ]
  },
  {
   "cell_type": "code",
   "execution_count": 5,
   "id": "fb9dbfd0",
   "metadata": {},
   "outputs": [
    {
     "data": {
      "text/plain": [
       "4587916480"
      ]
     },
     "execution_count": 5,
     "metadata": {},
     "output_type": "execute_result"
    }
   ],
   "source": [
    "id(cientificos)"
   ]
  },
  {
   "cell_type": "code",
   "execution_count": 6,
   "id": "147d5094",
   "metadata": {},
   "outputs": [
    {
     "data": {
      "text/plain": [
       "4587916480"
      ]
     },
     "execution_count": 6,
     "metadata": {},
     "output_type": "execute_result"
    }
   ],
   "source": [
    "x = cientificos\n",
    "\n",
    "id(x)"
   ]
  },
  {
   "cell_type": "code",
   "execution_count": 9,
   "id": "ad7fdd80",
   "metadata": {},
   "outputs": [
    {
     "data": {
      "text/plain": [
       "['Gauss',\n",
       " 'Fermat',\n",
       " 'Spivak',\n",
       " 'Oksendal',\n",
       " 'Newton',\n",
       " 'Einsten',\n",
       " 'Maxwell',\n",
       " 'nuevo cientifico']"
      ]
     },
     "execution_count": 9,
     "metadata": {},
     "output_type": "execute_result"
    }
   ],
   "source": [
    "x.append(\"nuevo cientifico\")\n",
    "cientificos"
   ]
  },
  {
   "cell_type": "markdown",
   "id": "a4a00ba7",
   "metadata": {},
   "source": [
    "ESTO NO APLICA PARA OBJETOS NO MUTABLES"
   ]
  },
  {
   "cell_type": "code",
   "execution_count": 8,
   "id": "322298d0",
   "metadata": {},
   "outputs": [
    {
     "data": {
      "text/plain": [
       "(4525395080, 4525395176)"
      ]
     },
     "execution_count": 8,
     "metadata": {},
     "output_type": "execute_result"
    }
   ],
   "source": [
    "a = 5\n",
    "\n",
    "b = a\n",
    "#modificamos\n",
    "b = 8\n",
    "\n",
    "id(a), id(b)"
   ]
  },
  {
   "cell_type": "code",
   "execution_count": 10,
   "id": "5a39099c",
   "metadata": {},
   "outputs": [
    {
     "data": {
      "text/plain": [
       "[[-9999, 1], [2, 2], [3, 3]]"
      ]
     },
     "execution_count": 10,
     "metadata": {},
     "output_type": "execute_result"
    }
   ],
   "source": [
    "y = [[1,1], [2,2], [3,3]]\n",
    "\n",
    "x = y.copy() #COPIAS TODA LA LISTA\n",
    "\n",
    "y[0][0] = -9999\n",
    "\n",
    "x"
   ]
  },
  {
   "cell_type": "code",
   "execution_count": 11,
   "id": "516cac48",
   "metadata": {},
   "outputs": [
    {
     "data": {
      "text/plain": [
       "['Error',\n",
       " '__all__',\n",
       " '__builtins__',\n",
       " '__cached__',\n",
       " '__doc__',\n",
       " '__file__',\n",
       " '__loader__',\n",
       " '__name__',\n",
       " '__package__',\n",
       " '__spec__',\n",
       " '_copy_dispatch',\n",
       " '_copy_immutable',\n",
       " '_deepcopy_atomic',\n",
       " '_deepcopy_dict',\n",
       " '_deepcopy_dispatch',\n",
       " '_deepcopy_list',\n",
       " '_deepcopy_method',\n",
       " '_deepcopy_tuple',\n",
       " '_keep_alive',\n",
       " '_reconstruct',\n",
       " 'copy',\n",
       " 'deepcopy',\n",
       " 'dispatch_table',\n",
       " 'error']"
      ]
     },
     "execution_count": 11,
     "metadata": {},
     "output_type": "execute_result"
    }
   ],
   "source": [
    "import copy #para hacer copias independientes necesitamos esto\n",
    "\n",
    "dir(copy)"
   ]
  },
  {
   "cell_type": "code",
   "execution_count": 12,
   "id": "c260cc15",
   "metadata": {},
   "outputs": [
    {
     "data": {
      "text/plain": [
       "[[1, 1], [2, 2], [3, 3]]"
      ]
     },
     "execution_count": 12,
     "metadata": {},
     "output_type": "execute_result"
    }
   ],
   "source": [
    "y = [[1,1], [2,2], [3,3]]\n",
    "\n",
    "x = copy.deepcopy(y)\n",
    "\n",
    "y[0][0] = -9999\n",
    "\n",
    "x"
   ]
  },
  {
   "cell_type": "markdown",
   "id": "5c98c81d",
   "metadata": {},
   "source": [
    "Asignar una variable a lista existente \"apunta\" al mismo `id`"
   ]
  },
  {
   "cell_type": "code",
   "execution_count": 13,
   "id": "7050df21",
   "metadata": {},
   "outputs": [
    {
     "name": "stdout",
     "output_type": "stream",
     "text": [
      "4588167600 4587919600\n"
     ]
    },
    {
     "data": {
      "text/plain": [
       "'hola'"
      ]
     },
     "execution_count": 13,
     "metadata": {},
     "output_type": "execute_result"
    }
   ],
   "source": [
    "a = \"hola\"   # esto sucede con objetos no mutables\n",
    "\n",
    "b = a\n",
    "\n",
    "b = \"adios\"\n",
    "\n",
    "print(id(a), id(b))\n",
    "\n",
    "a"
   ]
  },
  {
   "cell_type": "code",
   "execution_count": 14,
   "id": "e9beac7f",
   "metadata": {},
   "outputs": [],
   "source": [
    "cientificos2 = cientificos"
   ]
  },
  {
   "cell_type": "code",
   "execution_count": 15,
   "id": "f9289d1f",
   "metadata": {},
   "outputs": [
    {
     "name": "stdout",
     "output_type": "stream",
     "text": [
      "4587916480 4587916480\n"
     ]
    }
   ],
   "source": [
    "print(id(cientificos2),id(cientificos))\n",
    "#les está dando el mismo id"
   ]
  },
  {
   "cell_type": "code",
   "execution_count": 16,
   "id": "fdaa9825",
   "metadata": {},
   "outputs": [
    {
     "data": {
      "text/plain": [
       "True"
      ]
     },
     "execution_count": 16,
     "metadata": {},
     "output_type": "execute_result"
    }
   ],
   "source": [
    "id(cientificos2) == id(cientificos)"
   ]
  },
  {
   "cell_type": "markdown",
   "id": "022b1002",
   "metadata": {},
   "source": [
    "Cualquier modificación a `cientificos2` se verá afectado `cientificos`"
   ]
  },
  {
   "cell_type": "code",
   "execution_count": null,
   "id": "dbb9c545",
   "metadata": {},
   "outputs": [],
   "source": [
    "cientificos2[0] = \"**NONE**\" #hicimos una moficiación a científicos 2\n",
    "print(cientificos2)"
   ]
  },
  {
   "cell_type": "code",
   "execution_count": null,
   "id": "e9b9a903",
   "metadata": {},
   "outputs": [],
   "source": [
    "cientificos"
   ]
  },
  {
   "cell_type": "markdown",
   "id": "6fe947d8",
   "metadata": {},
   "source": [
    "para copiar una lista se indexa sobre todos los elementos de la lista"
   ]
  },
  {
   "cell_type": "code",
   "execution_count": null,
   "id": "20f120e0",
   "metadata": {},
   "outputs": [],
   "source": [
    "cientificos3 = cientificos[:]\n",
    "\n",
    "#aquí sí egenera otro id\n",
    "print(id(cientificos3),id(cientificos))"
   ]
  },
  {
   "cell_type": "code",
   "execution_count": null,
   "id": "c801a84b",
   "metadata": {},
   "outputs": [],
   "source": [
    "id(cientificos3) == id(cientificos)"
   ]
  },
  {
   "cell_type": "code",
   "execution_count": null,
   "id": "3b9af3c4",
   "metadata": {
    "scrolled": true
   },
   "outputs": [],
   "source": [
    "cientificos3[0]=\"Leibnitz\" #hicimos una moficiación a científicos 2\n",
    "\n",
    "print(cientificos3)\n",
    "\n",
    "print(cientificos) # no está modifianco el original porque apuntan a aiferentes a ID. "
   ]
  },
  {
   "cell_type": "code",
   "execution_count": null,
   "id": "646fc5a0",
   "metadata": {},
   "outputs": [],
   "source": [
    "dir(cientificos)"
   ]
  },
  {
   "cell_type": "code",
   "execution_count": null,
   "id": "dc3e8d23",
   "metadata": {},
   "outputs": [],
   "source": [
    "#otra forma de apuntar a otro id\n",
    "cientificos4 = cientificos.copy()\n",
    "#aquí sí egenera otro id\n",
    "print(id(cientificos4),id(cientificos))"
   ]
  },
  {
   "cell_type": "code",
   "execution_count": null,
   "id": "9dc946d7",
   "metadata": {},
   "outputs": [],
   "source": [
    "id(cientificos4)==id(cientificos)"
   ]
  },
  {
   "cell_type": "code",
   "execution_count": null,
   "id": "a380422f",
   "metadata": {},
   "outputs": [],
   "source": [
    "cientificos4[0]=\"Hola\" #hicimos una moficiación a científicos 2\n",
    "print(cientificos4)\n",
    "print(cientificos) "
   ]
  },
  {
   "cell_type": "markdown",
   "id": "513524a2",
   "metadata": {},
   "source": [
    "## Métodos de una `list`\n",
    "Al igual que los strings, las listas contienen métodos (funciones definidas para una sóla clase)"
   ]
  },
  {
   "cell_type": "code",
   "execution_count": 19,
   "id": "6548b978",
   "metadata": {},
   "outputs": [
    {
     "data": {
      "text/plain": [
       "['CALCULO',\n",
       " 'FINANZAS',\n",
       " 'OPTIMIZACION',\n",
       " 'GEOMETRIA',\n",
       " 'PROGRAMACION',\n",
       " 'ESTADISTICA']"
      ]
     },
     "execution_count": 19,
     "metadata": {},
     "output_type": "execute_result"
    }
   ],
   "source": [
    "materias"
   ]
  },
  {
   "cell_type": "code",
   "execution_count": 20,
   "id": "2165050a",
   "metadata": {},
   "outputs": [
    {
     "data": {
      "text/plain": [
       "['ESTADISTICA',\n",
       " 'PROGRAMACION',\n",
       " 'GEOMETRIA',\n",
       " 'OPTIMIZACION',\n",
       " 'FINANZAS',\n",
       " 'CALCULO']"
      ]
     },
     "execution_count": 20,
     "metadata": {},
     "output_type": "execute_result"
    }
   ],
   "source": [
    "materias.reverse()   # sí modifica la lista original\n",
    "materias"
   ]
  },
  {
   "cell_type": "code",
   "execution_count": 22,
   "id": "13409d28",
   "metadata": {},
   "outputs": [
    {
     "data": {
      "text/plain": [
       "['BIOLOGIA',\n",
       " 'ESTADISTICA',\n",
       " 'PROGRAMACION',\n",
       " 'GEOMETRIA',\n",
       " 'OPTIMIZACION',\n",
       " 'BIOLOGIA',\n",
       " 'FINANZAS',\n",
       " 'CALCULO']"
      ]
     },
     "execution_count": 22,
     "metadata": {},
     "output_type": "execute_result"
    }
   ],
   "source": [
    "#Agregar un nuevo elemento a la lista, en la ubicación cero (el primero)\n",
    "nueva_materia=\"BIOLOGIA\"\n",
    "\n",
    "materias.insert(0, nueva_materia)\n",
    "\n",
    "materias"
   ]
  },
  {
   "cell_type": "code",
   "execution_count": 23,
   "id": "42aa6273",
   "metadata": {},
   "outputs": [
    {
     "data": {
      "text/plain": [
       "['BIOLOGIA',\n",
       " 'ESTADISTICA',\n",
       " 'PROGRAMACION',\n",
       " 'BIOLOGIA2',\n",
       " 'GEOMETRIA',\n",
       " 'OPTIMIZACION',\n",
       " 'BIOLOGIA',\n",
       " 'FINANZAS',\n",
       " 'CALCULO']"
      ]
     },
     "execution_count": 23,
     "metadata": {},
     "output_type": "execute_result"
    }
   ],
   "source": [
    "nueva_materia=\"BIOLOGIA2\"\n",
    "materias.insert(3,nueva_materia)\n",
    "materias\n",
    "# lo pone posición 3"
   ]
  },
  {
   "cell_type": "code",
   "execution_count": 24,
   "id": "7ff83397",
   "metadata": {},
   "outputs": [],
   "source": [
    "materias.append(\"PROBABILIDAD\")\n",
    "#lo pone al final"
   ]
  },
  {
   "cell_type": "code",
   "execution_count": 25,
   "id": "fd30969d",
   "metadata": {},
   "outputs": [
    {
     "data": {
      "text/plain": [
       "['BIOLOGIA',\n",
       " 'ESTADISTICA',\n",
       " 'PROGRAMACION',\n",
       " 'BIOLOGIA2',\n",
       " 'GEOMETRIA',\n",
       " 'OPTIMIZACION',\n",
       " 'BIOLOGIA',\n",
       " 'FINANZAS',\n",
       " 'CALCULO',\n",
       " 'PROBABILIDAD']"
      ]
     },
     "execution_count": 25,
     "metadata": {},
     "output_type": "execute_result"
    }
   ],
   "source": [
    "materias"
   ]
  },
  {
   "cell_type": "code",
   "execution_count": 26,
   "id": "bc2abd0c",
   "metadata": {},
   "outputs": [
    {
     "data": {
      "text/plain": [
       "['BIOLOGIA',\n",
       " 'ESTADISTICA',\n",
       " 'PROGRAMACION',\n",
       " 'BIOLOGIA2',\n",
       " 'GEOMETRIA',\n",
       " 'OPTIMIZACION',\n",
       " 'BIOLOGIA',\n",
       " 'FINANZAS',\n",
       " 'CALCULO',\n",
       " 'PROBABILIDAD',\n",
       " 'nueva materia']"
      ]
     },
     "execution_count": 26,
     "metadata": {},
     "output_type": "execute_result"
    }
   ],
   "source": [
    "materias.insert(len(materias), \"nueva materia\")  # esto es lo mismo que hacer append\n",
    "materias"
   ]
  },
  {
   "cell_type": "code",
   "execution_count": 27,
   "id": "ee6428c4",
   "metadata": {},
   "outputs": [
    {
     "data": {
      "text/plain": [
       "4"
      ]
     },
     "execution_count": 27,
     "metadata": {},
     "output_type": "execute_result"
    }
   ],
   "source": [
    "#para obetner el índice\n",
    "materias.index(\"GEOMETRIA\")"
   ]
  },
  {
   "cell_type": "code",
   "execution_count": 29,
   "id": "e7562964",
   "metadata": {},
   "outputs": [
    {
     "data": {
      "text/plain": [
       "'BIOLOGIA2'"
      ]
     },
     "execution_count": 29,
     "metadata": {},
     "output_type": "execute_result"
    }
   ],
   "source": [
    "materias[3]"
   ]
  },
  {
   "cell_type": "code",
   "execution_count": 30,
   "id": "4ecf30d4",
   "metadata": {},
   "outputs": [
    {
     "ename": "ValueError",
     "evalue": "'fhdrtd' is not in list",
     "output_type": "error",
     "traceback": [
      "\u001b[0;31m---------------------------------------------------------------------------\u001b[0m",
      "\u001b[0;31mValueError\u001b[0m                                Traceback (most recent call last)",
      "Cell \u001b[0;32mIn[30], line 1\u001b[0m\n\u001b[0;32m----> 1\u001b[0m materias\u001b[38;5;241m.\u001b[39mindex(\u001b[38;5;124m\"\u001b[39m\u001b[38;5;124mfhdrtd\u001b[39m\u001b[38;5;124m\"\u001b[39m)\n",
      "\u001b[0;31mValueError\u001b[0m: 'fhdrtd' is not in list"
     ]
    }
   ],
   "source": [
    "materias.index(\"fhdrtd\") #el problema de index"
   ]
  },
  {
   "cell_type": "code",
   "execution_count": 31,
   "id": "1758cf81",
   "metadata": {},
   "outputs": [],
   "source": [
    "materias.sort()"
   ]
  },
  {
   "cell_type": "code",
   "execution_count": 32,
   "id": "71c51589",
   "metadata": {},
   "outputs": [
    {
     "data": {
      "text/plain": [
       "['BIOLOGIA',\n",
       " 'BIOLOGIA',\n",
       " 'BIOLOGIA2',\n",
       " 'CALCULO',\n",
       " 'ESTADISTICA',\n",
       " 'FINANZAS',\n",
       " 'GEOMETRIA',\n",
       " 'OPTIMIZACION',\n",
       " 'PROBABILIDAD',\n",
       " 'PROGRAMACION',\n",
       " 'nueva materia']"
      ]
     },
     "execution_count": 32,
     "metadata": {},
     "output_type": "execute_result"
    }
   ],
   "source": [
    "materias"
   ]
  },
  {
   "cell_type": "code",
   "execution_count": 33,
   "id": "b2d3da00",
   "metadata": {},
   "outputs": [
    {
     "data": {
      "text/plain": [
       "'BIOLOGIA'"
      ]
     },
     "execution_count": 33,
     "metadata": {},
     "output_type": "execute_result"
    }
   ],
   "source": [
    "materias.pop(0) #elimina el elemento"
   ]
  },
  {
   "cell_type": "code",
   "execution_count": 34,
   "id": "a3a04686",
   "metadata": {},
   "outputs": [
    {
     "data": {
      "text/plain": [
       "['BIOLOGIA',\n",
       " 'BIOLOGIA2',\n",
       " 'CALCULO',\n",
       " 'ESTADISTICA',\n",
       " 'FINANZAS',\n",
       " 'GEOMETRIA',\n",
       " 'OPTIMIZACION',\n",
       " 'PROBABILIDAD',\n",
       " 'PROGRAMACION',\n",
       " 'nueva materia']"
      ]
     },
     "execution_count": 34,
     "metadata": {},
     "output_type": "execute_result"
    }
   ],
   "source": [
    "materias"
   ]
  },
  {
   "cell_type": "code",
   "execution_count": 35,
   "id": "c705eb2f",
   "metadata": {},
   "outputs": [
    {
     "name": "stdout",
     "output_type": "stream",
     "text": [
      "['BIOLOGIA', 'BIOLOGIA2', 'CALCULO', 'ESTADISTICA', 'FINANZAS', 'GEOMETRIA', 'OPTIMIZACION', 'PROBABILIDAD', 'PROGRAMACION']\n",
      "\n",
      "\n",
      "nueva materia\n"
     ]
    }
   ],
   "source": [
    "#accedes al último elemento  y eliminarlo de la lista \n",
    "\n",
    "extraccion = materias.pop() #si no pongo indice me elimina el último\n",
    "\n",
    "print(materias)\n",
    "print(\"\\n\")\n",
    "print(extraccion)"
   ]
  },
  {
   "cell_type": "markdown",
   "id": "4c949eb7",
   "metadata": {},
   "source": [
    "## Relación entre `str` y `list`\n",
    "Los strings contienen métodos cuyos resultados o argumentos devuelven o contienen listas"
   ]
  },
  {
   "cell_type": "code",
   "execution_count": 36,
   "id": "4c4cd042",
   "metadata": {},
   "outputs": [
    {
     "data": {
      "text/plain": [
       "['c', 'a', 'd', 'e', 'n', 'a', ' ', 'd', 'e', ' ', 't', 'e', 'x', 't', 'o']"
      ]
     },
     "execution_count": 36,
     "metadata": {},
     "output_type": "execute_result"
    }
   ],
   "source": [
    "list(\"cadena de texto\") #elementos de una unidad, lista de caracteres"
   ]
  },
  {
   "cell_type": "code",
   "execution_count": 37,
   "id": "14b80ddd",
   "metadata": {},
   "outputs": [
    {
     "data": {
      "text/plain": [
       "['Este', 'es', 'un', 'string']"
      ]
     },
     "execution_count": 37,
     "metadata": {},
     "output_type": "execute_result"
    }
   ],
   "source": [
    "# *Split*: de str a list\n",
    "\"Este es un string\".split() #pasan con un método de un string a una list"
   ]
  },
  {
   "cell_type": "code",
   "execution_count": 38,
   "id": "54a66691",
   "metadata": {},
   "outputs": [
    {
     "data": {
      "text/plain": [
       "['er', ' d', ' d', '']"
      ]
     },
     "execution_count": 38,
     "metadata": {},
     "output_type": "execute_result"
    }
   ],
   "source": [
    "palabra = \"erg dg dg\" #me lo separa por un caracter en especia;\n",
    "palabra.split(\"g\")"
   ]
  },
  {
   "cell_type": "code",
   "execution_count": 39,
   "id": "65128599",
   "metadata": {},
   "outputs": [],
   "source": [
    "#Lo que va en el argumento del split: ej: \"-\",\",\" es lo que separa a los elementos #sirve para ARCHIVOS .CSV\n",
    "#del string y hará sean nuevos elementos de una lista. Si se deja vacío (como arriba)\n",
    "# significa que operados espacio vació será con lo que separará"
   ]
  },
  {
   "cell_type": "code",
   "execution_count": null,
   "id": "19efe19d",
   "metadata": {},
   "outputs": [],
   "source": [
    "#queremos de lista a str"
   ]
  },
  {
   "cell_type": "code",
   "execution_count": 40,
   "id": "926de75e",
   "metadata": {},
   "outputs": [],
   "source": [
    "#lista a un string. *join* se puede hacer esto\n",
    "lista = [\"Esta\",\"es\",\"una\",\"lista\"]"
   ]
  },
  {
   "cell_type": "code",
   "execution_count": 41,
   "id": "1acb6a1a",
   "metadata": {},
   "outputs": [
    {
     "data": {
      "text/plain": [
       "list"
      ]
     },
     "execution_count": 41,
     "metadata": {},
     "output_type": "execute_result"
    }
   ],
   "source": [
    "type(lista)"
   ]
  },
  {
   "cell_type": "code",
   "execution_count": 42,
   "id": "e5b1ddfd",
   "metadata": {},
   "outputs": [
    {
     "data": {
      "text/plain": [
       "\"['Esta', 'es', 'una', 'lista']\""
      ]
     },
     "execution_count": 42,
     "metadata": {},
     "output_type": "execute_result"
    }
   ],
   "source": [
    "#esto no sirve para generar un enunciado a partir d elos elementos de una lista\n",
    "str(lista)"
   ]
  },
  {
   "cell_type": "code",
   "execution_count": 43,
   "id": "a6cc517a",
   "metadata": {},
   "outputs": [
    {
     "data": {
      "text/plain": [
       "'Esta_____es_____una_____lista'"
      ]
     },
     "execution_count": 43,
     "metadata": {},
     "output_type": "execute_result"
    }
   ],
   "source": [
    "mi_cadena = \"_____\".join(lista) #esto es un string, entonce el hacer \"join\" a \n",
    "#un caracter a un espacio me arroja los elementos de la lista como string separado \n",
    "# por espacios\n",
    "\n",
    "mi_cadena"
   ]
  },
  {
   "cell_type": "code",
   "execution_count": 45,
   "id": "f4765648",
   "metadata": {},
   "outputs": [
    {
     "data": {
      "text/plain": [
       "'Esta es una lista'"
      ]
     },
     "execution_count": 45,
     "metadata": {},
     "output_type": "execute_result"
    }
   ],
   "source": [
    "\" \".join(lista)"
   ]
  },
  {
   "cell_type": "code",
   "execution_count": 44,
   "id": "0165636a",
   "metadata": {},
   "outputs": [
    {
     "data": {
      "text/plain": [
       "str"
      ]
     },
     "execution_count": 44,
     "metadata": {},
     "output_type": "execute_result"
    }
   ],
   "source": [
    "type(mi_cadena)"
   ]
  },
  {
   "cell_type": "code",
   "execution_count": 46,
   "id": "66f9a9fe",
   "metadata": {},
   "outputs": [
    {
     "data": {
      "text/plain": [
       "'Esta_____es_____una_____lista'"
      ]
     },
     "execution_count": 46,
     "metadata": {},
     "output_type": "execute_result"
    }
   ],
   "source": [
    "mi_cadena"
   ]
  },
  {
   "cell_type": "code",
   "execution_count": 47,
   "id": "98a824f3",
   "metadata": {},
   "outputs": [
    {
     "data": {
      "text/plain": [
       "'Esta**es**una**lista'"
      ]
     },
     "execution_count": 47,
     "metadata": {},
     "output_type": "execute_result"
    }
   ],
   "source": [
    "'**'.join(lista)  #esto es un string, entonce el hacer \"join\" a \n",
    "#un caracter estrellas me arroja los elementos de la lista como string separado \n",
    "# por estrellas"
   ]
  },
  {
   "cell_type": "code",
   "execution_count": null,
   "id": "6dd58c06",
   "metadata": {},
   "outputs": [],
   "source": [
    "lista_enteros = [1,2,3,4]\n",
    "\n",
    "\" \".join(lista_enteros)"
   ]
  },
  {
   "cell_type": "markdown",
   "id": "618e63b4",
   "metadata": {},
   "source": [
    "Ejemplo 1. Onjetos mutables y copias (shallow copy)"
   ]
  },
  {
   "cell_type": "code",
   "execution_count": 48,
   "id": "3beaa2b6",
   "metadata": {},
   "outputs": [
    {
     "data": {
      "text/plain": [
       "['cambio', [2, 2], [3, 3]]"
      ]
     },
     "execution_count": 48,
     "metadata": {},
     "output_type": "execute_result"
    }
   ],
   "source": [
    "y = [[1,1], [2,2], [3,3]]\n",
    "\n",
    "x = y.copy()\n",
    "\n",
    "x[0] = \"cambio\"\n",
    "\n",
    "x"
   ]
  },
  {
   "cell_type": "code",
   "execution_count": 49,
   "id": "5e672773",
   "metadata": {},
   "outputs": [
    {
     "data": {
      "text/plain": [
       "[[1, 1], [2, 2], [3, 3]]"
      ]
     },
     "execution_count": 49,
     "metadata": {},
     "output_type": "execute_result"
    }
   ],
   "source": [
    "y"
   ]
  },
  {
   "cell_type": "markdown",
   "id": "b171aae9",
   "metadata": {},
   "source": [
    "Ejemplo 2. ¿cómo funciona realmente una copia de tipo shallow?"
   ]
  },
  {
   "cell_type": "code",
   "execution_count": 50,
   "id": "70319118",
   "metadata": {},
   "outputs": [
    {
     "data": {
      "text/plain": [
       "[[1, 'cambio'], [2, 2], [3, 3]]"
      ]
     },
     "execution_count": 50,
     "metadata": {},
     "output_type": "execute_result"
    }
   ],
   "source": [
    "y = [[1,1], [2,2], [3,3]]\n",
    "\n",
    "x = y.copy()\n",
    "\n",
    "x[0][1] = \"cambio\"\n",
    "\n",
    "x"
   ]
  },
  {
   "cell_type": "code",
   "execution_count": 51,
   "id": "32c1fd34",
   "metadata": {},
   "outputs": [
    {
     "data": {
      "text/plain": [
       "[[1, 'cambio'], [2, 2], [3, 3]]"
      ]
     },
     "execution_count": 51,
     "metadata": {},
     "output_type": "execute_result"
    }
   ],
   "source": [
    "y    # se haabrá modificado el valor de y??"
   ]
  },
  {
   "cell_type": "code",
   "execution_count": 52,
   "id": "7a384d67",
   "metadata": {},
   "outputs": [
    {
     "name": "stdout",
     "output_type": "stream",
     "text": [
      "4587947008 4588386624\n"
     ]
    }
   ],
   "source": [
    "## las variables x e y tienene distina ubicación de memoria (por haber hecho la copia) (lin 3)\n",
    "\n",
    "print(id(x), id(y))"
   ]
  },
  {
   "cell_type": "code",
   "execution_count": 53,
   "id": "b61584dc",
   "metadata": {},
   "outputs": [
    {
     "name": "stdout",
     "output_type": "stream",
     "text": [
      "4588412800 4588412800\n",
      "4588034240 4588034240\n",
      "4572442624 4572442624\n"
     ]
    }
   ],
   "source": [
    "##  ... pero cada elemento de la lista original sigue apuntando a la misma ubicación de memoria\n",
    "## esto se debe a que también son listas y admiten modificaciones\n",
    "\n",
    "print(id(x[0]), id(y[0]))\n",
    "print(id(x[1]), id(y[1]))\n",
    "print(id(x[2]), id(y[2]))"
   ]
  },
  {
   "cell_type": "code",
   "execution_count": 54,
   "id": "0f23589e",
   "metadata": {},
   "outputs": [],
   "source": [
    "import copy"
   ]
  },
  {
   "cell_type": "code",
   "execution_count": 55,
   "id": "c5f33f60",
   "metadata": {},
   "outputs": [
    {
     "name": "stdout",
     "output_type": "stream",
     "text": [
      "4588373376 4588354368\n",
      "4588409152 4588387328\n",
      "4588374080 4588387200\n",
      "4588378816 4588372096\n"
     ]
    }
   ],
   "source": [
    "y = [[1,1], [2,2], [3,3]]\n",
    "\n",
    "x = copy.deepcopy(y)\n",
    "\n",
    "print(id(x), id(y))\n",
    "\n",
    "print(id(x[0]), id(y[0]))\n",
    "print(id(x[1]), id(y[1]))\n",
    "print(id(x[2]), id(y[2]))\n",
    "\n"
   ]
  },
  {
   "cell_type": "code",
   "execution_count": 56,
   "id": "d1de9fde",
   "metadata": {},
   "outputs": [
    {
     "data": {
      "text/plain": [
       "[[1, 'otra cosa'], [2, 2], [3, 3]]"
      ]
     },
     "execution_count": 56,
     "metadata": {},
     "output_type": "execute_result"
    }
   ],
   "source": [
    "x[0][1] = \"otra cosa\"\n",
    "\n",
    "x"
   ]
  },
  {
   "cell_type": "code",
   "execution_count": 57,
   "id": "17caa761",
   "metadata": {},
   "outputs": [
    {
     "data": {
      "text/plain": [
       "[[1, 1], [2, 2], [3, 3]]"
      ]
     },
     "execution_count": 57,
     "metadata": {},
     "output_type": "execute_result"
    }
   ],
   "source": [
    "y"
   ]
  },
  {
   "cell_type": "markdown",
   "id": "dbb3fe10",
   "metadata": {},
   "source": [
    "> <h2 style=\"color:green\"> $\\ll\\!\\!\\prec\\quad$ Ejercicios $\\quad\\succ\\!\\!\\gg$ </h2>"
   ]
  },
  {
   "cell_type": "markdown",
   "id": "9ec5e021",
   "metadata": {},
   "source": [
    "1. Considerar la lista `numeros0` y calcular el valor promedio\n",
    "```python \n",
    "\n",
    "numeros0=[1,2,3,4,5,8,13]\n",
    "\n",
    "```"
   ]
  },
  {
   "cell_type": "markdown",
   "id": "ad524b89",
   "metadata": {},
   "source": [
    "2. Considerar la lista `numeros1` y calcular la suma del primer, último y el número en medio de la lista. (**nota**: El número de elementos en la lista es impar)\n",
    "\n",
    "```python\n",
    "\n",
    "numeros1=[0,7,20,11,1,17,4,13,9,0,12,18,5,10,8,0,10,6,19,19,10,9,4,4,18,18,0]\n",
    "\n",
    "```\n"
   ]
  },
  {
   "cell_type": "markdown",
   "id": "fc25dea3",
   "metadata": {},
   "source": [
    "\n",
    "\n",
    "3. Considerando `list1`, reemplaza cada elemento `\"a\"` por `\"*\"`\n",
    "```python\n",
    "list1=[\"a\",\"b\",\"a\",\"d\",\"a\",\"a\",\"c\"]\n",
    "```"
   ]
  },
  {
   "cell_type": "code",
   "execution_count": 60,
   "id": "fb207eea",
   "metadata": {},
   "outputs": [],
   "source": [
    "#1\n",
    "numeros0=[1,2,3,4,5,8,13]"
   ]
  },
  {
   "cell_type": "code",
   "execution_count": 62,
   "id": "a80bf7c3",
   "metadata": {},
   "outputs": [
    {
     "data": {
      "text/plain": [
       "5.142857142857143"
      ]
     },
     "execution_count": 62,
     "metadata": {},
     "output_type": "execute_result"
    }
   ],
   "source": [
    "sum(numeros0)/len(numeros0)"
   ]
  },
  {
   "cell_type": "code",
   "execution_count": 63,
   "id": "7e87c34b",
   "metadata": {},
   "outputs": [],
   "source": [
    "#2\n",
    "numeros1=[0,7,20,11,1,17,4,13,9,0,12,18,5,10,8,0,10,6,19,19,10,9,4,4,18,18,0]"
   ]
  },
  {
   "cell_type": "code",
   "execution_count": 68,
   "id": "9aa6cab0",
   "metadata": {},
   "outputs": [
    {
     "data": {
      "text/plain": [
       "10"
      ]
     },
     "execution_count": 68,
     "metadata": {},
     "output_type": "execute_result"
    }
   ],
   "source": [
    "numeros1[0] + numeros1[-1] + numeros1[len(numeros1) // 2] #div entera"
   ]
  },
  {
   "cell_type": "code",
   "execution_count": 72,
   "id": "fcf119ad",
   "metadata": {},
   "outputs": [
    {
     "data": {
      "text/plain": [
       "3"
      ]
     },
     "execution_count": 72,
     "metadata": {},
     "output_type": "execute_result"
    }
   ],
   "source": [
    "test = [1,2,3,4]\n",
    "test[len(test) // 2]"
   ]
  },
  {
   "cell_type": "code",
   "execution_count": 73,
   "id": "3d1bdec3",
   "metadata": {},
   "outputs": [],
   "source": [
    "#3\n",
    "list1=[\"a\",\"b\",\"a\",\"d\",\"a\",\"a\",\"c\"]"
   ]
  },
  {
   "cell_type": "code",
   "execution_count": 81,
   "id": "d4760fa4",
   "metadata": {},
   "outputs": [
    {
     "data": {
      "text/plain": [
       "'abadaac'"
      ]
     },
     "execution_count": 81,
     "metadata": {},
     "output_type": "execute_result"
    }
   ],
   "source": [
    "aux = \"\".join(list1)\n",
    "aux"
   ]
  },
  {
   "cell_type": "code",
   "execution_count": 82,
   "id": "58abd4f0",
   "metadata": {},
   "outputs": [
    {
     "data": {
      "text/plain": [
       "'*b*d**c'"
      ]
     },
     "execution_count": 82,
     "metadata": {},
     "output_type": "execute_result"
    }
   ],
   "source": [
    "aux = aux.replace(\"a\", \"*\") #si no hago la copia no sirve\n",
    "aux"
   ]
  },
  {
   "cell_type": "code",
   "execution_count": 83,
   "id": "d1783e54",
   "metadata": {},
   "outputs": [
    {
     "data": {
      "text/plain": [
       "['*', 'b', '*', 'd', '*', '*', 'c']"
      ]
     },
     "execution_count": 83,
     "metadata": {},
     "output_type": "execute_result"
    }
   ],
   "source": [
    "list(aux)"
   ]
  },
  {
   "cell_type": "markdown",
   "id": "6ff52136",
   "metadata": {},
   "source": [
    "## Tuplas $\\quad (\\ \\ )$\n",
    "Arreglo ordenado e **inmutable** de elementos. La tuplas no pueden modificar sus valores con append, removed, entre otros. "
   ]
  },
  {
   "cell_type": "code",
   "execution_count": 85,
   "id": "4269e261",
   "metadata": {},
   "outputs": [],
   "source": [
    "materias = (\"CALCULO\",\"FINANZAS\",\"OPTIMIZACION\",\"GEOMETRIA\",\"PROGRAMACION\",\"ESTADISTICA\")"
   ]
  },
  {
   "cell_type": "code",
   "execution_count": 86,
   "id": "75e6d01f",
   "metadata": {},
   "outputs": [
    {
     "data": {
      "text/plain": [
       "('CALCULO',\n",
       " 'FINANZAS',\n",
       " 'OPTIMIZACION',\n",
       " 'GEOMETRIA',\n",
       " 'PROGRAMACION',\n",
       " 'ESTADISTICA')"
      ]
     },
     "execution_count": 86,
     "metadata": {},
     "output_type": "execute_result"
    }
   ],
   "source": [
    "materias"
   ]
  },
  {
   "cell_type": "code",
   "execution_count": 87,
   "id": "088fb318",
   "metadata": {},
   "outputs": [
    {
     "data": {
      "text/plain": [
       "tuple"
      ]
     },
     "execution_count": 87,
     "metadata": {},
     "output_type": "execute_result"
    }
   ],
   "source": [
    "type(materias)"
   ]
  },
  {
   "cell_type": "code",
   "execution_count": 88,
   "id": "c33def37",
   "metadata": {},
   "outputs": [
    {
     "data": {
      "text/plain": [
       "['__add__',\n",
       " '__class__',\n",
       " '__class_getitem__',\n",
       " '__contains__',\n",
       " '__delattr__',\n",
       " '__dir__',\n",
       " '__doc__',\n",
       " '__eq__',\n",
       " '__format__',\n",
       " '__ge__',\n",
       " '__getattribute__',\n",
       " '__getitem__',\n",
       " '__getnewargs__',\n",
       " '__getstate__',\n",
       " '__gt__',\n",
       " '__hash__',\n",
       " '__init__',\n",
       " '__init_subclass__',\n",
       " '__iter__',\n",
       " '__le__',\n",
       " '__len__',\n",
       " '__lt__',\n",
       " '__mul__',\n",
       " '__ne__',\n",
       " '__new__',\n",
       " '__reduce__',\n",
       " '__reduce_ex__',\n",
       " '__repr__',\n",
       " '__rmul__',\n",
       " '__setattr__',\n",
       " '__sizeof__',\n",
       " '__str__',\n",
       " '__subclasshook__',\n",
       " 'count',\n",
       " 'index']"
      ]
     },
     "execution_count": 88,
     "metadata": {},
     "output_type": "execute_result"
    }
   ],
   "source": [
    "dir(materias)"
   ]
  },
  {
   "cell_type": "markdown",
   "id": "6a21bc16",
   "metadata": {},
   "source": [
    "## Propiedades y por qué usarlas. "
   ]
  },
  {
   "cell_type": "code",
   "execution_count": 89,
   "id": "5c68ae14",
   "metadata": {},
   "outputs": [
    {
     "data": {
      "text/plain": [
       "'CALCULO'"
      ]
     },
     "execution_count": 89,
     "metadata": {},
     "output_type": "execute_result"
    }
   ],
   "source": [
    "#podemos seguir usando la notacion de slicing / indexado en una tupla\n",
    "materias[0]"
   ]
  },
  {
   "cell_type": "code",
   "execution_count": 90,
   "id": "207882b4",
   "metadata": {},
   "outputs": [
    {
     "ename": "TypeError",
     "evalue": "'tuple' object does not support item assignment",
     "output_type": "error",
     "traceback": [
      "\u001b[0;31m---------------------------------------------------------------------------\u001b[0m",
      "\u001b[0;31mTypeError\u001b[0m                                 Traceback (most recent call last)",
      "Cell \u001b[0;32mIn[90], line 1\u001b[0m\n\u001b[0;32m----> 1\u001b[0m materias[\u001b[38;5;241m0\u001b[39m] \u001b[38;5;241m=\u001b[39m \u001b[38;5;124m\"\u001b[39m\u001b[38;5;124mPROBABILIDAD\u001b[39m\u001b[38;5;124m\"\u001b[39m\n",
      "\u001b[0;31mTypeError\u001b[0m: 'tuple' object does not support item assignment"
     ]
    }
   ],
   "source": [
    "#no podemos modificar los elementos dentro de una tupla\n",
    "materias[0] = \"PROBABILIDAD\""
   ]
  },
  {
   "cell_type": "code",
   "execution_count": 91,
   "id": "198fc67a",
   "metadata": {},
   "outputs": [
    {
     "data": {
      "text/plain": [
       "list"
      ]
     },
     "execution_count": 91,
     "metadata": {},
     "output_type": "execute_result"
    }
   ],
   "source": [
    "type([1])"
   ]
  },
  {
   "cell_type": "code",
   "execution_count": 92,
   "id": "a4cbbe14",
   "metadata": {},
   "outputs": [
    {
     "data": {
      "text/plain": [
       "str"
      ]
     },
     "execution_count": 92,
     "metadata": {},
     "output_type": "execute_result"
    }
   ],
   "source": [
    "type((\"hola\"))"
   ]
  },
  {
   "cell_type": "code",
   "execution_count": 93,
   "id": "89a79e05",
   "metadata": {},
   "outputs": [
    {
     "data": {
      "text/plain": [
       "str"
      ]
     },
     "execution_count": 93,
     "metadata": {},
     "output_type": "execute_result"
    }
   ],
   "source": [
    "#Cuando una tupla tiene un sólo valor\n",
    "type(('hola'))"
   ]
  },
  {
   "cell_type": "code",
   "execution_count": 95,
   "id": "ebbe1b03",
   "metadata": {},
   "outputs": [
    {
     "data": {
      "text/plain": [
       "tuple"
      ]
     },
     "execution_count": 95,
     "metadata": {},
     "output_type": "execute_result"
    }
   ],
   "source": [
    "type(('hola',)) #poner comita para la tupla"
   ]
  },
  {
   "cell_type": "code",
   "execution_count": 96,
   "id": "4fd6e12e",
   "metadata": {},
   "outputs": [
    {
     "data": {
      "text/plain": [
       "6"
      ]
     },
     "execution_count": 96,
     "metadata": {},
     "output_type": "execute_result"
    }
   ],
   "source": [
    "len(materias)"
   ]
  },
  {
   "cell_type": "markdown",
   "id": "2f7f04e0",
   "metadata": {},
   "source": [
    "Las tuplas son más rápidas que las listas porque tienen un conjunto de valores que no se mueven. Las tuplas pueden ser usadas como llaves de diccionarios porque tienen valores que no camian como strings, números etc. \n",
    "\n",
    "Siempre que quieren utiilizar una secuencia de valores que saben que no quieren que cambien se recomienda utilizar tuplas. "
   ]
  },
  {
   "cell_type": "code",
   "execution_count": 97,
   "id": "c8fd4dce",
   "metadata": {},
   "outputs": [],
   "source": [
    "#Relación listas y tuplas"
   ]
  },
  {
   "cell_type": "code",
   "execution_count": 98,
   "id": "9e3f4c40",
   "metadata": {},
   "outputs": [
    {
     "data": {
      "text/plain": [
       "('CALCULO', 'ALGEBRA')"
      ]
     },
     "execution_count": 98,
     "metadata": {},
     "output_type": "execute_result"
    }
   ],
   "source": [
    "#Convertir tipos con list() y tuple()\n",
    "tuple([\"CALCULO\",\"ALGEBRA\"]) #casteando la lista"
   ]
  },
  {
   "cell_type": "code",
   "execution_count": 99,
   "id": "6e121a5a",
   "metadata": {},
   "outputs": [],
   "source": [
    "##str, int, float, bool, list, tuple,"
   ]
  },
  {
   "cell_type": "code",
   "execution_count": 100,
   "id": "147a6500",
   "metadata": {},
   "outputs": [
    {
     "data": {
      "text/plain": [
       "['__add__',\n",
       " '__class__',\n",
       " '__class_getitem__',\n",
       " '__contains__',\n",
       " '__delattr__',\n",
       " '__dir__',\n",
       " '__doc__',\n",
       " '__eq__',\n",
       " '__format__',\n",
       " '__ge__',\n",
       " '__getattribute__',\n",
       " '__getitem__',\n",
       " '__getnewargs__',\n",
       " '__getstate__',\n",
       " '__gt__',\n",
       " '__hash__',\n",
       " '__init__',\n",
       " '__init_subclass__',\n",
       " '__iter__',\n",
       " '__le__',\n",
       " '__len__',\n",
       " '__lt__',\n",
       " '__mul__',\n",
       " '__ne__',\n",
       " '__new__',\n",
       " '__reduce__',\n",
       " '__reduce_ex__',\n",
       " '__repr__',\n",
       " '__rmul__',\n",
       " '__setattr__',\n",
       " '__sizeof__',\n",
       " '__str__',\n",
       " '__subclasshook__',\n",
       " 'count',\n",
       " 'index']"
      ]
     },
     "execution_count": 100,
     "metadata": {},
     "output_type": "execute_result"
    }
   ],
   "source": [
    "dir(tuple([\"CALCULO\",\"ALGEBRA\"])) #ver que el elemento sí es una tupla y vimos sus funciones"
   ]
  },
  {
   "cell_type": "code",
   "execution_count": 101,
   "id": "87208f7c",
   "metadata": {},
   "outputs": [
    {
     "data": {
      "text/plain": [
       "['CALCULA', 'ALGEBRA']"
      ]
     },
     "execution_count": 101,
     "metadata": {},
     "output_type": "execute_result"
    }
   ],
   "source": [
    "list((\"CALCULA\",\"ALGEBRA\"))"
   ]
  },
  {
   "cell_type": "code",
   "execution_count": 103,
   "id": "631c8810",
   "metadata": {},
   "outputs": [
    {
     "data": {
      "text/plain": [
       "['__add__',\n",
       " '__class__',\n",
       " '__class_getitem__',\n",
       " '__contains__',\n",
       " '__delattr__',\n",
       " '__delitem__',\n",
       " '__dir__',\n",
       " '__doc__',\n",
       " '__eq__',\n",
       " '__format__',\n",
       " '__ge__',\n",
       " '__getattribute__',\n",
       " '__getitem__',\n",
       " '__getstate__',\n",
       " '__gt__',\n",
       " '__hash__',\n",
       " '__iadd__',\n",
       " '__imul__',\n",
       " '__init__',\n",
       " '__init_subclass__',\n",
       " '__iter__',\n",
       " '__le__',\n",
       " '__len__',\n",
       " '__lt__',\n",
       " '__mul__',\n",
       " '__ne__',\n",
       " '__new__',\n",
       " '__reduce__',\n",
       " '__reduce_ex__',\n",
       " '__repr__',\n",
       " '__reversed__',\n",
       " '__rmul__',\n",
       " '__setattr__',\n",
       " '__setitem__',\n",
       " '__sizeof__',\n",
       " '__str__',\n",
       " '__subclasshook__',\n",
       " 'append',\n",
       " 'clear',\n",
       " 'copy',\n",
       " 'count',\n",
       " 'extend',\n",
       " 'index',\n",
       " 'insert',\n",
       " 'pop',\n",
       " 'remove',\n",
       " 'reverse',\n",
       " 'sort']"
      ]
     },
     "execution_count": 103,
     "metadata": {},
     "output_type": "execute_result"
    }
   ],
   "source": [
    "dir(list((\"CALCULA\",\"ALGEBRA\"))) #ver que el elemento sí es una lista "
   ]
  },
  {
   "cell_type": "markdown",
   "id": "705aa6c7",
   "metadata": {},
   "source": [
    "Una variable que contiene una tupla o un string se puede sobrescribir con una nueva tupla o string, pero esto no es lo mismo que modificar el valor existente en su lugar, como, por ejemplo, los métodos append() o remove() de las listas. "
   ]
  },
  {
   "cell_type": "code",
   "execution_count": null,
   "id": "32abab93",
   "metadata": {},
   "outputs": [],
   "source": [
    "#declarar elemento por elemento\n",
    "#declarando elementos a partir de una tupla. "
   ]
  },
  {
   "cell_type": "code",
   "execution_count": 102,
   "id": "acc40acd",
   "metadata": {},
   "outputs": [
    {
     "data": {
      "text/plain": [
       "tuple"
      ]
     },
     "execution_count": 102,
     "metadata": {},
     "output_type": "execute_result"
    }
   ],
   "source": [
    "type((10,15,29))"
   ]
  },
  {
   "cell_type": "code",
   "execution_count": 104,
   "id": "e412f0ef",
   "metadata": {},
   "outputs": [],
   "source": [
    "strike1, strike2, strike3 = (10.0, 15, 29)  # incializar varias variables a la vez se puede hacer con listas y tuplas"
   ]
  },
  {
   "cell_type": "code",
   "execution_count": 105,
   "id": "a82f0a08",
   "metadata": {},
   "outputs": [
    {
     "data": {
      "text/plain": [
       "10.0"
      ]
     },
     "execution_count": 105,
     "metadata": {},
     "output_type": "execute_result"
    }
   ],
   "source": [
    "strike1"
   ]
  },
  {
   "cell_type": "code",
   "execution_count": 106,
   "id": "d0966a32",
   "metadata": {},
   "outputs": [
    {
     "data": {
      "text/plain": [
       "15"
      ]
     },
     "execution_count": 106,
     "metadata": {},
     "output_type": "execute_result"
    }
   ],
   "source": [
    "strike2"
   ]
  },
  {
   "cell_type": "code",
   "execution_count": 107,
   "id": "0cbbf5ee",
   "metadata": {},
   "outputs": [
    {
     "data": {
      "text/plain": [
       "29"
      ]
     },
     "execution_count": 107,
     "metadata": {},
     "output_type": "execute_result"
    }
   ],
   "source": [
    "strike3"
   ]
  },
  {
   "cell_type": "code",
   "execution_count": 108,
   "id": "af3102b9",
   "metadata": {
    "scrolled": true
   },
   "outputs": [
    {
     "data": {
      "text/plain": [
       "int"
      ]
     },
     "execution_count": 108,
     "metadata": {},
     "output_type": "execute_result"
    }
   ],
   "source": [
    "type(strike2)"
   ]
  },
  {
   "cell_type": "code",
   "execution_count": 115,
   "id": "42084c9a",
   "metadata": {},
   "outputs": [
    {
     "name": "stdout",
     "output_type": "stream",
     "text": [
      "id original de la lista: 4597160384\n"
     ]
    }
   ],
   "source": [
    "# pregunta capsiosa\n",
    "\n",
    "my_list = [1,3]\n",
    "\n",
    "print(f\"id original de la lista: {id(my_list)}\")\n",
    "\n",
    "a = (1, 2, \"a\", my_list.copy(), 4)\n"
   ]
  },
  {
   "cell_type": "code",
   "execution_count": 116,
   "id": "ebf94b66",
   "metadata": {},
   "outputs": [
    {
     "data": {
      "text/plain": [
       "(1, 2, 'a', [1, 3], 4)"
      ]
     },
     "execution_count": 116,
     "metadata": {},
     "output_type": "execute_result"
    }
   ],
   "source": [
    "a"
   ]
  },
  {
   "cell_type": "code",
   "execution_count": 117,
   "id": "0fd16dac",
   "metadata": {},
   "outputs": [
    {
     "data": {
      "text/plain": [
       "[1, 3, 5]"
      ]
     },
     "execution_count": 117,
     "metadata": {},
     "output_type": "execute_result"
    }
   ],
   "source": [
    "my_list.append(5)\n",
    "my_list"
   ]
  },
  {
   "cell_type": "code",
   "execution_count": 118,
   "id": "e2493a0b",
   "metadata": {},
   "outputs": [
    {
     "data": {
      "text/plain": [
       "(1, 2, 'a', [1, 3], 4)"
      ]
     },
     "execution_count": 118,
     "metadata": {},
     "output_type": "execute_result"
    }
   ],
   "source": [
    "a"
   ]
  },
  {
   "cell_type": "code",
   "execution_count": 119,
   "id": "c04e9db4",
   "metadata": {},
   "outputs": [
    {
     "name": "stdout",
     "output_type": "stream",
     "text": [
      "id nuevo de la lista: 4595980992\n"
     ]
    }
   ],
   "source": [
    "my_list = tuple(my_list)\n",
    "\n",
    "print(f\"id nuevo de la lista: {id(my_list)}\")\n"
   ]
  },
  {
   "cell_type": "code",
   "execution_count": 120,
   "id": "100b27f5",
   "metadata": {
    "scrolled": true
   },
   "outputs": [
    {
     "data": {
      "text/plain": [
       "(1, 2, 'a', [1, 3], 4)"
      ]
     },
     "execution_count": 120,
     "metadata": {},
     "output_type": "execute_result"
    }
   ],
   "source": [
    "a"
   ]
  },
  {
   "cell_type": "code",
   "execution_count": 121,
   "id": "1344cda9",
   "metadata": {
    "scrolled": true
   },
   "outputs": [
    {
     "name": "stdout",
     "output_type": "stream",
     "text": [
      "Variable        Type      Data/Info\n",
      "-----------------------------------\n",
      "a               tuple     n=5\n",
      "aux             str       *b*d**c\n",
      "b               str       adios\n",
      "cientificos     list      n=8\n",
      "cientificos2    list      n=8\n",
      "copy            module    <module 'copy' from '/Use<...>/lib/python3.11/copy.py'>\n",
      "extraccion      str       nueva materia\n",
      "fisicos         list      n=3\n",
      "list1           list      n=7\n",
      "lista           list      n=4\n",
      "matematicos     list      n=4\n",
      "materias        tuple     n=6\n",
      "mi_cadena       str       Esta_____es_____una_____lista\n",
      "my_list         tuple     n=3\n",
      "nueva_materia   str       BIOLOGIA2\n",
      "numeros0        list      n=7\n",
      "numeros1        list      n=27\n",
      "palabra         str       erg dg dg\n",
      "str_list        str       ['a', 'b', 'a', 'd', 'a', 'a', 'c']\n",
      "strike1         float     10.0\n",
      "strike2         int       15\n",
      "strike3         int       29\n",
      "test            list      n=4\n",
      "x               list      n=3\n",
      "y               list      n=3\n"
     ]
    }
   ],
   "source": [
    "%whos"
   ]
  },
  {
   "cell_type": "code",
   "execution_count": 122,
   "id": "07e4c3b7",
   "metadata": {},
   "outputs": [
    {
     "data": {
      "text/plain": [
       "[1, 2, (1, 2, 'a', [1, 3], 4)]"
      ]
     },
     "execution_count": 122,
     "metadata": {},
     "output_type": "execute_result"
    }
   ],
   "source": [
    "a = [1, 2, a]\n",
    "a"
   ]
  },
  {
   "cell_type": "markdown",
   "id": "10526ebc",
   "metadata": {},
   "source": [
    "## Rangos\n",
    "\n",
    "Son un tipo de clase iterable que representa una secuencia de números inmutable. Estos los utilizamos en mayor medida en ciclos `for`"
   ]
  },
  {
   "cell_type": "code",
   "execution_count": 130,
   "id": "e188ca47",
   "metadata": {},
   "outputs": [],
   "source": [
    "#por default el inicio es 0 y el paso es 1"
   ]
  },
  {
   "cell_type": "code",
   "execution_count": 123,
   "id": "78603f6a",
   "metadata": {},
   "outputs": [
    {
     "data": {
      "text/plain": [
       "range(5, 20, 2)"
      ]
     },
     "execution_count": 123,
     "metadata": {},
     "output_type": "execute_result"
    }
   ],
   "source": [
    "range(5,20,2)    ##   [inicio : fin : paso] siempre enteros"
   ]
  },
  {
   "cell_type": "code",
   "execution_count": 124,
   "id": "8dad1b6c",
   "metadata": {},
   "outputs": [
    {
     "data": {
      "text/plain": [
       "[5, 7, 9, 11, 13, 15, 17, 19]"
      ]
     },
     "execution_count": 124,
     "metadata": {},
     "output_type": "execute_result"
    }
   ],
   "source": [
    "list(range(5,20,2))   ## range(inicio, fin, paso)"
   ]
  },
  {
   "cell_type": "code",
   "execution_count": 125,
   "id": "3d03ec0c",
   "metadata": {},
   "outputs": [
    {
     "data": {
      "text/plain": [
       "range"
      ]
     },
     "execution_count": 125,
     "metadata": {},
     "output_type": "execute_result"
    }
   ],
   "source": [
    "## range(incio, fin, paso)\n",
    "a = range(1, 12, 2)\n",
    "\n",
    "type(a)"
   ]
  },
  {
   "cell_type": "code",
   "execution_count": 126,
   "id": "bd0cee90",
   "metadata": {},
   "outputs": [
    {
     "data": {
      "text/plain": [
       "[0, 2, 4, 6, 8]"
      ]
     },
     "execution_count": 126,
     "metadata": {},
     "output_type": "execute_result"
    }
   ],
   "source": [
    "list(range(0, 10, 2)) #para verlos hay que castearlos a una lista"
   ]
  },
  {
   "cell_type": "code",
   "execution_count": 127,
   "id": "f53ae431",
   "metadata": {},
   "outputs": [
    {
     "data": {
      "text/plain": [
       "range(1, 12, 2)"
      ]
     },
     "execution_count": 127,
     "metadata": {},
     "output_type": "execute_result"
    }
   ],
   "source": [
    "a"
   ]
  },
  {
   "cell_type": "code",
   "execution_count": 128,
   "id": "578c4157",
   "metadata": {
    "scrolled": true
   },
   "outputs": [
    {
     "data": {
      "text/plain": [
       "(1, 3, 5, 7, 9, 11)"
      ]
     },
     "execution_count": 128,
     "metadata": {},
     "output_type": "execute_result"
    }
   ],
   "source": [
    "tuple(a)"
   ]
  },
  {
   "cell_type": "code",
   "execution_count": 129,
   "id": "cdf6d6bc",
   "metadata": {
    "scrolled": true
   },
   "outputs": [
    {
     "data": {
      "text/plain": [
       "[0,\n",
       " 1,\n",
       " 2,\n",
       " 3,\n",
       " 4,\n",
       " 5,\n",
       " 6,\n",
       " 7,\n",
       " 8,\n",
       " 9,\n",
       " 10,\n",
       " 11,\n",
       " 12,\n",
       " 13,\n",
       " 14,\n",
       " 15,\n",
       " 16,\n",
       " 17,\n",
       " 18,\n",
       " 19,\n",
       " 20,\n",
       " 21,\n",
       " 22,\n",
       " 23,\n",
       " 24,\n",
       " 25,\n",
       " 26,\n",
       " 27,\n",
       " 28,\n",
       " 29,\n",
       " 30,\n",
       " 31,\n",
       " 32,\n",
       " 33,\n",
       " 34,\n",
       " 35,\n",
       " 36,\n",
       " 37,\n",
       " 38,\n",
       " 39,\n",
       " 40,\n",
       " 41,\n",
       " 42,\n",
       " 43]"
      ]
     },
     "execution_count": 129,
     "metadata": {},
     "output_type": "execute_result"
    }
   ],
   "source": [
    "cadena = \"asfh  sfg f sht dth sf tg fb sdgasd fasrt df\"\n",
    "\n",
    "## crear una lista del cero hasta el número de elementos menos 1 de la cadena de arriba\n",
    "\n",
    "list(range(0, len(cadena)))"
   ]
  },
  {
   "cell_type": "markdown",
   "id": "41ac2f4d",
   "metadata": {},
   "source": [
    "## Diccionarios $\\quad \\{\\ \\ \\}$\n"
   ]
  },
  {
   "cell_type": "markdown",
   "id": "bb00349c",
   "metadata": {},
   "source": [
    "Hasta el momento hemos visto coleeciones de elementos ordenador por un índice y número. Ahora veremos otra clase de objetos, los **diccionarios**, los cuales son listas asociativas indexadas por una llave, no tienen orden. \n",
    "\n",
    "La sintáxis de un diccionario: \n",
    "\n",
    "```python \n",
    "{llave_1:valor1,\n",
    "llave_2:valor2,\n",
    "...,\n",
    "llave_n:valorn}\n",
    "\n",
    "```\n"
   ]
  },
  {
   "cell_type": "markdown",
   "id": "d260d55c",
   "metadata": {},
   "source": [
    "Como una lista, un diccionario es una colección **mutable** de muchos valores. A diferencia de las listas, los índices para diccionarios pueden usar **muchos** tipos de diferentes valores, no sólo enteros. Los índices de diccionarios son llaves, y cada llave tiene asociado un valor. Los diccionarios pueden usar valores eneteros como llaves al igual que las listas usan enterors para los índices, pero no tienen porque empezar 0, pueden empezar en cualquier número"
   ]
  },
  {
   "cell_type": "markdown",
   "id": "b2c5a1d7",
   "metadata": {},
   "source": [
    "#### ¿Por qué usaríamos un diccionario y no una lista?\n",
    "1. Diccionarios son útiles porque pueden asociar un item(llave) a otro (value), a diferencia de las listas que contienen únicamente una serie de valores ordenados. \n",
    "2. Los diccionarios, a diferencia de las listas (que tienen enteros como indices) pueden tener llaves que sean enteros, flotantes, strings y tuplas.  (también diccionarios pueden tener diferentes valores)"
   ]
  },
  {
   "cell_type": "markdown",
   "id": "ce7053c2",
   "metadata": {},
   "source": [
    "Ejemplo con un diccionario de personas: "
   ]
  },
  {
   "cell_type": "code",
   "execution_count": 131,
   "id": "88c80d42",
   "metadata": {},
   "outputs": [
    {
     "data": {
      "text/plain": [
       "{1: 'uno', 2: 'dos', 3: 'tres'}"
      ]
     },
     "execution_count": 131,
     "metadata": {},
     "output_type": "execute_result"
    }
   ],
   "source": [
    "my_dict = {1:\"uno\", 2:\"dos\", 3:\"tres\"}\n",
    "my_dict"
   ]
  },
  {
   "cell_type": "code",
   "execution_count": 132,
   "id": "69c1f08a",
   "metadata": {},
   "outputs": [
    {
     "data": {
      "text/plain": [
       "dict"
      ]
     },
     "execution_count": 132,
     "metadata": {},
     "output_type": "execute_result"
    }
   ],
   "source": [
    "type(my_dict) #mutable y no tiene orden"
   ]
  },
  {
   "cell_type": "code",
   "execution_count": 133,
   "id": "924bccc2",
   "metadata": {},
   "outputs": [
    {
     "data": {
      "text/plain": [
       "['__class__',\n",
       " '__class_getitem__',\n",
       " '__contains__',\n",
       " '__delattr__',\n",
       " '__delitem__',\n",
       " '__dir__',\n",
       " '__doc__',\n",
       " '__eq__',\n",
       " '__format__',\n",
       " '__ge__',\n",
       " '__getattribute__',\n",
       " '__getitem__',\n",
       " '__getstate__',\n",
       " '__gt__',\n",
       " '__hash__',\n",
       " '__init__',\n",
       " '__init_subclass__',\n",
       " '__ior__',\n",
       " '__iter__',\n",
       " '__le__',\n",
       " '__len__',\n",
       " '__lt__',\n",
       " '__ne__',\n",
       " '__new__',\n",
       " '__or__',\n",
       " '__reduce__',\n",
       " '__reduce_ex__',\n",
       " '__repr__',\n",
       " '__reversed__',\n",
       " '__ror__',\n",
       " '__setattr__',\n",
       " '__setitem__',\n",
       " '__sizeof__',\n",
       " '__str__',\n",
       " '__subclasshook__',\n",
       " 'clear',\n",
       " 'copy',\n",
       " 'fromkeys',\n",
       " 'get',\n",
       " 'items',\n",
       " 'keys',\n",
       " 'pop',\n",
       " 'popitem',\n",
       " 'setdefault',\n",
       " 'update',\n",
       " 'values']"
      ]
     },
     "execution_count": 133,
     "metadata": {},
     "output_type": "execute_result"
    }
   ],
   "source": [
    "dir(my_dict)"
   ]
  },
  {
   "cell_type": "code",
   "execution_count": 134,
   "id": "56c031e1",
   "metadata": {},
   "outputs": [
    {
     "data": {
      "text/plain": [
       "'tres'"
      ]
     },
     "execution_count": 134,
     "metadata": {},
     "output_type": "execute_result"
    }
   ],
   "source": [
    "my_dict[3]  # cuál es el valor al que apunta la llave 3"
   ]
  },
  {
   "cell_type": "code",
   "execution_count": 135,
   "id": "355ce8e8",
   "metadata": {},
   "outputs": [
    {
     "ename": "KeyError",
     "evalue": "0",
     "output_type": "error",
     "traceback": [
      "\u001b[0;31m---------------------------------------------------------------------------\u001b[0m",
      "\u001b[0;31mKeyError\u001b[0m                                  Traceback (most recent call last)",
      "Cell \u001b[0;32mIn[135], line 1\u001b[0m\n\u001b[0;32m----> 1\u001b[0m my_dict[\u001b[38;5;241m0\u001b[39m]\n",
      "\u001b[0;31mKeyError\u001b[0m: 0"
     ]
    }
   ],
   "source": [
    "my_dict[0] #no está el diccionario"
   ]
  },
  {
   "cell_type": "code",
   "execution_count": 136,
   "id": "849c1b08",
   "metadata": {},
   "outputs": [],
   "source": [
    "calificaciones = {23445:\"NA\", \"ana\":9, \"luis\":8.4, \"jorge\":9.2, \"desconocido\":0}"
   ]
  },
  {
   "cell_type": "code",
   "execution_count": 137,
   "id": "f20b9ba0",
   "metadata": {},
   "outputs": [
    {
     "data": {
      "text/plain": [
       "'NA'"
      ]
     },
     "execution_count": 137,
     "metadata": {},
     "output_type": "execute_result"
    }
   ],
   "source": [
    "calificaciones[23445]"
   ]
  },
  {
   "cell_type": "code",
   "execution_count": 138,
   "id": "a84a61a4",
   "metadata": {},
   "outputs": [
    {
     "data": {
      "text/plain": [
       "9"
      ]
     },
     "execution_count": 138,
     "metadata": {},
     "output_type": "execute_result"
    }
   ],
   "source": [
    "calificaciones[\"ana\"]"
   ]
  },
  {
   "cell_type": "code",
   "execution_count": 139,
   "id": "1abf35fa",
   "metadata": {},
   "outputs": [],
   "source": [
    "#primero veremos una lista y luego en diccionario. \n",
    "\n",
    "alumnos = [\n",
    "    \n",
    "    [\"José\",11,\"rojo\",\"Administración\"],\n",
    "       [\"Charlie\",40,\"azul\",\"Actuaría\"],\n",
    "       [\"Luis\",23,\"blanco\",\"Mate\"],\n",
    "       [\"Pedro\",18,\"gris\",\"Física\"]\n",
    "    \n",
    "    \n",
    "]"
   ]
  },
  {
   "cell_type": "code",
   "execution_count": 140,
   "id": "078df31d",
   "metadata": {},
   "outputs": [
    {
     "data": {
      "text/plain": [
       "[['José', 11, 'rojo', 'Administración'],\n",
       " ['Charlie', 40, 'azul', 'Actuaría'],\n",
       " ['Luis', 23, 'blanco', 'Mate'],\n",
       " ['Pedro', 18, 'gris', 'Física']]"
      ]
     },
     "execution_count": 140,
     "metadata": {},
     "output_type": "execute_result"
    }
   ],
   "source": [
    "alumnos"
   ]
  },
  {
   "cell_type": "code",
   "execution_count": 141,
   "id": "80f90d03",
   "metadata": {},
   "outputs": [
    {
     "data": {
      "text/plain": [
       "list"
      ]
     },
     "execution_count": 141,
     "metadata": {},
     "output_type": "execute_result"
    }
   ],
   "source": [
    "type(alumnos)"
   ]
  },
  {
   "cell_type": "code",
   "execution_count": 142,
   "id": "51eb94fe",
   "metadata": {},
   "outputs": [
    {
     "data": {
      "text/plain": [
       "['José', 11, 'rojo', 'Administración']"
      ]
     },
     "execution_count": 142,
     "metadata": {},
     "output_type": "execute_result"
    }
   ],
   "source": [
    "alumnos[0]"
   ]
  },
  {
   "cell_type": "code",
   "execution_count": 143,
   "id": "ea0f6a4a",
   "metadata": {},
   "outputs": [
    {
     "data": {
      "text/plain": [
       "11"
      ]
     },
     "execution_count": 143,
     "metadata": {},
     "output_type": "execute_result"
    }
   ],
   "source": [
    "alumnos[0][1]  # edad del primer alumno"
   ]
  },
  {
   "cell_type": "code",
   "execution_count": 144,
   "id": "87012f60",
   "metadata": {},
   "outputs": [
    {
     "data": {
      "text/plain": [
       "'Mate'"
      ]
     },
     "execution_count": 144,
     "metadata": {},
     "output_type": "execute_result"
    }
   ],
   "source": [
    "alumnos[2][3]"
   ]
  },
  {
   "cell_type": "markdown",
   "id": "53e00493",
   "metadata": {},
   "source": [
    "¿Cómo encontrarían la edad del tercer estudiante?"
   ]
  },
  {
   "cell_type": "code",
   "execution_count": 145,
   "id": "2b79bc51",
   "metadata": {},
   "outputs": [
    {
     "data": {
      "text/plain": [
       "['Luis', 23, 'blanco', 'Mate']"
      ]
     },
     "execution_count": 145,
     "metadata": {},
     "output_type": "execute_result"
    }
   ],
   "source": [
    "alumnos[2]"
   ]
  },
  {
   "cell_type": "code",
   "execution_count": 146,
   "id": "98e70f62",
   "metadata": {},
   "outputs": [
    {
     "data": {
      "text/plain": [
       "23"
      ]
     },
     "execution_count": 146,
     "metadata": {},
     "output_type": "execute_result"
    }
   ],
   "source": [
    "alumnos[2][1]"
   ]
  },
  {
   "cell_type": "code",
   "execution_count": null,
   "id": "e4751175",
   "metadata": {},
   "outputs": [],
   "source": [
    "# Ahora vamos a verlo en diccionario"
   ]
  },
  {
   "cell_type": "code",
   "execution_count": 147,
   "id": "b0d7c229",
   "metadata": {},
   "outputs": [],
   "source": [
    "\n",
    "\n",
    "##   { key_1 : valor_1,  key_2 : valor_2, ... }\n",
    "\n",
    "alumnos = {\n",
    "    \"José\"    : [11,\"rojo\",\"Administración\"],\n",
    "    \"Charlie\" : [40,\"azul\",\"Actuaría\"],\n",
    "    \"Luis\"    : [23,\"blanco\",\"Mate\"],\n",
    "    \"Pedro\"   : [18,\"gris\",\"Física\"],\n",
    "    \"José\"    : [18,\"gris\",\"Física\"]\n",
    "}"
   ]
  },
  {
   "cell_type": "code",
   "execution_count": 148,
   "id": "2c44e8ba",
   "metadata": {},
   "outputs": [
    {
     "data": {
      "text/plain": [
       "[23, 'blanco', 'Mate']"
      ]
     },
     "execution_count": 148,
     "metadata": {},
     "output_type": "execute_result"
    }
   ],
   "source": [
    "alumnos[\"Luis\"]"
   ]
  },
  {
   "cell_type": "code",
   "execution_count": 149,
   "id": "da152c2f",
   "metadata": {},
   "outputs": [
    {
     "data": {
      "text/plain": [
       "'Mate'"
      ]
     },
     "execution_count": 149,
     "metadata": {},
     "output_type": "execute_result"
    }
   ],
   "source": [
    "alumnos[\"Luis\"][-1]"
   ]
  },
  {
   "cell_type": "code",
   "execution_count": 150,
   "id": "87b8673d",
   "metadata": {},
   "outputs": [],
   "source": [
    "#mostrar que las llaves pueden ser strings, enteros, flotantes y/o tuplas\n",
    "\n",
    "prueba1={\n",
    "    \n",
    "    \"José\":     [11,\"rojo\",\"Administración\"],\n",
    "    \"Charlie\":  [40,\"azul\",\"Actuaría\"],\n",
    "    \"Luis\":     [23,\"blanco\",\"Mate\"],\n",
    "    \"Pedro\":    [18,\"gris\",\"Física\"],\n",
    "    3:          [18,\"Física\"],\n",
    "     3.1:       (1,2,3),\n",
    "    (\"Pedro\",): [18,\"gris\",\"Física\"],\n",
    "    \"José\":     [11,\"azul\",\"Administración\"]\n",
    "    \n",
    "}"
   ]
  },
  {
   "cell_type": "code",
   "execution_count": 151,
   "id": "cd787f06",
   "metadata": {},
   "outputs": [
    {
     "data": {
      "text/plain": [
       "dict"
      ]
     },
     "execution_count": 151,
     "metadata": {},
     "output_type": "execute_result"
    }
   ],
   "source": [
    "type(prueba1)"
   ]
  },
  {
   "cell_type": "code",
   "execution_count": 152,
   "id": "cff0d736",
   "metadata": {},
   "outputs": [],
   "source": [
    "del prueba1[3.1]\n"
   ]
  },
  {
   "cell_type": "code",
   "execution_count": 153,
   "id": "3c1902d3",
   "metadata": {},
   "outputs": [
    {
     "data": {
      "text/plain": [
       "{'José': [11, 'azul', 'Administración'],\n",
       " 'Charlie': [40, 'azul', 'Actuaría'],\n",
       " 'Luis': [23, 'blanco', 'Mate'],\n",
       " 'Pedro': [18, 'gris', 'Física'],\n",
       " 3: [18, 'Física'],\n",
       " ('Pedro',): [18, 'gris', 'Física']}"
      ]
     },
     "execution_count": 153,
     "metadata": {},
     "output_type": "execute_result"
    }
   ],
   "source": [
    "prueba1"
   ]
  },
  {
   "cell_type": "code",
   "execution_count": 154,
   "id": "e3000c93",
   "metadata": {
    "scrolled": true
   },
   "outputs": [
    {
     "data": {
      "text/plain": [
       "[18, 'Física']"
      ]
     },
     "execution_count": 154,
     "metadata": {},
     "output_type": "execute_result"
    }
   ],
   "source": [
    "prueba1[3]"
   ]
  },
  {
   "cell_type": "code",
   "execution_count": 155,
   "id": "eab58591",
   "metadata": {},
   "outputs": [
    {
     "data": {
      "text/plain": [
       "[18, 'gris', 'Física']"
      ]
     },
     "execution_count": 155,
     "metadata": {},
     "output_type": "execute_result"
    }
   ],
   "source": [
    "prueba1[(\"Pedro\",)]"
   ]
  },
  {
   "cell_type": "markdown",
   "id": "12537e80",
   "metadata": {},
   "source": [
    "Los diccionarios no están ordenados, por lo que no pueden hacer un \"slice\" como las listas. ¿Qué pasa si uno pone una llave que no está?"
   ]
  },
  {
   "cell_type": "code",
   "execution_count": 156,
   "id": "b2c22814",
   "metadata": {},
   "outputs": [
    {
     "data": {
      "text/plain": [
       "{'José': [18, 'gris', 'Física'],\n",
       " 'Charlie': [40, 'azul', 'Actuaría'],\n",
       " 'Luis': [23, 'blanco', 'Mate'],\n",
       " 'Pedro': [18, 'gris', 'Física']}"
      ]
     },
     "execution_count": 156,
     "metadata": {},
     "output_type": "execute_result"
    }
   ],
   "source": [
    "alumnos"
   ]
  },
  {
   "cell_type": "code",
   "execution_count": 157,
   "id": "09675e08",
   "metadata": {},
   "outputs": [
    {
     "ename": "KeyError",
     "evalue": "'Juan'",
     "output_type": "error",
     "traceback": [
      "\u001b[0;31m---------------------------------------------------------------------------\u001b[0m",
      "\u001b[0;31mKeyError\u001b[0m                                  Traceback (most recent call last)",
      "Cell \u001b[0;32mIn[157], line 1\u001b[0m\n\u001b[0;32m----> 1\u001b[0m alumnos[\u001b[38;5;124m\"\u001b[39m\u001b[38;5;124mJuan\u001b[39m\u001b[38;5;124m\"\u001b[39m]\n",
      "\u001b[0;31mKeyError\u001b[0m: 'Juan'"
     ]
    }
   ],
   "source": [
    "alumnos[\"Juan\"] #este error es parecido a un \"out-of-range de las lista\""
   ]
  },
  {
   "cell_type": "code",
   "execution_count": 158,
   "id": "b11acb57",
   "metadata": {},
   "outputs": [],
   "source": [
    "#Pueden hacer un diccionario de diccionarios para darle más estructura\n",
    "alumnos = {\n",
    "    \"José\"    : {\"edad\":11, \"color\":\"rojo\", \"carrera\":\"Administración\"},\n",
    "    \"Charlie\" : {\"edad\":40, \"color\":\"azul\", \"carrera\":\"Actuaría\"},\n",
    "    \"Luis\"    : {\"edad\":23, \"color\":\"blanco\", \"carrera\":\"Mate\"},\n",
    "    \"Pedro\"   : {\"edad\":18, \"color\":\"gris\", \"carrera\":\"Física\"},\n",
    "}"
   ]
  },
  {
   "cell_type": "code",
   "execution_count": 159,
   "id": "f5cb277d",
   "metadata": {},
   "outputs": [
    {
     "data": {
      "text/plain": [
       "{'José': {'edad': 11, 'color': 'rojo', 'carrera': 'Administración'},\n",
       " 'Charlie': {'edad': 40, 'color': 'azul', 'carrera': 'Actuaría'},\n",
       " 'Luis': {'edad': 23, 'color': 'blanco', 'carrera': 'Mate'},\n",
       " 'Pedro': {'edad': 18, 'color': 'gris', 'carrera': 'Física'}}"
      ]
     },
     "execution_count": 159,
     "metadata": {},
     "output_type": "execute_result"
    }
   ],
   "source": [
    "alumnos"
   ]
  },
  {
   "cell_type": "code",
   "execution_count": 160,
   "id": "258232e0",
   "metadata": {},
   "outputs": [
    {
     "data": {
      "text/plain": [
       "dict"
      ]
     },
     "execution_count": 160,
     "metadata": {},
     "output_type": "execute_result"
    }
   ],
   "source": [
    "type(alumnos)"
   ]
  },
  {
   "cell_type": "markdown",
   "id": "821843f4",
   "metadata": {},
   "source": [
    "¿Cómo encontrarían la edad de Luis?"
   ]
  },
  {
   "cell_type": "code",
   "execution_count": 161,
   "id": "54cac5f3",
   "metadata": {},
   "outputs": [
    {
     "data": {
      "text/plain": [
       "23"
      ]
     },
     "execution_count": 161,
     "metadata": {},
     "output_type": "execute_result"
    }
   ],
   "source": [
    "alumnos[\"Luis\"][\"edad\"]"
   ]
  },
  {
   "cell_type": "code",
   "execution_count": 162,
   "id": "40d2a290",
   "metadata": {},
   "outputs": [
    {
     "data": {
      "text/plain": [
       "63"
      ]
     },
     "execution_count": 162,
     "metadata": {},
     "output_type": "execute_result"
    }
   ],
   "source": [
    "#Puden hacer otro tipo de operaciones\n",
    "alumnos[\"Luis\"][\"edad\"] + alumnos[\"Charlie\"][\"edad\"]"
   ]
  },
  {
   "cell_type": "code",
   "execution_count": 163,
   "id": "65070df4",
   "metadata": {},
   "outputs": [
    {
     "data": {
      "text/plain": [
       "'Administración'"
      ]
     },
     "execution_count": 163,
     "metadata": {},
     "output_type": "execute_result"
    }
   ],
   "source": [
    "alumnos[\"José\"][\"carrera\"]"
   ]
  },
  {
   "cell_type": "code",
   "execution_count": 164,
   "id": "01c6878e",
   "metadata": {},
   "outputs": [
    {
     "data": {
      "text/plain": [
       "['__class__',\n",
       " '__class_getitem__',\n",
       " '__contains__',\n",
       " '__delattr__',\n",
       " '__delitem__',\n",
       " '__dir__',\n",
       " '__doc__',\n",
       " '__eq__',\n",
       " '__format__',\n",
       " '__ge__',\n",
       " '__getattribute__',\n",
       " '__getitem__',\n",
       " '__getstate__',\n",
       " '__gt__',\n",
       " '__hash__',\n",
       " '__init__',\n",
       " '__init_subclass__',\n",
       " '__ior__',\n",
       " '__iter__',\n",
       " '__le__',\n",
       " '__len__',\n",
       " '__lt__',\n",
       " '__ne__',\n",
       " '__new__',\n",
       " '__or__',\n",
       " '__reduce__',\n",
       " '__reduce_ex__',\n",
       " '__repr__',\n",
       " '__reversed__',\n",
       " '__ror__',\n",
       " '__setattr__',\n",
       " '__setitem__',\n",
       " '__sizeof__',\n",
       " '__str__',\n",
       " '__subclasshook__',\n",
       " 'clear',\n",
       " 'copy',\n",
       " 'fromkeys',\n",
       " 'get',\n",
       " 'items',\n",
       " 'keys',\n",
       " 'pop',\n",
       " 'popitem',\n",
       " 'setdefault',\n",
       " 'update',\n",
       " 'values']"
      ]
     },
     "execution_count": 164,
     "metadata": {},
     "output_type": "execute_result"
    }
   ],
   "source": [
    "#Aquí vamos los métodos que tiene\n",
    "dir(alumnos)"
   ]
  },
  {
   "cell_type": "code",
   "execution_count": 165,
   "id": "a5394aff",
   "metadata": {},
   "outputs": [
    {
     "data": {
      "text/plain": [
       "{'José': {'edad': 11, 'color': 'rojo', 'carrera': 'Administración'},\n",
       " 'Charlie': {'edad': 40, 'color': 'azul', 'carrera': 'Actuaría'},\n",
       " 'Luis': {'edad': 23, 'color': 'blanco', 'carrera': 'Mate'},\n",
       " 'Pedro': {'edad': 18, 'color': 'gris', 'carrera': 'Física'}}"
      ]
     },
     "execution_count": 165,
     "metadata": {},
     "output_type": "execute_result"
    }
   ],
   "source": [
    "alumnos"
   ]
  },
  {
   "cell_type": "code",
   "execution_count": 166,
   "id": "7102e76a",
   "metadata": {},
   "outputs": [
    {
     "data": {
      "text/plain": [
       "dict_keys(['José', 'Charlie', 'Luis', 'Pedro'])"
      ]
     },
     "execution_count": 166,
     "metadata": {},
     "output_type": "execute_result"
    }
   ],
   "source": [
    "alumnos.keys()"
   ]
  },
  {
   "cell_type": "code",
   "execution_count": 167,
   "id": "3b0f6420",
   "metadata": {},
   "outputs": [
    {
     "data": {
      "text/plain": [
       "{1: 'uno', 2: 'dos', 3: 'tres'}"
      ]
     },
     "execution_count": 167,
     "metadata": {},
     "output_type": "execute_result"
    }
   ],
   "source": [
    "my_dict"
   ]
  },
  {
   "cell_type": "code",
   "execution_count": 168,
   "id": "cd935112",
   "metadata": {},
   "outputs": [
    {
     "data": {
      "text/plain": [
       "dict_values(['uno', 'dos', 'tres'])"
      ]
     },
     "execution_count": 168,
     "metadata": {},
     "output_type": "execute_result"
    }
   ],
   "source": [
    "my_dict.values()"
   ]
  },
  {
   "cell_type": "code",
   "execution_count": 169,
   "id": "4aa2c1b7",
   "metadata": {},
   "outputs": [
    {
     "data": {
      "text/plain": [
       "dict_values([{'edad': 11, 'color': 'rojo', 'carrera': 'Administración'}, {'edad': 40, 'color': 'azul', 'carrera': 'Actuaría'}, {'edad': 23, 'color': 'blanco', 'carrera': 'Mate'}, {'edad': 18, 'color': 'gris', 'carrera': 'Física'}])"
      ]
     },
     "execution_count": 169,
     "metadata": {},
     "output_type": "execute_result"
    }
   ],
   "source": [
    "alumnos.values()"
   ]
  },
  {
   "cell_type": "code",
   "execution_count": 170,
   "id": "f9c79e9b",
   "metadata": {},
   "outputs": [
    {
     "data": {
      "text/plain": [
       "dict_items([(1, 'uno'), (2, 'dos'), (3, 'tres')])"
      ]
     },
     "execution_count": 170,
     "metadata": {},
     "output_type": "execute_result"
    }
   ],
   "source": [
    "my_dict.items() #tuplas: key, value"
   ]
  },
  {
   "cell_type": "code",
   "execution_count": 171,
   "id": "e88035b2",
   "metadata": {},
   "outputs": [
    {
     "data": {
      "text/plain": [
       "{'edad': 23, 'color': 'blanco', 'carrera': 'Mate'}"
      ]
     },
     "execution_count": 171,
     "metadata": {},
     "output_type": "execute_result"
    }
   ],
   "source": [
    "alumnos[\"Luis\"]"
   ]
  },
  {
   "cell_type": "code",
   "execution_count": 172,
   "id": "c73d0440",
   "metadata": {},
   "outputs": [
    {
     "data": {
      "text/plain": [
       "dict_values([23, 'blanco', 'Mate'])"
      ]
     },
     "execution_count": 172,
     "metadata": {},
     "output_type": "execute_result"
    }
   ],
   "source": [
    "alumnos[\"Luis\"].values()"
   ]
  },
  {
   "cell_type": "code",
   "execution_count": 173,
   "id": "9f8c2e27",
   "metadata": {},
   "outputs": [
    {
     "data": {
      "text/plain": [
       "dict_values"
      ]
     },
     "execution_count": 173,
     "metadata": {},
     "output_type": "execute_result"
    }
   ],
   "source": [
    "type(alumnos[\"Luis\"].values())"
   ]
  },
  {
   "cell_type": "code",
   "execution_count": 174,
   "id": "ddde1095",
   "metadata": {},
   "outputs": [
    {
     "data": {
      "text/plain": [
       "[23, 'blanco', 'Mate']"
      ]
     },
     "execution_count": 174,
     "metadata": {},
     "output_type": "execute_result"
    }
   ],
   "source": [
    "list(alumnos[\"Luis\"].values()) # si qusieran pasar a listas"
   ]
  },
  {
   "cell_type": "code",
   "execution_count": 175,
   "id": "20ac8255",
   "metadata": {},
   "outputs": [],
   "source": [
    "#eliminar una llave\n",
    "del alumnos[\"Luis\"]"
   ]
  },
  {
   "cell_type": "code",
   "execution_count": 176,
   "id": "31b5e10e",
   "metadata": {},
   "outputs": [
    {
     "data": {
      "text/plain": [
       "{'José': {'edad': 11, 'color': 'rojo', 'carrera': 'Administración'},\n",
       " 'Charlie': {'edad': 40, 'color': 'azul', 'carrera': 'Actuaría'},\n",
       " 'Pedro': {'edad': 18, 'color': 'gris', 'carrera': 'Física'}}"
      ]
     },
     "execution_count": 176,
     "metadata": {},
     "output_type": "execute_result"
    }
   ],
   "source": [
    "alumnos"
   ]
  },
  {
   "cell_type": "code",
   "execution_count": 177,
   "id": "262c58a9",
   "metadata": {},
   "outputs": [],
   "source": [
    "#agregar una llave\n",
    "alumnos[\"Gerardo\"] = {\"edad\":15,\"color\":\"verde\",\"carrera\":\"Finanzas\"}"
   ]
  },
  {
   "cell_type": "code",
   "execution_count": 178,
   "id": "1c505554",
   "metadata": {},
   "outputs": [
    {
     "data": {
      "text/plain": [
       "{'José': {'edad': 11, 'color': 'rojo', 'carrera': 'Administración'},\n",
       " 'Charlie': {'edad': 40, 'color': 'azul', 'carrera': 'Actuaría'},\n",
       " 'Pedro': {'edad': 18, 'color': 'gris', 'carrera': 'Física'},\n",
       " 'Gerardo': {'edad': 15, 'color': 'verde', 'carrera': 'Finanzas'}}"
      ]
     },
     "execution_count": 178,
     "metadata": {},
     "output_type": "execute_result"
    }
   ],
   "source": [
    "alumnos"
   ]
  },
  {
   "cell_type": "markdown",
   "id": "9ea2ead1",
   "metadata": {},
   "source": [
    "## Métodos dentro de un diccionario\n"
   ]
  },
  {
   "cell_type": "code",
   "execution_count": 179,
   "id": "59ac7681",
   "metadata": {},
   "outputs": [
    {
     "data": {
      "text/plain": [
       "dict_keys(['José', 'Charlie', 'Pedro', 'Gerardo'])"
      ]
     },
     "execution_count": 179,
     "metadata": {},
     "output_type": "execute_result"
    }
   ],
   "source": [
    "#las llaves deldiccionario\n",
    "alumnos.keys()"
   ]
  },
  {
   "cell_type": "code",
   "execution_count": 180,
   "id": "4dcf28d9",
   "metadata": {},
   "outputs": [
    {
     "data": {
      "text/plain": [
       "[('José', {'edad': 11, 'color': 'rojo', 'carrera': 'Administración'}),\n",
       " ('Charlie', {'edad': 40, 'color': 'azul', 'carrera': 'Actuaría'}),\n",
       " ('Pedro', {'edad': 18, 'color': 'gris', 'carrera': 'Física'}),\n",
       " ('Gerardo', {'edad': 15, 'color': 'verde', 'carrera': 'Finanzas'})]"
      ]
     },
     "execution_count": 180,
     "metadata": {},
     "output_type": "execute_result"
    }
   ],
   "source": [
    "#Lista de tuplas con dos elementos. La primera es la llave (el nombre) y la segunda son los valores\n",
    "list(alumnos.items())\n"
   ]
  },
  {
   "cell_type": "code",
   "execution_count": 181,
   "id": "1f6a27fc",
   "metadata": {},
   "outputs": [],
   "source": [
    "grupo1={\n",
    "    \"José\":{\"edad\":11,\"color\":\"rojo\",\"carrera\":\"Administración\"},\n",
    "    \"Charlie\":{\"edad\":40,\"color\":\"azul\",\"carrera\":\"Actuaría\",\"carrera2\":\"Economía\"}\n",
    "}"
   ]
  },
  {
   "cell_type": "code",
   "execution_count": 182,
   "id": "1049ebaa",
   "metadata": {},
   "outputs": [],
   "source": [
    "grupo2={\n",
    "    \"Luis\":{\"edad\":23,\"color\":\"blanco\",\"carrera\":\"Mate\"},\n",
    "    \"Pedro\":{\"edad\":18,\"color\":\"gris\",\"carrera\":\"Física\"}    \n",
    "}"
   ]
  },
  {
   "cell_type": "code",
   "execution_count": 183,
   "id": "6023d694",
   "metadata": {},
   "outputs": [
    {
     "ename": "TypeError",
     "evalue": "unsupported operand type(s) for +: 'dict' and 'dict'",
     "output_type": "error",
     "traceback": [
      "\u001b[0;31m---------------------------------------------------------------------------\u001b[0m",
      "\u001b[0;31mTypeError\u001b[0m                                 Traceback (most recent call last)",
      "Cell \u001b[0;32mIn[183], line 1\u001b[0m\n\u001b[0;32m----> 1\u001b[0m grupo1 \u001b[38;5;241m+\u001b[39m grupo2\n",
      "\u001b[0;31mTypeError\u001b[0m: unsupported operand type(s) for +: 'dict' and 'dict'"
     ]
    }
   ],
   "source": [
    "grupo1 + grupo2"
   ]
  },
  {
   "cell_type": "code",
   "execution_count": 184,
   "id": "60f799d6",
   "metadata": {},
   "outputs": [
    {
     "data": {
      "text/plain": [
       "{'José': {'edad': 11, 'color': 'rojo', 'carrera': 'Administración'},\n",
       " 'Charlie': {'edad': 40,\n",
       "  'color': 'azul',\n",
       "  'carrera': 'Actuaría',\n",
       "  'carrera2': 'Economía'},\n",
       " 'Luis': {'edad': 23, 'color': 'blanco', 'carrera': 'Mate'},\n",
       " 'Pedro': {'edad': 18, 'color': 'gris', 'carrera': 'Física'}}"
      ]
     },
     "execution_count": 184,
     "metadata": {},
     "output_type": "execute_result"
    }
   ],
   "source": [
    "todos={}  # diccionario vacío #actualizar la info\n",
    "\n",
    "todos.update(grupo1)\n",
    "todos.update(grupo2)\n",
    "todos"
   ]
  },
  {
   "cell_type": "markdown",
   "id": "cbe69ebd",
   "metadata": {},
   "source": [
    "Pueden revisar si una llave o valos está en un diccionario\n"
   ]
  },
  {
   "cell_type": "code",
   "execution_count": 185,
   "id": "4fba0250",
   "metadata": {},
   "outputs": [
    {
     "data": {
      "text/plain": [
       "{'José': {'edad': 11, 'color': 'rojo', 'carrera': 'Administración'},\n",
       " 'Charlie': {'edad': 40, 'color': 'azul', 'carrera': 'Actuaría'},\n",
       " 'Pedro': {'edad': 18, 'color': 'gris', 'carrera': 'Física'},\n",
       " 'Gerardo': {'edad': 15, 'color': 'verde', 'carrera': 'Finanzas'}}"
      ]
     },
     "execution_count": 185,
     "metadata": {},
     "output_type": "execute_result"
    }
   ],
   "source": [
    "alumnos"
   ]
  },
  {
   "cell_type": "code",
   "execution_count": 186,
   "id": "512ea061",
   "metadata": {
    "scrolled": true
   },
   "outputs": [
    {
     "data": {
      "text/plain": [
       "False"
      ]
     },
     "execution_count": 186,
     "metadata": {},
     "output_type": "execute_result"
    }
   ],
   "source": [
    "\"Fernando\" in alumnos.keys()"
   ]
  },
  {
   "cell_type": "code",
   "execution_count": 187,
   "id": "77ae5b6d",
   "metadata": {},
   "outputs": [
    {
     "data": {
      "text/plain": [
       "True"
      ]
     },
     "execution_count": 187,
     "metadata": {},
     "output_type": "execute_result"
    }
   ],
   "source": [
    "\"Pedro\" in alumnos.keys()"
   ]
  },
  {
   "cell_type": "code",
   "execution_count": 188,
   "id": "86cf850c",
   "metadata": {},
   "outputs": [
    {
     "data": {
      "text/plain": [
       "True"
      ]
     },
     "execution_count": 188,
     "metadata": {},
     "output_type": "execute_result"
    }
   ],
   "source": [
    "\"Pedro\" in alumnos   # esto se pregunta si \"Pedro\" es una key del diccionario"
   ]
  },
  {
   "cell_type": "code",
   "execution_count": 189,
   "id": "b59c98bf",
   "metadata": {},
   "outputs": [
    {
     "data": {
      "text/plain": [
       "False"
      ]
     },
     "execution_count": 189,
     "metadata": {},
     "output_type": "execute_result"
    }
   ],
   "source": [
    "\"Pedro\" in alumnos.values()"
   ]
  },
  {
   "cell_type": "code",
   "execution_count": 190,
   "id": "f12ec94b",
   "metadata": {},
   "outputs": [
    {
     "data": {
      "text/plain": [
       "{'José': {'edad': 11, 'color': 'rojo', 'carrera': 'Administración'},\n",
       " 'Charlie': {'edad': 40, 'color': 'azul', 'carrera': 'Actuaría'},\n",
       " 'Pedro': {'edad': 18, 'color': 'gris', 'carrera': 'Física'},\n",
       " 'Gerardo': {'edad': 15, 'color': 'verde', 'carrera': 'Finanzas'}}"
      ]
     },
     "execution_count": 190,
     "metadata": {},
     "output_type": "execute_result"
    }
   ],
   "source": [
    "alumnos"
   ]
  },
  {
   "cell_type": "code",
   "execution_count": null,
   "id": "fa31d3fd",
   "metadata": {},
   "outputs": [],
   "source": [
    "\"edad\" in alumnos.values()"
   ]
  },
  {
   "cell_type": "code",
   "execution_count": null,
   "id": "2ea85b1c",
   "metadata": {},
   "outputs": [],
   "source": [
    "list(alumnos.values())[0].values()"
   ]
  },
  {
   "cell_type": "code",
   "execution_count": null,
   "id": "4268bdba",
   "metadata": {},
   "outputs": [],
   "source": [
    "\"rojo\" in list(alumnos.values())[0].values()"
   ]
  },
  {
   "cell_type": "code",
   "execution_count": null,
   "id": "43f1d3b4",
   "metadata": {},
   "outputs": [],
   "source": [
    "\"edad\" in list(alumnos.values())[0]"
   ]
  },
  {
   "cell_type": "code",
   "execution_count": 191,
   "id": "944365c9",
   "metadata": {},
   "outputs": [
    {
     "data": {
      "text/plain": [
       "True"
      ]
     },
     "execution_count": 191,
     "metadata": {},
     "output_type": "execute_result"
    }
   ],
   "source": [
    "{'edad': 15, 'color': 'verde', 'carrera': 'Finanzas'} in alumnos.values()"
   ]
  },
  {
   "cell_type": "code",
   "execution_count": null,
   "id": "01b12708",
   "metadata": {},
   "outputs": [],
   "source": [
    "alumnos.values()"
   ]
  },
  {
   "cell_type": "code",
   "execution_count": null,
   "id": "b7f71745",
   "metadata": {},
   "outputs": [],
   "source": [
    "40 in alumnos.values() #no está porque es un diccionario de diccionario"
   ]
  },
  {
   "cell_type": "code",
   "execution_count": null,
   "id": "ca49f0dd",
   "metadata": {},
   "outputs": [],
   "source": [
    "{'edad': 11, 'color': 'rojo', 'carrera': 'Administración'} in alumnos.values() #encuentra lo que está dentro que es otro\n",
    "#otro diccionario"
   ]
  },
  {
   "cell_type": "code",
   "execution_count": null,
   "id": "86875ee8",
   "metadata": {},
   "outputs": [],
   "source": [
    "\"Pedro\" in alumnos #itera sobre las llaves"
   ]
  },
  {
   "cell_type": "code",
   "execution_count": null,
   "id": "6986209f",
   "metadata": {},
   "outputs": [],
   "source": [
    "#vamos a ver el método \"get\""
   ]
  },
  {
   "cell_type": "code",
   "execution_count": null,
   "id": "d5139039",
   "metadata": {},
   "outputs": [],
   "source": [
    "empty_dict = {}\n",
    "\n",
    "type(empty_dict)"
   ]
  },
  {
   "cell_type": "code",
   "execution_count": 192,
   "id": "fe6d4761",
   "metadata": {},
   "outputs": [],
   "source": [
    "ejemplo1 = {\"Nombre\":\"Juan\",\"edad\":10}"
   ]
  },
  {
   "cell_type": "code",
   "execution_count": 193,
   "id": "ae5eeced",
   "metadata": {},
   "outputs": [
    {
     "data": {
      "text/plain": [
       "{'Nombre': 'Juan', 'edad': 10}"
      ]
     },
     "execution_count": 193,
     "metadata": {},
     "output_type": "execute_result"
    }
   ],
   "source": [
    "ejemplo1"
   ]
  },
  {
   "cell_type": "code",
   "execution_count": 194,
   "id": "549a7cc4",
   "metadata": {
    "scrolled": true
   },
   "outputs": [
    {
     "ename": "KeyError",
     "evalue": "'color'",
     "output_type": "error",
     "traceback": [
      "\u001b[0;31m---------------------------------------------------------------------------\u001b[0m",
      "\u001b[0;31mKeyError\u001b[0m                                  Traceback (most recent call last)",
      "Cell \u001b[0;32mIn[194], line 1\u001b[0m\n\u001b[0;32m----> 1\u001b[0m ejemplo1[\u001b[38;5;124m\"\u001b[39m\u001b[38;5;124mcolor\u001b[39m\u001b[38;5;124m\"\u001b[39m]\n",
      "\u001b[0;31mKeyError\u001b[0m: 'color'"
     ]
    }
   ],
   "source": [
    "ejemplo1[\"color\"]"
   ]
  },
  {
   "cell_type": "code",
   "execution_count": 195,
   "id": "44ab1383",
   "metadata": {},
   "outputs": [
    {
     "data": {
      "text/plain": [
       "10"
      ]
     },
     "execution_count": 195,
     "metadata": {},
     "output_type": "execute_result"
    }
   ],
   "source": [
    "ejemplo1.get(\"edad\") #metodo get con mas parametros"
   ]
  },
  {
   "cell_type": "code",
   "execution_count": 196,
   "id": "ecf68bc4",
   "metadata": {},
   "outputs": [
    {
     "data": {
      "text/plain": [
       "10"
      ]
     },
     "execution_count": 196,
     "metadata": {},
     "output_type": "execute_result"
    }
   ],
   "source": [
    "ejemplo1[\"edad\"]"
   ]
  },
  {
   "cell_type": "code",
   "execution_count": 197,
   "id": "c068a153",
   "metadata": {},
   "outputs": [
    {
     "ename": "KeyError",
     "evalue": "'carrera'",
     "output_type": "error",
     "traceback": [
      "\u001b[0;31m---------------------------------------------------------------------------\u001b[0m",
      "\u001b[0;31mKeyError\u001b[0m                                  Traceback (most recent call last)",
      "Cell \u001b[0;32mIn[197], line 1\u001b[0m\n\u001b[0;32m----> 1\u001b[0m ejemplo1[\u001b[38;5;124m\"\u001b[39m\u001b[38;5;124mcarrera\u001b[39m\u001b[38;5;124m\"\u001b[39m]\n",
      "\u001b[0;31mKeyError\u001b[0m: 'carrera'"
     ]
    }
   ],
   "source": [
    "ejemplo1[\"carrera\"]"
   ]
  },
  {
   "cell_type": "code",
   "execution_count": null,
   "id": "051a2b8a",
   "metadata": {},
   "outputs": [],
   "source": [
    "ejemplo1.get(\"carrera\")"
   ]
  },
  {
   "cell_type": "code",
   "execution_count": 198,
   "id": "dfd00601",
   "metadata": {},
   "outputs": [
    {
     "data": {
      "text/plain": [
       "'no def'"
      ]
     },
     "execution_count": 198,
     "metadata": {},
     "output_type": "execute_result"
    }
   ],
   "source": [
    "# te permite imprimir un mensaje o un identificador para saber si la key está en el diccionario\n",
    "\n",
    "ejemplo1.get(\"carrera\", \"no def\")  # le decimos que si no encuentra nos devuelva un 0"
   ]
  },
  {
   "cell_type": "code",
   "execution_count": 199,
   "id": "50cadd07",
   "metadata": {},
   "outputs": [
    {
     "data": {
      "text/plain": [
       "'Juan tiene 10 años de edad'"
      ]
     },
     "execution_count": 199,
     "metadata": {},
     "output_type": "execute_result"
    }
   ],
   "source": [
    "\"Juan tiene \" + str(ejemplo1.get(\"edad\")) + \" años de edad\""
   ]
  },
  {
   "cell_type": "code",
   "execution_count": 200,
   "id": "4b6ceba6",
   "metadata": {},
   "outputs": [
    {
     "data": {
      "text/plain": [
       "'Juan estudió 0'"
      ]
     },
     "execution_count": 200,
     "metadata": {},
     "output_type": "execute_result"
    }
   ],
   "source": [
    "\"Juan estudió \" + str(ejemplo1.get(\"carrera\",0)) "
   ]
  },
  {
   "cell_type": "code",
   "execution_count": 201,
   "id": "d4279439",
   "metadata": {},
   "outputs": [],
   "source": [
    "#Otro método es el SetDefautl: si no lo encuentra lo agrega, si sí lo encuentra no hace nada\n",
    "ejemplo1 = {\"Nombre\":\"Juan\",\"edad\":10}\n"
   ]
  },
  {
   "cell_type": "code",
   "execution_count": 202,
   "id": "26ea4a18",
   "metadata": {},
   "outputs": [
    {
     "data": {
      "text/plain": [
       "{'Nombre': 'Juan', 'edad': 10}"
      ]
     },
     "execution_count": 202,
     "metadata": {},
     "output_type": "execute_result"
    }
   ],
   "source": [
    "ejemplo1"
   ]
  },
  {
   "cell_type": "code",
   "execution_count": 203,
   "id": "82d6c01e",
   "metadata": {},
   "outputs": [
    {
     "data": {
      "text/plain": [
       "'administración'"
      ]
     },
     "execution_count": 203,
     "metadata": {},
     "output_type": "execute_result"
    }
   ],
   "source": [
    "ejemplo1.setdefault('carrera',\"administración\")"
   ]
  },
  {
   "cell_type": "code",
   "execution_count": 204,
   "id": "39c30dd2",
   "metadata": {
    "scrolled": true
   },
   "outputs": [
    {
     "data": {
      "text/plain": [
       "{'Nombre': 'Juan', 'edad': 10, 'carrera': 'administración'}"
      ]
     },
     "execution_count": 204,
     "metadata": {},
     "output_type": "execute_result"
    }
   ],
   "source": [
    "ejemplo1"
   ]
  },
  {
   "cell_type": "code",
   "execution_count": 206,
   "id": "922d0fdf",
   "metadata": {},
   "outputs": [
    {
     "data": {
      "text/plain": [
       "'administración'"
      ]
     },
     "execution_count": 206,
     "metadata": {},
     "output_type": "execute_result"
    }
   ],
   "source": [
    "ejemplo1.setdefault('carrera',\"economía\") #aquí no cambió la carrera porque sí lo encontró ."
   ]
  },
  {
   "cell_type": "code",
   "execution_count": 207,
   "id": "09a18289",
   "metadata": {
    "scrolled": true
   },
   "outputs": [
    {
     "data": {
      "text/plain": [
       "{'Nombre': 'Juan', 'edad': 10, 'carrera': 'administración'}"
      ]
     },
     "execution_count": 207,
     "metadata": {},
     "output_type": "execute_result"
    }
   ],
   "source": [
    "ejemplo1"
   ]
  },
  {
   "cell_type": "code",
   "execution_count": 208,
   "id": "82628bd8",
   "metadata": {},
   "outputs": [
    {
     "data": {
      "text/plain": [
       "{'Nombre': 'Juan', 'edad': 10, 'carrera': 'administración'}"
      ]
     },
     "execution_count": 208,
     "metadata": {},
     "output_type": "execute_result"
    }
   ],
   "source": [
    "ejemplo1.setdefault(\"edad\", 100)\n",
    "\n",
    "ejemplo1"
   ]
  },
  {
   "cell_type": "code",
   "execution_count": 209,
   "id": "116524e4",
   "metadata": {},
   "outputs": [
    {
     "data": {
      "text/plain": [
       "{'Nombre': 'Juan', 'edad': 10, 'carrera': 'administración', 'prueba': 'hola'}"
      ]
     },
     "execution_count": 209,
     "metadata": {},
     "output_type": "execute_result"
    }
   ],
   "source": [
    "ejemplo1[\"prueba\"] = \"hola\"\n",
    "\n",
    "ejemplo1"
   ]
  },
  {
   "cell_type": "code",
   "execution_count": null,
   "id": "a59b15ff",
   "metadata": {},
   "outputs": [],
   "source": [
    "int, float, bool, complex, str, dict, list, tuple, set"
   ]
  },
  {
   "cell_type": "code",
   "execution_count": null,
   "id": "de14fd65",
   "metadata": {},
   "outputs": [],
   "source": [
    "set([1,2,3,1,1,1,])"
   ]
  },
  {
   "cell_type": "markdown",
   "id": "f1147808",
   "metadata": {},
   "source": [
    "## Conjuntos $\\quad \\{\\ \\ \\}$"
   ]
  },
  {
   "cell_type": "markdown",
   "id": "75d6c747",
   "metadata": {},
   "source": [
    "Un `set`(conjunto) es una colección no ordenada de valores únicos. Para dos conuuntos `A`, `B`, y valores `a` dentro de `A` y `b` dentro de `B`, se cumplen las siguientes características: \n",
    "\n",
    "* `A & B` (Intersección): Elementos en `A` **y** en `B`\n",
    "* `A | B` (Unión): Elementos en `A` **ó** en `B`\n",
    "* `A - B` (Diferencia): Elementos en `A` **no presentes** en `B`\n",
    "* `A ^ B` (Diferencia Simétrica): Elementos en cualquiera de los dos conjuntos `A` y `B` pero no en los dos. \n",
    "* `A <= B` (Subconjunto): Prueba si todos los Elementos en `A` se encuentran dentro de `B`\n",
    "* `A >= B` (Super Conjunto): Prueba si todos los Elementos en `B` se encuentran dentro de `A`\n",
    "\n",
    "\n",
    "\n"
   ]
  },
  {
   "cell_type": "code",
   "execution_count": 215,
   "id": "9b8eb1de",
   "metadata": {},
   "outputs": [
    {
     "data": {
      "text/plain": [
       "set()"
      ]
     },
     "execution_count": 215,
     "metadata": {},
     "output_type": "execute_result"
    }
   ],
   "source": [
    "a = set(\"\")\n",
    "\n",
    "a"
   ]
  },
  {
   "cell_type": "code",
   "execution_count": 210,
   "id": "a82a7d4d",
   "metadata": {},
   "outputs": [],
   "source": [
    "vocales = {'a','e','i','o','u'}\n",
    "p1 = {'c','a','r','r','o'}"
   ]
  },
  {
   "cell_type": "code",
   "execution_count": 213,
   "id": "9cc7fdba",
   "metadata": {},
   "outputs": [
    {
     "data": {
      "text/plain": [
       "{'a', 'e', 'i', 'o', 'u'}"
      ]
     },
     "execution_count": 213,
     "metadata": {},
     "output_type": "execute_result"
    }
   ],
   "source": [
    "vocales"
   ]
  },
  {
   "cell_type": "code",
   "execution_count": 214,
   "id": "829276ec",
   "metadata": {},
   "outputs": [
    {
     "data": {
      "text/plain": [
       "{'a', 'c', 'o', 'r'}"
      ]
     },
     "execution_count": 214,
     "metadata": {},
     "output_type": "execute_result"
    }
   ],
   "source": [
    "p1    # {1} = {1,1,1,1,1,1,1,1}"
   ]
  },
  {
   "cell_type": "code",
   "execution_count": 216,
   "id": "e4670f06",
   "metadata": {},
   "outputs": [
    {
     "data": {
      "text/plain": [
       "set"
      ]
     },
     "execution_count": 216,
     "metadata": {},
     "output_type": "execute_result"
    }
   ],
   "source": [
    "type(vocales)"
   ]
  },
  {
   "cell_type": "code",
   "execution_count": 217,
   "id": "ecee5740",
   "metadata": {},
   "outputs": [
    {
     "data": {
      "text/plain": [
       "['__and__',\n",
       " '__class__',\n",
       " '__class_getitem__',\n",
       " '__contains__',\n",
       " '__delattr__',\n",
       " '__dir__',\n",
       " '__doc__',\n",
       " '__eq__',\n",
       " '__format__',\n",
       " '__ge__',\n",
       " '__getattribute__',\n",
       " '__getstate__',\n",
       " '__gt__',\n",
       " '__hash__',\n",
       " '__iand__',\n",
       " '__init__',\n",
       " '__init_subclass__',\n",
       " '__ior__',\n",
       " '__isub__',\n",
       " '__iter__',\n",
       " '__ixor__',\n",
       " '__le__',\n",
       " '__len__',\n",
       " '__lt__',\n",
       " '__ne__',\n",
       " '__new__',\n",
       " '__or__',\n",
       " '__rand__',\n",
       " '__reduce__',\n",
       " '__reduce_ex__',\n",
       " '__repr__',\n",
       " '__ror__',\n",
       " '__rsub__',\n",
       " '__rxor__',\n",
       " '__setattr__',\n",
       " '__sizeof__',\n",
       " '__str__',\n",
       " '__sub__',\n",
       " '__subclasshook__',\n",
       " '__xor__',\n",
       " 'add',\n",
       " 'clear',\n",
       " 'copy',\n",
       " 'difference',\n",
       " 'difference_update',\n",
       " 'discard',\n",
       " 'intersection',\n",
       " 'intersection_update',\n",
       " 'isdisjoint',\n",
       " 'issubset',\n",
       " 'issuperset',\n",
       " 'pop',\n",
       " 'remove',\n",
       " 'symmetric_difference',\n",
       " 'symmetric_difference_update',\n",
       " 'union',\n",
       " 'update']"
      ]
     },
     "execution_count": 217,
     "metadata": {},
     "output_type": "execute_result"
    }
   ],
   "source": [
    "dir(set) #Mutables"
   ]
  },
  {
   "cell_type": "code",
   "execution_count": 218,
   "id": "3ba1aac2",
   "metadata": {},
   "outputs": [
    {
     "data": {
      "text/plain": [
       "{'a', 'o'}"
      ]
     },
     "execution_count": 218,
     "metadata": {},
     "output_type": "execute_result"
    }
   ],
   "source": [
    "#intersección \n",
    "p1 & vocales"
   ]
  },
  {
   "cell_type": "code",
   "execution_count": 219,
   "id": "caa036cc",
   "metadata": {},
   "outputs": [
    {
     "data": {
      "text/plain": [
       "{'a', 'c', 'e', 'i', 'o', 'r', 'u'}"
      ]
     },
     "execution_count": 219,
     "metadata": {},
     "output_type": "execute_result"
    }
   ],
   "source": [
    "#unión\n",
    "p1 | vocales"
   ]
  },
  {
   "cell_type": "code",
   "execution_count": 220,
   "id": "21729a8e",
   "metadata": {},
   "outputs": [
    {
     "data": {
      "text/plain": [
       "{'c', 'r'}"
      ]
     },
     "execution_count": 220,
     "metadata": {},
     "output_type": "execute_result"
    }
   ],
   "source": [
    "#diferencia\n",
    "p1-vocales"
   ]
  },
  {
   "cell_type": "code",
   "execution_count": 221,
   "id": "d5bed3c6",
   "metadata": {},
   "outputs": [
    {
     "data": {
      "text/plain": [
       "{'c', 'e', 'i', 'r', 'u'}"
      ]
     },
     "execution_count": 221,
     "metadata": {},
     "output_type": "execute_result"
    }
   ],
   "source": [
    "#diferencia simétrica, la cual no s quita la intersección (a, o)\n",
    "p1^vocales"
   ]
  },
  {
   "cell_type": "code",
   "execution_count": 222,
   "id": "5221b268",
   "metadata": {},
   "outputs": [
    {
     "data": {
      "text/plain": [
       "{'c', 'e', 'i', 'r', 'u'}"
      ]
     },
     "execution_count": 222,
     "metadata": {},
     "output_type": "execute_result"
    }
   ],
   "source": [
    "(p1 | vocales) - (p1 & vocales)"
   ]
  },
  {
   "cell_type": "code",
   "execution_count": 223,
   "id": "203879ba",
   "metadata": {
    "scrolled": false
   },
   "outputs": [
    {
     "data": {
      "text/plain": [
       "['__and__',\n",
       " '__class__',\n",
       " '__class_getitem__',\n",
       " '__contains__',\n",
       " '__delattr__',\n",
       " '__dir__',\n",
       " '__doc__',\n",
       " '__eq__',\n",
       " '__format__',\n",
       " '__ge__',\n",
       " '__getattribute__',\n",
       " '__getstate__',\n",
       " '__gt__',\n",
       " '__hash__',\n",
       " '__iand__',\n",
       " '__init__',\n",
       " '__init_subclass__',\n",
       " '__ior__',\n",
       " '__isub__',\n",
       " '__iter__',\n",
       " '__ixor__',\n",
       " '__le__',\n",
       " '__len__',\n",
       " '__lt__',\n",
       " '__ne__',\n",
       " '__new__',\n",
       " '__or__',\n",
       " '__rand__',\n",
       " '__reduce__',\n",
       " '__reduce_ex__',\n",
       " '__repr__',\n",
       " '__ror__',\n",
       " '__rsub__',\n",
       " '__rxor__',\n",
       " '__setattr__',\n",
       " '__sizeof__',\n",
       " '__str__',\n",
       " '__sub__',\n",
       " '__subclasshook__',\n",
       " '__xor__',\n",
       " 'add',\n",
       " 'clear',\n",
       " 'copy',\n",
       " 'difference',\n",
       " 'difference_update',\n",
       " 'discard',\n",
       " 'intersection',\n",
       " 'intersection_update',\n",
       " 'isdisjoint',\n",
       " 'issubset',\n",
       " 'issuperset',\n",
       " 'pop',\n",
       " 'remove',\n",
       " 'symmetric_difference',\n",
       " 'symmetric_difference_update',\n",
       " 'union',\n",
       " 'update']"
      ]
     },
     "execution_count": 223,
     "metadata": {},
     "output_type": "execute_result"
    }
   ],
   "source": [
    "dir(set)"
   ]
  },
  {
   "cell_type": "markdown",
   "id": "6c227470",
   "metadata": {},
   "source": [
    "## Sobre los métodos que comienzan con doble subrayado  $ __*__ $"
   ]
  },
  {
   "cell_type": "markdown",
   "id": "52680486",
   "metadata": {},
   "source": [
    "* Son métodos del sistema.\n",
    "\n",
    "\n",
    "* Estos nombres son definidos por el intérprete y su implementación (incluida la biblioteca estándar).\n",
    "\n",
    "\n",
    "* Por ejemplo, la variable de sistema __name__ se puede utilizar dentro de cualquier función y siempre contendrá el nombre de esa función.\n",
    "\n",
    "\n",
    "* Este concepto de variables reservadas del sistema es fundamental en la mayoría de los lenguajes de programación.\n",
    "\n",
    "\n",
    "Más info:\n",
    "\n",
    "https://docs.python.org/3/reference/datamodel.html#specialnames"
   ]
  },
  {
   "cell_type": "markdown",
   "id": "83417021",
   "metadata": {},
   "source": [
    "> <h2 style=\"color:green\"> $\\ll\\!\\!\\prec\\quad$ Ejercicios $\\quad\\succ\\!\\!\\gg$ </h2>"
   ]
  },
  {
   "cell_type": "markdown",
   "id": "2dade5b5",
   "metadata": {},
   "source": [
    "1. Dado el siguiente diccionario `vocales`, accede al primer elemento dentro de llave `\"minúsculas\"\n",
    "\n",
    "```python\n",
    "vocales={\n",
    "    \"mayusculas\":['A','E','I','O','U'],\n",
    "    \"minusculas\":['a','e','i','o','u']\n",
    "}\n",
    "\n",
    "\n",
    "```\n",
    "\n"
   ]
  },
  {
   "cell_type": "markdown",
   "id": "124e568b",
   "metadata": {},
   "source": [
    "\n",
    "2. ¿Cuál es la longitud del set `{\"q\",\"u\",\"e\",\"u\",\"e\"}`?\n"
   ]
  },
  {
   "cell_type": "markdown",
   "id": "96dc7cea",
   "metadata": {},
   "source": [
    "4. Considerando los conjuntos `investor1`, `investor2`, `investor3` e  `investor4` \n",
    "    * Encuentra todas las acciones que `investor1`, `investor3` e `investor4` tiene en COMÚN \n",
    "    * Encuentra todas las acciones que `investor1`, `investor2`, `investor3` e `investor4` tiene en CONJUNTO \n",
    "\n",
    "    \n",
    "\n",
    "```python\n",
    "investor1 = {'HOTEL', 'CHDRAUI', 'ALPEK', 'VISTA', 'MFRISCO', 'AHMSA', 'LAB', 'SPORT', 'SAVIA', 'LASEG'}\n",
    "investor2 = {'CMOCTEZ', 'BEVIDES', 'OMA', 'GNP', 'AGRIEXP', 'SPORT', 'TRAXION', 'GENTERA', 'COLLADO', 'LAMOSA'}\n",
    "investor3 = {'FEMSA', 'ALSEA', 'BIMBO', 'ELEMENT', 'FINAMEX', 'GCC', 'VISTA', 'GEO', 'IENOVA', 'OMA', 'CADU', 'ANB', 'AUTLAN', 'GICSA', 'GFNORTE', 'IDEAL', 'MEXCHEM', 'ELEKTRA', 'SITES', 'CABLE'}\n",
    "investor4 = {'GENTERA', 'BOLSA', 'VISTA', 'TEAK', 'ACCELSA', 'CUERVO', 'TEKCHEM', 'QBINDUS', 'MEDICA', 'URBI', 'CIE', 'NEMAK', 'KIMBER', 'GPH', 'GMD', 'ACTINVR', 'GAP', 'JAVER', 'INGEAL', 'ARA'}\n",
    "```"
   ]
  },
  {
   "cell_type": "code",
   "execution_count": null,
   "id": "15f0f6bf",
   "metadata": {},
   "outputs": [],
   "source": []
  },
  {
   "cell_type": "code",
   "execution_count": null,
   "id": "596cdf8e",
   "metadata": {},
   "outputs": [],
   "source": []
  },
  {
   "cell_type": "code",
   "execution_count": null,
   "id": "0efb7ec1",
   "metadata": {},
   "outputs": [],
   "source": []
  },
  {
   "cell_type": "code",
   "execution_count": null,
   "id": "88bab7aa",
   "metadata": {},
   "outputs": [],
   "source": []
  },
  {
   "cell_type": "code",
   "execution_count": null,
   "id": "54f22c9c",
   "metadata": {},
   "outputs": [],
   "source": []
  },
  {
   "cell_type": "code",
   "execution_count": null,
   "id": "50c0efd1",
   "metadata": {},
   "outputs": [],
   "source": []
  }
 ],
 "metadata": {
  "kernelspec": {
   "display_name": "Python 3 (ipykernel)",
   "language": "python",
   "name": "python3"
  },
  "language_info": {
   "codemirror_mode": {
    "name": "ipython",
    "version": 3
   },
   "file_extension": ".py",
   "mimetype": "text/x-python",
   "name": "python",
   "nbconvert_exporter": "python",
   "pygments_lexer": "ipython3",
   "version": "3.11.3"
  }
 },
 "nbformat": 4,
 "nbformat_minor": 5
}
