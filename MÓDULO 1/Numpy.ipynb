{
 "cells": [
  {
   "cell_type": "markdown",
   "id": "0ffa7f45",
   "metadata": {},
   "source": [
    "### Introducción a Numpy"
   ]
  },
  {
   "cell_type": "code",
   "execution_count": 1,
   "id": "c6106479",
   "metadata": {},
   "outputs": [
    {
     "name": "stdout",
     "output_type": "stream",
     "text": [
      "Requirement already satisfied: numpy in /Users/andrespadronquintana/anaconda3/lib/python3.11/site-packages (1.24.3)\r\n"
     ]
    }
   ],
   "source": [
    "# Importamos la librería\n",
    "!pip install numpy #por si no lo tenemos instalado"
   ]
  },
  {
   "cell_type": "code",
   "execution_count": 2,
   "id": "5c8f54c1",
   "metadata": {},
   "outputs": [],
   "source": [
    "import numpy as np"
   ]
  },
  {
   "cell_type": "markdown",
   "id": "e4f86b67",
   "metadata": {},
   "source": [
    "El core de numpy es el objeto ndarray, el cual puede tomar multples dimensiones."
   ]
  },
  {
   "cell_type": "code",
   "execution_count": 7,
   "id": "eeb594ef",
   "metadata": {},
   "outputs": [
    {
     "name": "stdout",
     "output_type": "stream",
     "text": [
      "[[1 2 3]\n",
      " [3 5 6]]\n"
     ]
    }
   ],
   "source": [
    "# Crear un array de 2D\n",
    "\n",
    "array_2d = np.array([[1,2,3],[3,5,6]])\n",
    "print(array_2d)"
   ]
  },
  {
   "cell_type": "code",
   "execution_count": 8,
   "id": "15363cac",
   "metadata": {},
   "outputs": [
    {
     "name": "stdout",
     "output_type": "stream",
     "text": [
      "<class 'numpy.ndarray'>\n"
     ]
    }
   ],
   "source": [
    "print(type(array_2d))"
   ]
  },
  {
   "cell_type": "code",
   "execution_count": 9,
   "id": "db6bcdf0",
   "metadata": {},
   "outputs": [
    {
     "data": {
      "text/plain": [
       "array([[1, 3],\n",
       "       [2, 5],\n",
       "       [3, 6]])"
      ]
     },
     "execution_count": 9,
     "metadata": {},
     "output_type": "execute_result"
    }
   ],
   "source": [
    "#TRANSPONER LA MATRIZ\n",
    "array_2d.T"
   ]
  },
  {
   "cell_type": "markdown",
   "id": "89b588bc",
   "metadata": {},
   "source": [
    "ATRIBUTOS PRINCIPALES QUE TIENE NUESTRO OBJETO NUMPY ARRAY\n",
    "\n",
    "- ndim: dimensión del array\n",
    "- shape: tupla con #numero filas, numero columnas\n",
    "- dtype: tipo de dato que tenemos en el array (todos los elemnetos deben ser del mismo tipo)"
   ]
  },
  {
   "cell_type": "code",
   "execution_count": 17,
   "id": "a1d2b3ef",
   "metadata": {},
   "outputs": [
    {
     "name": "stdout",
     "output_type": "stream",
     "text": [
      "Array: \n",
      "[[1 2 3 4]\n",
      " [5 6 7 8]\n",
      " [4 6 9 0]]\n",
      "\n",
      "\n",
      "Numero de dimensiones (ndim): 2\n",
      "Numero de dimensiones (ndim): (3, 4)\n",
      "Data type (dtype): int64\n"
     ]
    }
   ],
   "source": [
    "array = np.array([[1,2,3,4], [5,6,7,8], [4,6,9,0]])\n",
    "\n",
    "print(f\"Array: \\n{array}\")\n",
    "print('\\n')\n",
    "print(f'Numero de dimensiones (ndim): {array.ndim}')\n",
    "print(f'Numero de dimensiones (ndim): {array.shape}')\n",
    "print(f'Data type (dtype): {array.dtype}')"
   ]
  },
  {
   "cell_type": "code",
   "execution_count": 19,
   "id": "06356c1f",
   "metadata": {},
   "outputs": [
    {
     "name": "stdout",
     "output_type": "stream",
     "text": [
      "Data type (dtype): <U21\n"
     ]
    }
   ],
   "source": [
    "array_mixto = np.array([\n",
    "    [1,2,\"3\"],\n",
    "    [4,5,6]\n",
    "]) \n",
    "\n",
    "print(f'Data type (dtype): {array_mixto.dtype}')"
   ]
  },
  {
   "cell_type": "markdown",
   "id": "e83873aa",
   "metadata": {},
   "source": [
    "## Array Indexing\n",
    "\n",
    "Acceder a los elementos de un numpy array es similar a la sintacis de las listas"
   ]
  },
  {
   "cell_type": "code",
   "execution_count": 23,
   "id": "a05d59ca",
   "metadata": {},
   "outputs": [
    {
     "name": "stdout",
     "output_type": "stream",
     "text": [
      "Elemento en la posicion 2: c\n"
     ]
    }
   ],
   "source": [
    "# Caso lista\n",
    "lista = ['a', 'b', 'c']\n",
    "print(f'Elemento en la posicion 2: {lista[2]}')"
   ]
  },
  {
   "cell_type": "markdown",
   "id": "a96c1a33",
   "metadata": {},
   "source": [
    "Para acceder a un array tenemos las sigs. opciones:\n",
    "\n",
    "- Elemento especifico: array[fila, columna]\n",
    "- Slicing: usamos \"colons (:)\"para selecciionar columnas/filas enteras o rangos de cada uno.\n",
    "- indice negarivo: contamos desde atras en los elemntoa"
   ]
  },
  {
   "cell_type": "code",
   "execution_count": 30,
   "id": "b27f25bf",
   "metadata": {},
   "outputs": [
    {
     "name": "stdout",
     "output_type": "stream",
     "text": [
      "Elemento 1 de mi vector: 11\n",
      "Los primeros n elementos de mi vector: [12 11 20]\n",
      "Los primeros n elementos de mi vector: [20 35 40]\n",
      "Ultimo Elemento de mi vector: 40\n"
     ]
    }
   ],
   "source": [
    "vector = np.array([12,11,20,35,40])\n",
    "\n",
    "# ELEMENTO ESPECIFICO\n",
    "print(f'Elemento 1 de mi vector: {vector[1]}')\n",
    "\n",
    "# SLICING\n",
    "print(f'Los primeros n elementos de mi vector: {vector[0:3]}')\n",
    "print(f'Los primeros n elementos de mi vector: {vector[2:5]}')\n",
    "\n",
    "# INDICE NEGATIVO\n",
    "print(f'Ultimo Elemento de mi vector: {vector[-1]}')"
   ]
  },
  {
   "cell_type": "markdown",
   "id": "23dbeafb",
   "metadata": {},
   "source": [
    "Operaciones con matrices"
   ]
  },
  {
   "cell_type": "code",
   "execution_count": 35,
   "id": "09d4eb2a",
   "metadata": {},
   "outputs": [
    {
     "data": {
      "text/plain": [
       "array([[ 0,  1,  2,  3,  4],\n",
       "       [ 5,  6,  7,  8,  9],\n",
       "       [10, 11, 12, 13, 14],\n",
       "       [15, 16, 17, 18, 19],\n",
       "       [20, 21, 22, 23, 24]])"
      ]
     },
     "execution_count": 35,
     "metadata": {},
     "output_type": "execute_result"
    }
   ],
   "source": [
    "# GENERA UN ARRAY DE 25 ENTRADAS Y DESPUES RE ACOMODAR LOS DATOS\n",
    "\n",
    "matrix = np.arange(25).reshape(5,5) # creamos una matrix 5x5\n",
    "matrix"
   ]
  },
  {
   "cell_type": "code",
   "execution_count": 43,
   "id": "35d3f06d",
   "metadata": {},
   "outputs": [
    {
     "name": "stdout",
     "output_type": "stream",
     "text": [
      "Elemento en la posicion (1,2): 7\n",
      " \n",
      " Primera fila de la matriz: [0 1 2 3 4]\n",
      " \n",
      " Ultima columna de la matriz: [ 4  9 14 19 24]\n",
      "\n",
      " Submatriz  (filas 0-2) y columnas 0-1 [[ 0  1]\n",
      " [ 5  6]\n",
      " [10 11]]\n"
     ]
    }
   ],
   "source": [
    "# ACCESO A UN ELEMENTO EN ESPECÍFICO\n",
    "print(f'Elemento en la posicion (1,2): {matrix[1,2]}')\n",
    "\n",
    "# SELECCIONAR UNA FILA COMPLETA DE LA MATRIZ \n",
    "print(f' \\n Primera fila de la matriz: {matrix[0,:]}')\n",
    "\n",
    "# SELECIONAR LA ULTIMA COLUMNA\n",
    "print(f' \\n Ultima columna de la matriz: {matrix[:,-1]}')\n",
    "\n",
    "# SLICING DE UNA MATRIZ\n",
    "print(f'\\n Submatriz  (filas 0-2) y columnas 0-1 {matrix[0:3,0:2]}')"
   ]
  },
  {
   "cell_type": "code",
   "execution_count": 45,
   "id": "9f710680",
   "metadata": {},
   "outputs": [
    {
     "name": "stdout",
     "output_type": "stream",
     "text": [
      "Vector reversed: [40 35 20 11 12]\n"
     ]
    }
   ],
   "source": [
    "#Reversing a row from a vector\n",
    "print(f'Vector reversed: {vector[::-1]}')"
   ]
  },
  {
   "cell_type": "code",
   "execution_count": 47,
   "id": "1ceabf08",
   "metadata": {},
   "outputs": [
    {
     "name": "stdout",
     "output_type": "stream",
     "text": [
      "Row of a matrix reversed: [4 3 2 1 0]\n"
     ]
    }
   ],
   "source": [
    "print(f'Row of a matrix reversed: {matrix[0,::-1]}')"
   ]
  },
  {
   "cell_type": "code",
   "execution_count": 51,
   "id": "f9f02258",
   "metadata": {},
   "outputs": [
    {
     "data": {
      "text/plain": [
       "array([[ 0,  0,  0,  0,  0],\n",
       "       [ 5,  6,  7,  8,  9],\n",
       "       [10, 11, 12, 13, 14],\n",
       "       [15, 16, 17, 18, 19],\n",
       "       [ 0,  0,  0,  0,  0]])"
      ]
     },
     "execution_count": 51,
     "metadata": {},
     "output_type": "execute_result"
    }
   ],
   "source": [
    "#asignacion\n",
    "matrix[[0,-1]] = 0\n",
    "matrix"
   ]
  },
  {
   "cell_type": "code",
   "execution_count": 56,
   "id": "38d68db6",
   "metadata": {},
   "outputs": [
    {
     "data": {
      "text/plain": [
       "array([[-91, -72,  -5, -93, -78],\n",
       "       [-58, -56, -79,  -2, -14]])"
      ]
     },
     "execution_count": 56,
     "metadata": {},
     "output_type": "execute_result"
    }
   ],
   "source": [
    "#GENERAR NOS. ALEATORIOS ENTEROS\n",
    "random_numbers = np.random.randint(low = -100, high = -1, size = (2,5))\n",
    "random_numbers"
   ]
  },
  {
   "cell_type": "markdown",
   "id": "69acd8ed",
   "metadata": {},
   "source": [
    "## OPERACIONES CON ARRAYS\n",
    "\n",
    "- Una de las habilidades de NUMPY es que puedes hacer operaciones vectorizadas"
   ]
  },
  {
   "cell_type": "code",
   "execution_count": 64,
   "id": "6203c6fd",
   "metadata": {},
   "outputs": [
    {
     "name": "stdout",
     "output_type": "stream",
     "text": [
      "Original array 1: \n",
      ": [[2 4 6]\n",
      " [3 5 1]]\n"
     ]
    }
   ],
   "source": [
    "array_1 = np.array([[2, 4, 6],\n",
    "                    [3, 5, 1]])\n",
    "\n",
    "print(f'Original array 1: \\n: {array_1}')"
   ]
  },
  {
   "cell_type": "code",
   "execution_count": 66,
   "id": "300cf989",
   "metadata": {},
   "outputs": [
    {
     "name": "stdout",
     "output_type": "stream",
     "text": [
      "array_1 +1: \n",
      " [[3 5 7]\n",
      " [4 6 2]]\n",
      "array_1 ˆ2 \n",
      " [[ 4 16 36]\n",
      " [ 9 25  1]]\n",
      "\n",
      " array_1 <= 3 \n",
      " [[ True False False]\n",
      " [ True False  True]]\n"
     ]
    }
   ],
   "source": [
    "#sumar un escalar\n",
    "print(f'array_1 +1: \\n {array_1 + 1}')\n",
    "\n",
    "#elevar al cuadrado\n",
    "print(f'array_1 ˆ2 \\n {array_1 ** 2}')\n",
    "\n",
    "# operaciones con condicionales\n",
    "print(f'\\n array_1 <= 3 \\n {array_1 <= 3}')"
   ]
  },
  {
   "cell_type": "markdown",
   "id": "34972dc8",
   "metadata": {},
   "source": [
    "##  Secuencias con numpy"
   ]
  },
  {
   "cell_type": "markdown",
   "id": "059b7d80",
   "metadata": {},
   "source": [
    "- np.arange(start,stop,step)\n",
    "- np.linspace(start,stop,num): regresa una muestra con elementos evenly spaced calculados osbre le intervalo"
   ]
  },
  {
   "cell_type": "code",
   "execution_count": 74,
   "id": "b298307b",
   "metadata": {},
   "outputs": [
    {
     "name": "stdout",
     "output_type": "stream",
     "text": [
      "np.arange(2,11,2):  [ 2  4  6  8 10]\n",
      "np.arange(2,3.5,0.1): [2.  2.1 2.2 2.3 2.4 2.5 2.6 2.7 2.8 2.9 3.  3.1 3.2 3.3 3.4]\n",
      "np.linspace(1,10,21): [ 1.    1.45  1.9   2.35  2.8   3.25  3.7   4.15  4.6   5.05  5.5   5.95\n",
      "  6.4   6.85  7.3   7.75  8.2   8.65  9.1   9.55 10.  ]\n"
     ]
    }
   ],
   "source": [
    "# crear secuencia con steps enteros:\n",
    "\n",
    "print(\"np.arange(2,11,2): \", np.arange(2,11,2))\n",
    "\n",
    "# creamos secuencia con steps flotantes\n",
    "print(\"np.arange(2,3.5,0.1):\", np.arange(2,3.5,0.1))\n",
    "\n",
    "# Secuencia con numeros equidistantes:\n",
    "print('np.linspace(1,10,21):', np.linspace(1,10,21))"
   ]
  },
  {
   "cell_type": "markdown",
   "id": "5c16d637",
   "metadata": {},
   "source": [
    "## Cambiar dimensiones de un array\n",
    "\n",
    "- .reshape(new_shape): crea un nuevo array con la nueva dimension sin cambiar los datos\n",
    "- .flatten(): regresa una copia del array colpasado en una 1 dimension"
   ]
  },
  {
   "cell_type": "code",
   "execution_count": 76,
   "id": "1d2935a3",
   "metadata": {},
   "outputs": [
    {
     "name": "stdout",
     "output_type": "stream",
     "text": [
      "orignal array: [ 0  1  2  3  4  5  6  7  8  9 10 11 12 13 14 15 16 17 18 19 20 21 22 23\n",
      " 24]\n",
      "original ndim: 1\n",
      "original shape (25,)\n"
     ]
    }
   ],
   "source": [
    "array = np.arange(25) #1D ARRAY WITH ELEMENTOS DEL 0-24\n",
    "print('orignal array:', array)\n",
    "print('original ndim:', array.ndim)\n",
    "print('original shape', array.shape)"
   ]
  },
  {
   "cell_type": "code",
   "execution_count": 77,
   "id": "cde16532",
   "metadata": {},
   "outputs": [
    {
     "name": "stdout",
     "output_type": "stream",
     "text": [
      "Reshaped 5x5: [[ 0  1  2  3  4]\n",
      " [ 5  6  7  8  9]\n",
      " [10 11 12 13 14]\n",
      " [15 16 17 18 19]\n",
      " [20 21 22 23 24]]\n",
      "Reshaped ndim: 2\n",
      "Reshaped shape (5, 5)\n"
     ]
    }
   ],
   "source": [
    "# reshape de nuestro array a una matrix de 5x5\n",
    "array_reshaped = array.reshape(5,5)\n",
    "\n",
    "print('Reshaped 5x5:', array_reshaped)\n",
    "print('Reshaped ndim:', array_reshaped.ndim)\n",
    "print('Reshaped shape', array_reshaped.shape)"
   ]
  },
  {
   "cell_type": "code",
   "execution_count": 78,
   "id": "c9d20a90",
   "metadata": {},
   "outputs": [
    {
     "name": "stdout",
     "output_type": "stream",
     "text": [
      "\n",
      " flattened array [ 0  1  2  3  4  5  6  7  8  9 10 11 12 13 14 15 16 17 18 19 20 21 22 23\n",
      " 24]\n"
     ]
    }
   ],
   "source": [
    "# regresar la matriz al vector se realiza asi:\n",
    "array_flattened = array_reshaped.flatten()\n",
    "print('\\n flattened array',array_flattened)"
   ]
  },
  {
   "cell_type": "code",
   "execution_count": 84,
   "id": "81bc1221",
   "metadata": {},
   "outputs": [
    {
     "name": "stdout",
     "output_type": "stream",
     "text": [
      "Array de zeros (1D): \n",
      " [0. 0. 0. 0. 0.]\n",
      "Array de zeros: (2D) \n",
      " [[1. 1. 1.]\n",
      " [1. 1. 1.]]\n",
      "\n",
      " Matriz identidad (5x5): [[1. 0. 0. 0. 0.]\n",
      " [0. 1. 0. 0. 0.]\n",
      " [0. 0. 1. 0. 0.]\n",
      " [0. 0. 0. 1. 0.]\n",
      " [0. 0. 0. 0. 1.]]\n",
      "\n",
      " Casi Matriz identidad (5x4): [[1. 0. 0. 0.]\n",
      " [0. 1. 0. 0.]\n",
      " [0. 0. 1. 0.]\n",
      " [0. 0. 0. 1.]\n",
      " [0. 0. 0. 0.]]\n"
     ]
    }
   ],
   "source": [
    "# Creamos un array de zeros\n",
    "print('Array de zeros (1D): \\n', np.zeros(5))\n",
    "\n",
    "# Creamos un array de zeros\n",
    "print('Array de zeros: (2D) \\n', np.ones((2,3)))\n",
    "\n",
    "# creamos la matriz identidad \n",
    "print('\\n Matriz identidad (5x5):', np.identity(5))\n",
    "\n",
    "#creamos un array 2d con 1s en la diagonal y ceros en otras partes\n",
    "print('\\n Casi Matriz identidad (5x4):', np.eye(5,4))"
   ]
  },
  {
   "cell_type": "markdown",
   "id": "d5d4eebf",
   "metadata": {},
   "source": [
    "## ELEMENTOS ESTADISTICOS"
   ]
  },
  {
   "cell_type": "code",
   "execution_count": 90,
   "id": "551f708e",
   "metadata": {},
   "outputs": [
    {
     "name": "stdout",
     "output_type": "stream",
     "text": [
      "vector numeros aleatorios [  84 -100  -40   44  -84  -38  -12   -5  -91  -37]\n",
      "\n",
      " valor min: -100\n",
      "\n",
      " valor maz: 84\n",
      "\n",
      " indice del valor max: 0\n",
      "\n",
      " suma de todos los elementos: -279\n",
      "\n",
      " media  delos elementos: -279\n",
      "\n",
      " varianza de los elementos: 3112.69\n",
      "\n",
      " suma acumulada de los elementos: [  84  -16  -56  -12  -96 -134 -146 -151 -242 -279]\n"
     ]
    }
   ],
   "source": [
    "# Generamos un vector con nos. aleatorios\n",
    "\n",
    "random = np.random.randint(-100,100,10)\n",
    "print('vector numeros aleatorios',random)\n",
    "print('\\n valor min:', random.min())\n",
    "print('\\n valor maz:', random.max())\n",
    "print('\\n indice del valor max:', random.argmax())\n",
    "print('\\n suma de todos los elementos:', random.sum())\n",
    "print('\\n media  delos elementos:', random.sum())\n",
    "print('\\n varianza de los elementos:', random.var())\n",
    "print('\\n suma acumulada de los elementos:', random.cumsum())\n"
   ]
  },
  {
   "cell_type": "code",
   "execution_count": 104,
   "id": "5a55256d",
   "metadata": {},
   "outputs": [
    {
     "name": "stdout",
     "output_type": "stream",
     "text": [
      "3D ARRAY: \n",
      " [[[ 45  -2  48  -1 -38  96 -39 -24 -72 -56]\n",
      "  [-39 -83 -78  67  48 -88 -38 -85  27  59]\n",
      "  [ -3  65 -27 -40 -89 -36  44  -9 -83  33]\n",
      "  [ 53 -40 -49  -4 -86  39 -63 -28 -13 -49]\n",
      "  [ 86  33  43 -88  59  -7 -62  32 -39 -65]]\n",
      "\n",
      " [[ 37  76  59  10 -11 -46 -83  96  31 -95]\n",
      "  [ 90  67 -54 -20 -69  63 -59 -95  44   2]\n",
      "  [ 31  46  13  88  61 -78 -80  59  86  12]\n",
      "  [ 56 -36  69  -7  80 -88 -83  96  30  -8]\n",
      "  [-30 -46  13  32  59 -63 -47  73 -23  55]]]\n",
      "Suma de todos los elementos:  -156\n",
      "\n",
      " suma del primer slice () (random_3d_array[0].sum()) -263\n",
      " \n",
      " sliced array: \n",
      " [[  1 -24  12   3 -79  46  24 -94  92 -62]\n",
      " [ 57  19   4 -11  87 -65 -62  38  79  16]\n",
      " [-27  13  11 -26  20 -89  31  91 -34  55]\n",
      " [-12  15  23 -55 -44  21  -5 -11 -59  30]\n",
      " [-94 -70 -74  40  10 -59 -64 -44  -2  65]]\n",
      "Suma sobre axis=0 [ -75  -47  -24  -49   -6 -146  -76  -20   76  104]\n",
      "Suma sobre axis=1 [ -81  162   45  -97 -292]\n"
     ]
    }
   ],
   "source": [
    "#generemos una matriz con numeros aleatorios\n",
    "random_3d_array = np.random.randint(-100,100, size = (2,5,10))\n",
    "print('3D ARRAY: \\n', random_matrix)\n",
    "\n",
    "#obtener la suma de todos los elementos\n",
    "print('Suma de todos los elementos: ', random_3d_array.sum())\n",
    "\n",
    "print('\\n suma del primer slice () (random_3d_array[0].sum())', random_3d_array[0].sum())\n",
    "\n",
    "#pasamos a solo 1 slice del array\n",
    "slice_array = random_3d_array[0]\n",
    "print(' \\n sliced array: \\n',slice_array)\n",
    "\n",
    "#suma sobre columnas\n",
    "print('Suma sobre axis=0', slice_array.sum(axis=0))\n",
    "\n",
    "\n",
    "\n",
    "#suma sobre filas\n",
    "print('Suma sobre axis=1', slice_array.sum(axis=1))"
   ]
  },
  {
   "cell_type": "markdown",
   "id": "65758502",
   "metadata": {},
   "source": [
    "Para calcular diferencias tenemos la funcion np.diff() la cual calcula la n diferencia sobre un eje"
   ]
  },
  {
   "cell_type": "code",
   "execution_count": 107,
   "id": "3f82222e",
   "metadata": {},
   "outputs": [
    {
     "name": "stdout",
     "output_type": "stream",
     "text": [
      "original array [1 3 4 7 9]\n",
      "first difference: [2 1 3 2]\n",
      "first difference: [-1  2 -1]\n",
      "Pct cambios: [2.         0.33333333 0.75       0.28571429]\n"
     ]
    }
   ],
   "source": [
    "array = np.array([1,3,4,7,9])\n",
    "print('original array', array)\n",
    "\n",
    "# primera diferencia (n=1 por defecto)\n",
    "print('first difference:', np.diff(array, n=1))\n",
    "\n",
    "# SEGUNDA diferencia (n=2)\n",
    "print('first difference:', np.diff(array, n=2))\n",
    "\n",
    "# cambios porcentuales (ai - ai-1/ ai-1)\n",
    "print('Pct cambios:', np.diff(array)/array[:-1])\n"
   ]
  },
  {
   "cell_type": "markdown",
   "id": "a1443576",
   "metadata": {},
   "source": [
    "## Para encontrar los elementos unicos de un vector"
   ]
  },
  {
   "cell_type": "code",
   "execution_count": 111,
   "id": "b054ac0e",
   "metadata": {},
   "outputs": [
    {
     "name": "stdout",
     "output_type": "stream",
     "text": [
      "Elementos unicos: [ 1  3  4  7  9 25]\n",
      "Elementos unico y cuanors hays: [ 1  3  4  7  9 25] [2 1 1 1 1 1]\n"
     ]
    }
   ],
   "source": [
    "array = np.array([1,3,4,7,9,1,25])\n",
    "\n",
    "#elementos unicos\n",
    "print('Elementos unicos:',np.unique(array))\n",
    "\n",
    "#elementos unicos y cuantos hay\n",
    "unique_elements, counts = np.unique(array, return_counts =True)\n",
    "print('Elementos unico y cuanors hays:', unique_elements, counts)"
   ]
  },
  {
   "cell_type": "markdown",
   "id": "8fa2a74f",
   "metadata": {},
   "source": [
    "## Multiplicación de matrices\n",
    "\n",
    "Es importante diferenciar entre la mult *elemnt wise* (* o. np.multiply) contra la mult matricial  *matricial* (np.matmult o np.dot)\n",
    "\n",
    "- A * B or np.multiply(A,B): genera mult elemento a elemento\n",
    "- np.dot(A,B): def de producto . Para arrays de 2D aplica mult matricial, para arrays de 1D aplica innerproduct\n"
   ]
  },
  {
   "cell_type": "code",
   "execution_count": 119,
   "id": "558f51b2",
   "metadata": {},
   "outputs": [
    {
     "name": "stdout",
     "output_type": "stream",
     "text": [
      "Matriz A: \n",
      " [[ 0  1  2  3]\n",
      " [ 4  5  6  7]\n",
      " [ 8  9 10 11]\n",
      " [12 13 14 15]]\n",
      "\n",
      " Mult A*A: \n",
      " [[  0   1   4   9]\n",
      " [ 16  25  36  49]\n",
      " [ 64  81 100 121]\n",
      " [144 169 196 225]]\n",
      "\n",
      " MATRIX MULT: \n",
      " [[ 56  62  68  74]\n",
      " [152 174 196 218]\n",
      " [248 286 324 362]\n",
      " [344 398 452 506]]\n",
      "Vector B: \n",
      " [0 1 2 3]\n",
      "DOCT PRODUCT A, B: \n",
      " [14 38 62 86]\n"
     ]
    }
   ],
   "source": [
    "A = np.arange(16).reshape(4,4)\n",
    "print('Matriz A: \\n', A)\n",
    "\n",
    "#Element with mult\n",
    "print('\\n Mult A*A: \\n', A*A)\n",
    "\n",
    "#matrix mult\n",
    "print('\\n MATRIX MULT: \\n', np.dot(A,A))\n",
    "\n",
    "B_Vector = np.arange(4) #1d vector\n",
    "print('Vector B: \\n', B_Vector)\n",
    "\n",
    "# Dot product\n",
    "print('DOCT PRODUCT A, B: \\n', np.dot(A,B_Vector))\n"
   ]
  },
  {
   "cell_type": "code",
   "execution_count": 120,
   "id": "a88003e9",
   "metadata": {},
   "outputs": [
    {
     "data": {
      "text/plain": [
       "array([[ 0,  4,  8, 12],\n",
       "       [ 1,  5,  9, 13],\n",
       "       [ 2,  6, 10, 14],\n",
       "       [ 3,  7, 11, 15]])"
      ]
     },
     "execution_count": 120,
     "metadata": {},
     "output_type": "execute_result"
    }
   ],
   "source": [
    "# TRANSPONER MATRICES\n",
    "A.T"
   ]
  },
  {
   "cell_type": "code",
   "execution_count": 121,
   "id": "fb79b3a4",
   "metadata": {},
   "outputs": [
    {
     "data": {
      "text/plain": [
       "array([0, 1, 2, 3])"
      ]
     },
     "execution_count": 121,
     "metadata": {},
     "output_type": "execute_result"
    }
   ],
   "source": [
    "B_Vector.T"
   ]
  },
  {
   "cell_type": "markdown",
   "id": "4a11197a",
   "metadata": {},
   "source": [
    "## ALGEBRA LINEAL"
   ]
  },
  {
   "cell_type": "code",
   "execution_count": 136,
   "id": "3b2b047d",
   "metadata": {},
   "outputs": [
    {
     "name": "stdout",
     "output_type": "stream",
     "text": [
      "Matriz A: \n",
      " [[3 1]\n",
      " [4 3]]\n",
      "Inversa de A: \n",
      " [[ 0.6 -0.2]\n",
      " [-0.8  0.6]]\n",
      "\n",
      " A * inv_A \n",
      ":  [[ 1.00000000e+00 -1.11022302e-16]\n",
      " [ 2.22044605e-16  1.00000000e+00]]\n",
      "\n",
      " A transpuesta\n",
      ":  [[3 4]\n",
      " [1 3]]\n",
      "\n",
      " A DETERMINANTE \n",
      ":  4.999999999999999\n",
      "\n",
      " A eigenvalores \n",
      ":  [5. 1.]\n",
      "\n",
      " Resolviendo Ax= b\n",
      "sol [0.2 0.4]\n"
     ]
    }
   ],
   "source": [
    "A = np.random.randint(5, size = (2,2))\n",
    "print('Matriz A: \\n', A)\n",
    "\n",
    "# Inversa de la matriz\n",
    "inv_A = np.linalg.inv(A)\n",
    "print('Inversa de A: \\n', inv_A)\n",
    "\n",
    "# verificamos que la inversa este bien calculada np.dot(A,inv_A) =identity matrix\n",
    "print('\\n A * inv_A \\n: ', np.dot(A,inv_A))\n",
    "\n",
    "# transpuesta\n",
    "print('\\n A transpuesta\\n: ', np.transpose(A))\n",
    "\n",
    "# determiannte\n",
    "print('\\n A DETERMINANTE \\n: ', np.linalg.det(A))\n",
    "\n",
    "# EIGEN VALORES\n",
    "print('\\n A eigenvalores \\n: ', np.linalg.eigvals(A))\n",
    "\n",
    "# RESOLVER ECS (Ax =b)\n",
    "b = np.array([1,2])\n",
    "print('\\n Resolviendo Ax= b')\n",
    "# x = A_inv *b\n",
    "x = inv_A.dot(b)\n",
    "print('sol',x)"
   ]
  },
  {
   "cell_type": "code",
   "execution_count": null,
   "id": "c36f683c",
   "metadata": {},
   "outputs": [],
   "source": []
  }
 ],
 "metadata": {
  "kernelspec": {
   "display_name": "Python 3 (ipykernel)",
   "language": "python",
   "name": "python3"
  },
  "language_info": {
   "codemirror_mode": {
    "name": "ipython",
    "version": 3
   },
   "file_extension": ".py",
   "mimetype": "text/x-python",
   "name": "python",
   "nbconvert_exporter": "python",
   "pygments_lexer": "ipython3",
   "version": "3.11.3"
  }
 },
 "nbformat": 4,
 "nbformat_minor": 5
}
