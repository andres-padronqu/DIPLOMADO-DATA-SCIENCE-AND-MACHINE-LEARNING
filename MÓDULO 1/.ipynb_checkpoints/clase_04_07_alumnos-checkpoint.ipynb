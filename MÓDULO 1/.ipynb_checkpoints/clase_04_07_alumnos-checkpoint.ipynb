{
 "cells": [
  {
   "attachments": {
    "logo_ITAM.png": {
     "image/png": "[encoded data removed]"
    }
   },
   "cell_type": "markdown",
   "id": "9819ae0b",
   "metadata": {},
   "source": [
    "![logo_ITAM.png](attachment:logo_ITAM.png)"
   ]
  },
  {
   "cell_type": "markdown",
   "id": "fb30bd59",
   "metadata": {},
   "source": [
    "# Clase 4 - Funciones y listas de comprensión\n",
    "\n",
    "\n",
    "El objetivo de la clase de hoy es conocer cómo declarar funciones en python. Veremos varios ejemplos sobre cómo construirlas y los elementos que las componen.\n",
    "\n",
    "También veremos cómo construir listas usando un for \"abreviado\" - listas de comprensión."
   ]
  },
  {
   "cell_type": "code",
   "execution_count": 5,
   "id": "c862c8ff",
   "metadata": {},
   "outputs": [
    {
     "name": "stdout",
     "output_type": "stream",
     "text": [
      "dame un número: 0.5\n",
      "0.5 está entre 0 y 1\n"
     ]
    }
   ],
   "source": [
    "# ¿Cómo podemos poner este doble if en una expresión in-line?\n",
    "\n",
    "number = float(input(\"dame un número: \"))\n",
    "\n",
    "if number >= 1:\n",
    "    print(f\"{number} es mayor o igual que 1\")\n",
    "elif 0 < number < 1:\n",
    "    print(f\"{number} está entre 0 y 1\")\n",
    "else:\n",
    "    print(f\"{number} es menor o igual a cero\")"
   ]
  },
  {
   "cell_type": "code",
   "execution_count": 8,
   "id": "df1eebe4",
   "metadata": {},
   "outputs": [
    {
     "data": {
      "text/plain": [
       "{'a': 2,\n",
       " 'b': 3,\n",
       " 'c': 4,\n",
       " 'd': 5,\n",
       " 'e': 6,\n",
       " 'f': 7,\n",
       " 'g': 8,\n",
       " 'h': 9,\n",
       " 'i': 10,\n",
       " 'j': 12,\n",
       " 'k': 13,\n",
       " 'l': 15,\n",
       " 'm': 16,\n",
       " 'n': 18,\n",
       " 'o': 20}"
      ]
     },
     "execution_count": 8,
     "metadata": {},
     "output_type": "execute_result"
    }
   ],
   "source": [
    "# hacer un código para iterar sobre el sig diccionario y quedarse con las keys \n",
    "# cuyo valor sea múltiplo del número dado por el usuario\n",
    "\n",
    "d = {\"a\":2, \"b\":3, \"c\":4, \"d\":5, \"e\":6, \"f\":7, \"g\":8, \"h\":9, \"i\":10, \"j\":12, \"k\":13, \"l\":15, \"m\":16, \"n\":18, \"o\":20}\n",
    "\n",
    "d"
   ]
  },
  {
   "cell_type": "markdown",
   "id": "7459c8cf",
   "metadata": {},
   "source": [
    "## Funciones"
   ]
  },
  {
   "cell_type": "markdown",
   "id": "58804ed0",
   "metadata": {},
   "source": [
    "* Una función es un conjunto de instruccioines que resuelven un problema en concreto de manera independiente al resto del programa.\n",
    "\n",
    "\n",
    "* La mayoría de los lenguajes de programación, como es el caso de Python, contienen funciones ya definidas que pueden ser usadadas por el usuario. "
   ]
  },
  {
   "cell_type": "code",
   "execution_count": null,
   "id": "ab61cce5",
   "metadata": {},
   "outputs": [],
   "source": [
    "## Ya hemos usado funciones en las sesiones anteriores:\n",
    "\n",
    "len(\"my_string\")"
   ]
  },
  {
   "cell_type": "code",
   "execution_count": null,
   "id": "a41ac5d2",
   "metadata": {},
   "outputs": [],
   "source": [
    "print(\"Hola, Mundo\")"
   ]
  },
  {
   "cell_type": "code",
   "execution_count": null,
   "id": "8274a3be",
   "metadata": {},
   "outputs": [],
   "source": [
    "sum([1, 2, 3, 4])"
   ]
  },
  {
   "cell_type": "code",
   "execution_count": null,
   "id": "5f35a275",
   "metadata": {},
   "outputs": [],
   "source": [
    "pow(3,2)"
   ]
  },
  {
   "cell_type": "code",
   "execution_count": null,
   "id": "23b63af0",
   "metadata": {},
   "outputs": [],
   "source": [
    "abs(-1)"
   ]
  },
  {
   "cell_type": "markdown",
   "id": "961ae495",
   "metadata": {},
   "source": [
    "... pero también podemos definir nuestras propias funciones:"
   ]
  },
  {
   "cell_type": "code",
   "execution_count": 1,
   "id": "15b38ba3",
   "metadata": {},
   "outputs": [],
   "source": [
    "def algo():\n",
    "    print(\"hola\")"
   ]
  },
  {
   "cell_type": "code",
   "execution_count": 2,
   "id": "58ecf787",
   "metadata": {},
   "outputs": [
    {
     "data": {
      "text/plain": [
       "<function __main__.algo()>"
      ]
     },
     "execution_count": 2,
     "metadata": {},
     "output_type": "execute_result"
    }
   ],
   "source": [
    "algo"
   ]
  },
  {
   "cell_type": "code",
   "execution_count": 3,
   "id": "d8cfbc57",
   "metadata": {},
   "outputs": [
    {
     "name": "stdout",
     "output_type": "stream",
     "text": [
      "hola\n"
     ]
    }
   ],
   "source": [
    "algo()"
   ]
  },
  {
   "cell_type": "code",
   "execution_count": 4,
   "id": "8c59be01",
   "metadata": {},
   "outputs": [],
   "source": [
    "def suma_2(x, y): #en esta celda no imprime nada porque aquí se define la función \n",
    "    print(x + y)"
   ]
  },
  {
   "cell_type": "code",
   "execution_count": 5,
   "id": "ccbf7a4c",
   "metadata": {},
   "outputs": [
    {
     "data": {
      "text/plain": [
       "<function __main__.suma_2(x, y)>"
      ]
     },
     "execution_count": 5,
     "metadata": {},
     "output_type": "execute_result"
    }
   ],
   "source": [
    "suma_2"
   ]
  },
  {
   "cell_type": "code",
   "execution_count": 6,
   "id": "20bbcb42",
   "metadata": {},
   "outputs": [
    {
     "name": "stdout",
     "output_type": "stream",
     "text": [
      "11\n"
     ]
    }
   ],
   "source": [
    "suma_2(4, 7) #forma implicita, ya reconoce que x=4 y que y=7"
   ]
  },
  {
   "cell_type": "code",
   "execution_count": 7,
   "id": "88b7ce21",
   "metadata": {},
   "outputs": [
    {
     "name": "stdout",
     "output_type": "stream",
     "text": [
      "[1, 2, 3, 4, 5, 6]\n"
     ]
    }
   ],
   "source": [
    "suma_2([1,2,3], [4,5,6]) #suma d evectores"
   ]
  },
  {
   "cell_type": "code",
   "execution_count": 8,
   "id": "632f3b42",
   "metadata": {},
   "outputs": [
    {
     "name": "stdout",
     "output_type": "stream",
     "text": [
      "holaadios\n"
     ]
    }
   ],
   "source": [
    "suma_2(\"hola\", \"adios\")"
   ]
  },
  {
   "cell_type": "code",
   "execution_count": 9,
   "id": "0eff5bea",
   "metadata": {},
   "outputs": [
    {
     "ename": "TypeError",
     "evalue": "can only concatenate str (not \"int\") to str",
     "output_type": "error",
     "traceback": [
      "\u001b[0;31m---------------------------------------------------------------------------\u001b[0m",
      "\u001b[0;31mTypeError\u001b[0m                                 Traceback (most recent call last)",
      "Cell \u001b[0;32mIn[9], line 1\u001b[0m\n\u001b[0;32m----> 1\u001b[0m suma_2(x \u001b[38;5;241m=\u001b[39m \u001b[38;5;124m\"\u001b[39m\u001b[38;5;124ma\u001b[39m\u001b[38;5;124m\"\u001b[39m, y \u001b[38;5;241m=\u001b[39m \u001b[38;5;241m7\u001b[39m)\n",
      "Cell \u001b[0;32mIn[4], line 2\u001b[0m, in \u001b[0;36msuma_2\u001b[0;34m(x, y)\u001b[0m\n\u001b[1;32m      1\u001b[0m \u001b[38;5;28;01mdef\u001b[39;00m \u001b[38;5;21msuma_2\u001b[39m(x, y): \u001b[38;5;66;03m#en esta celda no imprime nada porque aquí se define la función \u001b[39;00m\n\u001b[0;32m----> 2\u001b[0m     \u001b[38;5;28mprint\u001b[39m(x \u001b[38;5;241m+\u001b[39m y)\n",
      "\u001b[0;31mTypeError\u001b[0m: can only concatenate str (not \"int\") to str"
     ]
    }
   ],
   "source": [
    "suma_2(x = \"a\", y = 7) #forma explícita, se lo asignamos directo"
   ]
  },
  {
   "cell_type": "code",
   "execution_count": 11,
   "id": "8e820588",
   "metadata": {},
   "outputs": [
    {
     "ename": "TypeError",
     "evalue": "unsupported operand type(s) for +: 'dict' and 'dict'",
     "output_type": "error",
     "traceback": [
      "\u001b[0;31m---------------------------------------------------------------------------\u001b[0m",
      "\u001b[0;31mTypeError\u001b[0m                                 Traceback (most recent call last)",
      "Cell \u001b[0;32mIn[11], line 1\u001b[0m\n\u001b[0;32m----> 1\u001b[0m suma_2({\u001b[38;5;241m1\u001b[39m:\u001b[38;5;241m1\u001b[39m}, {\u001b[38;5;241m2\u001b[39m:\u001b[38;5;241m2\u001b[39m})\n",
      "Cell \u001b[0;32mIn[4], line 2\u001b[0m, in \u001b[0;36msuma_2\u001b[0;34m(x, y)\u001b[0m\n\u001b[1;32m      1\u001b[0m \u001b[38;5;28;01mdef\u001b[39;00m \u001b[38;5;21msuma_2\u001b[39m(x, y): \u001b[38;5;66;03m#en esta celda no imprime nada porque aquí se define la función \u001b[39;00m\n\u001b[0;32m----> 2\u001b[0m     \u001b[38;5;28mprint\u001b[39m(x \u001b[38;5;241m+\u001b[39m y)\n",
      "\u001b[0;31mTypeError\u001b[0m: unsupported operand type(s) for +: 'dict' and 'dict'"
     ]
    }
   ],
   "source": [
    "suma_2({1:1}, {2:2})"
   ]
  },
  {
   "cell_type": "code",
   "execution_count": 12,
   "id": "e3e102d6",
   "metadata": {},
   "outputs": [],
   "source": [
    "def f(x, y, w=4, z=2): #puede tener más arguemnentos. w=4, z=2 sería el default, si no hay valor que se le pase, toma el default\n",
    "    #print(w)\n",
    "    print(x * y + z - w)"
   ]
  },
  {
   "cell_type": "code",
   "execution_count": 13,
   "id": "3a22ef41",
   "metadata": {},
   "outputs": [
    {
     "name": "stdout",
     "output_type": "stream",
     "text": [
      "6\n"
     ]
    }
   ],
   "source": [
    "f(1,2,1,5)  #x=1   y=2   w=1  z=5"
   ]
  },
  {
   "cell_type": "code",
   "execution_count": 14,
   "id": "85b3f61b",
   "metadata": {},
   "outputs": [
    {
     "name": "stdout",
     "output_type": "stream",
     "text": [
      "2\n"
     ]
    }
   ],
   "source": [
    "f(2, 2, 4)   #x=2   y=2   w=4  z=2"
   ]
  },
  {
   "cell_type": "code",
   "execution_count": 15,
   "id": "f4189ffd",
   "metadata": {},
   "outputs": [
    {
     "name": "stdout",
     "output_type": "stream",
     "text": [
      "1\n"
     ]
    }
   ],
   "source": [
    "f(2,2,5)  # f(x=2, y=2, w=5)"
   ]
  },
  {
   "cell_type": "code",
   "execution_count": 16,
   "id": "e674ffa7",
   "metadata": {
    "scrolled": false
   },
   "outputs": [
    {
     "name": "stdout",
     "output_type": "stream",
     "text": [
      "2\n"
     ]
    }
   ],
   "source": [
    "f(2, 2) # esto es válido porque w y z tienen valores por default"
   ]
  },
  {
   "cell_type": "code",
   "execution_count": 17,
   "id": "947885f5",
   "metadata": {},
   "outputs": [
    {
     "ename": "TypeError",
     "evalue": "f() missing 1 required positional argument: 'y'",
     "output_type": "error",
     "traceback": [
      "\u001b[0;31m---------------------------------------------------------------------------\u001b[0m",
      "\u001b[0;31mTypeError\u001b[0m                                 Traceback (most recent call last)",
      "Cell \u001b[0;32mIn[17], line 1\u001b[0m\n\u001b[0;32m----> 1\u001b[0m f(\u001b[38;5;241m1\u001b[39m)\n",
      "\u001b[0;31mTypeError\u001b[0m: f() missing 1 required positional argument: 'y'"
     ]
    }
   ],
   "source": [
    "f(1)"
   ]
  },
  {
   "cell_type": "code",
   "execution_count": 20,
   "id": "30c27681",
   "metadata": {},
   "outputs": [],
   "source": [
    "#PARAMETROS OPCIONALES AL FINAL"
   ]
  },
  {
   "cell_type": "code",
   "execution_count": 18,
   "id": "554a0fbb",
   "metadata": {},
   "outputs": [],
   "source": [
    "# También hay funciones que nos regresan más de un valor:\n",
    "\n",
    "#Ejemplo: dados dos puntos en el plano, calulamos la distancia euclidiana y la distancia (x2-y2)\n",
    "def distancia(x1, y1, x2=0, y2=0):\n",
    "    \n",
    "    val = ( (x2 - x1)**2 + (y2 - y1)**2 )**(1/2)\n",
    "    \n",
    "    return val, x2-y2"
   ]
  },
  {
   "cell_type": "code",
   "execution_count": 19,
   "id": "d3eb370d",
   "metadata": {},
   "outputs": [
    {
     "data": {
      "text/plain": [
       "(4.123105625617661, -7)"
      ]
     },
     "execution_count": 19,
     "metadata": {},
     "output_type": "execute_result"
    }
   ],
   "source": [
    "distancia(x1=1, y1=3, x2=-3, y2=4)"
   ]
  },
  {
   "cell_type": "code",
   "execution_count": 21,
   "id": "fc43bd4e",
   "metadata": {},
   "outputs": [],
   "source": [
    "#los pueden guardar en dos variables\n",
    "dist, resta = distancia(x1=1,y1=3, x2=-3, y2=4)"
   ]
  },
  {
   "cell_type": "code",
   "execution_count": 22,
   "id": "e800b45a",
   "metadata": {},
   "outputs": [
    {
     "data": {
      "text/plain": [
       "4.123105625617661"
      ]
     },
     "execution_count": 22,
     "metadata": {},
     "output_type": "execute_result"
    }
   ],
   "source": [
    "dist"
   ]
  },
  {
   "cell_type": "code",
   "execution_count": 23,
   "id": "57366fe6",
   "metadata": {},
   "outputs": [
    {
     "data": {
      "text/plain": [
       "-7"
      ]
     },
     "execution_count": 23,
     "metadata": {},
     "output_type": "execute_result"
    }
   ],
   "source": [
    "resta #(x2-y2=0 porque agarra los valores default)"
   ]
  },
  {
   "cell_type": "code",
   "execution_count": 24,
   "id": "91c27a3a",
   "metadata": {},
   "outputs": [],
   "source": [
    "# si sólo queremos conservar una variable, podemos eliminar la otra:\n",
    "del resta #borran la variable"
   ]
  },
  {
   "cell_type": "code",
   "execution_count": 25,
   "id": "279ca486",
   "metadata": {},
   "outputs": [
    {
     "ename": "NameError",
     "evalue": "name 'resta' is not defined",
     "output_type": "error",
     "traceback": [
      "\u001b[0;31m---------------------------------------------------------------------------\u001b[0m",
      "\u001b[0;31mNameError\u001b[0m                                 Traceback (most recent call last)",
      "Cell \u001b[0;32mIn[25], line 1\u001b[0m\n\u001b[0;32m----> 1\u001b[0m resta\n",
      "\u001b[0;31mNameError\u001b[0m: name 'resta' is not defined"
     ]
    }
   ],
   "source": [
    "resta"
   ]
  },
  {
   "cell_type": "code",
   "execution_count": 26,
   "id": "06be600b",
   "metadata": {},
   "outputs": [],
   "source": [
    "dist = distancia(x1=1, y1=3, x2=-3, y2=4)"
   ]
  },
  {
   "cell_type": "code",
   "execution_count": 27,
   "id": "2465e57b",
   "metadata": {},
   "outputs": [
    {
     "data": {
      "text/plain": [
       "(4.123105625617661, -7)"
      ]
     },
     "execution_count": 27,
     "metadata": {},
     "output_type": "execute_result"
    }
   ],
   "source": [
    "dist"
   ]
  },
  {
   "cell_type": "code",
   "execution_count": 28,
   "id": "743128b2",
   "metadata": {},
   "outputs": [
    {
     "data": {
      "text/plain": [
       "-7"
      ]
     },
     "execution_count": 28,
     "metadata": {},
     "output_type": "execute_result"
    }
   ],
   "source": [
    "dist[1] #accediendo a una tupla"
   ]
  },
  {
   "cell_type": "code",
   "execution_count": 29,
   "id": "afb34054",
   "metadata": {},
   "outputs": [
    {
     "data": {
      "text/plain": [
       "tuple"
      ]
     },
     "execution_count": 29,
     "metadata": {},
     "output_type": "execute_result"
    }
   ],
   "source": [
    "type(dist)"
   ]
  },
  {
   "cell_type": "code",
   "execution_count": 30,
   "id": "56533c43",
   "metadata": {},
   "outputs": [
    {
     "ename": "ValueError",
     "evalue": "too many values to unpack (expected 1)",
     "output_type": "error",
     "traceback": [
      "\u001b[0;31m---------------------------------------------------------------------------\u001b[0m",
      "\u001b[0;31mValueError\u001b[0m                                Traceback (most recent call last)",
      "Cell \u001b[0;32mIn[30], line 1\u001b[0m\n\u001b[0;32m----> 1\u001b[0m dist,  \u001b[38;5;241m=\u001b[39m distancia(x1\u001b[38;5;241m=\u001b[39m\u001b[38;5;241m1\u001b[39m, y1\u001b[38;5;241m=\u001b[39m\u001b[38;5;241m3\u001b[39m)\n",
      "\u001b[0;31mValueError\u001b[0m: too many values to unpack (expected 1)"
     ]
    }
   ],
   "source": [
    "dist,  = distancia(x1=1, y1=3) #sí hay que ponerle algo a resta,"
   ]
  },
  {
   "cell_type": "code",
   "execution_count": 31,
   "id": "cbc29911",
   "metadata": {},
   "outputs": [],
   "source": [
    "# si sólo nos importa un valor, podemos hacer esto:\n",
    "\n",
    "dist = distancia(x1=1, y1=3, x2=-3, y2=4)[0]"
   ]
  },
  {
   "cell_type": "code",
   "execution_count": 32,
   "id": "94f7f25a",
   "metadata": {},
   "outputs": [
    {
     "data": {
      "text/plain": [
       "4.123105625617661"
      ]
     },
     "execution_count": 32,
     "metadata": {},
     "output_type": "execute_result"
    }
   ],
   "source": [
    "dist"
   ]
  },
  {
   "cell_type": "code",
   "execution_count": 33,
   "id": "6f74b93e",
   "metadata": {},
   "outputs": [
    {
     "data": {
      "text/plain": [
       "float"
      ]
     },
     "execution_count": 33,
     "metadata": {},
     "output_type": "execute_result"
    }
   ],
   "source": [
    "type(dist)"
   ]
  },
  {
   "cell_type": "code",
   "execution_count": 34,
   "id": "204c3e4d",
   "metadata": {},
   "outputs": [
    {
     "ename": "TypeError",
     "evalue": "unsupported operand type(s) for -: 'list' and 'list'",
     "output_type": "error",
     "traceback": [
      "\u001b[0;31m---------------------------------------------------------------------------\u001b[0m",
      "\u001b[0;31mTypeError\u001b[0m                                 Traceback (most recent call last)",
      "Cell \u001b[0;32mIn[34], line 1\u001b[0m\n\u001b[0;32m----> 1\u001b[0m distancia([\u001b[38;5;241m1\u001b[39m,\u001b[38;5;241m2\u001b[39m,\u001b[38;5;241m3\u001b[39m], [\u001b[38;5;241m4\u001b[39m,\u001b[38;5;241m5\u001b[39m,\u001b[38;5;241m6\u001b[39m], [\u001b[38;5;241m1\u001b[39m,\u001b[38;5;241m2\u001b[39m,\u001b[38;5;241m3\u001b[39m], [\u001b[38;5;241m4\u001b[39m,\u001b[38;5;241m5\u001b[39m,\u001b[38;5;241m6\u001b[39m])\n",
      "Cell \u001b[0;32mIn[18], line 6\u001b[0m, in \u001b[0;36mdistancia\u001b[0;34m(x1, y1, x2, y2)\u001b[0m\n\u001b[1;32m      4\u001b[0m \u001b[38;5;28;01mdef\u001b[39;00m \u001b[38;5;21mdistancia\u001b[39m(x1, y1, x2\u001b[38;5;241m=\u001b[39m\u001b[38;5;241m0\u001b[39m, y2\u001b[38;5;241m=\u001b[39m\u001b[38;5;241m0\u001b[39m):\n\u001b[0;32m----> 6\u001b[0m     val \u001b[38;5;241m=\u001b[39m ( (x2 \u001b[38;5;241m-\u001b[39m x1)\u001b[38;5;241m*\u001b[39m\u001b[38;5;241m*\u001b[39m\u001b[38;5;241m2\u001b[39m \u001b[38;5;241m+\u001b[39m (y2 \u001b[38;5;241m-\u001b[39m y1)\u001b[38;5;241m*\u001b[39m\u001b[38;5;241m*\u001b[39m\u001b[38;5;241m2\u001b[39m )\u001b[38;5;241m*\u001b[39m\u001b[38;5;241m*\u001b[39m(\u001b[38;5;241m1\u001b[39m\u001b[38;5;241m/\u001b[39m\u001b[38;5;241m2\u001b[39m)\n\u001b[1;32m      8\u001b[0m     \u001b[38;5;28;01mreturn\u001b[39;00m val, x2\u001b[38;5;241m-\u001b[39my2\n",
      "\u001b[0;31mTypeError\u001b[0m: unsupported operand type(s) for -: 'list' and 'list'"
     ]
    }
   ],
   "source": [
    "distancia([1,2,3], [4,5,6], [1,2,3], [4,5,6])"
   ]
  },
  {
   "cell_type": "markdown",
   "id": "ac3deb5e",
   "metadata": {},
   "source": [
    "En python hay dos formas de poner comentarios:\n",
    "    \n",
    "    1. Utilizando #\n",
    "    2. Utilizando \"\"\"   \"\"\""
   ]
  },
  {
   "cell_type": "code",
   "execution_count": null,
   "id": "707aeda9",
   "metadata": {},
   "outputs": [],
   "source": [
    "# Esto es un comentario en una línea\n",
    "\n",
    "\"\"\"\n",
    "Hola\n",
    "todo esto\n",
    "es un \n",
    "comentario\n",
    "\"\"\""
   ]
  },
  {
   "cell_type": "code",
   "execution_count": 35,
   "id": "8dda76fc",
   "metadata": {},
   "outputs": [],
   "source": [
    "def eliminar_elemento(a):\n",
    "    b = a.copy()\n",
    "    b.pop()\n",
    "    return b\n"
   ]
  },
  {
   "cell_type": "code",
   "execution_count": 36,
   "id": "a951fec4",
   "metadata": {},
   "outputs": [
    {
     "name": "stdout",
     "output_type": "stream",
     "text": [
      "Help on function eliminar_elemento in module __main__:\n",
      "\n",
      "eliminar_elemento(a)\n",
      "\n"
     ]
    }
   ],
   "source": [
    "help(eliminar_elemento)"
   ]
  },
  {
   "cell_type": "code",
   "execution_count": 37,
   "id": "c0efd62e",
   "metadata": {},
   "outputs": [
    {
     "data": {
      "text/plain": [
       "[1, 2, 3, 4]"
      ]
     },
     "execution_count": 37,
     "metadata": {},
     "output_type": "execute_result"
    }
   ],
   "source": [
    "lista = [1,2,3,4,5]  \n",
    "\n",
    "eliminar_elemento(lista)"
   ]
  },
  {
   "cell_type": "code",
   "execution_count": 38,
   "id": "079de22e",
   "metadata": {},
   "outputs": [
    {
     "data": {
      "text/plain": [
       "[1, 2, 3, 4, 5]"
      ]
     },
     "execution_count": 38,
     "metadata": {},
     "output_type": "execute_result"
    }
   ],
   "source": [
    "lista"
   ]
  },
  {
   "cell_type": "code",
   "execution_count": 39,
   "id": "ca03f7e4",
   "metadata": {},
   "outputs": [
    {
     "ename": "TypeError",
     "evalue": "pop expected at least 1 argument, got 0",
     "output_type": "error",
     "traceback": [
      "\u001b[0;31m---------------------------------------------------------------------------\u001b[0m",
      "\u001b[0;31mTypeError\u001b[0m                                 Traceback (most recent call last)",
      "Cell \u001b[0;32mIn[39], line 1\u001b[0m\n\u001b[0;32m----> 1\u001b[0m eliminar_elemento({\u001b[38;5;241m1\u001b[39m:\u001b[38;5;124m\"\u001b[39m\u001b[38;5;124meregdvf\u001b[39m\u001b[38;5;124m\"\u001b[39m})\n",
      "Cell \u001b[0;32mIn[35], line 3\u001b[0m, in \u001b[0;36meliminar_elemento\u001b[0;34m(a)\u001b[0m\n\u001b[1;32m      1\u001b[0m \u001b[38;5;28;01mdef\u001b[39;00m \u001b[38;5;21meliminar_elemento\u001b[39m(a):\n\u001b[1;32m      2\u001b[0m     b \u001b[38;5;241m=\u001b[39m a\u001b[38;5;241m.\u001b[39mcopy()\n\u001b[0;32m----> 3\u001b[0m     b\u001b[38;5;241m.\u001b[39mpop()\n\u001b[1;32m      4\u001b[0m     \u001b[38;5;28;01mreturn\u001b[39;00m b\n",
      "\u001b[0;31mTypeError\u001b[0m: pop expected at least 1 argument, got 0"
     ]
    }
   ],
   "source": [
    "eliminar_elemento({1:\"eregdvf\"})"
   ]
  },
  {
   "cell_type": "markdown",
   "id": "d9136518",
   "metadata": {},
   "source": [
    "## Declaración de una función"
   ]
  },
  {
   "attachments": {
    "esquema-funciones-python.png": {
     "image/png": "[encoded data removed]"
    }
   },
   "cell_type": "markdown",
   "id": "e2c21162",
   "metadata": {},
   "source": [
    "![esquema-funciones-python.png](attachment:esquema-funciones-python.png)"
   ]
  },
  {
   "cell_type": "markdown",
   "id": "f91470e1",
   "metadata": {},
   "source": [
    "Declaramos una función en python por medio del keyword `def` (definition). La sintáxis general para declarar una función en python es: \n",
    "```python\n",
    "def nombre_funcion(param1,param2,...,paramn):\n",
    "    <operaciones>\n",
    "```\n",
    "\n",
    "* `param1`, `param2`, son conocidos como los **parámetros** de la función. Estos son objetos que serviraán como *inputs* a la función (si es que la función necesita un input). \n",
    "\n",
    "\n",
    "* Al igual que los loops (`for`, `while`) y control flow statements (`if`, `else`, `elif`), la definición de una función inicia después de su declaración inciial; el cuerpo de la función es todo aquello con sangría y acaba al regresar al nivel donde la función fue definida"
   ]
  },
  {
   "cell_type": "code",
   "execution_count": 1,
   "id": "9331c416",
   "metadata": {},
   "outputs": [],
   "source": [
    "def funcion():\n",
    "    print(\"¡Esto es una función!\")"
   ]
  },
  {
   "cell_type": "code",
   "execution_count": 2,
   "id": "14179a0d",
   "metadata": {},
   "outputs": [
    {
     "name": "stdout",
     "output_type": "stream",
     "text": [
      "¡Esto es una función!\n"
     ]
    }
   ],
   "source": [
    "funcion()"
   ]
  },
  {
   "cell_type": "code",
   "execution_count": 3,
   "id": "e8c85793",
   "metadata": {
    "scrolled": true
   },
   "outputs": [
    {
     "name": "stdout",
     "output_type": "stream",
     "text": [
      "¡Esto es una función!\n",
      "¡Esto es una función!\n",
      "¡Esto es una función!\n",
      "¡Esto es una función!\n"
     ]
    }
   ],
   "source": [
    "for i in range(4):\n",
    "    funcion()"
   ]
  },
  {
   "cell_type": "code",
   "execution_count": 4,
   "id": "e7680720",
   "metadata": {
    "scrolled": true
   },
   "outputs": [
    {
     "name": "stdout",
     "output_type": "stream",
     "text": [
      "2.23606797749979\n"
     ]
    },
    {
     "data": {
      "text/plain": [
       "str"
      ]
     },
     "execution_count": 4,
     "metadata": {},
     "output_type": "execute_result"
    }
   ],
   "source": [
    "def distancia(a_1,a_2):\n",
    "    print((a_1**2+a_2**2)**(1/2))\n",
    "    return \"hola\"\n",
    "\n",
    "a = distancia(1,2)\n",
    "type(a)"
   ]
  },
  {
   "cell_type": "code",
   "execution_count": 5,
   "id": "a0b1dc6d",
   "metadata": {},
   "outputs": [
    {
     "data": {
      "text/plain": [
       "'hola'"
      ]
     },
     "execution_count": 5,
     "metadata": {},
     "output_type": "execute_result"
    }
   ],
   "source": [
    "a"
   ]
  },
  {
   "cell_type": "markdown",
   "id": "36519ca4",
   "metadata": {},
   "source": [
    "Al crear una función es importante notar que los parámetros de la misma y las variables declaradas dentro de la función sólo se ven afectadas **dentro** de la función. Este alcance de una variable es conocido como *scope*. "
   ]
  },
  {
   "cell_type": "code",
   "execution_count": 6,
   "id": "84d5ee0c",
   "metadata": {},
   "outputs": [],
   "source": [
    "def f(a):         # `a` es conocido como un parámetro\n",
    "    b = 3         # `b` no existe fuera de este scope (variable local)\n",
    "    print(id(b))\n",
    "    a = a + b     # aquí a cuando se sobrescribe es una variable local\n",
    "    print(a)"
   ]
  },
  {
   "cell_type": "code",
   "execution_count": 7,
   "id": "5bf2fbad",
   "metadata": {},
   "outputs": [
    {
     "name": "stdout",
     "output_type": "stream",
     "text": [
      "4412963912\n",
      "4\n"
     ]
    }
   ],
   "source": [
    "f(1)"
   ]
  },
  {
   "cell_type": "code",
   "execution_count": 8,
   "id": "440b39e5",
   "metadata": {},
   "outputs": [
    {
     "ename": "NameError",
     "evalue": "name 'b' is not defined",
     "output_type": "error",
     "traceback": [
      "\u001b[0;31m---------------------------------------------------------------------------\u001b[0m",
      "\u001b[0;31mNameError\u001b[0m                                 Traceback (most recent call last)",
      "Cell \u001b[0;32mIn[8], line 1\u001b[0m\n\u001b[0;32m----> 1\u001b[0m b\n",
      "\u001b[0;31mNameError\u001b[0m: name 'b' is not defined"
     ]
    }
   ],
   "source": [
    "b #marca error porque no está definidida, sólo vive dentro de la función "
   ]
  },
  {
   "cell_type": "code",
   "execution_count": null,
   "id": "aca198ad",
   "metadata": {},
   "outputs": [],
   "source": [
    "b = 6\n",
    "a = 3\n",
    "\n",
    "print(\"El ID de la variable b que tengo afuera \", id(b))\n",
    "\n",
    "f(1)\n",
    "\n",
    "print(a) # a pesar de que `a`que se sobrescribe dentro de la función, `a` sigue valiendo de 3 en el ambiente global. \n",
    "\n",
    "# El \"4\" es porque llama la función\n",
    "# El \"3\" porque imprimie la variable global (a=3)"
   ]
  },
  {
   "cell_type": "code",
   "execution_count": null,
   "id": "b0262d12",
   "metadata": {},
   "outputs": [],
   "source": [
    "b"
   ]
  },
  {
   "cell_type": "code",
   "execution_count": 9,
   "id": "e2a0b3f9",
   "metadata": {},
   "outputs": [],
   "source": [
    "c = 5   # variable global\n",
    "\n",
    "def prueba(a):\n",
    "    _c = 1\n",
    "    _a = a * 2\n",
    "    return _a * _c   # aquí estoy multiplicando mis variables locales"
   ]
  },
  {
   "cell_type": "code",
   "execution_count": 10,
   "id": "8de2664c",
   "metadata": {},
   "outputs": [
    {
     "data": {
      "text/plain": [
       "4"
      ]
     },
     "execution_count": 10,
     "metadata": {},
     "output_type": "execute_result"
    }
   ],
   "source": [
    "a = 2\n",
    "\n",
    "prueba(a)"
   ]
  },
  {
   "cell_type": "code",
   "execution_count": 11,
   "id": "ef343ef6",
   "metadata": {},
   "outputs": [
    {
     "data": {
      "text/plain": [
       "5"
      ]
     },
     "execution_count": 11,
     "metadata": {},
     "output_type": "execute_result"
    }
   ],
   "source": [
    "c"
   ]
  },
  {
   "cell_type": "code",
   "execution_count": 12,
   "id": "5b73eb49",
   "metadata": {},
   "outputs": [],
   "source": [
    "## ... pero esto no sucede igual para todos los tipos de variables:\n",
    "\n",
    "## no hay que generar variables locales que tengan el mismo nombre que el input\n",
    "# para evitar confusión\n",
    "\n",
    "def borrador(lista):\n",
    "    _lista = lista.copy()\n",
    "    _lista.append(1)\n",
    "    return _lista\n"
   ]
  },
  {
   "cell_type": "code",
   "execution_count": 13,
   "id": "cb9dfe34",
   "metadata": {},
   "outputs": [
    {
     "name": "stdout",
     "output_type": "stream",
     "text": [
      "[1, 2, 3, 4, 1]\n",
      "[1, 2, 3, 4]\n"
     ]
    }
   ],
   "source": [
    "algo = [1,2,3,4]\n",
    "\n",
    "print(borrador(algo))\n",
    "\n",
    "print(algo)"
   ]
  },
  {
   "cell_type": "markdown",
   "id": "63fe9513",
   "metadata": {},
   "source": [
    "El valor que toma un parámetro es conocido como su **argumento**. Los argumentos de la funciones se toman de manera ordenada. "
   ]
  },
  {
   "cell_type": "code",
   "execution_count": 14,
   "id": "ef109c9d",
   "metadata": {},
   "outputs": [],
   "source": [
    "def potencia(x,y):\n",
    "    print(x**y)"
   ]
  },
  {
   "cell_type": "code",
   "execution_count": 15,
   "id": "dbc136ba",
   "metadata": {
    "scrolled": true
   },
   "outputs": [
    {
     "name": "stdout",
     "output_type": "stream",
     "text": [
      "8\n"
     ]
    }
   ],
   "source": [
    "potencia(2,3)"
   ]
  },
  {
   "cell_type": "code",
   "execution_count": 42,
   "id": "16cb2fc0",
   "metadata": {},
   "outputs": [
    {
     "name": "stdout",
     "output_type": "stream",
     "text": [
      "9\n"
     ]
    }
   ],
   "source": [
    "potencia(3,2)"
   ]
  },
  {
   "cell_type": "markdown",
   "id": "151407b5",
   "metadata": {},
   "source": [
    "De igual manera, podemos pasar un argumento a cualquier función de forma explícita, mencionando el nombre del parámetro seguido del argumento. De esta manera, el orden los argumentos no son relevantes, siempre y cuando tomemeos el nombre del parámetro correcto"
   ]
  },
  {
   "cell_type": "code",
   "execution_count": 43,
   "id": "852aa531",
   "metadata": {},
   "outputs": [
    {
     "name": "stdout",
     "output_type": "stream",
     "text": [
      "8\n"
     ]
    }
   ],
   "source": [
    "potencia(x=2,y=3)"
   ]
  },
  {
   "cell_type": "code",
   "execution_count": 44,
   "id": "faed9275",
   "metadata": {},
   "outputs": [
    {
     "name": "stdout",
     "output_type": "stream",
     "text": [
      "8\n"
     ]
    }
   ],
   "source": [
    "potencia(y=3,x=2) #sí le dicen quién es quién no importa el orden"
   ]
  },
  {
   "cell_type": "code",
   "execution_count": 45,
   "id": "6a89bf35",
   "metadata": {},
   "outputs": [
    {
     "ename": "SyntaxError",
     "evalue": "positional argument follows keyword argument (894357071.py, line 1)",
     "output_type": "error",
     "traceback": [
      "\u001b[0;36m  Cell \u001b[0;32mIn[45], line 1\u001b[0;36m\u001b[0m\n\u001b[0;31m    potencia(x=1, 3)\u001b[0m\n\u001b[0m                   ^\u001b[0m\n\u001b[0;31mSyntaxError\u001b[0m\u001b[0;31m:\u001b[0m positional argument follows keyword argument\n"
     ]
    }
   ],
   "source": [
    "potencia(x=1, 3)"
   ]
  },
  {
   "cell_type": "code",
   "execution_count": null,
   "id": "a121c10b",
   "metadata": {},
   "outputs": [],
   "source": [
    "def potencia_prueba(hola,y):\n",
    "    print(hola**y)"
   ]
  },
  {
   "cell_type": "code",
   "execution_count": null,
   "id": "a00b926f",
   "metadata": {},
   "outputs": [],
   "source": [
    "potencia_prueba(y=3, hola=2)"
   ]
  },
  {
   "cell_type": "code",
   "execution_count": null,
   "id": "31206024",
   "metadata": {},
   "outputs": [],
   "source": [
    "potencia_prueba(y=3,2) #sí hay que ponerle el nombre"
   ]
  },
  {
   "cell_type": "markdown",
   "id": "8e60c66b",
   "metadata": {},
   "source": [
    "## El `return` keyword. "
   ]
  },
  {
   "cell_type": "markdown",
   "id": "4ae84f74",
   "metadata": {},
   "source": [
    "En muchas ocasiones **no** necesitamos estrictamente observar el valor que arroja una función, sino más bien trabajar con ese valor. \n",
    "\n",
    "Considerando la siguiente función, supongamos que queremos guardar el valor que nos arroja dicha función. En este caso, vemos que **no** podemos usar el valor arrojado por la función `cuadradado`. En efecto, el valor arrojado por la función no es nada: `None`. "
   ]
  },
  {
   "cell_type": "code",
   "execution_count": 45,
   "id": "f7ebc51e",
   "metadata": {},
   "outputs": [],
   "source": [
    "def cuadrado(x):\n",
    "    print(x**2)"
   ]
  },
  {
   "cell_type": "code",
   "execution_count": 46,
   "id": "4f12496c",
   "metadata": {},
   "outputs": [
    {
     "name": "stdout",
     "output_type": "stream",
     "text": [
      "4\n"
     ]
    }
   ],
   "source": [
    "cuadrado(2)"
   ]
  },
  {
   "cell_type": "code",
   "execution_count": 47,
   "id": "40c5d7ce",
   "metadata": {},
   "outputs": [
    {
     "name": "stdout",
     "output_type": "stream",
     "text": [
      "4\n",
      "None\n"
     ]
    }
   ],
   "source": [
    "sq2 = cuadrado(2)\n",
    "\n",
    "print(sq2)"
   ]
  },
  {
   "cell_type": "code",
   "execution_count": 48,
   "id": "fde306d4",
   "metadata": {},
   "outputs": [],
   "source": [
    "sq2"
   ]
  },
  {
   "cell_type": "code",
   "execution_count": 49,
   "id": "67374820",
   "metadata": {},
   "outputs": [],
   "source": [
    "def cuadrado(x):\n",
    "    x**2"
   ]
  },
  {
   "cell_type": "code",
   "execution_count": 50,
   "id": "5e7c574b",
   "metadata": {},
   "outputs": [
    {
     "name": "stdout",
     "output_type": "stream",
     "text": [
      "None\n"
     ]
    }
   ],
   "source": [
    "sq2 = cuadrado(2)\n",
    "\n",
    "print(sq2)"
   ]
  },
  {
   "cell_type": "code",
   "execution_count": 51,
   "id": "ad683d1e",
   "metadata": {},
   "outputs": [],
   "source": [
    "sq2"
   ]
  },
  {
   "cell_type": "code",
   "execution_count": 52,
   "id": "e16cc64b",
   "metadata": {},
   "outputs": [
    {
     "name": "stdout",
     "output_type": "stream",
     "text": [
      "2\n"
     ]
    }
   ],
   "source": [
    "a = print(2)"
   ]
  },
  {
   "cell_type": "code",
   "execution_count": 53,
   "id": "ee528eaa",
   "metadata": {},
   "outputs": [
    {
     "name": "stdout",
     "output_type": "stream",
     "text": [
      "None\n"
     ]
    }
   ],
   "source": [
    "print(a)"
   ]
  },
  {
   "cell_type": "code",
   "execution_count": 54,
   "id": "ed9e1817",
   "metadata": {},
   "outputs": [
    {
     "name": "stdout",
     "output_type": "stream",
     "text": [
      "243\n"
     ]
    }
   ],
   "source": [
    "pot = pow(3,5)\n",
    "\n",
    "print(pot)"
   ]
  },
  {
   "cell_type": "markdown",
   "id": "a0c881cd",
   "metadata": {},
   "source": [
    "Para poder obtener el valor de una función ocupamos el keyword `return`, el cual nos arroja un valor (o valores) deseados creados dentro de una función"
   ]
  },
  {
   "cell_type": "code",
   "execution_count": 55,
   "id": "3de1e99a",
   "metadata": {},
   "outputs": [],
   "source": [
    "def cuadrado(x):\n",
    "    return x**2"
   ]
  },
  {
   "cell_type": "code",
   "execution_count": 56,
   "id": "9b70ac61",
   "metadata": {
    "scrolled": false
   },
   "outputs": [
    {
     "data": {
      "text/plain": [
       "4"
      ]
     },
     "execution_count": 56,
     "metadata": {},
     "output_type": "execute_result"
    }
   ],
   "source": [
    "cuadrado(2)"
   ]
  },
  {
   "cell_type": "code",
   "execution_count": 57,
   "id": "37f70933",
   "metadata": {},
   "outputs": [],
   "source": [
    "sq2 = cuadrado(2)"
   ]
  },
  {
   "cell_type": "code",
   "execution_count": 58,
   "id": "b063eb44",
   "metadata": {},
   "outputs": [
    {
     "data": {
      "text/plain": [
       "int"
      ]
     },
     "execution_count": 58,
     "metadata": {},
     "output_type": "execute_result"
    }
   ],
   "source": [
    "type(sq2)"
   ]
  },
  {
   "cell_type": "code",
   "execution_count": 59,
   "id": "f84b6266",
   "metadata": {},
   "outputs": [
    {
     "name": "stdout",
     "output_type": "stream",
     "text": [
      "6\n"
     ]
    }
   ],
   "source": [
    "print(sq2+2)"
   ]
  },
  {
   "cell_type": "code",
   "execution_count": 63,
   "id": "90a78add",
   "metadata": {},
   "outputs": [],
   "source": [
    "def cuadrado(x,y):\n",
    "    return (x**2, y)"
   ]
  },
  {
   "cell_type": "code",
   "execution_count": 65,
   "id": "a9f1d5de",
   "metadata": {},
   "outputs": [],
   "source": [
    "def cuadrado(x,y):\n",
    "    return x**2\n",
    "    return y"
   ]
  },
  {
   "cell_type": "code",
   "execution_count": 66,
   "id": "89a0e31c",
   "metadata": {},
   "outputs": [
    {
     "data": {
      "text/plain": [
       "4"
      ]
     },
     "execution_count": 66,
     "metadata": {},
     "output_type": "execute_result"
    }
   ],
   "source": [
    "cuadrado(2,3)"
   ]
  },
  {
   "cell_type": "code",
   "execution_count": 67,
   "id": "4fefa1bf",
   "metadata": {},
   "outputs": [],
   "source": [
    "def cuadrado(x,y):\n",
    "    for z in range(x):   # z toma valores en [0,1,2,3,4]\n",
    "        print(f\"el valor de z es {z}\")\n",
    "        if z==10:\n",
    "            return x #aquí se salió, está funcionando como un break\n",
    "    \n",
    "    return y #nunca llegó. Está fuera del for\n",
    "    ## más instrucciones que no se ejecutarían\n"
   ]
  },
  {
   "cell_type": "code",
   "execution_count": 68,
   "id": "5b2fa823",
   "metadata": {
    "scrolled": true
   },
   "outputs": [
    {
     "name": "stdout",
     "output_type": "stream",
     "text": [
      "el valor de z es 0\n",
      "el valor de z es 1\n",
      "el valor de z es 2\n",
      "el valor de z es 3\n",
      "el valor de z es 4\n",
      "el valor de z es 5\n",
      "el valor de z es 6\n",
      "el valor de z es 7\n",
      "el valor de z es 8\n",
      "el valor de z es 9\n",
      "el valor de z es 10\n"
     ]
    },
    {
     "data": {
      "text/plain": [
       "12"
      ]
     },
     "execution_count": 68,
     "metadata": {},
     "output_type": "execute_result"
    }
   ],
   "source": [
    "cuadrado(12,3)"
   ]
  },
  {
   "cell_type": "code",
   "execution_count": 26,
   "id": "495670de",
   "metadata": {},
   "outputs": [],
   "source": [
    "def cuadrado(x,y):\n",
    "    for z in range(3):\n",
    "        if z==1:\n",
    "            return(x) #aquí se salió, está funcionando como un break\n",
    "        return(y) #está dentro del for \n"
   ]
  },
  {
   "cell_type": "code",
   "execution_count": 27,
   "id": "e54ea899",
   "metadata": {},
   "outputs": [
    {
     "data": {
      "text/plain": [
       "3"
      ]
     },
     "execution_count": 27,
     "metadata": {},
     "output_type": "execute_result"
    }
   ],
   "source": [
    "cuadrado(2,3)"
   ]
  },
  {
   "cell_type": "markdown",
   "id": "e17d583c",
   "metadata": {},
   "source": [
    "**Hint:** Dentro de una función, normalmente se ocupa el `print` para saber el estado del programa, e.g, un proceso largo sobre el cual nos gustaría saber en qué punto se encuentra el proceso (depurar). El `return`es el valor sobre el cual nos gutaría trabajar. "
   ]
  },
  {
   "cell_type": "markdown",
   "id": "892fb143",
   "metadata": {},
   "source": [
    "## Argumentos Opcionales\n",
    "En python podemos definir funciones cuyos parámetros toman algún argumento predefinido. Estos parámetros se conocen como **argumentos opcionales**"
   ]
  },
  {
   "cell_type": "code",
   "execution_count": 69,
   "id": "a95e24af",
   "metadata": {},
   "outputs": [],
   "source": [
    "def distancia(x1, y1, x2=0, y2=0):\n",
    "    return ((x2 - x1)**2 + (y2 - y1)**2)**(1/2)"
   ]
  },
  {
   "cell_type": "code",
   "execution_count": 70,
   "id": "78dcc26f",
   "metadata": {},
   "outputs": [
    {
     "data": {
      "text/plain": [
       "2.23606797749979"
      ]
     },
     "execution_count": 70,
     "metadata": {},
     "output_type": "execute_result"
    }
   ],
   "source": [
    "# x1=1   y1=2   x2=0   y2=0\n",
    "distancia(1,2)   # si no hay parámetros toma default"
   ]
  },
  {
   "cell_type": "code",
   "execution_count": 71,
   "id": "a9adf367",
   "metadata": {},
   "outputs": [
    {
     "data": {
      "text/plain": [
       "0.5099019513592785"
      ]
     },
     "execution_count": 71,
     "metadata": {},
     "output_type": "execute_result"
    }
   ],
   "source": [
    "# x1=1   y1=2   x2=1.5   y2=2.1\n",
    "distancia(1,2,1.5,2.1) #si sí hay toma esos valores"
   ]
  },
  {
   "cell_type": "code",
   "execution_count": 72,
   "id": "596ffcf9",
   "metadata": {},
   "outputs": [
    {
     "data": {
      "text/plain": [
       "1.1661903789690602"
      ]
     },
     "execution_count": 72,
     "metadata": {},
     "output_type": "execute_result"
    }
   ],
   "source": [
    "#puede cambiar el orden\n",
    "distancia(x2=1, x1=2, y2=1.5, y1=2.1) #si sí hay toma esos valores"
   ]
  },
  {
   "cell_type": "code",
   "execution_count": 73,
   "id": "f06822e8",
   "metadata": {
    "scrolled": true
   },
   "outputs": [
    {
     "data": {
      "text/plain": [
       "1.2083045973594573"
      ]
     },
     "execution_count": 73,
     "metadata": {},
     "output_type": "execute_result"
    }
   ],
   "source": [
    "### x1 = 1, y1= 2, \n",
    "distancia(1, 2, y2=1.5, x2=2.1) #si no se definen, to toma en orden "
   ]
  },
  {
   "cell_type": "code",
   "execution_count": 74,
   "id": "d97b49d4",
   "metadata": {},
   "outputs": [
    {
     "ename": "SyntaxError",
     "evalue": "positional argument follows keyword argument (2124174345.py, line 1)",
     "output_type": "error",
     "traceback": [
      "\u001b[0;36m  Cell \u001b[0;32mIn[74], line 1\u001b[0;36m\u001b[0m\n\u001b[0;31m    distancia(y2=1, 2, x2=1.5, 2.1)\u001b[0m\n\u001b[0m                                  ^\u001b[0m\n\u001b[0;31mSyntaxError\u001b[0m\u001b[0;31m:\u001b[0m positional argument follows keyword argument\n"
     ]
    }
   ],
   "source": [
    "distancia(y2=1, 2, x2=1.5, 2.1)"
   ]
  },
  {
   "cell_type": "markdown",
   "id": "483fbfa8",
   "metadata": {},
   "source": [
    "## Librerías. "
   ]
  },
  {
   "cell_type": "markdown",
   "id": "73d133b6",
   "metadata": {},
   "source": [
    "En varias ocasiones es necesario hacer uso de funciones definidas previamente. En Python, podemos guardar una colección de **funciones**, constantes y clases dentro de una librería. \n",
    "\n",
    "Al instalar Python contamos con un número de librería que podemos ocupar. Estas librería pertencen a un conjunto llamada librerías estándar [librería estándar](https://docs.python.org/3/py-modindex.html)"
   ]
  },
  {
   "cell_type": "markdown",
   "id": "8b05f340",
   "metadata": {},
   "source": [
    "Para hacer uso de una libería es necesario importarla \n",
    "**Tres maneras para importar librerías en Python**\n",
    "```python\n",
    "import libreria\n",
    "from libreria import modulo UNA PEQUEÑA PARTE\n",
    "import librerias as lib CAMBIARLE AL NOMBRE\n",
    "```"
   ]
  },
  {
   "cell_type": "code",
   "execution_count": 75,
   "id": "2e596721",
   "metadata": {},
   "outputs": [
    {
     "name": "stdout",
     "output_type": "stream",
     "text": [
      "Requirement already satisfied: numpy in /Users/andrespadronquintana/anaconda3/lib/python3.11/site-packages (1.24.3)\n",
      "Note: you may need to restart the kernel to use updated packages.\n"
     ]
    }
   ],
   "source": [
    "pip install numpy"
   ]
  },
  {
   "cell_type": "code",
   "execution_count": 76,
   "id": "6c3bc304",
   "metadata": {},
   "outputs": [],
   "source": [
    "import numpy as np"
   ]
  },
  {
   "cell_type": "markdown",
   "id": "6d40f74d",
   "metadata": {},
   "source": [
    "pip install pkg_name --proxy https://xcvxfg\n",
    "\n",
    "pip install pkg_name==n_version"
   ]
  },
  {
   "cell_type": "code",
   "execution_count": 77,
   "id": "b67e7be5",
   "metadata": {},
   "outputs": [],
   "source": [
    "#Importar toda la librería math\n",
    "import math"
   ]
  },
  {
   "cell_type": "markdown",
   "id": "102b3c7f",
   "metadata": {},
   "source": [
    "Importada una librería, accedemos los valores dentro de la librería por medio de la sintáxis: \n",
    "```python \n",
    "import lib \n",
    "lib.func()\n",
    "\n",
    "```"
   ]
  },
  {
   "cell_type": "code",
   "execution_count": 79,
   "id": "9b9766d6",
   "metadata": {},
   "outputs": [
    {
     "data": {
      "text/plain": [
       "0.0"
      ]
     },
     "execution_count": 79,
     "metadata": {},
     "output_type": "execute_result"
    }
   ],
   "source": [
    "math.tan(0)"
   ]
  },
  {
   "cell_type": "code",
   "execution_count": 80,
   "id": "b71862e5",
   "metadata": {},
   "outputs": [
    {
     "data": {
      "text/plain": [
       "3.141592653589793"
      ]
     },
     "execution_count": 80,
     "metadata": {},
     "output_type": "execute_result"
    }
   ],
   "source": [
    "math.pi"
   ]
  },
  {
   "cell_type": "code",
   "execution_count": 81,
   "id": "3436bb79",
   "metadata": {},
   "outputs": [
    {
     "data": {
      "text/plain": [
       "2.718281828459045"
      ]
     },
     "execution_count": 81,
     "metadata": {},
     "output_type": "execute_result"
    }
   ],
   "source": [
    "math.e"
   ]
  },
  {
   "cell_type": "code",
   "execution_count": 82,
   "id": "13f597ab",
   "metadata": {},
   "outputs": [
    {
     "data": {
      "text/plain": [
       "-1.0"
      ]
     },
     "execution_count": 82,
     "metadata": {},
     "output_type": "execute_result"
    }
   ],
   "source": [
    "#Acceder a una función dentro de math\n",
    "math.cos(math.pi)"
   ]
  },
  {
   "cell_type": "code",
   "execution_count": 78,
   "id": "59d8f5e6",
   "metadata": {},
   "outputs": [
    {
     "data": {
      "text/plain": [
       "['__doc__',\n",
       " '__file__',\n",
       " '__loader__',\n",
       " '__name__',\n",
       " '__package__',\n",
       " '__spec__',\n",
       " 'acos',\n",
       " 'acosh',\n",
       " 'asin',\n",
       " 'asinh',\n",
       " 'atan',\n",
       " 'atan2',\n",
       " 'atanh',\n",
       " 'cbrt',\n",
       " 'ceil',\n",
       " 'comb',\n",
       " 'copysign',\n",
       " 'cos',\n",
       " 'cosh',\n",
       " 'degrees',\n",
       " 'dist',\n",
       " 'e',\n",
       " 'erf',\n",
       " 'erfc',\n",
       " 'exp',\n",
       " 'exp2',\n",
       " 'expm1',\n",
       " 'fabs',\n",
       " 'factorial',\n",
       " 'floor',\n",
       " 'fmod',\n",
       " 'frexp',\n",
       " 'fsum',\n",
       " 'gamma',\n",
       " 'gcd',\n",
       " 'hypot',\n",
       " 'inf',\n",
       " 'isclose',\n",
       " 'isfinite',\n",
       " 'isinf',\n",
       " 'isnan',\n",
       " 'isqrt',\n",
       " 'lcm',\n",
       " 'ldexp',\n",
       " 'lgamma',\n",
       " 'log',\n",
       " 'log10',\n",
       " 'log1p',\n",
       " 'log2',\n",
       " 'modf',\n",
       " 'nan',\n",
       " 'nextafter',\n",
       " 'perm',\n",
       " 'pi',\n",
       " 'pow',\n",
       " 'prod',\n",
       " 'radians',\n",
       " 'remainder',\n",
       " 'sin',\n",
       " 'sinh',\n",
       " 'sqrt',\n",
       " 'tan',\n",
       " 'tanh',\n",
       " 'tau',\n",
       " 'trunc',\n",
       " 'ulp']"
      ]
     },
     "execution_count": 78,
     "metadata": {},
     "output_type": "execute_result"
    }
   ],
   "source": [
    "dir(math)"
   ]
  },
  {
   "cell_type": "code",
   "execution_count": 83,
   "id": "18a9ad06",
   "metadata": {},
   "outputs": [
    {
     "data": {
      "text/plain": [
       "8"
      ]
     },
     "execution_count": 83,
     "metadata": {},
     "output_type": "execute_result"
    }
   ],
   "source": [
    "pow(2,3)"
   ]
  },
  {
   "cell_type": "code",
   "execution_count": 84,
   "id": "ec74fb2d",
   "metadata": {},
   "outputs": [
    {
     "data": {
      "text/plain": [
       "8.0"
      ]
     },
     "execution_count": 84,
     "metadata": {},
     "output_type": "execute_result"
    }
   ],
   "source": [
    "math.pow(2,3)"
   ]
  },
  {
   "cell_type": "code",
   "execution_count": 85,
   "id": "2bd9eed7",
   "metadata": {},
   "outputs": [
    {
     "data": {
      "text/plain": [
       "3.141592653589793"
      ]
     },
     "execution_count": 85,
     "metadata": {},
     "output_type": "execute_result"
    }
   ],
   "source": [
    "#Una librería puede contener de igual manera constantes\n",
    "math.pi"
   ]
  },
  {
   "cell_type": "markdown",
   "id": "5578de82",
   "metadata": {},
   "source": [
    "Podemos importar únicamente un elemento de una librería por medio de la sintáxis: \n",
    "```python\n",
    "from lib import element\n",
    "\n",
    "\n",
    "```"
   ]
  },
  {
   "cell_type": "markdown",
   "id": "fef849a6",
   "metadata": {},
   "source": [
    "Si importamos un elementos de esta manera, no es necesario hacer un llamada a la librería de la cual depende el elemento"
   ]
  },
  {
   "cell_type": "code",
   "execution_count": 86,
   "id": "8cd99f54",
   "metadata": {},
   "outputs": [],
   "source": [
    "#math = 1"
   ]
  },
  {
   "cell_type": "code",
   "execution_count": 87,
   "id": "11994a11",
   "metadata": {},
   "outputs": [],
   "source": [
    "from math import e, log, pi"
   ]
  },
  {
   "cell_type": "code",
   "execution_count": 88,
   "id": "eb9e5d6d",
   "metadata": {},
   "outputs": [
    {
     "data": {
      "text/plain": [
       "2.718281828459045"
      ]
     },
     "execution_count": 88,
     "metadata": {},
     "output_type": "execute_result"
    }
   ],
   "source": [
    "e"
   ]
  },
  {
   "cell_type": "code",
   "execution_count": 89,
   "id": "ea00b772",
   "metadata": {},
   "outputs": [
    {
     "data": {
      "text/plain": [
       "3.141592653589793"
      ]
     },
     "execution_count": 89,
     "metadata": {},
     "output_type": "execute_result"
    }
   ],
   "source": [
    "pi"
   ]
  },
  {
   "cell_type": "code",
   "execution_count": 90,
   "id": "e3ed3b09",
   "metadata": {},
   "outputs": [
    {
     "data": {
      "text/plain": [
       "<function math.log>"
      ]
     },
     "execution_count": 90,
     "metadata": {},
     "output_type": "execute_result"
    }
   ],
   "source": [
    "log"
   ]
  },
  {
   "cell_type": "code",
   "execution_count": 91,
   "id": "5b0b5205",
   "metadata": {
    "scrolled": true
   },
   "outputs": [
    {
     "data": {
      "text/plain": [
       "1.0"
      ]
     },
     "execution_count": 91,
     "metadata": {},
     "output_type": "execute_result"
    }
   ],
   "source": [
    "log(e)   #math.log(math.e)"
   ]
  },
  {
   "cell_type": "code",
   "execution_count": 92,
   "id": "8b96cd24",
   "metadata": {},
   "outputs": [
    {
     "data": {
      "text/plain": [
       "float"
      ]
     },
     "execution_count": 92,
     "metadata": {},
     "output_type": "execute_result"
    }
   ],
   "source": [
    "type(pi)"
   ]
  },
  {
   "cell_type": "code",
   "execution_count": 93,
   "id": "fb0c9918",
   "metadata": {},
   "outputs": [
    {
     "data": {
      "text/plain": [
       "6.141592653589793"
      ]
     },
     "execution_count": 93,
     "metadata": {},
     "output_type": "execute_result"
    }
   ],
   "source": [
    "pi+3"
   ]
  },
  {
   "cell_type": "code",
   "execution_count": 94,
   "id": "28f415c5",
   "metadata": {},
   "outputs": [],
   "source": [
    "pi = 3"
   ]
  },
  {
   "cell_type": "code",
   "execution_count": 95,
   "id": "7889a35e",
   "metadata": {},
   "outputs": [
    {
     "data": {
      "text/plain": [
       "3"
      ]
     },
     "execution_count": 95,
     "metadata": {},
     "output_type": "execute_result"
    }
   ],
   "source": [
    "pi"
   ]
  },
  {
   "cell_type": "markdown",
   "id": "c477e512",
   "metadata": {},
   "source": [
    "Finalmente, podemos hacer un llamada a toda la librería o a un elemento de esta y asignarle algún otro nombre: \n",
    "\n",
    "Importamos la librería `lib` y la renombrarmos `another_name`\n",
    "\n",
    "```python\n",
    "import lib as another_name\n",
    "```\n",
    "\n",
    "Importamos `element` de `lib` y la renombrarmos `el`\n",
    "\n",
    "```python\n",
    "from lib import element as el\n",
    "```"
   ]
  },
  {
   "cell_type": "code",
   "execution_count": 96,
   "id": "f93e6a09",
   "metadata": {},
   "outputs": [],
   "source": [
    "import math as m"
   ]
  },
  {
   "cell_type": "code",
   "execution_count": 97,
   "id": "dce8e4d4",
   "metadata": {},
   "outputs": [
    {
     "data": {
      "text/plain": [
       "<module 'math' from '/Users/andrespadronquintana/anaconda3/lib/python3.11/lib-dynload/math.cpython-311-darwin.so'>"
      ]
     },
     "execution_count": 97,
     "metadata": {},
     "output_type": "execute_result"
    }
   ],
   "source": [
    "m"
   ]
  },
  {
   "cell_type": "code",
   "execution_count": null,
   "id": "9eacdc09",
   "metadata": {
    "scrolled": true
   },
   "outputs": [],
   "source": [
    "m.exp(2)"
   ]
  },
  {
   "cell_type": "code",
   "execution_count": 99,
   "id": "435d9a53",
   "metadata": {},
   "outputs": [],
   "source": [
    "from math import exp as exponential"
   ]
  },
  {
   "cell_type": "code",
   "execution_count": 100,
   "id": "d7fb5cd4",
   "metadata": {},
   "outputs": [
    {
     "data": {
      "text/plain": [
       "7.38905609893065"
      ]
     },
     "execution_count": 100,
     "metadata": {},
     "output_type": "execute_result"
    }
   ],
   "source": [
    "exponential(2)"
   ]
  },
  {
   "cell_type": "code",
   "execution_count": 101,
   "id": "79c29737",
   "metadata": {},
   "outputs": [],
   "source": [
    "import math"
   ]
  },
  {
   "cell_type": "code",
   "execution_count": 102,
   "id": "0c1a4fa1",
   "metadata": {
    "scrolled": true
   },
   "outputs": [
    {
     "data": {
      "text/plain": [
       "7.38905609893065"
      ]
     },
     "execution_count": 102,
     "metadata": {},
     "output_type": "execute_result"
    }
   ],
   "source": [
    "math.exp(2)"
   ]
  },
  {
   "cell_type": "markdown",
   "id": "3a6efaf2",
   "metadata": {},
   "source": [
    "> <h2 style=\"color:green\"> $\\ll\\!\\!\\prec\\quad$ Ejercicios $\\quad\\succ\\!\\!\\gg$ </h2>"
   ]
  },
  {
   "cell_type": "markdown",
   "id": "936a1360",
   "metadata": {},
   "source": [
    "1. Definir una función que tenga de argumento un número `n` y que te imprima una lista de todos los números impares desde cero hasta n"
   ]
  },
  {
   "cell_type": "markdown",
   "id": "90cee42e",
   "metadata": {},
   "source": [
    "2. Generar una función que imprima los primeros n números de la sucesión de Fibonacci:\n",
    "\n",
    "$$f_0 = 0,\\quad f_1 = 1,\\quad f_n = f_{n-1} + f_{n-2}$$"
   ]
  },
  {
   "cell_type": "markdown",
   "id": "e743a977",
   "metadata": {},
   "source": [
    "3. Construir una función que tome como argumentos una lista y un valor objetivo. La función debe dar como resultado los indíces de aquellos valores que sumen el valor objetivo.\n",
    "\n",
    "Ejemplo:\n",
    "\n",
    "```\n",
    "lista = [1,2,3,4,5,6,7]\n",
    "obj = 5\n",
    "\n",
    "resultado = [(0,3), (1,2)]\n",
    "```"
   ]
  },
  {
   "cell_type": "code",
   "execution_count": 103,
   "id": "cf85a49c",
   "metadata": {},
   "outputs": [],
   "source": [
    "#ver soluciones en el nuevo notebook"
   ]
  },
  {
   "cell_type": "code",
   "execution_count": null,
   "id": "0318c52b",
   "metadata": {},
   "outputs": [],
   "source": []
  },
  {
   "cell_type": "code",
   "execution_count": null,
   "id": "8013e319",
   "metadata": {},
   "outputs": [],
   "source": []
  },
  {
   "cell_type": "code",
   "execution_count": null,
   "id": "62b24f98",
   "metadata": {},
   "outputs": [],
   "source": []
  },
  {
   "cell_type": "markdown",
   "id": "ef34508b",
   "metadata": {},
   "source": [
    "4. Crea un progrma de jugar \"piedra, papel o tijeras con la maquina\""
   ]
  },
  {
   "cell_type": "code",
   "execution_count": 113,
   "id": "e3503e24",
   "metadata": {},
   "outputs": [
    {
     "name": "stdout",
     "output_type": "stream",
     "text": [
      "Opción:piedra\n",
      "Ganaste\n"
     ]
    }
   ],
   "source": [
    "import random\n",
    "\n",
    "opciones = [\"piedra\", \"papel\", \"tijera\"]\n",
    "\n",
    "op_user = \" \"\n",
    "\n",
    "while op_user not in opciones:\n",
    "    op_user = input(\"Opción:\").lower()\n",
    "    \n",
    "# La compu. selecciona aleatoriamente un elemento de la lista de opciones:\n",
    "op_compu = random.choice(opciones)\n",
    "\n",
    "if op_compu == op_user:\n",
    "    print(\"Es un empate\")\n",
    "elif ((op_compu) == \"papel\" and (op_user) == \"tijera\") or ((op_compu) == \"piedra\" and (op_user) == \"papel\") or ((op_compu) == \"tijera\" and (op_user) == \"piedra\"):\n",
    "    print(\"Ganaste\")\n",
    "else:\n",
    "    print(f\"Perdiste, La compu eligio: {op_compu}\")"
   ]
  },
  {
   "cell_type": "code",
   "execution_count": 117,
   "id": "9e50c4c8",
   "metadata": {},
   "outputs": [
    {
     "name": "stdout",
     "output_type": "stream",
     "text": [
      "Opción:papel\n",
      "Perdiste, La compu eligio: tijera\n"
     ]
    }
   ],
   "source": [
    "# Tuplas del tipo (a,b), donde a le gana a b\n",
    "\n",
    "list_ganadores = [(\"piedra\",\"tijera\"), (\"papel\", \"piedra\"), (\"tijera\", \"papel\")]\n",
    "\n",
    "op_user = \" \"\n",
    "\n",
    "while op_user not in opciones:\n",
    "    op_user = input(\"Opción:\").lower()\n",
    "    \n",
    "# La compu. selecciona aleatoriamente un elemento de la lista de opciones:\n",
    "op_compu = random.choice(opciones)\n",
    "\n",
    "\n",
    "#escogemos al ganador:\n",
    "if op_compu == op_user:\n",
    "    print(\"Es un empate, La compu eligio: {op_compu}\")\n",
    "elif (op_user, op_compu) in list_ganadores:\n",
    "    print(\"Ganaste, La compu eligio: {op_compu}\")\n",
    "else:\n",
    "    print(f\"Perdiste, La compu eligio: {op_compu}\")"
   ]
  },
  {
   "cell_type": "code",
   "execution_count": null,
   "id": "1de09d06",
   "metadata": {},
   "outputs": [],
   "source": [
    "# Vamos a escribir una funcion"
   ]
  },
  {
   "cell_type": "code",
   "execution_count": 120,
   "id": "2673cdc2",
   "metadata": {},
   "outputs": [],
   "source": [
    "def juego_infantil():\n",
    "\n",
    "    op_user = \" \"\n",
    "\n",
    "    while op_user not in opciones:\n",
    "        op_user = input(\"Opción:\").lower()\n",
    "    \n",
    "# La compu. selecciona aleatoriamente un elemento de la lista de opciones:\n",
    "    op_compu = random.choice(opciones)\n",
    "\n",
    "\n",
    "#escogemos al ganador:\n",
    "\n",
    "    if op_compu == op_user:\n",
    "        print(\"Es un empate, La compu eligio: {op_compu}\")\n",
    "    \n",
    "    elif (op_user, op_compu) in list_ganadores:\n",
    "        print(\"Ganaste, La compu eligio: {op_compu}\")\n",
    "    \n",
    "    else:\n",
    "        print(f\"Perdiste, La compu eligio: {op_compu}\")"
   ]
  },
  {
   "cell_type": "code",
   "execution_count": null,
   "id": "62c8f26e",
   "metadata": {},
   "outputs": [],
   "source": []
  },
  {
   "cell_type": "code",
   "execution_count": null,
   "id": "897dc08a",
   "metadata": {},
   "outputs": [],
   "source": []
  },
  {
   "cell_type": "markdown",
   "id": "c82ec500",
   "metadata": {},
   "source": [
    "## **Ejemplo Finanzas: Black Scholes**\n",
    "\n",
    "TC (USD-MXN) = 20.21       (hoy)\n",
    "\n",
    "\n",
    "TC (USD-MXN) =  ???         (1Y)\n",
    "\n",
    "\n",
    "Yo te vendo la opción de comprar 1000 dólares en 1Y a 20 pesos cada dólar.\n",
    "\n",
    "$S_0 = 20.21$\n",
    "\n",
    "$K = 20$\n",
    "\n",
    "$T = 1$\n",
    "\n",
    "$\\sigma = 0.3$   --> no es visible directamente a mercado\n",
    "\n",
    "$r = 0.11$"
   ]
  },
  {
   "cell_type": "markdown",
   "id": "1158268d",
   "metadata": {},
   "source": [
    "** Generalización**\n",
    "\n",
    "$\\epsilon = 1, \\mbox{si es C},$\n",
    "\n",
    "$\\epsilon = -1, \\mbox{si es P}$\n",
    "\n",
    "\n",
    "$$Price = \\epsilon\\Big(S_0\\,\\mathcal{N}(\\epsilon d_1) - K e^{-rT}\\,\\mathcal{N}(\\epsilon d_2)\\Big)$$"
   ]
  },
  {
   "cell_type": "markdown",
   "id": "d2dfd34a",
   "metadata": {},
   "source": [
    "**EJEMPLO FINANZAS:** El valor de una opción call Europea bajo el modelo de **Black-Scholes** está dada por \n",
    "\n",
    "$$\n",
    "    C = S_0\\,\\mathcal{N}(d_1) - K e^{-rT}\\,\\mathcal{N}(d_2)\n",
    "$$\n",
    "\n",
    "De ser una opción *put*, el valor de la opción está dado por\n",
    "\n",
    "$$\n",
    "    P = -S_0\\,\\mathcal{N}(-d_1) + K e^{-rT}\\mathcal{N}(-d_2)\n",
    "$$\n",
    "\n",
    "\n",
    "Donde\n",
    "\n",
    "$$\n",
    "d_1 =  \\frac{\\ln(S_0/K) + T(r + \\sigma^2 /2)}{\\sigma\\sqrt{T}}\\\\\n",
    "d_2 = d_1 - \\sigma \\sqrt{T}\n",
    "$$\n",
    "\n",
    "* $S_t$ es el valor de la acción a tiempo $t$\n",
    "* $K$ es el *strike* de la opción\n",
    "* $r$ es la tasa libre de riesgo\n",
    "* $T$ es el tiempo a vencimiento de la opción en años\n",
    "* $\\sigma$ es la volatidad de la acción\n",
    "* $\\mathcal{N}(z)$ es la función de distribución acumulada de una normal estándar definida como \n",
    "$$\\mathcal{N}(z) = \\frac{1}{\\sqrt{2\\pi}}\\int_{-\\infty}^z \\exp\\left(-\\frac{x^2}{2}\\right) dx$$\n",
    "\n",
    "\n",
    "4. Define la función `option(s, k, r, ttm, sigma, kind=\"call\")` que value una opción por medio del modelo de Black-Scholes. Considera importar las funciones `log`, `sqrt`, `exp` de la librería `math`; importa el elemento `norm` desde `scipy.stats`, la cuál incluye la función para calcular $\\Phi(z)$ desde `norm.cdf(z)`\n",
    "\n",
    "Por medio de la función `option`, calcula el valor de una opción call europea considerando $S= 60$, $K=65$, $T=0.25$, $r = 0.08$, $\\sigma=0.3$\n",
    "\n",
    "---\n",
    "\n",
    "\n",
    "5. La paridad entre un put y un call para el modelo de Black-Scholes está dada por la ecuación\n",
    "\n",
    "$$\n",
    "    P = C - S + K \\exp(-rT) \\\\\n",
    "$$\n",
    "\n",
    "Valida que la paridad se cumple para una opción con parámetros $S= 60$, $K=65$, $T=0.25$, $r = 0.08$, $\\sigma=0.3$. Haz uso de la función `option` definida en el inciso anterior\n",
    "\n",
    "---\n"
   ]
  },
  {
   "cell_type": "code",
   "execution_count": 1,
   "id": "b0f24488",
   "metadata": {},
   "outputs": [
    {
     "name": "stdout",
     "output_type": "stream",
     "text": [
      "Requirement already satisfied: scipy in /Users/andrespadronquintana/anaconda3/lib/python3.11/site-packages (1.10.1)\n",
      "Requirement already satisfied: numpy<1.27.0,>=1.19.5 in /Users/andrespadronquintana/anaconda3/lib/python3.11/site-packages (from scipy) (1.24.3)\n",
      "Note: you may need to restart the kernel to use updated packages.\n"
     ]
    }
   ],
   "source": [
    "pip install scipy"
   ]
  },
  {
   "cell_type": "code",
   "execution_count": 34,
   "id": "65b83b3d",
   "metadata": {},
   "outputs": [],
   "source": [
    "from math import log, sqrt, exp\n",
    "\n",
    "from scipy.stats import norm"
   ]
  },
  {
   "cell_type": "code",
   "execution_count": 35,
   "id": "8d74df53",
   "metadata": {},
   "outputs": [
    {
     "data": {
      "text/plain": [
       "['__call__',\n",
       " '__class__',\n",
       " '__delattr__',\n",
       " '__dict__',\n",
       " '__dir__',\n",
       " '__doc__',\n",
       " '__eq__',\n",
       " '__format__',\n",
       " '__ge__',\n",
       " '__getattribute__',\n",
       " '__getstate__',\n",
       " '__gt__',\n",
       " '__hash__',\n",
       " '__init__',\n",
       " '__init_subclass__',\n",
       " '__le__',\n",
       " '__lt__',\n",
       " '__module__',\n",
       " '__ne__',\n",
       " '__new__',\n",
       " '__reduce__',\n",
       " '__reduce_ex__',\n",
       " '__repr__',\n",
       " '__setattr__',\n",
       " '__setstate__',\n",
       " '__sizeof__',\n",
       " '__str__',\n",
       " '__subclasshook__',\n",
       " '__weakref__',\n",
       " '_argcheck',\n",
       " '_argcheck_rvs',\n",
       " '_attach_argparser_methods',\n",
       " '_attach_methods',\n",
       " '_cdf',\n",
       " '_cdf_single',\n",
       " '_cdfvec',\n",
       " '_construct_argparser',\n",
       " '_construct_default_doc',\n",
       " '_construct_doc',\n",
       " '_ctor_param',\n",
       " '_entropy',\n",
       " '_fit_loc_scale_support',\n",
       " '_fitstart',\n",
       " '_get_support',\n",
       " '_isf',\n",
       " '_logcdf',\n",
       " '_logpdf',\n",
       " '_logpxf',\n",
       " '_logsf',\n",
       " '_mom0_sc',\n",
       " '_mom1_sc',\n",
       " '_mom_integ0',\n",
       " '_mom_integ1',\n",
       " '_moment_error',\n",
       " '_munp',\n",
       " '_nlff_and_penalty',\n",
       " '_nnlf',\n",
       " '_open_support_mask',\n",
       " '_param_info',\n",
       " '_parse_arg_template',\n",
       " '_parse_args',\n",
       " '_parse_args_rvs',\n",
       " '_parse_args_stats',\n",
       " '_pdf',\n",
       " '_penalized_nlpsf',\n",
       " '_penalized_nnlf',\n",
       " '_ppf',\n",
       " '_ppf_single',\n",
       " '_ppf_to_solve',\n",
       " '_ppfvec',\n",
       " '_random_state',\n",
       " '_reduce_func',\n",
       " '_rvs',\n",
       " '_sf',\n",
       " '_shape_info',\n",
       " '_stats',\n",
       " '_stats_has_moments',\n",
       " '_support_mask',\n",
       " '_unpack_loc_scale',\n",
       " '_updated_ctor_param',\n",
       " 'a',\n",
       " 'b',\n",
       " 'badvalue',\n",
       " 'cdf',\n",
       " 'entropy',\n",
       " 'expect',\n",
       " 'extradoc',\n",
       " 'fit',\n",
       " 'fit_loc_scale',\n",
       " 'freeze',\n",
       " 'generic_moment',\n",
       " 'interval',\n",
       " 'isf',\n",
       " 'logcdf',\n",
       " 'logpdf',\n",
       " 'logsf',\n",
       " 'mean',\n",
       " 'median',\n",
       " 'moment',\n",
       " 'moment_type',\n",
       " 'name',\n",
       " 'nnlf',\n",
       " 'numargs',\n",
       " 'pdf',\n",
       " 'ppf',\n",
       " 'random_state',\n",
       " 'rvs',\n",
       " 'sf',\n",
       " 'shapes',\n",
       " 'stats',\n",
       " 'std',\n",
       " 'support',\n",
       " 'var',\n",
       " 'vecentropy',\n",
       " 'xtol']"
      ]
     },
     "execution_count": 35,
     "metadata": {},
     "output_type": "execute_result"
    }
   ],
   "source": [
    "dir(norm)"
   ]
  },
  {
   "cell_type": "code",
   "execution_count": 36,
   "id": "e50db20c",
   "metadata": {},
   "outputs": [
    {
     "data": {
      "text/plain": [
       "0.9999999990134123"
      ]
     },
     "execution_count": 36,
     "metadata": {},
     "output_type": "execute_result"
    }
   ],
   "source": [
    "norm.cdf(6)"
   ]
  },
  {
   "cell_type": "markdown",
   "id": "2b756266",
   "metadata": {},
   "source": [
    "$$\n",
    "    C = S_t \\Phi(d_1) - K e^{-rT}\\Phi(d_2)\n",
    "$$\n",
    "\n",
    "De ser una opción *put*, el valor de la opción está dado por\n",
    "\n",
    "$$\n",
    "    P = -S_t \\Phi(-d_1) + K e^{-rT}\\Phi(-d_2)\n",
    "$$\n",
    "\n",
    "\n",
    "Donde\n",
    "\n",
    "$$\n",
    "d_1 =  \\frac{\\ln(S/K) + T(r + \\sigma^2 /2)}{\\sigma\\sqrt{T}}\\\\\n",
    "d_2 = d_1 - \\sigma \\sqrt{T}\n",
    "$$"
   ]
  },
  {
   "cell_type": "code",
   "execution_count": 37,
   "id": "6b52d31a",
   "metadata": {},
   "outputs": [
    {
     "name": "stdout",
     "output_type": "stream",
     "text": [
      "Help on built-in function log in module math:\n",
      "\n",
      "log(...)\n",
      "    log(x, [base=math.e])\n",
      "    Return the logarithm of x to the given base.\n",
      "    \n",
      "    If the base not specified, returns the natural logarithm (base e) of x.\n",
      "\n"
     ]
    }
   ],
   "source": [
    "help(log)"
   ]
  },
  {
   "cell_type": "code",
   "execution_count": 38,
   "id": "037b94fd",
   "metadata": {},
   "outputs": [
    {
     "data": {
      "text/plain": [
       "0.9999999990134123"
      ]
     },
     "execution_count": 38,
     "metadata": {},
     "output_type": "execute_result"
    }
   ],
   "source": [
    "norm.cdf(6)"
   ]
  },
  {
   "cell_type": "code",
   "execution_count": 39,
   "id": "90ec439c",
   "metadata": {},
   "outputs": [],
   "source": [
    "def option(s, k, r, ttm, sigma, kind=\"call\"):\n",
    "    \"\"\"\n",
    "    Valora una opción \"call\" o \"put\" europeo bajo el modelo Black & Scholes de 1976. Para referencia ver \n",
    "    https://en.wikipedia.org/wiki/black_model\n",
    "    \n",
    "    Parámetros: \n",
    "    * $S_t$ es el valor de la acción a tiempo $t$\n",
    "    * $K$ es el *strike* de la opción\n",
    "    * $r$ es la tasa libre de riesgo\n",
    "    * $T$ es el tiempo a vencimiento de la opción en años\n",
    "    * $\\sigma$ es la volatidad de la acción\n",
    "    * $\\Phi(z)$ es la función de distribución acumulada de una normal estándar definida como $\\Phi(z) = \\frac{1}{\\sqrt{2\\pi}}\\int_{-\\infty}^z \\exp\\left(-\\frac{x^2}{2}\\right) dx$\n",
    "\n",
    "    Returns: \n",
    "    El valor/precio/prima de la opción bajo el modelo. \n",
    "    \n",
    "    \"\"\"\n",
    "    \n",
    "    epsilon = 1 if kind==\"call\" else -1\n",
    "    \n",
    "    d1 = (log(s/k)+ttm*(r+(sigma**2)/2)) / (sigma*sqrt(ttm))\n",
    "    d2 = d1 - sigma*sqrt(ttm)\n",
    "    \n",
    "    Fd1 = norm.cdf(d1*epsilon)   ## Phi(d_1)\n",
    "    Fd2 = norm.cdf(d2*epsilon)   ## Phi(d_2)\n",
    "    \n",
    "    option = epsilon*((s*Fd1)-k*exp(-r*ttm)*Fd2)\n",
    "    \n",
    "    return option"
   ]
  },
  {
   "cell_type": "code",
   "execution_count": 40,
   "id": "549625f1",
   "metadata": {},
   "outputs": [
    {
     "name": "stdout",
     "output_type": "stream",
     "text": [
      "Help on function option in module __main__:\n",
      "\n",
      "option(s, k, r, ttm, sigma, kind='call')\n",
      "    Valora una opción \"call\" o \"put\" europeo bajo el modelo Black & Scholes de 1976. Para referencia ver \n",
      "    https://en.wikipedia.org/wiki/black_model\n",
      "    \n",
      "    Parámetros: \n",
      "    * $S_t$ es el valor de la acción a tiempo $t$\n",
      "    * $K$ es el *strike* de la opción\n",
      "    * $r$ es la tasa libre de riesgo\n",
      "    * $T$ es el tiempo a vencimiento de la opción en años\n",
      "    * $\\sigma$ es la volatidad de la acción\n",
      "    * $\\Phi(z)$ es la función de distribución acumulada de una normal estándar definida como $\\Phi(z) = \f",
      "rac{1}{\\sqrt{2\\pi}}\\int_{-\\infty}^z \\exp\\left(-\f",
      "rac{x^2}{2}\r",
      "ight) dx$\n",
      "    \n",
      "    Returns: \n",
      "    El valor/precio/prima de la opción bajo el modelo.\n",
      "\n"
     ]
    }
   ],
   "source": [
    "help(option)"
   ]
  },
  {
   "cell_type": "markdown",
   "id": "f7782af0",
   "metadata": {},
   "source": [
    ". Define la función `option(s, k, r, ttm, sigma, kind=\"call\")` que value una opción por medio del modelo de Black-Scholes. Considera importar las funciones `log`, `sqrt`, `exp` de la librería `math`; importa el elemento `norm` desde `scipy.stats`, la cuál incluye la función para calcular $\\Phi(z)$ desde `norm.cdf(z)`\n",
    "\n",
    "Por medio de la función `option`, calcula el valor de una opción call europea considerando $S= 60$, $K=65$, $T=0.25$, $r = 0.08$, $\\sigma=0.3$\n",
    "\n",
    "---"
   ]
  },
  {
   "cell_type": "code",
   "execution_count": 41,
   "id": "8bb600af",
   "metadata": {},
   "outputs": [],
   "source": [
    "S = 25\n",
    "K = 25\n",
    "T = 1\n",
    "r = .08\n",
    "sigma = .3"
   ]
  },
  {
   "cell_type": "code",
   "execution_count": 42,
   "id": "05819dab",
   "metadata": {},
   "outputs": [
    {
     "data": {
      "text/plain": [
       "3.9278281369732433"
      ]
     },
     "execution_count": 42,
     "metadata": {},
     "output_type": "execute_result"
    }
   ],
   "source": [
    "C = option(s=S, k=K, r=r, ttm=T, sigma=sigma, kind=\"call\")\n",
    "C"
   ]
  },
  {
   "cell_type": "code",
   "execution_count": 43,
   "id": "4f8a95d1",
   "metadata": {},
   "outputs": [
    {
     "data": {
      "text/plain": [
       "0.05483333333333333"
      ]
     },
     "execution_count": 43,
     "metadata": {},
     "output_type": "execute_result"
    }
   ],
   "source": [
    "3.29/60 #visto en propción al precio "
   ]
  },
  {
   "cell_type": "code",
   "execution_count": 44,
   "id": "be62fce8",
   "metadata": {},
   "outputs": [
    {
     "data": {
      "text/plain": [
       "2.0057367966391375"
      ]
     },
     "execution_count": 44,
     "metadata": {},
     "output_type": "execute_result"
    }
   ],
   "source": [
    "P = option(s=S, k=K, r=r, ttm=T, sigma=sigma, kind=\"put\")\n",
    "P"
   ]
  },
  {
   "cell_type": "code",
   "execution_count": 45,
   "id": "9dd5907f",
   "metadata": {},
   "outputs": [
    {
     "data": {
      "text/plain": [
       "0.08022800000000001"
      ]
     },
     "execution_count": 45,
     "metadata": {},
     "output_type": "execute_result"
    }
   ],
   "source": [
    "2.0057/25"
   ]
  },
  {
   "cell_type": "code",
   "execution_count": 46,
   "id": "ff8dc89a",
   "metadata": {},
   "outputs": [
    {
     "data": {
      "text/plain": [
       "1.9220913403341058"
      ]
     },
     "execution_count": 46,
     "metadata": {},
     "output_type": "execute_result"
    }
   ],
   "source": [
    "fwd = S - K *exp(-r*T)\n",
    "fwd"
   ]
  },
  {
   "cell_type": "code",
   "execution_count": 47,
   "id": "12a3fbe9",
   "metadata": {},
   "outputs": [
    {
     "data": {
      "text/plain": [
       "1.9220913403341058"
      ]
     },
     "execution_count": 47,
     "metadata": {},
     "output_type": "execute_result"
    }
   ],
   "source": [
    "C - P #paridad put call"
   ]
  },
  {
   "cell_type": "markdown",
   "id": "07705b77",
   "metadata": {},
   "source": [
    "\n",
    "2. La paridad entre un put y un call para el modelo de Black-Scholes está dada por la ecuación\n",
    "\n",
    "$$\n",
    "    P = C - S + K \\exp(-rT) \\\\\n",
    "$$\n",
    "\n",
    "Valida que la paridad se cumple para una opción con parámetros $S= 60$, $K=65$, $T=0.25$, $r = 0.08$, $\\sigma=0.3$. Haz uso de la función `option` definida en el inciso anterior\n"
   ]
  },
  {
   "cell_type": "code",
   "execution_count": 48,
   "id": "61242fc3",
   "metadata": {},
   "outputs": [],
   "source": [
    "p=option(s=S, k=K, r=r, ttm=T, sigma=sigma, kind=\"put\")\n",
    "c=option(s=S, k=K, r=r, ttm=T, sigma=sigma, kind=\"call\")\n"
   ]
  },
  {
   "cell_type": "code",
   "execution_count": 49,
   "id": "33bc5a88",
   "metadata": {},
   "outputs": [],
   "source": [
    "def put(c,s,k,r,ttm):\n",
    "    put=c-s+k*exp(-r*ttm)\n",
    "    return put"
   ]
  },
  {
   "cell_type": "code",
   "execution_count": 50,
   "id": "d590b732",
   "metadata": {},
   "outputs": [
    {
     "data": {
      "text/plain": [
       "2.0057367966391375"
      ]
     },
     "execution_count": 50,
     "metadata": {},
     "output_type": "execute_result"
    }
   ],
   "source": [
    "p"
   ]
  },
  {
   "cell_type": "code",
   "execution_count": 51,
   "id": "d681eed0",
   "metadata": {},
   "outputs": [
    {
     "data": {
      "text/plain": [
       "2.0057367966391375"
      ]
     },
     "execution_count": 51,
     "metadata": {},
     "output_type": "execute_result"
    }
   ],
   "source": [
    "put(c=c,s=S,k=K,r=r,ttm=T) #comprobamos que usando la paridad (put-call) nos da el valor del put indiviual. "
   ]
  },
  {
   "cell_type": "markdown",
   "id": "11a5bf16",
   "metadata": {},
   "source": [
    "## Strike ATM"
   ]
  },
  {
   "cell_type": "markdown",
   "id": "590b3421",
   "metadata": {},
   "source": [
    "De acuerdo con la paridad put-call, el strike ATM (el que hace que la prima de una opción de compra sea igual a la prima de una opción de venta, tiene que cumplir que:\n",
    "\n",
    "$$- S_0 + K \\exp(-rT) = 0$$\n",
    "$$K_{ATM} = S_0\\,e^{rT}$$"
   ]
  },
  {
   "cell_type": "code",
   "execution_count": 52,
   "id": "c63edc38",
   "metadata": {},
   "outputs": [],
   "source": [
    "S0 = 100      # Precio inicial del activo subyacente\n",
    "K = 100       # Precio de ejercicio\n",
    "T = 1         # Tiempo hasta el vencimiento en años\n",
    "r = 0.05      # Tasa de interés libre de riesgo\n",
    "sigma = 0.2   # Volatilidad"
   ]
  },
  {
   "cell_type": "code",
   "execution_count": 53,
   "id": "4f33be24",
   "metadata": {},
   "outputs": [
    {
     "data": {
      "text/plain": [
       "105.12710963760242"
      ]
     },
     "execution_count": 53,
     "metadata": {},
     "output_type": "execute_result"
    }
   ],
   "source": [
    "K_atm = S0 * exp(r*T)\n",
    "K_atm"
   ]
  },
  {
   "cell_type": "code",
   "execution_count": 54,
   "id": "443aa644",
   "metadata": {},
   "outputs": [
    {
     "data": {
      "text/plain": [
       "7.96556745540579"
      ]
     },
     "execution_count": 54,
     "metadata": {},
     "output_type": "execute_result"
    }
   ],
   "source": [
    "## opcion de compra\n",
    "option(s=S0, k=K_atm, r=r, ttm=T, sigma=sigma, kind=\"call\")"
   ]
  },
  {
   "cell_type": "code",
   "execution_count": 55,
   "id": "f31fa557",
   "metadata": {},
   "outputs": [
    {
     "data": {
      "text/plain": [
       "7.965567455405804"
      ]
     },
     "execution_count": 55,
     "metadata": {},
     "output_type": "execute_result"
    }
   ],
   "source": [
    "# opcion de venta\n",
    "option(s=S0, k=K_atm, r=r, ttm=T, sigma=sigma, kind=\"put\")"
   ]
  },
  {
   "cell_type": "markdown",
   "id": "61825d0e",
   "metadata": {},
   "source": [
    "**Ejemplo usando simulaciones MonteCarlo**"
   ]
  },
  {
   "cell_type": "code",
   "execution_count": 56,
   "id": "41c0485b",
   "metadata": {},
   "outputs": [
    {
     "data": {
      "image/png": "[encoded data removed]",
      "text/plain": [
       "<Figure size 1000x600 with 1 Axes>"
      ]
     },
     "metadata": {},
     "output_type": "display_data"
    },
    {
     "name": "stdout",
     "output_type": "stream",
     "text": [
      "Precio calculado usando la fórmula de Black-Scholes: 10.4506\n",
      "Precio usando Monte Carlo con 100 simulaciones: 11.7413\n",
      "Precio usando Monte Carlo con 500 simulaciones: 10.2004\n",
      "Precio usando Monte Carlo con 1000 simulaciones: 10.5716\n",
      "Precio usando Monte Carlo con 5000 simulaciones: 10.6031\n",
      "Precio usando Monte Carlo con 10000 simulaciones: 10.1717\n"
     ]
    }
   ],
   "source": [
    "# Importamos las bibliotecas necesarias\n",
    "import numpy as np  # Para trabajar con arreglos y funciones matemáticas\n",
    "import matplotlib.pyplot as plt  # Para generar gráficos\n",
    "from scipy.stats import norm  # Para la función de distribución acumulada normal (CDF)\n",
    "\n",
    "# Parámetros de la opción (todos los valores están en años)\n",
    "S0 = 100      # Precio actual del activo subyacente (acción, por ejemplo)\n",
    "K = 100       # Precio de ejercicio (strike) de la opción\n",
    "T = 1         # Tiempo hasta el vencimiento de la opción, en años\n",
    "r = 0.05      # Tasa de interés libre de riesgo (5%)\n",
    "sigma = 0.2   # Volatilidad del activo subyacente (20%)\n",
    "\n",
    "# Lista de números de simulaciones que vamos a usar para estudiar la convergencia\n",
    "simulations = [100, 500, 1_000, 5_000, 10_000]\n",
    "\n",
    "# Paso 1: Implementar la fórmula de Black-Scholes para calcular el precio de una opción call\n",
    "def black_scholes(S0, K, T, r, sigma):\n",
    "    \"\"\"\n",
    "    Calcula el precio de una opción de compra (call) utilizando la fórmula de Black-Scholes.\n",
    "    \"\"\"\n",
    "    # Calculamos los parámetros d1 y d2\n",
    "    d1 = (np.log(S0 / K) + (r + 0.5 * sigma**2) * T) / (sigma * np.sqrt(T))\n",
    "    d2 = d1 - sigma * np.sqrt(T)\n",
    "    \n",
    "    # Calculamos el precio de la opción utilizando la fórmula de Black-Scholes\n",
    "    call_price = S0 * norm.cdf(d1) - K * np.exp(-r * T) * norm.cdf(d2)\n",
    "    \n",
    "    return call_price\n",
    "\n",
    "# Paso 2: Implementar la simulación de Monte Carlo para calcular el precio de una opción call\n",
    "def monte_carlo_call(S0, K, T, r, sigma, num_simulations):\n",
    "    \"\"\"\n",
    "    Calcula el precio de una opción de compra (call) usando simulación de Monte Carlo.\n",
    "    \"\"\"\n",
    "    dt = T / 252  # Supongamos que el año tiene 252 días de mercado (trading days)\n",
    "    paths = np.zeros(num_simulations)  # Arreglo para almacenar los resultados de cada simulación\n",
    "    \n",
    "    # Realizamos las simulaciones\n",
    "    for i in range(num_simulations):\n",
    "        S = S0  # Comenzamos con el precio inicial\n",
    "        # Generamos el precio del activo en cada paso del tiempo\n",
    "        for _ in range(int(T / dt)):  # Repetimos el proceso para cada día de trading\n",
    "            # El precio sigue un proceso estocástico (modelo geométrico Browniano)\n",
    "            S += r * S * dt + sigma * S * np.sqrt(dt) * np.random.normal()  # Actualizamos el precio\n",
    "        # Calculamos el valor de la opción (maximo entre 0 y S - K)\n",
    "        paths[i] = max(S - K, 0)  # La opción solo tiene valor si S > K (opción call)\n",
    "    \n",
    "    # Promediamos todos los valores de las simulaciones y los descontamos al presente\n",
    "    return np.mean(paths) * np.exp(-r * T)\n",
    "\n",
    "# Paso 3: Calcular el precio de la opción usando Black-Scholes\n",
    "bs_price = black_scholes(S0, K, T, r, sigma)\n",
    "\n",
    "# Paso 4: Realizar simulaciones de Monte Carlo con diferentes números de simulaciones\n",
    "mc_prices = []  # Lista para almacenar los precios de Monte Carlo con distintos números de simulaciones\n",
    "\n",
    "for num_simulations in simulations:\n",
    "    mc_price = monte_carlo_call(S0, K, T, r, sigma, num_simulations)\n",
    "    mc_prices.append(mc_price)\n",
    "\n",
    "# Paso 5: Graficar los resultados y observar la convergencia de las simulaciones\n",
    "plt.figure(figsize=(10,6))  # Creamos una figura para el gráfico\n",
    "plt.plot(simulations, mc_prices, label=\"Simulaciones de Monte Carlo\", marker='o')  # Precio de Monte Carlo\n",
    "plt.axhline(y=bs_price, color='r', linestyle='--', label=\"Precio Black-Scholes\")  # Línea del precio exacto de Black-Scholes\n",
    "plt.xscale('log')  # Usamos una escala logarítmica en el eje X (número de simulaciones)\n",
    "plt.xlabel(\"Número de simulaciones\")  # Etiqueta para el eje X\n",
    "plt.ylabel(\"Precio de la opción\")  # Etiqueta para el eje Y\n",
    "plt.title(\"Comparación entre la fórmula de Black-Scholes y las simulaciones de Monte Carlo\")  # Título del gráfico\n",
    "plt.legend()  # Muestra la leyenda en el gráfico\n",
    "#plt.grid(True)  # Habilita la cuadrícula\n",
    "plt.show()  # Muestra el gráfico\n",
    "\n",
    "# Paso 6: Imprimir los resultados de los precios\n",
    "print(f\"Precio calculado usando la fórmula de Black-Scholes: {bs_price:.4f}\")\n",
    "for num_simulations, mc_price in zip(simulations, mc_prices):\n",
    "    print(f\"Precio usando Monte Carlo con {num_simulations} simulaciones: {mc_price:.4f}\")\n",
    "\n"
   ]
  },
  {
   "cell_type": "code",
   "execution_count": 57,
   "id": "de9af26e",
   "metadata": {},
   "outputs": [],
   "source": [
    "import numpy as np"
   ]
  },
  {
   "cell_type": "code",
   "execution_count": 58,
   "id": "f004832f",
   "metadata": {},
   "outputs": [
    {
     "name": "stdout",
     "output_type": "stream",
     "text": [
      "Help on built-in function binomial:\n",
      "\n",
      "binomial(...) method of numpy.random.mtrand.RandomState instance\n",
      "    binomial(n, p, size=None)\n",
      "    \n",
      "    Draw samples from a binomial distribution.\n",
      "    \n",
      "    Samples are drawn from a binomial distribution with specified\n",
      "    parameters, n trials and p probability of success where\n",
      "    n an integer >= 0 and p is in the interval [0,1]. (n may be\n",
      "    input as a float, but it is truncated to an integer in use)\n",
      "    \n",
      "    .. note::\n",
      "        New code should use the `~numpy.random.Generator.binomial`\n",
      "        method of a `~numpy.random.Generator` instance instead;\n",
      "        please see the :ref:`random-quick-start`.\n",
      "    \n",
      "    Parameters\n",
      "    ----------\n",
      "    n : int or array_like of ints\n",
      "        Parameter of the distribution, >= 0. Floats are also accepted,\n",
      "        but they will be truncated to integers.\n",
      "    p : float or array_like of floats\n",
      "        Parameter of the distribution, >= 0 and <=1.\n",
      "    size : int or tuple of ints, optional\n",
      "        Output shape.  If the given shape is, e.g., ``(m, n, k)``, then\n",
      "        ``m * n * k`` samples are drawn.  If size is ``None`` (default),\n",
      "        a single value is returned if ``n`` and ``p`` are both scalars.\n",
      "        Otherwise, ``np.broadcast(n, p).size`` samples are drawn.\n",
      "    \n",
      "    Returns\n",
      "    -------\n",
      "    out : ndarray or scalar\n",
      "        Drawn samples from the parameterized binomial distribution, where\n",
      "        each sample is equal to the number of successes over the n trials.\n",
      "    \n",
      "    See Also\n",
      "    --------\n",
      "    scipy.stats.binom : probability density function, distribution or\n",
      "        cumulative density function, etc.\n",
      "    random.Generator.binomial: which should be used for new code.\n",
      "    \n",
      "    Notes\n",
      "    -----\n",
      "    The probability density for the binomial distribution is\n",
      "    \n",
      "    .. math:: P(N) = \\binom{n}{N}p^N(1-p)^{n-N},\n",
      "    \n",
      "    where :math:`n` is the number of trials, :math:`p` is the probability\n",
      "    of success, and :math:`N` is the number of successes.\n",
      "    \n",
      "    When estimating the standard error of a proportion in a population by\n",
      "    using a random sample, the normal distribution works well unless the\n",
      "    product p*n <=5, where p = population proportion estimate, and n =\n",
      "    number of samples, in which case the binomial distribution is used\n",
      "    instead. For example, a sample of 15 people shows 4 who are left\n",
      "    handed, and 11 who are right handed. Then p = 4/15 = 27%. 0.27*15 = 4,\n",
      "    so the binomial distribution should be used in this case.\n",
      "    \n",
      "    References\n",
      "    ----------\n",
      "    .. [1] Dalgaard, Peter, \"Introductory Statistics with R\",\n",
      "           Springer-Verlag, 2002.\n",
      "    .. [2] Glantz, Stanton A. \"Primer of Biostatistics.\", McGraw-Hill,\n",
      "           Fifth Edition, 2002.\n",
      "    .. [3] Lentner, Marvin, \"Elementary Applied Statistics\", Bogden\n",
      "           and Quigley, 1972.\n",
      "    .. [4] Weisstein, Eric W. \"Binomial Distribution.\" From MathWorld--A\n",
      "           Wolfram Web Resource.\n",
      "           http://mathworld.wolfram.com/BinomialDistribution.html\n",
      "    .. [5] Wikipedia, \"Binomial distribution\",\n",
      "           https://en.wikipedia.org/wiki/Binomial_distribution\n",
      "    \n",
      "    Examples\n",
      "    --------\n",
      "    Draw samples from the distribution:\n",
      "    \n",
      "    >>> n, p = 10, .5  # number of trials, probability of each trial\n",
      "    >>> s = np.random.binomial(n, p, 1000)\n",
      "    # result of flipping a coin 10 times, tested 1000 times.\n",
      "    \n",
      "    A real world example. A company drills 9 wild-cat oil exploration\n",
      "    wells, each with an estimated probability of success of 0.1. All nine\n",
      "    wells fail. What is the probability of that happening?\n",
      "    \n",
      "    Let's do 20,000 trials of the model, and count the number that\n",
      "    generate zero positive results.\n",
      "    \n",
      "    >>> sum(np.random.binomial(9, 0.1, 20000) == 0)/20000.\n",
      "    # answer = 0.38885, or 38%.\n",
      "\n"
     ]
    }
   ],
   "source": [
    "help(np.random.binomial)"
   ]
  },
  {
   "cell_type": "code",
   "execution_count": 3,
   "id": "fb53fbc5",
   "metadata": {},
   "outputs": [
    {
     "data": {
      "text/plain": [
       "array([50, 54, 50, 56, 47, 57, 44, 57, 41, 51])"
      ]
     },
     "execution_count": 3,
     "metadata": {},
     "output_type": "execute_result"
    }
   ],
   "source": [
    "# muestreo de una variable aleatoria\n",
    "np.random.binomial(100, 0.5, 10)"
   ]
  },
  {
   "cell_type": "code",
   "execution_count": 4,
   "id": "b90a0372",
   "metadata": {},
   "outputs": [
    {
     "data": {
      "text/plain": [
       "7.991"
      ]
     },
     "execution_count": 4,
     "metadata": {},
     "output_type": "execute_result"
    }
   ],
   "source": [
    "muestra = 100_000\n",
    "\n",
    "n = 10\n",
    "p = 0.8\n",
    "\n",
    "np.mean(np.random.binomial(n, p, muestra))"
   ]
  },
  {
   "cell_type": "code",
   "execution_count": 5,
   "id": "69cdcf4a",
   "metadata": {},
   "outputs": [
    {
     "data": {
      "text/plain": [
       "8.0"
      ]
     },
     "execution_count": 5,
     "metadata": {},
     "output_type": "execute_result"
    }
   ],
   "source": [
    "n * p"
   ]
  },
  {
   "cell_type": "code",
   "execution_count": 8,
   "id": "4956eb60",
   "metadata": {},
   "outputs": [],
   "source": [
    "import numpy as np\n",
    "import matplotlib.pyplot as plt\n",
    "\n",
    "paths = 1000\n",
    "delta = 1/252\n",
    "time = int(T * 252)"
   ]
  },
  {
   "cell_type": "code",
   "execution_count": 9,
   "id": "fbfac8cf",
   "metadata": {},
   "outputs": [],
   "source": [
    "def brownian_motion(delta, sigma, paths, time):\n",
    "    return sigma * np.random.normal(loc=0, scale=np.sqrt(delta), size=(time, paths))\n",
    "\n",
    "def b_geom_retornos(delta, sigma, time, mu, paths):\n",
    "    brownian = brownian_motion(delta, sigma, paths, time)    \n",
    "    return np.exp(brownian + (mu - sigma**2 / 2) * delta)\n",
    "\n",
    "def b_geom(S_0, delta, sigma, time, mu, paths):\n",
    "    retornos = b_geom_retornos(delta, sigma, time, mu, paths)\n",
    "    stacked = np.vstack([np.ones(paths), retornos])\n",
    "    return S_0 * stacked.cumprod(axis=0)\n",
    "\n"
   ]
  },
  {
   "cell_type": "code",
   "execution_count": 10,
   "id": "9e167595",
   "metadata": {},
   "outputs": [],
   "source": [
    "paths_price = b_geom(S0, delta, sigma, time, r, paths)"
   ]
  },
  {
   "cell_type": "code",
   "execution_count": 11,
   "id": "e6fc06b7",
   "metadata": {},
   "outputs": [
    {
     "data": {
      "image/png": "[encoded data removed]",
      "text/plain": [
       "<Figure size 640x480 with 1 Axes>"
      ]
     },
     "metadata": {},
     "output_type": "display_data"
    }
   ],
   "source": [
    "plt.plot(paths_price, linewidth=0.25);"
   ]
  },
  {
   "cell_type": "code",
   "execution_count": 12,
   "id": "7b36120e",
   "metadata": {},
   "outputs": [
    {
     "data": {
      "text/plain": [
       "array([[100.        , 100.        , 100.        , ..., 100.        ,\n",
       "        100.        , 100.        ],\n",
       "       [ 98.78260268, 100.0863331 , 101.06871608, ...,  99.83458586,\n",
       "         98.71989256,  99.6048086 ],\n",
       "       [ 97.478624  , 101.29213725,  99.99006235, ...,  98.14895796,\n",
       "         98.24354224,  98.94029113],\n",
       "       ...,\n",
       "       [101.63863093, 111.8372741 , 127.23682714, ..., 115.27938404,\n",
       "         79.7988156 ,  79.44306878],\n",
       "       [103.36420056, 114.75028435, 130.53005395, ..., 115.06728191,\n",
       "         80.95006356,  79.21947205],\n",
       "       [103.44517517, 115.2277067 , 131.21310939, ..., 113.85973605,\n",
       "         81.86375493,  77.9859809 ]])"
      ]
     },
     "execution_count": 12,
     "metadata": {},
     "output_type": "execute_result"
    }
   ],
   "source": [
    "paths_price"
   ]
  },
  {
   "cell_type": "code",
   "execution_count": 13,
   "id": "c912f54c",
   "metadata": {},
   "outputs": [
    {
     "data": {
      "text/plain": [
       "array([103.44517517, 115.2277067 , 131.21310939,  84.71273346,\n",
       "       114.43263909, 115.50148277,  93.96527554, 110.90392809,\n",
       "        95.22146187, 104.32576466,  91.00029641, 111.57998371,\n",
       "        88.74083183, 129.16333952, 110.74798566, 117.30093626,\n",
       "       107.383399  ,  98.47862872, 114.38893747,  81.20546764,\n",
       "        92.60074642, 165.16248081, 128.70730037, 127.09995829,\n",
       "       125.80438286,  89.63602444, 106.22754282, 120.1144031 ,\n",
       "        82.13116399,  72.10316008, 121.83692551,  78.69805674,\n",
       "       126.44913105,  67.53528603,  96.3047735 ,  78.31651332,\n",
       "       109.02352228, 107.0032361 , 113.64019146, 133.16785836,\n",
       "        97.24352992, 180.21189059, 121.83288604,  67.49519056,\n",
       "        91.30145239, 101.57203228,  94.53887765, 135.38839277,\n",
       "       126.00020207, 119.36736387,  65.69662682,  93.6623984 ,\n",
       "        78.06415377, 131.31205837, 137.15505358, 113.09134361,\n",
       "        89.47104454, 112.07579082,  90.91784382, 110.60712053,\n",
       "       139.37076608, 101.58177877,  91.53510078,  92.12378895,\n",
       "       134.53572915,  79.28443583, 100.94742006, 115.21733192,\n",
       "       140.28661736, 111.39606367,  95.48289227, 101.19294632,\n",
       "        94.47095742, 171.16307004,  92.70366631, 131.14284135,\n",
       "        65.51845854, 142.91516557,  96.09590929,  91.55736522,\n",
       "        88.09391798,  98.01082404, 128.05959554,  69.21242399,\n",
       "        87.19185072,  94.26584299, 103.18301338,  69.26334449,\n",
       "        86.82445702,  84.26629371, 108.79828521, 115.49651012,\n",
       "       111.43916413,  98.83442232, 101.84572502,  89.06201877,\n",
       "        82.90079912,  85.23929886,  63.82014728,  79.37748857,\n",
       "       148.66058642, 125.91910684, 102.68298372, 107.8977715 ,\n",
       "       108.65461864,  72.93131782,  86.85510661, 106.76911217,\n",
       "       149.15151379,  87.3014764 , 102.86723231,  91.18770654,\n",
       "        94.32863797,  79.85730356,  93.85788068, 106.52342064,\n",
       "        90.78646581,  81.85217237, 153.2425666 , 135.39047255,\n",
       "       110.37343216, 150.42860598, 100.1731774 , 136.99339852,\n",
       "        88.37003998, 114.86013859,  86.05521997,  86.5565134 ,\n",
       "        82.05151038,  94.95412895, 117.21420786,  96.38811897,\n",
       "       109.01588545, 101.17678144,  77.51257878,  90.55957394,\n",
       "       104.92050843, 132.67030856,  84.67249016, 107.56452323,\n",
       "        97.41040036,  83.78232618, 105.18847918, 110.96796017,\n",
       "       102.2345572 , 130.25995497,  80.51591806, 101.14445203,\n",
       "        87.57857075, 112.03345174, 103.2981104 ,  72.88855093,\n",
       "       100.78213387, 118.08957796,  98.08823704,  79.39180518,\n",
       "       113.9657249 ,  80.36156371,  96.95976614, 107.40083567,\n",
       "        96.22681763, 136.62969868, 101.74306172, 131.6368044 ,\n",
       "       107.17999481, 134.10333876,  95.82477902, 114.57914812,\n",
       "       122.51379347,  89.19663265,  83.03404735,  90.6667503 ,\n",
       "        88.90433408,  95.4437317 ,  71.66782405, 120.91081991,\n",
       "       117.32456224,  97.55285856, 111.44252167, 163.30385206,\n",
       "        90.45882554,  94.87540307,  91.90893565,  97.04893801,\n",
       "        98.66467477, 128.07296295,  86.63500445, 124.77331411,\n",
       "       147.70138323,  89.87946599, 118.30518857,  70.55799853,\n",
       "       138.86149733, 103.8147483 ,  94.30415806,  69.7456113 ,\n",
       "       102.63801993,  91.40641736, 114.1568068 , 140.90865571,\n",
       "        96.48175279,  91.94102129,  82.72088342, 119.71197405,\n",
       "       143.12878562,  88.78239476, 101.00110564, 147.23898263,\n",
       "       103.37540131, 118.29925224,  72.19216673,  96.16402397,\n",
       "       107.81162356, 108.70479329, 104.49734512, 147.63378297,\n",
       "        94.17218926,  95.81076446,  95.67956905,  78.40905252,\n",
       "        93.99898752,  62.30656912, 109.54420805, 111.90924426,\n",
       "       116.2051503 , 100.31801815,  92.95259295,  94.68812949,\n",
       "       102.259236  , 144.23179346,  65.69270391,  94.48483016,\n",
       "       104.39085166, 108.41384079, 128.1118203 ,  97.81856198,\n",
       "        86.84269631, 105.24912731,  89.34678503, 121.0772888 ,\n",
       "       109.24620891,  96.76680981,  75.20155775,  92.18112128,\n",
       "       136.85287979,  81.96509741, 103.48067113, 108.89383794,\n",
       "       111.19475008,  99.72146551, 146.76667273, 119.9167864 ,\n",
       "       100.8440935 ,  68.62651129,  99.61305185, 164.37072471,\n",
       "       140.32132855,  71.27319989, 101.48680123,  95.29156211,\n",
       "       124.85102176, 100.56585879, 140.20132329,  72.58442638,\n",
       "       132.01368959,  96.01148162,  87.22465098,  98.13996375,\n",
       "       115.82441956,  96.20633854, 119.33768954, 112.53135683,\n",
       "       144.34177059, 126.52600455,  94.03349909,  77.73307642,\n",
       "       109.82511796, 102.944661  , 133.9290407 , 100.578657  ,\n",
       "        98.02971041, 116.98116966,  81.30021453,  79.63076142,\n",
       "        95.95938791, 153.15574437,  80.30614005,  97.49784434,\n",
       "        82.70623042, 114.16142557, 127.62615235, 108.87739575,\n",
       "        93.10079805, 111.50696121,  85.94070944, 104.51950703,\n",
       "        88.02863691, 104.42779706,  87.82707713, 103.09508011,\n",
       "       126.16806636,  95.04456389, 105.60363536,  95.06544661,\n",
       "       109.62749266,  97.00920641,  91.58936767, 145.00532796,\n",
       "       164.53120695, 105.54897834,  67.18703933, 106.22632453,\n",
       "       117.96861486,  95.38884041, 110.0074727 , 121.2177581 ,\n",
       "       124.91725889,  92.38477876,  93.5842936 ,  82.03005968,\n",
       "        91.558641  ,  87.4783523 ,  88.74860234, 110.33261168,\n",
       "        96.92916024,  72.8533746 , 106.56123529,  90.4645512 ,\n",
       "       103.72990142, 142.34259326,  78.03413   ,  76.16768777,\n",
       "       103.57161546, 134.4848175 , 111.90038744, 122.18049716,\n",
       "       123.06535273,  97.8644539 ,  90.5924189 , 118.78972034,\n",
       "       120.88394875,  97.97244438,  80.78213346,  95.70533912,\n",
       "       132.50766761,  73.12746131,  64.80733426,  88.15807977,\n",
       "        88.59633355,  57.08154673, 110.19938426, 113.4816001 ,\n",
       "       119.73124311, 133.71199365,  89.10054388,  75.76095734,\n",
       "       114.01610001,  97.19588207, 134.12147796, 113.4952837 ,\n",
       "        78.63383514, 121.12341027,  88.76084148, 115.82563894,\n",
       "        81.90828641, 101.09487014, 129.05441309,  91.17386267,\n",
       "       100.42159685, 120.5387406 ,  97.64857696, 133.12207126,\n",
       "       119.02348997, 160.60286362, 106.18078931, 129.97901741,\n",
       "       107.3680327 ,  86.33517036,  96.72768533,  69.9888944 ,\n",
       "        99.44155363, 122.6585693 , 123.85083926,  86.5675269 ,\n",
       "       118.07701922, 110.13371473, 139.88670446, 107.57849075,\n",
       "       122.2322126 , 122.64730397,  78.94670761, 112.31422347,\n",
       "       124.6602144 , 117.72584717,  95.54877303, 141.63683343,\n",
       "       109.39160842, 103.56223337, 143.9994573 ,  99.86277653,\n",
       "        91.4273098 , 151.71225832, 128.53626025, 111.0567589 ,\n",
       "       132.40402578,  69.88384459,  89.81638267,  96.38186832,\n",
       "        62.1480403 , 154.18498619,  95.06115182, 114.36046913,\n",
       "       110.85115801, 124.40533775, 115.95581893, 108.06859452,\n",
       "       111.07461754, 109.44266464, 101.1476852 ,  78.06413157,\n",
       "        82.3582581 , 126.96314676, 108.21471333,  90.1292477 ,\n",
       "        89.82554926,  83.58834093, 145.9879425 , 140.82412474,\n",
       "        99.37705691,  93.24640371, 104.6687063 ,  90.99151454,\n",
       "        92.59400823,  83.03828152, 131.09222146,  81.31366441,\n",
       "       136.70876563, 133.20780015,  88.14649789,  89.41884944,\n",
       "       146.76973926,  95.10012307,  83.37148968,  92.07213458,\n",
       "       133.73457919, 103.50132598,  93.10767397,  81.35931398,\n",
       "       111.65442349, 110.15458402, 108.13142344, 106.63970062,\n",
       "        90.42436867,  87.50951514,  95.31368413,  89.44161088,\n",
       "       115.8205644 ,  77.20943846, 105.08406741,  74.04099786,\n",
       "       111.98688708, 114.02134716, 123.98069494,  99.85454828,\n",
       "       131.22741652,  97.28420966,  94.64315526, 103.40108064,\n",
       "       124.87289094, 103.631684  , 113.13561955, 116.81964217,\n",
       "       105.17822025, 102.312427  , 130.58762954,  89.05561067,\n",
       "       128.70292112, 118.32589595,  99.14357991, 106.96770778,\n",
       "        91.07522465,  90.81538296,  97.70239072,  91.85033232,\n",
       "       121.53885435,  98.22980151, 118.0606221 , 100.74254594,\n",
       "        77.92224922,  82.89564439, 117.06913892, 119.64312272,\n",
       "        91.499591  , 123.35368012,  96.05913538, 100.71745298,\n",
       "       129.47495957, 102.43798474,  78.08082598, 100.14189856,\n",
       "        92.28829324,  91.89551818, 115.60456732,  90.43121622,\n",
       "        99.63727039, 108.63777708,  96.86691074,  79.88202385,\n",
       "       109.34600319, 122.15405479,  94.68278945, 140.80102134,\n",
       "       104.66322286, 131.94029104, 117.21015291, 107.66086926,\n",
       "        86.52057124,  80.73277216,  92.40951089,  91.17611373,\n",
       "       104.31951682,  95.8735479 , 101.43858258, 103.54785656,\n",
       "       104.33485523, 103.67520806,  85.19718162,  85.40785346,\n",
       "        97.05391772,  95.71079826,  98.7947465 ,  89.2114477 ,\n",
       "       131.54475737,  93.0538488 , 123.09447739, 121.57903742,\n",
       "        81.34796306,  74.50305471, 115.87018685, 107.47580521,\n",
       "       127.10218346, 102.84784866, 105.79753671, 106.34080941,\n",
       "       136.93043559,  73.41575343, 104.60044402, 140.4783652 ,\n",
       "        96.71275233,  86.59971247, 143.13945373,  89.56550569,\n",
       "        79.45115435, 114.91672299,  83.01143945, 111.24666154,\n",
       "        67.75743535,  82.38599341, 103.83119182, 143.35436993,\n",
       "       113.36038699, 111.95458133,  91.97629894,  99.10546391,\n",
       "       101.81801993, 107.36095834, 119.76239891, 108.67758   ,\n",
       "       120.82271803,  91.13238233, 102.70111729, 116.83394405,\n",
       "       101.51021686, 102.35470457,  67.46580409,  97.54375382,\n",
       "        88.7086207 , 131.81603063, 151.9221396 ,  80.82417803,\n",
       "        95.09382963, 111.5944633 ,  75.40034296, 107.03747212,\n",
       "       102.17678564,  89.36175106, 120.13505896, 114.53895141,\n",
       "        82.99832025, 126.44152221,  72.75969303,  82.13019226,\n",
       "        73.75241921,  80.4892907 , 139.40617662, 156.43956035,\n",
       "        93.28588956,  98.73110343, 115.91144629,  87.13581301,\n",
       "       123.18904934, 120.25346028,  72.2353447 , 104.25493586,\n",
       "       105.26383463, 107.2251894 ,  73.54455523, 109.53074062,\n",
       "       145.52543004, 125.73837961,  87.48446949, 117.93517868,\n",
       "        95.26356181,  96.9453454 ,  91.17495521, 102.24817368,\n",
       "       104.0455313 , 124.7232938 ,  93.69750888, 112.93785405,\n",
       "       132.12991502, 111.14770829,  97.83638792, 119.8806896 ,\n",
       "       109.47013087, 102.16916682, 113.40653734,  88.1915344 ,\n",
       "       140.04949216, 112.57241313,  88.1713492 ,  79.18270283,\n",
       "       174.53636711, 101.17685585, 127.79325285,  79.99773539,\n",
       "       133.3318697 ,  94.69046079, 117.38870334,  82.96781946,\n",
       "       114.5586114 , 106.52072375,  78.77419359, 105.08113321,\n",
       "       106.89758213, 122.60196254,  92.2611127 , 139.11489206,\n",
       "       118.90777185, 142.0396241 , 113.64550672, 119.117363  ,\n",
       "        79.81701077, 115.46557666, 113.57185021,  59.65000536,\n",
       "       128.47336535, 107.36539789,  73.52944273, 106.50176236,\n",
       "        91.58958879, 114.52497857,  72.6218539 , 121.00049283,\n",
       "        71.4381174 , 101.7047936 , 125.1222971 , 131.78439562,\n",
       "       109.39922326, 139.78971617,  97.73547312, 109.49000987,\n",
       "       105.37836798, 104.41273834, 120.48856693, 128.03585685,\n",
       "       103.41106771, 117.32261619, 103.65179862,  99.15258779,\n",
       "       113.15039332, 101.53338479, 126.34750428, 112.61263621,\n",
       "       112.77434492,  76.51011146,  82.52067443, 172.95222399,\n",
       "        87.402352  , 118.79936488,  98.35402225,  89.29264604,\n",
       "       110.23646023,  82.14801506,  88.26104057, 104.01090286,\n",
       "        97.62074912, 158.5718    ,  98.86591665,  90.10483566,\n",
       "        65.31498469, 101.98233379, 115.17004331, 117.57160928,\n",
       "       121.60428886,  75.69270754,  87.89010763, 139.53888019,\n",
       "        99.68190244, 122.69175192,  95.49534246, 107.18419544,\n",
       "       123.36039895,  70.65097343, 101.20463034,  89.23741821,\n",
       "       111.2444006 , 115.73219987, 125.090979  , 125.45298568,\n",
       "       101.86535942, 106.69351816,  80.91486231,  74.16760233,\n",
       "       136.03975922, 101.4447138 , 102.45853484,  83.8833547 ,\n",
       "        78.12427318,  85.54907515, 118.6166628 , 129.9871373 ,\n",
       "       146.11874278,  71.92756368, 103.83349466,  96.27310493,\n",
       "       124.589448  , 129.09072102, 109.12025692,  92.36124477,\n",
       "       108.13864897,  95.49068075,  99.733729  ,  94.49464239,\n",
       "        86.34846108, 161.10273083, 137.35962756, 126.14747655,\n",
       "       152.28271462,  93.63431118,  89.1997509 ,  84.66637992,\n",
       "        82.95433741, 123.0051609 , 148.37916705, 130.04028268,\n",
       "       112.99087857,  91.62328647,  89.82409273,  90.2471403 ,\n",
       "       113.63494266, 104.29711177, 114.79736661, 123.5245671 ,\n",
       "       108.0477604 ,  92.3163122 ,  90.72795263, 108.56475911,\n",
       "       119.23649044, 100.65075965,  98.69242884, 108.96622518,\n",
       "       107.90181967,  94.0353069 , 137.74594228,  64.4833786 ,\n",
       "       106.72610258, 114.6296757 ,  71.62051379, 111.33808857,\n",
       "        97.74478042, 110.52055994,  98.84543307,  89.94092566,\n",
       "       103.52069848,  81.51541644, 145.96104807, 116.01270281,\n",
       "        92.04370401,  78.92065507,  91.24164406, 153.76221549,\n",
       "        95.9245652 , 142.3150704 , 131.90049747, 125.39240162,\n",
       "        69.03098905, 101.54548464,  98.57229176,  91.19443039,\n",
       "        93.10482491, 116.22259175, 115.3209184 ,  87.67523688,\n",
       "        73.9322033 ,  94.48580468,  85.58702605, 111.17622643,\n",
       "        98.46554089, 126.98652641,  95.54477517,  93.7391351 ,\n",
       "       159.90899879, 124.3879542 , 125.403753  ,  96.20319396,\n",
       "        95.73030604, 177.40035586,  85.35335449,  86.81526905,\n",
       "        96.41493524,  97.49240322, 133.45655498, 107.82652409,\n",
       "        83.84610818,  92.90646222,  81.61375089,  96.72830217,\n",
       "       107.76469686, 106.92432364, 153.11118172,  91.59735799,\n",
       "       103.97788592, 120.42684189, 103.51674763,  97.30323357,\n",
       "        85.13543795,  98.17188491, 119.05448214, 114.86073862,\n",
       "       116.50292757, 108.43323403, 103.30853757,  76.38501018,\n",
       "       122.63567437, 109.63844951,  93.37295073,  89.53945817,\n",
       "       141.19226607,  84.14393804,  95.05342488, 142.94249251,\n",
       "        80.25506204,  87.72676971, 110.88706207,  95.9074526 ,\n",
       "       128.18334826, 108.22200887, 112.59612009, 106.25562653,\n",
       "       111.37539641,  76.5020847 , 102.75136689, 123.49223647,\n",
       "        75.55866427, 108.64807169, 118.82177609, 143.34556738,\n",
       "       113.49950663, 101.15749485, 130.5726229 , 102.32627063,\n",
       "        87.970599  ,  97.07100496,  89.58109863,  87.67728698,\n",
       "       116.16171188,  59.25678243,  86.84339865,  93.14561324,\n",
       "       127.36939148,  85.00443857,  95.93558052,  88.74790382,\n",
       "        93.28110715, 131.22228467,  91.53521526, 109.6078795 ,\n",
       "       128.52045456, 159.84896825, 102.747746  , 100.58956761,\n",
       "       161.8539458 , 105.93152554, 137.15288029,  90.3920378 ,\n",
       "        90.54363096,  93.00739793, 111.87667677, 116.92305842,\n",
       "        90.52200171,  69.59066045,  99.57420858,  92.77867791,\n",
       "        88.21940037, 103.46981353,  94.00327862, 116.22819734,\n",
       "       143.94109683, 122.0309662 , 116.25525656, 138.60293591,\n",
       "        72.22817825,  83.99371636, 149.6670137 , 117.72947913,\n",
       "        86.21128558, 115.99678076,  91.60589637,  94.86506104,\n",
       "       119.79396365,  75.44787019, 106.16767835, 116.61047692,\n",
       "       105.9449968 , 117.39921034,  97.02213588, 133.33627611,\n",
       "       119.17250722,  84.73655918,  79.59518008,  69.82705474,\n",
       "        88.35265965, 103.50372687, 104.40396781,  89.98920261,\n",
       "       132.15046214,  80.68347855, 121.22645646, 107.25114625,\n",
       "       115.05692106, 129.70064227, 123.8572731 , 153.67097344,\n",
       "        96.78263676,  98.75372091, 111.65227612,  98.7641665 ,\n",
       "       106.50311881,  78.03355408,  95.36971809, 124.34254605,\n",
       "        99.96311714, 107.19543029, 114.33460002, 106.23610075,\n",
       "        97.34226952, 121.90413132, 130.79221391, 145.52172025,\n",
       "       123.33159356, 125.64279555,  92.69238351,  72.95408923,\n",
       "        81.44492115, 134.09632862,  72.09143419, 127.28048264,\n",
       "       108.45803399,  85.14402258,  96.25594755,  94.05021872,\n",
       "       103.57010854,  99.68051619,  92.78084613, 120.08425394,\n",
       "        98.33233191, 106.27843934, 138.42544931, 133.71958255,\n",
       "        86.11766576, 102.23241977, 156.40806795,  85.82126335,\n",
       "        77.67633894, 115.62195156, 141.87303034, 140.08510086,\n",
       "       114.02098522, 101.31376985, 120.63566398, 113.90065608,\n",
       "        97.61950567,  93.76020539,  94.92287859, 118.0807379 ,\n",
       "        69.69928659, 113.85973605,  81.86375493,  77.9859809 ])"
      ]
     },
     "execution_count": 13,
     "metadata": {},
     "output_type": "execute_result"
    }
   ],
   "source": [
    "paths_price[-1] "
   ]
  },
  {
   "cell_type": "code",
   "execution_count": 14,
   "id": "fe5eb2d8",
   "metadata": {},
   "outputs": [
    {
     "data": {
      "text/plain": [
       "10.329538020639768"
      ]
     },
     "execution_count": 14,
     "metadata": {},
     "output_type": "execute_result"
    }
   ],
   "source": [
    "np.exp(-r * T) * np.average([max(x, 0) for x in paths_price[-1] - K])"
   ]
  },
  {
   "cell_type": "code",
   "execution_count": null,
   "id": "ece24173",
   "metadata": {},
   "outputs": [],
   "source": []
  },
  {
   "cell_type": "markdown",
   "id": "0c432024",
   "metadata": {},
   "source": [
    "## Recursividad"
   ]
  },
  {
   "cell_type": "markdown",
   "id": "3eab03fe",
   "metadata": {},
   "source": [
    "Una función se puede llamar a sí misma dentro de las operaciones:"
   ]
  },
  {
   "cell_type": "markdown",
   "id": "245f0dfe",
   "metadata": {},
   "source": [
    "Factorial de un número natural:\n",
    "\n",
    "$$0! = 1! = 1$$\n",
    "\n",
    "$$n! = n\\cdot (n-1)\\cdot(n-2)\\cdot\\ldots\\cdot 3\\cdot 2\\cdot 1$$\n",
    "\n",
    "Por ejemplo:\n",
    "\n",
    "$$5! = 5\\cdot 4\\cdot 3\\cdot 2\\cdot 1$$\n",
    "\n",
    "Pero vemos lo siguiente:\n",
    "\n",
    "$$n! = n \\cdot (n-1)!$$"
   ]
  },
  {
   "cell_type": "code",
   "execution_count": 122,
   "id": "ba95c803",
   "metadata": {},
   "outputs": [
    {
     "name": "stdout",
     "output_type": "stream",
     "text": [
      " entramos a la funcion\n"
     ]
    }
   ],
   "source": [
    "##\n",
    "\n",
    "def test_recursivo():\n",
    "    \n",
    "    print(f\" entramos a la funcion\")\n",
    "          \n",
    "test_recursivo()"
   ]
  },
  {
   "cell_type": "code",
   "execution_count": 123,
   "id": "7c821cc5",
   "metadata": {},
   "outputs": [],
   "source": [
    "def factorial(n):\n",
    "    \"\"\"aqui va todo lo que quiera poner como ayuda\"\"\"\n",
    "    if n == 0 or n == 1:\n",
    "        return 1\n",
    "    \n",
    "    return n * factorial(n-1)\n",
    "\n",
    "## 1a pasada  (n = 5):\n",
    "\n",
    "##  fact(5) = 5 * fact(4)   --> 5*4*3*2*1\n",
    "##  fact(4) = 4 * fact(3)\n",
    "##  fact(3) = 3 * fact(2)\n",
    "##  fact(2) = 2 * fact(1)\n",
    "##  fact(1) = 1\n",
    "\n",
    "\n",
    "\n",
    "def factorial_2(n):\n",
    "    res = n\n",
    "    \n",
    "    while n>1:\n",
    "        res = res * (n-1)\n",
    "        n = n-1\n",
    "        \n",
    "    return res\n",
    "\n",
    "\n",
    "def factorial_3(n):\n",
    "    res = 1\n",
    "    for i in range(1,n+1):\n",
    "        res = res * i\n",
    "        \n",
    "    return res"
   ]
  },
  {
   "cell_type": "code",
   "execution_count": 124,
   "id": "ba6fea7d",
   "metadata": {},
   "outputs": [
    {
     "name": "stdout",
     "output_type": "stream",
     "text": [
      "Help on function factorial in module __main__:\n",
      "\n",
      "factorial(n)\n",
      "    aqui va todo lo que quiera poner como ayuda\n",
      "\n"
     ]
    }
   ],
   "source": [
    "help(factorial)"
   ]
  },
  {
   "cell_type": "code",
   "execution_count": 125,
   "id": "9f698b51",
   "metadata": {},
   "outputs": [
    {
     "name": "stdout",
     "output_type": "stream",
     "text": [
      "367 µs ± 22.3 µs per loop (mean ± std. dev. of 7 runs, 1,000 loops each)\n"
     ]
    }
   ],
   "source": [
    "%%timeit\n",
    "factorial(1000)"
   ]
  },
  {
   "cell_type": "code",
   "execution_count": 126,
   "id": "c88be72c",
   "metadata": {},
   "outputs": [
    {
     "name": "stdout",
     "output_type": "stream",
     "text": [
      "284 µs ± 4.38 µs per loop (mean ± std. dev. of 7 runs, 1,000 loops each)\n"
     ]
    }
   ],
   "source": [
    "%%timeit\n",
    "factorial_2(1000)"
   ]
  },
  {
   "cell_type": "code",
   "execution_count": 127,
   "id": "1fea2015",
   "metadata": {},
   "outputs": [
    {
     "name": "stdout",
     "output_type": "stream",
     "text": [
      "249 µs ± 12.9 µs per loop (mean ± std. dev. of 7 runs, 1,000 loops each)\n"
     ]
    }
   ],
   "source": [
    "%%timeit\n",
    "factorial_3(1000)"
   ]
  },
  {
   "cell_type": "code",
   "execution_count": 128,
   "id": "1becb642",
   "metadata": {},
   "outputs": [],
   "source": [
    "def fibonacci(n):\n",
    "    if n == 0:\n",
    "        return 0\n",
    "    if n == 1:\n",
    "        return 1\n",
    "    return fibonacci(n - 1) + fibonacci(n - 2)"
   ]
  },
  {
   "cell_type": "code",
   "execution_count": 130,
   "id": "57e3530d",
   "metadata": {},
   "outputs": [
    {
     "name": "stdout",
     "output_type": "stream",
     "text": [
      "0\n",
      "1\n",
      "1\n",
      "2\n",
      "3\n",
      "5\n",
      "8\n",
      "13\n",
      "21\n",
      "34\n"
     ]
    }
   ],
   "source": [
    "for i in range(10):\n",
    "    print(fibonacci(i))"
   ]
  },
  {
   "cell_type": "code",
   "execution_count": 138,
   "id": "c9985332",
   "metadata": {},
   "outputs": [],
   "source": [
    "cont = 4\n",
    "\n",
    "def algo(n):\n",
    "    global cont\n",
    "    print(f\"{n + cont}\")\n",
    "    cont = cont + 1"
   ]
  },
  {
   "cell_type": "code",
   "execution_count": 139,
   "id": "aeee1593",
   "metadata": {},
   "outputs": [
    {
     "name": "stdout",
     "output_type": "stream",
     "text": [
      "9\n"
     ]
    }
   ],
   "source": [
    "algo(5)"
   ]
  },
  {
   "cell_type": "code",
   "execution_count": 140,
   "id": "733c66d0",
   "metadata": {},
   "outputs": [
    {
     "data": {
      "text/plain": [
       "5"
      ]
     },
     "execution_count": 140,
     "metadata": {},
     "output_type": "execute_result"
    }
   ],
   "source": [
    "cont"
   ]
  },
  {
   "cell_type": "code",
   "execution_count": 141,
   "id": "2f5cbe0a",
   "metadata": {},
   "outputs": [],
   "source": [
    "# qué le podemos modificar a esto para que nos devuelva una lista con los primeros n números de fibonacci \n",
    "# y evitar tantos cálculos:\n",
    "\n",
    "def fibonacci(n):\n",
    "    if n == 0:\n",
    "        return 0\n",
    "    if n == 1:\n",
    "        return 1\n",
    "    return fibonacci(n - 1) + fibonacci(n - 2)"
   ]
  },
  {
   "cell_type": "code",
   "execution_count": 147,
   "id": "5345d74f",
   "metadata": {},
   "outputs": [],
   "source": [
    "cont = 0\n",
    "def fibonacci(n):\n",
    "    global cont\n",
    "    cont +=1\n",
    "    \n",
    "    if n == 0:\n",
    "        return 0\n",
    "    if n == 1:\n",
    "        return 1\n",
    "    return fibonacci(n - 1) + fibonacci(n - 2)"
   ]
  },
  {
   "cell_type": "code",
   "execution_count": 148,
   "id": "a50e6f36",
   "metadata": {},
   "outputs": [
    {
     "data": {
      "text/plain": [
       "1"
      ]
     },
     "execution_count": 148,
     "metadata": {},
     "output_type": "execute_result"
    }
   ],
   "source": [
    "fibonacci(2)"
   ]
  },
  {
   "cell_type": "code",
   "execution_count": 149,
   "id": "09bea23a",
   "metadata": {},
   "outputs": [
    {
     "data": {
      "text/plain": [
       "3"
      ]
     },
     "execution_count": 149,
     "metadata": {},
     "output_type": "execute_result"
    }
   ],
   "source": [
    "cont"
   ]
  },
  {
   "cell_type": "code",
   "execution_count": 142,
   "id": "01bedf6e",
   "metadata": {},
   "outputs": [
    {
     "data": {
      "text/plain": [
       "120"
      ]
     },
     "execution_count": 142,
     "metadata": {},
     "output_type": "execute_result"
    }
   ],
   "source": [
    "## muchas funciones ya están integradas en algunas librerías:\n",
    "import math\n",
    "\n",
    "math.factorial(5)"
   ]
  },
  {
   "cell_type": "code",
   "execution_count": 133,
   "id": "4ac5334a",
   "metadata": {},
   "outputs": [
    {
     "ename": "TypeError",
     "evalue": "'float' object cannot be interpreted as an integer",
     "output_type": "error",
     "traceback": [
      "\u001b[0;31m---------------------------------------------------------------------------\u001b[0m",
      "\u001b[0;31mTypeError\u001b[0m                                 Traceback (most recent call last)",
      "Cell \u001b[0;32mIn[133], line 3\u001b[0m\n\u001b[1;32m      1\u001b[0m \u001b[38;5;66;03m## y cuentan con una buena gestión de errores:\u001b[39;00m\n\u001b[0;32m----> 3\u001b[0m math\u001b[38;5;241m.\u001b[39mfactorial(\u001b[38;5;241m1.4\u001b[39m)\n",
      "\u001b[0;31mTypeError\u001b[0m: 'float' object cannot be interpreted as an integer"
     ]
    }
   ],
   "source": [
    "## y cuentan con una buena gestión de errores:\n",
    "\n",
    "math.factorial(1.4)\n",
    "\n",
    "## podemos gestionar errores enb una función? "
   ]
  },
  {
   "cell_type": "markdown",
   "id": "73088ed2",
   "metadata": {},
   "source": [
    "## Listas de comprensión"
   ]
  },
  {
   "cell_type": "markdown",
   "id": "b27240bf",
   "metadata": {},
   "source": [
    "La listas de comprensión, del inglés list comprehensions, es una funcionalidad que le permite crear listas avanzadas en una misma línea de código.\n",
    "\n",
    "La forma general de la definición de una lista por comprensión es:\n",
    "\n",
    "```\n",
    "[expresion for item in iterable]\n",
    "```\n",
    "\n",
    "\n",
    "Opcionalmente, se puede incluir un condicional en la expresión:\n",
    "\n",
    "```\n",
    "[expresion for item in iterable if condition]\n",
    "```\n"
   ]
  },
  {
   "cell_type": "code",
   "execution_count": 151,
   "id": "d52eab0d",
   "metadata": {},
   "outputs": [
    {
     "data": {
      "text/plain": [
       "3"
      ]
     },
     "execution_count": 151,
     "metadata": {},
     "output_type": "execute_result"
    }
   ],
   "source": [
    "a = 3 if (2>1) else 6\n",
    "\n",
    "a"
   ]
  },
  {
   "cell_type": "code",
   "execution_count": null,
   "id": "a2b720dd",
   "metadata": {},
   "outputs": [],
   "source": [
    "[fibonacci(n) for n in range(10)]"
   ]
  },
  {
   "cell_type": "code",
   "execution_count": null,
   "id": "9a923d58",
   "metadata": {},
   "outputs": [],
   "source": [
    "[i for i in range(10)] #for en una linea que devuelve una lista [list comprehension]type()"
   ]
  },
  {
   "cell_type": "code",
   "execution_count": 154,
   "id": "1cb8e7b2",
   "metadata": {},
   "outputs": [
    {
     "data": {
      "text/plain": [
       "[0, 1, 4, 9, 16, 25, 36, 49, 64, 81]"
      ]
     },
     "execution_count": 154,
     "metadata": {},
     "output_type": "execute_result"
    }
   ],
   "source": [
    "lista_fibo = []\n",
    "\n",
    "for i in range(10):\n",
    "    lista_fibo.append(i**2)\n",
    "\n",
    "lista_fibo"
   ]
  },
  {
   "cell_type": "code",
   "execution_count": 156,
   "id": "98548d0d",
   "metadata": {},
   "outputs": [
    {
     "data": {
      "text/plain": [
       "[0, 1, 4, 9, 16, 25, 36, 49, 64, 81]"
      ]
     },
     "execution_count": 156,
     "metadata": {},
     "output_type": "execute_result"
    }
   ],
   "source": [
    "[i**2 for i in range(10)]"
   ]
  },
  {
   "cell_type": "code",
   "execution_count": 157,
   "id": "57a95168",
   "metadata": {},
   "outputs": [
    {
     "data": {
      "text/plain": [
       "['a', 'a', 'a', 'a', 'a', 'a', 'a', 'a', 'a', 'a']"
      ]
     },
     "execution_count": 157,
     "metadata": {},
     "output_type": "execute_result"
    }
   ],
   "source": [
    "#la expresión no necesariamente debe depender del índice\n",
    "\n",
    "[\"a\" for i in range(10)]"
   ]
  },
  {
   "cell_type": "code",
   "execution_count": 158,
   "id": "dee2a00a",
   "metadata": {},
   "outputs": [
    {
     "name": "stdout",
     "output_type": "stream",
     "text": [
      "[0, 1, 4, 9, 16, 25, 36, 49, 64, 81, 100]\n"
     ]
    }
   ],
   "source": [
    "lista = [numero**2 for numero in range(0,11)]\n",
    "print(lista)"
   ]
  },
  {
   "cell_type": "code",
   "execution_count": 159,
   "id": "813a51d1",
   "metadata": {},
   "outputs": [
    {
     "data": {
      "text/plain": [
       "list"
      ]
     },
     "execution_count": 159,
     "metadata": {},
     "output_type": "execute_result"
    }
   ],
   "source": [
    "type(lista)"
   ]
  },
  {
   "cell_type": "code",
   "execution_count": 160,
   "id": "f42a92fd",
   "metadata": {
    "scrolled": true
   },
   "outputs": [
    {
     "data": {
      "text/plain": [
       "[0, 1, 2, 9, 4, 25, 6, 49, 8, 81, 10, 121, 12, 169, 14, 225, 16, 289, 18, 361]"
      ]
     },
     "execution_count": 160,
     "metadata": {},
     "output_type": "execute_result"
    }
   ],
   "source": [
    "[ (x if x%2==0 else x**2) for x in range(20) ]"
   ]
  },
  {
   "cell_type": "code",
   "execution_count": 161,
   "id": "22707815",
   "metadata": {},
   "outputs": [
    {
     "name": "stdout",
     "output_type": "stream",
     "text": [
      "[0, 2, 4, 6, 8, 10]\n"
     ]
    }
   ],
   "source": [
    "lista = [ numero for numero in range(0,11) if numero%2 == 0 ]\n",
    "\n",
    "print(lista)"
   ]
  },
  {
   "cell_type": "code",
   "execution_count": 162,
   "id": "d5083412",
   "metadata": {},
   "outputs": [
    {
     "data": {
      "text/plain": [
       "[0, 2, 4, 6, 8, 10]"
      ]
     },
     "execution_count": 162,
     "metadata": {},
     "output_type": "execute_result"
    }
   ],
   "source": [
    "l = []\n",
    "\n",
    "for i in range(0,11):\n",
    "    if i%2 == 0:\n",
    "        l.append(i)\n",
    "        \n",
    "l"
   ]
  },
  {
   "cell_type": "code",
   "execution_count": 163,
   "id": "a33574b1",
   "metadata": {},
   "outputs": [
    {
     "data": {
      "text/plain": [
       "['Oralie', 'Michele', 'Stevy']"
      ]
     },
     "execution_count": 163,
     "metadata": {},
     "output_type": "execute_result"
    }
   ],
   "source": [
    "names_1 = ['Oralie' ,'Imojean' ,'Michele', 'Ailbert', 'Stevy']\n",
    "names_2 = ['Jayson', 'Oralie' ,'Michele', 'Stevy', 'Alwyn']\n",
    "\n",
    "#  set(names_1) & set(names_2)\n",
    "\n",
    "common = [b for a in names_1 for b in names_2 if a == b]\n",
    "common"
   ]
  },
  {
   "cell_type": "code",
   "execution_count": 164,
   "id": "915cb7f6",
   "metadata": {},
   "outputs": [
    {
     "data": {
      "text/plain": [
       "['Oralie', 'Michele', 'Stevy']"
      ]
     },
     "execution_count": 164,
     "metadata": {},
     "output_type": "execute_result"
    }
   ],
   "source": [
    "names_1 = ['Oralie' ,'Imojean' ,'Michele', 'Ailbert', 'Stevy']\n",
    "names_2 = ['Jayson', 'Oralie' ,'Michele', 'Stevy', 'Alwyn']\n",
    "\n",
    "comun = []\n",
    "\n",
    "for a in names_1:\n",
    "    for b in names_2:\n",
    "        if a == b:\n",
    "            comun.append(b)\n",
    "            \n",
    "comun"
   ]
  },
  {
   "cell_type": "code",
   "execution_count": 165,
   "id": "d9e66dfe",
   "metadata": {
    "scrolled": true
   },
   "outputs": [
    {
     "name": "stdout",
     "output_type": "stream",
     "text": [
      "Oralie\n",
      "Michele\n",
      "Stevy\n"
     ]
    },
    {
     "data": {
      "text/plain": [
       "[None, None, None]"
      ]
     },
     "execution_count": 165,
     "metadata": {},
     "output_type": "execute_result"
    }
   ],
   "source": [
    "# no se suele coleccionar print en una lista de comprensión\n",
    "\n",
    "[print(b) for a in names_1 for b in names_2 if a==b]\n",
    "    "
   ]
  },
  {
   "cell_type": "code",
   "execution_count": 166,
   "id": "6ac8fcc6",
   "metadata": {},
   "outputs": [
    {
     "data": {
      "text/plain": [
       "['Juan1', 'Monica2', 'Luis4', 'Pedro5', 'Ana7']"
      ]
     },
     "execution_count": 166,
     "metadata": {},
     "output_type": "execute_result"
    }
   ],
   "source": [
    "nombres = [\"Juan\", \"Monica\", \"Luis\", \"Pedro\", \"Ana\"]\n",
    "calif = [1,2,4,5,7]\n",
    "\n",
    "[n + str(c)  for n,c in zip(nombres, calif)]"
   ]
  },
  {
   "cell_type": "markdown",
   "id": "63e91995",
   "metadata": {},
   "source": [
    "#### Podemos usar funciones dentro de una lista de comprensión:"
   ]
  },
  {
   "cell_type": "code",
   "execution_count": 15,
   "id": "36c10095",
   "metadata": {},
   "outputs": [
    {
     "data": {
      "text/plain": [
       "[10,\n",
       " 11,\n",
       " 12,\n",
       " 13,\n",
       " 14,\n",
       " 15,\n",
       " 16,\n",
       " 17,\n",
       " 18,\n",
       " 19,\n",
       " 20,\n",
       " 21,\n",
       " 22,\n",
       " 23,\n",
       " 24,\n",
       " 25,\n",
       " 26,\n",
       " 27,\n",
       " 28,\n",
       " 29,\n",
       " 30,\n",
       " 31,\n",
       " 32,\n",
       " 33,\n",
       " 34,\n",
       " 35,\n",
       " 36,\n",
       " 37,\n",
       " 38,\n",
       " 39,\n",
       " 40,\n",
       " 41,\n",
       " 42,\n",
       " 43,\n",
       " 44,\n",
       " 45,\n",
       " 46,\n",
       " 47,\n",
       " 48,\n",
       " 49]"
      ]
     },
     "execution_count": 15,
     "metadata": {},
     "output_type": "execute_result"
    }
   ],
   "source": [
    "Ft = [i for i in range(10,50,1)] #for en una linea que devuelve una lista [list comprehension]\n",
    "Ft"
   ]
  },
  {
   "cell_type": "code",
   "execution_count": 59,
   "id": "adde099f",
   "metadata": {},
   "outputs": [],
   "source": [
    "S=25\n",
    "K=25\n",
    "T=1.00\n",
    "r=.08\n",
    "sigma=.3"
   ]
  },
  {
   "cell_type": "code",
   "execution_count": 60,
   "id": "96776546",
   "metadata": {},
   "outputs": [
    {
     "name": "stdout",
     "output_type": "stream",
     "text": [
      "CPU times: user 181 ms, sys: 26.5 ms, total: 207 ms\n",
      "Wall time: 188 ms\n"
     ]
    }
   ],
   "source": [
    "%%time\n",
    "prices = [option(s=F, k=K, r=r, ttm=T, sigma=sigma, kind=\"call\") for F in range(10, 40) for K in range(10,40)]"
   ]
  },
  {
   "cell_type": "code",
   "execution_count": 61,
   "id": "4e9b9fe9",
   "metadata": {},
   "outputs": [
    {
     "data": {
      "text/plain": [
       "900"
      ]
     },
     "execution_count": 61,
     "metadata": {},
     "output_type": "execute_result"
    }
   ],
   "source": [
    "len(prices)"
   ]
  },
  {
   "cell_type": "code",
   "execution_count": 62,
   "id": "a5f3f95b",
   "metadata": {},
   "outputs": [
    {
     "data": {
      "text/plain": [
       "[1.5711312547892966,\n",
       " 1.1259643715789025,\n",
       " 0.7896571017923355,\n",
       " 0.543941401343631,\n",
       " 0.3692461780888734,\n",
       " 0.2477431316118366,\n",
       " 0.1647023726827428,\n",
       " 0.10872631468700633,\n",
       " 0.07139740833043895,\n",
       " 0.04670812603061136,\n",
       " 0.030479371387248932,\n",
       " 0.019859747099635394,\n",
       " 0.012932132646319983,\n",
       " 0.008421829075410447,\n",
       " 0.005488335567374124,\n",
       " 0.003580855086390909,\n",
       " 0.0023400310359642067,\n",
       " 0.001532114659499359,\n",
       " 0.001005346497470314,\n",
       " 0.0006612922462629796,\n",
       " 0.0004361182517451951,\n",
       " 0.00028841169358607196,\n",
       " 0.00019128056263980524,\n",
       " 0.00012723858125073743,\n",
       " 8.489617968709929e-05,\n",
       " 5.682014408662345e-05,\n",
       " 3.814856661630878e-05,\n",
       " 2.569372432360687e-05,\n",
       " 1.7360223225251282e-05,\n",
       " 1.1766990331150008e-05,\n",
       " 2.288696137744153,\n",
       " 1.7282443802682268,\n",
       " 1.2778620935477774,\n",
       " 0.927838214511528,\n",
       " 0.6634118971874967,\n",
       " 0.46831269635228345,\n",
       " 0.3271367775633607,\n",
       " 0.2265884116447825,\n",
       " 0.15588913522002112,\n",
       " 0.1066867446853268,\n",
       " 0.07272311689832722,\n",
       " 0.049427625720318225,\n",
       " 0.033527308525973853,\n",
       " 0.02271406027672168,\n",
       " 0.015379478247837558,\n",
       " 0.010413069022248922,\n",
       " 0.007053560896276789,\n",
       " 0.004781907046135243,\n",
       " 0.0032456408712174603,\n",
       " 0.002206109812977086,\n",
       " 0.0015020429382062266,\n",
       " 0.0010245915300876023,\n",
       " 0.0007003301735836725,\n",
       " 0.00047973007691971565,\n",
       " 0.00032936777407388974,\n",
       " 0.0002266702144958022,\n",
       " 0.00015637543856668107,\n",
       " 0.00010815046061164496,\n",
       " 7.498827456649737e-05,\n",
       " 5.212884380699425e-05,\n",
       " 3.098836194339138,\n",
       " 2.441125624128153,\n",
       " 1.885357505747156,\n",
       " 1.4305989340109289,\n",
       " 1.0688701573787345,\n",
       " 0.7880557181104222,\n",
       " 0.5745047223404014,\n",
       " 0.41488958760590755,\n",
       " 0.2972917579342036,\n",
       " 0.2116738210169018,\n",
       " 0.14994337702489546,\n",
       " 0.10578701417711034,\n",
       " 0.07440239045230601,\n",
       " 0.05220821973147072,\n",
       " 0.03657524566469866,\n",
       " 0.025596963473794754,\n",
       " 0.017904505818547217,\n",
       " 0.012522680178952597,\n",
       " 0.00876101807564661,\n",
       " 0.006132988806210188,\n",
       " 0.00429702610366909,\n",
       " 0.0030139960461465776,\n",
       " 0.0021168104996243456,\n",
       " 0.001488876919601003,\n",
       " 0.0010489020162731087,\n",
       " 0.0007402229312489152,\n",
       " 0.0005233419020942345,\n",
       " 0.0003707152878637916,\n",
       " 0.00026312244428289104,\n",
       " 0.00018713829406823016,\n",
       " 3.9750287355163785,\n",
       " 3.2405033350144485,\n",
       " 2.5942734150691367,\n",
       " 2.0424706312260863,\n",
       " 1.5839883424055374,\n",
       " 1.2121651666470639,\n",
       " 0.9169186168464201,\n",
       " 0.6866925397945707,\n",
       " 0.509920038979033,\n",
       " 0.37595161303636315,\n",
       " 0.27553064519948856,\n",
       " 0.2009430884178518,\n",
       " 0.14596291437997255,\n",
       " 0.10568875401874678,\n",
       " 0.07633739050081034,\n",
       " 0.055034353820619664,\n",
       " 0.039623182803423584,\n",
       " 0.028502582206788474,\n",
       " 0.02049331905787427,\n",
       " 0.01473276986883909,\n",
       " 0.010593297303320717,\n",
       " 0.007620188345381015,\n",
       " 0.005485117509050029,\n",
       " 0.003951631829302048,\n",
       " 0.0028497737080959706,\n",
       " 0.0020575509393833055,\n",
       " 0.0014874804963442637,\n",
       " 0.0010768590572115197,\n",
       " 0.0007807518943635707,\n",
       " 0.0005669537272687541,\n",
       " 4.896151357171465,\n",
       " 4.1039131064620555,\n",
       " 3.3842860667458545,\n",
       " 2.74798687859984,\n",
       " 2.1995837567050165,\n",
       " 1.7378950390603798,\n",
       " 1.3572840211714716,\n",
       " 1.0492569341784934,\n",
       " 0.8039471382780699,\n",
       " 0.6112754827844915,\n",
       " 0.4617350366424047,\n",
       " 0.34684038425657127,\n",
       " 0.25931975205293023,\n",
       " 0.1931324350646375,\n",
       " 0.1433815018835034,\n",
       " 0.10617391199436099,\n",
       " 0.07846310194598993,\n",
       " 0.057895330337486894,\n",
       " 0.042671119942148505,\n",
       " 0.03142654271216372,\n",
       " 0.02313508574644091,\n",
       " 0.017028645065968545,\n",
       " 0.01253518720981353,\n",
       " 0.009230329006913368,\n",
       " 0.00680019328178641,\n",
       " 0.00501319712094727,\n",
       " 0.0036987959023147624,\n",
       " 0.0027315716555243036,\n",
       " 0.002019384299490258,\n",
       " 0.001494585493828065,\n",
       " 5.846773422823979,\n",
       " 5.0127968101146845,\n",
       " 4.236161723105489,\n",
       " 3.529787638967324,\n",
       " 2.9021535607275144,\n",
       " 2.356696882183945,\n",
       " 1.8922185940038974,\n",
       " 1.5038926624018698,\n",
       " 1.1844856526885028,\n",
       " 0.9255057483891429,\n",
       " 0.7181309029255019,\n",
       " 0.5538692671333099,\n",
       " 0.42496939504537945,\n",
       " 0.32462835162394965,\n",
       " 0.2470535590241143,\n",
       " 0.18742922128111927,\n",
       " 0.14182783811833088,\n",
       " 0.10709611249565842,\n",
       " 0.08073470094366342,\n",
       " 0.0607835530156724,\n",
       " 0.04571905708087337,\n",
       " 0.03436552309087981,\n",
       " 0.025821256139828636,\n",
       " 0.01939819896948,\n",
       " 0.014573512709410347,\n",
       " 0.010951272594558262,\n",
       " 0.008232503351061196,\n",
       " 0.006191950723571621,\n",
       " 0.004660208024236022,\n",
       " 0.0035100465539463013,\n",
       " 6.816261900270385,\n",
       " 5.952971076698121,\n",
       " 5.133540787893853,\n",
       " 4.371244185027193,\n",
       " 3.676702216204326,\n",
       " 3.056688840630194,\n",
       " 2.513810007662874,\n",
       " 2.0468829175844965,\n",
       " 1.65173292743967,\n",
       " 1.3221400129381529,\n",
       " 1.0507409574805635,\n",
       " 0.8297781383490541,\n",
       " 0.6516548379218219,\n",
       " 0.5093024606945784,\n",
       " 0.3963890105789383,\n",
       " 0.3074066015027259,\n",
       " 0.2376747499934666,\n",
       " 0.18329051369356986,\n",
       " 0.14104935223614712,\n",
       " 0.10835368388077293,\n",
       " 0.08312031673791387,\n",
       " 0.06369348065022129,\n",
       " 0.04876699421959829,\n",
       " 0.03731695593103029,\n",
       " 0.028545002624836835,\n",
       " 0.021831407276582115,\n",
       " 0.01669690690527012,\n",
       " 0.012772020613381146,\n",
       " 0.009772636994510975,\n",
       " 0.007480750980565415,\n",
       " 7.7975846309499595,\n",
       " 6.914164461312863,\n",
       " 6.063455998901528,\n",
       " 5.2578750459265216,\n",
       " 4.5087267821879635,\n",
       " 3.8247909705136287,\n",
       " 3.211527854462217,\n",
       " 2.6709231331418053,\n",
       " 2.2018293274710086,\n",
       " 1.8006024069979558,\n",
       " 1.4618471798222474,\n",
       " 1.1791347719028558,\n",
       " 0.9456118053342477,\n",
       " 0.7544679310963005,\n",
       " 0.5992608126376102,\n",
       " 0.4741161906617215,\n",
       " 0.37382855924467107,\n",
       " 0.29388894750176675,\n",
       " 0.23046343374703526,\n",
       " 0.1803415271652078,\n",
       " 0.14086880609336738,\n",
       " 0.10987393394061828,\n",
       " 0.08559668749577687,\n",
       " 0.0666209770833005,\n",
       " 0.05181493135832321,\n",
       " 0.040278826137891355,\n",
       " 0.03130081329484197,\n",
       " 0.024319923763966328,\n",
       " 0.018895572841932856,\n",
       " 0.014682705323863982,\n",
       " 8.786225998916054,\n",
       " 7.889221119563132,\n",
       " 7.016128107388775,\n",
       " 6.177853583027693,\n",
       " 5.385350559001269,\n",
       " 4.648254291508707,\n",
       " 3.973865094218116,\n",
       " 3.3666200667013157,\n",
       " 2.828036258620733,\n",
       " 2.3570118519020244,\n",
       " 1.950340319974261,\n",
       " 1.6033052360681008,\n",
       " 1.3102574977462602,\n",
       " 1.0651149569227618,\n",
       " 0.861757083510601,\n",
       " 0.6943106995429265,\n",
       " 0.55733707916679,\n",
       " 0.44593763690130617,\n",
       " 0.3557972813812853,\n",
       " 0.283183317201811,\n",
       " 0.22491506553734308,\n",
       " 0.17831616970464714,\n",
       " 0.1411584608872527,\n",
       " 0.11160358567845896,\n",
       " 0.08814644860453758,\n",
       " 0.06956289295352591,\n",
       " 0.05486286849704808,\n",
       " 0.04324953030891232,\n",
       " 0.0340841935106701,\n",
       " 0.026856758727820784,\n",
       " 9.779347539936843,\n",
       " 8.873295650466833,\n",
       " 7.984446175544335,\n",
       " 7.1219565485911165,\n",
       " 6.295793517049669,\n",
       " 5.515576558976932,\n",
       " 4.7895346386392,\n",
       " 4.123773599231567,\n",
       " 3.521925532501829,\n",
       " 2.985149384099664,\n",
       " 2.5123939724693827,\n",
       " 2.1008174321141784,\n",
       " 1.7462674971558396,\n",
       " 1.4437508003924888,\n",
       " 1.1878458329657198,\n",
       " 0.9730372344113896,\n",
       " 0.7939661599995365,\n",
       " 0.6456024363342956,\n",
       " 0.5233500787212817,\n",
       " 0.42309989732551356,\n",
       " 0.3412426885817035,\n",
       " 0.274654955151185,\n",
       " 0.22066697707451288,\n",
       " 0.17702085143005464,\n",
       " 0.1418241004064129,\n",
       " 0.11350274449487452,\n",
       " 0.09075638194744506,\n",
       " 0.07251678830079067,\n",
       " 0.057910805635772944,\n",
       " 0.04622777690242913,\n",
       " 10.77519229497305,\n",
       " 9.863175753545358,\n",
       " 8.963378801427305,\n",
       " 8.083233609455405,\n",
       " 7.231409187917754,\n",
       " 6.4169259848673175,\n",
       " 5.6482156308073215,\n",
       " 4.932326446429286,\n",
       " 4.274394447855938,\n",
       " 3.677412268736772,\n",
       " 3.142262509578593,\n",
       " 2.667946317737062,\n",
       " 2.251928743157805,\n",
       " 1.8905307005156713,\n",
       " 1.579314203584671,\n",
       " 1.3134261968507035,\n",
       " 1.087882802687262,\n",
       " 0.8977883946320455,\n",
       " 0.7384923561777468,\n",
       " 0.605691249352422,\n",
       " 0.4954862632236732,\n",
       " 0.404406112386992,\n",
       " 0.3294047453654856,\n",
       " 0.26784185463119226,\n",
       " 0.21745262937401266,\n",
       " 0.17631169029518357,\n",
       " 0.1427948166608779,\n",
       " 0.11554097098042948,\n",
       " 0.09341625206122273,\n",
       " 0.07548074367456137,\n",
       " 11.772684621017698,\n",
       " 10.85676509665964,\n",
       " 9.949438949872631,\n",
       " 9.056582179142605,\n",
       " 8.185482791953572,\n",
       " 7.344227035757198,\n",
       " 6.540929233188772,\n",
       " 5.782977449235057,\n",
       " 5.076429100118784,\n",
       " 4.425628025097222,\n",
       " 3.833054369159445,\n",
       " 3.2993756350575243,\n",
       " 2.8236449994804342,\n",
       " 2.4035881021104366,\n",
       " 2.0359260317572083,\n",
       " 1.7166943471396134,\n",
       " 1.4415313370637906,\n",
       " 1.2059207074171043,\n",
       " 1.005383264095702,\n",
       " 0.8356186960027756,\n",
       " 0.692602554963607,\n",
       " 0.5726455206827401,\n",
       " 0.4724226076050009,\n",
       " 0.3889796280793951,\n",
       " 0.3197233744411334,\n",
       " 0.2624009097935671,\n",
       " 0.21507225282525488,\n",
       " 0.17607971813915357,\n",
       " 0.14401628692379975,\n",
       " 0.11769465291898495,\n",
       " 12.771171001701711,\n",
       " 11.852711524470354,\n",
       " 10.940247804871877,\n",
       " 10.038330866060495,\n",
       " 9.152927943874488,\n",
       " 8.291045469880109,\n",
       " 7.46014931668476,\n",
       " 6.667512088225417,\n",
       " 5.919612417631988,\n",
       " 5.22167487733342,\n",
       " 4.577392275488306,\n",
       " 3.9888306296177216,\n",
       " 3.4564887605364536,\n",
       " 2.9794703922665366,\n",
       " 2.5557241870955547,\n",
       " 2.182312244053781,\n",
       " 1.855676429023056,\n",
       " 1.5718816229360568,\n",
       " 1.3268237943749934,\n",
       " 1.1163978622536126,\n",
       " 0.9366253927045669,\n",
       " 0.7837454320922568,\n",
       " 0.6542735551267214,\n",
       " 0.5450348895460402,\n",
       " 0.453176823289565,\n",
       " 0.3761665987085525,\n",
       " 0.31177827044004225,\n",
       " 0.2580727011616024,\n",
       " 0.2133734893706536,\n",
       " 0.17624102061613,\n",
       " 13.770256393931868,\n",
       " 12.85015032427336,\n",
       " 11.934202016729172,\n",
       " 11.025879064934593,\n",
       " 10.129966076254165,\n",
       " 9.252374994297751,\n",
       " 8.39974583544287,\n",
       " 7.578923541306207,\n",
       " 6.796413657628534,\n",
       " 6.057905775857048,\n",
       " 5.367922723986595,\n",
       " 4.729619037283351,\n",
       " 4.144723529586406,\n",
       " 3.613601886015381,\n",
       " 3.1354062246173644,\n",
       " 2.7082774654798225,\n",
       " 2.329570334823437,\n",
       " 1.9960773673558876,\n",
       " 1.7042354316844976,\n",
       " 1.4503048742558908,\n",
       " 1.2305167396737025,\n",
       " 1.0411874925006517,\n",
       " 0.8788033169070655,\n",
       " 0.7400776200310748,\n",
       " 0.6219860717818553,\n",
       " 0.5217836276195795,\n",
       " 0.4370077141380282,\n",
       " 0.3654712760396972,\n",
       " 0.30524880775132557,\n",
       " 0.25465790464230675,\n",
       " 14.769702729505049,\n",
       " 13.84853188827387,\n",
       " 12.930230753967658,\n",
       " 12.017406989444918,\n",
       " 11.113832985121991,\n",
       " 10.224392850405577,\n",
       " 9.354837476518368,\n",
       " 8.511394841052361,\n",
       " 7.700311181840778,\n",
       " 6.9274015687507156,\n",
       " 6.197672388678276,\n",
       " 5.515053324306487,\n",
       " 4.882251248256306,\n",
       " 4.300718466944279,\n",
       " 3.770715011494312,\n",
       " 3.291438892864429,\n",
       " 2.8611978680218577,\n",
       " 2.4775993911595044,\n",
       " 2.137740314757469,\n",
       " 1.8383832487479879,\n",
       " 1.5761114362208444,\n",
       " 1.3474581142294646,\n",
       " 1.1490094446808028,\n",
       " 0.9774822568827322,\n",
       " 0.8297791752118151,\n",
       " 0.703024387329382,\n",
       " 0.5945835158684072,\n",
       " 0.5020709443948492,\n",
       " 0.4233476420338036,\n",
       " 0.3565121249901999,\n",
       " 15.769366753737852,\n",
       " 14.847508357717055,\n",
       " 13.927623728831001,\n",
       " 13.01165326729036,\n",
       " 12.10253100811305,\n",
       " 11.20422350178413,\n",
       " 10.32160692842108,\n",
       " 9.460199727491378,\n",
       " 8.625800015950091,\n",
       " 7.824090484308268,\n",
       " 7.060269538509152,\n",
       " 6.338752251515343,\n",
       " 5.662965182641829,\n",
       " 5.035240793334454,\n",
       " 4.456803175582657,\n",
       " 3.9278281369732433,\n",
       " 3.4475569366133296,\n",
       " 3.0144429898478986,\n",
       " 2.626313320108629,\n",
       " 2.2805302372244167,\n",
       " 1.9741427544808374,\n",
       " 1.7040210250923256,\n",
       " 1.4669702560579383,\n",
       " 1.259823019354533,\n",
       " 1.0795106362509266,\n",
       " 0.9231154452221828,\n",
       " 0.7879063959399488,\n",
       " 0.6713606649968726,\n",
       " 0.5711739764760062,\n",
       " 0.4852621267389394,\n",
       " 16.769162286990806,\n",
       " 15.846860156679636,\n",
       " 14.925912170254607,\n",
       " 14.007749983464963,\n",
       " 13.0946303413769,\n",
       " 12.189729858373099,\n",
       " 11.2971122276239,\n",
       " 10.421564298770223,\n",
       " 9.568327775889497,\n",
       " 8.742771940715615,\n",
       " 7.950057471032757,\n",
       " 7.194834729451477,\n",
       " 6.481006670028897,\n",
       " 5.811571495439367,\n",
       " 5.188546830138273,\n",
       " 4.61296727691459,\n",
       " 4.084941262452173,\n",
       " 3.6037506331395104,\n",
       " 3.167976684811075,\n",
       " 2.775638254645381,\n",
       " 2.4243303332941277,\n",
       " 2.111354731692442,\n",
       " 1.8338372336928401,\n",
       " 1.5888281418297883,\n",
       " 1.3733850795891414,\n",
       " 1.1846383457635303,\n",
       " 1.019840077958066,\n",
       " 0.8763990536324853,\n",
       " 0.7519032260727263,\n",
       " 0.6441321421907746,\n",
       " 17.769037447424004,\n",
       " 16.8464488873943,\n",
       " 15.924787803149039,\n",
       " 15.005103292407384,\n",
       " 14.089115416169571,\n",
       " 13.17933899837408,\n",
       " 12.279112781557048,\n",
       " 11.392517495865674,\n",
       " 10.524192161083162,\n",
       " 9.679077885445949,\n",
       " 8.862128320864212,\n",
       " 8.078025838501901,\n",
       " 7.330935141481049,\n",
       " 6.62431503839095,\n",
       " 5.960797641327174,\n",
       " 5.342134474146031,\n",
       " 4.769201930745885,\n",
       " 4.242054387931102,\n",
       " 3.7600116804348485,\n",
       " 3.3217679568775527,\n",
       " 2.9255104799613907,\n",
       " 2.569039118959637,\n",
       " 2.24987965250776,\n",
       " 1.9653862466193903,\n",
       " 1.712830417461026,\n",
       " 1.4894753513089682,\n",
       " 1.2926356252659028,\n",
       " 1.1197231845302298,\n",
       " 0.9682809402448873,\n",
       " 0.8360056187501854,\n",
       " 18.768960954083013,\n",
       " 17.84618736047029,\n",
       " 16.924048379494064,\n",
       " 16.003308578707745,\n",
       " 15.08526921296227,\n",
       " 14.171902256701836,\n",
       " 13.265918599830172,\n",
       " 12.37074734700691,\n",
       " 11.49042324087251,\n",
       " 10.629397875313199,\n",
       " 9.79230271434293,\n",
       " 8.983696378814248,\n",
       " 8.207826212924111,\n",
       " 7.468427167121831,\n",
       " 6.768572133491709,\n",
       " 6.11057915628553,\n",
       " 5.49597375719968,\n",
       " 4.925499560774636,\n",
       " 4.399167513410033,\n",
       " 3.916332947117308,\n",
       " 3.4757900781207596,\n",
       " 3.0758747636609307,\n",
       " 2.7145680423429432,\n",
       " 2.3895948259465776,\n",
       " 2.098513868356987,\n",
       " 1.8387966755909861,\n",
       " 1.6078942765561397,\n",
       " 1.4032917346671292,\n",
       " 1.222550965568983,\n",
       " 1.063342873531437,\n",
       " 19.768913906675934,\n",
       " 18.846020630137424,\n",
       " 17.923561398040277,\n",
       " 17.00209100026302,\n",
       " 16.082587856738918,\n",
       " 15.166586043681647,\n",
       " 14.25626502718118,\n",
       " 13.354471918857785,\n",
       " 12.46466548072638,\n",
       " 11.5907870133485,\n",
       " 10.737076015770516,\n",
       " 9.907855628002618,\n",
       " 9.107314093631945,\n",
       " 8.339305061301417,\n",
       " 7.60718336746746,\n",
       " 6.913685846046501,\n",
       " 6.260860091132837,\n",
       " 5.650038795746292,\n",
       " 5.081853636771532,\n",
       " 4.5562806388889605,\n",
       " 4.072708273322313,\n",
       " 3.630019881279331,\n",
       " 3.226683001931768,\n",
       " 2.8608395218899307,\n",
       " 2.5303920080035294,\n",
       " 2.233082971365489,\n",
       " 1.9665650357294275,\n",
       " 1.7284609978327445,\n",
       " 1.5164135573572493,\n",
       " 1.3281250719972126,\n",
       " 20.768884855459213,\n",
       " 19.845914036957534,\n",
       " 18.923240104485423,\n",
       " 18.001264259445996,\n",
       " 17.080718518326155,\n",
       " 16.162788442459572,\n",
       " 15.249211778522186,\n",
       " 14.342328632083907,\n",
       " 13.445068202140956,\n",
       " 12.560869694342504,\n",
       " 11.693546845647958,\n",
       " 10.84711378187663,\n",
       " 10.025593620229369,\n",
       " 9.23283066875494,\n",
       " 8.472323446210979,\n",
       " 7.7470904858478455,\n",
       " 7.059575277934648,\n",
       " 6.41159167178391,\n",
       " 5.804307121455029,\n",
       " 5.238258500256357,\n",
       " 4.71339376436789,\n",
       " 4.229132310860001,\n",
       " 3.7844371880077947,\n",
       " 3.377893114736704,\n",
       " 3.0077853248037396,\n",
       " 2.6721753934468353,\n",
       " 2.3689713053770056,\n",
       " 2.0959900054278116,\n",
       " 1.8510114967782858,\n",
       " 1.6318242040308935,\n",
       " 21.76886684326754,\n",
       " 20.845845685505882,\n",
       " 19.92302769447756,\n",
       " 19.00070224463281,\n",
       " 18.07941479002198,\n",
       " 17.160076535650482,\n",
       " 16.244063395613388,\n",
       " 15.333282366232948,\n",
       " 14.43018878821778,\n",
       " 13.537747244150957,\n",
       " 12.659338959252683,\n",
       " 11.79862692437241,\n",
       " 10.959395051920218,\n",
       " 10.145379207113354,\n",
       " 9.360106495967923,\n",
       " 8.606755740362182,\n",
       " 7.888047694406602,\n",
       " 7.206169144802377,\n",
       " 6.5627312005220055,\n",
       " 5.95875913860807,\n",
       " 5.394709223874489,\n",
       " 4.870506889846819,\n",
       " 4.385600393899331,\n",
       " 3.939024343500595,\n",
       " 3.52946813864736,\n",
       " 3.155345220160955,\n",
       " 2.814859923135696,\n",
       " 2.5060696158011186,\n",
       " 2.2269405966624998,\n",
       " 1.975396894950583,\n",
       " 22.76885562866368,\n",
       " 21.845801717316945,\n",
       " 20.922886952321505,\n",
       " 20.000319643889913,\n",
       " 19.07850491073564,\n",
       " 18.158139908900605,\n",
       " 17.240307671956877,\n",
       " 16.326550995773914,\n",
       " 15.418910083595257,\n",
       " 14.51991396231968,\n",
       " 13.63252380054077,\n",
       " 12.760033946731799,\n",
       " 11.905942153396243,\n",
       " 11.073803351690884,\n",
       " 10.267081575787707,\n",
       " 9.489012802270281,\n",
       " 8.742488370054385,\n",
       " 8.029965057717035,\n",
       " 7.353404432408652,\n",
       " 6.71424115013836,\n",
       " 6.113377681260388,\n",
       " 5.551201497117582,\n",
       " 5.027620015325748,\n",
       " 4.542108433592485,\n",
       " 4.093765835168993,\n",
       " 3.6813754775996888,\n",
       " 3.30346585487934,\n",
       " 2.958369852687184,\n",
       " 2.6442800258763057,\n",
       " 2.3592986706296006,\n",
       " 23.768848616609553,\n",
       " 22.84577334100514,\n",
       " 21.922793470799263,\n",
       " 21.00005875300005,\n",
       " 20.077869301441314,\n",
       " 19.156756502552568,\n",
       " 18.23756863992316,\n",
       " 17.3215461695535,\n",
       " 16.410371707307814,\n",
       " 15.50618361154309,\n",
       " 14.611548157674783,\n",
       " 13.729391915811735,\n",
       " 12.862901530212756,\n",
       " 12.015401745752815,\n",
       " 11.190223975027141,\n",
       " 10.390577201492139,\n",
       " 9.619431107814378,\n",
       " 8.87941862644799,\n",
       " 8.172762192747264,\n",
       " 7.501225263707781,\n",
       " 6.866088413232461,\n",
       " 6.268147649507423,\n",
       " 5.707731532810282,\n",
       " 5.184733140804678,\n",
       " 4.6986528316273155,\n",
       " 4.24864797823075,\n",
       " 3.833586280643333,\n",
       " 3.452099811366958,\n",
       " 3.1026375381700273,\n",
       " 2.7835146435345823,\n",
       " 24.768844213405252,\n",
       " 23.8457549654113,\n",
       " 22.92273122047579,\n",
       " 21.99988052870699,\n",
       " 21.0774247704654,\n",
       " 20.155767731843813,\n",
       " 19.23557106730805,\n",
       " 18.317826901454183,\n",
       " 17.40391405867076,\n",
       " 16.495626803179558,\n",
       " 15.595169261899919,\n",
       " 14.70511407263933,\n",
       " 13.828328922625726,\n",
       " 12.967878549321767,\n",
       " 12.126911997803056,\n",
       " 11.308545453038189,\n",
       " 10.515750091853043,\n",
       " 9.751252581756543,\n",
       " 9.017453564375927,\n",
       " 8.31636710319846,\n",
       " 7.649581941027257,\n",
       " 7.018243676996711,\n",
       " 6.423055708924434,\n",
       " 5.8642959900937335,\n",
       " 5.341846266283611,\n",
       " 4.855230408859402,\n",
       " 4.403658654942017,\n",
       " 3.9860749224376217,\n",
       " 3.6012048139959116,\n",
       " 3.2476024025245565,\n",
       " 25.76884143647908,\n",
       " 24.84574302481658,\n",
       " 23.92268965606449,\n",
       " 22.999758535310814,\n",
       " 22.077113455232993,\n",
       " 21.15506047436758,\n",
       " 20.234113879689474,\n",
       " 19.315063625650986,\n",
       " 18.399033378464182,\n",
       " 17.4875187750976,\n",
       " 16.58239824978772,\n",
       " 15.685912902497783,\n",
       " 14.800616310086966,\n",
       " 13.92929899465787,\n",
       " 13.074894890569805,\n",
       " 12.240378392928665,\n",
       " 11.428660530306463,\n",
       " 10.642491775212271,\n",
       " 9.88437735391281,\n",
       " 9.156508996458388,\n",
       " 8.460715166864638,\n",
       " 7.798430133918661,\n",
       " 7.170680900011149,\n",
       " 6.578090040791068,\n",
       " 6.020891910610501,\n",
       " 5.498959391762536,\n",
       " 5.01183834604354,\n",
       " 4.558787097117801,\n",
       " 4.138818567360021,\n",
       " 3.750743058054038,\n",
       " 26.7688396776068,\n",
       " 25.845735238501135,\n",
       " 24.922661826551057,\n",
       " 23.999674855170444,\n",
       " 23.07689510474284,\n",
       " 22.15455409425757,\n",
       " 21.23305040419872,\n",
       " 20.313010619314923,\n",
       " 19.395346130951484,\n",
       " 18.4812965513893,\n",
       " 17.572451997832108,\n",
       " 16.67074947768299,\n",
       " 15.778442239126264,\n",
       " 14.898044437926618,\n",
       " 14.03225621477755,\n",
       " 13.183875964699059,\n",
       " 12.355707166055385,\n",
       " 11.550466772761169,\n",
       " 10.770701118002538,\n",
       " 10.018713820000926,\n",
       " 9.296508583017413,\n",
       " 8.60574825624282,\n",
       " 7.947730188436232,\n",
       " 7.323376872384458,\n",
       " 6.7332401334026315,\n",
       " 6.177516665326134,\n",
       " 5.656072517241466,\n",
       " 5.168474134338737,\n",
       " 4.714023703804049,\n",
       " 4.291796802032787,\n",
       " 27.768838558747582,\n",
       " 26.845730143145797,\n",
       " 25.922643140190818,\n",
       " 24.999617328310926,\n",
       " 24.076741706025288,\n",
       " 23.15419113112835,\n",
       " 22.232273766779453,\n",
       " 21.31148500687054,\n",
       " 20.39256105797973,\n",
       " 19.47652426080824,\n",
       " 18.56471280004398,\n",
       " 17.65878943545398,\n",
       " 16.76072672200499,\n",
       " 15.872769212679895,\n",
       " 14.997375788499614,\n",
       " 14.137147168281498,\n",
       " 13.294744667821575,\n",
       " 12.47280644107348,\n",
       " 11.673866903945193,\n",
       " 10.900284032404286,\n",
       " 10.154177964387102,\n",
       " 9.437383014056568,\n",
       " 8.751413974605523,\n",
       " 8.097446537869441,\n",
       " 7.476310844326747,\n",
       " 6.888496606821942,\n",
       " 6.334167909976426,\n",
       " 5.813185642720395,\n",
       " 5.325135533757905,\n",
       " 4.869359887662327,\n",
       " 28.76883784395565,\n",
       " 27.84572679686613,\n",
       " 26.922630556651768,\n",
       " 25.99957768970743,\n",
       " 25.076633748681413,\n",
       " 24.153930638798805,\n",
       " 23.23170614742721,\n",
       " 22.31035087468149,\n",
       " 21.390457433207164,\n",
       " 20.472865360448797,\n",
       " 19.558695079873686,\n",
       " 18.649365420710396,\n",
       " 17.746591300933666,\n",
       " 16.852360685431552,\n",
       " 15.96889235108867,\n",
       " 15.098577944666683,\n",
       " 14.243913097182233,\n",
       " 13.40742291066838,\n",
       " 12.591587034099337,\n",
       " 11.798768943835722,\n",
       " 11.031153117953863,\n",
       " 10.290692714781493,\n",
       " 9.5790692772784,\n",
       " 8.897664991820989,\n",
       " 8.247547198463135,\n",
       " 7.629464211175581,\n",
       " 7.043851065003658,\n",
       " 6.490843547552181,\n",
       " 5.970298768199328,\n",
       " 5.481820538113972,\n",
       " 29.7688373853548,\n",
       " 28.845724591407322,\n",
       " 27.922622057853737,\n",
       " 26.999550312096982,\n",
       " 26.07655763078185,\n",
       " 25.15374343048621,\n",
       " 24.231290902589087,\n",
       " 23.309507313265513,\n",
       " 22.388868255381915,\n",
       " 21.470060585154467,\n",
       " 20.554018219715147,\n",
       " 19.64194551206535,\n",
       " 18.73532436732569,\n",
       " 17.835903250108117,\n",
       " 16.945668341435848,\n",
       " 16.06679897728384,\n",
       " 15.201610899342352,\n",
       " 14.352491663834247,\n",
       " 13.521832792488372,\n",
       " 12.711962998143168,\n",
       " 11.925086206549132,\n",
       " 11.163227267887656,\n",
       " 10.428187336916416,\n",
       " 9.721510005043346,\n",
       " 9.044458466203217,\n",
       " 8.398003336530277,\n",
       " 7.782820245207411,\n",
       " 7.199295970445487,\n",
       " 6.647541696558605,\n",
       " 6.127411893678257]"
      ]
     },
     "execution_count": 62,
     "metadata": {},
     "output_type": "execute_result"
    }
   ],
   "source": [
    "prices"
   ]
  },
  {
   "cell_type": "markdown",
   "id": "1a0bec07",
   "metadata": {},
   "source": [
    "Vamos a realizar gráficas para ver el comportamiento que tiene cada parámetro en el precio de la opción:"
   ]
  },
  {
   "cell_type": "code",
   "execution_count": 63,
   "id": "4640b6cb",
   "metadata": {},
   "outputs": [],
   "source": [
    "import numpy as np\n",
    "\n",
    "# pip instaLL matplotlib\n",
    "import matplotlib.pyplot as plt\n"
   ]
  },
  {
   "cell_type": "markdown",
   "id": "79d4339d",
   "metadata": {},
   "source": [
    "1. Comportamiento del precio de la opción respecto al strike:"
   ]
  },
  {
   "cell_type": "code",
   "execution_count": 64,
   "id": "d5bc3ffd",
   "metadata": {},
   "outputs": [
    {
     "data": {
      "image/png": "[encoded data removed]",
      "text/plain": [
       "<Figure size 1000x600 with 1 Axes>"
      ]
     },
     "metadata": {},
     "output_type": "display_data"
    }
   ],
   "source": [
    "S=25\n",
    "K=25\n",
    "T=1.00\n",
    "r=.08\n",
    "sigma=.3\n",
    "\n",
    "strikes = np.arange(5, 60, 0.1)\n",
    "\n",
    "prices = [option(s=S, k=K, r=r, ttm=T, sigma=sigma, kind=\"call\") for K in strikes]\n",
    "\n",
    "# Plot a simple line chart without any feature\n",
    "plt.figure(figsize=(10,6))\n",
    "plt.plot(strikes, prices)\n",
    "plt.title(\"Call option as function of strike\")\n",
    "plt.xlabel(\"Strike\")\n",
    "plt.ylabel(\"Option Price\")\n",
    "plt.show()"
   ]
  },
  {
   "cell_type": "markdown",
   "id": "7fdc36a7",
   "metadata": {},
   "source": [
    "2. Comportamiento del precio de la opción en función del precio del subyacente al tiempo cero:"
   ]
  },
  {
   "cell_type": "code",
   "execution_count": 65,
   "id": "6c0eb4b5",
   "metadata": {},
   "outputs": [
    {
     "data": {
      "image/png": "[encoded data removed]",
      "text/plain": [
       "<Figure size 1000x600 with 1 Axes>"
      ]
     },
     "metadata": {},
     "output_type": "display_data"
    }
   ],
   "source": [
    "S=25\n",
    "K=25\n",
    "T=1.00\n",
    "r=.08\n",
    "sigma=.3\n",
    "\n",
    "spot = np.arange(0.1, 50, 0.1)\n",
    "\n",
    "prices = [option(s=S, k=K, r=r, ttm=T, sigma=sigma, kind=\"call\") for S in spot]\n",
    "\n",
    "# Plot a simple line chart without any feature\n",
    "plt.figure(figsize=(10,6))\n",
    "plt.plot(spot, prices)\n",
    "plt.title(\"Call option as function of Spot\")\n",
    "plt.xlabel(\"Spot price\")\n",
    "plt.ylabel(\"Option Price\")\n",
    "plt.show()"
   ]
  },
  {
   "cell_type": "markdown",
   "id": "eb79847e",
   "metadata": {},
   "source": [
    "3. Precio de la opción en función de la volatilidad:"
   ]
  },
  {
   "cell_type": "code",
   "execution_count": 66,
   "id": "e0c65d18",
   "metadata": {},
   "outputs": [
    {
     "data": {
      "image/png": "[encoded data removed]",
      "text/plain": [
       "<Figure size 1000x600 with 1 Axes>"
      ]
     },
     "metadata": {},
     "output_type": "display_data"
    }
   ],
   "source": [
    "S=25\n",
    "K=25\n",
    "T=1.00\n",
    "r=.08\n",
    "sigma=.3\n",
    "\n",
    "vol = np.arange(0.01, 0.6, 0.01)\n",
    "\n",
    "prices = [option(s=S, k=K, r=r, ttm=T, sigma=sigma, kind=\"call\") for sigma in vol]\n",
    "\n",
    "# Plot a simple line chart without any feature\n",
    "plt.figure(figsize=(10,6))\n",
    "plt.plot(vol, prices)\n",
    "plt.title(\"Call option as function of volatility\")\n",
    "plt.xlabel(\"volatility\")\n",
    "plt.ylabel(\"Option Price\")\n",
    "plt.show()"
   ]
  },
  {
   "cell_type": "markdown",
   "id": "22a82162",
   "metadata": {},
   "source": [
    "4. Precio de la opción en función del tiempo de madurez"
   ]
  },
  {
   "cell_type": "code",
   "execution_count": 67,
   "id": "e78d66e3",
   "metadata": {},
   "outputs": [
    {
     "data": {
      "image/png": "[encoded data removed]",
      "text/plain": [
       "<Figure size 1000x600 with 1 Axes>"
      ]
     },
     "metadata": {},
     "output_type": "display_data"
    }
   ],
   "source": [
    "S=25\n",
    "K=25\n",
    "T=1.00\n",
    "r=.08\n",
    "sigma=.3\n",
    "\n",
    "TTM = np.arange(0.1, 2, 0.1)\n",
    "\n",
    "prices = [option(s=S, k=K, r=r, ttm=T, sigma=sigma, kind=\"call\") for T in TTM]\n",
    "\n",
    "# Plot a simple line chart without any feature\n",
    "plt.figure(figsize=(10,6))\n",
    "plt.plot(TTM, prices)\n",
    "plt.title(\"Call option as function of maturity\")\n",
    "plt.xlabel(\"Maturity\")\n",
    "plt.ylabel(\"Option Price\")\n",
    "plt.show()"
   ]
  },
  {
   "cell_type": "markdown",
   "id": "0a217d04",
   "metadata": {},
   "source": [
    "**Algunas cosas interesantes en valuación de opciones:**\n",
    "\n",
    "1. De acuerdo con la paridad put-call, cuando $K=S\\,e^{rT}$, obtenemos que el precio de la opción call y put deben de coincidir. Este strike se conoce como el strike ATM porque coincide con la tasa forward.\n",
    "\n",
    "\n",
    "2. Una de las cosas interesantes de valuación de opciones es el cálculo de la volatilidad implícita, es decir, \"despejar\" de la fórmula de BlackScholes la volatilidad dado el precio de mercado.\n",
    "\n",
    "\n",
    "Cuando extendemos el punto [2] para distintos strikes sobre la misma referencia y maturity, obtenemos lo que conocemos como el smile de volatilidad implícita.\n"
   ]
  },
  {
   "cell_type": "markdown",
   "id": "528cc3d0",
   "metadata": {},
   "source": [
    "¿Cómo podemos encontrar las raices de una ecuación no lineal?"
   ]
  },
  {
   "cell_type": "code",
   "execution_count": 68,
   "id": "28792070",
   "metadata": {},
   "outputs": [
    {
     "name": "stdout",
     "output_type": "stream",
     "text": [
      "Requirement already satisfied: scipy in /Users/andrespadronquintana/anaconda3/lib/python3.11/site-packages (1.10.1)\n",
      "Requirement already satisfied: numpy<1.27.0,>=1.19.5 in /Users/andrespadronquintana/anaconda3/lib/python3.11/site-packages (from scipy) (1.24.3)\n",
      "Note: you may need to restart the kernel to use updated packages.\n"
     ]
    }
   ],
   "source": [
    "pip install scipy"
   ]
  },
  {
   "cell_type": "code",
   "execution_count": 69,
   "id": "11d8c61d",
   "metadata": {},
   "outputs": [
    {
     "name": "stdout",
     "output_type": "stream",
     "text": [
      "Help on function fsolve in module scipy.optimize._minpack_py:\n",
      "\n",
      "fsolve(func, x0, args=(), fprime=None, full_output=0, col_deriv=0, xtol=1.49012e-08, maxfev=0, band=None, epsfcn=None, factor=100, diag=None)\n",
      "    Find the roots of a function.\n",
      "    \n",
      "    Return the roots of the (non-linear) equations defined by\n",
      "    ``func(x) = 0`` given a starting estimate.\n",
      "    \n",
      "    Parameters\n",
      "    ----------\n",
      "    func : callable ``f(x, *args)``\n",
      "        A function that takes at least one (possibly vector) argument,\n",
      "        and returns a value of the same length.\n",
      "    x0 : ndarray\n",
      "        The starting estimate for the roots of ``func(x) = 0``.\n",
      "    args : tuple, optional\n",
      "        Any extra arguments to `func`.\n",
      "    fprime : callable ``f(x, *args)``, optional\n",
      "        A function to compute the Jacobian of `func` with derivatives\n",
      "        across the rows. By default, the Jacobian will be estimated.\n",
      "    full_output : bool, optional\n",
      "        If True, return optional outputs.\n",
      "    col_deriv : bool, optional\n",
      "        Specify whether the Jacobian function computes derivatives down\n",
      "        the columns (faster, because there is no transpose operation).\n",
      "    xtol : float, optional\n",
      "        The calculation will terminate if the relative error between two\n",
      "        consecutive iterates is at most `xtol`.\n",
      "    maxfev : int, optional\n",
      "        The maximum number of calls to the function. If zero, then\n",
      "        ``100*(N+1)`` is the maximum where N is the number of elements\n",
      "        in `x0`.\n",
      "    band : tuple, optional\n",
      "        If set to a two-sequence containing the number of sub- and\n",
      "        super-diagonals within the band of the Jacobi matrix, the\n",
      "        Jacobi matrix is considered banded (only for ``fprime=None``).\n",
      "    epsfcn : float, optional\n",
      "        A suitable step length for the forward-difference\n",
      "        approximation of the Jacobian (for ``fprime=None``). If\n",
      "        `epsfcn` is less than the machine precision, it is assumed\n",
      "        that the relative errors in the functions are of the order of\n",
      "        the machine precision.\n",
      "    factor : float, optional\n",
      "        A parameter determining the initial step bound\n",
      "        (``factor * || diag * x||``). Should be in the interval\n",
      "        ``(0.1, 100)``.\n",
      "    diag : sequence, optional\n",
      "        N positive entries that serve as a scale factors for the\n",
      "        variables.\n",
      "    \n",
      "    Returns\n",
      "    -------\n",
      "    x : ndarray\n",
      "        The solution (or the result of the last iteration for\n",
      "        an unsuccessful call).\n",
      "    infodict : dict\n",
      "        A dictionary of optional outputs with the keys:\n",
      "    \n",
      "        ``nfev``\n",
      "            number of function calls\n",
      "        ``njev``\n",
      "            number of Jacobian calls\n",
      "        ``fvec``\n",
      "            function evaluated at the output\n",
      "        ``fjac``\n",
      "            the orthogonal matrix, q, produced by the QR\n",
      "            factorization of the final approximate Jacobian\n",
      "            matrix, stored column wise\n",
      "        ``r``\n",
      "            upper triangular matrix produced by QR factorization\n",
      "            of the same matrix\n",
      "        ``qtf``\n",
      "            the vector ``(transpose(q) * fvec)``\n",
      "    \n",
      "    ier : int\n",
      "        An integer flag.  Set to 1 if a solution was found, otherwise refer\n",
      "        to `mesg` for more information.\n",
      "    mesg : str\n",
      "        If no solution is found, `mesg` details the cause of failure.\n",
      "    \n",
      "    See Also\n",
      "    --------\n",
      "    root : Interface to root finding algorithms for multivariate\n",
      "           functions. See the ``method='hybr'`` in particular.\n",
      "    \n",
      "    Notes\n",
      "    -----\n",
      "    ``fsolve`` is a wrapper around MINPACK's hybrd and hybrj algorithms.\n",
      "    \n",
      "    Examples\n",
      "    --------\n",
      "    Find a solution to the system of equations:\n",
      "    ``x0*cos(x1) = 4,  x1*x0 - x1 = 5``.\n",
      "    \n",
      "    >>> import numpy as np\n",
      "    >>> from scipy.optimize import fsolve\n",
      "    >>> def func(x):\n",
      "    ...     return [x[0] * np.cos(x[1]) - 4,\n",
      "    ...             x[1] * x[0] - x[1] - 5]\n",
      "    >>> root = fsolve(func, [1, 1])\n",
      "    >>> root\n",
      "    array([6.50409711, 0.90841421])\n",
      "    >>> np.isclose(func(root), [0.0, 0.0])  # func(root) should be almost 0.0.\n",
      "    array([ True,  True])\n",
      "\n"
     ]
    }
   ],
   "source": [
    "from scipy.optimize import fsolve\n",
    "\n",
    "help(fsolve)\n"
   ]
  },
  {
   "cell_type": "code",
   "execution_count": 71,
   "id": "fdaa71f2",
   "metadata": {},
   "outputs": [
    {
     "data": {
      "text/plain": [
       "array([-2.])"
      ]
     },
     "execution_count": 71,
     "metadata": {},
     "output_type": "execute_result"
    }
   ],
   "source": [
    "def f(x):\n",
    "    return x**2 - 4\n",
    "\n",
    "fsolve(f, x0=-1) #pasarle un funto inicial"
   ]
  },
  {
   "cell_type": "markdown",
   "id": "a3fd27ab",
   "metadata": {},
   "source": [
    "$$e^{-3x} - x = 0$$"
   ]
  },
  {
   "cell_type": "code",
   "execution_count": 72,
   "id": "97459756",
   "metadata": {},
   "outputs": [
    {
     "name": "stdout",
     "output_type": "stream",
     "text": [
      "raiz = 0.34996963165468004\n"
     ]
    },
    {
     "data": {
      "text/plain": [
       "-5.551115123125783e-17"
      ]
     },
     "execution_count": 72,
     "metadata": {},
     "output_type": "execute_result"
    }
   ],
   "source": [
    "import math \n",
    "\n",
    "def g(x):\n",
    "    return math.exp(-3*x) - x\n",
    "\n",
    "root = fsolve(g, 1, xtol=1E-10)[0]\n",
    "\n",
    "print(f\"raiz = {root}\")\n",
    "\n",
    "g(root)"
   ]
  },
  {
   "cell_type": "markdown",
   "id": "caf00e40",
   "metadata": {},
   "source": [
    "$$x_1 + x_2 = 2$$\n",
    "\n",
    "$$2x_1 - 3x_2 = -1$$"
   ]
  },
  {
   "cell_type": "code",
   "execution_count": 73,
   "id": "0cde99b6",
   "metadata": {},
   "outputs": [],
   "source": [
    "def sistema(x):\n",
    "    return [ x[0] + x[1] - 2, 2*x[0] - 3*x[1] + 1]\n"
   ]
  },
  {
   "cell_type": "code",
   "execution_count": 74,
   "id": "711c4f78",
   "metadata": {},
   "outputs": [
    {
     "data": {
      "text/plain": [
       "array([1., 1.])"
      ]
     },
     "execution_count": 74,
     "metadata": {},
     "output_type": "execute_result"
    }
   ],
   "source": [
    "fsolve(sistema, x0=[0, 0])"
   ]
  },
  {
   "cell_type": "markdown",
   "id": "c8066417",
   "metadata": {},
   "source": [
    "**Cálculo de vol implícita**"
   ]
  },
  {
   "cell_type": "code",
   "execution_count": 75,
   "id": "142cfba1",
   "metadata": {},
   "outputs": [
    {
     "data": {
      "text/plain": [
       "3.9278281369732433"
      ]
     },
     "execution_count": 75,
     "metadata": {},
     "output_type": "execute_result"
    }
   ],
   "source": [
    "S=25\n",
    "K=25\n",
    "T=1.00\n",
    "r=.08\n",
    "sigma=.3\n",
    "\n",
    "option(s=S, k=K, r=r, ttm=T, sigma=sigma, kind=\"call\")"
   ]
  },
  {
   "cell_type": "code",
   "execution_count": 76,
   "id": "9c86ed5e",
   "metadata": {},
   "outputs": [],
   "source": [
    "def imp_vol(vol, price, strike):\n",
    "    return option(s=S, k=strike, r=r, ttm=T, sigma=vol, kind=\"call\") - price"
   ]
  },
  {
   "cell_type": "code",
   "execution_count": 77,
   "id": "24af6fdc",
   "metadata": {},
   "outputs": [
    {
     "data": {
      "text/plain": [
       "0.2999999999999989"
      ]
     },
     "execution_count": 77,
     "metadata": {},
     "output_type": "execute_result"
    }
   ],
   "source": [
    "fsolve(imp_vol, x0=0.1, args=(3.9278281369732433, 25))[0]"
   ]
  },
  {
   "cell_type": "code",
   "execution_count": 78,
   "id": "469d2d8c",
   "metadata": {},
   "outputs": [
    {
     "data": {
      "text/plain": [
       "27.082176691873965"
      ]
     },
     "execution_count": 78,
     "metadata": {},
     "output_type": "execute_result"
    }
   ],
   "source": [
    "K * math.exp(r*T)"
   ]
  },
  {
   "cell_type": "code",
   "execution_count": 79,
   "id": "2a7c6b02",
   "metadata": {},
   "outputs": [
    {
     "name": "stderr",
     "output_type": "stream",
     "text": [
      "/Users/andrespadronquintana/anaconda3/lib/python3.11/site-packages/scipy/optimize/_minpack_py.py:178: RuntimeWarning: The iteration is not making good progress, as measured by the \n",
      "  improvement from the last ten iterations.\n",
      "  warnings.warn(msg, RuntimeWarning)\n"
     ]
    },
    {
     "data": {
      "image/png": "[encoded data removed]",
      "text/plain": [
       "<Figure size 1000x600 with 1 Axes>"
      ]
     },
     "metadata": {},
     "output_type": "display_data"
    }
   ],
   "source": [
    "prices = [6, 3.93, 3.9, 3.78, 3.7]\n",
    "\n",
    "strikes = [20, 25, 26, 28, 30]\n",
    "\n",
    "implicit_vol = [fsolve(imp_vol, x0=0.1, args=(p, k))[0] for p,k in zip(prices,strikes)]\n",
    "\n",
    "\n",
    "plt.figure(figsize=(10,6))\n",
    "plt.plot(strikes, implicit_vol)\n",
    "plt.title(\"Implicit volatility\")\n",
    "plt.xlabel(\"Strikes\")\n",
    "plt.ylabel(\"Volatility\")\n",
    "plt.show()"
   ]
  },
  {
   "cell_type": "markdown",
   "id": "83cd6926",
   "metadata": {},
   "source": [
    "> <h2 style=\"color:green\"> $\\ll\\!\\!\\prec\\quad$ Ejercicios $\\quad\\succ\\!\\!\\gg$ </h2>"
   ]
  },
  {
   "cell_type": "markdown",
   "id": "19c60cdb",
   "metadata": {},
   "source": [
    "1. Usando recursividad, genera una función para calcular el doble fatorial de un número entero positivo:\n",
    "\n",
    "$$n!! = n\\,(n-2)\\ (n-4)\\, ... $$\n",
    "\n",
    "cuando $n = 2k-1$, se tiene que:\n",
    "\n",
    "$$(2k-1)!! = (2k-1)(2k-3)\\cdot\\ldots\\cdot 5\\cdot 3\\cdot 1$$\n",
    "\n",
    "y para $n = 2k$ se tiene que:\n",
    "\n",
    "$$(2k)!! = (2k)(2k-2)\\cdot\\ldots\\cdot 6\\cdot 4\\cdot 2$$\n",
    "\n",
    "\n"
   ]
  },
  {
   "cell_type": "markdown",
   "id": "782c629d",
   "metadata": {},
   "source": [
    "$2!! = 2$\n",
    "\n",
    "$1!! = 1$"
   ]
  },
  {
   "cell_type": "markdown",
   "id": "246d534b",
   "metadata": {},
   "source": [
    "2. Usando listas de comprensión, Cree una función que genere las tablas de multiplicar hasta el número n (cada una guardada en una lista) "
   ]
  },
  {
   "cell_type": "code",
   "execution_count": null,
   "id": "c2b866f4",
   "metadata": {},
   "outputs": [],
   "source": []
  },
  {
   "cell_type": "code",
   "execution_count": null,
   "id": "b11ee10a",
   "metadata": {},
   "outputs": [],
   "source": []
  },
  {
   "cell_type": "code",
   "execution_count": null,
   "id": "8601299e",
   "metadata": {},
   "outputs": [],
   "source": []
  },
  {
   "cell_type": "code",
   "execution_count": null,
   "id": "d50991e4",
   "metadata": {},
   "outputs": [],
   "source": []
  },
  {
   "cell_type": "code",
   "execution_count": null,
   "id": "9e1a0977",
   "metadata": {},
   "outputs": [],
   "source": []
  },
  {
   "cell_type": "markdown",
   "id": "ca12188a",
   "metadata": {},
   "source": [
    "## `*args` y `**kwargs`"
   ]
  },
  {
   "cell_type": "markdown",
   "id": "28eaecab",
   "metadata": {},
   "source": [
    "Podemos aceptar cuaquier número de argumentos con `args` y cualquier número de argumentos-llave con `**kwargs`. En ocasiones no sabel el número total de parámetros para una función o queremos extender sus dependencias a otras clase. "
   ]
  },
  {
   "cell_type": "code",
   "execution_count": null,
   "id": "84e36222",
   "metadata": {},
   "outputs": [],
   "source": [
    "#args viene de argumentos"
   ]
  },
  {
   "cell_type": "code",
   "execution_count": 167,
   "id": "f10ab6fc",
   "metadata": {},
   "outputs": [],
   "source": [
    "def funcion_args(*args): #le están diciendo que puede aceptar cualquier número de parámetros: lo dejan libre\n",
    "    print(args, len(args))"
   ]
  },
  {
   "cell_type": "code",
   "execution_count": 168,
   "id": "84d8e084",
   "metadata": {},
   "outputs": [
    {
     "name": "stdout",
     "output_type": "stream",
     "text": [
      "(1, 2, 3) 3\n"
     ]
    }
   ],
   "source": [
    "funcion_args(1,2,3)"
   ]
  },
  {
   "cell_type": "code",
   "execution_count": 169,
   "id": "6b5dcf63",
   "metadata": {},
   "outputs": [
    {
     "name": "stdout",
     "output_type": "stream",
     "text": [
      "(1, 2, 3, [4, 5], 'e') 5\n"
     ]
    }
   ],
   "source": [
    "funcion_args(1, 2, 3, [4,5], \"e\") #arroja una tupla"
   ]
  },
  {
   "cell_type": "code",
   "execution_count": 170,
   "id": "cb3ebf40",
   "metadata": {},
   "outputs": [],
   "source": [
    "#kwargs que viene de keyword argumentos\n",
    "def funcion_kwargs(**kwargs): #le están diciendo que puede aceptar cualquier número de parámetros: lo dejan libre\n",
    "    print(kwargs)"
   ]
  },
  {
   "cell_type": "code",
   "execution_count": 171,
   "id": "e85c025b",
   "metadata": {},
   "outputs": [
    {
     "name": "stdout",
     "output_type": "stream",
     "text": [
      "{'a': 1, 'b': 2}\n"
     ]
    }
   ],
   "source": [
    "funcion_kwargs(a=1,b=2) #arroja un diccionario"
   ]
  },
  {
   "cell_type": "code",
   "execution_count": 172,
   "id": "7a242632",
   "metadata": {},
   "outputs": [],
   "source": [
    "def suma(a=1,b=2):\n",
    "    return a+b"
   ]
  },
  {
   "cell_type": "code",
   "execution_count": 173,
   "id": "6fa51074",
   "metadata": {},
   "outputs": [],
   "source": [
    "def func_kwargs(**kwargs):\n",
    "    \n",
    "    res=suma(**kwargs)\n",
    "    return res"
   ]
  },
  {
   "cell_type": "code",
   "execution_count": 174,
   "id": "98a6c429",
   "metadata": {},
   "outputs": [
    {
     "data": {
      "text/plain": [
       "12"
      ]
     },
     "execution_count": 174,
     "metadata": {},
     "output_type": "execute_result"
    }
   ],
   "source": [
    "func_kwargs(a=5, b=7)"
   ]
  },
  {
   "cell_type": "code",
   "execution_count": 175,
   "id": "90e163fa",
   "metadata": {},
   "outputs": [
    {
     "data": {
      "text/plain": [
       "6"
      ]
     },
     "execution_count": 175,
     "metadata": {},
     "output_type": "execute_result"
    }
   ],
   "source": [
    "suma(a=4)"
   ]
  },
  {
   "cell_type": "code",
   "execution_count": 176,
   "id": "ddb9a73d",
   "metadata": {},
   "outputs": [
    {
     "ename": "TypeError",
     "evalue": "suma() got an unexpected keyword argument 'c'",
     "output_type": "error",
     "traceback": [
      "\u001b[0;31m---------------------------------------------------------------------------\u001b[0m",
      "\u001b[0;31mTypeError\u001b[0m                                 Traceback (most recent call last)",
      "Cell \u001b[0;32mIn[176], line 1\u001b[0m\n\u001b[0;32m----> 1\u001b[0m func_kwargs(a\u001b[38;5;241m=\u001b[39m\u001b[38;5;241m10\u001b[39m, b\u001b[38;5;241m=\u001b[39m\u001b[38;5;241m20\u001b[39m, c\u001b[38;5;241m=\u001b[39m\u001b[38;5;241m30\u001b[39m)\n",
      "Cell \u001b[0;32mIn[173], line 3\u001b[0m, in \u001b[0;36mfunc_kwargs\u001b[0;34m(**kwargs)\u001b[0m\n\u001b[1;32m      1\u001b[0m \u001b[38;5;28;01mdef\u001b[39;00m \u001b[38;5;21mfunc_kwargs\u001b[39m(\u001b[38;5;241m*\u001b[39m\u001b[38;5;241m*\u001b[39mkwargs):\n\u001b[0;32m----> 3\u001b[0m     res\u001b[38;5;241m=\u001b[39msuma(\u001b[38;5;241m*\u001b[39m\u001b[38;5;241m*\u001b[39mkwargs)\n\u001b[1;32m      4\u001b[0m     \u001b[38;5;28;01mreturn\u001b[39;00m res\n",
      "\u001b[0;31mTypeError\u001b[0m: suma() got an unexpected keyword argument 'c'"
     ]
    }
   ],
   "source": [
    "func_kwargs(a=10, b=20, c=30)"
   ]
  },
  {
   "cell_type": "code",
   "execution_count": 177,
   "id": "40c45b06",
   "metadata": {},
   "outputs": [],
   "source": [
    "def func_kwargs(**kwargs):\n",
    "    a = kwargs[\"a\"]\n",
    "    b = kwargs[\"b\"]\n",
    "    res = suma(a,b)\n",
    "    \n",
    "    return res"
   ]
  },
  {
   "cell_type": "code",
   "execution_count": null,
   "id": "26ac48f5",
   "metadata": {},
   "outputs": [],
   "source": [
    "func_kwargs(a=10, b=20, c=30)"
   ]
  },
  {
   "cell_type": "code",
   "execution_count": null,
   "id": "c0ea9af3",
   "metadata": {},
   "outputs": [],
   "source": [
    "#otro ejemplo\n",
    "def func(a, b, c=3, *args, **kwargs):\n",
    "    print(f\"a={a},  b={b},  c={c}\")\n",
    "    return args, kwargs"
   ]
  },
  {
   "cell_type": "code",
   "execution_count": null,
   "id": "7c4fa1be",
   "metadata": {},
   "outputs": [],
   "source": [
    "func(1,2,20,5,6,7,8,9,k=4, algo=3) #los args son tupla y los kwargs son diccionarios\n",
    "#aquí a=1,b=2,c=3, arg=tupla con 5, y kwargs diccionario k:4"
   ]
  },
  {
   "cell_type": "code",
   "execution_count": null,
   "id": "d583cf1b",
   "metadata": {},
   "outputs": [],
   "source": [
    "func(a=1,b=2,c=3,k=4, algo=3)"
   ]
  },
  {
   "cell_type": "code",
   "execution_count": null,
   "id": "5badab43",
   "metadata": {},
   "outputs": [],
   "source": [
    "func(1,2,3,d=4,2,3,4,5,6,k=4, algo=3)"
   ]
  },
  {
   "cell_type": "code",
   "execution_count": null,
   "id": "a5b4e519",
   "metadata": {},
   "outputs": [],
   "source": [
    "def funcion_args_kwargs(*args,**kwargs):\n",
    "    print(args)\n",
    "    print(kwargs)"
   ]
  },
  {
   "cell_type": "code",
   "execution_count": null,
   "id": "afb46e98",
   "metadata": {},
   "outputs": [],
   "source": [
    "funcion_args_kwargs(1,2,a=1,b=2)"
   ]
  },
  {
   "cell_type": "markdown",
   "id": "62ac5cb5",
   "metadata": {},
   "source": [
    "### Ejemplos:"
   ]
  },
  {
   "cell_type": "markdown",
   "id": "b414c895",
   "metadata": {},
   "source": [
    "1. Escribe una función `familia` que describa una familia. El progrma deberá tomar como parámetro el rol de un miembro de la familia y como argumento su nombre. El programa deberá imprimir `\"Los integrantes de la familia son:\"` seguido de los integrantes de la familia\n",
    "\n",
    "```python\n",
    ">>> familia(papa=\"Mario\",hija1=\"Sophia\", hija2=\"Elizabeth\")\n",
    "Los integrantes de la familia son: \n",
    "Mario es papa\n",
    "Sophia es hija1\n",
    "Elizabeth es hija2\n",
    "\n",
    "```"
   ]
  },
  {
   "cell_type": "code",
   "execution_count": null,
   "id": "4ee7c1f6",
   "metadata": {},
   "outputs": [],
   "source": [
    "def familia(**kwargs):\n",
    "    print(\"Los integrante de la familia son:\")\n",
    "    for integrante,nombre in kwargs.items():  #integrante es la llave del diccionario y nombre es el valor del diccionario\n",
    "        print(f\"{nombre} es {integrante}\")\n",
    "    #print(kwargs)"
   ]
  },
  {
   "cell_type": "code",
   "execution_count": null,
   "id": "706339ca",
   "metadata": {},
   "outputs": [],
   "source": [
    " familia(papa=\"Mario\",hija1=\"Sophia\", hija2=\"Elizabeth\")"
   ]
  },
  {
   "cell_type": "code",
   "execution_count": null,
   "id": "86382e8d",
   "metadata": {},
   "outputs": [],
   "source": [
    " familia(papa=\"Mario\",hija1=\"Sophia\", hija2=\"Elizabeth\",hijo4=\"Luis\",mamá=\"Ana\",primo=\"Juan\")"
   ]
  },
  {
   "cell_type": "markdown",
   "id": "bb210c59",
   "metadata": {},
   "source": [
    "2. Escribir un función `unicos` que tome una `n` cantidad de números enteros y regresa una lista con valores únicos\n",
    "\n",
    "```python\n",
    ">>> unicos(1,2,3,4,3,2)\n",
    "[1,2,3,4]\n",
    ">>> unicos(1,1,2)\n",
    "[1,2]\n",
    "\n",
    "```"
   ]
  },
  {
   "cell_type": "code",
   "execution_count": null,
   "id": "a1bd90ad",
   "metadata": {},
   "outputs": [],
   "source": [
    "def unicos(*args):\n",
    "    return list(set(args))"
   ]
  },
  {
   "cell_type": "code",
   "execution_count": null,
   "id": "9a5fb2ef",
   "metadata": {},
   "outputs": [],
   "source": [
    "unicos(1,2,3,4,3,2,1,1,1,1,1,1,1,1,1,1)"
   ]
  },
  {
   "cell_type": "code",
   "execution_count": null,
   "id": "e40c27c2",
   "metadata": {},
   "outputs": [],
   "source": [
    "unicos(1,1,2)"
   ]
  },
  {
   "cell_type": "code",
   "execution_count": null,
   "id": "6555170e",
   "metadata": {},
   "outputs": [],
   "source": []
  }
 ],
 "metadata": {
  "kernelspec": {
   "display_name": "Python 3 (ipykernel)",
   "language": "python",
   "name": "python3"
  },
  "language_info": {
   "codemirror_mode": {
    "name": "ipython",
    "version": 3
   },
   "file_extension": ".py",
   "mimetype": "text/x-python",
   "name": "python",
   "nbconvert_exporter": "python",
   "pygments_lexer": "ipython3",
   "version": "3.11.3"
  }
 },
 "nbformat": 4,
 "nbformat_minor": 5
}
