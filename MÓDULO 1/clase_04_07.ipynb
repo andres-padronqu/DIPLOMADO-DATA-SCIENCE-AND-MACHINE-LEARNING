{
 "cells": [
  {
   "attachments": {
    "logo_ITAM.png": {
     "image/png": "[encoded data removed]"
    }
   },
   "cell_type": "markdown",
   "id": "9819ae0b",
   "metadata": {},
   "source": [
    "![logo_ITAM.png](attachment:logo_ITAM.png)"
   ]
  },
  {
   "cell_type": "markdown",
   "id": "fb30bd59",
   "metadata": {},
   "source": [
    "# Clase 4 - Funciones y listas de comprensión\n",
    "\n",
    "\n",
    "El objetivo de la clase de hoy es conocer cómo declarar funciones en python. Veremos varios ejemplos sobre cómo construirlas y los elementos que las componen.\n",
    "\n",
    "También veremos cómo construir listas usando un for \"abreviado\" - listas de comprensión."
   ]
  },
  {
   "cell_type": "markdown",
   "id": "7459c8cf",
   "metadata": {},
   "source": [
    "## Funciones"
   ]
  },
  {
   "cell_type": "markdown",
   "id": "58804ed0",
   "metadata": {},
   "source": [
    "* Una función es un conjunto de instruccioines que resuelven un problema en concreto de manera independiente al resto del programa.\n",
    "\n",
    "\n",
    "* La mayoría de los lenguajes de programación, como es el caso de Python, contienen funciones ya definidas que pueden ser usadadas por el usuario. "
   ]
  },
  {
   "cell_type": "code",
   "execution_count": 2,
   "id": "ab61cce5",
   "metadata": {},
   "outputs": [
    {
     "data": {
      "text/plain": [
       "9"
      ]
     },
     "execution_count": 2,
     "metadata": {},
     "output_type": "execute_result"
    }
   ],
   "source": [
    "## Ya hemos usado funciones en las sesiones anteriores:\n",
    "\n",
    "len(\"my_string\")"
   ]
  },
  {
   "cell_type": "code",
   "execution_count": 3,
   "id": "143b7283",
   "metadata": {},
   "outputs": [
    {
     "name": "stdout",
     "output_type": "stream",
     "text": [
      "\n"
     ]
    }
   ],
   "source": [
    "print()"
   ]
  },
  {
   "cell_type": "code",
   "execution_count": 4,
   "id": "a41ac5d2",
   "metadata": {},
   "outputs": [
    {
     "name": "stdout",
     "output_type": "stream",
     "text": [
      "Hola, Mundo\n"
     ]
    }
   ],
   "source": [
    "print(\"Hola, Mundo\")"
   ]
  },
  {
   "cell_type": "code",
   "execution_count": 5,
   "id": "8274a3be",
   "metadata": {},
   "outputs": [
    {
     "data": {
      "text/plain": [
       "10"
      ]
     },
     "execution_count": 5,
     "metadata": {},
     "output_type": "execute_result"
    }
   ],
   "source": [
    "sum([1, 2, 3, 4])"
   ]
  },
  {
   "cell_type": "code",
   "execution_count": 6,
   "id": "5f35a275",
   "metadata": {},
   "outputs": [
    {
     "data": {
      "text/plain": [
       "9"
      ]
     },
     "execution_count": 6,
     "metadata": {},
     "output_type": "execute_result"
    }
   ],
   "source": [
    "pow(3,2)"
   ]
  },
  {
   "cell_type": "code",
   "execution_count": 7,
   "id": "a2c3f50a",
   "metadata": {},
   "outputs": [
    {
     "data": {
      "text/plain": [
       "4"
      ]
     },
     "execution_count": 7,
     "metadata": {},
     "output_type": "execute_result"
    }
   ],
   "source": [
    "pow(2, 10, 10)"
   ]
  },
  {
   "cell_type": "code",
   "execution_count": 8,
   "id": "23b63af0",
   "metadata": {},
   "outputs": [
    {
     "data": {
      "text/plain": [
       "1"
      ]
     },
     "execution_count": 8,
     "metadata": {},
     "output_type": "execute_result"
    }
   ],
   "source": [
    "abs(-1)"
   ]
  },
  {
   "cell_type": "markdown",
   "id": "961ae495",
   "metadata": {},
   "source": [
    "... pero también podemos definir nuestras propias funciones:"
   ]
  },
  {
   "cell_type": "code",
   "execution_count": 9,
   "id": "15b38ba3",
   "metadata": {},
   "outputs": [],
   "source": [
    "def saludo():\n",
    "    print(\"hola\")"
   ]
  },
  {
   "cell_type": "code",
   "execution_count": 10,
   "id": "63d202d9",
   "metadata": {},
   "outputs": [
    {
     "name": "stdout",
     "output_type": "stream",
     "text": [
      "Variable   Type        Data/Info\n",
      "--------------------------------\n",
      "saludo     function    <function saludo at 0x0000019268A09CF0>\n"
     ]
    }
   ],
   "source": [
    "%whos"
   ]
  },
  {
   "cell_type": "code",
   "execution_count": 11,
   "id": "58ecf787",
   "metadata": {},
   "outputs": [
    {
     "data": {
      "text/plain": [
       "<function __main__.saludo()>"
      ]
     },
     "execution_count": 11,
     "metadata": {},
     "output_type": "execute_result"
    }
   ],
   "source": [
    "saludo"
   ]
  },
  {
   "cell_type": "code",
   "execution_count": 12,
   "id": "d8cfbc57",
   "metadata": {},
   "outputs": [
    {
     "name": "stdout",
     "output_type": "stream",
     "text": [
      "hola\n"
     ]
    }
   ],
   "source": [
    "saludo()"
   ]
  },
  {
   "cell_type": "code",
   "execution_count": 13,
   "id": "8c59be01",
   "metadata": {},
   "outputs": [],
   "source": [
    "def suma_2(x, y): #en esta celda no imprime nada porque aquí se define la función \n",
    "    print(x + y)"
   ]
  },
  {
   "cell_type": "code",
   "execution_count": 14,
   "id": "ccbf7a4c",
   "metadata": {},
   "outputs": [
    {
     "data": {
      "text/plain": [
       "<function __main__.suma_2(x, y)>"
      ]
     },
     "execution_count": 14,
     "metadata": {},
     "output_type": "execute_result"
    }
   ],
   "source": [
    "suma_2"
   ]
  },
  {
   "cell_type": "code",
   "execution_count": 15,
   "id": "20bbcb42",
   "metadata": {},
   "outputs": [
    {
     "name": "stdout",
     "output_type": "stream",
     "text": [
      "11\n"
     ]
    }
   ],
   "source": [
    "suma_2(4, 7) #forma implicita, ya reconoce que x=4 y que y=7"
   ]
  },
  {
   "cell_type": "code",
   "execution_count": 16,
   "id": "4f948c70",
   "metadata": {
    "scrolled": true
   },
   "outputs": [
    {
     "ename": "TypeError",
     "evalue": "suma_2() missing 1 required positional argument: 'y'",
     "output_type": "error",
     "traceback": [
      "\u001b[1;31m---------------------------------------------------------------------------\u001b[0m",
      "\u001b[1;31mTypeError\u001b[0m                                 Traceback (most recent call last)",
      "Cell \u001b[1;32mIn[16], line 2\u001b[0m\n\u001b[0;32m      1\u001b[0m \u001b[38;5;66;03m# si sólo ponemos un parámetro\u001b[39;00m\n\u001b[1;32m----> 2\u001b[0m \u001b[43msuma_2\u001b[49m\u001b[43m(\u001b[49m\u001b[38;5;241;43m5\u001b[39;49m\u001b[43m)\u001b[49m\n",
      "\u001b[1;31mTypeError\u001b[0m: suma_2() missing 1 required positional argument: 'y'"
     ]
    }
   ],
   "source": [
    "# si sólo ponemos un parámetro obtenemos un error:\n",
    "suma_2(5)"
   ]
  },
  {
   "cell_type": "code",
   "execution_count": 17,
   "id": "b3df4d0d",
   "metadata": {},
   "outputs": [
    {
     "name": "stdout",
     "output_type": "stream",
     "text": [
      "Variable   Type        Data/Info\n",
      "--------------------------------\n",
      "saludo     function    <function saludo at 0x0000019268A09CF0>\n",
      "suma_2     function    <function suma_2 at 0x0000019268A09A20>\n"
     ]
    }
   ],
   "source": [
    "%whos\n",
    "\n",
    "# como podemos ver, las variables x e y sólo existen durante la ejecución de la función"
   ]
  },
  {
   "cell_type": "code",
   "execution_count": 18,
   "id": "88b7ce21",
   "metadata": {},
   "outputs": [
    {
     "name": "stdout",
     "output_type": "stream",
     "text": [
      "[1, 2, 3, 4, 5, 6]\n"
     ]
    }
   ],
   "source": [
    "suma_2([1,2,3], [4,5,6])"
   ]
  },
  {
   "cell_type": "code",
   "execution_count": 19,
   "id": "632f3b42",
   "metadata": {
    "scrolled": true
   },
   "outputs": [
    {
     "name": "stdout",
     "output_type": "stream",
     "text": [
      "hola adios\n"
     ]
    }
   ],
   "source": [
    "suma_2(\"hola\", \" adios\")"
   ]
  },
  {
   "cell_type": "code",
   "execution_count": 20,
   "id": "0deb1823",
   "metadata": {},
   "outputs": [
    {
     "ename": "TypeError",
     "evalue": "unsupported operand type(s) for +: 'int' and 'str'",
     "output_type": "error",
     "traceback": [
      "\u001b[1;31m---------------------------------------------------------------------------\u001b[0m",
      "\u001b[1;31mTypeError\u001b[0m                                 Traceback (most recent call last)",
      "Cell \u001b[1;32mIn[20], line 1\u001b[0m\n\u001b[1;32m----> 1\u001b[0m \u001b[43msuma_2\u001b[49m\u001b[43m(\u001b[49m\u001b[38;5;241;43m2\u001b[39;49m\u001b[43m,\u001b[49m\u001b[43m \u001b[49m\u001b[38;5;124;43m\"\u001b[39;49m\u001b[38;5;124;43mhola\u001b[39;49m\u001b[38;5;124;43m\"\u001b[39;49m\u001b[43m)\u001b[49m\n",
      "Cell \u001b[1;32mIn[13], line 2\u001b[0m, in \u001b[0;36msuma_2\u001b[1;34m(x, y)\u001b[0m\n\u001b[0;32m      1\u001b[0m \u001b[38;5;28;01mdef\u001b[39;00m \u001b[38;5;21msuma_2\u001b[39m(x, y): \u001b[38;5;66;03m#en esta celda no imprime nada porque aquí se define la función \u001b[39;00m\n\u001b[1;32m----> 2\u001b[0m     \u001b[38;5;28mprint\u001b[39m(\u001b[43mx\u001b[49m\u001b[43m \u001b[49m\u001b[38;5;241;43m+\u001b[39;49m\u001b[43m \u001b[49m\u001b[43my\u001b[49m)\n",
      "\u001b[1;31mTypeError\u001b[0m: unsupported operand type(s) for +: 'int' and 'str'"
     ]
    }
   ],
   "source": [
    "suma_2(2, \"hola\")"
   ]
  },
  {
   "cell_type": "code",
   "execution_count": 21,
   "id": "0eff5bea",
   "metadata": {},
   "outputs": [
    {
     "name": "stdout",
     "output_type": "stream",
     "text": [
      "ab\n"
     ]
    }
   ],
   "source": [
    "suma_2(x=\"a\", y=\"b\") #forma explícita, se lo asignamos directo"
   ]
  },
  {
   "cell_type": "code",
   "execution_count": 22,
   "id": "2a8c8fef",
   "metadata": {},
   "outputs": [
    {
     "name": "stdout",
     "output_type": "stream",
     "text": [
      "ba\n"
     ]
    }
   ],
   "source": [
    "suma_2(y=\"a\", x=\"b\")"
   ]
  },
  {
   "cell_type": "code",
   "execution_count": 24,
   "id": "e3e102d6",
   "metadata": {},
   "outputs": [],
   "source": [
    "def f(x, y, w=4, z=2): #puede tener más arguemnentos. w=4, z=2 sería el default, si no hay valor que se le pase, toma el default\n",
    "    #print(w)\n",
    "    print(x*y + z - w)"
   ]
  },
  {
   "cell_type": "code",
   "execution_count": 25,
   "id": "1245179b",
   "metadata": {},
   "outputs": [
    {
     "data": {
      "text/plain": [
       "<function __main__.f(x, y, w=4, z=2)>"
      ]
     },
     "execution_count": 25,
     "metadata": {},
     "output_type": "execute_result"
    }
   ],
   "source": [
    "f"
   ]
  },
  {
   "cell_type": "code",
   "execution_count": 26,
   "id": "3a22ef41",
   "metadata": {},
   "outputs": [
    {
     "name": "stdout",
     "output_type": "stream",
     "text": [
      "6\n"
     ]
    }
   ],
   "source": [
    "f(1,2,1,5)  #x=1   y=2   w=1  z=5"
   ]
  },
  {
   "cell_type": "code",
   "execution_count": 27,
   "id": "85b3f61b",
   "metadata": {},
   "outputs": [
    {
     "name": "stdout",
     "output_type": "stream",
     "text": [
      "10\n"
     ]
    }
   ],
   "source": [
    "f(2, 2, -4)   #x=2   y=2   w=-4  z=2"
   ]
  },
  {
   "cell_type": "code",
   "execution_count": 28,
   "id": "e674ffa7",
   "metadata": {
    "scrolled": false
   },
   "outputs": [
    {
     "name": "stdout",
     "output_type": "stream",
     "text": [
      "2\n"
     ]
    }
   ],
   "source": [
    "f(2, 2) # esto es válido porque w y z tienen valores por default"
   ]
  },
  {
   "cell_type": "code",
   "execution_count": 29,
   "id": "947885f5",
   "metadata": {},
   "outputs": [
    {
     "ename": "TypeError",
     "evalue": "f() missing 1 required positional argument: 'y'",
     "output_type": "error",
     "traceback": [
      "\u001b[1;31m---------------------------------------------------------------------------\u001b[0m",
      "\u001b[1;31mTypeError\u001b[0m                                 Traceback (most recent call last)",
      "Cell \u001b[1;32mIn[29], line 1\u001b[0m\n\u001b[1;32m----> 1\u001b[0m \u001b[43mf\u001b[49m\u001b[43m(\u001b[49m\u001b[38;5;241;43m1\u001b[39;49m\u001b[43m)\u001b[49m\n",
      "\u001b[1;31mTypeError\u001b[0m: f() missing 1 required positional argument: 'y'"
     ]
    }
   ],
   "source": [
    "f(1)"
   ]
  },
  {
   "cell_type": "code",
   "execution_count": 30,
   "id": "554a0fbb",
   "metadata": {},
   "outputs": [],
   "source": [
    "# También hay funciones que nos regresan más de un valor:\n",
    "\n",
    "#Ejemplo: dados dos puntos en el plano, calulamos la distancia euclidiana y la distancia (x2-y2)\n",
    "def distancia(x1, y1, x2=0, y2=0):\n",
    "    \n",
    "    dist = ( (x2 - x1)**2 + (y2 - y1)**2 )**(1/2)\n",
    "    \n",
    "    return dist, x2-y2   # esto está devolviendo una tupla"
   ]
  },
  {
   "cell_type": "code",
   "execution_count": 31,
   "id": "d3eb370d",
   "metadata": {},
   "outputs": [
    {
     "data": {
      "text/plain": [
       "(4.123105625617661, -7)"
      ]
     },
     "execution_count": 31,
     "metadata": {},
     "output_type": "execute_result"
    }
   ],
   "source": [
    "distancia(x1=1, y1=3, x2=-3, y2=4)"
   ]
  },
  {
   "cell_type": "code",
   "execution_count": null,
   "id": "ae6a517e",
   "metadata": {},
   "outputs": [],
   "source": [
    "17**0.5"
   ]
  },
  {
   "cell_type": "code",
   "execution_count": 32,
   "id": "fc43bd4e",
   "metadata": {},
   "outputs": [],
   "source": [
    "#los pueden guardar en dos variables\n",
    "dist, resta = distancia(x1=1,y1=3, x2=-3, y2=4)"
   ]
  },
  {
   "cell_type": "code",
   "execution_count": 33,
   "id": "e800b45a",
   "metadata": {},
   "outputs": [
    {
     "data": {
      "text/plain": [
       "4.123105625617661"
      ]
     },
     "execution_count": 33,
     "metadata": {},
     "output_type": "execute_result"
    }
   ],
   "source": [
    "dist"
   ]
  },
  {
   "cell_type": "code",
   "execution_count": 34,
   "id": "57366fe6",
   "metadata": {},
   "outputs": [
    {
     "data": {
      "text/plain": [
       "-7"
      ]
     },
     "execution_count": 34,
     "metadata": {},
     "output_type": "execute_result"
    }
   ],
   "source": [
    "resta #(x2-y2=-7 porque agarra los valores default)"
   ]
  },
  {
   "cell_type": "code",
   "execution_count": 35,
   "id": "91c27a3a",
   "metadata": {},
   "outputs": [],
   "source": [
    "# si sólo queremos conservar una variable, podemos eliminar la otra:\n",
    "del resta #borran la variable"
   ]
  },
  {
   "cell_type": "code",
   "execution_count": 36,
   "id": "279ca486",
   "metadata": {},
   "outputs": [
    {
     "ename": "NameError",
     "evalue": "name 'resta' is not defined",
     "output_type": "error",
     "traceback": [
      "\u001b[1;31m---------------------------------------------------------------------------\u001b[0m",
      "\u001b[1;31mNameError\u001b[0m                                 Traceback (most recent call last)",
      "Cell \u001b[1;32mIn[36], line 1\u001b[0m\n\u001b[1;32m----> 1\u001b[0m \u001b[43mresta\u001b[49m\n",
      "\u001b[1;31mNameError\u001b[0m: name 'resta' is not defined"
     ]
    }
   ],
   "source": [
    "resta"
   ]
  },
  {
   "cell_type": "code",
   "execution_count": 37,
   "id": "06be600b",
   "metadata": {},
   "outputs": [],
   "source": [
    "dist = distancia(x1=1, y1=3, x2=-3, y2=4)"
   ]
  },
  {
   "cell_type": "code",
   "execution_count": 38,
   "id": "2465e57b",
   "metadata": {},
   "outputs": [
    {
     "data": {
      "text/plain": [
       "(4.123105625617661, -7)"
      ]
     },
     "execution_count": 38,
     "metadata": {},
     "output_type": "execute_result"
    }
   ],
   "source": [
    "dist"
   ]
  },
  {
   "cell_type": "code",
   "execution_count": 39,
   "id": "743128b2",
   "metadata": {},
   "outputs": [
    {
     "data": {
      "text/plain": [
       "4.123105625617661"
      ]
     },
     "execution_count": 39,
     "metadata": {},
     "output_type": "execute_result"
    }
   ],
   "source": [
    "dist[0] #accediendo a una tupla"
   ]
  },
  {
   "cell_type": "code",
   "execution_count": 40,
   "id": "afb34054",
   "metadata": {},
   "outputs": [
    {
     "data": {
      "text/plain": [
       "tuple"
      ]
     },
     "execution_count": 40,
     "metadata": {},
     "output_type": "execute_result"
    }
   ],
   "source": [
    "type(dist)"
   ]
  },
  {
   "cell_type": "code",
   "execution_count": null,
   "id": "56533c43",
   "metadata": {},
   "outputs": [],
   "source": [
    "dist,  = distancia(x1=1, y1=3) #sí hay que ponerle algo a resta,"
   ]
  },
  {
   "cell_type": "code",
   "execution_count": null,
   "id": "cbc29911",
   "metadata": {},
   "outputs": [],
   "source": [
    "# si sólo nos importa un valor, podemos hacer esto:\n",
    "\n",
    "dist = distancia(x1=1, y1=3, x2=-3, y2=4)[0]"
   ]
  },
  {
   "cell_type": "code",
   "execution_count": null,
   "id": "94f7f25a",
   "metadata": {},
   "outputs": [],
   "source": [
    "dist"
   ]
  },
  {
   "cell_type": "code",
   "execution_count": null,
   "id": "6f74b93e",
   "metadata": {},
   "outputs": [],
   "source": [
    "type(dist)"
   ]
  },
  {
   "cell_type": "code",
   "execution_count": null,
   "id": "204c3e4d",
   "metadata": {},
   "outputs": [],
   "source": [
    "distancia([1,2,3], [4,5,6], [1,2,3], [4,5,6])"
   ]
  },
  {
   "cell_type": "markdown",
   "id": "ac3deb5e",
   "metadata": {},
   "source": [
    "En python hay dos formas de poner comentarios:\n",
    "    \n",
    "    1. Utilizando #\n",
    "    2. Utilizando \"\"\"   \"\"\""
   ]
  },
  {
   "cell_type": "code",
   "execution_count": 41,
   "id": "707aeda9",
   "metadata": {},
   "outputs": [
    {
     "data": {
      "text/plain": [
       "'\\nHola\\ntodo esto\\nes un \\ncomentario\\n'"
      ]
     },
     "execution_count": 41,
     "metadata": {},
     "output_type": "execute_result"
    }
   ],
   "source": [
    "# Esto es un comentario en una línea\n",
    "\n",
    "\"\"\"\n",
    "Hola\n",
    "todo esto\n",
    "es un \n",
    "comentario\n",
    "\"\"\""
   ]
  },
  {
   "cell_type": "code",
   "execution_count": 42,
   "id": "83c75309",
   "metadata": {},
   "outputs": [
    {
     "name": "stdout",
     "output_type": "stream",
     "text": [
      "Help on built-in function len in module builtins:\n",
      "\n",
      "len(obj, /)\n",
      "    Return the number of items in a container.\n",
      "\n"
     ]
    }
   ],
   "source": [
    "help(len)"
   ]
  },
  {
   "cell_type": "code",
   "execution_count": 44,
   "id": "8dda76fc",
   "metadata": {},
   "outputs": [],
   "source": [
    "def eliminar_elemento(a):\n",
    "    b = a.copy()\n",
    "    b.pop()\n",
    "    return b\n"
   ]
  },
  {
   "cell_type": "code",
   "execution_count": 45,
   "id": "c0efd62e",
   "metadata": {
    "scrolled": true
   },
   "outputs": [
    {
     "data": {
      "text/plain": [
       "[1, 2, 3, 4]"
      ]
     },
     "execution_count": 45,
     "metadata": {},
     "output_type": "execute_result"
    }
   ],
   "source": [
    "lista = [1,2,3,4,5]  \n",
    "\n",
    "eliminar_elemento(lista)"
   ]
  },
  {
   "cell_type": "code",
   "execution_count": 46,
   "id": "750bb017",
   "metadata": {},
   "outputs": [
    {
     "data": {
      "text/plain": [
       "[1, 2, 3, 4, 5]"
      ]
     },
     "execution_count": 46,
     "metadata": {},
     "output_type": "execute_result"
    }
   ],
   "source": [
    "lista"
   ]
  },
  {
   "cell_type": "code",
   "execution_count": 48,
   "id": "a951fec4",
   "metadata": {
    "scrolled": true
   },
   "outputs": [
    {
     "name": "stdout",
     "output_type": "stream",
     "text": [
      "Help on function eliminar_elemento in module __main__:\n",
      "\n",
      "eliminar_elemento(a)\n",
      "\n"
     ]
    }
   ],
   "source": [
    "help(eliminar_elemento)"
   ]
  },
  {
   "cell_type": "code",
   "execution_count": 49,
   "id": "8e817d63",
   "metadata": {},
   "outputs": [],
   "source": [
    "def eliminar_elemento(a):\n",
    "    \"\"\"\n",
    "    esta función crea una copia de la lista dada y devuelve una lista sin el último elemento\n",
    "    \"\"\"\n",
    "    b = a.copy()\n",
    "    b.pop()\n",
    "    return b"
   ]
  },
  {
   "cell_type": "code",
   "execution_count": 50,
   "id": "2fa3b9a2",
   "metadata": {},
   "outputs": [
    {
     "name": "stdout",
     "output_type": "stream",
     "text": [
      "Help on function eliminar_elemento in module __main__:\n",
      "\n",
      "eliminar_elemento(a)\n",
      "    esta función crea una copia de la lista dada y devuelve una lista sin el último elemento\n",
      "\n"
     ]
    }
   ],
   "source": [
    "help(eliminar_elemento)"
   ]
  },
  {
   "cell_type": "code",
   "execution_count": 51,
   "id": "302b8d60",
   "metadata": {},
   "outputs": [
    {
     "data": {
      "text/plain": [
       "[1, 2, 3, 4]"
      ]
     },
     "execution_count": 51,
     "metadata": {},
     "output_type": "execute_result"
    }
   ],
   "source": [
    "eliminar_elemento(lista)"
   ]
  },
  {
   "cell_type": "code",
   "execution_count": 52,
   "id": "079de22e",
   "metadata": {},
   "outputs": [
    {
     "data": {
      "text/plain": [
       "[1, 2, 3, 4, 5]"
      ]
     },
     "execution_count": 52,
     "metadata": {},
     "output_type": "execute_result"
    }
   ],
   "source": [
    "lista"
   ]
  },
  {
   "cell_type": "code",
   "execution_count": 53,
   "id": "ca03f7e4",
   "metadata": {},
   "outputs": [
    {
     "ename": "TypeError",
     "evalue": "pop expected at least 1 argument, got 0",
     "output_type": "error",
     "traceback": [
      "\u001b[1;31m---------------------------------------------------------------------------\u001b[0m",
      "\u001b[1;31mTypeError\u001b[0m                                 Traceback (most recent call last)",
      "Cell \u001b[1;32mIn[53], line 1\u001b[0m\n\u001b[1;32m----> 1\u001b[0m \u001b[43meliminar_elemento\u001b[49m\u001b[43m(\u001b[49m\u001b[43m{\u001b[49m\u001b[38;5;241;43m1\u001b[39;49m\u001b[43m:\u001b[49m\u001b[38;5;124;43m\"\u001b[39;49m\u001b[38;5;124;43meregdvf\u001b[39;49m\u001b[38;5;124;43m\"\u001b[39;49m\u001b[43m}\u001b[49m\u001b[43m)\u001b[49m\n",
      "Cell \u001b[1;32mIn[49], line 6\u001b[0m, in \u001b[0;36meliminar_elemento\u001b[1;34m(a)\u001b[0m\n\u001b[0;32m      2\u001b[0m \u001b[38;5;124;03m\"\"\"\u001b[39;00m\n\u001b[0;32m      3\u001b[0m \u001b[38;5;124;03mesta función crea una copia de la lista dada y devuelve una lista sin el último elemento\u001b[39;00m\n\u001b[0;32m      4\u001b[0m \u001b[38;5;124;03m\"\"\"\u001b[39;00m\n\u001b[0;32m      5\u001b[0m b \u001b[38;5;241m=\u001b[39m a\u001b[38;5;241m.\u001b[39mcopy()\n\u001b[1;32m----> 6\u001b[0m \u001b[43mb\u001b[49m\u001b[38;5;241;43m.\u001b[39;49m\u001b[43mpop\u001b[49m\u001b[43m(\u001b[49m\u001b[43m)\u001b[49m\n\u001b[0;32m      7\u001b[0m \u001b[38;5;28;01mreturn\u001b[39;00m b\n",
      "\u001b[1;31mTypeError\u001b[0m: pop expected at least 1 argument, got 0"
     ]
    }
   ],
   "source": [
    "eliminar_elemento({1:\"eregdvf\"})"
   ]
  },
  {
   "cell_type": "markdown",
   "id": "d9136518",
   "metadata": {},
   "source": [
    "## Declaración de una función"
   ]
  },
  {
   "attachments": {
    "esquema-funciones-python.png": {
     "image/png": "[encoded data removed]"
    }
   },
   "cell_type": "markdown",
   "id": "e2c21162",
   "metadata": {},
   "source": [
    "![esquema-funciones-python.png](attachment:esquema-funciones-python.png)"
   ]
  },
  {
   "cell_type": "markdown",
   "id": "f91470e1",
   "metadata": {},
   "source": [
    "Declaramos una función en python por medio del keyword `def` (definition). La sintáxis general para declarar una función en python es: \n",
    "```python\n",
    "def nombre_funcion(param1,param2,...,paramn):\n",
    "    <operaciones>\n",
    "```\n",
    "\n",
    "* `param1`, `param2`, son conocidos como los **parámetros** de la función. Estos son objetos que serviraán como *inputs* a la función (si es que la función necesita un input). \n",
    "\n",
    "\n",
    "* Al igual que los loops (`for`, `while`) y control flow statements (`if`, `else`, `elif`), la definición de una función inicia después de su declaración inciial; el cuerpo de la función es todo aquello con sangría y acaba al regresar al nivel donde la función fue definida"
   ]
  },
  {
   "cell_type": "code",
   "execution_count": null,
   "id": "9331c416",
   "metadata": {},
   "outputs": [],
   "source": [
    "def funcion():\n",
    "    print(\"¡Esto es una función!\")"
   ]
  },
  {
   "cell_type": "code",
   "execution_count": null,
   "id": "14179a0d",
   "metadata": {},
   "outputs": [],
   "source": [
    "funcion()"
   ]
  },
  {
   "cell_type": "code",
   "execution_count": null,
   "id": "e8c85793",
   "metadata": {
    "scrolled": true
   },
   "outputs": [],
   "source": [
    "for i in range(4):\n",
    "    funcion()"
   ]
  },
  {
   "cell_type": "code",
   "execution_count": null,
   "id": "e7680720",
   "metadata": {
    "scrolled": true
   },
   "outputs": [],
   "source": [
    "def distancia(a_1,a_2):\n",
    "    print((a_1**2+a_2**2)**(1/2))\n",
    "    return \"hola\"\n",
    "\n",
    "a = distancia(1,2)\n",
    "type(a)"
   ]
  },
  {
   "cell_type": "code",
   "execution_count": null,
   "id": "a0b1dc6d",
   "metadata": {},
   "outputs": [],
   "source": [
    "a"
   ]
  },
  {
   "cell_type": "markdown",
   "id": "36519ca4",
   "metadata": {},
   "source": [
    "Al crear una función es importante notar que los parámetros de la misma y las variables declaradas dentro de la función sólo se ven afectadas **dentro** de la función. Este alcance de una variable es conocido como *scope*. "
   ]
  },
  {
   "cell_type": "code",
   "execution_count": null,
   "id": "84d5ee0c",
   "metadata": {},
   "outputs": [],
   "source": [
    "def f(a):         # `a` es conocido como un parámetro\n",
    "    b = 3         # `b` no existe fuera de este scope (variable local)\n",
    "    print(id(b))\n",
    "    a = a + b     # aquí a cuando se sobrescribe es una variable local\n",
    "    print(a)"
   ]
  },
  {
   "cell_type": "code",
   "execution_count": null,
   "id": "5bf2fbad",
   "metadata": {},
   "outputs": [],
   "source": [
    "a = 1\n",
    "f(a)"
   ]
  },
  {
   "cell_type": "code",
   "execution_count": null,
   "id": "bcfd23bc",
   "metadata": {},
   "outputs": [],
   "source": [
    "%whos"
   ]
  },
  {
   "cell_type": "code",
   "execution_count": null,
   "id": "a6248425",
   "metadata": {},
   "outputs": [],
   "source": [
    "a"
   ]
  },
  {
   "cell_type": "code",
   "execution_count": null,
   "id": "440b39e5",
   "metadata": {
    "scrolled": true
   },
   "outputs": [],
   "source": [
    "b #marca error porque no está definidida, sólo vive dentro de la función "
   ]
  },
  {
   "cell_type": "code",
   "execution_count": null,
   "id": "aca198ad",
   "metadata": {},
   "outputs": [],
   "source": [
    "b = 6\n",
    "a = 3\n",
    "\n",
    "print(\"El ID de la variable b que tengo afuera \", id(b))\n",
    "\n",
    "f(1)\n",
    "\n",
    "print(b) # a pesar de que `a`que se sobrescribe dentro de la función, `a` sigue valiendo de 3 en el ambiente global. \n",
    "\n",
    "# El \"4\" es porque llama la función\n",
    "# El \"3\" porque imprimie la variable global (a=3)"
   ]
  },
  {
   "cell_type": "code",
   "execution_count": null,
   "id": "b0262d12",
   "metadata": {},
   "outputs": [],
   "source": [
    "b"
   ]
  },
  {
   "cell_type": "code",
   "execution_count": null,
   "id": "e2a0b3f9",
   "metadata": {},
   "outputs": [],
   "source": [
    "c = 5   # variable global\n",
    "\n",
    "def prueba(a):\n",
    "    _c = 1\n",
    "    _a = a * 2\n",
    "    return _a * _c   # aquí estoy multiplicando mis variables locales"
   ]
  },
  {
   "cell_type": "code",
   "execution_count": null,
   "id": "8de2664c",
   "metadata": {},
   "outputs": [],
   "source": [
    "a = 2\n",
    "\n",
    "prueba(a)"
   ]
  },
  {
   "cell_type": "code",
   "execution_count": null,
   "id": "ef343ef6",
   "metadata": {},
   "outputs": [],
   "source": [
    "c"
   ]
  },
  {
   "cell_type": "code",
   "execution_count": null,
   "id": "5b73eb49",
   "metadata": {},
   "outputs": [],
   "source": [
    "## ... pero esto no sucede igual para todos los tipos de variables:\n",
    "\n",
    "## no hay que generar variables locales que tengan el mismo nombre que el input\n",
    "# para evitar confusión\n",
    "\n",
    "def borrador(lista):\n",
    "    _lista = lista.copy()\n",
    "    _lista.append(1)\n",
    "    return _lista\n"
   ]
  },
  {
   "cell_type": "code",
   "execution_count": null,
   "id": "cb9dfe34",
   "metadata": {},
   "outputs": [],
   "source": [
    "algo = [1,2,3,4]\n",
    "\n",
    "print(borrador(algo))\n",
    "\n",
    "print(algo)"
   ]
  },
  {
   "cell_type": "markdown",
   "id": "63fe9513",
   "metadata": {},
   "source": [
    "El valor que toma un parámetro es conocido como su **argumento**. Los argumentos de la funciones se toman de manera ordenada. "
   ]
  },
  {
   "cell_type": "code",
   "execution_count": 54,
   "id": "ef109c9d",
   "metadata": {},
   "outputs": [],
   "source": [
    "def potencia(x,y):\n",
    "    print(x**y)"
   ]
  },
  {
   "cell_type": "code",
   "execution_count": 55,
   "id": "dbc136ba",
   "metadata": {
    "scrolled": true
   },
   "outputs": [
    {
     "name": "stdout",
     "output_type": "stream",
     "text": [
      "8\n"
     ]
    }
   ],
   "source": [
    "potencia(2,3)"
   ]
  },
  {
   "cell_type": "code",
   "execution_count": 56,
   "id": "16cb2fc0",
   "metadata": {},
   "outputs": [
    {
     "name": "stdout",
     "output_type": "stream",
     "text": [
      "9\n"
     ]
    }
   ],
   "source": [
    "potencia(3,2)"
   ]
  },
  {
   "cell_type": "markdown",
   "id": "151407b5",
   "metadata": {},
   "source": [
    "De igual manera, podemos pasar un argumento a cualquier función de forma explícita, mencionando el nombre del parámetro seguido del argumento. De esta manera, el orden los argumentos no son relevantes, siempre y cuando tomemeos el nombre del parámetro correcto"
   ]
  },
  {
   "cell_type": "code",
   "execution_count": 57,
   "id": "852aa531",
   "metadata": {},
   "outputs": [
    {
     "name": "stdout",
     "output_type": "stream",
     "text": [
      "8\n"
     ]
    }
   ],
   "source": [
    "potencia(x=2,y=3)"
   ]
  },
  {
   "cell_type": "code",
   "execution_count": 58,
   "id": "faed9275",
   "metadata": {},
   "outputs": [
    {
     "name": "stdout",
     "output_type": "stream",
     "text": [
      "8\n"
     ]
    }
   ],
   "source": [
    "potencia(y=3,x=2) #sí le dicen quién es quién no importa el orden"
   ]
  },
  {
   "cell_type": "code",
   "execution_count": 59,
   "id": "6a89bf35",
   "metadata": {},
   "outputs": [
    {
     "ename": "SyntaxError",
     "evalue": "positional argument follows keyword argument (894357071.py, line 1)",
     "output_type": "error",
     "traceback": [
      "\u001b[1;36m  Cell \u001b[1;32mIn[59], line 1\u001b[1;36m\u001b[0m\n\u001b[1;33m    potencia(x=1, 3)\u001b[0m\n\u001b[1;37m                   ^\u001b[0m\n\u001b[1;31mSyntaxError\u001b[0m\u001b[1;31m:\u001b[0m positional argument follows keyword argument\n"
     ]
    }
   ],
   "source": [
    "potencia(x=1, 3)"
   ]
  },
  {
   "cell_type": "code",
   "execution_count": 60,
   "id": "a121c10b",
   "metadata": {},
   "outputs": [],
   "source": [
    "def potencia_prueba(hola,y):\n",
    "    print(hola**y)"
   ]
  },
  {
   "cell_type": "code",
   "execution_count": 61,
   "id": "a00b926f",
   "metadata": {},
   "outputs": [
    {
     "name": "stdout",
     "output_type": "stream",
     "text": [
      "8\n"
     ]
    }
   ],
   "source": [
    "potencia_prueba(y=3, hola=2)"
   ]
  },
  {
   "cell_type": "code",
   "execution_count": null,
   "id": "31206024",
   "metadata": {},
   "outputs": [],
   "source": [
    "potencia_prueba(y=3,2) #sí hay que ponerle el nombre"
   ]
  },
  {
   "cell_type": "markdown",
   "id": "1437cb0a",
   "metadata": {},
   "source": [
    "Cómo definimos una función que le pida al usuario un entero?"
   ]
  },
  {
   "cell_type": "code",
   "execution_count": null,
   "id": "d75a21a0",
   "metadata": {},
   "outputs": [],
   "source": [
    "a = int(float(input(\"dame un entero:\")))"
   ]
  },
  {
   "cell_type": "code",
   "execution_count": null,
   "id": "8cdc4ad5",
   "metadata": {},
   "outputs": [],
   "source": [
    "def get_integer():\n",
    "    a = int(float(input(\"dame un entero:\")))\n",
    "    return a\n",
    "\n",
    "def get_n_integers(n=1):\n",
    "    \"\"\"Esto es la ayuda de la función\"\"\"\n",
    "    result = []\n",
    "    \n",
    "    for i in range(n):\n",
    "        result.append(get_integer())\n",
    "    \n",
    "    return result"
   ]
  },
  {
   "cell_type": "code",
   "execution_count": null,
   "id": "7eecd5bc",
   "metadata": {},
   "outputs": [],
   "source": [
    "## ayuda de la función get_n_integesr\n",
    "help(get_n_integers)"
   ]
  },
  {
   "cell_type": "code",
   "execution_count": null,
   "id": "7a0ec389",
   "metadata": {},
   "outputs": [],
   "source": [
    "get_n_integers()"
   ]
  },
  {
   "cell_type": "code",
   "execution_count": null,
   "id": "6207a818",
   "metadata": {},
   "outputs": [],
   "source": [
    "list(range(10,5))   # {x: 10 <= x < 5} = empty"
   ]
  },
  {
   "cell_type": "code",
   "execution_count": null,
   "id": "29880319",
   "metadata": {},
   "outputs": [],
   "source": [
    "list(range(0,-5))   # {x: 0 <= x < -5} = empty"
   ]
  },
  {
   "cell_type": "code",
   "execution_count": null,
   "id": "f971ae4d",
   "metadata": {},
   "outputs": [],
   "source": [
    "get_n_integers(-5)"
   ]
  },
  {
   "cell_type": "code",
   "execution_count": null,
   "id": "4444358e",
   "metadata": {},
   "outputs": [],
   "source": [
    "list_1 = get_n_integers(5)"
   ]
  },
  {
   "cell_type": "code",
   "execution_count": null,
   "id": "7c88f0b7",
   "metadata": {},
   "outputs": [],
   "source": [
    "list_1"
   ]
  },
  {
   "cell_type": "code",
   "execution_count": null,
   "id": "12634a26",
   "metadata": {},
   "outputs": [],
   "source": [
    "def operacion_rara(x, y, z=1, w=2):\n",
    "    return x**2 + y*z - w"
   ]
  },
  {
   "cell_type": "code",
   "execution_count": null,
   "id": "fdebb0ab",
   "metadata": {},
   "outputs": [],
   "source": [
    "operacion_rara(1, 2)  # x=1  y=2  z=1  w=2"
   ]
  },
  {
   "cell_type": "code",
   "execution_count": null,
   "id": "a3f4afd6",
   "metadata": {},
   "outputs": [],
   "source": [
    "operacion_rara(get_integer(), 2)  # x=get_integer()  y=2  z=1  w=2"
   ]
  },
  {
   "cell_type": "code",
   "execution_count": null,
   "id": "4aba19b9",
   "metadata": {},
   "outputs": [],
   "source": [
    "a = 2\n",
    "b = 4\n",
    "\n",
    "operacion_rara(a, b)  # x=a  y=b  z=1  w=2"
   ]
  },
  {
   "cell_type": "code",
   "execution_count": null,
   "id": "92456b71",
   "metadata": {},
   "outputs": [],
   "source": [
    "help(operacion_rara)"
   ]
  },
  {
   "cell_type": "markdown",
   "id": "8e60c66b",
   "metadata": {},
   "source": [
    "## El `return` keyword. "
   ]
  },
  {
   "cell_type": "markdown",
   "id": "4ae84f74",
   "metadata": {},
   "source": [
    "En muchas ocasiones **no** necesitamos estrictamente observar el valor que arroja una función, sino más bien trabajar con ese valor. \n",
    "\n",
    "Considerando la siguiente función, supongamos que queremos guardar el valor que nos arroja dicha función. En este caso, vemos que **no** podemos usar el valor arrojado por la función `cuadradado`. En efecto, el valor arrojado por la función no es nada: `None`. "
   ]
  },
  {
   "cell_type": "code",
   "execution_count": null,
   "id": "f7ebc51e",
   "metadata": {},
   "outputs": [],
   "source": [
    "def cuadrado(x):\n",
    "    print(x**2)"
   ]
  },
  {
   "cell_type": "code",
   "execution_count": null,
   "id": "4f12496c",
   "metadata": {},
   "outputs": [],
   "source": [
    "cuadrado(2)"
   ]
  },
  {
   "cell_type": "code",
   "execution_count": null,
   "id": "40c5d7ce",
   "metadata": {},
   "outputs": [],
   "source": [
    "sq2 = cuadrado(2)\n",
    "\n",
    "print(sq2)"
   ]
  },
  {
   "cell_type": "code",
   "execution_count": null,
   "id": "fde306d4",
   "metadata": {},
   "outputs": [],
   "source": [
    "sq2"
   ]
  },
  {
   "cell_type": "code",
   "execution_count": null,
   "id": "67374820",
   "metadata": {},
   "outputs": [],
   "source": [
    "def cuadrado(x):\n",
    "    x**2"
   ]
  },
  {
   "cell_type": "code",
   "execution_count": null,
   "id": "5e7c574b",
   "metadata": {},
   "outputs": [],
   "source": [
    "sq2 = cuadrado(2)\n",
    "\n",
    "print(sq2)"
   ]
  },
  {
   "cell_type": "code",
   "execution_count": null,
   "id": "ad683d1e",
   "metadata": {},
   "outputs": [],
   "source": [
    "sq2"
   ]
  },
  {
   "cell_type": "code",
   "execution_count": null,
   "id": "e16cc64b",
   "metadata": {},
   "outputs": [],
   "source": [
    "a = print(2)"
   ]
  },
  {
   "cell_type": "code",
   "execution_count": null,
   "id": "ee528eaa",
   "metadata": {},
   "outputs": [],
   "source": [
    "print(a)"
   ]
  },
  {
   "cell_type": "code",
   "execution_count": null,
   "id": "ed9e1817",
   "metadata": {},
   "outputs": [],
   "source": [
    "pot = pow(3,5)\n",
    "\n",
    "print(pot)"
   ]
  },
  {
   "cell_type": "markdown",
   "id": "a0c881cd",
   "metadata": {},
   "source": [
    "Para poder obtener el valor de una función ocupamos el keyword `return`, el cual nos arroja un valor (o valores) deseados creados dentro de una función"
   ]
  },
  {
   "cell_type": "code",
   "execution_count": null,
   "id": "3de1e99a",
   "metadata": {},
   "outputs": [],
   "source": [
    "def cuadrado(x):\n",
    "    return x**2"
   ]
  },
  {
   "cell_type": "code",
   "execution_count": null,
   "id": "9b70ac61",
   "metadata": {
    "scrolled": false
   },
   "outputs": [],
   "source": [
    "cuadrado(2)"
   ]
  },
  {
   "cell_type": "code",
   "execution_count": null,
   "id": "37f70933",
   "metadata": {},
   "outputs": [],
   "source": [
    "sq2 = cuadrado(2)"
   ]
  },
  {
   "cell_type": "code",
   "execution_count": null,
   "id": "d63c3c06",
   "metadata": {},
   "outputs": [],
   "source": [
    "sq2"
   ]
  },
  {
   "cell_type": "code",
   "execution_count": null,
   "id": "b063eb44",
   "metadata": {},
   "outputs": [],
   "source": [
    "type(sq2)"
   ]
  },
  {
   "cell_type": "code",
   "execution_count": null,
   "id": "f84b6266",
   "metadata": {},
   "outputs": [],
   "source": [
    "print(sq2+2)"
   ]
  },
  {
   "cell_type": "code",
   "execution_count": null,
   "id": "90a78add",
   "metadata": {},
   "outputs": [],
   "source": [
    "def cuadrado(x,y):\n",
    "    return (x**2, y)"
   ]
  },
  {
   "cell_type": "code",
   "execution_count": null,
   "id": "a9f1d5de",
   "metadata": {},
   "outputs": [],
   "source": [
    "def cuadrado(x,y):\n",
    "    return x**2\n",
    "    return y"
   ]
  },
  {
   "cell_type": "code",
   "execution_count": null,
   "id": "89a0e31c",
   "metadata": {},
   "outputs": [],
   "source": [
    "cuadrado(2,3)"
   ]
  },
  {
   "cell_type": "code",
   "execution_count": null,
   "id": "4fefa1bf",
   "metadata": {},
   "outputs": [],
   "source": [
    "def cuadrado(x,y):\n",
    "    for z in range(x):   # z toma valores en [0,1,2,3,4]\n",
    "        print(f\"el valor de z es {z}\")\n",
    "        if z==10:\n",
    "            return x #aquí se salió, está funcionando como un break\n",
    "    \n",
    "    return y #nunca llegó. Está fuera del for\n",
    "    ## más instrucciones que no se ejecutarían\n"
   ]
  },
  {
   "cell_type": "code",
   "execution_count": null,
   "id": "5b2fa823",
   "metadata": {
    "scrolled": false
   },
   "outputs": [],
   "source": [
    "cuadrado(20,3)"
   ]
  },
  {
   "cell_type": "code",
   "execution_count": null,
   "id": "495670de",
   "metadata": {},
   "outputs": [],
   "source": [
    "def cuadrado(x,y):\n",
    "    for z in range(x):\n",
    "        print(f\"el valor de z es {z}\")\n",
    "        if z==10:\n",
    "            return(x) #aquí se salió, está funcionando como un break\n",
    "        return(y) #está dentro del for \n"
   ]
  },
  {
   "cell_type": "code",
   "execution_count": null,
   "id": "e54ea899",
   "metadata": {},
   "outputs": [],
   "source": [
    "cuadrado(20,3)"
   ]
  },
  {
   "cell_type": "markdown",
   "id": "e17d583c",
   "metadata": {},
   "source": [
    "**Hint:** Dentro de una función, normalmente se ocupa el `print` para saber el estado del programa, e.g, un proceso largo sobre el cual nos gustaría saber en qué punto se encuentra el proceso (depurar). El `return`es el valor sobre el cual nos gutaría trabajar. "
   ]
  },
  {
   "cell_type": "markdown",
   "id": "892fb143",
   "metadata": {},
   "source": [
    "## Argumentos Opcionales\n",
    "En python podemos definir funciones cuyos parámetros toman algún argumento predefinido. Estos parámetros se conocen como **argumentos opcionales**"
   ]
  },
  {
   "cell_type": "code",
   "execution_count": null,
   "id": "a95e24af",
   "metadata": {},
   "outputs": [],
   "source": [
    "def distancia(x1, y1, x2=0, y2=0):\n",
    "    return ((x2 - x1)**2 + (y2 - y1)**2)**(1/2)"
   ]
  },
  {
   "cell_type": "code",
   "execution_count": null,
   "id": "78dcc26f",
   "metadata": {},
   "outputs": [],
   "source": [
    "# x1=1   y1=2   x2=0   y2=0\n",
    "distancia(1,2)   # si no hay parámetros toma default"
   ]
  },
  {
   "cell_type": "code",
   "execution_count": null,
   "id": "193f2a9e",
   "metadata": {},
   "outputs": [],
   "source": [
    "# x1=1   y1=2   x2=3   y2=0\n",
    "distancia(1,2,3)   # si no hay parámetros toma default"
   ]
  },
  {
   "cell_type": "code",
   "execution_count": null,
   "id": "a9adf367",
   "metadata": {},
   "outputs": [],
   "source": [
    "# x1=1   y1=2   x2=1.5   y2=2.1\n",
    "distancia(1, 2, 1.5, 2.1) #si sí hay toma esos valores"
   ]
  },
  {
   "cell_type": "code",
   "execution_count": null,
   "id": "596ffcf9",
   "metadata": {},
   "outputs": [],
   "source": [
    "#puede cambiar el orden\n",
    "distancia(x2=1, x1=2, y2=1.5, y1=2.1) #si sí hay toma esos valores"
   ]
  },
  {
   "cell_type": "code",
   "execution_count": null,
   "id": "f06822e8",
   "metadata": {
    "scrolled": true
   },
   "outputs": [],
   "source": [
    "### x1 = 1, y1= 2, \n",
    "distancia(1, 2, y2=1.5, x2=2.1) #si no se definen, to toma en orden "
   ]
  },
  {
   "cell_type": "code",
   "execution_count": null,
   "id": "d97b49d4",
   "metadata": {},
   "outputs": [],
   "source": [
    "distancia(y2=1, 2, x2=1.5, 2.1)"
   ]
  },
  {
   "cell_type": "markdown",
   "id": "83778378",
   "metadata": {},
   "source": [
    "Ejemplo: Crear una función para Cambiar todas las mayúsculas de un string dado a minúsculas y viceversa."
   ]
  },
  {
   "cell_type": "code",
   "execution_count": null,
   "id": "35f7d3b8",
   "metadata": {},
   "outputs": [],
   "source": [
    "cadena = \"eFgRhYgDF\""
   ]
  },
  {
   "cell_type": "code",
   "execution_count": null,
   "id": "cf27a4ba",
   "metadata": {},
   "outputs": [],
   "source": [
    "result = \"\"\n",
    "\n",
    "for c in cadena:\n",
    "    if c.islower():\n",
    "        result += c.upper()\n",
    "    else:\n",
    "        result += c.lower()\n",
    "\n",
    "result"
   ]
  },
  {
   "cell_type": "code",
   "execution_count": null,
   "id": "2f31cce0",
   "metadata": {},
   "outputs": [],
   "source": [
    "# convertimos el algoritmo a función:\n",
    "\n",
    "def cambia_letras(cadena):\n",
    "    result = \"\"\n",
    "    for c in cadena:\n",
    "        if c.islower():\n",
    "            result += c.upper()\n",
    "        else:\n",
    "            result += c.lower()\n",
    "            \n",
    "    return result\n",
    "    \n",
    "    \n",
    "cambia_letras(cadena)\n"
   ]
  },
  {
   "cell_type": "code",
   "execution_count": null,
   "id": "834c7174",
   "metadata": {
    "scrolled": true
   },
   "outputs": [],
   "source": [
    "cambia_letras(\"4FdfGDFhgFHfdXCXfhFsfidF\")"
   ]
  },
  {
   "cell_type": "markdown",
   "id": "483fbfa8",
   "metadata": {},
   "source": [
    "## Librerías. "
   ]
  },
  {
   "cell_type": "markdown",
   "id": "73d133b6",
   "metadata": {},
   "source": [
    "En varias ocasiones es necesario hacer uso de funciones definidas previamente. En Python, podemos guardar una colección de **funciones**, constantes y clases dentro de una librería. \n",
    "\n",
    "Al instalar Python contamos con un número de librería que podemos ocupar. Estas librería pertencen a un conjunto llamada librerías estándar [librería estándar](https://docs.python.org/3/py-modindex.html)"
   ]
  },
  {
   "cell_type": "markdown",
   "id": "8b05f340",
   "metadata": {},
   "source": [
    "Para hacer uso de una libería es necesario importarla \n",
    "**Tres maneras para importar librerías en Python**\n",
    "```python\n",
    "import libreria\n",
    "from libreria import modulo\n",
    "import librerias as lib\n",
    "```"
   ]
  },
  {
   "cell_type": "code",
   "execution_count": null,
   "id": "2e596721",
   "metadata": {},
   "outputs": [],
   "source": [
    "pip install numpy"
   ]
  },
  {
   "cell_type": "code",
   "execution_count": null,
   "id": "6c3bc304",
   "metadata": {},
   "outputs": [],
   "source": [
    "import numpy as np"
   ]
  },
  {
   "cell_type": "markdown",
   "id": "6d40f74d",
   "metadata": {},
   "source": [
    "pip install pkg_name --proxy https://xcvxfg\n",
    "\n",
    "pip install pkg_name==n_version"
   ]
  },
  {
   "cell_type": "code",
   "execution_count": null,
   "id": "b67e7be5",
   "metadata": {},
   "outputs": [],
   "source": [
    "#Importar toda la librería math\n",
    "import math"
   ]
  },
  {
   "cell_type": "code",
   "execution_count": null,
   "id": "4c8ce126",
   "metadata": {},
   "outputs": [],
   "source": [
    "dir(math)"
   ]
  },
  {
   "cell_type": "markdown",
   "id": "102b3c7f",
   "metadata": {},
   "source": [
    "Importada una librería, accedemos los valores dentro de la librería por medio de la sintáxis: \n",
    "```python \n",
    "import lib \n",
    "lib.func()\n",
    "\n",
    "```"
   ]
  },
  {
   "cell_type": "code",
   "execution_count": null,
   "id": "801b8642",
   "metadata": {},
   "outputs": [],
   "source": [
    "pi"
   ]
  },
  {
   "cell_type": "code",
   "execution_count": null,
   "id": "9794f475",
   "metadata": {},
   "outputs": [],
   "source": [
    "math.e"
   ]
  },
  {
   "cell_type": "code",
   "execution_count": null,
   "id": "9b9766d6",
   "metadata": {},
   "outputs": [],
   "source": [
    "math.tan(0)"
   ]
  },
  {
   "cell_type": "code",
   "execution_count": null,
   "id": "b71862e5",
   "metadata": {},
   "outputs": [],
   "source": [
    "math.pi"
   ]
  },
  {
   "cell_type": "code",
   "execution_count": null,
   "id": "13f597ab",
   "metadata": {},
   "outputs": [],
   "source": [
    "#Acceder a una función dentro de math\n",
    "math.cos(math.pi)"
   ]
  },
  {
   "cell_type": "code",
   "execution_count": null,
   "id": "59d8f5e6",
   "metadata": {},
   "outputs": [],
   "source": [
    "dir(math)"
   ]
  },
  {
   "cell_type": "code",
   "execution_count": null,
   "id": "18a9ad06",
   "metadata": {},
   "outputs": [],
   "source": [
    "pow(2,30, 10)"
   ]
  },
  {
   "cell_type": "code",
   "execution_count": null,
   "id": "6aca5185",
   "metadata": {},
   "outputs": [],
   "source": [
    "math.pow(2,30) % 10"
   ]
  },
  {
   "cell_type": "code",
   "execution_count": null,
   "id": "ec74fb2d",
   "metadata": {},
   "outputs": [],
   "source": [
    "math.pow(2,math.pi)"
   ]
  },
  {
   "cell_type": "code",
   "execution_count": null,
   "id": "2bd9eed7",
   "metadata": {},
   "outputs": [],
   "source": [
    "#Una librería puede contener de igual manera constantes\n",
    "math.pi"
   ]
  },
  {
   "cell_type": "markdown",
   "id": "5578de82",
   "metadata": {},
   "source": [
    "Podemos importar únicamente un elemento de una librería por medio de la sintáxis: \n",
    "```python\n",
    "from lib import element\n",
    "\n",
    "\n",
    "```"
   ]
  },
  {
   "cell_type": "markdown",
   "id": "fef849a6",
   "metadata": {},
   "source": [
    "Si importamos un elementos de esta manera, no es necesario hacer un llamada a la librería de la cual depende el elemento"
   ]
  },
  {
   "cell_type": "code",
   "execution_count": null,
   "id": "8cd99f54",
   "metadata": {},
   "outputs": [],
   "source": [
    "#math = 1"
   ]
  },
  {
   "cell_type": "code",
   "execution_count": null,
   "id": "11994a11",
   "metadata": {},
   "outputs": [],
   "source": [
    "from math import e, log, pi"
   ]
  },
  {
   "cell_type": "code",
   "execution_count": null,
   "id": "eb9e5d6d",
   "metadata": {},
   "outputs": [],
   "source": [
    "e"
   ]
  },
  {
   "cell_type": "code",
   "execution_count": null,
   "id": "ea00b772",
   "metadata": {},
   "outputs": [],
   "source": [
    "pi"
   ]
  },
  {
   "cell_type": "code",
   "execution_count": null,
   "id": "e3ed3b09",
   "metadata": {},
   "outputs": [],
   "source": [
    "log"
   ]
  },
  {
   "cell_type": "code",
   "execution_count": null,
   "id": "5159f1f3",
   "metadata": {},
   "outputs": [],
   "source": [
    "help(log)"
   ]
  },
  {
   "cell_type": "code",
   "execution_count": null,
   "id": "5b0b5205",
   "metadata": {
    "scrolled": true
   },
   "outputs": [],
   "source": [
    "log(e)   #math.log(math.e)"
   ]
  },
  {
   "cell_type": "code",
   "execution_count": null,
   "id": "8b96cd24",
   "metadata": {},
   "outputs": [],
   "source": [
    "type(pi)"
   ]
  },
  {
   "cell_type": "code",
   "execution_count": null,
   "id": "fb0c9918",
   "metadata": {},
   "outputs": [],
   "source": [
    "pi+3"
   ]
  },
  {
   "cell_type": "code",
   "execution_count": null,
   "id": "10121295",
   "metadata": {},
   "outputs": [],
   "source": [
    "%%timeit\n",
    "log(pi)"
   ]
  },
  {
   "cell_type": "code",
   "execution_count": null,
   "id": "04fdfefd",
   "metadata": {},
   "outputs": [],
   "source": [
    "%%timeit\n",
    "math.log(math.pi)"
   ]
  },
  {
   "cell_type": "code",
   "execution_count": null,
   "id": "28f415c5",
   "metadata": {},
   "outputs": [],
   "source": [
    "pi = 3   ## print = 1"
   ]
  },
  {
   "cell_type": "code",
   "execution_count": null,
   "id": "7889a35e",
   "metadata": {},
   "outputs": [],
   "source": [
    "pi"
   ]
  },
  {
   "cell_type": "code",
   "execution_count": null,
   "id": "cc601a14",
   "metadata": {},
   "outputs": [],
   "source": [
    "math.pi"
   ]
  },
  {
   "cell_type": "markdown",
   "id": "c477e512",
   "metadata": {},
   "source": [
    "Finalmente, podemos hacer un llamada a toda la librería o a un elemento de esta y asignarle algún otro nombre: \n",
    "\n",
    "Importamos la librería `lib` y la renombrarmos `another_name`\n",
    "\n",
    "```python\n",
    "import lib as another_name\n",
    "```\n",
    "\n",
    "Importamos `element` de `lib` y la renombrarmos `el`\n",
    "\n",
    "```python\n",
    "from lib import element as el\n",
    "```"
   ]
  },
  {
   "cell_type": "code",
   "execution_count": null,
   "id": "f93e6a09",
   "metadata": {},
   "outputs": [],
   "source": [
    "import math as m"
   ]
  },
  {
   "cell_type": "code",
   "execution_count": null,
   "id": "dce8e4d4",
   "metadata": {},
   "outputs": [],
   "source": [
    "m"
   ]
  },
  {
   "cell_type": "code",
   "execution_count": null,
   "id": "8ad5aa2d",
   "metadata": {},
   "outputs": [],
   "source": [
    "dir(m)"
   ]
  },
  {
   "cell_type": "code",
   "execution_count": null,
   "id": "9eacdc09",
   "metadata": {
    "scrolled": true
   },
   "outputs": [],
   "source": [
    "m.exp(2)"
   ]
  },
  {
   "cell_type": "code",
   "execution_count": null,
   "id": "fa787082",
   "metadata": {},
   "outputs": [],
   "source": [
    "m.log(m.pi)"
   ]
  },
  {
   "cell_type": "code",
   "execution_count": null,
   "id": "435d9a53",
   "metadata": {},
   "outputs": [],
   "source": [
    "from math import log as ln"
   ]
  },
  {
   "cell_type": "code",
   "execution_count": null,
   "id": "9c336c19",
   "metadata": {},
   "outputs": [],
   "source": [
    "ln(m.e)"
   ]
  },
  {
   "cell_type": "code",
   "execution_count": null,
   "id": "d7fb5cd4",
   "metadata": {},
   "outputs": [],
   "source": [
    "from math import exp as exponential\n",
    "exponential(2)"
   ]
  },
  {
   "cell_type": "code",
   "execution_count": null,
   "id": "e339ef96",
   "metadata": {
    "scrolled": false
   },
   "outputs": [],
   "source": [
    "%whos"
   ]
  },
  {
   "cell_type": "code",
   "execution_count": null,
   "id": "79c29737",
   "metadata": {},
   "outputs": [],
   "source": [
    "import math"
   ]
  },
  {
   "cell_type": "code",
   "execution_count": null,
   "id": "0c1a4fa1",
   "metadata": {
    "scrolled": true
   },
   "outputs": [],
   "source": [
    "math.exp(2)"
   ]
  },
  {
   "cell_type": "code",
   "execution_count": null,
   "id": "a51b2976",
   "metadata": {
    "scrolled": true
   },
   "outputs": [],
   "source": [
    "dir(np)"
   ]
  },
  {
   "cell_type": "code",
   "execution_count": null,
   "id": "95c35390",
   "metadata": {},
   "outputs": [],
   "source": [
    "np.e"
   ]
  },
  {
   "cell_type": "code",
   "execution_count": null,
   "id": "dbecc3ab",
   "metadata": {},
   "outputs": [],
   "source": [
    "math.e"
   ]
  },
  {
   "cell_type": "markdown",
   "id": "3a6efaf2",
   "metadata": {},
   "source": [
    "> <h2 style=\"color:green\"> $\\ll\\!\\!\\prec\\quad$ Ejercicios $\\quad\\succ\\!\\!\\gg$ </h2>"
   ]
  },
  {
   "cell_type": "markdown",
   "id": "936a1360",
   "metadata": {},
   "source": [
    "1. Definir una función que tenga de argumento un número `n` y que te imprima una lista de todos los números impares desde cero hasta n"
   ]
  },
  {
   "cell_type": "code",
   "execution_count": null,
   "id": "8aaabef4",
   "metadata": {},
   "outputs": [],
   "source": [
    "def impares(n):\n",
    "    return list(range(1,n+1,2))"
   ]
  },
  {
   "cell_type": "code",
   "execution_count": null,
   "id": "80766621",
   "metadata": {},
   "outputs": [],
   "source": [
    "impares(10)\n"
   ]
  },
  {
   "cell_type": "code",
   "execution_count": null,
   "id": "234f6ea8",
   "metadata": {},
   "outputs": [],
   "source": [
    "n = 10\n",
    "result = []\n",
    "\n",
    "for i in range(n+1):\n",
    "    if i%2 == 1:\n",
    "        result.append(i)\n",
    "        \n",
    "result"
   ]
  },
  {
   "cell_type": "markdown",
   "id": "90cee42e",
   "metadata": {},
   "source": [
    "2. Generar una función que imprima los primeros n números de la sucesión de Fibonacci:\n",
    "\n",
    "$$f_0 = 0,\\quad f_1 = 1,\\quad f_n = f_{n-1} + f_{n-2}$$"
   ]
  },
  {
   "cell_type": "code",
   "execution_count": null,
   "id": "8c013b50",
   "metadata": {},
   "outputs": [],
   "source": [
    "0, 1, 1, 2, 3, 5, 8, 13, "
   ]
  },
  {
   "cell_type": "code",
   "execution_count": null,
   "id": "b61e3499",
   "metadata": {},
   "outputs": [],
   "source": [
    "def fibonacci(n):\n",
    "    \"\"\"\n",
    "    devuelve los primeros n números de fibonacci\n",
    "    \"\"\"\n",
    "    result = [0, 1]\n",
    "\n",
    "    if n <= 0:\n",
    "        return []\n",
    "    elif n == 1:\n",
    "        return [0]\n",
    "    for i in range(2, n):\n",
    "        number = result[i-1] + result[i-2]\n",
    "        result.append(number)\n",
    "\n",
    "    return result"
   ]
  },
  {
   "cell_type": "code",
   "execution_count": null,
   "id": "20e524ab",
   "metadata": {},
   "outputs": [],
   "source": [
    "fibonacci(20)"
   ]
  },
  {
   "cell_type": "markdown",
   "id": "445f1389",
   "metadata": {},
   "source": [
    "$$a_n = 1 + 3a_{n-1}, \\quad a_0 = 2$$"
   ]
  },
  {
   "cell_type": "code",
   "execution_count": null,
   "id": "515fdd5d",
   "metadata": {},
   "outputs": [],
   "source": [
    "n = 2\n",
    "n = 1  -->  a_1 = 1 + 3a_0 = 7\n",
    "n = 2  -->  a_2 = 1 + 3a_1 = 22"
   ]
  },
  {
   "cell_type": "markdown",
   "id": "34b1da0a",
   "metadata": {},
   "source": [
    "Proporción aurea:\n",
    "\n",
    "$$\\psi = \\lim_{n\\to\\infty} \\frac{f_{n+1}}{f_n}$$"
   ]
  },
  {
   "cell_type": "code",
   "execution_count": null,
   "id": "a498c8aa",
   "metadata": {},
   "outputs": [],
   "source": [
    "fibo = fibonacci(50)\n",
    "\n",
    "fibo[-1] / fibo[-2]"
   ]
  },
  {
   "cell_type": "code",
   "execution_count": null,
   "id": "b81ccb44",
   "metadata": {},
   "outputs": [],
   "source": [
    "10 / 1.618"
   ]
  },
  {
   "cell_type": "code",
   "execution_count": null,
   "id": "7e62d73b",
   "metadata": {},
   "outputs": [],
   "source": [
    "fibo"
   ]
  },
  {
   "cell_type": "code",
   "execution_count": null,
   "id": "3263e2fd",
   "metadata": {},
   "outputs": [],
   "source": []
  },
  {
   "cell_type": "code",
   "execution_count": null,
   "id": "ab6ac4a6",
   "metadata": {},
   "outputs": [],
   "source": [
    "def fibonacci(n):\n",
    "    if n==1:\n",
    "        print(0)\n",
    "    if n>=2:\n",
    "        resultado = [0,1]\n",
    "        for i in range(2,n):\n",
    "            fibo = resultado[i-1] + resultado[i-2]\n",
    "            resultado.append(fibo)\n",
    "\n",
    "        print(resultado)\n",
    "        \n",
    "fibonacci(10)"
   ]
  },
  {
   "cell_type": "code",
   "execution_count": null,
   "id": "e218244d",
   "metadata": {},
   "outputs": [],
   "source": [
    "def fibonacci(n):\n",
    "    c = [0,1]\n",
    "    if n==1:\n",
    "        return(0)\n",
    "    else:\n",
    "        for i in range(0,n-2):\n",
    "            c.append(c[i]+c[i+1])\n",
    "        return(c)"
   ]
  },
  {
   "cell_type": "markdown",
   "id": "e743a977",
   "metadata": {},
   "source": [
    "3. Construir una función que tome como argumentos una lista y un valor objetivo. La función debe dar como resultado los indíces de aquellas parejas de números que sumen el valor objetivo.\n",
    "\n",
    "Ejemplo:\n",
    "\n",
    "```\n",
    "lista = [1,2,3,4,5,6,7]\n",
    "obj = 5\n",
    "\n",
    "resultado = [(0,3), (1,2)]\n",
    "```"
   ]
  },
  {
   "cell_type": "code",
   "execution_count": null,
   "id": "fd713055",
   "metadata": {},
   "outputs": [],
   "source": [
    "lista = [1,2,3,4,5,6,7]\n",
    "\n",
    "lista[1] + lista[2]"
   ]
  },
  {
   "cell_type": "code",
   "execution_count": null,
   "id": "f52b0b14",
   "metadata": {},
   "outputs": [],
   "source": [
    "\n",
    "def localiza_parejas(lista, obj):\n",
    "    result = []\n",
    "\n",
    "    for i in range(len(lista)):\n",
    "        for j in range(i, len(lista)):\n",
    "            if (lista[i] + lista[j] == obj):\n",
    "                result.append((i,j))\n",
    "\n",
    "    return result"
   ]
  },
  {
   "cell_type": "code",
   "execution_count": null,
   "id": "d365671c",
   "metadata": {},
   "outputs": [],
   "source": [
    "lista = [1, 2, 3, 4, 5, 6, 7, -2, -4, -1, -1, -2, 4, 1, 2, 6]\n",
    "obj = 6\n",
    "\n",
    "result = localiza_parejas(lista, obj)\n",
    "result"
   ]
  },
  {
   "cell_type": "code",
   "execution_count": null,
   "id": "3f1ec47e",
   "metadata": {},
   "outputs": [],
   "source": [
    "# comprobamos que todas suman el objetivo:\n",
    "for i,j in result:\n",
    "    print(lista[i] + lista[j])"
   ]
  },
  {
   "cell_type": "code",
   "execution_count": null,
   "id": "f086e8a7",
   "metadata": {},
   "outputs": [],
   "source": [
    "# creamos una lista con los números que suman el objetivo:\n",
    "numeros = []\n",
    "\n",
    "for i,j in result:\n",
    "    numeros.append((lista[i],lista[j]))\n",
    "\n",
    "numeros"
   ]
  },
  {
   "cell_type": "code",
   "execution_count": null,
   "id": "7d907af5",
   "metadata": {},
   "outputs": [],
   "source": [
    "def busca_obj(lista, obj):\n",
    "    for x in lista:\n",
    "        for y in lista:\n",
    "            if x+y == obj:\n",
    "                idx_x = lista.index(x)\n",
    "                idx_y = lista.index(y)\n",
    "                if idx_x <= idx_y:\n",
    "                    print((idx_x, idx_y))"
   ]
  },
  {
   "cell_type": "code",
   "execution_count": null,
   "id": "59817c53",
   "metadata": {},
   "outputs": [],
   "source": [
    "lista = [1,2,3,4,5,6,7]\n",
    "obj = 7\n",
    "\n",
    "busca_obj(lista, obj)"
   ]
  },
  {
   "cell_type": "code",
   "execution_count": null,
   "id": "35814123",
   "metadata": {},
   "outputs": [],
   "source": [
    "###  two sum problem\n",
    "\n",
    "\n",
    "### orden n^2  --> si len(lista) = n, hacemos n**2 pasos\n",
    "\n",
    "def funcion3(lista, objetivo):\n",
    "    res=[]\n",
    "    \n",
    "    for x in range(len(lista)):\n",
    "        for y in range(len(lista)):\n",
    "            if lista[x] + lista[y] == objetivo:\n",
    "                if x < y:\n",
    "                    res.append((x,y))\n",
    "    \n",
    "    return res"
   ]
  },
  {
   "cell_type": "code",
   "execution_count": null,
   "id": "bd3cad2b",
   "metadata": {},
   "outputs": [],
   "source": [
    "lista = [1,2,3,4,5,6,7]\n",
    "\n",
    "res = funcion3(lista, 7)\n",
    "\n",
    "res"
   ]
  },
  {
   "cell_type": "code",
   "execution_count": null,
   "id": "775f19b1",
   "metadata": {},
   "outputs": [],
   "source": [
    "for item in res:\n",
    "    x = item[0]\n",
    "    y = item[1]\n",
    "    print(f\"{lista[x]} + {lista[y]} = {lista[x]+lista[y]}\" )"
   ]
  },
  {
   "cell_type": "code",
   "execution_count": null,
   "id": "e6c2503d",
   "metadata": {},
   "outputs": [],
   "source": []
  },
  {
   "cell_type": "code",
   "execution_count": null,
   "id": "1ee2752e",
   "metadata": {},
   "outputs": [],
   "source": []
  },
  {
   "cell_type": "code",
   "execution_count": null,
   "id": "83f5ab90",
   "metadata": {},
   "outputs": [],
   "source": [
    "lista = [1,2,3,4,5,6,7]\n",
    "\n",
    "objetivo = 5\n",
    "\n",
    "\n",
    "def find_sum(lista, objetivo):\n",
    "    res=[]\n",
    "\n",
    "    for x in range(len(lista)):\n",
    "        for y in range(len(lista)):\n",
    "            if lista[x] + lista[y] == objetivo:\n",
    "                if x < y:\n",
    "                    res.append((x,y))\n",
    "    \n",
    "    return res"
   ]
  },
  {
   "cell_type": "code",
   "execution_count": null,
   "id": "042a48df",
   "metadata": {},
   "outputs": [],
   "source": [
    "find_sum(lista, objetivo)"
   ]
  },
  {
   "cell_type": "code",
   "execution_count": null,
   "id": "cf85a49c",
   "metadata": {},
   "outputs": [],
   "source": []
  },
  {
   "cell_type": "code",
   "execution_count": null,
   "id": "cf53f3f0",
   "metadata": {},
   "outputs": [],
   "source": []
  },
  {
   "cell_type": "code",
   "execution_count": null,
   "id": "e3503e24",
   "metadata": {},
   "outputs": [],
   "source": []
  },
  {
   "cell_type": "markdown",
   "id": "c82ec500",
   "metadata": {},
   "source": [
    "## **Ejemplo Finanzas: Black Scholes**\n",
    "\n",
    "TC (USD-MXN) = 17.53       (hoy)\n",
    "\n",
    "\n",
    "TC (USD-MXN) =  ???         (1Y)\n",
    "\n",
    "\n",
    "Yo te vendo la opción de comprar 1000 dólares en 1Y a 17 pesos cada dólar.\n",
    "\n",
    "$S_0 = 17.53$\n",
    "\n",
    "$K = 17$\n",
    "\n",
    "$T = 1$\n",
    "\n",
    "$\\sigma = 0.3$   --> no es visible directamente a mercado\n",
    "\n",
    "$r = 0.11$"
   ]
  },
  {
   "cell_type": "markdown",
   "id": "1158268d",
   "metadata": {},
   "source": [
    "** Generalización**\n",
    "\n",
    "$\\epsilon = 1, \\mbox{si es C},$\n",
    "\n",
    "$\\epsilon = -1, \\mbox{si es P}$\n",
    "\n",
    "\n",
    "$$Price = \\epsilon\\Big(S_0\\,\\mathcal{N}(\\epsilon d_1) - K e^{-rT}\\,\\mathcal{N}(\\epsilon d_2)\\Big)$$"
   ]
  },
  {
   "cell_type": "markdown",
   "id": "d2dfd34a",
   "metadata": {},
   "source": [
    "**EJEMPLO FINANZAS:** El valor de una opción call Europea bajo el modelo de **Black-Scholes** está dada por \n",
    "\n",
    "$$\n",
    "    C = S_0\\,\\mathcal{N}(d_1) - K e^{-rT}\\,\\mathcal{N}(d_2)\n",
    "$$\n",
    "\n",
    "De ser una opción *put*, el valor de la opción está dado por\n",
    "\n",
    "$$\n",
    "    P = -S_0\\,\\mathcal{N}(-d_1) + K e^{-rT}\\mathcal{N}(-d_2)\n",
    "$$\n",
    "\n",
    "\n",
    "Donde\n",
    "\n",
    "$$\n",
    "d_1 =  \\frac{\\ln(S_0/K) + T(r + \\sigma^2 /2)}{\\sigma\\sqrt{T}}\\\\\n",
    "d_2 = d_1 - \\sigma \\sqrt{T}\n",
    "$$\n",
    "\n",
    "* $S_t$ es el valor de la acción a tiempo $t$\n",
    "* $K$ es el *strike* de la opción\n",
    "* $r$ es la tasa libre de riesgo\n",
    "* $T$ es el tiempo a vencimiento de la opción en años\n",
    "* $\\sigma$ es la volatidad de la acción\n",
    "* $\\mathcal{N}(z)$ es la función de distribución acumulada de una normal estándar definida como \n",
    "$$\\mathcal{N}(z) = \\frac{1}{\\sqrt{2\\pi}}\\int_{-\\infty}^z \\exp\\left(-\\frac{x^2}{2}\\right) dx$$\n",
    "\n",
    "\n",
    "4. Define la función `option(s, k, r, ttm, sigma, kind=\"call\")` que value una opción por medio del modelo de Black-Scholes. Considera importar las funciones `log`, `sqrt`, `exp` de la librería `math`; importa el elemento `norm` desde `scipy.stats`, la cuál incluye la función para calcular $\\Phi(z)$ desde `norm.cdf(z)`\n",
    "\n",
    "Por medio de la función `option`, calcula el valor de una opción call europea considerando $S= 60$, $K=65$, $T=0.25$, $r = 0.08$, $\\sigma=0.3$\n",
    "\n",
    "---\n",
    "\n",
    "\n",
    "5. La paridad entre un put y un call para el modelo de Black-Scholes está dada por la ecuación\n",
    "\n",
    "$$\n",
    "    P = C - S + K \\exp(-rT) \\\\\n",
    "$$\n",
    "\n",
    "Valida que la paridad se cumple para una opción con parámetros $S= 60$, $K=65$, $T=0.25$, $r = 0.08$, $\\sigma=0.3$. Haz uso de la función `option` definida en el inciso anterior\n",
    "\n",
    "---\n"
   ]
  },
  {
   "cell_type": "code",
   "execution_count": null,
   "id": "b0f24488",
   "metadata": {},
   "outputs": [],
   "source": [
    "pip install scipy"
   ]
  },
  {
   "cell_type": "code",
   "execution_count": null,
   "id": "65b83b3d",
   "metadata": {},
   "outputs": [],
   "source": [
    "from math import log, sqrt, exp\n",
    "\n",
    "from scipy.stats import norm   # funciones relacionadas con la distribución normal"
   ]
  },
  {
   "cell_type": "code",
   "execution_count": null,
   "id": "8d74df53",
   "metadata": {
    "scrolled": true
   },
   "outputs": [],
   "source": [
    "dir(norm)"
   ]
  },
  {
   "cell_type": "code",
   "execution_count": null,
   "id": "e50db20c",
   "metadata": {},
   "outputs": [],
   "source": [
    "norm.cdf(3)"
   ]
  },
  {
   "cell_type": "code",
   "execution_count": null,
   "id": "ddd7c6a5",
   "metadata": {},
   "outputs": [],
   "source": [
    "1 - norm.cdf(2)"
   ]
  },
  {
   "cell_type": "code",
   "execution_count": null,
   "id": "db0f3ed4",
   "metadata": {},
   "outputs": [],
   "source": [
    "norm.cdf(-2)"
   ]
  },
  {
   "cell_type": "markdown",
   "id": "2b756266",
   "metadata": {},
   "source": [
    "$$\n",
    "    C = S_t \\Phi(d_1) - K e^{-rT}\\Phi(d_2)\n",
    "$$\n",
    "\n",
    "De ser una opción *put*, el valor de la opción está dado por\n",
    "\n",
    "$$\n",
    "    P = -S_t \\Phi(-d_1) + K e^{-rT}\\Phi(-d_2)\n",
    "$$\n",
    "\n",
    "\n",
    "Donde\n",
    "\n",
    "$$\n",
    "d_1 =  \\frac{\\ln(S/K) + T(r + \\sigma^2 /2)}{\\sigma\\sqrt{T}}\\\\\n",
    "d_2 = d_1 - \\sigma \\sqrt{T}\n",
    "$$"
   ]
  },
  {
   "cell_type": "code",
   "execution_count": null,
   "id": "6b52d31a",
   "metadata": {},
   "outputs": [],
   "source": [
    "help(log)"
   ]
  },
  {
   "cell_type": "code",
   "execution_count": null,
   "id": "037b94fd",
   "metadata": {},
   "outputs": [],
   "source": [
    "norm.cdf(6)"
   ]
  },
  {
   "cell_type": "code",
   "execution_count": null,
   "id": "90ec439c",
   "metadata": {},
   "outputs": [],
   "source": [
    "def option(s, k, r, ttm, sigma, kind=\"call\"):\n",
    "    \"\"\"\n",
    "    Valora una opción \"call\" o \"put\" europeo bajo el modelo Black & Scholes de 1976. Para referencia ver \n",
    "    https://en.wikipedia.org/wiki/black_model\n",
    "    \n",
    "    Parámetros: \n",
    "    * $s$ es el valor de la acción a tiempo $t$\n",
    "    * $k$ es el *strike* de la opción\n",
    "    * $r$ es la tasa libre de riesgo\n",
    "    * $ttm$ es el tiempo a vencimiento de la opción en años\n",
    "    * $\\sigma$ es la volatidad de la acción\n",
    "    * kind es el tipo de opción (call o put)\n",
    "    \n",
    "    Returns: \n",
    "    El valor/precio/prima de la opción bajo el modelo de BS. \n",
    "    \n",
    "    \"\"\"\n",
    "    \n",
    "    epsilon = 1 if kind==\"call\" else -1\n",
    "    \n",
    "    d1 = (log(s/k)+ttm*(r+(sigma**2)/2)) / (sigma*sqrt(ttm))\n",
    "    d2 = d1 - sigma*sqrt(ttm)\n",
    "    \n",
    "    Fd1 = norm.cdf(d1*epsilon)   ## Phi(d_1)\n",
    "    Fd2 = norm.cdf(d2*epsilon)   ## Phi(d_2)\n",
    "    \n",
    "    option = epsilon*((s*Fd1)-k*exp(-r*ttm)*Fd2)\n",
    "    \n",
    "    return option"
   ]
  },
  {
   "cell_type": "code",
   "execution_count": null,
   "id": "549625f1",
   "metadata": {},
   "outputs": [],
   "source": [
    "help(option)"
   ]
  },
  {
   "cell_type": "markdown",
   "id": "f7782af0",
   "metadata": {},
   "source": [
    ". Define la función `option(s, k, r, ttm, sigma, kind=\"call\")` que value una opción por medio del modelo de Black-Scholes. Considera importar las funciones `log`, `sqrt`, `exp` de la librería `math`; importa el elemento `norm` desde `scipy.stats`, la cuál incluye la función para calcular $\\Phi(z)$ desde `norm.cdf(z)`\n",
    "\n",
    "Por medio de la función `option`, calcula el valor de una opción call europea considerando $S= 100$, $K=100$, $T=1$, $r = 0.05$, $\\sigma=0.2$\n",
    "\n",
    "---"
   ]
  },
  {
   "cell_type": "code",
   "execution_count": null,
   "id": "8bb600af",
   "metadata": {},
   "outputs": [],
   "source": [
    "S0 = 100      # Precio inicial del activo subyacente\n",
    "K = 100       # Precio de ejercicio\n",
    "T = 1         # Tiempo hasta el vencimiento en años\n",
    "r = 0.05      # Tasa de interés libre de riesgo\n",
    "sigma = 0.2   # Volatilidad"
   ]
  },
  {
   "cell_type": "code",
   "execution_count": null,
   "id": "05819dab",
   "metadata": {},
   "outputs": [],
   "source": [
    "# este precio está visto al tiempo T y falta multiplicarlo por el Nocional y el accrual\n",
    "\n",
    "C = option(s=S0, k=K, r=r, ttm=T, sigma=sigma, kind=\"call\")\n",
    "C"
   ]
  },
  {
   "cell_type": "code",
   "execution_count": null,
   "id": "4f8a95d1",
   "metadata": {},
   "outputs": [],
   "source": [
    "#visto en propción al precio del subyacente\n",
    "C / S0"
   ]
  },
  {
   "cell_type": "code",
   "execution_count": null,
   "id": "be62fce8",
   "metadata": {},
   "outputs": [],
   "source": [
    "P = option(s=S0, k=K, r=r, ttm=T, sigma=sigma, kind=\"put\")\n",
    "P"
   ]
  },
  {
   "cell_type": "code",
   "execution_count": null,
   "id": "9dd5907f",
   "metadata": {},
   "outputs": [],
   "source": [
    "P / S0"
   ]
  },
  {
   "cell_type": "code",
   "execution_count": null,
   "id": "ff8dc89a",
   "metadata": {},
   "outputs": [],
   "source": [
    "fwd = S0 - K *exp(-r*T)\n",
    "fwd"
   ]
  },
  {
   "cell_type": "code",
   "execution_count": null,
   "id": "12a3fbe9",
   "metadata": {},
   "outputs": [],
   "source": [
    "C - P"
   ]
  },
  {
   "cell_type": "markdown",
   "id": "07705b77",
   "metadata": {},
   "source": [
    "\n",
    "2. La paridad entre un put y un call para el modelo de Black-Scholes está dada por la ecuación\n",
    "\n",
    "$$\n",
    "    P = C - S + K \\exp(-rT) \\\\\n",
    "$$\n",
    "\n",
    "Valida que la paridad se cumple para una opción con parámetros $S= 100$, $K=100$, $T=1$, $r = 0.05$, $\\sigma=0.2$. Haz uso de la función `option` definida en el inciso anterior\n"
   ]
  },
  {
   "cell_type": "code",
   "execution_count": null,
   "id": "61242fc3",
   "metadata": {},
   "outputs": [],
   "source": [
    "p=option(s=S0, k=K, r=r, ttm=T, sigma=sigma, kind=\"put\")\n",
    "c=option(s=S0, k=K, r=r, ttm=T, sigma=sigma, kind=\"call\")\n"
   ]
  },
  {
   "cell_type": "code",
   "execution_count": null,
   "id": "33bc5a88",
   "metadata": {},
   "outputs": [],
   "source": [
    "def put(c,s,k,r,ttm):\n",
    "    put=c-s+k*exp(-r*ttm)\n",
    "    return put"
   ]
  },
  {
   "cell_type": "code",
   "execution_count": null,
   "id": "d590b732",
   "metadata": {},
   "outputs": [],
   "source": [
    "p"
   ]
  },
  {
   "cell_type": "code",
   "execution_count": null,
   "id": "d681eed0",
   "metadata": {},
   "outputs": [],
   "source": [
    "put(c=c,s=S0,k=K,r=r,ttm=T) #comprobamos que usando la paridad (put-call) nos da el valor del put indiviual. "
   ]
  },
  {
   "cell_type": "markdown",
   "id": "8e358215",
   "metadata": {},
   "source": [
    "STrike ATM"
   ]
  },
  {
   "cell_type": "markdown",
   "id": "082002be",
   "metadata": {},
   "source": [
    "De acuerdo con la paridad put-call, el strike ATM (el que hace que la prima de una opción de compra sea igual a la prima de una opción de venta, tiene que cumplir que:\n",
    "\n",
    "$$- S_0 + K \\exp(-rT) = 0$$"
   ]
  },
  {
   "cell_type": "markdown",
   "id": "f3adbb21",
   "metadata": {},
   "source": [
    "$$K_{ATM} = S_0\\,e^{rT}$$"
   ]
  },
  {
   "cell_type": "code",
   "execution_count": null,
   "id": "b55adcf5",
   "metadata": {},
   "outputs": [],
   "source": [
    "S0 = 100      # Precio inicial del activo subyacente\n",
    "K = 100       # Precio de ejercicio\n",
    "T = 1         # Tiempo hasta el vencimiento en años\n",
    "r = 0.05      # Tasa de interés libre de riesgo\n",
    "sigma = 0.2   # Volatilidad"
   ]
  },
  {
   "cell_type": "code",
   "execution_count": null,
   "id": "8bfe12f4",
   "metadata": {},
   "outputs": [],
   "source": [
    "K_atm = S0 * exp(r*T)\n",
    "K_atm"
   ]
  },
  {
   "cell_type": "code",
   "execution_count": null,
   "id": "0cd57594",
   "metadata": {},
   "outputs": [],
   "source": [
    "## opcion de compra\n",
    "option(s=S0, k=K_atm, r=r, ttm=T, sigma=sigma, kind=\"call\")"
   ]
  },
  {
   "cell_type": "code",
   "execution_count": null,
   "id": "e0a419b1",
   "metadata": {},
   "outputs": [],
   "source": [
    "# opcion de venta\n",
    "option(s=S0, k=K_atm, r=r, ttm=T, sigma=sigma, kind=\"put\")"
   ]
  },
  {
   "cell_type": "markdown",
   "id": "61825d0e",
   "metadata": {},
   "source": [
    "## **Ejemplo usando simulaciones MonteCarlo**"
   ]
  },
  {
   "cell_type": "markdown",
   "id": "13e00f38",
   "metadata": {},
   "source": [
    "**EJEMPLO 1**\n",
    "\n",
    "Vamos a simular las trayectorias del movimiento browniano geométrico (los posibles caminos que puede tomar el precio del subyacente(, posteriormente, evaluaremos el payoff a la fecha de vencimiento y \"traeremos a valor presente\" el precio de la opción.\n",
    "\n",
    "Pero antes, un pequeño ejemplo de cómo calcular el valor esperado de una variable aleatoria:"
   ]
  },
  {
   "cell_type": "code",
   "execution_count": null,
   "id": "ad0bc68d",
   "metadata": {},
   "outputs": [],
   "source": [
    "import numpy as np"
   ]
  },
  {
   "cell_type": "code",
   "execution_count": null,
   "id": "527c6cdc",
   "metadata": {
    "scrolled": true
   },
   "outputs": [],
   "source": [
    "help(np.random.binomial)"
   ]
  },
  {
   "cell_type": "code",
   "execution_count": null,
   "id": "c74567e9",
   "metadata": {},
   "outputs": [],
   "source": [
    "# muestreo de una variable aleatoria\n",
    "np.random.binomial(100, 0.5, 10)"
   ]
  },
  {
   "cell_type": "code",
   "execution_count": null,
   "id": "2eb70cb3",
   "metadata": {},
   "outputs": [],
   "source": [
    "muestra = 100_000\n",
    "\n",
    "n = 10\n",
    "p = 0.8\n",
    "\n",
    "np.mean(np.random.binomial(n, p, muestra))"
   ]
  },
  {
   "cell_type": "code",
   "execution_count": null,
   "id": "2d97c84e",
   "metadata": {},
   "outputs": [],
   "source": [
    "n * p"
   ]
  },
  {
   "cell_type": "code",
   "execution_count": null,
   "id": "31a675c0",
   "metadata": {},
   "outputs": [],
   "source": [
    "import numpy as np\n",
    "import matplotlib.pyplot as plt\n",
    "\n",
    "paths = 100_000\n",
    "delta = 1/252\n",
    "time = int(T * 252)"
   ]
  },
  {
   "cell_type": "code",
   "execution_count": null,
   "id": "1c884d64",
   "metadata": {},
   "outputs": [],
   "source": [
    "def brownian_motion(delta, sigma, paths, time):\n",
    "    return sigma * np.random.normal(loc=0, scale=np.sqrt(delta), size=(time, paths))\n",
    "\n",
    "def b_geom_retornos(delta, sigma, time, mu, paths):\n",
    "    brownian = brownian_motion(delta, sigma, paths, time)    \n",
    "    return np.exp(brownian + (mu - sigma**2 / 2) * delta)\n",
    "\n",
    "def b_geom(S_0, delta, sigma, time, mu, paths):\n",
    "    retornos = b_geom_retornos(delta, sigma, time, mu, paths)\n",
    "    stacked = np.vstack([np.ones(paths), retornos])\n",
    "    return S_0 * stacked.cumprod(axis=0)\n",
    "\n",
    "\n"
   ]
  },
  {
   "cell_type": "code",
   "execution_count": null,
   "id": "f9e7896a",
   "metadata": {},
   "outputs": [],
   "source": [
    "paths_price = b_geom(S0, delta, sigma, time, r, paths)"
   ]
  },
  {
   "cell_type": "code",
   "execution_count": null,
   "id": "b9e5d785",
   "metadata": {},
   "outputs": [],
   "source": [
    "plt.plot(paths_price, linewidth=0.25);"
   ]
  },
  {
   "cell_type": "code",
   "execution_count": null,
   "id": "24b41e6d",
   "metadata": {
    "scrolled": true
   },
   "outputs": [],
   "source": [
    "paths_price"
   ]
  },
  {
   "cell_type": "code",
   "execution_count": null,
   "id": "bd1aca74",
   "metadata": {},
   "outputs": [],
   "source": [
    "paths_price[-1]"
   ]
  },
  {
   "cell_type": "code",
   "execution_count": null,
   "id": "820f3736",
   "metadata": {},
   "outputs": [],
   "source": [
    "np.exp(-r * T) * np.average([max(x, 0) for x in paths_price[-1] - K])"
   ]
  },
  {
   "cell_type": "markdown",
   "id": "3c103a04",
   "metadata": {},
   "source": [
    "**Ejercicio rápido:** ¿Cómo podemos crear una función que devuelva el precio de una opción europea haciendo simulaciones?\n"
   ]
  },
  {
   "cell_type": "code",
   "execution_count": null,
   "id": "8666b281",
   "metadata": {},
   "outputs": [],
   "source": []
  },
  {
   "cell_type": "code",
   "execution_count": null,
   "id": "27b677e2",
   "metadata": {},
   "outputs": [],
   "source": []
  },
  {
   "cell_type": "markdown",
   "id": "b066abc6",
   "metadata": {},
   "source": [
    "**EJEMPLO 2** \n",
    "\n",
    "Aquí vemos otro ejemplo de cómo podemos simular las trayectorias del browniano. En cada simulación se calcula el precio de la opción descontado y el objetivo es estudiar la convergencia del precio simulado al precio teórico:"
   ]
  },
  {
   "cell_type": "code",
   "execution_count": null,
   "id": "ebed3a97",
   "metadata": {},
   "outputs": [],
   "source": [
    "import numpy as np\n",
    "import matplotlib.pyplot as plt\n",
    "from scipy.stats import norm\n",
    "\n",
    "# Parámetros de la opción\n",
    "S0 = 100      # Precio inicial del activo subyacente\n",
    "K = 100       # Precio de ejercicio\n",
    "T = 1         # Tiempo hasta el vencimiento en años\n",
    "r = 0.05      # Tasa de interés libre de riesgo\n",
    "sigma = 0.2   # Volatilidad\n",
    "simulations = [100, 500, 1_000, 5_000, 10_000, 20_000]  # Diferentes números de simulaciones\n",
    "\n",
    "# Simulación de Monte Carlo para una opción call\n",
    "def monte_carlo_call(S0, K, T, r, sigma, num_simulations):\n",
    "    dt = T / 252  # Supongamos que hay 252 días de trading en un año\n",
    "    paths = np.zeros(num_simulations)\n",
    "    for i in range(num_simulations):\n",
    "        # Generamos un camino aleatorio de la acción\n",
    "        S = S0\n",
    "        for _ in range(int(T / dt)):\n",
    "            S += r * S * dt + sigma * S * np.sqrt(dt) * np.random.normal()\n",
    "        paths[i] = max(S - K, 0)  # El valor de la opción es el máximo entre 0 y S-K (call)\n",
    "    return np.mean(paths) * np.exp(-r * T)  # Promedio descontado\n",
    "\n",
    "# Precio de la opción usando Black-Scholes\n",
    "bs_price = option(S0, K, r, T, sigma)\n",
    "\n",
    "# Almacenamos los resultados de las simulaciones para diferentes números de simulaciones\n",
    "mc_prices = []\n",
    "\n",
    "for num_simulations in simulations:\n",
    "    mc_price = monte_carlo_call(S0, K, T, r, sigma, num_simulations)\n",
    "    mc_prices.append(mc_price)\n",
    "\n",
    "# Graficamos la convergencia de las simulaciones de Monte Carlo\n",
    "plt.figure(figsize=(10,4))\n",
    "plt.plot(simulations, mc_prices, label=\"Simulaciones de Monte Carlo\", marker='o')\n",
    "plt.axhline(y=bs_price, color='r', linestyle='--', label=\"Precio Black-Scholes\")\n",
    "plt.xscale('log')  # Usamos escala logaritmica en el eje X para ver mejor la convergencia\n",
    "plt.xlabel(\"Número de simulaciones\")\n",
    "plt.xticks(simulations, simulations)\n",
    "plt.ylabel(\"Precio de la opción\")\n",
    "plt.title(\"Comparación de la fórmula de Black-Scholes vs Simulaciones de Monte Carlo\")\n",
    "plt.legend()\n",
    "plt.grid(True)\n",
    "plt.show()\n",
    "\n",
    "# Imprimir los resultados\n",
    "print(f\"Precio Black-Scholes: {bs_price:.4f}\")\n",
    "for num_simulations, mc_price in zip(simulations, mc_prices):\n",
    "    print(f\"Precio Monte Carlo con {num_simulations} simulaciones: {mc_price:.4f}\")"
   ]
  },
  {
   "cell_type": "markdown",
   "id": "0c432024",
   "metadata": {},
   "source": [
    "## Recursividad"
   ]
  },
  {
   "cell_type": "markdown",
   "id": "3eab03fe",
   "metadata": {},
   "source": [
    "Una función se puede llamar a sí misma dentro de las operaciones:"
   ]
  },
  {
   "cell_type": "markdown",
   "id": "245f0dfe",
   "metadata": {},
   "source": [
    "Factorial de un número natural:\n",
    "\n",
    "$$0! = 1! = 1$$\n",
    "\n",
    "$$n! = n\\cdot (n-1)\\cdot(n-2)\\cdot\\ldots\\cdot 3\\cdot 2\\cdot 1$$\n",
    "\n",
    "Por ejemplo:\n",
    "\n",
    "$$5! = 5\\cdot 4\\cdot 3\\cdot 2\\cdot 1$$\n",
    "\n",
    "Pero vemos lo siguiente:\n",
    "\n",
    "$$n! = n \\cdot (n-1)!$$"
   ]
  },
  {
   "cell_type": "code",
   "execution_count": null,
   "id": "7c821cc5",
   "metadata": {},
   "outputs": [],
   "source": [
    "def factorial(n):\n",
    "    \"\"\"aqui va todo lo que quiera poner como ayuda\"\"\"\n",
    "    if n == 0 or n == 1:\n",
    "        return 1\n",
    "    \n",
    "    return n * factorial(n-1)\n",
    "\n",
    "## 1a pasada  (n = 5):\n",
    "\n",
    "##  fact(5) = 5 * fact(4)   --> 5*4*3*2*1\n",
    "##  fact(4) = 4 * fact(3)\n",
    "##  fact(3) = 3 * fact(2)\n",
    "##  fact(2) = 2 * fact(1)\n",
    "##  fact(1) = 1\n",
    "\n",
    "\n",
    "\n",
    "def factorial_2(n):\n",
    "    res = n\n",
    "    \n",
    "    while n>1:\n",
    "        res = res * (n-1)\n",
    "        n = n-1\n",
    "        \n",
    "    return res\n",
    "\n",
    "\n",
    "def factorial_3(n):\n",
    "    res = 1\n",
    "    for i in range(1,n+1):\n",
    "        res = res * i\n",
    "        \n",
    "    return res"
   ]
  },
  {
   "cell_type": "code",
   "execution_count": null,
   "id": "55cde89a",
   "metadata": {},
   "outputs": [],
   "source": [
    "factorial(0)"
   ]
  },
  {
   "cell_type": "code",
   "execution_count": null,
   "id": "ba6fea7d",
   "metadata": {},
   "outputs": [],
   "source": [
    "help(factorial)"
   ]
  },
  {
   "cell_type": "code",
   "execution_count": null,
   "id": "9f698b51",
   "metadata": {
    "scrolled": true
   },
   "outputs": [],
   "source": [
    "%%timeit\n",
    "factorial(1_000)"
   ]
  },
  {
   "cell_type": "code",
   "execution_count": null,
   "id": "c88be72c",
   "metadata": {},
   "outputs": [],
   "source": [
    "%%timeit\n",
    "factorial_2(1_000)"
   ]
  },
  {
   "cell_type": "code",
   "execution_count": null,
   "id": "1fea2015",
   "metadata": {},
   "outputs": [],
   "source": [
    "%%timeit\n",
    "factorial_3(1_000)"
   ]
  },
  {
   "cell_type": "code",
   "execution_count": null,
   "id": "1becb642",
   "metadata": {},
   "outputs": [],
   "source": [
    "def fibonacci(n):\n",
    "    if n == 0:\n",
    "        return 0\n",
    "    if n == 1:\n",
    "        return 1\n",
    "    return fibonacci(n - 1) + fibonacci(n - 2)"
   ]
  },
  {
   "cell_type": "code",
   "execution_count": null,
   "id": "57e3530d",
   "metadata": {
    "scrolled": false
   },
   "outputs": [],
   "source": [
    "for i in range(50):\n",
    "    print(fibonacci(i))"
   ]
  },
  {
   "cell_type": "code",
   "execution_count": null,
   "id": "2f5cbe0a",
   "metadata": {},
   "outputs": [],
   "source": [
    "# qué le podemos modificar a esto para que nos devuelva una lista con los primeros n números de fibonacci \n",
    "# y evitar tantos cálculos:\n",
    "\n",
    "def fibonacci(n):\n",
    "    if n == 0:\n",
    "        return 0\n",
    "    if n == 1:\n",
    "        return 1\n",
    "    return fibonacci(n - 1) + fibonacci(n - 2)"
   ]
  },
  {
   "cell_type": "code",
   "execution_count": null,
   "id": "01bedf6e",
   "metadata": {},
   "outputs": [],
   "source": [
    "## muchas funciones ya están integradas en algunas librerías:\n",
    "import math\n",
    "\n",
    "math.factorial(5)"
   ]
  },
  {
   "cell_type": "code",
   "execution_count": null,
   "id": "4ac5334a",
   "metadata": {},
   "outputs": [],
   "source": [
    "## y cuentan con una buena gestión de errores:\n",
    "\n",
    "math.factorial(1.4)\n",
    "\n",
    "## podemos gestionar errores enb una función? "
   ]
  },
  {
   "cell_type": "markdown",
   "id": "73088ed2",
   "metadata": {},
   "source": [
    "## Listas de comprensión"
   ]
  },
  {
   "cell_type": "markdown",
   "id": "b27240bf",
   "metadata": {},
   "source": [
    "La listas de comprensión, del inglés list comprehensions, es una funcionalidad que le permite crear listas avanzadas en una misma línea de código.\n",
    "\n",
    "La forma general de la definición de una lista por comprensión es:\n",
    "\n",
    "```\n",
    "[expresion for item in iterable]\n",
    "```\n",
    "\n",
    "\n",
    "Opcionalmente, se puede incluir un condicional en la expresión:\n",
    "\n",
    "```\n",
    "[expresion for item in iterable if condition]\n",
    "```\n"
   ]
  },
  {
   "cell_type": "code",
   "execution_count": null,
   "id": "610eab40",
   "metadata": {},
   "outputs": [],
   "source": [
    "lista_fibo = []\n",
    "\n",
    "for i in range(10):\n",
    "    lista_fibo.append(fibonacci(i))\n",
    "    \n",
    "lista_fibo"
   ]
  },
  {
   "cell_type": "code",
   "execution_count": null,
   "id": "a2b720dd",
   "metadata": {},
   "outputs": [],
   "source": [
    "[fibonacci(i) for i in range(10)]  #lista de comprehension"
   ]
  },
  {
   "cell_type": "code",
   "execution_count": null,
   "id": "9a923d58",
   "metadata": {},
   "outputs": [],
   "source": [
    "[i**2 for i in range(10)] #for en una linea que devuelve una lista [list comprehension]type()"
   ]
  },
  {
   "cell_type": "code",
   "execution_count": null,
   "id": "1cb8e7b2",
   "metadata": {},
   "outputs": [],
   "source": [
    "lista = []\n",
    "\n",
    "for i in range(10):\n",
    "    lista.append(i**2)\n",
    "\n",
    "lista"
   ]
  },
  {
   "cell_type": "code",
   "execution_count": null,
   "id": "98548d0d",
   "metadata": {},
   "outputs": [],
   "source": [
    "[i**2 for i in range(10)]"
   ]
  },
  {
   "cell_type": "code",
   "execution_count": null,
   "id": "57a95168",
   "metadata": {},
   "outputs": [],
   "source": [
    "#la expresión no necesariamente debe depender del índice\n",
    "\n",
    "[\"a\" for i in range(10)]      ## [\"a\"] * 10"
   ]
  },
  {
   "cell_type": "code",
   "execution_count": null,
   "id": "dee2a00a",
   "metadata": {},
   "outputs": [],
   "source": [
    "lista = [x**2 for x in range(0,11)]\n",
    "print(lista)"
   ]
  },
  {
   "cell_type": "code",
   "execution_count": null,
   "id": "813a51d1",
   "metadata": {},
   "outputs": [],
   "source": [
    "type(lista)"
   ]
  },
  {
   "cell_type": "code",
   "execution_count": null,
   "id": "f42a92fd",
   "metadata": {
    "scrolled": true
   },
   "outputs": [],
   "source": [
    "[ (x if x%2==0 else x**2) for x in range(20) ]"
   ]
  },
  {
   "cell_type": "code",
   "execution_count": null,
   "id": "22707815",
   "metadata": {},
   "outputs": [],
   "source": [
    "lista = [ numero for numero in range(0,11) if numero%2 == 0 ]\n",
    "\n",
    "print(lista)"
   ]
  },
  {
   "cell_type": "code",
   "execution_count": null,
   "id": "d5083412",
   "metadata": {},
   "outputs": [],
   "source": [
    "l = []\n",
    "\n",
    "for i in range(0,11):\n",
    "    if i%2 == 0:\n",
    "        l.append(i)\n",
    "        \n",
    "l"
   ]
  },
  {
   "cell_type": "code",
   "execution_count": null,
   "id": "f202844b",
   "metadata": {},
   "outputs": [],
   "source": [
    "cadena = \"sdfjdfskndrfvke jrvwovn\"\n",
    "\n",
    "## quiero construir una lista con todas las letras f\n",
    "[\"f\"] * cadena.count(\"f\")"
   ]
  },
  {
   "cell_type": "code",
   "execution_count": null,
   "id": "aeac393e",
   "metadata": {},
   "outputs": [],
   "source": [
    "res = []\n",
    "\n",
    "for c in cadena:\n",
    "    if c == \"f\":\n",
    "        res.append(c)\n",
    "        \n",
    "res"
   ]
  },
  {
   "cell_type": "code",
   "execution_count": null,
   "id": "e315f387",
   "metadata": {},
   "outputs": [],
   "source": [
    "[c for c in cadena if c == \"f\"]"
   ]
  },
  {
   "cell_type": "code",
   "execution_count": null,
   "id": "a33574b1",
   "metadata": {},
   "outputs": [],
   "source": [
    "names_1 = ['Oralie' ,'Imojean' ,'Michele', 'Ailbert', 'Stevy']\n",
    "names_2 = ['Michele', 'Jayson', 'Oralie', 'Stevy', 'Alwyn']\n",
    "\n",
    "#  set(names_1) & set(names_2)\n",
    "\n",
    "common = [a  for a in names_1 for b in names_2 if a == b]\n",
    "common"
   ]
  },
  {
   "cell_type": "code",
   "execution_count": null,
   "id": "915cb7f6",
   "metadata": {},
   "outputs": [],
   "source": [
    "names_1 = ['Oralie' ,'Imojean' ,'Michele', 'Ailbert', 'Stevy']\n",
    "names_2 = ['Jayson', 'Oralie' ,'Michele', 'Stevy', 'Alwyn']\n",
    "\n",
    "comun = []\n",
    "\n",
    "for a in names_1:\n",
    "    for b in names_2:\n",
    "        if a == b:\n",
    "            comun.append(b)\n",
    "            \n",
    "comun"
   ]
  },
  {
   "cell_type": "code",
   "execution_count": null,
   "id": "d9e66dfe",
   "metadata": {
    "scrolled": true
   },
   "outputs": [],
   "source": [
    "# no se suele coleccionar print en una lista de comprensión\n",
    "\n",
    "[print(b) for a in names_1 for b in names_2 if a==b]\n",
    "    "
   ]
  },
  {
   "cell_type": "code",
   "execution_count": null,
   "id": "6ac8fcc6",
   "metadata": {},
   "outputs": [],
   "source": [
    "nombres = [\"Juan\", \"Monica\", \"Luis\", \"Pedro\", \"Ana\"]\n",
    "calif = [1,2,4,5,7]\n",
    "\n",
    "[n + str(c)  for n,c in zip(nombres, calif)]"
   ]
  },
  {
   "cell_type": "markdown",
   "id": "63e91995",
   "metadata": {},
   "source": [
    "Podemos usar funciones dentro de una lista de comprensión:"
   ]
  },
  {
   "cell_type": "code",
   "execution_count": null,
   "id": "36c10095",
   "metadata": {},
   "outputs": [],
   "source": [
    "Ft = [i for i in range(10,50,1)] #for en una linea que devuelve una lista [list comprehension]\n",
    "Ft"
   ]
  },
  {
   "cell_type": "code",
   "execution_count": null,
   "id": "adde099f",
   "metadata": {},
   "outputs": [],
   "source": [
    "S=25\n",
    "K=25\n",
    "T=1.00\n",
    "r=.08\n",
    "sigma=.3"
   ]
  },
  {
   "cell_type": "code",
   "execution_count": null,
   "id": "96776546",
   "metadata": {},
   "outputs": [],
   "source": [
    "%%time\n",
    "prices = [option(s=F, k=K, r=r, ttm=T, sigma=sigma, kind=\"call\") for F in range(10, 40) for K in range(10,40)]"
   ]
  },
  {
   "cell_type": "code",
   "execution_count": null,
   "id": "98c8b1aa",
   "metadata": {
    "scrolled": false
   },
   "outputs": [],
   "source": [
    "len(prices)"
   ]
  },
  {
   "cell_type": "code",
   "execution_count": null,
   "id": "00ab7375",
   "metadata": {},
   "outputs": [],
   "source": [
    "[(F, K, option(s=F, k=K, r=r, ttm=T, sigma=sigma, kind=\"call\")) for F in range(10, 40) for K in range(10,40)]"
   ]
  },
  {
   "cell_type": "code",
   "execution_count": null,
   "id": "b5fd0e19",
   "metadata": {},
   "outputs": [],
   "source": [
    "%%time\n",
    "prices = []\n",
    "for F in range(10, 40):\n",
    "    for K in range(10,40):\n",
    "        prices.append(option(s=F, k=K, r=r, ttm=T, sigma=sigma, kind=\"call\"))"
   ]
  },
  {
   "cell_type": "code",
   "execution_count": null,
   "id": "4e9b9fe9",
   "metadata": {},
   "outputs": [],
   "source": [
    "len(prices)"
   ]
  },
  {
   "cell_type": "code",
   "execution_count": null,
   "id": "a5f3f95b",
   "metadata": {},
   "outputs": [],
   "source": [
    "prices"
   ]
  },
  {
   "cell_type": "markdown",
   "id": "1a0bec07",
   "metadata": {},
   "source": [
    "Vamos a realizar gráficas para ver el comportamiento que tiene cada parámetro en el precio de la opción:"
   ]
  },
  {
   "cell_type": "code",
   "execution_count": null,
   "id": "4640b6cb",
   "metadata": {},
   "outputs": [],
   "source": [
    "import numpy as np\n",
    "\n",
    "# pip instaLL matplotlib\n",
    "import matplotlib.pyplot as plt\n"
   ]
  },
  {
   "cell_type": "markdown",
   "id": "79d4339d",
   "metadata": {},
   "source": [
    "1. Comportamiento del precio de la opción respecto al strike:"
   ]
  },
  {
   "cell_type": "code",
   "execution_count": null,
   "id": "257153c6",
   "metadata": {},
   "outputs": [],
   "source": [
    "list(range(0,10, 1))"
   ]
  },
  {
   "cell_type": "code",
   "execution_count": null,
   "id": "f3bfdb8e",
   "metadata": {},
   "outputs": [],
   "source": [
    "np.arange(10.5, 15.4, 0.25)"
   ]
  },
  {
   "cell_type": "code",
   "execution_count": null,
   "id": "d5bc3ffd",
   "metadata": {},
   "outputs": [],
   "source": [
    "S_0 = 25\n",
    "K = 25\n",
    "T = 1.00\n",
    "r = .08\n",
    "sigma = .3\n",
    "\n",
    "strikes = np.arange(5, 60, 0.1)\n",
    "\n",
    "pay_off = [max(S_0-K, 0) for K in strikes]\n",
    "\n",
    "prices = [option(s=S_0, k=K, r=r, ttm=T, sigma=sigma, kind=\"call\") for K in strikes]\n",
    "\n",
    "# Plot a simple line chart without any feature\n",
    "plt.figure(figsize=(10,6))\n",
    "plt.plot(strikes, prices)\n",
    "plt.plot(strikes, pay_off)\n",
    "plt.title(\"Call option as function of strike\")\n",
    "plt.xlabel(\"Strike\")\n",
    "plt.ylabel(\"Option Price\")\n",
    "plt.show()"
   ]
  },
  {
   "cell_type": "markdown",
   "id": "7fdc36a7",
   "metadata": {},
   "source": [
    "2. Comportamiento del precio de la opción en función del precio del subyacente al tiempo cero:"
   ]
  },
  {
   "cell_type": "code",
   "execution_count": null,
   "id": "6c0eb4b5",
   "metadata": {},
   "outputs": [],
   "source": [
    "S=25\n",
    "K=25\n",
    "T=1.00\n",
    "r=.08\n",
    "sigma=.3\n",
    "\n",
    "spot = np.arange(0.1, 50, 0.1)\n",
    "\n",
    "prices = [option(s=S, k=K, r=r, ttm=T, sigma=sigma, kind=\"call\") for S in spot]\n",
    "\n",
    "# Plot a simple line chart without any feature\n",
    "plt.figure(figsize=(10,6))\n",
    "plt.plot(spot, prices)\n",
    "plt.title(\"Call option as function of Spot\")\n",
    "plt.xlabel(\"Spot price\")\n",
    "plt.ylabel(\"Option Price\")\n",
    "plt.show()"
   ]
  },
  {
   "cell_type": "markdown",
   "id": "eb79847e",
   "metadata": {},
   "source": [
    "3. Precio de la opción en función de la volatilidad:"
   ]
  },
  {
   "cell_type": "code",
   "execution_count": null,
   "id": "e0c65d18",
   "metadata": {
    "scrolled": false
   },
   "outputs": [],
   "source": [
    "S=25\n",
    "K=25\n",
    "T=1.00\n",
    "r=.08\n",
    "sigma=.3\n",
    "\n",
    "vol = np.arange(0.01, 0.6, 0.01)\n",
    "\n",
    "prices = [option(s=S, k=K, r=r, ttm=T, sigma=sigma, kind=\"call\") for sigma in vol]\n",
    "prices_put = [option(s=S, k=K, r=r, ttm=T, sigma=sigma, kind=\"put\") for sigma in vol]\n",
    "\n",
    "# Plot a simple line chart without any feature\n",
    "plt.figure(figsize=(10,6))\n",
    "plt.plot(vol, prices)\n",
    "plt.plot(vol, prices_put)\n",
    "plt.title(\"Call option as function of volatility\")\n",
    "plt.xlabel(\"volatility\")\n",
    "plt.ylabel(\"Option Price\")\n",
    "plt.show()"
   ]
  },
  {
   "cell_type": "markdown",
   "id": "e2f92b0d",
   "metadata": {},
   "source": [
    "**De la gráfica anterior, podemos concluir que la vega (cambio en el precio por el cambio en la vol) de una opción de compra es la misma que la de una opción de venta**\n",
    "\n",
    "\n",
    "Esto se puede demostrar fácilmente derivando la paridad put-call respecto a sigma."
   ]
  },
  {
   "cell_type": "markdown",
   "id": "22a82162",
   "metadata": {},
   "source": [
    "4. Precio de la opción en función del tiempo de madurez"
   ]
  },
  {
   "cell_type": "code",
   "execution_count": null,
   "id": "e78d66e3",
   "metadata": {},
   "outputs": [],
   "source": [
    "S=25\n",
    "K=25\n",
    "T=1.00\n",
    "r=.08\n",
    "sigma=.3\n",
    "\n",
    "TTM = np.arange(1/12, 2, 1/12)\n",
    "\n",
    "prices = [option(s=S, k=K, r=r, ttm=T, sigma=sigma, kind=\"call\") for T in TTM]\n",
    "\n",
    "# Plot a simple line chart without any feature\n",
    "plt.figure(figsize=(10,6))\n",
    "plt.plot(TTM, prices)\n",
    "plt.title(\"Call option as function of maturity\")\n",
    "plt.xlabel(\"Maturity\")\n",
    "plt.ylabel(\"Option Price\")\n",
    "plt.show()"
   ]
  },
  {
   "cell_type": "markdown",
   "id": "0a217d04",
   "metadata": {},
   "source": [
    "**Algunas cosas interesantes en valuación de opciones:**\n",
    "\n",
    "1. De acuerdo con la paridad put-call, cuando $K=S\\,e^{rT}$, obtenemos que el precio de la opción call y put deben de coincidir. Este strike se conoce como el strike ATM porque coincide con la tasa forward.\n",
    "\n",
    "\n",
    "2. Una de las cosas interesantes de valuación de opciones es el cálculo de la volatilidad implícita, es decir, \"despejar\" de la fórmula de BlackScholes la volatilidad dado el precio de mercado.\n",
    "\n",
    "\n",
    "Cuando extendemos el punto [2] para distintos strikes sobre la misma referencia y maturity, obtenemos lo que conocemos como el smile de volatilidad implícita.\n"
   ]
  },
  {
   "cell_type": "markdown",
   "id": "528cc3d0",
   "metadata": {},
   "source": [
    "¿Cómo podemos encontrar las raices de una ecuación no lineal?"
   ]
  },
  {
   "cell_type": "code",
   "execution_count": null,
   "id": "28792070",
   "metadata": {},
   "outputs": [],
   "source": [
    "pip install scipy"
   ]
  },
  {
   "cell_type": "code",
   "execution_count": null,
   "id": "11d8c61d",
   "metadata": {},
   "outputs": [],
   "source": [
    "from scipy.optimize import fsolve\n",
    "\n",
    "help(fsolve)\n"
   ]
  },
  {
   "cell_type": "markdown",
   "id": "25815988",
   "metadata": {},
   "source": [
    "$$f(x) = x^2 - 4\\qquad\\longrightarrow\\qquad f(x) = 0$$\n",
    "\n"
   ]
  },
  {
   "cell_type": "code",
   "execution_count": null,
   "id": "fdaa71f2",
   "metadata": {},
   "outputs": [],
   "source": [
    "def f(x):\n",
    "    return x**2 - 4\n",
    "\n",
    "fsolve(f, x0=-1)"
   ]
  },
  {
   "cell_type": "markdown",
   "id": "a3fd27ab",
   "metadata": {},
   "source": [
    "$$e^{-3x} - x = 0$$"
   ]
  },
  {
   "cell_type": "code",
   "execution_count": null,
   "id": "97459756",
   "metadata": {},
   "outputs": [],
   "source": [
    "import math \n",
    "\n",
    "def g(x):\n",
    "    return math.exp(-3*x) - x\n",
    "\n",
    "root = fsolve(g, 1, xtol=1E-1)[0]\n",
    "\n",
    "print(f\"raiz = {root}\")\n",
    "\n",
    "g(root)"
   ]
  },
  {
   "cell_type": "code",
   "execution_count": null,
   "id": "666ef442",
   "metadata": {},
   "outputs": [],
   "source": [
    "g(0.35)"
   ]
  },
  {
   "cell_type": "markdown",
   "id": "caf00e40",
   "metadata": {},
   "source": [
    "$$x_1 + x_2 = 2$$\n",
    "\n",
    "$$2x_1 - 3x_2 = -1$$"
   ]
  },
  {
   "cell_type": "code",
   "execution_count": null,
   "id": "0cde99b6",
   "metadata": {},
   "outputs": [],
   "source": [
    "def sistema(x):\n",
    "    return [ x[0] + x[1] - 2, 2*x[0] - 3*x[1] + 1]\n"
   ]
  },
  {
   "cell_type": "code",
   "execution_count": null,
   "id": "4a274421",
   "metadata": {},
   "outputs": [],
   "source": [
    "sistema([1,0])"
   ]
  },
  {
   "cell_type": "code",
   "execution_count": null,
   "id": "711c4f78",
   "metadata": {},
   "outputs": [],
   "source": [
    "fsolve(sistema, x0=[0, 0])"
   ]
  },
  {
   "cell_type": "code",
   "execution_count": null,
   "id": "0d1a09e0",
   "metadata": {},
   "outputs": [],
   "source": [
    "def sistema(x):\n",
    "    return [ x[0] + x[1] - 2*x[0]*x[1], 2*x[0] - 3*x[1] + 1]\n",
    "\n",
    "fsolve(sistema, x0 = [-1, 0])"
   ]
  },
  {
   "cell_type": "markdown",
   "id": "c8066417",
   "metadata": {},
   "source": [
    "**Cálculo de vol implícita**"
   ]
  },
  {
   "cell_type": "code",
   "execution_count": null,
   "id": "142cfba1",
   "metadata": {},
   "outputs": [],
   "source": [
    "S=25\n",
    "K=25\n",
    "T=1.00\n",
    "r=.08\n",
    "sigma=.3\n",
    "\n",
    "option(s=S, k=K, r=r, ttm=T, sigma=sigma, kind=\"call\")"
   ]
  },
  {
   "cell_type": "markdown",
   "id": "09ef8223",
   "metadata": {},
   "source": [
    "$$BS(S_0,\\,K,\\,T,\\,r,\\,\\sigma) = Call_{mkt}$$\n",
    "\n",
    "\n",
    "Supongamos que conocemos #Call_{mkt}$ y queremos calcular vol implícita:\n",
    "\n",
    "$$BS(\\sigma;\\ S_0,\\,K,\\,T,\\,r) = Call_{mkt}$$\n",
    "\n",
    "Por lo cual, la función que tenemos que crear para llamar en fsolve es:\n",
    "$$g(\\sigma) = BS(\\sigma;\\ S_0,\\,K,\\,T,\\,r) - Call_{mkt}$$\n"
   ]
  },
  {
   "cell_type": "code",
   "execution_count": null,
   "id": "9c86ed5e",
   "metadata": {},
   "outputs": [],
   "source": [
    "def target_vol(vol, S_0, strike, T, r, price):\n",
    "    return option(s=S_0, k=strike, r=r, ttm=T, sigma=vol, kind=\"call\") - price"
   ]
  },
  {
   "cell_type": "code",
   "execution_count": null,
   "id": "24af6fdc",
   "metadata": {},
   "outputs": [],
   "source": [
    "price_mkt = 3.9278281369732433\n",
    "\n",
    "fsolve(target_vol, x0=0.1, args=(25, 25, 1, 0.08, price_mkt))"
   ]
  },
  {
   "cell_type": "code",
   "execution_count": null,
   "id": "469d2d8c",
   "metadata": {},
   "outputs": [],
   "source": [
    "K * math.exp(r*T)"
   ]
  },
  {
   "cell_type": "code",
   "execution_count": null,
   "id": "f23d9c59",
   "metadata": {},
   "outputs": [],
   "source": [
    "list(zip(prices,strikes))"
   ]
  },
  {
   "cell_type": "code",
   "execution_count": null,
   "id": "2a7c6b02",
   "metadata": {},
   "outputs": [],
   "source": [
    "prices = [6, 3.93, 3.9, 3.78, 3.7]\n",
    "\n",
    "strikes = [20, 25, 26, 28, 30]\n",
    "\n",
    "implicit_vol = [fsolve(target_vol, x0=0.1, args=(25, k, 1, 0.08, p))[0] for p,k in zip(prices,strikes)]\n",
    "\n",
    "\n",
    "plt.figure(figsize=(10,6))\n",
    "plt.plot(strikes, implicit_vol, marker=\"o\")\n",
    "plt.title(\"Implicit volatility\")\n",
    "plt.xlabel(\"Strikes\")\n",
    "plt.ylabel(\"Volatility\")\n",
    "plt.show();"
   ]
  },
  {
   "cell_type": "markdown",
   "id": "83cd6926",
   "metadata": {},
   "source": [
    "> <h2 style=\"color:green\"> $\\ll\\!\\!\\prec\\quad$ Ejercicios $\\quad\\succ\\!\\!\\gg$ </h2>"
   ]
  },
  {
   "cell_type": "markdown",
   "id": "19c60cdb",
   "metadata": {},
   "source": [
    "1. Usando recursividad, genera una función para calcular el doble fatorial de un número entero positivo:\n",
    "\n",
    "$$n!! = n\\,(n-2)\\ (n-4)\\, ... $$\n",
    "\n",
    "cuando $n = 2k-1$, se tiene que:\n",
    "\n",
    "$$(2k-1)!! = (2k-1)(2k-3)\\cdot\\ldots\\cdot 5\\cdot 3\\cdot 1$$\n",
    "\n",
    "y para $n = 2k$ se tiene que:\n",
    "\n",
    "$$(2k)!! = (2k)(2k-2)\\cdot\\ldots\\cdot 6\\cdot 4\\cdot 2$$\n",
    "\n",
    "\n"
   ]
  },
  {
   "cell_type": "markdown",
   "id": "782c629d",
   "metadata": {},
   "source": [
    "$2!! = 2$\n",
    "\n",
    "$1!! = 1$"
   ]
  },
  {
   "cell_type": "code",
   "execution_count": null,
   "id": "3d97ce89",
   "metadata": {},
   "outputs": [],
   "source": [
    "(6)!! = 6 * 4 * 2 = 48\n",
    "\n",
    "(7)!! = 7 * 5 * 3 * 1 = 105 = 7 * (5)!!"
   ]
  },
  {
   "cell_type": "code",
   "execution_count": null,
   "id": "b423849e",
   "metadata": {},
   "outputs": [],
   "source": [
    "def doble_fact(n):\n",
    "    \n",
    "    if n <= 0:\n",
    "        return 0\n",
    "    elif n == 1:\n",
    "        return 1\n",
    "    elif n== 2:\n",
    "        return 2\n",
    "    \n",
    "    return n * doble_fact(n-2)"
   ]
  },
  {
   "cell_type": "code",
   "execution_count": null,
   "id": "7b7605f0",
   "metadata": {},
   "outputs": [],
   "source": [
    "doble_fact(7)"
   ]
  },
  {
   "cell_type": "code",
   "execution_count": null,
   "id": "9be2a6ee",
   "metadata": {},
   "outputs": [],
   "source": []
  },
  {
   "cell_type": "code",
   "execution_count": null,
   "id": "883130ba",
   "metadata": {},
   "outputs": [],
   "source": []
  },
  {
   "cell_type": "code",
   "execution_count": null,
   "id": "7539e54c",
   "metadata": {},
   "outputs": [],
   "source": []
  },
  {
   "cell_type": "code",
   "execution_count": null,
   "id": "91683dd4",
   "metadata": {},
   "outputs": [],
   "source": []
  },
  {
   "cell_type": "code",
   "execution_count": null,
   "id": "440e992b",
   "metadata": {},
   "outputs": [],
   "source": []
  },
  {
   "cell_type": "code",
   "execution_count": null,
   "id": "899c7c85",
   "metadata": {},
   "outputs": [],
   "source": [
    "\n",
    "def doble_fact(n):\n",
    "    if n == 0:\n",
    "        return 1\n",
    "    if n<=2:\n",
    "        return n\n",
    "    \n",
    "    return n * doble_fact(n-2)\n",
    "\n",
    "doble_fact(11)\n"
   ]
  },
  {
   "cell_type": "markdown",
   "id": "246d534b",
   "metadata": {},
   "source": [
    "2. Usando listas de comprensión, Cree una función que genere las tablas de multiplicar hasta el número n (cada una guardada en una lista) "
   ]
  },
  {
   "cell_type": "code",
   "execution_count": null,
   "id": "0c7a8a88",
   "metadata": {},
   "outputs": [],
   "source": [
    "# cómo calculamos la tabla del 7\n",
    "\n",
    "[7 * x for x in range(1,11)]"
   ]
  },
  {
   "cell_type": "code",
   "execution_count": null,
   "id": "0a6479e7",
   "metadata": {},
   "outputs": [],
   "source": [
    "n = 10\n",
    "\n",
    "[[i * x for x in range(1,11)] for i in range(1,n+1)]"
   ]
  },
  {
   "cell_type": "code",
   "execution_count": null,
   "id": "91018516",
   "metadata": {},
   "outputs": [],
   "source": []
  },
  {
   "cell_type": "code",
   "execution_count": null,
   "id": "6ce7faae",
   "metadata": {},
   "outputs": [],
   "source": []
  },
  {
   "cell_type": "code",
   "execution_count": null,
   "id": "244d5d68",
   "metadata": {},
   "outputs": [],
   "source": []
  },
  {
   "cell_type": "code",
   "execution_count": null,
   "id": "49f32658",
   "metadata": {},
   "outputs": [],
   "source": []
  },
  {
   "cell_type": "code",
   "execution_count": null,
   "id": "d48c0158",
   "metadata": {},
   "outputs": [],
   "source": []
  },
  {
   "cell_type": "code",
   "execution_count": null,
   "id": "aa59be8e",
   "metadata": {},
   "outputs": [],
   "source": []
  },
  {
   "cell_type": "code",
   "execution_count": null,
   "id": "bead2ed9",
   "metadata": {},
   "outputs": [],
   "source": []
  },
  {
   "cell_type": "code",
   "execution_count": null,
   "id": "031f58f4",
   "metadata": {},
   "outputs": [],
   "source": [
    "y = 7\n",
    "[x*y for x in range(1,11)]"
   ]
  },
  {
   "cell_type": "code",
   "execution_count": null,
   "id": "32a288a8",
   "metadata": {},
   "outputs": [],
   "source": [
    "def listas_mult(n):\n",
    "    return [[x*y for x in range(1,11)] for y in range(1,n+1)]"
   ]
  },
  {
   "cell_type": "code",
   "execution_count": null,
   "id": "b9387151",
   "metadata": {},
   "outputs": [],
   "source": [
    "listas_mult(30)"
   ]
  },
  {
   "cell_type": "code",
   "execution_count": null,
   "id": "c2b866f4",
   "metadata": {},
   "outputs": [],
   "source": []
  },
  {
   "cell_type": "code",
   "execution_count": null,
   "id": "d50991e4",
   "metadata": {},
   "outputs": [],
   "source": []
  },
  {
   "cell_type": "code",
   "execution_count": null,
   "id": "9e1a0977",
   "metadata": {},
   "outputs": [],
   "source": []
  },
  {
   "cell_type": "markdown",
   "id": "ca12188a",
   "metadata": {},
   "source": [
    "## `*args` y `**kwargs`"
   ]
  },
  {
   "cell_type": "markdown",
   "id": "28eaecab",
   "metadata": {},
   "source": [
    "Podemos aceptar cuaquier número de argumentos con `args` y cualquier número de argumentos-llave con `**kwargs`. En ocasiones no sabel el número total de parámetros para una función o queremos extender sus dependencias a otras clase. "
   ]
  },
  {
   "cell_type": "code",
   "execution_count": null,
   "id": "84e36222",
   "metadata": {},
   "outputs": [],
   "source": [
    "#args viene de argumentos"
   ]
  },
  {
   "cell_type": "code",
   "execution_count": null,
   "id": "f10ab6fc",
   "metadata": {},
   "outputs": [],
   "source": [
    "def funcion_args(*args): #le están diciendo que puede aceptar cualquier número de parámetros: lo dejan libre\n",
    "    print(args, len(args))"
   ]
  },
  {
   "cell_type": "code",
   "execution_count": null,
   "id": "84d8e084",
   "metadata": {},
   "outputs": [],
   "source": [
    "funcion_args(1,2,3)"
   ]
  },
  {
   "cell_type": "code",
   "execution_count": null,
   "id": "6b5dcf63",
   "metadata": {},
   "outputs": [],
   "source": [
    "funcion_args(1, 2, 3, [4,5], \"e\") #arroja una tupla"
   ]
  },
  {
   "cell_type": "code",
   "execution_count": null,
   "id": "06ac6f04",
   "metadata": {},
   "outputs": [],
   "source": [
    "funcion_args(\"a\", 1, 2, 3, 4, [1,1,1,1], {\"hola\":1, \"adios\":2})"
   ]
  },
  {
   "cell_type": "code",
   "execution_count": null,
   "id": "ae46607f",
   "metadata": {},
   "outputs": [],
   "source": [
    "def funcion_args_2(*args):\n",
    "    return args[0] + args[1]"
   ]
  },
  {
   "cell_type": "code",
   "execution_count": null,
   "id": "77c17458",
   "metadata": {},
   "outputs": [],
   "source": [
    "funcion_args_2(1,2)"
   ]
  },
  {
   "cell_type": "code",
   "execution_count": null,
   "id": "798022eb",
   "metadata": {
    "scrolled": true
   },
   "outputs": [],
   "source": [
    "funcion_args_2(4,7,1,\"3\",5,67,87)"
   ]
  },
  {
   "cell_type": "code",
   "execution_count": null,
   "id": "f9e76afb",
   "metadata": {},
   "outputs": [],
   "source": [
    "def funcion_args_2(*args):\n",
    "    if len(args) < 5:\n",
    "        return \"error\"\n",
    "         \n",
    "    return args[0] + args[1]"
   ]
  },
  {
   "cell_type": "code",
   "execution_count": null,
   "id": "152ecdab",
   "metadata": {},
   "outputs": [],
   "source": [
    "funcion_args_2(1,2)"
   ]
  },
  {
   "cell_type": "code",
   "execution_count": null,
   "id": "ed185cda",
   "metadata": {},
   "outputs": [],
   "source": [
    "funcion_args_2(1,2,3,4,6,76,3,4,3,1)"
   ]
  },
  {
   "cell_type": "code",
   "execution_count": null,
   "id": "cb3ebf40",
   "metadata": {},
   "outputs": [],
   "source": [
    "#kwargs que viene de keyword argumentos\n",
    "def funcion_kwargs(**kwargs): #le están diciendo que puede aceptar cualquier número de parámetros: lo dejan libre\n",
    "    print(kwargs)"
   ]
  },
  {
   "cell_type": "code",
   "execution_count": null,
   "id": "9441a3b7",
   "metadata": {},
   "outputs": [],
   "source": [
    "funcion_kwargs(a=1, b=2, c=4, mi_suma=[1,2,3])"
   ]
  },
  {
   "cell_type": "code",
   "execution_count": null,
   "id": "e85c025b",
   "metadata": {},
   "outputs": [],
   "source": [
    "funcion_kwargs(a=1,b=2) #arroja un diccionario"
   ]
  },
  {
   "cell_type": "code",
   "execution_count": null,
   "id": "7a242632",
   "metadata": {},
   "outputs": [],
   "source": [
    "def suma(a=1,b=2):\n",
    "    return a+b"
   ]
  },
  {
   "cell_type": "code",
   "execution_count": null,
   "id": "8f265171",
   "metadata": {},
   "outputs": [],
   "source": [
    "suma(b=5, a=8)"
   ]
  },
  {
   "cell_type": "code",
   "execution_count": null,
   "id": "6fa51074",
   "metadata": {},
   "outputs": [],
   "source": [
    "def func_kwargs(**kwargs):\n",
    "    print(kwargs)\n",
    "    if (\"a\" in kwargs) and (\"b\" in kwargs):\n",
    "        a = kwargs[\"a\"]\n",
    "        b = kwargs[\"b\"]\n",
    "        res=suma(a, b)\n",
    "    elif (\"a\" in kwargs):\n",
    "        res=suma(a=kwargs[\"a\"])\n",
    "    elif (\"b\" in kwargs):\n",
    "        res=suma(b=kwargs[\"b\"])\n",
    "    else:\n",
    "        res = suma(a=kwargs[\"c\"], b=0)\n",
    "    \n",
    "    return res\n",
    "\n",
    "    "
   ]
  },
  {
   "cell_type": "code",
   "execution_count": null,
   "id": "98a6c429",
   "metadata": {},
   "outputs": [],
   "source": [
    "func_kwargs(x=5, b=1, c=5, d=[1,2,3], e=12)"
   ]
  },
  {
   "cell_type": "code",
   "execution_count": null,
   "id": "daa19cb9",
   "metadata": {},
   "outputs": [],
   "source": [
    "func_kwargs(b=5,c=4)"
   ]
  },
  {
   "cell_type": "code",
   "execution_count": null,
   "id": "90e163fa",
   "metadata": {},
   "outputs": [],
   "source": [
    "suma(a=4)"
   ]
  },
  {
   "cell_type": "code",
   "execution_count": null,
   "id": "ddb9a73d",
   "metadata": {},
   "outputs": [],
   "source": [
    "func_kwargs(a=10, b=20, c=30)"
   ]
  },
  {
   "cell_type": "code",
   "execution_count": null,
   "id": "40c45b06",
   "metadata": {},
   "outputs": [],
   "source": [
    "def func_kwargs(**kwargs):\n",
    "    a = kwargs[\"a\"]\n",
    "    b = kwargs[\"b\"]\n",
    "    res = suma(a,b)\n",
    "    \n",
    "    return res"
   ]
  },
  {
   "cell_type": "code",
   "execution_count": null,
   "id": "26ac48f5",
   "metadata": {},
   "outputs": [],
   "source": [
    "func_kwargs(a=10, b=20, c=30)"
   ]
  },
  {
   "cell_type": "code",
   "execution_count": null,
   "id": "c0ea9af3",
   "metadata": {},
   "outputs": [],
   "source": [
    "#otro ejemplo\n",
    "def func(a, b, c=3, *args, **kwargs):\n",
    "    print(f\"a={a},  b={b},  c={c}\")\n",
    "    return args, kwargs"
   ]
  },
  {
   "cell_type": "code",
   "execution_count": null,
   "id": "7c4fa1be",
   "metadata": {},
   "outputs": [],
   "source": [
    "func(1,2,20,5,6,7,8,9,k=4, algo=3) #los args son tupla y los kwargs son diccionarios\n",
    "#aquí a=1,b=2,c=20, arg=tupla con 5, y kwargs diccionario k:4"
   ]
  },
  {
   "cell_type": "code",
   "execution_count": null,
   "id": "d583cf1b",
   "metadata": {},
   "outputs": [],
   "source": [
    "func(a=1,b=2,c=3,k=4, algo=3)"
   ]
  },
  {
   "cell_type": "code",
   "execution_count": null,
   "id": "5badab43",
   "metadata": {},
   "outputs": [],
   "source": [
    "func(1,2,3,d=4,2,3,4,5,6,k=4, algo=3)"
   ]
  },
  {
   "cell_type": "code",
   "execution_count": null,
   "id": "a5b4e519",
   "metadata": {},
   "outputs": [],
   "source": [
    "def funcion_args_kwargs(*args,**kwargs):\n",
    "    print(args)\n",
    "    print(kwargs)"
   ]
  },
  {
   "cell_type": "code",
   "execution_count": null,
   "id": "afb46e98",
   "metadata": {},
   "outputs": [],
   "source": [
    "funcion_args_kwargs(1,2,a=1,b=2)"
   ]
  },
  {
   "cell_type": "markdown",
   "id": "62ac5cb5",
   "metadata": {},
   "source": [
    "### Ejemplos:"
   ]
  },
  {
   "cell_type": "markdown",
   "id": "b414c895",
   "metadata": {},
   "source": [
    "1. Escribe una función `familia` que describa una familia. El progrma deberá tomar como parámetro el rol de un miembro de la familia y como argumento su nombre. El programa deberá imprimir `\"Los integrantes de la familia son:\"` seguido de los integrantes de la familia\n",
    "\n",
    "```python\n",
    ">>> familia(papa=\"Mario\",hija1=\"Sophia\", hija2=\"Elizabeth\")\n",
    "Los integrantes de la familia son: \n",
    "Mario es papa\n",
    "Sophia es hija1\n",
    "Elizabeth es hija2\n",
    "\n",
    "```"
   ]
  },
  {
   "cell_type": "code",
   "execution_count": null,
   "id": "4ee7c1f6",
   "metadata": {},
   "outputs": [],
   "source": [
    "def familia(**kwargs):\n",
    "    print(\"Los integrante de la familia son:\")\n",
    "    for integrante,nombre in kwargs.items():  #integrante es la llave del diccionario y nombre es el valor del diccionario\n",
    "        print(f\"{nombre} es {integrante}\")\n",
    "    #print(kwargs)"
   ]
  },
  {
   "cell_type": "code",
   "execution_count": null,
   "id": "706339ca",
   "metadata": {},
   "outputs": [],
   "source": [
    " familia(papa=\"Mario\",hija1=\"Sophia\", hija2=\"Elizabeth\")"
   ]
  },
  {
   "cell_type": "code",
   "execution_count": null,
   "id": "86382e8d",
   "metadata": {},
   "outputs": [],
   "source": [
    " familia(papa=\"Mario\",hija1=\"Sophia\", hija2=\"Elizabeth\",hijo4=\"Luis\",mamá=\"Ana\",primo=\"Juan\")"
   ]
  },
  {
   "cell_type": "markdown",
   "id": "bb210c59",
   "metadata": {},
   "source": [
    "2. Escribir un función `unicos` que tome una `n` cantidad de números enteros y regresa una lista con valores únicos\n",
    "\n",
    "```python\n",
    ">>> unicos(1,2,3,4,3,2)\n",
    "[1,2,3,4]\n",
    ">>> unicos(1,1,2)\n",
    "[1,2]\n",
    "\n",
    "```"
   ]
  },
  {
   "cell_type": "code",
   "execution_count": null,
   "id": "a1bd90ad",
   "metadata": {},
   "outputs": [],
   "source": [
    "def unicos(*args):\n",
    "    return set(args)"
   ]
  },
  {
   "cell_type": "code",
   "execution_count": null,
   "id": "9a5fb2ef",
   "metadata": {},
   "outputs": [],
   "source": [
    "unicos(1,2,3,4,3,2,1,1,1,1,1,1,1,1,1,1)"
   ]
  },
  {
   "cell_type": "code",
   "execution_count": null,
   "id": "e40c27c2",
   "metadata": {},
   "outputs": [],
   "source": [
    "unicos(1,1,2)"
   ]
  },
  {
   "cell_type": "code",
   "execution_count": null,
   "id": "6555170e",
   "metadata": {},
   "outputs": [],
   "source": [
    "unicos(1,2,3,4,5,6,3,4,3,2,1,3,54,3,2,1,1,[1,2,3])"
   ]
  }
 ],
 "metadata": {
  "kernelspec": {
   "display_name": "Python 3 (ipykernel)",
   "language": "python",
   "name": "python3"
  },
  "language_info": {
   "codemirror_mode": {
    "name": "ipython",
    "version": 3
   },
   "file_extension": ".py",
   "mimetype": "text/x-python",
   "name": "python",
   "nbconvert_exporter": "python",
   "pygments_lexer": "ipython3",
   "version": "3.11.3"
  }
 },
 "nbformat": 4,
 "nbformat_minor": 5
}
