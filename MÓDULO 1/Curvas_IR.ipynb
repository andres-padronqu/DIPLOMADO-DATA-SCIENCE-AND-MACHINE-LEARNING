{
 "cells": [
  {
   "cell_type": "markdown",
   "metadata": {},
   "source": [
    "## Calibración de Curvas"
   ]
  },
  {
   "cell_type": "code",
   "execution_count": 1,
   "metadata": {
    "id": "v_QLj_pLrv1W"
   },
   "outputs": [],
   "source": [
    "#Librerías\n",
    "import numpy as np\n",
    "import matplotlib.pyplot as plt\n",
    "from scipy.interpolate import interp1d\n",
    "import pandas as pd\n",
    "from datetime import datetime, time,date,timedelta"
   ]
  },
  {
   "cell_type": "code",
   "execution_count": 2,
   "metadata": {
    "id": "WYupPiABBg4Z"
   },
   "outputs": [],
   "source": [
    "# Convert dateTime of python in excel serial number\n",
    "def datetime_to_excel_date(date1):\n",
    "    temp = datetime(1899, 12, 30)    # Note, not 31st Dec but 30th!\n",
    "    delta = date1 - temp\n",
    "    return int(float(delta.days) + (float(delta.seconds) / 86400))\n",
    "\n",
    "\n",
    "def get_date_from_tenor(date, tenor):\n",
    "    if tenor[-1].lower() == \"m\":\n",
    "        return date + int(tenor[:-1]) * 30\n",
    "    elif tenor[-1].lower() == \"y\":\n",
    "        return date + int(tenor[:-1]) * 360\n",
    "    elif tenor[-1].lower() == \"d\":\n",
    "        return date + int(tenor[:-1])"
   ]
  },
  {
   "cell_type": "code",
   "execution_count": 3,
   "metadata": {},
   "outputs": [
    {
     "data": {
      "text/plain": [
       "array(8.5)"
      ]
     },
     "execution_count": 3,
     "metadata": {},
     "output_type": "execute_result"
    }
   ],
   "source": [
    "## ejemplo de cómo funciona el interpolador\n",
    "\n",
    "x = [1,2,3]\n",
    "\n",
    "y = [5,12,19]\n",
    "\n",
    "interpolador = interp1d(x, y, kind=\"linear\", fill_value=\"extrapolate\")\n",
    "\n",
    "interpolador(1.5)"
   ]
  },
  {
   "cell_type": "code",
   "execution_count": 4,
   "metadata": {
    "id": "gwW7K-lBzUux"
   },
   "outputs": [],
   "source": [
    "#OBJETO CURVA\n",
    "\n",
    "class IRCurve:\n",
    "    # t es un vector de tiempos (vistos como números de serie de excel)\n",
    "    # df es el vector de factores de descuento\n",
    "    def __init__(self, t, df):\n",
    "        self.t = t.copy()\n",
    "        self.log_df = np.log(df)\n",
    "        self.interp = interp1d(self.t, self.log_df, kind ='linear', fill_value=\"extrapolate\")  # es una función\n",
    "\n",
    "    # ti es un número\n",
    "    def discount_factor(self, ti):\n",
    "        aux_ln_disc = self.interp(ti)\n",
    "        return np.exp(aux_ln_disc)\n",
    "\n",
    "    ## date_from < date_to\n",
    "    def discount_factor_fwd(self, date_from, date_to):\n",
    "        return self.discount_factor(date_to) / self.discount_factor(date_from)\n",
    "\n",
    "    def fwd_rate(self, date_from, date_to):\n",
    "        Delta = (date_to - date_from)/360\n",
    "        libor = (self.discount_factor(date_from)/self.discount_factor(date_to) - 1) / Delta\n",
    "        return libor"
   ]
  },
  {
   "cell_type": "markdown",
   "metadata": {},
   "source": [
    "**CETES**"
   ]
  },
  {
   "cell_type": "code",
   "execution_count": 5,
   "metadata": {
    "id": "sP70CwJz-Roj"
   },
   "outputs": [],
   "source": [
    "# inputs de mercado\n",
    "value_date = datetime_to_excel_date(datetime(2024, 12, 3))\n",
    "\n",
    "tenors = [\"1M\", \"3M\", \"6M\", \"12M\", \"24M\"]\n",
    "mkt_rate = np.array([0.099, 0.0988, 0.0999, 0.102, 0.1008])\n"
   ]
  },
  {
   "cell_type": "markdown",
   "metadata": {},
   "source": [
    "(d_1 - d_2).days / 360\n",
    "\n",
    "(d_1 - d_2) / 460"
   ]
  },
  {
   "cell_type": "code",
   "execution_count": 6,
   "metadata": {
    "colab": {
     "base_uri": "https://localhost:8080/"
    },
    "id": "W12F31fqFvW-",
    "outputId": "cc003ab2-c67f-49aa-f01b-809259a58589"
   },
   "outputs": [
    {
     "name": "stdout",
     "output_type": "stream",
     "text": [
      "[45659, 45719, 45809, 45989, 46349] [0.9918175055789734, 0.9758953840148337, 0.9524263060145722, 0.9074410163339383, 0.8322237017310253]\n"
     ]
    }
   ],
   "source": [
    "# creamos nuestra curva con la solución analítica\n",
    "end_dates = [get_date_from_tenor(value_date, tenor) for tenor in tenors]\n",
    "\n",
    "deltas = [(t - value_date) / 360 for t in end_dates]\n",
    "\n",
    "disc_factor = [1/(1+r*t) for (r,t) in zip(mkt_rate, deltas)]\n",
    "\n",
    "print(end_dates, disc_factor)\n"
   ]
  },
  {
   "cell_type": "code",
   "execution_count": 7,
   "metadata": {},
   "outputs": [
    {
     "data": {
      "text/plain": [
       "0.8690189420927451"
      ]
     },
     "execution_count": 7,
     "metadata": {},
     "output_type": "execute_result"
    }
   ],
   "source": [
    "depo_curve = IRCurve([value_date] + end_dates, [1] + disc_factor)\n",
    "\n",
    "depo_curve.discount_factor(46169)"
   ]
  },
  {
   "cell_type": "code",
   "execution_count": 8,
   "metadata": {
    "colab": {
     "base_uri": "https://localhost:8080/"
    },
    "id": "vVR7UMJbGalS",
    "outputId": "7f92a71f-e101-4e80-e1d7-7fbd9ea93fbb"
   },
   "outputs": [
    {
     "data": {
      "text/plain": [
       "[(45659, 0.9918175055789734),\n",
       " (45719, 0.9758953840148337),\n",
       " (45809, 0.9524263060145722),\n",
       " (45989, 0.9074410163339383),\n",
       " (46349, 0.8322237017310253)]"
      ]
     },
     "execution_count": 8,
     "metadata": {},
     "output_type": "execute_result"
    }
   ],
   "source": [
    "# aquí pdemos ver los factores de descuento que hemos calculado\n",
    "list(zip(end_dates, disc_factor))"
   ]
  },
  {
   "cell_type": "code",
   "execution_count": 9,
   "metadata": {
    "colab": {
     "base_uri": "https://localhost:8080/",
     "height": 447
    },
    "id": "MFyh4ENEHWrv",
    "outputId": "e57af509-33ac-4ead-d4be-47860e64ccf3"
   },
   "outputs": [
    {
     "data": {
      "text/plain": [
       "[<matplotlib.lines.Line2D at 0x2c120973f40>]"
      ]
     },
     "execution_count": 9,
     "metadata": {},
     "output_type": "execute_result"
    },
    {
     "data": {
      "image/png": "[encoded data removed]",
      "text/plain": [
       "<Figure size 640x480 with 1 Axes>"
      ]
     },
     "metadata": {},
     "output_type": "display_data"
    }
   ],
   "source": [
    "aux_dt = np.arange(value_date, end_dates[-1], 1)\n",
    "aux_df = [depo_curve.discount_factor(t) for t in aux_dt]\n",
    "\n",
    "plt.plot(aux_dt, aux_df)"
   ]
  },
  {
   "cell_type": "code",
   "execution_count": 10,
   "metadata": {
    "colab": {
     "base_uri": "https://localhost:8080/"
    },
    "id": "a-xPowgUEWea",
    "outputId": "ec4c9927-4f90-4810-b2bd-b68bc8ed11a0"
   },
   "outputs": [
    {
     "name": "stdout",
     "output_type": "stream",
     "text": [
      "precio =  8.6901894 \n",
      "tasa = 10.0482\n"
     ]
    }
   ],
   "source": [
    "## calcular cete a 18M\n",
    "vencimiento = get_date_from_tenor(value_date, \"18M\")\n",
    "\n",
    "delta_18M = (vencimiento - value_date) /360\n",
    "disc_18M = depo_curve.discount_factor(vencimiento)\n",
    "precio = round(10 * disc_18M, 7)\n",
    "\n",
    "rate_18M = (1/ disc_18M - 1) / delta_18M\n",
    "\n",
    "print(f\"precio =  {precio} \\ntasa = {round(100*rate_18M, 4)}\")"
   ]
  },
  {
   "cell_type": "markdown",
   "metadata": {
    "id": "UVPOIETfJI4D"
   },
   "source": [
    "## **Calibración de la curva**\n",
    "\n",
    "* Para hacer optimización o búsqueda de ceros, tenemos que definir clases para crear los instrumentos.\n",
    "\n",
    "* Cada clase debe tener un método en común (implicit_rate) el cual depende de la curva que queremos calibrar.\n",
    "\n",
    "* Con ese método y una curva que funciona como incógnita, podemos calcular la tasa implícita de modelo. El objetivo es obtener la curva que nos recupera el vector de tasas de mercado."
   ]
  },
  {
   "cell_type": "code",
   "execution_count": 11,
   "metadata": {
    "id": "T0rP1e7hJHq7"
   },
   "outputs": [],
   "source": [
    "class Depo:\n",
    "    def __init__(self, start_date, tenor):\n",
    "        self.start_date = start_date\n",
    "        self.end_date = get_date_from_tenor(start_date, tenor)\n",
    "    \n",
    "    # tasa par de mercado\n",
    "    def implicit_rate(self, estimation_curve):\n",
    "        libor = estimation_curve.fwd_rate(self.start_date, self.end_date)\n",
    "        return libor\n",
    "\n",
    "    def mty_date(self):\n",
    "        return self.end_date\n"
   ]
  },
  {
   "cell_type": "code",
   "execution_count": 12,
   "metadata": {},
   "outputs": [
    {
     "ename": "IndentationError",
     "evalue": "expected an indented block after function definition on line 5 (2969211102.py, line 8)",
     "output_type": "error",
     "traceback": [
      "\u001b[1;36m  Cell \u001b[1;32mIn[12], line 8\u001b[1;36m\u001b[0m\n\u001b[1;33m    def implicit_rate\u001b[0m\n\u001b[1;37m    ^\u001b[0m\n\u001b[1;31mIndentationError\u001b[0m\u001b[1;31m:\u001b[0m expected an indented block after function definition on line 5\n"
     ]
    }
   ],
   "source": [
    "# en caso de querer usar otros instruemtnos, basta con definir su clase\n",
    "\n",
    "# swap fijo vs flotante\n",
    "class Swap:\n",
    "    def __init__(self, start_date, tenor, freq, curva_est):\n",
    "    \n",
    "    ## tasa par del swap\n",
    "    def implicit_rate\n",
    "    \n",
    "    def mty_date(self):\n",
    "        return self.end_date"
   ]
  },
  {
   "cell_type": "code",
   "execution_count": 13,
   "metadata": {
    "id": "Out8N4UdeVao"
   },
   "outputs": [],
   "source": [
    "# inputs de mercado\n",
    "value_date = datetime_to_excel_date(datetime(2024, 12, 3))\n",
    "\n",
    "tenors = [\"1M\", \"3M\", \"6M\", \"12M\", \"24M\"]\n",
    "mkt_rates = np.array([0.099, 0.0988, 0.0999, 0.102, 0.1008])"
   ]
  },
  {
   "cell_type": "code",
   "execution_count": 14,
   "metadata": {},
   "outputs": [
    {
     "data": {
      "text/plain": [
       "[<__main__.Depo at 0x2c120b73160>,\n",
       " <__main__.Depo at 0x2c120b72fe0>,\n",
       " <__main__.Depo at 0x2c120b72f20>,\n",
       " <__main__.Depo at 0x2c120b73070>,\n",
       " <__main__.Depo at 0x2c120b72aa0>]"
      ]
     },
     "execution_count": 14,
     "metadata": {},
     "output_type": "execute_result"
    }
   ],
   "source": [
    "# creamos nuestros instrumentos\n",
    "instruments = [Depo(value_date, T) for T in tenors]\n",
    "\n",
    "instruments"
   ]
  },
  {
   "cell_type": "code",
   "execution_count": 15,
   "metadata": {},
   "outputs": [
    {
     "data": {
      "text/plain": [
       "[45659, 45719, 45809, 45989, 46349]"
      ]
     },
     "execution_count": 15,
     "metadata": {},
     "output_type": "execute_result"
    }
   ],
   "source": [
    "# calculamos las fechas de vencimiento\n",
    "dates = [x.mty_date() for x in instruments]\n",
    "dates"
   ]
  },
  {
   "cell_type": "code",
   "execution_count": 16,
   "metadata": {
    "colab": {
     "base_uri": "https://localhost:8080/"
    },
    "id": "dXUC76mueVdF",
    "outputId": "2b148a52-38bb-4692-cd47-8534d89d0579"
   },
   "outputs": [
    {
     "name": "stdout",
     "output_type": "stream",
     "text": [
      "[0.9918960293616431, 0.9759327058838598, 0.9519281179232552, 0.9042922009070309, 0.8196823792286387]\n"
     ]
    }
   ],
   "source": [
    "#calculamos una semilla de factores de descuento\n",
    "seed = [np.exp(-(t-value_date) * r / 365) for (r,t) in zip(mkt_rates, dates)]\n",
    "print(seed)\n"
   ]
  },
  {
   "cell_type": "code",
   "execution_count": 17,
   "metadata": {},
   "outputs": [
    {
     "data": {
      "text/plain": [
       "[0.09804217859695363,\n",
       " 0.09864325263838136,\n",
       " 0.10099897496802468,\n",
       " 0.10583724928399407,\n",
       " 0.10999237347339896]"
      ]
     },
     "execution_count": 17,
     "metadata": {},
     "output_type": "execute_result"
    }
   ],
   "source": [
    "# con lo anterior podemos construir una curva\n",
    "example_curve = IRCurve([value_date] + dates, [1] + seed)\n",
    "\n",
    "# con la curva anterior podemos calcular las tasas implícitas para cada depósito\n",
    "[x.implicit_rate(example_curve) for x in instruments]"
   ]
  },
  {
   "cell_type": "code",
   "execution_count": null,
   "metadata": {},
   "outputs": [],
   "source": [
    "mkt_rates = np.array([0.099, 0.0988, 0.0999, 0.102, 0.1008])"
   ]
  },
  {
   "cell_type": "markdown",
   "metadata": {
    "id": "AetXlvLDjv4O"
   },
   "source": [
    "Como vemos en la celda anterior, las tasas de modelo no son iguales a las tasas de mercado.\n",
    "\n",
    "En la siguiente celda hacemos un algoritmo para mover la curva y recuperar las tasas de mercado:"
   ]
  },
  {
   "cell_type": "code",
   "execution_count": 18,
   "metadata": {
    "id": "aOI9hxiieVfx"
   },
   "outputs": [],
   "source": [
    "def zero_function(zeros):\n",
    "    #dates = [x.mty_date() for x in instruments]\n",
    "    #print(len(dates), len(zeros))\n",
    "    aux_curve = IRCurve([value_date] + dates, [1] + list(zeros))\n",
    "    \n",
    "    ## reevaluamos cada uno de los instrumentos dentro de la cartera\n",
    "    model_quotes = [x.implicit_rate(aux_curve) for x in instruments]\n",
    "    \n",
    "    error = [1_000_000 * abs(x - y) for (x,y) in zip(model_quotes, mkt_rates)]\n",
    "    return error"
   ]
  },
  {
   "cell_type": "code",
   "execution_count": 19,
   "metadata": {
    "colab": {
     "base_uri": "https://localhost:8080/"
    },
    "id": "06g9OwSDl-Qo",
    "outputId": "2e28c211-2913-42bd-e8e0-60ef882ae05f"
   },
   "outputs": [
    {
     "data": {
      "text/plain": [
       "[957.8214030463716,\n",
       " 156.74736161863655,\n",
       " 1098.9749680246769,\n",
       " 3837.249283994079,\n",
       " 9192.373473398962]"
      ]
     },
     "execution_count": 19,
     "metadata": {},
     "output_type": "execute_result"
    }
   ],
   "source": [
    "# aquí podemos ver el error que estamos cometiendo en recuperar la tasa de cada instrumento\n",
    "zero_function(seed)"
   ]
  },
  {
   "cell_type": "code",
   "execution_count": 67,
   "metadata": {
    "colab": {
     "base_uri": "https://localhost:8080/"
    },
    "id": "2W_tjE-tnZTk",
    "outputId": "38b017aa-dd9d-4bb4-ab8d-ada93a6fbb13"
   },
   "outputs": [
    {
     "data": {
      "text/plain": [
       "957.8214030463716"
      ]
     },
     "execution_count": 67,
     "metadata": {},
     "output_type": "execute_result"
    }
   ],
   "source": [
    "# comprobación para el primer caso\n",
    "1_000_000 * abs(0.09804217859695363 - 0.099)"
   ]
  },
  {
   "cell_type": "code",
   "execution_count": 20,
   "metadata": {
    "colab": {
     "base_uri": "https://localhost:8080/"
    },
    "id": "7LJFHMwnk5Zo",
    "outputId": "3b62bf79-c3d2-4174-a5e1-0efc58b2b85d"
   },
   "outputs": [
    {
     "data": {
      "text/plain": [
       "array([0.99181751, 0.97589538, 0.95242631, 0.90744102, 0.8322237 ])"
      ]
     },
     "execution_count": 20,
     "metadata": {},
     "output_type": "execute_result"
    }
   ],
   "source": [
    "# calculamos el vector de zeros que recupera los precios de mercado\n",
    "\n",
    "from scipy import optimize\n",
    "zeros_sol = optimize.newton_krylov(zero_function, seed)\n",
    "zeros_sol\n"
   ]
  },
  {
   "cell_type": "code",
   "execution_count": 21,
   "metadata": {},
   "outputs": [
    {
     "data": {
      "text/plain": [
       "[0.09900000000043008,\n",
       " 0.09879999999977152,\n",
       " 0.09990000000007893,\n",
       " 0.10200000000005649,\n",
       " 0.10080000000000089]"
      ]
     },
     "execution_count": 21,
     "metadata": {},
     "output_type": "execute_result"
    }
   ],
   "source": [
    "# ... y con este vector construimos una curva\n",
    "optim_curva = IRCurve([value_date] + dates, [1] + list(zeros_sol))\n",
    "\n",
    "# con la curva optimizada, volvemos a calcular tasas implícitas\n",
    "[x.implicit_rate(optim_curva) for x in instruments]"
   ]
  },
  {
   "cell_type": "code",
   "execution_count": 22,
   "metadata": {
    "colab": {
     "base_uri": "https://localhost:8080/"
    },
    "id": "09ovPyLXoSRe",
    "outputId": "6ca44550-6d0d-4947-ed58-814092db4d1c"
   },
   "outputs": [
    {
     "data": {
      "text/plain": [
       "array([0.099 , 0.0988, 0.0999, 0.102 , 0.1008])"
      ]
     },
     "execution_count": 22,
     "metadata": {},
     "output_type": "execute_result"
    }
   ],
   "source": [
    "# se parace bastante a las tasas de mercado:\n",
    "mkt_rates"
   ]
  },
  {
   "cell_type": "code",
   "execution_count": 23,
   "metadata": {
    "colab": {
     "base_uri": "https://localhost:8080/"
    },
    "id": "q0ZLnbu2oX9_",
    "outputId": "ab92c0be-b311-4c4c-d4b6-126cf44d3bec"
   },
   "outputs": [
    {
     "data": {
      "text/plain": [
       "[4.3007264416417e-13,\n",
       " 2.284838984678572e-13,\n",
       " 7.892297926304082e-14,\n",
       " 5.6496474165612653e-14,\n",
       " 8.881784197001252e-16]"
      ]
     },
     "execution_count": 23,
     "metadata": {},
     "output_type": "execute_result"
    }
   ],
   "source": [
    "#podemos medir el error\n",
    "# dividimos por 1 millón porque así escalamos el error en la función objetivo\n",
    "[x/1_000_000 for x in zero_function(zeros_sol)]"
   ]
  },
  {
   "cell_type": "code",
   "execution_count": 24,
   "metadata": {
    "id": "bnNyjB6qEwPq"
   },
   "outputs": [
    {
     "data": {
      "image/png": "[encoded data removed]",
      "text/plain": [
       "<Figure size 640x480 with 1 Axes>"
      ]
     },
     "metadata": {},
     "output_type": "display_data"
    }
   ],
   "source": [
    "## efecto de la interpolación que estoy usando para construir curvas\n",
    "# gráfica de la tasa diaria instantánea\n",
    "\n",
    "## con una interpolación log-lineal, estamos dejando constante a tramos la tasa ON\n",
    "fechas = np.arange(value_date, end_dates[-1], 1)\n",
    "daily_fwd = [optim_curva.fwd_rate(t_1, t_2) for (t_1, t_2) in zip(fechas[:-1], fechas[1:]) ]\n",
    "\n",
    "plt.plot(fechas[:-1], daily_fwd);"
   ]
  },
  {
   "cell_type": "code",
   "execution_count": null,
   "metadata": {},
   "outputs": [],
   "source": []
  }
 ],
 "metadata": {
  "colab": {
   "provenance": []
  },
  "kernelspec": {
   "display_name": "Python 3 (ipykernel)",
   "language": "python",
   "name": "python3"
  },
  "language_info": {
   "codemirror_mode": {
    "name": "ipython",
    "version": 3
   },
   "file_extension": ".py",
   "mimetype": "text/x-python",
   "name": "python",
   "nbconvert_exporter": "python",
   "pygments_lexer": "ipython3",
   "version": "3.10.9"
  }
 },
 "nbformat": 4,
 "nbformat_minor": 1
}
