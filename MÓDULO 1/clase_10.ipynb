{
 "cells": [
  {
   "attachments": {
    "logo_ITAM.png": {
     "image/png": "[encoded data removed]"
    }
   },
   "cell_type": "markdown",
   "id": "26b68ea3",
   "metadata": {},
   "source": [
    "![logo_ITAM.png](attachment:logo_ITAM.png)"
   ]
  },
  {
   "cell_type": "markdown",
   "id": "8dec4491",
   "metadata": {},
   "source": [
    "# Clase 10 - Programación Orientada a Objetos (OOP)"
   ]
  },
  {
   "cell_type": "markdown",
   "id": "e785be9a",
   "metadata": {},
   "source": [
    "Python es conocido como un lenguaje de programación multi-paradigma. Un **paradigma** en computación, es la manera (o estilo) de expresar las ideas lógicas del programa. Uno de los estilos de pogramación con el que cuenta Pyton es OOP, el cual, como su nombre lo dice, se basa en los **objetos**. A lo largo del curso hemos, implícitamente, programado en una manera orientada a objetos. \n",
    "\n",
    "**La OOP busca tratar los objetos como contenedores de información**\n",
    "\n",
    "Recordaremos que todo en Python es un objetos y podemos conocer la **clase** a la que pertenece con la función `type`. "
   ]
  },
  {
   "cell_type": "code",
   "execution_count": 1,
   "id": "5b7b1cd7",
   "metadata": {},
   "outputs": [
    {
     "data": {
      "text/plain": [
       "str"
      ]
     },
     "execution_count": 1,
     "metadata": {},
     "output_type": "execute_result"
    }
   ],
   "source": [
    "type(\"cadena de texto\")"
   ]
  },
  {
   "cell_type": "code",
   "execution_count": 2,
   "id": "70972018",
   "metadata": {},
   "outputs": [
    {
     "data": {
      "text/plain": [
       "int"
      ]
     },
     "execution_count": 2,
     "metadata": {},
     "output_type": "execute_result"
    }
   ],
   "source": [
    "type(2) "
   ]
  },
  {
   "cell_type": "code",
   "execution_count": 3,
   "id": "3fae32cd",
   "metadata": {},
   "outputs": [
    {
     "data": {
      "text/plain": [
       "(dict_keys(['nombre', 'apellido']), dict_values(['Carlos', 'Carrasco']))"
      ]
     },
     "execution_count": 3,
     "metadata": {},
     "output_type": "execute_result"
    }
   ],
   "source": [
    "a = {\"nombre\":\"Carlos\",\"apellido\":\"Carrasco\"}\n",
    "\n",
    "a.keys(), a.values()"
   ]
  },
  {
   "cell_type": "code",
   "execution_count": 4,
   "id": "7d4f643a",
   "metadata": {},
   "outputs": [
    {
     "data": {
      "text/plain": [
       "'123ABC'"
      ]
     },
     "execution_count": 4,
     "metadata": {},
     "output_type": "execute_result"
    }
   ],
   "source": [
    "cadena = \"123abc\"\n",
    "\n",
    "cadena.upper()"
   ]
  },
  {
   "cell_type": "code",
   "execution_count": 5,
   "id": "81792266",
   "metadata": {},
   "outputs": [
    {
     "data": {
      "text/plain": [
       "['__class__',\n",
       " '__class_getitem__',\n",
       " '__contains__',\n",
       " '__delattr__',\n",
       " '__delitem__',\n",
       " '__dir__',\n",
       " '__doc__',\n",
       " '__eq__',\n",
       " '__format__',\n",
       " '__ge__',\n",
       " '__getattribute__',\n",
       " '__getitem__',\n",
       " '__gt__',\n",
       " '__hash__',\n",
       " '__init__',\n",
       " '__init_subclass__',\n",
       " '__ior__',\n",
       " '__iter__',\n",
       " '__le__',\n",
       " '__len__',\n",
       " '__lt__',\n",
       " '__ne__',\n",
       " '__new__',\n",
       " '__or__',\n",
       " '__reduce__',\n",
       " '__reduce_ex__',\n",
       " '__repr__',\n",
       " '__reversed__',\n",
       " '__ror__',\n",
       " '__setattr__',\n",
       " '__setitem__',\n",
       " '__sizeof__',\n",
       " '__str__',\n",
       " '__subclasshook__',\n",
       " 'clear',\n",
       " 'copy',\n",
       " 'fromkeys',\n",
       " 'get',\n",
       " 'items',\n",
       " 'keys',\n",
       " 'pop',\n",
       " 'popitem',\n",
       " 'setdefault',\n",
       " 'update',\n",
       " 'values']"
      ]
     },
     "execution_count": 5,
     "metadata": {},
     "output_type": "execute_result"
    }
   ],
   "source": [
    "dir(dict)"
   ]
  },
  {
   "cell_type": "code",
   "execution_count": 6,
   "id": "d843680e",
   "metadata": {},
   "outputs": [
    {
     "ename": "AttributeError",
     "evalue": "'dict' object has no attribute 'upper'",
     "output_type": "error",
     "traceback": [
      "\u001b[1;31m---------------------------------------------------------------------------\u001b[0m",
      "\u001b[1;31mAttributeError\u001b[0m                            Traceback (most recent call last)",
      "Cell \u001b[1;32mIn[6], line 1\u001b[0m\n\u001b[1;32m----> 1\u001b[0m \u001b[43ma\u001b[49m\u001b[38;5;241;43m.\u001b[39;49m\u001b[43mupper\u001b[49m()\n",
      "\u001b[1;31mAttributeError\u001b[0m: 'dict' object has no attribute 'upper'"
     ]
    }
   ],
   "source": [
    "a.upper()"
   ]
  },
  {
   "cell_type": "code",
   "execution_count": 7,
   "id": "9fc1bf5c",
   "metadata": {},
   "outputs": [
    {
     "data": {
      "text/plain": [
       "dict"
      ]
     },
     "execution_count": 7,
     "metadata": {},
     "output_type": "execute_result"
    }
   ],
   "source": [
    "type({\"nombre\":\"Carlos\",\"apellido\":\"Carrasco\"}) "
   ]
  },
  {
   "cell_type": "code",
   "execution_count": 8,
   "id": "8aa17efe",
   "metadata": {},
   "outputs": [
    {
     "data": {
      "text/plain": [
       "tuple"
      ]
     },
     "execution_count": 8,
     "metadata": {},
     "output_type": "execute_result"
    }
   ],
   "source": [
    "type((\"Carlos\",)) "
   ]
  },
  {
   "cell_type": "code",
   "execution_count": 9,
   "id": "e3d4c031",
   "metadata": {},
   "outputs": [
    {
     "data": {
      "text/plain": [
       "list"
      ]
     },
     "execution_count": 9,
     "metadata": {},
     "output_type": "execute_result"
    }
   ],
   "source": [
    "type([\"Carlos\"])"
   ]
  },
  {
   "cell_type": "code",
   "execution_count": 10,
   "id": "1ae49677",
   "metadata": {},
   "outputs": [],
   "source": [
    "my_list = [1,2,3,4]"
   ]
  },
  {
   "cell_type": "code",
   "execution_count": 12,
   "id": "32176288",
   "metadata": {},
   "outputs": [
    {
     "data": {
      "text/plain": [
       "[1, 2, 3, 4]"
      ]
     },
     "execution_count": 12,
     "metadata": {},
     "output_type": "execute_result"
    }
   ],
   "source": [
    "my_list"
   ]
  },
  {
   "cell_type": "code",
   "execution_count": 13,
   "id": "a7bf8ba7",
   "metadata": {},
   "outputs": [
    {
     "data": {
      "text/plain": [
       "{1, 2, 3}"
      ]
     },
     "execution_count": 13,
     "metadata": {},
     "output_type": "execute_result"
    }
   ],
   "source": [
    "set([1,2,3])"
   ]
  },
  {
   "cell_type": "code",
   "execution_count": 14,
   "id": "586571a9",
   "metadata": {},
   "outputs": [],
   "source": [
    "my_set = {1,2,3,4}"
   ]
  },
  {
   "cell_type": "code",
   "execution_count": 15,
   "id": "63d73f04",
   "metadata": {},
   "outputs": [
    {
     "data": {
      "text/plain": [
       "['__and__',\n",
       " '__class__',\n",
       " '__class_getitem__',\n",
       " '__contains__',\n",
       " '__delattr__',\n",
       " '__dir__',\n",
       " '__doc__',\n",
       " '__eq__',\n",
       " '__format__',\n",
       " '__ge__',\n",
       " '__getattribute__',\n",
       " '__gt__',\n",
       " '__hash__',\n",
       " '__iand__',\n",
       " '__init__',\n",
       " '__init_subclass__',\n",
       " '__ior__',\n",
       " '__isub__',\n",
       " '__iter__',\n",
       " '__ixor__',\n",
       " '__le__',\n",
       " '__len__',\n",
       " '__lt__',\n",
       " '__ne__',\n",
       " '__new__',\n",
       " '__or__',\n",
       " '__rand__',\n",
       " '__reduce__',\n",
       " '__reduce_ex__',\n",
       " '__repr__',\n",
       " '__ror__',\n",
       " '__rsub__',\n",
       " '__rxor__',\n",
       " '__setattr__',\n",
       " '__sizeof__',\n",
       " '__str__',\n",
       " '__sub__',\n",
       " '__subclasshook__',\n",
       " '__xor__',\n",
       " 'add',\n",
       " 'clear',\n",
       " 'copy',\n",
       " 'difference',\n",
       " 'difference_update',\n",
       " 'discard',\n",
       " 'intersection',\n",
       " 'intersection_update',\n",
       " 'isdisjoint',\n",
       " 'issubset',\n",
       " 'issuperset',\n",
       " 'pop',\n",
       " 'remove',\n",
       " 'symmetric_difference',\n",
       " 'symmetric_difference_update',\n",
       " 'union',\n",
       " 'update']"
      ]
     },
     "execution_count": 15,
     "metadata": {},
     "output_type": "execute_result"
    }
   ],
   "source": [
    "dir(my_set)"
   ]
  },
  {
   "cell_type": "markdown",
   "id": "04176340",
   "metadata": {},
   "source": [
    "En general, un objeto cuenta con dos características especiales:\n",
    "\n",
    "* Métodos o funcionalidades\n",
    "* Atributos\n",
    "\n",
    "\n",
    "Para una persona\n",
    "* Nombre, apellido, edad: serían sus **atributos**\n",
    "* Correr, Programar, Estudiar, serían sus **métodos**\n"
   ]
  },
  {
   "cell_type": "markdown",
   "id": "611c3073",
   "metadata": {},
   "source": [
    "Considerando la lista\n",
    "```python \n",
    "elements = [3.14,\"e\",\"x^2\"]\n",
    "```"
   ]
  },
  {
   "cell_type": "code",
   "execution_count": null,
   "id": "7c9cc707",
   "metadata": {},
   "outputs": [],
   "source": [
    "#¿Qué atributos y funcionalidades tendría la lista?\n",
    "\n",
    "elements = [3.14,\"e\",\"x^2\"]"
   ]
  },
  {
   "cell_type": "code",
   "execution_count": null,
   "id": "0f774078",
   "metadata": {},
   "outputs": [],
   "source": [
    "elementos."
   ]
  },
  {
   "cell_type": "code",
   "execution_count": null,
   "id": "33f04e6e",
   "metadata": {},
   "outputs": [],
   "source": [
    "a = {1,2,3}\n",
    "\n",
    "a."
   ]
  },
  {
   "cell_type": "code",
   "execution_count": null,
   "id": "cbdbfb0e",
   "metadata": {
    "scrolled": true
   },
   "outputs": [],
   "source": [
    "dir(type([\"Carlos\"]))"
   ]
  },
  {
   "cell_type": "code",
   "execution_count": null,
   "id": "86e8a888",
   "metadata": {},
   "outputs": [],
   "source": [
    "# Un método de una lista podría ser agregar otro elemento, contar un elemento\n",
    "\n",
    "elements.append(\"four\")\n",
    "elements"
   ]
  },
  {
   "cell_type": "code",
   "execution_count": null,
   "id": "37110967",
   "metadata": {},
   "outputs": [],
   "source": [
    "elements.count(\"e\")"
   ]
  },
  {
   "cell_type": "code",
   "execution_count": null,
   "id": "64e8d802",
   "metadata": {},
   "outputs": [],
   "source": [
    "# esto es una función a la que le estamos pasando una lista\n",
    "\n",
    "type(elements)"
   ]
  },
  {
   "cell_type": "code",
   "execution_count": null,
   "id": "6570f52c",
   "metadata": {},
   "outputs": [],
   "source": [
    "len(elements)"
   ]
  },
  {
   "cell_type": "code",
   "execution_count": null,
   "id": "c2473c5d",
   "metadata": {},
   "outputs": [],
   "source": [
    "#Realmente una lista como tal no cuenta con atributos, ya que sólo podemos acceder a métodos"
   ]
  },
  {
   "cell_type": "code",
   "execution_count": null,
   "id": "32114e56",
   "metadata": {},
   "outputs": [],
   "source": [
    "[x for x in dir(list) if \"__\" not in x]"
   ]
  },
  {
   "cell_type": "code",
   "execution_count": null,
   "id": "49b3a6d7",
   "metadata": {
    "scrolled": true
   },
   "outputs": [],
   "source": [
    "[x for x in dir(dict) if \"__\" not in x]"
   ]
  },
  {
   "cell_type": "code",
   "execution_count": null,
   "id": "85d66d8c",
   "metadata": {},
   "outputs": [],
   "source": [
    "dict_1 = {1:1, 2:4, 3:9, 4:16}\n",
    "dict_2 = {\"uno\":1, \"dos\":2, \"tres\":3}\n",
    "\n",
    "dict_1.update(dict_2)\n",
    "dict_1"
   ]
  },
  {
   "cell_type": "markdown",
   "id": "4d761a56",
   "metadata": {},
   "source": [
    "Hasta ahora hemos visto diferentes *clases* de objetos: \n",
    "* `dict`. \n",
    "* `float`. \n",
    "* `str`. \n",
    "* `set`. \n",
    "* `tuple`\n",
    "* `list`. \n",
    "* `int`\n",
    "* `numpy.ndarray`\n",
    "* `dataframes`\n",
    "* ...."
   ]
  },
  {
   "cell_type": "markdown",
   "id": "734afbe5",
   "metadata": {},
   "source": [
    "Cada uno con su propia funcionalidad. ¿Qué sucedería si deséaramos declarar nuestra propia clase? Podriamos definir una nueva clase para (qué otro se les ocurre): \n",
    "\n",
    "* Trabajar con elementos matriciales\n",
    "* Trabajar con Series Indexadas\n",
    "* Para pronosticar la probabilidad de movimiento de tasa de banxico. \n",
    "* Calibrar curvas de tasas de interés\n",
    "* Resolver ecuaciones diferencias bajo cierto método"
   ]
  },
  {
   "cell_type": "markdown",
   "id": "1cc052e6",
   "metadata": {},
   "source": [
    "## Definiendo Clases en Python"
   ]
  },
  {
   "cell_type": "markdown",
   "id": "82010a2c",
   "metadata": {},
   "source": [
    "En Python, definimos una clase por medio del keyword `class`. Supongamos que queremos definir una clase `Human`. "
   ]
  },
  {
   "cell_type": "code",
   "execution_count": 16,
   "id": "4c13a510",
   "metadata": {},
   "outputs": [
    {
     "name": "stdout",
     "output_type": "stream",
     "text": [
      "Variable   Type    Data/Info\n",
      "----------------------------\n",
      "a          dict    n=2\n",
      "cadena     str     123abc\n",
      "my_list    list    n=4\n",
      "my_set     set     {1, 2, 3, 4}\n"
     ]
    }
   ],
   "source": [
    "%whos"
   ]
  },
  {
   "cell_type": "code",
   "execution_count": 17,
   "id": "5979351c",
   "metadata": {},
   "outputs": [],
   "source": [
    "class Human: \n",
    "    pass         # adorno para que te permita correrlo, es para definir una clase vacía"
   ]
  },
  {
   "cell_type": "code",
   "execution_count": 18,
   "id": "9b09c525",
   "metadata": {},
   "outputs": [
    {
     "name": "stdout",
     "output_type": "stream",
     "text": [
      "Variable   Type    Data/Info\n",
      "----------------------------\n",
      "Human      type    <class '__main__.Human'>\n",
      "a          dict    n=2\n",
      "cadena     str     123abc\n",
      "my_list    list    n=4\n",
      "my_set     set     {1, 2, 3, 4}\n"
     ]
    }
   ],
   "source": [
    "%whos"
   ]
  },
  {
   "cell_type": "code",
   "execution_count": 19,
   "id": "3bed90f9",
   "metadata": {},
   "outputs": [],
   "source": [
    "isaac = Human()\n",
    "\n",
    "## a = list(1,2,3,4,5)"
   ]
  },
  {
   "cell_type": "code",
   "execution_count": 20,
   "id": "cd8e9139",
   "metadata": {},
   "outputs": [
    {
     "name": "stdout",
     "output_type": "stream",
     "text": [
      "Variable   Type     Data/Info\n",
      "-----------------------------\n",
      "Human      type     <class '__main__.Human'>\n",
      "a          dict     n=2\n",
      "cadena     str      123abc\n",
      "isaac      Human    <__main__.Human object at 0x000001B5DB22D1E0>\n",
      "my_list    list     n=4\n",
      "my_set     set      {1, 2, 3, 4}\n"
     ]
    }
   ],
   "source": [
    "%whos"
   ]
  },
  {
   "cell_type": "code",
   "execution_count": 21,
   "id": "aec1f729",
   "metadata": {
    "scrolled": true
   },
   "outputs": [
    {
     "data": {
      "text/plain": [
       "__main__.Human"
      ]
     },
     "execution_count": 21,
     "metadata": {},
     "output_type": "execute_result"
    }
   ],
   "source": [
    "type(isaac)"
   ]
  },
  {
   "cell_type": "code",
   "execution_count": 22,
   "id": "03f645bc",
   "metadata": {},
   "outputs": [
    {
     "data": {
      "text/plain": [
       "<__main__.Human at 0x1b5db22d1e0>"
      ]
     },
     "execution_count": 22,
     "metadata": {},
     "output_type": "execute_result"
    }
   ],
   "source": [
    "isaac"
   ]
  },
  {
   "cell_type": "code",
   "execution_count": 23,
   "id": "b21d3fb7",
   "metadata": {
    "scrolled": false
   },
   "outputs": [
    {
     "data": {
      "text/plain": [
       "['__class__',\n",
       " '__delattr__',\n",
       " '__dict__',\n",
       " '__dir__',\n",
       " '__doc__',\n",
       " '__eq__',\n",
       " '__format__',\n",
       " '__ge__',\n",
       " '__getattribute__',\n",
       " '__gt__',\n",
       " '__hash__',\n",
       " '__init__',\n",
       " '__init_subclass__',\n",
       " '__le__',\n",
       " '__lt__',\n",
       " '__module__',\n",
       " '__ne__',\n",
       " '__new__',\n",
       " '__reduce__',\n",
       " '__reduce_ex__',\n",
       " '__repr__',\n",
       " '__setattr__',\n",
       " '__sizeof__',\n",
       " '__str__',\n",
       " '__subclasshook__',\n",
       " '__weakref__']"
      ]
     },
     "execution_count": 23,
     "metadata": {},
     "output_type": "execute_result"
    }
   ],
   "source": [
    "dir(isaac)"
   ]
  },
  {
   "cell_type": "code",
   "execution_count": null,
   "id": "adeac0a7",
   "metadata": {},
   "outputs": [],
   "source": [
    "# por ahora no puedo ejecutar ninguna acción con este objeto:\n",
    "isaac."
   ]
  },
  {
   "cell_type": "code",
   "execution_count": 24,
   "id": "cdeaa3b2",
   "metadata": {},
   "outputs": [],
   "source": [
    "lista = [1,2,3,4,5]"
   ]
  },
  {
   "cell_type": "code",
   "execution_count": 25,
   "id": "e7497e26",
   "metadata": {},
   "outputs": [
    {
     "data": {
      "text/plain": [
       "list"
      ]
     },
     "execution_count": 25,
     "metadata": {},
     "output_type": "execute_result"
    }
   ],
   "source": [
    "type(lista)"
   ]
  },
  {
   "cell_type": "code",
   "execution_count": 26,
   "id": "a4cbba4d",
   "metadata": {},
   "outputs": [
    {
     "data": {
      "text/plain": [
       "[1, 2, 3, 4, 5]"
      ]
     },
     "execution_count": 26,
     "metadata": {},
     "output_type": "execute_result"
    }
   ],
   "source": [
    "lista"
   ]
  },
  {
   "cell_type": "code",
   "execution_count": null,
   "id": "1a3fa39d",
   "metadata": {},
   "outputs": [],
   "source": [
    "list(1,2,3,4,5)"
   ]
  },
  {
   "cell_type": "markdown",
   "id": "6750822d",
   "metadata": {},
   "source": [
    "`isaac` es una variable que guarda un objeto de clase `Human`. Sin embargo, `isaac` no tiene ningún atributo o funcionalidad definida hasta el momento. Al momento de crear una **instancia de clase**, en ocasiones, es necesario **contruir** o inicializar los elementos de la clase (atributos). \n",
    "\n",
    "\n",
    "Al momento de crear un nuevo objeto del tipo `Human`, tendría sentido que cada objeto tenga un *nombre*, *apellido*, *edad*, *genero*, entre otros. Para esto es necesario tener un **constructor** con las propiedades básicas de un `Human` al momento de su creación. \n",
    "\n",
    "\n",
    "En el mundo de OOP, un constructor es el método principal que se debe definir al crear una nueva clase.\n",
    "\n",
    "\n",
    "Dentro de una clase, definimos un contructor por medio de `__init__` (El constructor tiene dos guiones bajos (__))"
   ]
  },
  {
   "cell_type": "markdown",
   "id": "886eca18",
   "metadata": {},
   "source": [
    "De esta manera, la sintaxis para definir una nueva clase (hasta ahora) queda dada por:\n",
    "\n",
    "```python \n",
    "\n",
    "class ClassName:\n",
    "    \n",
    "    def __init__(self, p1, p2, ..., pk):\n",
    "        self.p1 = p1\n",
    "        self.p2 = p2\n",
    "        ...\n",
    "        self.pk = pk\n",
    "\n",
    "```\n",
    "\n",
    "Donde: \n",
    "* `self` es una palabra reservada que hace referencia al objeto en cuestión, i.e., a la instancia del objeto definido\n",
    "\n",
    "\n",
    "* `p1,...,pk` son los parámetros que le daremos al constructor - vamos a necesitar todos los parámetros cuando instanciemos un objeto nuevo de este tipo.\n",
    "\n",
    "\n",
    "* `self.p1, ...., self.pk` son atributos de la clase.\n",
    "\n",
    "\n",
    "\n",
    "**Nota**\n",
    "* Cada `pi` es un elemento que no existe dentro de la clase.\n",
    "* `self.pi` es un elemento de la clase. Esta variable es propia de cada instancia (cada objeto del tipo `Human`)."
   ]
  },
  {
   "cell_type": "code",
   "execution_count": 27,
   "id": "a3a06f7f",
   "metadata": {},
   "outputs": [],
   "source": [
    "class Human:\n",
    "    \n",
    "    # este método es opcional, no es necesario definirlo para cada clase\n",
    "    def __init__(self, name, last_name, age, gender):\n",
    "        print(\"Estamos creando un nuevo humano\")\n",
    "        self.name = name\n",
    "        self.last_name = last_name\n",
    "        self.age = age\n",
    "        self.gender = gender\n",
    "        self.full_name = name + \" \" + last_name\n",
    "        "
   ]
  },
  {
   "cell_type": "code",
   "execution_count": 28,
   "id": "0d91ce2c",
   "metadata": {},
   "outputs": [
    {
     "ename": "TypeError",
     "evalue": "Human.__init__() missing 4 required positional arguments: 'name', 'last_name', 'age', and 'gender'",
     "output_type": "error",
     "traceback": [
      "\u001b[1;31m---------------------------------------------------------------------------\u001b[0m",
      "\u001b[1;31mTypeError\u001b[0m                                 Traceback (most recent call last)",
      "Cell \u001b[1;32mIn[28], line 1\u001b[0m\n\u001b[1;32m----> 1\u001b[0m \u001b[43mHuman\u001b[49m\u001b[43m(\u001b[49m\u001b[43m)\u001b[49m\n",
      "\u001b[1;31mTypeError\u001b[0m: Human.__init__() missing 4 required positional arguments: 'name', 'last_name', 'age', and 'gender'"
     ]
    }
   ],
   "source": [
    "Human()"
   ]
  },
  {
   "cell_type": "code",
   "execution_count": 29,
   "id": "1b656154",
   "metadata": {},
   "outputs": [
    {
     "name": "stdout",
     "output_type": "stream",
     "text": [
      "Estamos creando un nuevo humano\n"
     ]
    }
   ],
   "source": [
    "x = Human(\"Arturo\", \"Zam\", 30, \"H\")"
   ]
  },
  {
   "cell_type": "code",
   "execution_count": 30,
   "id": "231a23e2",
   "metadata": {},
   "outputs": [
    {
     "data": {
      "text/plain": [
       "__main__.Human"
      ]
     },
     "execution_count": 30,
     "metadata": {},
     "output_type": "execute_result"
    }
   ],
   "source": [
    "type(x)"
   ]
  },
  {
   "cell_type": "code",
   "execution_count": 32,
   "id": "b390f5dd",
   "metadata": {},
   "outputs": [
    {
     "data": {
      "text/plain": [
       "<__main__.Human at 0x1b5dbd3bcd0>"
      ]
     },
     "execution_count": 32,
     "metadata": {},
     "output_type": "execute_result"
    }
   ],
   "source": [
    "x"
   ]
  },
  {
   "cell_type": "code",
   "execution_count": 31,
   "id": "95c41ca0",
   "metadata": {},
   "outputs": [
    {
     "data": {
      "text/plain": [
       "['__class__',\n",
       " '__delattr__',\n",
       " '__dict__',\n",
       " '__dir__',\n",
       " '__doc__',\n",
       " '__eq__',\n",
       " '__format__',\n",
       " '__ge__',\n",
       " '__getattribute__',\n",
       " '__gt__',\n",
       " '__hash__',\n",
       " '__init__',\n",
       " '__init_subclass__',\n",
       " '__le__',\n",
       " '__lt__',\n",
       " '__module__',\n",
       " '__ne__',\n",
       " '__new__',\n",
       " '__reduce__',\n",
       " '__reduce_ex__',\n",
       " '__repr__',\n",
       " '__setattr__',\n",
       " '__sizeof__',\n",
       " '__str__',\n",
       " '__subclasshook__',\n",
       " '__weakref__',\n",
       " 'age',\n",
       " 'full_name',\n",
       " 'gender',\n",
       " 'last_name',\n",
       " 'name']"
      ]
     },
     "execution_count": 31,
     "metadata": {},
     "output_type": "execute_result"
    }
   ],
   "source": [
    "dir(x)"
   ]
  },
  {
   "cell_type": "code",
   "execution_count": null,
   "id": "58af0691",
   "metadata": {},
   "outputs": [],
   "source": [
    "x."
   ]
  },
  {
   "cell_type": "code",
   "execution_count": 33,
   "id": "4eb76ac7",
   "metadata": {},
   "outputs": [
    {
     "data": {
      "text/plain": [
       "30"
      ]
     },
     "execution_count": 33,
     "metadata": {},
     "output_type": "execute_result"
    }
   ],
   "source": [
    "x.age"
   ]
  },
  {
   "cell_type": "code",
   "execution_count": 34,
   "id": "bad7ff86",
   "metadata": {},
   "outputs": [
    {
     "data": {
      "text/plain": [
       "'H'"
      ]
     },
     "execution_count": 34,
     "metadata": {},
     "output_type": "execute_result"
    }
   ],
   "source": [
    "x.gender"
   ]
  },
  {
   "cell_type": "code",
   "execution_count": 35,
   "id": "5d9d73a2",
   "metadata": {},
   "outputs": [
    {
     "data": {
      "text/plain": [
       "'Arturo Zam'"
      ]
     },
     "execution_count": 35,
     "metadata": {},
     "output_type": "execute_result"
    }
   ],
   "source": [
    "x.full_name"
   ]
  },
  {
   "cell_type": "code",
   "execution_count": 36,
   "id": "d87590f7",
   "metadata": {},
   "outputs": [],
   "source": [
    "x.age = 40"
   ]
  },
  {
   "cell_type": "code",
   "execution_count": 37,
   "id": "db49864d",
   "metadata": {},
   "outputs": [
    {
     "data": {
      "text/plain": [
       "40"
      ]
     },
     "execution_count": 37,
     "metadata": {},
     "output_type": "execute_result"
    }
   ],
   "source": [
    "x.age"
   ]
  },
  {
   "cell_type": "code",
   "execution_count": 38,
   "id": "1649b921",
   "metadata": {},
   "outputs": [],
   "source": [
    "class Human:\n",
    "    \n",
    "    # este método es opcional, no es necesario definirlo para cada clase\n",
    "    def __init__(self, name, last_name, age, gender):\n",
    "        self._name = name\n",
    "        self.last_name = last_name\n",
    "        self.age = age\n",
    "        self.gender = gender\n",
    "        try:\n",
    "            self.full_name = name + \" \" + last_name\n",
    "        except:\n",
    "            self.full_name = \"No_name\""
   ]
  },
  {
   "cell_type": "code",
   "execution_count": 39,
   "id": "abc53ca8",
   "metadata": {},
   "outputs": [],
   "source": [
    "#juan = Human()   # esto da error porque ahora necesitamos argumentos para crear un objeto Human\n",
    "\n",
    "juan = Human(\"Juan\", \"Perez\", 70, \"hombre\")"
   ]
  },
  {
   "cell_type": "code",
   "execution_count": 40,
   "id": "0cc1bcf5",
   "metadata": {},
   "outputs": [
    {
     "data": {
      "text/plain": [
       "['__class__',\n",
       " '__delattr__',\n",
       " '__dict__',\n",
       " '__dir__',\n",
       " '__doc__',\n",
       " '__eq__',\n",
       " '__format__',\n",
       " '__ge__',\n",
       " '__getattribute__',\n",
       " '__gt__',\n",
       " '__hash__',\n",
       " '__init__',\n",
       " '__init_subclass__',\n",
       " '__le__',\n",
       " '__lt__',\n",
       " '__module__',\n",
       " '__ne__',\n",
       " '__new__',\n",
       " '__reduce__',\n",
       " '__reduce_ex__',\n",
       " '__repr__',\n",
       " '__setattr__',\n",
       " '__sizeof__',\n",
       " '__str__',\n",
       " '__subclasshook__',\n",
       " '__weakref__',\n",
       " '_name',\n",
       " 'age',\n",
       " 'full_name',\n",
       " 'gender',\n",
       " 'last_name']"
      ]
     },
     "execution_count": 40,
     "metadata": {},
     "output_type": "execute_result"
    }
   ],
   "source": [
    "dir(juan)"
   ]
  },
  {
   "cell_type": "code",
   "execution_count": 41,
   "id": "9c72a6c1",
   "metadata": {},
   "outputs": [
    {
     "data": {
      "text/plain": [
       "'Juan Perez'"
      ]
     },
     "execution_count": 41,
     "metadata": {},
     "output_type": "execute_result"
    }
   ],
   "source": [
    "juan.full_name"
   ]
  },
  {
   "cell_type": "code",
   "execution_count": 42,
   "id": "cbc4bafb",
   "metadata": {},
   "outputs": [
    {
     "data": {
      "text/plain": [
       "__main__.Human"
      ]
     },
     "execution_count": 42,
     "metadata": {},
     "output_type": "execute_result"
    }
   ],
   "source": [
    "type(juan)"
   ]
  },
  {
   "cell_type": "code",
   "execution_count": 44,
   "id": "20034855",
   "metadata": {},
   "outputs": [],
   "source": [
    "juan._name = \"enifnfifn\""
   ]
  },
  {
   "cell_type": "code",
   "execution_count": 45,
   "id": "7ac42979",
   "metadata": {},
   "outputs": [
    {
     "data": {
      "text/plain": [
       "'enifnfifn'"
      ]
     },
     "execution_count": 45,
     "metadata": {},
     "output_type": "execute_result"
    }
   ],
   "source": [
    "juan._name"
   ]
  },
  {
   "cell_type": "code",
   "execution_count": null,
   "id": "bd4ed541",
   "metadata": {},
   "outputs": [],
   "source": [
    "juan."
   ]
  },
  {
   "cell_type": "code",
   "execution_count": null,
   "id": "9213103c",
   "metadata": {},
   "outputs": [],
   "source": [
    "l = [1,2,3,4,5]"
   ]
  },
  {
   "cell_type": "code",
   "execution_count": null,
   "id": "d88d7f94",
   "metadata": {},
   "outputs": [],
   "source": [
    "l"
   ]
  },
  {
   "cell_type": "code",
   "execution_count": null,
   "id": "387229c4",
   "metadata": {},
   "outputs": [],
   "source": [
    "cadena"
   ]
  },
  {
   "cell_type": "code",
   "execution_count": null,
   "id": "e2f0b51f",
   "metadata": {},
   "outputs": [],
   "source": [
    "a = 3 + 2j\n",
    "a"
   ]
  },
  {
   "cell_type": "code",
   "execution_count": null,
   "id": "a9037b4c",
   "metadata": {},
   "outputs": [],
   "source": [
    "# esta representación no describe al objeto\n",
    "juan"
   ]
  },
  {
   "cell_type": "code",
   "execution_count": null,
   "id": "791efc3d",
   "metadata": {
    "scrolled": false
   },
   "outputs": [],
   "source": [
    "dir(juan)"
   ]
  },
  {
   "cell_type": "code",
   "execution_count": null,
   "id": "a595cfba",
   "metadata": {},
   "outputs": [],
   "source": [
    "juan.age"
   ]
  },
  {
   "cell_type": "markdown",
   "id": "2109a3ec",
   "metadata": {},
   "source": [
    "Al definir una nueva instancia de la clase - la variable `juan` - vemos que tiene 4 atributos:"
   ]
  },
  {
   "cell_type": "code",
   "execution_count": null,
   "id": "52e57602",
   "metadata": {},
   "outputs": [],
   "source": [
    "juan.name"
   ]
  },
  {
   "cell_type": "code",
   "execution_count": null,
   "id": "00037adb",
   "metadata": {},
   "outputs": [],
   "source": [
    "# esto es algo que hay que cuidar; nos permite modificar muy fácilmente los atributos de la clase\n",
    "juan.age = 0 "
   ]
  },
  {
   "cell_type": "code",
   "execution_count": null,
   "id": "ecb8e8b2",
   "metadata": {},
   "outputs": [],
   "source": [
    "juan.age"
   ]
  },
  {
   "cell_type": "code",
   "execution_count": null,
   "id": "66b426f9",
   "metadata": {},
   "outputs": [],
   "source": [
    "juan.last_name"
   ]
  },
  {
   "cell_type": "code",
   "execution_count": null,
   "id": "6d59aa61",
   "metadata": {},
   "outputs": [],
   "source": [
    "juan.gender"
   ]
  },
  {
   "cell_type": "markdown",
   "id": "ec1da4c3",
   "metadata": {},
   "source": [
    "Decimos que la variable `juan` es del tipo `Human``"
   ]
  },
  {
   "cell_type": "code",
   "execution_count": null,
   "id": "ae165e75",
   "metadata": {},
   "outputs": [],
   "source": [
    "type(juan)"
   ]
  },
  {
   "cell_type": "code",
   "execution_count": null,
   "id": "71cb10d0",
   "metadata": {},
   "outputs": [],
   "source": [
    "## con esto podemos ver los métodos y atributos de la clase a la que pertenece la variable \"juan\"\n",
    "dir(juan)"
   ]
  },
  {
   "cell_type": "markdown",
   "id": "58e384db",
   "metadata": {},
   "source": [
    "**NOTA**\n",
    "Cada vez que definimos una instancia de una clase el método **constructor** se llama/ejecuta automáticamente. Al escribir, por ejemplo, \n",
    "\n",
    "```python\n",
    "algo = {\"name\":\"backprop\",\"utils\":\"gradiente\"}\n",
    "```\n",
    "Realmente, python *construye* nuestro diccionaro de la siguiente manera\n",
    "```python \n",
    "algo = dict(name=\"backprop\", utils=\"gradient\")\n",
    "\n",
    "```\n",
    "\n",
    "Está llamando a `dict` cuando escriben `{}` y genera una instancia de esa clase. "
   ]
  },
  {
   "cell_type": "markdown",
   "id": "1092b425",
   "metadata": {},
   "source": [
    "Como se explicó anteriormente, un objeto debe tener atributos como funcionalidades (estos los conocemos como métodos de la clase). En el caso de nuestra clase `Human`, una funcionalidad podría ser *cumplir años*. Para esto, podemos definir un nuevo **método** que modifique la edad de nuestro `Human` cada vez que \"cumpla años\": "
   ]
  },
  {
   "cell_type": "code",
   "execution_count": 46,
   "id": "37094b02",
   "metadata": {},
   "outputs": [],
   "source": [
    "class Human:\n",
    "    \n",
    "    def __init__(self, name, last_name, age, gender):\n",
    "        self.name = name\n",
    "        self.last_name = last_name\n",
    "        self.age = age\n",
    "        self.gender = gender\n",
    "        \n",
    "    def birthday(self):\n",
    "        self.age = self.age + 1\n",
    "        self.nueva_var = 1    # esto es una mala práctica de programación"
   ]
  },
  {
   "cell_type": "code",
   "execution_count": 47,
   "id": "5a65c1a8",
   "metadata": {},
   "outputs": [],
   "source": [
    "x = Human(\"Art\", \"Zam\", 30, \"H\")"
   ]
  },
  {
   "cell_type": "code",
   "execution_count": 48,
   "id": "9b199342",
   "metadata": {},
   "outputs": [
    {
     "data": {
      "text/plain": [
       "['__class__',\n",
       " '__delattr__',\n",
       " '__dict__',\n",
       " '__dir__',\n",
       " '__doc__',\n",
       " '__eq__',\n",
       " '__format__',\n",
       " '__ge__',\n",
       " '__getattribute__',\n",
       " '__gt__',\n",
       " '__hash__',\n",
       " '__init__',\n",
       " '__init_subclass__',\n",
       " '__le__',\n",
       " '__lt__',\n",
       " '__module__',\n",
       " '__ne__',\n",
       " '__new__',\n",
       " '__reduce__',\n",
       " '__reduce_ex__',\n",
       " '__repr__',\n",
       " '__setattr__',\n",
       " '__sizeof__',\n",
       " '__str__',\n",
       " '__subclasshook__',\n",
       " '__weakref__',\n",
       " 'age',\n",
       " 'birthday',\n",
       " 'gender',\n",
       " 'last_name',\n",
       " 'name']"
      ]
     },
     "execution_count": 48,
     "metadata": {},
     "output_type": "execute_result"
    }
   ],
   "source": [
    "dir(x)"
   ]
  },
  {
   "cell_type": "code",
   "execution_count": 49,
   "id": "0d732424",
   "metadata": {},
   "outputs": [
    {
     "data": {
      "text/plain": [
       "'Zam'"
      ]
     },
     "execution_count": 49,
     "metadata": {},
     "output_type": "execute_result"
    }
   ],
   "source": [
    "x.last_name"
   ]
  },
  {
   "cell_type": "code",
   "execution_count": 50,
   "id": "2eee91ef",
   "metadata": {},
   "outputs": [
    {
     "data": {
      "text/plain": [
       "30"
      ]
     },
     "execution_count": 50,
     "metadata": {},
     "output_type": "execute_result"
    }
   ],
   "source": [
    "x.age"
   ]
  },
  {
   "cell_type": "code",
   "execution_count": 51,
   "id": "15d64809",
   "metadata": {},
   "outputs": [],
   "source": [
    "x.birthday()"
   ]
  },
  {
   "cell_type": "code",
   "execution_count": 52,
   "id": "96482461",
   "metadata": {},
   "outputs": [
    {
     "data": {
      "text/plain": [
       "31"
      ]
     },
     "execution_count": 52,
     "metadata": {},
     "output_type": "execute_result"
    }
   ],
   "source": [
    "x.age"
   ]
  },
  {
   "cell_type": "code",
   "execution_count": 53,
   "id": "49592d71",
   "metadata": {
    "scrolled": false
   },
   "outputs": [
    {
     "data": {
      "text/plain": [
       "['__class__',\n",
       " '__delattr__',\n",
       " '__dict__',\n",
       " '__dir__',\n",
       " '__doc__',\n",
       " '__eq__',\n",
       " '__format__',\n",
       " '__ge__',\n",
       " '__getattribute__',\n",
       " '__gt__',\n",
       " '__hash__',\n",
       " '__init__',\n",
       " '__init_subclass__',\n",
       " '__le__',\n",
       " '__lt__',\n",
       " '__module__',\n",
       " '__ne__',\n",
       " '__new__',\n",
       " '__reduce__',\n",
       " '__reduce_ex__',\n",
       " '__repr__',\n",
       " '__setattr__',\n",
       " '__sizeof__',\n",
       " '__str__',\n",
       " '__subclasshook__',\n",
       " '__weakref__',\n",
       " 'age',\n",
       " 'birthday',\n",
       " 'gender',\n",
       " 'last_name',\n",
       " 'name',\n",
       " 'nueva_var']"
      ]
     },
     "execution_count": 53,
     "metadata": {},
     "output_type": "execute_result"
    }
   ],
   "source": [
    "dir(x)"
   ]
  },
  {
   "cell_type": "code",
   "execution_count": null,
   "id": "93dd325f",
   "metadata": {},
   "outputs": [],
   "source": [
    "x.nueva_var"
   ]
  },
  {
   "cell_type": "code",
   "execution_count": 62,
   "id": "0bc626ae",
   "metadata": {},
   "outputs": [],
   "source": [
    "# esto sería mejor\n",
    "\n",
    "class Human: \n",
    "    \n",
    "    aux = \"null\"\n",
    "    \n",
    "    ## tratamos de inicializar en el constructor todas las variables que se van a utilizar a lo largo de la clase\n",
    "    def __init__(self, name, last_name, age, gender):\n",
    "        self.COUNTRY = \"MXN\"\n",
    "        self._name = name\n",
    "        self._last_name = last_name\n",
    "        self._age = age\n",
    "        self._gender = gender\n",
    "        self._nueva_var = 0\n",
    "        \n",
    "    def birthday(self):\n",
    "        self._age = self._age + 1\n",
    "        self._nueva_var += 1\n",
    "        print(Human.aux)"
   ]
  },
  {
   "cell_type": "code",
   "execution_count": 56,
   "id": "cc73c279",
   "metadata": {},
   "outputs": [
    {
     "name": "stdout",
     "output_type": "stream",
     "text": [
      "Help on class Human in module __main__:\n",
      "\n",
      "class Human(builtins.object)\n",
      " |  Human(name, last_name, age, gender)\n",
      " |  \n",
      " |  Methods defined here:\n",
      " |  \n",
      " |  __init__(self, name, last_name, age, gender)\n",
      " |      Initialize self.  See help(type(self)) for accurate signature.\n",
      " |  \n",
      " |  birthday(self)\n",
      " |  \n",
      " |  ----------------------------------------------------------------------\n",
      " |  Data descriptors defined here:\n",
      " |  \n",
      " |  __dict__\n",
      " |      dictionary for instance variables (if defined)\n",
      " |  \n",
      " |  __weakref__\n",
      " |      list of weak references to the object (if defined)\n",
      " |  \n",
      " |  ----------------------------------------------------------------------\n",
      " |  Data and other attributes defined here:\n",
      " |  \n",
      " |  aux = 'null'\n",
      "\n"
     ]
    }
   ],
   "source": [
    "help(Human)"
   ]
  },
  {
   "cell_type": "code",
   "execution_count": 63,
   "id": "0088c7e5",
   "metadata": {},
   "outputs": [],
   "source": [
    "juan = Human(\"Juan\", \"Perez\", 70, \"hombre\")"
   ]
  },
  {
   "cell_type": "code",
   "execution_count": 58,
   "id": "359a2c99",
   "metadata": {},
   "outputs": [
    {
     "data": {
      "text/plain": [
       "['COUNTRY',\n",
       " '__class__',\n",
       " '__delattr__',\n",
       " '__dict__',\n",
       " '__dir__',\n",
       " '__doc__',\n",
       " '__eq__',\n",
       " '__format__',\n",
       " '__ge__',\n",
       " '__getattribute__',\n",
       " '__gt__',\n",
       " '__hash__',\n",
       " '__init__',\n",
       " '__init_subclass__',\n",
       " '__le__',\n",
       " '__lt__',\n",
       " '__module__',\n",
       " '__ne__',\n",
       " '__new__',\n",
       " '__reduce__',\n",
       " '__reduce_ex__',\n",
       " '__repr__',\n",
       " '__setattr__',\n",
       " '__sizeof__',\n",
       " '__str__',\n",
       " '__subclasshook__',\n",
       " '__weakref__',\n",
       " '_age',\n",
       " '_gender',\n",
       " '_last_name',\n",
       " '_name',\n",
       " '_nueva_var',\n",
       " 'aux',\n",
       " 'birthday']"
      ]
     },
     "execution_count": 58,
     "metadata": {},
     "output_type": "execute_result"
    }
   ],
   "source": [
    "dir(juan)"
   ]
  },
  {
   "cell_type": "code",
   "execution_count": 60,
   "id": "0b2fd0f0",
   "metadata": {},
   "outputs": [
    {
     "data": {
      "text/plain": [
       "0"
      ]
     },
     "execution_count": 60,
     "metadata": {},
     "output_type": "execute_result"
    }
   ],
   "source": [
    "juan._nueva_var"
   ]
  },
  {
   "cell_type": "code",
   "execution_count": 64,
   "id": "57869900",
   "metadata": {},
   "outputs": [
    {
     "name": "stdout",
     "output_type": "stream",
     "text": [
      "null\n"
     ]
    }
   ],
   "source": [
    "juan.birthday()  ## es un método de la clase"
   ]
  },
  {
   "cell_type": "code",
   "execution_count": 66,
   "id": "a793c84d",
   "metadata": {},
   "outputs": [
    {
     "data": {
      "text/plain": [
       "71"
      ]
     },
     "execution_count": 66,
     "metadata": {},
     "output_type": "execute_result"
    }
   ],
   "source": [
    "juan._age"
   ]
  },
  {
   "cell_type": "code",
   "execution_count": 67,
   "id": "76d54c8d",
   "metadata": {},
   "outputs": [
    {
     "data": {
      "text/plain": [
       "1"
      ]
     },
     "execution_count": 67,
     "metadata": {},
     "output_type": "execute_result"
    }
   ],
   "source": [
    "juan._nueva_var"
   ]
  },
  {
   "cell_type": "code",
   "execution_count": null,
   "id": "b08c25e0",
   "metadata": {},
   "outputs": [],
   "source": [
    "juan."
   ]
  },
  {
   "cell_type": "code",
   "execution_count": 68,
   "id": "875dea68",
   "metadata": {},
   "outputs": [],
   "source": [
    "juan._age = 123134"
   ]
  },
  {
   "cell_type": "code",
   "execution_count": 69,
   "id": "ad85fd30",
   "metadata": {},
   "outputs": [
    {
     "data": {
      "text/plain": [
       "123134"
      ]
     },
     "execution_count": 69,
     "metadata": {},
     "output_type": "execute_result"
    }
   ],
   "source": [
    "juan._age"
   ]
  },
  {
   "cell_type": "code",
   "execution_count": 1,
   "id": "4dc80f32",
   "metadata": {},
   "outputs": [],
   "source": [
    "## las variables que incian con self son atributos\n",
    "## los nombres de las funciones son los métodos\n",
    "\n",
    "class Human: \n",
    "    \n",
    "    def __init__(self, name, last_name, age, gender):\n",
    "        self._name = name\n",
    "        self._last_name = last_name\n",
    "        self._age = age\n",
    "        self._gender = gender\n",
    "        \n",
    "    def birthday(self):\n",
    "        self._age = self._age + 1\n",
    "        \n",
    "    def greeting(self, your_name):\n",
    "        print(f\"Hello {your_name}, my name is {self._name} {self._last_name}. I am {self._age} years old\")\n",
    "        return self._age"
   ]
  },
  {
   "cell_type": "code",
   "execution_count": 2,
   "id": "59b6c7e1",
   "metadata": {},
   "outputs": [],
   "source": [
    "juan = Human(\"Juan\",\"Perez\",70,\"hombre\")"
   ]
  },
  {
   "cell_type": "code",
   "execution_count": 3,
   "id": "b73ad784",
   "metadata": {},
   "outputs": [
    {
     "data": {
      "text/plain": [
       "['__class__',\n",
       " '__delattr__',\n",
       " '__dict__',\n",
       " '__dir__',\n",
       " '__doc__',\n",
       " '__eq__',\n",
       " '__format__',\n",
       " '__ge__',\n",
       " '__getattribute__',\n",
       " '__getstate__',\n",
       " '__gt__',\n",
       " '__hash__',\n",
       " '__init__',\n",
       " '__init_subclass__',\n",
       " '__le__',\n",
       " '__lt__',\n",
       " '__module__',\n",
       " '__ne__',\n",
       " '__new__',\n",
       " '__reduce__',\n",
       " '__reduce_ex__',\n",
       " '__repr__',\n",
       " '__setattr__',\n",
       " '__sizeof__',\n",
       " '__str__',\n",
       " '__subclasshook__',\n",
       " '__weakref__',\n",
       " '_age',\n",
       " '_gender',\n",
       " '_last_name',\n",
       " '_name',\n",
       " 'birthday',\n",
       " 'greeting']"
      ]
     },
     "execution_count": 3,
     "metadata": {},
     "output_type": "execute_result"
    }
   ],
   "source": [
    "dir(juan)"
   ]
  },
  {
   "cell_type": "code",
   "execution_count": 4,
   "id": "2b46b754",
   "metadata": {},
   "outputs": [
    {
     "ename": "SyntaxError",
     "evalue": "invalid syntax (2032272169.py, line 1)",
     "output_type": "error",
     "traceback": [
      "\u001b[0;36m  Cell \u001b[0;32mIn[4], line 1\u001b[0;36m\u001b[0m\n\u001b[0;31m    juan.\u001b[0m\n\u001b[0m         ^\u001b[0m\n\u001b[0;31mSyntaxError\u001b[0m\u001b[0;31m:\u001b[0m invalid syntax\n"
     ]
    }
   ],
   "source": [
    "juan."
   ]
  },
  {
   "cell_type": "code",
   "execution_count": 5,
   "id": "41c298cf",
   "metadata": {},
   "outputs": [],
   "source": [
    "# Esto es porque python no tiene tipos private\n",
    "juan._age = 20"
   ]
  },
  {
   "cell_type": "code",
   "execution_count": 6,
   "id": "66105141",
   "metadata": {},
   "outputs": [
    {
     "data": {
      "text/plain": [
       "20"
      ]
     },
     "execution_count": 6,
     "metadata": {},
     "output_type": "execute_result"
    }
   ],
   "source": [
    "juan._age"
   ]
  },
  {
   "cell_type": "code",
   "execution_count": 7,
   "id": "36ab8b68",
   "metadata": {
    "scrolled": false
   },
   "outputs": [
    {
     "name": "stdout",
     "output_type": "stream",
     "text": [
      "Hello Arturo, my name is Juan Perez. I am 20 years old\n"
     ]
    },
    {
     "data": {
      "text/plain": [
       "20"
      ]
     },
     "execution_count": 7,
     "metadata": {},
     "output_type": "execute_result"
    }
   ],
   "source": [
    "juan.greeting(\"Arturo\")"
   ]
  },
  {
   "cell_type": "code",
   "execution_count": 8,
   "id": "3a47b23a",
   "metadata": {},
   "outputs": [],
   "source": [
    "otro_h = Human(\"Luis\",\"Horta\",10,\"hombre\")"
   ]
  },
  {
   "cell_type": "code",
   "execution_count": 9,
   "id": "b6613548",
   "metadata": {},
   "outputs": [
    {
     "name": "stdout",
     "output_type": "stream",
     "text": [
      "Hello Claudia, my name is Luis Horta. I am 10 years old\n"
     ]
    }
   ],
   "source": [
    "y = otro_h.greeting(\"Claudia\")"
   ]
  },
  {
   "cell_type": "code",
   "execution_count": 10,
   "id": "183b5464",
   "metadata": {},
   "outputs": [
    {
     "data": {
      "text/plain": [
       "10"
      ]
     },
     "execution_count": 10,
     "metadata": {},
     "output_type": "execute_result"
    }
   ],
   "source": [
    "y"
   ]
  },
  {
   "cell_type": "code",
   "execution_count": 11,
   "id": "e88df079",
   "metadata": {},
   "outputs": [
    {
     "ename": "AttributeError",
     "evalue": "'Human' object has no attribute 'age'",
     "output_type": "error",
     "traceback": [
      "\u001b[0;31m---------------------------------------------------------------------------\u001b[0m",
      "\u001b[0;31mAttributeError\u001b[0m                            Traceback (most recent call last)",
      "Cell \u001b[0;32mIn[11], line 1\u001b[0m\n\u001b[0;32m----> 1\u001b[0m juan\u001b[38;5;241m.\u001b[39mage\n",
      "\u001b[0;31mAttributeError\u001b[0m: 'Human' object has no attribute 'age'"
     ]
    }
   ],
   "source": [
    "juan.age"
   ]
  },
  {
   "attachments": {
    "diagrama_clases.png": {
     "image/png": "[encoded data removed]"
    }
   },
   "cell_type": "markdown",
   "id": "aa7f3821",
   "metadata": {},
   "source": [
    "![diagrama_clases.png](attachment:diagrama_clases.png)"
   ]
  },
  {
   "cell_type": "markdown",
   "id": "f7bba955",
   "metadata": {},
   "source": [
    "## Métodos Especiales\n",
    "## `__dunders__`"
   ]
  },
  {
   "cell_type": "markdown",
   "id": "5ae9fd27",
   "metadata": {},
   "source": [
    "Adicional a `__init__`, python cuenta con [métodos especiales](https://docs.python.org/3/reference/datamodel.html#special-method-names) que nos perimiten *enriquecer* la funcionalidad de nuestras clases permitiendo ocupar funciones definidas en Python \n",
    "\n",
    "Como un ejemplo, consideremos `len`, *representación* y *desigualdad menor que\" de la clase. "
   ]
  },
  {
   "cell_type": "code",
   "execution_count": 80,
   "id": "ac59bcf8",
   "metadata": {},
   "outputs": [],
   "source": [
    "luis = Human(\"Luis\",\"Herrera\",90,\"hombre\")"
   ]
  },
  {
   "cell_type": "code",
   "execution_count": 81,
   "id": "c5604458",
   "metadata": {},
   "outputs": [
    {
     "data": {
      "text/plain": [
       "__main__.Human"
      ]
     },
     "execution_count": 81,
     "metadata": {},
     "output_type": "execute_result"
    }
   ],
   "source": [
    "type(luis)"
   ]
  },
  {
   "cell_type": "code",
   "execution_count": 82,
   "id": "628b7b4f",
   "metadata": {},
   "outputs": [
    {
     "data": {
      "text/plain": [
       "(<__main__.Human at 0x1b5dc10aec0>, <__main__.Human at 0x1b5dbdb6ec0>)"
      ]
     },
     "execution_count": 82,
     "metadata": {},
     "output_type": "execute_result"
    }
   ],
   "source": [
    "luis, juan"
   ]
  },
  {
   "cell_type": "code",
   "execution_count": 83,
   "id": "0f7d3e11",
   "metadata": {},
   "outputs": [
    {
     "data": {
      "text/plain": [
       "[1, 2, 3]"
      ]
     },
     "execution_count": 83,
     "metadata": {},
     "output_type": "execute_result"
    }
   ],
   "source": [
    "a = [1,2,3]\n",
    "\n",
    "a   # <__main__.list at 0x25c24d3fbe0>"
   ]
  },
  {
   "cell_type": "code",
   "execution_count": 84,
   "id": "263fe999",
   "metadata": {},
   "outputs": [
    {
     "data": {
      "text/plain": [
       "3"
      ]
     },
     "execution_count": 84,
     "metadata": {},
     "output_type": "execute_result"
    }
   ],
   "source": [
    "len(a)"
   ]
  },
  {
   "cell_type": "code",
   "execution_count": 85,
   "id": "c49f9a5c",
   "metadata": {},
   "outputs": [
    {
     "ename": "TypeError",
     "evalue": "object of type 'Human' has no len()",
     "output_type": "error",
     "traceback": [
      "\u001b[1;31m---------------------------------------------------------------------------\u001b[0m",
      "\u001b[1;31mTypeError\u001b[0m                                 Traceback (most recent call last)",
      "Cell \u001b[1;32mIn[85], line 1\u001b[0m\n\u001b[1;32m----> 1\u001b[0m \u001b[38;5;28;43mlen\u001b[39;49m\u001b[43m(\u001b[49m\u001b[43mjuan\u001b[49m\u001b[43m)\u001b[49m\n",
      "\u001b[1;31mTypeError\u001b[0m: object of type 'Human' has no len()"
     ]
    }
   ],
   "source": [
    "len(juan)"
   ]
  },
  {
   "cell_type": "code",
   "execution_count": 86,
   "id": "aef7268e",
   "metadata": {},
   "outputs": [
    {
     "ename": "TypeError",
     "evalue": "'<' not supported between instances of 'Human' and 'Human'",
     "output_type": "error",
     "traceback": [
      "\u001b[1;31m---------------------------------------------------------------------------\u001b[0m",
      "\u001b[1;31mTypeError\u001b[0m                                 Traceback (most recent call last)",
      "Cell \u001b[1;32mIn[86], line 1\u001b[0m\n\u001b[1;32m----> 1\u001b[0m \u001b[43mluis\u001b[49m\u001b[43m \u001b[49m\u001b[38;5;241;43m<\u001b[39;49m\u001b[43m \u001b[49m\u001b[43mjuan\u001b[49m\n",
      "\u001b[1;31mTypeError\u001b[0m: '<' not supported between instances of 'Human' and 'Human'"
     ]
    }
   ],
   "source": [
    "luis < juan"
   ]
  },
  {
   "cell_type": "markdown",
   "id": "cb8e37ff",
   "metadata": {},
   "source": [
    "1. No tenemos definido *longitud* para un humano\n",
    "2. No está definido comparar humanos con \"<\" menor que\n",
    "3. La representción de `Human` no nos dice mucho sobre el objeto en cuestión. Es decir, cuando llamamos a mandar el objet, obtenemos algo como:"
   ]
  },
  {
   "cell_type": "code",
   "execution_count": 87,
   "id": "3d44bfc2",
   "metadata": {},
   "outputs": [
    {
     "data": {
      "text/plain": [
       "['__class__',\n",
       " '__delattr__',\n",
       " '__dict__',\n",
       " '__dir__',\n",
       " '__doc__',\n",
       " '__eq__',\n",
       " '__format__',\n",
       " '__ge__',\n",
       " '__getattribute__',\n",
       " '__gt__',\n",
       " '__hash__',\n",
       " '__init__',\n",
       " '__init_subclass__',\n",
       " '__le__',\n",
       " '__lt__',\n",
       " '__module__',\n",
       " '__ne__',\n",
       " '__new__',\n",
       " '__reduce__',\n",
       " '__reduce_ex__',\n",
       " '__repr__',\n",
       " '__setattr__',\n",
       " '__sizeof__',\n",
       " '__str__',\n",
       " '__subclasshook__',\n",
       " '__weakref__',\n",
       " '_age',\n",
       " '_birthday',\n",
       " '_gender',\n",
       " '_last_name',\n",
       " '_name',\n",
       " 'greeting']"
      ]
     },
     "execution_count": 87,
     "metadata": {},
     "output_type": "execute_result"
    }
   ],
   "source": [
    "dir(juan) #representación"
   ]
  },
  {
   "cell_type": "code",
   "execution_count": null,
   "id": "d7d6cc5c",
   "metadata": {},
   "outputs": [],
   "source": [
    "## aqui vemos la comparación cuando mandamos a llamar a otros objetos predefinidos:\n",
    "\n",
    "a = [1,2,3]\n",
    "a"
   ]
  },
  {
   "cell_type": "code",
   "execution_count": 88,
   "id": "2a3c663c",
   "metadata": {},
   "outputs": [],
   "source": [
    "class Human:\n",
    "    \n",
    "    def __init__(self, name, last_name, age, gender):\n",
    "        self.name = name.upper()\n",
    "        self.last_name = last_name\n",
    "        self.age = age\n",
    "        self.gender = gender\n",
    "        self.old_age = age\n",
    "        #self.greeting()\n",
    "        \n",
    "    def birthday(self):\n",
    "        self.old_age = self.age\n",
    "        self.age = self.age + 1\n",
    "        \n",
    "    def greeting(self):\n",
    "        print(f\"Hello, my name is {self.name} {self.last_name}. I am {self.age} years old\")\n",
    "        \n",
    "    \n",
    "    ## ESTO NO ES NECESARIO, sólo se definen cuando se van a utilizar por alguna razón \n",
    "    #Definir qué es la longitud de clase humano\n",
    "    def __len__(self):\n",
    "        return max(self.age, 0)\n",
    "    \n",
    "    #Definir la relación de \"<\" menor \n",
    "    def __lt__(self, h2):\n",
    "        return self.age < h2.age   # esto es algo con lo que < puede trabajar\n",
    "    \n",
    "    #Definir la representación de la clase Human\n",
    "    def __repr__(self):\n",
    "        return f\"Human({self.last_name},{self.name}, {self.age})\""
   ]
  },
  {
   "cell_type": "code",
   "execution_count": 89,
   "id": "545b99cb",
   "metadata": {},
   "outputs": [],
   "source": [
    "juan = Human(\"Juan\", \"Perez\", 70, \"hombre\")"
   ]
  },
  {
   "cell_type": "code",
   "execution_count": 90,
   "id": "12ae12da",
   "metadata": {},
   "outputs": [
    {
     "data": {
      "text/plain": [
       "Human(Perez,JUAN, 70)"
      ]
     },
     "execution_count": 90,
     "metadata": {},
     "output_type": "execute_result"
    }
   ],
   "source": [
    "# con esto podemos acceder a todos los métodos y atributos del objeto \"juan\"\n",
    "juan"
   ]
  },
  {
   "cell_type": "code",
   "execution_count": 91,
   "id": "b47aefee",
   "metadata": {},
   "outputs": [
    {
     "data": {
      "text/plain": [
       "70"
      ]
     },
     "execution_count": 91,
     "metadata": {},
     "output_type": "execute_result"
    }
   ],
   "source": [
    "juan.old_age"
   ]
  },
  {
   "cell_type": "code",
   "execution_count": 92,
   "id": "500de65a",
   "metadata": {},
   "outputs": [],
   "source": [
    "juan = Human(\"Juan\", \"Perez\", 70, \"hombre\")\n",
    "\n",
    "luis = Human(\"Luis\", \"Herrera\", 90, \"hombre\")"
   ]
  },
  {
   "cell_type": "code",
   "execution_count": 93,
   "id": "962b4dcb",
   "metadata": {},
   "outputs": [
    {
     "data": {
      "text/plain": [
       "70"
      ]
     },
     "execution_count": 93,
     "metadata": {},
     "output_type": "execute_result"
    }
   ],
   "source": [
    "len(juan) #primero solucionado de longitud (primero de lista de arriba)"
   ]
  },
  {
   "cell_type": "code",
   "execution_count": 94,
   "id": "fa47b9cf",
   "metadata": {},
   "outputs": [
    {
     "data": {
      "text/plain": [
       "True"
      ]
     },
     "execution_count": 94,
     "metadata": {},
     "output_type": "execute_result"
    }
   ],
   "source": [
    "juan < luis #segundó solucando de \"menor que\""
   ]
  },
  {
   "cell_type": "code",
   "execution_count": 95,
   "id": "d4961e1b",
   "metadata": {},
   "outputs": [
    {
     "data": {
      "text/plain": [
       "Human(Perez,JUAN, 70)"
      ]
     },
     "execution_count": 95,
     "metadata": {},
     "output_type": "execute_result"
    }
   ],
   "source": [
    "juan #tercero solucionado de representación"
   ]
  },
  {
   "cell_type": "code",
   "execution_count": 96,
   "id": "55d1e4c7",
   "metadata": {},
   "outputs": [
    {
     "data": {
      "text/plain": [
       "['__class__',\n",
       " '__delattr__',\n",
       " '__dict__',\n",
       " '__dir__',\n",
       " '__doc__',\n",
       " '__eq__',\n",
       " '__format__',\n",
       " '__ge__',\n",
       " '__getattribute__',\n",
       " '__gt__',\n",
       " '__hash__',\n",
       " '__init__',\n",
       " '__init_subclass__',\n",
       " '__le__',\n",
       " '__len__',\n",
       " '__lt__',\n",
       " '__module__',\n",
       " '__ne__',\n",
       " '__new__',\n",
       " '__reduce__',\n",
       " '__reduce_ex__',\n",
       " '__repr__',\n",
       " '__setattr__',\n",
       " '__sizeof__',\n",
       " '__str__',\n",
       " '__subclasshook__',\n",
       " '__weakref__',\n",
       " 'age',\n",
       " 'birthday',\n",
       " 'gender',\n",
       " 'greeting',\n",
       " 'last_name',\n",
       " 'name',\n",
       " 'old_age']"
      ]
     },
     "execution_count": 96,
     "metadata": {},
     "output_type": "execute_result"
    }
   ],
   "source": [
    "dir(juan)"
   ]
  },
  {
   "cell_type": "markdown",
   "id": "56f69e3e",
   "metadata": {},
   "source": [
    "## Herencia\n",
    "\n",
    "En el paradigma de OOP existe la propiedad de *heredar*, la cuál nos permite definir una nueva lcase considerando los elementos de una clase anterior. Esta propiedad es útil en ocasiones en las cuales necesitamos definir una clase cuyas propiedades y/o métodos dependan de alguna otra clase prevaiemente definida. \n",
    "\n",
    "Definir una herencia en python se logra de la siguiente manera: \n",
    "\n",
    "```python \n",
    "class NewClass(BaseClass)\n",
    "    ...\n",
    "```"
   ]
  },
  {
   "cell_type": "code",
   "execution_count": 99,
   "id": "4390fab8",
   "metadata": {},
   "outputs": [],
   "source": [
    "class ClassA: \n",
    "    def method_a(self):\n",
    "        print(\"Provengo de la Clase A\")\n",
    "        \n",
    "        \n",
    "class ClassB(ClassA):\n",
    "    def method_b(self):\n",
    "        print(\"Provengo de la Clase B\")"
   ]
  },
  {
   "cell_type": "code",
   "execution_count": 100,
   "id": "0ba4470c",
   "metadata": {},
   "outputs": [],
   "source": [
    "a = ClassA()"
   ]
  },
  {
   "cell_type": "code",
   "execution_count": 101,
   "id": "6f9a0e0f",
   "metadata": {},
   "outputs": [
    {
     "data": {
      "text/plain": [
       "['__class__',\n",
       " '__delattr__',\n",
       " '__dict__',\n",
       " '__dir__',\n",
       " '__doc__',\n",
       " '__eq__',\n",
       " '__format__',\n",
       " '__ge__',\n",
       " '__getattribute__',\n",
       " '__gt__',\n",
       " '__hash__',\n",
       " '__init__',\n",
       " '__init_subclass__',\n",
       " '__le__',\n",
       " '__lt__',\n",
       " '__module__',\n",
       " '__ne__',\n",
       " '__new__',\n",
       " '__reduce__',\n",
       " '__reduce_ex__',\n",
       " '__repr__',\n",
       " '__setattr__',\n",
       " '__sizeof__',\n",
       " '__str__',\n",
       " '__subclasshook__',\n",
       " '__weakref__',\n",
       " 'method_a']"
      ]
     },
     "execution_count": 101,
     "metadata": {},
     "output_type": "execute_result"
    }
   ],
   "source": [
    "dir(a)"
   ]
  },
  {
   "cell_type": "code",
   "execution_count": 102,
   "id": "f1da6edb",
   "metadata": {},
   "outputs": [
    {
     "name": "stdout",
     "output_type": "stream",
     "text": [
      "Provengo de la Clase A\n"
     ]
    }
   ],
   "source": [
    "a.method_a()"
   ]
  },
  {
   "cell_type": "code",
   "execution_count": 103,
   "id": "a9f7a84d",
   "metadata": {},
   "outputs": [],
   "source": [
    "b = ClassB()"
   ]
  },
  {
   "cell_type": "code",
   "execution_count": null,
   "id": "7d7a764f",
   "metadata": {},
   "outputs": [],
   "source": [
    "b."
   ]
  },
  {
   "cell_type": "code",
   "execution_count": 104,
   "id": "1f364c08",
   "metadata": {},
   "outputs": [
    {
     "name": "stdout",
     "output_type": "stream",
     "text": [
      "Provengo de la Clase A\n"
     ]
    }
   ],
   "source": [
    "b.method_a()"
   ]
  },
  {
   "cell_type": "code",
   "execution_count": 105,
   "id": "11b66447",
   "metadata": {
    "scrolled": true
   },
   "outputs": [
    {
     "name": "stdout",
     "output_type": "stream",
     "text": [
      "Provengo de la Clase B\n"
     ]
    }
   ],
   "source": [
    "b.method_b()"
   ]
  },
  {
   "cell_type": "code",
   "execution_count": 108,
   "id": "55533c65",
   "metadata": {},
   "outputs": [],
   "source": [
    "# también podemos heredar de otra clase predefinida de python:\n",
    "from collections import Counter\n",
    "\n",
    "class SuperStr(str):\n",
    "    \n",
    "    def __init__(self, cadena):\n",
    "        self.chain = cadena\n",
    "        self.counter = Counter(cadena)"
   ]
  },
  {
   "cell_type": "code",
   "execution_count": 109,
   "id": "ab247827",
   "metadata": {
    "scrolled": false
   },
   "outputs": [
    {
     "data": {
      "text/plain": [
       "['__add__',\n",
       " '__class__',\n",
       " '__contains__',\n",
       " '__delattr__',\n",
       " '__dict__',\n",
       " '__dir__',\n",
       " '__doc__',\n",
       " '__eq__',\n",
       " '__format__',\n",
       " '__ge__',\n",
       " '__getattribute__',\n",
       " '__getitem__',\n",
       " '__getnewargs__',\n",
       " '__gt__',\n",
       " '__hash__',\n",
       " '__init__',\n",
       " '__init_subclass__',\n",
       " '__iter__',\n",
       " '__le__',\n",
       " '__len__',\n",
       " '__lt__',\n",
       " '__mod__',\n",
       " '__module__',\n",
       " '__mul__',\n",
       " '__ne__',\n",
       " '__new__',\n",
       " '__reduce__',\n",
       " '__reduce_ex__',\n",
       " '__repr__',\n",
       " '__rmod__',\n",
       " '__rmul__',\n",
       " '__setattr__',\n",
       " '__sizeof__',\n",
       " '__str__',\n",
       " '__subclasshook__',\n",
       " '__weakref__',\n",
       " 'capitalize',\n",
       " 'casefold',\n",
       " 'center',\n",
       " 'count',\n",
       " 'encode',\n",
       " 'endswith',\n",
       " 'expandtabs',\n",
       " 'find',\n",
       " 'format',\n",
       " 'format_map',\n",
       " 'index',\n",
       " 'isalnum',\n",
       " 'isalpha',\n",
       " 'isascii',\n",
       " 'isdecimal',\n",
       " 'isdigit',\n",
       " 'isidentifier',\n",
       " 'islower',\n",
       " 'isnumeric',\n",
       " 'isprintable',\n",
       " 'isspace',\n",
       " 'istitle',\n",
       " 'isupper',\n",
       " 'join',\n",
       " 'ljust',\n",
       " 'lower',\n",
       " 'lstrip',\n",
       " 'maketrans',\n",
       " 'partition',\n",
       " 'removeprefix',\n",
       " 'removesuffix',\n",
       " 'replace',\n",
       " 'rfind',\n",
       " 'rindex',\n",
       " 'rjust',\n",
       " 'rpartition',\n",
       " 'rsplit',\n",
       " 'rstrip',\n",
       " 'split',\n",
       " 'splitlines',\n",
       " 'startswith',\n",
       " 'strip',\n",
       " 'swapcase',\n",
       " 'title',\n",
       " 'translate',\n",
       " 'upper',\n",
       " 'zfill']"
      ]
     },
     "execution_count": 109,
     "metadata": {},
     "output_type": "execute_result"
    }
   ],
   "source": [
    "dir(SuperStr)"
   ]
  },
  {
   "cell_type": "code",
   "execution_count": 110,
   "id": "1831430f",
   "metadata": {},
   "outputs": [],
   "source": [
    "my_str = SuperStr(\"ddfojsdfohfdosdfsdfivsbdviuo rncsefioe\")"
   ]
  },
  {
   "cell_type": "code",
   "execution_count": 112,
   "id": "f9287f52",
   "metadata": {},
   "outputs": [
    {
     "data": {
      "text/plain": [
       "0"
      ]
     },
     "execution_count": 112,
     "metadata": {},
     "output_type": "execute_result"
    }
   ],
   "source": [
    "my_str.counter[\"x\"]"
   ]
  },
  {
   "cell_type": "code",
   "execution_count": 113,
   "id": "9edff77c",
   "metadata": {},
   "outputs": [
    {
     "data": {
      "text/plain": [
       "38"
      ]
     },
     "execution_count": 113,
     "metadata": {},
     "output_type": "execute_result"
    }
   ],
   "source": [
    "len(my_str)"
   ]
  },
  {
   "cell_type": "code",
   "execution_count": 114,
   "id": "0f20bec8",
   "metadata": {},
   "outputs": [
    {
     "data": {
      "text/plain": [
       "'ddfojsdfohfdosdfsdfivsbdviuo rncsefioe'"
      ]
     },
     "execution_count": 114,
     "metadata": {},
     "output_type": "execute_result"
    }
   ],
   "source": [
    "my_str"
   ]
  },
  {
   "cell_type": "code",
   "execution_count": 115,
   "id": "bd896064",
   "metadata": {},
   "outputs": [
    {
     "data": {
      "text/plain": [
       "'DDFOJSDFOHFDOSDFSDFIVSBDVIUO RNCSEFIOE'"
      ]
     },
     "execution_count": 115,
     "metadata": {},
     "output_type": "execute_result"
    }
   ],
   "source": [
    "my_str.upper()"
   ]
  },
  {
   "cell_type": "code",
   "execution_count": 117,
   "id": "74eebdcb",
   "metadata": {},
   "outputs": [
    {
     "data": {
      "text/plain": [
       "4"
      ]
     },
     "execution_count": 117,
     "metadata": {},
     "output_type": "execute_result"
    }
   ],
   "source": [
    "my_str.find(\"j\")"
   ]
  },
  {
   "cell_type": "code",
   "execution_count": 118,
   "id": "90db08c5",
   "metadata": {},
   "outputs": [
    {
     "data": {
      "text/plain": [
       "'dfjdofodsfvbvu nsfo'"
      ]
     },
     "execution_count": 118,
     "metadata": {},
     "output_type": "execute_result"
    }
   ],
   "source": [
    "my_str[::2]"
   ]
  },
  {
   "cell_type": "markdown",
   "id": "6fcf9700",
   "metadata": {},
   "source": [
    "## `super`\n",
    "Muy comúnmente, al tener una clase `B` que herede de otra clase `A`, `A` contará con parámetros dentro de un constructor que serán necesarios inicializar. Para inicializar una clase `A`, dentro de la clase `B`, haremos uso de la funión `super()` dentro de la definición del constructor `B`. "
   ]
  },
  {
   "cell_type": "code",
   "execution_count": 12,
   "id": "1e7a90bb",
   "metadata": {},
   "outputs": [],
   "source": [
    "class Human:\n",
    "    \n",
    "    def __init__(self, name, last_name, age, gender):\n",
    "        self.name = name.upper()\n",
    "        self.last_name = last_name\n",
    "        self.age = age\n",
    "        self.gender = gender\n",
    "        self.old_age = age\n",
    "        #self.greeting()\n",
    "        \n",
    "    def birthday(self):\n",
    "        self.old_age = self.age\n",
    "        self.age = self.age + 1\n",
    "        \n",
    "    def greeting(self):\n",
    "        print(f\"Hello, my name is {self.name} {self.last_name}. I am {self.age} years old\")\n",
    "        \n",
    "    \n",
    "    ## ESTO NO ES NECESARIO, sólo se definen cuando se van a utilizar por alguna razón \n",
    "    #Definir qué es la longitud de clase humano\n",
    "    def __len__(self):\n",
    "        return max(self.age, 0)\n",
    "    \n",
    "    #Definir la relación de \"<\" menor \n",
    "    def __lt__(self, h2):\n",
    "        return self.age < h2.age   # esto es algo con lo que < puede trabajar\n",
    "    \n",
    "    #Definir la representación de la clase Human\n",
    "    def __repr__(self):\n",
    "        return f\"Human({self.last_name},{self.name}, {self.age})\""
   ]
  },
  {
   "cell_type": "code",
   "execution_count": 13,
   "id": "3aa8c298",
   "metadata": {},
   "outputs": [],
   "source": [
    "class Student(Human):\n",
    "    \n",
    "    def __init__(self, name, last_name, age, gender, major):\n",
    "        \n",
    "        #inicializamos los valores que provienen desde `Human`. \n",
    "        super().__init__(name, last_name, age, gender) #inicializan el objeto\n",
    "        self.major = major\n",
    "        \n",
    "    def __repr__(self):\n",
    "        return f\"Student {self.name, self.major}\"\n",
    "    "
   ]
  },
  {
   "cell_type": "code",
   "execution_count": 14,
   "id": "3b19c433",
   "metadata": {},
   "outputs": [],
   "source": [
    "leonardo = Student(\"Leonardo\", \"Arredondo\", 18, \"male\", \"Actuary\")"
   ]
  },
  {
   "cell_type": "code",
   "execution_count": 125,
   "id": "8d148c7c",
   "metadata": {
    "scrolled": false
   },
   "outputs": [
    {
     "data": {
      "text/plain": [
       "['__class__',\n",
       " '__delattr__',\n",
       " '__dict__',\n",
       " '__dir__',\n",
       " '__doc__',\n",
       " '__eq__',\n",
       " '__format__',\n",
       " '__ge__',\n",
       " '__getattribute__',\n",
       " '__gt__',\n",
       " '__hash__',\n",
       " '__init__',\n",
       " '__init_subclass__',\n",
       " '__le__',\n",
       " '__len__',\n",
       " '__lt__',\n",
       " '__module__',\n",
       " '__ne__',\n",
       " '__new__',\n",
       " '__reduce__',\n",
       " '__reduce_ex__',\n",
       " '__repr__',\n",
       " '__setattr__',\n",
       " '__sizeof__',\n",
       " '__str__',\n",
       " '__subclasshook__',\n",
       " '__weakref__',\n",
       " 'age',\n",
       " 'birthday',\n",
       " 'gender',\n",
       " 'greeting',\n",
       " 'last_name',\n",
       " 'major',\n",
       " 'name',\n",
       " 'old_age']"
      ]
     },
     "execution_count": 125,
     "metadata": {},
     "output_type": "execute_result"
    }
   ],
   "source": [
    "dir(leonardo)"
   ]
  },
  {
   "cell_type": "code",
   "execution_count": 126,
   "id": "6c8da99a",
   "metadata": {},
   "outputs": [
    {
     "name": "stdout",
     "output_type": "stream",
     "text": [
      "Hello, my name is LEONARDO Arredondo. I am 18 years old\n"
     ]
    }
   ],
   "source": [
    "leonardo.greeting()"
   ]
  },
  {
   "cell_type": "code",
   "execution_count": 127,
   "id": "863d959d",
   "metadata": {},
   "outputs": [
    {
     "data": {
      "text/plain": [
       "18"
      ]
     },
     "execution_count": 127,
     "metadata": {},
     "output_type": "execute_result"
    }
   ],
   "source": [
    "len(leonardo)"
   ]
  },
  {
   "cell_type": "code",
   "execution_count": 128,
   "id": "eaffbf69",
   "metadata": {},
   "outputs": [
    {
     "data": {
      "text/plain": [
       "'LEONARDO'"
      ]
     },
     "execution_count": 128,
     "metadata": {},
     "output_type": "execute_result"
    }
   ],
   "source": [
    "leonardo.name"
   ]
  },
  {
   "cell_type": "code",
   "execution_count": 129,
   "id": "90d70b76",
   "metadata": {},
   "outputs": [],
   "source": [
    "leonardo.birthday()"
   ]
  },
  {
   "cell_type": "code",
   "execution_count": 130,
   "id": "aec3b376",
   "metadata": {},
   "outputs": [
    {
     "data": {
      "text/plain": [
       "18"
      ]
     },
     "execution_count": 130,
     "metadata": {},
     "output_type": "execute_result"
    }
   ],
   "source": [
    "leonardo.old_age"
   ]
  },
  {
   "cell_type": "code",
   "execution_count": 131,
   "id": "1be1b4dc",
   "metadata": {},
   "outputs": [
    {
     "data": {
      "text/plain": [
       "19"
      ]
     },
     "execution_count": 131,
     "metadata": {},
     "output_type": "execute_result"
    }
   ],
   "source": [
    "leonardo.age"
   ]
  },
  {
   "cell_type": "code",
   "execution_count": 132,
   "id": "4504458d",
   "metadata": {},
   "outputs": [],
   "source": [
    "leonardo.birthday()"
   ]
  },
  {
   "cell_type": "code",
   "execution_count": 133,
   "id": "c138191d",
   "metadata": {},
   "outputs": [
    {
     "data": {
      "text/plain": [
       "20"
      ]
     },
     "execution_count": 133,
     "metadata": {},
     "output_type": "execute_result"
    }
   ],
   "source": [
    "leonardo.age"
   ]
  },
  {
   "cell_type": "code",
   "execution_count": 134,
   "id": "7fe33268",
   "metadata": {},
   "outputs": [
    {
     "data": {
      "text/plain": [
       "Student ('LEONARDO', 'Actuary')"
      ]
     },
     "execution_count": 134,
     "metadata": {},
     "output_type": "execute_result"
    }
   ],
   "source": [
    "leonardo"
   ]
  },
  {
   "cell_type": "markdown",
   "id": "902c2354",
   "metadata": {},
   "source": [
    "En general, `super()` regresa un objeto que delega llamadas a métodos de clases padre o bajo el mismo nivel. De acuerdo a la documentación, \n",
    "\n",
    "> [...] esto es útil para accceder a métodos heredados que han sido sobrescritos en una clase. \n",
    "\n",
    "Consideremos la clase `Rectangulo`\n"
   ]
  },
  {
   "cell_type": "code",
   "execution_count": 21,
   "id": "6c32a877",
   "metadata": {},
   "outputs": [],
   "source": [
    "class Rectangulo:\n",
    "    \n",
    "    def __init__(self, base, altura):\n",
    "        self.base = base\n",
    "        self.altura = altura\n",
    "        \n",
    "    def area(self):\n",
    "        return self.base * self.altura"
   ]
  },
  {
   "cell_type": "code",
   "execution_count": 22,
   "id": "fe96003c",
   "metadata": {},
   "outputs": [
    {
     "data": {
      "text/plain": [
       "50"
      ]
     },
     "execution_count": 22,
     "metadata": {},
     "output_type": "execute_result"
    }
   ],
   "source": [
    "rec_1 = Rectangulo(5, 10)\n",
    "\n",
    "rec_1.area()"
   ]
  },
  {
   "cell_type": "markdown",
   "id": "c8d57b8d",
   "metadata": {},
   "source": [
    "De esta clase, podemos obtener una segunda clase `Cuadrado` que herede las propiedades de `Rectangulo`. Sin embargo, nos gustaría definir un nuevo método `area` de `Cuadrado` que considere el método `area` definido anteriormente. Esto a fin de hacer uso de la función ya definida únicamnete modificando los parámetros. \n",
    "\n",
    "**Nota**: Aunque este sea un ejemplo sencillo. El uso de `super()` nos permite sobrescribir una clase padre y hacer uso del método que ha sido sobrescrito. "
   ]
  },
  {
   "cell_type": "code",
   "execution_count": 25,
   "id": "3504a143",
   "metadata": {},
   "outputs": [],
   "source": [
    "class Triangulo(Rectangulo):\n",
    "    \n",
    "    def __init__(self, base, altura):\n",
    "        super().__init__(base, altura)\n",
    "        \n",
    "#opcional        \n",
    "    def area(self):\n",
    "        return super().area() /2"
   ]
  },
  {
   "cell_type": "code",
   "execution_count": 26,
   "id": "c4172252",
   "metadata": {},
   "outputs": [
    {
     "data": {
      "text/plain": [
       "25.0"
      ]
     },
     "execution_count": 26,
     "metadata": {},
     "output_type": "execute_result"
    }
   ],
   "source": [
    "tri_1 = Triangulo(5, 10)\n",
    "\n",
    "# estoy llamando al método \"area\" de la clase \"Rectangulo\"\n",
    "tri_1.area()"
   ]
  },
  {
   "cell_type": "code",
   "execution_count": 27,
   "id": "25adb87b",
   "metadata": {},
   "outputs": [],
   "source": [
    "class Square: \n",
    "    def __init__(self,length):\n",
    "        self.lado = length\n",
    "        \n",
    "    def area(self):\n",
    "        return self.lado ** 2"
   ]
  },
  {
   "cell_type": "code",
   "execution_count": 28,
   "id": "2e5e71d2",
   "metadata": {},
   "outputs": [
    {
     "data": {
      "text/plain": [
       "25"
      ]
     },
     "execution_count": 28,
     "metadata": {},
     "output_type": "execute_result"
    }
   ],
   "source": [
    "c_1 = Square(5)\n",
    "c_1.area()"
   ]
  },
  {
   "cell_type": "code",
   "execution_count": 40,
   "id": "074c47aa",
   "metadata": {},
   "outputs": [],
   "source": [
    "class OtraFigura(Rectangulo, Square):\n",
    "    \n",
    "    def __init__(self, a, b, c):\n",
    "        \n",
    "        Rectangulo.__init__(self, a, b)\n",
    "        Square.__init__(self, c)\n",
    "        \n",
    "    def area(self):\n",
    "        return Rectangulo.area()/Square.area()"
   ]
  },
  {
   "cell_type": "code",
   "execution_count": 30,
   "id": "601d9706",
   "metadata": {},
   "outputs": [],
   "source": [
    "x = OtraFigura(10,20,30)"
   ]
  },
  {
   "cell_type": "code",
   "execution_count": 32,
   "id": "a2e5f551",
   "metadata": {},
   "outputs": [
    {
     "data": {
      "text/plain": [
       "10"
      ]
     },
     "execution_count": 32,
     "metadata": {},
     "output_type": "execute_result"
    }
   ],
   "source": [
    "x.base"
   ]
  },
  {
   "cell_type": "code",
   "execution_count": 33,
   "id": "6c2e9015",
   "metadata": {},
   "outputs": [
    {
     "data": {
      "text/plain": [
       "20"
      ]
     },
     "execution_count": 33,
     "metadata": {},
     "output_type": "execute_result"
    }
   ],
   "source": [
    "x.altura"
   ]
  },
  {
   "cell_type": "code",
   "execution_count": 34,
   "id": "44a4ee61",
   "metadata": {},
   "outputs": [
    {
     "data": {
      "text/plain": [
       "30"
      ]
     },
     "execution_count": 34,
     "metadata": {},
     "output_type": "execute_result"
    }
   ],
   "source": [
    "x.lado"
   ]
  },
  {
   "cell_type": "code",
   "execution_count": 42,
   "id": "35439450",
   "metadata": {},
   "outputs": [
    {
     "data": {
      "text/plain": [
       "200"
      ]
     },
     "execution_count": 42,
     "metadata": {},
     "output_type": "execute_result"
    }
   ],
   "source": [
    "x.area()"
   ]
  },
  {
   "cell_type": "code",
   "execution_count": 43,
   "id": "838f6073",
   "metadata": {},
   "outputs": [],
   "source": [
    "class Triangulo(Square): #con el objetivo de heredar cuadrado y rectángulo. \n",
    "    pass"
   ]
  },
  {
   "cell_type": "code",
   "execution_count": 44,
   "id": "9e7e54c7",
   "metadata": {},
   "outputs": [],
   "source": [
    "class Triangulo(Square, Rectangulo): #otra forma\n",
    "    pass"
   ]
  },
  {
   "cell_type": "code",
   "execution_count": 45,
   "id": "3d56c0a8",
   "metadata": {},
   "outputs": [],
   "source": [
    "class Triangulo(Rectangulo):\n",
    "    \n",
    "    def __init__(self, base, altura):\n",
    "        super().__init__(base, altura)\n",
    "        \n",
    "    def area(self):\n",
    "        ## esto llama al método area de la clase \"Rectangulo\"\n",
    "        #return super().area() / 2\n",
    "        return self.base * self.altura / 2"
   ]
  },
  {
   "cell_type": "code",
   "execution_count": 46,
   "id": "cd785015",
   "metadata": {},
   "outputs": [
    {
     "data": {
      "text/plain": [
       "25.0"
      ]
     },
     "execution_count": 46,
     "metadata": {},
     "output_type": "execute_result"
    }
   ],
   "source": [
    "tri_2 = Triangulo(5, 10)\n",
    "\n",
    "tri_2.area()"
   ]
  },
  {
   "cell_type": "code",
   "execution_count": 47,
   "id": "443a4d86",
   "metadata": {},
   "outputs": [
    {
     "data": {
      "text/plain": [
       "['__class__',\n",
       " '__delattr__',\n",
       " '__dict__',\n",
       " '__dir__',\n",
       " '__doc__',\n",
       " '__eq__',\n",
       " '__format__',\n",
       " '__ge__',\n",
       " '__getattribute__',\n",
       " '__getstate__',\n",
       " '__gt__',\n",
       " '__hash__',\n",
       " '__init__',\n",
       " '__init_subclass__',\n",
       " '__le__',\n",
       " '__lt__',\n",
       " '__module__',\n",
       " '__ne__',\n",
       " '__new__',\n",
       " '__reduce__',\n",
       " '__reduce_ex__',\n",
       " '__repr__',\n",
       " '__setattr__',\n",
       " '__sizeof__',\n",
       " '__str__',\n",
       " '__subclasshook__',\n",
       " '__weakref__',\n",
       " 'area']"
      ]
     },
     "execution_count": 47,
     "metadata": {},
     "output_type": "execute_result"
    }
   ],
   "source": [
    "dir(Triangulo)"
   ]
  },
  {
   "cell_type": "code",
   "execution_count": 48,
   "id": "0de65905",
   "metadata": {},
   "outputs": [],
   "source": [
    "sq = Square(2)"
   ]
  },
  {
   "cell_type": "code",
   "execution_count": 49,
   "id": "72641bc9",
   "metadata": {},
   "outputs": [
    {
     "data": {
      "text/plain": [
       "4"
      ]
     },
     "execution_count": 49,
     "metadata": {},
     "output_type": "execute_result"
    }
   ],
   "source": [
    "sq.area()"
   ]
  },
  {
   "cell_type": "code",
   "execution_count": 50,
   "id": "73853980",
   "metadata": {},
   "outputs": [
    {
     "data": {
      "text/plain": [
       "10.0"
      ]
     },
     "execution_count": 50,
     "metadata": {},
     "output_type": "execute_result"
    }
   ],
   "source": [
    "trian = Triangulo(10, 2)\n",
    "\n",
    "trian.area()"
   ]
  },
  {
   "cell_type": "markdown",
   "id": "6a513806",
   "metadata": {},
   "source": [
    "## Métodos y propiedades privadas. \n",
    "¿Qué sucede si nuestra clase contiene un método o atributo al cual no deseamos que usarios de la clase utilicen?\n",
    "\n",
    "Recordemos nuestra clase `Human`: \n",
    "\n",
    "```python \n",
    "class Human: \n",
    "    def __init__(self, name, last_name, age, gender):\n",
    "        self.name = name\n",
    "        self.last_name = last_name\n",
    "        self.age = age\n",
    "        self.gender = gender\n",
    "        \n",
    "    def birthday(self):\n",
    "        self.age = self.age+1\n",
    "        \n",
    "    def greeting(self):\n",
    "        print(f\"Hello, my name is {self.name} {self.last_name}. I am {self.age} years old\")\n",
    "```"
   ]
  },
  {
   "cell_type": "code",
   "execution_count": null,
   "id": "6bc00e24",
   "metadata": {},
   "outputs": [],
   "source": [
    "juan = Human(\"Juan\",\"Perez\",70,\"hombre\")"
   ]
  },
  {
   "cell_type": "code",
   "execution_count": null,
   "id": "4dd823ec",
   "metadata": {},
   "outputs": [],
   "source": [
    "juan.name"
   ]
  },
  {
   "cell_type": "code",
   "execution_count": null,
   "id": "884c0252",
   "metadata": {},
   "outputs": [],
   "source": [
    "juan.age"
   ]
  },
  {
   "cell_type": "markdown",
   "id": "03cc1f3c",
   "metadata": {},
   "source": [
    "Aunque la manera correcta, de acuerdo a nuestra clase, de agregar una edad es mediante el método `birthday`, nada impide a un usuario de nuestra que accede a `edad` y lo modifique a su manera. "
   ]
  },
  {
   "cell_type": "code",
   "execution_count": null,
   "id": "7b31b8a3",
   "metadata": {},
   "outputs": [],
   "source": [
    "juan.birthday()"
   ]
  },
  {
   "cell_type": "code",
   "execution_count": null,
   "id": "b042f3f3",
   "metadata": {},
   "outputs": [],
   "source": [
    "juan.age"
   ]
  },
  {
   "cell_type": "code",
   "execution_count": null,
   "id": "81efe993",
   "metadata": {},
   "outputs": [],
   "source": [
    "juan.age += 100\n",
    "juan.age"
   ]
  },
  {
   "cell_type": "markdown",
   "id": "297fd6d6",
   "metadata": {},
   "source": [
    "Si definimos los atributos de esta manera, quedan \"ocultos\":"
   ]
  },
  {
   "cell_type": "code",
   "execution_count": null,
   "id": "5851b5ae",
   "metadata": {},
   "outputs": [],
   "source": [
    "class Human: \n",
    "    def __init__(self, name, last_name, age, gender):\n",
    "        self._name = name\n",
    "        self._last_name = last_name\n",
    "        self._age = age\n",
    "        self._gender = gender\n",
    "        \n",
    "    def birthday(self):\n",
    "        self._age = self._age + 1\n",
    "        \n",
    "    def greeting(self):\n",
    "        print(f\"Hello, my name is {self._name} {self._last_name}. I am {self._age} years old\")"
   ]
  },
  {
   "cell_type": "code",
   "execution_count": null,
   "id": "37706013",
   "metadata": {},
   "outputs": [],
   "source": [
    "juan = Human(\"Juan\",\"Perez\",70,\"hombre\")"
   ]
  },
  {
   "cell_type": "code",
   "execution_count": null,
   "id": "4d34d902",
   "metadata": {},
   "outputs": [],
   "source": [
    "juan."
   ]
  },
  {
   "cell_type": "code",
   "execution_count": null,
   "id": "21cf4279",
   "metadata": {},
   "outputs": [],
   "source": [
    "juan.age += 100\n",
    "juan.age"
   ]
  },
  {
   "cell_type": "code",
   "execution_count": null,
   "id": "359a0014",
   "metadata": {},
   "outputs": [],
   "source": [
    "juan.name"
   ]
  },
  {
   "cell_type": "code",
   "execution_count": null,
   "id": "b98b956f",
   "metadata": {},
   "outputs": [],
   "source": [
    "class Human: \n",
    "    def __init__(self, name, last_name, age, gender):\n",
    "        self._name = name\n",
    "        self._last_name = last_name\n",
    "        self._age = age\n",
    "        self._gender = gender\n",
    "        \n",
    "    def birthday(self):\n",
    "        self._age = self._age+1\n",
    "        \n",
    "    def greeting(self):\n",
    "        print(f\"Hello, my name is {self._name} {self._last_name}. I am {self._age} years old\")\n",
    "        \n",
    "    def get_name(self):\n",
    "        return self._name\n",
    "    \n",
    "    def set_name(self, new_name):\n",
    "        self._name = new_name"
   ]
  },
  {
   "cell_type": "code",
   "execution_count": null,
   "id": "7d251b03",
   "metadata": {},
   "outputs": [],
   "source": [
    "juan = Human(\"Juan\",\"Perez\",70,\"hombre\")"
   ]
  },
  {
   "cell_type": "code",
   "execution_count": null,
   "id": "9bef1680",
   "metadata": {},
   "outputs": [],
   "source": [
    "juan.get_name()"
   ]
  },
  {
   "cell_type": "code",
   "execution_count": null,
   "id": "fc202652",
   "metadata": {},
   "outputs": [],
   "source": [
    "juan.set_name(\"Arturo\")"
   ]
  },
  {
   "cell_type": "code",
   "execution_count": null,
   "id": "6a4ae544",
   "metadata": {},
   "outputs": [],
   "source": [
    "juan.get_name()"
   ]
  },
  {
   "cell_type": "code",
   "execution_count": null,
   "id": "d2b2f260",
   "metadata": {},
   "outputs": [],
   "source": [
    "dir(juan)"
   ]
  },
  {
   "cell_type": "code",
   "execution_count": null,
   "id": "af7ea2e2",
   "metadata": {},
   "outputs": [],
   "source": [
    "juan._name = \"modificando\""
   ]
  },
  {
   "cell_type": "code",
   "execution_count": null,
   "id": "2c959cf3",
   "metadata": {},
   "outputs": [],
   "source": [
    "juan.get_name()"
   ]
  },
  {
   "cell_type": "code",
   "execution_count": null,
   "id": "ee52a468",
   "metadata": {},
   "outputs": [],
   "source": [
    "#otro ejemplo, ahora con dos guiones bajos sí te permitiría modificar la variable\n",
    "#juan._Human__name=\"Nuevo nombre\"\n",
    "class Human: \n",
    "    def __init__(self, name, last_name, age, gender):\n",
    "        self.__name = name\n",
    "        self._last_name = last_name\n",
    "        self.age = age\n",
    "        self._gender = gender\n",
    "        \n",
    "    def birthday(self):\n",
    "        self.age = self.age + 1\n",
    "        \n",
    "    def greeting(self):\n",
    "        print(f\"Hello, my name is {self.name} {self.last_name}. I am {self.age} years old\")\n",
    "        \n",
    "    def get_name(self):\n",
    "        return self.__name\n",
    "    \n",
    "    def set_name(self, new_name):\n",
    "        self.__name = new_name"
   ]
  },
  {
   "cell_type": "code",
   "execution_count": null,
   "id": "5dae6229",
   "metadata": {},
   "outputs": [],
   "source": [
    "juan = Human(\"Juan\",\"Perez\",70,\"hombre\")"
   ]
  },
  {
   "cell_type": "code",
   "execution_count": null,
   "id": "2cac8ea3",
   "metadata": {},
   "outputs": [],
   "source": [
    "juan.__name"
   ]
  },
  {
   "cell_type": "code",
   "execution_count": null,
   "id": "d7a655f8",
   "metadata": {},
   "outputs": [],
   "source": [
    "# manera incorrecta de acceder a la variable\n",
    "juan._Human__name"
   ]
  },
  {
   "cell_type": "code",
   "execution_count": null,
   "id": "0dc3f5d8",
   "metadata": {},
   "outputs": [],
   "source": [
    "# Manera correcta de acceder a la variable\n",
    "juan.get_name()"
   ]
  },
  {
   "cell_type": "code",
   "execution_count": null,
   "id": "d460cf4b",
   "metadata": {},
   "outputs": [],
   "source": [
    "juan.set_name(\"Arturo\")"
   ]
  },
  {
   "cell_type": "code",
   "execution_count": null,
   "id": "427176b1",
   "metadata": {},
   "outputs": [],
   "source": [
    "juan.get_name()"
   ]
  },
  {
   "cell_type": "code",
   "execution_count": null,
   "id": "b94f472d",
   "metadata": {},
   "outputs": [],
   "source": [
    "juan.name #Sigue estando oculto originalmente"
   ]
  },
  {
   "cell_type": "code",
   "execution_count": null,
   "id": "d6813c0e",
   "metadata": {},
   "outputs": [],
   "source": [
    "dir(juan)"
   ]
  },
  {
   "cell_type": "markdown",
   "id": "a6a4f162",
   "metadata": {},
   "source": [
    "### Referencias\n",
    "\n",
    "1. https://rhettinger.wordpress.com/2011/05/26/super-considered-super/\n",
    "2. https://docs.python.org/3/library/functions.html#super\n",
    "3. https://docs.python.org/3/tutorial/classes.html"
   ]
  },
  {
   "cell_type": "markdown",
   "id": "910eaa2d",
   "metadata": {},
   "source": [
    "### Clases como namespaces\n",
    "\n",
    "Esto se utiliza para no confundirse al momento de definir funciones y evitar una confusión en los nombres o la función que estemos llamando:"
   ]
  },
  {
   "cell_type": "code",
   "execution_count": null,
   "id": "439e66bf",
   "metadata": {},
   "outputs": [],
   "source": [
    "abs(-2)"
   ]
  },
  {
   "cell_type": "code",
   "execution_count": null,
   "id": "74bc6fa0",
   "metadata": {},
   "outputs": [],
   "source": [
    "import numpy as np"
   ]
  },
  {
   "cell_type": "code",
   "execution_count": null,
   "id": "b41b292c",
   "metadata": {},
   "outputs": [],
   "source": [
    "\n",
    "np.abs(-2)"
   ]
  },
  {
   "cell_type": "code",
   "execution_count": null,
   "id": "983e2490",
   "metadata": {},
   "outputs": [],
   "source": [
    "class New_Fnc:\n",
    "    def abs(x):\n",
    "        return x**2\n",
    "\n",
    "abs(-2)  ## aquí estoy llamando a abs de la lib estándar"
   ]
  },
  {
   "cell_type": "code",
   "execution_count": null,
   "id": "7fa20dd4",
   "metadata": {},
   "outputs": [],
   "source": [
    "New_Fnc.abs(-2)"
   ]
  },
  {
   "cell_type": "code",
   "execution_count": null,
   "id": "de2557db",
   "metadata": {},
   "outputs": [],
   "source": [
    "from math import pi\n",
    "\n",
    "pi"
   ]
  },
  {
   "cell_type": "code",
   "execution_count": null,
   "id": "c9e7af38",
   "metadata": {},
   "outputs": [],
   "source": [
    "pi = \"hola\"\n",
    "\n",
    "pi"
   ]
  },
  {
   "cell_type": "code",
   "execution_count": 51,
   "id": "f8dd9808",
   "metadata": {},
   "outputs": [],
   "source": [
    "class Methods:\n",
    "    \n",
    "    def my_funct(self, x):\n",
    "        print(\"usando la función dentro de Methods\")\n",
    "        return x**2\n",
    "    \n",
    "\n",
    "def my_funct(x):\n",
    "    print(\"usando función fuera de la clase\")\n",
    "    return x**2\n"
   ]
  },
  {
   "cell_type": "code",
   "execution_count": 52,
   "id": "0ca9caf0",
   "metadata": {},
   "outputs": [
    {
     "name": "stdout",
     "output_type": "stream",
     "text": [
      "usando función fuera de la clase\n"
     ]
    },
    {
     "data": {
      "text/plain": [
       "4"
      ]
     },
     "execution_count": 52,
     "metadata": {},
     "output_type": "execute_result"
    }
   ],
   "source": [
    "my_funct(2)"
   ]
  },
  {
   "cell_type": "code",
   "execution_count": 53,
   "id": "57647031",
   "metadata": {},
   "outputs": [
    {
     "name": "stdout",
     "output_type": "stream",
     "text": [
      "usando la función dentro de Methods\n"
     ]
    },
    {
     "data": {
      "text/plain": [
       "4"
      ]
     },
     "execution_count": 53,
     "metadata": {},
     "output_type": "execute_result"
    }
   ],
   "source": [
    "Methods().my_funct(2)"
   ]
  },
  {
   "cell_type": "markdown",
   "id": "d02f04c2",
   "metadata": {},
   "source": [
    "### Variables globales y locales en clases"
   ]
  },
  {
   "cell_type": "markdown",
   "id": "519f0a35",
   "metadata": {},
   "source": [
    "Una variable global es aquella que se define fuera del cuerpo de cualquier función"
   ]
  },
  {
   "cell_type": "code",
   "execution_count": 54,
   "id": "702de4b5",
   "metadata": {},
   "outputs": [],
   "source": [
    "# puedo usar esta variable para operar dentro de cualquier función pero no puedo modificar su valor\n",
    "\n",
    "n_derivados = 0\n",
    "\n",
    "def show_n_derivados():\n",
    "    print(\"# de derivados: \", n_derivados)\n",
    "\n",
    "\n",
    "def add_derivative():\n",
    "    print(\"Se agregó un nuevo derivado\")\n",
    "    global n_derivados\n",
    "    n_derivados += 1\n",
    "    \n"
   ]
  },
  {
   "cell_type": "code",
   "execution_count": 55,
   "id": "e3394ea7",
   "metadata": {},
   "outputs": [
    {
     "name": "stdout",
     "output_type": "stream",
     "text": [
      "# de derivados:  0\n"
     ]
    }
   ],
   "source": [
    "show_n_derivados()"
   ]
  },
  {
   "cell_type": "code",
   "execution_count": 56,
   "id": "385730de",
   "metadata": {},
   "outputs": [
    {
     "name": "stdout",
     "output_type": "stream",
     "text": [
      "Se agregó un nuevo derivado\n"
     ]
    }
   ],
   "source": [
    "add_derivative()"
   ]
  },
  {
   "cell_type": "code",
   "execution_count": 57,
   "id": "efa2a567",
   "metadata": {},
   "outputs": [
    {
     "data": {
      "text/plain": [
       "1"
      ]
     },
     "execution_count": 57,
     "metadata": {},
     "output_type": "execute_result"
    }
   ],
   "source": [
    "n_derivados"
   ]
  },
  {
   "cell_type": "markdown",
   "id": "a1ec1d78",
   "metadata": {},
   "source": [
    "Como podemos ver, las variables globales funcionan como constantes dentro de las funciones pero fuera de ellas las podemos modificar sin ningún problema:"
   ]
  },
  {
   "cell_type": "code",
   "execution_count": 58,
   "id": "c37e164b",
   "metadata": {},
   "outputs": [
    {
     "data": {
      "text/plain": [
       "2"
      ]
     },
     "execution_count": 58,
     "metadata": {},
     "output_type": "execute_result"
    }
   ],
   "source": [
    "n_derivados += 1\n",
    "n_derivados"
   ]
  },
  {
   "cell_type": "markdown",
   "id": "f536ddaf",
   "metadata": {},
   "source": [
    "Si queremos modificar el valor de una variable global, tenemos que hacer lo siguiente:"
   ]
  },
  {
   "cell_type": "code",
   "execution_count": 59,
   "id": "bd451396",
   "metadata": {},
   "outputs": [],
   "source": [
    "def add_derivative():\n",
    "    \n",
    "    print(\"Se agregó un nuevo derivado\")\n",
    "    \n",
    "    global n_derivados\n",
    "    n_derivados += 1"
   ]
  },
  {
   "cell_type": "code",
   "execution_count": 60,
   "id": "b8cf1342",
   "metadata": {},
   "outputs": [
    {
     "data": {
      "text/plain": [
       "2"
      ]
     },
     "execution_count": 60,
     "metadata": {},
     "output_type": "execute_result"
    }
   ],
   "source": [
    "n_derivados"
   ]
  },
  {
   "cell_type": "code",
   "execution_count": 61,
   "id": "c0850c85",
   "metadata": {},
   "outputs": [
    {
     "name": "stdout",
     "output_type": "stream",
     "text": [
      "Se agregó un nuevo derivado\n"
     ]
    }
   ],
   "source": [
    "add_derivative()"
   ]
  },
  {
   "cell_type": "code",
   "execution_count": 62,
   "id": "d5226b32",
   "metadata": {},
   "outputs": [
    {
     "data": {
      "text/plain": [
       "3"
      ]
     },
     "execution_count": 62,
     "metadata": {},
     "output_type": "execute_result"
    }
   ],
   "source": [
    "n_derivados"
   ]
  },
  {
   "cell_type": "markdown",
   "id": "53db07b4",
   "metadata": {},
   "source": [
    "Con las clases funciona exactamente igual, todas aquellas variables que se encuentren fuera del cuerpo de la clase se tomarán como varibles globales, de esta forma, su valor no puede ser modificado dentro de la clase (sólo se puede usar):"
   ]
  },
  {
   "cell_type": "code",
   "execution_count": null,
   "id": "fef71b5b",
   "metadata": {},
   "outputs": [],
   "source": [
    "## ejemplo de variable global con clases\n",
    "\n",
    "n_derivados = 0\n",
    "    \n",
    "class Derivado:\n",
    "    \n",
    "    def __init__(self, tipo, precio):\n",
    "        self.tipo = tipo\n",
    "        self.precio = precio\n",
    "        \n",
    "        n_derivados += 1\n",
    "        \n",
    "        print(\"Se ha agregado un nuevo derivado\")\n",
    "        print(\"# total de derivados: \", n_derivados)"
   ]
  },
  {
   "cell_type": "code",
   "execution_count": null,
   "id": "ce6bca8f",
   "metadata": {},
   "outputs": [],
   "source": [
    "# dentro de la clase no podemos acceder a la variable n_derivados, por lo cual\n",
    "# no podemos modifcarla ni operar con ella\n",
    "\n",
    "swap = Derivado(\"swap\", 0)"
   ]
  },
  {
   "cell_type": "code",
   "execution_count": null,
   "id": "d9e01276",
   "metadata": {},
   "outputs": [],
   "source": [
    "\n",
    "n_derivados = 0\n",
    "\n",
    "class Derivado:\n",
    "    \n",
    "    def __init__(self, tipo, precio):\n",
    "        self.tipo = tipo\n",
    "        self.precio = precio\n",
    "        \n",
    "        global n_derivados   # aquí le indico que me refiero a la variable global (la que está afuera de la clase)\n",
    "        n_derivados += 1\n",
    "        \n",
    "        print(\"Se ha agregado un nuevo derivado\")\n",
    "        print(\"# total de derivados: \", n_derivados)"
   ]
  },
  {
   "cell_type": "code",
   "execution_count": null,
   "id": "53ae494a",
   "metadata": {},
   "outputs": [],
   "source": [
    "swap = Derivado(\"swap\", 0)"
   ]
  },
  {
   "cell_type": "code",
   "execution_count": null,
   "id": "a1026bc2",
   "metadata": {},
   "outputs": [],
   "source": [
    "n_derivados"
   ]
  },
  {
   "cell_type": "markdown",
   "id": "fa5a2522",
   "metadata": {},
   "source": [
    "De forma similar, podemos definir varibles \"globales\" dentro de una clase, estas reciben el nombre de variables locales o atributos de la instancia, ya que sólo existen dentro de la clase:"
   ]
  },
  {
   "cell_type": "code",
   "execution_count": null,
   "id": "4a846d04",
   "metadata": {},
   "outputs": [],
   "source": [
    "class Derivado:\n",
    "    \n",
    "    total = 0\n",
    "    \n",
    "    def __init__(self, tipo, precio):\n",
    "        self.tipo = tipo\n",
    "        self.precio = precio\n",
    "        \n",
    "        Derivado.total += 1\n",
    "        print(\"Se ha agregado un nuevo derivado\")\n",
    "        print(\"# total de derivados: \", Derivado.total)"
   ]
  },
  {
   "cell_type": "code",
   "execution_count": null,
   "id": "eb36fff1",
   "metadata": {},
   "outputs": [],
   "source": [
    "swap = Derivado(\"swap\", 0)"
   ]
  },
  {
   "cell_type": "code",
   "execution_count": null,
   "id": "a8152c2f",
   "metadata": {},
   "outputs": [],
   "source": [
    "# como podemos ver, la variable no existe fuera de la clase\n",
    "\n",
    "Derivado.total"
   ]
  },
  {
   "cell_type": "code",
   "execution_count": null,
   "id": "576072b8",
   "metadata": {},
   "outputs": [],
   "source": [
    "## podemos acceder a una variable local de estas formas:\n",
    "\n",
    "print(swap.total, Derivado.total)"
   ]
  },
  {
   "cell_type": "code",
   "execution_count": null,
   "id": "04921029",
   "metadata": {},
   "outputs": [],
   "source": [
    "option = Derivado(\"call\", 1.4)"
   ]
  },
  {
   "cell_type": "code",
   "execution_count": null,
   "id": "60f66f72",
   "metadata": {},
   "outputs": [],
   "source": [
    "option.total"
   ]
  },
  {
   "cell_type": "code",
   "execution_count": null,
   "id": "bc4592a2",
   "metadata": {},
   "outputs": [],
   "source": [
    "# como podemos ver, el valor de la variable local se ha modificado para ambas variables:\n",
    "\n",
    "swap.total"
   ]
  },
  {
   "cell_type": "markdown",
   "id": "009d7032",
   "metadata": {},
   "source": [
    "Esto se debe al cálculo que se hace en la línea 9 de la definición de la clase, \n",
    "\n",
    "```python\n",
    "    Derivado.total += 1\n",
    "```"
   ]
  },
  {
   "cell_type": "markdown",
   "id": "93a924d0",
   "metadata": {},
   "source": [
    "Hay dos formas de modificar las varaibles locales:\n",
    "\n",
    "1. Accediendo a la variable con el nombre de la clase:"
   ]
  },
  {
   "cell_type": "code",
   "execution_count": null,
   "id": "4ea5e023",
   "metadata": {},
   "outputs": [],
   "source": [
    "Derivado.total = 2\n",
    "\n",
    "print(\"total del objeto swap: \", swap.total, \"\\n\")\n",
    "print(\"total del objeto option: \", option.total, \"\\n\")"
   ]
  },
  {
   "cell_type": "markdown",
   "id": "bd8a542f",
   "metadata": {},
   "source": [
    "2. Accediendo a la variable local a través de un objeto o instancia de la clase:"
   ]
  },
  {
   "cell_type": "code",
   "execution_count": null,
   "id": "33818461",
   "metadata": {},
   "outputs": [],
   "source": [
    "option.total += 1\n",
    "\n",
    "option.total == swap.total"
   ]
  },
  {
   "cell_type": "code",
   "execution_count": null,
   "id": "c902fbcc",
   "metadata": {},
   "outputs": [],
   "source": [
    "option.total"
   ]
  },
  {
   "cell_type": "code",
   "execution_count": null,
   "id": "a2f623a4",
   "metadata": {},
   "outputs": [],
   "source": [
    "swap.total"
   ]
  },
  {
   "cell_type": "markdown",
   "id": "71ab315f",
   "metadata": {},
   "source": [
    "Como vemos, esto sólo modifica el valor de total para el objeto option. Esto no se puede corregir de ninguna forma, inclusive accediendo a la variable local por medio de la clase:"
   ]
  },
  {
   "cell_type": "code",
   "execution_count": null,
   "id": "c6568a18",
   "metadata": {},
   "outputs": [],
   "source": [
    "Derivado.total = 5"
   ]
  },
  {
   "cell_type": "code",
   "execution_count": null,
   "id": "a9a43fa9",
   "metadata": {},
   "outputs": [],
   "source": [
    "option.total == swap.total"
   ]
  },
  {
   "cell_type": "code",
   "execution_count": null,
   "id": "95322fe5",
   "metadata": {},
   "outputs": [],
   "source": [
    "option.total"
   ]
  },
  {
   "cell_type": "code",
   "execution_count": null,
   "id": "0566a215",
   "metadata": {},
   "outputs": [],
   "source": [
    "swap.total"
   ]
  },
  {
   "cell_type": "markdown",
   "id": "86ad4e88",
   "metadata": {},
   "source": [
    "El efecto anterior se debe a que el tipo entero es un objeto inmutable (que no se le puede cambiar su valor) y cuando hemos modificado directamente el valor de la variable total a través del objeto option, se crea un nuevo entero que apunta a una dirección diferente de memoria a la variable de la clase:"
   ]
  },
  {
   "cell_type": "code",
   "execution_count": null,
   "id": "21d95d4b",
   "metadata": {},
   "outputs": [],
   "source": [
    "# por esta razón cuando modificamos el valor de la variable de clase o variable global, no se modifica \n",
    "# el valor para el objeto option - porque apuntan a una dirección de memoria diferente\n",
    "\n",
    "id(option.total) == id(Derivado.total)"
   ]
  },
  {
   "cell_type": "code",
   "execution_count": null,
   "id": "38f3c8cb",
   "metadata": {},
   "outputs": [],
   "source": [
    "## como esto se cumple, si modificamos el valor de la variable local total, también se verá reflejado en el objeto swap\n",
    "\n",
    "id(swap.total) == id(Derivado.total)"
   ]
  },
  {
   "cell_type": "markdown",
   "id": "aaa3145f",
   "metadata": {},
   "source": [
    "Hay que tener cuidado al modificar variables locales, ya que puede ser que el efecto que estamos viendo no sea el esperado y siempre que se pueda, acceder y modificarlas a través del nombre de la clase. \n",
    "\n",
    "Si la variable local fuera mutable, no tendríamos problemas:"
   ]
  },
  {
   "cell_type": "code",
   "execution_count": null,
   "id": "5c768b4a",
   "metadata": {},
   "outputs": [],
   "source": [
    "class Derivado:\n",
    "    \n",
    "    precios = []\n",
    "    \n",
    "    def __init__(self, tipo, precio):\n",
    "        self.tipo = tipo\n",
    "        self.precio = precio"
   ]
  },
  {
   "cell_type": "code",
   "execution_count": null,
   "id": "7fc63da8",
   "metadata": {},
   "outputs": [],
   "source": [
    "swap = Derivado(\"swap\", 0)\n",
    "\n",
    "option = Derivado(\"call\", 1.4)"
   ]
  },
  {
   "cell_type": "code",
   "execution_count": null,
   "id": "40855abd",
   "metadata": {},
   "outputs": [],
   "source": [
    "swap.precios"
   ]
  },
  {
   "cell_type": "code",
   "execution_count": null,
   "id": "cad783e9",
   "metadata": {},
   "outputs": [],
   "source": [
    "option.precios"
   ]
  },
  {
   "cell_type": "code",
   "execution_count": null,
   "id": "1d4c473b",
   "metadata": {},
   "outputs": [],
   "source": [
    "swap.precios.append(swap.precio)\n",
    "\n",
    "swap.precios"
   ]
  },
  {
   "cell_type": "code",
   "execution_count": null,
   "id": "2365649b",
   "metadata": {},
   "outputs": [],
   "source": [
    "## aunque modificamos la variable local desde un objeto, ésta se modifica en el resto\n",
    "## porque es un objeto mutable\n",
    "\n",
    "option.precios   "
   ]
  },
  {
   "cell_type": "code",
   "execution_count": null,
   "id": "680c4c75",
   "metadata": {},
   "outputs": [],
   "source": [
    "option.precios.append(option.precio)\n",
    "\n",
    "Derivado.precios.append(1)"
   ]
  },
  {
   "cell_type": "code",
   "execution_count": null,
   "id": "8760fe74",
   "metadata": {},
   "outputs": [],
   "source": [
    "swap.precios"
   ]
  },
  {
   "cell_type": "code",
   "execution_count": null,
   "id": "b5087401",
   "metadata": {},
   "outputs": [],
   "source": [
    "option.precios"
   ]
  },
  {
   "cell_type": "code",
   "execution_count": null,
   "id": "f3007a08",
   "metadata": {},
   "outputs": [],
   "source": [
    "Derivado.precios"
   ]
  },
  {
   "cell_type": "markdown",
   "id": "4067b024",
   "metadata": {},
   "source": [
    "También podemos hacer que una varibla local de la clase se vuelva varible global:"
   ]
  },
  {
   "cell_type": "code",
   "execution_count": null,
   "id": "21720fd0",
   "metadata": {},
   "outputs": [],
   "source": [
    "class Tesla:\n",
    "    #creating a class variable\n",
    "    #global speed\n",
    "    speed = 60\n",
    " \n",
    "    print(\"Acessing speed variable within the class:\", speed)\n",
    " \n",
    "    def __init__(self, speed):\n",
    "        self.speed = speed\n",
    " \n",
    "        def display_speed():\n",
    " \n",
    "            print(\"Speed of the Tesla is:\", speed)\n",
    "\n",
    "    \n",
    "print(\"Accessing the class variable outside the Tesla Class\", Tesla.speed)"
   ]
  },
  {
   "cell_type": "code",
   "execution_count": null,
   "id": "b3087069",
   "metadata": {},
   "outputs": [],
   "source": [
    "## esto indica que puedo acceder a la varible en una función o inclusive en otra clase\n",
    "\n",
    "speed"
   ]
  },
  {
   "cell_type": "markdown",
   "id": "7fe43fdc",
   "metadata": {},
   "source": [
    "### Ejemplo de clase para valuar opciones\n",
    "\n",
    "Por último, vamos a construir nuestra clase para valorar opciones (call y put). Comenzaremos con el bosquejo de la clase, recordando los inputs que necesitamos de acuerdo con la fórmula de BS:"
   ]
  },
  {
   "cell_type": "code",
   "execution_count": 64,
   "id": "11df8243",
   "metadata": {},
   "outputs": [],
   "source": [
    "from math import log, sqrt, exp\n",
    "from scipy.stats import norm\n",
    "\n",
    "def option(s, k, r, ttm, sigma, kind=\"call\"):\n",
    "    \n",
    "    variable=1 if kind==\"call\" else -1\n",
    "    \n",
    "    d1 = (log(s/k)+ttm*(r+(sigma**2)/2)) / (sigma*sqrt(ttm))\n",
    "    d2 = d1-sigma*sqrt(ttm)\n",
    "    \n",
    "    Fd1 = norm.cdf(d1*variable)   ## Phi(d_1)\n",
    "    Fd2 = norm.cdf(d2*variable)   ## Phi(d_2)\n",
    "    \n",
    "    option = variable*((s*Fd1)-k*exp(-r*ttm)*Fd2)\n",
    "    \n",
    "    return option"
   ]
  },
  {
   "cell_type": "markdown",
   "id": "c2ea7ef5",
   "metadata": {},
   "source": [
    "¿Cuáles son los métodos que nos gustaría que tuviera nuestra clase?\n",
    "\n",
    "* Constructor\n",
    "* Valuar opción call/put\n",
    "* Obtener vol implícita\n",
    "* Sensibilidades\n",
    "* Algunos setters, getters, "
   ]
  },
  {
   "cell_type": "code",
   "execution_count": 65,
   "id": "4a292eb4",
   "metadata": {},
   "outputs": [
    {
     "name": "stdout",
     "output_type": "stream",
     "text": [
      "La volatilidad implícita de la opción call es 0.28556916810814026\n"
     ]
    }
   ],
   "source": [
    "mkt_price = 2.3\n",
    "\n",
    "S_0 = 15\n",
    "K = 13\n",
    "T = 3/12\n",
    "r = 0.05\n",
    "\n",
    "from scipy.optimize import fsolve\n",
    "\n",
    "implicit_vol = fsolve(lambda vol : mkt_price - option(S_0, K, r, T, vol, \"call\"), 0.1)[0]\n",
    "\n",
    "print(f\"La volatilidad implícita de la opción call es {implicit_vol}\")"
   ]
  },
  {
   "cell_type": "code",
   "execution_count": 66,
   "id": "fdf4a14b",
   "metadata": {},
   "outputs": [],
   "source": [
    "from math import log, sqrt, exp\n",
    "from scipy.stats import norm\n",
    "from scipy.optimize import fsolve\n",
    "\n",
    "\n",
    "class OptionPricer:\n",
    "    \n",
    "    def __init__(self, S_0, K, T, r):\n",
    "        self.S_0 = S_0\n",
    "        self.K = K\n",
    "        self.T = T\n",
    "        self.r = r\n",
    "        self.vol = 0\n",
    "    \n",
    "    \n",
    "    def price_option(self, option_type, vol):\n",
    "        \n",
    "        variable = 1 if option_type==\"call\" else -1\n",
    "    \n",
    "        d1 = (log(self.S_0/self.K)+self.T*(self.r+(vol**2)/2)) / (vol*sqrt(self.T))\n",
    "        d2 = d1-vol*sqrt(self.T)\n",
    "\n",
    "        Fd1 = norm.cdf(d1*variable)   ## Phi(d_1)\n",
    "        Fd2 = norm.cdf(d2*variable)   ## Phi(d_2)\n",
    "\n",
    "        option = variable*((self.S_0*Fd1)-self.K*exp(-self.r*self.T)*Fd2)\n",
    "\n",
    "        return option\n",
    "    \n",
    "    \n",
    "    def implicit_vol(self, mkt_price, option_type):\n",
    "        \n",
    "        implicit_vol = fsolve(lambda vol : mkt_price - self.price_option(option_type, vol), 0.1)[0]\n",
    "        self.vol = implicit_vol\n",
    "        return implicit_vol\n",
    "        "
   ]
  },
  {
   "cell_type": "code",
   "execution_count": 67,
   "id": "b8f22aed",
   "metadata": {},
   "outputs": [],
   "source": [
    "pricer = OptionPricer(S_0, K, T, r)"
   ]
  },
  {
   "cell_type": "code",
   "execution_count": 68,
   "id": "f21480a6",
   "metadata": {},
   "outputs": [
    {
     "data": {
      "text/plain": [
       "__main__.OptionPricer"
      ]
     },
     "execution_count": 68,
     "metadata": {},
     "output_type": "execute_result"
    }
   ],
   "source": [
    "type(pricer)"
   ]
  },
  {
   "cell_type": "code",
   "execution_count": 69,
   "id": "306d88f0",
   "metadata": {},
   "outputs": [
    {
     "data": {
      "text/plain": [
       "15"
      ]
     },
     "execution_count": 69,
     "metadata": {},
     "output_type": "execute_result"
    }
   ],
   "source": [
    "pricer.S_0"
   ]
  },
  {
   "cell_type": "code",
   "execution_count": 70,
   "id": "9fc317a3",
   "metadata": {},
   "outputs": [
    {
     "data": {
      "text/plain": [
       "13"
      ]
     },
     "execution_count": 70,
     "metadata": {},
     "output_type": "execute_result"
    }
   ],
   "source": [
    "pricer.K"
   ]
  },
  {
   "cell_type": "code",
   "execution_count": 71,
   "id": "51e134f3",
   "metadata": {},
   "outputs": [
    {
     "data": {
      "text/plain": [
       "0.25"
      ]
     },
     "execution_count": 71,
     "metadata": {},
     "output_type": "execute_result"
    }
   ],
   "source": [
    "pricer.T"
   ]
  },
  {
   "cell_type": "code",
   "execution_count": 72,
   "id": "054de268",
   "metadata": {},
   "outputs": [
    {
     "data": {
      "text/plain": [
       "0"
      ]
     },
     "execution_count": 72,
     "metadata": {},
     "output_type": "execute_result"
    }
   ],
   "source": [
    "pricer.vol"
   ]
  },
  {
   "cell_type": "code",
   "execution_count": 73,
   "id": "c1f5ddc7",
   "metadata": {
    "scrolled": true
   },
   "outputs": [
    {
     "data": {
      "text/plain": [
       "2.3"
      ]
     },
     "execution_count": 73,
     "metadata": {},
     "output_type": "execute_result"
    }
   ],
   "source": [
    "mkt_price"
   ]
  },
  {
   "cell_type": "code",
   "execution_count": 74,
   "id": "026496d5",
   "metadata": {},
   "outputs": [
    {
     "data": {
      "text/plain": [
       "0.28556916810814026"
      ]
     },
     "execution_count": 74,
     "metadata": {},
     "output_type": "execute_result"
    }
   ],
   "source": [
    "pricer.implicit_vol(mkt_price, \"call\")"
   ]
  },
  {
   "cell_type": "code",
   "execution_count": 75,
   "id": "3ed1507c",
   "metadata": {},
   "outputs": [
    {
     "data": {
      "text/plain": [
       "0.28556916810814026"
      ]
     },
     "execution_count": 75,
     "metadata": {},
     "output_type": "execute_result"
    }
   ],
   "source": [
    "pricer.vol"
   ]
  },
  {
   "cell_type": "code",
   "execution_count": 76,
   "id": "f589d7e7",
   "metadata": {},
   "outputs": [
    {
     "data": {
      "text/plain": [
       "2.299999999999999"
      ]
     },
     "execution_count": 76,
     "metadata": {},
     "output_type": "execute_result"
    }
   ],
   "source": [
    "pricer.price_option(\"call\", pricer.vol)"
   ]
  },
  {
   "cell_type": "code",
   "execution_count": 77,
   "id": "3ca8ee16",
   "metadata": {},
   "outputs": [
    {
     "data": {
      "text/plain": [
       "2.3"
      ]
     },
     "execution_count": 77,
     "metadata": {},
     "output_type": "execute_result"
    }
   ],
   "source": [
    "mkt_price"
   ]
  },
  {
   "cell_type": "code",
   "execution_count": null,
   "id": "9332b7a9",
   "metadata": {},
   "outputs": [],
   "source": []
  }
 ],
 "metadata": {
  "kernelspec": {
   "display_name": "Python 3 (ipykernel)",
   "language": "python",
   "name": "python3"
  },
  "language_info": {
   "codemirror_mode": {
    "name": "ipython",
    "version": 3
   },
   "file_extension": ".py",
   "mimetype": "text/x-python",
   "name": "python",
   "nbconvert_exporter": "python",
   "pygments_lexer": "ipython3",
   "version": "3.11.3"
  }
 },
 "nbformat": 4,
 "nbformat_minor": 5
}
