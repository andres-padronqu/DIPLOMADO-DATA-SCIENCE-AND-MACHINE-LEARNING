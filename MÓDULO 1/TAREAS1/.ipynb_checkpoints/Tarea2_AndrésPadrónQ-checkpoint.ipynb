{
 "cells": [
  {
   "cell_type": "markdown",
   "id": "57a6beba",
   "metadata": {},
   "source": [
    "<div style=\"text-align: center;\">    \n",
    " <h2 style=\"color:red\"> $\\ll\\!\\!\\prec\\quad$ Tarea 2 $\\quad\\succ\\!\\!\\gg$ </h2>\n",
    "\n",
    " <h3 style=\"color:blue\"> $\\ll\\!\\!\\prec\\quad$ Andrés Padrón Quintana $\\quad\\succ\\!\\!\\gg$ </h3>\n",
    "</div>\n",
    "\n",
    " $\\quad$ ENTREGA máximo jueves 16 de julio antes de la clase\n",
    "\n",
    "Resolver 3 de 4 problemas."
   ]
  },
  {
   "cell_type": "markdown",
   "id": "d9b28a0a",
   "metadata": {},
   "source": [
    "1. Pedir al usuario un número entero positivo [N] mayor que dos - asegurarse de esto usando gestión de erorres o algún otro método que se les ocurra. Imprima en una lista de listas las tablas de multiplicar hasta el número N.\n",
    "\n",
    "\n",
    "```\n",
    "Dame un número entero mayor que dos: 14\n",
    "\n",
    "Tabla del 1: [1, 2, 3, 4, 5, 6, 7, 8, 9, 10]\n",
    "Tabla del 2: [2, 4, 6, 8, 10, 12, 14, 16, 18, 20]\n",
    "Tabla del 3: [3, 6, 9, 12, 15, 18, 21, 24, 27, 30]\n",
    "Tabla del 4: [4, 8, 12, 16, 20, 24, 28, 32, 36, 40]\n",
    "Tabla del 5: [5, 10, 15, 20, 25, 30, 35, 40, 45, 50]\n",
    "Tabla del 6: [6, 12, 18, 24, 30, 36, 42, 48, 54, 60]\n",
    "Tabla del 7: [7, 14, 21, 28, 35, 42, 49, 56, 63, 70]\n",
    "Tabla del 8: [8, 16, 24, 32, 40, 48, 56, 64, 72, 80]\n",
    "Tabla del 9: [9, 18, 27, 36, 45, 54, 63, 72, 81, 90]\n",
    "Tabla del 10: [10, 20, 30, 40, 50, 60, 70, 80, 90, 100]\n",
    "Tabla del 11: [11, 22, 33, 44, 55, 66, 77, 88, 99, 110]\n",
    "Tabla del 12: [12, 24, 36, 48, 60, 72, 84, 96, 108, 120]\n",
    "Tabla del 13: [13, 26, 39, 52, 65, 78, 91, 104, 117, 130]\n",
    "Tabla del 14: [14, 28, 42, 56, 70, 84, 98, 112, 126, 140]\n",
    "```"
   ]
  },
  {
   "cell_type": "code",
   "execution_count": 1,
   "id": "f8c10441",
   "metadata": {},
   "outputs": [
    {
     "name": "stdout",
     "output_type": "stream",
     "text": [
      "Dame un número entero mayor que dos: hola\n",
      "Eso no es un número entero. Intenta otra vez.\n",
      "Dame un número entero mayor que dos: 1\n",
      "El número debe ser mayor que dos. Intenta otra vez.\n",
      "Dame un número entero mayor que dos: 3\n",
      "Tabla del 1: [1, 2, 3, 4, 5, 6, 7, 8, 9, 10]\n",
      "Tabla del 2: [2, 4, 6, 8, 10, 12, 14, 16, 18, 20]\n",
      "Tabla del 3: [3, 6, 9, 12, 15, 18, 21, 24, 27, 30]\n"
     ]
    }
   ],
   "source": [
    "# Usar metodología Try y Except\n",
    "while True:\n",
    "    try:\n",
    "        n = int(input(\"Dame un número entero mayor que dos: \"))\n",
    "        if n > 2:\n",
    "            break\n",
    "        else:\n",
    "            print(\"El número debe ser mayor que dos. Intenta otra vez.\") # si no es >2 devolver este mensaje\n",
    "    except ValueError:\n",
    "        print(\"Eso no es un número entero. Intenta otra vez.\") #si no es un no. entero devolver esto\n",
    "\n",
    "# Creamos la lista de listas\n",
    "tablas = []\n",
    "\n",
    "for i in range(1, n + 1):        # desde 1 hasta N\n",
    "    tabla = []\n",
    "    for j in range(1, 11):       # del 1 al 10\n",
    "        tabla.append(i * j)\n",
    "    tablas.append(tabla)\n",
    "\n",
    "# Imprimimos las tablas\n",
    "for i in range(len(tablas)):\n",
    "    print(f\"Tabla del {i+1}: {tablas[i]}\")\n"
   ]
  },
  {
   "cell_type": "markdown",
   "id": "e38d9c90",
   "metadata": {},
   "source": [
    "2. Para valuar derivados lineales (bonos, swaps, etc) es muy útil contar con funciones para calcular fechas de pago. Genere tres funciones que reciban una fecha (tipo datetime) y un entero para sumar el número de dias/meses/años que se quiera. (shift_date_by_days, etc)\n",
    "\n",
    "\n",
    "Ejemplo:\n",
    "\n",
    "```python\n",
    "def shift_date_by_days(date, n_days):  # date es datetime, n_days es entero\n",
    "    return date + n_days\n",
    "\n",
    "def shift_date_by_months(date, n_months):  # date es datetime, n_months es entero\n",
    "    return date + n_months\n",
    "\n",
    "def shift_date_by_years(date, n_years):  # date es datetime, n_years es entero\n",
    "    return date + n_years\n",
    "```\n",
    "\n",
    "Usando las funciones anteriores, generalice el ejercicio para construir la función:\n",
    "\n",
    "```python\n",
    "def shift_date_by_tenor(date, tenor)   ## date es datetime, tenor es string del tipo \"28D\", \"1M\", \"3Y\", etc\n",
    "```\n",
    "\n",
    "OJO: Se puede usar relativedelta\n"
   ]
  },
  {
   "cell_type": "markdown",
   "id": "8e8abfbb",
   "metadata": {},
   "source": [
    "```python\n",
    "today = datetime(2023, 6, 27)\n",
    "\n",
    "tenor = \"3Y\"\n",
    "\n",
    "shift_date_by_tenor(today, tenor)\n",
    "\n",
    "  >> datetime(2026, 6, 27)\n",
    "```"
   ]
  },
  {
   "cell_type": "code",
   "execution_count": 11,
   "id": "697476c7",
   "metadata": {},
   "outputs": [],
   "source": [
    "# Importar paquetes\n",
    "from datetime import datetime\n",
    "from dateutil.relativedelta import relativedelta\n",
    "\n",
    "# Función para días\n",
    "def shift_date_by_days(date, n_days):\n",
    "    return date + relativedelta(days=n_days)\n",
    "\n",
    "# Función para meses\n",
    "def shift_date_by_months(date, n_months):\n",
    "    return date + relativedelta(months=n_months)\n",
    "\n",
    "# Función para años\n",
    "def shift_date_by_years(date, n_years):\n",
    "    return date + relativedelta(years=n_years)\n",
    "\n",
    "# Función general\n",
    "def shift_date_by_tenor(date, tenor):\n",
    "    n = int(tenor[:-1])     # número\n",
    "    unit = tenor[-1].upper()  # unidad: D, M o Y\n",
    "    \n",
    "    if unit == \"D\":\n",
    "        return shift_date_by_days(date, n)\n",
    "    elif unit == \"M\":\n",
    "        return shift_date_by_months(date, n)\n",
    "    elif unit == \"Y\":\n",
    "        return shift_date_by_years(date, n)\n",
    "    else:\n",
    "        raise ValueError(\"Tenor inválido. Usa 'D', 'M' o 'Y' al final.\")\n"
   ]
  },
  {
   "cell_type": "code",
   "execution_count": 12,
   "id": "c5180f38",
   "metadata": {},
   "outputs": [
    {
     "name": "stdout",
     "output_type": "stream",
     "text": [
      "2028-07-10 00:00:00\n"
     ]
    }
   ],
   "source": [
    "# Ejemplo\n",
    "today = datetime(2025, 7, 10)\n",
    "tenor = \"3Y\"\n",
    "print(shift_date_by_tenor(today, tenor)) \n"
   ]
  },
  {
   "cell_type": "markdown",
   "id": "fe03d2de",
   "metadata": {},
   "source": [
    "2.1 ¿De qué manera podríamos usar un vector de holidays para calcular fechas de vencimiento?"
   ]
  },
  {
   "cell_type": "code",
   "execution_count": 13,
   "id": "720da62e",
   "metadata": {},
   "outputs": [],
   "source": [
    "from datetime import datetime, timedelta\n",
    "\n",
    "# Lista de feriados oficiales en EE.UU. en 2025\n",
    "usa_holidays_2025 = [\n",
    "    datetime(2025, 1, 1),   # Año Nuevo\n",
    "    datetime(2025, 1, 20),  # Día Martin Luther King Jr.\n",
    "    datetime(2025, 2, 17),  # Día del presidente\n",
    "    datetime(2025, 5, 26),  # Memorial Day\n",
    "    datetime(2025, 7, 4),   # Día de la Independencia\n",
    "    datetime(2025, 9, 1),   # Día del trabajo\n",
    "    datetime(2025, 10, 13), # Columbus Day\n",
    "    datetime(2025, 11, 11), # Día del veterano\n",
    "    datetime(2025, 11, 27), # Día de acción de gracias\n",
    "    datetime(2025, 12, 25), # Navidad\n",
    "]\n",
    "\n",
    "# Función para mover la fecha al siguiente día hábil (evitando fines de semana y feriados)\n",
    "def ajustar_a_dia_habil(fecha, feriados):\n",
    "    while fecha.weekday() > 4 or fecha in feriados:  # 5 = sábado, 6 = domingo\n",
    "        fecha += timedelta(days=1)\n",
    "    return fecha"
   ]
  },
  {
   "cell_type": "code",
   "execution_count": 14,
   "id": "719ef909",
   "metadata": {},
   "outputs": [
    {
     "name": "stdout",
     "output_type": "stream",
     "text": [
      "Fecha inicial: 2025-12-25 00:00:00\n",
      "Fecha ajustada: 2025-12-26 00:00:00\n"
     ]
    }
   ],
   "source": [
    "# Ejemplo\n",
    "fecha_inicial = datetime(2025, 12, 25)\n",
    "fecha_ajustada = ajustar_a_dia_habil(fecha_inicial, usa_holidays_2025)\n",
    "\n",
    "print(\"Fecha inicial:\", fecha_inicial)\n",
    "print(\"Fecha ajustada:\", fecha_ajustada)\n"
   ]
  },
  {
   "cell_type": "markdown",
   "id": "a2eba28b",
   "metadata": {},
   "source": [
    "3. Usando recurrencia, calcule el límite de las siguientes sucesiones ($\\epsilon = 10^{-7}$):\n",
    "\n",
    "a) $$a_n = \\sqrt{2\\,a_{n-1}},\\qquad a_0=1\\qquad\\quad \\mbox{Es decir,}\\quad a_n = \\sqrt{2\\sqrt{2\\sqrt{2\\sqrt{2\\sqrt{2\\cdots}}}}}\\quad\\mbox{n-veces}$$\n",
    "\n",
    "b) $$b_{n+1} = \\frac{1}{2}\\left(b_n + \\frac{25}{b_n}\\right), \\qquad b_1 =3$$\n",
    "\n",
    "\n",
    "Vamos a suponer que ya convergió cuando\n",
    "\n",
    "$$|f(n) - f(n+1)| < \\epsilon $$"
   ]
  },
  {
   "cell_type": "code",
   "execution_count": 15,
   "id": "b59db840",
   "metadata": {},
   "outputs": [
    {
     "data": {
      "text/plain": [
       "1.9999999173704188"
      ]
     },
     "execution_count": 15,
     "metadata": {},
     "output_type": "execute_result"
    }
   ],
   "source": [
    "def limite_sucesion_a(epsilon=1e-7):\n",
    "    a_n = 1.0\n",
    "    while True:\n",
    "        a_next = (2 * a_n) ** 0.5\n",
    "        if abs(a_next - a_n) < epsilon:\n",
    "            return a_next\n",
    "        a_n = a_next\n",
    "\n",
    "limite_sucesion_a()\n"
   ]
  },
  {
   "cell_type": "code",
   "execution_count": 16,
   "id": "5258218e",
   "metadata": {},
   "outputs": [
    {
     "data": {
      "text/plain": [
       "5.0"
      ]
     },
     "execution_count": 16,
     "metadata": {},
     "output_type": "execute_result"
    }
   ],
   "source": [
    "def limite_sucesion_b(epsilon=1e-7):\n",
    "    b_n = 3.0\n",
    "    while True:\n",
    "        b_next = 0.5 * (b_n + 25 / b_n)\n",
    "        if abs(b_next - b_n) < epsilon:\n",
    "            return b_next\n",
    "        b_n = b_next\n",
    "\n",
    "limite_sucesion_b()\n"
   ]
  },
  {
   "cell_type": "markdown",
   "id": "73049077",
   "metadata": {},
   "source": [
    "**4.** Crea una función que reciba dos enteros positivos (asegurarse de esto con gestión de errores) y devuelva una matriz de números enteros aleatorios entre 1 y 10."
   ]
  },
  {
   "cell_type": "code",
   "execution_count": 17,
   "id": "a5875459",
   "metadata": {},
   "outputs": [],
   "source": [
    "import numpy as np\n",
    "\n",
    "def generar_matriz(rows, cols):\n",
    "    if not isinstance(rows, int) or not isinstance(cols, int):\n",
    "        raise TypeError(\"Los valores deben ser enteros.\")\n",
    "    if rows <= 0 or cols <= 0:\n",
    "        raise ValueError(\"Los valores deben ser enteros positivos.\")\n",
    "    \n",
    "    return np.random.randint(1, 11, size=(rows, cols))"
   ]
  },
  {
   "cell_type": "code",
   "execution_count": 18,
   "id": "f2ba20a3",
   "metadata": {},
   "outputs": [
    {
     "data": {
      "text/plain": [
       "array([[2, 9],\n",
       "       [7, 7],\n",
       "       [3, 6],\n",
       "       [3, 7]])"
      ]
     },
     "execution_count": 18,
     "metadata": {},
     "output_type": "execute_result"
    }
   ],
   "source": [
    "# Ejemplo:\n",
    "generar_matriz(4, 2)"
   ]
  },
  {
   "cell_type": "code",
   "execution_count": null,
   "id": "7650df6b",
   "metadata": {},
   "outputs": [],
   "source": []
  }
 ],
 "metadata": {
  "kernelspec": {
   "display_name": "Python 3 (ipykernel)",
   "language": "python",
   "name": "python3"
  },
  "language_info": {
   "codemirror_mode": {
    "name": "ipython",
    "version": 3
   },
   "file_extension": ".py",
   "mimetype": "text/x-python",
   "name": "python",
   "nbconvert_exporter": "python",
   "pygments_lexer": "ipython3",
   "version": "3.11.3"
  }
 },
 "nbformat": 4,
 "nbformat_minor": 5
}
