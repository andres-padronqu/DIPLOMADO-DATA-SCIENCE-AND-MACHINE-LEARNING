{
 "cells": [
  {
   "cell_type": "markdown",
   "id": "b6a35565",
   "metadata": {},
   "source": [
    "# Clase 2 Álgebra lineal"
   ]
  },
  {
   "cell_type": "markdown",
   "id": "52706b4c",
   "metadata": {},
   "source": [
    "## Conceptos básicos de álgebra lineal #"
   ]
  },
  {
   "cell_type": "code",
   "execution_count": 4,
   "id": "1cc4b13a",
   "metadata": {},
   "outputs": [],
   "source": [
    "import numpy as np\n",
    "import matplotlib.pyplot as plt"
   ]
  },
  {
   "cell_type": "markdown",
   "id": "338a0b08",
   "metadata": {},
   "source": [
    "### Escalares\n",
    "Nos referimos a un escalar como un único número. Al trabajar con un escalar haremos referencia a la clase de elementos al cuál pertenece por medio de la notación\n",
    "\n",
    "$$\n",
    "    a \\in D\n",
    "$$\n",
    "\n",
    "Donde $a$ es el escalar y $D$ el conjunto al cuál pertenece.  \n",
    "\n",
    "En python, al declarar\n",
    "$$\n",
    " a \\in \\mathbb{R}\n",
    "$$\n",
    "\n",
    "Sería equivalente a tener una variable `a` de tipo `float`"
   ]
  },
  {
   "cell_type": "code",
   "execution_count": 1,
   "id": "6ff80f8c",
   "metadata": {},
   "outputs": [
    {
     "data": {
      "text/plain": [
       "True"
      ]
     },
     "execution_count": 1,
     "metadata": {},
     "output_type": "execute_result"
    }
   ],
   "source": [
    "4 == 4.0"
   ]
  },
  {
   "cell_type": "code",
   "execution_count": 2,
   "id": "7fca3d88",
   "metadata": {},
   "outputs": [
    {
     "data": {
      "text/plain": [
       "float"
      ]
     },
     "execution_count": 2,
     "metadata": {},
     "output_type": "execute_result"
    }
   ],
   "source": [
    "a=5.5\n",
    "type(a)"
   ]
  },
  {
   "cell_type": "markdown",
   "id": "5197138a",
   "metadata": {},
   "source": [
    "### Vectores\n",
    "\n",
    "Un vector es un arreglo ordenado de elementos, todos de la misma clase de elementos. Denotaremos matemáticamente un vector $\\bf x$ en negrillas y la i-ésima entrada del vector por medio de $x_i$\n",
    "\n",
    "$$\n",
    "{\\bf x} = \\begin{bmatrix} \n",
    "x_1 \\\\\n",
    "x_2 \\\\\n",
    "\\vdots \\\\\n",
    "x_N\n",
    "\\end{bmatrix}\n",
    "$$\n",
    "\n",
    "Equivalente a un escalar, al declarar un vector denotaremos el conjunto al cual pertenece y los elementos dentro de este. Por ejemplo, si declaramoos el siguiente vector\n",
    "\n",
    "$$\n",
    "    {\\bf x} \\in \\mathbb{R}^5\n",
    "$$\n",
    "\n",
    "Estaríamos diciendo que $\\bf x$ tiene 5 elementos, cada uno de ellos números reales. En Python, esta representación estaría dada por un numpy array de 5 elementos, cada uno de ellos números flotantes"
   ]
  },
  {
   "cell_type": "markdown",
   "id": "c6fda7ab",
   "metadata": {},
   "source": [
    "**Inicializar arrays numpy**"
   ]
  },
  {
   "cell_type": "code",
   "execution_count": 5,
   "id": "5c03dc7c",
   "metadata": {},
   "outputs": [
    {
     "data": {
      "text/plain": [
       "array([ 3.4,  1.4,  0.5, 10.4,  0. ])"
      ]
     },
     "execution_count": 5,
     "metadata": {},
     "output_type": "execute_result"
    }
   ],
   "source": [
    "x=np.array([3.4,1.4,0.5,10.4,0.0])\n",
    "x"
   ]
  },
  {
   "cell_type": "code",
   "execution_count": 6,
   "id": "0108ba5a",
   "metadata": {},
   "outputs": [
    {
     "data": {
      "text/plain": [
       "(5,)"
      ]
     },
     "execution_count": 6,
     "metadata": {},
     "output_type": "execute_result"
    }
   ],
   "source": [
    "x.shape"
   ]
  },
  {
   "cell_type": "code",
   "execution_count": 7,
   "id": "f32be609",
   "metadata": {
    "scrolled": true
   },
   "outputs": [
    {
     "data": {
      "text/plain": [
       "array([0, 1, 2, 3, 4, 5, 6, 7, 8, 9])"
      ]
     },
     "execution_count": 7,
     "metadata": {},
     "output_type": "execute_result"
    }
   ],
   "source": [
    "x2=np.arange(10)\n",
    "x2"
   ]
  },
  {
   "cell_type": "code",
   "execution_count": 8,
   "id": "277baa50",
   "metadata": {},
   "outputs": [
    {
     "data": {
      "text/plain": [
       "array([1., 1., 1., 1., 1.])"
      ]
     },
     "execution_count": 8,
     "metadata": {},
     "output_type": "execute_result"
    }
   ],
   "source": [
    "x3=np.ones(5)\n",
    "x3"
   ]
  },
  {
   "cell_type": "code",
   "execution_count": 9,
   "id": "53b73969",
   "metadata": {},
   "outputs": [
    {
     "data": {
      "text/plain": [
       "(5,)"
      ]
     },
     "execution_count": 9,
     "metadata": {},
     "output_type": "execute_result"
    }
   ],
   "source": [
    "x3.shape"
   ]
  },
  {
   "cell_type": "code",
   "execution_count": 10,
   "id": "b2de38eb",
   "metadata": {},
   "outputs": [
    {
     "data": {
      "text/plain": [
       "array([0., 0., 0., 0., 0.])"
      ]
     },
     "execution_count": 10,
     "metadata": {},
     "output_type": "execute_result"
    }
   ],
   "source": [
    "x4=np.zeros(5)\n",
    "x4"
   ]
  },
  {
   "cell_type": "code",
   "execution_count": 11,
   "id": "2b935fc3",
   "metadata": {},
   "outputs": [
    {
     "name": "stdout",
     "output_type": "stream",
     "text": [
      "[[0]\n",
      " [1]\n",
      " [2]]\n",
      "[0 1 2 1]\n"
     ]
    }
   ],
   "source": [
    "#vector columna\n",
    "x_col=np.array([[0],[1],[2]])\n",
    "x_fila=np.array([0,1,2,1])\n",
    "print(x_col)\n",
    "print(x_fila)"
   ]
  },
  {
   "cell_type": "code",
   "execution_count": 12,
   "id": "e6e194b1",
   "metadata": {},
   "outputs": [
    {
     "data": {
      "text/plain": [
       "(3, 1)"
      ]
     },
     "execution_count": 12,
     "metadata": {},
     "output_type": "execute_result"
    }
   ],
   "source": [
    "x_col.shape"
   ]
  },
  {
   "cell_type": "code",
   "execution_count": 13,
   "id": "ddcb3c41",
   "metadata": {},
   "outputs": [
    {
     "data": {
      "text/plain": [
       "(4,)"
      ]
     },
     "execution_count": 13,
     "metadata": {},
     "output_type": "execute_result"
    }
   ],
   "source": [
    "x_fila.shape"
   ]
  },
  {
   "cell_type": "markdown",
   "id": "d0630dd7",
   "metadata": {},
   "source": [
    "Geométricamente, podemos pensar un vector como una flecha que apunta desde el origen hasta una coordenada dada en un espacio $n$-dimensional"
   ]
  },
  {
   "cell_type": "code",
   "execution_count": 15,
   "id": "0e9208aa",
   "metadata": {},
   "outputs": [],
   "source": [
    "#si no quieren poner el plt.show()\n",
    "%matplotlib inline"
   ]
  },
  {
   "cell_type": "code",
   "execution_count": 16,
   "id": "537d4841",
   "metadata": {},
   "outputs": [
    {
     "name": "stdout",
     "output_type": "stream",
     "text": [
      "a\t np\t plt\t x\t x2\t x3\t x4\t x_col\t x_fila\t \n",
      "\n"
     ]
    }
   ],
   "source": [
    "%who"
   ]
  },
  {
   "cell_type": "code",
   "execution_count": 17,
   "id": "9ab675b3",
   "metadata": {},
   "outputs": [
    {
     "name": "stdout",
     "output_type": "stream",
     "text": [
      "Variable   Type       Data/Info\n",
      "-------------------------------\n",
      "a          float      5.5\n",
      "np         module     <module 'numpy' from '/Us<...>kages/numpy/__init__.py'>\n",
      "plt        module     <module 'matplotlib.pyplo<...>es/matplotlib/pyplot.py'>\n",
      "x          ndarray    5: 5 elems, type `float64`, 40 bytes\n",
      "x2         ndarray    10: 10 elems, type `int64`, 80 bytes\n",
      "x3         ndarray    5: 5 elems, type `float64`, 40 bytes\n",
      "x4         ndarray    5: 5 elems, type `float64`, 40 bytes\n",
      "x_col      ndarray    3x1: 3 elems, type `int64`, 24 bytes\n",
      "x_fila     ndarray    4: 4 elems, type `int64`, 32 bytes\n"
     ]
    }
   ],
   "source": [
    "%whos"
   ]
  },
  {
   "cell_type": "code",
   "execution_count": 18,
   "id": "a9f4c1ad",
   "metadata": {
    "scrolled": false
   },
   "outputs": [
    {
     "data": {
      "image/png": "[encoded data removed]",
      "text/plain": [
       "<Figure size 640x480 with 1 Axes>"
      ]
     },
     "metadata": {},
     "output_type": "display_data"
    }
   ],
   "source": [
    "x = np.array([1, 2])\n",
    "y = np.array([4.5, 0.5])\n",
    "\n",
    "plt.arrow(0, 0, *x, width=0.05, length_includes_head=True,\n",
    "          color=\"tab:blue\", )\n",
    "plt.arrow(0, 0, *y, width=0.05, length_includes_head=True,\n",
    "          color=\"tab:red\", )\n",
    "plt.xlim(0,5)\n",
    "plt.ylim(0,3)\n",
    "plt.title(\"Dos vectores en $\\mathbb{R}^2$\",fontsize=17)\n",
    "plt.grid()\n",
    "plt.show()"
   ]
  },
  {
   "cell_type": "markdown",
   "id": "f369dacb",
   "metadata": {},
   "source": [
    "$$ \\int_{0}^{1} e^{x}dx \\mathbb{R} $$\n",
    "\n",
    "\n",
    "https://latexeditor.lagrida.com/"
   ]
  },
  {
   "cell_type": "markdown",
   "id": "3cca608a",
   "metadata": {},
   "source": [
    "$$\\int_{a}^{b}f(x)dxE$$"
   ]
  },
  {
   "cell_type": "code",
   "execution_count": 19,
   "id": "ce6ca1c7",
   "metadata": {
    "scrolled": false
   },
   "outputs": [
    {
     "data": {
      "image/png": "[encoded data removed]",
      "text/plain": [
       "<Figure size 640x480 with 1 Axes>"
      ]
     },
     "metadata": {},
     "output_type": "display_data"
    }
   ],
   "source": [
    "x = np.array([1, 2])\n",
    "y = np.array([2.5, 0.5])\n",
    "\n",
    "\n",
    "plt.arrow(0, 0, *x, width=0.05, length_includes_head=True,\n",
    "          color=\"tab:blue\", )\n",
    "plt.arrow(*y, *x, width=0.05, length_includes_head=True,\n",
    "          color=\"tab:blue\", )\n",
    "plt.arrow(0, 0, *y, width=0.05, length_includes_head=True,\n",
    "          color=\"tab:red\", )\n",
    "plt.arrow(0, 0, *(x+y), width=0.05, length_includes_head=True,\n",
    "          color=\"tab:orange\", )\n",
    "plt.xlim(0,5)\n",
    "plt.ylim(0,3)\n",
    "plt.title(r\"Suma de Dos vectores en $\\mathbb{R}^2$\",fontsize=17)\n",
    "plt.grid()"
   ]
  },
  {
   "cell_type": "code",
   "execution_count": 20,
   "id": "1df2ae99",
   "metadata": {},
   "outputs": [
    {
     "data": {
      "text/plain": [
       "4"
      ]
     },
     "execution_count": 20,
     "metadata": {},
     "output_type": "execute_result"
    }
   ],
   "source": [
    "2*2"
   ]
  },
  {
   "cell_type": "code",
   "execution_count": 21,
   "id": "10c9fa92",
   "metadata": {},
   "outputs": [
    {
     "ename": "SyntaxError",
     "evalue": "invalid syntax (1309450519.py, line 1)",
     "output_type": "error",
     "traceback": [
      "\u001b[0;36m  Cell \u001b[0;32mIn[21], line 1\u001b[0;36m\u001b[0m\n\u001b[0;31m    (1,2) -> 2*(1,2) = (2*1,2*2) = (2,4)\u001b[0m\n\u001b[0m          ^\u001b[0m\n\u001b[0;31mSyntaxError\u001b[0m\u001b[0;31m:\u001b[0m invalid syntax\n"
     ]
    }
   ],
   "source": [
    "(1,2) -> 2*(1,2) = (2*1,2*2) = (2,4)"
   ]
  },
  {
   "cell_type": "code",
   "execution_count": 22,
   "id": "136fbe79",
   "metadata": {},
   "outputs": [
    {
     "data": {
      "image/png": "[encoded data removed]",
      "text/plain": [
       "<Figure size 640x480 with 1 Axes>"
      ]
     },
     "metadata": {},
     "output_type": "display_data"
    }
   ],
   "source": [
    "x = np.array([1, 2])\n",
    "plt.arrow(0, 0, *(2*x), width=0.05, length_includes_head=True,\n",
    "          color=\"tab:green\", )\n",
    "plt.arrow(0,0, *x, width=0.05, length_includes_head=True,\n",
    "          color=\"tab:blue\", )\n",
    "plt.xlim(-2,4)\n",
    "plt.ylim(-2,4)\n",
    "plt.title(r\"Multiplicar por un escalar $2\\cdot\\vec{v}$\",fontsize=17)\n",
    "plt.grid()"
   ]
  },
  {
   "cell_type": "markdown",
   "id": "661e1aa4",
   "metadata": {},
   "source": [
    "**Producto Punto**  \n",
    "$x\\cdot y=\\sum x_i y_i$"
   ]
  },
  {
   "cell_type": "code",
   "execution_count": 23,
   "id": "2662686c",
   "metadata": {},
   "outputs": [
    {
     "data": {
      "text/plain": [
       "48"
      ]
     },
     "execution_count": 23,
     "metadata": {},
     "output_type": "execute_result"
    }
   ],
   "source": [
    "x=np.array([5,1,3])\n",
    "y=np.array([9,0,1])\n",
    "\n",
    "#producto punto\n",
    "np.dot(x,y)"
   ]
  },
  {
   "cell_type": "code",
   "execution_count": 25,
   "id": "eaa5f598",
   "metadata": {
    "scrolled": true
   },
   "outputs": [
    {
     "name": "stdout",
     "output_type": "stream",
     "text": [
      "suma de elemento a elemento [14  1  4]\n",
      "multiplicación de elemento a elemento [45  0  3]\n",
      "producto punto 48\n",
      "producto punto 48\n",
      "producto punto 48\n",
      "producto punto 48\n"
     ]
    }
   ],
   "source": [
    "print(\"suma de elemento a elemento\",x+y)\n",
    "print(\"multiplicación de elemento a elemento\",x*y)\n",
    "#Existen varias formas del producto punto\n",
    "print(\"producto punto\",np.sum(x*y))\n",
    "print(\"producto punto\",np.dot(x,y))\n",
    "print(\"producto punto\",np.inner(x,y))\n",
    "print(\"producto punto\",x@y)"
   ]
  },
  {
   "cell_type": "code",
   "execution_count": 26,
   "id": "be537715",
   "metadata": {},
   "outputs": [
    {
     "data": {
      "text/plain": [
       "4"
      ]
     },
     "execution_count": 26,
     "metadata": {},
     "output_type": "execute_result"
    }
   ],
   "source": [
    "2*2"
   ]
  },
  {
   "cell_type": "code",
   "execution_count": 27,
   "id": "51bd18ea",
   "metadata": {},
   "outputs": [
    {
     "ename": "TypeError",
     "evalue": "unsupported operand type(s) for @: 'int' and 'int'",
     "output_type": "error",
     "traceback": [
      "\u001b[0;31m---------------------------------------------------------------------------\u001b[0m",
      "\u001b[0;31mTypeError\u001b[0m                                 Traceback (most recent call last)",
      "Cell \u001b[0;32mIn[27], line 1\u001b[0m\n\u001b[0;32m----> 1\u001b[0m \u001b[38;5;241m2\u001b[39m\u001b[38;5;241m@\u001b[39m\u001b[38;5;241m2\u001b[39m\n",
      "\u001b[0;31mTypeError\u001b[0m: unsupported operand type(s) for @: 'int' and 'int'"
     ]
    }
   ],
   "source": [
    "2@2"
   ]
  },
  {
   "cell_type": "code",
   "execution_count": 28,
   "id": "61e2b7b0",
   "metadata": {},
   "outputs": [
    {
     "data": {
      "text/plain": [
       "array([0, 0, 1])"
      ]
     },
     "execution_count": 28,
     "metadata": {},
     "output_type": "execute_result"
    }
   ],
   "source": [
    "x=np.array([1,0,0])\n",
    "y=np.array([0,1,0])\n",
    "\n",
    "np.cross(x,y)"
   ]
  },
  {
   "cell_type": "code",
   "execution_count": 29,
   "id": "66f58701",
   "metadata": {},
   "outputs": [
    {
     "data": {
      "image/png": "[encoded data removed]",
      "text/plain": [
       "<Figure size 640x480 with 1 Axes>"
      ]
     },
     "metadata": {},
     "output_type": "display_data"
    }
   ],
   "source": [
    "import numpy as np\n",
    "import matplotlib.pyplot as plt\n",
    "from mpl_toolkits.mplot3d import Axes3D\n",
    "\n",
    "# Definir los vectores\n",
    "x = np.array([1, 0, 0])  # Vector unitario en el eje X\n",
    "y = np.array([0, 1, 0])  # Vector unitario en el eje Y\n",
    "cross_product = np.cross(x, y)  # Producto cruz\n",
    "\n",
    "# Crear la figura 3D\n",
    "fig = plt.figure()\n",
    "ax = fig.add_subplot(111, projection='3d')\n",
    "\n",
    "# Graficar los vectores\n",
    "ax.quiver(0, 0, 0, x[0], x[1], x[2], color='r', label='Vector x', linewidth=2)\n",
    "ax.quiver(0, 0, 0, y[0], y[1], y[2], color='g', label='Vector y', linewidth=2)\n",
    "ax.quiver(0, 0, 0, cross_product[0], cross_product[1], cross_product[2], color='b', label='x × y', linewidth=2)\n",
    "\n",
    "# Configurar el gráfico\n",
    "ax.set_xlim([0, 1.2])\n",
    "ax.set_ylim([0, 1.2])\n",
    "ax.set_zlim([0, 1.2])\n",
    "ax.set_xlabel('X-axis')\n",
    "ax.set_ylabel('Y-axis')\n",
    "ax.set_zlabel('Z-axis')\n",
    "ax.legend()\n",
    "ax.set_title('Producto Cruz: x × y')\n",
    "\n",
    "# Mostrar la gráfica\n",
    "plt.show()\n"
   ]
  },
  {
   "cell_type": "code",
   "execution_count": 30,
   "id": "7b0b60f4",
   "metadata": {},
   "outputs": [],
   "source": [
    "import math as math"
   ]
  },
  {
   "cell_type": "code",
   "execution_count": 31,
   "id": "b4249d29",
   "metadata": {},
   "outputs": [
    {
     "data": {
      "text/plain": [
       "1.0"
      ]
     },
     "execution_count": 31,
     "metadata": {},
     "output_type": "execute_result"
    }
   ],
   "source": [
    "math.sin(math.pi/2)"
   ]
  },
  {
   "cell_type": "code",
   "execution_count": 32,
   "id": "cf99b998",
   "metadata": {},
   "outputs": [
    {
     "data": {
      "text/plain": [
       "['__doc__',\n",
       " '__file__',\n",
       " '__loader__',\n",
       " '__name__',\n",
       " '__package__',\n",
       " '__spec__',\n",
       " 'acos',\n",
       " 'acosh',\n",
       " 'asin',\n",
       " 'asinh',\n",
       " 'atan',\n",
       " 'atan2',\n",
       " 'atanh',\n",
       " 'cbrt',\n",
       " 'ceil',\n",
       " 'comb',\n",
       " 'copysign',\n",
       " 'cos',\n",
       " 'cosh',\n",
       " 'degrees',\n",
       " 'dist',\n",
       " 'e',\n",
       " 'erf',\n",
       " 'erfc',\n",
       " 'exp',\n",
       " 'exp2',\n",
       " 'expm1',\n",
       " 'fabs',\n",
       " 'factorial',\n",
       " 'floor',\n",
       " 'fmod',\n",
       " 'frexp',\n",
       " 'fsum',\n",
       " 'gamma',\n",
       " 'gcd',\n",
       " 'hypot',\n",
       " 'inf',\n",
       " 'isclose',\n",
       " 'isfinite',\n",
       " 'isinf',\n",
       " 'isnan',\n",
       " 'isqrt',\n",
       " 'lcm',\n",
       " 'ldexp',\n",
       " 'lgamma',\n",
       " 'log',\n",
       " 'log10',\n",
       " 'log1p',\n",
       " 'log2',\n",
       " 'modf',\n",
       " 'nan',\n",
       " 'nextafter',\n",
       " 'perm',\n",
       " 'pi',\n",
       " 'pow',\n",
       " 'prod',\n",
       " 'radians',\n",
       " 'remainder',\n",
       " 'sin',\n",
       " 'sinh',\n",
       " 'sqrt',\n",
       " 'tan',\n",
       " 'tanh',\n",
       " 'tau',\n",
       " 'trunc',\n",
       " 'ulp']"
      ]
     },
     "execution_count": 32,
     "metadata": {},
     "output_type": "execute_result"
    }
   ],
   "source": [
    "dir(math)"
   ]
  },
  {
   "cell_type": "markdown",
   "id": "daff7781",
   "metadata": {},
   "source": [
    "Una colección de tamaño $n$ de vectores $\\vec{v_i}$ es linealmente independiente si:  \n",
    "$\\beta_1\\vec{v_1}+...+\\beta_n\\vec{v_n}=0$  \n",
    "solo se cumple cuando todas las $\\beta$ son iguales a 0."
   ]
  },
  {
   "cell_type": "code",
   "execution_count": 33,
   "id": "dfa53b60",
   "metadata": {},
   "outputs": [],
   "source": [
    "x=np.array([0,1])\n",
    "y=np.array([0,2])\n"
   ]
  },
  {
   "cell_type": "code",
   "execution_count": 34,
   "id": "2b3ffad2",
   "metadata": {},
   "outputs": [
    {
     "data": {
      "text/plain": [
       "array([0, 0])"
      ]
     },
     "execution_count": 34,
     "metadata": {},
     "output_type": "execute_result"
    }
   ],
   "source": [
    "0*x + 0*y\n",
    "#para que sean linealmente indepentienes, estaríamos \n",
    "#diciendo que la única forma de llegar al [0,0] es \n",
    "#si B1=0 y B2=0"
   ]
  },
  {
   "cell_type": "code",
   "execution_count": 35,
   "id": "10ffcffd",
   "metadata": {},
   "outputs": [
    {
     "data": {
      "text/plain": [
       "array([0, 0])"
      ]
     },
     "execution_count": 35,
     "metadata": {},
     "output_type": "execute_result"
    }
   ],
   "source": [
    "(-2)*x + (1)*y\n",
    "# nos está dando cero, \n",
    "#esto implica que encontramos otra combinación que \n",
    "#me da cero. \n",
    "#Entonces, lo anterior no se cumple, B1=0 y B2=0 no es \n",
    "#es la unica forma de llegar al [0,0]\n",
    "#Eso significa que x y y son linealmente dependientes. \n",
    "\n",
    "#Signfica que \"y\" lo puedo escribir como combinación lineal de x "
   ]
  },
  {
   "cell_type": "code",
   "execution_count": 36,
   "id": "d3673b1d",
   "metadata": {},
   "outputs": [
    {
     "data": {
      "text/plain": [
       "array([0, 2])"
      ]
     },
     "execution_count": 36,
     "metadata": {},
     "output_type": "execute_result"
    }
   ],
   "source": [
    "x + x #esto es y"
   ]
  },
  {
   "cell_type": "markdown",
   "id": "5600274a",
   "metadata": {},
   "source": [
    "Para dos vectores $x$ e $y$ y dos escalares $a$ y $b$, $F$ es una **transformación lineal** si:  \n",
    "$F(ax+by)=aF(x)+bF(y)$\n",
    "\n",
    "$$F(x) = -x$$"
   ]
  },
  {
   "cell_type": "code",
   "execution_count": 37,
   "id": "feaef87d",
   "metadata": {},
   "outputs": [
    {
     "name": "stdout",
     "output_type": "stream",
     "text": [
      "[-11 -16]\n",
      "[-11 -16]\n"
     ]
    }
   ],
   "source": [
    "x=np.array([1,2])\n",
    "y=np.array([3,4])\n",
    "\n",
    "a=2\n",
    "b=3\n",
    "\n",
    "#Saquemos el valor negativo de nuestro vector\n",
    "\n",
    "def f(vector):\n",
    "    return -1*vector\n",
    "\n",
    "print(f(a*x+b*y))\n",
    "print(a*f(x)+b*f(y))"
   ]
  },
  {
   "cell_type": "markdown",
   "id": "3157a9dc",
   "metadata": {},
   "source": [
    "### Matrices\n",
    "\n",
    "Una matriz $\\bf X$ es un arreglo bi-dimensional de números (equivalente a un numpy array con `ndim == 2`). Denotaremos la $(i, j)$-ésima entrada de una matriz $\\bf X$ por medio de $X_{i,j}$.\n",
    "\n",
    "$$\n",
    "{\\bf X} = \\begin{bmatrix}\n",
    "x_{1,1} & x_{1,2} & \\ldots & x_{1,M} \\\\\n",
    "x_{2,1} & x_{2,2} & \\ldots & x_{2,M} \\\\\n",
    "\\vdots & \\vdots & \\vdots & \\vdots \\\\\n",
    "x_{N,1} & x_{N,2} & \\ldots & x_{N,M}\n",
    "\\end{bmatrix}\n",
    "$$\n",
    "\n",
    "A fin de hacer la notación más compacta, declararemos una matriz $\\bf A$ con $N$ filas y $M$ columnas como\n",
    "\n",
    "$$\n",
    "    {\\bf A} \\in \\mathbb{R}^{N\\times M}\n",
    "$$\n",
    "\n",
    "* De una manera geométrica, una matriz representa una _transformación lineal_ de un espacio en $\\mathbb{R}^n$. Un ejemplo visual de esto se puede encontrar [aquí](https://www.geogebra.org/m/YCZa8TAH)."
   ]
  },
  {
   "cell_type": "markdown",
   "id": "b8cbf075",
   "metadata": {},
   "source": [
    "**Algunas matrices particulares**\n",
    "1. Una matriz ${\\bf A} \\in \\mathbb{R}^{n\\times n}$ es conocida como una matriz cuadrada\n",
    "2. Denotamos la matriz identidad $\\bf I\\in \\mathbb{R}^{n\\times n}$ como una matriz cuadrada tal que $I_{i,j} = \\mathbb{1}_{i=j}$\n",
    "3. Matemáticamente, expresamos un vector como un vector columna, es decir, ${\\bf a} \\in \\mathbb{R}^{n\\times 1}$."
   ]
  },
  {
   "cell_type": "code",
   "execution_count": 38,
   "id": "325c0ec7",
   "metadata": {},
   "outputs": [],
   "source": [
    "X=np.array([\n",
    "    [1.4,0.5,0.5],\n",
    "    [3.1,1.9,9.4],\n",
    "    [0.9,1.1,1.3]\n",
    "    \n",
    "    \n",
    "    \n",
    "])"
   ]
  },
  {
   "cell_type": "code",
   "execution_count": 39,
   "id": "8e3003df",
   "metadata": {},
   "outputs": [
    {
     "data": {
      "text/plain": [
       "array([[1.4, 0.5, 0.5],\n",
       "       [3.1, 1.9, 9.4],\n",
       "       [0.9, 1.1, 1.3]])"
      ]
     },
     "execution_count": 39,
     "metadata": {},
     "output_type": "execute_result"
    }
   ],
   "source": [
    "X"
   ]
  },
  {
   "cell_type": "code",
   "execution_count": 40,
   "id": "68850d7c",
   "metadata": {},
   "outputs": [
    {
     "data": {
      "text/plain": [
       "array([[0, 1, 2],\n",
       "       [3, 4, 5],\n",
       "       [6, 7, 8]])"
      ]
     },
     "execution_count": 40,
     "metadata": {},
     "output_type": "execute_result"
    }
   ],
   "source": [
    "x=np.arange(9).reshape(3,3)\n",
    "x"
   ]
  },
  {
   "cell_type": "markdown",
   "id": "66a91ff3",
   "metadata": {},
   "source": [
    "**Propiedades de matrices en numpy**"
   ]
  },
  {
   "cell_type": "code",
   "execution_count": 41,
   "id": "613ffd7b",
   "metadata": {},
   "outputs": [
    {
     "data": {
      "text/plain": [
       "(3, 3)"
      ]
     },
     "execution_count": 41,
     "metadata": {},
     "output_type": "execute_result"
    }
   ],
   "source": [
    "x.shape"
   ]
  },
  {
   "cell_type": "code",
   "execution_count": 42,
   "id": "dd3de10f",
   "metadata": {},
   "outputs": [
    {
     "data": {
      "text/plain": [
       "9"
      ]
     },
     "execution_count": 42,
     "metadata": {},
     "output_type": "execute_result"
    }
   ],
   "source": [
    "x.size"
   ]
  },
  {
   "cell_type": "code",
   "execution_count": 43,
   "id": "e4c8b232",
   "metadata": {},
   "outputs": [
    {
     "data": {
      "text/plain": [
       "dtype('int64')"
      ]
     },
     "execution_count": 43,
     "metadata": {},
     "output_type": "execute_result"
    }
   ],
   "source": [
    "x.dtype"
   ]
  },
  {
   "cell_type": "markdown",
   "id": "ffb9c48e",
   "metadata": {},
   "source": [
    "**Selección de elementos de una matriz**"
   ]
  },
  {
   "cell_type": "code",
   "execution_count": 44,
   "id": "d263da1c",
   "metadata": {},
   "outputs": [
    {
     "data": {
      "text/plain": [
       "array([[0, 1, 2],\n",
       "       [3, 4, 5],\n",
       "       [6, 7, 8]])"
      ]
     },
     "execution_count": 44,
     "metadata": {},
     "output_type": "execute_result"
    }
   ],
   "source": [
    "x"
   ]
  },
  {
   "cell_type": "code",
   "execution_count": 46,
   "id": "c8d2b7c5",
   "metadata": {},
   "outputs": [
    {
     "data": {
      "text/plain": [
       "8"
      ]
     },
     "execution_count": 46,
     "metadata": {},
     "output_type": "execute_result"
    }
   ],
   "source": [
    "x[2,2] #fila dos columna dos"
   ]
  },
  {
   "cell_type": "markdown",
   "id": "eb792a2c",
   "metadata": {},
   "source": [
    "**Operaciones**"
   ]
  },
  {
   "cell_type": "code",
   "execution_count": 47,
   "id": "ad052f34",
   "metadata": {},
   "outputs": [
    {
     "data": {
      "text/plain": [
       "array([[0, 3, 6],\n",
       "       [1, 4, 7],\n",
       "       [2, 5, 8]])"
      ]
     },
     "execution_count": 47,
     "metadata": {},
     "output_type": "execute_result"
    }
   ],
   "source": [
    "x.T #transpuesta"
   ]
  },
  {
   "cell_type": "code",
   "execution_count": 48,
   "id": "27ae1874",
   "metadata": {},
   "outputs": [
    {
     "data": {
      "text/plain": [
       "array([[0, 1, 2],\n",
       "       [3, 4, 5],\n",
       "       [6, 7, 8]])"
      ]
     },
     "execution_count": 48,
     "metadata": {},
     "output_type": "execute_result"
    }
   ],
   "source": [
    "x"
   ]
  },
  {
   "cell_type": "code",
   "execution_count": 49,
   "id": "95f32edc",
   "metadata": {
    "scrolled": true
   },
   "outputs": [
    {
     "data": {
      "text/plain": [
       "array([[ 0,  5, 10],\n",
       "       [15, 20, 25],\n",
       "       [30, 35, 40]])"
      ]
     },
     "execution_count": 49,
     "metadata": {},
     "output_type": "execute_result"
    }
   ],
   "source": [
    "#por un escalar\n",
    "5*x #afectta a todos los elementos"
   ]
  },
  {
   "attachments": {
    "image-2.png": {
     "image/png": "[encoded data removed]"
    },
    "image-3.png": {
     "image/png": "[encoded data removed]"
    }
   },
   "cell_type": "markdown",
   "id": "50726b34",
   "metadata": {},
   "source": [
    "**Multiplicación de matrices**\n",
    "![image-2.png](attachment:image-2.png)\n",
    "![image-3.png](attachment:image-3.png)"
   ]
  },
  {
   "cell_type": "code",
   "execution_count": 50,
   "id": "ecb8cfa8",
   "metadata": {},
   "outputs": [
    {
     "data": {
      "text/plain": [
       "array([[0, 1, 2, 3],\n",
       "       [4, 5, 6, 7]])"
      ]
     },
     "execution_count": 50,
     "metadata": {},
     "output_type": "execute_result"
    }
   ],
   "source": [
    "x=np.arange(8).reshape(2,4)\n",
    "x"
   ]
  },
  {
   "cell_type": "code",
   "execution_count": 51,
   "id": "02e0a384",
   "metadata": {},
   "outputs": [
    {
     "data": {
      "text/plain": [
       "(2, 4)"
      ]
     },
     "execution_count": 51,
     "metadata": {},
     "output_type": "execute_result"
    }
   ],
   "source": [
    "x.shape"
   ]
  },
  {
   "cell_type": "code",
   "execution_count": 52,
   "id": "22cf7f5f",
   "metadata": {},
   "outputs": [
    {
     "data": {
      "text/plain": [
       "(2,)"
      ]
     },
     "execution_count": 52,
     "metadata": {},
     "output_type": "execute_result"
    }
   ],
   "source": [
    "y.shape"
   ]
  },
  {
   "cell_type": "code",
   "execution_count": 55,
   "id": "64d9d156",
   "metadata": {},
   "outputs": [
    {
     "data": {
      "text/plain": [
       "array([[1., 1., 1.],\n",
       "       [1., 1., 1.],\n",
       "       [1., 1., 1.],\n",
       "       [1., 1., 1.]])"
      ]
     },
     "execution_count": 55,
     "metadata": {},
     "output_type": "execute_result"
    }
   ],
   "source": [
    "y=np.ones((4,3))\n",
    "y"
   ]
  },
  {
   "cell_type": "code",
   "execution_count": 56,
   "id": "c777dadb",
   "metadata": {},
   "outputs": [
    {
     "data": {
      "text/plain": [
       "array([[ 6.,  6.,  6.],\n",
       "       [22., 22., 22.]])"
      ]
     },
     "execution_count": 56,
     "metadata": {},
     "output_type": "execute_result"
    }
   ],
   "source": [
    "#@ es para multiplicar al igual np.dot\n",
    "x@y"
   ]
  },
  {
   "cell_type": "code",
   "execution_count": 57,
   "id": "73213948",
   "metadata": {},
   "outputs": [
    {
     "data": {
      "text/plain": [
       "array([[ 6.,  6.,  6.],\n",
       "       [22., 22., 22.]])"
      ]
     },
     "execution_count": 57,
     "metadata": {},
     "output_type": "execute_result"
    }
   ],
   "source": [
    "np.dot(x,y) #es lo mismo que el @"
   ]
  },
  {
   "cell_type": "markdown",
   "id": "b67e9063",
   "metadata": {},
   "source": [
    "**Determinante**"
   ]
  },
  {
   "cell_type": "code",
   "execution_count": 58,
   "id": "fcebb91c",
   "metadata": {
    "scrolled": true
   },
   "outputs": [
    {
     "data": {
      "text/plain": [
       "array([[0, 1],\n",
       "       [2, 3]])"
      ]
     },
     "execution_count": 58,
     "metadata": {},
     "output_type": "execute_result"
    }
   ],
   "source": [
    "A=np.arange(4).reshape((2,2))\n",
    "A"
   ]
  },
  {
   "cell_type": "code",
   "execution_count": 59,
   "id": "55546232",
   "metadata": {
    "scrolled": true
   },
   "outputs": [
    {
     "data": {
      "text/plain": [
       "-2.0"
      ]
     },
     "execution_count": 59,
     "metadata": {},
     "output_type": "execute_result"
    }
   ],
   "source": [
    "np.linalg.det(A)\n",
    "\n",
    "#Si det =! 0 -> tiene inversa"
   ]
  },
  {
   "cell_type": "markdown",
   "id": "08d93656",
   "metadata": {},
   "source": [
    "**Inversa de una matriz**: Es análogo a la inversa de un número.  \n",
    "N es la inversa de la matriz M si:  \n",
    "$M\\cdot N=I$"
   ]
  },
  {
   "cell_type": "code",
   "execution_count": 60,
   "id": "2948d087",
   "metadata": {},
   "outputs": [
    {
     "data": {
      "text/plain": [
       "array([[0, 1],\n",
       "       [2, 3]])"
      ]
     },
     "execution_count": 60,
     "metadata": {},
     "output_type": "execute_result"
    }
   ],
   "source": [
    "A"
   ]
  },
  {
   "cell_type": "code",
   "execution_count": 61,
   "id": "b6a34a87",
   "metadata": {},
   "outputs": [
    {
     "data": {
      "text/plain": [
       "array([[-1.5,  0.5],\n",
       "       [ 1. ,  0. ]])"
      ]
     },
     "execution_count": 61,
     "metadata": {},
     "output_type": "execute_result"
    }
   ],
   "source": [
    "np.linalg.inv(A)\n"
   ]
  },
  {
   "cell_type": "code",
   "execution_count": 62,
   "id": "2a82b8cc",
   "metadata": {},
   "outputs": [
    {
     "data": {
      "text/plain": [
       "array([[1., 0.],\n",
       "       [0., 1.]])"
      ]
     },
     "execution_count": 62,
     "metadata": {},
     "output_type": "execute_result"
    }
   ],
   "source": [
    "A@np.linalg.inv(A)\n",
    "#identidad"
   ]
  },
  {
   "cell_type": "code",
   "execution_count": null,
   "id": "e0ed6263",
   "metadata": {},
   "outputs": [],
   "source": [
    "#Si el determinante de una matriz es 0 quiere decir que la matriz es singular\n",
    "#no tiene inversa"
   ]
  },
  {
   "cell_type": "code",
   "execution_count": 63,
   "id": "7e65545f",
   "metadata": {},
   "outputs": [],
   "source": [
    "x=np.array([\n",
    "    [0,1,0],\n",
    "    [0,0,0],\n",
    "    [1,0,1]\n",
    "])"
   ]
  },
  {
   "cell_type": "code",
   "execution_count": 64,
   "id": "a1cbb591",
   "metadata": {},
   "outputs": [
    {
     "data": {
      "text/plain": [
       "0.0"
      ]
     },
     "execution_count": 64,
     "metadata": {},
     "output_type": "execute_result"
    }
   ],
   "source": [
    "np.linalg.det(x)"
   ]
  },
  {
   "cell_type": "code",
   "execution_count": 65,
   "id": "f51b3387",
   "metadata": {},
   "outputs": [
    {
     "ename": "LinAlgError",
     "evalue": "Singular matrix",
     "output_type": "error",
     "traceback": [
      "\u001b[0;31m---------------------------------------------------------------------------\u001b[0m",
      "\u001b[0;31mLinAlgError\u001b[0m                               Traceback (most recent call last)",
      "Cell \u001b[0;32mIn[65], line 1\u001b[0m\n\u001b[0;32m----> 1\u001b[0m np\u001b[38;5;241m.\u001b[39mlinalg\u001b[38;5;241m.\u001b[39minv(x)\n",
      "File \u001b[0;32m<__array_function__ internals>:200\u001b[0m, in \u001b[0;36minv\u001b[0;34m(*args, **kwargs)\u001b[0m\n",
      "File \u001b[0;32m~/anaconda3/lib/python3.11/site-packages/numpy/linalg/linalg.py:538\u001b[0m, in \u001b[0;36minv\u001b[0;34m(a)\u001b[0m\n\u001b[1;32m    536\u001b[0m signature \u001b[38;5;241m=\u001b[39m \u001b[38;5;124m'\u001b[39m\u001b[38;5;124mD->D\u001b[39m\u001b[38;5;124m'\u001b[39m \u001b[38;5;28;01mif\u001b[39;00m isComplexType(t) \u001b[38;5;28;01melse\u001b[39;00m \u001b[38;5;124m'\u001b[39m\u001b[38;5;124md->d\u001b[39m\u001b[38;5;124m'\u001b[39m\n\u001b[1;32m    537\u001b[0m extobj \u001b[38;5;241m=\u001b[39m get_linalg_error_extobj(_raise_linalgerror_singular)\n\u001b[0;32m--> 538\u001b[0m ainv \u001b[38;5;241m=\u001b[39m _umath_linalg\u001b[38;5;241m.\u001b[39minv(a, signature\u001b[38;5;241m=\u001b[39msignature, extobj\u001b[38;5;241m=\u001b[39mextobj)\n\u001b[1;32m    539\u001b[0m \u001b[38;5;28;01mreturn\u001b[39;00m wrap(ainv\u001b[38;5;241m.\u001b[39mastype(result_t, copy\u001b[38;5;241m=\u001b[39m\u001b[38;5;28;01mFalse\u001b[39;00m))\n",
      "File \u001b[0;32m~/anaconda3/lib/python3.11/site-packages/numpy/linalg/linalg.py:89\u001b[0m, in \u001b[0;36m_raise_linalgerror_singular\u001b[0;34m(err, flag)\u001b[0m\n\u001b[1;32m     88\u001b[0m \u001b[38;5;28;01mdef\u001b[39;00m \u001b[38;5;21m_raise_linalgerror_singular\u001b[39m(err, flag):\n\u001b[0;32m---> 89\u001b[0m     \u001b[38;5;28;01mraise\u001b[39;00m LinAlgError(\u001b[38;5;124m\"\u001b[39m\u001b[38;5;124mSingular matrix\u001b[39m\u001b[38;5;124m\"\u001b[39m)\n",
      "\u001b[0;31mLinAlgError\u001b[0m: Singular matrix"
     ]
    }
   ],
   "source": [
    "np.linalg.inv(x) #error alg lineal"
   ]
  },
  {
   "cell_type": "code",
   "execution_count": null,
   "id": "0e7297bb",
   "metadata": {},
   "outputs": [],
   "source": [
    "#Si mi matriz es singular, no tiene inversa, implica que es linealmente dependiente\n",
    "#yo puedo escribir un vector como combinación lineal de los demas. \n",
    "\n",
    "#en el ejemplo, el primer y tercer vector son los mismos. "
   ]
  },
  {
   "cell_type": "markdown",
   "id": "fcce0a62",
   "metadata": {},
   "source": [
    "**Rango**: El rango de una matriz A de m x n es el número de columnas o filas linealmente independientes."
   ]
  },
  {
   "cell_type": "code",
   "execution_count": 66,
   "id": "12fff7fe",
   "metadata": {},
   "outputs": [
    {
     "data": {
      "text/plain": [
       "2"
      ]
     },
     "execution_count": 66,
     "metadata": {},
     "output_type": "execute_result"
    }
   ],
   "source": [
    "np.linalg.matrix_rank(x) #esto implica que hay una columna que no es linealmente\n",
    "#independiente"
   ]
  },
  {
   "cell_type": "markdown",
   "id": "ed708999",
   "metadata": {},
   "source": [
    "## Matriz de covarianza ##  \n",
    "Media muestral:  \n",
    "$ \\normalsize\\mu_{X_k} = \\frac{1}{N}\\sum_{i=1}^N X_k(t_i) $ \n",
    "\n",
    "Matriz covarianza:  \n",
    "$ \\normalsize\\Sigma(j,k) = cov(X_j, X_k) = \\frac{1}{N-1}\\sum_{i=1}^N [X_j(t_i)-\\mu_{X_j}][X_k(t_i)-\\mu_{X_k}] $  \n",
    "\n",
    "Si $ T_X $ es la matriz con los datos de la(s) serie(s) de tiempo y $ \\bar T_X $ es la matriz con cada columna centrada en la media, entonces:  \n",
    "$ \\Sigma_X = \\frac{1}{N-1}\\bar T^t \\bar T $"
   ]
  },
  {
   "cell_type": "code",
   "execution_count": 67,
   "id": "0b2a3e72",
   "metadata": {},
   "outputs": [],
   "source": [
    "import pandas as pd"
   ]
  },
  {
   "cell_type": "code",
   "execution_count": 68,
   "id": "da4fff4e",
   "metadata": {},
   "outputs": [],
   "source": [
    "df=pd.read_csv(\"https://raw.githubusercontent.com/Apgt512/Modulo_II_LinAlg_Prob/main/commodities_nominal_prices_global.csv\")"
   ]
  },
  {
   "cell_type": "code",
   "execution_count": 69,
   "id": "eef4ae6c",
   "metadata": {},
   "outputs": [
    {
     "data": {
      "text/plain": [
       "YEAR             int64\n",
       "CRUDE_PETRO    float64\n",
       "CRUDE_BRENT     object\n",
       "CRUDE_DUBAI    float64\n",
       "CRUDE_WTI       object\n",
       "                ...   \n",
       "NICKEL         float64\n",
       "Zinc           float64\n",
       "GOLD           float64\n",
       "PLATINUM       float64\n",
       "SILVER         float64\n",
       "Length: 70, dtype: object"
      ]
     },
     "execution_count": 69,
     "metadata": {},
     "output_type": "execute_result"
    }
   ],
   "source": [
    "df.dtypes"
   ]
  },
  {
   "cell_type": "code",
   "execution_count": 70,
   "id": "f5df7d6c",
   "metadata": {},
   "outputs": [
    {
     "data": {
      "text/html": [
       "<div>\n",
       "<style scoped>\n",
       "    .dataframe tbody tr th:only-of-type {\n",
       "        vertical-align: middle;\n",
       "    }\n",
       "\n",
       "    .dataframe tbody tr th {\n",
       "        vertical-align: top;\n",
       "    }\n",
       "\n",
       "    .dataframe thead th {\n",
       "        text-align: right;\n",
       "    }\n",
       "</style>\n",
       "<table border=\"1\" class=\"dataframe\">\n",
       "  <thead>\n",
       "    <tr style=\"text-align: right;\">\n",
       "      <th></th>\n",
       "      <th>YEAR</th>\n",
       "      <th>CRUDE_PETRO</th>\n",
       "      <th>CRUDE_BRENT</th>\n",
       "      <th>CRUDE_DUBAI</th>\n",
       "      <th>CRUDE_WTI</th>\n",
       "      <th>COAL_AUS</th>\n",
       "      <th>COAL_SAFRICA</th>\n",
       "      <th>NGAS_US</th>\n",
       "      <th>NGAS_EUR</th>\n",
       "      <th>NGAS_JP</th>\n",
       "      <th>...</th>\n",
       "      <th>ALUMINUM</th>\n",
       "      <th>IRON_ORE</th>\n",
       "      <th>COPPER</th>\n",
       "      <th>LEAD</th>\n",
       "      <th>Tin</th>\n",
       "      <th>NICKEL</th>\n",
       "      <th>Zinc</th>\n",
       "      <th>GOLD</th>\n",
       "      <th>PLATINUM</th>\n",
       "      <th>SILVER</th>\n",
       "    </tr>\n",
       "  </thead>\n",
       "  <tbody>\n",
       "    <tr>\n",
       "      <th>0</th>\n",
       "      <td>1960</td>\n",
       "      <td>1.630000</td>\n",
       "      <td>..</td>\n",
       "      <td>1.630000</td>\n",
       "      <td>..</td>\n",
       "      <td>..</td>\n",
       "      <td>..</td>\n",
       "      <td>0.140000</td>\n",
       "      <td>0.404774</td>\n",
       "      <td>..</td>\n",
       "      <td>...</td>\n",
       "      <td>511.471832</td>\n",
       "      <td>11.420000</td>\n",
       "      <td>678.755833</td>\n",
       "      <td>198.850000</td>\n",
       "      <td>2196.733333</td>\n",
       "      <td>1631.000000</td>\n",
       "      <td>246.191667</td>\n",
       "      <td>35.270000</td>\n",
       "      <td>83.500000</td>\n",
       "      <td>0.913700</td>\n",
       "    </tr>\n",
       "    <tr>\n",
       "      <th>1</th>\n",
       "      <td>1961</td>\n",
       "      <td>1.570000</td>\n",
       "      <td>..</td>\n",
       "      <td>1.570000</td>\n",
       "      <td>..</td>\n",
       "      <td>..</td>\n",
       "      <td>..</td>\n",
       "      <td>0.150000</td>\n",
       "      <td>0.404774</td>\n",
       "      <td>..</td>\n",
       "      <td>...</td>\n",
       "      <td>511.471832</td>\n",
       "      <td>11.020000</td>\n",
       "      <td>633.084167</td>\n",
       "      <td>176.975000</td>\n",
       "      <td>2449.891667</td>\n",
       "      <td>1711.000000</td>\n",
       "      <td>214.308333</td>\n",
       "      <td>35.250000</td>\n",
       "      <td>83.500000</td>\n",
       "      <td>0.924442</td>\n",
       "    </tr>\n",
       "    <tr>\n",
       "      <th>2</th>\n",
       "      <td>1962</td>\n",
       "      <td>1.520000</td>\n",
       "      <td>..</td>\n",
       "      <td>1.520000</td>\n",
       "      <td>..</td>\n",
       "      <td>..</td>\n",
       "      <td>..</td>\n",
       "      <td>0.160000</td>\n",
       "      <td>0.404774</td>\n",
       "      <td>..</td>\n",
       "      <td>...</td>\n",
       "      <td>498.060392</td>\n",
       "      <td>11.010000</td>\n",
       "      <td>645.143333</td>\n",
       "      <td>155.283333</td>\n",
       "      <td>2471.383333</td>\n",
       "      <td>1761.000000</td>\n",
       "      <td>185.925000</td>\n",
       "      <td>35.230000</td>\n",
       "      <td>83.500000</td>\n",
       "      <td>1.083725</td>\n",
       "    </tr>\n",
       "    <tr>\n",
       "      <th>3</th>\n",
       "      <td>1963</td>\n",
       "      <td>1.500000</td>\n",
       "      <td>..</td>\n",
       "      <td>1.500000</td>\n",
       "      <td>..</td>\n",
       "      <td>..</td>\n",
       "      <td>..</td>\n",
       "      <td>0.160000</td>\n",
       "      <td>0.391351</td>\n",
       "      <td>..</td>\n",
       "      <td>...</td>\n",
       "      <td>498.795265</td>\n",
       "      <td>11.020000</td>\n",
       "      <td>645.950833</td>\n",
       "      <td>174.808333</td>\n",
       "      <td>2507.733333</td>\n",
       "      <td>1741.666667</td>\n",
       "      <td>211.508333</td>\n",
       "      <td>35.090000</td>\n",
       "      <td>80.930833</td>\n",
       "      <td>1.279108</td>\n",
       "    </tr>\n",
       "    <tr>\n",
       "      <th>4</th>\n",
       "      <td>1964</td>\n",
       "      <td>1.450000</td>\n",
       "      <td>..</td>\n",
       "      <td>1.450000</td>\n",
       "      <td>..</td>\n",
       "      <td>..</td>\n",
       "      <td>..</td>\n",
       "      <td>0.150000</td>\n",
       "      <td>0.384150</td>\n",
       "      <td>..</td>\n",
       "      <td>...</td>\n",
       "      <td>525.985631</td>\n",
       "      <td>10.240000</td>\n",
       "      <td>969.753333</td>\n",
       "      <td>277.883333</td>\n",
       "      <td>3412.741667</td>\n",
       "      <td>1741.666667</td>\n",
       "      <td>326.491667</td>\n",
       "      <td>35.100000</td>\n",
       "      <td>88.480833</td>\n",
       "      <td>1.293000</td>\n",
       "    </tr>\n",
       "    <tr>\n",
       "      <th>...</th>\n",
       "      <td>...</td>\n",
       "      <td>...</td>\n",
       "      <td>...</td>\n",
       "      <td>...</td>\n",
       "      <td>...</td>\n",
       "      <td>...</td>\n",
       "      <td>...</td>\n",
       "      <td>...</td>\n",
       "      <td>...</td>\n",
       "      <td>...</td>\n",
       "      <td>...</td>\n",
       "      <td>...</td>\n",
       "      <td>...</td>\n",
       "      <td>...</td>\n",
       "      <td>...</td>\n",
       "      <td>...</td>\n",
       "      <td>...</td>\n",
       "      <td>...</td>\n",
       "      <td>...</td>\n",
       "      <td>...</td>\n",
       "      <td>...</td>\n",
       "    </tr>\n",
       "    <tr>\n",
       "      <th>56</th>\n",
       "      <td>2016</td>\n",
       "      <td>42.811944</td>\n",
       "      <td>44.0475</td>\n",
       "      <td>41.200833</td>\n",
       "      <td>43.1875</td>\n",
       "      <td>66.12333333</td>\n",
       "      <td>63.94666667</td>\n",
       "      <td>2.492217</td>\n",
       "      <td>4.563423</td>\n",
       "      <td>7.372443958</td>\n",
       "      <td>...</td>\n",
       "      <td>1604.181667</td>\n",
       "      <td>58.424167</td>\n",
       "      <td>4867.897500</td>\n",
       "      <td>1866.653333</td>\n",
       "      <td>17933.761670</td>\n",
       "      <td>9595.179167</td>\n",
       "      <td>2089.975000</td>\n",
       "      <td>1248.988333</td>\n",
       "      <td>987.086667</td>\n",
       "      <td>17.146750</td>\n",
       "    </tr>\n",
       "    <tr>\n",
       "      <th>57</th>\n",
       "      <td>2017</td>\n",
       "      <td>52.805000</td>\n",
       "      <td>54.3925</td>\n",
       "      <td>53.115833</td>\n",
       "      <td>50.90666667</td>\n",
       "      <td>88.51833333</td>\n",
       "      <td>85.14916667</td>\n",
       "      <td>2.961075</td>\n",
       "      <td>5.717043</td>\n",
       "      <td>8.606124194</td>\n",
       "      <td>...</td>\n",
       "      <td>1967.654167</td>\n",
       "      <td>71.760000</td>\n",
       "      <td>6169.940000</td>\n",
       "      <td>2314.665000</td>\n",
       "      <td>20061.169170</td>\n",
       "      <td>10409.635000</td>\n",
       "      <td>2890.866667</td>\n",
       "      <td>1257.559167</td>\n",
       "      <td>948.453333</td>\n",
       "      <td>17.066167</td>\n",
       "    </tr>\n",
       "    <tr>\n",
       "      <th>58</th>\n",
       "      <td>2018</td>\n",
       "      <td>68.347500</td>\n",
       "      <td>71.07166667</td>\n",
       "      <td>69.151667</td>\n",
       "      <td>64.81916667</td>\n",
       "      <td>107.0225</td>\n",
       "      <td>97.64333333</td>\n",
       "      <td>3.159725</td>\n",
       "      <td>7.681680</td>\n",
       "      <td>10.66987582</td>\n",
       "      <td>...</td>\n",
       "      <td>2108.475000</td>\n",
       "      <td>69.751667</td>\n",
       "      <td>6529.798333</td>\n",
       "      <td>2240.435000</td>\n",
       "      <td>20145.205830</td>\n",
       "      <td>13114.064170</td>\n",
       "      <td>2922.379167</td>\n",
       "      <td>1269.226667</td>\n",
       "      <td>879.545833</td>\n",
       "      <td>15.713750</td>\n",
       "    </tr>\n",
       "    <tr>\n",
       "      <th>59</th>\n",
       "      <td>2019</td>\n",
       "      <td>61.407500</td>\n",
       "      <td>64.03166667</td>\n",
       "      <td>63.177500</td>\n",
       "      <td>57.01333333</td>\n",
       "      <td>77.88583333</td>\n",
       "      <td>71.94166667</td>\n",
       "      <td>2.547400</td>\n",
       "      <td>4.802351</td>\n",
       "      <td>10.5643019</td>\n",
       "      <td>...</td>\n",
       "      <td>1794.488333</td>\n",
       "      <td>93.849167</td>\n",
       "      <td>6010.145000</td>\n",
       "      <td>1996.507500</td>\n",
       "      <td>18661.156670</td>\n",
       "      <td>13913.908330</td>\n",
       "      <td>2550.410000</td>\n",
       "      <td>1392.498333</td>\n",
       "      <td>863.989167</td>\n",
       "      <td>16.217583</td>\n",
       "    </tr>\n",
       "    <tr>\n",
       "      <th>60</th>\n",
       "      <td>2020</td>\n",
       "      <td>41.257778</td>\n",
       "      <td>42.3</td>\n",
       "      <td>42.165000</td>\n",
       "      <td>39.30833333</td>\n",
       "      <td>60.785</td>\n",
       "      <td>65.65666667</td>\n",
       "      <td>2.018425</td>\n",
       "      <td>3.242024</td>\n",
       "      <td>8.313347571</td>\n",
       "      <td>...</td>\n",
       "      <td>1703.986667</td>\n",
       "      <td>108.918333</td>\n",
       "      <td>6173.770833</td>\n",
       "      <td>1824.880833</td>\n",
       "      <td>17124.599170</td>\n",
       "      <td>13787.256670</td>\n",
       "      <td>2266.449167</td>\n",
       "      <td>1770.254167</td>\n",
       "      <td>883.393333</td>\n",
       "      <td>20.536583</td>\n",
       "    </tr>\n",
       "  </tbody>\n",
       "</table>\n",
       "<p>61 rows × 70 columns</p>\n",
       "</div>"
      ],
      "text/plain": [
       "    YEAR  CRUDE_PETRO  CRUDE_BRENT  CRUDE_DUBAI    CRUDE_WTI     COAL_AUS  \\\n",
       "0   1960     1.630000           ..     1.630000           ..           ..   \n",
       "1   1961     1.570000           ..     1.570000           ..           ..   \n",
       "2   1962     1.520000           ..     1.520000           ..           ..   \n",
       "3   1963     1.500000           ..     1.500000           ..           ..   \n",
       "4   1964     1.450000           ..     1.450000           ..           ..   \n",
       "..   ...          ...          ...          ...          ...          ...   \n",
       "56  2016    42.811944      44.0475    41.200833      43.1875  66.12333333   \n",
       "57  2017    52.805000      54.3925    53.115833  50.90666667  88.51833333   \n",
       "58  2018    68.347500  71.07166667    69.151667  64.81916667     107.0225   \n",
       "59  2019    61.407500  64.03166667    63.177500  57.01333333  77.88583333   \n",
       "60  2020    41.257778         42.3    42.165000  39.30833333       60.785   \n",
       "\n",
       "   COAL_SAFRICA   NGAS_US  NGAS_EUR      NGAS_JP  ...     ALUMINUM  \\\n",
       "0            ..  0.140000  0.404774           ..  ...   511.471832   \n",
       "1            ..  0.150000  0.404774           ..  ...   511.471832   \n",
       "2            ..  0.160000  0.404774           ..  ...   498.060392   \n",
       "3            ..  0.160000  0.391351           ..  ...   498.795265   \n",
       "4            ..  0.150000  0.384150           ..  ...   525.985631   \n",
       "..          ...       ...       ...          ...  ...          ...   \n",
       "56  63.94666667  2.492217  4.563423  7.372443958  ...  1604.181667   \n",
       "57  85.14916667  2.961075  5.717043  8.606124194  ...  1967.654167   \n",
       "58  97.64333333  3.159725  7.681680  10.66987582  ...  2108.475000   \n",
       "59  71.94166667  2.547400  4.802351   10.5643019  ...  1794.488333   \n",
       "60  65.65666667  2.018425  3.242024  8.313347571  ...  1703.986667   \n",
       "\n",
       "      IRON_ORE       COPPER         LEAD           Tin        NICKEL  \\\n",
       "0    11.420000   678.755833   198.850000   2196.733333   1631.000000   \n",
       "1    11.020000   633.084167   176.975000   2449.891667   1711.000000   \n",
       "2    11.010000   645.143333   155.283333   2471.383333   1761.000000   \n",
       "3    11.020000   645.950833   174.808333   2507.733333   1741.666667   \n",
       "4    10.240000   969.753333   277.883333   3412.741667   1741.666667   \n",
       "..         ...          ...          ...           ...           ...   \n",
       "56   58.424167  4867.897500  1866.653333  17933.761670   9595.179167   \n",
       "57   71.760000  6169.940000  2314.665000  20061.169170  10409.635000   \n",
       "58   69.751667  6529.798333  2240.435000  20145.205830  13114.064170   \n",
       "59   93.849167  6010.145000  1996.507500  18661.156670  13913.908330   \n",
       "60  108.918333  6173.770833  1824.880833  17124.599170  13787.256670   \n",
       "\n",
       "           Zinc         GOLD    PLATINUM     SILVER  \n",
       "0    246.191667    35.270000   83.500000   0.913700  \n",
       "1    214.308333    35.250000   83.500000   0.924442  \n",
       "2    185.925000    35.230000   83.500000   1.083725  \n",
       "3    211.508333    35.090000   80.930833   1.279108  \n",
       "4    326.491667    35.100000   88.480833   1.293000  \n",
       "..          ...          ...         ...        ...  \n",
       "56  2089.975000  1248.988333  987.086667  17.146750  \n",
       "57  2890.866667  1257.559167  948.453333  17.066167  \n",
       "58  2922.379167  1269.226667  879.545833  15.713750  \n",
       "59  2550.410000  1392.498333  863.989167  16.217583  \n",
       "60  2266.449167  1770.254167  883.393333  20.536583  \n",
       "\n",
       "[61 rows x 70 columns]"
      ]
     },
     "execution_count": 70,
     "metadata": {},
     "output_type": "execute_result"
    }
   ],
   "source": [
    "df"
   ]
  },
  {
   "cell_type": "code",
   "execution_count": 71,
   "id": "c817603b",
   "metadata": {},
   "outputs": [],
   "source": [
    "T=df[[\"CRUDE_PETRO\",\"CRUDE_DUBAI\",\"NICKEL\",\"GOLD\",\"PLATINUM\",\"SILVER\"]]"
   ]
  },
  {
   "cell_type": "code",
   "execution_count": 72,
   "id": "ad93361e",
   "metadata": {},
   "outputs": [
    {
     "data": {
      "text/html": [
       "<div>\n",
       "<style scoped>\n",
       "    .dataframe tbody tr th:only-of-type {\n",
       "        vertical-align: middle;\n",
       "    }\n",
       "\n",
       "    .dataframe tbody tr th {\n",
       "        vertical-align: top;\n",
       "    }\n",
       "\n",
       "    .dataframe thead th {\n",
       "        text-align: right;\n",
       "    }\n",
       "</style>\n",
       "<table border=\"1\" class=\"dataframe\">\n",
       "  <thead>\n",
       "    <tr style=\"text-align: right;\">\n",
       "      <th></th>\n",
       "      <th>CRUDE_PETRO</th>\n",
       "      <th>CRUDE_DUBAI</th>\n",
       "      <th>NICKEL</th>\n",
       "      <th>GOLD</th>\n",
       "      <th>PLATINUM</th>\n",
       "      <th>SILVER</th>\n",
       "    </tr>\n",
       "  </thead>\n",
       "  <tbody>\n",
       "    <tr>\n",
       "      <th>0</th>\n",
       "      <td>1.630000</td>\n",
       "      <td>1.630000</td>\n",
       "      <td>1631.000000</td>\n",
       "      <td>35.270000</td>\n",
       "      <td>83.500000</td>\n",
       "      <td>0.913700</td>\n",
       "    </tr>\n",
       "    <tr>\n",
       "      <th>1</th>\n",
       "      <td>1.570000</td>\n",
       "      <td>1.570000</td>\n",
       "      <td>1711.000000</td>\n",
       "      <td>35.250000</td>\n",
       "      <td>83.500000</td>\n",
       "      <td>0.924442</td>\n",
       "    </tr>\n",
       "    <tr>\n",
       "      <th>2</th>\n",
       "      <td>1.520000</td>\n",
       "      <td>1.520000</td>\n",
       "      <td>1761.000000</td>\n",
       "      <td>35.230000</td>\n",
       "      <td>83.500000</td>\n",
       "      <td>1.083725</td>\n",
       "    </tr>\n",
       "    <tr>\n",
       "      <th>3</th>\n",
       "      <td>1.500000</td>\n",
       "      <td>1.500000</td>\n",
       "      <td>1741.666667</td>\n",
       "      <td>35.090000</td>\n",
       "      <td>80.930833</td>\n",
       "      <td>1.279108</td>\n",
       "    </tr>\n",
       "    <tr>\n",
       "      <th>4</th>\n",
       "      <td>1.450000</td>\n",
       "      <td>1.450000</td>\n",
       "      <td>1741.666667</td>\n",
       "      <td>35.100000</td>\n",
       "      <td>88.480833</td>\n",
       "      <td>1.293000</td>\n",
       "    </tr>\n",
       "    <tr>\n",
       "      <th>...</th>\n",
       "      <td>...</td>\n",
       "      <td>...</td>\n",
       "      <td>...</td>\n",
       "      <td>...</td>\n",
       "      <td>...</td>\n",
       "      <td>...</td>\n",
       "    </tr>\n",
       "    <tr>\n",
       "      <th>56</th>\n",
       "      <td>42.811944</td>\n",
       "      <td>41.200833</td>\n",
       "      <td>9595.179167</td>\n",
       "      <td>1248.988333</td>\n",
       "      <td>987.086667</td>\n",
       "      <td>17.146750</td>\n",
       "    </tr>\n",
       "    <tr>\n",
       "      <th>57</th>\n",
       "      <td>52.805000</td>\n",
       "      <td>53.115833</td>\n",
       "      <td>10409.635000</td>\n",
       "      <td>1257.559167</td>\n",
       "      <td>948.453333</td>\n",
       "      <td>17.066167</td>\n",
       "    </tr>\n",
       "    <tr>\n",
       "      <th>58</th>\n",
       "      <td>68.347500</td>\n",
       "      <td>69.151667</td>\n",
       "      <td>13114.064170</td>\n",
       "      <td>1269.226667</td>\n",
       "      <td>879.545833</td>\n",
       "      <td>15.713750</td>\n",
       "    </tr>\n",
       "    <tr>\n",
       "      <th>59</th>\n",
       "      <td>61.407500</td>\n",
       "      <td>63.177500</td>\n",
       "      <td>13913.908330</td>\n",
       "      <td>1392.498333</td>\n",
       "      <td>863.989167</td>\n",
       "      <td>16.217583</td>\n",
       "    </tr>\n",
       "    <tr>\n",
       "      <th>60</th>\n",
       "      <td>41.257778</td>\n",
       "      <td>42.165000</td>\n",
       "      <td>13787.256670</td>\n",
       "      <td>1770.254167</td>\n",
       "      <td>883.393333</td>\n",
       "      <td>20.536583</td>\n",
       "    </tr>\n",
       "  </tbody>\n",
       "</table>\n",
       "<p>61 rows × 6 columns</p>\n",
       "</div>"
      ],
      "text/plain": [
       "    CRUDE_PETRO  CRUDE_DUBAI        NICKEL         GOLD    PLATINUM     SILVER\n",
       "0      1.630000     1.630000   1631.000000    35.270000   83.500000   0.913700\n",
       "1      1.570000     1.570000   1711.000000    35.250000   83.500000   0.924442\n",
       "2      1.520000     1.520000   1761.000000    35.230000   83.500000   1.083725\n",
       "3      1.500000     1.500000   1741.666667    35.090000   80.930833   1.279108\n",
       "4      1.450000     1.450000   1741.666667    35.100000   88.480833   1.293000\n",
       "..          ...          ...           ...          ...         ...        ...\n",
       "56    42.811944    41.200833   9595.179167  1248.988333  987.086667  17.146750\n",
       "57    52.805000    53.115833  10409.635000  1257.559167  948.453333  17.066167\n",
       "58    68.347500    69.151667  13114.064170  1269.226667  879.545833  15.713750\n",
       "59    61.407500    63.177500  13913.908330  1392.498333  863.989167  16.217583\n",
       "60    41.257778    42.165000  13787.256670  1770.254167  883.393333  20.536583\n",
       "\n",
       "[61 rows x 6 columns]"
      ]
     },
     "execution_count": 72,
     "metadata": {},
     "output_type": "execute_result"
    }
   ],
   "source": [
    "T"
   ]
  },
  {
   "cell_type": "code",
   "execution_count": 73,
   "id": "beb631e4",
   "metadata": {},
   "outputs": [
    {
     "data": {
      "text/html": [
       "<div>\n",
       "<style scoped>\n",
       "    .dataframe tbody tr th:only-of-type {\n",
       "        vertical-align: middle;\n",
       "    }\n",
       "\n",
       "    .dataframe tbody tr th {\n",
       "        vertical-align: top;\n",
       "    }\n",
       "\n",
       "    .dataframe thead th {\n",
       "        text-align: right;\n",
       "    }\n",
       "</style>\n",
       "<table border=\"1\" class=\"dataframe\">\n",
       "  <thead>\n",
       "    <tr style=\"text-align: right;\">\n",
       "      <th></th>\n",
       "      <th>CRUDE_PETRO</th>\n",
       "      <th>CRUDE_DUBAI</th>\n",
       "      <th>NICKEL</th>\n",
       "      <th>GOLD</th>\n",
       "      <th>PLATINUM</th>\n",
       "      <th>SILVER</th>\n",
       "    </tr>\n",
       "  </thead>\n",
       "  <tbody>\n",
       "    <tr>\n",
       "      <th>CRUDE_PETRO</th>\n",
       "      <td>857.180242</td>\n",
       "      <td>862.843037</td>\n",
       "      <td>1.663388e+05</td>\n",
       "      <td>1.205191e+04</td>\n",
       "      <td>1.285838e+04</td>\n",
       "      <td>198.956475</td>\n",
       "    </tr>\n",
       "    <tr>\n",
       "      <th>CRUDE_DUBAI</th>\n",
       "      <td>862.843037</td>\n",
       "      <td>870.487100</td>\n",
       "      <td>1.648049e+05</td>\n",
       "      <td>1.227128e+04</td>\n",
       "      <td>1.288273e+04</td>\n",
       "      <td>202.762367</td>\n",
       "    </tr>\n",
       "    <tr>\n",
       "      <th>NICKEL</th>\n",
       "      <td>166338.807658</td>\n",
       "      <td>164804.906295</td>\n",
       "      <td>4.768343e+07</td>\n",
       "      <td>2.241127e+06</td>\n",
       "      <td>2.754197e+06</td>\n",
       "      <td>35615.961201</td>\n",
       "    </tr>\n",
       "    <tr>\n",
       "      <th>GOLD</th>\n",
       "      <td>12051.906887</td>\n",
       "      <td>12271.278484</td>\n",
       "      <td>2.241127e+06</td>\n",
       "      <td>2.253702e+05</td>\n",
       "      <td>1.886141e+05</td>\n",
       "      <td>3326.977506</td>\n",
       "    </tr>\n",
       "    <tr>\n",
       "      <th>PLATINUM</th>\n",
       "      <td>12858.382383</td>\n",
       "      <td>12882.732150</td>\n",
       "      <td>2.754197e+06</td>\n",
       "      <td>1.886141e+05</td>\n",
       "      <td>2.081094e+05</td>\n",
       "      <td>3033.754700</td>\n",
       "    </tr>\n",
       "    <tr>\n",
       "      <th>SILVER</th>\n",
       "      <td>198.956475</td>\n",
       "      <td>202.762367</td>\n",
       "      <td>3.561596e+04</td>\n",
       "      <td>3.326978e+03</td>\n",
       "      <td>3.033755e+03</td>\n",
       "      <td>57.318507</td>\n",
       "    </tr>\n",
       "  </tbody>\n",
       "</table>\n",
       "</div>"
      ],
      "text/plain": [
       "               CRUDE_PETRO    CRUDE_DUBAI        NICKEL          GOLD  \\\n",
       "CRUDE_PETRO     857.180242     862.843037  1.663388e+05  1.205191e+04   \n",
       "CRUDE_DUBAI     862.843037     870.487100  1.648049e+05  1.227128e+04   \n",
       "NICKEL       166338.807658  164804.906295  4.768343e+07  2.241127e+06   \n",
       "GOLD          12051.906887   12271.278484  2.241127e+06  2.253702e+05   \n",
       "PLATINUM      12858.382383   12882.732150  2.754197e+06  1.886141e+05   \n",
       "SILVER          198.956475     202.762367  3.561596e+04  3.326978e+03   \n",
       "\n",
       "                 PLATINUM        SILVER  \n",
       "CRUDE_PETRO  1.285838e+04    198.956475  \n",
       "CRUDE_DUBAI  1.288273e+04    202.762367  \n",
       "NICKEL       2.754197e+06  35615.961201  \n",
       "GOLD         1.886141e+05   3326.977506  \n",
       "PLATINUM     2.081094e+05   3033.754700  \n",
       "SILVER       3.033755e+03     57.318507  "
      ]
     },
     "execution_count": 73,
     "metadata": {},
     "output_type": "execute_result"
    }
   ],
   "source": [
    "T.cov()"
   ]
  },
  {
   "cell_type": "markdown",
   "id": "72235847",
   "metadata": {},
   "source": [
    "$ \\Sigma_X = \\frac{1}{N-1}\\bar T^t \\bar T $"
   ]
  },
  {
   "cell_type": "code",
   "execution_count": 74,
   "id": "59a3afc4",
   "metadata": {},
   "outputs": [
    {
     "data": {
      "text/html": [
       "<div>\n",
       "<style scoped>\n",
       "    .dataframe tbody tr th:only-of-type {\n",
       "        vertical-align: middle;\n",
       "    }\n",
       "\n",
       "    .dataframe tbody tr th {\n",
       "        vertical-align: top;\n",
       "    }\n",
       "\n",
       "    .dataframe thead th {\n",
       "        text-align: right;\n",
       "    }\n",
       "</style>\n",
       "<table border=\"1\" class=\"dataframe\">\n",
       "  <thead>\n",
       "    <tr style=\"text-align: right;\">\n",
       "      <th></th>\n",
       "      <th>CRUDE_PETRO</th>\n",
       "      <th>CRUDE_DUBAI</th>\n",
       "      <th>NICKEL</th>\n",
       "      <th>GOLD</th>\n",
       "      <th>PLATINUM</th>\n",
       "      <th>SILVER</th>\n",
       "    </tr>\n",
       "  </thead>\n",
       "  <tbody>\n",
       "    <tr>\n",
       "      <th>CRUDE_PETRO</th>\n",
       "      <td>857.180242</td>\n",
       "      <td>862.843037</td>\n",
       "      <td>1.663388e+05</td>\n",
       "      <td>1.205191e+04</td>\n",
       "      <td>1.285838e+04</td>\n",
       "      <td>198.956475</td>\n",
       "    </tr>\n",
       "    <tr>\n",
       "      <th>CRUDE_DUBAI</th>\n",
       "      <td>862.843037</td>\n",
       "      <td>870.487100</td>\n",
       "      <td>1.648049e+05</td>\n",
       "      <td>1.227128e+04</td>\n",
       "      <td>1.288273e+04</td>\n",
       "      <td>202.762367</td>\n",
       "    </tr>\n",
       "    <tr>\n",
       "      <th>NICKEL</th>\n",
       "      <td>166338.807658</td>\n",
       "      <td>164804.906295</td>\n",
       "      <td>4.768343e+07</td>\n",
       "      <td>2.241127e+06</td>\n",
       "      <td>2.754197e+06</td>\n",
       "      <td>35615.961201</td>\n",
       "    </tr>\n",
       "    <tr>\n",
       "      <th>GOLD</th>\n",
       "      <td>12051.906887</td>\n",
       "      <td>12271.278484</td>\n",
       "      <td>2.241127e+06</td>\n",
       "      <td>2.253702e+05</td>\n",
       "      <td>1.886141e+05</td>\n",
       "      <td>3326.977506</td>\n",
       "    </tr>\n",
       "    <tr>\n",
       "      <th>PLATINUM</th>\n",
       "      <td>12858.382383</td>\n",
       "      <td>12882.732150</td>\n",
       "      <td>2.754197e+06</td>\n",
       "      <td>1.886141e+05</td>\n",
       "      <td>2.081094e+05</td>\n",
       "      <td>3033.754700</td>\n",
       "    </tr>\n",
       "    <tr>\n",
       "      <th>SILVER</th>\n",
       "      <td>198.956475</td>\n",
       "      <td>202.762367</td>\n",
       "      <td>3.561596e+04</td>\n",
       "      <td>3.326978e+03</td>\n",
       "      <td>3.033755e+03</td>\n",
       "      <td>57.318507</td>\n",
       "    </tr>\n",
       "  </tbody>\n",
       "</table>\n",
       "</div>"
      ],
      "text/plain": [
       "               CRUDE_PETRO    CRUDE_DUBAI        NICKEL          GOLD  \\\n",
       "CRUDE_PETRO     857.180242     862.843037  1.663388e+05  1.205191e+04   \n",
       "CRUDE_DUBAI     862.843037     870.487100  1.648049e+05  1.227128e+04   \n",
       "NICKEL       166338.807658  164804.906295  4.768343e+07  2.241127e+06   \n",
       "GOLD          12051.906887   12271.278484  2.241127e+06  2.253702e+05   \n",
       "PLATINUM      12858.382383   12882.732150  2.754197e+06  1.886141e+05   \n",
       "SILVER          198.956475     202.762367  3.561596e+04  3.326978e+03   \n",
       "\n",
       "                 PLATINUM        SILVER  \n",
       "CRUDE_PETRO  1.285838e+04    198.956475  \n",
       "CRUDE_DUBAI  1.288273e+04    202.762367  \n",
       "NICKEL       2.754197e+06  35615.961201  \n",
       "GOLD         1.886141e+05   3326.977506  \n",
       "PLATINUM     2.081094e+05   3033.754700  \n",
       "SILVER       3.033755e+03     57.318507  "
      ]
     },
     "execution_count": 74,
     "metadata": {},
     "output_type": "execute_result"
    }
   ],
   "source": [
    "T_bar=T-T.mean() # Datos centrados en la media\n",
    "(T_bar.T@T_bar)*(1/(len(T_bar)-1))"
   ]
  },
  {
   "cell_type": "markdown",
   "id": "ae0c4015",
   "metadata": {},
   "source": [
    "### Sistemas de ecuaciones lineales ###\n",
    "Una ecuación lineal es una igualdad que tiene la forma:  \n",
    "$\\sum{a_i x_i}=y$  \n",
    "Un sistema de ecuaciones lineales es un set de ecuaciones lineales que comparten las mismas variables. Por ejemplo:  \n",
    "$a_1x_1 + a_2x_2 = y_1$  \n",
    "$a_3x_1 + a_4x_2 = y_2$  \n",
    "\n",
    "La forma matricial de un sistema de ecuaciones lineales se expresa como $Ax=y$  \n",
    "$\\begin{bmatrix}\n",
    "a_{1,1} & a_{1,2} & \\dots & a_{1,n}\\\\\n",
    "a_{2,1} & a_{2,2} & \\dots & a_{2,n}\\\\\n",
    "\\vdots & \\vdots & \\ddots & \\vdots\\\\\n",
    "a_{m,1} & a_{m,2} & \\dots & a_{m,n}\n",
    "\\end{bmatrix}\n",
    "\\begin{bmatrix}\n",
    "x_{1}\\\\\n",
    "x_{2}\\\\\n",
    "\\vdots\\\\\n",
    "x_{m}\n",
    "\\end{bmatrix} \n",
    "=\n",
    "\\begin{bmatrix}\n",
    "y_{1}\\\\\n",
    "y_{2}\\\\\n",
    "\\vdots\\\\\n",
    "y_{m}\n",
    "\\end{bmatrix} $  \n",
    "\n",
    "Soluciones a sistemas de ecuaciones lineales:  \n",
    "- Caso 1: No hay solución -> rango([A,y]) = rango(A)+1\n",
    "- Caso 2: Existe una única solución -> rango([A,y]) = rango(A)\n",
    "- Caso 3: Existen infinitas soluciones -> rango([A,y]) = rango(A) & rango(A) < n   \n",
    "\n",
    "Si tenemos un sistema como el anterior $Ax=y$ donde $A$ es una matriz de $m \\times n$ significa que tenemos un sistema con $m$ ecuaciones y $n$ incógnitas."
   ]
  },
  {
   "cell_type": "markdown",
   "id": "3d712fc6",
   "metadata": {},
   "source": [
    "**Ejemplo**: Escribe en forma matricial el siguiente sistema de ecuaciones:  \n",
    "\\begin{align*}\n",
    "4x+3y-5z&=2\\\\\n",
    "-2x-4y+5z&=5\\\\\n",
    "7x+8y&=-3\\\\\n",
    "x+2z&=1\\\\\n",
    "9+y-6z&=6\n",
    "\\end{align*}"
   ]
  },
  {
   "cell_type": "code",
   "execution_count": 75,
   "id": "f4fd4c6e",
   "metadata": {},
   "outputs": [],
   "source": [
    "A=np.array([\n",
    "    [4,3,-5],\n",
    "    [-2,-4,5],\n",
    "    [7,8,0],\n",
    "    [1,0,2],\n",
    "    [0,1,-6]\n",
    "    \n",
    "    \n",
    "    \n",
    "])\n",
    "\n",
    "incognitas=[\"x\",\"y\",\"z\"]\n",
    "\n",
    "res=np.array([2,5,-3,1,-3])\n"
   ]
  },
  {
   "cell_type": "code",
   "execution_count": 76,
   "id": "a11dcac9",
   "metadata": {},
   "outputs": [
    {
     "data": {
      "text/plain": [
       "array([[ 4,  3, -5],\n",
       "       [-2, -4,  5],\n",
       "       [ 7,  8,  0],\n",
       "       [ 1,  0,  2],\n",
       "       [ 0,  1, -6]])"
      ]
     },
     "execution_count": 76,
     "metadata": {},
     "output_type": "execute_result"
    }
   ],
   "source": [
    "A"
   ]
  },
  {
   "cell_type": "code",
   "execution_count": 77,
   "id": "7741560a",
   "metadata": {},
   "outputs": [
    {
     "data": {
      "text/plain": [
       "array([ 2,  5, -3,  1, -3])"
      ]
     },
     "execution_count": 77,
     "metadata": {},
     "output_type": "execute_result"
    }
   ],
   "source": [
    "res"
   ]
  },
  {
   "cell_type": "code",
   "execution_count": 78,
   "id": "0a60031b",
   "metadata": {
    "scrolled": true
   },
   "outputs": [
    {
     "data": {
      "text/plain": [
       "array([[ 4,  3, -5,  2],\n",
       "       [-2, -4,  5,  5],\n",
       "       [ 7,  8,  0, -3],\n",
       "       [ 1,  0,  2,  1],\n",
       "       [ 0,  1, -6, -3]])"
      ]
     },
     "execution_count": 78,
     "metadata": {},
     "output_type": "execute_result"
    }
   ],
   "source": [
    "#matriz aumentada\n",
    "#Necesitamos pasar el vector res como un vector columna\n",
    "#aplicamos el reshape para generar el vector de dimensión 5x1\n",
    "A_aumentada=np.hstack((A,res.reshape((5,1))))\n",
    "A_aumentada"
   ]
  },
  {
   "cell_type": "markdown",
   "id": "5175f5cf",
   "metadata": {},
   "source": [
    "Soluciones a sistemas de ecuaciones lineales:  \n",
    "- Caso 1: No hay solución -> rango([A,y]) = rango(A)+1"
   ]
  },
  {
   "cell_type": "code",
   "execution_count": 79,
   "id": "e6055188",
   "metadata": {
    "scrolled": true
   },
   "outputs": [
    {
     "name": "stdout",
     "output_type": "stream",
     "text": [
      "4\n",
      "4\n"
     ]
    }
   ],
   "source": [
    "print(np.linalg.matrix_rank(A) + 1)\n",
    "print(np.linalg.matrix_rank(A_aumentada))\n",
    "\n",
    "#no habría solución"
   ]
  },
  {
   "attachments": {
    "image.png": {
     "image/png": "[encoded data removed]"
    }
   },
   "cell_type": "markdown",
   "id": "a06ead9c",
   "metadata": {},
   "source": [
    "**¿Cómo se resuelven?**\n",
    "- Método de eliminación gaussiana\n",
    "![image.png](attachment:image.png)"
   ]
  },
  {
   "cell_type": "markdown",
   "id": "478335a1",
   "metadata": {},
   "source": [
    "$a'_{4,4}\\cdot x_4 = y'_4$  \n",
    "$a'_{3,3}\\cdot x_3 + a'_{3,4}\\cdot x_4 = y'_3$  \n",
    "Seguir sustiyendo hacia atrás.."
   ]
  },
  {
   "attachments": {
    "image-2.png": {
     "image/png": "[encoded data removed]"
    }
   },
   "cell_type": "markdown",
   "id": "1fa1f9c1",
   "metadata": {},
   "source": [
    "- Método de eliminación de Gauss-Jordan\n",
    "![image-2.png](attachment:image-2.png)"
   ]
  },
  {
   "cell_type": "markdown",
   "id": "a0b5228e",
   "metadata": {},
   "source": [
    "$x_1 = y'_1$  \n",
    "$x_2 = y'_2$  \n",
    "$x_3 = y'_3$  \n",
    "$x_4= y'_4$  \n"
   ]
  },
  {
   "cell_type": "code",
   "execution_count": 80,
   "id": "d783dcdf",
   "metadata": {},
   "outputs": [],
   "source": [
    "A=np.array([\n",
    "    [4,3,-5],\n",
    "    [-2,-4,5],\n",
    "    [7,8,0]\n",
    "])\n",
    "\n",
    "incognitas=[\"x\",\"y\",\"z\"]\n",
    "\n",
    "res=np.array([2,5,-3])\n",
    "\n",
    "# A@incognitas==res"
   ]
  },
  {
   "cell_type": "markdown",
   "id": "501501bb",
   "metadata": {},
   "source": [
    "\n",
    "Soluciones a sistemas de ecuaciones lineales:  \n",
    "- Caso 1: No hay solución -> rango([A,y]) = rango(A)+1\n",
    "- Caso 2: Existe una única solución -> rango([A,y]) = rango(A)\n",
    "- Caso 3: Existen infinitas soluciones -> rango([A,y]) = rango(A) & rango(A) < n   "
   ]
  },
  {
   "cell_type": "code",
   "execution_count": 81,
   "id": "e17bb680",
   "metadata": {},
   "outputs": [
    {
     "data": {
      "text/plain": [
       "array([[ 4,  3, -5,  2],\n",
       "       [-2, -4,  5,  5],\n",
       "       [ 7,  8,  0, -3]])"
      ]
     },
     "execution_count": 81,
     "metadata": {},
     "output_type": "execute_result"
    }
   ],
   "source": [
    "A_aumentada=np.hstack((A,res.reshape((3,1))))\n",
    "A_aumentada"
   ]
  },
  {
   "cell_type": "code",
   "execution_count": 82,
   "id": "e1a68eb5",
   "metadata": {},
   "outputs": [
    {
     "name": "stdout",
     "output_type": "stream",
     "text": [
      "3\n",
      "3\n"
     ]
    }
   ],
   "source": [
    "print(np.linalg.matrix_rank(A))\n",
    "print(np.linalg.matrix_rank(A_aumentada))\n"
   ]
  },
  {
   "cell_type": "code",
   "execution_count": 83,
   "id": "5cee1100",
   "metadata": {},
   "outputs": [
    {
     "data": {
      "text/plain": [
       "array([ 2.30434783, -2.39130435,  0.00869565])"
      ]
     },
     "execution_count": 83,
     "metadata": {},
     "output_type": "execute_result"
    }
   ],
   "source": [
    "np.linalg.solve(A,res)"
   ]
  },
  {
   "cell_type": "code",
   "execution_count": null,
   "id": "cd16d61a",
   "metadata": {},
   "outputs": [],
   "source": [
    "A@np.linalg.solve(A,res)"
   ]
  },
  {
   "cell_type": "markdown",
   "id": "702ec5e5",
   "metadata": {},
   "source": [
    "## Construcción de curva de tasas de interés ##"
   ]
  },
  {
   "cell_type": "markdown",
   "id": "8cd7649d",
   "metadata": {},
   "source": [
    "**Bootstrapping**: Método para extraer tasas cupón cero a partir de instrumentos cuponados"
   ]
  },
  {
   "cell_type": "code",
   "execution_count": 84,
   "id": "63769d9c",
   "metadata": {},
   "outputs": [
    {
     "data": {
      "text/html": [
       "<div>\n",
       "<style scoped>\n",
       "    .dataframe tbody tr th:only-of-type {\n",
       "        vertical-align: middle;\n",
       "    }\n",
       "\n",
       "    .dataframe tbody tr th {\n",
       "        vertical-align: top;\n",
       "    }\n",
       "\n",
       "    .dataframe thead th {\n",
       "        text-align: right;\n",
       "    }\n",
       "</style>\n",
       "<table border=\"1\" class=\"dataframe\">\n",
       "  <thead>\n",
       "    <tr style=\"text-align: right;\">\n",
       "      <th></th>\n",
       "      <th>Bono</th>\n",
       "      <th>Precio</th>\n",
       "      <th>Valor Nominal</th>\n",
       "      <th>Tasa Cupon</th>\n",
       "      <th>Años a Vencimiento</th>\n",
       "    </tr>\n",
       "  </thead>\n",
       "  <tbody>\n",
       "    <tr>\n",
       "      <th>0</th>\n",
       "      <td>A</td>\n",
       "      <td>947.38</td>\n",
       "      <td>1000</td>\n",
       "      <td>5%</td>\n",
       "      <td>1</td>\n",
       "    </tr>\n",
       "    <tr>\n",
       "      <th>1</th>\n",
       "      <td>B</td>\n",
       "      <td>904.44</td>\n",
       "      <td>1000</td>\n",
       "      <td>6%</td>\n",
       "      <td>2</td>\n",
       "    </tr>\n",
       "    <tr>\n",
       "      <th>2</th>\n",
       "      <td>C</td>\n",
       "      <td>981.00</td>\n",
       "      <td>1000</td>\n",
       "      <td>9%</td>\n",
       "      <td>3</td>\n",
       "    </tr>\n",
       "    <tr>\n",
       "      <th>3</th>\n",
       "      <td>D</td>\n",
       "      <td>976.99</td>\n",
       "      <td>1000</td>\n",
       "      <td>8%</td>\n",
       "      <td>4</td>\n",
       "    </tr>\n",
       "  </tbody>\n",
       "</table>\n",
       "</div>"
      ],
      "text/plain": [
       "  Bono  Precio  Valor Nominal Tasa Cupon  Años a Vencimiento\n",
       "0    A  947.38           1000         5%                   1\n",
       "1    B  904.44           1000         6%                   2\n",
       "2    C  981.00           1000         9%                   3\n",
       "3    D  976.99           1000         8%                   4"
      ]
     },
     "execution_count": 84,
     "metadata": {},
     "output_type": "execute_result"
    }
   ],
   "source": [
    "bonos=pd.DataFrame({\n",
    "    \"Bono\":[\"A\",\"B\",\"C\",\"D\"],\n",
    "    \"Precio\": [947.38,904.44,981.00,976.99],\n",
    "    \"Valor Nominal\":[1000,1000,1000,1000],\n",
    "    \"Tasa Cupon\":[\"5%\",\"6%\",\"9%\",\"8%\"],\n",
    "    \"Años a Vencimiento\":[1,2,3,4]\n",
    "})\n",
    "\n",
    "bonos"
   ]
  },
  {
   "cell_type": "markdown",
   "id": "edd5847c",
   "metadata": {},
   "source": [
    "Un **bono** es un préstamo a la entidad emisora de deuda.  En un bono tradicional (bono bullet), el emisor de deuda paga al comprador del bono flujos periódicos de interés (llamados **cupones**), durante la vigencia de la deuda; adicionalmente al vencimiento se reintegra el monto prestado. \n",
    "\n",
    "En la emisión de un bono, deben especificarse los siguientes puntos: \n",
    "- Plazo de la deuda, term to maturity. \n",
    "- Tipo de cupón: fijo o flotante. \n",
    "- Tasa de referencia en caso de pagar cupón flotante (Cetes, TIIE, etc.) \n",
    "- 𝑐: Tasa cupón si se trata de cupón fijo, o sobretasa de cupón si se trata de cupón flotante. \n",
    "- 𝑚: Numero de cupones pagados en el año. Fracción de año = (1/𝑚) \n",
    "- 𝑁: Valor Nominal, regularmente igual a 100. \n",
    "- Amortización: A vencimiento (bullet) o bajo algún esquema de decremento o aumento del principal. "
   ]
  },
  {
   "attachments": {
    "image.png": {
     "image/png": "[encoded data removed]"
    }
   },
   "cell_type": "markdown",
   "id": "2679a9c3",
   "metadata": {},
   "source": [
    "![image.png](attachment:image.png)"
   ]
  },
  {
   "cell_type": "markdown",
   "id": "d60c157e",
   "metadata": {},
   "source": [
    "**Precio CETES:**  \n",
    "$$ PV = \\large \\frac {VN}{1+r*n/360} $$\n",
    "\n",
    "**Precio MBONO:**  \n",
    "\n",
    "$$P = \\sum_{t=1}^{n} \\frac{C}{(1+r)^t} + \\frac{F}{(1+r)^n}$$\n",
    "\n",
    "\n"
   ]
  },
  {
   "cell_type": "markdown",
   "id": "513b25a6",
   "metadata": {},
   "source": [
    "## Construcción de Curva Yield ##\n",
    "**Bootstrapping**: Método para extraer tasas cupón cero a partir de instrumentos cuponados"
   ]
  },
  {
   "cell_type": "markdown",
   "id": "989c8a24",
   "metadata": {},
   "source": [
    "Supongamos que los bonos tienen pagos anuales y las tasas son anuales.\n",
    "$$947.38 = 1050\\cdot df_1$$  \n",
    "$$904.44 = 60\\cdot df_1 + 1060 \\cdot df_2$$  \n",
    "$$981.00 = 90\\cdot df_1 + 90 \\cdot df_2 + 1090 \\cdot df_3$$  "
   ]
  },
  {
   "cell_type": "code",
   "execution_count": 85,
   "id": "09964113",
   "metadata": {},
   "outputs": [
    {
     "data": {
      "text/html": [
       "<div>\n",
       "<style scoped>\n",
       "    .dataframe tbody tr th:only-of-type {\n",
       "        vertical-align: middle;\n",
       "    }\n",
       "\n",
       "    .dataframe tbody tr th {\n",
       "        vertical-align: top;\n",
       "    }\n",
       "\n",
       "    .dataframe thead th {\n",
       "        text-align: right;\n",
       "    }\n",
       "</style>\n",
       "<table border=\"1\" class=\"dataframe\">\n",
       "  <thead>\n",
       "    <tr style=\"text-align: right;\">\n",
       "      <th></th>\n",
       "      <th>Bono</th>\n",
       "      <th>Precio</th>\n",
       "      <th>Valor Nominal</th>\n",
       "      <th>Tasa Cupon</th>\n",
       "      <th>Años a Vencimiento</th>\n",
       "    </tr>\n",
       "  </thead>\n",
       "  <tbody>\n",
       "    <tr>\n",
       "      <th>0</th>\n",
       "      <td>A</td>\n",
       "      <td>947.38</td>\n",
       "      <td>1000</td>\n",
       "      <td>5%</td>\n",
       "      <td>1</td>\n",
       "    </tr>\n",
       "    <tr>\n",
       "      <th>1</th>\n",
       "      <td>B</td>\n",
       "      <td>904.44</td>\n",
       "      <td>1000</td>\n",
       "      <td>6%</td>\n",
       "      <td>2</td>\n",
       "    </tr>\n",
       "    <tr>\n",
       "      <th>2</th>\n",
       "      <td>C</td>\n",
       "      <td>981.00</td>\n",
       "      <td>1000</td>\n",
       "      <td>9%</td>\n",
       "      <td>3</td>\n",
       "    </tr>\n",
       "    <tr>\n",
       "      <th>3</th>\n",
       "      <td>D</td>\n",
       "      <td>976.99</td>\n",
       "      <td>1000</td>\n",
       "      <td>8%</td>\n",
       "      <td>4</td>\n",
       "    </tr>\n",
       "  </tbody>\n",
       "</table>\n",
       "</div>"
      ],
      "text/plain": [
       "  Bono  Precio  Valor Nominal Tasa Cupon  Años a Vencimiento\n",
       "0    A  947.38           1000         5%                   1\n",
       "1    B  904.44           1000         6%                   2\n",
       "2    C  981.00           1000         9%                   3\n",
       "3    D  976.99           1000         8%                   4"
      ]
     },
     "execution_count": 85,
     "metadata": {},
     "output_type": "execute_result"
    }
   ],
   "source": [
    "bonos"
   ]
  },
  {
   "cell_type": "code",
   "execution_count": 86,
   "id": "d2f7397b",
   "metadata": {},
   "outputs": [
    {
     "name": "stdout",
     "output_type": "stream",
     "text": [
      "[[1050    0    0    0]\n",
      " [  60 1060    0    0]\n",
      " [  90   90 1090    0]\n",
      " [  80   80   80 1080]]\n",
      "\n",
      "[0.90226667 0.80217358 0.7592664  0.72212358]\n",
      "\n",
      "[0.09773333 0.19782642 0.2407336  0.27787642]\n"
     ]
    }
   ],
   "source": [
    "A=np.array([\n",
    "    [1050,0,0,0],\n",
    "    [60,1060,0,0],\n",
    "    [90,90,1090,0],\n",
    "    [80,80,80,1080]\n",
    "])\n",
    "precio=np.array([947.38,904.44,981.00,976.99])\n",
    "print(A)\n",
    "Descuento=np.linalg.solve(A,precio)\n",
    "print()\n",
    "print(Descuento)\n",
    "print()\n",
    "Tasa=1-Descuento\n",
    "print(Tasa)"
   ]
  },
  {
   "cell_type": "code",
   "execution_count": null,
   "id": "9e4bf785",
   "metadata": {},
   "outputs": [],
   "source": []
  }
 ],
 "metadata": {
  "kernelspec": {
   "display_name": "Python 3 (ipykernel)",
   "language": "python",
   "name": "python3"
  },
  "language_info": {
   "codemirror_mode": {
    "name": "ipython",
    "version": 3
   },
   "file_extension": ".py",
   "mimetype": "text/x-python",
   "name": "python",
   "nbconvert_exporter": "python",
   "pygments_lexer": "ipython3",
   "version": "3.11.3"
  }
 },
 "nbformat": 4,
 "nbformat_minor": 5
}
