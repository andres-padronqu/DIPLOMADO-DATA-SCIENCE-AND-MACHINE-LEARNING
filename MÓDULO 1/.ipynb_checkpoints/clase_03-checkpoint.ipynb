{
 "cells": [
  {
   "attachments": {
    "logo_ITAM.png": {
     "image/png": "[encoded data removed]"
    }
   },
   "cell_type": "markdown",
   "id": "c32badee",
   "metadata": {},
   "source": [
    "![logo_ITAM.png](attachment:logo_ITAM.png)"
   ]
  },
  {
   "cell_type": "markdown",
   "id": "fff21647",
   "metadata": {},
   "source": [
    "Tipos de datos (build in) compilados en python:\n",
    "\n",
    "(Tipos de clases dentro de la librería estándar de python:)\n",
    "\n",
    "Objetos no mutables:\n",
    "* bool\n",
    "* int\n",
    "* float\n",
    "* string\n",
    "* tuplas\n",
    "\n",
    "$$$$\n",
    "Objetos mutables (tienen el método copy y permiten modificaciones):\n",
    "* diccionarios\n",
    "* listas\n",
    "* conjunto"
   ]
  },
  {
   "cell_type": "code",
   "execution_count": null,
   "id": "18c404a7",
   "metadata": {},
   "outputs": [],
   "source": [
    "set.copy"
   ]
  },
  {
   "cell_type": "code",
   "execution_count": null,
   "id": "f2218a65",
   "metadata": {},
   "outputs": [],
   "source": [
    "list.copy"
   ]
  },
  {
   "cell_type": "code",
   "execution_count": null,
   "id": "472ac575",
   "metadata": {},
   "outputs": [],
   "source": [
    "dict.copy"
   ]
  },
  {
   "cell_type": "code",
   "execution_count": 9,
   "id": "0786c4a2",
   "metadata": {},
   "outputs": [
    {
     "data": {
      "text/plain": [
       "{1: 1, 2: 2, 3: 3, 4: 4}"
      ]
     },
     "execution_count": 9,
     "metadata": {},
     "output_type": "execute_result"
    }
   ],
   "source": [
    "a = {1:1, 2:2, 3:3, 4:4}\n",
    "\n",
    "b = a.copy()  # si no hacemos la copia, modificamos el original\n",
    "\n",
    "b[\"nueva\"] = 2   # estamos agregando una nueva key al diccionario\n",
    "\n",
    "a"
   ]
  },
  {
   "cell_type": "code",
   "execution_count": 10,
   "id": "abc3ea50",
   "metadata": {},
   "outputs": [
    {
     "data": {
      "text/plain": [
       "False"
      ]
     },
     "execution_count": 10,
     "metadata": {},
     "output_type": "execute_result"
    }
   ],
   "source": [
    "id(a) == id(b)"
   ]
  },
  {
   "cell_type": "code",
   "execution_count": null,
   "id": "ed539e5e",
   "metadata": {},
   "outputs": [],
   "source": [
    "b"
   ]
  },
  {
   "cell_type": "code",
   "execution_count": null,
   "id": "acb8552b",
   "metadata": {},
   "outputs": [],
   "source": [
    "x = 10\n",
    "y = 5\n",
    "\n",
    "id_x = id(x)\n",
    "\n",
    "x += y  # x = x + y   aquí en realidad es como si estuviera creando de cero a la variable x\n",
    "\n",
    "id_x == id(x)\n"
   ]
  },
  {
   "cell_type": "code",
   "execution_count": null,
   "id": "3a2b20b6",
   "metadata": {},
   "outputs": [],
   "source": [
    "x"
   ]
  },
  {
   "cell_type": "code",
   "execution_count": null,
   "id": "2f44e381",
   "metadata": {},
   "outputs": [],
   "source": [
    "x = [10]\n",
    "y = [5]\n",
    "\n",
    "id_x = id(x)\n",
    "\n",
    "x += y  # x = x + y   aquí en realidad es como si estuviera creando de cero a la variable x\n",
    "\n",
    "id_x == id(x)"
   ]
  },
  {
   "cell_type": "code",
   "execution_count": null,
   "id": "ee867176",
   "metadata": {},
   "outputs": [],
   "source": [
    "x"
   ]
  },
  {
   "cell_type": "markdown",
   "id": "bbda6c10",
   "metadata": {},
   "source": [
    "## Clase 3 - Instrucciones de control y ciclos\n",
    "\n",
    "Estaremos trabajando con las instrucciones de control `if-else`, ciclos `for`, `while`."
   ]
  },
  {
   "cell_type": "markdown",
   "id": "43b3a13d",
   "metadata": {},
   "source": [
    "### Recordatorio sobre booleanos"
   ]
  },
  {
   "cell_type": "markdown",
   "id": "5b287e1f",
   "metadata": {},
   "source": [
    "Los **boleanos** son objetos en Python que pueden tomar estos valores"
   ]
  },
  {
   "cell_type": "code",
   "execution_count": 1,
   "id": "62bc934e",
   "metadata": {},
   "outputs": [
    {
     "name": "stdout",
     "output_type": "stream",
     "text": [
      "True\n",
      "False\n"
     ]
    }
   ],
   "source": [
    "print(True)\n",
    "print(False)"
   ]
  },
  {
   "cell_type": "markdown",
   "id": "1d73777c",
   "metadata": {},
   "source": [
    "Al igual que con `int`y `flot`, los objetos booleanso contienen sus propios operadores: \n",
    "\n",
    "* `==`: Equivalencia\n",
    "* `!=`: Diferencia\n",
    "* `not`: Negación \n",
    "* `and`: y (se deben cumplir las dos) \n",
    "* `or`: o (cualquiera de las dos)"
   ]
  },
  {
   "cell_type": "markdown",
   "id": "6dbf7384",
   "metadata": {},
   "source": [
    "**Equivalencia**: Verdadero si y sólo sí `a` es igual a `b`\n",
    "\n",
    "\n",
    "| `==`  | True  | False |\n",
    "|-------|-------|-------|\n",
    "| True  | True  | False |\n",
    "| False | False | True  |"
   ]
  },
  {
   "cell_type": "markdown",
   "id": "f9dd3f3e",
   "metadata": {},
   "source": [
    "**Diferencia**: Verdadero si y sólo sí `a` no es igual a `b`\n",
    "(Se pregunta si son diferentes)\n",
    "\n",
    "| `!=`  | True  | False |\n",
    "|-------|-------|-------|\n",
    "| True  | False  | True |\n",
    "| False | True | False  |"
   ]
  },
  {
   "cell_type": "markdown",
   "id": "643a388c",
   "metadata": {},
   "source": [
    "**Condición \"y\":** Verdadero si y sólo sí `a` es verdadero y `b` es verdadero (verdadero si se cumplen las dos)\n",
    "\n",
    "| `and`  | True  | False |\n",
    "|-------|-------|-------|\n",
    "| True  | True  | False |\n",
    "| False | False | False  |"
   ]
  },
  {
   "cell_type": "markdown",
   "id": "215ca297",
   "metadata": {},
   "source": [
    "**Condición \"o\":** Verdadero si `a` es verdadero o `b` es verdadero\n",
    "\n",
    "| `or`  | True  | False |\n",
    "|-------|-------|-------|\n",
    "| True  | True  | True |\n",
    "| False | True | False  |"
   ]
  },
  {
   "cell_type": "markdown",
   "id": "16b9a670",
   "metadata": {},
   "source": [
    "**Negación:** \n",
    "\n",
    "| `not` |       | \n",
    "|-------|-------|\n",
    "| True  | False  |\n",
    "| False | True  |"
   ]
  },
  {
   "cell_type": "markdown",
   "id": "00cec43a",
   "metadata": {},
   "source": [
    "## Métodos de la clase `str` cuyos resultados son `type(bool)`"
   ]
  },
  {
   "cell_type": "code",
   "execution_count": 2,
   "id": "f7b46611",
   "metadata": {},
   "outputs": [],
   "source": [
    "my_str = \"Esto es un string de prueba\""
   ]
  },
  {
   "cell_type": "code",
   "execution_count": 3,
   "id": "c663ef7e",
   "metadata": {},
   "outputs": [
    {
     "data": {
      "text/plain": [
       "True"
      ]
     },
     "execution_count": 3,
     "metadata": {},
     "output_type": "execute_result"
    }
   ],
   "source": [
    "my_str.endswith(\"prueba\")"
   ]
  },
  {
   "cell_type": "code",
   "execution_count": 4,
   "id": "b33c43d5",
   "metadata": {},
   "outputs": [
    {
     "data": {
      "text/plain": [
       "False"
      ]
     },
     "execution_count": 4,
     "metadata": {},
     "output_type": "execute_result"
    }
   ],
   "source": [
    "my_str.endswith(\"z\")"
   ]
  },
  {
   "cell_type": "code",
   "execution_count": 5,
   "id": "d498dd53",
   "metadata": {},
   "outputs": [
    {
     "data": {
      "text/plain": [
       "False"
      ]
     },
     "execution_count": 5,
     "metadata": {},
     "output_type": "execute_result"
    }
   ],
   "source": [
    "my_str.istitle()"
   ]
  },
  {
   "cell_type": "code",
   "execution_count": 6,
   "id": "52818444",
   "metadata": {},
   "outputs": [
    {
     "data": {
      "text/plain": [
       "True"
      ]
     },
     "execution_count": 6,
     "metadata": {},
     "output_type": "execute_result"
    }
   ],
   "source": [
    "my_str.istitle() == 0   # False == 0 --> int(False) == 0 --> 0 == 0 --> True"
   ]
  },
  {
   "cell_type": "code",
   "execution_count": 7,
   "id": "80cc7e72",
   "metadata": {},
   "outputs": [],
   "source": [
    "my_str = \"Esto Es Un String De Prueba\""
   ]
  },
  {
   "cell_type": "code",
   "execution_count": 8,
   "id": "319696fe",
   "metadata": {},
   "outputs": [
    {
     "data": {
      "text/plain": [
       "True"
      ]
     },
     "execution_count": 8,
     "metadata": {},
     "output_type": "execute_result"
    }
   ],
   "source": [
    "my_str.istitle()"
   ]
  },
  {
   "cell_type": "markdown",
   "id": "d1001371",
   "metadata": {},
   "source": [
    "## Uso del keyword `in`"
   ]
  },
  {
   "cell_type": "markdown",
   "id": "834ec548",
   "metadata": {},
   "source": [
    "En algunas ocasiones nos interesa conocer si un objeto cuenta con alguna propiedad. Al correr estos progrmas esperaríamos un resultado positivo o negativo, dependiendo de si la pripiedad la cumple. \n",
    "\n",
    "Dada una colección de valores, usamos el keyword `in` para determinar si un valor específico se encuentra dentro de una colección dada (string, lista, tupla, rango, diccionario)."
   ]
  },
  {
   "cell_type": "code",
   "execution_count": 9,
   "id": "9e406d1d",
   "metadata": {},
   "outputs": [],
   "source": [
    "my_str = \"Esto Es Un String De Prueba\""
   ]
  },
  {
   "cell_type": "code",
   "execution_count": 10,
   "id": "7cd7e7ee",
   "metadata": {},
   "outputs": [
    {
     "data": {
      "text/plain": [
       "['__add__',\n",
       " '__class__',\n",
       " '__contains__',\n",
       " '__delattr__',\n",
       " '__dir__',\n",
       " '__doc__',\n",
       " '__eq__',\n",
       " '__format__',\n",
       " '__ge__',\n",
       " '__getattribute__',\n",
       " '__getitem__',\n",
       " '__getnewargs__',\n",
       " '__getstate__',\n",
       " '__gt__',\n",
       " '__hash__',\n",
       " '__init__',\n",
       " '__init_subclass__',\n",
       " '__iter__',\n",
       " '__le__',\n",
       " '__len__',\n",
       " '__lt__',\n",
       " '__mod__',\n",
       " '__mul__',\n",
       " '__ne__',\n",
       " '__new__',\n",
       " '__reduce__',\n",
       " '__reduce_ex__',\n",
       " '__repr__',\n",
       " '__rmod__',\n",
       " '__rmul__',\n",
       " '__setattr__',\n",
       " '__sizeof__',\n",
       " '__str__',\n",
       " '__subclasshook__',\n",
       " 'capitalize',\n",
       " 'casefold',\n",
       " 'center',\n",
       " 'count',\n",
       " 'encode',\n",
       " 'endswith',\n",
       " 'expandtabs',\n",
       " 'find',\n",
       " 'format',\n",
       " 'format_map',\n",
       " 'index',\n",
       " 'isalnum',\n",
       " 'isalpha',\n",
       " 'isascii',\n",
       " 'isdecimal',\n",
       " 'isdigit',\n",
       " 'isidentifier',\n",
       " 'islower',\n",
       " 'isnumeric',\n",
       " 'isprintable',\n",
       " 'isspace',\n",
       " 'istitle',\n",
       " 'isupper',\n",
       " 'join',\n",
       " 'ljust',\n",
       " 'lower',\n",
       " 'lstrip',\n",
       " 'maketrans',\n",
       " 'partition',\n",
       " 'removeprefix',\n",
       " 'removesuffix',\n",
       " 'replace',\n",
       " 'rfind',\n",
       " 'rindex',\n",
       " 'rjust',\n",
       " 'rpartition',\n",
       " 'rsplit',\n",
       " 'rstrip',\n",
       " 'split',\n",
       " 'splitlines',\n",
       " 'startswith',\n",
       " 'strip',\n",
       " 'swapcase',\n",
       " 'title',\n",
       " 'translate',\n",
       " 'upper',\n",
       " 'zfill']"
      ]
     },
     "execution_count": 10,
     "metadata": {},
     "output_type": "execute_result"
    }
   ],
   "source": [
    "dir(my_str)"
   ]
  },
  {
   "cell_type": "code",
   "execution_count": 11,
   "id": "fc36972b",
   "metadata": {},
   "outputs": [
    {
     "data": {
      "text/plain": [
       "'Esto Es Un String De Prueba'"
      ]
     },
     "execution_count": 11,
     "metadata": {},
     "output_type": "execute_result"
    }
   ],
   "source": [
    "my_str"
   ]
  },
  {
   "cell_type": "code",
   "execution_count": 12,
   "id": "37f993ef",
   "metadata": {},
   "outputs": [
    {
     "data": {
      "text/plain": [
       "True"
      ]
     },
     "execution_count": 12,
     "metadata": {},
     "output_type": "execute_result"
    }
   ],
   "source": [
    "#Buscar el string \"Esto\" dentro de la variable my_str\n",
    "\"Esto\" in my_str"
   ]
  },
  {
   "cell_type": "code",
   "execution_count": 13,
   "id": "78827615",
   "metadata": {},
   "outputs": [
    {
     "data": {
      "text/plain": [
       "True"
      ]
     },
     "execution_count": 13,
     "metadata": {},
     "output_type": "execute_result"
    }
   ],
   "source": [
    "\"s\" in my_str"
   ]
  },
  {
   "cell_type": "code",
   "execution_count": 14,
   "id": "de10906c",
   "metadata": {},
   "outputs": [
    {
     "data": {
      "text/plain": [
       "True"
      ]
     },
     "execution_count": 14,
     "metadata": {},
     "output_type": "execute_result"
    }
   ],
   "source": [
    "string2 = \"meses es es es es\"\n",
    "\n",
    "\"es\" in string2"
   ]
  },
  {
   "cell_type": "code",
   "execution_count": 15,
   "id": "107927fd",
   "metadata": {},
   "outputs": [
    {
     "data": {
      "text/plain": [
       "True"
      ]
     },
     "execution_count": 15,
     "metadata": {},
     "output_type": "execute_result"
    }
   ],
   "source": [
    "#Busqueda de elemento `one` dentro de la siguiente lista\n",
    "\n",
    "my_list = [\"one\", \"two\", \"three\", \"four\"]\n",
    "\n",
    "\"one\" in my_list  # aquí va sobre los elementos de la lista"
   ]
  },
  {
   "cell_type": "code",
   "execution_count": 16,
   "id": "6d1182d3",
   "metadata": {},
   "outputs": [
    {
     "data": {
      "text/plain": [
       "False"
      ]
     },
     "execution_count": 16,
     "metadata": {},
     "output_type": "execute_result"
    }
   ],
   "source": [
    "\"five\" in my_list"
   ]
  },
  {
   "cell_type": "code",
   "execution_count": 17,
   "id": "e4752ea8",
   "metadata": {},
   "outputs": [
    {
     "data": {
      "text/plain": [
       "False"
      ]
     },
     "execution_count": 17,
     "metadata": {},
     "output_type": "execute_result"
    }
   ],
   "source": [
    "my_list = [1,2,3,4,5,6,7,8]\n",
    "\n",
    "10 in my_list"
   ]
  },
  {
   "cell_type": "markdown",
   "id": "2704b271",
   "metadata": {},
   "source": [
    "Para un `dict`, el keyword `in` determina si una llave se encuentra dentro de la colección \n",
    "\n"
   ]
  },
  {
   "cell_type": "code",
   "execution_count": 18,
   "id": "40f57f92",
   "metadata": {},
   "outputs": [
    {
     "data": {
      "text/plain": [
       "True"
      ]
     },
     "execution_count": 18,
     "metadata": {},
     "output_type": "execute_result"
    }
   ],
   "source": [
    "\"one\" in {\"one\":1, \"two\":2, \"three\":3, \"four\":4}"
   ]
  },
  {
   "cell_type": "code",
   "execution_count": 19,
   "id": "71ea4b70",
   "metadata": {},
   "outputs": [
    {
     "data": {
      "text/plain": [
       "False"
      ]
     },
     "execution_count": 19,
     "metadata": {},
     "output_type": "execute_result"
    }
   ],
   "source": [
    "\"five\" in {\"one\":1, \"two\":2, \"three\":3, \"four\":4}"
   ]
  },
  {
   "cell_type": "code",
   "execution_count": 20,
   "id": "5105f56d",
   "metadata": {},
   "outputs": [
    {
     "data": {
      "text/plain": [
       "False"
      ]
     },
     "execution_count": 20,
     "metadata": {},
     "output_type": "execute_result"
    }
   ],
   "source": [
    "# esto va a preguntar si el valor se encuentra en las keys\n",
    "\n",
    "1 in {\"one\":1, \"two\":2, \"three\":3, \"four\":4}"
   ]
  },
  {
   "cell_type": "code",
   "execution_count": 21,
   "id": "a84637fe",
   "metadata": {},
   "outputs": [],
   "source": [
    "my_dict = {\"one\":1, \"two\":2, \"three\":3, \"four\":4}"
   ]
  },
  {
   "cell_type": "code",
   "execution_count": 22,
   "id": "9239da1e",
   "metadata": {},
   "outputs": [
    {
     "data": {
      "text/plain": [
       "dict_keys(['one', 'two', 'three', 'four'])"
      ]
     },
     "execution_count": 22,
     "metadata": {},
     "output_type": "execute_result"
    }
   ],
   "source": [
    "my_dict.keys()"
   ]
  },
  {
   "cell_type": "code",
   "execution_count": 23,
   "id": "f4afacd1",
   "metadata": {},
   "outputs": [
    {
     "data": {
      "text/plain": [
       "dict_values([1, 2, 3, 4])"
      ]
     },
     "execution_count": 23,
     "metadata": {},
     "output_type": "execute_result"
    }
   ],
   "source": [
    "my_dict.values()"
   ]
  },
  {
   "cell_type": "code",
   "execution_count": 24,
   "id": "d43ea3b3",
   "metadata": {},
   "outputs": [
    {
     "data": {
      "text/plain": [
       "dict_items([('one', 1), ('two', 2), ('three', 3), ('four', 4)])"
      ]
     },
     "execution_count": 24,
     "metadata": {},
     "output_type": "execute_result"
    }
   ],
   "source": [
    "my_dict.items()"
   ]
  },
  {
   "cell_type": "code",
   "execution_count": 25,
   "id": "e375d48f",
   "metadata": {},
   "outputs": [
    {
     "data": {
      "text/plain": [
       "True"
      ]
     },
     "execution_count": 25,
     "metadata": {},
     "output_type": "execute_result"
    }
   ],
   "source": [
    "3 in my_dict.values()"
   ]
  },
  {
   "cell_type": "code",
   "execution_count": 26,
   "id": "c6fbd0b2",
   "metadata": {},
   "outputs": [
    {
     "data": {
      "text/plain": [
       "False"
      ]
     },
     "execution_count": 26,
     "metadata": {},
     "output_type": "execute_result"
    }
   ],
   "source": [
    "5 in my_dict.values()"
   ]
  },
  {
   "cell_type": "code",
   "execution_count": 27,
   "id": "8a20963b",
   "metadata": {},
   "outputs": [
    {
     "data": {
      "text/plain": [
       "True"
      ]
     },
     "execution_count": 27,
     "metadata": {},
     "output_type": "execute_result"
    }
   ],
   "source": [
    "\"one\" in my_dict.keys()"
   ]
  },
  {
   "cell_type": "code",
   "execution_count": 28,
   "id": "95fd3def",
   "metadata": {},
   "outputs": [
    {
     "data": {
      "text/plain": [
       "{2, 3, 4}"
      ]
     },
     "execution_count": 28,
     "metadata": {},
     "output_type": "execute_result"
    }
   ],
   "source": [
    "my_set = {3,2,3,4,3}\n",
    "my_set"
   ]
  },
  {
   "cell_type": "code",
   "execution_count": 29,
   "id": "6112f92e",
   "metadata": {},
   "outputs": [
    {
     "data": {
      "text/plain": [
       "set"
      ]
     },
     "execution_count": 29,
     "metadata": {},
     "output_type": "execute_result"
    }
   ],
   "source": [
    "type(my_set)"
   ]
  },
  {
   "cell_type": "code",
   "execution_count": 30,
   "id": "a66b670b",
   "metadata": {},
   "outputs": [
    {
     "data": {
      "text/plain": [
       "True"
      ]
     },
     "execution_count": 30,
     "metadata": {},
     "output_type": "execute_result"
    }
   ],
   "source": [
    "3 in my_set"
   ]
  },
  {
   "cell_type": "code",
   "execution_count": 31,
   "id": "c0d1bc27",
   "metadata": {},
   "outputs": [
    {
     "data": {
      "text/plain": [
       "True"
      ]
     },
     "execution_count": 31,
     "metadata": {},
     "output_type": "execute_result"
    }
   ],
   "source": [
    "4 in my_set"
   ]
  },
  {
   "cell_type": "code",
   "execution_count": 32,
   "id": "caa204b9",
   "metadata": {},
   "outputs": [
    {
     "data": {
      "text/plain": [
       "True"
      ]
     },
     "execution_count": 32,
     "metadata": {},
     "output_type": "execute_result"
    }
   ],
   "source": [
    "1 not in my_set"
   ]
  },
  {
   "cell_type": "markdown",
   "id": "10f1c45d",
   "metadata": {},
   "source": [
    "## Instrucciones de control"
   ]
  },
  {
   "cell_type": "markdown",
   "id": "f888a617",
   "metadata": {},
   "source": [
    "Hasta ahora sólo hemos visto programas cuya secuencia opera de manera lineal. Cada *input* sigue la misma serie de pasos independientemente de su valor. "
   ]
  },
  {
   "attachments": {
    "Screen%20Shot%202021-09-28%20at%2019.10.18.png": {
     "image/png": "[encoded data removed]"
    }
   },
   "cell_type": "markdown",
   "id": "dab92a75",
   "metadata": {},
   "source": [
    "![Screen%20Shot%202021-09-28%20at%2019.10.18.png](attachment:Screen%20Shot%202021-09-28%20at%2019.10.18.png)"
   ]
  },
  {
   "cell_type": "code",
   "execution_count": null,
   "id": "cac291f3",
   "metadata": {},
   "outputs": [],
   "source": [
    "print(\"Hola Usuario\")\n",
    "nombre=input(\"Dame tu nombre :\")\n",
    "print(nombre)"
   ]
  },
  {
   "cell_type": "markdown",
   "id": "5e9f1149",
   "metadata": {},
   "source": [
    "Pero la mayoría de programas no siguen una secuencia lineal; habrá muchas veces que tengamos que hacer pasos adicionales o diferentes en caso de que se cumpla una condición. \n",
    "\n",
    "\n",
    "A fin de poder incluir pasos alternativos, dependiendo de una operación booleana, usamos las condicionales booleanas `if`, `else`"
   ]
  },
  {
   "cell_type": "code",
   "execution_count": 45,
   "id": "bd3336a9",
   "metadata": {},
   "outputs": [
    {
     "data": {
      "text/plain": [
       "False"
      ]
     },
     "execution_count": 45,
     "metadata": {},
     "output_type": "execute_result"
    }
   ],
   "source": [
    "3 < 1"
   ]
  },
  {
   "cell_type": "code",
   "execution_count": 33,
   "id": "18cd73b3",
   "metadata": {},
   "outputs": [],
   "source": [
    "#ejemplo\n",
    "if 3 < 1: \n",
    "    print(\"Success\")\n",
    "    \n",
    "    print(\".....\")"
   ]
  },
  {
   "cell_type": "code",
   "execution_count": 34,
   "id": "b8861314",
   "metadata": {},
   "outputs": [
    {
     "name": "stdout",
     "output_type": "stream",
     "text": [
      "Success\n",
      ".....\n"
     ]
    }
   ],
   "source": [
    "if 3 > 1:\n",
    "    print(\"Success\")\n",
    "    print(\".....\")"
   ]
  },
  {
   "cell_type": "code",
   "execution_count": 35,
   "id": "8e4f7e98",
   "metadata": {},
   "outputs": [
    {
     "name": "stdout",
     "output_type": "stream",
     "text": [
      "Error\n"
     ]
    }
   ],
   "source": [
    "if 3 < 1:\n",
    "    print(\"Success\")\n",
    "    print(\".....\")\n",
    "else: \n",
    "    print(\"Error\")"
   ]
  },
  {
   "cell_type": "markdown",
   "id": "8c145eca",
   "metadata": {},
   "source": [
    "Sintáxis de un `if` en Python: \n",
    "\n",
    "\n",
    "```python \n",
    "if <condicion>:\n",
    "    <expresion if cond is true>\n",
    "else:  #optional\n",
    "    <expr if condition is false>\n",
    "\n",
    "\n",
    "```\n",
    "* La `<condicion>` hace referencia a una operación booleana, es decir, una operación que regresa `True` or `False`. \n",
    "* La `<expresion>` hace referencia a cualquier otro prográma valida. Esto se ejecuta sólo si el resultado de la `<condicion>` resulta en `True`. \n",
    "\n",
    "El código definido arriba se conoce como un *code bloc*. Es importante notar que siempre, después de una condición `if`, toda expresión que se desea correr si ésta es verdader **debe contener una sangría de 4 espacios o un tab** en las líneas subsecuentes al `if`. \n",
    "\n",
    "\n",
    "\n",
    "\n",
    "\n"
   ]
  },
  {
   "cell_type": "code",
   "execution_count": 37,
   "id": "d0b54b91",
   "metadata": {},
   "outputs": [
    {
     "name": "stdout",
     "output_type": "stream",
     "text": [
      "Success\n",
      ".....\n"
     ]
    }
   ],
   "source": [
    "if (3 > 1):\n",
    "    print(\"Success\")\n",
    "else: \n",
    "    print(\"Error\")\n",
    "\n",
    "    \n",
    "    \n",
    "   \n",
    "    \n",
    "    \n",
    "    \n",
    "    \n",
    "    \n",
    "    \n",
    "print(\".....\") #FUERA DEL BUCLE"
   ]
  },
  {
   "cell_type": "code",
   "execution_count": 38,
   "id": "8567a8ff",
   "metadata": {},
   "outputs": [
    {
     "name": "stdout",
     "output_type": "stream",
     "text": [
      "Error\n"
     ]
    }
   ],
   "source": [
    "\n",
    "if -1 > 1: \n",
    "    print(\"Success\")\n",
    "else: \n",
    "    print(\"Error\")"
   ]
  },
  {
   "cell_type": "code",
   "execution_count": 39,
   "id": "4868f258",
   "metadata": {},
   "outputs": [],
   "source": [
    "#Ejemplo\n",
    "#Realizar un programa que pregunte primero y luego imprima si el usuario sí está en la siguiente lista. Y si no está \n",
    "#que diga que no es reconodio. "
   ]
  },
  {
   "cell_type": "code",
   "execution_count": 40,
   "id": "90223768",
   "metadata": {},
   "outputs": [],
   "source": [
    "lista_usuarios = ['usr186', 'usr203', 'usr919', 'usr989',\n",
    "                  'usr587', 'usr131', 'usr640', 'usr757',\n",
    "                  'usr237', 'usr491']"
   ]
  },
  {
   "cell_type": "code",
   "execution_count": 41,
   "id": "9151223f",
   "metadata": {},
   "outputs": [
    {
     "name": "stdout",
     "output_type": "stream",
     "text": [
      "Dame tu usuario: usr237\n",
      "Bienvenido usr237\n"
     ]
    }
   ],
   "source": [
    "\n",
    "usuario = input(\"Dame tu usuario: \")\n",
    "\n",
    "if usuario in lista_usuarios: \n",
    "    print(\"Bienvenido \" + usuario)\n",
    "else: \n",
    "    print(usuario + \" no es reconocido\")"
   ]
  },
  {
   "cell_type": "markdown",
   "id": "b699fad5",
   "metadata": {},
   "source": [
    "En ocasiones es necesario tener más de dos condiciones. Supongamos que dentro de nuestro ejemplo de usuarios en sistema también hay usuarios bloqueados. "
   ]
  },
  {
   "cell_type": "code",
   "execution_count": 42,
   "id": "e2c2f0db",
   "metadata": {},
   "outputs": [],
   "source": [
    "lista_usuarios = ['usr186', 'usr203', 'usr919', 'usr989',\n",
    "                  'usr587', 'usr131', 'usr640', 'usr757',\n",
    "                  'usr237', 'usr491']"
   ]
  },
  {
   "cell_type": "code",
   "execution_count": 43,
   "id": "c7cd2ba0",
   "metadata": {},
   "outputs": [],
   "source": [
    "lista_usuarios_bloqueados = ['usr188', 'usr204', 'usr920', 'usr99']"
   ]
  },
  {
   "cell_type": "code",
   "execution_count": 44,
   "id": "d0d530ab",
   "metadata": {},
   "outputs": [
    {
     "data": {
      "text/plain": [
       "set()"
      ]
     },
     "execution_count": 44,
     "metadata": {},
     "output_type": "execute_result"
    }
   ],
   "source": [
    "set(lista_usuarios) & set(lista_usuarios_bloqueados)"
   ]
  },
  {
   "cell_type": "code",
   "execution_count": 45,
   "id": "664c230a",
   "metadata": {},
   "outputs": [
    {
     "name": "stdout",
     "output_type": "stream",
     "text": [
      "Dame tu usuario: usr188\n",
      "El usuario usr188 está bloqueado\n"
     ]
    }
   ],
   "source": [
    "#opción1\n",
    "usuario = input(\"Dame tu usuario: \")\n",
    "\n",
    "if usuario in lista_usuarios_bloqueados: \n",
    "    print(f\"El usuario {usuario} está bloqueado\")\n",
    "else: \n",
    "    if usuario in lista_usuarios: \n",
    "        print(f\"Bienvenido {usuario}\")\n",
    "    else: \n",
    "        print(f\"{usuario} no es reconocido\")"
   ]
  },
  {
   "cell_type": "code",
   "execution_count": 52,
   "id": "4c47802e",
   "metadata": {},
   "outputs": [
    {
     "name": "stdout",
     "output_type": "stream",
     "text": [
      "Dame tu usuario: usr186\n",
      "Bienvenido usr186\n"
     ]
    }
   ],
   "source": [
    "#opción1\n",
    "usuario = input(\"Dame tu usuario: \")\n",
    "\n",
    "if usuario in lista_usuarios_bloqueados: \n",
    "    print(f\"El usuario {usuario} está bloqueado\")\n",
    "elif usuario in lista_usuarios: \n",
    "    print(f\"Bienvenido {usuario}\")\n",
    "else: \n",
    "    print(f\"{usuario} no es reconocido\")"
   ]
  },
  {
   "cell_type": "code",
   "execution_count": 46,
   "id": "326fe3ee",
   "metadata": {},
   "outputs": [
    {
     "name": "stdout",
     "output_type": "stream",
     "text": [
      "Dame tu usuario: \n",
      " no es reconocido o está bloqueado\n"
     ]
    }
   ],
   "source": [
    "usuario = input(\"Dame tu usuario: \")\n",
    "\n",
    "if (usuario in lista_usuarios) and (usuario not in lista_usuarios_bloqueados): \n",
    "    print(f\"Bienvenido {usuario}\")\n",
    "else:\n",
    "    print(f\"{usuario} no es reconocido o está bloqueado\")"
   ]
  },
  {
   "cell_type": "code",
   "execution_count": 47,
   "id": "c8d4c4a1",
   "metadata": {},
   "outputs": [],
   "source": [
    "if (usuario in lista_usuarios) and not (lista_usuarios_bloqueados):\n",
    "    print(\"hola\")   # debo poner algo que se ejecutará en caso de que la cond==True\n"
   ]
  },
  {
   "cell_type": "code",
   "execution_count": 48,
   "id": "d2f070ce",
   "metadata": {},
   "outputs": [
    {
     "name": "stdout",
     "output_type": "stream",
     "text": [
      "entra aqui porque es vacio\n"
     ]
    }
   ],
   "source": [
    "\n",
    "algo = []\n",
    "\n",
    "if algo:\n",
    "    print(\"entra aquí\")\n",
    "else:\n",
    "    print(\"entra aqui porque es vacio\")\n",
    "    "
   ]
  },
  {
   "cell_type": "code",
   "execution_count": 49,
   "id": "d648f583",
   "metadata": {},
   "outputs": [],
   "source": [
    "#Ejemplo\n",
    "#Revise si está bloqueado (que le diga diga que está bloquedado), que revise si está registrado y \n",
    "# si sí está que lo salude, \n",
    "# si no está bloqueado ni registado, que lo registre"
   ]
  },
  {
   "cell_type": "code",
   "execution_count": 50,
   "id": "cc41efa2",
   "metadata": {},
   "outputs": [
    {
     "data": {
      "text/plain": [
       "['usr186',\n",
       " 'usr203',\n",
       " 'usr919',\n",
       " 'usr989',\n",
       " 'usr587',\n",
       " 'usr131',\n",
       " 'usr640',\n",
       " 'usr757',\n",
       " 'usr237',\n",
       " 'usr491']"
      ]
     },
     "execution_count": 50,
     "metadata": {},
     "output_type": "execute_result"
    }
   ],
   "source": [
    "lista_usuarios"
   ]
  },
  {
   "cell_type": "code",
   "execution_count": 51,
   "id": "867e59f1",
   "metadata": {},
   "outputs": [
    {
     "name": "stdout",
     "output_type": "stream",
     "text": [
      "Dame tu usuario: usr186\n",
      "Bienvenido usr186\n"
     ]
    }
   ],
   "source": [
    "usuario = input(\"Dame tu usuario: \")\n",
    "\n",
    "if usuario in lista_usuarios_bloqueados: \n",
    "    print(f\"El usuario {usuario} está bloqueado\")\n",
    "else: \n",
    "    if usuario in lista_usuarios: \n",
    "        print(f\"Bienvenido {usuario}\")\n",
    "    else: \n",
    "        lista_usuarios.append(usuario)\n",
    "        print(f\"El usuario {usuario} ha sido registrado exitosamente.\")"
   ]
  },
  {
   "cell_type": "code",
   "execution_count": null,
   "id": "de7174ff",
   "metadata": {},
   "outputs": [],
   "source": [
    "lista_usuarios # sí agregamos al nuevo usuario"
   ]
  },
  {
   "cell_type": "code",
   "execution_count": null,
   "id": "a1e82344",
   "metadata": {},
   "outputs": [],
   "source": [
    "if usuario in lista_usuarios: \n",
    "    print(f\"Bienvenido {usuario}\")\n",
    "else:\n",
    "    lista_usuarios.append(usuario)"
   ]
  },
  {
   "cell_type": "code",
   "execution_count": null,
   "id": "487f2a72",
   "metadata": {},
   "outputs": [],
   "source": [
    "# si nos volvemos a preguntar por el usuario 254356\n",
    "usuario=input(\"Dame tu usuario: \")\n",
    "if usuario in lista_usuarios_bloqueados: \n",
    "    print(f\"El usuario {usuario} está bloqueado\")\n",
    "else: \n",
    "    if usuario in lista_usuarios: \n",
    "        print(f\"Bienvenido {usuario}\")\n",
    "    else:\n",
    "        lista_usuarios.append(usuario)"
   ]
  },
  {
   "cell_type": "code",
   "execution_count": null,
   "id": "7d6bd4b5",
   "metadata": {},
   "outputs": [],
   "source": [
    "lista_usuarios_bloqueados=['usr188', 'usr204', 'usr920', 'usr99','usr186',\"usr1\"]"
   ]
  },
  {
   "cell_type": "markdown",
   "id": "4101b315",
   "metadata": {},
   "source": [
    "¿Qué pasa si hacemos un `else if`? En python se escribe `elif`. "
   ]
  },
  {
   "cell_type": "code",
   "execution_count": null,
   "id": "7217cb78",
   "metadata": {},
   "outputs": [],
   "source": [
    "usuario = input(\"Dame tu usuario: \")\n",
    "\n",
    "if usuario in lista_usuarios_bloqueados: \n",
    "    print(f\"El usuario {usuario} está bloqueado\")\n",
    "else:\n",
    "    if usuario in lista_usuarios: \n",
    "        print(f\"Bienvenido {usuario}\")\n",
    "    else:\n",
    "        if 3>2:\n",
    "            print(\"Hola\")\n",
    "        else: \n",
    "            lista_usuarios.append(usuario)"
   ]
  },
  {
   "cell_type": "code",
   "execution_count": null,
   "id": "c923538d",
   "metadata": {},
   "outputs": [],
   "source": [
    "usuario = input(\"Dame tu usuario: \")\n",
    "\n",
    "if usuario in lista_usuarios_bloqueados: \n",
    "    print(f\"El usuario {usuario} está bloqueado\")\n",
    "elif usuario in lista_usuarios: \n",
    "    print(f\"Bienvenido {usuario}\")\n",
    "elif 3>2:\n",
    "    print(\"Hola\")\n",
    "else: \n",
    "    lista_usuarios.append(usuario)"
   ]
  },
  {
   "cell_type": "code",
   "execution_count": null,
   "id": "9d60e180",
   "metadata": {},
   "outputs": [],
   "source": [
    "#ejemplos básicos\n",
    "#cambiar un poco las variables para ejemplificar el else if (elif)\n",
    "name=input(\"Dame tu nombre: \")\n",
    "if name==\"Carlos\": \n",
    "    print(\"Hola, Carlos\")"
   ]
  },
  {
   "cell_type": "code",
   "execution_count": null,
   "id": "978b0063",
   "metadata": {},
   "outputs": [],
   "source": [
    "#Esquemáticamente"
   ]
  },
  {
   "attachments": {
    "Screen%20Shot%202021-09-28%20at%2019.53.37.png": {
     "image/png": "[encoded data removed]"
    }
   },
   "cell_type": "markdown",
   "id": "df182f36",
   "metadata": {},
   "source": [
    "![Screen%20Shot%202021-09-28%20at%2019.53.37.png](attachment:Screen%20Shot%202021-09-28%20at%2019.53.37.png)"
   ]
  },
  {
   "cell_type": "code",
   "execution_count": null,
   "id": "afe54724",
   "metadata": {
    "scrolled": true
   },
   "outputs": [],
   "source": [
    "name=input(\"Dame tu nombre: \")\n",
    "if name==\"Carlos\": \n",
    "    print(\"Hola, Carlos\")\n",
    "else: \n",
    "    print(\"No te conozco\")"
   ]
  },
  {
   "attachments": {
    "Screen%20Shot%202021-09-28%20at%2019.54.38.png": {
     "image/png": "[encoded data removed]"
    }
   },
   "cell_type": "markdown",
   "id": "08121a4d",
   "metadata": {},
   "source": [
    "![Screen%20Shot%202021-09-28%20at%2019.54.38.png](attachment:Screen%20Shot%202021-09-28%20at%2019.54.38.png)"
   ]
  },
  {
   "cell_type": "code",
   "execution_count": null,
   "id": "af12676a",
   "metadata": {},
   "outputs": [],
   "source": [
    "name=input(\"Dame tu nombre: \")\n",
    "edad=input(\"Dame tu edad: \")\n",
    "\n",
    "if name==\"Carlos\": \n",
    "    print(\"Hola, Carlos\")\n",
    "elif int(edad)<12: \n",
    "    print(\"No te conozco, niño.\")"
   ]
  },
  {
   "attachments": {
    "Screen%20Shot%202021-09-28%20at%2019.57.31.png": {
     "image/png": "[encoded data removed]"
    }
   },
   "cell_type": "markdown",
   "id": "6fbfb2c6",
   "metadata": {},
   "source": [
    "![Screen%20Shot%202021-09-28%20at%2019.57.31.png](attachment:Screen%20Shot%202021-09-28%20at%2019.57.31.png)"
   ]
  },
  {
   "cell_type": "code",
   "execution_count": 70,
   "id": "ca5d8d9a",
   "metadata": {},
   "outputs": [
    {
     "data": {
      "text/plain": [
       "False"
      ]
     },
     "execution_count": 70,
     "metadata": {},
     "output_type": "execute_result"
    }
   ],
   "source": [
    "bool([])"
   ]
  },
  {
   "cell_type": "code",
   "execution_count": 69,
   "id": "b78d94aa",
   "metadata": {},
   "outputs": [
    {
     "name": "stdout",
     "output_type": "stream",
     "text": [
      "2\n"
     ]
    }
   ],
   "source": [
    "a = []\n",
    "\n",
    "if a:\n",
    "    print(1)\n",
    "else:\n",
    "    print(2)"
   ]
  },
  {
   "cell_type": "code",
   "execution_count": 74,
   "id": "faa1e349",
   "metadata": {},
   "outputs": [
    {
     "name": "stdout",
     "output_type": "stream",
     "text": [
      "dame un numero:2\n",
      "2 es par\n"
     ]
    }
   ],
   "source": [
    "l_1 = [1,2,3,4,5,6]\n",
    "l_2 = [2,4,6,8,10]\n",
    "\n",
    "a = int(input(\"dame un numero:\"))\n",
    "\n",
    "if (a in l_1) and (a not in l_2):\n",
    "    print(f\"{a} es impar\")\n",
    "else:\n",
    "    print(f\"{a} es par\")"
   ]
  },
  {
   "cell_type": "code",
   "execution_count": null,
   "id": "6ec1cfd1",
   "metadata": {},
   "outputs": [],
   "source": [
    "## Determinamos los equipos de manera aleatoria:\n",
    "\n",
    "import random\n",
    "\n",
    "n_alumnos = 10\n",
    "\n",
    "a = list(range(1,n_alumnos+1))\n",
    "\n",
    "equipos = []\n",
    "\n",
    "n_equipos = 5\n",
    "n_integrantes = 2\n",
    "\n",
    "for i in range(n_equipos):\n",
    "    b = random.sample(a,n_integrantes)\n",
    "    equipos.append(b)\n",
    "    \n",
    "    for j in range(n_integrantes):\n",
    "        a.remove(b[j])\n",
    "        \n",
    "equipos"
   ]
  },
  {
   "cell_type": "markdown",
   "id": "ac6e9db9",
   "metadata": {},
   "source": [
    "> <h2 style=\"color:green\"> $\\ll\\!\\!\\prec\\quad$ Ejercicios $\\quad\\succ\\!\\!\\gg$ </h2>\n",
    "\n",
    "1. Escribe un programa que mencione cómo se encuentra el clima. El usuario deberá ingresar la temperatura actual: \n",
    "    * Si `temperatura` es mayor a 35 o igual, el programa deberá imprimir `hace mucho calor`.\n",
    "    * Si `temperatura` es menor a -15, el \"\" \"\" `hace mucho frío`. \n",
    "    * Si `temperatura`  es mayor a 25 y menor a 35, `hace calor`.\n",
    "    * Si `temperatura` es mayor o igual a -15 y menor a 12, `hace frío`. \n",
    "    * Si `temperatura`. se encuentrra entre 12 y 25 (inclusivo en los dos), `el clima es templado`. "
   ]
  },
  {
   "cell_type": "code",
   "execution_count": null,
   "id": "7edb09bb",
   "metadata": {},
   "outputs": [],
   "source": [
    "temp = float(input(\"Dame la temperatura actual: \"))\n",
    "\n",
    "if (temp >= 35):\n",
    "    print(\"Hace mucho calor\")\n",
    "\n",
    "if (temp < -15):\n",
    "    print(\"Hace mucho frio\")\n",
    "    \n",
    "if (25 < temp < 35):\n",
    "    print(\"Hace calor\")\n",
    "\n",
    "if (-15 <= temp < 12):\n",
    "    print(\"Hace frio\")\n",
    "    \n",
    "if (12 <= temp <= 25):\n",
    "    print(\"está templado\")\n"
   ]
  },
  {
   "cell_type": "code",
   "execution_count": null,
   "id": "dd371d58",
   "metadata": {},
   "outputs": [],
   "source": [
    "temp = float(input(\"Dame la temperatura actual: \"))\n",
    "\n",
    "if (temp >= 35):\n",
    "    print(\"Hace mucho calor\")\n",
    "elif (temp < -15):\n",
    "    print(\"Hace mucho frio\")  \n",
    "elif (25 < temp < 35):\n",
    "    print(\"Hace calor\")\n",
    "elif (-15 <= temp < 12):\n",
    "    print(\"Hace frio\")\n",
    "else:\n",
    "    print(\"está templado\")\n"
   ]
  },
  {
   "cell_type": "markdown",
   "id": "ccb55600",
   "metadata": {},
   "source": [
    "2. Considerando el diccionario `user_pass`, crea un programa que pida un usuario y valide si este se encuentra dentro del diccionario. Si el usuario se encuentra dentro de `user_pass`, el programa deberá imprimir `\"usuario registrado\"`; de otra manera, el programa deberá imprimir `\"usuario no registrado\"`. **nota: los programas de usuario-contraseña son más complicados**\n",
    "```python\n",
    "user_pass = {'usr503': '2vu2bo',\n",
    " 'usr085': 'geeaa',\n",
    " 'usr406': 'xqzbiy',\n",
    " 'usr182': 'jbngo0',\n",
    " 'usr168': 'qih6e',\n",
    " 'usr900': '6ynym',\n",
    " 'usr542': '7p6mnd',\n",
    " 'usr847': 'ruqq6y',\n",
    " 'usr629': '9qs9g5',\n",
    " 'usr418': 'f15lg'}\n",
    "```\n",
    "Por ejemplo:\n",
    "```\n",
    "Ingresa tu usuario: usr085\n",
    "Usuario Registrado\n",
    "```"
   ]
  },
  {
   "cell_type": "code",
   "execution_count": null,
   "id": "3b687ca3",
   "metadata": {},
   "outputs": [],
   "source": [
    "user_pass = {'usr503': '2vu2bo',\n",
    " 'usr085': 'geeaa',\n",
    " 'usr406': 'xqzbiy',\n",
    " 'usr182': 'jbngo0',\n",
    " 'usr168': 'qih6e',\n",
    " 'usr900': '6ynym',\n",
    " 'usr542': '7p6mnd',\n",
    " 'usr847': 'ruqq6y',\n",
    " 'usr629': '9qs9g5',\n",
    " 'usr418': 'f15lg'}"
   ]
  },
  {
   "cell_type": "code",
   "execution_count": null,
   "id": "7826643a",
   "metadata": {},
   "outputs": [],
   "source": [
    "usr = input(\"Dame tu usuario: \")\n",
    "\n",
    "print(\"usuario registrado\" if (usr in user_pass) else \"usuario no registrado\")"
   ]
  },
  {
   "cell_type": "markdown",
   "id": "429655e4",
   "metadata": {},
   "source": [
    "3. Modifica el programa anterior: si el usuario **no** ha sido registrado, el programa deberá preguntarle al usuario si se desea registrar, si el usuario ingresa `\"s\"`, el programa deberá preguntarle al usuario una contraseña y agregarlo a `user_pass`; si el usuario ingresa `\"n\"` el programa deberá imprimir `\"El usuario no fue registrado\"`; si el usuario ingresa cualquier otra secuencia, el programa deberá imprimir `\"Opción no valida. Saliendo del programa\"`  \n",
    "Por ejemplo:\n",
    "```\n",
    "Ingresa tu usuario: usr1643\n",
    "Usuario no registrado. ¿Deseas inscribirte (s/n)? n\n",
    "El usuario no fue registrado. Saliendo del programa...\n",
    "```\n",
    "```\n",
    "Ingresa tu usuario: usr1643\n",
    "Usuario no registrado. ¿Deseas inscribirte (s/n)? y\n",
    "Opción no valida. Saliendo del programa\n",
    "```\n",
    "```\n",
    "Ingresa tu usuario: usr1643\n",
    "Usuario no registrado. ¿Deseas inscribirte (s/n)? s\n",
    "Ingresa tu contraseña: grapple981\n",
    "```\n",
    "Y el diccionario se vería modificado de la siguiente manera\n",
    "```python\n",
    "{'usr503': '2vu2bo',\n",
    "     ...\n",
    " 'usr418': 'f15lg',\n",
    " 'usr1643': 'grapple981'}\n",
    "```"
   ]
  },
  {
   "cell_type": "code",
   "execution_count": null,
   "id": "563d5a86",
   "metadata": {},
   "outputs": [],
   "source": [
    "usr = input(\"Dame tu usuario: \")\n",
    "\n",
    "if (usr not in user_pass):\n",
    "    resp = input(\"Usuario no Registrado. Deseas registrarte? \")\n",
    "    \n",
    "    if resp.lower() == \"s\":\n",
    "        cont = input(\"contraseña? \")\n",
    "        user_pass[usr] = cont\n",
    "    elif resp.lower() == \"n\":\n",
    "        print(\"el usuario no fue resgistrado\")\n",
    "    else:\n",
    "        print(\"opción no válida\")\n",
    "else:\n",
    "    print(\"Usiario Registrado\")"
   ]
  },
  {
   "cell_type": "code",
   "execution_count": null,
   "id": "b8d3a1b9",
   "metadata": {},
   "outputs": [],
   "source": [
    "user_pass"
   ]
  },
  {
   "cell_type": "markdown",
   "id": "1fbbd516",
   "metadata": {},
   "source": [
    "4. Modifica el programa anterior: Si el usuario ya se ha registrado, el programa deberá pedirle al usuario que ingrese su contraseña. Si la contraseña no es la correcta, el programa deberá imprimir `\"Contraseña invalida\"`; si lo es, el programa deberá darle la bienvenida al usuario.\n",
    "```\n",
    "Ingresa tu usuario: usr085\n",
    "Ingresa tu contraseña: passw\n",
    "Contraseña invalida\n",
    "```\n",
    "```\n",
    "Ingresa tu usuario: usr085\n",
    "Ingresa tu contraseña: geeaa\n",
    "Bienvenido, usr085\n",
    "```"
   ]
  },
  {
   "cell_type": "code",
   "execution_count": null,
   "id": "fc7956ad",
   "metadata": {},
   "outputs": [],
   "source": [
    "user_pass"
   ]
  },
  {
   "cell_type": "code",
   "execution_count": null,
   "id": "fd27cfbc",
   "metadata": {},
   "outputs": [],
   "source": [
    "usr = input(\"Dame tu usuario: \")\n",
    "\n",
    "if (usr not in user_pass):\n",
    "    resp = input(\"Usuario no Registrado. Deseas registrarte? \")\n",
    "    \n",
    "    if resp.lower() == \"s\":\n",
    "        cont = input(\"contraseña? \")\n",
    "        user_pass[usr] = cont\n",
    "    elif resp.lower() == \"n\":\n",
    "        print(\"el usuario no fue resgistrado\")\n",
    "    else:\n",
    "        print(\"opción no válida\")\n",
    "else:\n",
    "    contador = 0\n",
    "    while (contador < 3):\n",
    "        cont = input(\"contraseña? \")\n",
    "\n",
    "        if user_pass[usr] != cont:\n",
    "            print(\"contraseña no válida\")\n",
    "        \n",
    "        contador = contador + 1\n",
    "    \n",
    "    print(\"usuario bloqueado\")"
   ]
  },
  {
   "cell_type": "markdown",
   "id": "142b0c71",
   "metadata": {},
   "source": [
    "## Condicionales in-line\n",
    "En ocasiones es necesario asignar el valor a una variable de manera dinámica. Esto aplica principalmente cuando las condiciones son binarias `if-else` y de complejidad baja, python nos permite asignar el valor a una variable de una manera dinámica. \n"
   ]
  },
  {
   "cell_type": "markdown",
   "id": "90f3c37c",
   "metadata": {},
   "source": [
    "```python\n",
    "\n",
    "my_var = <val_if_true>  if <condition>   else   <val_if_false>\n",
    "```"
   ]
  },
  {
   "cell_type": "code",
   "execution_count": 54,
   "id": "3dfefbb3",
   "metadata": {},
   "outputs": [
    {
     "name": "stdout",
     "output_type": "stream",
     "text": [
      "Dame tu edad 23\n",
      "si puedes votar\n"
     ]
    }
   ],
   "source": [
    "#Por ejemplo en una votación \n",
    "\n",
    "edad = int(input(\"Dame tu edad \"))\n",
    "\n",
    "if edad > 18:\n",
    "    puedes_votar = \"si puedes votar\"\n",
    "else: \n",
    "    puedes_votar = \"no puedes votar\"\n",
    "    \n",
    "print(puedes_votar)"
   ]
  },
  {
   "cell_type": "code",
   "execution_count": 55,
   "id": "9f26ab2b",
   "metadata": {},
   "outputs": [
    {
     "name": "stdout",
     "output_type": "stream",
     "text": [
      "Dame tu edad: 17\n",
      "no puedes votar\n"
     ]
    }
   ],
   "source": [
    "edad = int(input(\"Dame tu edad: \"))\n",
    "\n",
    "puedes_votar = \"si puedes votar\" if (edad > 18) else \"no puedes votar\"\n",
    "\n",
    "print(puedes_votar)"
   ]
  },
  {
   "cell_type": "code",
   "execution_count": null,
   "id": "7c1b26e5",
   "metadata": {},
   "outputs": [],
   "source": [
    "edad = 1.1\n",
    "\n",
    "puedes_votar = \"puedes votar\" if (edad >= 18) else \"no puedes votar\"\n",
    "\n",
    "print(puedes_votar)"
   ]
  },
  {
   "cell_type": "code",
   "execution_count": null,
   "id": "11d21f48",
   "metadata": {},
   "outputs": [],
   "source": [
    "edad=54\n",
    "puedes_votar=\"si\" if edad>=18 else \"no\" \n",
    "print(puedes_votar)"
   ]
  },
  {
   "cell_type": "code",
   "execution_count": 82,
   "id": "548eab55",
   "metadata": {},
   "outputs": [
    {
     "data": {
      "text/plain": [
       "'Hace frio'"
      ]
     },
     "execution_count": 82,
     "metadata": {},
     "output_type": "execute_result"
    }
   ],
   "source": [
    "temp = 0\n",
    "\n",
    "if (-15 <= temp < 12):\n",
    "    result = \"Hace frio\"\n",
    "else:\n",
    "    result = \"está templado\"\n",
    "    \n",
    "result"
   ]
  },
  {
   "cell_type": "code",
   "execution_count": 80,
   "id": "8737e131",
   "metadata": {},
   "outputs": [
    {
     "data": {
      "text/plain": [
       "'Hace frio'"
      ]
     },
     "execution_count": 80,
     "metadata": {},
     "output_type": "execute_result"
    }
   ],
   "source": [
    "temp = 0\n",
    "\n",
    "result = \"Hace frio\" if (-15 <= temp < 12) else \"está templado\"\n",
    "\n",
    "result"
   ]
  },
  {
   "cell_type": "markdown",
   "id": "ca4af71e",
   "metadata": {},
   "source": [
    "**Ejemplo**\n",
    "\n",
    "Usando *In-Line conditionals* escribe un programa que le pida al usuario un numero `num`entero e imprima `El numéro <num> es par` si es par o si `num` es impar que te imprima `El númer es impar`"
   ]
  },
  {
   "cell_type": "code",
   "execution_count": 59,
   "id": "744a1e47",
   "metadata": {},
   "outputs": [
    {
     "name": "stdout",
     "output_type": "stream",
     "text": [
      "Dame un número: 35\n",
      "Es div por 5\n"
     ]
    }
   ],
   "source": [
    "# in line\n",
    "num = int(input(\"Dame un número: \")) #el módulo sólo aplica para enteros\n",
    "\n",
    "resultado = (\"Es div por 15\" if (num%3 == 0) else \"Es div por 5\") if (num%5 == 0) else \" adios\"\n",
    "\n",
    "print(resultado)"
   ]
  },
  {
   "cell_type": "code",
   "execution_count": 60,
   "id": "ea9fec36",
   "metadata": {},
   "outputs": [
    {
     "name": "stdout",
     "output_type": "stream",
     "text": [
      "Dame un número: 34\n",
      " adios\n"
     ]
    }
   ],
   "source": [
    "num = int(input(\"Dame un número: \")) #el módulo sólo aplica para enteros\n",
    "\n",
    "if (num%5 == 0):\n",
    "    resultado = \"Es div por 5\"\n",
    "    if (num%3 == 0):\n",
    "        resultado = \"Es div por 15\"\n",
    "else:\n",
    "    resultado = \" adios\"\n",
    "\n",
    "print(resultado)"
   ]
  },
  {
   "cell_type": "code",
   "execution_count": null,
   "id": "8cad9ef2",
   "metadata": {},
   "outputs": [],
   "source": [
    "#sin asingar variable\n",
    "\n",
    "num = int(input(\"Dame un número\")) #el módulo sólo aplica para enteros\n",
    "\n",
    "print(\"Es par\" if (num%2 == 0) else \"Es impar\") #te puedes evitar la variable"
   ]
  },
  {
   "cell_type": "code",
   "execution_count": null,
   "id": "f4ad8489",
   "metadata": {},
   "outputs": [],
   "source": [
    "#sin asingar variable\n",
    "num = int(input(\"Dame un número\")) #el módulo sólo aplica para enteros\n",
    "\n",
    "print(f\"{num} es par\" if (num%2 == 0) else f\"{num} impar\") #te puedes evitar la variable usando f-string"
   ]
  },
  {
   "cell_type": "markdown",
   "id": "9a89d728",
   "metadata": {},
   "source": [
    "# Ciclos"
   ]
  },
  {
   "cell_type": "markdown",
   "id": "4d406d1c",
   "metadata": {},
   "source": [
    "Los ciclos o loops son comúnmente usados cuando tenemos un bloque de código del cual deseamos repetir un número finito de veces. \n",
    "\n",
    "Supongamos que queremos calcular el área ($A=\\pi *r^2$) de $n$ círculos. Dada una lista de radios `radios=[1,2,5,2,1,10]` y considerando que `pi=3.141592`. ¿De qué manera podriamos calcular el área de estos círculos?\n",
    "\n",
    "Una prmera manera sería considerar cada elemento dentro de `radios` e imprimir el resultado. \n",
    "\n",
    "```python \n",
    "radios=[1,2,5,2,1,10]\n",
    "pi=3.141592\n",
    "\n",
    "print(pi*radios[0]**2)\n",
    "print(pi*radios[1]**2)\n",
    "print(pi*radios[2]**2)\n",
    "print(pi*radios[3]**2)\n",
    "print(pi*radios[4]**2)\n",
    "print(pi*radios[5]**2)\n",
    "\n",
    "```\n",
    "\n",
    "Para este de casos es muy útili utilizar los ciclos. "
   ]
  },
  {
   "cell_type": "code",
   "execution_count": 1,
   "id": "36196d3b",
   "metadata": {},
   "outputs": [
    {
     "name": "stdout",
     "output_type": "stream",
     "text": [
      "3.141592\n",
      "12.566368\n",
      "78.5398\n",
      "12.566368\n",
      "3.141592\n",
      "314.1592\n",
      "7853.9800000000005\n"
     ]
    }
   ],
   "source": [
    "radios = [1,2,5,2,1,10,50]\n",
    "\n",
    "pi = 3.141592\n",
    "\n",
    "print(pi*radios[0]**2)\n",
    "print(pi*radios[1]**2)\n",
    "print(pi*radios[2]**2)\n",
    "print(pi*radios[3]**2)\n",
    "print(pi*radios[4]**2)\n",
    "print(pi*radios[5]**2)\n",
    "print(pi*radios[6]**2)"
   ]
  },
  {
   "cell_type": "code",
   "execution_count": 4,
   "id": "372c4dfd",
   "metadata": {},
   "outputs": [
    {
     "name": "stdout",
     "output_type": "stream",
     "text": [
      "3.141592\n",
      "12.566368\n",
      "78.5398\n",
      "12.566368\n",
      "3.141592\n",
      "314.1592\n",
      "7853.9800000000005\n",
      "23778.709848000002\n",
      "3631.6803520000003\n",
      "9852.032512\n",
      "1385.442072\n"
     ]
    }
   ],
   "source": [
    "radios = [1,2,5,2,1,10,50,87,34,56,21]\n",
    "\n",
    "for x in radios: #iterar sobre cada valor\n",
    "    print(pi * x**2)\n"
   ]
  },
  {
   "cell_type": "code",
   "execution_count": 5,
   "id": "3c04281f",
   "metadata": {},
   "outputs": [
    {
     "name": "stdout",
     "output_type": "stream",
     "text": [
      "3.141592\n",
      "12.566368\n",
      "78.5398\n",
      "12.566368\n",
      "3.141592\n",
      "314.1592\n",
      "7853.9800000000005\n",
      "23778.709848000002\n",
      "3631.6803520000003\n",
      "9852.032512\n",
      "1385.442072\n"
     ]
    }
   ],
   "source": [
    "for i in range(len(radios)):\n",
    "    print(pi * radios[i]**2)"
   ]
  },
  {
   "cell_type": "code",
   "execution_count": 6,
   "id": "5ab3cffa",
   "metadata": {},
   "outputs": [
    {
     "name": "stdout",
     "output_type": "stream",
     "text": [
      "[3.141592, 12.566368, 78.5398, 12.566368, 3.141592, 314.1592]\n"
     ]
    }
   ],
   "source": [
    "#con ciclos\n",
    "radios = [1,2,5,2,1,10]\n",
    "\n",
    "area = [] #crear una nuesta lista de resultados\n",
    "\n",
    "for r in radios: \n",
    "    area.append(pi * r**2)\n",
    "\n",
    "print(area)"
   ]
  },
  {
   "cell_type": "code",
   "execution_count": 7,
   "id": "d80ca4d5",
   "metadata": {},
   "outputs": [
    {
     "data": {
      "text/plain": [
       "[3.141592, 12.566368, 78.5398, 12.566368, 3.141592, 314.1592]"
      ]
     },
     "execution_count": 7,
     "metadata": {},
     "output_type": "execute_result"
    }
   ],
   "source": [
    "area"
   ]
  },
  {
   "cell_type": "code",
   "execution_count": 8,
   "id": "e708430b",
   "metadata": {},
   "outputs": [],
   "source": [
    "#en lugar de que sea una lista vamos a ver un diccionario\n",
    "alumnos = {\n",
    " \"José\": {\n",
    "  \"edad\": 11,\n",
    "  \"color\": \"rojo\",\n",
    "  \"carrera\": \"Administración\"\n",
    " },\n",
    " \"Charlie\": {\n",
    "  \"edad\": 33,\n",
    "  \"color\": \"Violeta\",\n",
    "  \"carrera\": \"Ingeniería\"\n",
    " },\n",
    " \"Luis\": {\n",
    "  \"edad\": 23,\n",
    "  \"color\": \"Negro\",\n",
    "  \"carrera\": \"Matemáticas\"\n",
    " },\n",
    " \"Johanna\": {\n",
    "  \"edad\": 18,\n",
    "  \"color\": \"Gris\",\n",
    "  \"carrera\": \"Finanzas\"\n",
    " }\n",
    "}"
   ]
  },
  {
   "cell_type": "code",
   "execution_count": 9,
   "id": "00ae7398",
   "metadata": {},
   "outputs": [
    {
     "data": {
      "text/plain": [
       "{'José': {'edad': 11, 'color': 'rojo', 'carrera': 'Administración'},\n",
       " 'Charlie': {'edad': 33, 'color': 'Violeta', 'carrera': 'Ingeniería'},\n",
       " 'Luis': {'edad': 23, 'color': 'Negro', 'carrera': 'Matemáticas'},\n",
       " 'Johanna': {'edad': 18, 'color': 'Gris', 'carrera': 'Finanzas'}}"
      ]
     },
     "execution_count": 9,
     "metadata": {},
     "output_type": "execute_result"
    }
   ],
   "source": [
    "alumnos"
   ]
  },
  {
   "cell_type": "code",
   "execution_count": 10,
   "id": "2a2fc9e6",
   "metadata": {
    "scrolled": true
   },
   "outputs": [
    {
     "name": "stdout",
     "output_type": "stream",
     "text": [
      "José\n",
      "Charlie\n",
      "Luis\n",
      "Johanna\n"
     ]
    }
   ],
   "source": [
    "#Ejemplo: Si quisieran imprimir los alumnos de este diccionario\n",
    "for k in alumnos: \n",
    "    print(k)"
   ]
  },
  {
   "cell_type": "code",
   "execution_count": 11,
   "id": "7599df9f",
   "metadata": {},
   "outputs": [
    {
     "name": "stdout",
     "output_type": "stream",
     "text": [
      "{'edad': 11, 'color': 'rojo', 'carrera': 'Administración'}\n",
      "{'edad': 33, 'color': 'Violeta', 'carrera': 'Ingeniería'}\n",
      "{'edad': 23, 'color': 'Negro', 'carrera': 'Matemáticas'}\n",
      "{'edad': 18, 'color': 'Gris', 'carrera': 'Finanzas'}\n"
     ]
    }
   ],
   "source": [
    "for x in alumnos.values(): \n",
    "    print(x)"
   ]
  },
  {
   "cell_type": "code",
   "execution_count": 12,
   "id": "819d422d",
   "metadata": {},
   "outputs": [
    {
     "data": {
      "text/plain": [
       "dict_items([(1, 1), (2, 4), (3, 9), (4, 16)])"
      ]
     },
     "execution_count": 12,
     "metadata": {},
     "output_type": "execute_result"
    }
   ],
   "source": [
    "simple_dict = {1:1,2:4,3:9,4:16}\n",
    "\n",
    "simple_dict.items()"
   ]
  },
  {
   "cell_type": "code",
   "execution_count": 13,
   "id": "2ae3a16f",
   "metadata": {},
   "outputs": [
    {
     "data": {
      "text/plain": [
       "dict_items([('José', {'edad': 11, 'color': 'rojo', 'carrera': 'Administración'}), ('Charlie', {'edad': 33, 'color': 'Violeta', 'carrera': 'Ingeniería'}), ('Luis', {'edad': 23, 'color': 'Negro', 'carrera': 'Matemáticas'}), ('Johanna', {'edad': 18, 'color': 'Gris', 'carrera': 'Finanzas'})])"
      ]
     },
     "execution_count": 13,
     "metadata": {},
     "output_type": "execute_result"
    }
   ],
   "source": [
    "#Si quisieran imprimir cada renglón del diccionario\n",
    "\n",
    "# esto me genera tuplas (key_1, val_1) , (key_2, val_2)\n",
    "alumnos.items()"
   ]
  },
  {
   "cell_type": "code",
   "execution_count": 14,
   "id": "b8a2aff7",
   "metadata": {
    "scrolled": true
   },
   "outputs": [
    {
     "name": "stdout",
     "output_type": "stream",
     "text": [
      "<class 'tuple'>\n",
      "('José', {'edad': 11, 'color': 'rojo', 'carrera': 'Administración'})\n",
      "<class 'tuple'>\n",
      "('Charlie', {'edad': 33, 'color': 'Violeta', 'carrera': 'Ingeniería'})\n",
      "<class 'tuple'>\n",
      "('Luis', {'edad': 23, 'color': 'Negro', 'carrera': 'Matemáticas'})\n",
      "<class 'tuple'>\n",
      "('Johanna', {'edad': 18, 'color': 'Gris', 'carrera': 'Finanzas'})\n"
     ]
    }
   ],
   "source": [
    "for item in alumnos.items():\n",
    "    print(type(item))\n",
    "    print(item)"
   ]
  },
  {
   "cell_type": "code",
   "execution_count": 15,
   "id": "fbe5e52a",
   "metadata": {},
   "outputs": [
    {
     "name": "stdout",
     "output_type": "stream",
     "text": [
      "{'edad': 11, 'color': 'rojo', 'carrera': 'Administración'}\n",
      "{'edad': 33, 'color': 'Violeta', 'carrera': 'Ingeniería'}\n",
      "{'edad': 23, 'color': 'Negro', 'carrera': 'Matemáticas'}\n",
      "{'edad': 18, 'color': 'Gris', 'carrera': 'Finanzas'}\n"
     ]
    }
   ],
   "source": [
    "#items viene en tuplas. Cada elemento de alumnos.items() es una tupla, si queremos sacar \n",
    "#estos elemnos los asignamos a nombre, caract\n",
    "\n",
    "for item in alumnos.items():\n",
    "    nombre, caract = item\n",
    "    print(caract)"
   ]
  },
  {
   "cell_type": "code",
   "execution_count": 16,
   "id": "cdb8cecf",
   "metadata": {},
   "outputs": [
    {
     "name": "stdout",
     "output_type": "stream",
     "text": [
      "edad 11\n",
      "color rojo\n",
      "carrera Administración\n",
      "edad 33\n",
      "color Violeta\n",
      "carrera Ingeniería\n",
      "edad 23\n",
      "color Negro\n",
      "carrera Matemáticas\n",
      "edad 18\n",
      "color Gris\n",
      "carrera Finanzas\n"
     ]
    }
   ],
   "source": [
    "\n",
    "for item in alumnos.items():\n",
    "    nombre, caract = item\n",
    "    for x in caract:\n",
    "        print(x, caract[x])"
   ]
  },
  {
   "cell_type": "code",
   "execution_count": 17,
   "id": "d2ff8385",
   "metadata": {},
   "outputs": [
    {
     "name": "stdout",
     "output_type": "stream",
     "text": [
      "José\n",
      "Charlie\n",
      "Luis\n",
      "Johanna\n"
     ]
    }
   ],
   "source": [
    "for nombre, caract in alumnos.items():\n",
    "    print(nombre)"
   ]
  },
  {
   "cell_type": "code",
   "execution_count": null,
   "id": "2d8b8ede",
   "metadata": {},
   "outputs": [],
   "source": [
    "#si quisieran guardarlo en una lista\n",
    "result=[]\n",
    "\n",
    "for item in alumnos.items():\n",
    "    #la tuplas de item la estamos unpacking en llave(nombre) y caract(valor)\n",
    "    nombre, caract = item\n",
    "    result.append(caract)\n",
    "    print(caract)\n",
    "\n"
   ]
  },
  {
   "cell_type": "code",
   "execution_count": null,
   "id": "bc766471",
   "metadata": {},
   "outputs": [],
   "source": [
    "result"
   ]
  },
  {
   "cell_type": "code",
   "execution_count": null,
   "id": "d9888490",
   "metadata": {},
   "outputs": [],
   "source": [
    "#otro método de los dict son los values\n",
    "list(alumnos.values()) #no aparece la llave"
   ]
  },
  {
   "cell_type": "code",
   "execution_count": null,
   "id": "fd9e89fd",
   "metadata": {},
   "outputs": [],
   "source": [
    "type(alumnos.values())"
   ]
  },
  {
   "cell_type": "code",
   "execution_count": null,
   "id": "3d988a28",
   "metadata": {},
   "outputs": [],
   "source": [
    "#si quisieran guardarlo en una lista usando .values. Los values no son tuplas, entonces no los pueden \n",
    "#asignar como los items\n",
    "\n",
    "result = []\n",
    "\n",
    "for item in alumnos.values():\n",
    "    nombre, caract = item\n",
    "    result.append(caract)\n",
    "    print(caract)"
   ]
  },
  {
   "cell_type": "code",
   "execution_count": null,
   "id": "2839fb32",
   "metadata": {},
   "outputs": [],
   "source": [
    "result=[]\n",
    "for item in alumnos.values():\n",
    "    nombre = item\n",
    "    result.append(caract)\n",
    "    print(caract)"
   ]
  },
  {
   "cell_type": "code",
   "execution_count": null,
   "id": "9b71da51",
   "metadata": {},
   "outputs": [],
   "source": [
    "result"
   ]
  },
  {
   "cell_type": "code",
   "execution_count": null,
   "id": "fc3d65a0",
   "metadata": {},
   "outputs": [],
   "source": [
    "#¿Cómo harían un programa que les imprima la lingitut del nombre del alumno?\n",
    "#Cómo verían cuál es el alumno que tiene mayor longitud del nombre, usando if-else. \n",
    "#quieren quedarse con una variable(longitud) que su valor sea 7 después de recorrer todo. "
   ]
  },
  {
   "cell_type": "code",
   "execution_count": null,
   "id": "b457c1ed",
   "metadata": {},
   "outputs": [],
   "source": [
    "longitud = 0 #inicializando variable\n",
    "\n",
    "for nombre in alumnos: \n",
    "    #print(len(nombre))\n",
    "    longitud = len(nombre) if (len(nombre) > longitud) else 0"
   ]
  },
  {
   "cell_type": "code",
   "execution_count": null,
   "id": "96c856da",
   "metadata": {},
   "outputs": [],
   "source": [
    "longitud"
   ]
  },
  {
   "cell_type": "code",
   "execution_count": null,
   "id": "994fd4b2",
   "metadata": {},
   "outputs": [],
   "source": [
    "#¿Cómo harían un programa que les imprima el nombre del aluno con más letras utilizando for e if?"
   ]
  },
  {
   "cell_type": "code",
   "execution_count": null,
   "id": "27bda970",
   "metadata": {},
   "outputs": [],
   "source": [
    "alumnos"
   ]
  },
  {
   "cell_type": "code",
   "execution_count": null,
   "id": "eafd22c6",
   "metadata": {},
   "outputs": [],
   "source": [
    "longitud = 0 \n",
    "long_nombre = \"\"\n",
    "\n",
    "for x in sorted(alumnos.keys()): \n",
    "    if(len(x) > longitud):\n",
    "        longitud = len(x) \n",
    "        long_nombre = x"
   ]
  },
  {
   "cell_type": "code",
   "execution_count": null,
   "id": "4aac26de",
   "metadata": {},
   "outputs": [],
   "source": [
    "sorted(alumnos.keys())"
   ]
  },
  {
   "cell_type": "code",
   "execution_count": null,
   "id": "bff1b4ac",
   "metadata": {},
   "outputs": [],
   "source": [
    "long_nombre"
   ]
  },
  {
   "cell_type": "code",
   "execution_count": null,
   "id": "d4532308",
   "metadata": {},
   "outputs": [],
   "source": [
    "alumnos"
   ]
  },
  {
   "cell_type": "markdown",
   "id": "51bce6e3",
   "metadata": {},
   "source": [
    "### La instrucción `Break`"
   ]
  },
  {
   "cell_type": "code",
   "execution_count": 18,
   "id": "21230919",
   "metadata": {},
   "outputs": [],
   "source": [
    "#Ejemplo de un Break. Un Break sirve para romper un ciclo. Si se cumple la condición, simplemente escribimos\n",
    "#`break`y se sale del ciclo. \n",
    "\n",
    "#Un ejemplo de un uso de un Break cuando se se encuentre un espacio\n",
    "unstr = \"este es un string\"\n"
   ]
  },
  {
   "cell_type": "code",
   "execution_count": 19,
   "id": "4cc46885",
   "metadata": {},
   "outputs": [
    {
     "name": "stdout",
     "output_type": "stream",
     "text": [
      "e\n",
      "s\n",
      "t\n",
      "e\n",
      " \n",
      "e\n",
      "s\n",
      " \n",
      "u\n",
      "n\n",
      " \n",
      "s\n",
      "t\n",
      "r\n",
      "i\n",
      "n\n",
      "g\n"
     ]
    }
   ],
   "source": [
    "for letra in unstr:\n",
    "    print(letra)"
   ]
  },
  {
   "cell_type": "code",
   "execution_count": 20,
   "id": "bb573918",
   "metadata": {},
   "outputs": [
    {
     "name": "stdout",
     "output_type": "stream",
     "text": [
      "e\n",
      "s\n",
      "t\n",
      "e\n"
     ]
    }
   ],
   "source": [
    "#Ejercicio: Imprimir cada una de las letras hasta el primer espacio\n",
    "#aquí imprime todo hasta incluyendo la condición (sí imprime el espacio) (ubicación del print)\n",
    "for letra in unstr:\n",
    "    if (letra == \" \"):\n",
    "        break #rompo\n",
    "    \n",
    "    print(letra)"
   ]
  },
  {
   "cell_type": "markdown",
   "id": "c760d5da",
   "metadata": {},
   "source": [
    "# `For` loops\n",
    "Usamos un `for` loop cuando conocemos de manera exacta el número deveces que deseamos correr el bloque de texto. El ejemplo anterior es un caso para usar un *for loop*\n",
    "\n",
    "La sintaxis para un for *for loop* en python es la siguiente: \n",
    "```python\n",
    "for varval in iterable:\n",
    "    ...\n",
    "    if <cond>:\n",
    "        break  # opcional\n",
    "\n",
    "```\n",
    "\n",
    "* `iterable`es un iterable. A grandes rasgos, un iterable es todo aquello que contenga un índice (una lista, un diccionario, un string)\n",
    "* `varval` que una variable que toma como valor cada elemento dentro de `iterable`\n",
    "* Todo bloque de código cuenta con sangría (4 espacios o tab) después del `for` (donde se repite por cada `varval`dentro de un `iterable`\n"
   ]
  },
  {
   "cell_type": "code",
   "execution_count": 21,
   "id": "3bb8b64f",
   "metadata": {},
   "outputs": [
    {
     "name": "stdout",
     "output_type": "stream",
     "text": [
      "a\n",
      "b\n",
      "c\n"
     ]
    }
   ],
   "source": [
    "lista = [\"a\",\"b\",\"c\"]\n",
    "\n",
    "for x in lista: \n",
    "    print(x)"
   ]
  },
  {
   "cell_type": "code",
   "execution_count": 23,
   "id": "e96ac18e",
   "metadata": {},
   "outputs": [
    {
     "name": "stdout",
     "output_type": "stream",
     "text": [
      "a\n",
      "b\n",
      "c\n",
      "...step...\n"
     ]
    }
   ],
   "source": [
    "lista = [\"a\",\"b\",\"c\"]\n",
    "\n",
    "for element in lista: \n",
    "    print(element)\n",
    "print(\"...step...\") #tabulador si quiero que se ejecute en cada ciclo"
   ]
  },
  {
   "cell_type": "code",
   "execution_count": 24,
   "id": "222ba7a1",
   "metadata": {},
   "outputs": [
    {
     "name": "stdout",
     "output_type": "stream",
     "text": [
      "a\n",
      "...step...\n",
      "b\n",
      "...step...\n",
      "c\n",
      "...step...\n",
      "...end...\n"
     ]
    }
   ],
   "source": [
    "#las líneas del código sin sangrían se condieran fuera del loop\n",
    "#Estas lineas (fuera del loop) sólo corren una vez, después de haber terminado el iterable\n",
    "\n",
    "lista = [\"a\",\"b\",\"c\"]\n",
    "\n",
    "for element in lista: \n",
    "    print(element)\n",
    "    print(\"...step...\")\n",
    "\n",
    "print(\"...end...\")"
   ]
  },
  {
   "cell_type": "markdown",
   "id": "cbf4d241",
   "metadata": {},
   "source": [
    "En el ejemplo de los Radios\n",
    "```python\n",
    "radios=[1,3,5,2,1,10]\n",
    "pi=3.141592\n",
    "\n",
    "print(pi*radios[0]**2)\n",
    "print(pi*radios[1]**2)\n",
    "print(pi*radios[2]**2)\n",
    "print(pi*radios[3]**2)\n",
    "print(pi*radios[4]**2)\n",
    "print(pi*radios[5]**2)\n",
    "\n",
    "```\n",
    "Lo anterior se resumen en : \n",
    "\n",
    "```python\n",
    "radios=[1,3,5,2,1,10]\n",
    "pi=3.141592\n",
    "for radio in radios:\n",
    "    print(pi*radio**2)\n",
    "\n",
    "```"
   ]
  },
  {
   "cell_type": "code",
   "execution_count": null,
   "id": "5212f900",
   "metadata": {},
   "outputs": [],
   "source": [
    "#El ejemplo de stirngs. Itera sobre una cadena\n",
    "word=\"abcdefg\"\n",
    "for letter in word: \n",
    "    print(letter)"
   ]
  },
  {
   "cell_type": "markdown",
   "id": "a604673c",
   "metadata": {},
   "source": [
    "## Rangos en un ciclo `for`\n",
    "La manera de crear un rango de números dentro de Python es mediante la función `range`, la cual puede ser usada de tres maneras: \n",
    "* `range(a)` crea un rango de `0` hasta `a-1`\n",
    "* `range(a,b)` crea un range de `a` hasta `b-1`\n",
    "* `range(a,b,s)` crea un range de `a` hasta `b-1` dando saltos de `s`\n"
   ]
  },
  {
   "cell_type": "code",
   "execution_count": 25,
   "id": "1f070804",
   "metadata": {},
   "outputs": [
    {
     "data": {
      "text/plain": [
       "[0, 5, 10, 15, 20, 25, 30, 35, 40, 45, 50, 55, 60, 65, 70, 75, 80, 85, 90, 95]"
      ]
     },
     "execution_count": 25,
     "metadata": {},
     "output_type": "execute_result"
    }
   ],
   "source": [
    "list(range(0,100,5))  # intervalo [0,100)"
   ]
  },
  {
   "cell_type": "code",
   "execution_count": 100,
   "id": "01cfc138",
   "metadata": {},
   "outputs": [
    {
     "name": "stdout",
     "output_type": "stream",
     "text": [
      "0\n",
      "1\n",
      "2\n",
      "3\n",
      "4\n"
     ]
    }
   ],
   "source": [
    "for n in range(5):\n",
    "    print(n)"
   ]
  },
  {
   "cell_type": "code",
   "execution_count": 26,
   "id": "a08f2f94",
   "metadata": {},
   "outputs": [
    {
     "name": "stdout",
     "output_type": "stream",
     "text": [
      "5\n",
      "6\n",
      "7\n",
      "8\n",
      "9\n",
      "10\n"
     ]
    }
   ],
   "source": [
    "for n in range(5,11):\n",
    "    print(n)"
   ]
  },
  {
   "cell_type": "code",
   "execution_count": 27,
   "id": "c1f3a836",
   "metadata": {},
   "outputs": [
    {
     "name": "stdout",
     "output_type": "stream",
     "text": [
      "5\n",
      "7\n",
      "9\n"
     ]
    }
   ],
   "source": [
    "for n in range(5,11,2):\n",
    "    print(n)"
   ]
  },
  {
   "cell_type": "code",
   "execution_count": 101,
   "id": "9897d23f",
   "metadata": {},
   "outputs": [
    {
     "name": "stdout",
     "output_type": "stream",
     "text": [
      "0 es par\n",
      "1 es impar\n",
      "2 es par\n",
      "3 es impar\n",
      "4 es par\n",
      "5 es impar\n",
      "6 es par\n",
      "7 es impar\n",
      "8 es par\n",
      "9 es impar\n",
      "10 es par\n",
      "11 es impar\n",
      "12 es par\n",
      "13 es impar\n",
      "14 es par\n",
      "15 es impar\n",
      "16 es par\n",
      "17 es impar\n",
      "18 es par\n",
      "19 es impar\n",
      "20 es par\n"
     ]
    }
   ],
   "source": [
    "#Ejercicio. Evaluar los primeros 20 números y que te diga si el <num> es par o <num> es impar\n",
    "for i in range(21):\n",
    "    if (i%2 == 0): \n",
    "        print(f\"{i} es par\")\n",
    "    else: \n",
    "        print(f\"{i} es impar\")\n"
   ]
  },
  {
   "cell_type": "code",
   "execution_count": 28,
   "id": "3db51de1",
   "metadata": {},
   "outputs": [
    {
     "name": "stdout",
     "output_type": "stream",
     "text": [
      "0 es par\n",
      "1 es impar\n",
      "2 es par\n",
      "3 es impar\n",
      "4 es par\n",
      "5 es impar\n",
      "6 es par\n",
      "7 es impar\n",
      "8 es par\n",
      "9 es impar\n",
      "10 es par\n",
      "11 es impar\n",
      "12 es par\n",
      "13 es impar\n",
      "14 es par\n",
      "15 es impar\n",
      "16 es par\n",
      "17 es impar\n",
      "18 es par\n",
      "19 es impar\n",
      "20 es par\n"
     ]
    }
   ],
   "source": [
    "for i in range(21):\n",
    "    print(f\"{i} es par\" if i%2==0 else f\"{i} es impar\")"
   ]
  },
  {
   "cell_type": "code",
   "execution_count": 29,
   "id": "28165254",
   "metadata": {},
   "outputs": [
    {
     "name": "stdout",
     "output_type": "stream",
     "text": [
      "1\n",
      "4\n",
      "9\n",
      "16\n",
      "25\n",
      "36\n",
      "49\n",
      "64\n"
     ]
    }
   ],
   "source": [
    "a = [1,2,3,4,5,6,7,8]\n",
    "\n",
    "for elem in a:\n",
    "    print(elem**2)"
   ]
  },
  {
   "cell_type": "code",
   "execution_count": 30,
   "id": "a6e1634e",
   "metadata": {},
   "outputs": [
    {
     "data": {
      "text/plain": [
       "8"
      ]
     },
     "execution_count": 30,
     "metadata": {},
     "output_type": "execute_result"
    }
   ],
   "source": [
    "a[7]"
   ]
  },
  {
   "cell_type": "code",
   "execution_count": 31,
   "id": "74a8aa69",
   "metadata": {},
   "outputs": [
    {
     "name": "stdout",
     "output_type": "stream",
     "text": [
      "1\n",
      "4\n",
      "9\n",
      "16\n",
      "25\n",
      "36\n",
      "49\n",
      "64\n"
     ]
    }
   ],
   "source": [
    "a = [1,2,3,4,5,6,7,8]\n",
    "\n",
    "for i in range(len(a)):\n",
    "    print(a[i]**2)"
   ]
  },
  {
   "cell_type": "code",
   "execution_count": 32,
   "id": "72afb088",
   "metadata": {},
   "outputs": [],
   "source": [
    "my_rango = range(0,100,5)"
   ]
  },
  {
   "cell_type": "code",
   "execution_count": 33,
   "id": "750f7aa2",
   "metadata": {},
   "outputs": [
    {
     "data": {
      "text/plain": [
       "50"
      ]
     },
     "execution_count": 33,
     "metadata": {},
     "output_type": "execute_result"
    }
   ],
   "source": [
    "my_rango[10]"
   ]
  },
  {
   "cell_type": "code",
   "execution_count": 34,
   "id": "c2e554c9",
   "metadata": {},
   "outputs": [
    {
     "name": "stdout",
     "output_type": "stream",
     "text": [
      "0\n",
      "5\n",
      "10\n",
      "15\n",
      "20\n",
      "25\n",
      "30\n",
      "35\n",
      "40\n",
      "45\n",
      "50\n",
      "55\n",
      "60\n",
      "65\n",
      "70\n",
      "75\n",
      "80\n",
      "85\n",
      "90\n",
      "95\n"
     ]
    }
   ],
   "source": [
    "for x in my_rango:\n",
    "    print(x)"
   ]
  },
  {
   "cell_type": "markdown",
   "id": "8e52fd77",
   "metadata": {},
   "source": [
    "## `while` loops"
   ]
  },
  {
   "cell_type": "markdown",
   "id": "ace84a0b",
   "metadata": {},
   "source": [
    "A diferencia de un `for` loop, en `while` loop no necesariamente conocemos el número de veces que se repetirá el ciclo. La sintaxis de un `while` loop es la siguiente: \n",
    "\n",
    "\n",
    "```python\n",
    "while condition:\n",
    "    <exp_1>\n",
    "    <exp_2>\n",
    "    ...\n",
    "    <exp_n>\n",
    "\n",
    "```\n",
    "\n",
    "* `condition` es un booleano, el cual es evaluado al principio de cada ciclo. Si `condition == True`, el bloque de código en sangría es evaluado; de otra manera el ciclo se rompe. \n",
    "\n",
    "Un while loop repite el ciclo siempre y cuando `condition` sea `True`. "
   ]
  },
  {
   "cell_type": "code",
   "execution_count": 35,
   "id": "1a9381ea",
   "metadata": {},
   "outputs": [
    {
     "name": "stdout",
     "output_type": "stream",
     "text": [
      "1\n",
      "3\n",
      "indice multiplo de 3\n",
      "5\n",
      "7\n",
      "9\n"
     ]
    }
   ],
   "source": [
    "lista = [1,2,3,4,5,6,7,8,9]\n",
    "\n",
    "i = 0\n",
    "size = len(lista)\n",
    "\n",
    "while i < size:\n",
    "    if i%2 == 0:\n",
    "        print(lista[i])\n",
    "    elif i%3 == 0:\n",
    "        print(\"indice multiplo de 3\")\n",
    "    \n",
    "    i = i + 1\n",
    "    \n"
   ]
  },
  {
   "cell_type": "code",
   "execution_count": null,
   "id": "714c9432",
   "metadata": {},
   "outputs": [],
   "source": [
    "#Un while molesto\n",
    "name=\"\"\n",
    "\n",
    "while name != 'your name':\n",
    "    print(\"Dame tu nombre\")\n",
    "    name = input()\n",
    "    \n",
    "print(\"Gracias\")"
   ]
  },
  {
   "attachments": {
    "Screen%20Shot%202021-09-28%20at%2022.06.54.png": {
     "image/png": "[encoded data removed]"
    }
   },
   "cell_type": "markdown",
   "id": "8278f801",
   "metadata": {},
   "source": [
    "![Screen%20Shot%202021-09-28%20at%2022.06.54.png](attachment:Screen%20Shot%202021-09-28%20at%2022.06.54.png)"
   ]
  },
  {
   "cell_type": "markdown",
   "id": "7f278bb7",
   "metadata": {},
   "source": [
    "## Break "
   ]
  },
  {
   "cell_type": "code",
   "execution_count": 36,
   "id": "bfa3db09",
   "metadata": {},
   "outputs": [
    {
     "name": "stdout",
     "output_type": "stream",
     "text": [
      "Dame tu nombre\n",
      "andres\n",
      "Dame tu nombre\n",
      "zeli\n",
      "Dame tu nombre\n",
      "uri\n",
      "Dame tu nombre\n",
      "jesus\n",
      "Dame tu nombre\n",
      "your name\n",
      "Gracias\n"
     ]
    }
   ],
   "source": [
    "while True:\n",
    "    print(\"Dame tu nombre\")\n",
    "    name=input()\n",
    "    if name == 'your name':\n",
    "        break\n",
    "\n",
    "print(\"Gracias\")"
   ]
  },
  {
   "attachments": {
    "Screen%20Shot%202021-09-30%20at%2019.11.36.png": {
     "image/png": "[encoded data removed]"
    }
   },
   "cell_type": "markdown",
   "id": "fa3f7fca",
   "metadata": {},
   "source": [
    "![Screen%20Shot%202021-09-30%20at%2019.11.36.png](attachment:Screen%20Shot%202021-09-30%20at%2019.11.36.png)"
   ]
  },
  {
   "cell_type": "code",
   "execution_count": 37,
   "id": "bfd4ae53",
   "metadata": {},
   "outputs": [
    {
     "name": "stdout",
     "output_type": "stream",
     "text": [
      " Dame un número entre 0 y 5: 11\n",
      " Dame un número entre 0 y 5: 13\n",
      " Dame un número entre 0 y 5: 1\n",
      "Gracias\n"
     ]
    }
   ],
   "source": [
    "n = -1\n",
    "\n",
    "while True:\n",
    "    n = int(input(\" Dame un número entre 0 y 5: \"))\n",
    "    if n in range(0,6):\n",
    "        break\n",
    "\n",
    "print(\"Gracias\")"
   ]
  },
  {
   "cell_type": "code",
   "execution_count": 38,
   "id": "1b3467f6",
   "metadata": {},
   "outputs": [
    {
     "data": {
      "text/plain": [
       "1"
      ]
     },
     "execution_count": 38,
     "metadata": {},
     "output_type": "execute_result"
    }
   ],
   "source": [
    "n"
   ]
  },
  {
   "cell_type": "markdown",
   "id": "a4609e67",
   "metadata": {},
   "source": [
    "## Continue\n",
    "Al igual que `break`, `continue` se usa dentro de loops. Cuando el programa llega a `continue`, inmediátamente se regresa al inicio del loop y reevalúa la condición del loop. "
   ]
  },
  {
   "cell_type": "code",
   "execution_count": 40,
   "id": "1947503c",
   "metadata": {},
   "outputs": [
    {
     "name": "stdout",
     "output_type": "stream",
     "text": [
      "dame un numero: 5\n",
      "el numero es divisible por 5 pero buscamos uno por 3\n",
      "dame un numero: 4\n",
      "dame un numero: 15\n",
      "encontramos el numero divisible por 3\n"
     ]
    }
   ],
   "source": [
    "while True:\n",
    "    a = int(input(\"dame un numero: \"))\n",
    "    \n",
    "    if (a % 5 == 0) and (a % 3 != 0):\n",
    "        print(\"el numero es divisible por 5 pero buscamos uno por 3\")\n",
    "        continue\n",
    "    \n",
    "    if (a % 3 == 0):\n",
    "        print(\"encontramos el numero divisible por 3\")\n",
    "        break"
   ]
  },
  {
   "cell_type": "code",
   "execution_count": null,
   "id": "579655b8",
   "metadata": {},
   "outputs": [],
   "source": [
    "while True:\n",
    "    print(\"Dame tu nombre\")\n",
    "    name = input()\n",
    "    if name != 'Carlos':\n",
    "        print(\"entra cuando el nombre no es Carlos\")\n",
    "        continue\n",
    "\n",
    "    print(\"Bienvenido, Carlos. ¿Cuál es tu contraseña?\")\n",
    "\n",
    "    pwd = input()\n",
    "\n",
    "    if (pwd == \"hola\"):\n",
    "        break\n",
    "\n",
    "print(\"Entraste\")"
   ]
  },
  {
   "attachments": {
    "Screen%20Shot%202021-09-30%20at%2019.17.22.png": {
     "image/png": "[encoded data removed]"
    }
   },
   "cell_type": "markdown",
   "id": "05e30a2f",
   "metadata": {},
   "source": [
    "![Screen%20Shot%202021-09-30%20at%2019.17.22.png](attachment:Screen%20Shot%202021-09-30%20at%2019.17.22.png)"
   ]
  },
  {
   "cell_type": "markdown",
   "id": "822b0e64",
   "metadata": {},
   "source": [
    "Brevemente mostrar diferencia entre if y while\n"
   ]
  },
  {
   "cell_type": "code",
   "execution_count": null,
   "id": "4e1f1061",
   "metadata": {},
   "outputs": [],
   "source": [
    "spam = 0\n",
    "\n",
    "while spam < 5: \n",
    "    \n",
    "    print(\"Hello, World\")\n",
    "    spam = spam + 1"
   ]
  },
  {
   "cell_type": "code",
   "execution_count": null,
   "id": "588e841c",
   "metadata": {},
   "outputs": [],
   "source": [
    "spam"
   ]
  },
  {
   "cell_type": "code",
   "execution_count": null,
   "id": "908744bf",
   "metadata": {},
   "outputs": [],
   "source": [
    "spam = 0\n",
    "\n",
    "if spam < 5: \n",
    "    print(\"Hello, World\")\n",
    "    spam = spam + 1"
   ]
  },
  {
   "cell_type": "code",
   "execution_count": null,
   "id": "ab2bfde6",
   "metadata": {},
   "outputs": [],
   "source": [
    "spam"
   ]
  },
  {
   "cell_type": "code",
   "execution_count": null,
   "id": "6cdfe0da",
   "metadata": {
    "scrolled": true
   },
   "outputs": [],
   "source": [
    "contador = 1\n",
    "\n",
    "while contador <= 10:\n",
    "    print(contador)\n",
    "    contador = contador + 1  #  contador+=1"
   ]
  },
  {
   "cell_type": "code",
   "execution_count": null,
   "id": "bd93ab9f",
   "metadata": {},
   "outputs": [],
   "source": [
    "print(2,\" \")"
   ]
  },
  {
   "cell_type": "code",
   "execution_count": null,
   "id": "1f6ffed9",
   "metadata": {},
   "outputs": [],
   "source": [
    "#Ejemplo: imprimir los primeros 10 números (horizontal), empezndo en uno y después un espacio usando un while \n",
    "contador=1\n",
    "while contador<=10:\n",
    "    print(contador,end=\" \") #es espacio tiene el efecto que lo imprima de manera horizontal\n",
    "    contador=contador+1  #  contador+=1\n",
    "    "
   ]
  },
  {
   "cell_type": "code",
   "execution_count": 107,
   "id": "871cac6d",
   "metadata": {},
   "outputs": [
    {
     "name": "stdout",
     "output_type": "stream",
     "text": [
      "Hola, Mundo, 1\n",
      "Hola, Mundo, 3\n"
     ]
    }
   ],
   "source": [
    "## imprimir 5 veces \"Hola, Mundo\"\n",
    "\n",
    "for i in range(5):\n",
    "    if i%2 == 0:\n",
    "        continue\n",
    "        \n",
    "    print(f\"Hola, Mundo, {i}\")"
   ]
  },
  {
   "cell_type": "code",
   "execution_count": 108,
   "id": "a94b4d0f",
   "metadata": {},
   "outputs": [
    {
     "name": "stdout",
     "output_type": "stream",
     "text": [
      "Hola, Mundo, 1\n",
      "Hola, Mundo, 3\n"
     ]
    }
   ],
   "source": [
    "for i in range(5):\n",
    "    if i%2 != 0:\n",
    "        print(f\"Hola, Mundo, {i}\")"
   ]
  },
  {
   "cell_type": "code",
   "execution_count": null,
   "id": "ea32d427",
   "metadata": {},
   "outputs": [],
   "source": [
    "for i in range(0,4,2):\n",
    "    print(\"Hola, Mundo\")"
   ]
  },
  {
   "cell_type": "code",
   "execution_count": null,
   "id": "3ca92483",
   "metadata": {},
   "outputs": [],
   "source": [
    "#?Cómo sería con un For?\n",
    "for x in range(1,11):\n",
    "    print(x,end=\" \")"
   ]
  },
  {
   "cell_type": "code",
   "execution_count": null,
   "id": "26444ca1",
   "metadata": {},
   "outputs": [],
   "source": [
    "for x in range(1,11):\n",
    "    print(x, end=\"\\n\") #default \\n es un enter"
   ]
  },
  {
   "cell_type": "code",
   "execution_count": null,
   "id": "2696425e",
   "metadata": {},
   "outputs": [],
   "source": [
    "for x in range(1,11):\n",
    "    print(x) #"
   ]
  },
  {
   "cell_type": "code",
   "execution_count": null,
   "id": "266076bc",
   "metadata": {},
   "outputs": [],
   "source": [
    "#que te imprima 1.1,1.2,1.3,...1.9\n",
    "for x in range(1,2,0.1):\n",
    "    print(x)"
   ]
  },
  {
   "cell_type": "code",
   "execution_count": null,
   "id": "ebcf9a37",
   "metadata": {},
   "outputs": [],
   "source": [
    "len(range(1,11))"
   ]
  },
  {
   "cell_type": "code",
   "execution_count": null,
   "id": "15596364",
   "metadata": {},
   "outputs": [],
   "source": [
    "#1.1,1.2,1.3,...1.9\n",
    "\n",
    "l = []\n",
    "\n",
    "for x in range(0,101):\n",
    "    l.append(x/len(range(1,101)))\n",
    "\n",
    "l  "
   ]
  },
  {
   "cell_type": "code",
   "execution_count": null,
   "id": "c8792a6c",
   "metadata": {},
   "outputs": [],
   "source": [
    "#El rango puede tener número negativos\n",
    "for x in range(-10,10):\n",
    "    print(x, end=\" \")"
   ]
  },
  {
   "cell_type": "code",
   "execution_count": null,
   "id": "f6ed2431",
   "metadata": {},
   "outputs": [],
   "source": [
    "a = [1,2,3,4,5,6,7,8,9]\n",
    "\n",
    "for x in a:\n",
    "    if x%2 == 0:\n",
    "        continue\n",
    "    print(x)"
   ]
  },
  {
   "cell_type": "markdown",
   "id": "49450dfb",
   "metadata": {},
   "source": [
    "## Agrupando elementos con `zip`\n",
    "\n",
    "Algunas veces es necesario agrupar dos listas entrada por entrada. Para solucionar este problema en Python podemos usar la función `zip`. `zip` regresa un generado de *tuples* entrada por entrada"
   ]
  },
  {
   "cell_type": "code",
   "execution_count": 41,
   "id": "2efae82f",
   "metadata": {},
   "outputs": [
    {
     "name": "stdout",
     "output_type": "stream",
     "text": [
      "Help on class zip in module builtins:\n",
      "\n",
      "class zip(object)\n",
      " |  zip(*iterables, strict=False) --> Yield tuples until an input is exhausted.\n",
      " |  \n",
      " |     >>> list(zip('abcdefg', range(3), range(4)))\n",
      " |     [('a', 0, 0), ('b', 1, 1), ('c', 2, 2)]\n",
      " |  \n",
      " |  The zip object yields n-length tuples, where n is the number of iterables\n",
      " |  passed as positional arguments to zip().  The i-th element in every tuple\n",
      " |  comes from the i-th iterable argument to zip().  This continues until the\n",
      " |  shortest argument is exhausted.\n",
      " |  \n",
      " |  If strict is true and one of the arguments is exhausted before the others,\n",
      " |  raise a ValueError.\n",
      " |  \n",
      " |  Methods defined here:\n",
      " |  \n",
      " |  __getattribute__(self, name, /)\n",
      " |      Return getattr(self, name).\n",
      " |  \n",
      " |  __iter__(self, /)\n",
      " |      Implement iter(self).\n",
      " |  \n",
      " |  __next__(self, /)\n",
      " |      Implement next(self).\n",
      " |  \n",
      " |  __reduce__(...)\n",
      " |      Return state information for pickling.\n",
      " |  \n",
      " |  __setstate__(...)\n",
      " |      Set state information for unpickling.\n",
      " |  \n",
      " |  ----------------------------------------------------------------------\n",
      " |  Static methods defined here:\n",
      " |  \n",
      " |  __new__(*args, **kwargs) from builtins.type\n",
      " |      Create and return a new object.  See help(type) for accurate signature.\n",
      "\n"
     ]
    }
   ],
   "source": [
    "help(zip)"
   ]
  },
  {
   "cell_type": "code",
   "execution_count": 42,
   "id": "0b3bdc50",
   "metadata": {},
   "outputs": [
    {
     "data": {
      "text/plain": [
       "<zip at 0x10d1c3ac0>"
      ]
     },
     "execution_count": 42,
     "metadata": {},
     "output_type": "execute_result"
    }
   ],
   "source": [
    "#  'abcdefg'   [0,1,2]   [0,1,2,3]\n",
    "\n",
    "zip('abcdefg', range(3), range(4))"
   ]
  },
  {
   "cell_type": "code",
   "execution_count": 43,
   "id": "7aa3ab0f",
   "metadata": {},
   "outputs": [
    {
     "data": {
      "text/plain": [
       "[('a', 0, 0), ('b', 1, 1), ('c', 2, 2)]"
      ]
     },
     "execution_count": 43,
     "metadata": {},
     "output_type": "execute_result"
    }
   ],
   "source": [
    "list(zip('abcdefg', range(3), range(4)))"
   ]
  },
  {
   "cell_type": "code",
   "execution_count": 44,
   "id": "a69a78c5",
   "metadata": {},
   "outputs": [
    {
     "data": {
      "text/plain": [
       "[(1, 'a'), (2, 'b'), (3, 'c')]"
      ]
     },
     "execution_count": 44,
     "metadata": {},
     "output_type": "execute_result"
    }
   ],
   "source": [
    "l_1 = [1,2,3]\n",
    "\n",
    "l_2 = [\"a\", \"b\", \"c\"]\n",
    "\n",
    "list(zip(l_1, l_2))"
   ]
  },
  {
   "cell_type": "code",
   "execution_count": 45,
   "id": "7ea4bd15",
   "metadata": {},
   "outputs": [
    {
     "data": {
      "text/plain": [
       "[('TSLA', 'Tesla'),\n",
       " ('AMZN', 'Amazon'),\n",
       " ('AAPL', 'Apple'),\n",
       " ('GMEXICO', 'Grupo México')]"
      ]
     },
     "execution_count": 45,
     "metadata": {},
     "output_type": "execute_result"
    }
   ],
   "source": [
    "tickers = [\"TSLA\",\"AMZN\",\"AAPL\",\"GMEXICO\"]\n",
    "companies = [\"Tesla\",\"Amazon\",\"Apple\",\"Grupo México\"]\n",
    "\n",
    "list(zip(tickers,companies))"
   ]
  },
  {
   "cell_type": "markdown",
   "id": "61f1e742",
   "metadata": {},
   "source": [
    "**Cómo creamos un diccionario a partir de dos listas?**"
   ]
  },
  {
   "cell_type": "code",
   "execution_count": 10,
   "id": "a80d8b3f",
   "metadata": {},
   "outputs": [
    {
     "ename": "TypeError",
     "evalue": "dict expected at most 1 argument, got 2",
     "output_type": "error",
     "traceback": [
      "\u001b[1;31m---------------------------------------------------------------------------\u001b[0m",
      "\u001b[1;31mTypeError\u001b[0m                                 Traceback (most recent call last)",
      "Cell \u001b[1;32mIn[10], line 1\u001b[0m\n\u001b[1;32m----> 1\u001b[0m \u001b[38;5;28;43mdict\u001b[39;49m\u001b[43m(\u001b[49m\u001b[43mtickers\u001b[49m\u001b[43m,\u001b[49m\u001b[43m \u001b[49m\u001b[43mcompanies\u001b[49m\u001b[43m)\u001b[49m\n",
      "\u001b[1;31mTypeError\u001b[0m: dict expected at most 1 argument, got 2"
     ]
    }
   ],
   "source": [
    "dict(tickers, companies)"
   ]
  },
  {
   "cell_type": "code",
   "execution_count": 46,
   "id": "aef69d9c",
   "metadata": {},
   "outputs": [
    {
     "data": {
      "text/plain": [
       "{'TSLA': 'Tesla', 'AMZN': 'Amazon', 'AAPL': 'Apple', 'GMEXICO': 'Grupo México'}"
      ]
     },
     "execution_count": 46,
     "metadata": {},
     "output_type": "execute_result"
    }
   ],
   "source": [
    "ticket_comp = {}\n",
    "\n",
    "size_1 = len(tickers)\n",
    "size_2 = len(companies)\n",
    "\n",
    "for i in range(min(size_1, size_2)):\n",
    "    ticket_comp[tickers[i]] = companies[i]\n",
    "    \n",
    "ticket_comp"
   ]
  },
  {
   "cell_type": "code",
   "execution_count": 47,
   "id": "6b4f8df2",
   "metadata": {},
   "outputs": [
    {
     "data": {
      "text/plain": [
       "{'TSLA': 'Tesla', 'AMZN': 'Amazon', 'AAPL': 'Apple', 'GMEXICO': 'Grupo México'}"
      ]
     },
     "execution_count": 47,
     "metadata": {},
     "output_type": "execute_result"
    }
   ],
   "source": [
    "dict(zip(tickers,companies)) #con el zippeo"
   ]
  },
  {
   "cell_type": "code",
   "execution_count": 14,
   "id": "f9cae681",
   "metadata": {},
   "outputs": [
    {
     "data": {
      "text/plain": [
       "dict_items([('TSLA', 'Tesla'), ('AMZN', 'Amazon'), ('AAPL', 'Apple'), ('GMEXICO', 'Grupo México')])"
      ]
     },
     "execution_count": 14,
     "metadata": {},
     "output_type": "execute_result"
    }
   ],
   "source": [
    "ticket_comp.items()"
   ]
  },
  {
   "cell_type": "code",
   "execution_count": 15,
   "id": "913872ca",
   "metadata": {},
   "outputs": [
    {
     "data": {
      "text/plain": [
       "[('TSLA', 'Tesla'),\n",
       " ('AMZN', 'Amazon'),\n",
       " ('AAPL', 'Apple'),\n",
       " ('GMEXICO', 'Grupo México')]"
      ]
     },
     "execution_count": 15,
     "metadata": {},
     "output_type": "execute_result"
    }
   ],
   "source": [
    "list(zip(tickers,companies))"
   ]
  },
  {
   "cell_type": "markdown",
   "id": "7348d77b",
   "metadata": {},
   "source": [
    "Iterar sobre elementos de dos listas al mismo tiempo:"
   ]
  },
  {
   "cell_type": "code",
   "execution_count": 48,
   "id": "c3ff610d",
   "metadata": {},
   "outputs": [
    {
     "name": "stdout",
     "output_type": "stream",
     "text": [
      "('TSLA', 'Tesla')\n",
      "('AMZN', 'Amazon')\n",
      "('AAPL', 'Apple')\n",
      "('GMEXICO', 'Grupo México')\n"
     ]
    }
   ],
   "source": [
    "for item in zip(tickers,companies): #zipeo de ambas listas\n",
    "    print(item)"
   ]
  },
  {
   "cell_type": "code",
   "execution_count": 50,
   "id": "a630c8c5",
   "metadata": {},
   "outputs": [],
   "source": [
    "#ejemplo\n",
    "tickers = [\"TSLA\",\"AMZN\",\"AAPL\",\"GMEXICO\"]\n",
    "companies = [\"Tesla\",\"Amazon\",\"Apple\",\"Grupo México\"]\n",
    "\n",
    "#Objetivo: Crear diccionaro, donde la llave sea el nombre de la empresa y el valor de la llave su ticker. \n",
    "\n",
    "comp_tick = {}\n",
    "\n",
    "for item in zip(tickers,companies):\n",
    "    ticker, company = item\n",
    "    comp_tick[company] = ticker"
   ]
  },
  {
   "cell_type": "code",
   "execution_count": 51,
   "id": "1b6edd01",
   "metadata": {
    "scrolled": true
   },
   "outputs": [
    {
     "data": {
      "text/plain": [
       "{'Tesla': 'TSLA', 'Amazon': 'AMZN', 'Apple': 'AAPL', 'Grupo México': 'GMEXICO'}"
      ]
     },
     "execution_count": 51,
     "metadata": {},
     "output_type": "execute_result"
    }
   ],
   "source": [
    "comp_tick"
   ]
  },
  {
   "cell_type": "code",
   "execution_count": 19,
   "id": "ba9fe358",
   "metadata": {},
   "outputs": [
    {
     "data": {
      "text/plain": [
       "{'Tesla': 'TSLA', 'Amazon': 'AMZN', 'Apple': 'AAPL', 'Grupo México': 'GMEXICO'}"
      ]
     },
     "execution_count": 19,
     "metadata": {},
     "output_type": "execute_result"
    }
   ],
   "source": [
    "#ejemplo\n",
    "tickers = [\"TSLA\",\"AMZN\",\"AAPL\",\"GMEXICO\"]\n",
    "companies = [\"Tesla\",\"Amazon\",\"Apple\",\"Grupo México\"]\n",
    "\n",
    "#Objetivo: Crear diccionaro, donde la llave sea el nombre de la empresa y el valor de la llave su ticker. \n",
    "\n",
    "comp_tick = {}\n",
    "\n",
    "for ticker, company in zip(tickers,companies):\n",
    "    comp_tick[company] = ticker\n",
    "    \n",
    "comp_tick"
   ]
  },
  {
   "cell_type": "code",
   "execution_count": null,
   "id": "611e94f3",
   "metadata": {},
   "outputs": [],
   "source": [
    "#otra opción. Iterando sobre los índices de las listas iniciales. \n",
    "comp_tick={}\n",
    "\n",
    "for i in range(len(tickers)):\n",
    "    comp_tick[companies[i]] = tickers[i]"
   ]
  },
  {
   "cell_type": "code",
   "execution_count": null,
   "id": "acb1a827",
   "metadata": {},
   "outputs": [],
   "source": [
    "comp_tick"
   ]
  },
  {
   "cell_type": "code",
   "execution_count": null,
   "id": "bc06503c",
   "metadata": {},
   "outputs": [],
   "source": [
    "#ejemplo. El `zip` hace la operación hasta el mínimo de las parejas (empezando por la izquierda)\n",
    "\n",
    "tickers=[\"TSLA\",\"AMZN\",\"AAPL\"]\n",
    "companies=[\"Tesla\",\"Amazon\",\"Apple\",\"Grupo México\",\"Bimbo\"]\n",
    "\n",
    "#Objetivo: Crear diccionaro, donde la llave sea el nombre de la empresa y el valor de la llave su ticker. \n",
    "comp_tick={}\n",
    "\n",
    "for ticker, company in zip(tickers,companies):\n",
    "    comp_tick[company]=ticker"
   ]
  },
  {
   "cell_type": "code",
   "execution_count": null,
   "id": "e77037a7",
   "metadata": {},
   "outputs": [],
   "source": [
    "comp_tick"
   ]
  },
  {
   "cell_type": "code",
   "execution_count": null,
   "id": "bae609a6",
   "metadata": {},
   "outputs": [],
   "source": [
    "#El zip también corre con más argumentos\n",
    "tickers=[\"TSLA\",\"AMZN\",\"AAPL\"]\n",
    "companies=[\"Tesla\",\"Amazon\",\"Apple\"]\n",
    "market_cap=[10,15,20]\n",
    "#Objetivo: Crear diccionaro, donde la llave sea el nombre de la empresa y el valor de la llave su ticker. \n",
    "comp_tick={}\n",
    "for ticker, company, tamaño in zip(tickers,companies,market_cap):\n",
    "    comp_tick[company]=[ticker,tamaño]\n",
    "    #print(ticker)\n",
    "    #print(company)\n",
    "    #print(tamaño)"
   ]
  },
  {
   "cell_type": "code",
   "execution_count": null,
   "id": "2cf97582",
   "metadata": {},
   "outputs": [],
   "source": [
    "comp_tick"
   ]
  },
  {
   "cell_type": "code",
   "execution_count": 21,
   "id": "1fbdd450",
   "metadata": {},
   "outputs": [
    {
     "data": {
      "text/plain": [
       "{'TSLA': 'Grupo México',\n",
       " 'AMZN': 'Grupo México',\n",
       " 'AAPL': 'Grupo México',\n",
       " 'GMEXICO': 'Grupo México'}"
      ]
     },
     "execution_count": 21,
     "metadata": {},
     "output_type": "execute_result"
    }
   ],
   "source": [
    "## esto no es lo mismo que hace el zip\n",
    "\n",
    "test = {}\n",
    "\n",
    "for i in tickers:\n",
    "    for j in companies:\n",
    "        test[i] = j\n",
    "\n",
    "test"
   ]
  },
  {
   "cell_type": "code",
   "execution_count": 28,
   "id": "efeb8759",
   "metadata": {},
   "outputs": [
    {
     "name": "stdout",
     "output_type": "stream",
     "text": [
      "[1, 2, 3] \n",
      " ['a', 'b', 'c']\n"
     ]
    }
   ],
   "source": [
    "print(l_1,\"\\n\", l_2)"
   ]
  },
  {
   "cell_type": "code",
   "execution_count": 40,
   "id": "c4a2e9f0",
   "metadata": {},
   "outputs": [],
   "source": [
    "a = zip(l_1,l_2)"
   ]
  },
  {
   "cell_type": "code",
   "execution_count": 32,
   "id": "75873c53",
   "metadata": {},
   "outputs": [
    {
     "data": {
      "text/plain": [
       "(3, 'c')"
      ]
     },
     "execution_count": 32,
     "metadata": {},
     "output_type": "execute_result"
    }
   ],
   "source": [
    "next(a)"
   ]
  },
  {
   "cell_type": "code",
   "execution_count": 34,
   "id": "57f234d3",
   "metadata": {},
   "outputs": [],
   "source": [
    "b = range(10)"
   ]
  },
  {
   "cell_type": "code",
   "execution_count": 43,
   "id": "1b716e74",
   "metadata": {},
   "outputs": [
    {
     "ename": "TypeError",
     "evalue": "'range' object is not an iterator",
     "output_type": "error",
     "traceback": [
      "\u001b[1;31m---------------------------------------------------------------------------\u001b[0m",
      "\u001b[1;31mTypeError\u001b[0m                                 Traceback (most recent call last)",
      "Cell \u001b[1;32mIn[43], line 1\u001b[0m\n\u001b[1;32m----> 1\u001b[0m \u001b[38;5;28;43mnext\u001b[39;49m\u001b[43m(\u001b[49m\u001b[43mb\u001b[49m\u001b[43m)\u001b[49m\n",
      "\u001b[1;31mTypeError\u001b[0m: 'range' object is not an iterator"
     ]
    }
   ],
   "source": [
    "next(b)"
   ]
  },
  {
   "cell_type": "markdown",
   "id": "e261fa12",
   "metadata": {},
   "source": [
    "## Uso de `else` en bucles `for / while`"
   ]
  },
  {
   "cell_type": "markdown",
   "id": "66d1403c",
   "metadata": {},
   "source": [
    "En Python, podemos usar `else` con `for/while` para determinar si el bucle termina con una sentencia `break` o simplemente para realizar determinada tarea después de que la condición en el bucle ya no se cumpla."
   ]
  },
  {
   "cell_type": "code",
   "execution_count": 52,
   "id": "9feb5fe3",
   "metadata": {},
   "outputs": [
    {
     "name": "stdout",
     "output_type": "stream",
     "text": [
      "1\n",
      "2\n",
      "3\n",
      "4\n",
      "5\n",
      "6\n",
      "7\n",
      "8\n",
      "9\n",
      "Full loop successfully executed\n"
     ]
    }
   ],
   "source": [
    "for num in range(1, 10):\n",
    "    print(num)\n",
    "\n",
    "print(\"Full loop successfully executed\")"
   ]
  },
  {
   "cell_type": "code",
   "execution_count": 53,
   "id": "31067261",
   "metadata": {},
   "outputs": [
    {
     "name": "stdout",
     "output_type": "stream",
     "text": [
      "1\n",
      "2\n",
      "3\n",
      "4\n",
      "5\n",
      "6\n",
      "7\n",
      "8\n",
      "9\n",
      "Full loop successfully executed\n"
     ]
    }
   ],
   "source": [
    "for num in range(1, 10):\n",
    "    print(num)\n",
    "else:\n",
    "    print(\"Full loop successfully executed\")"
   ]
  },
  {
   "cell_type": "code",
   "execution_count": 55,
   "id": "cff21b7d",
   "metadata": {},
   "outputs": [
    {
     "name": "stdout",
     "output_type": "stream",
     "text": [
      "1\n",
      "2\n",
      "3\n",
      "4\n",
      "5\n",
      "6\n",
      "7\n",
      "8\n",
      "9\n",
      "Full loop successfully executed\n",
      "\n",
      "\n",
      "Veamos el segundo caso:\n",
      "\n",
      "1\n",
      "2\n",
      "3\n",
      "4\n",
      "5\n",
      "6\n",
      "7\n",
      "8\n",
      "9\n",
      "Full loop successfully executed\n",
      "se ejecutó el break?  False\n"
     ]
    }
   ],
   "source": [
    "# using else with for\n",
    "for num in range(1, 10):\n",
    "    print(num)\n",
    "else:\n",
    "    print(\"Full loop successfully executed\")\n",
    "\n",
    "\n",
    "print(\"\\n\")\n",
    "print(\"Veamos el segundo caso:\\n\")\n",
    "\n",
    "# en este caso el loop termina con el break y no se ejecuta el código dentro de else\n",
    "exex_break = True\n",
    "\n",
    "for num in range(1, 10):\n",
    "    print(num)\n",
    "    if (num==50):\n",
    "        break\n",
    "else:  #para ver si se ejecutó completamente el ciclo\n",
    "    exex_break = False\n",
    "    print(\"Full loop successfully executed\")\n",
    "\n",
    "\n",
    "print(f\"se ejecutó el break?  {exex_break}\")"
   ]
  },
  {
   "cell_type": "code",
   "execution_count": 49,
   "id": "b03bfe68",
   "metadata": {},
   "outputs": [
    {
     "data": {
      "text/plain": [
       "2"
      ]
     },
     "execution_count": 49,
     "metadata": {},
     "output_type": "execute_result"
    }
   ],
   "source": [
    "## comentario\n",
    "\n",
    "a = 1\n",
    "\n",
    "a += 1   # a = a + 1\n",
    "a"
   ]
  },
  {
   "cell_type": "code",
   "execution_count": 56,
   "id": "26e3eb36",
   "metadata": {},
   "outputs": [
    {
     "name": "stdout",
     "output_type": "stream",
     "text": [
      "H\n",
      "e\n",
      "l\n",
      "l\n",
      "o\n",
      " \n",
      "w\n",
      "o\n",
      "r\n",
      "l\n",
      "d\n",
      "Full loop successfully executed\n",
      "\n",
      "\n",
      "Veamos el segundo caso:\n",
      "\n",
      "H\n",
      "e\n",
      "l\n",
      "l\n",
      "o\n",
      " \n",
      "w\n"
     ]
    }
   ],
   "source": [
    "\n",
    "# using else with while\n",
    "string = \"Hello world\"\n",
    "counter = 0\n",
    "while(counter < len(string)):\n",
    "    print(string[counter])\n",
    "    counter += 1\n",
    "else:\n",
    "    print(\"Full loop successfully executed\")\n",
    "\n",
    "\n",
    "print(\"\\n\")\n",
    "print(\"Veamos el segundo caso:\\n\")\n",
    "\n",
    "\n",
    "# en este caso el loop termina con el break y no se ejecuta el código dentro de else\n",
    "id_all_ok = False\n",
    "string = \"Hello world\"\n",
    "counter = 0\n",
    "while(counter < len(string)):\n",
    "    print(string[counter])\n",
    "    if string[counter] == 'w':\n",
    "        break\n",
    "    counter += 1\n",
    "else:\n",
    "    id_all_ok = True\n",
    "    print(\"Full loop successfully executed\")\n",
    "\n",
    "    \n",
    "    \n",
    "if id_all_ok:\n",
    "    print(\"Great!!\")"
   ]
  },
  {
   "cell_type": "markdown",
   "id": "ec9d2755",
   "metadata": {},
   "source": [
    "> <h2 style=\"color:green\"> $\\ll\\!\\!\\prec\\quad$ Ejercicios (en equipo)$\\quad\\succ\\!\\!\\gg$ </h2>"
   ]
  },
  {
   "cell_type": "markdown",
   "id": "26e1502d",
   "metadata": {},
   "source": [
    "1. ¿Qué sucede si corren este código?\n",
    "```python \n",
    "for x in 2: \n",
    "     print(x)\n",
    "```"
   ]
  },
  {
   "cell_type": "code",
   "execution_count": 65,
   "id": "5ab8ca3e",
   "metadata": {},
   "outputs": [
    {
     "name": "stdout",
     "output_type": "stream",
     "text": [
      "2\n"
     ]
    }
   ],
   "source": [
    "for x in [2]: \n",
    "     print(x)"
   ]
  },
  {
   "cell_type": "markdown",
   "id": "1f9a92a4",
   "metadata": {},
   "source": [
    "2. ¿Cómo escribirían un programa qué cree el siguiente patrón?\n",
    "```\n",
    "1\n",
    "1 2\n",
    "1 2 3\n",
    "1 2 3 4\n",
    "1 2 3 4 5\n",
    "```"
   ]
  },
  {
   "cell_type": "code",
   "execution_count": null,
   "id": "abce9d9e",
   "metadata": {},
   "outputs": [],
   "source": [
    "a = 1\n",
    "\n",
    "a = a + 1\n",
    "a += 1"
   ]
  },
  {
   "cell_type": "code",
   "execution_count": null,
   "id": "9ee418dc",
   "metadata": {},
   "outputs": [],
   "source": [
    "mensaje = \"\"\n",
    "\n",
    "for i in range(1,6):\n",
    "    mensaje += str(i) + \" \"\n",
    "    print(mensaje[:-1])"
   ]
  },
  {
   "cell_type": "code",
   "execution_count": null,
   "id": "688a40ca",
   "metadata": {},
   "outputs": [],
   "source": [
    "for i in range(1,6):\n",
    "    \n",
    "    ## este for anidado sirve para imprimir un renglón del arreglo\n",
    "    for j in range(1,i+1):\n",
    "        print(\"{:,.2f}\".format(j), end=\" \")\n",
    "        \n",
    "    print()   # imprime un salto de linea"
   ]
  },
  {
   "cell_type": "markdown",
   "id": "097e040f",
   "metadata": {},
   "source": [
    "3. Realizar un programa que le pida al usuario un número entero $n$ positivo mayor que 2 y devuelva una lista con todos los números naturales menores a $n$."
   ]
  },
  {
   "cell_type": "code",
   "execution_count": null,
   "id": "a61f2b1b",
   "metadata": {},
   "outputs": [],
   "source": [
    "while True:\n",
    "    n = int(input(\"Dame un entero positivo mayor que 2: \"))\n",
    "    if n > 2:\n",
    "        break\n",
    "        \n",
    "list(range(n))"
   ]
  },
  {
   "cell_type": "code",
   "execution_count": null,
   "id": "8ddce0a3",
   "metadata": {},
   "outputs": [],
   "source": [
    "n = 0\n",
    "while n <= 2:\n",
    "    n = int(input(\"Dame un entero positivo mayor que 2: \"))\n",
    "        \n",
    "res = []\n",
    "for i in range(n):\n",
    "    res += [i]\n",
    "    \n",
    "res"
   ]
  },
  {
   "cell_type": "markdown",
   "id": "a20bc824",
   "metadata": {},
   "source": [
    "4. Crear una lista que contenga todos los errores built-in de python."
   ]
  },
  {
   "cell_type": "code",
   "execution_count": null,
   "id": "e91ae6c8",
   "metadata": {},
   "outputs": [],
   "source": [
    "dir(__builtins__)"
   ]
  },
  {
   "cell_type": "code",
   "execution_count": null,
   "id": "21d489a3",
   "metadata": {},
   "outputs": [],
   "source": [
    "all_vals = dir(__builtins__)\n",
    "\n",
    "all_errors = []\n",
    "\n",
    "for item in all_vals:\n",
    "    if \"Error\" in item:\n",
    "        all_errors.append(item)\n",
    "        \n",
    "all_errors"
   ]
  },
  {
   "cell_type": "code",
   "execution_count": null,
   "id": "06e48e2e",
   "metadata": {},
   "outputs": [],
   "source": [
    "all_vals = dir(__builtins__)\n",
    "\n",
    "all_errors = []\n",
    "\n",
    "for item in all_vals:\n",
    "    if len(item) >= 4 and \"File\" in item[:4]:\n",
    "        all_errors.append(item)\n",
    "        \n",
    "all_errors\n"
   ]
  },
  {
   "cell_type": "code",
   "execution_count": null,
   "id": "0a305482",
   "metadata": {},
   "outputs": [],
   "source": [
    "all_vals = dir(__builtins__)\n",
    "\n",
    "all_errors = []\n",
    "\n",
    "for item in all_vals:\n",
    "    if item.startswith(\"f\"):\n",
    "        all_errors.append(item)\n",
    "        \n",
    "all_errors"
   ]
  },
  {
   "cell_type": "code",
   "execution_count": null,
   "id": "3dc872c7",
   "metadata": {
    "scrolled": true
   },
   "outputs": [],
   "source": [
    "3/0"
   ]
  },
  {
   "cell_type": "markdown",
   "id": "ee407290",
   "metadata": {},
   "source": [
    "> <h2 style=\"color:darkorange\"> $\\ll\\!\\!\\prec\\quad$ Tarea 1 $\\quad\\succ\\!\\!\\gg$ </h2>\n",
    "\n",
    "> $\\quad$ ENTREGA máximo - 30 de junio antes de la clase\n",
    "\n",
    "> Resolver los ejercicios con lo que hemos visto en clases hasta ahora. No usar funciones u otros paquetes."
   ]
  },
  {
   "cell_type": "markdown",
   "id": "493b32f1",
   "metadata": {},
   "source": [
    "1. Tenemos dos listas de números enteros:\n",
    "\n",
    "$$a = [a_0,\\,a_1,\\,a_2,\\,...,\\,a_n]\\qquad\\mbox{y}\\qquad b = [b_0,\\,b_1,\\,b_2,\\,...,\\,b_m],$$\n",
    "\n",
    "que cumplen $\\ a_i < a_{i+1}\\ $  y  $\\ b_i < b_{i+1}$, es decir, las listas están ordenadas en forma ascendente. \n",
    "\n",
    "Crear un programa que cree una tercera lista ordenada ascendentemente que contenga todos los elementos de $a$ y de $b$ sin utilizar ningún método de ordenamiento preprogramado."
   ]
  },
  {
   "cell_type": "code",
   "execution_count": null,
   "id": "73ccc1b5",
   "metadata": {},
   "outputs": [],
   "source": [
    "a = [1,2,3]\n",
    "b = [-1,3,4,5,6]\n",
    "\n",
    "## este tipo de cosas no están permitidas\n",
    "## res = sorted(a+b)\n",
    "\n",
    "## crear su propio metodo de ordenamiento y usarlo para ordenar\n",
    "\n",
    "\n",
    "res = [-1, 1, 2, 3, 3, 4, 5, 6]"
   ]
  },
  {
   "cell_type": "code",
   "execution_count": null,
   "id": "7bdcc4ee",
   "metadata": {},
   "outputs": [],
   "source": [
    "## prohibido usar sort, sorted o crear algun algoritmo clásico de ordenamiento (burbuja, selección, etc)\n",
    "sorted(a+b)\n",
    "\n",
    "c = a+b\n",
    "for i in range(len(c)):\n",
    "    for j in range(i, len(c)):\n",
    "        if (c[i] > c[j]):\n",
    "            c[i], c[l] = c[j], c[i]\n"
   ]
  },
  {
   "cell_type": "code",
   "execution_count": null,
   "id": "73bc5456",
   "metadata": {},
   "outputs": [],
   "source": [
    "a.sort()"
   ]
  },
  {
   "cell_type": "markdown",
   "id": "1dace36a",
   "metadata": {},
   "source": [
    "2. Escribe un programa para adivinar un número que se encuentra en el intervalo $[1,\\,100]$:  \n",
    "Considerando un número objetivo `target_num`, el programa le deberá pedir al usuario ingresar un número `input_num`. Si `input_num` > `target_num`, el programa deberá informarle al usuario que su número está por encima del número objetivo; de otra manera, si `input_num` < `target_num`, el programa deberá informarle al usuario que su número se encuentra por debajo del número objetivo. El programa se termina una vez que el usuario adivine el número objetivo, i.e., una vez que `input_num == target_num`.\n"
   ]
  },
  {
   "cell_type": "code",
   "execution_count": 127,
   "id": "e72d88e3",
   "metadata": {},
   "outputs": [
    {
     "name": "stdout",
     "output_type": "stream",
     "text": [
      "77\n"
     ]
    }
   ],
   "source": [
    "# AYUDA - esto lo veremos más adelante...\n",
    "import random\n",
    "\n",
    "target_num = random.randint(1,100)\n",
    "print(target_num)"
   ]
  },
  {
   "cell_type": "markdown",
   "id": "540f5f72",
   "metadata": {},
   "source": [
    "3. Modifica el programa anterior para que el usuario tenga a lo más 5 oportunidades de adivinar. En cada intento fallido se debe imprimir el número de intentos restantes y calcular una ganacia por adivinar en el próximo intento. La fórmula para calcular la ganacia es:\n",
    "\n",
    "$$G = \\frac{\\$1000}{2^{n-1}}$$\n",
    "\n",
    "donde $n$ es el número de intento. Además permita la opción de reinicar el juego si el usuario así lo desea.\n",
    "\n",
    "\n",
    "Ejemplo:\n",
    "\n",
    "\n",
    "```\n",
    "PROGRAMA PARA ADIVINAR UN NUMERO ENTRE 1 Y 100\n",
    "\n",
    "Adivina el número que estoy pensando, tienes 5 intentos.\n",
    "Intento 1: 50\n",
    "El número secreto es menor. Intento 2: 25\n",
    "El número secreto es menor. Intento 3: 12\n",
    "El número secreto es mayor. Intento 4: 18\n",
    "\n",
    "¡Felicidades! Has ganado $125\n",
    "\n",
    "Jugar de nuevo (s/n)? n\n",
    "\n",
    "FIN DEL JUEGO\n",
    "\n",
    "```"
   ]
  },
  {
   "cell_type": "markdown",
   "id": "2afd6cd9",
   "metadata": {},
   "source": [
    "4. Tenemos en un diccionario una agenda de números telefónicos:\n",
    "\n",
    "```\n",
    "name_num = {\"Arturo\" : 123456, \"Ana\" : 234567, \"Jorge\" : 495872, \"Eduardo\" : 645322}\n",
    "\n",
    "```\n",
    "\n",
    "Crea un programa que pida al usuario un nombre y en caso de que se encuentre registrado devuelva el número telefónico. \n",
    "\n",
    "Si no está registrado, que pregunte si desea registrarlo y si es así, que pida su número (un entero de 6 dígitos) y lo agregue a la agenda."
   ]
  },
  {
   "cell_type": "markdown",
   "id": "ded2440d",
   "metadata": {},
   "source": [
    "5. Crear un programa para transformar divisas (MXN, EUR, USD, CAD, PEN) sabiendo que:\n",
    "\n",
    "| Divisa extrangera | Ttipo de cambio (MXN) |\n",
    "|:-----------------:|:---------------------:|\n",
    "| USD  | 20.26  |\n",
    "| EUR | 21.16 |\n",
    "| PEN | 5.39 |\n",
    "| CAD | 15.71 |\n",
    "\n",
    "\n",
    "Una posible solución es construir un diccionario con todos los tipos de cambio posibles suponiendo que no hay arbitrage. Esto simplifica algunos pasos.\n",
    "\n",
    "Ejemplo 1:\n",
    "\n",
    "```\n",
    "PROGRAMA PARA CAMBIAR DE DIVISA\n",
    "\n",
    "Monto: 250\n",
    "\n",
    "Divisa local: MXN\n",
    "\n",
    "Divisa foránea: USD\n",
    "\n",
    "250 MXN = 12.34 USD\n",
    "```\n",
    "\n",
    "$$$$\n",
    "\n",
    "Ejemplo 2:\n",
    "\n",
    "```\n",
    "PROGRAMA PARA CAMBIAR DE DIVISA\n",
    "\n",
    "Monto: 5\n",
    "\n",
    "Divisa local: PEN\n",
    "\n",
    "Divisa foránea: USD\n",
    "\n",
    "5 PEN = 1.33 USD\n",
    "```\n",
    "\n",
    "$$$$\n",
    "\n",
    "Ejemplo 3:\n",
    "\n",
    "```\n",
    "PROGRAMA PARA CAMBIAR DE DIVISA\n",
    "\n",
    "Monto: 24\n",
    "\n",
    "Divisa local: PEN\n",
    "\n",
    "Divisa foránea: COP\n",
    "\n",
    "No se puede realizar la conversión porque la divisa COP es desconocida.\n",
    "```\n"
   ]
  },
  {
   "cell_type": "markdown",
   "id": "045a7075",
   "metadata": {},
   "source": [
    "[0.5 pts extra en calif final] Supongamos que en el problema anterior no se conoce la divisa CCY. Permitir al usuario agregar información del tipo de cambio de CCY a MXN y realizar la conversión deseada.\n",
    "\n",
    "Ejemplo:\n",
    "\n",
    "```\n",
    "PROGRAMA PARA CAMBIAR DE DIVISA\n",
    "\n",
    "Monto: 24\n",
    "\n",
    "Divisa local: PEN\n",
    "\n",
    "Divisa foránea: COP\n",
    "\n",
    "No hay info de la divisa COP. Desea agregarga (Y/N) ? Y\n",
    "\n",
    "Tipo de cambio COP/MXN: 0.0052\n",
    "\n",
    "24 PEN = 24976.92 COP\n",
    "```\n"
   ]
  }
 ],
 "metadata": {
  "kernelspec": {
   "display_name": "Python 3 (ipykernel)",
   "language": "python",
   "name": "python3"
  },
  "language_info": {
   "codemirror_mode": {
    "name": "ipython",
    "version": 3
   },
   "file_extension": ".py",
   "mimetype": "text/x-python",
   "name": "python",
   "nbconvert_exporter": "python",
   "pygments_lexer": "ipython3",
   "version": "3.11.3"
  }
 },
 "nbformat": 4,
 "nbformat_minor": 5
}
