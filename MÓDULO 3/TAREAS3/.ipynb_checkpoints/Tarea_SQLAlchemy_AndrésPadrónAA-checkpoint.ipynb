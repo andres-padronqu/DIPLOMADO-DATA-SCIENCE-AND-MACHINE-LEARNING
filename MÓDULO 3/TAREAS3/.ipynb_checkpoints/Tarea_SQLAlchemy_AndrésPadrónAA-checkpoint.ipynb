{
 "cells": [
  {
   "cell_type": "markdown",
   "id": "cfb32e47",
   "metadata": {},
   "source": [
    "# <font color='blue'>Tarea SQLAlchemy</font>\n",
    "### <font color='red'>13 de octubre de 2025</font>\n",
    "### Andrés Padrón Quintana \n",
    "### <font color='green'>Curso : DATA SCIENCE AND MACHINE LEARNING APPLIED TO FINANCIAL MARKETS </font>"
   ]
  },
  {
   "cell_type": "code",
   "execution_count": 1,
   "id": "166f6b89",
   "metadata": {},
   "outputs": [],
   "source": [
    "# -------------------------\n",
    "# Importar funciones y declarar la base de datos\n",
    "# -------------------------\n",
    "\n",
    "from sqlalchemy import (\n",
    "    create_engine, Column, Integer, String, Date, ForeignKey, UniqueConstraint, CheckConstraint\n",
    ")\n",
    "from sqlalchemy.orm import declarative_base, relationship, validates\n",
    "import re\n",
    "\n",
    "Base = declarative_base()"
   ]
  },
  {
   "cell_type": "code",
   "execution_count": 2,
   "id": "3caf56c0",
   "metadata": {},
   "outputs": [],
   "source": [
    "# -------------------------\n",
    "# Tabla para Estudiante\n",
    "# -------------------------\n",
    "class Estudiante(Base):\n",
    "    __tablename__ = 'estudiantes'\n",
    "\n",
    "    id = Column(Integer, primary_key=True, autoincrement=True)\n",
    "    nombre = Column(String(100), nullable=False)\n",
    "    email = Column(String(120), unique=True, nullable=False)\n",
    "    matricula = Column(String(8), unique=True, nullable=False)\n",
    "    fecha_inscripcion = Column(Date, nullable=False)\n",
    "\n",
    "    inscripciones = relationship(\"Inscripcion\", back_populates=\"estudiante\")\n",
    "\n",
    "    # Validaciones\n",
    "    @validates(\"email\")\n",
    "    def validate_email(self, key, email):\n",
    "        if not re.match(r\"[^@]+@[^@]+\\.[^@]+\", email):\n",
    "            raise ValueError(\"Email inválido\")\n",
    "        return email\n",
    "\n",
    "    @validates(\"matricula\")\n",
    "    def validate_matricula(self, key, matricula):\n",
    "        if len(matricula) != 8 or not matricula.isalnum():\n",
    "            raise ValueError(\"La matrícula debe tener exactamente 8 caracteres alfanuméricos\")\n",
    "        return matricula"
   ]
  },
  {
   "cell_type": "code",
   "execution_count": 3,
   "id": "a5c02334",
   "metadata": {},
   "outputs": [],
   "source": [
    "# -------------------------\n",
    "# Tabla para Profesor\n",
    "# -------------------------\n",
    "class Profesor(Base):\n",
    "    __tablename__ = 'profesores'\n",
    "\n",
    "    id = Column(Integer, primary_key=True, autoincrement=True)\n",
    "    nombre = Column(String(100), nullable=False)\n",
    "    email = Column(String(120), unique=True, nullable=False)\n",
    "    departamento = Column(String(50), nullable=False)\n",
    "\n",
    "    cursos = relationship(\"Curso\", back_populates=\"profesor\")\n",
    "\n",
    "    @validates(\"email\")\n",
    "    def validate_email(self, key, email):\n",
    "        if not re.match(r\"[^@]+@[^@]+\\.[^@]+\", email):\n",
    "            raise ValueError(\"Email inválido\")\n",
    "        return email"
   ]
  },
  {
   "cell_type": "code",
   "execution_count": 4,
   "id": "9d70f130",
   "metadata": {},
   "outputs": [],
   "source": [
    "# -------------------------\n",
    "# Tabla para Curso\n",
    "# -------------------------\n",
    "class Curso(Base):\n",
    "    __tablename__ = 'cursos'\n",
    "\n",
    "    id = Column(Integer, primary_key=True, autoincrement=True)\n",
    "    nombre = Column(String(80), nullable=False)\n",
    "    creditos = Column(Integer, nullable=False)\n",
    "    nivel = Column(String(20), nullable=False)\n",
    "    profesor_id = Column(Integer, ForeignKey(\"profesores.id\"), nullable=False)\n",
    "\n",
    "    profesor = relationship(\"Profesor\", back_populates=\"cursos\")\n",
    "    inscripciones = relationship(\"Inscripcion\", back_populates=\"curso\")\n",
    "\n",
    "    __table_args__ = (\n",
    "        CheckConstraint(\"creditos >= 1 AND creditos <= 10\", name=\"chk_creditos\"),\n",
    "        CheckConstraint(\"nivel IN ('Licenciatura','Maestría','Doctorado')\", name=\"chk_nivel\"),\n",
    "    )"
   ]
  },
  {
   "cell_type": "code",
   "execution_count": 5,
   "id": "1f5e5532",
   "metadata": {},
   "outputs": [],
   "source": [
    "# -------------------------\n",
    "# Tabla Inscripcion (N-M)\n",
    "# -------------------------\n",
    "class Inscripcion(Base):\n",
    "    __tablename__ = 'inscripciones'\n",
    "\n",
    "    id = Column(Integer, primary_key=True, autoincrement=True)\n",
    "    estudiante_id = Column(Integer, ForeignKey(\"estudiantes.id\"), nullable=False)\n",
    "    curso_id = Column(Integer, ForeignKey(\"cursos.id\"), nullable=False)\n",
    "    fecha_inscripcion = Column(Date, nullable=False)\n",
    "    calificacion = Column(Integer, nullable=True)\n",
    "\n",
    "    estudiante = relationship(\"Estudiante\", back_populates=\"inscripciones\")\n",
    "    curso = relationship(\"Curso\", back_populates=\"inscripciones\")\n",
    "\n",
    "    __table_args__ = (\n",
    "        UniqueConstraint(\"estudiante_id\", \"curso_id\", name=\"uq_estudiante_curso\"),\n",
    "        CheckConstraint(\"calificacion >= 0 AND calificacion <= 100\", name=\"chk_calificacion\"),\n",
    "    )"
   ]
  },
  {
   "cell_type": "code",
   "execution_count": 6,
   "id": "71eaafed",
   "metadata": {},
   "outputs": [],
   "source": [
    "# -------------------------\n",
    "# Crear la BD\n",
    "# -------------------------\n",
    "if __name__ == \"__main__\":\n",
    "    engine = create_engine(\"sqlite:///universidad.db\")\n",
    "    Base.metadata.create_all(engine)"
   ]
  }
 ],
 "metadata": {
  "kernelspec": {
   "display_name": "Python 3 (ipykernel)",
   "language": "python",
   "name": "python3"
  },
  "language_info": {
   "codemirror_mode": {
    "name": "ipython",
    "version": 3
   },
   "file_extension": ".py",
   "mimetype": "text/x-python",
   "name": "python",
   "nbconvert_exporter": "python",
   "pygments_lexer": "ipython3",
   "version": "3.11.3"
  }
 },
 "nbformat": 4,
 "nbformat_minor": 5
}
