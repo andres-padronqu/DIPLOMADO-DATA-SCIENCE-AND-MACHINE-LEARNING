{
 "cells": [
  {
   "cell_type": "code",
   "execution_count": 1,
   "id": "1b377624",
   "metadata": {},
   "outputs": [],
   "source": [
    "# import numpy as np\n",
    "import pandas as pd\n",
    "import matplotlib.pyplot as plt\n",
    "import seaborn as sns\n",
    "import numpy as np\n",
    "import ipywidgets as widgets\n",
    "import os\n",
    "import scipy.stats as stats\n",
    "import warnings\n",
    "\n",
    "warnings.filterwarnings(\"ignore\")"
   ]
  },
  {
   "cell_type": "code",
   "execution_count": 2,
   "id": "877f1a17",
   "metadata": {},
   "outputs": [],
   "source": [
    "sns.set()"
   ]
  },
  {
   "cell_type": "markdown",
   "id": "2a3ed63c",
   "metadata": {},
   "source": [
    "## Diferencia entre estimadores puntuales y poblacionales\n",
    "\n",
    "### Estimadores Poblacionales\n",
    "- Representan parámetros verdaderos de toda la población.\n",
    "- Se calculan a partir de la totalidad de los datos de la población (cuando esta es conocida y accesible).\n",
    "- Ejemplos comunes: \n",
    "  - Media poblacional ($\\mu$).\n",
    "  - Varianza poblacional ($\\sigma^2$).\n",
    "  - Proporción poblacional ($P$).\n",
    "\n",
    "### Estimadores Puntuales\n",
    "- Son estimaciones de los parámetros poblacionales obtenidas a partir de una muestra.\n",
    "- Se usan cuando no se tiene acceso a toda la población y se desea inferir sobre ella a partir de un subconjunto de datos.\n",
    "- Ejemplos comunes:\n",
    "  - Media muestral ($\\bar{x}$), que estima $\\mu$.\n",
    "  - Varianza muestral ($s^2$), que estima $\\sigma^2$.\n",
    "  - Proporción muestral ($\\hat{p}$), que estima $P$.\n",
    "\n",
    "### Diferencias clave:\n",
    "| Característica          | Estimador Poblacional           | Estimador Puntual             |\n",
    "|-------------------------|----------------------------------|--------------------------------|\n",
    "| Base de cálculo         | Datos de toda la población      | Datos de una muestra          |\n",
    "| Precisión               | Exacto                         | Aproximado (con error muestral) |\n",
    "| Disponibilidad práctica | Poco común                      | Muy común                     |\n",
    "\n",
    "Los estimadores puntuales son fundamentales en estadística inferencial para realizar análisis y conclusiones sobre parámetros poblacionales a partir de datos limitados.\n"
   ]
  },
  {
   "cell_type": "code",
   "execution_count": 4,
   "id": "acebc907",
   "metadata": {},
   "outputs": [
    {
     "data": {
      "text/html": [
       "<div>\n",
       "<style scoped>\n",
       "    .dataframe tbody tr th:only-of-type {\n",
       "        vertical-align: middle;\n",
       "    }\n",
       "\n",
       "    .dataframe tbody tr th {\n",
       "        vertical-align: top;\n",
       "    }\n",
       "\n",
       "    .dataframe thead th {\n",
       "        text-align: right;\n",
       "    }\n",
       "</style>\n",
       "<table border=\"1\" class=\"dataframe\">\n",
       "  <thead>\n",
       "    <tr style=\"text-align: right;\">\n",
       "      <th></th>\n",
       "      <th>PassengerId</th>\n",
       "      <th>Survived</th>\n",
       "      <th>Pclass</th>\n",
       "      <th>Name</th>\n",
       "      <th>Sex</th>\n",
       "      <th>Age</th>\n",
       "      <th>SibSp</th>\n",
       "      <th>Parch</th>\n",
       "      <th>Ticket</th>\n",
       "      <th>Fare</th>\n",
       "      <th>Cabin</th>\n",
       "      <th>Embarked</th>\n",
       "    </tr>\n",
       "  </thead>\n",
       "  <tbody>\n",
       "    <tr>\n",
       "      <th>0</th>\n",
       "      <td>1</td>\n",
       "      <td>0</td>\n",
       "      <td>3</td>\n",
       "      <td>Braund, Mr. Owen Harris</td>\n",
       "      <td>male</td>\n",
       "      <td>22.0</td>\n",
       "      <td>1</td>\n",
       "      <td>0</td>\n",
       "      <td>A/5 21171</td>\n",
       "      <td>7.2500</td>\n",
       "      <td>NaN</td>\n",
       "      <td>S</td>\n",
       "    </tr>\n",
       "    <tr>\n",
       "      <th>1</th>\n",
       "      <td>2</td>\n",
       "      <td>1</td>\n",
       "      <td>1</td>\n",
       "      <td>Cumings, Mrs. John Bradley (Florence Briggs Th...</td>\n",
       "      <td>female</td>\n",
       "      <td>38.0</td>\n",
       "      <td>1</td>\n",
       "      <td>0</td>\n",
       "      <td>PC 17599</td>\n",
       "      <td>71.2833</td>\n",
       "      <td>C85</td>\n",
       "      <td>C</td>\n",
       "    </tr>\n",
       "    <tr>\n",
       "      <th>2</th>\n",
       "      <td>3</td>\n",
       "      <td>1</td>\n",
       "      <td>3</td>\n",
       "      <td>Heikkinen, Miss. Laina</td>\n",
       "      <td>female</td>\n",
       "      <td>26.0</td>\n",
       "      <td>0</td>\n",
       "      <td>0</td>\n",
       "      <td>STON/O2. 3101282</td>\n",
       "      <td>7.9250</td>\n",
       "      <td>NaN</td>\n",
       "      <td>S</td>\n",
       "    </tr>\n",
       "    <tr>\n",
       "      <th>3</th>\n",
       "      <td>4</td>\n",
       "      <td>1</td>\n",
       "      <td>1</td>\n",
       "      <td>Futrelle, Mrs. Jacques Heath (Lily May Peel)</td>\n",
       "      <td>female</td>\n",
       "      <td>35.0</td>\n",
       "      <td>1</td>\n",
       "      <td>0</td>\n",
       "      <td>113803</td>\n",
       "      <td>53.1000</td>\n",
       "      <td>C123</td>\n",
       "      <td>S</td>\n",
       "    </tr>\n",
       "    <tr>\n",
       "      <th>4</th>\n",
       "      <td>5</td>\n",
       "      <td>0</td>\n",
       "      <td>3</td>\n",
       "      <td>Allen, Mr. William Henry</td>\n",
       "      <td>male</td>\n",
       "      <td>35.0</td>\n",
       "      <td>0</td>\n",
       "      <td>0</td>\n",
       "      <td>373450</td>\n",
       "      <td>8.0500</td>\n",
       "      <td>NaN</td>\n",
       "      <td>S</td>\n",
       "    </tr>\n",
       "  </tbody>\n",
       "</table>\n",
       "</div>"
      ],
      "text/plain": [
       "   PassengerId  Survived  Pclass  \\\n",
       "0            1         0       3   \n",
       "1            2         1       1   \n",
       "2            3         1       3   \n",
       "3            4         1       1   \n",
       "4            5         0       3   \n",
       "\n",
       "                                                Name     Sex   Age  SibSp  \\\n",
       "0                            Braund, Mr. Owen Harris    male  22.0      1   \n",
       "1  Cumings, Mrs. John Bradley (Florence Briggs Th...  female  38.0      1   \n",
       "2                             Heikkinen, Miss. Laina  female  26.0      0   \n",
       "3       Futrelle, Mrs. Jacques Heath (Lily May Peel)  female  35.0      1   \n",
       "4                           Allen, Mr. William Henry    male  35.0      0   \n",
       "\n",
       "   Parch            Ticket     Fare Cabin Embarked  \n",
       "0      0         A/5 21171   7.2500   NaN        S  \n",
       "1      0          PC 17599  71.2833   C85        C  \n",
       "2      0  STON/O2. 3101282   7.9250   NaN        S  \n",
       "3      0            113803  53.1000  C123        S  \n",
       "4      0            373450   8.0500   NaN        S  "
      ]
     },
     "execution_count": 4,
     "metadata": {},
     "output_type": "execute_result"
    }
   ],
   "source": [
    "poblacion = pd.read_csv(\"/Users/andrespadronquintana/Desktop/DIPLOMADO MACHINE LEARNING DS/MÓDULO 2/titanic.csv\")\n",
    "poblacion.head()"
   ]
  },
  {
   "cell_type": "markdown",
   "id": "f11cf684",
   "metadata": {},
   "source": [
    "# Intervalos de Confianza\n",
    "\n",
    "El **intervalo de confianza** es un rango de valores, calculado a partir de los datos muestrales, que se utiliza para estimar un parámetro poblacional con un cierto nivel de confianza. Este rango indica dónde probablemente se encuentra el parámetro desconocido, considerando la incertidumbre inherente al muestreo.\n",
    "\n",
    "Por ejemplo, un intervalo de confianza para la media de una población es un rango que posiblemente contenga el valor verdadero de dicha media. Si predijéramos que el precio de una acción mañana estará entre $0$ y $1$ billón, podríamos estar 100% seguros de que esta predicción será correcta. Sin embargo, si ajustamos la predicción al rango de $133$ a $270$, la confianza disminuye. Esto ilustra cómo los intervalos más estrechos tienden a ser menos confiables.\n",
    "\n",
    "Un intervalo de confianza del **95%** significa que, si se tomaran un número infinito de muestras de la población y se calculara un intervalo de confianza para cada muestra, aproximadamente el **95%** de esos intervalos contendrían el verdadero parámetro poblacional (por ejemplo, la media). A partir de una muestra, podemos calcular un intervalo alrededor de la media muestral que probablemente incluya la media poblacional verdadera.\n",
    "\n",
    "---\n",
    "\n",
    "## Factores que influyen en el intervalo de confianza\n",
    "\n",
    "1. **Tamaño de la muestra:**\n",
    "   - Un mayor tamaño muestral genera intervalos más estrechos, ya que se reduce la variabilidad de la estimación.\n",
    "   \n",
    "2. **Nivel de confianza:**\n",
    "   - Indica el porcentaje de veces que el intervalo incluirá el parámetro poblacional si se repitieran los cálculos múltiples veces. Niveles comunes son el **95%** y el **99%**.\n",
    "\n",
    "3. **Margen de error:**\n",
    "   - Representado por $\\alpha$ (nivel de significancia), indica la probabilidad de que el parámetro real esté fuera del intervalo.\n",
    "\n",
    "4. **Parámetro estimado:**\n",
    "   - Dependiendo de lo que se estime (media, proporción, diferencia de medias, etc.), se usará un estadístico pivote específico para construir el intervalo.\n",
    "\n",
    "---\n",
    "\n",
    "## Estandarizando una muestra\n",
    "\n",
    "Comencemos con un intervalo de confianza para la **media poblacional** bajo el supuesto de varianza conocida. Según el **teorema del límite central**, si tomamos una muestra aleatoria suficientemente grande de una población, la distribución de la media muestral $\\bar{x}$ seguirá una distribución normal estandarizada:\n",
    "\n",
    "$$\n",
    "Z = \\frac{\\bar{x} - \\mu}{\\sigma / \\sqrt{n}}\n",
    "$$\n",
    "\n",
    "donde:\n",
    "- $\\bar{x}$ es la media muestral.\n",
    "- $\\mu$ es la media poblacional.\n",
    "- $\\sigma$ es la desviación estándar poblacional.\n",
    "- $n$ es el tamaño de la muestra.\n",
    "\n",
    "Usando esta fórmula, podemos construir un intervalo de confianza para la media poblacional como:\n",
    "\n",
    "$$\n",
    "\\bar{x} \\pm Z_{\\alpha/2} \\cdot \\frac{\\sigma}{\\sqrt{n}}\n",
    "$$\n",
    "\n",
    "donde $Z_{\\alpha/2}$ es el valor crítico de la distribución normal estándar que corresponde al nivel de confianza deseado (por ejemplo, $Z_{0.025} = 1.96$ para un 95% de confianza).\n",
    "\n",
    "---\n",
    "\n",
    "## Conclusión\n",
    "\n",
    "Los intervalos de confianza son herramientas fundamentales en estadística inferencial que nos permiten realizar estimaciones sobre parámetros poblacionales con un nivel específico de certeza. Su precisión depende de factores como el tamaño de la muestra, el nivel de confianza elegido y la variabilidad de los datos. La correcta construcción e interpretación de estos intervalos es esencial para la toma de decisiones informadas basadas en datos.\n"
   ]
  },
  {
   "cell_type": "markdown",
   "id": "b969e28f",
   "metadata": {},
   "source": [
    "# Construcción Paso a Paso de un Intervalo de Confianza para la Media (Varianza Conocida)\n",
    "\n",
    "A continuación, se detalla cómo se construye un intervalo de confianza para la media poblacional $\\mu$ cuando la varianza poblacional $\\sigma^2$ es conocida:\n",
    "\n",
    "---\n",
    "\n",
    "## Paso 1: Identificar los datos necesarios\n",
    "Para calcular el intervalo de confianza, necesitamos:\n",
    "1. Media muestral ($\\bar{x}$).\n",
    "2. Tamaño de la muestra ($n$).\n",
    "3. Desviación estándar poblacional ($\\sigma$).\n",
    "4. Nivel de confianza deseado ($1 - \\alpha$), donde $\\alpha$ es el nivel de significancia.\n",
    "\n",
    "---\n",
    "\n",
    "## Paso 2: Seleccionar el nivel de confianza\n",
    "Determina el nivel de confianza deseado, por ejemplo:\n",
    "- 95%: $\\alpha = 0.05$, entonces $\\alpha/2 = 0.025$.\n",
    "- 99%: $\\alpha = 0.01$, entonces $\\alpha/2 = 0.005$.\n",
    "\n",
    "---\n",
    "\n",
    "## Paso 3: Obtener el valor crítico $Z_{\\alpha/2}$\n",
    "El valor crítico $Z_{\\alpha/2}$ corresponde al punto en la distribución normal estándar donde se encuentra el área acumulada igual a $1 - \\alpha/2$.\n",
    "\n",
    "- Para un nivel de confianza del 95%, $Z_{0.025} = 1.96$.\n",
    "- Para un nivel de confianza del 99%, $Z_{0.005} = 2.576$.\n",
    "\n",
    "---\n",
    "\n",
    "## Paso 4: Calcular el error estándar\n",
    "El error estándar de la media se calcula como:\n",
    "\n",
    "$$\n",
    "\\text{Error estándar} = \\frac{\\sigma}{\\sqrt{n}}\n",
    "$$\n",
    "\n",
    "donde:\n",
    "- $\\sigma$ es la desviación estándar poblacional.\n",
    "- $n$ es el tamaño de la muestra.\n",
    "\n",
    "---\n",
    "\n",
    "## Paso 5: Construir el intervalo de confianza\n",
    "El intervalo de confianza se calcula como:\n",
    "\n",
    "$$\n",
    "\\bar{x} \\pm Z_{\\alpha/2} \\cdot \\frac{\\sigma}{\\sqrt{n}}\n",
    "$$\n",
    "\n",
    "donde:\n",
    "- $\\bar{x}$ es la media muestral.\n",
    "- $Z_{\\alpha/2}$ es el valor crítico.\n",
    "- $\\frac{\\sigma}{\\sqrt{n}}$ es el error estándar.\n",
    "\n",
    "El resultado es un intervalo que abarca desde:\n",
    "\n",
    "$$\n",
    "\\text{Límite inferior} = \\bar{x} - Z_{\\alpha/2} \\cdot \\frac{\\sigma}{\\sqrt{n}}\n",
    "$$\n",
    "\n",
    "hasta:\n",
    "\n",
    "$$\n",
    "\\text{Límite superior} = \\bar{x} + Z_{\\alpha/2} \\cdot \\frac{\\sigma}{\\sqrt{n}}.\n",
    "$$\n",
    "\n",
    "---\n",
    "\n",
    "## Paso 6: Interpretación\n",
    "El intervalo final indica el rango de valores dentro del cual es probable que se encuentre la media poblacional $\\mu$, con el nivel de confianza especificado. Por ejemplo, para un intervalo de confianza del 95%, tenemos un 95% de certeza de que el intervalo contiene el verdadero valor de $\\mu$.\n"
   ]
  },
  {
   "cell_type": "code",
   "execution_count": 5,
   "id": "e54dc1e0",
   "metadata": {},
   "outputs": [],
   "source": [
    "Poblacion = np.random.normal(10,100,1_000_000)"
   ]
  },
  {
   "cell_type": "code",
   "execution_count": 6,
   "id": "a19b14b3",
   "metadata": {},
   "outputs": [
    {
     "data": {
      "text/plain": [
       "10.202204251709329"
      ]
     },
     "execution_count": 6,
     "metadata": {},
     "output_type": "execute_result"
    }
   ],
   "source": [
    "Poblacion.mean()"
   ]
  },
  {
   "cell_type": "code",
   "execution_count": 7,
   "id": "331880aa",
   "metadata": {},
   "outputs": [
    {
     "data": {
      "text/plain": [
       "100.0302568400587"
      ]
     },
     "execution_count": 7,
     "metadata": {},
     "output_type": "execute_result"
    }
   ],
   "source": [
    "Poblacion.std()"
   ]
  },
  {
   "cell_type": "code",
   "execution_count": 8,
   "id": "3806eabb",
   "metadata": {},
   "outputs": [],
   "source": [
    "muestra = np.random.choice(Poblacion,1000,replace=False)"
   ]
  },
  {
   "cell_type": "code",
   "execution_count": 9,
   "id": "dd3649cd",
   "metadata": {},
   "outputs": [
    {
     "data": {
      "text/plain": [
       "1000"
      ]
     },
     "execution_count": 9,
     "metadata": {},
     "output_type": "execute_result"
    }
   ],
   "source": [
    "len(muestra)"
   ]
  },
  {
   "cell_type": "code",
   "execution_count": 10,
   "id": "a2c14193",
   "metadata": {},
   "outputs": [
    {
     "data": {
      "text/plain": [
       "array([  67.97470218,  157.82645754,  -58.18321626,  -77.11489205,\n",
       "        142.09420032,   26.50002751,    5.62212011, -259.55238225,\n",
       "        -34.10618523, -202.36721572,  -17.35111069,  -47.13827026,\n",
       "         23.10048968,  -39.87765958,   29.91002491,  -28.43597517,\n",
       "        -16.12086869, -200.46775809,  -76.82552344, -102.05528525,\n",
       "         44.72336041,   85.82128789,  -30.68307784,  -94.19427739,\n",
       "         91.51509657,  -10.99591531,  173.48751737,   92.49029222,\n",
       "         -9.32053771,  152.46007021,   49.47979739,  179.59508866,\n",
       "        -49.94771692, -130.42772925,  -42.5868988 ,   40.66603056,\n",
       "        -30.70943064, -122.5102926 ,   31.03436777,  -37.7958672 ,\n",
       "         10.88763414,   48.78946672,  142.81168283,   13.37207699,\n",
       "        -92.71982936,   34.18153223,  109.01181707,  150.0919029 ,\n",
       "        -58.42643103, -242.16090984,   55.01874286,  117.06681492,\n",
       "        -51.96083416,  159.0204869 ,  -81.7098106 ,  -16.16854929,\n",
       "        -87.15200704,  -44.09070581,   88.4384405 , -140.4172905 ,\n",
       "        141.03470881,   -2.7389728 ,   -9.92386   ,  205.89591759,\n",
       "         46.22302287, -119.53439466,  -91.07397651,   85.53191148,\n",
       "         79.57366411, -116.4513374 ,  -37.03791213,  -53.68188651,\n",
       "        277.39798128,   93.09633938,  -85.21556678,  -70.14868091,\n",
       "         45.33444228,  -44.54436796,  -14.99092496,    6.84937846,\n",
       "       -211.32797606,  157.9516203 ,  -75.86354423,    5.59713502,\n",
       "        203.89396774,   49.93592364,  -24.24901655,  142.11473487,\n",
       "        -52.4279535 ,  -74.21094191,  -59.56425626,    6.46341959,\n",
       "        -15.03724552,  -53.17885566,    3.91105841,  196.369026  ,\n",
       "        193.08637551,   70.65379748,  -27.86270454,  -27.73770842,\n",
       "         92.57018133,  -58.08997444,  301.43942023,  112.29264389,\n",
       "         14.58206083,   16.54361068,  216.37162838,  157.31773174,\n",
       "         48.97949285,   31.77278537,  101.03798476,  -62.26530321,\n",
       "        164.48895343,  161.77814899,   99.99257945,  -35.12000537,\n",
       "         37.89784897,  210.04245636,   60.83236454, -171.83539483,\n",
       "        -65.0660601 ,   34.93688295, -157.70736543,  130.49178904,\n",
       "         16.30826699,  -29.88447857,  -10.53464403,  -23.59293581,\n",
       "        -84.59476707,   28.62151502,  178.17426358, -209.16974692,\n",
       "       -243.23184187,   95.86171596,  -80.24893138,   87.75763635,\n",
       "        -18.13011196,  -18.92185834,  -59.50404796,   14.77941048,\n",
       "        -54.18858424,  130.7589997 ,   63.51057757,   28.36978537,\n",
       "        -54.36480206,  134.71919531, -153.26772488,   71.34553326,\n",
       "          6.82267222,  -30.0984389 ,  -30.46906955,  -52.78545665,\n",
       "         79.6747634 ,  -18.95189746,  138.67568558,  -25.15259906,\n",
       "        171.17791087,   42.06546814,   16.6645049 ,  -65.90609916,\n",
       "        -11.08496827, -111.43381473,  119.13943039,  -92.56100715,\n",
       "        -48.75402247,   30.57501412,   52.22862605,   73.95747164,\n",
       "        -33.1007052 ,  145.4570009 ,  -51.17526815,  -82.12090287,\n",
       "       -125.40855714,   16.27154204,   51.74281685,   -3.15551541,\n",
       "       -130.30024205,   47.66084911,  130.13220397,  177.66898511,\n",
       "       -158.98290998,   58.96922411,   69.8112621 ,  -17.50035545,\n",
       "         46.08228256,  -21.59059296,  -15.07739951,   31.77665347,\n",
       "       -129.63179122,   16.6674908 ,  -85.90057687,  -44.37338155,\n",
       "        112.81315973,  288.16792662,  168.9518993 , -234.60731993,\n",
       "       -169.29776711,  -20.38869475,   82.97994765,  -40.50959939,\n",
       "         93.47425026,  171.46819558,  140.67173842, -129.16099445,\n",
       "         67.30709992,   40.24387907, -169.40891204,  -44.49099961,\n",
       "       -109.01657981,  -51.54277429,  117.51765924,  -83.20125234,\n",
       "        150.03630598,   85.43137554,  119.3138322 , -172.56114056,\n",
       "         70.99712453,  -29.81706325,  147.41049157, -146.94315626,\n",
       "        -32.68925217, -119.92416802,  151.89414217,  -85.77813263,\n",
       "        -86.06575182,  -13.13719746,   63.56715716,   29.94791113,\n",
       "       -102.97578823,  -10.51647794,   63.84732334,   19.88939996,\n",
       "        -84.38499745,  143.65763805,   -0.6533347 ,   14.42100571,\n",
       "         10.05175931,  -31.30235673,  -90.44508607,  -20.58554356,\n",
       "        -54.49569658,   72.11743359,  -80.17513043,  -50.78069817,\n",
       "         41.8659992 ,   99.87344645,  -40.23543873,  -14.06622468,\n",
       "       -140.96391335,   98.94237366,   67.24500325, -106.59905223,\n",
       "         63.06676073,  -75.02667799,  -42.69428321,  277.51604529,\n",
       "         86.03685288,   31.63901685,  -11.46013588,   31.77697619,\n",
       "        121.72549527,   74.64609183,  -89.45894767,  -25.5227336 ,\n",
       "        250.78208238,  165.23810388,  159.16397389,   86.44546345,\n",
       "        202.31879961,  206.71288413,  -75.18390812, -152.70759762,\n",
       "         52.5717929 ,    2.84166881,  -43.66966797,  100.34374209,\n",
       "         90.05645773,  -90.40656934,  -18.32014524,  -37.21363833,\n",
       "       -121.88524855,   18.62265075,  105.63303221,  -64.23810613,\n",
       "        -16.10119405,    6.55526318,    8.02002571,  190.80680497,\n",
       "        -13.86332011, -171.04900234,   28.82435403,  145.33864361,\n",
       "        150.00748798,  -20.16273002,  -42.51355097,   27.8681976 ,\n",
       "         83.38713353,   96.32558666,   41.18100935,   92.35983131,\n",
       "         -3.84296615,  147.64249223,  147.88316963,  -27.1235978 ,\n",
       "        -11.10645387,  -22.5732601 ,  185.70530465,   -8.47095372,\n",
       "        108.89475202, -128.45717516, -136.83412798,   44.23594286,\n",
       "         -7.59287714,  -23.401686  ,   41.27076001,   55.27696755,\n",
       "         53.26991389,  146.35792984,  -44.91742876, -119.47858707,\n",
       "         78.66575073,  -47.34770627,  -59.78930152,  157.53583457,\n",
       "        124.7044163 ,  153.86308822,   21.27198002,   68.22834681,\n",
       "         -6.93389124,  -47.60714282,   35.67166072,  121.1299619 ,\n",
       "        -71.63046188,   30.61602126,  128.19503869,  154.57277186,\n",
       "        -85.16977601,  142.84065109,  -37.04470923,   77.29535982,\n",
       "         21.55322123,   92.70595471,   22.77998715,   58.13317071,\n",
       "       -116.4898428 , -107.93960026,  151.93810655,  -21.51088477,\n",
       "        -19.81917623,   80.96392318,  -14.25681258,  -11.12361566,\n",
       "         37.47824601,  -77.45876575,    7.45880088,  -59.81383917,\n",
       "        -61.47678296,   99.71481722,  141.73721834,   75.92481897,\n",
       "         85.26334383,   15.03323293,  -36.71720065,  -28.10577303,\n",
       "        -60.72452653,   59.88794293,  -10.40661982,   47.71392445,\n",
       "       -108.4034044 ,    8.68821367,  -67.80372717,  110.31012052,\n",
       "         69.68504878,  -20.00135208,  170.12369737,  180.00887887,\n",
       "        100.7203963 ,  121.89717768,   17.78824925, -186.38846059,\n",
       "       -118.33270532,   56.96147401, -131.60567327, -129.89606602,\n",
       "         77.57386585,   39.18979354,   83.38938697,  217.90016931,\n",
       "        -10.76078692,  -94.45320274,  -38.00440825,    1.29954983,\n",
       "         94.83334018,  -53.14160338,   18.17371917, -133.32065909,\n",
       "        -11.47890983,   29.52391803,  122.00777982, -154.48411657,\n",
       "         98.23909476,  -40.55125211,  -13.55033949,   49.84089924,\n",
       "        -61.29137939,   79.68203636, -107.05082033, -115.24392972,\n",
       "       -156.21648389,  188.53598869,  -18.55633679,   17.19000533,\n",
       "        -59.59965211,  159.08214254, -122.81097572,   35.33812371,\n",
       "         34.1051253 ,   -1.20148461,  102.18606898, -104.25392979,\n",
       "        -95.79722133,  119.0869365 ,   23.71536929,   64.88548896,\n",
       "        -31.03639716,   88.027479  ,  106.96263196, -170.36944129,\n",
       "        136.03477336, -128.16373009,   77.34866524,   71.49397949,\n",
       "        -31.90496102,   16.37441829,  -84.96152352,   88.36798249,\n",
       "         46.78394683, -105.02086547,  -34.73191853,   61.24418629,\n",
       "        -46.86355066,   71.51836087,  110.95776481,  -82.12741757,\n",
       "         76.25052926, -101.14022795, -209.63210597,  -58.1863356 ,\n",
       "         -3.27188211,   -7.9022952 ,  123.53569   ,  -98.55526206,\n",
       "         42.78397864,   79.72962304,  -68.28594669,  174.19394052,\n",
       "        173.58130924,  -89.72799569,    6.1606687 ,   99.56008833,\n",
       "        118.23862291,  107.98929302,   59.34419025,   98.37523439,\n",
       "        -62.34976501,  173.83100245,   98.15830724,   91.26268341,\n",
       "        133.09300309,  134.55705654,   -8.51129097,   74.54467144,\n",
       "         46.48849644,   37.43061708,   54.37994707, -218.06568966,\n",
       "         45.42245178,  -69.77269578,  -80.12442387,  -44.54464673,\n",
       "        -24.05921985,  -85.19220451,  -18.08287821,  -13.08916988,\n",
       "         14.80747967,  -19.11833617,   65.76286695, -139.65470776,\n",
       "       -155.77462333,  -22.7551776 ,   27.50164788, -177.24352543,\n",
       "        209.09344639, -100.88589668,    9.87322937,  -29.16913162,\n",
       "          7.86791657,   52.47909085,  268.27553256,  119.59822387,\n",
       "        -91.34703388,   -3.75565332,  188.21953926,  -31.61420777,\n",
       "        -71.13648676, -211.20670185,   27.68543479,  -25.12089251,\n",
       "       -121.63113375,  -75.19298037,  -15.37373113,  -34.22892664,\n",
       "       -216.79112999,  -40.90854684,  100.61794469,  -58.70063861,\n",
       "        -84.86568841,   96.4736876 ,  -57.36569172,  -58.11931656,\n",
       "        151.41899611,   79.30351231,   13.51634083,   56.70223911,\n",
       "       -102.10438378,  127.03454652,   45.79128708,   76.00037174,\n",
       "        -18.02124529,   26.15850237,   21.37919272,  144.55638447,\n",
       "        209.15276917,   11.83987352,  -87.78180855,  102.96123223,\n",
       "        120.97541337,  -68.29594696, -135.2652983 , -127.30019858,\n",
       "        -29.36118439,  156.74333583,   15.89658156,   71.51132813,\n",
       "       -256.89912214,   90.93783619, -120.06774204,  113.01619333,\n",
       "         62.4796097 ,  -99.32082209,  -13.46179705,  108.5553323 ,\n",
       "         28.34562938,   66.49734738,   11.60960118,  -16.43398941,\n",
       "       -136.19687025,   37.15543327, -121.92979907, -105.43152024,\n",
       "        -55.97734351,  104.49270816,  131.38676021,   48.5353089 ,\n",
       "         32.87830525,  106.97157522,  258.49094051,   38.88178597,\n",
       "         37.22888092, -112.29633945,   37.10981416,   66.41521672,\n",
       "        -61.19805975,  -28.6936191 ,   18.95294203,  137.25373912,\n",
       "        105.9092031 ,   23.22990373,    3.04717419,  -60.23543034,\n",
       "         41.12857788,   43.72008094,   88.02752255, -100.60235564,\n",
       "        -82.05308809, -245.4725786 ,  -26.13835438, -103.41164308,\n",
       "        172.65489631,  189.91729173,  -70.48347251,  -86.45788459,\n",
       "         29.86389988, -123.03572158,   -8.93934728,  203.51976119,\n",
       "         54.03339229,   -0.36318569,  -39.14057457,  -55.06697126,\n",
       "        -26.22686221, -224.90507014, -210.38414561,  -24.09407078,\n",
       "        104.23098183,   24.23891638, -171.37244861,  -37.03656165,\n",
       "       -163.41943622,   28.537295  ,  -36.29255221, -240.7416273 ,\n",
       "        274.45615617,  159.5605317 ,   81.41449862,   49.45814133,\n",
       "        202.88386381,   70.41207304,   11.01396852,  -89.77670825,\n",
       "        172.00567333,    9.61430156,  -42.46983792,   79.98565723,\n",
       "         38.63879223,   25.93128679,   13.26629665,   57.00920151,\n",
       "        196.22486964, -115.25098096,  -19.12063242,  101.93083188,\n",
       "         46.99740313,  -63.76405441, -210.90765648,  102.17005906,\n",
       "         96.68942009,   44.04234481,   38.33778328,   48.2407724 ,\n",
       "        -66.11367851,  -49.28303555,  -83.30563182,  -61.35528323,\n",
       "        110.11388516,  -29.74939688,  -30.96392888,   57.570554  ,\n",
       "         82.31870717,    7.30808499,  165.1532687 ,  164.84782431,\n",
       "       -120.95020633,   32.03494919,  -44.33141845,  -88.40466424,\n",
       "        -30.51108111,   65.29025121,   -8.51747782,   63.00857164,\n",
       "        115.88053127,   27.59565884,  101.10791233,  112.41011889,\n",
       "         -0.93605705,  227.90468983,   18.08541045,  -25.90354378,\n",
       "          4.06507281,    3.0221959 ,   65.17101256,  165.09874109,\n",
       "        -12.36841854,  -37.28307315,  226.69571022,  -70.30122978,\n",
       "         40.0563134 ,  -55.74864631,  209.41403234,  -86.60199031,\n",
       "         -7.00262499,    5.9460183 ,   13.56372975,   29.42444639,\n",
       "         14.9114063 ,  -66.49002411,   59.28527952,   52.29507857,\n",
       "        -27.00804703,   92.92381674,    3.53310156,   38.57712551,\n",
       "         61.83382577,  -83.68451263,  106.83397548,  156.73448428,\n",
       "        -58.81738508,    1.86772991,  -59.61440863,  -79.41930404,\n",
       "        -35.3499533 ,  164.86229997,  -20.68853607,   58.48356738,\n",
       "        103.19061885,  105.91781277,  120.71717487,  -40.69121661,\n",
       "       -113.94165479,  -21.47910697,  -50.25031124,    3.21189319,\n",
       "         -5.88170435,  102.9767483 ,  -16.37119098, -133.23366585,\n",
       "        -56.30354607, -151.83432502,  185.11547706,   56.83350909,\n",
       "       -249.31886112,    3.68653432,  -22.12530974, -114.36402221,\n",
       "        -50.16230182,  -75.76755905,  -85.52303848, -147.84814122,\n",
       "        108.35243568,  226.65353847,  -96.36785552,  -39.68598383,\n",
       "        -86.01388982,   87.1805616 ,  -70.84482471,  -63.55540937,\n",
       "        107.93508901,   -0.48833141,  -83.67051006,  170.80534661,\n",
       "         32.41993023,   24.99486443,   -9.98169225,   73.6976363 ,\n",
       "          8.99865215,   30.01753998,   87.41664688,  -43.33978852,\n",
       "        -87.06856143,  -25.6836845 ,   50.4929279 ,   14.31734978,\n",
       "        230.39164193,  -86.70521423,   30.43377871, -109.93816971,\n",
       "        112.16765363,   50.64134291,   40.1025377 ,  -80.40981078,\n",
       "        187.88329939, -105.83002053, -272.15975692, -145.98662136,\n",
       "         79.67444908,  125.630081  , -164.06538873,  132.34724584,\n",
       "       -232.71881547,  118.79141869,  151.46539404,   74.56385525,\n",
       "         11.64430707,   40.23886819,  192.74390683,  257.66037789,\n",
       "        182.18260996,  -65.89947269,    2.37100176,  155.12219715,\n",
       "         22.41907157,   74.31164437, -124.64918944,   36.55888609,\n",
       "         75.61912019,  -81.84750641,   35.82905903,  -84.62938025,\n",
       "         57.2801161 ,   24.60293803,  -14.80197323,  -77.54026492,\n",
       "        124.23167982, -156.85160202,   12.32447254,  126.75691791,\n",
       "         54.84992879,  -64.9793528 ,   41.32540164,   94.89301711,\n",
       "         41.43634495,  -44.52044277,   -3.50696422,  -15.70389176,\n",
       "       -134.45726905,  -74.63407525,  124.22900904,   67.82976973,\n",
       "         70.53439752,  148.99817958,   94.87574615,   95.75153019,\n",
       "         31.95837358,  140.10749401,   95.37884101,    7.06739971,\n",
       "        -93.84359365,  -42.86495055,  -76.87250708,  -48.36701412,\n",
       "        -35.62013068,  -36.67417603,  -45.93082825, -234.41554664,\n",
       "         95.02876171,   44.49063009,  -35.45810218,   27.72458341,\n",
       "       -108.20472712,  283.03830095,  -83.64200291,  158.77887085,\n",
       "        -75.41987697,   65.76884157,  -24.75818336,   22.33114257,\n",
       "        -70.2754763 ,  -56.68117935,  -21.66339508,  -62.45611099,\n",
       "         -4.7507016 ,    3.36375213,   25.49719113,   35.49159976,\n",
       "        135.57554667,  246.84280717,  114.48048778, -182.0264974 ,\n",
       "        -26.9503401 ,   -2.80046331,   -9.65283144,  171.46360516,\n",
       "          2.39277786, -100.56736889,  -57.52594247,    3.25863133,\n",
       "       -114.79272851, -132.27697164,  -99.17786628,  -53.70246975,\n",
       "        -16.05665482,  -51.44796194,   94.37994558, -120.08739008,\n",
       "         75.82280292,   21.49027531,  -27.31357855,   24.36094851,\n",
       "         11.5225466 ,  120.88840571,   56.39576982,    3.02359905,\n",
       "        190.5601904 ,   58.51074296,  193.85555449,   37.03364698,\n",
       "        -70.91053594,  214.94295748,  154.82630053,  -55.40650415,\n",
       "         -8.31690029,   64.6142963 ,    8.67522975,  113.34089261,\n",
       "        -40.40870721,   68.16298248,   34.52357082,  -12.45671521,\n",
       "         90.29599492,   58.79465139, -113.67487465,  -82.63041993,\n",
       "       -126.81184006,  102.36984926,   52.85802161,  113.2112855 ,\n",
       "         43.34811714,   66.55937195, -131.56424658, -163.76108434,\n",
       "         31.57670337,   15.78237241,  124.94981314,  139.33978729,\n",
       "        172.47563823,  112.33791436,   25.48616858, -242.40538359,\n",
       "        -70.06802521, -126.41396293,   15.01540799,  325.95860569,\n",
       "         20.01543543, -118.23598673,   41.29488119,  100.37191381,\n",
       "         71.37251465,  -54.71841869,  -51.57568048,  102.05393606,\n",
       "        -22.1311763 , -116.29677432,  -29.4711992 ,   -0.41953648,\n",
       "       -113.96322564,  101.84494511,   42.86867898,   36.28601228,\n",
       "         -8.79623506,  -26.02761218,  140.28654041,   32.32358262,\n",
       "         35.08470159, -216.39898555,  -54.06694039,  -29.24724348,\n",
       "         45.71658478,  -55.04974391,  105.50527195,  124.8990579 ,\n",
       "        -17.97451555,  181.13598966,  -54.27373756,  172.68190172,\n",
       "       -109.64884584,  -42.6221268 ,   85.9419869 ,  122.78149772,\n",
       "       -187.39783012,  -88.85508153,   14.21593305,  -51.71759014,\n",
       "       -103.04241579,   -7.11609521,   45.85369491,  -58.38296447,\n",
       "        -48.08575271,    1.47193022,  123.27509647,  121.66315403,\n",
       "        -30.73893381, -224.12546392,  149.44269682,   27.17623728,\n",
       "         -2.98977195,   49.65229808,   27.3016367 ,  131.96603943,\n",
       "        -40.5855011 ,   36.88045103,  -90.51099817,   14.67689217,\n",
       "         94.74235762,  133.89836595,  -21.50805435,   -2.20715738,\n",
       "        263.85628901, -103.24627748,  -43.68448947,    4.85443769,\n",
       "        156.27224025,  -49.99324807,  -61.29057701,    3.75598315,\n",
       "       -198.65912405, -132.77553321,   -3.31120094, -126.96294804,\n",
       "        -45.86851362,  116.34722207,  -76.2550885 ,  -22.06861853,\n",
       "        -89.60462405,  -20.19629007,   28.59289005,   -8.9760294 ,\n",
       "         88.76471298,   -5.689943  ,   73.08561503,  -23.75121325])"
      ]
     },
     "execution_count": 10,
     "metadata": {},
     "output_type": "execute_result"
    }
   ],
   "source": [
    "muestra"
   ]
  },
  {
   "cell_type": "code",
   "execution_count": 11,
   "id": "e8af7a75",
   "metadata": {},
   "outputs": [
    {
     "data": {
      "image/png": "[encoded data removed]",
      "text/plain": [
       "<Figure size 640x480 with 1 Axes>"
      ]
     },
     "metadata": {},
     "output_type": "display_data"
    }
   ],
   "source": [
    "# histograma de distribución \n",
    "plt.hist(muestra,bins=20,density=True,cumulative=False,color=\"red\")\n",
    "plt.ylabel('frequencia')\n",
    "plt.xlabel('valores')\n",
    "plt.title('Histograma de muestra')\n",
    "plt.show()"
   ]
  },
  {
   "cell_type": "code",
   "execution_count": 12,
   "id": "36f51f26",
   "metadata": {},
   "outputs": [
    {
     "data": {
      "text/plain": [
       "12.283210948960267"
      ]
     },
     "execution_count": 12,
     "metadata": {},
     "output_type": "execute_result"
    }
   ],
   "source": [
    "muestra.mean()"
   ]
  },
  {
   "cell_type": "code",
   "execution_count": 13,
   "id": "23ff0df7",
   "metadata": {},
   "outputs": [
    {
     "data": {
      "text/plain": [
       "10.202204251709329"
      ]
     },
     "execution_count": 13,
     "metadata": {},
     "output_type": "execute_result"
    }
   ],
   "source": [
    "Poblacion.mean()"
   ]
  },
  {
   "cell_type": "code",
   "execution_count": 14,
   "id": "45162934",
   "metadata": {},
   "outputs": [
    {
     "data": {
      "text/plain": [
       "100.47594871808762"
      ]
     },
     "execution_count": 14,
     "metadata": {},
     "output_type": "execute_result"
    }
   ],
   "source": [
    "muestra.std()"
   ]
  },
  {
   "cell_type": "code",
   "execution_count": 15,
   "id": "9ec10aeb",
   "metadata": {},
   "outputs": [],
   "source": [
    "# Para las medias\n",
    "means=[]\n",
    "\n",
    "for i in range(1_000):\n",
    "    aux = np.random.choice(Poblacion,1000,replace=False)\n",
    "    means.append(aux.mean())"
   ]
  },
  {
   "cell_type": "code",
   "execution_count": 16,
   "id": "62814374",
   "metadata": {},
   "outputs": [
    {
     "data": {
      "image/png": "[encoded data removed]",
      "text/plain": [
       "<Figure size 640x480 with 1 Axes>"
      ]
     },
     "metadata": {},
     "output_type": "display_data"
    }
   ],
   "source": [
    "# histograma de distribución \n",
    "plt.hist(means,bins=20,density=True,cumulative=False,color=\"red\")\n",
    "plt.ylabel('frequencia')\n",
    "plt.xlabel('valores')\n",
    "plt.title('Histograma de medias')\n",
    "plt.show()"
   ]
  },
  {
   "cell_type": "markdown",
   "id": "6bb0bd48",
   "metadata": {},
   "source": [
    "Demostrar el Teorema del Límite Central (TLC): Aunque la población tiene una gran variabilidad (desviación estándar de 100), las medias muestrales tenderán a seguir una distribución normal "
   ]
  },
  {
   "cell_type": "code",
   "execution_count": 17,
   "id": "604cc106",
   "metadata": {},
   "outputs": [
    {
     "data": {
      "text/plain": [
       "10.340470115011318"
      ]
     },
     "execution_count": 17,
     "metadata": {},
     "output_type": "execute_result"
    }
   ],
   "source": [
    "np.mean(means)"
   ]
  },
  {
   "cell_type": "code",
   "execution_count": 18,
   "id": "6397576c",
   "metadata": {},
   "outputs": [
    {
     "data": {
      "text/plain": [
       "3.3295081241962174"
      ]
     },
     "execution_count": 18,
     "metadata": {},
     "output_type": "execute_result"
    }
   ],
   "source": [
    "np.std(means)"
   ]
  },
  {
   "cell_type": "markdown",
   "id": "a3184bbe",
   "metadata": {},
   "source": [
    "# Varianza de las Medias Muestrales y el Teorema del Límite Central\n",
    "\n",
    "Cuando calculamos medias muestrales a partir de una población, la **desviación estándar de las medias muestrales** (también llamada error estándar de la media) es menor que la desviación estándar de la población. Esto se debe al **teorema del límite central**, que establece que:\n",
    "\n",
    "1. La **media de las medias muestrales** es igual a la media de la población ($\\mu = 10$ en este caso).\n",
    "2. La **desviación estándar de las medias muestrales** se calcula como:\n",
    "   $$\n",
    "   \\text{Error estándar} = \\frac{\\sigma}{\\sqrt{n}}\n",
    "   $$\n",
    "   donde $\\sigma$ es la desviación estándar de la población y $n$ el tamaño de la muestra.\n",
    "\n",
    "En tu ejemplo:\n",
    "- $\\sigma = 100$, $n = 1000$.\n",
    "- Error estándar = $\\frac{100}{\\sqrt{1000}} \\approx 3.16$.\n",
    "\n",
    "Esto explica por qué la **media de las medias sigue siendo 10**, pero su desviación estándar baja a **3.16** en lugar de 100: las medias muestrales están menos dispersas, ya que promedian más datos, reduciendo la variabilidad aleatoria.\n"
   ]
  },
  {
   "cell_type": "code",
   "execution_count": 19,
   "id": "632124c7",
   "metadata": {
    "scrolled": true
   },
   "outputs": [
    {
     "data": {
      "text/plain": [
       "3.1632344654622284"
      ]
     },
     "execution_count": 19,
     "metadata": {},
     "output_type": "execute_result"
    }
   ],
   "source": [
    "# entonces la varianza de las medias\n",
    "\n",
    "Poblacion.std()/np.sqrt(len(muestra))\n"
   ]
  },
  {
   "cell_type": "markdown",
   "id": "347c280f",
   "metadata": {},
   "source": [
    "# Relación entre los valores de Z y los porcentajes en una distribución normal\n",
    "\n",
    "Para construir un intervalo de confianza, necesitamos relacionar los valores de **Z** con el porcentaje de datos de la población que se encuentra incluido entre esos valores. Esto se representa como $(1 - \\alpha)\\%$, donde $\\alpha$ es el nivel de significancia.\n",
    "\n",
    "---\n",
    "\n",
    "## Definición de nivel de confianza y nivel de significancia\n",
    "\n",
    "Si definimos un nivel de confianza del **90%**, esto implica que el intervalo incluirá el parámetro poblacional en el 90% de los casos. El nivel de significancia $\\alpha$ será:\n",
    "\n",
    "$$\n",
    "\\alpha = 1 - \\text{nivel de confianza} = 1 - 0.90 = 0.10 \\quad \\text{(10%)}.\n",
    "$$\n",
    "\n",
    "El **complemento del nivel de confianza** representa la probabilidad de que el intervalo **no contenga** el verdadero parámetro poblacional.\n",
    "\n",
    "---\n",
    "\n",
    "## Distribución del error en las colas\n",
    "\n",
    "En una distribución normal, la probabilidad $\\alpha$ se distribuye de manera **simétrica** entre las dos colas (izquierda y derecha). Por lo tanto, en lugar de asignar todo el 10% a una cola, se divide entre dos:\n",
    "\n",
    "$$\n",
    "\\frac{\\alpha}{2} = \\frac{0.10}{2} = 0.05 \\quad \\text{(5% en cada cola)}.\n",
    "$$\n",
    "\n",
    "Esto significa que buscaremos los valores críticos $Z_{\\alpha/2}$ y $-Z_{\\alpha/2}$, que corresponden a los puntos donde el área acumulada de cada cola es del 5%.\n",
    "\n",
    "---\n",
    "\n",
    "## Relación con la distribución normal estándar\n",
    "\n",
    "Recordemos que la **distribución normal estándar** es simétrica alrededor de la media ($\\mu = 0$), lo que implica que:\n",
    "\n",
    "- El valor crítico en la cola izquierda es $-Z_{\\alpha/2}$.\n",
    "- El valor crítico en la cola derecha es $Z_{\\alpha/2}$.\n",
    "\n",
    "Estos valores se utilizan para construir el intervalo de confianza. Para un nivel de confianza del **90%**, el valor de $Z_{\\alpha/2}$ se obtiene de tablas de la distribución normal o software estadístico, y es aproximadamente **$Z_{0.05} = 1.645$**.\n",
    "\n",
    "---\n",
    "\n",
    "## Resumen visual\n",
    "\n",
    "1. Nivel de confianza: **90%**.\n",
    "2. Nivel de significancia: **$\\alpha = 10\\%$**.\n",
    "3. Distribución del error: **5% en cada cola**.\n",
    "4. Valores críticos: $-Z_{0.05}$ y $Z_{0.05}$, con $Z_{0.05} = 1.645$.\n",
    "\n",
    "Usamos estos valores para construir un intervalo de confianza alrededor de la media muestral.\n"
   ]
  },
  {
   "cell_type": "code",
   "execution_count": 20,
   "id": "03827fc5",
   "metadata": {},
   "outputs": [
    {
     "name": "stdout",
     "output_type": "stream",
     "text": [
      "El centil del 5% de una distribución normal estándar es: -1.6448536269514729\n"
     ]
    }
   ],
   "source": [
    "import scipy.stats as stats\n",
    "\n",
    "# Calcular el percentil del 5% de una distribución normal estándar \n",
    "\n",
    "percentil_5 = stats.norm.ppf(0.05)\n",
    "\n",
    "print(\"El centil del 5% de una distribución normal estándar es:\", percentil_5)"
   ]
  },
  {
   "cell_type": "markdown",
   "id": "1c44cd83",
   "metadata": {},
   "source": [
    "Por lo que nuestras Z´s en el ejemplo serían - 1.64 y 1.64"
   ]
  },
  {
   "cell_type": "code",
   "execution_count": 21,
   "id": "6a5a7437",
   "metadata": {},
   "outputs": [
    {
     "name": "stdout",
     "output_type": "stream",
     "text": [
      "El percentil del 5% de una distribución normal estándar es: -1.6449\n",
      "El percentil del 2.5% de una distribución normal estándar (para un intervalo de confianza del 95%) es: -1.9600\n",
      "El percentil del 0.5% de una distribución normal estándar (para un intervalo de confianza del 99%) es: -2.5758\n"
     ]
    }
   ],
   "source": [
    "from scipy import stats\n",
    "\n",
    "# Cálculo de percentiles en una distribución normal estándar\n",
    "print(f\"El percentil del 5% de una distribución normal estándar es: {stats.norm.ppf(0.05):.4f}\")\n",
    "print(f\"El percentil del 2.5% de una distribución normal estándar (para un intervalo de confianza del 95%) es: {stats.norm.ppf(0.025):.4f}\")\n",
    "print(f\"El percentil del 0.5% de una distribución normal estándar (para un intervalo de confianza del 99%) es: {stats.norm.ppf(0.005):.4f}\")\n"
   ]
  },
  {
   "cell_type": "markdown",
   "id": "1d7f0dc2",
   "metadata": {},
   "source": [
    "# Construcción del Intervalo de Confianza\n",
    "\n",
    "Sustituyendo los valores críticos de la **distribución normal estándar** en la fórmula del intervalo de confianza, tenemos:\n",
    "\n",
    "$$\n",
    "\\bar{x} \\pm Z_{\\alpha/2} \\cdot \\frac{\\sigma}{\\sqrt{n}}\n",
    "$$\n",
    "\n",
    "Donde:\n",
    "- $\\bar{x}$: Media muestral.\n",
    "- $Z_{\\alpha/2}$: Valor crítico de la distribución normal estándar para el nivel de confianza deseado.\n",
    "- $\\sigma$: Desviación estándar de la población.\n",
    "- $n$: Tamaño de la muestra.\n",
    "\n",
    "Este método se puede utilizar cuando:\n",
    "1. La muestra es suficientemente grande (típicamente $n \\geq 30$).\n",
    "2. La distribución de la población es normal.\n",
    "3. Se conoce la desviación estándar poblacional $\\sigma$.\n",
    "\n",
    "---\n",
    "\n",
    "## Para muestras pequeñas ($n < 30$)\n",
    "\n",
    "En el caso de muestras pequeñas, es decir, cuando $n < 30$, no podemos asumir que las medias muestrales siguen una distribución normal estándar. En su lugar, utilizamos la **distribución t de Student**, la cual es más adecuada debido a la mayor variabilidad que presentan las medias muestrales con tamaños pequeños.\n",
    "\n",
    "El intervalo de confianza se construye como:\n",
    "\n",
    "$$\n",
    "\\bar{x} \\pm t_{\\alpha/2, \\, df} \\cdot \\frac{s}{\\sqrt{n}}\n",
    "$$\n",
    "\n",
    "Donde:\n",
    "- $\\bar{x}$: Media muestral.\n",
    "- $t_{\\alpha/2, \\, df}$: Valor crítico de la distribución t con $df = n - 1$ grados de libertad.\n",
    "- $s$: Desviación estándar muestral (se usa porque $\\sigma$ normalmente no es conocida para muestras pequeñas).\n",
    "- $n$: Tamaño de la muestra.\n",
    "\n",
    "---\n",
    "\n",
    "### Notas importantes:\n",
    "- La **distribución t** es similar a la normal, pero tiene colas más gruesas, lo que refleja mayor incertidumbre para muestras pequeñas.\n",
    "- A medida que el tamaño de la muestra crece ($n \\to \\infty$), la distribución t se aproxima a la distribución normal estándar.\n",
    "\n",
    "Este procedimiento es especialmente útil cuando la población tiene una distribución normal y no se conoce el valor de la desviación estándar poblacional.\n"
   ]
  },
  {
   "cell_type": "code",
   "execution_count": 22,
   "id": "0f874d02",
   "metadata": {},
   "outputs": [
    {
     "name": "stdout",
     "output_type": "stream",
     "text": [
      "Intervalo de confianza del 95% (muestra grande): (48.04, 51.96)\n"
     ]
    }
   ],
   "source": [
    "# Datos\n",
    "media_muestral = 50  # Media de la muestra\n",
    "sigma = 10  # Desviación estándar poblacional\n",
    "n = 100  # Tamaño de la muestra\n",
    "nivel_confianza = 0.95  # Nivel de confianza\n",
    "\n",
    "# Valor crítico Z para el nivel de confianza\n",
    "z_alpha_2 = stats.norm.ppf(1 - (1 - nivel_confianza) / 2)\n",
    "\n",
    "# Error estándar\n",
    "error_estandar = sigma / np.sqrt(n)\n",
    "\n",
    "# Intervalo de confianza\n",
    "limite_inferior = media_muestral - z_alpha_2 * error_estandar\n",
    "limite_superior = media_muestral + z_alpha_2 * error_estandar\n",
    "\n",
    "print(f\"Intervalo de confianza del 95% (muestra grande): ({limite_inferior:.2f}, {limite_superior:.2f})\")"
   ]
  },
  {
   "cell_type": "code",
   "execution_count": 23,
   "id": "0a76b53c",
   "metadata": {},
   "outputs": [
    {
     "data": {
      "text/plain": [
       "0.975"
      ]
     },
     "execution_count": 23,
     "metadata": {},
     "output_type": "execute_result"
    }
   ],
   "source": [
    "1 - (1 - nivel_confianza) / 2"
   ]
  },
  {
   "cell_type": "code",
   "execution_count": 24,
   "id": "537ffa36",
   "metadata": {},
   "outputs": [
    {
     "name": "stdout",
     "output_type": "stream",
     "text": [
      "Intervalo de confianza del 95% (muestra pequeña): (44.46, 55.54)\n"
     ]
    }
   ],
   "source": [
    "# Datos\n",
    "media_muestral = 50  # Media de la muestra\n",
    "s = 10  # Desviación estándar muestral\n",
    "n = 15  # Tamaño de la muestra\n",
    "nivel_confianza = 0.95  # Nivel de confianza\n",
    "\n",
    "# Grados de libertad\n",
    "gl = n - 1\n",
    "\n",
    "# Valor crítico t para el nivel de confianza\n",
    "t_alpha_2 = stats.t.ppf(1 - (1 - nivel_confianza) / 2, gl)\n",
    "\n",
    "# Error estándar\n",
    "error_estandar = s / np.sqrt(n)\n",
    "\n",
    "# Intervalo de confianza\n",
    "limite_inferior = media_muestral - t_alpha_2 * error_estandar\n",
    "limite_superior = media_muestral + t_alpha_2 * error_estandar\n",
    "\n",
    "print(f\"Intervalo de confianza del 95% (muestra pequeña): ({limite_inferior:.2f}, {limite_superior:.2f})\")\n"
   ]
  },
  {
   "cell_type": "markdown",
   "id": "db9d3b6a",
   "metadata": {},
   "source": [
    "# Pruebas de Hipótesis\n",
    "\n",
    "## **Conceptos Preliminares**\n",
    "\n",
    "Supongamos que una empresa produce bombillos y se espera que su vida útil sea de **1000 horas**. Debido a quejas, la gerencia desea verificar si la vida media de los bombillos realmente es **1000 horas** o si es menor. Como no podemos analizar toda la población, debemos tomar una muestra para realizar la prueba y verificar su vida media.\n",
    "\n",
    "### Importancia del Muestreo\n",
    "La muestra siempre está sujeta a variabilidad, lo que implica que:\n",
    "- La vida media podría ser **sobreestimada** o **subestimada** debido al azar.\n",
    "- Esto genera un riesgo inherente al proceso de muestreo.\n",
    "\n",
    "---\n",
    "\n",
    "## **¿Qué es una Hipótesis?**\n",
    "Una **hipótesis** es una afirmación o conjetura sobre un parámetro poblacional que está sujeta a verificación.\n",
    "\n",
    "### **Prueba de Hipótesis**\n",
    "Es un procedimiento basado en:\n",
    "1. **Evidencia de la muestra.**\n",
    "2. **Teoría de probabilidades.**\n",
    "\n",
    "Este procedimiento permite determinar si la hipótesis planteada es razonable.\n",
    "\n",
    "---\n",
    "\n",
    "## **Ejemplo**\n",
    "Se desea probar:\n",
    "- **Hipótesis Nula ($H_0$):** La vida media de los bombillos es **1000 horas**.\n",
    "- **Hipótesis Alternativa ($H_1$):** La vida media de los bombillos es **menor que 1000 horas**.\n",
    "\n",
    "Expresado matemáticamente:\n",
    "$$\n",
    "H_0: \\mu = 1000 \\\\\n",
    "H_1: \\mu < 1000\n",
    "$$\n",
    "\n",
    "Supongamos que se toma una muestra de **30 bombillos** y se obtiene una media muestral de **985 horas**. ¿Es esto suficiente evidencia para concluir que la vida media es menor que 1000 horas?\n",
    "\n",
    "---\n",
    "\n",
    "## **Decisión: ¿Cuándo Rechazar $H_0$?**\n",
    "La **hipótesis nula** se rechaza **solo** si los datos muestrales ofrecen suficiente evidencia para no considerarla verdadera. \n",
    "\n",
    "Dado que las muestras se obtienen al azar, las diferencias entre la media muestral y la media poblacional podrían deberse simplemente al azar y no a un problema real.\n",
    "\n",
    "---\n",
    "\n",
    "## **Nivel de Significancia ($\\alpha$)**\n",
    "Es la **probabilidad de rechazar la hipótesis nula cuando esta es verdadera**. Normalmente se fija en valores como:\n",
    "- $\\alpha = 0.05$ (5%).\n",
    "- $\\alpha = 0.01$ (1%).\n",
    "\n",
    "Este nivel representa el criterio para decidir si los datos muestrales proporcionan suficiente evidencia para rechazar $H_0$.\n",
    "\n",
    "---\n",
    "\n",
    "## **Tipos de Errores**\n",
    "1. **Error Tipo I ($\\alpha$):**\n",
    "   - Rechazar $H_0$ cuando es verdadera.\n",
    "   - Ejemplo: Concluir erróneamente que la vida media es menor a 1000 horas, implicando costos innecesarios al mejorar procesos que no requieren ajuste.\n",
    "\n",
    "2. **Error Tipo II ($\\beta$):**\n",
    "   - No rechazar $H_0$ cuando es falsa.\n",
    "   - Ejemplo: Concluir que la vida media es 1000 horas cuando en realidad es menor, causando insatisfacción de los clientes.\n",
    "\n",
    "---\n",
    "\n",
    "## **Estadístico de Prueba**\n",
    "Es un valor calculado a partir de la muestra que se contrasta con un **valor crítico**. Este proceso permite decidir si se acepta o rechaza la hipótesis nula.\n",
    "\n",
    "---\n",
    "\n",
    "## **Tipos de Pruebas**\n",
    "1. **Prueba de Una Cola (Inferior):**\n",
    "   - $H_1: \\mu < 1000$\n",
    "\n",
    "2. **Prueba de Una Cola (Superior):**\n",
    "   - $H_1: \\mu > 1000$\n",
    "\n",
    "3. **Prueba de Dos Colas:**\n",
    "   - $H_1: \\mu \\neq 1000$\n",
    "\n",
    "Cada tipo de prueba depende de la hipótesis planteada y la dirección en la que se espera observar una diferencia significativa.\n",
    "\n",
    "---\n",
    "\n",
    "## **Resumen del Proceso**\n",
    "1. **Plantear $H_0$ y $H_1$.**\n",
    "2. **Definir $\\alpha$.**\n",
    "3. **Calcular el estadístico de prueba.**\n",
    "4. **Comparar el estadístico con el valor crítico.**\n",
    "5. **Tomar una decisión:** Rechazar o no rechazar $H_0$.\n",
    "\n"
   ]
  },
  {
   "cell_type": "markdown",
   "id": "697947ce",
   "metadata": {},
   "source": [
    "###  Ejemplo de medias"
   ]
  },
  {
   "cell_type": "markdown",
   "id": "40d00496",
   "metadata": {},
   "source": [
    "# Ejemplo: Prueba de Hipótesis para la Media Poblacional\n",
    "\n",
    "### **Planteamiento del problema**\n",
    "Se tiene una muestra de datos generados aleatoriamente con:\n",
    "- Media poblacional esperada: $\\mu = 800$\n",
    "- Desviación estándar: $\\sigma = 100$\n",
    "- Tamaño de la muestra: $n = 40$\n",
    "\n",
    "La muestra observada sugiere que la media podría ser menor a 800. Vamos a realizar una prueba de hipótesis a un nivel de significancia del 5% ($\\alpha = 0.05$) para determinar si la media poblacional es efectivamente 800.\n",
    "\n",
    "---\n",
    "\n",
    "### **Paso 1: Plantear las hipótesis**\n",
    "- **Hipótesis nula ($H_0$):** $\\mu = 800$ (la media poblacional es 800).\n",
    "- **Hipótesis alternativa ($H_1$):** $\\mu < 800$ (la media poblacional es menor que 800).\n",
    "\n",
    "Esta es una prueba de una cola (cola izquierda) porque estamos probando si la media es menor que 800.\n",
    "\n",
    "---\n",
    "\n",
    "### **Paso 2: Nivel de significancia**\n",
    "Se fija un nivel de significancia de $\\alpha = 0.05$, lo que indica un 5% de probabilidad de cometer un **error tipo I** (rechazar $H_0$ cuando es verdadera).\n",
    "\n",
    "---\n",
    "\n",
    "### **Paso 3: Estadístico de prueba**\n",
    "Para comparar la media muestral con la media poblacional, utilizamos el estadístico $Z$:\n",
    "$$\n",
    "Z = \\frac{\\bar{x} - \\mu}{\\frac{\\sigma}{\\sqrt{n}}}\n",
    "$$\n",
    "donde:\n",
    "- $\\bar{x}$: media muestral.\n",
    "- $\\mu$: media poblacional esperada bajo $H_0$.\n",
    "- $\\sigma$: desviación estándar poblacional.\n",
    "- $n$: tamaño de la muestra.\n",
    "\n",
    "---\n",
    "\n",
    "### **Paso 4: Criterio de rechazo**\n",
    "Obtenemos el valor crítico de $Z$ (también llamado $Z$ tabular) correspondiente a $\\alpha = 0.05$ para una prueba de una cola (cola izquierda):\n",
    "$$\n",
    "Z_{\\text{tabular}} = \\text{stats.norm.ppf(0.05)} \\approx -1.645\n",
    "$$\n",
    "\n",
    "Si el **$Z$ calculado** es menor que $Z_{\\text{tabular}}$, rechazamos $H_0$.\n",
    "\n",
    "\n"
   ]
  },
  {
   "cell_type": "code",
   "execution_count": 25,
   "id": "70d6d321",
   "metadata": {},
   "outputs": [],
   "source": [
    "# Se tiene la siguiente muestra de medias y decimos que la media es 800\n",
    "\n",
    "np.random.seed(1)\n",
    "\n",
    "muestra = np.random.normal(800,100,40)"
   ]
  },
  {
   "cell_type": "code",
   "execution_count": 26,
   "id": "75d49d33",
   "metadata": {},
   "outputs": [],
   "source": [
    "? np.random.normal"
   ]
  },
  {
   "cell_type": "code",
   "execution_count": null,
   "id": "95b9599c",
   "metadata": {},
   "outputs": [],
   "source": [
    "muestra"
   ]
  },
  {
   "cell_type": "code",
   "execution_count": null,
   "id": "cb710824",
   "metadata": {},
   "outputs": [],
   "source": [
    "media = np.mean(muestra)\n",
    "media"
   ]
  },
  {
   "cell_type": "code",
   "execution_count": null,
   "id": "eb5b0590",
   "metadata": {},
   "outputs": [],
   "source": [
    "# Determine a un nivel de significancia del 5% si la media poblacional es efectivamente 800"
   ]
  },
  {
   "cell_type": "code",
   "execution_count": null,
   "id": "7c97556e",
   "metadata": {},
   "outputs": [],
   "source": [
    "stats.norm.ppf(.05 )  # Z tabular"
   ]
  },
  {
   "cell_type": "code",
   "execution_count": null,
   "id": "f2980d81",
   "metadata": {},
   "outputs": [],
   "source": [
    "(media-800)/(100/(np.sqrt(40)))  # Z calculada"
   ]
  },
  {
   "cell_type": "code",
   "execution_count": null,
   "id": "34e76475",
   "metadata": {},
   "outputs": [],
   "source": [
    " np.abs((media-800)/(100/(np.sqrt(40))) ) <  np.abs(stats.norm.ppf(.05 ) ) "
   ]
  },
  {
   "cell_type": "markdown",
   "id": "6dade22c",
   "metadata": {},
   "source": [
    "Paso 5: aceptar o rechazar la hipotesis nula"
   ]
  },
  {
   "cell_type": "markdown",
   "id": "2d980eab",
   "metadata": {},
   "source": [
    "En nuestro caso la Z calculada en absoluto es menor, por lo que caemos en zona de aceptacion "
   ]
  },
  {
   "cell_type": "markdown",
   "id": "fafa7b82",
   "metadata": {},
   "source": [
    "# El p-valor en Pruebas de Hipótesis\n",
    "\n",
    "El **p-valor** es una medida de la probabilidad de que los datos observados (o más extremos) ocurran bajo la suposición de que la hipótesis nula ($H_0$) es verdadera. Sirve como una métrica clave en pruebas de hipótesis para determinar si los resultados son estadísticamente significativos.\n",
    "\n",
    "---\n",
    "\n",
    "## **Definición**\n",
    "El **p-valor** se interpreta como:\n",
    "- La probabilidad de obtener un estadístico de prueba igual o más extremo que el observado, asumiendo que $H_0$ es cierta.\n",
    "- Es un indicador de la **fuerza de la evidencia en contra de $H_0$**:\n",
    "  - Si el p-valor es **pequeño** ($p < \\alpha$), hay suficiente evidencia para rechazar $H_0$.\n",
    "  - Si el p-valor es **grande** ($p \\geq \\alpha$), no se rechaza $H_0$.\n",
    "\n",
    "---\n",
    "\n",
    "## **Pasos para Calcular el p-valor**\n",
    "\n",
    "### **1. Plantear las Hipótesis**\n",
    "- **$H_0$:** Hipótesis nula (afirmación inicial que se desea probar o refutar).\n",
    "- **$H_1$:** Hipótesis alternativa (lo que sospechamos).\n",
    "\n",
    "Ejemplo:\n",
    "- $H_0: \\mu \\leq \\mu_0$ (la media poblacional es menor o igual a un valor dado).\n",
    "- $H_1: \\mu > \\mu_0$ (la media poblacional es mayor que ese valor).\n",
    "\n",
    "---\n",
    "\n",
    "### **2. Identificar el Estadístico de Prueba**\n",
    "Para la media poblacional, el estadístico de prueba es:\n",
    "\n",
    "$$\n",
    "Z = \\frac{\\bar{x} - \\mu_0}{\\frac{\\sigma}{\\sqrt{n}}}\n",
    "$$\n",
    "\n",
    "donde:\n",
    "- $\\bar{x}$: Media muestral.\n",
    "- $\\mu_0$: Media poblacional bajo $H_0$.\n",
    "- $\\sigma$: Desviación estándar poblacional (si es desconocida, se usa la cuasidesviación típica muestral $s$).\n",
    "- $n$: Tamaño de la muestra.\n",
    "\n",
    "---\n",
    "\n",
    "### **3. Calcular el Valor del Estadístico de Prueba**\n",
    "Sustituimos los valores observados (media muestral, tamaño de la muestra, etc.) en la fórmula del estadístico $Z$.\n",
    "\n",
    "---\n",
    "\n",
    "### **4. Calcular el p-valor**\n",
    "El p-valor es el área en la cola de la distribución correspondiente al tipo de prueba:\n",
    "\n",
    "1. **Prueba unilateral derecha ($H_1: \\mu > \\mu_0$):**\n",
    "   - El p-valor es el área a la derecha del valor del estadístico calculado:\n",
    "     $$\n",
    "     p\\text{-valor} = P(Z \\geq Z_{\\text{calculado}})\n",
    "     $$\n",
    "\n",
    "2. **Prueba unilateral izquierda ($H_1: \\mu < \\mu_0$):**\n",
    "   - El p-valor es el área a la izquierda del valor del estadístico calculado:\n",
    "     $$\n",
    "     p\\text{-valor} = P(Z \\leq Z_{\\text{calculado}})\n",
    "     $$\n",
    "\n",
    "3. **Prueba bilateral ($H_1: \\mu \\neq \\mu_0$):**\n",
    "   - El p-valor es el doble del área en una cola:\n",
    "     $$\n",
    "     p\\text{-valor} = 2 \\cdot P(Z \\geq |Z_{\\text{calculado}}|)\n",
    "     $$\n",
    "\n",
    "---\n",
    "\n",
    "### **5. Comparar con el Nivel de Significancia ($\\alpha$)**\n",
    "- Si $p\\text{-valor} < \\alpha$, **rechazamos $H_0$**: Hay suficiente evidencia en contra de la hipótesis nula.\n",
    "- Si $p\\text{-valor} \\geq \\alpha$, **no rechazamos $H_0$**: No hay suficiente evidencia para rechazar la hipótesis nula.\n",
    "\n",
    "---\n",
    "\n",
    "## **Regiones de Aceptación y Rechazo**\n",
    "1. **Región de aceptación:** Zona donde no rechazamos $H_0$. Representada por las áreas fuera de las colas críticas.\n",
    "2. **Región de rechazo:** Zona donde rechazamos $H_0$. Representada por las áreas en las colas críticas.\n",
    "\n",
    "Por ejemplo:\n",
    "- En una prueba unilateral derecha con $\\alpha = 0.05$, la región de rechazo sería el área a la derecha de $Z_{\\alpha} \\approx 1.645$.\n",
    "\n",
    "---\n",
    "\n",
    "## **Relación con el p-valor**\n",
    "- Si el **p-valor es menor que $\\alpha$**, el estadístico cae en la **región de rechazo**.\n",
    "- Si el **p-valor es mayor o igual que $\\alpha$**, el estadístico cae en la **región de aceptación**.\n",
    "\n",
    "---\n",
    "\n",
    "## **Interpretación**\n",
    "- El p-valor mide qué tan consistentes son los datos con $H_0$:\n",
    "  - **p-valor pequeño:** Los datos son inconsistentes con $H_0$ (evidencia en su contra).\n",
    "  - **p-valor grande:** Los datos son consistentes con $H_0$ (no hay evidencia en su contra).\n",
    "\n",
    "### Ejemplo:\n",
    "1. Estadístico de prueba calculado: $Z_{\\text{calculado}} = 1.5$.\n",
    "2. Nivel de significancia: $\\alpha = 0.05$.\n",
    "3. Valor crítico: $Z_{\\text{tabular}} \\approx 1.645$.\n",
    "4. p-valor: $P(Z \\geq 1.5) \\approx 0.0668$.\n",
    "\n",
    "- Como $p\\text{-valor} = 0.0668 > 0.05$, no rechazamos $H_0$.\n",
    "\n",
    "---\n",
    "\n",
    "## **Conclusión**\n",
    "El **p-valor** proporciona una forma probabilística de evaluar la hipótesis nula. Si es pequeño, hay evidencia fuerte para rechazar $H_0$; si es grande, no hay suficiente evidencia para rechazarla.\n",
    "\n",
    "Fórmula clave:\n",
    "$$\n",
    "p\\text{-valor} = \\text{Área en la cola según la dirección del contraste.}\n",
    "$$\n"
   ]
  },
  {
   "cell_type": "markdown",
   "id": "1797c381",
   "metadata": {},
   "source": [
    "# Ejemplo\n",
    "### Contraste de hipótesis\n"
   ]
  },
  {
   "cell_type": "markdown",
   "id": "193f667d",
   "metadata": {},
   "source": [
    "\n",
    "Los test Shapiro-Wilk test y D'Agostino's K-squared test son dos de los test de hipótesis más empleados para analizar la normalidad. En ambos, se considera como hipótesis nula que los datos proceden de una distribución normal.\n",
    "\n",
    "El p-value de estos test indica la probabilidad de obtener unos datos como los observados si realmente procediesen de una población con una distribución normal con la misma media y desviación que estos. Por lo tanto, si el p-value es menor que un determinado valor (típicamente 0.05), entonces se considera que hay evidencias suficientes para rechazar la normalidad.\n",
    "\n",
    "El test de Shapiro-Wilk se desaconseja cuando se dispone de muchos datos (más de 50) por su elevada sensibilidad a pequeñas desviaciones de la normal.\n"
   ]
  },
  {
   "cell_type": "markdown",
   "id": "0f3a3564",
   "metadata": {},
   "source": [
    "$H_o:X \\sim N(\\mu, \\sigma^2)$  \n",
    "$H_a:X \\nsim N(\\mu, \\sigma^2)$"
   ]
  },
  {
   "cell_type": "code",
   "execution_count": null,
   "id": "124e5571",
   "metadata": {},
   "outputs": [],
   "source": [
    "# Shapiro-Wilk test\n",
    "# ==============================================================================\n",
    "shapiro_test = stats.shapiro(np.random.normal(0,1,400))   # .05\n",
    "shapiro_test"
   ]
  },
  {
   "cell_type": "code",
   "execution_count": null,
   "id": "91b3f426",
   "metadata": {},
   "outputs": [],
   "source": [
    "# Shapiro-Wilk test\n",
    "# ==============================================================================\n",
    "shapiro_test = stats.shapiro(np.random.exponential(10,400))\n",
    "shapiro_test"
   ]
  },
  {
   "cell_type": "code",
   "execution_count": null,
   "id": "1e88ea2b",
   "metadata": {},
   "outputs": [],
   "source": [
    "# D'Agostino's K-squared test\n",
    "# ==============================================================================\n",
    "k2, p_value = stats.normaltest(np.random.normal(0,1,400))\n",
    "print(f\"Estadístico = {k2}, p-value = {p_value}\")"
   ]
  },
  {
   "cell_type": "code",
   "execution_count": null,
   "id": "9de124a0",
   "metadata": {},
   "outputs": [],
   "source": [
    "# D'Agostino's K-squared test\n",
    "# ==============================================================================\n",
    "k2, p_value = stats.normaltest(np.random.exponential(10,400))\n",
    "print(f\"Estadístico = {k2}, p-value = {p_value}\")"
   ]
  },
  {
   "cell_type": "markdown",
   "id": "46a287c4",
   "metadata": {},
   "source": [
    "### Prueba Xi cuadrada"
   ]
  },
  {
   "cell_type": "markdown",
   "id": "9b16372f",
   "metadata": {},
   "source": [
    "La hipótesis estadística chi-cuadrado de Pearson es una prueba de independencia entre variables categóricas. \n",
    "El objetivo de la prueba es concluir si las dos variables(sexo y supervivencia) están relacionadas entre sí."
   ]
  },
  {
   "cell_type": "code",
   "execution_count": null,
   "id": "1521c2ba",
   "metadata": {},
   "outputs": [],
   "source": [
    "poblacion = pd.read_csv(\"C:/Users/danie/OneDrive/Documentos/Clases ITAM/Data Science Machine Learning Financial Markets/G10 Presencial/Clases/bases/titanic.csv\")\n",
    "poblacion.head()"
   ]
  },
  {
   "cell_type": "code",
   "execution_count": null,
   "id": "4e109943",
   "metadata": {},
   "outputs": [],
   "source": [
    "poblacion[[\"Sex\"]].value_counts()/poblacion[[\"Sex\"]].value_counts().sum()"
   ]
  },
  {
   "cell_type": "code",
   "execution_count": null,
   "id": "61c646e3",
   "metadata": {},
   "outputs": [],
   "source": [
    "pd.crosstab(poblacion[\"Sex\"],poblacion[\"Survived\"])"
   ]
  },
  {
   "cell_type": "markdown",
   "id": "01fcaf20",
   "metadata": {},
   "source": [
    "$H_o:$ No existe relacion entre las variables   \n",
    "$H_a:$ Existe relacion entre las variables   "
   ]
  },
  {
   "cell_type": "code",
   "execution_count": null,
   "id": "55c3ac16",
   "metadata": {},
   "outputs": [],
   "source": [
    "data=[list(pd.crosstab(poblacion[\"Sex\"],poblacion[\"Survived\"]).iloc[0,:]),list(pd.crosstab(poblacion[\"Sex\"],poblacion[\"Survived\"]).iloc[1,:])]\n",
    "data"
   ]
  },
  {
   "cell_type": "code",
   "execution_count": null,
   "id": "28cba343",
   "metadata": {},
   "outputs": [],
   "source": [
    "from scipy.stats import chi2_contingency \n",
    "  \n",
    "data=[list(pd.crosstab(poblacion[\"Sex\"],poblacion[\"Survived\"]).iloc[0,:]),list(pd.crosstab(poblacion[\"Sex\"],poblacion[\"Survived\"]).iloc[1,:])]\n",
    "\n",
    "stat, p, dof, expected = chi2_contingency(data) \n",
    "  \n",
    "alpha = 0.05\n",
    "\n",
    "print(\"p value is \" + str(p)) \n",
    "\n"
   ]
  },
  {
   "cell_type": "code",
   "execution_count": null,
   "id": "6a95e222",
   "metadata": {},
   "outputs": [],
   "source": [
    "if p <= alpha: \n",
    "    print('Dependent(reject H0)') \n",
    "else: \n",
    "    print('Independent(H0 holds true)') "
   ]
  },
  {
   "cell_type": "markdown",
   "id": "f13ec174",
   "metadata": {},
   "source": [
    "### Pruebas de bondad de ajuste"
   ]
  },
  {
   "cell_type": "markdown",
   "id": "e875a213",
   "metadata": {},
   "source": [
    "Uno de las técnicas más conocidas para estudiar los contrastes no paramétricos son los tests de bondad de ajuste o tests   ji cuadrado"
   ]
  },
  {
   "cell_type": "markdown",
   "id": "a8b87b46",
   "metadata": {},
   "source": [
    "El contraste que intentamos estudiar es del tipo siguiente"
   ]
  },
  {
   "cell_type": "markdown",
   "id": "d1b17765",
   "metadata": {},
   "source": [
    "$H_o:$  La distribución de X es del tipo Xo  \n",
    "$H_a:$ La distribución de X no es del tipo Xo"
   ]
  },
  {
   "cell_type": "code",
   "execution_count": null,
   "id": "6034ee02",
   "metadata": {},
   "outputs": [],
   "source": [
    "poblacion[\"Age\"].std()"
   ]
  },
  {
   "cell_type": "code",
   "execution_count": null,
   "id": "35fb8b19",
   "metadata": {},
   "outputs": [],
   "source": [
    "poblacion[\"Age\"].mean()"
   ]
  },
  {
   "cell_type": "code",
   "execution_count": null,
   "id": "718dd02f",
   "metadata": {},
   "outputs": [],
   "source": [
    "poblacion[\"Age\"].min()"
   ]
  },
  {
   "cell_type": "markdown",
   "id": "a07f4977",
   "metadata": {},
   "source": [
    "#### prueba grafica"
   ]
  },
  {
   "cell_type": "code",
   "execution_count": null,
   "id": "adbbabc2",
   "metadata": {},
   "outputs": [],
   "source": [
    "fig, ax = plt.subplots()\n",
    "sns.kdeplot(np.random.normal(29.6,14.5,1000), ax=ax, color='red', fill=False,label=\"Dist Normal\")\n",
    "sns.kdeplot(poblacion[\"Age\"], ax=ax, color='blue', fill=False,label=\"Dist age\")\n",
    "plt.legend()\n",
    "# visualizing plot using matplotlib.pyplot library\n",
    "plt.show()"
   ]
  },
  {
   "cell_type": "markdown",
   "id": "db1e779b",
   "metadata": {},
   "source": [
    "### prueba teorica qqplot"
   ]
  },
  {
   "cell_type": "code",
   "execution_count": null,
   "id": "e074930f",
   "metadata": {},
   "outputs": [],
   "source": [
    "import statsmodels.api as sm\n",
    "from scipy import stats\n",
    "fig, ax = plt.subplots(figsize=(7,4))\n",
    "\n",
    "sm.qqplot(\n",
    "    poblacion[\"Age\"].dropna(),\n",
    "    dist=stats.norm,\n",
    "    fit   = True,\n",
    "    line  = 'q',\n",
    "    alpha = 0.4,\n",
    "    lw    = 2,\n",
    "    ax    = ax\n",
    ")\n",
    "ax.set_title('Gráfico Q-Q Edades', fontsize = 10,\n",
    "             fontweight = \"bold\")\n",
    "ax.tick_params(labelsize = 7)\n"
   ]
  },
  {
   "cell_type": "markdown",
   "id": "a54b2ed1",
   "metadata": {},
   "source": [
    "### test de kolmogorov"
   ]
  },
  {
   "cell_type": "markdown",
   "id": "4883e8bc",
   "metadata": {},
   "source": [
    "$H_o:$  La distribución de X es Normal  \n",
    "$H_a:$ La distribución de X es No Normal"
   ]
  },
  {
   "cell_type": "code",
   "execution_count": null,
   "id": "df19148b",
   "metadata": {},
   "outputs": [],
   "source": [
    "from scipy.stats import kstest"
   ]
  },
  {
   "cell_type": "code",
   "execution_count": null,
   "id": "95d7b0e5",
   "metadata": {},
   "outputs": [],
   "source": [
    "\n",
    "\n",
    "#set seed (por ejemplo, hacer que este ejemplo sea reproducible)\n",
    "np.random.seed(0)\n",
    "\n",
    "\n",
    "# realizar la prueba kstest de Kolmogorov-Smirnov \n",
    "kstest(poblacion[\"Age\"].dropna(),\"norm\")"
   ]
  },
  {
   "cell_type": "code",
   "execution_count": null,
   "id": "bcfb0024",
   "metadata": {},
   "outputs": [],
   "source": [
    "?kstest"
   ]
  },
  {
   "cell_type": "code",
   "execution_count": null,
   "id": "ae35e86e",
   "metadata": {},
   "outputs": [],
   "source": [
    "poblacion"
   ]
  },
  {
   "cell_type": "markdown",
   "id": "379c5e11",
   "metadata": {},
   "source": [
    "### Prueba de Kolmogorov-Smirnov de dos muestras"
   ]
  },
  {
   "cell_type": "markdown",
   "id": "3d63b1f7",
   "metadata": {},
   "source": [
    "Verificar si dos muestras son de la misma distribucion"
   ]
  },
  {
   "cell_type": "markdown",
   "id": "dadc889a",
   "metadata": {},
   "source": [
    "$H_o:$  La distribución de X la misma que Y\n",
    "$H_a:$ La distribución de X no es la misma que Y"
   ]
  },
  {
   "cell_type": "code",
   "execution_count": null,
   "id": "15905399",
   "metadata": {},
   "outputs": [],
   "source": [
    "data1=poblacion[poblacion.Pclass==1][\"Age\"].dropna()\n",
    "data2=poblacion[poblacion.Pclass==3][\"Age\"].dropna()\n"
   ]
  },
  {
   "cell_type": "code",
   "execution_count": null,
   "id": "e07e3f37",
   "metadata": {},
   "outputs": [],
   "source": [
    "data1"
   ]
  },
  {
   "cell_type": "code",
   "execution_count": null,
   "id": "e753ba10",
   "metadata": {},
   "outputs": [],
   "source": [
    "data2"
   ]
  },
  {
   "cell_type": "code",
   "execution_count": null,
   "id": "b63333ce",
   "metadata": {},
   "outputs": [],
   "source": [
    "from scipy.stats import ks_2samp\n",
    "\n",
    "# realizar la prueba de Kolmogorov-Smirnov\n",
    "ks_2samp(data1, data2)"
   ]
  },
  {
   "cell_type": "code",
   "execution_count": null,
   "id": "68a71e9f",
   "metadata": {},
   "outputs": [],
   "source": [
    "data_2d=[data1,data2]\n",
    "\n",
    "plt.boxplot(data_2d)\n",
    "plt.title(\"Boxplot \")\n",
    "plt.show()"
   ]
  },
  {
   "cell_type": "code",
   "execution_count": null,
   "id": "b40d86c7",
   "metadata": {},
   "outputs": [],
   "source": [
    "fig, ax = plt.subplots()\n",
    "sns.kdeplot(data1, ax=ax, color='purple', fill=False,label=\"Edades en primera clase\")\n",
    "sns.kdeplot(data2, ax=ax, color='green', fill=False,label=\"Edades en segunda clase\")\n",
    "plt.legend()\n",
    "# visualizing plot using matplotlib.pyplot library\n",
    "plt.show()"
   ]
  },
  {
   "cell_type": "markdown",
   "id": "b9ddcfe1",
   "metadata": {},
   "source": [
    "Tenemos suficiente informacion para rechazar la hipotesis nula de que provienen de la misma distribucion"
   ]
  },
  {
   "cell_type": "code",
   "execution_count": null,
   "id": "45e90401",
   "metadata": {},
   "outputs": [],
   "source": [
    "data_a=poblacion [poblacion .Embarked==\"S\"][\"Age\"].dropna()\n",
    "data_b=poblacion [poblacion  .Embarked==\"C\"][\"Age\"].dropna()\n"
   ]
  },
  {
   "cell_type": "code",
   "execution_count": null,
   "id": "8a245cb8",
   "metadata": {},
   "outputs": [],
   "source": [
    "fig, ax = plt.subplots()\n",
    "sns.kdeplot(data_a, ax=ax, color='purple', fill=False,label=\"Edades en S\")\n",
    "sns.kdeplot(data_b, ax=ax, color='green', fill=False,label=\"Edades en C\")\n",
    "plt.legend()\n",
    "# visualizing plot using matplotlib.pyplot library\n",
    "plt.show()"
   ]
  },
  {
   "cell_type": "code",
   "execution_count": null,
   "id": "91b6a653",
   "metadata": {},
   "outputs": [],
   "source": [
    "# realizar la prueba de Kolmogorov-Smirnov\n",
    "ks_2samp(data_a, data_b)"
   ]
  }
 ],
 "metadata": {
  "kernelspec": {
   "display_name": "Python 3 (ipykernel)",
   "language": "python",
   "name": "python3"
  },
  "language_info": {
   "codemirror_mode": {
    "name": "ipython",
    "version": 3
   },
   "file_extension": ".py",
   "mimetype": "text/x-python",
   "name": "python",
   "nbconvert_exporter": "python",
   "pygments_lexer": "ipython3",
   "version": "3.11.3"
  }
 },
 "nbformat": 4,
 "nbformat_minor": 5
}
