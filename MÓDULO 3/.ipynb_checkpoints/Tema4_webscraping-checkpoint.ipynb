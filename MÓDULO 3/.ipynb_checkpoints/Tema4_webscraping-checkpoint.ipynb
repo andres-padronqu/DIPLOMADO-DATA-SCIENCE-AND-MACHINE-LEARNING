{
 "cells": [
  {
   "cell_type": "markdown",
   "metadata": {},
   "source": [
    "# Web Scraping"
   ]
  },
  {
   "cell_type": "markdown",
   "metadata": {},
   "source": [
    "## -----Clase del 08 de octubre de 2025-----"
   ]
  },
  {
   "cell_type": "markdown",
   "metadata": {},
   "source": [
    "Actualmente, se estima que existen más de 1.13 mil millones de sitios web activos en todo el mundo, según datos de Internet Live Stats. Esta vasta infraestructura digital genera y almacena cantidades masivas de información, que en su conjunto superan los 94 zettabytes de datos en la web, de acuerdo con proyecciones recientes de Statista para 2025.\n",
    "\n",
    "En este mar de datos conviven sitios de todo tipo: desde simples catálogos de productos hasta plataformas científicas que publican resultados de experimentos complejos, como simulaciones de colisiones de partículas. Dado el volumen y la diversidad de la información disponible, la recopilación manual resulta inviable para la mayoría de los casos prácticos. Por ello, uno de los desafíos actuales más importantes es el desarrollo de herramientas y técnicas para extraer automáticamente información útil y estructurada desde páginas web.\n",
    "\n",
    "En este contexto, una de las técnicas más utilizadas es el web scraping, que permite recolectar datos de sitios web de forma automatizada, facilitando tareas como análisis de mercado, monitoreo de precios, minería de datos científicos, entre otros."
   ]
  },
  {
   "cell_type": "markdown",
   "metadata": {},
   "source": [
    "El web scraping no se refiere simplemente a la extracción de datos desde la web, sino específicamente a la extracción automatizada de información mediante el uso de software. Esta técnica permite recolectar grandes volúmenes de datos de forma eficiente, sin intervención manual.\n",
    "\n",
    "En las siguientes sesiones, aprenderemos a implementar esta automatización utilizando el lenguaje Python, uno de los más populares para este tipo de tareas gracias a sus potentes bibliotecas como requests, BeautifulSoup y Selenium."
   ]
  },
  {
   "cell_type": "markdown",
   "metadata": {},
   "source": [
    "### Mecanismos para obtener datos de la web  \n",
    "\n",
    "Existen dos enfoques principales para obtener datos de sitios web: métodos formales y métodos informales.  \n",
    "\n",
    "1. Métodos formales: APIs (Application Programming Interfaces): Una API es una interfaz oficial proporcionada por un sitio web o plataforma que permite acceder a sus datos de forma estructurada y segura. Por lo general, las APIs:\n",
    "\n",
    "* Requieren una clave de autenticación (API key).\n",
    "\n",
    "* Proveen datos en formatos estándar como JSON o XML.\n",
    "\n",
    "* Tienen documentación clara y estable.\n",
    "\n",
    "* Imponen límites de uso (por número de consultas o por frecuencia).\n",
    "\n",
    "* Ejemplo: la API de Twitter (X), la API de Google Maps, o la de OpenWeather.\n",
    "\n",
    "**Ventajas:**\n",
    "\n",
    "* Estabilidad y legalidad.\n",
    "\n",
    "* Eficiencia en el acceso a datos.\n",
    "\n",
    "* Menor riesgo de bloqueo.\n",
    "\n",
    "2. Métodos informales: Web Scraping: Cuando un sitio no ofrece una API o cuando se necesitan datos que no están disponibles oficialmente, se recurre al web scraping. Este método consiste en:\n",
    "\n",
    "* Hacer peticiones HTTP directamente a las páginas web.\n",
    "\n",
    "* Extraer el contenido HTML y procesarlo para obtener la información deseada.\n",
    "\n",
    "* Usar herramientas como requests, BeautifulSoup, Scrapy o Selenium.\n",
    "\n",
    "**Desventajas:**\n",
    "\n",
    "* Más frágil ante cambios en el sitio web.\n",
    "\n",
    "* Puede violar los términos de uso del sitio si no se hace con precaución.\n",
    "\n",
    "* Algunos sitios usan medidas anti-bots (como CAPTCHAs o verificación de actividad humana)."
   ]
  },
  {
   "cell_type": "markdown",
   "metadata": {},
   "source": [
    "## Ética"
   ]
  },
  {
   "cell_type": "markdown",
   "metadata": {},
   "source": [
    "La ética en el web scraping es un tema fundamental en la era del acceso masivo a la información digital. Aunque técnicamente es posible extraer datos de casi cualquier sitio web, no todo lo que es posible es necesariamente correcto o legal. El scraping debe realizarse respetando los términos y condiciones de uso del sitio web, así como las leyes de protección de datos, derechos de autor y propiedad intelectual. Extraer información sin consentimiento, sobrecargar servidores con múltiples peticiones o recopilar datos personales sin autorización puede considerarse una práctica invasiva e irresponsable. Además, el uso de los datos obtenidos debe hacerse con transparencia y respeto hacia los usuarios y los propietarios del contenido. La ética en el web scraping implica actuar con responsabilidad, limitarse a datos públicos, no interferir con el funcionamiento normal del sitio, identificar claramente al scraper (cuando sea posible mediante headers), y, de ser necesario, contactar al administrador del sitio para obtener permiso. En contextos académicos, empresariales o de investigación, aplicar principios éticos no solo previene conflictos legales, sino que también promueve la confianza en el uso y análisis responsable de la información digital."
   ]
  },
  {
   "cell_type": "markdown",
   "metadata": {},
   "source": [
    "### Buenas prácticas éticas en el web scraping:\n",
    "* Revisar los Términos y Condiciones del sitio web:\n",
    "Antes de realizar scraping, lee la política del sitio. Algunos sitios prohíben explícitamente la automatización o la recolección de datos sin autorización.\n",
    "\n",
    "* Preferir APIs oficiales cuando estén disponibles:\n",
    "Si el sitio ofrece una API, úsala en lugar de hacer scraping directo. Es la forma más segura, legal y estable de acceder a sus datos.\n",
    "\n",
    "* No extraer datos personales sensibles:\n",
    "Evita recolectar información como nombres, direcciones, correos electrónicos o datos financieros si no tienes consentimiento explícito. Esto puede violar leyes como el RGPD (UE) o la LFPDPPP (México).  \n",
    "\n",
    "\n",
    "* No hacer scraping masivo ni agresivo:\n",
    "Respeta los recursos del servidor. Usa mecanismos como sleep() entre peticiones y limita la frecuencia de acceso. No sobrecargues los sitios web con múltiples consultas por segundo.  \n",
    "\n",
    "* Revisar y respetar el archivo robots.txt:\n",
    "Este archivo indica qué partes del sitio pueden o no ser accedidas por bots. Aunque no es legalmente vinculante, seguir sus directrices es una señal de respeto hacia el sitio.  \n",
    "\n",
    "* Identificar tu scraper adecuadamente:\n",
    "Configura un User-Agent en tus peticiones que indique que se trata de un scraper, idealmente con información de contacto. Esto ayuda a mantener la transparencia.  \n",
    "\n",
    "* No plagiar ni reutilizar contenido con fines comerciales sin permiso:\n",
    "Si vas a usar los datos públicamente (p. ej., para un blog, producto o investigación), cita la fuente, y en caso de uso extensivo, solicita autorización.  \n",
    "\n",
    "* No replicar funcionalidades completas de un sitio:\n",
    "Hacer scraping para construir un servicio que imite total o parcialmente otro sitio (por ejemplo, para competir directamente) suele considerarse antiético y puede tener consecuencias legales.  \n",
    "\n",
    "* Usar los datos con responsabilidad y transparencia:\n",
    "Informa claramente para qué se están usando los datos y asegúrate de que su uso sea justo, honesto y no manipule ni perjudique a otros usuarios.  \n",
    " \n",
    "* Contactar al administrador si tienes dudas:\n",
    "Si el uso del scraping no es claro o planeas hacer una recolección frecuente o amplia, es recomendable contactar al dueño del sitio para pedir permiso o negociar condiciones.  "
   ]
  },
  {
   "cell_type": "markdown",
   "metadata": {},
   "source": [
    "[Documentacion Xpath](https://devhints.io/xpath)"
   ]
  },
  {
   "cell_type": "markdown",
   "metadata": {},
   "source": [
    "##  Xpath: accediendo a la web"
   ]
  },
  {
   "cell_type": "code",
   "execution_count": 2,
   "metadata": {},
   "outputs": [
    {
     "name": "stdout",
     "output_type": "stream",
     "text": [
      "Requirement already satisfied: lxml in /Users/andrespadronquintana/anaconda3/lib/python3.11/site-packages (4.9.2)\r\n"
     ]
    }
   ],
   "source": [
    "!pip install lxml"
   ]
  },
  {
   "cell_type": "code",
   "execution_count": 5,
   "metadata": {},
   "outputs": [],
   "source": [
    "html_code = \"\"\"   # Siempre hay que cerrar y abrir\n",
    "<html>\n",
    "  <body>\n",
    "    <h1>Tienda</h1>\n",
    "    <ul>\n",
    "      <li class=\"producto\">Laptop - $1000</li>\n",
    "      <li class=\"producto\">Tablet - $500</li>\n",
    "      <li class=\"producto destacado\">Smartphone - $800</li>\n",
    "    </ul>\n",
    "  </body>\n",
    "</html>\n",
    "\"\"\""
   ]
  },
  {
   "cell_type": "code",
   "execution_count": null,
   "metadata": {},
   "outputs": [],
   "source": [
    "<li  atributos> Contenido </li>  # Cerramos y abrimos con el mismo comando solo que para cerrar usamos /"
   ]
  },
  {
   "cell_type": "code",
   "execution_count": 3,
   "metadata": {},
   "outputs": [],
   "source": [
    "from lxml import html"
   ]
  },
  {
   "cell_type": "code",
   "execution_count": 6,
   "metadata": {},
   "outputs": [],
   "source": [
    "# Parseamos el HTML\n",
    "tree = html.fromstring(html_code)"
   ]
  },
  {
   "cell_type": "code",
   "execution_count": 7,
   "metadata": {},
   "outputs": [
    {
     "data": {
      "text/plain": [
       "<Element div at 0x106068870>"
      ]
     },
     "execution_count": 7,
     "metadata": {},
     "output_type": "execute_result"
    }
   ],
   "source": [
    "tree"
   ]
  },
  {
   "cell_type": "code",
   "execution_count": null,
   "metadata": {},
   "outputs": [],
   "source": [
    "# 1 Ejes\n",
    "\n",
    "//li\n"
   ]
  },
  {
   "cell_type": "code",
   "execution_count": 8,
   "metadata": {},
   "outputs": [
    {
     "data": {
      "text/plain": [
       "[<Element li at 0x104952170>,\n",
       " <Element li at 0x104593200>,\n",
       " <Element li at 0x106068820>]"
      ]
     },
     "execution_count": 8,
     "metadata": {},
     "output_type": "execute_result"
    }
   ],
   "source": [
    "tree.xpath('//li')"
   ]
  },
  {
   "cell_type": "code",
   "execution_count": 9,
   "metadata": {},
   "outputs": [
    {
     "data": {
      "text/plain": [
       "['Laptop - $1000', 'Tablet - $500', 'Smartphone - $800']"
      ]
     },
     "execution_count": 9,
     "metadata": {},
     "output_type": "execute_result"
    }
   ],
   "source": [
    "[ x.text_content() for x in tree.xpath('//li')] # Extraemos todo lo que hay en cada li"
   ]
  },
  {
   "cell_type": "code",
   "execution_count": 10,
   "metadata": {},
   "outputs": [
    {
     "name": "stdout",
     "output_type": "stream",
     "text": [
      "Laptop - $1000\n",
      "Tablet - $500\n",
      "Smartphone - $800\n"
     ]
    }
   ],
   "source": [
    "# Seleccionamos todos los <li>\n",
    "items = tree.xpath('//li')\n",
    "\n",
    "for item in items:\n",
    "    print(item.text_content())\n"
   ]
  },
  {
   "cell_type": "code",
   "execution_count": null,
   "metadata": {},
   "outputs": [],
   "source": [
    "//li[@nombredelatributo]\n",
    "\n",
    "//li[@class = \"X\"]\n",
    "\n",
    "//li[@id=\" C\"]\n",
    "\n",
    "//li[@typeof=\"x\"]"
   ]
  },
  {
   "cell_type": "code",
   "execution_count": null,
   "metadata": {},
   "outputs": [],
   "source": [
    "/li[contains(@class,\"X\")]"
   ]
  },
  {
   "cell_type": "code",
   "execution_count": 11,
   "metadata": {},
   "outputs": [
    {
     "name": "stdout",
     "output_type": "stream",
     "text": [
      "Producto simple: Laptop - $1000\n",
      "Producto simple: Tablet - $500\n"
     ]
    }
   ],
   "source": [
    "# Seleccionamos solo los <li> con clase 'producto'\n",
    "productos = tree.xpath('//li[@class=\"producto\"]')\n",
    "\n",
    "for prod in productos:\n",
    "    print(\"Producto simple:\", prod.text_content())\n"
   ]
  },
  {
   "cell_type": "code",
   "execution_count": 12,
   "metadata": {},
   "outputs": [
    {
     "name": "stdout",
     "output_type": "stream",
     "text": [
      "Producto destacado: Smartphone - $800\n"
     ]
    }
   ],
   "source": [
    "# Seleccionamos <li> con clase 'destacado'\n",
    "destacados = tree.xpath('//li[contains(@class, \"destacado\")]')\n",
    "\n",
    "for d in destacados:\n",
    "    print(\"Producto destacado:\", d.text_content())"
   ]
  },
  {
   "cell_type": "code",
   "execution_count": 13,
   "metadata": {},
   "outputs": [],
   "source": [
    "## Ejemplo 2\n",
    "\n",
    "html_code = \"\"\"\n",
    "<html>\n",
    "  <body>\n",
    "    <div id=\"top-pane\" class=\"header\">Encabezado</div>\n",
    "    <div class=\"Split content\">Contenido dividido</div>\n",
    "    <div class=\"Split content\">Otra sección</div>\n",
    "    <div class=\"footer\">Pie de página</div>\n",
    "    <section>\n",
    "      <p class=\"note importante\">Nota importante</p>\n",
    "      <p class=\"note\">Nota secundaria</p>\n",
    "    </section>\n",
    "  </body>\n",
    "</html>\n",
    "\"\"\""
   ]
  },
  {
   "cell_type": "code",
   "execution_count": 14,
   "metadata": {},
   "outputs": [],
   "source": [
    "# Parsear el HTML\n",
    "tree = html.fromstring(html_code)"
   ]
  },
  {
   "cell_type": "code",
   "execution_count": 15,
   "metadata": {},
   "outputs": [
    {
     "name": "stdout",
     "output_type": "stream",
     "text": [
      "Todos los <div> del documento:\n",
      " - Encabezado\n",
      " - Contenido dividido\n",
      " - Otra sección\n",
      " - Pie de página\n"
     ]
    }
   ],
   "source": [
    "# 1. Búsqueda desde cualquier parte: //\n",
    "divs_todos = tree.xpath('//div')\n",
    "print(\"Todos los <div> del documento:\")\n",
    "for d in divs_todos:\n",
    "    print(\" -\", d.text_content())"
   ]
  },
  {
   "cell_type": "code",
   "execution_count": 16,
   "metadata": {},
   "outputs": [
    {
     "name": "stdout",
     "output_type": "stream",
     "text": [
      "\n",
      "Raíz del documento: html\n"
     ]
    }
   ],
   "source": [
    "# 2. Búsqueda desde la raíz: /\n",
    "solo_html = tree.xpath('/html')\n",
    "print(\"\\nRaíz del documento:\", solo_html[0].tag)"
   ]
  },
  {
   "cell_type": "code",
   "execution_count": 17,
   "metadata": {},
   "outputs": [
    {
     "data": {
      "text/plain": [
       "'\\n  \\n    Encabezado\\n    Contenido dividido\\n    Otra sección\\n    Pie de página\\n    \\n      Nota importante\\n      Nota secundaria\\n    \\n  \\n'"
      ]
     },
     "execution_count": 17,
     "metadata": {},
     "output_type": "execute_result"
    }
   ],
   "source": [
    "tree.xpath('/html')[0].text_content()"
   ]
  },
  {
   "cell_type": "code",
   "execution_count": 18,
   "metadata": {},
   "outputs": [
    {
     "name": "stdout",
     "output_type": "stream",
     "text": [
      "\n",
      "Párrafos dentro de <section> usando búsqueda relativa:\n",
      " - Nota importante\n",
      " - Nota secundaria\n"
     ]
    }
   ],
   "source": [
    "# 3. Búsqueda relativa: ./\n",
    "body = tree.xpath('/html/body')[0]\n",
    "\n",
    "p_relativos = body.xpath('./section/p')\n",
    "print(\"\\nPárrafos dentro de <section> usando búsqueda relativa:\")\n",
    "for p in p_relativos:\n",
    "    print(\" -\", p.text_content())\n"
   ]
  },
  {
   "cell_type": "code",
   "execution_count": 19,
   "metadata": {},
   "outputs": [
    {
     "name": "stdout",
     "output_type": "stream",
     "text": [
      "\n",
      "<div> con id='top-pane': Encabezado\n"
     ]
    }
   ],
   "source": [
    "# 4. Igualdad: buscar div con id=\"top-pane\"\n",
    "\n",
    "div_top = tree.xpath('//div[@id=\"top-pane\"]')\n",
    "\n",
    "print(\"\\n<div> con id='top-pane':\", div_top[0].text_content())"
   ]
  },
  {
   "cell_type": "code",
   "execution_count": 20,
   "metadata": {},
   "outputs": [
    {
     "name": "stdout",
     "output_type": "stream",
     "text": [
      "\n",
      "<div> con class distinto de 'Split content':\n",
      " - Encabezado\n",
      " - Pie de página\n"
     ]
    }
   ],
   "source": [
    "# 5. No igualdad: divs con class distinto de \"Split content\"\n",
    "divs_distintos = tree.xpath('//div[@class!=\"Split content\"]')\n",
    "\n",
    "print(\"\\n<div> con class distinto de 'Split content':\")\n",
    "for d in divs_distintos:\n",
    "    print(\" -\", d.text_content())"
   ]
  },
  {
   "cell_type": "code",
   "execution_count": 21,
   "metadata": {},
   "outputs": [
    {
     "name": "stdout",
     "output_type": "stream",
     "text": [
      "\n",
      "Párrafos con clase que contiene 'note':\n",
      " - Nota importante\n",
      " - Nota secundaria\n"
     ]
    }
   ],
   "source": [
    "# 6. Predicado: párrafos cuya clase contenga \"note\"\n",
    "parrafos_note = tree.xpath('//p[contains(@class, \"note\")]')\n",
    "\n",
    "\n",
    "print(\"\\nPárrafos con clase que contiene 'note':\")\n",
    "for p in parrafos_note:\n",
    "    print(\" -\", p.text_content())"
   ]
  },
  {
   "cell_type": "code",
   "execution_count": 22,
   "metadata": {},
   "outputs": [],
   "source": [
    "# ejemplo 3\n",
    "\n",
    "html_code = \"\"\"\n",
    "<html>\n",
    "  <body>\n",
    "    <div id=\"top-pane\" class=\"header\">Encabezado</div>\n",
    "    <div class=\"Split content\">Contenido dividido</div>\n",
    "    <div class=\"Split content\">Otra sección</div>\n",
    "    <div class=\"container\">\n",
    "      <ul>\n",
    "        <li><span class=\"dato\" data-id=\"1\">Item 1</span></li>\n",
    "        <li><span class=\"dato\" data-id=\"2\">Item 2</span></li>\n",
    "        <li><span class=\"dato especial\" data-id=\"3\">Item 3</span></li>\n",
    "      </ul>\n",
    "    </div>\n",
    "    <h1 class=\"titulo\">This is a test header</h1>\n",
    "  </body>\n",
    "</html>\n",
    "\"\"\""
   ]
  },
  {
   "cell_type": "code",
   "execution_count": 23,
   "metadata": {},
   "outputs": [],
   "source": [
    "tree = html.fromstring(html_code)\n"
   ]
  },
  {
   "cell_type": "code",
   "execution_count": 24,
   "metadata": {},
   "outputs": [
    {
     "name": "stdout",
     "output_type": "stream",
     "text": [
      "1. Span con class='dato' y data-id='2': Item 2\n"
     ]
    }
   ],
   "source": [
    "# 1. Igualdad combinada con AND / OR\n",
    "ejemplo_and = tree.xpath('//span[@class=\"dato\" and @data-id=\"2\"]')\n",
    "\n",
    "print(\"1. Span con class='dato' y data-id='2':\", ejemplo_and[0].text_content())"
   ]
  },
  {
   "cell_type": "code",
   "execution_count": 25,
   "metadata": {},
   "outputs": [
    {
     "name": "stdout",
     "output_type": "stream",
     "text": [
      "2. Búsqueda en dos niveles encadenados: Item 3\n"
     ]
    }
   ],
   "source": [
    "# 2. Dos búsquedas encadenadas\n",
    "ejemplo_encadenado = tree.xpath('//div[@class=\"container\"]//span[@data-id=\"3\"]')\n",
    "\n",
    "print(\"2. Búsqueda en dos niveles encadenados:\", ejemplo_encadenado[0].text_content())"
   ]
  },
  {
   "cell_type": "code",
   "execution_count": 26,
   "metadata": {},
   "outputs": [
    {
     "ename": "IndexError",
     "evalue": "list index out of range",
     "output_type": "error",
     "traceback": [
      "\u001b[0;31m---------------------------------------------------------------------------\u001b[0m",
      "\u001b[0;31mIndexError\u001b[0m                                Traceback (most recent call last)",
      "Cell \u001b[0;32mIn[26], line 4\u001b[0m\n\u001b[1;32m      1\u001b[0m \u001b[38;5;66;03m# 3. Ruta completa y específica\u001b[39;00m\n\u001b[1;32m      3\u001b[0m ejemplo_ruta \u001b[38;5;241m=\u001b[39m tree\u001b[38;5;241m.\u001b[39mxpath(\u001b[38;5;124m'\u001b[39m\u001b[38;5;124m//div[@class=\u001b[39m\u001b[38;5;124m\"\u001b[39m\u001b[38;5;124mcontainer\u001b[39m\u001b[38;5;124m\"\u001b[39m\u001b[38;5;124m]/ul/li[1]/span[@data-id=\u001b[39m\u001b[38;5;124m\"\u001b[39m\u001b[38;5;124m2\u001b[39m\u001b[38;5;124m\"\u001b[39m\u001b[38;5;124m]\u001b[39m\u001b[38;5;124m'\u001b[39m)\n\u001b[0;32m----> 4\u001b[0m \u001b[38;5;28mprint\u001b[39m(\u001b[38;5;124m\"\u001b[39m\u001b[38;5;124m3. Primer <li> dentro de .container:\u001b[39m\u001b[38;5;124m\"\u001b[39m, ejemplo_ruta[\u001b[38;5;241m0\u001b[39m]\u001b[38;5;241m.\u001b[39mtext_content())\n",
      "\u001b[0;31mIndexError\u001b[0m: list index out of range"
     ]
    }
   ],
   "source": [
    "\n",
    "# 3. Ruta completa y específica\n",
    "\n",
    "ejemplo_ruta = tree.xpath('//div[@class=\"container\"]/ul/li[1]/span[@data-id=\"2\"]')\n",
    "print(\"3. Primer <li> dentro de .container:\", ejemplo_ruta[0].text_content())\n"
   ]
  },
  {
   "cell_type": "code",
   "execution_count": 27,
   "metadata": {},
   "outputs": [
    {
     "name": "stdout",
     "output_type": "stream",
     "text": [
      "4. Último <li>: Item 3\n"
     ]
    }
   ],
   "source": [
    "\n",
    "\n",
    "# 4. Uso de last()\n",
    "ultimo_item = tree.xpath('//li[last()]/span')\n",
    "print(\"4. Último <li>:\", ultimo_item[0].text_content())"
   ]
  },
  {
   "cell_type": "code",
   "execution_count": 28,
   "metadata": {},
   "outputs": [
    {
     "name": "stdout",
     "output_type": "stream",
     "text": [
      "5. Segundo <li>: Item 2\n"
     ]
    }
   ],
   "source": [
    "\n",
    "# 5. Uso de position() = 2\n",
    "segundo_item = tree.xpath('//li[position()=2]/span')\n",
    "print(\"5. Segundo <li>:\", segundo_item[0].text_content())\n"
   ]
  },
  {
   "cell_type": "code",
   "execution_count": 29,
   "metadata": {},
   "outputs": [
    {
     "name": "stdout",
     "output_type": "stream",
     "text": [
      "6. Span con 'especial' en class: Item 3\n"
     ]
    }
   ],
   "source": [
    "# 6. contains() en atributos\n",
    "contiene_especial = tree.xpath('//span[contains(@class, \"especial\")]')\n",
    "print(\"6. Span con 'especial' en class:\", contiene_especial[0].text_content())"
   ]
  },
  {
   "cell_type": "code",
   "execution_count": 30,
   "metadata": {},
   "outputs": [
    {
     "name": "stdout",
     "output_type": "stream",
     "text": [
      "7. Span que NO tiene 'especial':\n",
      " - Item 1\n",
      " - Item 2\n"
     ]
    }
   ],
   "source": [
    "# 7. not() en atributo\n",
    "sin_especial = tree.xpath('//span[not(contains(@class, \"especial\"))]')\n",
    "print(\"7. Span que NO tiene 'especial':\")\n",
    "for s in sin_especial:\n",
    "    print(\" -\", s.text_content())\n"
   ]
  },
  {
   "cell_type": "code",
   "execution_count": 31,
   "metadata": {},
   "outputs": [
    {
     "name": "stdout",
     "output_type": "stream",
     "text": [
      "8. Texto dentro de <h1>: This is a test header\n"
     ]
    }
   ],
   "source": [
    "\n",
    "# 8. text() para obtener texto dentro de etiquetas\n",
    "\n",
    "textos_h1 = tree.xpath('//h1[contains(text(), \"This is\")]/text()')\n",
    "print(\"8. Texto dentro de <h1>:\", textos_h1[0])\n"
   ]
  },
  {
   "cell_type": "code",
   "execution_count": 32,
   "metadata": {},
   "outputs": [
    {
     "name": "stdout",
     "output_type": "stream",
     "text": [
      "9. Clase del <h1> con texto 'This is': titulo\n"
     ]
    }
   ],
   "source": [
    "\n",
    "# 9. @atributo de una etiqueta con cierto texto\n",
    "clase_h1 = tree.xpath('//h1[contains(text(), \"This is\")]/@class')\n",
    "print(\"9. Clase del <h1> con texto 'This is':\", clase_h1[0])"
   ]
  },
  {
   "cell_type": "markdown",
   "metadata": {},
   "source": [
    "### Anidando"
   ]
  },
  {
   "cell_type": "code",
   "execution_count": 33,
   "metadata": {},
   "outputs": [],
   "source": [
    "text = \"\"\"<html>\n",
    "              <body>\n",
    "                <div>\n",
    "                  <li>Producto A</li>X\n",
    "                      a\n",
    "                          p\n",
    "                  <li>Producto B</li>X\n",
    "                      a\n",
    "                          p\n",
    "                  <ul>\n",
    "                    <li>Producto C</li>X\n",
    "                        a\n",
    "                            p\n",
    "                  </ul>\n",
    "                </div>\n",
    "              </body>\n",
    "            </html>\"\"\""
   ]
  },
  {
   "cell_type": "code",
   "execution_count": 34,
   "metadata": {},
   "outputs": [],
   "source": [
    "tree = html.fromstring(text)"
   ]
  },
  {
   "cell_type": "code",
   "execution_count": 35,
   "metadata": {},
   "outputs": [
    {
     "data": {
      "text/plain": [
       "['Producto A', 'Producto B']"
      ]
     },
     "execution_count": 35,
     "metadata": {},
     "output_type": "execute_result"
    }
   ],
   "source": [
    "tree.xpath('/html/body/div/li/text()')"
   ]
  },
  {
   "cell_type": "code",
   "execution_count": 36,
   "metadata": {},
   "outputs": [],
   "source": [
    "tree2= tree.xpath('/html/body/div')[0]"
   ]
  },
  {
   "cell_type": "code",
   "execution_count": 37,
   "metadata": {},
   "outputs": [
    {
     "data": {
      "text/plain": [
       "[]"
      ]
     },
     "execution_count": 37,
     "metadata": {},
     "output_type": "execute_result"
    }
   ],
   "source": [
    "tree2.xpath('.//li/a/p')"
   ]
  },
  {
   "cell_type": "markdown",
   "metadata": {},
   "source": [
    "#### Práctica Real"
   ]
  },
  {
   "cell_type": "code",
   "execution_count": 38,
   "metadata": {},
   "outputs": [],
   "source": [
    "import requests\n"
   ]
  },
  {
   "cell_type": "code",
   "execution_count": 40,
   "metadata": {},
   "outputs": [],
   "source": [
    "url = \"https://books.toscrape.com/\" # Página con libros para scrapear\n",
    "response = requests.get(url)\n"
   ]
  },
  {
   "cell_type": "code",
   "execution_count": 41,
   "metadata": {},
   "outputs": [
    {
     "data": {
      "text/plain": [
       "b'<!DOCTYPE html>\\n<!--[if lt IE 7]>      <html lang=\"en-us\" class=\"no-js lt-ie9 lt-ie8 lt-ie7\"> <![endif]-->\\n<!--[if IE 7]>         <html lang=\"en-us\" class=\"no-js lt-ie9 lt-ie8\"> <![endif]-->\\n<!--[if IE 8]>         <html lang=\"en-us\" class=\"no-js lt-ie9\"> <![endif]-->\\n<!--[if gt IE 8]><!--> <html lang=\"en-us\" class=\"no-js\"> <!--<![endif]-->\\n    <head>\\n        <title>\\n    All products | Books to Scrape - Sandbox\\n</title>\\n\\n        <meta http-equiv=\"content-type\" content=\"text/html; charset=UTF-8\" />\\n        <meta name=\"created\" content=\"24th Jun 2016 09:29\" />\\n        <meta name=\"description\" content=\"\" />\\n        <meta name=\"viewport\" content=\"width=device-width\" />\\n        <meta name=\"robots\" content=\"NOARCHIVE,NOCACHE\" />\\n\\n        <!-- Le HTML5 shim, for IE6-8 support of HTML elements -->\\n        <!--[if lt IE 9]>\\n        <script src=\"//html5shim.googlecode.com/svn/trunk/html5.js\"></script>\\n        <![endif]-->\\n\\n        \\n            <link rel=\"shortcut icon\" href=\"static/oscar/favicon.ico\" />\\n        \\n\\n        \\n        \\n    \\n    \\n        <link rel=\"stylesheet\" type=\"text/css\" href=\"static/oscar/css/styles.css\" />\\n    \\n    <link rel=\"stylesheet\" href=\"static/oscar/js/bootstrap-datetimepicker/bootstrap-datetimepicker.css\" />\\n    <link rel=\"stylesheet\" type=\"text/css\" href=\"static/oscar/css/datetimepicker.css\" />\\n\\n\\n        \\n        \\n\\n        \\n\\n        \\n            \\n            \\n\\n        \\n    </head>\\n\\n    <body id=\"default\" class=\"default\">\\n        \\n        \\n    \\n    \\n    <header class=\"header container-fluid\">\\n        <div class=\"page_inner\">\\n            <div class=\"row\">\\n                <div class=\"col-sm-8 h1\"><a href=\"index.html\">Books to Scrape</a><small> We love being scraped!</small>\\n</div>\\n\\n                \\n            </div>\\n        </div>\\n    </header>\\n\\n    \\n    \\n<div class=\"container-fluid page\">\\n    <div class=\"page_inner\">\\n        \\n    <ul class=\"breadcrumb\">\\n        <li>\\n            <a href=\"index.html\">Home</a>\\n        </li>\\n        <li class=\"active\">All products</li>\\n    </ul>\\n\\n        <div class=\"row\">\\n\\n            <aside class=\"sidebar col-sm-4 col-md-3\">\\n                \\n                <div id=\"promotions_left\">\\n                    \\n                </div>\\n                \\n    \\n    \\n        \\n        <div class=\"side_categories\">\\n            <ul class=\"nav nav-list\">\\n                \\n                    <li>\\n                        <a href=\"catalogue/category/books_1/index.html\">\\n                            \\n                                Books\\n                            \\n                        </a>\\n\\n                        <ul>\\n                        \\n                \\n                    <li>\\n                        <a href=\"catalogue/category/books/travel_2/index.html\">\\n                            \\n                                Travel\\n                            \\n                        </a>\\n\\n                        </li>\\n                        \\n                \\n                    <li>\\n                        <a href=\"catalogue/category/books/mystery_3/index.html\">\\n                            \\n                                Mystery\\n                            \\n                        </a>\\n\\n                        </li>\\n                        \\n                \\n                    <li>\\n                        <a href=\"catalogue/category/books/historical-fiction_4/index.html\">\\n                            \\n                                Historical Fiction\\n                            \\n                        </a>\\n\\n                        </li>\\n                        \\n                \\n                    <li>\\n                        <a href=\"catalogue/category/books/sequential-art_5/index.html\">\\n                            \\n                                Sequential Art\\n                            \\n                        </a>\\n\\n                        </li>\\n                        \\n                \\n                    <li>\\n                        <a href=\"catalogue/category/books/classics_6/index.html\">\\n                            \\n                                Classics\\n                            \\n                        </a>\\n\\n                        </li>\\n                        \\n                \\n                    <li>\\n                        <a href=\"catalogue/category/books/philosophy_7/index.html\">\\n                            \\n                                Philosophy\\n                            \\n                        </a>\\n\\n                        </li>\\n                        \\n                \\n                    <li>\\n                        <a href=\"catalogue/category/books/romance_8/index.html\">\\n                            \\n                                Romance\\n                            \\n                        </a>\\n\\n                        </li>\\n                        \\n                \\n                    <li>\\n                        <a href=\"catalogue/category/books/womens-fiction_9/index.html\">\\n                            \\n                                Womens Fiction\\n                            \\n                        </a>\\n\\n                        </li>\\n                        \\n                \\n                    <li>\\n                        <a href=\"catalogue/category/books/fiction_10/index.html\">\\n                            \\n                                Fiction\\n                            \\n                        </a>\\n\\n                        </li>\\n                        \\n                \\n                    <li>\\n                        <a href=\"catalogue/category/books/childrens_11/index.html\">\\n                            \\n                                Childrens\\n                            \\n                        </a>\\n\\n                        </li>\\n                        \\n                \\n                    <li>\\n                        <a href=\"catalogue/category/books/religion_12/index.html\">\\n                            \\n                                Religion\\n                            \\n                        </a>\\n\\n                        </li>\\n                        \\n                \\n                    <li>\\n                        <a href=\"catalogue/category/books/nonfiction_13/index.html\">\\n                            \\n                                Nonfiction\\n                            \\n                        </a>\\n\\n                        </li>\\n                        \\n                \\n                    <li>\\n                        <a href=\"catalogue/category/books/music_14/index.html\">\\n                            \\n                                Music\\n                            \\n                        </a>\\n\\n                        </li>\\n                        \\n                \\n                    <li>\\n                        <a href=\"catalogue/category/books/default_15/index.html\">\\n                            \\n                                Default\\n                            \\n                        </a>\\n\\n                        </li>\\n                        \\n                \\n                    <li>\\n                        <a href=\"catalogue/category/books/science-fiction_16/index.html\">\\n                            \\n                                Science Fiction\\n                            \\n                        </a>\\n\\n                        </li>\\n                        \\n                \\n                    <li>\\n                        <a href=\"catalogue/category/books/sports-and-games_17/index.html\">\\n                            \\n                                Sports and Games\\n                            \\n                        </a>\\n\\n                        </li>\\n                        \\n                \\n                    <li>\\n                        <a href=\"catalogue/category/books/add-a-comment_18/index.html\">\\n                            \\n                                Add a comment\\n                            \\n                        </a>\\n\\n                        </li>\\n                        \\n                \\n                    <li>\\n                        <a href=\"catalogue/category/books/fantasy_19/index.html\">\\n                            \\n                                Fantasy\\n                            \\n                        </a>\\n\\n                        </li>\\n                        \\n                \\n                    <li>\\n                        <a href=\"catalogue/category/books/new-adult_20/index.html\">\\n                            \\n                                New Adult\\n                            \\n                        </a>\\n\\n                        </li>\\n                        \\n                \\n                    <li>\\n                        <a href=\"catalogue/category/books/young-adult_21/index.html\">\\n                            \\n                                Young Adult\\n                            \\n                        </a>\\n\\n                        </li>\\n                        \\n                \\n                    <li>\\n                        <a href=\"catalogue/category/books/science_22/index.html\">\\n                            \\n                                Science\\n                            \\n                        </a>\\n\\n                        </li>\\n                        \\n                \\n                    <li>\\n                        <a href=\"catalogue/category/books/poetry_23/index.html\">\\n                            \\n                                Poetry\\n                            \\n                        </a>\\n\\n                        </li>\\n                        \\n                \\n                    <li>\\n                        <a href=\"catalogue/category/books/paranormal_24/index.html\">\\n                            \\n                                Paranormal\\n                            \\n                        </a>\\n\\n                        </li>\\n                        \\n                \\n                    <li>\\n                        <a href=\"catalogue/category/books/art_25/index.html\">\\n                            \\n                                Art\\n                            \\n                        </a>\\n\\n                        </li>\\n                        \\n                \\n                    <li>\\n                        <a href=\"catalogue/category/books/psychology_26/index.html\">\\n                            \\n                                Psychology\\n                            \\n                        </a>\\n\\n                        </li>\\n                        \\n                \\n                    <li>\\n                        <a href=\"catalogue/category/books/autobiography_27/index.html\">\\n                            \\n                                Autobiography\\n                            \\n                        </a>\\n\\n                        </li>\\n                        \\n                \\n                    <li>\\n                        <a href=\"catalogue/category/books/parenting_28/index.html\">\\n                            \\n                                Parenting\\n                            \\n                        </a>\\n\\n                        </li>\\n                        \\n                \\n                    <li>\\n                        <a href=\"catalogue/category/books/adult-fiction_29/index.html\">\\n                            \\n                                Adult Fiction\\n                            \\n                        </a>\\n\\n                        </li>\\n                        \\n                \\n                    <li>\\n                        <a href=\"catalogue/category/books/humor_30/index.html\">\\n                            \\n                                Humor\\n                            \\n                        </a>\\n\\n                        </li>\\n                        \\n                \\n                    <li>\\n                        <a href=\"catalogue/category/books/horror_31/index.html\">\\n                            \\n                                Horror\\n                            \\n                        </a>\\n\\n                        </li>\\n                        \\n                \\n                    <li>\\n                        <a href=\"catalogue/category/books/history_32/index.html\">\\n                            \\n                                History\\n                            \\n                        </a>\\n\\n                        </li>\\n                        \\n                \\n                    <li>\\n                        <a href=\"catalogue/category/books/food-and-drink_33/index.html\">\\n                            \\n                                Food and Drink\\n                            \\n                        </a>\\n\\n                        </li>\\n                        \\n                \\n                    <li>\\n                        <a href=\"catalogue/category/books/christian-fiction_34/index.html\">\\n                            \\n                                Christian Fiction\\n                            \\n                        </a>\\n\\n                        </li>\\n                        \\n                \\n                    <li>\\n                        <a href=\"catalogue/category/books/business_35/index.html\">\\n                            \\n                                Business\\n                            \\n                        </a>\\n\\n                        </li>\\n                        \\n                \\n                    <li>\\n                        <a href=\"catalogue/category/books/biography_36/index.html\">\\n                            \\n                                Biography\\n                            \\n                        </a>\\n\\n                        </li>\\n                        \\n                \\n                    <li>\\n                        <a href=\"catalogue/category/books/thriller_37/index.html\">\\n                            \\n                                Thriller\\n                            \\n                        </a>\\n\\n                        </li>\\n                        \\n                \\n                    <li>\\n                        <a href=\"catalogue/category/books/contemporary_38/index.html\">\\n                            \\n                                Contemporary\\n                            \\n                        </a>\\n\\n                        </li>\\n                        \\n                \\n                    <li>\\n                        <a href=\"catalogue/category/books/spirituality_39/index.html\">\\n                            \\n                                Spirituality\\n                            \\n                        </a>\\n\\n                        </li>\\n                        \\n                \\n                    <li>\\n                        <a href=\"catalogue/category/books/academic_40/index.html\">\\n                            \\n                                Academic\\n                            \\n                        </a>\\n\\n                        </li>\\n                        \\n                \\n                    <li>\\n                        <a href=\"catalogue/category/books/self-help_41/index.html\">\\n                            \\n                                Self Help\\n                            \\n                        </a>\\n\\n                        </li>\\n                        \\n                \\n                    <li>\\n                        <a href=\"catalogue/category/books/historical_42/index.html\">\\n                            \\n                                Historical\\n                            \\n                        </a>\\n\\n                        </li>\\n                        \\n                \\n                    <li>\\n                        <a href=\"catalogue/category/books/christian_43/index.html\">\\n                            \\n                                Christian\\n                            \\n                        </a>\\n\\n                        </li>\\n                        \\n                \\n                    <li>\\n                        <a href=\"catalogue/category/books/suspense_44/index.html\">\\n                            \\n                                Suspense\\n                            \\n                        </a>\\n\\n                        </li>\\n                        \\n                \\n                    <li>\\n                        <a href=\"catalogue/category/books/short-stories_45/index.html\">\\n                            \\n                                Short Stories\\n                            \\n                        </a>\\n\\n                        </li>\\n                        \\n                \\n                    <li>\\n                        <a href=\"catalogue/category/books/novels_46/index.html\">\\n                            \\n                                Novels\\n                            \\n                        </a>\\n\\n                        </li>\\n                        \\n                \\n                    <li>\\n                        <a href=\"catalogue/category/books/health_47/index.html\">\\n                            \\n                                Health\\n                            \\n                        </a>\\n\\n                        </li>\\n                        \\n                \\n                    <li>\\n                        <a href=\"catalogue/category/books/politics_48/index.html\">\\n                            \\n                                Politics\\n                            \\n                        </a>\\n\\n                        </li>\\n                        \\n                \\n                    <li>\\n                        <a href=\"catalogue/category/books/cultural_49/index.html\">\\n                            \\n                                Cultural\\n                            \\n                        </a>\\n\\n                        </li>\\n                        \\n                \\n                    <li>\\n                        <a href=\"catalogue/category/books/erotica_50/index.html\">\\n                            \\n                                Erotica\\n                            \\n                        </a>\\n\\n                        </li>\\n                        \\n                \\n                    <li>\\n                        <a href=\"catalogue/category/books/crime_51/index.html\">\\n                            \\n                                Crime\\n                            \\n                        </a>\\n\\n                        </li>\\n                        \\n                            </ul></li>\\n                        \\n                \\n            </ul>\\n        </div>\\n    \\n    \\n\\n            </aside>\\n\\n            <div class=\"col-sm-8 col-md-9\">\\n                \\n                <div class=\"page-header action\">\\n                    <h1>All products</h1>\\n                </div>\\n                \\n\\n                \\n\\n\\n\\n<div id=\"messages\">\\n\\n</div>\\n\\n\\n                <div id=\"promotions\">\\n                    \\n                </div>\\n\\n                \\n    <form method=\"get\" class=\"form-horizontal\">\\n        \\n        <div style=\"display:none\">\\n            \\n            \\n        </div>\\n\\n        \\n            \\n                \\n                    <strong>1000</strong> results - showing <strong>1</strong> to <strong>20</strong>.\\n                \\n            \\n            \\n        \\n    </form>\\n    \\n        <section>\\n            <div class=\"alert alert-warning\" role=\"alert\"><strong>Warning!</strong> This is a demo website for web scraping purposes. Prices and ratings here were randomly assigned and have no real meaning.</div>\\n\\n            <div>\\n                <ol class=\"row\">\\n                    \\n                        <li class=\"col-xs-6 col-sm-4 col-md-3 col-lg-3\">\\n\\n\\n\\n\\n\\n\\n    <article class=\"product_pod\">\\n        \\n            <div class=\"image_container\">\\n                \\n                    \\n                    <a href=\"catalogue/a-light-in-the-attic_1000/index.html\"><img src=\"media/cache/2c/da/2cdad67c44b002e7ead0cc35693c0e8b.jpg\" alt=\"A Light in the Attic\" class=\"thumbnail\"></a>\\n                    \\n                \\n            </div>\\n        \\n\\n        \\n            \\n                <p class=\"star-rating Three\">\\n                    <i class=\"icon-star\"></i>\\n                    <i class=\"icon-star\"></i>\\n                    <i class=\"icon-star\"></i>\\n                    <i class=\"icon-star\"></i>\\n                    <i class=\"icon-star\"></i>\\n                </p>\\n            \\n        \\n\\n        \\n            <h3><a href=\"catalogue/a-light-in-the-attic_1000/index.html\" title=\"A Light in the Attic\">A Light in the ...</a></h3>\\n        \\n\\n        \\n            <div class=\"product_price\">\\n                \\n\\n\\n\\n\\n\\n\\n    \\n        <p class=\"price_color\">\\xc2\\xa351.77</p>\\n    \\n\\n<p class=\"instock availability\">\\n    <i class=\"icon-ok\"></i>\\n    \\n        In stock\\n    \\n</p>\\n\\n                \\n                    \\n\\n\\n\\n\\n\\n\\n    \\n    <form>\\n        <button type=\"submit\" class=\"btn btn-primary btn-block\" data-loading-text=\"Adding...\">Add to basket</button>\\n    </form>\\n\\n\\n                \\n            </div>\\n        \\n    </article>\\n\\n</li>\\n                    \\n                        <li class=\"col-xs-6 col-sm-4 col-md-3 col-lg-3\">\\n\\n\\n\\n\\n\\n\\n    <article class=\"product_pod\">\\n        \\n            <div class=\"image_container\">\\n                \\n                    \\n                    <a href=\"catalogue/tipping-the-velvet_999/index.html\"><img src=\"media/cache/26/0c/260c6ae16bce31c8f8c95daddd9f4a1c.jpg\" alt=\"Tipping the Velvet\" class=\"thumbnail\"></a>\\n                    \\n                \\n            </div>\\n        \\n\\n        \\n            \\n                <p class=\"star-rating One\">\\n                    <i class=\"icon-star\"></i>\\n                    <i class=\"icon-star\"></i>\\n                    <i class=\"icon-star\"></i>\\n                    <i class=\"icon-star\"></i>\\n                    <i class=\"icon-star\"></i>\\n                </p>\\n            \\n        \\n\\n        \\n            <h3><a href=\"catalogue/tipping-the-velvet_999/index.html\" title=\"Tipping the Velvet\">Tipping the Velvet</a></h3>\\n        \\n\\n        \\n            <div class=\"product_price\">\\n                \\n\\n\\n\\n\\n\\n\\n    \\n        <p class=\"price_color\">\\xc2\\xa353.74</p>\\n    \\n\\n<p class=\"instock availability\">\\n    <i class=\"icon-ok\"></i>\\n    \\n        In stock\\n    \\n</p>\\n\\n                \\n                    \\n\\n\\n\\n\\n\\n\\n    \\n    <form>\\n        <button type=\"submit\" class=\"btn btn-primary btn-block\" data-loading-text=\"Adding...\">Add to basket</button>\\n    </form>\\n\\n\\n                \\n            </div>\\n        \\n    </article>\\n\\n</li>\\n                    \\n                        <li class=\"col-xs-6 col-sm-4 col-md-3 col-lg-3\">\\n\\n\\n\\n\\n\\n\\n    <article class=\"product_pod\">\\n        \\n            <div class=\"image_container\">\\n                \\n                    \\n                    <a href=\"catalogue/soumission_998/index.html\"><img src=\"media/cache/3e/ef/3eef99c9d9adef34639f510662022830.jpg\" alt=\"Soumission\" class=\"thumbnail\"></a>\\n                    \\n                \\n            </div>\\n        \\n\\n        \\n            \\n                <p class=\"star-rating One\">\\n                    <i class=\"icon-star\"></i>\\n                    <i class=\"icon-star\"></i>\\n                    <i class=\"icon-star\"></i>\\n                    <i class=\"icon-star\"></i>\\n                    <i class=\"icon-star\"></i>\\n                </p>\\n            \\n        \\n\\n        \\n            <h3><a href=\"catalogue/soumission_998/index.html\" title=\"Soumission\">Soumission</a></h3>\\n        \\n\\n        \\n            <div class=\"product_price\">\\n                \\n\\n\\n\\n\\n\\n\\n    \\n        <p class=\"price_color\">\\xc2\\xa350.10</p>\\n    \\n\\n<p class=\"instock availability\">\\n    <i class=\"icon-ok\"></i>\\n    \\n        In stock\\n    \\n</p>\\n\\n                \\n                    \\n\\n\\n\\n\\n\\n\\n    \\n    <form>\\n        <button type=\"submit\" class=\"btn btn-primary btn-block\" data-loading-text=\"Adding...\">Add to basket</button>\\n    </form>\\n\\n\\n                \\n            </div>\\n        \\n    </article>\\n\\n</li>\\n                    \\n                        <li class=\"col-xs-6 col-sm-4 col-md-3 col-lg-3\">\\n\\n\\n\\n\\n\\n\\n    <article class=\"product_pod\">\\n        \\n            <div class=\"image_container\">\\n                \\n                    \\n                    <a href=\"catalogue/sharp-objects_997/index.html\"><img src=\"media/cache/32/51/3251cf3a3412f53f339e42cac2134093.jpg\" alt=\"Sharp Objects\" class=\"thumbnail\"></a>\\n                    \\n                \\n            </div>\\n        \\n\\n        \\n            \\n                <p class=\"star-rating Four\">\\n                    <i class=\"icon-star\"></i>\\n                    <i class=\"icon-star\"></i>\\n                    <i class=\"icon-star\"></i>\\n                    <i class=\"icon-star\"></i>\\n                    <i class=\"icon-star\"></i>\\n                </p>\\n            \\n        \\n\\n        \\n            <h3><a href=\"catalogue/sharp-objects_997/index.html\" title=\"Sharp Objects\">Sharp Objects</a></h3>\\n        \\n\\n        \\n            <div class=\"product_price\">\\n                \\n\\n\\n\\n\\n\\n\\n    \\n        <p class=\"price_color\">\\xc2\\xa347.82</p>\\n    \\n\\n<p class=\"instock availability\">\\n    <i class=\"icon-ok\"></i>\\n    \\n        In stock\\n    \\n</p>\\n\\n                \\n                    \\n\\n\\n\\n\\n\\n\\n    \\n    <form>\\n        <button type=\"submit\" class=\"btn btn-primary btn-block\" data-loading-text=\"Adding...\">Add to basket</button>\\n    </form>\\n\\n\\n                \\n            </div>\\n        \\n    </article>\\n\\n</li>\\n                    \\n                        <li class=\"col-xs-6 col-sm-4 col-md-3 col-lg-3\">\\n\\n\\n\\n\\n\\n\\n    <article class=\"product_pod\">\\n        \\n            <div class=\"image_container\">\\n                \\n                    \\n                    <a href=\"catalogue/sapiens-a-brief-history-of-humankind_996/index.html\"><img src=\"media/cache/be/a5/bea5697f2534a2f86a3ef27b5a8c12a6.jpg\" alt=\"Sapiens: A Brief History of Humankind\" class=\"thumbnail\"></a>\\n                    \\n                \\n            </div>\\n        \\n\\n        \\n            \\n                <p class=\"star-rating Five\">\\n                    <i class=\"icon-star\"></i>\\n                    <i class=\"icon-star\"></i>\\n                    <i class=\"icon-star\"></i>\\n                    <i class=\"icon-star\"></i>\\n                    <i class=\"icon-star\"></i>\\n                </p>\\n            \\n        \\n\\n        \\n            <h3><a href=\"catalogue/sapiens-a-brief-history-of-humankind_996/index.html\" title=\"Sapiens: A Brief History of Humankind\">Sapiens: A Brief History ...</a></h3>\\n        \\n\\n        \\n            <div class=\"product_price\">\\n                \\n\\n\\n\\n\\n\\n\\n    \\n        <p class=\"price_color\">\\xc2\\xa354.23</p>\\n    \\n\\n<p class=\"instock availability\">\\n    <i class=\"icon-ok\"></i>\\n    \\n        In stock\\n    \\n</p>\\n\\n                \\n                    \\n\\n\\n\\n\\n\\n\\n    \\n    <form>\\n        <button type=\"submit\" class=\"btn btn-primary btn-block\" data-loading-text=\"Adding...\">Add to basket</button>\\n    </form>\\n\\n\\n                \\n            </div>\\n        \\n    </article>\\n\\n</li>\\n                    \\n                        <li class=\"col-xs-6 col-sm-4 col-md-3 col-lg-3\">\\n\\n\\n\\n\\n\\n\\n    <article class=\"product_pod\">\\n        \\n            <div class=\"image_container\">\\n                \\n                    \\n                    <a href=\"catalogue/the-requiem-red_995/index.html\"><img src=\"media/cache/68/33/68339b4c9bc034267e1da611ab3b34f8.jpg\" alt=\"The Requiem Red\" class=\"thumbnail\"></a>\\n                    \\n                \\n            </div>\\n        \\n\\n        \\n            \\n                <p class=\"star-rating One\">\\n                    <i class=\"icon-star\"></i>\\n                    <i class=\"icon-star\"></i>\\n                    <i class=\"icon-star\"></i>\\n                    <i class=\"icon-star\"></i>\\n                    <i class=\"icon-star\"></i>\\n                </p>\\n            \\n        \\n\\n        \\n            <h3><a href=\"catalogue/the-requiem-red_995/index.html\" title=\"The Requiem Red\">The Requiem Red</a></h3>\\n        \\n\\n        \\n            <div class=\"product_price\">\\n                \\n\\n\\n\\n\\n\\n\\n    \\n        <p class=\"price_color\">\\xc2\\xa322.65</p>\\n    \\n\\n<p class=\"instock availability\">\\n    <i class=\"icon-ok\"></i>\\n    \\n        In stock\\n    \\n</p>\\n\\n                \\n                    \\n\\n\\n\\n\\n\\n\\n    \\n    <form>\\n        <button type=\"submit\" class=\"btn btn-primary btn-block\" data-loading-text=\"Adding...\">Add to basket</button>\\n    </form>\\n\\n\\n                \\n            </div>\\n        \\n    </article>\\n\\n</li>\\n                    \\n                        <li class=\"col-xs-6 col-sm-4 col-md-3 col-lg-3\">\\n\\n\\n\\n\\n\\n\\n    <article class=\"product_pod\">\\n        \\n            <div class=\"image_container\">\\n                \\n                    \\n                    <a href=\"catalogue/the-dirty-little-secrets-of-getting-your-dream-job_994/index.html\"><img src=\"media/cache/92/27/92274a95b7c251fea59a2b8a78275ab4.jpg\" alt=\"The Dirty Little Secrets of Getting Your Dream Job\" class=\"thumbnail\"></a>\\n                    \\n                \\n            </div>\\n        \\n\\n        \\n            \\n                <p class=\"star-rating Four\">\\n                    <i class=\"icon-star\"></i>\\n                    <i class=\"icon-star\"></i>\\n                    <i class=\"icon-star\"></i>\\n                    <i class=\"icon-star\"></i>\\n                    <i class=\"icon-star\"></i>\\n                </p>\\n            \\n        \\n\\n        \\n            <h3><a href=\"catalogue/the-dirty-little-secrets-of-getting-your-dream-job_994/index.html\" title=\"The Dirty Little Secrets of Getting Your Dream Job\">The Dirty Little Secrets ...</a></h3>\\n        \\n\\n        \\n            <div class=\"product_price\">\\n                \\n\\n\\n\\n\\n\\n\\n    \\n        <p class=\"price_color\">\\xc2\\xa333.34</p>\\n    \\n\\n<p class=\"instock availability\">\\n    <i class=\"icon-ok\"></i>\\n    \\n        In stock\\n    \\n</p>\\n\\n                \\n                    \\n\\n\\n\\n\\n\\n\\n    \\n    <form>\\n        <button type=\"submit\" class=\"btn btn-primary btn-block\" data-loading-text=\"Adding...\">Add to basket</button>\\n    </form>\\n\\n\\n                \\n            </div>\\n        \\n    </article>\\n\\n</li>\\n                    \\n                        <li class=\"col-xs-6 col-sm-4 col-md-3 col-lg-3\">\\n\\n\\n\\n\\n\\n\\n    <article class=\"product_pod\">\\n        \\n            <div class=\"image_container\">\\n                \\n                    \\n                    <a href=\"catalogue/the-coming-woman-a-novel-based-on-the-life-of-the-infamous-feminist-victoria-woodhull_993/index.html\"><img src=\"media/cache/3d/54/3d54940e57e662c4dd1f3ff00c78cc64.jpg\" alt=\"The Coming Woman: A Novel Based on the Life of the Infamous Feminist, Victoria Woodhull\" class=\"thumbnail\"></a>\\n                    \\n                \\n            </div>\\n        \\n\\n        \\n            \\n                <p class=\"star-rating Three\">\\n                    <i class=\"icon-star\"></i>\\n                    <i class=\"icon-star\"></i>\\n                    <i class=\"icon-star\"></i>\\n                    <i class=\"icon-star\"></i>\\n                    <i class=\"icon-star\"></i>\\n                </p>\\n            \\n        \\n\\n        \\n            <h3><a href=\"catalogue/the-coming-woman-a-novel-based-on-the-life-of-the-infamous-feminist-victoria-woodhull_993/index.html\" title=\"The Coming Woman: A Novel Based on the Life of the Infamous Feminist, Victoria Woodhull\">The Coming Woman: A ...</a></h3>\\n        \\n\\n        \\n            <div class=\"product_price\">\\n                \\n\\n\\n\\n\\n\\n\\n    \\n        <p class=\"price_color\">\\xc2\\xa317.93</p>\\n    \\n\\n<p class=\"instock availability\">\\n    <i class=\"icon-ok\"></i>\\n    \\n        In stock\\n    \\n</p>\\n\\n                \\n                    \\n\\n\\n\\n\\n\\n\\n    \\n    <form>\\n        <button type=\"submit\" class=\"btn btn-primary btn-block\" data-loading-text=\"Adding...\">Add to basket</button>\\n    </form>\\n\\n\\n                \\n            </div>\\n        \\n    </article>\\n\\n</li>\\n                    \\n                        <li class=\"col-xs-6 col-sm-4 col-md-3 col-lg-3\">\\n\\n\\n\\n\\n\\n\\n    <article class=\"product_pod\">\\n        \\n            <div class=\"image_container\">\\n                \\n                    \\n                    <a href=\"catalogue/the-boys-in-the-boat-nine-americans-and-their-epic-quest-for-gold-at-the-1936-berlin-olympics_992/index.html\"><img src=\"media/cache/66/88/66883b91f6804b2323c8369331cb7dd1.jpg\" alt=\"The Boys in the Boat: Nine Americans and Their Epic Quest for Gold at the 1936 Berlin Olympics\" class=\"thumbnail\"></a>\\n                    \\n                \\n            </div>\\n        \\n\\n        \\n            \\n                <p class=\"star-rating Four\">\\n                    <i class=\"icon-star\"></i>\\n                    <i class=\"icon-star\"></i>\\n                    <i class=\"icon-star\"></i>\\n                    <i class=\"icon-star\"></i>\\n                    <i class=\"icon-star\"></i>\\n                </p>\\n            \\n        \\n\\n        \\n            <h3><a href=\"catalogue/the-boys-in-the-boat-nine-americans-and-their-epic-quest-for-gold-at-the-1936-berlin-olympics_992/index.html\" title=\"The Boys in the Boat: Nine Americans and Their Epic Quest for Gold at the 1936 Berlin Olympics\">The Boys in the ...</a></h3>\\n        \\n\\n        \\n            <div class=\"product_price\">\\n                \\n\\n\\n\\n\\n\\n\\n    \\n        <p class=\"price_color\">\\xc2\\xa322.60</p>\\n    \\n\\n<p class=\"instock availability\">\\n    <i class=\"icon-ok\"></i>\\n    \\n        In stock\\n    \\n</p>\\n\\n                \\n                    \\n\\n\\n\\n\\n\\n\\n    \\n    <form>\\n        <button type=\"submit\" class=\"btn btn-primary btn-block\" data-loading-text=\"Adding...\">Add to basket</button>\\n    </form>\\n\\n\\n                \\n            </div>\\n        \\n    </article>\\n\\n</li>\\n                    \\n                        <li class=\"col-xs-6 col-sm-4 col-md-3 col-lg-3\">\\n\\n\\n\\n\\n\\n\\n    <article class=\"product_pod\">\\n        \\n            <div class=\"image_container\">\\n                \\n                    \\n                    <a href=\"catalogue/the-black-maria_991/index.html\"><img src=\"media/cache/58/46/5846057e28022268153beff6d352b06c.jpg\" alt=\"The Black Maria\" class=\"thumbnail\"></a>\\n                    \\n                \\n            </div>\\n        \\n\\n        \\n            \\n                <p class=\"star-rating One\">\\n                    <i class=\"icon-star\"></i>\\n                    <i class=\"icon-star\"></i>\\n                    <i class=\"icon-star\"></i>\\n                    <i class=\"icon-star\"></i>\\n                    <i class=\"icon-star\"></i>\\n                </p>\\n            \\n        \\n\\n        \\n            <h3><a href=\"catalogue/the-black-maria_991/index.html\" title=\"The Black Maria\">The Black Maria</a></h3>\\n        \\n\\n        \\n            <div class=\"product_price\">\\n                \\n\\n\\n\\n\\n\\n\\n    \\n        <p class=\"price_color\">\\xc2\\xa352.15</p>\\n    \\n\\n<p class=\"instock availability\">\\n    <i class=\"icon-ok\"></i>\\n    \\n        In stock\\n    \\n</p>\\n\\n                \\n                    \\n\\n\\n\\n\\n\\n\\n    \\n    <form>\\n        <button type=\"submit\" class=\"btn btn-primary btn-block\" data-loading-text=\"Adding...\">Add to basket</button>\\n    </form>\\n\\n\\n                \\n            </div>\\n        \\n    </article>\\n\\n</li>\\n                    \\n                        <li class=\"col-xs-6 col-sm-4 col-md-3 col-lg-3\">\\n\\n\\n\\n\\n\\n\\n    <article class=\"product_pod\">\\n        \\n            <div class=\"image_container\">\\n                \\n                    \\n                    <a href=\"catalogue/starving-hearts-triangular-trade-trilogy-1_990/index.html\"><img src=\"media/cache/be/f4/bef44da28c98f905a3ebec0b87be8530.jpg\" alt=\"Starving Hearts (Triangular Trade Trilogy, #1)\" class=\"thumbnail\"></a>\\n                    \\n                \\n            </div>\\n        \\n\\n        \\n            \\n                <p class=\"star-rating Two\">\\n                    <i class=\"icon-star\"></i>\\n                    <i class=\"icon-star\"></i>\\n                    <i class=\"icon-star\"></i>\\n                    <i class=\"icon-star\"></i>\\n                    <i class=\"icon-star\"></i>\\n                </p>\\n            \\n        \\n\\n        \\n            <h3><a href=\"catalogue/starving-hearts-triangular-trade-trilogy-1_990/index.html\" title=\"Starving Hearts (Triangular Trade Trilogy, #1)\">Starving Hearts (Triangular Trade ...</a></h3>\\n        \\n\\n        \\n            <div class=\"product_price\">\\n                \\n\\n\\n\\n\\n\\n\\n    \\n        <p class=\"price_color\">\\xc2\\xa313.99</p>\\n    \\n\\n<p class=\"instock availability\">\\n    <i class=\"icon-ok\"></i>\\n    \\n        In stock\\n    \\n</p>\\n\\n                \\n                    \\n\\n\\n\\n\\n\\n\\n    \\n    <form>\\n        <button type=\"submit\" class=\"btn btn-primary btn-block\" data-loading-text=\"Adding...\">Add to basket</button>\\n    </form>\\n\\n\\n                \\n            </div>\\n        \\n    </article>\\n\\n</li>\\n                    \\n                        <li class=\"col-xs-6 col-sm-4 col-md-3 col-lg-3\">\\n\\n\\n\\n\\n\\n\\n    <article class=\"product_pod\">\\n        \\n            <div class=\"image_container\">\\n                \\n                    \\n                    <a href=\"catalogue/shakespeares-sonnets_989/index.html\"><img src=\"media/cache/10/48/1048f63d3b5061cd2f424d20b3f9b666.jpg\" alt=\"Shakespeare&#39;s Sonnets\" class=\"thumbnail\"></a>\\n                    \\n                \\n            </div>\\n        \\n\\n        \\n            \\n                <p class=\"star-rating Four\">\\n                    <i class=\"icon-star\"></i>\\n                    <i class=\"icon-star\"></i>\\n                    <i class=\"icon-star\"></i>\\n                    <i class=\"icon-star\"></i>\\n                    <i class=\"icon-star\"></i>\\n                </p>\\n            \\n        \\n\\n        \\n            <h3><a href=\"catalogue/shakespeares-sonnets_989/index.html\" title=\"Shakespeare&#39;s Sonnets\">Shakespeare&#39;s Sonnets</a></h3>\\n        \\n\\n        \\n            <div class=\"product_price\">\\n                \\n\\n\\n\\n\\n\\n\\n    \\n        <p class=\"price_color\">\\xc2\\xa320.66</p>\\n    \\n\\n<p class=\"instock availability\">\\n    <i class=\"icon-ok\"></i>\\n    \\n        In stock\\n    \\n</p>\\n\\n                \\n                    \\n\\n\\n\\n\\n\\n\\n    \\n    <form>\\n        <button type=\"submit\" class=\"btn btn-primary btn-block\" data-loading-text=\"Adding...\">Add to basket</button>\\n    </form>\\n\\n\\n                \\n            </div>\\n        \\n    </article>\\n\\n</li>\\n                    \\n                        <li class=\"col-xs-6 col-sm-4 col-md-3 col-lg-3\">\\n\\n\\n\\n\\n\\n\\n    <article class=\"product_pod\">\\n        \\n            <div class=\"image_container\">\\n                \\n                    \\n                    <a href=\"catalogue/set-me-free_988/index.html\"><img src=\"media/cache/5b/88/5b88c52633f53cacf162c15f4f823153.jpg\" alt=\"Set Me Free\" class=\"thumbnail\"></a>\\n                    \\n                \\n            </div>\\n        \\n\\n        \\n            \\n                <p class=\"star-rating Five\">\\n                    <i class=\"icon-star\"></i>\\n                    <i class=\"icon-star\"></i>\\n                    <i class=\"icon-star\"></i>\\n                    <i class=\"icon-star\"></i>\\n                    <i class=\"icon-star\"></i>\\n                </p>\\n            \\n        \\n\\n        \\n            <h3><a href=\"catalogue/set-me-free_988/index.html\" title=\"Set Me Free\">Set Me Free</a></h3>\\n        \\n\\n        \\n            <div class=\"product_price\">\\n                \\n\\n\\n\\n\\n\\n\\n    \\n        <p class=\"price_color\">\\xc2\\xa317.46</p>\\n    \\n\\n<p class=\"instock availability\">\\n    <i class=\"icon-ok\"></i>\\n    \\n        In stock\\n    \\n</p>\\n\\n                \\n                    \\n\\n\\n\\n\\n\\n\\n    \\n    <form>\\n        <button type=\"submit\" class=\"btn btn-primary btn-block\" data-loading-text=\"Adding...\">Add to basket</button>\\n    </form>\\n\\n\\n                \\n            </div>\\n        \\n    </article>\\n\\n</li>\\n                    \\n                        <li class=\"col-xs-6 col-sm-4 col-md-3 col-lg-3\">\\n\\n\\n\\n\\n\\n\\n    <article class=\"product_pod\">\\n        \\n            <div class=\"image_container\">\\n                \\n                    \\n                    <a href=\"catalogue/scott-pilgrims-precious-little-life-scott-pilgrim-1_987/index.html\"><img src=\"media/cache/94/b1/94b1b8b244bce9677c2f29ccc890d4d2.jpg\" alt=\"Scott Pilgrim&#39;s Precious Little Life (Scott Pilgrim #1)\" class=\"thumbnail\"></a>\\n                    \\n                \\n            </div>\\n        \\n\\n        \\n            \\n                <p class=\"star-rating Five\">\\n                    <i class=\"icon-star\"></i>\\n                    <i class=\"icon-star\"></i>\\n                    <i class=\"icon-star\"></i>\\n                    <i class=\"icon-star\"></i>\\n                    <i class=\"icon-star\"></i>\\n                </p>\\n            \\n        \\n\\n        \\n            <h3><a href=\"catalogue/scott-pilgrims-precious-little-life-scott-pilgrim-1_987/index.html\" title=\"Scott Pilgrim&#39;s Precious Little Life (Scott Pilgrim #1)\">Scott Pilgrim&#39;s Precious Little ...</a></h3>\\n        \\n\\n        \\n            <div class=\"product_price\">\\n                \\n\\n\\n\\n\\n\\n\\n    \\n        <p class=\"price_color\">\\xc2\\xa352.29</p>\\n    \\n\\n<p class=\"instock availability\">\\n    <i class=\"icon-ok\"></i>\\n    \\n        In stock\\n    \\n</p>\\n\\n                \\n                    \\n\\n\\n\\n\\n\\n\\n    \\n    <form>\\n        <button type=\"submit\" class=\"btn btn-primary btn-block\" data-loading-text=\"Adding...\">Add to basket</button>\\n    </form>\\n\\n\\n                \\n            </div>\\n        \\n    </article>\\n\\n</li>\\n                    \\n                        <li class=\"col-xs-6 col-sm-4 col-md-3 col-lg-3\">\\n\\n\\n\\n\\n\\n\\n    <article class=\"product_pod\">\\n        \\n            <div class=\"image_container\">\\n                \\n                    \\n                    <a href=\"catalogue/rip-it-up-and-start-again_986/index.html\"><img src=\"media/cache/81/c4/81c4a973364e17d01f217e1188253d5e.jpg\" alt=\"Rip it Up and Start Again\" class=\"thumbnail\"></a>\\n                    \\n                \\n            </div>\\n        \\n\\n        \\n            \\n                <p class=\"star-rating Five\">\\n                    <i class=\"icon-star\"></i>\\n                    <i class=\"icon-star\"></i>\\n                    <i class=\"icon-star\"></i>\\n                    <i class=\"icon-star\"></i>\\n                    <i class=\"icon-star\"></i>\\n                </p>\\n            \\n        \\n\\n        \\n            <h3><a href=\"catalogue/rip-it-up-and-start-again_986/index.html\" title=\"Rip it Up and Start Again\">Rip it Up and ...</a></h3>\\n        \\n\\n        \\n            <div class=\"product_price\">\\n                \\n\\n\\n\\n\\n\\n\\n    \\n        <p class=\"price_color\">\\xc2\\xa335.02</p>\\n    \\n\\n<p class=\"instock availability\">\\n    <i class=\"icon-ok\"></i>\\n    \\n        In stock\\n    \\n</p>\\n\\n                \\n                    \\n\\n\\n\\n\\n\\n\\n    \\n    <form>\\n        <button type=\"submit\" class=\"btn btn-primary btn-block\" data-loading-text=\"Adding...\">Add to basket</button>\\n    </form>\\n\\n\\n                \\n            </div>\\n        \\n    </article>\\n\\n</li>\\n                    \\n                        <li class=\"col-xs-6 col-sm-4 col-md-3 col-lg-3\">\\n\\n\\n\\n\\n\\n\\n    <article class=\"product_pod\">\\n        \\n            <div class=\"image_container\">\\n                \\n                    \\n                    <a href=\"catalogue/our-band-could-be-your-life-scenes-from-the-american-indie-underground-1981-1991_985/index.html\"><img src=\"media/cache/54/60/54607fe8945897cdcced0044103b10b6.jpg\" alt=\"Our Band Could Be Your Life: Scenes from the American Indie Underground, 1981-1991\" class=\"thumbnail\"></a>\\n                    \\n                \\n            </div>\\n        \\n\\n        \\n            \\n                <p class=\"star-rating Three\">\\n                    <i class=\"icon-star\"></i>\\n                    <i class=\"icon-star\"></i>\\n                    <i class=\"icon-star\"></i>\\n                    <i class=\"icon-star\"></i>\\n                    <i class=\"icon-star\"></i>\\n                </p>\\n            \\n        \\n\\n        \\n            <h3><a href=\"catalogue/our-band-could-be-your-life-scenes-from-the-american-indie-underground-1981-1991_985/index.html\" title=\"Our Band Could Be Your Life: Scenes from the American Indie Underground, 1981-1991\">Our Band Could Be ...</a></h3>\\n        \\n\\n        \\n            <div class=\"product_price\">\\n                \\n\\n\\n\\n\\n\\n\\n    \\n        <p class=\"price_color\">\\xc2\\xa357.25</p>\\n    \\n\\n<p class=\"instock availability\">\\n    <i class=\"icon-ok\"></i>\\n    \\n        In stock\\n    \\n</p>\\n\\n                \\n                    \\n\\n\\n\\n\\n\\n\\n    \\n    <form>\\n        <button type=\"submit\" class=\"btn btn-primary btn-block\" data-loading-text=\"Adding...\">Add to basket</button>\\n    </form>\\n\\n\\n                \\n            </div>\\n        \\n    </article>\\n\\n</li>\\n                    \\n                        <li class=\"col-xs-6 col-sm-4 col-md-3 col-lg-3\">\\n\\n\\n\\n\\n\\n\\n    <article class=\"product_pod\">\\n        \\n            <div class=\"image_container\">\\n                \\n                    \\n                    <a href=\"catalogue/olio_984/index.html\"><img src=\"media/cache/55/33/553310a7162dfbc2c6d19a84da0df9e1.jpg\" alt=\"Olio\" class=\"thumbnail\"></a>\\n                    \\n                \\n            </div>\\n        \\n\\n        \\n            \\n                <p class=\"star-rating One\">\\n                    <i class=\"icon-star\"></i>\\n                    <i class=\"icon-star\"></i>\\n                    <i class=\"icon-star\"></i>\\n                    <i class=\"icon-star\"></i>\\n                    <i class=\"icon-star\"></i>\\n                </p>\\n            \\n        \\n\\n        \\n            <h3><a href=\"catalogue/olio_984/index.html\" title=\"Olio\">Olio</a></h3>\\n        \\n\\n        \\n            <div class=\"product_price\">\\n                \\n\\n\\n\\n\\n\\n\\n    \\n        <p class=\"price_color\">\\xc2\\xa323.88</p>\\n    \\n\\n<p class=\"instock availability\">\\n    <i class=\"icon-ok\"></i>\\n    \\n        In stock\\n    \\n</p>\\n\\n                \\n                    \\n\\n\\n\\n\\n\\n\\n    \\n    <form>\\n        <button type=\"submit\" class=\"btn btn-primary btn-block\" data-loading-text=\"Adding...\">Add to basket</button>\\n    </form>\\n\\n\\n                \\n            </div>\\n        \\n    </article>\\n\\n</li>\\n                    \\n                        <li class=\"col-xs-6 col-sm-4 col-md-3 col-lg-3\">\\n\\n\\n\\n\\n\\n\\n    <article class=\"product_pod\">\\n        \\n            <div class=\"image_container\">\\n                \\n                    \\n                    <a href=\"catalogue/mesaerion-the-best-science-fiction-stories-1800-1849_983/index.html\"><img src=\"media/cache/09/a3/09a3aef48557576e1a85ba7efea8ecb7.jpg\" alt=\"Mesaerion: The Best Science Fiction Stories 1800-1849\" class=\"thumbnail\"></a>\\n                    \\n                \\n            </div>\\n        \\n\\n        \\n            \\n                <p class=\"star-rating One\">\\n                    <i class=\"icon-star\"></i>\\n                    <i class=\"icon-star\"></i>\\n                    <i class=\"icon-star\"></i>\\n                    <i class=\"icon-star\"></i>\\n                    <i class=\"icon-star\"></i>\\n                </p>\\n            \\n        \\n\\n        \\n            <h3><a href=\"catalogue/mesaerion-the-best-science-fiction-stories-1800-1849_983/index.html\" title=\"Mesaerion: The Best Science Fiction Stories 1800-1849\">Mesaerion: The Best Science ...</a></h3>\\n        \\n\\n        \\n            <div class=\"product_price\">\\n                \\n\\n\\n\\n\\n\\n\\n    \\n        <p class=\"price_color\">\\xc2\\xa337.59</p>\\n    \\n\\n<p class=\"instock availability\">\\n    <i class=\"icon-ok\"></i>\\n    \\n        In stock\\n    \\n</p>\\n\\n                \\n                    \\n\\n\\n\\n\\n\\n\\n    \\n    <form>\\n        <button type=\"submit\" class=\"btn btn-primary btn-block\" data-loading-text=\"Adding...\">Add to basket</button>\\n    </form>\\n\\n\\n                \\n            </div>\\n        \\n    </article>\\n\\n</li>\\n                    \\n                        <li class=\"col-xs-6 col-sm-4 col-md-3 col-lg-3\">\\n\\n\\n\\n\\n\\n\\n    <article class=\"product_pod\">\\n        \\n            <div class=\"image_container\">\\n                \\n                    \\n                    <a href=\"catalogue/libertarianism-for-beginners_982/index.html\"><img src=\"media/cache/0b/bc/0bbcd0a6f4bcd81ccb1049a52736406e.jpg\" alt=\"Libertarianism for Beginners\" class=\"thumbnail\"></a>\\n                    \\n                \\n            </div>\\n        \\n\\n        \\n            \\n                <p class=\"star-rating Two\">\\n                    <i class=\"icon-star\"></i>\\n                    <i class=\"icon-star\"></i>\\n                    <i class=\"icon-star\"></i>\\n                    <i class=\"icon-star\"></i>\\n                    <i class=\"icon-star\"></i>\\n                </p>\\n            \\n        \\n\\n        \\n            <h3><a href=\"catalogue/libertarianism-for-beginners_982/index.html\" title=\"Libertarianism for Beginners\">Libertarianism for Beginners</a></h3>\\n        \\n\\n        \\n            <div class=\"product_price\">\\n                \\n\\n\\n\\n\\n\\n\\n    \\n        <p class=\"price_color\">\\xc2\\xa351.33</p>\\n    \\n\\n<p class=\"instock availability\">\\n    <i class=\"icon-ok\"></i>\\n    \\n        In stock\\n    \\n</p>\\n\\n                \\n                    \\n\\n\\n\\n\\n\\n\\n    \\n    <form>\\n        <button type=\"submit\" class=\"btn btn-primary btn-block\" data-loading-text=\"Adding...\">Add to basket</button>\\n    </form>\\n\\n\\n                \\n            </div>\\n        \\n    </article>\\n\\n</li>\\n                    \\n                        <li class=\"col-xs-6 col-sm-4 col-md-3 col-lg-3\">\\n\\n\\n\\n\\n\\n\\n    <article class=\"product_pod\">\\n        \\n            <div class=\"image_container\">\\n                \\n                    \\n                    <a href=\"catalogue/its-only-the-himalayas_981/index.html\"><img src=\"media/cache/27/a5/27a53d0bb95bdd88288eaf66c9230d7e.jpg\" alt=\"It&#39;s Only the Himalayas\" class=\"thumbnail\"></a>\\n                    \\n                \\n            </div>\\n        \\n\\n        \\n            \\n                <p class=\"star-rating Two\">\\n                    <i class=\"icon-star\"></i>\\n                    <i class=\"icon-star\"></i>\\n                    <i class=\"icon-star\"></i>\\n                    <i class=\"icon-star\"></i>\\n                    <i class=\"icon-star\"></i>\\n                </p>\\n            \\n        \\n\\n        \\n            <h3><a href=\"catalogue/its-only-the-himalayas_981/index.html\" title=\"It&#39;s Only the Himalayas\">It&#39;s Only the Himalayas</a></h3>\\n        \\n\\n        \\n            <div class=\"product_price\">\\n                \\n\\n\\n\\n\\n\\n\\n    \\n        <p class=\"price_color\">\\xc2\\xa345.17</p>\\n    \\n\\n<p class=\"instock availability\">\\n    <i class=\"icon-ok\"></i>\\n    \\n        In stock\\n    \\n</p>\\n\\n                \\n                    \\n\\n\\n\\n\\n\\n\\n    \\n    <form>\\n        <button type=\"submit\" class=\"btn btn-primary btn-block\" data-loading-text=\"Adding...\">Add to basket</button>\\n    </form>\\n\\n\\n                \\n            </div>\\n        \\n    </article>\\n\\n</li>\\n                    \\n                </ol>\\n                \\n\\n\\n\\n    <div>\\n        <ul class=\"pager\">\\n            \\n            <li class=\"current\">\\n            \\n                Page 1 of 50\\n            \\n            </li>\\n            \\n                <li class=\"next\"><a href=\"catalogue/page-2.html\">next</a></li>\\n            \\n        </ul>\\n    </div>\\n\\n\\n            </div>\\n        </section>\\n    \\n\\n\\n            </div>\\n\\n        </div><!-- /row -->\\n    </div><!-- /page_inner -->\\n</div><!-- /container-fluid -->\\n\\n\\n    \\n<footer class=\"footer container-fluid\">\\n    \\n        \\n    \\n</footer>\\n\\n\\n        \\n        \\n  \\n            <!-- jQuery -->\\n            <script src=\"http://ajax.googleapis.com/ajax/libs/jquery/1.9.1/jquery.min.js\"></script>\\n            <script>window.jQuery || document.write(\\'<script src=\"static/oscar/js/jquery/jquery-1.9.1.min.js\"><\\\\/script>\\')</script>\\n        \\n  \\n\\n\\n        \\n        \\n    \\n        \\n    <!-- Twitter Bootstrap -->\\n    <script type=\"text/javascript\" src=\"static/oscar/js/bootstrap3/bootstrap.min.js\"></script>\\n    <!-- Oscar -->\\n    <script src=\"static/oscar/js/oscar/ui.js\" type=\"text/javascript\" charset=\"utf-8\"></script>\\n\\n    <script src=\"static/oscar/js/bootstrap-datetimepicker/bootstrap-datetimepicker.js\" type=\"text/javascript\" charset=\"utf-8\"></script>\\n    <script src=\"static/oscar/js/bootstrap-datetimepicker/locales/bootstrap-datetimepicker.all.js\" type=\"text/javascript\" charset=\"utf-8\"></script>\\n\\n\\n        \\n        \\n    \\n\\n    \\n\\n\\n        \\n        <script type=\"text/javascript\">\\n            $(function() {\\n                \\n    \\n    \\n    oscar.init();\\n\\n    oscar.search.init();\\n\\n            });\\n        </script>\\n\\n        \\n        <!-- Version: N/A -->\\n        \\n    </body>\\n</html>\\n'"
      ]
     },
     "execution_count": 41,
     "metadata": {},
     "output_type": "execute_result"
    }
   ],
   "source": [
    "response.content"
   ]
  },
  {
   "cell_type": "code",
   "execution_count": 42,
   "metadata": {},
   "outputs": [],
   "source": [
    "# Convertimos a árbol lxml\n",
    "tree = html.fromstring(response.content)\n"
   ]
  },
  {
   "cell_type": "code",
   "execution_count": 43,
   "metadata": {},
   "outputs": [
    {
     "data": {
      "text/plain": [
       "<Element html at 0x1064a8e10>"
      ]
     },
     "execution_count": 43,
     "metadata": {},
     "output_type": "execute_result"
    }
   ],
   "source": [
    "tree"
   ]
  },
  {
   "cell_type": "code",
   "execution_count": 67,
   "metadata": {},
   "outputs": [
    {
     "data": {
      "text/plain": [
       "['A Light in the ...',\n",
       " 'Tipping the Velvet',\n",
       " 'Soumission',\n",
       " 'Sharp Objects',\n",
       " 'Sapiens: A Brief History ...',\n",
       " 'The Requiem Red',\n",
       " 'The Dirty Little Secrets ...',\n",
       " 'The Coming Woman: A ...',\n",
       " 'The Boys in the ...',\n",
       " 'The Black Maria',\n",
       " 'Starving Hearts (Triangular Trade ...',\n",
       " \"Shakespeare's Sonnets\",\n",
       " 'Set Me Free',\n",
       " \"Scott Pilgrim's Precious Little ...\",\n",
       " 'Rip it Up and ...',\n",
       " 'Our Band Could Be ...',\n",
       " 'Olio',\n",
       " 'Mesaerion: The Best Science ...',\n",
       " 'Libertarianism for Beginners',\n",
       " \"It's Only the Himalayas\"]"
      ]
     },
     "execution_count": 67,
     "metadata": {},
     "output_type": "execute_result"
    }
   ],
   "source": [
    "tree.xpath(\"//ol/li//h3/a/text()\")"
   ]
  },
  {
   "cell_type": "code",
   "execution_count": 44,
   "metadata": {},
   "outputs": [
    {
     "ename": "SyntaxError",
     "evalue": "unterminated string literal (detected at line 2) (2761473151.py, line 2)",
     "output_type": "error",
     "traceback": [
      "\u001b[0;36m  Cell \u001b[0;32mIn[44], line 2\u001b[0;36m\u001b[0m\n\u001b[0;31m    titulos = tree.xpath('\u001b[0m\n\u001b[0m                         ^\u001b[0m\n\u001b[0;31mSyntaxError\u001b[0m\u001b[0;31m:\u001b[0m unterminated string literal (detected at line 2)\n"
     ]
    }
   ],
   "source": [
    "# Extraemos los títulos de los libros\n",
    "titulos = tree.xpath('\n",
    "                     /a/text()')\n",
    "\n",
    "\n",
    "for t in titulos:\n",
    "    print(t)"
   ]
  },
  {
   "cell_type": "markdown",
   "metadata": {},
   "source": [
    "# Extraer info de una pagina estática\n"
   ]
  },
  {
   "cell_type": "markdown",
   "metadata": {},
   "source": [
    "# Requests and lxml"
   ]
  },
  {
   "cell_type": "markdown",
   "metadata": {},
   "source": [
    "[Documentacion requests](https://docs.python-requests.org/en/master/)  \n",
    "[Documentacion lxml](https://lxml.de/lxmlhtml.html)"
   ]
  },
  {
   "cell_type": "markdown",
   "metadata": {},
   "source": [
    "Para la extracción de la informacion haremos uso de la libreria request la cual se enacrgara de brindarnos el dom de las pags web, con el fin de extraer informacion que se encuentre disponible en este."
   ]
  },
  {
   "cell_type": "code",
   "execution_count": 1,
   "metadata": {},
   "outputs": [],
   "source": [
    "import requests   #Hacer el requerimiento del servidor\n",
    "import warnings\n",
    "warnings.filterwarnings(\"ignore\")"
   ]
  },
  {
   "cell_type": "code",
   "execution_count": 70,
   "metadata": {},
   "outputs": [],
   "source": [
    "url = 'https://www.wikipedia.org/'   #es nuestra url semilla"
   ]
  },
  {
   "cell_type": "markdown",
   "metadata": {},
   "source": [
    "Es importante destacar que cada vez que realizamos una solicitud a una página web mediante código, estamos replicando las mismas peticiones que un navegador hace al servidor cuando un usuario accede de forma normal. Sin embargo, estos navegadores están diseñados para operar a un ritmo \"humano\", con tiempos de espera naturales entre acciones. Si nuestras extracciones se realizan de forma demasiado rápida o repetitiva, corremos el riesgo de ser detectados como bots, lo que puede llevar a bloqueos temporales o permanentes por parte del servidor. Para evitar esto, una primera línea de defensa consiste en configurar nuestras solicitudes para que se asemejen lo más posible a las de un navegador real, incluyendo parámetros como los encabezados (headers), el User-Agent y tiempos de espera entre peticiones."
   ]
  },
  {
   "cell_type": "code",
   "execution_count": 71,
   "metadata": {},
   "outputs": [],
   "source": [
    "# Definimos el encabezado (headers), específicamente el 'User-Agent',\n",
    "# que identifica el navegador y el sistema operativo del cliente.\n",
    "# Si no lo especificamos, algunas páginas pueden asumir que somos un bot y bloquear la solicitud.\n",
    "\n",
    "encabezado = {\n",
    "    'User-Agent': 'Mozilla/5.0 (X11; Linux x86_64) AppleWebKit/537.36 (KHTML, like Gecko) '\n",
    "                  'Ubuntu Chromium/71.0.3578.80 Chrome/71.0.3578.80 Safari/537.36'\n",
    "}\n"
   ]
  },
  {
   "cell_type": "markdown",
   "metadata": {},
   "source": [
    "* El 'User-Agent' simula que la petición viene de un navegador real.\n",
    "\n",
    "* Muchos servidores tienen filtros automáticos que bloquean peticiones con el user-agent por defecto de Python, que puede ser algo como Python-urllib/3.x.\n",
    "\n",
    "* Definir este header es una práctica ética y técnica básica para evitar ser bloqueado prematuramente."
   ]
  },
  {
   "cell_type": "markdown",
   "metadata": {},
   "source": [
    "Ejemplo:  \n",
    "Mozilla/5.0 (X11; Linux x86_64) AppleWebKit/537.36 (KHTML, like Gecko) Ubuntu Chromium/71.0.3578.80 Chrome/71.0.3578.80 Safari/537.36\n",
    "\n",
    "\n",
    "Donde:  \n",
    "\n",
    "Mozilla/5.0: Token histórico. Originalmente representaba al navegador Mozilla. Ahora es un estándar en UA.  \n",
    "\n",
    "(X11; Linux x86_64): Información del sistema operativo y arquitectura. Aquí indica un sistema Linux de 64 bits.  \n",
    "\n",
    "AppleWebKit/537.36: Motor de renderizado usado, WebKit (con versión).  \n",
    "\n",
    "(KHTML, like Gecko): Indica compatibilidad con motores KHTML y Gecko (Firefox).  \n",
    "\n",
    "Ubuntu Chromium/71.0.3578.80:  Nombre y versión del navegador específico o su derivado (en este caso Chromium en Ubuntu).  \n",
    "\n",
    "Chrome/71.0.3578.80: Navegador real y versión usada.\t\n",
    "\n",
    "Safari/537.36: Compatible con Safari (otra capa de compatibilidad).  "
   ]
  },
  {
   "cell_type": "markdown",
   "metadata": {},
   "source": [
    "## Windows + Google Chrome  \n",
    "- Mozilla/5.0 (Windows NT 10.0; Win64; x64) AppleWebKit/537.36 (KHTML, like Gecko) Chrome/80.0.3987.149 Safari/537.36  \n",
    "- Mozilla/5.0 (Windows NT 10.0; Win64; x64) AppleWebKit/537.36 (KHTML, like Gecko) Chrome/74.0.3729.169 Safari/537.36  \n",
    "- Mozilla/5.0 (Windows NT 10.0; Win64; x64) AppleWebKit/537.36 (KHTML, like Gecko) Chrome/74.0.3729.157 Safari/537.36  \n",
    "- Mozilla/5.0 (Windows NT 10.0; Win64; x64) AppleWebKit/537.36 (KHTML, like Gecko) Chrome/80.0.3987.132 Safari/537.36  \n",
    "\n",
    "## Mac OS + Safari 11.1  \n",
    "- Mozilla/5.0 (Macintosh; Intel Mac OS X 10_11_6) AppleWebKit/605.1.15 (KHTML, like Gecko) Version/11.1.2 Safari/605.1.15  \n",
    "\n",
    "## Linux + Chrome 44  \n",
    "- Mozilla/5.0 (X11; Linux x86_64) AppleWebKit/537.36 (KHTML, like Gecko) Chrome/44.0.2403.157 Safari/537.36  \n"
   ]
  },
  {
   "cell_type": "markdown",
   "metadata": {},
   "source": [
    "### Por qué no debemos usar cualquier User-Agent sin límite?  \n",
    "\n",
    "* Restricciones legales y términos de servicio: Algunos sitios web prohíben el acceso automatizado o el uso de User-Agents falsificados en sus políticas. Usar un User-Agent sin permiso puede violar esas reglas.\n",
    "\n",
    "* Bloqueos por comportamiento sospechoso: Si usas repetidamente un User-Agent (por ejemplo, el de Chrome en Windows) haciendo muchas peticiones rápidas, el servidor puede detectarte como bot y bloquear tu IP o suspender el acceso.\n",
    "\n",
    "* Respeto al sitio web: Los servidores esperan un comportamiento humano: navegar con pausas, respetar límites y no saturar sus recursos. Usar el User-Agent de un navegador real no te da carta blanca para hacer scraping masivo sin restricciones.\n",
    "\n",
    "* Implicaciones éticas: Fingir ser otro navegador o dispositivo para evitar bloqueos o engañar al servidor puede ser considerado poco ético.\n",
    "\n"
   ]
  },
  {
   "cell_type": "markdown",
   "metadata": {},
   "source": [
    "### Método get"
   ]
  },
  {
   "cell_type": "markdown",
   "metadata": {},
   "source": [
    "La función requests.get(url, headers=encabezado) envía una solicitud HTTP de tipo GET al servidor ubicado en la dirección especificada por url, incluyendo en la petición los encabezados personalizados definidos en encabezado (como el User-Agent que indica el tipo de navegador o cliente). Al ejecutar esta llamada, el servidor recibe la solicitud, la procesa y responde enviando de vuelta la información solicitada, que puede ser el contenido de una página web, un archivo o datos en otro formato. Esta respuesta queda almacenada en un objeto que permite acceder tanto al contenido recibido como a detalles adicionales, como el estado de la solicitud o los encabezados de respuesta."
   ]
  },
  {
   "cell_type": "code",
   "execution_count": 72,
   "metadata": {},
   "outputs": [],
   "source": [
    "respuesta = requests.get(url,headers = encabezado)   #aqui se tiene el arbol html que nos devuelve la url"
   ]
  },
  {
   "cell_type": "code",
   "execution_count": 73,
   "metadata": {},
   "outputs": [
    {
     "data": {
      "text/plain": [
       "<Response [200]>"
      ]
     },
     "execution_count": 73,
     "metadata": {},
     "output_type": "execute_result"
    }
   ],
   "source": [
    "respuesta"
   ]
  },
  {
   "cell_type": "markdown",
   "metadata": {},
   "source": [
    "El código de estado HTTP es un número que indica el resultado de una solicitud al servidor. Por ejemplo, el código 200 significa que la solicitud fue exitosa y el servidor entregó la información solicitada. Otros códigos comunes incluyen el 301, que indica que el recurso fue movido permanentemente a otra dirección; el 404, que significa que no se encontró la página o recurso solicitado; el 403, que indica que el acceso está prohibido; y el 500, que señala un error interno del servidor. Además, el código 429 advierte que se han hecho demasiadas solicitudes en poco tiempo y el servidor está limitando el acceso. Estos códigos ayudan a los programas y navegadores a entender cómo proceder tras hacer una petición web."
   ]
  },
  {
   "cell_type": "code",
   "execution_count": 74,
   "metadata": {},
   "outputs": [
    {
     "name": "stdout",
     "output_type": "stream",
     "text": [
      "<!DOCTYPE html>\n",
      "<html lang=\"en\" class=\"no-js\">\n",
      "<head>\n",
      "<meta charset=\"utf-8\">\n",
      "<title>Wikipedia</title>\n",
      "<meta name=\"description\" content=\"Wikipedia is a free online encyclopedia, created and edited by volunteers around the world and hosted by the Wikimedia Foundation.\">\n",
      "<script>\n",
      "document.documentElement.className = document.documentElement.className.replace( /(^|\\s)no-js(\\s|$)/, \"$1js-enabled$2\" );\n",
      "</script>\n",
      "<meta name=\"viewport\" content=\"initial-scale=1,user-scalable=yes\">\n",
      "<link rel=\"apple-touch-icon\" href=\"/static/apple-touch/wikipedia.png\">\n",
      "<link rel=\"shortcut icon\" href=\"/static/favicon/wikipedia.ico\">\n",
      "<link rel=\"license\" href=\"//creativecommons.org/licenses/by-sa/4.0/\">\n",
      "<style>\n",
      ".sprite{background-image:linear-gradient(transparent,transparent),url(portal/wikipedia.org/assets/img/sprite-e49fbf32.svg);background-repeat:no-repeat;display:inline-block;vertical-align:middle}.svg-Commons-logo_sister{background-position:0 0;width:47px;height:47px}.svg-MediaWiki-logo_sister{background-position:0 -47px;width:42px;height:42px}.svg-Meta-Wiki-logo_sister{background-position:0 -89px;width:37px;height:37px}.svg-Wikibooks-logo_sister{background-position:0 -126px;width:37px;height:37px}.svg-Wikidata-logo_sister{background-position:0 -163px;width:49px;height:49px}.svg-Wikifunctions-logo_sister{background-position:0 -212px;width:50px;height:50px}.svg-Wikimedia-logo_black{background-position:0 -262px;width:42px;height:42px}.svg-Wikipedia_wordmark{background-position:0 -304px;width:176px;height:32px}.svg-Wikiquote-logo_sister{background-position:0 -336px;width:42px;height:42px}.svg-Wikisource-logo_sister{background-position:0 -378px;width:39px;height:39px}.svg-Wikispecies-logo_sister{background-position:0 -417px;width:42px;height:42px}.svg-Wikiversity-logo_sister{background-position:0 -459px;width:43px;height:37px}.svg-Wikivoyage-logo_sister{background-position:0 -496px;width:36px;height:36px}.svg-Wiktionary-logo_sister{background-position:0 -532px;width:37px;height:37px}.svg-arrow-down{background-position:0 -569px;width:12px;height:8px}.svg-arrow-down-blue{background-position:0 -577px;width:14px;height:14px}.svg-badge_google_play_store{background-position:0 -591px;width:124px;height:38px}.svg-badge_ios_app_store{background-position:0 -629px;width:110px;height:38px}.svg-language-icon{background-position:0 -667px;width:22px;height:22px}.svg-noimage{background-position:0 -689px;width:58px;height:58px}.svg-search-icon{background-position:0 -747px;width:22px;height:22px}.svg-wikipedia_app_tile{background-position:0 -769px;width:42px;height:42px}\n",
      "</style>\n",
      "<style>\n",
      ":root{--color-base:#202122;--color-base-fixed:#202122;--color-base--hover:#404244;--color-emphasized:#101418;--color-subtle:#54595d;--color-placeholder:#72777d;--color-disabled:#a2a9b1;--color-disabled-emphasized:#a2a9b1;--color-inverted:#fff;--color-inverted-fixed:#fff;--color-progressive:#36c;--color-progressive--hover:#3056a9;--color-progressive--active:#233566;--color-progressive--focus:#36c;--color-destructive:#bf3c2c;--color-destructive--hover:#9f3526;--color-destructive--active:#612419;--color-destructive--focus:#36c;--color-visited:#6a60b0;--color-visited--hover:#534fa3;--color-visited--active:#353262;--color-destructive--visited:#9f5555;--color-destructive--visited--hover:#854848;--color-destructive--visited--active:#512e2e;--color-error:#bf3c2c;--color-error--hover:#9f3526;--color-error--active:#612419;--color-warning:#886425;--color-success:#177860;--color-notice:#404244;--color-icon-error:#f54739;--color-icon-warning:#ab7f2a;--color-icon-success:#099979;--color-icon-notice:#72777d;--color-content-added:#006400;--color-content-removed:#8b0000;--opacity-base:1;--opacity-medium:0.65;--opacity-low:0.3;--opacity-transparent:0;--filter-invert-icon:0;--filter-invert-primary-button-icon:1;--background-position-base:center;--background-size-search-figure:cover;--z-index-bottom:-100;--z-index-base:0;--z-index-above-content:1;--z-index-toolbar:2;--z-index-dropdown:50;--z-index-sticky:100;--z-index-fixed:200;--z-index-off-canvas-backdrop:300;--z-index-off-canvas:350;--z-index-overlay-backdrop:400;--z-index-overlay:450;--z-index-popover:700;--z-index-tooltip:800;--z-index-toast-notification:900;--z-index-top:9999;--z-index-stacking-0:0;--z-index-stacking-1:1;--z-index-stacking-2:2;--z-index-stacking-3:3;--box-sizing-base:border-box;--size-0:0;--size-6:0.0625rem;--size-12:0.125rem;--size-25:0.25rem;--size-50:0.5rem;--size-75:0.75rem;--size-100:1rem;--size-125:1.25rem;--size-150:1.5rem;--size-200:2rem;--size-250:2.5rem;--size-275:2.75rem;--size-300:3rem;--size-400:4rem;--size-800:8rem;--size-1200:12rem;--size-1600:16rem;--size-2400:24rem;--size-2800:28rem;--size-3200:32rem;--size-4000:40rem;--size-5600:56rem;--size-viewport-width-full:100vw;--size-viewport-height-full:100vh;--size-absolute-1:1px;--size-absolute-9999:9999px;--size-content-min:min-content;--size-content-fit:fit-content;--size-content-max:max-content;--size-third:33.33%;--size-half:50%;--size-full:100%;--size-double:200%;--size-search-figure:2.5rem;--max-width-base:none;--max-width-breakpoint-mobile:calc(640px - var(--size-absolute-1));--max-width-breakpoint-tablet:calc(1120px - var(--size-absolute-1));--max-width-breakpoint-desktop:calc(1680px - var(--size-absolute-1));--max-width-button:28rem;--border-style-base:solid;--border-style-dashed:dashed;--box-shadow-inset-small:inset 0 0 0 1px;--box-shadow-inset-medium:inset 0 0 0 2px;--box-shadow-inset-medium-vertical:inset 0 -2px 0 0;--box-shadow-outset-small:0 0 0 1px;--box-shadow-outset-small-top:0 -1px 0 0;--box-shadow-outset-small-bottom:0 1px 0 0;--box-shadow-outset-small-start:-1px 0 0 0;--box-shadow-outset-medium-below:0 4px 4px 0;--box-shadow-outset-medium-around:0 0 8px 0;--box-shadow-outset-large-below:0 4px 8px 0;--box-shadow-outset-large-around:0 0 16px 0;--box-shadow-color-base:#a2a9b1;--box-shadow-color-progressive--active:#233566;--box-shadow-color-progressive--focus:#36c;--box-shadow-color-progressive-selected:#36c;--box-shadow-color-progressive-selected--hover:#3056a9;--box-shadow-color-progressive-selected--active:#233566;--box-shadow-color-destructive--focus:#36c;--box-shadow-color-inverted:#fff;--box-shadow-color-alpha-base:rgba(0,0,0,0.06);--box-shadow-color-transparent:transparent;--font-family-base:sans-serif;--font-family-system-sans:-apple-system,\"BlinkMacSystemFont\",\"Segoe UI\",\"Roboto\",\"Inter\",\"Helvetica\",\"Arial\",sans-serif;--font-family-sans--fallback:sans-serif;--font-family-serif:\"Linux Libertine\",\"Georgia\",\"Times\",\"Source Serif Pro\",serif;--font-family-serif--fallback:serif;--font-family-monospace:\"Menlo\",\"Consolas\",\"Liberation Mono\",\"Fira Code\",\"Courier New\",monospace;--font-family-monospace--fallback:monospace,monospace;--font-family-heading-main:\"Linux Libertine\",\"Georgia\",\"Times\",\"Source Serif Pro\",serif;--font-size-x-small:0.75rem;--font-size-small:0.875rem;--font-size-medium:1rem;--font-size-large:1.125rem;--font-size-x-large:1.25rem;--font-size-xx-large:1.5rem;--font-size-xxx-large:1.75rem;--font-weight-hairline:100;--font-weight-light:300;--font-weight-normal:400;--font-weight-semi-bold:600;--font-weight-bold:700;--line-height-x-small:1.25rem;--line-height-small:1.375rem;--line-height-medium:1.625rem;--line-height-large:1.75rem;--line-height-x-large:1.875rem;--line-height-xx-large:2.125rem;--line-height-xxx-large:2.375rem;--line-height-content:1.625;--text-decoration-none:none;--text-decoration-line-through:line-through;--text-decoration-underline:underline;--text-overflow-clip:clip;--text-overflow-ellipsis:ellipsis;--tab-size-base:4;--transform-checkbox-tick--checked:rotate(45deg);--transform-progress-indicator-spinner-start:rotate(-45deg);--transform-progress-indicator-spinner-end:rotate(315deg);--transition-duration-base:100ms;--transition-duration-medium:250ms;--transition-property-base:background-color,color,border-color,box-shadow;--transition-property-fade:opacity;--transition-property-icon:color;--transition-property-icon-css-only:background-color;--transition-property-toggle-switch-grip:background-color,border-color,transform;--transition-timing-function-system:ease;--transition-timing-function-user:ease-out;--animation-delay-none:0ms;--animation-delay-medium:-160ms;--animation-delay-slow:-320ms;--animation-duration-fast:1000ms;--animation-duration-medium:1600ms;--animation-duration-slow:2000ms;--animation-timing-function-base:linear;--animation-timing-function-bouncing:ease-in-out;--animation-iteration-count-base:infinite;--cursor-base:default;--cursor-base--disabled:default;--cursor-base--hover:pointer;--cursor-grab:grab;--cursor-grabbing:grabbing;--cursor-help:help;--cursor-move:move;--cursor-not-allowed:not-allowed;--cursor-resize-nesw:nesw-resize;--cursor-resize-nwse:nwse-resize;--cursor-text:text;--cursor-zoom-in:zoom-in;--cursor-zoom-out:zoom-out;--mix-blend-mode-base:normal;--mix-blend-mode-blend:multiply;--background-color-base:#fff;--background-color-base-fixed:#fff;--background-color-neutral:#eaecf0;--background-color-neutral-subtle:#f8f9fa;--background-color-interactive:#eaecf0;--background-color-interactive--hover:#dadde3;--background-color-interactive--active:#c8ccd1;--background-color-interactive-subtle:#f8f9fa;--background-color-interactive-subtle--hover:#eaecf0;--background-color-interactive-subtle--active:#dadde3;--background-color-disabled:#dadde3;--background-color-disabled-subtle:#eaecf0;--background-color-inverted:#101418;--background-color-progressive:#36c;--background-color-progressive--hover:#3056a9;--background-color-progressive--active:#233566;--background-color-progressive--focus:#36c;--background-color-progressive-subtle:#f1f4fd;--background-color-progressive-subtle--hover:#dce3f9;--background-color-progressive-subtle--active:#cbd6f6;--background-color-destructive:#bf3c2c;--background-color-destructive--hover:#9f3526;--background-color-destructive--active:#612419;--background-color-destructive--focus:#36c;--background-color-destructive-subtle:#ffe9e5;--background-color-destructive-subtle--hover:#ffdad3;--background-color-destructive-subtle--active:#ffc8bd;--background-color-error:#f54739;--background-color-error--hover:#d74032;--background-color-error--active:#bf3c2c;--background-color-error-subtle:#ffe9e5;--background-color-error-subtle--hover:#ffdad3;--background-color-error-subtle--active:#ffc8bd;--background-color-warning-subtle:#fdf2d5;--background-color-success-subtle:#dff2eb;--background-color-notice-subtle:#eaecf0;--background-color-content-added:#a3d3ff;--background-color-content-removed:#ffe49c;--background-color-transparent:transparent;--background-color-backdrop-light:hsla(0,0%,100%,0.65);--background-color-backdrop-dark:rgba(0,0,0,0.65);--background-color-button-quiet--hover:rgba(0,24,73,0.027);--background-color-button-quiet--active:rgba(0,24,73,0.082);--background-color-input-binary--checked:#36c;--background-color-tab-list-item-framed--hover:hsla(0,0%,100%,0.3);--background-color-tab-list-item-framed--active:hsla(0,0%,100%,0.65);--opacity-icon-base:0.87;--opacity-icon-base--hover:0.74;--opacity-icon-base--selected:1;--opacity-icon-base--disabled:0.51;--opacity-icon-placeholder:0.51;--opacity-icon-subtle:0.67;--min-size-interactive-pointer:32px;--min-size-interactive-touch:44px;--min-size-search-figure:40px;--min-size-icon-x-small:10px;--min-size-icon-small:14px;--min-size-icon-medium:18px;--min-size-input-binary:20px;--min-size-toggle-switch-grip:18px;--min-width-medium:256px;--min-width-breakpoint-mobile:320px;--min-width-breakpoint-tablet:640px;--min-width-breakpoint-desktop:1120px;--min-width-breakpoint-desktop-wide:1680px;--min-width-toggle-switch:42px;--spacing-0:0;--spacing-6:1px;--spacing-12:2px;--spacing-25:4px;--spacing-30:5px;--spacing-35:6px;--spacing-50:8px;--spacing-65:10px;--spacing-75:12px;--spacing-100:16px;--spacing-125:20px;--spacing-150:24px;--spacing-200:32px;--spacing-250:40px;--spacing-300:48px;--spacing-400:64px;--spacing-half:50%;--spacing-full:100%;--border-width-base:1px;--border-width-thick:2px;--border-width-input-radio--checked:6px;--border-color-base:#a2a9b1;--border-color-emphasized:#202122;--border-color-subtle:#c8ccd1;--border-color-muted:#dadde3;--border-color-interactive:#72777d;--border-color-interactive--hover:#27292d;--border-color-interactive--active:#202122;--border-color-disabled:#c8ccd1;--border-color-inverted:#fff;--border-color-inverted-fixed:#fff;--border-color-progressive:#6485d1;--border-color-progressive--hover:#3056a9;--border-color-progressive--active:#233566;--border-color-progressive--focus:#36c;--border-color-destructive:#f54739;--border-color-destructive--hover:#9f3526;--border-color-destructive--active:#612419;--border-color-destructive--focus:#36c;--border-color-error:#f54739;--border-color-error--hover:#9f3526;--border-color-error--active:#612419;--border-color-warning:#ab7f2a;--border-color-success:#099979;--border-color-notice:#72777d;--border-color-content-added:#a3d3ff;--border-color-content-removed:#ffe49c;--border-color-transparent:transparent;--border-color-divider:#a2a9b1;--border-radius-base:2px;--border-radius-sharp:0;--border-radius-pill:9999px;--border-radius-circle:50%;--outline-color-progressive--focus:#36c;--min-height-text-area:64px;--min-height-table-header:40px;--min-height-table-footer:40px;--min-height-toggle-switch:28px;--max-height-chip:1.375rem;--color-link-red:var(--color-destructive);--color-link-red--hover:var(--color-destructive--hover);--color-link-red--active:var(--color-destructive--active);--color-link-red--focus:var(--color-destructive--focus);--color-link-red--visited:var(--color-destructive--visited);--color-link-red--visited--hover:var(--color-destructive--visited--hover);--color-link-red--visited--active:var(--color-destructive--visited--active);--size-icon-x-small:calc(var(--font-size-medium) - 4px);--size-icon-small:var(--font-size-medium);--size-icon-medium:calc(var(--font-size-medium) + 4px);--size-toggle-switch-grip:calc(var(--font-size-medium)*1.25);--box-shadow-small:var(--box-shadow-outset-small) var(--box-shadow-color-base);--box-shadow-small-top:var(--box-shadow-outset-small-top) var(--box-shadow-color-base);--box-shadow-small-bottom:var(--box-shadow-outset-small-bottom) var(--box-shadow-color-base);--box-shadow-medium:var(--box-shadow-outset-medium-below) var(--box-shadow-color-alpha-base),var(--box-shadow-outset-medium-around) var(--box-shadow-color-alpha-base);--box-shadow-large:var(--box-shadow-outset-large-below) var(--box-shadow-color-alpha-base),var(--box-shadow-outset-large-around) var(--box-shadow-color-alpha-base);--accent-color-base:#36c;--position-offset-border-width-base:-var(--border-width-base);--spacing-horizontal-button:var(--spacing-75) - var(--border-width-base);--spacing-horizontal-button-icon-only:var(--spacing-35) - var(--border-width-base);--spacing-horizontal-button-small-icon-only:var(--spacing-12) - var(--border-width-base);--spacing-horizontal-button-small:var(--spacing-35) - var(--border-width-base);--spacing-horizontal-button-large:var(--spacing-100) - var(--border-width-base);--spacing-horizontal-input-text-two-end-icons:calc(var(--spacing-50)*2 + var(--size-icon-small));--spacing-start-typeahead-search-figure:var(--spacing-75);--spacing-toggle-switch-grip-start:calc(var(--font-size-medium)*0.375);--spacing-toggle-switch-grip-end:calc(var(--font-size-medium)*1.25);--border-color-input--hover:var(--border-color-interactive);--border-color-input-binary:var(--border-color-interactive);--border-color-input-binary--hover:var(--border-color-progressive--hover);--border-color-input-binary--active:var(--border-color-progressive--active);--border-color-input-binary--focus:var(--border-color-progressive--focus);--border-color-input-binary--checked:var(--border-color-progressive);--border-base:var(--border-width-base) var(--border-style-base) var(--border-color-base);--border-subtle:var(--border-width-base) var(--border-style-base) var(--border-color-subtle);--border-progressive:var(--border-width-base) var(--border-style-base) var(--border-color-progressive);--border-destructive:var(--border-width-base) var(--border-style-base) var(--border-color-destructive);--outline-base--focus:var(--border-width-base) solid transparent;--width-toggle-switch:calc(var(--font-size-medium)*3);--height-toggle-switch:calc(var(--font-size-medium)*2);--spacing-start-typeahead-search-icon:calc(var(--spacing-start-typeahead-search-figure) + var(--min-size-search-figure)/2 - var(--min-size-icon-medium)/2);--spacing-typeahead-search-focus-addition:calc(var(--spacing-start-typeahead-search-figure) + var(--min-size-search-figure) - var(--min-size-icon-medium) - var(--spacing-50));--color-base--subtle:#54595d;--box-shadow-drop-xx-large:0 20px 48px 0 rgba(0,0,0,0.2);--font-family-sans:\"Helvetica Neue\",\"Helvetica\",\"Liberation Sans\",\"Arial\",sans-serif;--line-height-xxx-small:1.4285714rem;--line-height-xx-small:1.5714285rem;--box-shadow-drop-small:var(--box-shadow-outset-small) var(--box-shadow-color-base);--box-shadow-drop-medium:var(--box-shadow-outset-medium-below) var(--box-shadow-color-alpha-base),var(--box-shadow-outset-medium-around) var(--box-shadow-color-alpha-base)}@media only screen and (prefers-color-scheme:dark){:root{--color-base:#eaecf0;--color-base--hover:#f8f9fa;--color-emphasized:#f8f9fa;--color-subtle:#a2a9b1;--color-disabled:#54595d;--color-disabled-emphasized:#72777d;--color-inverted:#101418;--color-progressive:#88a3e8;--color-progressive--hover:#b0c1f0;--color-progressive--active:#cbd6f6;--color-destructive:#fd7865;--color-destructive--hover:#fea898;--color-destructive--active:#ffc8bd;--color-visited:#a799cd;--color-visited--hover:#c5b9dd;--color-visited--active:#d9d0e9;--color-destructive--visited:#c99391;--color-destructive--visited--hover:#dcb5b3;--color-destructive--visited--active:#e8cecd;--color-error:#fd7865;--color-error--hover:#fea898;--color-error--active:#ffc8bd;--color-warning:#ca982e;--color-success:#2cb491;--color-notice:#a2a9b1;--color-content-added:#80cdb3;--color-content-removed:#fd7865;--color-base--subtle:#a2a9b1;--box-shadow-color-base:#72777d;--box-shadow-color-progressive--focus:#6485d1;--box-shadow-color-progressive-selected:#88a3e8;--box-shadow-color-progressive-selected--hover:#b0c1f0;--box-shadow-color-progressive-selected--active:#cbd6f6;--box-shadow-color-destructive--focus:#6485d1;--box-shadow-color-inverted:#000;--box-shadow-color-alpha-base:rgba(0,0,0,0.87);--mix-blend-mode-blend:screen;--background-color-base:#101418;--background-color-neutral:#27292d;--background-color-neutral-subtle:#202122;--background-color-interactive:#27292d;--background-color-interactive--hover:#404244;--background-color-interactive--active:#54595d;--background-color-interactive-subtle:#202122;--background-color-interactive-subtle--hover:#27292d;--background-color-interactive-subtle--active:#404244;--background-color-disabled:#404244;--background-color-disabled-subtle:#27292d;--background-color-inverted:#f8f9fa;--background-color-progressive--focus:#6485d1;--background-color-progressive-subtle:#1b223d;--background-color-progressive-subtle--hover:#233566;--background-color-progressive-subtle--active:#3056a9;--background-color-destructive--focus:#6485d1;--background-color-destructive-subtle:#3c1a13;--background-color-destructive-subtle--hover:#612419;--background-color-destructive-subtle--active:#9f3526;--background-color-error-subtle:#3c1a13;--background-color-error-subtle--hover:#612419;--background-color-error-subtle--active:#9f3526;--background-color-warning-subtle:#2d2212;--background-color-success-subtle:#132821;--background-color-notice-subtle:#27292d;--background-color-content-added:#233566;--background-color-content-removed:#453217;--background-color-backdrop-light:rgba(0,0,0,0.65);--background-color-backdrop-dark:hsla(0,0%,100%,0.65);--border-color-base:#72777d;--border-color-emphasized:#eaecf0;--border-color-subtle:#54595d;--border-color-muted:#404244;--border-color-interactive--hover:#a2a9b1;--border-color-interactive--active:#c8ccd1;--border-color-disabled:#54595d;--border-color-inverted:#101418;--border-color-progressive--hover:#88a3e8;--border-color-progressive--active:#b0c1f0;--border-color-progressive--focus:#6485d1;--border-color-destructive--hover:#fd7865;--border-color-destructive--active:#fea898;--border-color-destructive--focus:#6485d1;--border-color-error--hover:#fd7865;--border-color-error--active:#fea898;--border-color-content-added:#233566;--border-color-content-removed:#987027}}:root{--color-print--visited:#520;--ss-pos-top:1rem;--ss-pos-right:1.2rem;--ss-pos-bottom:1.2rem;--ss-width:9.5rem;--ss-height:2.4rem;--ss-select-width:11rem;--ss-select-z-index:1;--ss-button-z-index:2}html{font-family:sans-serif;-webkit-text-size-adjust:100%;font-size:62.5%}body{margin:0}article,aside,details,figcaption,figure,footer,header,hgroup,main,menu,nav,section,summary{display:block}audio,canvas,progress,video{display:inline-block;vertical-align:baseline}audio:not([controls]){display:none;height:0}[hidden],template{display:none}a{background-color:transparent}a:active,a:hover{outline:0}abbr[title]{border-bottom:1px dotted}b,strong{font-weight:700}dfn{font-style:italic}h1{font-size:3.2rem;margin:1.2rem 0}mark{background:#fef6e7;color:var(--color-emphasized)}small{font-size:1.3rem}sub,sup{font-size:75%;line-height:0;position:relative;vertical-align:baseline}sup{top:-.5em}sub{bottom:-.25em}svg:not(:root){overflow:hidden}figure{margin:1.6rem 4rem}hr{box-sizing:content-box}pre{overflow:auto}code,kbd,pre,samp{font-family:var(--font-family-monospace--fallback);font-size:1.4rem}button,input,optgroup,select,textarea{color:inherit;font:inherit;margin:0}button{overflow:visible}button,select{text-transform:none}button,html input[type=button],input[type=reset],input[type=submit]{-webkit-appearance:button;cursor:pointer}button[disabled],html input[disabled]{cursor:default}button::-moz-focus-inner,input::-moz-focus-inner{border:0;padding:0}input{line-height:normal}input[type=checkbox],input[type=radio]{box-sizing:border-box;padding:0}input[type=number]::-webkit-inner-spin-button,input[type=number]::-webkit-outer-spin-button{height:auto}input[type=search]{-webkit-appearance:none;box-sizing:content-box}input[type=search]::-webkit-search-cancel-button,input[type=search]::-webkit-search-decoration{-webkit-appearance:none}input[type=search]:focus{outline-offset:-2px}fieldset{border:var(--border-base);margin:0 .2rem;padding:.6rem 1rem 1.2rem}legend{border:0;padding:0}textarea{overflow:auto}optgroup{font-weight:700}table{border-collapse:collapse;border-spacing:0}td,th{padding:0}.hidden,[hidden]{display:none!important}.screen-reader-text{display:block;position:absolute!important;clip:rect(1px,1px,1px,1px);width:1px;height:1px;margin:-1px;border:0;padding:0;overflow:hidden}body{background-color:var(--background-color-base);color:var(--color-base);font-family:var(--font-family-system-sans);font-size:1.4rem;line-height:1.5;margin:.4rem 0 1.6rem}main{padding:0 1.28rem}a{touch-action:manipulation}a,a:active,a:focus{unicode-bidi:embed;outline:0;color:var(--color-progressive);text-decoration:none}a:focus{outline:1px solid var(--outline-color-progressive--focus)}a:hover{text-decoration:underline}img{vertical-align:middle}hr,img{border:0}hr{clear:both;height:0;border-bottom:var(--border-subtle);margin:.26rem 0}.pure-button{display:inline-block;zoom:1;line-height:normal;white-space:nowrap;text-align:center;cursor:pointer;-webkit-user-drag:none;-webkit-user-select:none;-moz-user-select:none;user-select:none;box-sizing:border-box;background-color:var(--background-color-interactive-subtle);color:var(--color-base);position:relative;min-height:1.92rem;min-width:1.6rem;margin:.16rem 0;border:var(--border-base);border-radius:var(--border-radius-base);padding:.8rem 1.6rem;font-family:inherit;font-size:inherit;font-weight:700;text-decoration:none;vertical-align:top;transition:background .1s ease,color .1s ease,border-color .1s ease,box-shadow .1s ease}.pure-button::-moz-focus-inner{padding:0;border:0}.pure-button-hover,.pure-button:hover{background-color:var(--background-color-base);border-color:var(--border-color-base);color:var(--color-base--hover)}.pure-button-active,.pure-button:active{background-color:var(--background-color-interactive);border-color:var(--border-color-interactive);color:var(--color-emphasized)}.pure-button:focus{outline:var(--outline-base--focus);border-color:var(--border-color-progressive--focus);box-shadow:var(--box-shadow-inset-small) var(--box-shadow-color-progressive--focus)}.pure-button-primary-progressive{background-color:var(--background-color-progressive);border-color:var(--border-color-progressive);color:var(--color-inverted)}.pure-button-primary-progressive:hover{background:var(--background-color-progressive--hover);border-color:var(--border-color-progressive--hover)}.pure-button-primary-progressive:active{background-color:var(--background-color-progressive--active);border-color:var(--border-color-progressive--active);box-shadow:none;color:var(--color-inverted)}.pure-button-primary-progressive:focus{box-shadow:var(--box-shadow-inset-small) var(--box-shadow-color-progressive--focus),var(--box-shadow-inset-medium) var(--box-shadow-color-inverted);border-color:var(--border-color-progressive--focus)}.pure-form input[type=search]{background-color:var(--background-color-base);display:inline-block;box-sizing:border-box;border:var(--border-base);border-radius:var(--border-radius-base);padding:.8rem;box-shadow:var(--box-shadow-inset-small) var(--box-shadow-color-inverted);vertical-align:middle}.pure-form input:focus:invalid{color:var(--color-error);border-color:var(--border-color-error)}.pure-form fieldset{margin:0;padding:.56rem 0 1.2rem;border:0}@media only screen and (max-width:480px){.pure-form input[type=search]{display:block}}.central-textlogo-wrapper{display:inline-block;vertical-align:bottom}.central-textlogo{position:relative;margin:4rem auto .5rem;width:270px;font-family:Linux Libertine,Hoefler Text,Georgia,Times New Roman,Times,serif;font-size:3rem;font-weight:400;line-height:3.3rem;text-align:center;font-feature-settings:\"ss05\"}.localized-slogan{display:block;font-family:var(--font-family-serif);font-size:1.5rem;font-weight:400}.central-textlogo__image{color:transparent;display:inline-block;overflow:hidden;text-indent:-10000px}@media (prefers-color-scheme:dark){.central-textlogo__image{filter:url('data:image/svg+xml;charset=utf-8,<svg xmlns=\"http://www.w3.org/2000/svg\"><filter id=\"filter\"><feComponentTransfer color-interpolation-filters=\"sRGB\"><feFuncR type=\"table\" tableValues=\"1 0\" /><feFuncG type=\"table\" tableValues=\"1 0\" /><feFuncB type=\"table\" tableValues=\"1 0\" /></feComponentTransfer></filter></svg>#filter');-webkit-filter:invert(100%);filter:invert(100%)}}.central-featured-logo{position:absolute;top:158px;left:35px}@media (max-width:480px){.central-textlogo{position:relative;height:70px;width:auto;margin:2rem 0 0;text-align:center;line-height:2.5rem;text-indent:-1rem;font-size:1em}.central-textlogo-wrapper{position:relative;top:12px;text-indent:.2rem}.svg-Wikipedia_wordmark{width:150px;height:25px;background-position:0 -260px;background-size:100%}.localized-slogan{font-size:1.4rem}.central-featured-logo{position:relative;display:inline-block;width:57px;height:auto;left:0;top:0}}@media (max-width:240px){.central-textlogo__image{height:auto}}.central-featured{position:relative;height:32.5rem;width:54.6rem;max-width:100%;margin:0 auto;text-align:center;vertical-align:middle}.central-featured-lang{position:absolute;width:15.6rem}.central-featured-lang .link-box{display:block;border-radius:var(--border-radius-base);padding:0;text-decoration:none;white-space:normal}.central-featured-lang .link-box:hover strong{text-decoration:underline}.central-featured-lang :hover{background-color:var(--background-color-interactive)}.central-featured-lang strong{display:block;font-size:1.6rem}.central-featured-lang small{color:var(--color-subtle);display:inline-block;font-size:1.3rem;line-height:1.6}.central-featured-lang em{font-style:italic}.central-featured-lang .emNonItalicLang{font-style:normal}.lang1{top:0;right:60%}.lang2{top:0;left:60%}.lang3{top:20%;right:70%}.lang4{top:20%;left:70%}.lang5{top:40%;right:72%}.lang6{top:40%;left:72%}.lang7{top:60%;right:70%}.lang8{top:60%;left:70%}.lang9{top:80%;right:60%}.lang10{top:80%;left:60%}@media (max-width:480px){.central-featured{width:auto;height:auto;margin-top:8rem;font-size:1.3rem;text-align:left}.central-featured:after{content:\" \";display:block;visibility:hidden;clear:both;height:0;font-size:0}.central-featured-lang{display:block;float:left;position:relative;top:auto;left:auto;right:auto;box-sizing:border-box;height:6.4rem;width:33%;margin:0 0 16px;padding:0 1.6rem;font-size:1.4rem;text-align:center}.central-featured-lang strong{font-size:1.4rem;margin-bottom:4px}.central-featured-lang small{line-height:1.4}}@media (max-width:375px){.central-featured-lang{font-size:1.3rem}}@media (max-width:240px){.central-featured-lang{width:100%}}.search-container{float:none;max-width:95%;width:540px;margin:.4rem auto 1.95rem;text-align:center;vertical-align:middle}.search-container fieldset{word-spacing:-4px}.search-container button{min-height:4.4rem;margin:0;border-radius:0 var(--border-radius-base) var(--border-radius-base) 0;padding:.8rem 1.6rem;font-size:1.6rem;z-index:var(--ss-button-z-index)}.search-container button .svg-search-icon{text-indent:-9999px}.search-container input[type=search]::-webkit-search-results-button,.search-container input[type=search]::-webkit-search-results-decoration{-webkit-appearance:none}.search-container input::-webkit-calendar-picker-indicator{display:none}.search-container .sprite.svg-arrow-down{position:absolute;top:.8rem;right:.6rem}#searchInput{-webkit-appearance:none;width:100%;height:4.4rem;border-left-width:var(--border-width-base);border-bottom-width:var(--border-width-base);border-right-width:0;border-top-width:var(--border-width-base);border-radius:var(--border-radius-base) 0 0 var(--border-radius-base);padding:.8rem 9.6rem .8rem 1.2rem;font-size:1.6rem;line-height:1.6;transition:background .1s ease,border-color .1s ease,box-shadow .1s ease}#searchInput:hover{border-color:var(--border-color-interactive)}#searchInput:focus{border-color:var(--border-color-progressive);box-shadow:var(--box-shadow-inset-small) var(--box-shadow-color-progressive--focus);outline:var(--outline-base--focus)}.search-container .search-input{display:inline-block;position:relative;width:73%;vertical-align:top}@media only screen and (max-width:480px){.search-container .pure-form fieldset{margin-left:1rem;margin-right:6.6rem}.search-container .search-input{width:100%;margin-right:-6.6rem}.search-container .pure-form button{float:right;right:-5.6rem}}.suggestions-dropdown{background-color:var(--background-color-base);display:inline-block;position:absolute;left:0;z-index:2;box-sizing:border-box;width:100%;margin:0;padding:0;border:var(--border-base);border-top:0;box-shadow:var(--box-shadow-drop-medium);text-align:left;list-style-type:none;word-spacing:normal}.suggestion-link{display:block;position:relative;box-sizing:border-box;min-height:7rem;width:100%;padding:1rem 1rem 1rem 8.5rem;border-bottom:1px solid var(--border-color-subtle);color:inherit;text-decoration:none;text-align:initial;white-space:normal}.suggestion-link.active{background-color:var(--background-color-progressive-subtle)}a.suggestion-link:hover{text-decoration:none}a.suggestion-link:active,a.suggestion-link:focus{outline:0;white-space:normal}.suggestion-thumbnail{background-color:var(--background-color-interactive);background-image:url(portal/wikipedia.org/assets/img/noimage.png);background-image:linear-gradient(transparent,transparent),url(\"data:image/svg+xml;charset=utf-8,%3Csvg xmlns='http://www.w3.org/2000/svg' viewBox='0 0 56 56'%3E%3Cpath fill='%23eee' d='M0 0h56v56H0z'/%3E%3Cpath fill='%23999' d='M36.4 13.5H17.8v24.9c0 1.4.9 2.3 2.3 2.3h18.7v-25c.1-1.4-1-2.2-2.4-2.2zM30.2 17h5.1v6.4h-5.1V17zm-8.8 0h6v1.8h-6V17zm0 4.6h6v1.8h-6v-1.8zm0 15.5v-1.8h13.8v1.8H21.4zm13.8-4.5H21.4v-1.8h13.8v1.8zm0-4.7H21.4v-1.8h13.8v1.8z'/%3E%3C/svg%3E\");background-image:-o-linear-gradient(transparent,transparent),url(portal/wikipedia.org/assets/img/noimage.png);background-position:50%;background-repeat:no-repeat;background-size:100% auto;background-size:cover;height:100%;width:7rem;position:absolute;top:0;left:0}.suggestion-title{margin:0 0 .78rem;color:var(--color-subtle);font-size:1.6rem;line-height:1.872rem}.suggestion-link.active .suggestion-title{color:var(--color-progressive)}.suggestion-highlight{font-style:normal;text-decoration:underline}.suggestion-description{color:var(--color-placeholder);margin:0;font-size:1.3rem;line-height:1.43rem}.styled-select{display:none;position:absolute;top:var(--ss-pos-top);bottom:var(--ss-pos-bottom);right:var(--ss-pos-right);max-width:var(--ss-width);height:var(--ss-height);border-radius:var(--border-radius-base)}.styled-select:hover{background-color:var(--background-color-interactive-subtle)}.styled-select .hide-arrow{right:3.2rem;max-width:6.8rem;height:var(--ss-height);overflow:hidden;text-align:right}.styled-select select{background:transparent;display:inline;overflow:hidden;height:var(--ss-height);min-width:var(--ss-select-width);max-width:var(--ss-select-width);width:var(--ss-select-width);box-sizing:border-box;border:0;line-height:var(--ss-height);-webkit-appearance:none;-moz-appearance:window;text-indent:.01px;text-overflow:\"\";opacity:0;-moz-appearance:none;appearance:none;cursor:pointer}.styled-select.no-js{width:var(--ss-width)}.styled-select.no-js select{opacity:1;margin:0;padding:0 2.4rem 0 .8rem;color:var(--color-subtle)}.styled-select.no-js .hide-arrow{width:6.8rem}.search-container .styled-select.no-js .js-langpicker-label{display:none}.styled-select.js-enabled .hide-arrow{padding:0 2.4rem 0 .8rem}.styled-select.js-enabled select{background:transparent;position:absolute;top:0;left:0;height:100%;z-index:var(--ss-select-z-index);width:100%;border:0;margin:0;padding:0 2.4rem;color:transparent;color:hsla(0,0%,100%,0)}.styled-select.js-enabled select option{color:var(--color-subtle)}.styled-select.js-enabled select:hover{background-color:transparent}.styled-select-active-helper{display:none}.styled-select.js-enabled select:focus+.styled-select-active-helper{display:block;position:absolute;top:0;left:0;z-index:0;width:100%;height:100%;outline:1px solid var(--outline-color-progressive--focus)}.search-container .js-langpicker-label{display:inline-block;margin:0;color:var(--color-subtle);font-size:1.3rem;line-height:var(--ss-height);text-transform:uppercase}.styled-select select:hover{background-color:var(--background-color-interactive-subtle)}.styled-select select:focus{outline:var(--outline-base--focus);box-shadow:none}@-moz-document url-prefix(){.styled-select select{width:110%}}.other-projects{display:inline-block;width:65%}.other-project{float:left;position:relative;width:33%;height:9rem}.other-project-link{display:inline-block;min-height:50px;width:90%;padding:1em;white-space:nowrap}.other-project-link:hover{background-color:var(--background-color-interactive)}a.other-project-link{text-decoration:none}.other-project-icon{display:inline-block;width:50px;text-align:center}.svg-Wikinews-logo_sister{background-image:url(portal/wikipedia.org/assets/img/Wikinews-logo_sister.png);background-position:0 0;background-size:47px 26px;width:47px;height:26px}@media (-webkit-min-device-pixel-ratio:1.25),(min-resolution:120dpi){.svg-Wikinews-logo_sister{background-image:url(portal/wikipedia.org/assets/img/Wikinews-logo_sister@2x.png)}}.other-project-text,.other-project .sprite-project-logos{display:inline-block}.other-project-text{max-width:65%;font-size:1.4rem;vertical-align:middle;white-space:normal}.other-project-tagline,.other-project-title{display:block}.other-project-tagline{color:var(--color-subtle);font-size:1.3rem}@media screen and (max-width:768px){.other-projects{width:100%}.other-project{width:33%}}@media screen and (max-width:480px){.other-project{width:50%}.other-project-tagline{-webkit-hyphens:auto;hyphens:auto}}@media screen and (max-width:320px){.other-project-text{margin-right:5px;font-size:1.3rem}}.lang-list-container{background-color:var(--background-color-interactive-subtle);overflow:hidden;position:relative;box-sizing:border-box;max-height:0;width:80%;margin:-1.6rem auto 4.8rem;transition:max-height .5s ease-out .16s,visibility .5s ease-in 1s}.js-enabled .lang-list-container{visibility:hidden}.lang-list-active .lang-list-container,.no-js .lang-list-container{visibility:visible;max-height:10000px;transition:max-height 1s ease-in .2s,visibility 1000s ease-in 0ms}.no-js .lang-list-button{display:none}.lang-list-button-wrapper{text-align:center}.lang-list-button{background-color:var(--background-color-interactive-subtle);display:inline;position:relative;z-index:1;margin:0 auto;padding:.6rem 1.2rem;outline:1.6rem solid var(--background-color-base);border:var(--border-base);border-radius:var(--border-radius-base);color:var(--color-progressive);font-size:1.4rem;font-weight:700;line-height:1;transition:outline-width .1s ease-in .5s}.lang-list-button:hover{background-color:var(--background-color-base);border-color:var(--border-color-base)}.lang-list-button:focus{border-color:var(--border-color-progressive--focus);box-shadow:var(--box-shadow-inset-small) var(--box-shadow-color-progressive--focus)}.lang-list-active .lang-list-button{background-color:var(--background-color-base);outline:1px solid var(--border-color-inverted);border-color:var(--border-color-interactive);transition-delay:0s}.lang-list-button-text{padding:0 .64rem;vertical-align:middle}.lang-list-button i{display:inline-block;vertical-align:middle}.no-js .lang-list-border,.no-js .lang-list-button{display:none}.lang-list-border{background-color:var(--border-color-subtle);display:block;position:relative;max-width:460px;width:80%;margin:-1.6rem auto 1.6rem;height:1px;transition:max-width .2s ease-out .4s}.lang-list-active .lang-list-border{max-width:85%;transition-delay:0s}.no-js .lang-list-content{padding:0}.lang-list-content{position:relative;box-sizing:border-box;width:100%;padding:1.6rem 1.6rem 0}.svg-arrow-down-blue{transition:transform .2s ease-out}.lang-list-active .svg-arrow-down-blue{transform:rotate(180deg)}.langlist{width:auto;margin:1.6rem 0;text-align:left}.langlist-others{font-weight:700;text-align:center}.hlist ul{margin:0;padding:0}.hlist li,.hlist ul ul{display:inline}.hlist li:before{content:\" Â· \";font-weight:700}.hlist li:first-child:before{content:none}.hlist li>ul:before{content:\"\\00a0(\"}.hlist li>ul:after{content:\") \"}.langlist>ul{-webkit-column-width:11.2rem;-moz-column-width:11.2rem;column-width:11.2rem}.langlist>ul>li{display:block;line-height:1.7;-webkit-column-break-inside:avoid;page-break-inside:avoid;break-inside:avoid}.no-js .langlist>ul{text-align:center;list-style-type:circle}.no-js .langlist>ul>li{display:inline-block;padding:0 .8rem}.langlist>ul>li:before{content:none}.langlist>ul>li a{white-space:normal}@media (max-width:480px){.langlist{font-size:inherit}.langlist a{word-wrap:break-word;white-space:normal}.lang-list-container{width:auto;margin-left:.8rem;margin-right:.8rem}.bookshelf{overflow:visible}}.bookshelf{display:block;border-top:var(--border-subtle);box-shadow:0 -1px 0 var(--box-shadow-color-inverted);text-align:center;white-space:nowrap}.bookshelf .text{background-color:var(--background-color-interactive-subtle);position:relative;top:-1.12rem;font-weight:400;padding:0 .8rem}.bookshelf-container{display:block;overflow:visible;width:100%;height:1px;margin:2.4rem 0 1.6rem;font-size:1.3rem;font-weight:700;line-height:1.5}@media (max-width:480px){.bookshelf{width:auto;left:auto}.bookshelf-container{text-align:left;width:auto}}.app-badges .footer-sidebar-content{background-color:var(--background-color-interactive-subtle)}.app-badges .footer-sidebar-text{padding-top:.8rem;padding-bottom:.8rem}.app-badges .sprite.footer-sidebar-icon{top:.8rem}.app-badges ul{margin:0;padding:0;list-style-type:none}.app-badge{display:inline-block}.app-badge a{color:transparent}@media screen and (max-width:768px){.app-badges .footer-sidebar-content{text-align:center}.app-badges .sprite.footer-sidebar-icon{display:inline-block;position:relative;margin:0;top:-3px;left:0;vertical-align:middle;transform:scale(.7)}}.footer{overflow:hidden;max-width:100%;margin:0 auto;padding:4.16rem 1.28rem 0;font-size:1.3rem}.footer:after,.footer:before{content:\" \";display:table}.footer:after{clear:both}.footer-sidebar{width:35%;float:left;clear:left;margin-bottom:3.2rem;vertical-align:top}.footer-sidebar-content{position:relative;max-width:350px;margin:0 auto}.sprite.footer-sidebar-icon{position:absolute;top:0;left:.8rem}@media (prefers-color-scheme:dark){.footer-sidebar-icon.sprite.svg-Wikimedia-logo_black{filter:url('data:image/svg+xml;charset=utf-8,<svg xmlns=\"http://www.w3.org/2000/svg\"><filter id=\"filter\"><feComponentTransfer color-interpolation-filters=\"sRGB\"><feFuncR type=\"table\" tableValues=\"1 0\" /><feFuncG type=\"table\" tableValues=\"1 0\" /><feFuncB type=\"table\" tableValues=\"1 0\" /></feComponentTransfer></filter></svg>#filter');-webkit-filter:invert(100%);filter:invert(100%)}}.footer-sidebar-text{position:relative;margin:0;padding-left:6rem;padding-right:2rem;color:var(--color-subtle)}.site-license{color:var(--color-subtle);text-align:center}.site-license small:after{content:\"\\2022\";display:inline-block;font-size:1.3rem;line-height:inherit;margin-left:.8rem;margin-right:.5rem}.site-license small:last-child:after{display:none}.footer hr{margin-top:1.28rem}@media screen and (max-width:768px){.footer{display:flex;flex-direction:column;padding-top:1.28rem}.footer .footer-sidebar{order:1}.footer .other-projects{order:2}.footer .app-badges{order:3}.footer hr{order:4}.footer .site-license{order:5}.footer-sidebar{width:100%}.sprite.footer-sidebar-icon{display:block;position:relative;left:0;margin:0 auto 1.28rem}.footer-sidebar-content{max-width:none}.footer-sidebar-text{margin:0;padding:0;text-align:center}}@media screen and (max-width:480px){.footer{padding:.96rem .64rem 1.28rem}}@media (max-width:480px){.search-container{margin-top:0;height:7.8rem;position:absolute;top:9.6rem;left:0;right:0;max-width:100%;width:auto;padding:0;text-align:left}.search-container label{display:none}.search-form #searchInput{max-width:40%;vertical-align:middle}.search-form .formBtn{max-width:25%;vertical-align:middle}form fieldset{margin:0;border-left:0;border-right:0}hr{margin-top:.65rem}}@media (-webkit-min-device-pixel-ratio:2),(min--moz-device-pixel-ratio:2),(min-resolution:2dppx),(min-resolution:192dpi){hr{border-bottom-width:.5px}}@supports (-webkit-marquee-style:slide){hr{border-bottom-width:1px}}.js-enabled .central-featured,.js-enabled .jsl10n{opacity:0}.jsl10n-visible .central-featured,.jsl10n-visible .jsl10n{opacity:1}@media print{body{background-color:transparent}a{color:#000!important;background:none!important;padding:0!important}a:link,a:visited{color:var(--color-print--visited);background:transparent}img{border:0}}body{overflow-x:hidden}.banner,.banner *{box-sizing:border-box}.banner{display:none;position:relative;z-index:3}.banner.banner--visible{display:block}.banner__close{position:absolute;margin-top:-24px;margin-right:-24px;padding:12px;top:0;right:0;cursor:pointer;background:none;border:0}.banner__button{display:inline-block;border:1px solid;border-radius:var(--border-radius-base);padding:8px 12px;cursor:pointer;font-weight:700;white-space:nowrap;line-height:1;margin-top:8px}.banner__button,.banner__button:hover{text-decoration:none}.overlay-banner-main{max-width:500px;position:fixed;right:10px;bottom:20px;background:#fff;border-radius:10px 10px 0 0;width:calc(100% - 20px);padding:0 8px 8px;height:80vh;border:1px solid #a2a9b1;box-shadow:0 0 15px rgba(50,50,50,.25);transition:all .15s ease-in-out;transform-origin:100% 50%;transform:scale(.5);visibility:hidden;opacity:0}body.overlay-banner-open .overlay-banner-main{visibility:visible;opacity:1;transform:scale(1)}.overlay-banner-main-scroll{padding-bottom:16px;max-height:calc(100% - 42px);overflow:hidden auto;transition:max-height .5s}.overlay-banner-main .frb-header-minimize{top:-48px;position:absolute;right:10px;background:rgba(0,0,0,.75);border-radius:12px 12px 0 0;padding:6px 12px;color:#fff;font-weight:700;text-align:center;font-size:1.6rem;display:flex;align-items:center;cursor:pointer;width:48px;height:48px}.overlay-banner-main .frb-header-minimize-icon{width:40px;height:40px;display:flex;border-radius:2px;justify-content:center;align-items:center}.overlay-banner-main .frb-header-minimize-icon svg{filter:url('data:image/svg+xml;charset=utf-8,<svg xmlns=\"http://www.w3.org/2000/svg\"><filter id=\"filter\"><feComponentTransfer color-interpolation-filters=\"sRGB\"><feFuncR type=\"table\" tableValues=\"1 0\" /><feFuncG type=\"table\" tableValues=\"1 0\" /><feFuncB type=\"table\" tableValues=\"1 0\" /></feComponentTransfer></filter></svg>#filter');-webkit-filter:invert(1);filter:invert(1);width:25px;height:auto;margin-left:-2px}.overlay-banner-main-header{display:flex;width:100%;justify-content:center}.overlay-banner-main-header a{flex:1 0 auto;text-align:center;padding:11px 6px;border:0;background:transparent;color:#36c;font-weight:700;position:relative}.overlay-banner-main-header a:hover{text-decoration:underline;cursor:pointer}.overlay-banner-main-message{position:relative;clear:both;margin-bottom:12px;padding:10px 15px;background-color:#fbe2a2;color:#000;border-radius:1.5em;font-size:1.6rem;line-height:1.5}@media (min-width:720px){.overlay-banner-main-message{padding:12px 20px;font-size:1.7rem;line-height:1.5294117647}}.overlay-banner-main-message-greeting{font-size:1.5em;line-height:1.15;font-weight:700;text-align:center;margin-top:8px}.overlay-banner-main-message-subheading{font-size:1.6rem;line-height:1.35;font-weight:700;text-align:center;margin-top:8px;margin-bottom:16px}.overlay-banner-main-message p{font-size:inherit!important;line-height:inherit!important;margin-bottom:16px}.overlay-banner-main .button-grid{width:100%;display:flex;flex-wrap:wrap;gap:5px 1%}.overlay-banner-main .banner-button{display:flex;justify-content:center;align-items:center;width:100%;height:54px;color:#36c;background-color:#f8f9fa;border-radius:10px;border:1px solid #a2a9b1;text-align:center;cursor:pointer;transition:all .2s ease;font-weight:700;padding:5px 6px;line-height:1}.overlay-banner-main .banner-button:focus,.overlay-banner-main .banner-button:focus-within{border-color:#36c;box-shadow:inset 0 0 0 1px #36c,inset 0 0 0 2px #fff}.overlay-banner-main .button-33{flex:0 1 32%;max-width:32%}.overlay-banner-main .button-67{flex:0 1 65%;max-width:65%}.overlay-banner-main .button-50{flex:0 1 49%;max-width:49%}.overlay-banner-main .button-center{margin:0 auto}.overlay-banner-main .button-collapse{display:flex;justify-content:center;align-items:center;width:auto;height:54px;color:#000;font-weight:700;background:transparent;border:0;text-transform:uppercase;margin-top:15px;cursor:pointer}.overlay-banner-main .button-collapse:hover{text-decoration:underline}.overlay-banner-main .banner-button-disabled{opacity:.5;color:#a2a9b1}.overlay-banner-main .banner-button.selected{background-color:#36c;border-color:#2a4b8d;color:#fff}.overlay-banner-main-amounts,.overlay-banner-main-frequency{position:relative;background-color:#fdf2d5;padding:15px;border-radius:1.5em;margin-bottom:10px}.overlay-banner-main-amounts .error-highlight,.overlay-banner-main-frequency .error-highlight{font-weight:500}.overlay-banner-main-amounts .button-grid,.overlay-banner-main-frequency .button-grid{padding:18px 0 10px}.overlay-banner-main-footer-cta{margin:8px 0;background-color:#f9dde9;color:#000;padding:10px 18px;font-size:1.6rem;line-height:1.5;border-radius:1.5em}.frb-message-icon circle{fill:#b32424}.frb-message-icon path{fill:#fff}.overlay-banner-main-footer-identity{position:relative;clear:both;margin:20px 0 0;color:#000;border-radius:1.5em;line-height:1.3;display:flex;justify-content:center;padding:0 10px}.overlay-banner-main-footer-identity img{width:100%;max-width:110px;margin-right:10px}.overlay-banner-mini{position:fixed;right:0;left:0;bottom:-500px;z-index:9999;background:#fbe2a2;display:flex;justify-content:flex-start;align-items:center;border-top:2px solid #eeb533;box-shadow:0 -2px 10px 0 rgba(0,0,0,.25);transition:all .3s ease}.overlay-banner-mini.visible{bottom:-20px;right:0;left:0}.overlay-banner-mini .frb-conversation-close,.overlay-banner-mini .frb-conversation-open{top:-50px;position:absolute;right:10px;background:rgba(0,0,0,.75);border-radius:12px 12px 0 0;padding:6px 12px;color:#fff;font-weight:700;text-align:center;font-size:1.6rem;display:none;align-items:center;cursor:pointer;width:48px;height:48px}.overlay-banner-mini .frb-conversation-open{right:60px}span.frb-conversation-close-icon:after,span.frb-conversation-close-icon:before{position:absolute;left:50%;top:12px;transform:translateX(-50%);content:\" \";height:25px;width:3px;margin-left:-1px;background-color:#fff}span.frb-conversation-close-icon:before{transform:rotate(45deg)}span.frb-conversation-close-icon:after{transform:rotate(-45deg)}.frb-conversation-open-icon{width:40px;height:40px;display:flex;border-radius:2px;justify-content:center;align-items:center}.frb-conversation-open-icon svg{transform:rotate(180deg);filter:url('data:image/svg+xml;charset=utf-8,<svg xmlns=\"http://www.w3.org/2000/svg\"><filter id=\"filter\"><feComponentTransfer color-interpolation-filters=\"sRGB\"><feFuncR type=\"table\" tableValues=\"1 0\" /><feFuncG type=\"table\" tableValues=\"1 0\" /><feFuncB type=\"table\" tableValues=\"1 0\" /></feComponentTransfer></filter></svg>#filter');-webkit-filter:invert(1);filter:invert(1);width:25px;height:auto}.overlay-banner-mini.visible .frb-conversation-close,.overlay-banner-mini.visible .frb-conversation-open{display:flex}.overlay-banner-mini-message{display:flex;align-items:center;justify-content:center;width:100%;padding:20px 20px 30px;cursor:pointer}.overlay-banner-mini-message-text{flex:0 1 1200px;max-width:1200px}@media (max-width:960px){.overlay-banner-mini-message{flex-wrap:wrap}.overlay-banner-mini-message-text{margin-bottom:10px}.overlay-banner-mini-message-actions,.overlay-banner-mini-message-text{flex:0 0 100%;max-width:100%}}.overlay-banner-mini-message h3{color:#000;margin:0 0 5px;font-size:2.4rem;font-family:Montserrat,Helvetica Neue,Helvetica,Arial,sans-serif}.overlay-banner-mini-message p{display:block;color:#000;position:relative;margin:0 13px 5px 0;font-size:1.7rem}.overlay-banner-mini .frb-message-icon{position:relative;top:0;margin-right:3px;flex:0 0 30px}.overlay-banner-mini .frb-message-icon circle{fill:#fefd34}.overlay-banner-mini .frb-message-icon path{fill:#000}.overlay-banner-mini .frb-submit{position:relative;display:inline-block;padding:10px 15px;margin:0;width:240px;background-color:#36c;border-color:#36c;color:#fff;border-radius:2px;text-align:center;font-weight:700;font-size:2rem;cursor:pointer;transition:background-color .5s ease}.overlay-banner-mini .frb-submit:hover{background:#049dff;border-color:#049dff;color:#000}.overlay-banner-mini .frb-submit:focus{border-color:var(--border-color-progressive--focus);box-shadow:var(--box-shadow-inset-small) var(--box-shadow-color-progressive--focus),var(--box-shadow-inset-medium) var(--box-shadow-color-inverted)}@media (max-width:660px){.overlay-banner-mini-message h3{font-size:2rem}.overlay-banner-mini-message p{font-size:1.3rem}.overlay-banner-mini .frb-submit{width:100%}}.banner .overlay-banner-main-message,.banner .overlay-banner-mini-message-text{display:none}.banner.banner-control .overlay-banner-control,.banner.banner-variant-1 .overlay-banner-variant-1,.banner.banner-variant-2 .overlay-banner-variant-2{display:block}.sr-only{border:0!important;clip:rect(1px,1px,1px,1px)!important;-webkit-clip-path:inset(50%)!important;clip-path:inset(50%)!important;height:1px!important;margin:-1px!important;overflow:hidden!important;padding:0!important;position:absolute!important;width:1px!important;white-space:nowrap!important}@media (prefers-color-scheme:dark){.overlay-banner-main,.overlay-banner-main .frb-header-minimize{background-color:#121212;border-color:#7f7b74}.frb-header-minimize.overlay-banner-toggle{border:1px solid #7f7b74;border-bottom:0}.overlay-banner-main-header a{color:#fc0}.overlay-banner-main-message-subheading{color:#ffe8a2}.overlay-banner-main-message{background-color:#3f3f3f;color:#fff}.overlay-banner-main-amounts,.overlay-banner-main-frequency{background-color:#282828}.overlay-banner-main .banner-button{color:#000;background-color:#8b8b8b;border:1px solid #8b8b8b}.overlay-banner-main .banner-button:focus,.overlay-banner-main .banner-button:hover{color:#000;background-color:#ffd13b;border:1px solid #ffd13b}.overlay-banner-main .banner-button:focus,.overlay-banner-main .banner-button:focus-within{border-color:#fff;box-shadow:inset 0 0 0 1px #fff,inset 0 0 0 2px #fff;outline:0}.overlay-banner-main .banner-button.selected{background-color:#fc0;border-color:#fc0;color:#000}.overlay-banner-main-footer-identity{color:#ffe8a2}.overlay-banner-main-footer-identity img{filter:url('data:image/svg+xml;charset=utf-8,<svg xmlns=\"http://www.w3.org/2000/svg\"><filter id=\"filter\"><feComponentTransfer color-interpolation-filters=\"sRGB\"><feFuncR type=\"table\" tableValues=\"1 0\" /><feFuncG type=\"table\" tableValues=\"1 0\" /><feFuncB type=\"table\" tableValues=\"1 0\" /></feComponentTransfer></filter></svg>#filter');-webkit-filter:invert(1);filter:invert(1)}.overlay-banner-main .button-collapse{color:#fc0}.overlay-banner-mini{background-color:#121212;border-color:#7f7b74}.overlay-banner-mini-message h3{color:#ffe8a2}.overlay-banner-mini-message p{color:#fff}.overlay-banner-mini .frb-message-icon circle{fill:#fc0}.overlay-banner-mini .frb-message-icon path{fill:#000}.overlay-banner-mini .frb-submit{color:#000;background-color:#8b8b8b;border:1px solid #8b8b8b}.overlay-banner-mini .frb-submit:focus,.overlay-banner-mini .frb-submit:hover{color:#000;background-color:#ffd13b;border:1px solid #ffd13b}.overlay-banner-mini .frb-submit:focus,.overlay-banner-mini .frb-submit:focus-within{border-color:#fff;box-shadow:inset 0 0 0 1px #fff,inset 0 0 0 2px #fff;outline:0}.overlay-banner-mini.visible .frb-conversation-close,.overlay-banner-mini.visible .frb-conversation-open{border:1px solid #7f7b74;border-bottom-color:#121212;background-color:#121212;top:-48px}.overlay-banner-main-footer-cta{background:#5a1e2d;color:#fff}.banner-gold .overlay-banner-main,.banner-gold .overlay-banner-main .frb-header-minimize{background-color:#121212;border-color:#7f7b74}.banner-gold .frb-header-minimize.overlay-banner-toggle{border:1px solid #7f7b74;border-bottom:0}.banner-gold .overlay-banner-main-header a{color:#fc0}.banner-gold .overlay-banner-main-message-subheading{color:#ffe8a2}.banner-gold .overlay-banner-main-message{background-color:#3f3f3f;color:#fff}.banner-gold .overlay-banner-main-amounts,.banner-gold .overlay-banner-main-frequency{background-color:#282828}.banner-gold .overlay-banner-main .banner-button{color:#000;background-color:#8b8b8b;border:1px solid #8b8b8b}.banner-gold .overlay-banner-main .banner-button:focus,.banner-gold .overlay-banner-main .banner-button:hover{color:#000;background-color:#ffd13b;border:1px solid #ffd13b}.banner-gold .overlay-banner-main .banner-button:focus,.banner-gold .overlay-banner-main .banner-button:focus-within{border-color:#fff;box-shadow:inset 0 0 0 1px #fff,inset 0 0 0 2px #fff;outline:0}.banner-gold .overlay-banner-main .banner-button.selected{background-color:#fc0;border-color:#fc0;color:#000}.banner-gold .overlay-banner-main-footer-identity{color:#ffe8a2}.banner-gold .overlay-banner-main-footer-identity img{filter:url('data:image/svg+xml;charset=utf-8,<svg xmlns=\"http://www.w3.org/2000/svg\"><filter id=\"filter\"><feComponentTransfer color-interpolation-filters=\"sRGB\"><feFuncR type=\"table\" tableValues=\"1 0\" /><feFuncG type=\"table\" tableValues=\"1 0\" /><feFuncB type=\"table\" tableValues=\"1 0\" /></feComponentTransfer></filter></svg>#filter');-webkit-filter:invert(1);filter:invert(1)}.banner-gold .overlay-banner-main .button-collapse{color:#fc0}.banner-gold .overlay-banner-mini{background-color:#121212;border-color:#7f7b74}.banner-gold .overlay-banner-mini-message h3{color:#ffe8a2}.banner-gold .overlay-banner-mini-message p{color:#fff}.banner-gold .overlay-banner-mini .frb-message-icon circle{fill:#fc0}.banner-gold .overlay-banner-mini .frb-message-icon path{fill:#000}.banner-gold .overlay-banner-mini .frb-submit{color:#000;background-color:#8b8b8b;border:1px solid #8b8b8b}.banner-gold .overlay-banner-mini .frb-submit:focus,.banner-gold .overlay-banner-mini .frb-submit:hover{color:#000;background-color:#ffd13b;border:1px solid #ffd13b}.banner-gold .overlay-banner-mini .frb-submit:focus,.banner-gold .overlay-banner-mini .frb-submit:focus-within{border-color:#fff;box-shadow:inset 0 0 0 1px #fff,inset 0 0 0 2px #fff;outline:0}.banner-gold .overlay-banner-mini.visible .frb-conversation-close,.banner-gold .overlay-banner-mini.visible .frb-conversation-open{border:1px solid #7f7b74;border-bottom-color:#121212;background-color:#121212;top:-48px}.banner-gold .overlay-banner-main-footer-cta{background:#5a1e2d;color:#fff}}\n",
      "</style>\n",
      "<link rel=\"preconnect\" href=\"//upload.wikimedia.org\">\n",
      "<link rel=\"me\" href=\"https://wikis.world/@wikipedia\">\n",
      "<meta property=\"og:url\" content>\n",
      "<meta property=\"og:title\" content=\"Wikipedia, the free encyclopedia\">\n",
      "<meta property=\"og:type\" content=\"website\">\n",
      "<meta property=\"og:description\" content=\"Wikipedia is a free online encyclopedia, created and edited by volunteers around the world and hosted by the Wikimedia Foundation.\">\n",
      "<meta property=\"og:image\" content=\"https://upload.wikimedia.org/wikipedia/en/thumb/8/80/Wikipedia-logo-v2.svg/2244px-Wikipedia-logo-v2.svg.png\">\n",
      "</head>\n",
      "<body id=\"www-wikipedia-org\">\n",
      "<main>\n",
      "<div class=\"central-textlogo\">\n",
      "<img class=\"central-featured-logo\" src=\"portal/wikipedia.org/assets/img/Wikipedia-logo-v2.png\" srcset=\"portal/wikipedia.org/assets/img/Wikipedia-logo-v2@1.5x.png 1.5x, portal/wikipedia.org/assets/img/Wikipedia-logo-v2@2x.png 2x\" width=\"200\" height=\"183\" alt>\n",
      "<h1 class=\"central-textlogo-wrapper\">\n",
      "<span class=\"central-textlogo__image sprite svg-Wikipedia_wordmark\">\n",
      "Wikipedia\n",
      "</span>\n",
      "<strong class=\"jsl10n localized-slogan\" data-jsl10n=\"portal.slogan\">The Free Encyclopedia</strong>\n",
      "</h1>\n",
      "</div>\n",
      "<nav data-jsl10n=\"top-ten-nav-label\" aria-label=\"Top languages\" class=\"central-featured\" data-el-section=\"primary links\">\n",
      "<!-- #1. en.wikipedia.org - 1,651,658,000 views/day -->\n",
      "<div class=\"central-featured-lang lang1\" lang=\"en\" dir=\"ltr\">\n",
      "<a id=\"js-link-box-en\" href=\"//en.wikipedia.org/\" title=\"English â Wikipedia â The Free Encyclopedia\" class=\"link-box\" data-slogan=\"The Free Encyclopedia\">\n",
      "<strong>English</strong>\n",
      "<small>7,050,000+ <span>articles</span></small>\n",
      "</a>\n",
      "</div>\n",
      "<!-- #2. ja.wikipedia.org - 213,092,000 views/day -->\n",
      "<div class=\"central-featured-lang lang2\" lang=\"ja\" dir=\"ltr\">\n",
      "<a id=\"js-link-box-ja\" href=\"//ja.wikipedia.org/\" title=\"Nihongo â ã¦ã£ã­ããã£ã¢ â ããªã¼ç¾ç§äºå",
      "¸\" class=\"link-box\" data-slogan=\"ããªã¼ç¾ç§äºå",
      "¸\">\n",
      "<strong>æ¥æ¬èª</strong>\n",
      "<small>1,471,000+ <span>è¨äº</span></small>\n",
      "</a>\n",
      "</div>\n",
      "<!-- #3. ru.wikipedia.org - 170,921,000 views/day -->\n",
      "<div class=\"central-featured-lang lang3\" lang=\"ru\" dir=\"ltr\">\n",
      "<a id=\"js-link-box-ru\" href=\"//ru.wikipedia.org/\" title=\"Russkiy â ÐÐ¸ÐºÐ¸Ð¿ÐµÐ´Ð¸Ñ â Ð¡Ð²Ð¾Ð±Ð¾Ð´Ð½Ð°Ñ ÑÐ½ÑÐ¸ÐºÐ»Ð¾Ð¿ÐµÐ´Ð¸Ñ\" class=\"link-box\" data-slogan=\"Ð¡Ð²Ð¾Ð±Ð¾Ð´Ð½Ð°Ñ ÑÐ½ÑÐ¸ÐºÐ»Ð¾Ð¿ÐµÐ´Ð¸Ñ\">\n",
      "<strong>Ð ÑÑÑÐºÐ¸Ð¹</strong>\n",
      "<small>2Â 061Â 000+ <span>ÑÑÐ°ÑÐµÐ¹</span></small>\n",
      "</a>\n",
      "</div>\n",
      "<!-- #4. de.wikipedia.org - 167,859,000 views/day -->\n",
      "<div class=\"central-featured-lang lang4\" lang=\"de\" dir=\"ltr\">\n",
      "<a id=\"js-link-box-de\" href=\"//de.wikipedia.org/\" title=\"Deutsch â Wikipedia â Die freie EnzyklopÃ¤die\" class=\"link-box\" data-slogan=\"Die freie EnzyklopÃ¤die\">\n",
      "<strong>Deutsch</strong>\n",
      "<small>3.046.000+ <span>Artikel</span></small>\n",
      "</a>\n",
      "</div>\n",
      "<!-- #5. fr.wikipedia.org - 146,049,000 views/day -->\n",
      "<div class=\"central-featured-lang lang5\" lang=\"fr\" dir=\"ltr\">\n",
      "<a id=\"js-link-box-fr\" href=\"//fr.wikipedia.org/\" title=\"FranÃ§ais â WikipÃ©dia â LâencyclopÃ©die libre\" class=\"link-box\" data-slogan=\"LâencyclopÃ©die libre\">\n",
      "<strong>FranÃ§ais</strong>\n",
      "<small>2â¯706â¯000+ <span>articles</span></small>\n",
      "</a>\n",
      "</div>\n",
      "<!-- #6. es.wikipedia.org - 139,328,000 views/day -->\n",
      "<div class=\"central-featured-lang lang6\" lang=\"es\" dir=\"ltr\">\n",
      "<a id=\"js-link-box-es\" href=\"//es.wikipedia.org/\" title=\"EspaÃ±ol â Wikipedia â La enciclopedia libre\" class=\"link-box\" data-slogan=\"La enciclopedia libre\">\n",
      "<strong>EspaÃ±ol</strong>\n",
      "<small>2.058.000+ <span>artÃ­culos</span></small>\n",
      "</a>\n",
      "</div>\n",
      "<!-- #7. zh.wikipedia.org - 110,552,000 views/day -->\n",
      "<div class=\"central-featured-lang lang7\" lang=\"zh\" dir=\"ltr\">\n",
      "<a id=\"js-link-box-zh\" href=\"//zh.wikipedia.org/\" title=\"ZhÅngwÃ©n â ç»´åºç¾ç§ / ç¶­åºç¾ç§ â èªç±çç¾ç§å",
      "¨ä¹¦ / èªç±çç¾ç§å",
      "¨æ¸\" class=\"link-box localize-variant\" data-slogan=\"èªç±çç¾ç§å",
      "¨ä¹¦ / èªç±çç¾ç§å",
      "¨æ¸\">\n",
      "<strong>ä¸­æ</strong>\n",
      "<small>1,497,000+ <span>æ¡ç® / æ¢ç®</span></small>\n",
      "</a>\n",
      "</div>\n",
      "<!-- #8. it.wikipedia.org - 104,698,000 views/day -->\n",
      "<div class=\"central-featured-lang lang8\" lang=\"it\" dir=\"ltr\">\n",
      "<a id=\"js-link-box-it\" href=\"//it.wikipedia.org/\" title=\"Italiano â Wikipedia â L&#x27;enciclopedia libera\" class=\"link-box\" data-slogan=\"L&#x27;enciclopedia libera\">\n",
      "<strong>Italiano</strong>\n",
      "<small>1.933.000+ <span>voci</span></small>\n",
      "</a>\n",
      "</div>\n",
      "<!-- #9. pl.wikipedia.org - 44,820,000 views/day -->\n",
      "<div class=\"central-featured-lang lang9\" lang=\"pl\" dir=\"ltr\">\n",
      "<a id=\"js-link-box-pl\" href=\"//pl.wikipedia.org/\" title=\"Polski â Wikipedia â Wolna encyklopedia\" class=\"link-box\" data-slogan=\"Wolna encyklopedia\">\n",
      "<strong>Polski</strong>\n",
      "<small>1Â 667Â 000+ <span>haseÅ</span></small>\n",
      "</a>\n",
      "</div>\n",
      "<!-- #10. pt.wikipedia.org - 44,197,000 views/day -->\n",
      "<div class=\"central-featured-lang lang10\" lang=\"pt\" dir=\"ltr\">\n",
      "<a id=\"js-link-box-pt\" href=\"//pt.wikipedia.org/\" title=\"PortuguÃªs â WikipÃ©dia â A EnciclopÃ©dia Livre\" class=\"link-box\" data-slogan=\"A EnciclopÃ©dia Livre\">\n",
      "<strong>PortuguÃªs</strong>\n",
      "<small>1.154.000+ <span>artigos</span></small>\n",
      "</a>\n",
      "</div>\n",
      "</nav>\n",
      "<div role=\"search\" class=\"search-container\">\n",
      "<form class=\"pure-form\" id=\"search-form\" action=\"//www.wikipedia.org/search-redirect.php\" data-el-section=\"search\">\n",
      "<fieldset>\n",
      "<input type=\"hidden\" name=\"family\" value=\"wikipedia\">\n",
      "<div class=\"search-input\" id=\"search-input\">\n",
      "<label for=\"searchInput\" class=\"screen-reader-text\" data-jsl10n=\"portal.search-input-label\">Search Wikipedia</label>\n",
      "<input id=\"searchInput\" name=\"search\" type=\"search\" size=\"20\" autofocus=\"autofocus\" accesskey=\"F\" dir=\"auto\" autocomplete=\"off\">\n",
      "<div class=\"styled-select no-js\">\n",
      "<div class=\"hide-arrow\">\n",
      "<select id=\"searchLanguage\" name=\"language\">\n",
      "<option value=\"af\" lang=\"af\">Afrikaans</option>\n",
      "<option value=\"sq\" lang=\"sq\">Shqip</option><!-- Anglisht -->\n",
      "<option value=\"ar\" lang=\"ar\">Ø§ÙØ¹Ø±Ø¨ÙØ©</option><!-- Al-Ê¿ArabÄ«yah -->\n",
      "<option value=\"ast\" lang=\"ast\">Asturianu</option>\n",
      "<option value=\"az\" lang=\"az\">AzÉrbaycanca</option>\n",
      "<option value=\"bg\" lang=\"bg\">ÐÑÐ»Ð³Ð°ÑÑÐºÐ¸</option><!-- BÇlgarski -->\n",
      "<option value=\"nan\" lang=\"nan\">é©åèª / BÃ¢n-lÃ¢m-gÃº</option><!-- BÃ¢n-lÃ¢m-gÃº -->\n",
      "<option value=\"bn\" lang=\"bn\">à¦¬à¦¾à¦à¦²à¦¾</option><!-- Bangla -->\n",
      "<option value=\"be\" lang=\"be\">ÐÐµÐ»Ð°ÑÑÑÐºÐ°Ñ</option><!-- Belaruskaya -->\n",
      "<option value=\"ca\" lang=\"ca\">CatalÃ </option>\n",
      "<option value=\"cs\" lang=\"cs\">ÄeÅ¡tina</option>\n",
      "<option value=\"cy\" lang=\"cy\">Cymraeg</option>\n",
      "<option value=\"da\" lang=\"da\">Dansk</option>\n",
      "<option value=\"de\" lang=\"de\">Deutsch</option>\n",
      "<option value=\"et\" lang=\"et\">Eesti</option>\n",
      "<option value=\"el\" lang=\"el\">ÎÎ»Î»Î·Î½Î¹ÎºÎ¬</option><!-- EllÄ«nikÃ¡ -->\n",
      "<option value=\"en\" lang=\"en\" selected=selected>English</option><!-- English -->\n",
      "<option value=\"es\" lang=\"es\">EspaÃ±ol</option><!-- EspaÃ±ol -->\n",
      "<option value=\"eo\" lang=\"eo\">Esperanto</option>\n",
      "<option value=\"eu\" lang=\"eu\">Euskara</option>\n",
      "<option value=\"fa\" lang=\"fa\">ÙØ§Ø±Ø³Û</option><!-- FÄrsi -->\n",
      "<option value=\"fr\" lang=\"fr\">FranÃ§ais</option>\n",
      "<option value=\"gl\" lang=\"gl\">Galego</option><!-- Galego -->\n",
      "<option value=\"ko\" lang=\"ko\">íêµ­ì´</option><!-- Hangugeo -->\n",
      "<option value=\"hy\" lang=\"hy\">ÕÕ¡ÕµÕ¥ÖÕ¥Õ¶</option><!-- Hayeren -->\n",
      "<option value=\"hi\" lang=\"hi\">à¤¹à¤¿à¤¨à¥à¤¦à¥</option><!-- HindÄ« -->\n",
      "<option value=\"hr\" lang=\"hr\">Hrvatski</option>\n",
      "<option value=\"id\" lang=\"id\">Bahasa Indonesia</option>\n",
      "<option value=\"it\" lang=\"it\">Italiano</option>\n",
      "<option value=\"he\" lang=\"he\">×¢××¨××ª</option><!-- Ivrit -->\n",
      "<option value=\"ka\" lang=\"ka\">á¥áá áá£áá</option><!-- Kartuli -->\n",
      "<option value=\"lld\" lang=\"lld\">Ladin</option>\n",
      "<option value=\"la\" lang=\"la\">Latina</option>\n",
      "<option value=\"lv\" lang=\"lv\">LatvieÅ¡u</option>\n",
      "<option value=\"lt\" lang=\"lt\">LietuviÅ³</option>\n",
      "<option value=\"hu\" lang=\"hu\">Magyar</option>\n",
      "<option value=\"mk\" lang=\"mk\">ÐÐ°ÐºÐµÐ´Ð¾Ð½ÑÐºÐ¸</option><!-- Makedonski -->\n",
      "<option value=\"mg\" lang=\"mg\">Malagasy</option>\n",
      "<option value=\"mr\" lang=\"mr\">à¤®à¤°à¤¾à¤ à¥</option><!-- Marathi -->\n",
      "<option value=\"arz\" lang=\"arz\">Ù",
      "ØµØ±Ù</option><!-- Maá¹£rÄ« -->\n",
      "<option value=\"ms\" lang=\"ms\">Bahasa Melayu</option><!-- Bahasa Melayu -->\n",
      "<option value=\"min\" lang=\"min\">Bahaso Minangkabau</option>\n",
      "<option value=\"my\" lang=\"my\">áá¼ááºáá¬áá¬áá¬</option><!-- Myanmarsar -->\n",
      "<option value=\"nl\" lang=\"nl\">Nederlands</option>\n",
      "<option value=\"ja\" lang=\"ja\">æ¥æ¬èª</option><!-- Nihongo -->\n",
      "<option value=\"no\" lang=\"nb\">Norsk (bokmÃ¥l)</option>\n",
      "<option value=\"nn\" lang=\"nn\">Norsk (nynorsk)</option>\n",
      "<option value=\"ce\" lang=\"ce\">ÐÐ¾Ñ",
      "ÑÐ¸Ð¹Ð½</option><!-- NoxÃ§iyn -->\n",
      "<option value=\"uz\" lang=\"uz\">OÊ»zbekcha / ÐÐ·Ð±ÐµÐºÑÐ°</option>\n",
      "<option value=\"pl\" lang=\"pl\">Polski</option>\n",
      "<option value=\"pt\" lang=\"pt\">PortuguÃªs</option>\n",
      "<option value=\"kk\" lang=\"kk\">ÒÐ°Ð·Ð°ÒÑÐ° / QazaqÅa / ÙØ§Ø²Ø§ÙØ´Ø§</option>\n",
      "<option value=\"ro\" lang=\"ro\">RomÃ¢nÄ</option>\n",
      "<option value=\"simple\" lang=\"en\">Simple English</option>\n",
      "<option value=\"ceb\" lang=\"ceb\">Sinugboanong Binisaya</option>\n",
      "<option value=\"sk\" lang=\"sk\">SlovenÄina</option>\n",
      "<option value=\"sl\" lang=\"sl\">SlovenÅ¡Äina</option><!-- SlovenÅ¡Äina -->\n",
      "<option value=\"sr\" lang=\"sr\">Ð¡ÑÐ¿ÑÐºÐ¸ / Srpski</option>\n",
      "<option value=\"sh\" lang=\"sh\">Srpskohrvatski / Ð¡ÑÐ¿ÑÐºÐ¾Ñ",
      "ÑÐ²Ð°ÑÑÐºÐ¸</option>\n",
      "<option value=\"fi\" lang=\"fi\">Suomi</option>\n",
      "<option value=\"sv\" lang=\"sv\">Svenska</option>\n",
      "<option value=\"sw\" lang=\"sw\">Kiswahili</option>\n",
      "<option value=\"ta\" lang=\"ta\">à®¤à®®à®¿à®´à¯</option><!-- Tamiá¸» -->\n",
      "<option value=\"tt\" lang=\"tt\">Ð¢Ð°ÑÐ°ÑÑÐ° / TatarÃ§a</option>\n",
      "<option value=\"te\" lang=\"te\">à°¤à±à°²à±à°à±</option><!-- Telugu -->\n",
      "<option value=\"th\" lang=\"th\">à¸ à¸²à¸©à¸²à¹à¸à¸¢</option><!-- Phasa Thai -->\n",
      "<option value=\"tg\" lang=\"tg\">Ð¢Ð¾Ò·Ð¸ÐºÓ£</option><!-- TojikÄ« -->\n",
      "<option value=\"azb\" lang=\"azb\">ØªÛØ±Ú©Ø¬Ù</option><!-- TÃ¼rkce -->\n",
      "<option value=\"tr\" lang=\"tr\">TÃ¼rkÃ§e</option>\n",
      "<option value=\"uk\" lang=\"uk\">Ð£ÐºÑÐ°ÑÐ½ÑÑÐºÐ°</option><!-- Ukrayinsâka -->\n",
      "<option value=\"ur\" lang=\"ur\">Ø§Ø±Ø¯Ù</option><!-- Urdu -->\n",
      "<option value=\"vi\" lang=\"vi\">Tiáº¿ng Viá»t</option>\n",
      "<option value=\"war\" lang=\"war\">Winaray</option>\n",
      "<option value=\"zh\" lang=\"zh\">ä¸­æ</option><!-- ZhÅngwÃ©n -->\n",
      "<option value=\"ru\" lang=\"ru\">Ð ÑÑÑÐºÐ¸Ð¹</option><!-- Russkiy -->\n",
      "<option value=\"yue\" lang=\"yue\">ç²µèª</option>\n",
      "</select>\n",
      "<div class=\"styled-select-active-helper\"></div>\n",
      "</div>\n",
      "<i class=\"sprite svg-arrow-down\"></i>\n",
      "</div>\n",
      "</div>\n",
      "<button class=\"pure-button pure-button-primary-progressive\" type=\"submit\">\n",
      "<i class=\"sprite svg-search-icon\" data-jsl10n=\"search-input-button\">Search</i>\n",
      "</button>\n",
      "<input type=\"hidden\" value=\"Go\" name=\"go\">\n",
      "</fieldset>\n",
      "</form>\n",
      "</div>\n",
      "<nav data-jsl10n=\"all-languages-nav-label\" aria-label=\"All languages\">\n",
      "<div class=\"lang-list-button-wrapper\">\n",
      "<button id=\"js-lang-list-button\" aria-expanded=\"false\" aria-controls=\"js-lang-lists\" class=\"lang-list-button\">\n",
      "<i class=\"sprite svg-language-icon\"></i>\n",
      "<span class=\"lang-list-button-text jsl10n\" data-jsl10n=\"portal.language-button-text\">Read Wikipedia in your language </span>\n",
      "<i class=\"sprite svg-arrow-down-blue\"></i>\n",
      "</button>\n",
      "</div>\n",
      "<div class=\"lang-list-border\"></div>\n",
      "<div class=\"lang-list-container\">\n",
      "<div id=\"js-lang-lists\" class=\"lang-list-content\">\n",
      "<h2 class=\"bookshelf-container\">\n",
      "<span class=\"bookshelf\">\n",
      "<span class=\"text\">\n",
      "<bdi dir=\"ltr\">\n",
      "1,000,000+\n",
      "</bdi>\n",
      "<span class=\"jsl10n\" data-jsl10n=\"entries\">\n",
      "articles\n",
      "</span>\n",
      "</span>\n",
      "</span>\n",
      "</h2>\n",
      "<div class=\"langlist langlist-large hlist\" data-el-section=\"secondary links\">\n",
      "<ul>\n",
      "<li><a href=\"//ar.wikipedia.org/\" lang=\"ar\" title=\"Al-Ê¿ArabÄ«yah\"><bdi dir=\"rtl\">Ø§ÙØ¹Ø±Ø¨ÙØ©</bdi></a></li>\n",
      "<li><a href=\"//de.wikipedia.org/\" lang=\"de\">Deutsch</a></li>\n",
      "<li><a href=\"//en.wikipedia.org/\" lang=\"en\" title=\"English\">English</a></li>\n",
      "<li><a href=\"//es.wikipedia.org/\" lang=\"es\" title=\"EspaÃ±ol\">EspaÃ±ol</a></li>\n",
      "<li><a href=\"//fa.wikipedia.org/\" lang=\"fa\" title=\"FÄrsi\"><bdi dir=\"rtl\">ÙØ§Ø±Ø³Û</bdi></a></li>\n",
      "<li><a href=\"//fr.wikipedia.org/\" lang=\"fr\">FranÃ§ais</a></li>\n",
      "<li><a href=\"//it.wikipedia.org/\" lang=\"it\">Italiano</a></li>\n",
      "<li><a href=\"//arz.wikipedia.org/\" lang=\"arz\" title=\"Maá¹£rÄ«\"><bdi dir=\"rtl\">Ù",
      "ØµØ±Ù</bdi></a></li>\n",
      "<li><a href=\"//nl.wikipedia.org/\" lang=\"nl\">Nederlands</a></li>\n",
      "<li><a href=\"//ja.wikipedia.org/\" lang=\"ja\" title=\"Nihongo\">æ¥æ¬èª</a></li>\n",
      "<li><a href=\"//pl.wikipedia.org/\" lang=\"pl\">Polski</a></li>\n",
      "<li><a href=\"//pt.wikipedia.org/\" lang=\"pt\">PortuguÃªs</a></li>\n",
      "<li><a href=\"//ceb.wikipedia.org/\" lang=\"ceb\">Sinugboanong Binisaya</a></li>\n",
      "<li><a href=\"//sv.wikipedia.org/\" lang=\"sv\">Svenska</a></li>\n",
      "<li><a href=\"//uk.wikipedia.org/\" lang=\"uk\" title=\"Ukrayinsâka\">Ð£ÐºÑÐ°ÑÐ½ÑÑÐºÐ°</a></li>\n",
      "<li><a href=\"//vi.wikipedia.org/\" lang=\"vi\">Tiáº¿ng Viá»t</a></li>\n",
      "<li><a href=\"//war.wikipedia.org/\" lang=\"war\">Winaray</a></li>\n",
      "<li><a href=\"//zh.wikipedia.org/\" lang=\"zh\" title=\"ZhÅngwÃ©n\">ä¸­æ</a></li>\n",
      "<li><a href=\"//ru.wikipedia.org/\" lang=\"ru\" title=\"Russkiy\">Ð ÑÑÑÐºÐ¸Ð¹</a></li>\n",
      "</ul>\n",
      "</div>\n",
      "<h2 class=\"bookshelf-container\">\n",
      "<span class=\"bookshelf\">\n",
      "<span class=\"text\">\n",
      "<bdi dir=\"ltr\">\n",
      "100,000+\n",
      "</bdi>\n",
      "<span class=\"jsl10n\" data-jsl10n=\"portal.entries\">\n",
      "articles\n",
      "</span>\n",
      "</span>\n",
      "</span>\n",
      "</h2>\n",
      "<div class=\"langlist langlist-large hlist\" data-el-section=\"secondary links\">\n",
      "<ul>\n",
      "<li><a href=\"//af.wikipedia.org/\" lang=\"af\">Afrikaans</a></li>\n",
      "<li><a href=\"//sq.wikipedia.org/\" lang=\"sq\" title=\"Anglisht\">Shqip</a></li>\n",
      "<li><a href=\"//ast.wikipedia.org/\" lang=\"ast\">Asturianu</a></li>\n",
      "<li><a href=\"//az.wikipedia.org/\" lang=\"az\">AzÉrbaycanca</a></li>\n",
      "<li><a href=\"//bg.wikipedia.org/\" lang=\"bg\" title=\"BÇlgarski\">ÐÑÐ»Ð³Ð°ÑÑÐºÐ¸</a></li>\n",
      "<li><a href=\"//zh-min-nan.wikipedia.org/\" lang=\"nan\" title=\"BÃ¢n-lÃ¢m-gÃº\">é©åèª / BÃ¢n-lÃ¢m-gÃº</a></li>\n",
      "<li><a href=\"//bn.wikipedia.org/\" lang=\"bn\" title=\"Bangla\">à¦¬à¦¾à¦à¦²à¦¾</a></li>\n",
      "<li><a href=\"//be.wikipedia.org/\" lang=\"be\" title=\"Belaruskaya\">ÐÐµÐ»Ð°ÑÑÑÐºÐ°Ñ</a></li>\n",
      "<li><a href=\"//ca.wikipedia.org/\" lang=\"ca\">CatalÃ </a></li>\n",
      "<li><a href=\"//cs.wikipedia.org/\" lang=\"cs\">ÄeÅ¡tina</a></li>\n",
      "<li><a href=\"//cy.wikipedia.org/\" lang=\"cy\">Cymraeg</a></li>\n",
      "<li><a href=\"//da.wikipedia.org/\" lang=\"da\">Dansk</a></li>\n",
      "<li><a href=\"//et.wikipedia.org/\" lang=\"et\">Eesti</a></li>\n",
      "<li><a href=\"//el.wikipedia.org/\" lang=\"el\" title=\"EllÄ«nikÃ¡\">ÎÎ»Î»Î·Î½Î¹ÎºÎ¬</a></li>\n",
      "<li><a href=\"//eo.wikipedia.org/\" lang=\"eo\">Esperanto</a></li>\n",
      "<li><a href=\"//eu.wikipedia.org/\" lang=\"eu\">Euskara</a></li>\n",
      "<li><a href=\"//gl.wikipedia.org/\" lang=\"gl\" title=\"Galego\">Galego</a></li>\n",
      "<li><a href=\"//ko.wikipedia.org/\" lang=\"ko\" title=\"Hangugeo\">íêµ­ì´</a></li>\n",
      "<li><a href=\"//hy.wikipedia.org/\" lang=\"hy\" title=\"Hayeren\">ÕÕ¡ÕµÕ¥ÖÕ¥Õ¶</a></li>\n",
      "<li><a href=\"//hi.wikipedia.org/\" lang=\"hi\" title=\"HindÄ«\">à¤¹à¤¿à¤¨à¥à¤¦à¥</a></li>\n",
      "<li><a href=\"//hr.wikipedia.org/\" lang=\"hr\">Hrvatski</a></li>\n",
      "<li><a href=\"//id.wikipedia.org/\" lang=\"id\">Bahasa Indonesia</a></li>\n",
      "<li><a href=\"//he.wikipedia.org/\" lang=\"he\" title=\"Ivrit\"><bdi dir=\"rtl\">×¢××¨××ª</bdi></a></li>\n",
      "<li><a href=\"//ka.wikipedia.org/\" lang=\"ka\" title=\"Kartuli\">á¥áá áá£áá</a></li>\n",
      "<li><a href=\"//lld.wikipedia.org/\" lang=\"lld\">Ladin</a></li>\n",
      "<li><a href=\"//la.wikipedia.org/\" lang=\"la\">Latina</a></li>\n",
      "<li><a href=\"//lv.wikipedia.org/\" lang=\"lv\">LatvieÅ¡u</a></li>\n",
      "<li><a href=\"//lt.wikipedia.org/\" lang=\"lt\">LietuviÅ³</a></li>\n",
      "<li><a href=\"//hu.wikipedia.org/\" lang=\"hu\">Magyar</a></li>\n",
      "<li><a href=\"//mk.wikipedia.org/\" lang=\"mk\" title=\"Makedonski\">ÐÐ°ÐºÐµÐ´Ð¾Ð½ÑÐºÐ¸</a></li>\n",
      "<li><a href=\"//mg.wikipedia.org/\" lang=\"mg\">Malagasy</a></li>\n",
      "<li><a href=\"//mr.wikipedia.org/\" lang=\"mr\" title=\"Marathi\">à¤®à¤°à¤¾à¤ à¥</a></li>\n",
      "<li><a href=\"//ms.wikipedia.org/\" lang=\"ms\" title=\"Bahasa Melayu\">Bahasa Melayu</a></li>\n",
      "<li><a href=\"//min.wikipedia.org/\" lang=\"min\">Bahaso Minangkabau</a></li>\n",
      "<li><a href=\"//my.wikipedia.org/\" lang=\"my\" title=\"Myanmarsar\">áá¼ááºáá¬áá¬áá¬</a></li>\n",
      "<li lang=\"no\">Norsk<ul><li><a href=\"//no.wikipedia.org/\" lang=\"nb\">bokmÃ¥l</a></li><li><a href=\"//nn.wikipedia.org/\" lang=\"nn\">nynorsk</a></li></ul></li>\n",
      "<li><a href=\"//ce.wikipedia.org/\" lang=\"ce\" title=\"NoxÃ§iyn\">ÐÐ¾Ñ",
      "ÑÐ¸Ð¹Ð½</a></li>\n",
      "<li><a href=\"//uz.wikipedia.org/\" lang=\"uz\">OÊ»zbekcha / ÐÐ·Ð±ÐµÐºÑÐ°</a></li>\n",
      "<li><a href=\"//kk.wikipedia.org/\" lang=\"kk\"><span lang=\"kk-Cyrl\">ÒÐ°Ð·Ð°ÒÑÐ°</span> / <span lang=\"kk-Latn\">QazaqÅa</span> / <bdi lang=\"kk-Arab\" dir=\"rtl\">ÙØ§Ø²Ø§ÙØ´Ø§</bdi></a></li>\n",
      "<li><a href=\"//ro.wikipedia.org/\" lang=\"ro\">RomÃ¢nÄ</a></li>\n",
      "<li><a href=\"//simple.wikipedia.org/\" lang=\"en\">Simple English</a></li>\n",
      "<li><a href=\"//sk.wikipedia.org/\" lang=\"sk\">SlovenÄina</a></li>\n",
      "<li><a href=\"//sl.wikipedia.org/\" lang=\"sl\" title=\"SlovenÅ¡Äina\">SlovenÅ¡Äina</a></li>\n",
      "<li><a href=\"//sr.wikipedia.org/\" lang=\"sr\">Ð¡ÑÐ¿ÑÐºÐ¸ / Srpski</a></li>\n",
      "<li><a href=\"//sh.wikipedia.org/\" lang=\"sh\">Srpskohrvatski / Ð¡ÑÐ¿ÑÐºÐ¾Ñ",
      "ÑÐ²Ð°ÑÑÐºÐ¸</a></li>\n",
      "<li><a href=\"//fi.wikipedia.org/\" lang=\"fi\">Suomi</a></li>\n",
      "<li><a href=\"//sw.wikipedia.org/\" lang=\"sw\">Kiswahili</a></li>\n",
      "<li><a href=\"//ta.wikipedia.org/\" lang=\"ta\" title=\"Tamiá¸»\">à®¤à®®à®¿à®´à¯</a></li>\n",
      "<li><a href=\"//tt.wikipedia.org/\" lang=\"tt\">Ð¢Ð°ÑÐ°ÑÑÐ° / TatarÃ§a</a></li>\n",
      "<li><a href=\"//te.wikipedia.org/\" lang=\"te\" title=\"Telugu\">à°¤à±à°²à±à°à±</a></li>\n",
      "<li><a href=\"//th.wikipedia.org/\" lang=\"th\" title=\"Phasa Thai\">à¸ à¸²à¸©à¸²à¹à¸à¸¢</a></li>\n",
      "<li><a href=\"//tg.wikipedia.org/\" lang=\"tg\" title=\"TojikÄ«\">Ð¢Ð¾Ò·Ð¸ÐºÓ£</a></li>\n",
      "<li><a href=\"//azb.wikipedia.org/\" lang=\"azb\" title=\"TÃ¼rkce\"><bdi dir=\"rtl\">ØªÛØ±Ú©Ø¬Ù</bdi></a></li>\n",
      "<li><a href=\"//tr.wikipedia.org/\" lang=\"tr\">TÃ¼rkÃ§e</a></li>\n",
      "<li><a href=\"//ur.wikipedia.org/\" lang=\"ur\" title=\"Urdu\"><bdi dir=\"rtl\">Ø§Ø±Ø¯Ù</bdi></a></li>\n",
      "<li><a href=\"//zh-yue.wikipedia.org/\" lang=\"yue\">ç²µèª</a></li>\n",
      "</ul>\n",
      "</div>\n",
      "<h2 class=\"bookshelf-container\">\n",
      "<span class=\"bookshelf\">\n",
      "<span class=\"text\">\n",
      "<bdi dir=\"ltr\">\n",
      "10,000+\n",
      "</bdi>\n",
      "<span class=\"jsl10n\" data-jsl10n=\"portal.entries\">\n",
      "articles\n",
      "</span>\n",
      "</span>\n",
      "</span>\n",
      "</h2>\n",
      "<div class=\"langlist hlist\" data-el-section=\"secondary links\">\n",
      "<ul>\n",
      "<li><a href=\"//ace.wikipedia.org/\" lang=\"ace\">Bahsa AcÃ¨h</a></li>\n",
      "<li><a href=\"//als.wikipedia.org/\" lang=\"gsw\">Alemannisch</a></li>\n",
      "<li><a href=\"//am.wikipedia.org/\" lang=\"am\" title=\"ÄmariÃ±Ã±Ä\">á áá­á</a></li>\n",
      "<li><a href=\"//an.wikipedia.org/\" lang=\"an\">AragonÃ©s</a></li>\n",
      "<li><a href=\"//hyw.wikipedia.org/\" lang=\"hyw\" title=\"Arevmdahayeren\">Ô±ÖÕ¥ÖÕ´Õ¿Õ¡Õ°Õ¡ÕµÕ¥ÖÕ§Õ¶</a></li>\n",
      "<li><a href=\"//gor.wikipedia.org/\" lang=\"gor\">Bahasa Hulontalo</a></li>\n",
      "<li><a href=\"//ban.wikipedia.org/\" lang=\"ban\" title=\"Basa Bali\">Basa Bali</a></li>\n",
      "<li><a href=\"//bjn.wikipedia.org/\" lang=\"bjn\">Bahasa Banjar</a></li>\n",
      "<li><a href=\"//map-bms.wikipedia.org/\" lang=\"map-x-bms\">Basa Banyumasan</a></li>\n",
      "<li><a href=\"//ba.wikipedia.org/\" lang=\"ba\" title=\"BaÅqortsa\">ÐÐ°ÑÒ¡Ð¾ÑÑÑÐ°</a></li>\n",
      "<li><a href=\"//be-tarask.wikipedia.org/\" lang=\"be-tarask\" title=\"Bielaruskaja (taraÅ¡kievica)\">ÐÐµÐ»Ð°ÑÑÑÐºÐ°Ñ (ÑÐ°ÑÐ°ÑÐºÐµÐ²ÑÑÐ°)</a></li>\n",
      "<li><a href=\"//bcl.wikipedia.org/\" lang=\"bcl\">Bikol Central</a></li>\n",
      "<li><a href=\"//bpy.wikipedia.org/\" lang=\"bpy\" title=\"Bishnupriya Manipuri\">à¦¬à¦¿à¦·à§à¦£à§à¦ªà§à¦°à¦¿à¦¯à¦¼à¦¾ à¦®à¦£à¦¿à¦ªà§à¦°à§</a></li>\n",
      "<li><a href=\"//bar.wikipedia.org/\" lang=\"bar\">Boarisch</a></li>\n",
      "<li><a href=\"//bs.wikipedia.org/\" lang=\"bs\">Bosanski</a></li>\n",
      "<li><a href=\"//br.wikipedia.org/\" lang=\"br\">Brezhoneg</a></li>\n",
      "<li><a href=\"//cv.wikipedia.org/\" lang=\"cv\" title=\"ÄÄvaÅ¡la\">Ð§ÓÐ²Ð°ÑÐ»Ð°</a></li>\n",
      "<li><a href=\"//dag.wikipedia.org/\" lang=\"dag\">Dagbanli</a></li>\n",
      "<li><a href=\"//ary.wikipedia.org/\" lang=\"ary\" title=\"Darija\"><bdi dir=\"rtl\">Ø§ÙØ¯Ø§Ø±Ø¬Ø©</bdi></a></li>\n",
      "<li><a href=\"//nv.wikipedia.org/\" lang=\"nv\">DinÃ© Bizaad</a></li>\n",
      "<li><a href=\"//eml.wikipedia.org/\" lang=\"roa-x-eml\">EmigliÃ nâRumagnÃ²l</a></li>\n",
      "<li><a href=\"//hif.wikipedia.org/\" lang=\"hif\">Fiji Hindi</a></li>\n",
      "<li><a href=\"//fo.wikipedia.org/\" lang=\"fo\">FÃ¸royskt</a></li>\n",
      "<li><a href=\"//fy.wikipedia.org/\" lang=\"fy\">Frysk</a></li>\n",
      "<li><a href=\"//ff.wikipedia.org/\" lang=\"ff\">Fulfulde</a></li>\n",
      "<li><a href=\"//ga.wikipedia.org/\" lang=\"ga\">Gaeilge</a></li>\n",
      "<li><a href=\"//gd.wikipedia.org/\" lang=\"gd\">GÃ idhlig</a></li>\n",
      "<li><a href=\"//glk.wikipedia.org/\" lang=\"glk\" title=\"GilÉki\"><bdi dir=\"rtl\">Ú¯ÛÙÚ©Û</bdi></a></li>\n",
      "<li><a href=\"//gu.wikipedia.org/\" lang=\"gu\" title=\"Gujarati\">àªà«àªàª°àª¾àª¤à«</a></li>\n",
      "<li><a href=\"//hak.wikipedia.org/\" lang=\"hak\">Hak-kÃ¢-ngÃ® / å®¢å®¶èª</a></li>\n",
      "<li><a href=\"//ha.wikipedia.org/\" lang=\"ha\">Hausa</a></li>\n",
      "<li><a href=\"//hsb.wikipedia.org/\" lang=\"hsb\">Hornjoserbsce</a></li>\n",
      "<li><a href=\"//io.wikipedia.org/\" lang=\"io\">Ido</a></li>\n",
      "<li><a href=\"//ig.wikipedia.org/\" lang=\"ig\">Igbo</a></li>\n",
      "<li><a href=\"//ilo.wikipedia.org/\" lang=\"ilo\">Ilokano</a></li>\n",
      "<li><a href=\"//ia.wikipedia.org/\" lang=\"ia\">Interlingua</a></li>\n",
      "<li><a href=\"//ie.wikipedia.org/\" lang=\"ie\">Interlingue</a></li>\n",
      "<li><a href=\"//os.wikipedia.org/\" lang=\"os\" title=\"Iron\">ÐÑÐ¾Ð½</a></li>\n",
      "<li><a href=\"//is.wikipedia.org/\" lang=\"is\">Ãslenska</a></li>\n",
      "<li><a href=\"//jv.wikipedia.org/\" lang=\"jv\">Jawa</a></li>\n",
      "<li><a href=\"//kn.wikipedia.org/\" lang=\"kn\" title=\"Kannada\">à²à²¨à³à²¨à²¡</a></li>\n",
      "<li><a href=\"//pam.wikipedia.org/\" lang=\"pam\">Kapampangan</a></li>\n",
      "<li><a href=\"//km.wikipedia.org/\" lang=\"km\" title=\"PhÃ©asa KhmÃ©r\">áá¶áá¶ááááá</a></li>\n",
      "<li><a href=\"//avk.wikipedia.org/\" lang=\"avk\">Kotava</a></li>\n",
      "<li><a href=\"//ht.wikipedia.org/\" lang=\"ht\">KreyÃ²l Ayisyen</a></li>\n",
      "<li><a href=\"//ku.wikipedia.org/\" lang=\"ku\"><span lang=\"ku-Latn\">KurdÃ®</span> / <bdi lang=\"ku-Arab\" dir=\"rtl\">ÙÙØ±Ø¯Û</bdi></a></li>\n",
      "<li><a href=\"//ckb.wikipedia.org/\" lang=\"ckb\" title=\"KurdÃ®y NawendÃ®\"><bdi dir=\"rtl\">Ú©ÙØ±Ø¯ÛÛ ÙØ§ÙÛÙØ¯Û</bdi></a></li>\n",
      "<li><a href=\"//ky.wikipedia.org/\" lang=\"ky\" title=\"KyrgyzÄa\">ÐÑÑÐ³ÑÐ·ÑÐ°</a></li>\n",
      "<li><a href=\"//mrj.wikipedia.org/\" lang=\"mjr\" title=\"Kyryk Mary\">ÐÑÑÑÐº Ð¼Ð°ÑÑ</a></li>\n",
      "<li><a href=\"//lb.wikipedia.org/\" lang=\"lb\">LÃ«tzebuergesch</a></li>\n",
      "<li><a href=\"//lij.wikipedia.org/\" lang=\"lij\">LÃ¬gure</a></li>\n",
      "<li><a href=\"//li.wikipedia.org/\" lang=\"li\">Limburgs</a></li>\n",
      "<li><a href=\"//lmo.wikipedia.org/\" lang=\"lmo\">Lombard</a></li>\n",
      "<li><a href=\"//mai.wikipedia.org/\" lang=\"mai\" title=\"MaithilÄ«\">à¤®à¥à¤¥à¤¿à¤²à¥</a></li>\n",
      "<li><a href=\"//ml.wikipedia.org/\" lang=\"ml\" title=\"Malayalam\">à´®à´²à´¯à´¾à´³à´</a></li>\n",
      "<li><a href=\"//xmf.wikipedia.org/\" lang=\"xmf\" title=\"Margaluri\">ááá áááá£á á</a></li>\n",
      "<li><a href=\"//mzn.wikipedia.org/\" lang=\"mzn\" title=\"MÃ¤zeruni\"><bdi dir=\"rtl\">Ù",
      "Ø§Ø²ÙØ±ÙÙÛ</bdi></a></li>\n",
      "<li><a href=\"//cdo.wikipedia.org/\" lang=\"cdo\" title=\"Ming-deng-ngu\">MÃ¬ng-dÄÌ¤ng-ngá¹³Ì / é©æ±èª</a></li>\n",
      "<li><a href=\"//mn.wikipedia.org/\" lang=\"mn\" title=\"Mongol\">ÐÐ¾Ð½Ð³Ð¾Ð»</a></li>\n",
      "<li><a href=\"//nap.wikipedia.org/\" lang=\"nap\">Napulitano</a></li>\n",
      "<li><a href=\"//new.wikipedia.org/\" lang=\"new\" title=\"Nepal Bhasa\">à¤¨à¥à¤ªà¤¾à¤² à¤­à¤¾à¤·à¤¾</a></li>\n",
      "<li><a href=\"//ne.wikipedia.org/\" lang=\"ne\" title=\"NepÄlÄ«\">à¤¨à¥à¤ªà¤¾à¤²à¥</a></li>\n",
      "<li><a href=\"//frr.wikipedia.org/\" lang=\"frr\">Nordfriisk</a></li>\n",
      "<li><a href=\"//oc.wikipedia.org/\" lang=\"oc\">Occitan</a></li>\n",
      "<li><a href=\"//mhr.wikipedia.org/\" lang=\"mhr\" title=\"Olyk Marij\">ÐÐ»ÑÐº Ð¼Ð°ÑÐ¸Ð¹</a></li>\n",
      "<li><a href=\"//or.wikipedia.org/\" lang=\"or\" title=\"Oá¹iÄ\">à¬à¬¡à¬¿à¬¼à¬</a></li>\n",
      "<li><a href=\"//as.wikipedia.org/\" lang=\"as\" title=\"ÃxÃ´miya\">à¦",
      "à¦¸à¦®à§à¦¯à¦¾à¦¼</a></li>\n",
      "<li><a href=\"//pa.wikipedia.org/\" lang=\"pa\" title=\"PaÃ±jÄbÄ« (GurmukhÄ«)\">à¨ªà©°à¨à¨¾à¨¬à©</a></li>\n",
      "<li><a href=\"//pnb.wikipedia.org/\" lang=\"pnb\" title=\"PaÃ±jÄbÄ« (ShÄhmukhÄ«)\"><bdi dir=\"rtl\">Ù¾ÙØ¬Ø§Ø¨Û (Ø´Ø§Û Ù",
      "Ú©Ú¾Û)</bdi></a></li>\n",
      "<li><a href=\"//ps.wikipedia.org/\" lang=\"ps\" title=\"PaÊto\"><bdi dir=\"rtl\">Ù¾ÚØªÙ</bdi></a></li>\n",
      "<li><a href=\"//pms.wikipedia.org/\" lang=\"pms\">PiemontÃ¨is</a></li>\n",
      "<li><a href=\"//nds.wikipedia.org/\" lang=\"nds\">PlattdÃ¼Ã¼tsch</a></li>\n",
      "<li><a href=\"//kaa.wikipedia.org/\" lang=\"kaa\">Qaraqalpaqsha</a></li>\n",
      "<li><a href=\"//crh.wikipedia.org/\" lang=\"crh\">QÄ±rÄ±mtatarca</a></li>\n",
      "<li><a href=\"//qu.wikipedia.org/\" lang=\"qu\">Runa Simi</a></li>\n",
      "<li><a href=\"//rue.wikipedia.org/\" lang=\"rue\" title=\"Rusinâskyj\">Ð ÑÑÐ¸Ð½ÑÑÐºÑÐ¹</a></li>\n",
      "<li><a href=\"//sa.wikipedia.org/\" lang=\"sa\" title=\"Saá¹ská¹tam\">à¤¸à¤à¤¸à¥à¤à¥à¤¤à¤®à¥</a></li>\n",
      "<li><a href=\"//sat.wikipedia.org/\" lang=\"sat\" title=\"Santali\">á±¥á±á±±á±á±á±²á±¤</a></li>\n",
      "<li><a href=\"//skr.wikipedia.org/\" lang=\"skr\" title=\"Saraiki\">Ø³Ø±Ø§Ø¦ÛÚ©Û</a></li>\n",
      "<li><a href=\"//sah.wikipedia.org/\" lang=\"sah\" title=\"Saxa Tyla\">Ð¡Ð°Ñ",
      "Ð° Ð¢ÑÐ»Ð°</a></li>\n",
      "<li><a href=\"//sco.wikipedia.org/\" lang=\"sco\">Scots</a></li>\n",
      "<li><a href=\"//sn.wikipedia.org/\" lang=\"sn\">ChiShona</a></li>\n",
      "<li><a href=\"//scn.wikipedia.org/\" lang=\"scn\">Sicilianu</a></li>\n",
      "<li><a href=\"//si.wikipedia.org/\" lang=\"si\" title=\"Siá¹hala\">à·à·à¶à·à¶½</a></li>\n",
      "<li><a href=\"//sd.wikipedia.org/\" lang=\"sd\" title=\"SindhÄ«\"><bdi dir=\"rtl\">Ø³ÙÚÙ</bdi></a></li>\n",
      "<li><a href=\"//szl.wikipedia.org/\" lang=\"szl\">ÅlÅ¯nski</a></li>\n",
      "<li><a href=\"//su.wikipedia.org/\" lang=\"su\">Basa Sunda</a></li>\n",
      "<li><a href=\"//shi.wikipedia.org/\" lang=\"shi\">Taclá¸¥it</a></li>\n",
      "<li><a href=\"//tl.wikipedia.org/\" lang=\"tl\">Tagalog</a></li>\n",
      "<li><a href=\"//shn.wikipedia.org/\" lang=\"shn\">á½áááááááá¸</a></li>\n",
      "<li><a href=\"//zgh.wikipedia.org/\" lang=\"zgh\" title=\"Tamazight tanawayt\">âµâ´°âµâ´°âµ£âµâµâµ âµâ´°âµâ´°âµ¡â´°âµ¢âµ</a></li>\n",
      "<li><a href=\"//tum.wikipedia.org/\" lang=\"tum\">chiTumbuka</a></li>\n",
      "<li><a href=\"//bug.wikipedia.org/\" lang=\"bug\">Basa Ugi</a></li>\n",
      "<li><a href=\"//vec.wikipedia.org/\" lang=\"vec\">VÃ¨neto</a></li>\n",
      "<li><a href=\"//vo.wikipedia.org/\" lang=\"vo\">VolapÃ¼k</a></li>\n",
      "<li><a href=\"//wa.wikipedia.org/\" lang=\"wa\">Walon</a></li>\n",
      "<li><a href=\"//zh-classical.wikipedia.org/\" lang=\"lzh\" title=\"WÃ©nyÃ¡n\">æè¨</a></li>\n",
      "<li><a href=\"//wuu.wikipedia.org/\" lang=\"wuu\" title=\"WÃºyÇ\">å´è¯­</a></li>\n",
      "<li><a href=\"//yi.wikipedia.org/\" lang=\"yi\" title=\"YidiÅ¡\"><bdi dir=\"rtl\">××Ö´×××©</bdi></a></li>\n",
      "<li><a href=\"//yo.wikipedia.org/\" lang=\"yo\">YorÃ¹bÃ¡</a></li>\n",
      "<li><a href=\"//diq.wikipedia.org/\" lang=\"diq\">Zazaki</a></li>\n",
      "<li><a href=\"//bat-smg.wikipedia.org/\" lang=\"sgs\">Å¾emaitÄÅ¡ka</a></li>\n",
      "<li><a href=\"//zu.wikipedia.org/\" lang=\"zu\">isiZulu</a></li>\n",
      "<li><a href=\"//mni.wikipedia.org/\" lang=\"mni\">ê¯ê¯¤ê¯ê¯© ê¯ê¯£ê¯</a></li>\n",
      "</ul>\n",
      "</div>\n",
      "<h2 class=\"bookshelf-container\">\n",
      "<span class=\"bookshelf\">\n",
      "<span class=\"text\">\n",
      "<bdi dir=\"ltr\">\n",
      "1,000+\n",
      "</bdi>\n",
      "<span class=\"jsl10n\" data-jsl10n=\"portal.entries\">\n",
      "articles\n",
      "</span>\n",
      "</span>\n",
      "</span>\n",
      "</h2>\n",
      "<div class=\"langlist hlist\" data-el-section=\"secondary links\">\n",
      "<ul>\n",
      "<li><a href=\"//lad.wikipedia.org/\" lang=\"lad\"><span lang=\"lad-Latn\">Dzhudezmo</span> / <bdi lang=\"lad-Hebr\" dir=\"rtl\">××××× ×</bdi></a></li>\n",
      "<li><a href=\"//kbd.wikipedia.org/\" lang=\"kbd\" title=\"Adighabze\">ÐÐ´ÑÐ³ÑÐ±Ð·Ñ</a></li>\n",
      "<li><a href=\"//ang.wikipedia.org/\" lang=\"ang\">Ãnglisc</a></li>\n",
      "<li><a href=\"//smn.wikipedia.org/\" lang=\"smn\" title=\"AnarÃ¢Å¡kielÃ¢\">AnarÃ¢Å¡kielÃ¢</a></li>\n",
      "<li><a href=\"//anp.wikipedia.org/\" lang=\"anp\" title=\"Angika\">à¤",
      "à¤à¤à¤¿à¤à¤¾</a></li>\n",
      "<li><a href=\"//ab.wikipedia.org/\" lang=\"ab\" title=\"Aá¹sshwa\">ÐÔ¥ÑÑÓÐ°</a></li>\n",
      "<li><a href=\"//roa-rup.wikipedia.org/\" lang=\"rup\">armÃ£neashti</a></li>\n",
      "<li><a href=\"//frp.wikipedia.org/\" lang=\"frp\">Arpitan</a></li>\n",
      "<li><a href=\"//atj.wikipedia.org/\" lang=\"atj\">atikamekw</a></li>\n",
      "<li><a href=\"//arc.wikipedia.org/\" lang=\"arc\" title=\"ÄtÃ»rÄyÃ¢\"><bdi dir=\"rtl\">ÜÜ¬ÜÜªÜÜ</bdi></a></li>\n",
      "<li><a href=\"//gn.wikipedia.org/\" lang=\"gn\">AvaÃ±eâáº½</a></li>\n",
      "<li><a href=\"//av.wikipedia.org/\" lang=\"av\" title=\"Avar\">ÐÐ²Ð°Ñ</a></li>\n",
      "<li><a href=\"//ay.wikipedia.org/\" lang=\"ay\">Aymar</a></li>\n",
      "<li><a href=\"//bbc.wikipedia.org/\" lang=\"bbc\">Batak Toba</a></li>\n",
      "<li><a href=\"//bew.wikipedia.org/\" lang=\"bew\">Betawi</a></li>\n",
      "<li><a href=\"//bh.wikipedia.org/\" lang=\"bh\" title=\"BhÅjapurÄ«\">à¤­à¥à¤à¤ªà¥à¤°à¥</a></li>\n",
      "<li><a href=\"//bi.wikipedia.org/\" lang=\"bi\">Bislama</a></li>\n",
      "<li><a href=\"//bo.wikipedia.org/\" lang=\"bo\" title=\"Bod Skad\">à½à½¼à½à¼à½¡à½²à½</a></li>\n",
      "<li><a href=\"//bxr.wikipedia.org/\" lang=\"bxr\" title=\"Buryad\">ÐÑÑÑÐ°Ð´</a></li>\n",
      "<li><a href=\"//cbk-zam.wikipedia.org/\" lang=\"cbk-x-zam\">Chavacano de Zamboanga</a></li>\n",
      "<li><a href=\"//ny.wikipedia.org/\" lang=\"ny\">Chichewa</a></li>\n",
      "<li><a href=\"//co.wikipedia.org/\" lang=\"co\">Corsu</a></li>\n",
      "<li><a href=\"//za.wikipedia.org/\" lang=\"za\">Vahcuengh / è©±å®</a></li>\n",
      "<li><a href=\"//dga.wikipedia.org/\" lang=\"dga\">Dagaare</a></li>\n",
      "<li><a href=\"//se.wikipedia.org/\" lang=\"se\" title=\"DavvisÃ¡megiella\">DavvisÃ¡megiella</a></li>\n",
      "<li><a href=\"//pdc.wikipedia.org/\" lang=\"pdc\">Deitsch</a></li>\n",
      "<li><a href=\"//dv.wikipedia.org/\" lang=\"dv\" title=\"Divehi\"><bdi dir=\"rtl\">ÞÞ¨ÞÞ¬ÞÞ¨ÞÞ¦ÞÞ°</bdi></a></li>\n",
      "<li><a href=\"//dsb.wikipedia.org/\" lang=\"dsb\">Dolnoserbski</a></li>\n",
      "<li><a href=\"//dtp.wikipedia.org/\" lang=\"dtp\">Dusun Bundu-liwan</a></li>\n",
      "<li><a href=\"//myv.wikipedia.org/\" lang=\"myv\" title=\"Erzjanj\">Ð­ÑÐ·ÑÐ½Ñ</a></li>\n",
      "<li><a href=\"//ext.wikipedia.org/\" lang=\"ext\">EstremeÃ±u</a></li>\n",
      "<li><a href=\"//ee.wikipedia.org/\" lang=\"ee\">EÊegbe</a></li>\n",
      "<li><a href=\"//gur.wikipedia.org/\" lang=\"gur\">Farefare</a></li>\n",
      "<li><a href=\"//fon.wikipedia.org/\" lang=\"fon\">FÉÌngbÃ¨</a></li>\n",
      "<li><a href=\"//fur.wikipedia.org/\" lang=\"fur\">Furlan</a></li>\n",
      "<li><a href=\"//gv.wikipedia.org/\" lang=\"gv\">Gaelg</a></li>\n",
      "<li><a href=\"//gag.wikipedia.org/\" lang=\"gag\">Gagauz</a></li>\n",
      "<li><a href=\"//inh.wikipedia.org/\" lang=\"inh\" title=\"Ghalghai\">ÐÓÐ°Ð»Ð³ÓÐ°Ð¹</a></li>\n",
      "<li><a href=\"//gpe.wikipedia.org/\" lang=\"gpe\">Ghanaian Pidgin</a></li>\n",
      "<li><a href=\"//ki.wikipedia.org/\" lang=\"ki\">GÄ©kÅ©yÅ©</a></li>\n",
      "<li><a href=\"//gan.wikipedia.org/\" lang=\"gan\" title=\"Gon ua\" data-hans=\"èµ£è¯­\" data-hant=\"è´èª\" class=\"jscnconv\">èµ£è¯­ / è´èª</a></li>\n",
      "<li><a href=\"//guw.wikipedia.org/\" lang=\"guw\">Gungbe</a></li>\n",
      "<li><a href=\"//xal.wikipedia.org/\" lang=\"xal\" title=\"HalÊ¹mg\">Ð¥Ð°Ð»ÑÐ¼Ð³</a></li>\n",
      "<li><a href=\"//haw.wikipedia.org/\" lang=\"haw\">Ê»Ålelo HawaiÊ»i</a></li>\n",
      "<li><a href=\"//rw.wikipedia.org/\" lang=\"rw\">Ikinyarwanda</a></li>\n",
      "<li><a href=\"//iba.wikipedia.org/\" lang=\"iba\">Jaku Iban</a></li>\n",
      "<li><a href=\"//kbp.wikipedia.org/\" lang=\"kbp\">KabÉ©yÉ</a></li>\n",
      "<li><a href=\"//knc.wikipedia.org/\" lang=\"knc\">Yerwa Kanuri</a></li>\n",
      "<li><a href=\"//csb.wikipedia.org/\" lang=\"csb\">KaszÃ«bsczi</a></li>\n",
      "<li><a href=\"//kw.wikipedia.org/\" lang=\"kw\">Kernewek</a></li>\n",
      "<li><a href=\"//kv.wikipedia.org/\" lang=\"kv\" title=\"Komi\">ÐÐ¾Ð¼Ð¸</a></li>\n",
      "<li><a href=\"//koi.wikipedia.org/\" lang=\"koi\" title=\"Perem Komi\">ÐÐµÑÐµÐ¼ ÐºÐ¾Ð¼Ð¸</a></li>\n",
      "<li><a href=\"//kg.wikipedia.org/\" lang=\"kg\">Kongo</a></li>\n",
      "<li><a href=\"//gom.wikipedia.org/\" lang=\"gom\">à¤à¥à¤à¤à¤£à¥ / Konknni</a></li>\n",
      "<li><a href=\"//ks.wikipedia.org/\" lang=\"ks\" title=\"Koshur\"><bdi dir=\"rtl\">ÙÙ²Ø´ÙØ±</bdi></a></li>\n",
      "<li><a href=\"//gcr.wikipedia.org/\" lang=\"gcr\">KriyÃ²l Gwiyannen</a></li>\n",
      "<li><a href=\"//kge.wikipedia.org/\" lang=\"kge\">Kumoring</a></li>\n",
      "<li><a href=\"//kus.wikipedia.org/\" lang=\"kus\">KÊsaal</a></li>\n",
      "<li><a href=\"//lo.wikipedia.org/\" lang=\"lo\" title=\"Phaasaa Laao\">àºàº²àºªàº²àº¥àº²àº§</a></li>\n",
      "<li><a href=\"//lbe.wikipedia.org/\" lang=\"lbe\" title=\"Lakku\">ÐÐ°ÐºÐºÑ</a></li>\n",
      "<li><a href=\"//ltg.wikipedia.org/\" lang=\"ltg\">LatgaÄ¼u</a></li>\n",
      "<li><a href=\"//lez.wikipedia.org/\" lang=\"lez\" title=\"Lezgi\">ÐÐµÐ·Ð³Ð¸</a></li>\n",
      "<li><a href=\"//nia.wikipedia.org/\" lang=\"nia\">Li Niha</a></li>\n",
      "<li><a href=\"//ln.wikipedia.org/\" lang=\"ln\">LingÃ¡la</a></li>\n",
      "<li><a href=\"//lfn.wikipedia.org/\" lang=\"lfn\">Lingua Franca Nova</a></li>\n",
      "<li><a href=\"//olo.wikipedia.org/\" lang=\"olo\">livvinkarjala</a></li>\n",
      "<li><a href=\"//jbo.wikipedia.org/\" lang=\"jbo\">lojban</a></li>\n",
      "<li><a href=\"//lg.wikipedia.org/\" lang=\"lg\">Luganda</a></li>\n",
      "<li><a href=\"//mad.wikipedia.org/\" lang=\"mad\">MadhurÃ¢</a></li>\n",
      "<li><a href=\"//mt.wikipedia.org/\" lang=\"mt\">Malti</a></li>\n",
      "<li><a href=\"//btm.wikipedia.org/\" lang=\"btm\">Mandailing</a></li>\n",
      "<li><a href=\"//mi.wikipedia.org/\" lang=\"mi\">MÄori</a></li>\n",
      "<li><a href=\"//fat.wikipedia.org/\" lang=\"fat\">Mfantse</a></li>\n",
      "<li><a href=\"//mwl.wikipedia.org/\" lang=\"mwl\">MirandÃ©s</a></li>\n",
      "<li><a href=\"//mdf.wikipedia.org/\" lang=\"mdf\" title=\"MokÅ¡enj\">ÐÐ¾ÐºÑÐµÐ½Ñ</a></li>\n",
      "<li><a href=\"//mnw.wikipedia.org/\" lang=\"mnw\">áá¬áá¬ áááº</a></li>\n",
      "<li><a href=\"//mos.wikipedia.org/\" lang=\"mos\">Moore</a></li>\n",
      "<li><a href=\"//nqo.wikipedia.org/\" lang=\"nqo\" title=\"N&#x27;Ko\">ßßß</a></li>\n",
      "<li><a href=\"//fj.wikipedia.org/\" lang=\"fj\">Na Vosa Vaka-Viti</a></li>\n",
      "<li><a href=\"//nah.wikipedia.org/\" lang=\"nah\">NÄhuatlahtÅlli</a></li>\n",
      "<li><a href=\"//pcm.wikipedia.org/\" lang=\"pcm\">NaijÃ¡</a></li>\n",
      "<li><a href=\"//nds-nl.wikipedia.org/\" lang=\"nds-nl\">Nedersaksisch</a></li>\n",
      "<li><a href=\"//nrm.wikipedia.org/\" lang=\"roa-x-nrm\">Nouormand / Normaund</a></li>\n",
      "<li><a href=\"//nov.wikipedia.org/\" lang=\"nov\">Novial</a></li>\n",
      "<li><a href=\"//om.wikipedia.org/\" lang=\"om\">Afaan Oromoo</a></li>\n",
      "<li><a href=\"//blk.wikipedia.org/\" lang=\"blk\">áá¡á­á¯ááºááá¬ááá¬á</a></li>\n",
      "<li><a href=\"//pi.wikipedia.org/\" lang=\"pi\" title=\"PÄá¸·i\">à¤ªà¤¾à¤²à¤¿</a></li>\n",
      "<li><a href=\"//pag.wikipedia.org/\" lang=\"pag\">PangasinÃ¡n</a></li>\n",
      "<li><a href=\"//ami.wikipedia.org/\" lang=\"ami\">Pangcah</a></li>\n",
      "<li><a href=\"//pap.wikipedia.org/\" lang=\"pap\">Papiamentu</a></li>\n",
      "<li><a href=\"//jam.wikipedia.org/\" lang=\"jam\">Patois</a></li>\n",
      "<li><a href=\"//pfl.wikipedia.org/\" lang=\"pfl\">PfÃ¤lzisch</a></li>\n",
      "<li><a href=\"//pcd.wikipedia.org/\" lang=\"pcd\">Picard</a></li>\n",
      "<li><a href=\"//krc.wikipedia.org/\" lang=\"krc\" title=\"QaraÃ§ayâMalqar\">ÐÑÐ°ÑÐ°ÑÐ°Ð¹âÐ¼Ð°Ð»ÐºÑÐ°Ñ</a></li>\n",
      "<li><a href=\"//ksh.wikipedia.org/\" lang=\"ksh\">Ripoarisch</a></li>\n",
      "<li><a href=\"//rm.wikipedia.org/\" lang=\"rm\">Rumantsch</a></li>\n",
      "<li><a href=\"//szy.wikipedia.org/\" lang=\"szy\">Sakizaya</a></li>\n",
      "<li><a href=\"//sm.wikipedia.org/\" lang=\"sm\">Gagana SÄmoa</a></li>\n",
      "<li><a href=\"//sc.wikipedia.org/\" lang=\"sc\">Sardu</a></li>\n",
      "<li><a href=\"//trv.wikipedia.org/\" lang=\"trv\">Seediq</a></li>\n",
      "<li><a href=\"//stq.wikipedia.org/\" lang=\"stq\">Seeltersk</a></li>\n",
      "<li><a href=\"//st.wikipedia.org/\" lang=\"st\">Sesotho</a></li>\n",
      "<li><a href=\"//nso.wikipedia.org/\" lang=\"nso\">Sesotho sa Leboa</a></li>\n",
      "<li><a href=\"//tn.wikipedia.org/\" lang=\"tn\">Setswana</a></li>\n",
      "<li><a href=\"//syl.wikipedia.org/\" lang=\"syl\" title=\"SilÃ´á¹­i\">ê ê ¤ê ê ê ¤</a></li>\n",
      "<li><a href=\"//cu.wikipedia.org/\" lang=\"cu\" title=\"SlovÄnÄ­skÅ­\">Ð¡Ð»Ð¾Ð²Ñ£ÌÐ½ÑÑÐºÑ / â°â°â°â°â°¡â°â° â°â°â°</a></li>\n",
      "<li><a href=\"//so.wikipedia.org/\" lang=\"so\">Soomaaliga</a></li>\n",
      "<li><a href=\"//srn.wikipedia.org/\" lang=\"srn\">Sranantongo</a></li>\n",
      "<li><a href=\"//ss.wikipedia.org/\" lang=\"ss\">SiSwati</a></li>\n",
      "<li><a href=\"//ty.wikipedia.org/\" lang=\"ty\">Reo tahiti</a></li>\n",
      "<li><a href=\"//kab.wikipedia.org/\" lang=\"kab\" title=\"Taqbaylit\">Taqbaylit</a></li>\n",
      "<li><a href=\"//roa-tara.wikipedia.org/\" lang=\"roa\">TarandÃ­ne</a></li>\n",
      "<li><a href=\"//tay.wikipedia.org/\" lang=\"tay\">Tayal</a></li>\n",
      "<li><a href=\"//tet.wikipedia.org/\" lang=\"tet\">Tetun</a></li>\n",
      "<li><a href=\"//tpi.wikipedia.org/\" lang=\"tpi\">Tok Pisin</a></li>\n",
      "<li><a href=\"//tly.wikipedia.org/\" lang=\"tly\">tolÄ±Åi</a></li>\n",
      "<li><a href=\"//to.wikipedia.org/\" lang=\"to\">faka Tonga</a></li>\n",
      "<li><a href=\"//chr.wikipedia.org/\" lang=\"chr\" title=\"Tsalagi\">á£á³á©</a></li>\n",
      "<li><a href=\"//tk.wikipedia.org/\" lang=\"tk\">TÃ¼rkmenÃ§e</a></li>\n",
      "<li><a href=\"//tw.wikipedia.org/\" lang=\"tw\">Twi</a></li>\n",
      "<li><a href=\"//kcg.wikipedia.org/\" lang=\"kcg\">Tyap</a></li>\n",
      "<li><a href=\"//tyv.wikipedia.org/\" lang=\"tyv\" title=\"Tyva dyl\">Ð¢ÑÐ²Ð° Ð´ÑÐ»</a></li>\n",
      "<li><a href=\"//udm.wikipedia.org/\" lang=\"udm\" title=\"Udmurt\">Ð£Ð´Ð¼ÑÑÑ</a></li>\n",
      "<li><a href=\"//ug.wikipedia.org/\" lang=\"ug\"><bdi dir=\"rtl\">Ø¦ÛÙØºÛØ±ÚÙ</bdi></a></li>\n",
      "<li><a href=\"//vep.wikipedia.org/\" lang=\"vep\">VepsÃ¤n</a></li>\n",
      "<li><a href=\"//fiu-vro.wikipedia.org/\" lang=\"vro\">vÃµro</a></li>\n",
      "<li><a href=\"//vls.wikipedia.org/\" lang=\"vls\">West-Vlams</a></li>\n",
      "<li><a href=\"//wo.wikipedia.org/\" lang=\"wo\">Wolof</a></li>\n",
      "<li><a href=\"//xh.wikipedia.org/\" lang=\"xh\">isiXhosa</a></li>\n",
      "<li><a href=\"//zea.wikipedia.org/\" lang=\"zea\">ZeÃªuws</a></li>\n",
      "<li><a href=\"//alt.wikipedia.org/\" lang=\"alt\">Ð°Ð»ÑÐ°Ð¹ ÑÐ¸Ð»</a></li>\n",
      "<li><a href=\"//awa.wikipedia.org/\" lang=\"awa\">à¤",
      "à¤µà¤§à¥</a></li>\n",
      "<li><a href=\"//dty.wikipedia.org/\" lang=\"dty\">à¤¡à¥à¤à¥à¤²à¥</a></li>\n",
      "<li><a href=\"//tcy.wikipedia.org/\" lang=\"tcy\">à²¤à³à²³à³</a></li>\n",
      "</ul>\n",
      "</div>\n",
      "<h2 class=\"bookshelf-container\">\n",
      "<span class=\"bookshelf\">\n",
      "<span class=\"text\">\n",
      "<bdi dir=\"ltr\">\n",
      "100+\n",
      "</bdi>\n",
      "<span class=\"jsl10n\" data-jsl10n=\"portal.entries\">\n",
      "articles\n",
      "</span>\n",
      "</span>\n",
      "</span>\n",
      "</h2>\n",
      "<div class=\"langlist langlist-tiny hlist\" data-el-section=\"secondary links\">\n",
      "<ul>\n",
      "<li><a href=\"//bdr.wikipedia.org/\" lang=\"bdr\">Bajau Sama</a></li>\n",
      "<li><a href=\"//bm.wikipedia.org/\" lang=\"bm\">Bamanankan</a></li>\n",
      "<li><a href=\"//ch.wikipedia.org/\" lang=\"ch\">Chamoru</a></li>\n",
      "<li><a href=\"//dz.wikipedia.org/\" lang=\"dz\" title=\"Rdzong-Kha\">à½¢à¾«à½¼à½à¼à½</a></li>\n",
      "<li><a href=\"//got.wikipedia.org/\" lang=\"got\" title=\"Gutisk\">ð²ð¿ðð¹ððº</a></li>\n",
      "<li><a href=\"//igl.wikipedia.org/\" lang=\"igl\">Igala</a></li>\n",
      "<li><a href=\"//iu.wikipedia.org/\" lang=\"iu\">áááááá¦ / Inuktitut</a></li>\n",
      "<li><a href=\"//ik.wikipedia.org/\" lang=\"ik\">IÃ±upiak</a></li>\n",
      "<li><a href=\"//nr.wikipedia.org/\" lang=\"nr\" title=\"isiNdebele seSewula\">isiNdebele seSewula</a></li>\n",
      "<li><a href=\"//kl.wikipedia.org/\" lang=\"kl\">Kalaallisut</a></li>\n",
      "<li><a href=\"//nup.wikipedia.org/\" lang=\"nup\">Nupe</a></li>\n",
      "<li><a href=\"//ann.wikipedia.org/\" lang=\"ann\">Obolo</a></li>\n",
      "<li><a href=\"//pwn.wikipedia.org/\" lang=\"pwn\">pinayuanan</a></li>\n",
      "<li><a href=\"//pnt.wikipedia.org/\" lang=\"pnt\" title=\"PontiakÃ¡\">Î Î¿Î½ÏÎ¹Î±ÎºÎ¬</a></li>\n",
      "<li><a href=\"//rmy.wikipedia.org/\" lang=\"rmy\">romani Ähib</a></li>\n",
      "<li><a href=\"//rn.wikipedia.org/\" lang=\"rn\">Ikirundi</a></li>\n",
      "<li><a href=\"//rsk.wikipedia.org/\" lang=\"rsk\" title=\"Ruski\">ÑÑÑÐºÐ¸</a></li>\n",
      "<li><a href=\"//sg.wikipedia.org/\" lang=\"sg\">SÃ¤ngÃ¶</a></li>\n",
      "<li><a href=\"//tdd.wikipedia.org/\" lang=\"tdd\" title=\"Tai taÉ¯ xoÅ\">á¥á¥­á¥°á¥á¥¬á¥³á¥á¥¨á¥á¥°</a></li>\n",
      "<li><a href=\"//ti.wikipedia.org/\" lang=\"ti\" title=\"TÉgÉrÉÃ±a\">áµáá­á</a></li>\n",
      "<li><a href=\"//din.wikipedia.org/\" lang=\"din\">ThuÉÅjÃ¤Å</a></li>\n",
      "<li><a href=\"//chy.wikipedia.org/\" lang=\"chy\">TsÄhesenÄstsestotse</a></li>\n",
      "<li><a href=\"//ts.wikipedia.org/\" lang=\"ts\">Xitsonga</a></li>\n",
      "<li><a href=\"//ve.wikipedia.org/\" lang=\"ve\">Tshivená¸a</a></li>\n",
      "<li><a href=\"//guc.wikipedia.org/\" lang=\"guc\">Wayuunaiki</a></li>\n",
      "<li><a href=\"//ady.wikipedia.org/\" lang=\"ady\">Ð°Ð´ÑÐ³Ð°Ð±Ð·Ñ</a></li>\n",
      "<li><a href=\"//rki.wikipedia.org/\" lang=\"rki\">ááá­á¯ááº</a></li>\n",
      "</ul>\n",
      "</div>\n",
      "<div class=\"langlist langlist-others hlist\" data-el-section=\"other languages\">\n",
      "<a class=\"jsl10n\" href=\"https://meta.wikimedia.org/wiki/Special:MyLanguage/List_of_Wikipedias\" lang data-jsl10n=\"other-languages-label\">Other languages</a>\n",
      "</div></div>\n",
      "</div>\n",
      "</nav>\n",
      "<hr>\n",
      "<div class=\"banner banner-overlay\" id=\"portalBanner_en6C_2526_contentTest\">\n",
      "<div class=\"overlay-banner\">\n",
      "<div class=\"overlay-banner-main\">\n",
      "<button class=\"frb-header-minimize overlay-banner-toggle\" aria-label=\"minimize\">\n",
      "<span class=\"frb-header-minimize-icon\">\n",
      "<svg xmlns=\"http://www.w3.org/2000/svg\" width=\"20\" height=\"20\" viewBox=\"0 0 20 20\" aria-hidden=\"true\"><g><path d=\"m17.5 4.75-7.5 7.5-7.5-7.5L1 6.25l9 9 9-9z\"/></g></svg>\n",
      "</span>\n",
      "</button>\n",
      "<div class=\"overlay-banner-main-header\">\n",
      "<a href=\"#\">Donate now</a>\n",
      "</div>\n",
      "<div class=\"overlay-banner-main-scroll\">\n",
      "<div class=\"overlay-banner-main-message overlay-banner-control\">\n",
      "<div class=\"overlay-banner-main-message-greeting\">The internet we were promised</div>\n",
      "<p class=\"overlay-banner-main-message-subheading\">An important update for readers in <span class=\"banner__country\">the United States</span>.</p>\n",
      "<p>\n",
      "You deserve an explanation, so please don't skip this 1-minute read. If you've lost count of how many times you've visited Wikipedia this year, we hope that means it's given you at least <span class=\"banner__amount1\">$2.75</span> of knowledge. If so, please join the 2% of readers who give to keep this resource available for all.\n",
      "</p>\n",
      "<p>\n",
      "After nearly 25 years, Wikipedia is still the internet we were promisedâan oasis of free and collaborative knowledge. By visiting Wikipedia today, you're choosing a free and fair internet: a space to find facts you need without the distraction of ads or the agendas of wealthy owners.\n",
      "</p>\n",
      "<p>\n",
      "If you are undecided, remember most readers don't donate, so any contribution helps â and monthly gifts are the best option for a lasting impact. So if Wikipedia provides you with <span class=\"banner__amount1\">$2.75</span> of knowledge, please donate today. Thank you.\n",
      "</p>\n",
      "</div>\n",
      "<div class=\"overlay-banner-main-message overlay-banner-variant-1\">\n",
      "<div class=\"overlay-banner-main-message-greeting\">Knowledge is human.</div>\n",
      "<p class=\"overlay-banner-main-message-subheading\">An important update for readers in <span class=\"banner__country\">the United States</span>.</p>\n",
      "<p>\n",
      "You deserve an explanation, so please don't skip this 1-minute read. If you've lost count of how many times you've visited Wikipedia this year, we hope that means it's given you at least <span class=\"banner__amount1\">$2.75</span> of knowledge. If so, please join the 2% of readers who give to keep this resource available for all.\n",
      "</p>\n",
      "<p>\n",
      "25 years ago Wikipedia was a wildly ambitious, probably impossible dream. A dream that came together piece by piece. Now, with 65 million articles and 260,000 volunteers across the world, Wikipedia is the internet we were promisedâa place created by humans, for humans.\n",
      "</p>\n",
      "<p>\n",
      "Most readers donate because Wikipedia is useful, others because they realize knowledge needs humans. If you agree, please give <span class=\"banner__amount1\">$2.75</span>. Any contribution helps, whether it's <span class=\"banner__amount1\">$2.75</span> one time or monthly. Thank you.\n",
      "</p>\n",
      "</div>\n",
      "<div class=\"overlay-banner-main-message overlay-banner-variant-2\">\n",
      "<div class=\"overlay-banner-main-message-greeting\">You deserve an explanation.</div>\n",
      "<p class=\"overlay-banner-main-message-subheading\">An important update for readers in <span class=\"banner__country\">the United States</span>.</p>\n",
      "<p>\n",
      "Please don't skip this 1-minute read. Today we're running a short fundraiser to support Wikipedia. If you've lost count of how many times you've visited Wikipedia this year, we hope that means it's given you at least <span class=\"banner__amount1\">$2.75</span> of knowledge. If so, please join the 2% of readers who give to keep this resource available for all.\n",
      "</p>\n",
      "<p>\n",
      "After nearly 25 years, Wikipedia is still the internet we were promisedâcreated by people, not by machines. It's not perfect, but it's not here to push a point of view. It's owned by a non-profit, not a giant technology company or a billionaire.\n",
      "</p>\n",
      "<p>\n",
      "Most readers donate because Wikipedia is useful to them, others because Wikipedia is more important than ever. If you feel the same, please donate <span class=\"banner__amount1\">$2.75</span> todayâor consider a monthly gift to help all year. Thank you.\n",
      "</p>\n",
      "</div>\n",
      "<div class=\"overlay-banner-main-amounts\">\n",
      "<div class=\"frb-message frb-message-amount\">\n",
      "<span class=\"error-highlight\">Please select an amount (<span class=\"banner__currency\">USD</span>)</span>.\n",
      "<span class=\"frb-explanation\">The average donation in <span class=\"banner__country\">the United States</span> is around <span class=\"banner__average\">$13</span>. Many first-time donors give <span class=\"banner__amount1\">$2.75</span>. All that matters is that you're choosing to stand up for free, open information; and for that, you have our gratitude.</span>\n",
      "</div>\n",
      "<div id=\"amountsGrid\" class=\"button-grid\">\n",
      "<label class=\"banner-button button-33\"><input type=\"radio\" name=\"amount\" value=\"2.75\" class=\"sr-only\"><span class=\"banner__amount1\"></span></label>\n",
      "<label class=\"banner-button button-33\"><input type=\"radio\" name=\"amount\" value=\"5\" class=\"sr-only\"><span class=\"banner__currency\"></span>5</label>\n",
      "<label class=\"banner-button button-33\"><input type=\"radio\" name=\"amount\" value=\"10\" class=\"sr-only\"><span class=\"banner__currency\"></span>10</label>\n",
      "<label class=\"banner-button button-33\"><input type=\"radio\" name=\"amount\" value=\"20\" class=\"sr-only\"><span class=\"banner__currency\"></span>20</label>\n",
      "<label class=\"banner-button button-33\"><input type=\"radio\" name=\"amount\" value=\"30\" class=\"sr-only\"><span class=\"banner__currency\"></span>30</label>\n",
      "<label class=\"banner-button button-33\"><input type=\"radio\" name=\"amount\" value=\"50\" class=\"sr-only\"><span class=\"banner__currency\"></span>50</label>\n",
      "<label class=\"banner-button button-33\"><input type=\"radio\" name=\"amount\" value=\"100\" class=\"sr-only\"><span class=\"banner__currency\"></span>100</label>\n",
      "<label class=\"banner-button button-67\"><input type=\"radio\" name=\"amount\" value=\"Other\" class=\"sr-only\">Other</label>\n",
      "</div>\n",
      "</div>\n",
      "<div class=\"overlay-banner-main-frequency button-grid\">\n",
      "<div class=\"frb-message error-highlight\">How often would you like to donate?</div>\n",
      "<div id=\"frequencyGrid\" class=\"button-grid\">\n",
      "<label class=\"banner-button button-50\"><input type=\"radio\" name=\"monthly\" value=\"0\" class=\"sr-only\">One time</label>\n",
      "<label class=\"banner-button button-50\"><input type=\"radio\" name=\"monthly\" value=\"1\" class=\"sr-only\">Give monthly</label>\n",
      "</div>\n",
      "</div>\n",
      "<a href=\"#\" id=\"frb-donate\" class=\"frb-submit banner-button banner-button-disabled\">Donate Now</a>\n",
      "<div class=\"overlay-banner-main-footer\">\n",
      "<div class=\"overlay-banner-main-footer-cta\">\n",
      "<svg class=\"frb-message-icon\" aria-hidden=\"true\" width=\"20\" height=\"20\" viewBox=\"0 0 25 25\" xmlns=\"http://www.w3.org/2000/svg\"><g fill-rule=\"nonzero\" fill=\"none\"><circle cx=\"10.492\" cy=\"14.492\" r=\"10.492\"/><path d=\"M12.681 11.754l-2.267 7.864c-.125.45-.188.745-.188.885 0 .08.033.156.1.226.066.07.136.105.21.105.125 0 .25-.055.376-.165.332-.273.73-.767 1.194-1.482l.376.22c-1.113 1.94-2.296 2.91-3.55 2.91-.48 0-.86-.135-1.144-.404a1.349 1.349 0 0 1-.426-1.023c0-.273.062-.62.188-1.04l1.537-5.286c.147-.51.221-.892.221-1.15a.566.566 0 0 0-.21-.432c-.14-.125-.332-.188-.575-.188-.11 0-.243.004-.398.011l.144-.442 3.749-.609h.663zm-.685-5.087c.457 0 .842.159 1.156.475.313.318.47.701.47 1.15 0 .45-.16.834-.476 1.15-.317.318-.7.476-1.15.476-.443 0-.822-.158-1.14-.475a1.566 1.566 0 0 1-.475-1.15c0-.45.157-.833.47-1.15a1.549 1.549 0 0 1 1.145-.476z\"/></g></svg>\n",
      "We ask you, sincerely: don't skip this, join the 2% of readers who give.\n",
      "</div>\n",
      "<div class=\"overlay-banner-main-footer-identity\">\n",
      "<img src=\"https://upload.wikimedia.org/wikipedia/donate/1/14/Wikimedia_Foundation_logo_-_wordmark.svg\" alt=\"Wikimedia Foundation Logo\">\n",
      "Proud host of Wikipedia and its sister sites\n",
      "</div>\n",
      "<button type=\"button\" class=\"button-center button-collapse overlay-banner-toggle\">Collapse</button>\n",
      "</div>\n",
      "</div>\n",
      "</div>\n",
      "<div class=\"overlay-banner-mini\">\n",
      "<div class=\"frb-conversation-open frb-bubble-message-close overlay-banner-toggle\" aria-label=\"open\" style>\n",
      "<span class=\"frb-conversation-open-icon\">\n",
      "<svg xmlns=\"http://www.w3.org/2000/svg\" width=\"20\" height=\"20\" viewBox=\"0 0 20 20\" aria-hidden=\"true\"><g><path d=\"m17.5 4.75-7.5 7.5-7.5-7.5L1 6.25l9 9 9-9z\"/></g></svg>\n",
      "</span>\n",
      "</div>\n",
      "<div class=\"frb-conversation-close frb-bubble-message-close overlay-banner-close\" aria-label=\"close\" style>\n",
      "<span class=\"frb-conversation-close-icon\"></span>\n",
      "</div>\n",
      "<div class=\"overlay-banner-mini-message\">\n",
      "<div class=\"overlay-banner-mini-message-text overlay-banner-control\">\n",
      "<h3>\n",
      "<svg class=\"frb-message-icon\" aria-hidden=\"true\" width=\"20\" height=\"20\" viewBox=\"0 0 25 25\" xmlns=\"http://www.w3.org/2000/svg\"><g fill-rule=\"nonzero\" fill=\"none\"><circle cx=\"10.492\" cy=\"14.492\" r=\"10.492\"/><path d=\"M12.681 11.754l-2.267 7.864c-.125.45-.188.745-.188.885 0 .08.033.156.1.226.066.07.136.105.21.105.125 0 .25-.055.376-.165.332-.273.73-.767 1.194-1.482l.376.22c-1.113 1.94-2.296 2.91-3.55 2.91-.48 0-.86-.135-1.144-.404a1.349 1.349 0 0 1-.426-1.023c0-.273.062-.62.188-1.04l1.537-5.286c.147-.51.221-.892.221-1.15a.566.566 0 0 0-.21-.432c-.14-.125-.332-.188-.575-.188-.11 0-.243.004-.398.011l.144-.442 3.749-.609h.663zm-.685-5.087c.457 0 .842.159 1.156.475.313.318.47.701.47 1.15 0 .45-.16.834-.476 1.15-.317.318-.7.476-1.15.476-.443 0-.822-.158-1.14-.475a1.566 1.566 0 0 1-.475-1.15c0-.45.157-.833.47-1.15a1.549 1.549 0 0 1 1.145-.476z\"/></g></svg>\n",
      "The internet we were promised\n",
      "</h3>\n",
      "<p>After nearly 25 years, Wikipedia is still the internet we were promisedâ an oasis of free and collaborative knowledge. Today, we ask you to join the 2% of readers who support this space. If everyone reading this right now gave just <span class=\"banner__amount1\">$2.75</span>, we'd reach our goal quickly.</p>\n",
      "<p>â <em>The Wikimedia Foundation, host of Wikipedia and its sister sites</em>.</p>\n",
      "</div>\n",
      "<div class=\"overlay-banner-mini-message-text overlay-banner-variant-1\">\n",
      "<h3>\n",
      "<svg class=\"frb-message-icon\" aria-hidden=\"true\" width=\"20\" height=\"20\" viewBox=\"0 0 25 25\" xmlns=\"http://www.w3.org/2000/svg\"><g fill-rule=\"nonzero\" fill=\"none\"><circle cx=\"10.492\" cy=\"14.492\" r=\"10.492\"/><path d=\"M12.681 11.754l-2.267 7.864c-.125.45-.188.745-.188.885 0 .08.033.156.1.226.066.07.136.105.21.105.125 0 .25-.055.376-.165.332-.273.73-.767 1.194-1.482l.376.22c-1.113 1.94-2.296 2.91-3.55 2.91-.48 0-.86-.135-1.144-.404a1.349 1.349 0 0 1-.426-1.023c0-.273.062-.62.188-1.04l1.537-5.286c.147-.51.221-.892.221-1.15a.566.566 0 0 0-.21-.432c-.14-.125-.332-.188-.575-.188-.11 0-.243.004-.398.011l.144-.442 3.749-.609h.663zm-.685-5.087c.457 0 .842.159 1.156.475.313.318.47.701.47 1.15 0 .45-.16.834-.476 1.15-.317.318-.7.476-1.15.476-.443 0-.822-.158-1.14-.475a1.566 1.566 0 0 1-.475-1.15c0-.45.157-.833.47-1.15a1.549 1.549 0 0 1 1.145-.476z\"/></g></svg>\n",
      "Knowledge is human.\n",
      "</h3>\n",
      "<p>After nearly 25 years, Wikipedia is still the internet we were promisedâ an oasis of free and collaborative knowledge. Today, we ask you to join the 2% of readers who support this space. If everyone reading this right now gave just <span class=\"banner__amount1\">$2.75</span>, we'd reach our goal quickly.</p>\n",
      "<p>â <em>The Wikimedia Foundation, host of Wikipedia and its sister sites</em>.</p>\n",
      "</div>\n",
      "<div class=\"overlay-banner-mini-message-text overlay-banner-variant-2\">\n",
      "<h3>\n",
      "<svg class=\"frb-message-icon\" aria-hidden=\"true\" width=\"20\" height=\"20\" viewBox=\"0 0 25 25\" xmlns=\"http://www.w3.org/2000/svg\"><g fill-rule=\"nonzero\" fill=\"none\"><circle cx=\"10.492\" cy=\"14.492\" r=\"10.492\"/><path d=\"M12.681 11.754l-2.267 7.864c-.125.45-.188.745-.188.885 0 .08.033.156.1.226.066.07.136.105.21.105.125 0 .25-.055.376-.165.332-.273.73-.767 1.194-1.482l.376.22c-1.113 1.94-2.296 2.91-3.55 2.91-.48 0-.86-.135-1.144-.404a1.349 1.349 0 0 1-.426-1.023c0-.273.062-.62.188-1.04l1.537-5.286c.147-.51.221-.892.221-1.15a.566.566 0 0 0-.21-.432c-.14-.125-.332-.188-.575-.188-.11 0-.243.004-.398.011l.144-.442 3.749-.609h.663zm-.685-5.087c.457 0 .842.159 1.156.475.313.318.47.701.47 1.15 0 .45-.16.834-.476 1.15-.317.318-.7.476-1.15.476-.443 0-.822-.158-1.14-.475a1.566 1.566 0 0 1-.475-1.15c0-.45.157-.833.47-1.15a1.549 1.549 0 0 1 1.145-.476z\"/></g></svg>\n",
      "The internet we were promised\n",
      "</h3>\n",
      "<p>After nearly 25 years, Wikipedia is still the internet we were promisedâ an oasis of free and collaborative knowledge. Today, we ask you to join the 2% of readers who support this space. If everyone reading this right now gave just <span class=\"banner__amount1\">$2.75</span>, we'd reach our goal quickly.</p>\n",
      "<p>â <em>The Wikimedia Foundation, host of Wikipedia and its sister sites</em>.</p>\n",
      "</div>\n",
      "<div class=\"overlay-banner-mini-message-actions\">\n",
      "<a href=\"#\" class=\"banner__button banner__button--progressive frb-submit\">\n",
      "Donate now\n",
      "</a>\n",
      "</div>\n",
      "</div>\n",
      "</div>\n",
      "</div>\n",
      "</div></main>\n",
      "<footer class=\"footer\" data-el-section=\"other projects\">\n",
      "<div class=\"footer-sidebar\">\n",
      "<div class=\"footer-sidebar-content\">\n",
      "<div class=\"footer-sidebar-icon sprite svg-Wikimedia-logo_black\">\n",
      "</div>\n",
      "<div class=\"footer-sidebar-text jsl10n\" data-jsl10n=\"portal.footer-description\">\n",
      "Wikipedia is hosted by the Wikimedia Foundation, a non-profit organization that also hosts a range of other projects.\n",
      "</div>\n",
      "<div class=\"footer-sidebar-text\">\n",
      "<a href=\"https://donate.wikimedia.org/?wmf_medium=portal&wmf_campaign=portalFooter&wmf_source=portalFooter\" target=\"_blank\">\n",
      "<span class=\"jsl10n\" data-jsl10n=\"footer-donate\">You can support our work with a donation.</span>\n",
      "</a>\n",
      "</div>\n",
      "</div>\n",
      "</div>\n",
      "<div class=\"footer-sidebar app-badges\">\n",
      "<div class=\"footer-sidebar-content\">\n",
      "<div class=\"footer-sidebar-text\">\n",
      "<div class=\"footer-sidebar-icon sprite svg-wikipedia_app_tile\"></div>\n",
      "<strong class=\"jsl10n\" data-jsl10n=\"portal.app-links.title\">\n",
      "<a class=\"jsl10n\" data-jsl10n=\"portal.app-links.url\" href=\"https://en.wikipedia.org/wiki/List_of_Wikipedia_mobile_applications\">\n",
      "Download Wikipedia for Android or iOS\n",
      "</a>\n",
      "</strong>\n",
      "<p class=\"jsl10n\" data-jsl10n=\"portal.app-links.description\">\n",
      "Save your favorite articles to read offline, sync your reading lists across devices and customize your reading experience with the official Wikipedia app.\n",
      "</p>\n",
      "<ul>\n",
      "<li class=\"app-badge app-badge-android\">\n",
      "<a target=\"_blank\" rel=\"noreferrer\" href=\"https://play.google.com/store/apps/details?id=org.wikipedia&referrer=utm_source%3Dportal%26utm_medium%3Dbutton%26anid%3Dadmob\">\n",
      "<span class=\"jsl10n sprite svg-badge_google_play_store\" data-jsl10n=\"portal.app-links.google-store\">Google Play Store</span>\n",
      "</a>\n",
      "</li>\n",
      "<li class=\"app-badge app-badge-ios\">\n",
      "<a target=\"_blank\" rel=\"noreferrer\" href=\"https://itunes.apple.com/app/apple-store/id324715238?pt=208305&ct=portal&mt=8\">\n",
      "<span class=\"jsl10n sprite svg-badge_ios_app_store\" data-jsl10n=\"portal.app-links.apple-store\">Apple App Store</span>\n",
      "</a>\n",
      "</li>\n",
      "</ul>\n",
      "</div>\n",
      "</div>\n",
      "</div>\n",
      "<nav data-jsl10n=\"other-projects-nav-label\" aria-label=\"Other projects\" class=\"other-projects\">\n",
      "<div class=\"other-project\">\n",
      "<a class=\"other-project-link\" href=\"//commons.wikimedia.org/\">\n",
      "<div class=\"other-project-icon\">\n",
      "<div class=\"sprite svg-Commons-logo_sister\"></div>\n",
      "</div>\n",
      "<div class=\"other-project-text\">\n",
      "<span class=\"other-project-title jsl10n\" data-jsl10n=\"commons.name\">Commons</span>\n",
      "<span class=\"other-project-tagline jsl10n\" data-jsl10n=\"commons.slogan\">Free media collection</span>\n",
      "</div>\n",
      "</a>\n",
      "</div>\n",
      "<div class=\"other-project\">\n",
      "<a class=\"other-project-link\" href=\"//www.wikivoyage.org/\">\n",
      "<div class=\"other-project-icon\">\n",
      "<div class=\"sprite svg-Wikivoyage-logo_sister\"></div>\n",
      "</div>\n",
      "<div class=\"other-project-text\">\n",
      "<span class=\"other-project-title jsl10n\" data-jsl10n=\"wikivoyage.name\">Wikivoyage</span>\n",
      "<span class=\"other-project-tagline jsl10n\" data-jsl10n=\"wikivoyage.slogan\">Free travel guide</span>\n",
      "</div>\n",
      "</a>\n",
      "</div>\n",
      "<div class=\"other-project\">\n",
      "<a class=\"other-project-link\" href=\"//www.wiktionary.org/\">\n",
      "<div class=\"other-project-icon\">\n",
      "<div class=\"sprite svg-Wiktionary-logo_sister\"></div>\n",
      "</div>\n",
      "<div class=\"other-project-text\">\n",
      "<span class=\"other-project-title jsl10n\" data-jsl10n=\"wiktionary.name\">Wiktionary</span>\n",
      "<span class=\"other-project-tagline jsl10n\" data-jsl10n=\"wiktionary.slogan\">Free dictionary</span>\n",
      "</div>\n",
      "</a>\n",
      "</div>\n",
      "<div class=\"other-project\">\n",
      "<a class=\"other-project-link\" href=\"//www.wikibooks.org/\">\n",
      "<div class=\"other-project-icon\">\n",
      "<div class=\"sprite svg-Wikibooks-logo_sister\"></div>\n",
      "</div>\n",
      "<div class=\"other-project-text\">\n",
      "<span class=\"other-project-title jsl10n\" data-jsl10n=\"wikibooks.name\">Wikibooks</span>\n",
      "<span class=\"other-project-tagline jsl10n\" data-jsl10n=\"wikibooks.slogan\">Free textbooks</span>\n",
      "</div>\n",
      "</a>\n",
      "</div>\n",
      "<div class=\"other-project\">\n",
      "<a class=\"other-project-link\" href=\"//www.wikinews.org/\">\n",
      "<div class=\"other-project-icon\">\n",
      "<div class=\"sprite svg-Wikinews-logo_sister\"></div>\n",
      "</div>\n",
      "<div class=\"other-project-text\">\n",
      "<span class=\"other-project-title jsl10n\" data-jsl10n=\"wikinews.name\">Wikinews</span>\n",
      "<span class=\"other-project-tagline jsl10n\" data-jsl10n=\"wikinews.slogan\">Free news source</span>\n",
      "</div>\n",
      "</a>\n",
      "</div>\n",
      "<div class=\"other-project\">\n",
      "<a class=\"other-project-link\" href=\"//www.wikidata.org/\">\n",
      "<div class=\"other-project-icon\">\n",
      "<div class=\"sprite svg-Wikidata-logo_sister\"></div>\n",
      "</div>\n",
      "<div class=\"other-project-text\">\n",
      "<span class=\"other-project-title jsl10n\" data-jsl10n=\"wikidata.name\">Wikidata</span>\n",
      "<span class=\"other-project-tagline jsl10n\" data-jsl10n=\"wikidata.slogan\">Free knowledge base</span>\n",
      "</div>\n",
      "</a>\n",
      "</div>\n",
      "<div class=\"other-project\">\n",
      "<a class=\"other-project-link\" href=\"//www.wikiversity.org/\">\n",
      "<div class=\"other-project-icon\">\n",
      "<div class=\"sprite svg-Wikiversity-logo_sister\"></div>\n",
      "</div>\n",
      "<div class=\"other-project-text\">\n",
      "<span class=\"other-project-title jsl10n\" data-jsl10n=\"wikiversity.name\">Wikiversity</span>\n",
      "<span class=\"other-project-tagline jsl10n\" data-jsl10n=\"wikiversity.slogan\">Free learning resources</span>\n",
      "</div>\n",
      "</a>\n",
      "</div>\n",
      "<div class=\"other-project\">\n",
      "<a class=\"other-project-link\" href=\"//www.wikiquote.org/\">\n",
      "<div class=\"other-project-icon\">\n",
      "<div class=\"sprite svg-Wikiquote-logo_sister\"></div>\n",
      "</div>\n",
      "<div class=\"other-project-text\">\n",
      "<span class=\"other-project-title jsl10n\" data-jsl10n=\"wikiquote.name\">Wikiquote</span>\n",
      "<span class=\"other-project-tagline jsl10n\" data-jsl10n=\"wikiquote.slogan\">Free quote compendium</span>\n",
      "</div>\n",
      "</a>\n",
      "</div>\n",
      "<div class=\"other-project\">\n",
      "<a class=\"other-project-link\" href=\"//www.mediawiki.org/\">\n",
      "<div class=\"other-project-icon\">\n",
      "<div class=\"sprite svg-MediaWiki-logo_sister\"></div>\n",
      "</div>\n",
      "<div class=\"other-project-text\">\n",
      "<span class=\"other-project-title jsl10n\" data-jsl10n=\"mediawiki.name\">MediaWiki</span>\n",
      "<span class=\"other-project-tagline jsl10n\" data-jsl10n=\"mediawiki.slogan\">Free &amp; open wiki software</span>\n",
      "</div>\n",
      "</a>\n",
      "</div>\n",
      "<div class=\"other-project\">\n",
      "<a class=\"other-project-link\" href=\"//www.wikisource.org/\">\n",
      "<div class=\"other-project-icon\">\n",
      "<div class=\"sprite svg-Wikisource-logo_sister\"></div>\n",
      "</div>\n",
      "<div class=\"other-project-text\">\n",
      "<span class=\"other-project-title jsl10n\" data-jsl10n=\"wikisource.name\">Wikisource</span>\n",
      "<span class=\"other-project-tagline jsl10n\" data-jsl10n=\"wikisource.slogan\">Free content library</span>\n",
      "</div>\n",
      "</a>\n",
      "</div>\n",
      "<div class=\"other-project\">\n",
      "<a class=\"other-project-link\" href=\"//species.wikimedia.org/\">\n",
      "<div class=\"other-project-icon\">\n",
      "<div class=\"sprite svg-Wikispecies-logo_sister\"></div>\n",
      "</div>\n",
      "<div class=\"other-project-text\">\n",
      "<span class=\"other-project-title jsl10n\" data-jsl10n=\"wikispecies.name\">Wikispecies</span>\n",
      "<span class=\"other-project-tagline jsl10n\" data-jsl10n=\"wikispecies.slogan\">Free species directory</span>\n",
      "</div>\n",
      "</a>\n",
      "</div>\n",
      "<div class=\"other-project\">\n",
      "<a class=\"other-project-link\" href=\"//www.wikifunctions.org/\">\n",
      "<div class=\"other-project-icon\">\n",
      "<div class=\"sprite svg-Wikifunctions-logo_sister\"></div>\n",
      "</div>\n",
      "<div class=\"other-project-text\">\n",
      "<span class=\"other-project-title jsl10n\" data-jsl10n=\"wikifunctions.name\">Wikifunctions</span>\n",
      "<span class=\"other-project-tagline jsl10n\" data-jsl10n=\"wikifunctions.slogan\">Free function library</span>\n",
      "</div>\n",
      "</a>\n",
      "</div>\n",
      "<div class=\"other-project\">\n",
      "<a class=\"other-project-link\" href=\"//meta.wikimedia.org/\">\n",
      "<div class=\"other-project-icon\">\n",
      "<div class=\"sprite svg-Meta-Wiki-logo_sister\"></div>\n",
      "</div>\n",
      "<div class=\"other-project-text\">\n",
      "<span class=\"other-project-title jsl10n\" data-jsl10n=\"metawiki.name\">Meta-Wiki</span>\n",
      "<span class=\"other-project-tagline jsl10n\" data-jsl10n=\"metawiki.slogan\">Community coordination &amp; documentation</span>\n",
      "</div>\n",
      "</a>\n",
      "</div>\n",
      "</nav>\n",
      "<hr>\n",
      "<p class=\"site-license\">\n",
      "<small class=\"jsl10n\" data-jsl10n=\"license\">This page is available under the <a href=\"https://creativecommons.org/licenses/by-sa/4.0/\">Creative Commons Attribution-ShareAlike License</a></small>\n",
      "<small class=\"jsl10n\" data-jsl10n=\"terms\"><a href=\"https://foundation.wikimedia.org/wiki/Special:MyLanguage/Policy:Terms_of_Use\">Terms of Use</a></small>\n",
      "<small class=\"jsl10n\" data-jsl10n=\"privacy-policy\"><a href=\"https://foundation.wikimedia.org/wiki/Special:MyLanguage/Policy:Privacy_policy\">Privacy Policy</a></small>\n",
      "</p>\n",
      "</footer>\n",
      "<script>\n",
      "var rtlLangs = ['ar','arc','ary','arz','bcc','bgn','bqi','ckb','dv','fa','glk','he','kk-cn','kk-arab','khw','ks','ku-arab','lki','luz','mzn','nqo','pnb','ps','sd','sdh','skr','ug','ur','yi'],\n",
      "    translationsHash = '423d77fc',\n",
      "    /**\n",
      "     * This variable is used to convert the generic \"portal\" keyword in the data-jsl10n attributes\n",
      "     * e.g. 'data-jsl10n=\"portal.footer-description\"' into a portal-specific key, e.g. \"wiki\"\n",
      "     * for the Wikipedia portal.\n",
      "     */\n",
      "    translationsPortalKey = 'wiki';\n",
      "    /**\n",
      "     * The wm-typeahead.js feature is used for search,and it uses domain name for searching. We want domain\n",
      "     * name to be portal Specific (different for every portal).So by declaring variable 'portalSearchDomain'\n",
      "     * in index.handlebars we will make this portal Specific.\n",
      "    **/\n",
      "    portalSearchDomain = 'wikipedia.org'\n",
      "    /*\n",
      "     This object is used by l10n scripts (page-localized.js, topten-localized.js)\n",
      "     to reveal the page content after l10n json is loaded.\n",
      "     A timer is also set to prevent JS from hiding page content indefinitelty.\n",
      "     This script is inlined to safeguard againt script loading errors and placed\n",
      "     at the top of the page to safeguard against any HTML loading/parsing errors.\n",
      "    */\n",
      "    wmL10nVisible = {\n",
      "        ready: false,\n",
      "        makeVisible: function(){\n",
      "            if ( !wmL10nVisible.ready ) {\n",
      "                wmL10nVisible.ready = true;\n",
      "                document.body.className += ' jsl10n-visible';\n",
      "            }\n",
      "        }\n",
      "    };\n",
      "    window.setTimeout( wmL10nVisible.makeVisible, 1000 )\n",
      "</script>\n",
      "<script src=\"portal/wikipedia.org/assets/js/index-ae53ff489b.js\"></script>\n",
      "<script src=\"portal/wikipedia.org/assets/js/gt-ie9-38c8b5f74a.js\"></script>\n",
      "<style>\n",
      ".styled-select {\n",
      "        display: block;\n",
      "    }\n",
      "</style>\n",
      "</body>\n",
      "</html>\n",
      "\n"
     ]
    }
   ],
   "source": [
    "#Tenemos el texto plano\n",
    "print(respuesta.text)"
   ]
  },
  {
   "cell_type": "markdown",
   "metadata": {},
   "source": [
    "Los pasos anteriores lo que generan es la extraccion del dom en forma de texto, para poder analizarlo requeriremos de un parseador que nos convierta nuestro dom a formato html."
   ]
  },
  {
   "cell_type": "code",
   "execution_count": 2,
   "metadata": {},
   "outputs": [],
   "source": [
    "from lxml import html  #esto nos parseará nuestro texto para buscar dentro del arbol"
   ]
  },
  {
   "cell_type": "code",
   "execution_count": 77,
   "metadata": {},
   "outputs": [],
   "source": [
    "parser = html.fromstring(respuesta.text)"
   ]
  },
  {
   "cell_type": "code",
   "execution_count": 78,
   "metadata": {},
   "outputs": [],
   "source": [
    "ingles = parser.get_element_by_id(\"js-link-box-en\")    #con esto obtenemos el nodo"
   ]
  },
  {
   "cell_type": "code",
   "execution_count": 84,
   "metadata": {},
   "outputs": [
    {
     "data": {
      "text/plain": [
       "['English']"
      ]
     },
     "execution_count": 84,
     "metadata": {},
     "output_type": "execute_result"
    }
   ],
   "source": [
    "ingles.xpath(\"./strong/text()\")"
   ]
  },
  {
   "cell_type": "code",
   "execution_count": 79,
   "metadata": {},
   "outputs": [
    {
     "name": "stdout",
     "output_type": "stream",
     "text": [
      "\n",
      "English\n",
      "7,050,000+ articles\n",
      "\n"
     ]
    }
   ],
   "source": [
    "print(ingles.text_content())     #obtenemos el contenido "
   ]
  },
  {
   "cell_type": "code",
   "execution_count": 80,
   "metadata": {},
   "outputs": [],
   "source": [
    "ingles2 = parser.xpath(\"//a[@id='js-link-box-en']/strong/text()\")"
   ]
  },
  {
   "cell_type": "code",
   "execution_count": 81,
   "metadata": {},
   "outputs": [
    {
     "name": "stdout",
     "output_type": "stream",
     "text": [
      "['English']\n"
     ]
    }
   ],
   "source": [
    "print(ingles2)    "
   ]
  },
  {
   "cell_type": "code",
   "execution_count": null,
   "metadata": {},
   "outputs": [],
   "source": [
    "# Sacar todos los idiomas o multiples elementos con xpath"
   ]
  },
  {
   "cell_type": "code",
   "execution_count": 85,
   "metadata": {},
   "outputs": [],
   "source": [
    "idiomas = parser.xpath('//div[contains(@class,\"central-featured-lang\")]//strong/text()')"
   ]
  },
  {
   "cell_type": "code",
   "execution_count": 86,
   "metadata": {},
   "outputs": [
    {
     "name": "stdout",
     "output_type": "stream",
     "text": [
      "['English', 'æ\\x97¥æ\\x9c¬èª\\x9e', 'Ð\\xa0Ñ\\x83Ñ\\x81Ñ\\x81ÐºÐ¸Ð¹', 'Deutsch', 'FranÃ§ais', 'EspaÃ±ol', 'ä¸\\xadæ\\x96\\x87', 'Italiano', 'Polski', 'PortuguÃªs']\n"
     ]
    }
   ],
   "source": [
    "print(idiomas)"
   ]
  },
  {
   "cell_type": "markdown",
   "metadata": {},
   "source": [
    "## modos de busqueda con el parseador"
   ]
  },
  {
   "cell_type": "code",
   "execution_count": null,
   "metadata": {},
   "outputs": [],
   "source": [
    "parser.find_class\n",
    "parser.base_url\n",
    "parser.find_rel_links\n",
    "parser.findall"
   ]
  },
  {
   "cell_type": "code",
   "execution_count": 87,
   "metadata": {},
   "outputs": [],
   "source": [
    "idiomas2 = parser.find_class(\"central-featured-lang\")"
   ]
  },
  {
   "cell_type": "code",
   "execution_count": 88,
   "metadata": {},
   "outputs": [
    {
     "data": {
      "text/plain": [
       "[<Element div at 0x18e597da120>,\n",
       " <Element div at 0x18e597dbbb0>,\n",
       " <Element div at 0x18e597db930>,\n",
       " <Element div at 0x18e597db840>,\n",
       " <Element div at 0x18e597dafd0>,\n",
       " <Element div at 0x18e597db980>,\n",
       " <Element div at 0x18e597dbd40>,\n",
       " <Element div at 0x18e597dbcf0>,\n",
       " <Element div at 0x18e597dbd90>,\n",
       " <Element div at 0x18e597dbde0>]"
      ]
     },
     "execution_count": 88,
     "metadata": {},
     "output_type": "execute_result"
    }
   ],
   "source": [
    "idiomas2"
   ]
  },
  {
   "cell_type": "code",
   "execution_count": 89,
   "metadata": {},
   "outputs": [
    {
     "name": "stdout",
     "output_type": "stream",
     "text": [
      "\n",
      "\n",
      "English\n",
      "7,050,000+ articles\n",
      "\n",
      "\n"
     ]
    }
   ],
   "source": [
    "print(idiomas2[0].text_content())"
   ]
  },
  {
   "cell_type": "code",
   "execution_count": 90,
   "metadata": {},
   "outputs": [
    {
     "name": "stdout",
     "output_type": "stream",
     "text": [
      "\n",
      "\n",
      "English\n",
      "7,050,000+ articles\n",
      "\n",
      "\n",
      "\n",
      "\n",
      "æ¥æ¬èª\n",
      "1,471,000+ è¨äº\n",
      "\n",
      "\n",
      "\n",
      "\n",
      "Ð ÑÑÑÐºÐ¸Ð¹\n",
      "2Â 061Â 000+ ÑÑÐ°ÑÐµÐ¹\n",
      "\n",
      "\n",
      "\n",
      "\n",
      "Deutsch\n",
      "3.046.000+ Artikel\n",
      "\n",
      "\n",
      "\n",
      "\n",
      "FranÃ§ais\n",
      "2â¯706â¯000+ articles\n",
      "\n",
      "\n",
      "\n",
      "\n",
      "EspaÃ±ol\n",
      "2.058.000+ artÃ­culos\n",
      "\n",
      "\n",
      "\n",
      "\n",
      "ä¸­æ\n",
      "1,497,000+ æ¡ç® / æ¢ç®\n",
      "\n",
      "\n",
      "\n",
      "\n",
      "Italiano\n",
      "1.933.000+ voci\n",
      "\n",
      "\n",
      "\n",
      "\n",
      "Polski\n",
      "1Â 667Â 000+ haseÅ\n",
      "\n",
      "\n",
      "\n",
      "\n",
      "PortuguÃªs\n",
      "1.154.000+ artigos\n",
      "\n",
      "\n"
     ]
    }
   ],
   "source": [
    "for i in idiomas2:\n",
    "    print(i.text_content())"
   ]
  },
  {
   "cell_type": "markdown",
   "metadata": {},
   "source": [
    "# buscador de xpath gral"
   ]
  },
  {
   "cell_type": "markdown",
   "metadata": {},
   "source": [
    "### importamos librerias"
   ]
  },
  {
   "cell_type": "code",
   "execution_count": 3,
   "metadata": {},
   "outputs": [],
   "source": [
    "import requests   #Hacer el requerimiento del servidor\n",
    "from lxml import html  #esto nos parseará nuestro texto para buscar dentro del arbol"
   ]
  },
  {
   "cell_type": "markdown",
   "metadata": {},
   "source": [
    "### hacemos nuestro requerimiento"
   ]
  },
  {
   "cell_type": "code",
   "execution_count": null,
   "metadata": {},
   "outputs": [],
   "source": [
    "url = 'https://www.wikipedia.org/'   #es nuestra url semilla\n",
    "encabezado = {\n",
    "    'user-agent':'Mozilla/5.0 (X11; Linux x86_64) AppleWebKit/537.36 (KHTML, like Gecko) Ubuntu Chromium/71.0.3578.80 Chrome/71.0.3578.80 Safari/537.36'\n",
    "}\n",
    "respuesta = requests.get(url,headers = encabezado)   #aqui se tiene el arbol html que nos devuelve la url"
   ]
  },
  {
   "cell_type": "markdown",
   "metadata": {},
   "source": [
    "### Parceamos y definidmos busqueda como xpath"
   ]
  },
  {
   "cell_type": "code",
   "execution_count": null,
   "metadata": {},
   "outputs": [],
   "source": [
    "parser = html.fromstring(respuesta.text)"
   ]
  },
  {
   "cell_type": "code",
   "execution_count": null,
   "metadata": {
    "scrolled": true
   },
   "outputs": [],
   "source": [
    "parser.xpath('//div')"
   ]
  },
  {
   "cell_type": "code",
   "execution_count": null,
   "metadata": {},
   "outputs": [],
   "source": [
    "parser.xpath('//div[contains(@class,\"central-featured-lang\")]//strong/text()')"
   ]
  },
  {
   "cell_type": "markdown",
   "metadata": {},
   "source": [
    "# Otro método de parseo"
   ]
  },
  {
   "cell_type": "markdown",
   "metadata": {},
   "source": [
    "# Beautiful Soup"
   ]
  },
  {
   "cell_type": "markdown",
   "metadata": {},
   "source": [
    "Beautiful Soup es una biblioteca de Python diseñada para facilitar la extracción y el análisis de datos de archivos HTML y XML. Permite navegar, buscar y modificar fácilmente la estructura del documento, incluso si está mal formado o tiene errores comunes, lo que la hace muy útil para tareas de web scraping. Con Beautiful Soup, puedes extraer texto, atributos, enlaces y otros elementos específicos de una página web de manera sencilla, gracias a una interfaz intuitiva que trabaja con los árboles de etiquetas del HTML.\n"
   ]
  },
  {
   "cell_type": "code",
   "execution_count": 4,
   "metadata": {},
   "outputs": [],
   "source": [
    "import requests "
   ]
  },
  {
   "cell_type": "code",
   "execution_count": 5,
   "metadata": {},
   "outputs": [],
   "source": [
    "encabezado = {\n",
    "    'user-agent':'Mozilla/5.0 (X11; Linux x86_64) AppleWebKit/537.36 (KHTML, like Gecko) Ubuntu Chromium/71.0.3578.80 Chrome/71.0.3578.80 Safari/537.36'\n",
    "}"
   ]
  },
  {
   "cell_type": "code",
   "execution_count": 93,
   "metadata": {},
   "outputs": [],
   "source": [
    "url = 'https://es.stackoverflow.com/questions'   #es nuestra url semilla"
   ]
  },
  {
   "cell_type": "code",
   "execution_count": 94,
   "metadata": {},
   "outputs": [],
   "source": [
    "respuesta = requests.get(url,headers = encabezado)"
   ]
  },
  {
   "cell_type": "code",
   "execution_count": 95,
   "metadata": {},
   "outputs": [
    {
     "data": {
      "text/plain": [
       "<Response [200]>"
      ]
     },
     "execution_count": 95,
     "metadata": {},
     "output_type": "execute_result"
    }
   ],
   "source": [
    "respuesta"
   ]
  },
  {
   "cell_type": "markdown",
   "metadata": {},
   "source": [
    "### importamos beautiful soup"
   ]
  },
  {
   "cell_type": "code",
   "execution_count": null,
   "metadata": {},
   "outputs": [],
   "source": [
    "# Instalación\n",
    "!pip install beautifulsoup4 --user"
   ]
  },
  {
   "cell_type": "code",
   "execution_count": 6,
   "metadata": {},
   "outputs": [],
   "source": [
    "from bs4 import BeautifulSoup\n",
    "#por pip  !pip install beautifulsoup4--user "
   ]
  },
  {
   "cell_type": "code",
   "execution_count": 97,
   "metadata": {},
   "outputs": [],
   "source": [
    "# Parseamos\n",
    "soup = BeautifulSoup(respuesta.text)"
   ]
  },
  {
   "cell_type": "code",
   "execution_count": 98,
   "metadata": {},
   "outputs": [
    {
     "data": {
      "text/plain": [
       "<!DOCTYPE html>\n",
       "<html class=\"html__responsive\" lang=\"es\">\n",
       "<head>\n",
       "<title>Preguntas más nuevas - Stack Overflow en español</title>\n",
       "<link href=\"https://cdn.sstatic.net/Sites/es/Img/favicon.ico?v=9c017e88b153\" rel=\"shortcut icon\"/>\n",
       "<link href=\"https://cdn.sstatic.net/Sites/es/Img/apple-touch-icon.png?v=7739871010e6\" rel=\"apple-touch-icon\"/>\n",
       "<link href=\"https://cdn.sstatic.net/Sites/es/Img/apple-touch-icon.png?v=7739871010e6\" rel=\"image_src\"/>\n",
       "<link href=\"/opensearch.xml\" rel=\"search\" title=\"Stack Overflow en español\" type=\"application/opensearchdescription+xml\"/>\n",
       "<meta content=\"width=device-width, height=device-height, initial-scale=1.0, minimum-scale=1.0\" name=\"viewport\"/>\n",
       "<meta content=\"website\" property=\"og:type\"/>\n",
       "<meta content=\"https://es.stackoverflow.com/questions\" property=\"og:url\"/>\n",
       "<meta content=\"Stack Overflow en español\" property=\"og:site_name\"/>\n",
       "<meta content=\"https://cdn.sstatic.net/Sites/es/Img/apple-touch-icon@2.png?v=62634cce9d6c\" itemprop=\"image primaryImageOfPage\" property=\"og:image\"/>\n",
       "<script type=\"application/ld+json\">\n",
       "            {\n",
       "              \"@context\" : \"https://schema.org\",\n",
       "              \"@type\" : \"WebSite\",\n",
       "              \"name\" : \"Stack Overflow en espa&#xF1;ol\",\n",
       "              \"url\" : \"https://es.stackoverflow.com\"\n",
       "            }\n",
       "        </script>\n",
       "<meta content=\"summary\" name=\"twitter:card\"/>\n",
       "<meta content=\"es.stackoverflow.com\" name=\"twitter:domain\"/>\n",
       "<meta content=\"Preguntas más nuevas\" itemprop=\"name\" name=\"twitter:title\" property=\"og:title\"/>\n",
       "<meta content=\"Preguntas y respuestas para programadores y profesionales de la informática\" itemprop=\"description\" name=\"twitter:description\" property=\"og:description\"/>\n",
       "<script id=\"webpack-public-path\" type=\"text/uri-list\">https://cdn.sstatic.net/</script>\n",
       "<script src=\"https://ajax.googleapis.com/ajax/libs/jquery/3.7.1/jquery.min.js\"></script>\n",
       "<script defer=\"\" src=\"https://cdn.sstatic.net/Js/third-party/npm/@stackoverflow/stacks/dist/js/stacks.min.js?v=c7bcc7a1b4fd\"></script>\n",
       "<script src=\"https://cdn.sstatic.net/Js/stub.es.js?v=9a6bc1ed7b2f\"></script>\n",
       "<link href=\"https://cdn.sstatic.net/Shared/stacks.css?v=b2264ccf0463\" rel=\"stylesheet\" type=\"text/css\"/>\n",
       "<link href=\"https://cdn.sstatic.net/Sites/es/primary.css?v=9c02b3ec3f3d\" rel=\"stylesheet\" type=\"text/css\"/>\n",
       "<script defer=\"\" src=\"https://cdn.sstatic.net/Js/webpack-chunks/5913.es.js?v=75c66207c944\"></script><script defer=\"\" src=\"https://cdn.sstatic.net/Js/questions/list.es.js?v=5eacd74d2621\"></script>\n",
       "<script>StackExchange.ready(function () {StackExchange.realtime.subscribeToUQL('637', 'newest', [], {}, []);});</script>\n",
       "<link href=\"https://cdn.sstatic.net/Shared/Channels/channels.css?v=2c98e83b4da0\" rel=\"stylesheet\" type=\"text/css\"/>\n",
       "<script>\n",
       "        StackExchange.ready(function () {\n",
       "            StackExchange.realtime.init('wss://qa.sockets.stackexchange.com');\n",
       "                StackExchange.realtime.subscribeToReputationNotifications('637');\n",
       "        StackExchange.realtime.subscribeToTopBarNotifications('637');\n",
       "        });\n",
       "    </script>\n",
       "<script data-module-name=\"args/options.mod\" data-role=\"module-args\" type=\"application/json\">{\"options\":{\"locale\":\"es\",\"serverTime\":1756870617,\"routeName\":\"Questions/List\",\"stackAuthUrl\":\"https://stackauth.com\",\"networkMetaHostname\":\"meta.stackexchange.com\",\"site\":{\"name\":\"Stack Overflow en español\",\"description\":\"Preguntas y respuestas para programadores y profesionales de la informática\",\"isNoticesTabEnabled\":true,\"enableNewTagCreationWarning\":false,\"insertSpaceAfterNameTabCompletion\":false,\"id\":637,\"cookieDomain\":\".stackoverflow.com\",\"childUrl\":\"https://es.meta.stackoverflow.com\",\"negativeVoteScoreFloor\":null,\"enableSocialMediaInSharePopup\":true,\"protocol\":\"https\"},\"user\":{\"fkey\":\"9ee9b517cc3dd82b094722986f7777067828184c10128ae3f411bf531817c162\",\"tid\":\"6fac33ea-4eb1-490f-b097-0692ae7a2093\",\"rep\":0,\"isAnonymous\":true,\"isAnonymousNetworkWide\":true},\"realtime\":{\"newest\":true,\"active\":true,\"tagged\":true,\"staleDisconnectIntervalInHours\":0},\"events\":{\"postType\":{\"question\":1},\"postEditionSection\":{\"title\":1,\"body\":2,\"tags\":3}}}}</script>\n",
       "<script data-module-name=\"args/settings.mod\" data-role=\"module-args\" type=\"application/json\">{\"settings\":{\"flags\":{\"allowRetractingCommentFlags\":true,\"allowRetractingFlags\":true},\"questionLinkTitleReplacement\":{\"maxNumberOfSitesProcessed\":10,\"maxReplacementsPerSite\":20},\"legal\":{\"useCustomConsent\":false,\"oneTrustTCFConfigId\":\"9559b3a0-3b4d-4c4d-aee3-7b35aa801b9d\"},\"snippets\":{\"renderDomain\":\"stacksnippets.net\",\"snippetsEnabled\":true,\"stacksEditorSnippetsEnabledFor\":{\"Metadata\":{\"Name\":\"NewHomepageSettings.ShowNewHomepageFor\",\"Filter\":0},\"AppliedFilter\":0,\"IsNobody\":true,\"All\":false,\"Anonymous\":false,\"LoggedIn\":false,\"ChannelsMembers\":false,\"Moderators\":false,\"Employees\":false,\"Developers\":false,\"TeamAdmins\":false,\"AccountIds\":[],\"ExcludedAccountIds\":[],\"Serialization\":\"\"}},\"image\":{\"maxImageUploadSizeInBytesAnimatedGif\":2097152,\"maxImageUploadSizeInBytes\":10485760},\"subscriptions\":{\"defaultMaxTrueUpSeats\":1000,\"defaultBasicMaxTrueUpSeats\":250,\"defaultFreemiumMaxTrueUpSeats\":50},\"intercom\":{\"appId\":\"inf0secd\"},\"mentions\":{\"maxNumUsersInDropdown\":50},\"questions\":{\"questionTitleLengthStartLiveWarningChars\":50,\"enableSavesFeature\":true,\"maxTitleSize\":150,\"enableQuestionTitleLengthLiveWarning\":true},\"markdown\":{\"enableTables\":true},\"tags\":{\"allowNonAsciiTags\":true},\"elections\":{\"opaVoteResultsBaseUrl\":\"https://www.opavote.com/results/\"},\"paths\":{\"jQueryUICSSPath\":\"https://ajax.googleapis.com/ajax/libs/jqueryui/1.12.0/themes/smoothness/jquery-ui.css\",\"jQueryUIJSPath\":\"https://ajax.googleapis.com/ajax/libs/jqueryui/1.12.0/jquery-ui.min.js\"},\"comments\":{},\"accounts\":{\"currentPasswordRequiredForChangingStackIdPassword\":true},\"search\":{},\"userMessaging\":{\"showNewFeatureNotice\":true},\"auth\":{\"oauthInPopup\":true},\"site\":{\"forceHttpsImages\":true,\"allowImageUploads\":true,\"stacksEditorPreviewEnabled\":true,\"enableImageHttps\":true,\"enableUserHovercards\":true,\"styleCode\":true}}}</script>\n",
       "<script>StackExchange.init();</script>\n",
       "<script>\n",
       "        StackExchange.using.setCacheBreakers({\"Js/adops.es.js\":\"6da43f5e0a84\",\"Js/ask.es.js\":\"\",\"Js/begin-edit-event.es.js\":\"dd955babf04d\",\"Js/events.es.js\":\"\",\"Js/explore-qlist.es.js\":\"ee2a4f8c3992\",\"Js/full-anon.es.js\":\"0f9f07407ba6\",\"Js/full.es.js\":\"29e1df0eec39\",\"Js/highlightjs-loader.es.js\":\"367954505ed3\",\"Js/inline-tag-editing.es.js\":\"7296590647ff\",\"Js/keyboard-shortcuts.es.js\":\"eea786a03d5e\",\"Js/markdown-it-loader.es.js\":\"9e901e1e3a2c\",\"Js/mentions-transpiled.es.js\":\"e873dcaddf21\",\"Js/moderator.es.js\":\"b4fb6730792f\",\"Js/postCollections-transpiled.es.js\":\"1c4efb1c45ac\",\"Js/post-validation.es.js\":\"44c59c661624\",\"Js/question-editor.es.js\":\"\",\"Js/review-v2-transpiled.es.js\":\"e9ebfd33ae94\",\"Js/revisions.es.js\":\"9ab239b701f4\",\"Js/stacks-editor.es.js\":\"ff7687d3c8ea\",\"Js/tageditor.es.js\":\"7224384f2c76\",\"Js/tageditornew.es.js\":\"cc0282fd2f33\",\"Js/tagsuggestions.es.js\":\"a0a8840ef720\",\"Js/wmd.es.js\":\"a45d94c1a8e6\",\"Js/snippet-javascript-codemirror.es.js\":\"ede55efa5a37\"});\n",
       "        StackExchange.using(\"gps\", function() {\n",
       "             StackExchange.gps.init(false);\n",
       "        });\n",
       "    </script>\n",
       "<noscript id=\"noscript-css\"><style>body,.s-topbar{margin-top:1.9em}</style></noscript>\n",
       "</head>\n",
       "<body class=\"questions-page unified-theme\">\n",
       "<div id=\"signup-modal-container\"></div>\n",
       "<script data-module-name=\"islands/signup-modal/index.mod\" data-role=\"module-args\" type=\"application/json\">{\"ContainerElementId\":\"signup-modal-container\",\"FKey\":\"9ee9b517cc3dd82b094722986f7777067828184c10128ae3f411bf531817c162\",\"TriggerEvent\":\"signupModalShow\",\"OauthInPopup\":true,\"ReturnUrl\":\"https://es.stackoverflow.com/questions\",\"ReturnUrlForPopup\":\"https://es.stackoverflow.com/users/after-signup/oauth-only\",\"SiteName\":\"Stack Overflow en español\",\"SiteLogoPath\":\"https://cdn.sstatic.net/Sites/es/Img/icon-48.png?v=e476a587da05\",\"AuthProviders\":[\"Google\"],\"ParentSiteUrl\":\"\",\"IsInitiallyVisible\":false}</script>\n",
       "<script defer=\"\" src=\"https://cdn.sstatic.net/Js/webpack-chunks/svelte.es.js?v=7c953c5063aa\"></script><script defer=\"\" src=\"https://cdn.sstatic.net/Js/webpack-chunks/stacks-svelte.es.js?v=1c6c229c6a50\"></script><script defer=\"\" src=\"https://cdn.sstatic.net/Js/webpack-chunks/8901.es.js?v=9ff34567d3a5\"></script><script defer=\"\" src=\"https://cdn.sstatic.net/Js/islands/signup-modal.es.js?v=3c27186b8de2\"></script>\n",
       "<script defer=\"\">\n",
       "    dispatchEvent(new CustomEvent(\"openSignupModal\"));\n",
       "</script>\n",
       "<div id=\"one-tap-container\"></div>\n",
       "<script data-module-name=\"islands/one-tap/index.mod\" data-role=\"module-args\" type=\"application/json\">{\"ContainerElementId\":\"one-tap-container\",\"FKey\":\"9ee9b517cc3dd82b094722986f7777067828184c10128ae3f411bf531817c162\",\"GoogleClientId\":\"717762328687-iludtf96g1hinl76e4lc1b9a82g457nn.apps.googleusercontent.com\",\"Autoselect\":false,\"ReturnUrl\":\"https%253a%252f%252fes.stackoverflow.com%252fquestions\"}</script><script defer=\"\" src=\"https://cdn.sstatic.net/Js/webpack-chunks/svelte.es.js?v=7c953c5063aa\"></script><script defer=\"\" src=\"https://cdn.sstatic.net/Js/islands/one-tap.es.js?v=fd64ec49bac4\"></script> <div id=\"notify-container\"></div>\n",
       "<div id=\"custom-header\"></div>\n",
       "<header class=\"s-topbar ps-fixed t0 l0 js-top-bar\">\n",
       "<a class=\"s-topbar--skip-link\" href=\"#content\">Skip to main content</a>\n",
       "<div class=\"s-topbar--container\">\n",
       "<a aria-controls=\"left-sidebar\" aria-expanded=\"false\" aria-haspopup=\"true\" class=\"s-topbar--menu-btn js-left-sidebar-toggle\" href=\"#\"><span></span></a>\n",
       "<div class=\"topbar-dialog leftnav-dialog js-leftnav-dialog dno\">\n",
       "<div class=\"left-sidebar js-unpinned-left-sidebar\" data-can-be=\"left-sidebar\" data-is-here-when=\"sm\"></div>\n",
       "</div>\n",
       "<a class=\"s-topbar--logo js-gps-track\" data-gps-track=\"top_nav.click({is_current:false, location:3, destination:8}); homelogo_nav.click({location:3})\" href=\"https://es.stackoverflow.com\">\n",
       "<span class=\"-img _glyph\">Stack Overflow en español</span>\n",
       "</a>\n",
       "<form action=\"/search\" autocomplete=\"off\" class=\"s-topbar--searchbar js-searchbar\" id=\"search\" role=\"search\">\n",
       "<div class=\"s-topbar--searchbar--input-group\">\n",
       "<input aria-controls=\"top-search\" aria-label=\"Buscar\" autocomplete=\"off\" class=\"s-input s-input__search js-search-field wmn1\" data-action=\"focus-&gt;s-popover#show\" data-controller=\"s-popover\" data-s-popover-placement=\"bottom-start\" maxlength=\"240\" name=\"q\" placeholder=\"Buscar…\" role=\"combobox\" type=\"text\" value=\"\"/>\n",
       "<svg aria-hidden=\"true\" class=\"s-input-icon s-input-icon__search svg-icon iconSearch\" height=\"18\" viewbox=\"0 0 18 18\" width=\"18\"><path d=\"m18 16.5-5.14-5.18h-.35a7 7 0 1 0-1.19 1.19v.35L16.5 18zM12 7A5 5 0 1 1 2 7a5 5 0 0 1 10 0\"></path></svg>\n",
       "<div class=\"s-popover p0 wmx100 wmn4 sm:wmn-initial js-top-search-popover\" id=\"top-search\" role=\"menu\">\n",
       "<div class=\"s-popover--arrow\"></div>\n",
       "<div class=\"s-popover--content\">\n",
       "<div class=\"js-spinner p24 d-flex ai-center jc-center d-none\">\n",
       "<div class=\"s-spinner s-spinner__sm fc-orange-400\">\n",
       "<div class=\"v-visible-sr\">Loading…</div>\n",
       "</div>\n",
       "</div>\n",
       "<span class=\"v-visible-sr js-screen-reader-info\"></span>\n",
       "<div class=\"js-ac-results overflow-y-auto hmx3 d-none\"></div>\n",
       "<div aria-describedby=\"Tips for searching\" class=\"js-search-hints\"></div>\n",
       "</div>\n",
       "</div>\n",
       "</div>\n",
       "</form>\n",
       "<nav aria-label=\"Topbar\" class=\"h100 ml-auto overflow-x-auto pr12\">\n",
       "<ol class=\"s-topbar--content\">\n",
       "<li>\n",
       "<a aria-controls=\"topbar-help-dialog\" aria-haspopup=\"true\" class=\"s-topbar--item js-help-button\" data-ga='[\"top navigation\",\"help menu click\",null,null,null]' href=\"/help\" title=\"Centro de ayuda y otros recursos\"><svg aria-hidden=\"true\" class=\"svg-icon iconHelp\" height=\"18\" viewbox=\"0 0 18 18\" width=\"18\"><path d=\"M9 1C4.64 1 1 4.64 1 9s3.64 8 8 8 8-3.64 8-8-3.64-8-8-8m.81 12.13c-.02.71-.55 1.15-1.24 1.13-.66-.02-1.17-.49-1.15-1.2.02-.72.56-1.18 1.22-1.16.7.03 1.2.51 1.17 1.23M11.77 8c-.59.66-1.78 1.09-2.05 1.97a4 4 0 0 0-.09.75c0 .05-.03.16-.18.16H7.88c-.16 0-.18-.1-.18-.15.06-1.35.66-2.2 1.83-2.88.39-.29.7-.75.7-1.24.01-1.24-1.64-1.82-2.35-.72-.21.33-.18.73-.18 1.1H5.75c0-1.97 1.03-3.26 3.03-3.26 1.75 0 3.47.87 3.47 2.83 0 .57-.2 1.05-.48 1.44\"></path></svg></a>\n",
       "<div class=\"topbar-dialog help-dialog js-help-dialog dno\" id=\"topbar-help-dialog\" role=\"menu\">\n",
       "<div class=\"modal-content\">\n",
       "<ul>\n",
       "<li>\n",
       "<a class=\"js-gps-track s-block-link\" data-ga='[\"top navigation\",\"tour submenu click\",null,null,null]' data-gps-track=\"help_popup.click({ item_type:1 })\" href=\"/tour\">\n",
       "                                    Recorrido\n",
       "                                    <span class=\"item-summary\">\n",
       "                                        Comienza aquí para acceder a una breve descripción general del sitio\n",
       "                                    </span>\n",
       "</a>\n",
       "</li>\n",
       "<li>\n",
       "<a class=\"js-gps-track s-block-link\" data-ga='[\"top navigation\",\"help center\",null,null,null]' data-gps-track=\"help_popup.click({ item_type:4 })\" href=\"/help\">\n",
       "                                Centro de Ayuda\n",
       "                                <span class=\"item-summary\">\n",
       "                                    Respuestas detalladas para cualquier pregunta que puedas tener\n",
       "                                </span>\n",
       "</a>\n",
       "</li>\n",
       "<li>\n",
       "<a class=\"js-gps-track s-block-link\" data-ga='[\"top navigation\",\"meta submenu click\",null,null,null]' data-gps-track=\"help_popup.click({ item_type:2 })\" href=\"https://es.meta.stackoverflow.com\">\n",
       "                                            Meta\n",
       "                                            <span class=\"item-summary\">\n",
       "                                                Analizar el funcionamiento y las políticas de este sitio\n",
       "                                            </span>\n",
       "</a>\n",
       "</li>\n",
       "<li>\n",
       "<a class=\"js-gps-track s-block-link\" data-ga='[\"top navigation\",\"about us submenu click\",null,null,null]' data-gps-track=\"help_popup.click({ item_type:6 })\" href=\"https://stackoverflow.co/\">\n",
       "                                        Sobre nosotros\n",
       "                                        <span class=\"item-summary\">\n",
       "                                            Obtén más información acerca de la empresa Stack Overflow, y de nuestros productos\n",
       "                                        </span>\n",
       "</a>\n",
       "</li>\n",
       "</ul>\n",
       "</div>\n",
       "</div>\n",
       "</li>\n",
       "<li>\n",
       "<a aria-expanded=\"false\" aria-haspopup=\"true\" aria-label=\"Site switcher\" class=\"s-topbar--item js-site-switcher-button js-gps-track\" data-ga='[\"top navigation\",\"stack exchange click\",null,null,null]' data-gps-track=\"site_switcher.show\" href=\"https://stackexchange.com\" title=\"Lista de los 183 sitios de Stack Exchange\">\n",
       "<svg aria-hidden=\"true\" class=\"svg-icon iconStackExchange\" height=\"18\" viewbox=\"0 0 18 18\" width=\"18\"><path d=\"M15 1H3a2 2 0 0 0-2 2v2h16V3a2 2 0 0 0-2-2M1 13c0 1.1.9 2 2 2h8v3l3-3h1a2 2 0 0 0 2-2v-2H1zm16-7H1v4h16z\"></path></svg>\n",
       "</a>\n",
       "</li>\n",
       "<li class=\"js-topbar-dialog-corral\">\n",
       "<div class=\"topbar-dialog siteSwitcher-dialog dno\" role=\"menu\">\n",
       "<div class=\"header fw-wrap\">\n",
       "<h3 class=\"flex--item\">\n",
       "<a href=\"https://es.stackoverflow.com\">comunidad actual</a>\n",
       "</h3>\n",
       "<div class=\"flex--item fl1\">\n",
       "<div class=\"ai-center d-flex jc-end\">\n",
       "<button aria-label=\"Close\" class=\"js-close-button s-btn s-btn__muted p0 ml8 d-none sm:d-block\" type=\"button\">\n",
       "<svg aria-hidden=\"true\" class=\"svg-icon iconClear\" height=\"18\" viewbox=\"0 0 18 18\" width=\"18\"><path d=\"M15 4.41 13.59 3 9 7.59 4.41 3 3 4.41 7.59 9 3 13.59 4.41 15 9 10.41 13.59 15 15 13.59 10.41 9z\"></path></svg>\n",
       "</button>\n",
       "</div>\n",
       "</div>\n",
       "</div>\n",
       "<div class=\"modal-content bg-blue-200 current-site-container\">\n",
       "<ul class=\"current-site\">\n",
       "<li class=\"d-flex\">\n",
       "<div class=\"fl1\">\n",
       "<a class=\"current-site-link d-flex gx8 site-link js-gps-track\" data-gps-track=\"site_switcher.click({ item_type:3 })\" data-id=\"637\" href=\"https://es.stackoverflow.com\">\n",
       "<div class=\"favicon favicon-es site-icon flex--item\" title=\"Stack Overflow en español\"></div>\n",
       "<span class=\"flex--item fl1\">\n",
       "            Stack Overflow en español\n",
       "        </span>\n",
       "</a>\n",
       "</div>\n",
       "<div class=\"related-links\">\n",
       "<a class=\"js-gps-track\" data-gps-track=\"site_switcher.click({ item_type:14 })\" href=\"https://es.stackoverflow.com/help\">ayuda</a>\n",
       "<a class=\"js-gps-track\" data-gps-track=\"site_switcher.click({ item_type:6 })\" href=\"https://chat.stackexchange.com/?tab=site&amp;host=es.stackoverflow.com\">chat</a>\n",
       "</div>\n",
       "</li>\n",
       "<li class=\"related-site d-flex\">\n",
       "<div class=\"L-shaped-icon-container\">\n",
       "<span class=\"L-shaped-icon\"></span>\n",
       "</div>\n",
       "<a class=\"s-block-link px16 d-flex gx8 site-link js-gps-track\" data-gps-track=\"site.switch({ target_site:638, item_type:3 }),site_switcher.click({ item_type:4 })\" data-id=\"638\" href=\"https://es.meta.stackoverflow.com\">\n",
       "<div class=\"favicon favicon-esmeta site-icon flex--item\" title=\"Stack Overflow Meta en español\"></div>\n",
       "<span class=\"flex--item fl1\">\n",
       "            Stack Overflow Meta en español\n",
       "        </span>\n",
       "</a>\n",
       "</li>\n",
       "</ul>\n",
       "</div>\n",
       "<div class=\"header\" id=\"your-communities-header\">\n",
       "<h3>\n",
       "tus comunidades            </h3>\n",
       "</div>\n",
       "<div class=\"modal-content\" id=\"your-communities-section\">\n",
       "<div class=\"call-to-login\">\n",
       "<a class=\"login-link js-gps-track\" data-gps-track=\"site_switcher.click({ item_type:10 })\" href=\"https://es.stackoverflow.com/users/signup?ssrc=site_switcher&amp;returnurl=https%3a%2f%2fes.stackoverflow.com%2fquestions\">Regístrate</a> o <a class=\"login-link js-gps-track\" data-gps-track=\"site_switcher.click({ item_type:11 })\" href=\"https://es.stackoverflow.com/users/login?ssrc=site_switcher&amp;returnurl=https%3a%2f%2fes.stackoverflow.com%2fquestions\">inicia sesión</a> para personalizar tu lista.                </div>\n",
       "</div>\n",
       "<div class=\"header\">\n",
       "<h3><a href=\"https://stackexchange.com/sites\">más comunidades Stack Exchange</a>\n",
       "</h3>\n",
       "<a class=\"float-right\" href=\"https://stackoverflow.blog\">blog de la empresa</a>\n",
       "</div>\n",
       "<div class=\"modal-content\">\n",
       "<div class=\"child-content\"></div>\n",
       "</div>\n",
       "</div>\n",
       "</li>\n",
       "<li><button aria-controls=\"search\" aria-haspopup=\"true\" aria-label=\"Buscar\" class=\"s-topbar--item s-btn s-btn__icon s-btn__muted d-none sm:d-inline-flex js-searchbar-trigger\" title=\"Clic para mostrar la búsqueda\"><svg aria-hidden=\"true\" class=\"svg-icon iconSearch\" height=\"18\" viewbox=\"0 0 18 18\" width=\"18\"><path d=\"m18 16.5-5.14-5.18h-.35a7 7 0 1 0-1.19 1.19v.35L16.5 18zM12 7A5 5 0 1 1 2 7a5 5 0 0 1 10 0\"></path></svg></button></li>\n",
       "<li>\n",
       "<a class=\"s-topbar--item s-topbar--item__unset s-btn s-btn__outlined ws-nowrap js-gps-track\" data-ga='[\"top navigation\",\"login button click\",null,null,null]' data-gps-track=\"login.click\" href=\"https://es.stackoverflow.com/users/login?ssrc=head&amp;returnurl=https%3a%2f%2fes.stackoverflow.com%2fquestions\" rel=\"nofollow\">Iniciar sesión</a>\n",
       "</li>\n",
       "<li><a class=\"s-topbar--item s-topbar--item__unset ml4 s-btn s-btn__filled ws-nowrap js-signup-button js-gps-track\" data-ga='[\"sign up\",\"Sign Up Navigation\",\"Header\",null,null]' data-gps-track=\"signup.topbar.click\" href=\"https://es.stackoverflow.com/users/signup?ssrc=head&amp;returnurl=https%3a%2f%2fes.stackoverflow.com%2fquestions\" rel=\"nofollow\">Registrarse</a></li>\n",
       "</ol>\n",
       "</nav>\n",
       "</div>\n",
       "</header>\n",
       "<script>\n",
       "\t\tStackExchange.ready(function () { StackExchange.topbar.init(); });\n",
       "\t\tStackExchange.scrollPadding.setPaddingTop(50, 10); \n",
       "\t</script>\n",
       "<div class=\"container\">\n",
       "<script defer=\"\" src=\"https://cdn.sstatic.net/Js/sprinkles/left-nav-events.es.js?v=2ac13fd60bf6\"></script>\n",
       "<div class=\"left-sidebar js-pinned-left-sidebar ps-relative\" data-is-here-when=\"md lg\" id=\"left-sidebar\">\n",
       "<div class=\"left-sidebar--sticky-container js-sticky-leftnav\">\n",
       "<nav aria-label=\"Elecciones primarias\">\n",
       "<ol class=\"nav-links\">\n",
       "<li>\n",
       "<ol class=\"nav-links\">\n",
       "<li aria-current=\"false\" class=\"ps-relative\">\n",
       "<a aria-controls=\" \" aria-current=\"false\" class=\"s-block-link pl8 js-gps-track nav-links--link -link__with-icon\" data-action=\"\" data-controller=\"  \" data-gps-track=\"top_nav.click({is_current: false, location:3, destination:8,  has_activity_notification:False});home_nav.click({location:3})\" data-left-nav-events-navigation-activity-notification-value=\"\" data-left-nav-events-navigation-destination-value=\"\" data-left-nav-events-navigation-location-value=\"\" data-s-popover-auto-show=\"true\" data-s-popover-hide-on-outside-click=\"never\" data-s-popover-placement=\"right\" href=\"/\">\n",
       "<div class=\"d-flex ai-center\">\n",
       "<svg aria-hidden=\"true\" class=\"svg-icon iconHome\" height=\"18\" viewbox=\"0 0 18 18\" width=\"18\"><path d=\"M15 10v5a2 2 0 0 1-2 2H5a2 2 0 0 1-2-2v-5H0l9-9 9 9zm-8 1v6h4v-6z\"></path></svg> <span class=\"-link--channel-name pl8\">Inicio</span>\n",
       "</div>\n",
       "</a>\n",
       "</li>\n",
       "<li aria-current=\"true\" class=\"ps-relative youarehere\">\n",
       "<a aria-controls=\" \" aria-current=\"page\" class=\"s-block-link pl8 js-gps-track nav-links--link -link__with-icon\" data-action=\"\" data-controller=\"  \" data-gps-track=\"top_nav.click({is_current: true, location:3, destination:1,  has_activity_notification:False})\" data-left-nav-events-navigation-activity-notification-value=\"\" data-left-nav-events-navigation-destination-value=\"\" data-left-nav-events-navigation-location-value=\"\" data-s-popover-auto-show=\"true\" data-s-popover-hide-on-outside-click=\"never\" data-s-popover-placement=\"right\" href=\"/questions\" id=\"nav-questions\">\n",
       "<div class=\"d-flex ai-center\">\n",
       "<svg aria-hidden=\"true\" class=\"svg-icon iconQuestionEs\" height=\"18\" viewbox=\"0 0 18 18\" width=\"18\"><path d=\"M9.13 7.84q.66 0 1-.3.35-.31.35-.89t-.35-.95a1.3 1.3 0 0 0-.96-.38H7.65v2.52zM1 18l3-3h11c1.09 0 2-.91 2-2V4c0-1.09-.91-2-2-2H3a2 2 0 0 0-2 2zm6.65-5.98H6V3.98h3.13q.9 0 1.6.33.68.33 1.05.95.37.6.37 1.38 0 1.18-.81 1.87-.8.68-2.24.68H7.65z\"></path></svg> <span class=\"-link--channel-name pl8\">Preguntas</span>\n",
       "</div>\n",
       "</a>\n",
       "</li>\n",
       "<li aria-current=\"false\" class=\"ps-relative\">\n",
       "<a aria-controls=\" \" aria-current=\"false\" class=\"s-block-link pl8 js-gps-track nav-links--link -link__with-icon\" data-action=\"\" data-controller=\"  \" data-gps-track=\"top_nav.click({is_current: false, location:3, destination:5,  has_activity_notification:False})\" data-left-nav-events-navigation-activity-notification-value=\"\" data-left-nav-events-navigation-destination-value=\"\" data-left-nav-events-navigation-location-value=\"\" data-s-popover-auto-show=\"true\" data-s-popover-hide-on-outside-click=\"never\" data-s-popover-placement=\"right\" href=\"/unanswered\" id=\"nav-unanswered\">\n",
       "<div class=\"d-flex ai-center\">\n",
       "<svg aria-hidden=\"true\" class=\"svg-icon iconAnswerEs\" height=\"18\" viewbox=\"0 0 18 18\" width=\"18\"><path d=\"M9.02 7.73q.63 0 .97-.31t.34-.88-.33-.9q-.32-.31-.99-.32H7.7v2.41zM3 15h11l3 3V4c0-1.09-.91-2-2-2H3a2 2 0 0 0-2 2v9c0 1.09.91 2 2 2m4.69-5.93v2.95H6.03V3.98h2.98q1.43 0 2.2.64.77.63.77 1.79 0 .82-.36 1.37-.35.55-1.07.88l1.74 3.28v.08H10.5L9 9.07z\"></path></svg> <span class=\"-link--channel-name pl8\">Sin responder</span>\n",
       "</div>\n",
       "</a>\n",
       "</li>\n",
       "<li aria-current=\"false\" class=\"ps-relative\">\n",
       "<a aria-controls=\" \" aria-current=\"false\" class=\"s-block-link h32 pl8 ai-center js-disable-askstack-new-link js-gps-track nav-links--link -link__with-icon\" data-action=\"\" data-controller=\"  \" data-gps-track=\"top_nav.click({is_current: false, location:3, destination:33,  has_activity_notification:False})\" data-left-nav-events-navigation-activity-notification-value=\"\" data-left-nav-events-navigation-destination-value=\"\" data-left-nav-events-navigation-location-value=\"\" data-s-popover-auto-show=\"true\" data-s-popover-hide-on-outside-click=\"never\" data-s-popover-placement=\"right\" href=\"https://stackoverflow.ai\" id=\"nav-askstack\">\n",
       "<div class=\"d-flex ai-center\">\n",
       "<div class=\"d-flex ai-center mln8 mrn8 myn8 bg-purple-400 baw3 bas-solid bc-purple-200 bar-circle fc-white p4\"><svg aria-hidden=\"true\" class=\"fc-white bg-transparent h16 w16 svg-icon iconAnswerAI\" height=\"18\" viewbox=\"0 0 18 18\" width=\"18\"><path d=\"M15 1a2 2 0 0 1 2 2v14l-3-3H3c-1.09 0-2-.91-2-2V3c0-1.09.91-2 2-2zM8.2 4.13a.2.2 0 0 0-.37 0l-.57 1.31a3.5 3.5 0 0 1-1.82 1.82l-1.3.57a.2.2 0 0 0 0 .36l1.3.57c.82.35 1.47 1 1.82 1.82l.57 1.3c.07.17.3.17.36 0l.57-1.3a3.5 3.5 0 0 1 1.82-1.82l1.3-.57a.2.2 0 0 0 0-.36l-1.3-.57a3.5 3.5 0 0 1-1.82-1.82zm4.9-1.07a.1.1 0 0 0-.2 0l-.28.66c-.17.4-.5.73-.9.9l-.66.29a.1.1 0 0 0 0 .18l.66.29c.4.17.73.5.9.9l.29.66a.1.1 0 0 0 .18 0l.29-.66c.17-.4.5-.73.9-.9l.66-.29a.1.1 0 0 0 0-.18l-.66-.29c-.4-.17-.73-.5-.9-.9z\"></path></svg></div> <span class=\"-link--channel-name pl8\">AI Assist</span>\n",
       "<label class=\"pt6 s-label s-label__sm\"><span class=\"s-label--status s-label--status__beta\">Labs</span></label>\n",
       "</div>\n",
       "</a>\n",
       "</li>\n",
       "<script>\n",
       "        $('.js-disable-askstack-new-link').on(\"click\", function(e) {\n",
       "            StackExchange.helpers.toggleAccountPreferenceFlags(4194304, true);\n",
       "            return true;\n",
       "        });\n",
       "    </script>\n",
       "<li aria-current=\"false\" class=\"ps-relative\">\n",
       "<a aria-controls=\" \" aria-current=\"false\" class=\"s-block-link pl8 js-gps-track nav-links--link -link__with-icon\" data-action=\"\" data-controller=\"  \" data-gps-track=\"top_nav.click({is_current: false, location:3, destination:2,  has_activity_notification:False})\" data-left-nav-events-navigation-activity-notification-value=\"\" data-left-nav-events-navigation-destination-value=\"\" data-left-nav-events-navigation-location-value=\"\" data-s-popover-auto-show=\"true\" data-s-popover-hide-on-outside-click=\"never\" data-s-popover-placement=\"right\" href=\"/tags\">\n",
       "<div class=\"d-flex ai-center\">\n",
       "<svg aria-hidden=\"true\" class=\"svg-icon iconTags\" height=\"18\" viewbox=\"0 0 18 18\" width=\"18\"><path d=\"M9.24 1a3 3 0 0 0-2.12.88l-5.7 5.7a2 2 0 0 0-.38 2.31 3 3 0 0 1 .67-1.01l6-6A3 3 0 0 1 9.83 2H14a3 3 0 0 1 .79.1A2 2 0 0 0 13 1z\" opacity=\".4\"></path><path d=\"M9.83 3a2 2 0 0 0-1.42.59l-6 6a2 2 0 0 0 0 2.82L6.6 16.6a2 2 0 0 0 2.82 0l6-6A2 2 0 0 0 16 9.17V5a2 2 0 0 0-2-2zM12 9a2 2 0 1 1 0-4 2 2 0 0 1 0 4\"></path></svg> <span class=\"-link--channel-name pl8\">Etiquetas</span>\n",
       "</div>\n",
       "</a>\n",
       "</li>\n",
       "<li class=\"pb24\"></li>\n",
       "<li class=\"ps-relative\">\n",
       "<a aria-current=\"false\" aria-expanded=\"true\" class=\"s-block-link pl8 ai-center js-disable-chat-new-link js-ch-popover-controller js-gps-track nav-links--link -link__with-icon\" data-controller=\" \" data-gps-track=\"chat.click({ is_registered:false, rep_bucket:'new', origin:'Stack Overflow en español' })\" href=\"https://chat.stackexchange.com/rooms/158962/stack-exchange-lobby\" id=\"nav-chat\">\n",
       "<div class=\"d-flex ai-center\">\n",
       "<div class=\"d-flex ai-center mln8 mrn8 myn8 bg-purple-400 baw3 bas-solid bc-purple-200 bar-circle fc-white p4\"><svg aria-hidden=\"true\" class=\"fc-white bg-transparent svg-icon iconChatTest\" height=\"18\" viewbox=\"0 0 18 16\" width=\"18\"><path d=\"M17 3C17 1.89543 16.1046 1 15 1H7C5.89543 1 5 1.89543 5 3V5C5 6.10457 5.89543 7 7 7H15C16.1046 7 17 6.10457 17 5V3ZM7 3H15V5H7V3Z\"></path><path d=\"M17 10C17 8.89543 16.1046 8 15 8H7C5.89543 8 5 8.89543 5 10V14C5 15.1046 5.89543 16 7 16H15C16.1046 16 17 15.1046 17 14V10ZM7 10H15V14H7V10Z\"></path><path d=\"M1 9C1 8.44771 1.44772 8 2 8H3C3.55228 8 4 8.44772 4 9V10C4 10.5523 3.55228 11 3 11H2C1.44772 11 1 10.5523 1 10V9Z\"></path><path d=\"M2 1C1.44772 1 1 1.44772 1 2V3C1 3.55228 1.44772 4 2 4H3C3.55228 4 4 3.55228 4 3V2C4 1.44772 3.55228 1 3 1H2Z\"></path></svg></div>\n",
       "</div>\n",
       "<span class=\"-link--channel-name pl8\">Chat</span>\n",
       "</a>\n",
       "</li>\n",
       "<li aria-current=\"false\" class=\"ps-relative\">\n",
       "<a aria-controls=\" \" aria-current=\"false\" class=\"s-block-link pl8 js-gps-track nav-links--link -link__with-icon\" data-action=\"\" data-controller=\"  \" data-gps-track=\"top_nav.click({is_current: false, location:3, destination:3,  has_activity_notification:False})\" data-left-nav-events-navigation-activity-notification-value=\"\" data-left-nav-events-navigation-destination-value=\"\" data-left-nav-events-navigation-location-value=\"\" data-s-popover-auto-show=\"true\" data-s-popover-hide-on-outside-click=\"never\" data-s-popover-placement=\"right\" href=\"/users\" id=\"nav-users\">\n",
       "<div class=\"d-flex ai-center\">\n",
       "<svg aria-hidden=\"true\" class=\"svg-icon iconPeople\" height=\"18\" viewbox=\"0 0 18 18\" width=\"18\"><path d=\"M17 14c0 .44-.45 1-1 1H9a1 1 0 0 1-1-1H2c-.54 0-1-.56-1-1 0-2.63 3-4 3-4s.23-.4 0-1c-.84-.62-1.06-.59-1-3s1.37-3 2.5-3 2.44.58 2.5 3-.16 2.38-1 3c-.23.59 0 1 0 1s1.55.71 2.42 2.09c.78-.72 1.58-1.1 1.58-1.1s.23-.4 0-1c-.84-.61-1.06-.58-1-3s1.37-3 2.5-3 2.44.59 2.5 3c.05 2.42-.16 2.39-1 3-.23.6 0 1 0 1s3 1.38 3 4\"></path></svg> <span class=\"-link--channel-name pl8\">Usuarios</span>\n",
       "</div>\n",
       "</a>\n",
       "</li>\n",
       "<li class=\"pb24\"></li>\n",
       "</ol>\n",
       "</li>\n",
       "</ol>\n",
       "</nav>\n",
       "</div>\n",
       "</div>\n",
       "<div class=\"snippet-hidden\" id=\"content\">\n",
       "<div aria-labelledby=\"h-all-questions\" id=\"mainbar\" role=\"main\">\n",
       "<div class=\"d-flex fw-wrap mb12\">\n",
       "<h1 class=\"flex--item fl1 fs-headline1 mr12 mb12\">Preguntas más nuevas</h1>\n",
       "<div class=\"aside-cta flex--item ml12 mb12 print:d-none\">\n",
       "<a class=\"ws-nowrap s-btn s-btn__filled\" href=\"/questions/ask\">\n",
       "        Formular una pregunta\n",
       "    </a>\n",
       "</div>\n",
       "</div>\n",
       "<script data-module-name=\"entry-points/questions/userQuestionList.mod\" data-role=\"module-args\" type=\"application/json\">{\"regularTagsString\":\"\",\"moderatorTagsString\":\"\"}</script>\n",
       "<script defer=\"\" src=\"https://cdn.sstatic.net/Js/questions/userQuestionList.es.js?v=72b9749141ce\"></script>\n",
       "<div data-controller=\"se-uql\" data-se-uql-id=\"\" data-se-uql-sanitize-tag-query=\"false\">\n",
       "<div class=\"d-flex ai-center jc-space-between mb12 sm:fd-column sm:ai-stretch\">\n",
       "<div class=\"fs-body3 flex--item fl1 mr12 sm:mr0 sm:mb12\">\n",
       "                197,228 preguntas\n",
       "            </div>\n",
       "<div class=\"uql-nav flex--item\" data-action=\"se-uql-list:edit-current-requested@document-&gt;se-uql#toggleEditor\">\n",
       "<div class=\"d-flex ai-center jc-space-between\">\n",
       "<div class=\"s-btn-group flex--item mr16 ff-row-nowrap js-uql-navigation\">\n",
       "<a aria-current=\"page\" class=\"s-btn s-btn__muted s-btn__sm is-selected js-gps-track\" data-gps-track=\"question.list.sort.clicked({ SortBy: 'Más reciente' })\" data-nav-value=\"Newest\" data-shortcut=\"N\" href=\"/questions?tab=Newest\">\n",
       "<span class=\"s-btn--text\" data-text=\"Más reciente\">Más reciente</span>\n",
       "</a>\n",
       "<a class=\"s-btn s-btn__muted s-btn__sm js-gps-track\" data-gps-track=\"question.list.sort.clicked({ SortBy: 'Activo' })\" data-nav-value=\"Active\" data-shortcut=\"A\" href=\"/questions?tab=Active\">\n",
       "<span class=\"s-btn--text\" data-text=\"Activo\">Activo</span>\n",
       "</a>\n",
       "<a class=\"s-btn s-btn__muted s-btn__sm uql-nav--expanded-item js-gps-track\" data-gps-track=\"question.list.sort.clicked({ SortBy: 'Con recompensa' })\" data-nav-value=\"Bounties\" data-shortcut=\"E\" href=\"/questions?tab=Bounties\">\n",
       "<span class=\"s-btn--text\" data-text=\"Con recompensa\">Con recompensa</span>\n",
       "</a>\n",
       "<a class=\"s-btn s-btn__muted s-btn__sm uql-nav--expanded-item js-gps-track\" data-gps-track=\"question.list.sort.clicked({ SortBy: 'Sin responder' })\" data-nav-value=\"Unanswered\" data-shortcut=\"U\" href=\"/questions?tab=Unanswered\">\n",
       "<span class=\"s-btn--text\" data-text=\"Sin responder\">Sin responder</span>\n",
       "</a>\n",
       "<button aria-controls=\"uql-more-popover\" aria-expanded=\"false\" aria-haspopup=\"true\" class=\"s-btn s-btn__muted s-btn__sm s-btn__dropdown\" data-action=\"s-popover#toggle\" data-controller=\"s-popover\" data-se-uql-target=\"toggleMoreButton\" type=\"button\">\n",
       "<span class=\"s-btn--text\" data-text=\"Más\">Más</span>\n",
       "</button>\n",
       "</div>\n",
       "<div class=\"s-popover z-dropdown ws2 px0 py4\" data-se-uql-target=\"morePopover\" id=\"uql-more-popover\">\n",
       "<div class=\"s-popover--arrow\"></div>\n",
       "<ul class=\"s-menu js-uql-navigation\" role=\"menu\">\n",
       "<li class=\"uql-nav--collapsed-item\" role=\"menuitem\">\n",
       "<a class=\"s-block-link s-block-link__left js-gps-track\" data-gps-track=\"question.list.sort.clicked({ SortBy: 'Con recompensa' })\" data-shortcut=\"\" href=\"/questions?tab=Bounties\">\n",
       "                                            Con recompensa\n",
       "                                                <span class=\"s-badge s-badge__bounty s-badge__bounty s-badge__sm lh-xs px4\">0</span>\n",
       "</a>\n",
       "</li>\n",
       "<li class=\"uql-nav--collapsed-item\" role=\"menuitem\">\n",
       "<a class=\"s-block-link s-block-link__left js-gps-track\" data-gps-track=\"question.list.sort.clicked({ SortBy: 'Sin responder' })\" data-shortcut=\"\" href=\"/questions?tab=Unanswered\">\n",
       "                                            Sin responder\n",
       "                                        </a>\n",
       "</li>\n",
       "<li role=\"menuitem\">\n",
       "<a class=\"s-block-link s-block-link__left js-gps-track\" data-gps-track=\"question.list.sort.clicked({ SortBy: 'Frecuentes' })\" data-shortcut=\"F\" href=\"/questions?tab=Frequent\">\n",
       "                                            Frecuentes\n",
       "                                        </a>\n",
       "</li>\n",
       "<li role=\"menuitem\">\n",
       "<a class=\"s-block-link s-block-link__left js-gps-track\" data-gps-track=\"question.list.sort.clicked({ SortBy: 'Puntuación' })\" data-shortcut=\"V\" href=\"/questions?tab=Votes\">\n",
       "                                            Puntuación\n",
       "                                        </a>\n",
       "</li>\n",
       "<li role=\"menuitem\">\n",
       "<a class=\"s-block-link s-block-link__left js-gps-track\" data-gps-track=\"question.list.sort.clicked({ SortBy: 'Trending' })\" data-shortcut=\"H\" href=\"/questions?tab=Trending\">\n",
       "                                            Trending\n",
       "                                        </a>\n",
       "</li>\n",
       "<li role=\"menuitem\">\n",
       "<a class=\"s-block-link s-block-link__left js-gps-track\" data-gps-track=\"question.list.sort.clicked({ SortBy: 'Semana' })\" data-shortcut=\"W\" href=\"/questions?tab=Week\">\n",
       "                                            Semana\n",
       "                                        </a>\n",
       "</li>\n",
       "<li role=\"menuitem\">\n",
       "<a class=\"s-block-link s-block-link__left js-gps-track\" data-gps-track=\"question.list.sort.clicked({ SortBy: 'Mes' })\" data-shortcut=\"M\" href=\"/questions?tab=Month\">\n",
       "                                            Mes\n",
       "                                        </a>\n",
       "</li>\n",
       "<li class=\"s-menu--divider\" role=\"separator\"></li>\n",
       "<li role=\"menuitem\">\n",
       "<span class=\"s-block-link c-default fc-black-350 js-gps-track\" data-gps-track=\"question.list.sort.clicked({ SortBy: 'Sin responder (mis etiquetas)' })\">\n",
       "                                            Sin responder (mis etiquetas)\n",
       "                                        </span>\n",
       "</li>\n",
       "</ul>\n",
       "</div>\n",
       "<div class=\"flex--item\">\n",
       "<button aria-controls=\"uql-form\" aria-expanded=\"false\" class=\"s-btn s-btn__outlined s-btn__sm s-btn__icon ws-nowrap\" data-controller=\"s-expandable-control\" data-s-expandable-control-toggle-class=\"is-selected\" data-se-uql-target=\"toggleFormButton\" role=\"button\">\n",
       "<svg aria-hidden=\"true\" class=\"svg-icon iconFilter\" height=\"18\" viewbox=\"0 0 18 18\" width=\"18\"><path d=\"M2 4h14v2H2zm2 4h10v2H4zm8 4H6v2h6z\"></path></svg> Filtrar\n",
       "                        </button>\n",
       "</div>\n",
       "</div>\n",
       "</div>\n",
       "</div>\n",
       "<form class=\"s-expandable ps-relative z-active\" data-action=\"se-uql#navigate\" data-se-uql-target=\"form\" id=\"uql-form\">\n",
       "<input name=\"uqlId\" type=\"hidden\"/>\n",
       "<div class=\"s-expandable--content\">\n",
       "<div class=\"bg-black-150 ba bc-black-225 bar-sm mb16\">\n",
       "<div class=\"px12 py16\">\n",
       "<div class=\"d-flex gs32 fw-wrap\">\n",
       "<div class=\"flex--item\">\n",
       "<fieldset class=\"d-flex gs8 gsy fd-column\">\n",
       "<legend class=\"flex--item s-label px0\">Filtrar por</legend>\n",
       "<div class=\"flex--item\">\n",
       "<div class=\"d-flex gs4 gsx ai-center\">\n",
       "<div class=\"flex--item\">\n",
       "<input class=\"s-checkbox d-block\" id=\"d664fb8b-c38f-4649-9235-31d423d904f0\" name=\"filterId\" type=\"checkbox\" value=\"NoAnswers\"/>\n",
       "</div>\n",
       "<label class=\"flex--item s-label fw-normal ws-nowrap\" for=\"d664fb8b-c38f-4649-9235-31d423d904f0\" id=\"9a142704-f792-42fd-8055-141380820656\">Sin respuestas</label>\n",
       "</div>\n",
       "</div>\n",
       "<div class=\"flex--item\">\n",
       "<div class=\"d-flex gs4 gsx ai-center\">\n",
       "<div class=\"flex--item\">\n",
       "<input class=\"s-checkbox d-block\" id=\"da2ea0df-79ac-4d1a-b842-0e21caae0a1e\" name=\"filterId\" type=\"checkbox\" value=\"NoAcceptedAnswer\"/>\n",
       "</div>\n",
       "<label class=\"flex--item s-label fw-normal ws-nowrap\" for=\"da2ea0df-79ac-4d1a-b842-0e21caae0a1e\" id=\"21e85054-e450-4aae-b326-50af51c964a8\">No upvoted or accepted answers</label>\n",
       "</div>\n",
       "</div>\n",
       "<div class=\"flex--item\">\n",
       "<div class=\"d-flex gs4 gsx ai-center\">\n",
       "<div class=\"flex--item\">\n",
       "<input class=\"s-checkbox d-block\" id=\"f1d9d427-0fe6-4256-9409-cdec9412fc0d\" name=\"filterId\" type=\"checkbox\" value=\"Bounty\"/>\n",
       "</div>\n",
       "<label class=\"flex--item s-label fw-normal ws-nowrap\" for=\"f1d9d427-0fe6-4256-9409-cdec9412fc0d\" id=\"07b34394-c99b-43d2-9a6f-c348aadaceeb\">Tiene recompensa</label>\n",
       "</div>\n",
       "</div>\n",
       "<div class=\"flex--item\">\n",
       "<div class=\"d-flex gs4 gsx ai-center\">\n",
       "<div class=\"flex--item\">\n",
       "<input class=\"s-input d-block w64\" id=\"20423b90-2411-44df-b0c9-6c19ee6440eb\" min=\"1\" name=\"days\" type=\"number\" value=\"\"/>\n",
       "</div>\n",
       "<label class=\"flex--item s-label fw-normal ws-nowrap\" for=\"20423b90-2411-44df-b0c9-6c19ee6440eb\" id=\"2c55ba71-1710-4f35-bac9-31f253090459\">Días atrás</label>\n",
       "</div>\n",
       "</div>\n",
       "</fieldset>\n",
       "</div>\n",
       "<div class=\"flex--item\">\n",
       "<fieldset class=\"d-flex gs8 gsy fd-column\">\n",
       "<legend class=\"flex--item s-label px0\">Ordenado por</legend>\n",
       "<div class=\"flex--item\">\n",
       "<div class=\"d-flex gs4 gsx ai-center\">\n",
       "<div class=\"flex--item\">\n",
       "<input checked=\"checked\" class=\"s-radio d-block\" id=\"160764fc-a6bf-4f46-aa98-b00483c90e39\" name=\"sortId\" type=\"radio\" value=\"Newest\"/>\n",
       "</div>\n",
       "<label class=\"flex--item s-label fw-normal ws-nowrap\" for=\"160764fc-a6bf-4f46-aa98-b00483c90e39\" id=\"bd59bfd5-86a9-49ee-8408-9987a5da1237\">Más reciente</label>\n",
       "</div>\n",
       "</div>\n",
       "<div class=\"flex--item\">\n",
       "<div class=\"d-flex gs4 gsx ai-center\">\n",
       "<div class=\"flex--item\">\n",
       "<input class=\"s-radio d-block\" id=\"3ea84e18-d9f6-4f45-81eb-da9bffa75de0\" name=\"sortId\" type=\"radio\" value=\"RecentActivity\"/>\n",
       "</div>\n",
       "<label class=\"flex--item s-label fw-normal ws-nowrap\" for=\"3ea84e18-d9f6-4f45-81eb-da9bffa75de0\" id=\"6b94da41-1006-4c36-b18a-e1b2e560cfaf\">Actividad reciente</label>\n",
       "</div>\n",
       "</div>\n",
       "<div class=\"flex--item\">\n",
       "<div class=\"d-flex gs4 gsx ai-center\">\n",
       "<div class=\"flex--item\">\n",
       "<input class=\"s-radio d-block\" id=\"3d49521c-4302-451d-8965-5761012a88c2\" name=\"sortId\" type=\"radio\" value=\"MostVotes\"/>\n",
       "</div>\n",
       "<label class=\"flex--item s-label fw-normal ws-nowrap\" for=\"3d49521c-4302-451d-8965-5761012a88c2\" id=\"452cd8a9-7f1e-45b8-9d01-415c0e06c207\">Mayor puntuación</label>\n",
       "</div>\n",
       "</div>\n",
       "<div class=\"flex--item\">\n",
       "<div class=\"d-flex gs4 gsx ai-center\">\n",
       "<div class=\"flex--item\">\n",
       "<input class=\"s-radio d-block\" id=\"19edddc4-aef8-4ecf-bbea-f99419e6a89c\" name=\"sortId\" type=\"radio\" value=\"MostFrequent\"/>\n",
       "</div>\n",
       "<label class=\"flex--item s-label fw-normal ws-nowrap\" for=\"19edddc4-aef8-4ecf-bbea-f99419e6a89c\" id=\"43b5efb4-b3f0-4c03-9829-c175fd321548\">Más frecuente</label>\n",
       "</div>\n",
       "</div>\n",
       "<div class=\"flex--item\">\n",
       "<div class=\"d-flex gs4 gsx ai-center\">\n",
       "<div class=\"flex--item\">\n",
       "<input class=\"s-radio d-block\" id=\"0d454919-ae92-49dd-aeed-ba69d8c7f6f5\" name=\"sortId\" type=\"radio\" value=\"BountyEndingSoon\"/>\n",
       "</div>\n",
       "<label class=\"flex--item s-label fw-normal ws-nowrap\" for=\"0d454919-ae92-49dd-aeed-ba69d8c7f6f5\" id=\"823a6681-b117-4059-8c83-06d0d08c4c2e\">La recompensa finaliza pronto</label>\n",
       "</div>\n",
       "</div>\n",
       "<div class=\"flex--item\">\n",
       "<div class=\"d-flex gs4 gsx ai-center\">\n",
       "<div class=\"flex--item\">\n",
       "<input class=\"s-radio d-block\" id=\"2b02a703-e16a-46a1-9d02-ab521afdb0ce\" name=\"sortId\" type=\"radio\" value=\"Hot\"/>\n",
       "</div>\n",
       "<label class=\"flex--item s-label fw-normal ws-nowrap\" for=\"2b02a703-e16a-46a1-9d02-ab521afdb0ce\" id=\"d1c0d089-99c8-4559-9880-57fd9d94a7e1\">Trending</label>\n",
       "</div>\n",
       "</div>\n",
       "<div class=\"flex--item\">\n",
       "<div class=\"d-flex gs4 gsx ai-center\">\n",
       "<div class=\"flex--item\">\n",
       "<input class=\"s-radio d-block\" id=\"8e477862-d85a-443a-8ea0-6968ac6b51bc\" name=\"sortId\" type=\"radio\" value=\"HotNoTime\"/>\n",
       "</div>\n",
       "<label class=\"flex--item s-label fw-normal ws-nowrap\" for=\"8e477862-d85a-443a-8ea0-6968ac6b51bc\" id=\"39e43a50-533c-4610-ac8d-27bc5138208b\">Most activity</label>\n",
       "</div>\n",
       "</div>\n",
       "</fieldset>\n",
       "</div>\n",
       "<div class=\"flex--item\">\n",
       "<fieldset class=\"d-flex gs8 gsy fd-column\">\n",
       "<legend class=\"flex--item s-label px0\">Etiquetadas con</legend>\n",
       "<div class=\"flex--item\">\n",
       "<div class=\"d-flex gs4 gsx ai-center\">\n",
       "<div class=\"flex--item\">\n",
       "<input class=\"s-radio d-block\" id=\"b59e7050-63ee-42ab-aa8f-4229267532ab\" name=\"tagModeId\" type=\"radio\" value=\"Watched\"/>\n",
       "</div>\n",
       "<label class=\"flex--item s-label fw-normal ws-nowrap\" for=\"b59e7050-63ee-42ab-aa8f-4229267532ab\" id=\"82841dbb-66d8-4f76-9154-a6bc0887383a\">Mis etiquetas monitoreadas</label>\n",
       "</div>\n",
       "</div>\n",
       "<div class=\"flex--item\">\n",
       "<div class=\"d-flex gs4 gsx ai-center\">\n",
       "<div class=\"flex--item\">\n",
       "<input checked=\"checked\" class=\"s-radio d-block\" id=\"d3b48c21-f027-47e3-8d1c-6a56e4016a11\" name=\"tagModeId\" type=\"radio\" value=\"Specified\"/>\n",
       "</div>\n",
       "<label class=\"flex--item s-label fw-normal ws-nowrap\" for=\"d3b48c21-f027-47e3-8d1c-6a56e4016a11\" id=\"49bf3fe3-28d4-425e-9e39-842b075aad5e\">Las siguientes etiquetas:</label>\n",
       "</div>\n",
       "</div>\n",
       "</fieldset>\n",
       "<div class=\"ps-relative ml24 mt8 ws2\">\n",
       "<input aria-labelledby=\"49bf3fe3-28d4-425e-9e39-842b075aad5e\" class=\"w100 s-input\" data-se-uql-target=\"tagQuery\" id=\"uql-modal-tag-input\" name=\"tagQuery\" placeholder=\"p. ej. javascript or php\" size=\"60\" tabindex=\"0\" type=\"text\"/>\n",
       "</div>\n",
       "</div>\n",
       "</div>\n",
       "</div>\n",
       "<div class=\"p12 bt bc-black-225\">\n",
       "<div class=\"d-flex\">\n",
       "<div class=\"d-flex gs4 gsx fl1\">\n",
       "<button class=\"s-btn s-btn__sm s-btn__filled flex--item js-gps-track\" data-gps-track=\"question.list.apply_filter.clicked\" data-se-uql-target=\"applyButton\" type=\"submit\">Aplicar filtro</button>\n",
       "</div>\n",
       "<div class=\"flex--item\">\n",
       "<button class=\"s-btn s-btn__sm\" data-action=\"se-uql#cancelEditor\" type=\"button\">Cancelar</button>\n",
       "</div>\n",
       "</div>\n",
       "</div>\n",
       "</div>\n",
       "</div>\n",
       "</form>\n",
       "</div>\n",
       "<div class=\"flush-left\" id=\"questions\">\n",
       "<div class=\"s-post-summary js-post-summary\" data-post-id=\"632560\" data-post-type-id=\"1\" id=\"question-summary-632560\">\n",
       "<div class=\"s-post-summary--stats js-post-summary-stats\">\n",
       "<div class=\"s-post-summary--stats-item s-post-summary--stats-item__emphasized\" title=\"Puntuación de 0\">\n",
       "<span class=\"s-post-summary--stats-item-number\">0</span>\n",
       "<span class=\"s-post-summary--stats-item-unit\">votos</span>\n",
       "</div>\n",
       "<div class=\"s-post-summary--stats-item\" title=\"0 respuestas\">\n",
       "<span class=\"s-post-summary--stats-item-number\">0</span>\n",
       "<span class=\"s-post-summary--stats-item-unit\">respuestas</span>\n",
       "</div>\n",
       "<div class=\"s-post-summary--stats-item\" title=\"11 vistas\">\n",
       "<span class=\"s-post-summary--stats-item-number\">11</span>\n",
       "<span class=\"s-post-summary--stats-item-unit\">vistas</span>\n",
       "</div>\n",
       "</div>\n",
       "<div class=\"s-post-summary--content\">\n",
       "<h3 class=\"s-post-summary--content-title\">\n",
       "<a class=\"s-link\" href=\"/questions/632560/c%c3%b3mo-manejo-las-cookies-desde-mi-backend-node-js\">cómo manejo las cookies desde mi backend node.js?</a>\n",
       "</h3>\n",
       "<div class=\"s-post-summary--content-excerpt\">\n",
       "                Les comento mi problema:\n",
       "Me encuentro desarrollando una página web con angular 20 y node.js v24.5.0. Para ella, estoy construyendo el sistema de logIn, es por eso que confeccioné un back-end, el cual ...\n",
       "            </div>\n",
       "<div class=\"s-post-summary--meta\">\n",
       "<div class=\"s-post-summary--meta-tags d-inline-block tags js-tags t-javascript t-angular t-nodejs t-typescript\">\n",
       "<ul class=\"ml0 list-ls-none js-post-tag-list-wrapper d-inline\"><li class=\"d-inline mr4 js-post-tag-list-item\"><a aria-label='mostrar preguntas con la etiqueta \"javascript\"' aria-labelledby=\"tag-javascript-tooltip-container\" class=\"s-tag post-tag flex--item mt0 js-tagname-javascript\" data-tag-menu-origin=\"Unknown\" href=\"/questions/tagged/javascript\" rel=\"tag\" title='mostrar preguntas con la etiqueta \"javascript\"'>javascript</a></li><li class=\"d-inline mr4 js-post-tag-list-item\"><a aria-label='mostrar preguntas con la etiqueta \"angular\"' aria-labelledby=\"tag-angular-tooltip-container\" class=\"s-tag post-tag flex--item mt0 js-tagname-angular\" data-tag-menu-origin=\"Unknown\" href=\"/questions/tagged/angular\" rel=\"tag\" title='mostrar preguntas con la etiqueta \"angular\"'>angular</a></li><li class=\"d-inline mr4 js-post-tag-list-item\"><a aria-label='mostrar preguntas con la etiqueta \"nodejs\"' aria-labelledby=\"tag-nodejs-tooltip-container\" class=\"s-tag post-tag flex--item mt0 js-tagname-nodejs\" data-tag-menu-origin=\"Unknown\" href=\"/questions/tagged/nodejs\" rel=\"tag\" title='mostrar preguntas con la etiqueta \"nodejs\"'>nodejs</a></li><li class=\"d-inline mr4 js-post-tag-list-item\"><a aria-label='mostrar preguntas con la etiqueta \"typescript\"' aria-labelledby=\"tag-typescript-tooltip-container\" class=\"s-tag post-tag flex--item mt0 js-tagname-typescript\" data-tag-menu-origin=\"Unknown\" href=\"/questions/tagged/typescript\" rel=\"tag\" title='mostrar preguntas con la etiqueta \"typescript\"'>typescript</a></li></ul>\n",
       "</div>\n",
       "<div aria-live=\"polite\" class=\"s-user-card s-user-card__minimal\">\n",
       "<a class=\"s-avatar s-avatar__16 s-user-card--avatar\" data-user-id=\"476047\" href=\"/users/476047/ignacio-y%c3%a1%c3%b1ez\"> <div class=\"gravatar-wrapper-16\">\n",
       "<img alt=\"Avatar del usuario Ignacio Yáñez\" class=\"s-avatar--image\" height=\"16\" src=\"https://www.gravatar.com/avatar/4ae3b0618a43def777e88a52790030cf?s=32&amp;d=identicon&amp;r=PG&amp;f=y&amp;so-version=2\" width=\"16\"/>\n",
       "</div>\n",
       "</a>\n",
       "<div class=\"s-user-card--info\">\n",
       "<div class=\"s-user-card--link d-flex gs4\">\n",
       "<a class=\"flex--item\" href=\"/users/476047/ignacio-y%c3%a1%c3%b1ez\">Ignacio Yáñez</a>\n",
       "</div>\n",
       "<ul class=\"s-user-card--awards\">\n",
       "<li class=\"s-user-card--rep\"><span class=\"todo-no-class-here\" dir=\"ltr\" title=\"puntuación de reputación de \">1</span></li>\n",
       "</ul>\n",
       "</div>\n",
       "<time class=\"s-user-card--time\">formulada <span class=\"relativetime\" title=\"2025-09-02 23:23:19Z\">hace 4 horas</span></time>\n",
       "</div>\n",
       "</div>\n",
       "</div>\n",
       "</div>\n",
       "<div class=\"s-post-summary js-post-summary\" data-post-id=\"632559\" data-post-type-id=\"1\" id=\"question-summary-632559\">\n",
       "<div class=\"s-post-summary--stats js-post-summary-stats\">\n",
       "<div class=\"s-post-summary--stats-item s-post-summary--stats-item__emphasized\" title=\"Puntuación de 0\">\n",
       "<span class=\"s-post-summary--stats-item-number\">0</span>\n",
       "<span class=\"s-post-summary--stats-item-unit\">votos</span>\n",
       "</div>\n",
       "<div class=\"s-post-summary--stats-item\" title=\"0 respuestas\">\n",
       "<span class=\"s-post-summary--stats-item-number\">0</span>\n",
       "<span class=\"s-post-summary--stats-item-unit\">respuestas</span>\n",
       "</div>\n",
       "<div class=\"s-post-summary--stats-item\" title=\"6 vistas\">\n",
       "<span class=\"s-post-summary--stats-item-number\">6</span>\n",
       "<span class=\"s-post-summary--stats-item-unit\">vistas</span>\n",
       "</div>\n",
       "</div>\n",
       "<div class=\"s-post-summary--content\">\n",
       "<h3 class=\"s-post-summary--content-title\">\n",
       "<a class=\"s-link\" href=\"/questions/632559/ocultar-el-boton-de-nuevo-en-la-vista-lista-odoo-17\">Ocultar el boton de Nuevo en la vista Lista odoo 17</a>\n",
       "</h3>\n",
       "<div class=\"s-post-summary--content-excerpt\">\n",
       "                Amigos de la comunidad tengo una problema necesito ocultar en odoo 17 el boton de nuevo de la vista lista (tree) pero con el ocultamiento del botón también la opcion de importar y necesito poder dejar ...\n",
       "            </div>\n",
       "<div class=\"s-post-summary--meta\">\n",
       "<div class=\"s-post-summary--meta-tags d-inline-block tags js-tags t-xml t-odoo t-odoo17\">\n",
       "<ul class=\"ml0 list-ls-none js-post-tag-list-wrapper d-inline\"><li class=\"d-inline mr4 js-post-tag-list-item\"><a aria-label='mostrar preguntas con la etiqueta \"xml\"' aria-labelledby=\"tag-xml-tooltip-container\" class=\"s-tag post-tag flex--item mt0 js-tagname-xml\" data-tag-menu-origin=\"Unknown\" href=\"/questions/tagged/xml\" rel=\"tag\" title='mostrar preguntas con la etiqueta \"xml\"'>xml</a></li><li class=\"d-inline mr4 js-post-tag-list-item\"><a aria-label='mostrar preguntas con la etiqueta \"odoo\"' aria-labelledby=\"tag-odoo-tooltip-container\" class=\"s-tag post-tag flex--item mt0 js-tagname-odoo\" data-tag-menu-origin=\"Unknown\" href=\"/questions/tagged/odoo\" rel=\"tag\" title='mostrar preguntas con la etiqueta \"odoo\"'>odoo</a></li><li class=\"d-inline mr4 js-post-tag-list-item\"><a aria-label='mostrar preguntas con la etiqueta \"odoo17\"' aria-labelledby=\"tag-odoo17-tooltip-container\" class=\"s-tag post-tag flex--item mt0 js-tagname-odoo17\" data-tag-menu-origin=\"Unknown\" href=\"/questions/tagged/odoo17\" rel=\"tag\" title='mostrar preguntas con la etiqueta \"odoo17\"'>odoo17</a></li></ul>\n",
       "</div>\n",
       "<div aria-live=\"polite\" class=\"s-user-card s-user-card__minimal\">\n",
       "<a class=\"s-avatar s-avatar__16 s-user-card--avatar\" data-user-id=\"135989\" href=\"/users/135989/carlos-chavita\"> <div class=\"gravatar-wrapper-16\">\n",
       "<img alt=\"Avatar del usuario Carlos Chavita\" class=\"s-avatar--image\" height=\"16\" src=\"https://lh4.googleusercontent.com/-I6sSoxtnjcI/AAAAAAAAAAI/AAAAAAAAAAA/ACHi3rflT_8IinIU3O5t9SeGIJaDU5XqoA/s32-rj/photo.jpg\" width=\"16\"/>\n",
       "</div>\n",
       "</a>\n",
       "<div class=\"s-user-card--info\">\n",
       "<div class=\"s-user-card--link d-flex gs4\">\n",
       "<a class=\"flex--item\" href=\"/users/135989/carlos-chavita\">Carlos Chavita</a>\n",
       "</div>\n",
       "<ul class=\"s-user-card--awards\">\n",
       "<li class=\"s-user-card--rep\"><span class=\"todo-no-class-here\" dir=\"ltr\" title=\"puntuación de reputación de \">354</span></li>\n",
       "</ul>\n",
       "</div>\n",
       "<time class=\"s-user-card--time\">formulada <span class=\"relativetime\" title=\"2025-09-02 21:57:17Z\">hace 5 horas</span></time>\n",
       "</div>\n",
       "</div>\n",
       "</div>\n",
       "</div>\n",
       "<div class=\"s-post-summary js-post-summary\" data-post-id=\"632558\" data-post-type-id=\"1\" id=\"question-summary-632558\">\n",
       "<div class=\"s-post-summary--stats js-post-summary-stats\">\n",
       "<div class=\"s-post-summary--stats-item s-post-summary--stats-item__emphasized\" title=\"Puntuación de 0\">\n",
       "<span class=\"s-post-summary--stats-item-number\">0</span>\n",
       "<span class=\"s-post-summary--stats-item-unit\">votos</span>\n",
       "</div>\n",
       "<div class=\"s-post-summary--stats-item\" title=\"0 respuestas\">\n",
       "<span class=\"s-post-summary--stats-item-number\">0</span>\n",
       "<span class=\"s-post-summary--stats-item-unit\">respuestas</span>\n",
       "</div>\n",
       "<div class=\"s-post-summary--stats-item\" title=\"10 vistas\">\n",
       "<span class=\"s-post-summary--stats-item-number\">10</span>\n",
       "<span class=\"s-post-summary--stats-item-unit\">vistas</span>\n",
       "</div>\n",
       "</div>\n",
       "<div class=\"s-post-summary--content\">\n",
       "<h3 class=\"s-post-summary--content-title\">\n",
       "<a class=\"s-link\" href=\"/questions/632558/aws-ec2-no-puedo-conectar-a-trav%c3%a9s-de-ssh-como-lo-hacia-antes\">AWS EC2, no puedo conectar a través de SSH como lo hacia antes</a>\n",
       "</h3>\n",
       "<div class=\"s-post-summary--content-excerpt\">\n",
       "                Formulo está pregunta acá debido a que ya busque en la ayuda de AWS y también en Google. Todos coinciden que es problema de Key, par de de claves, .ppk, .pem, user, etc. Ya agoté todo cree nuevo .ppk ...\n",
       "            </div>\n",
       "<div class=\"s-post-summary--meta\">\n",
       "<div class=\"s-post-summary--meta-tags d-inline-block tags js-tags t-aws t-ssh t-ec2\">\n",
       "<ul class=\"ml0 list-ls-none js-post-tag-list-wrapper d-inline\"><li class=\"d-inline mr4 js-post-tag-list-item\"><a aria-label='mostrar preguntas con la etiqueta \"aws\"' aria-labelledby=\"tag-aws-tooltip-container\" class=\"s-tag post-tag flex--item mt0 js-tagname-aws\" data-tag-menu-origin=\"Unknown\" href=\"/questions/tagged/aws\" rel=\"tag\" title='mostrar preguntas con la etiqueta \"aws\"'>aws</a></li><li class=\"d-inline mr4 js-post-tag-list-item\"><a aria-label='mostrar preguntas con la etiqueta \"ssh\"' aria-labelledby=\"tag-ssh-tooltip-container\" class=\"s-tag post-tag flex--item mt0 js-tagname-ssh\" data-tag-menu-origin=\"Unknown\" href=\"/questions/tagged/ssh\" rel=\"tag\" title='mostrar preguntas con la etiqueta \"ssh\"'>ssh</a></li><li class=\"d-inline mr4 js-post-tag-list-item\"><a aria-label='mostrar preguntas con la etiqueta \"ec2\"' aria-labelledby=\"tag-ec2-tooltip-container\" class=\"s-tag post-tag flex--item mt0 js-tagname-ec2\" data-tag-menu-origin=\"Unknown\" href=\"/questions/tagged/ec2\" rel=\"tag\" title='mostrar preguntas con la etiqueta \"ec2\"'>ec2</a></li></ul>\n",
       "</div>\n",
       "<div aria-live=\"polite\" class=\"s-user-card s-user-card__minimal\">\n",
       "<a class=\"s-avatar s-avatar__16 s-user-card--avatar\" data-user-id=\"34886\" href=\"/users/34886/rene\"> <div class=\"gravatar-wrapper-16\">\n",
       "<img alt=\"Avatar del usuario Rene\" class=\"s-avatar--image\" height=\"16\" src=\"https://www.gravatar.com/avatar/3f5dfb5f08d335125e6bff05887262fe?s=32&amp;d=identicon&amp;r=PG&amp;f=y&amp;so-version=2\" width=\"16\"/>\n",
       "</div>\n",
       "</a>\n",
       "<div class=\"s-user-card--info\">\n",
       "<div class=\"s-user-card--link d-flex gs4\">\n",
       "<a class=\"flex--item\" href=\"/users/34886/rene\">Rene</a>\n",
       "</div>\n",
       "<ul class=\"s-user-card--awards\">\n",
       "<li class=\"s-user-card--rep\"><span class=\"todo-no-class-here\" dir=\"ltr\" title=\"puntuación de reputación de \">135</span></li>\n",
       "</ul>\n",
       "</div>\n",
       "<time class=\"s-user-card--time\">formulada <span class=\"relativetime\" title=\"2025-09-02 21:55:33Z\">hace 5 horas</span></time>\n",
       "</div>\n",
       "</div>\n",
       "</div>\n",
       "</div>\n",
       "<div class=\"s-post-summary js-post-summary\" data-post-id=\"632557\" data-post-type-id=\"1\" id=\"question-summary-632557\">\n",
       "<div class=\"s-post-summary--stats js-post-summary-stats\">\n",
       "<div class=\"s-post-summary--stats-item s-post-summary--stats-item__emphasized\" title=\"Puntuación de 0\">\n",
       "<span class=\"s-post-summary--stats-item-number\">0</span>\n",
       "<span class=\"s-post-summary--stats-item-unit\">votos</span>\n",
       "</div>\n",
       "<div class=\"s-post-summary--stats-item\" title=\"0 respuestas\">\n",
       "<span class=\"s-post-summary--stats-item-number\">0</span>\n",
       "<span class=\"s-post-summary--stats-item-unit\">respuestas</span>\n",
       "</div>\n",
       "<div class=\"s-post-summary--stats-item\" title=\"18 vistas\">\n",
       "<span class=\"s-post-summary--stats-item-number\">18</span>\n",
       "<span class=\"s-post-summary--stats-item-unit\">vistas</span>\n",
       "</div>\n",
       "</div>\n",
       "<div class=\"s-post-summary--content\">\n",
       "<h3 class=\"s-post-summary--content-title\">\n",
       "<a class=\"s-link\" href=\"/questions/632557/error-al-importar-mi-base-de-datos\">error al importar mi base de datos</a>\n",
       "</h3>\n",
       "<div class=\"s-post-summary--content-excerpt\">\n",
       "                Soy nuevo en php y mysql, y al tratar de importar una base de datos me aparece el siguiente error:\n",
       "Fatal error: Maximum execution time of 300 seconds exceeded in C:\\xampp\\phpMyAdmin\\vendor\\phpmyadmin\\...\n",
       "            </div>\n",
       "<div class=\"s-post-summary--meta\">\n",
       "<div class=\"s-post-summary--meta-tags d-inline-block tags js-tags t-php t-mysql\">\n",
       "<ul class=\"ml0 list-ls-none js-post-tag-list-wrapper d-inline\"><li class=\"d-inline mr4 js-post-tag-list-item\"><a aria-label='mostrar preguntas con la etiqueta \"php\"' aria-labelledby=\"tag-php-tooltip-container\" class=\"s-tag post-tag flex--item mt0 js-tagname-php\" data-tag-menu-origin=\"Unknown\" href=\"/questions/tagged/php\" rel=\"tag\" title='mostrar preguntas con la etiqueta \"php\"'>php</a></li><li class=\"d-inline mr4 js-post-tag-list-item\"><a aria-label='mostrar preguntas con la etiqueta \"mysql\"' aria-labelledby=\"tag-mysql-tooltip-container\" class=\"s-tag post-tag flex--item mt0 js-tagname-mysql\" data-tag-menu-origin=\"Unknown\" href=\"/questions/tagged/mysql\" rel=\"tag\" title='mostrar preguntas con la etiqueta \"mysql\"'>mysql</a></li></ul>\n",
       "</div>\n",
       "<div aria-live=\"polite\" class=\"s-user-card s-user-card__minimal\">\n",
       "<a class=\"s-avatar s-avatar__16 s-user-card--avatar\" data-user-id=\"476013\" href=\"/users/476013/soporte-ampi\"> <div class=\"gravatar-wrapper-16\">\n",
       "<img alt=\"Avatar del usuario soporte ampi\" class=\"s-avatar--image\" height=\"16\" src=\"https://www.gravatar.com/avatar/bc18d2e90d94bf86eb4cfcefff2ff467?s=32&amp;d=identicon&amp;r=PG&amp;f=y&amp;so-version=2\" width=\"16\"/>\n",
       "</div>\n",
       "</a>\n",
       "<div class=\"s-user-card--info\">\n",
       "<div class=\"s-user-card--link d-flex gs4\">\n",
       "<a class=\"flex--item\" href=\"/users/476013/soporte-ampi\">soporte ampi</a>\n",
       "</div>\n",
       "<ul class=\"s-user-card--awards\">\n",
       "<li class=\"s-user-card--rep\"><span class=\"todo-no-class-here\" dir=\"ltr\" title=\"puntuación de reputación de \">1</span></li>\n",
       "</ul>\n",
       "</div>\n",
       "<time class=\"s-user-card--time\">formulada <span class=\"relativetime\" title=\"2025-09-02 17:34:34Z\">hace 10 horas</span></time>\n",
       "</div>\n",
       "</div>\n",
       "</div>\n",
       "</div>\n",
       "<div class=\"s-post-summary js-post-summary\" data-post-id=\"632555\" data-post-type-id=\"1\" id=\"question-summary-632555\">\n",
       "<div class=\"s-post-summary--stats js-post-summary-stats\">\n",
       "<div class=\"s-post-summary--stats-item s-post-summary--stats-item__emphasized\" title=\"Puntuación de 0\">\n",
       "<span class=\"s-post-summary--stats-item-number\">0</span>\n",
       "<span class=\"s-post-summary--stats-item-unit\">votos</span>\n",
       "</div>\n",
       "<div class=\"s-post-summary--stats-item\" title=\"0 respuestas\">\n",
       "<span class=\"s-post-summary--stats-item-number\">0</span>\n",
       "<span class=\"s-post-summary--stats-item-unit\">respuestas</span>\n",
       "</div>\n",
       "<div class=\"s-post-summary--stats-item\" title=\"12 vistas\">\n",
       "<span class=\"s-post-summary--stats-item-number\">12</span>\n",
       "<span class=\"s-post-summary--stats-item-unit\">vistas</span>\n",
       "</div>\n",
       "</div>\n",
       "<div class=\"s-post-summary--content\">\n",
       "<h3 class=\"s-post-summary--content-title\">\n",
       "<a class=\"s-link\" href=\"/questions/632555/error-al-ejecutar-as-posixlt1994-01-01-en-r\">Error al ejecutar `as.POSIXlt(\"1994-01-01\")` en R</a>\n",
       "</h3>\n",
       "<div class=\"s-post-summary--content-excerpt\">\n",
       "                ¿A alguien más le devuelve este error luego de ejecutar as.POSIXlt(\"1994-01-01\")?\n",
       "Error en as.POSIXlt.character(x, tz, ...): \n",
       "  la cadena de caracteres no está en un formato estándar ...\n",
       "            </div>\n",
       "<div class=\"s-post-summary--meta\">\n",
       "<div class=\"s-post-summary--meta-tags d-inline-block tags js-tags t-r\">\n",
       "<ul class=\"ml0 list-ls-none js-post-tag-list-wrapper d-inline\"><li class=\"d-inline mr4 js-post-tag-list-item\"><a aria-label='mostrar preguntas con la etiqueta \"r\"' aria-labelledby=\"tag-r-tooltip-container\" class=\"s-tag post-tag flex--item mt0 js-tagname-r\" data-tag-menu-origin=\"Unknown\" href=\"/questions/tagged/r\" rel=\"tag\" title='mostrar preguntas con la etiqueta \"r\"'>r</a></li></ul>\n",
       "</div>\n",
       "<div aria-live=\"polite\" class=\"s-user-card s-user-card__minimal\">\n",
       "<a class=\"s-avatar s-avatar__16 s-user-card--avatar js-user-hover-target\" data-user-id=\"24348\" href=\"/users/24348/wenchenglaum\"> <div class=\"gravatar-wrapper-16\">\n",
       "<img alt=\"Avatar del usuario WenchengLauM\" class=\"s-avatar--image\" height=\"16\" src=\"https://i.sstatic.net/1HFRo.jpg?s=32\" width=\"16\"/>\n",
       "</div>\n",
       "</a>\n",
       "<div class=\"s-user-card--info\">\n",
       "<div class=\"s-user-card--link d-flex gs4\">\n",
       "<a class=\"flex--item\" href=\"/users/24348/wenchenglaum\">WenchengLauM</a>\n",
       "</div>\n",
       "<ul class=\"s-user-card--awards\">\n",
       "<li class=\"s-user-card--rep\"><span class=\"todo-no-class-here\" dir=\"ltr\" title=\"puntuación de reputación de \">101</span></li>\n",
       "</ul>\n",
       "</div>\n",
       "<time class=\"s-user-card--time\">formulada <span class=\"relativetime\" title=\"2025-09-02 15:56:04Z\">hace 11 horas</span></time>\n",
       "</div>\n",
       "</div>\n",
       "</div>\n",
       "</div>\n",
       "<div class=\"s-post-summary js-post-summary\" data-post-id=\"632554\" data-post-type-id=\"1\" id=\"question-summary-632554\">\n",
       "<div class=\"s-post-summary--stats js-post-summary-stats\">\n",
       "<div class=\"s-post-summary--stats-item s-post-summary--stats-item__emphasized\" title=\"Puntuación de 0\">\n",
       "<span class=\"s-post-summary--stats-item-number\">0</span>\n",
       "<span class=\"s-post-summary--stats-item-unit\">votos</span>\n",
       "</div>\n",
       "<div class=\"s-post-summary--stats-item\" title=\"0 respuestas\">\n",
       "<span class=\"s-post-summary--stats-item-number\">0</span>\n",
       "<span class=\"s-post-summary--stats-item-unit\">respuestas</span>\n",
       "</div>\n",
       "<div class=\"s-post-summary--stats-item\" title=\"29 vistas\">\n",
       "<span class=\"s-post-summary--stats-item-number\">29</span>\n",
       "<span class=\"s-post-summary--stats-item-unit\">vistas</span>\n",
       "</div>\n",
       "</div>\n",
       "<div class=\"s-post-summary--content\">\n",
       "<h3 class=\"s-post-summary--content-title\">\n",
       "<a class=\"s-link\" href=\"/questions/632554/uso-de-la-funci%c3%b3n-curlcmdopt-engine-en-curl-impersonate-en-php\">Uso de la función CURLCMDOPT_ENGINE en CURL IMPERSONATE en PHP</a>\n",
       "</h3>\n",
       "<div class=\"s-post-summary--content-excerpt\">\n",
       "                Tengo un problema con CURL IMPERSONATE, trato de levantar la página con Chromium y sí lo carga, pero no puedo guardar la información que carga la página y también me carga otra página con error GET.\n",
       "//...\n",
       "            </div>\n",
       "<div class=\"s-post-summary--meta\">\n",
       "<div class=\"s-post-summary--meta-tags d-inline-block tags js-tags t-php\">\n",
       "<ul class=\"ml0 list-ls-none js-post-tag-list-wrapper d-inline\"><li class=\"d-inline mr4 js-post-tag-list-item\"><a aria-label='mostrar preguntas con la etiqueta \"php\"' aria-labelledby=\"tag-php-tooltip-container\" class=\"s-tag post-tag flex--item mt0 js-tagname-php\" data-tag-menu-origin=\"Unknown\" href=\"/questions/tagged/php\" rel=\"tag\" title='mostrar preguntas con la etiqueta \"php\"'>php</a></li></ul>\n",
       "</div>\n",
       "<div aria-live=\"polite\" class=\"s-user-card s-user-card__minimal\">\n",
       "<a class=\"s-avatar s-avatar__16 s-user-card--avatar\" data-user-id=\"81808\" href=\"/users/81808/jose-mariano\"> <div class=\"gravatar-wrapper-16\">\n",
       "<img alt=\"Avatar del usuario Jose Mariano\" class=\"s-avatar--image\" height=\"16\" src=\"https://www.gravatar.com/avatar/0ff0bd3996dd3a336d4367147c4a088f?s=32&amp;d=identicon&amp;r=PG&amp;f=y&amp;so-version=2\" width=\"16\"/>\n",
       "</div>\n",
       "</a>\n",
       "<div class=\"s-user-card--info\">\n",
       "<div class=\"s-user-card--link d-flex gs4\">\n",
       "<a class=\"flex--item\" href=\"/users/81808/jose-mariano\">Jose Mariano</a>\n",
       "</div>\n",
       "<ul class=\"s-user-card--awards\">\n",
       "<li class=\"s-user-card--rep\"><span class=\"todo-no-class-here\" dir=\"ltr\" title=\"puntuación de reputación de \">45</span></li>\n",
       "</ul>\n",
       "</div>\n",
       "<time class=\"s-user-card--time\">formulada <span class=\"relativetime\" title=\"2025-09-02 13:40:20Z\">hace 13 horas</span></time>\n",
       "</div>\n",
       "</div>\n",
       "</div>\n",
       "</div>\n",
       "<div class=\"s-post-summary js-post-summary\" data-post-id=\"632551\" data-post-type-id=\"1\" id=\"question-summary-632551\">\n",
       "<div class=\"s-post-summary--stats js-post-summary-stats\">\n",
       "<div class=\"s-post-summary--stats-item s-post-summary--stats-item__emphasized\" title=\"Puntuación de 0\">\n",
       "<span class=\"s-post-summary--stats-item-number\">0</span>\n",
       "<span class=\"s-post-summary--stats-item-unit\">votos</span>\n",
       "</div>\n",
       "<div class=\"s-post-summary--stats-item has-answers\" title=\"1 respuesta\">\n",
       "<span class=\"s-post-summary--stats-item-number\">1</span>\n",
       "<span class=\"s-post-summary--stats-item-unit\">respuesta</span>\n",
       "</div>\n",
       "<div class=\"s-post-summary--stats-item\" title=\"19 vistas\">\n",
       "<span class=\"s-post-summary--stats-item-number\">19</span>\n",
       "<span class=\"s-post-summary--stats-item-unit\">vistas</span>\n",
       "</div>\n",
       "</div>\n",
       "<div class=\"s-post-summary--content\">\n",
       "<h3 class=\"s-post-summary--content-title\">\n",
       "<a class=\"s-link\" href=\"/questions/632551/guardar-imagen-base-64-en-un-formato-de-imagen-convencional-en-php\">Guardar imagen base 64 en un formato de imagen 'convencional' en php</a>\n",
       "</h3>\n",
       "<div class=\"s-post-summary--content-excerpt\">\n",
       "                Tengo un script donde en un modal aplico un crop a una imagen, este script lo encontré en la web, y le agregué algunas líneas. funciona bien originalmente (sube solo como jpg):\n",
       "    $anio = date(\"...\n",
       "            </div>\n",
       "<div class=\"s-post-summary--meta\">\n",
       "<div class=\"s-post-summary--meta-tags d-inline-block tags js-tags t-php t-base64 t-explode t-image-parts t-postimage\">\n",
       "<ul class=\"ml0 list-ls-none js-post-tag-list-wrapper d-inline\"><li class=\"d-inline mr4 js-post-tag-list-item\"><a aria-label='mostrar preguntas con la etiqueta \"php\"' aria-labelledby=\"tag-php-tooltip-container\" class=\"s-tag post-tag flex--item mt0 js-tagname-php\" data-tag-menu-origin=\"Unknown\" href=\"/questions/tagged/php\" rel=\"tag\" title='mostrar preguntas con la etiqueta \"php\"'>php</a></li><li class=\"d-inline mr4 js-post-tag-list-item\"><a aria-label='mostrar preguntas con la etiqueta \"base64\"' aria-labelledby=\"tag-base64-tooltip-container\" class=\"s-tag post-tag flex--item mt0 js-tagname-base64\" data-tag-menu-origin=\"Unknown\" href=\"/questions/tagged/base64\" rel=\"tag\" title='mostrar preguntas con la etiqueta \"base64\"'>base64</a></li><li class=\"d-inline mr4 js-post-tag-list-item\"><a aria-label='mostrar preguntas con la etiqueta \"explode\"' aria-labelledby=\"tag-explode-tooltip-container\" class=\"s-tag post-tag flex--item mt0 js-tagname-explode\" data-tag-menu-origin=\"Unknown\" href=\"/questions/tagged/explode\" rel=\"tag\" title='mostrar preguntas con la etiqueta \"explode\"'>explode</a></li><li class=\"d-inline mr4 js-post-tag-list-item\"><a aria-label='mostrar preguntas con la etiqueta \"image-parts\"' aria-labelledby=\"tag-image-parts-tooltip-container\" class=\"s-tag post-tag flex--item mt0 js-tagname-image-parts\" data-tag-menu-origin=\"Unknown\" href=\"/questions/tagged/image-parts\" rel=\"tag\" title='mostrar preguntas con la etiqueta \"image-parts\"'>image-parts</a></li><li class=\"d-inline mr4 js-post-tag-list-item\"><a aria-label='mostrar preguntas con la etiqueta \"postimage\"' aria-labelledby=\"tag-postimage-tooltip-container\" class=\"s-tag post-tag flex--item mt0 js-tagname-postimage\" data-tag-menu-origin=\"Unknown\" href=\"/questions/tagged/postimage\" rel=\"tag\" title='mostrar preguntas con la etiqueta \"postimage\"'>postimage</a></li></ul>\n",
       "</div>\n",
       "<div aria-live=\"polite\" class=\"s-user-card s-user-card__minimal\">\n",
       "<a class=\"s-avatar s-avatar__16 s-user-card--avatar\" data-user-id=\"124898\" href=\"/users/124898/jorge-b\"> <div class=\"gravatar-wrapper-16\">\n",
       "<img alt=\"Avatar del usuario Jorge B\" class=\"s-avatar--image\" height=\"16\" src=\"https://www.gravatar.com/avatar/ace2c7f9ee0235c6bf6d6b3a2c5ec7ac?s=32&amp;d=identicon&amp;r=PG&amp;f=y&amp;so-version=2\" width=\"16\"/>\n",
       "</div>\n",
       "</a>\n",
       "<div class=\"s-user-card--info\">\n",
       "<div class=\"s-user-card--link d-flex gs4\">\n",
       "<a class=\"flex--item\" href=\"/users/124898/jorge-b\">Jorge B</a>\n",
       "</div>\n",
       "<ul class=\"s-user-card--awards\">\n",
       "<li class=\"s-user-card--rep\"><span class=\"todo-no-class-here\" dir=\"ltr\" title=\"puntuación de reputación de \">370</span></li>\n",
       "</ul>\n",
       "</div>\n",
       "<time class=\"s-user-card--time\">formulada <span class=\"relativetime\" title=\"2025-09-02 11:21:51Z\">hace 16 horas</span></time>\n",
       "</div>\n",
       "</div>\n",
       "</div>\n",
       "</div>\n",
       "<div class=\"s-post-summary js-post-summary\" data-post-id=\"632549\" data-post-type-id=\"1\" id=\"question-summary-632549\">\n",
       "<div class=\"s-post-summary--stats js-post-summary-stats\">\n",
       "<div class=\"s-post-summary--stats-item s-post-summary--stats-item__emphasized\" title=\"Puntuación de -4\">\n",
       "<span class=\"s-post-summary--stats-item-number\">-4</span>\n",
       "<span class=\"s-post-summary--stats-item-unit\">votos</span>\n",
       "</div>\n",
       "<div class=\"s-post-summary--stats-item\" title=\"0 respuestas\">\n",
       "<span class=\"s-post-summary--stats-item-number\">0</span>\n",
       "<span class=\"s-post-summary--stats-item-unit\">respuestas</span>\n",
       "</div>\n",
       "<div class=\"s-post-summary--stats-item\" title=\"24 vistas\">\n",
       "<span class=\"s-post-summary--stats-item-number\">24</span>\n",
       "<span class=\"s-post-summary--stats-item-unit\">vistas</span>\n",
       "</div>\n",
       "</div>\n",
       "<div class=\"s-post-summary--content\">\n",
       "<h3 class=\"s-post-summary--content-title\">\n",
       "<a class=\"s-link\" href=\"/questions/632549/soy-un-aprendiz-de-programacion-estoy-trabajando-con-visual-code-desarrolando-un\">soy un aprendiz de programacion estoy trabajando con visual code desarrolando un app mediante instrucciones alguna sigerencia de AI para trabajar? [cerrada]</a>\n",
       "</h3>\n",
       "<div class=\"s-post-summary--content-excerpt\">\n",
       "                estoy trabajando con claude es muy buena pero me gustaria saber si conocen alguna otra AI que pueda ser igual o mas eficiente que claude estoy trabajando en una app que esta conectada a firebase!\n",
       "            </div>\n",
       "<div class=\"s-post-summary--meta\">\n",
       "<div class=\"s-post-summary--meta-tags d-inline-block tags js-tags t-firebase t-vscode t-inteligencia-artificial\">\n",
       "<ul class=\"ml0 list-ls-none js-post-tag-list-wrapper d-inline\"><li class=\"d-inline mr4 js-post-tag-list-item\"><a aria-label='mostrar preguntas con la etiqueta \"firebase\"' aria-labelledby=\"tag-firebase-tooltip-container\" class=\"s-tag post-tag flex--item mt0 js-tagname-firebase\" data-tag-menu-origin=\"Unknown\" href=\"/questions/tagged/firebase\" rel=\"tag\" title='mostrar preguntas con la etiqueta \"firebase\"'>firebase</a></li><li class=\"d-inline mr4 js-post-tag-list-item\"><a aria-label='mostrar preguntas con la etiqueta \"vscode\"' aria-labelledby=\"tag-vscode-tooltip-container\" class=\"s-tag post-tag flex--item mt0 js-tagname-vscode\" data-tag-menu-origin=\"Unknown\" href=\"/questions/tagged/vscode\" rel=\"tag\" title='mostrar preguntas con la etiqueta \"vscode\"'>vscode</a></li><li class=\"d-inline mr4 js-post-tag-list-item\"><a aria-label='mostrar preguntas con la etiqueta \"inteligencia-artificial\"' aria-labelledby=\"tag-inteligencia-artificial-tooltip-container\" class=\"s-tag post-tag flex--item mt0 js-tagname-inteligencia-artificial\" data-tag-menu-origin=\"Unknown\" href=\"/questions/tagged/inteligencia-artificial\" rel=\"tag\" title='mostrar preguntas con la etiqueta \"inteligencia-artificial\"'>inteligencia-artificial</a></li></ul>\n",
       "</div>\n",
       "<div aria-live=\"polite\" class=\"s-user-card s-user-card__minimal\">\n",
       "<a class=\"s-avatar s-avatar__16 s-user-card--avatar js-user-hover-target\" data-user-id=\"475875\" href=\"/users/475875/joseph-quintero\"> <div class=\"gravatar-wrapper-16\">\n",
       "<img alt=\"Avatar del usuario Joseph Quintero\" class=\"s-avatar--image\" height=\"16\" src=\"https://www.gravatar.com/avatar/9ac606a85f3e1ac5bede213bc4b96893?s=32&amp;d=identicon&amp;r=PG&amp;f=y&amp;so-version=2\" width=\"16\"/>\n",
       "</div>\n",
       "</a>\n",
       "<div class=\"s-user-card--info\">\n",
       "<div class=\"s-user-card--link d-flex gs4\">\n",
       "<a class=\"flex--item\" href=\"/users/475875/joseph-quintero\">Joseph Quintero</a>\n",
       "</div>\n",
       "<ul class=\"s-user-card--awards\">\n",
       "<li class=\"s-user-card--rep\"><span class=\"todo-no-class-here\" dir=\"ltr\" title=\"puntuación de reputación de \">1</span></li>\n",
       "</ul>\n",
       "</div>\n",
       "<time class=\"s-user-card--time\">formulada <span class=\"relativetime\" title=\"2025-09-01 19:23:42Z\">ayer</span></time>\n",
       "</div>\n",
       "</div>\n",
       "</div>\n",
       "</div>\n",
       "<div class=\"s-post-summary js-post-summary\" data-post-id=\"632547\" data-post-type-id=\"1\" id=\"question-summary-632547\">\n",
       "<div class=\"s-post-summary--stats js-post-summary-stats\">\n",
       "<div class=\"s-post-summary--stats-item s-post-summary--stats-item__emphasized\" title=\"Puntuación de 0\">\n",
       "<span class=\"s-post-summary--stats-item-number\">0</span>\n",
       "<span class=\"s-post-summary--stats-item-unit\">votos</span>\n",
       "</div>\n",
       "<div class=\"s-post-summary--stats-item\" title=\"0 respuestas\">\n",
       "<span class=\"s-post-summary--stats-item-number\">0</span>\n",
       "<span class=\"s-post-summary--stats-item-unit\">respuestas</span>\n",
       "</div>\n",
       "<div class=\"s-post-summary--stats-item\" title=\"33 vistas\">\n",
       "<span class=\"s-post-summary--stats-item-number\">33</span>\n",
       "<span class=\"s-post-summary--stats-item-unit\">vistas</span>\n",
       "</div>\n",
       "</div>\n",
       "<div class=\"s-post-summary--content\">\n",
       "<h3 class=\"s-post-summary--content-title\">\n",
       "<a class=\"s-link\" href=\"/questions/632547/uso-del-togglepassword-en-formulario-html-con-bootstrap-5\">Uso del togglePassword en formulario HTML con Bootstrap 5 [cerrada]</a>\n",
       "</h3>\n",
       "<div class=\"s-post-summary--content-excerpt\">\n",
       "                Tengo una caja de texto que tiene la función de mostrar contraseña pero al momento de escribir desaparece el icono del \"ojo\". Lo que me gustaria es que este icono no desaparezca al momento ...\n",
       "            </div>\n",
       "<div class=\"s-post-summary--meta\">\n",
       "<div class=\"s-post-summary--meta-tags d-inline-block tags js-tags t-javascript t-html t-bootstrap\">\n",
       "<ul class=\"ml0 list-ls-none js-post-tag-list-wrapper d-inline\"><li class=\"d-inline mr4 js-post-tag-list-item\"><a aria-label='mostrar preguntas con la etiqueta \"javascript\"' aria-labelledby=\"tag-javascript-tooltip-container\" class=\"s-tag post-tag flex--item mt0 js-tagname-javascript\" data-tag-menu-origin=\"Unknown\" href=\"/questions/tagged/javascript\" rel=\"tag\" title='mostrar preguntas con la etiqueta \"javascript\"'>javascript</a></li><li class=\"d-inline mr4 js-post-tag-list-item\"><a aria-label='mostrar preguntas con la etiqueta \"html\"' aria-labelledby=\"tag-html-tooltip-container\" class=\"s-tag post-tag flex--item mt0 js-tagname-html\" data-tag-menu-origin=\"Unknown\" href=\"/questions/tagged/html\" rel=\"tag\" title='mostrar preguntas con la etiqueta \"html\"'>html</a></li><li class=\"d-inline mr4 js-post-tag-list-item\"><a aria-label='mostrar preguntas con la etiqueta \"bootstrap\"' aria-labelledby=\"tag-bootstrap-tooltip-container\" class=\"s-tag post-tag flex--item mt0 js-tagname-bootstrap\" data-tag-menu-origin=\"Unknown\" href=\"/questions/tagged/bootstrap\" rel=\"tag\" title='mostrar preguntas con la etiqueta \"bootstrap\"'>bootstrap</a></li></ul>\n",
       "</div>\n",
       "<div aria-live=\"polite\" class=\"s-user-card s-user-card__minimal\">\n",
       "<a class=\"s-avatar s-avatar__16 s-user-card--avatar\" data-user-id=\"25459\" href=\"/users/25459/felix-n\"> <div class=\"gravatar-wrapper-16\">\n",
       "<img alt=\"Avatar del usuario Felix N.\" class=\"s-avatar--image\" height=\"16\" src=\"https://www.gravatar.com/avatar/53e046009567f242bb4f18baf2d5e02e?s=32&amp;d=identicon&amp;r=PG&amp;f=y&amp;so-version=2\" width=\"16\"/>\n",
       "</div>\n",
       "</a>\n",
       "<div class=\"s-user-card--info\">\n",
       "<div class=\"s-user-card--link d-flex gs4\">\n",
       "<a class=\"flex--item\" href=\"/users/25459/felix-n\">Felix N.</a>\n",
       "</div>\n",
       "<ul class=\"s-user-card--awards\">\n",
       "<li class=\"s-user-card--rep\"><span class=\"todo-no-class-here\" dir=\"ltr\" title=\"puntuación de reputación de \">1,859</span></li>\n",
       "</ul>\n",
       "</div>\n",
       "<time class=\"s-user-card--time\">formulada <span class=\"relativetime\" title=\"2025-09-01 13:20:04Z\">ayer</span></time>\n",
       "</div>\n",
       "</div>\n",
       "</div>\n",
       "</div>\n",
       "<div class=\"s-post-summary js-post-summary\" data-post-id=\"632545\" data-post-type-id=\"1\" id=\"question-summary-632545\">\n",
       "<div class=\"s-post-summary--stats js-post-summary-stats\">\n",
       "<div class=\"s-post-summary--stats-item s-post-summary--stats-item__emphasized\" title=\"Puntuación de 0\">\n",
       "<span class=\"s-post-summary--stats-item-number\">0</span>\n",
       "<span class=\"s-post-summary--stats-item-unit\">votos</span>\n",
       "</div>\n",
       "<div class=\"s-post-summary--stats-item has-answers\" title=\"1 respuesta\">\n",
       "<span class=\"s-post-summary--stats-item-number\">1</span>\n",
       "<span class=\"s-post-summary--stats-item-unit\">respuesta</span>\n",
       "</div>\n",
       "<div class=\"s-post-summary--stats-item\" title=\"22 vistas\">\n",
       "<span class=\"s-post-summary--stats-item-number\">22</span>\n",
       "<span class=\"s-post-summary--stats-item-unit\">vistas</span>\n",
       "</div>\n",
       "</div>\n",
       "<div class=\"s-post-summary--content\">\n",
       "<h3 class=\"s-post-summary--content-title\">\n",
       "<a class=\"s-link\" href=\"/questions/632545/problema-al-iniciar-la-c%c3%a1mara-en-el-movil-net9-con-maui-blazor\">Problema al Iniciar la cámara en el movil, .NET9 con MAUI Blazor</a>\n",
       "</h3>\n",
       "<div class=\"s-post-summary--content-excerpt\">\n",
       "                Estoy teniendo un problema bastante grande que me lleva rompiendo la cabeza un tiempo. Necesito leer un QR desde un dispositivo Móvil, en este caso es un XIAOMI Android 14 - API 34 pero siempre que ...\n",
       "            </div>\n",
       "<div class=\"s-post-summary--meta\">\n",
       "<div class=\"s-post-summary--meta-tags d-inline-block tags js-tags t-cñ t-android t-ûnet t-blazor t-qrcode\">\n",
       "<ul class=\"ml0 list-ls-none js-post-tag-list-wrapper d-inline\"><li class=\"d-inline mr4 js-post-tag-list-item\"><a aria-label='mostrar preguntas con la etiqueta \"c#\"' aria-labelledby=\"tag-c#-tooltip-container\" class=\"s-tag post-tag flex--item mt0 js-tagname-cñ\" data-tag-menu-origin=\"Unknown\" href=\"/questions/tagged/c%23\" rel=\"tag\" title='mostrar preguntas con la etiqueta \"c#\"'>c#</a></li><li class=\"d-inline mr4 js-post-tag-list-item\"><a aria-label='mostrar preguntas con la etiqueta \"android\"' aria-labelledby=\"tag-android-tooltip-container\" class=\"s-tag post-tag flex--item mt0 js-tagname-android\" data-tag-menu-origin=\"Unknown\" href=\"/questions/tagged/android\" rel=\"tag\" title='mostrar preguntas con la etiqueta \"android\"'>android</a></li><li class=\"d-inline mr4 js-post-tag-list-item\"><a aria-label='mostrar preguntas con la etiqueta \".net\"' aria-labelledby=\"tag-.net-tooltip-container\" class=\"s-tag post-tag flex--item mt0 js-tagname-ûnet\" data-tag-menu-origin=\"Unknown\" href=\"/questions/tagged/.net\" rel=\"tag\" title='mostrar preguntas con la etiqueta \".net\"'>.net</a></li><li class=\"d-inline mr4 js-post-tag-list-item\"><a aria-label='mostrar preguntas con la etiqueta \"blazor\"' aria-labelledby=\"tag-blazor-tooltip-container\" class=\"s-tag post-tag flex--item mt0 js-tagname-blazor\" data-tag-menu-origin=\"Unknown\" href=\"/questions/tagged/blazor\" rel=\"tag\" title='mostrar preguntas con la etiqueta \"blazor\"'>blazor</a></li><li class=\"d-inline mr4 js-post-tag-list-item\"><a aria-label='mostrar preguntas con la etiqueta \"qrcode\"' aria-labelledby=\"tag-qrcode-tooltip-container\" class=\"s-tag post-tag flex--item mt0 js-tagname-qrcode\" data-tag-menu-origin=\"Unknown\" href=\"/questions/tagged/qrcode\" rel=\"tag\" title='mostrar preguntas con la etiqueta \"qrcode\"'>qrcode</a></li></ul>\n",
       "</div>\n",
       "<div aria-live=\"polite\" class=\"s-user-card s-user-card__minimal\">\n",
       "<a class=\"s-avatar s-avatar__16 s-user-card--avatar js-user-hover-target\" data-user-id=\"404299\" href=\"/users/404299/igledev\"> <div class=\"gravatar-wrapper-16\">\n",
       "<img alt=\"Avatar del usuario IgleDev\" class=\"s-avatar--image\" height=\"16\" src=\"https://i.sstatic.net/oTTReW6A.jpg?s=32\" width=\"16\"/>\n",
       "</div>\n",
       "</a>\n",
       "<div class=\"s-user-card--info\">\n",
       "<div class=\"s-user-card--link d-flex gs4\">\n",
       "<a class=\"flex--item\" href=\"/users/404299/igledev\">IgleDev</a>\n",
       "</div>\n",
       "<ul class=\"s-user-card--awards\">\n",
       "<li class=\"s-user-card--rep\"><span class=\"todo-no-class-here\" dir=\"ltr\" title=\"puntuación de reputación de \">156</span></li>\n",
       "</ul>\n",
       "</div>\n",
       "<time class=\"s-user-card--time\">formulada <span class=\"relativetime\" title=\"2025-09-01 12:39:03Z\">ayer</span></time>\n",
       "</div>\n",
       "</div>\n",
       "</div>\n",
       "</div>\n",
       "<div class=\"s-post-summary js-post-summary\" data-post-id=\"632543\" data-post-type-id=\"1\" id=\"question-summary-632543\">\n",
       "<div class=\"s-post-summary--stats js-post-summary-stats\">\n",
       "<div class=\"s-post-summary--stats-item s-post-summary--stats-item__emphasized\" title=\"Puntuación de 0\">\n",
       "<span class=\"s-post-summary--stats-item-number\">0</span>\n",
       "<span class=\"s-post-summary--stats-item-unit\">votos</span>\n",
       "</div>\n",
       "<div class=\"s-post-summary--stats-item\" title=\"0 respuestas\">\n",
       "<span class=\"s-post-summary--stats-item-number\">0</span>\n",
       "<span class=\"s-post-summary--stats-item-unit\">respuestas</span>\n",
       "</div>\n",
       "<div class=\"s-post-summary--stats-item\" title=\"18 vistas\">\n",
       "<span class=\"s-post-summary--stats-item-number\">18</span>\n",
       "<span class=\"s-post-summary--stats-item-unit\">vistas</span>\n",
       "</div>\n",
       "</div>\n",
       "<div class=\"s-post-summary--content\">\n",
       "<h3 class=\"s-post-summary--content-title\">\n",
       "<a class=\"s-link\" href=\"/questions/632543/problemas-al-abrir-un-scheduler-de-ievent-en-devexpress-xaf-blazor\">Problemas al abrir un scheduler de IEvent en DevExpress XAF Blazor</a>\n",
       "</h3>\n",
       "<div class=\"s-post-summary--content-excerpt\">\n",
       "                Estoy trabajando en un proyecto de una agenda con DevExpress, para ello uso el IEvent para que obtenga las acciones de la agenda, en eso me tope con que IEvent obliga a tener un dato Type, el cual lo ...\n",
       "            </div>\n",
       "<div class=\"s-post-summary--meta\">\n",
       "<div class=\"s-post-summary--meta-tags d-inline-block tags js-tags t-cñ t-devexpress t-blazor\">\n",
       "<ul class=\"ml0 list-ls-none js-post-tag-list-wrapper d-inline\"><li class=\"d-inline mr4 js-post-tag-list-item\"><a aria-label='mostrar preguntas con la etiqueta \"c#\"' aria-labelledby=\"tag-c#-tooltip-container\" class=\"s-tag post-tag flex--item mt0 js-tagname-cñ\" data-tag-menu-origin=\"Unknown\" href=\"/questions/tagged/c%23\" rel=\"tag\" title='mostrar preguntas con la etiqueta \"c#\"'>c#</a></li><li class=\"d-inline mr4 js-post-tag-list-item\"><a aria-label='mostrar preguntas con la etiqueta \"devexpress\"' aria-labelledby=\"tag-devexpress-tooltip-container\" class=\"s-tag post-tag flex--item mt0 js-tagname-devexpress\" data-tag-menu-origin=\"Unknown\" href=\"/questions/tagged/devexpress\" rel=\"tag\" title='mostrar preguntas con la etiqueta \"devexpress\"'>devexpress</a></li><li class=\"d-inline mr4 js-post-tag-list-item\"><a aria-label='mostrar preguntas con la etiqueta \"blazor\"' aria-labelledby=\"tag-blazor-tooltip-container\" class=\"s-tag post-tag flex--item mt0 js-tagname-blazor\" data-tag-menu-origin=\"Unknown\" href=\"/questions/tagged/blazor\" rel=\"tag\" title='mostrar preguntas con la etiqueta \"blazor\"'>blazor</a></li></ul>\n",
       "</div>\n",
       "<div aria-live=\"polite\" class=\"s-user-card s-user-card__minimal\">\n",
       "<a class=\"s-avatar s-avatar__16 s-user-card--avatar\" data-user-id=\"184253\" href=\"/users/184253/deither\"> <div class=\"gravatar-wrapper-16\">\n",
       "<img alt=\"Avatar del usuario Deither\" class=\"s-avatar--image\" height=\"16\" src=\"https://lh3.googleusercontent.com/a-/AOh14GitaL5YqEfnGmxlgf6opmQ7fINvkO9gGvKte-cf=k-s32\" width=\"16\"/>\n",
       "</div>\n",
       "</a>\n",
       "<div class=\"s-user-card--info\">\n",
       "<div class=\"s-user-card--link d-flex gs4\">\n",
       "<a class=\"flex--item\" href=\"/users/184253/deither\">Deither</a>\n",
       "</div>\n",
       "<ul class=\"s-user-card--awards\">\n",
       "<li class=\"s-user-card--rep\"><span class=\"todo-no-class-here\" dir=\"ltr\" title=\"puntuación de reputación de \">13</span></li>\n",
       "</ul>\n",
       "</div>\n",
       "<time class=\"s-user-card--time\">formulada <span class=\"relativetime\" title=\"2025-08-31 16:04:21Z\">hace 2 días</span></time>\n",
       "</div>\n",
       "</div>\n",
       "</div>\n",
       "</div>\n",
       "<div class=\"s-post-summary js-post-summary\" data-post-id=\"632540\" data-post-type-id=\"1\" id=\"question-summary-632540\">\n",
       "<div class=\"s-post-summary--stats js-post-summary-stats\">\n",
       "<div class=\"s-post-summary--stats-item s-post-summary--stats-item__emphasized\" title=\"Puntuación de -1\">\n",
       "<span class=\"s-post-summary--stats-item-number\">-1</span>\n",
       "<span class=\"s-post-summary--stats-item-unit\">votos</span>\n",
       "</div>\n",
       "<div class=\"s-post-summary--stats-item\" title=\"0 respuestas\">\n",
       "<span class=\"s-post-summary--stats-item-number\">0</span>\n",
       "<span class=\"s-post-summary--stats-item-unit\">respuestas</span>\n",
       "</div>\n",
       "<div class=\"s-post-summary--stats-item\" title=\"28 vistas\">\n",
       "<span class=\"s-post-summary--stats-item-number\">28</span>\n",
       "<span class=\"s-post-summary--stats-item-unit\">vistas</span>\n",
       "</div>\n",
       "</div>\n",
       "<div class=\"s-post-summary--content\">\n",
       "<h3 class=\"s-post-summary--content-title\">\n",
       "<a class=\"s-link\" href=\"/questions/632540/quien-me-puede-terminar-mi-bot-de-trading\">quien me puede terminar mi bot de trading [cerrada]</a>\n",
       "</h3>\n",
       "<div class=\"s-post-summary--content-excerpt\">\n",
       "                Hola quien puede ayudarme a terminar un bot de trading para comprar y vender criptomonedas? yo comparto el codigo para que lo utilicen\n",
       "from binance.client import Client from binance.enums import *\n",
       "&gt;...\n",
       "            </div>\n",
       "<div class=\"s-post-summary--meta\">\n",
       "<div class=\"s-post-summary--meta-tags d-inline-block tags js-tags t-python t-bot\">\n",
       "<ul class=\"ml0 list-ls-none js-post-tag-list-wrapper d-inline\"><li class=\"d-inline mr4 js-post-tag-list-item\"><a aria-label='mostrar preguntas con la etiqueta \"python\"' aria-labelledby=\"tag-python-tooltip-container\" class=\"s-tag post-tag flex--item mt0 js-tagname-python\" data-tag-menu-origin=\"Unknown\" href=\"/questions/tagged/python\" rel=\"tag\" title='mostrar preguntas con la etiqueta \"python\"'>python</a></li><li class=\"d-inline mr4 js-post-tag-list-item\"><a aria-label='mostrar preguntas con la etiqueta \"bot\"' aria-labelledby=\"tag-bot-tooltip-container\" class=\"s-tag post-tag flex--item mt0 js-tagname-bot\" data-tag-menu-origin=\"Unknown\" href=\"/questions/tagged/bot\" rel=\"tag\" title='mostrar preguntas con la etiqueta \"bot\"'>bot</a></li></ul>\n",
       "</div>\n",
       "<div aria-live=\"polite\" class=\"s-user-card s-user-card__minimal\">\n",
       "<a class=\"s-avatar s-avatar__16 s-user-card--avatar\" data-user-id=\"155849\" href=\"/users/155849/releveit-candol\"> <div class=\"gravatar-wrapper-16\">\n",
       "<img alt=\"Avatar del usuario Releveit Candol\" class=\"s-avatar--image\" height=\"16\" src=\"https://lh3.googleusercontent.com/a-/AAuE7mBLK7PElaGp74YupMH210MaLUVOoPCTXJ0WDVBR7g=k-s32\" width=\"16\"/>\n",
       "</div>\n",
       "</a>\n",
       "<div class=\"s-user-card--info\">\n",
       "<div class=\"s-user-card--link d-flex gs4\">\n",
       "<a class=\"flex--item\" href=\"/users/155849/releveit-candol\">Releveit Candol</a>\n",
       "</div>\n",
       "<ul class=\"s-user-card--awards\">\n",
       "<li class=\"s-user-card--rep\"><span class=\"todo-no-class-here\" dir=\"ltr\" title=\"puntuación de reputación de \">47</span></li>\n",
       "</ul>\n",
       "</div>\n",
       "<time class=\"s-user-card--time\">formulada <span class=\"relativetime\" title=\"2025-08-30 17:51:17Z\">el 30 ago a las 17:51</span></time>\n",
       "</div>\n",
       "</div>\n",
       "</div>\n",
       "</div>\n",
       "<div class=\"s-post-summary js-post-summary\" data-post-id=\"632538\" data-post-type-id=\"1\" id=\"question-summary-632538\">\n",
       "<div class=\"s-post-summary--stats js-post-summary-stats\">\n",
       "<div class=\"s-post-summary--stats-item s-post-summary--stats-item__emphasized\" title=\"Puntuación de 0\">\n",
       "<span class=\"s-post-summary--stats-item-number\">0</span>\n",
       "<span class=\"s-post-summary--stats-item-unit\">votos</span>\n",
       "</div>\n",
       "<div class=\"s-post-summary--stats-item\" title=\"0 respuestas\">\n",
       "<span class=\"s-post-summary--stats-item-number\">0</span>\n",
       "<span class=\"s-post-summary--stats-item-unit\">respuestas</span>\n",
       "</div>\n",
       "<div class=\"s-post-summary--stats-item\" title=\"29 vistas\">\n",
       "<span class=\"s-post-summary--stats-item-number\">29</span>\n",
       "<span class=\"s-post-summary--stats-item-unit\">vistas</span>\n",
       "</div>\n",
       "</div>\n",
       "<div class=\"s-post-summary--content\">\n",
       "<h3 class=\"s-post-summary--content-title\">\n",
       "<a class=\"s-link\" href=\"/questions/632538/c%c3%b3mo-liberar-memoria-ram-ocupada-por-procesos-en-segundo-plano-en-windows-usand\">¿Cómo liberar memoria RAM ocupada por procesos en segundo plano en Windows usando Python?</a>\n",
       "</h3>\n",
       "<div class=\"s-post-summary--content-excerpt\">\n",
       "                Estoy desarrollando un script en Python que libera la memoria RAM usada por otros procesos en segundo plano, utilizando psutil y funciones del API de Windows como EmptyWorkingSet.\n",
       "Funciona bien, pero ...\n",
       "            </div>\n",
       "<div class=\"s-post-summary--meta\">\n",
       "<div class=\"s-post-summary--meta-tags d-inline-block tags js-tags t-python t-windows t-optimización t-manejo-de-memoria t-rendimiento\">\n",
       "<ul class=\"ml0 list-ls-none js-post-tag-list-wrapper d-inline\"><li class=\"d-inline mr4 js-post-tag-list-item\"><a aria-label='mostrar preguntas con la etiqueta \"python\"' aria-labelledby=\"tag-python-tooltip-container\" class=\"s-tag post-tag flex--item mt0 js-tagname-python\" data-tag-menu-origin=\"Unknown\" href=\"/questions/tagged/python\" rel=\"tag\" title='mostrar preguntas con la etiqueta \"python\"'>python</a></li><li class=\"d-inline mr4 js-post-tag-list-item\"><a aria-label='mostrar preguntas con la etiqueta \"windows\"' aria-labelledby=\"tag-windows-tooltip-container\" class=\"s-tag post-tag flex--item mt0 js-tagname-windows\" data-tag-menu-origin=\"Unknown\" href=\"/questions/tagged/windows\" rel=\"tag\" title='mostrar preguntas con la etiqueta \"windows\"'>windows</a></li><li class=\"d-inline mr4 js-post-tag-list-item\"><a aria-label='mostrar preguntas con la etiqueta \"optimización\"' aria-labelledby=\"tag-optimización-tooltip-container\" class=\"s-tag post-tag flex--item mt0 js-tagname-optimización\" data-tag-menu-origin=\"Unknown\" href=\"/questions/tagged/optimizaci%c3%b3n\" rel=\"tag\" title='mostrar preguntas con la etiqueta \"optimización\"'>optimización</a></li><li class=\"d-inline mr4 js-post-tag-list-item\"><a aria-label='mostrar preguntas con la etiqueta \"manejo-de-memoria\"' aria-labelledby=\"tag-manejo-de-memoria-tooltip-container\" class=\"s-tag post-tag flex--item mt0 js-tagname-manejo-de-memoria\" data-tag-menu-origin=\"Unknown\" href=\"/questions/tagged/manejo-de-memoria\" rel=\"tag\" title='mostrar preguntas con la etiqueta \"manejo-de-memoria\"'>manejo-de-memoria</a></li><li class=\"d-inline mr4 js-post-tag-list-item\"><a aria-label='mostrar preguntas con la etiqueta \"rendimiento\"' aria-labelledby=\"tag-rendimiento-tooltip-container\" class=\"s-tag post-tag flex--item mt0 js-tagname-rendimiento\" data-tag-menu-origin=\"Unknown\" href=\"/questions/tagged/rendimiento\" rel=\"tag\" title='mostrar preguntas con la etiqueta \"rendimiento\"'>rendimiento</a></li></ul>\n",
       "</div>\n",
       "<div aria-live=\"polite\" class=\"s-user-card s-user-card__minimal\">\n",
       "<a class=\"s-avatar s-avatar__16 s-user-card--avatar\" data-user-id=\"475593\" href=\"/users/475593/rodolfo-mb\"> <div class=\"gravatar-wrapper-16\">\n",
       "<img alt=\"Avatar del usuario Rodolfo MB\" class=\"s-avatar--image\" height=\"16\" src=\"https://www.gravatar.com/avatar/2b0644316f909d313cef78cbb0c62b7f?s=32&amp;d=identicon&amp;r=PG&amp;f=y&amp;so-version=2\" width=\"16\"/>\n",
       "</div>\n",
       "</a>\n",
       "<div class=\"s-user-card--info\">\n",
       "<div class=\"s-user-card--link d-flex gs4\">\n",
       "<a class=\"flex--item\" href=\"/users/475593/rodolfo-mb\">Rodolfo MB</a>\n",
       "</div>\n",
       "<ul class=\"s-user-card--awards\">\n",
       "<li class=\"s-user-card--rep\"><span class=\"todo-no-class-here\" dir=\"ltr\" title=\"puntuación de reputación de \">1</span></li>\n",
       "</ul>\n",
       "</div>\n",
       "<time class=\"s-user-card--time\">formulada <span class=\"relativetime\" title=\"2025-08-30 01:16:48Z\">el 30 ago a las 1:16</span></time>\n",
       "</div>\n",
       "</div>\n",
       "</div>\n",
       "</div>\n",
       "<div class=\"s-post-summary js-post-summary\" data-post-id=\"632537\" data-post-type-id=\"1\" id=\"question-summary-632537\">\n",
       "<div class=\"s-post-summary--stats js-post-summary-stats\">\n",
       "<div class=\"s-post-summary--stats-item s-post-summary--stats-item__emphasized\" title=\"Puntuación de 0\">\n",
       "<span class=\"s-post-summary--stats-item-number\">0</span>\n",
       "<span class=\"s-post-summary--stats-item-unit\">votos</span>\n",
       "</div>\n",
       "<div class=\"s-post-summary--stats-item\" title=\"0 respuestas\">\n",
       "<span class=\"s-post-summary--stats-item-number\">0</span>\n",
       "<span class=\"s-post-summary--stats-item-unit\">respuestas</span>\n",
       "</div>\n",
       "<div class=\"s-post-summary--stats-item\" title=\"37 vistas\">\n",
       "<span class=\"s-post-summary--stats-item-number\">37</span>\n",
       "<span class=\"s-post-summary--stats-item-unit\">vistas</span>\n",
       "</div>\n",
       "</div>\n",
       "<div class=\"s-post-summary--content\">\n",
       "<h3 class=\"s-post-summary--content-title\">\n",
       "<a class=\"s-link\" href=\"/questions/632537/inconveniente-en-la-creaci%c3%b3n-de-un-contenedor-para-phpmyadmin-mysql-en-docker\">Inconveniente en la creación de un contenedor para PhpMyAdmin (Mysql) en Docker usando PowerShell(X86):</a>\n",
       "</h3>\n",
       "<div class=\"s-post-summary--content-excerpt\">\n",
       "                Hola equipo deseo pedirles el favor con el siguiente inconveniente:\n",
       "Estoy creando un contenedor de PhpMyAdmin (Mysql) en PowerShell para que se ejecute en Docker, utilizando la siguiente instrucción:\n",
       "...\n",
       "            </div>\n",
       "<div class=\"s-post-summary--meta\">\n",
       "<div class=\"s-post-summary--meta-tags d-inline-block tags js-tags t-docker t-docker-machine\">\n",
       "<ul class=\"ml0 list-ls-none js-post-tag-list-wrapper d-inline\"><li class=\"d-inline mr4 js-post-tag-list-item\"><a aria-label='mostrar preguntas con la etiqueta \"docker\"' aria-labelledby=\"tag-docker-tooltip-container\" class=\"s-tag post-tag flex--item mt0 js-tagname-docker\" data-tag-menu-origin=\"Unknown\" href=\"/questions/tagged/docker\" rel=\"tag\" title='mostrar preguntas con la etiqueta \"docker\"'>docker</a></li><li class=\"d-inline mr4 js-post-tag-list-item\"><a aria-label='mostrar preguntas con la etiqueta \"docker-machine\"' aria-labelledby=\"tag-docker-machine-tooltip-container\" class=\"s-tag post-tag flex--item mt0 js-tagname-docker-machine\" data-tag-menu-origin=\"Unknown\" href=\"/questions/tagged/docker-machine\" rel=\"tag\" title='mostrar preguntas con la etiqueta \"docker-machine\"'>docker-machine</a></li></ul>\n",
       "</div>\n",
       "<div aria-live=\"polite\" class=\"s-user-card s-user-card__minimal\">\n",
       "<a class=\"s-avatar s-avatar__16 s-user-card--avatar\" data-user-id=\"431841\" href=\"/users/431841/mart%c3%adn-hern%c3%a1ndez\"> <div class=\"gravatar-wrapper-16\">\n",
       "<img alt=\"Avatar del usuario Martín Hernández\" class=\"s-avatar--image\" height=\"16\" src=\"https://www.gravatar.com/avatar/d07e2b4b482919fa79bee26ea4d22dbd?s=32&amp;d=identicon&amp;r=PG&amp;f=y&amp;so-version=2\" width=\"16\"/>\n",
       "</div>\n",
       "</a>\n",
       "<div class=\"s-user-card--info\">\n",
       "<div class=\"s-user-card--link d-flex gs4\">\n",
       "<a class=\"flex--item\" href=\"/users/431841/mart%c3%adn-hern%c3%a1ndez\">Martín Hernández</a>\n",
       "</div>\n",
       "<ul class=\"s-user-card--awards\">\n",
       "<li class=\"s-user-card--rep\"><span class=\"todo-no-class-here\" dir=\"ltr\" title=\"puntuación de reputación de \">67</span></li>\n",
       "</ul>\n",
       "</div>\n",
       "<time class=\"s-user-card--time\">formulada <span class=\"relativetime\" title=\"2025-08-29 20:31:19Z\">el 29 ago a las 20:31</span></time>\n",
       "</div>\n",
       "</div>\n",
       "</div>\n",
       "</div>\n",
       "<div class=\"s-post-summary js-post-summary\" data-post-id=\"632529\" data-post-type-id=\"1\" id=\"question-summary-632529\">\n",
       "<div class=\"s-post-summary--stats js-post-summary-stats\">\n",
       "<div class=\"s-post-summary--stats-item s-post-summary--stats-item__emphasized\" title=\"Puntuación de 0\">\n",
       "<span class=\"s-post-summary--stats-item-number\">0</span>\n",
       "<span class=\"s-post-summary--stats-item-unit\">votos</span>\n",
       "</div>\n",
       "<div class=\"s-post-summary--stats-item has-answers\" title=\"1 respuesta\">\n",
       "<span class=\"s-post-summary--stats-item-number\">1</span>\n",
       "<span class=\"s-post-summary--stats-item-unit\">respuesta</span>\n",
       "</div>\n",
       "<div class=\"s-post-summary--stats-item\" title=\"34 vistas\">\n",
       "<span class=\"s-post-summary--stats-item-number\">34</span>\n",
       "<span class=\"s-post-summary--stats-item-unit\">vistas</span>\n",
       "</div>\n",
       "</div>\n",
       "<div class=\"s-post-summary--content\">\n",
       "<h3 class=\"s-post-summary--content-title\">\n",
       "<a class=\"s-link\" href=\"/questions/632529/como-logro-crear-un-boton-dentro-de-una-tabla-html-que-me-muestre-un-dato-de-su\">¿Como logro crear un boton dentro de una tabla HTML que me muestre un dato de su fila en la consola?</a>\n",
       "</h3>\n",
       "<div class=\"s-post-summary--content-excerpt\">\n",
       "                En este programa logro hacer que la barra de busqueda pueda buscar los datos de la tabla en tiempo real, pero quiero que el boton (Si) que esta dentro de la tabla me consiga el dato de la curp de la ...\n",
       "            </div>\n",
       "<div class=\"s-post-summary--meta\">\n",
       "<div class=\"s-post-summary--meta-tags d-inline-block tags js-tags t-php t-html t-script t-botón t-html-tabla\">\n",
       "<ul class=\"ml0 list-ls-none js-post-tag-list-wrapper d-inline\"><li class=\"d-inline mr4 js-post-tag-list-item\"><a aria-label='mostrar preguntas con la etiqueta \"php\"' aria-labelledby=\"tag-php-tooltip-container\" class=\"s-tag post-tag flex--item mt0 js-tagname-php\" data-tag-menu-origin=\"Unknown\" href=\"/questions/tagged/php\" rel=\"tag\" title='mostrar preguntas con la etiqueta \"php\"'>php</a></li><li class=\"d-inline mr4 js-post-tag-list-item\"><a aria-label='mostrar preguntas con la etiqueta \"html\"' aria-labelledby=\"tag-html-tooltip-container\" class=\"s-tag post-tag flex--item mt0 js-tagname-html\" data-tag-menu-origin=\"Unknown\" href=\"/questions/tagged/html\" rel=\"tag\" title='mostrar preguntas con la etiqueta \"html\"'>html</a></li><li class=\"d-inline mr4 js-post-tag-list-item\"><a aria-label='mostrar preguntas con la etiqueta \"script\"' aria-labelledby=\"tag-script-tooltip-container\" class=\"s-tag post-tag flex--item mt0 js-tagname-script\" data-tag-menu-origin=\"Unknown\" href=\"/questions/tagged/script\" rel=\"tag\" title='mostrar preguntas con la etiqueta \"script\"'>script</a></li><li class=\"d-inline mr4 js-post-tag-list-item\"><a aria-label='mostrar preguntas con la etiqueta \"botón\"' aria-labelledby=\"tag-botón-tooltip-container\" class=\"s-tag post-tag flex--item mt0 js-tagname-botón\" data-tag-menu-origin=\"Unknown\" href=\"/questions/tagged/bot%c3%b3n\" rel=\"tag\" title='mostrar preguntas con la etiqueta \"botón\"'>botón</a></li><li class=\"d-inline mr4 js-post-tag-list-item\"><a aria-label='mostrar preguntas con la etiqueta \"html-tabla\"' aria-labelledby=\"tag-html-tabla-tooltip-container\" class=\"s-tag post-tag flex--item mt0 js-tagname-html-tabla\" data-tag-menu-origin=\"Unknown\" href=\"/questions/tagged/html-tabla\" rel=\"tag\" title='mostrar preguntas con la etiqueta \"html-tabla\"'>html-tabla</a></li></ul>\n",
       "</div>\n",
       "<div aria-live=\"polite\" class=\"s-user-card s-user-card__minimal\">\n",
       "<a class=\"s-avatar s-avatar__16 s-user-card--avatar\" data-user-id=\"475508\" href=\"/users/475508/user475508\"> <div class=\"gravatar-wrapper-16\">\n",
       "<img alt=\"Avatar del usuario user475508\" class=\"s-avatar--image\" height=\"16\" src=\"https://www.gravatar.com/avatar/a818d8658e8e83867ff0cff2564eb05f?s=32&amp;d=identicon&amp;r=PG&amp;f=y&amp;so-version=2\" width=\"16\"/>\n",
       "</div>\n",
       "</a>\n",
       "<div class=\"s-user-card--info\">\n",
       "<div class=\"s-user-card--link d-flex gs4\">\n",
       "<a class=\"flex--item\" href=\"/users/475508/user475508\">user475508</a>\n",
       "</div>\n",
       "<ul class=\"s-user-card--awards\">\n",
       "<li class=\"s-user-card--rep\"><span class=\"todo-no-class-here\" dir=\"ltr\" title=\"puntuación de reputación de \">1</span></li>\n",
       "</ul>\n",
       "</div>\n",
       "<time class=\"s-user-card--time\">formulada <span class=\"relativetime\" title=\"2025-08-29 01:41:35Z\">el 29 ago a las 1:41</span></time>\n",
       "</div>\n",
       "</div>\n",
       "</div>\n",
       "</div>\n",
       "</div>\n",
       "<br class=\"clear-both\"/>\n",
       "<div class=\"s-pagination site637 themed page-sizer float-right\">\n",
       "<a aria-current=\"true\" class=\"s-pagination--item is-selected\" href=\"/questions?tab=newest&amp;pagesize=15\" title=\"Show 15 items per page\">15</a>\n",
       "<a class=\"s-pagination--item\" href=\"/questions?tab=newest&amp;pagesize=30\" title=\"Show 30 items per page\">30</a>\n",
       "<a class=\"s-pagination--item\" href=\"/questions?tab=newest&amp;pagesize=50\" title=\"Show 50 items per page\">50</a>\n",
       "<span class=\"s-pagination--item s-pagination--item__clear\">por página</span>\n",
       "</div>\n",
       "<div class=\"s-pagination site637 themed pager float-left\">\n",
       "<div aria-current='\"page\"' class=\"s-pagination--item is-selected\">1</div>\n",
       "<a class=\"s-pagination--item js-pagination-item\" href=\"/questions?tab=newest&amp;page=2\" rel=\"\" title=\"Ir a la página 2\">2</a>\n",
       "<a class=\"s-pagination--item js-pagination-item\" href=\"/questions?tab=newest&amp;page=3\" rel=\"\" title=\"Ir a la página 3\">3</a>\n",
       "<a class=\"s-pagination--item js-pagination-item\" href=\"/questions?tab=newest&amp;page=4\" rel=\"\" title=\"Ir a la página 4\">4</a>\n",
       "<a class=\"s-pagination--item js-pagination-item\" href=\"/questions?tab=newest&amp;page=5\" rel=\"\" title=\"Ir a la página 5\">5</a>\n",
       "<div class=\"s-pagination--item s-pagination--item__clear\">…</div>\n",
       "<a class=\"s-pagination--item js-pagination-item\" href=\"/questions?tab=newest&amp;page=13149\" rel=\"\" title=\"Ir a la página 13149\">13149</a>\n",
       "<a class=\"s-pagination--item js-pagination-item\" href=\"/questions?tab=newest&amp;page=2\" rel=\"next\" title=\"Ir a la página 2\"> Siguiente</a></div>\n",
       "</div>\n",
       "<div aria-label=\"sidebar\" id=\"sidebar\" role=\"complementary\">\n",
       "<div class=\"s-sidebarwidget s-sidebarwidget__yellow s-anchors s-anchors__grayscale mb16\" data-tracker=\"cb=1\">\n",
       "<ul class=\"s-sidebarwidget--content s-sidebarwidget__items p0\">\n",
       "<li class=\"s-sidebarwidget--header\">\n",
       "                            Destacado en Meta\n",
       "                        </li>\n",
       "<li class=\"s-sidebarwidget--item d-flex px16\">\n",
       "<div class=\"flex--item1 fl-shrink0\">\n",
       "<div class=\"favicon favicon-stackexchangemeta\" title=\"Meta Stack Exchange\"></div> </div>\n",
       "<div class=\"flex--item wmn0 ow-break-word\">\n",
       "<a class=\"js-gps-track\" data-ga='[\"community bulletin board\",\"Destacado en Meta\",\"https://meta.stackexchange.com/questions/412384/community-asks-sprint-announcement-september-2025\",null,null]' data-gps-track=\"communitybulletin.click({ priority: 3, position: 0, location: questionspage })\" href=\"https://meta.stackexchange.com/questions/412384/community-asks-sprint-announcement-september-2025\">Community Asks Sprint Announcement - September 2025</a>\n",
       "</div>\n",
       "</li>\n",
       "</ul>\n",
       "</div>\n",
       "<div class=\"js-sidebar-zone\">\n",
       "<style>\n",
       "</style>\n",
       "<div class=\"js-zone-container zone-container-sidebar\">\n",
       "<div class=\"everyonelovesstackoverflow everyoneloves__top-sidebar\" id=\"dfp-tsb\"></div>\n",
       "<div class=\"js-report-ad-button-container\" style=\"width: 300px\"></div>\n",
       "</div>\n",
       "</div>\n",
       "<div class=\"module tex2jax_ignore\" id=\"hot-network-questions\">\n",
       "<h4>\n",
       "<a class=\"js-gps-track s-link s-link__inherit\" data-gps-track=\"posts_hot_network.click({ item_type:1, location:9 })\" href=\"https://stackexchange.com/questions?tab=hot\">\n",
       "            Preguntas populares en la red\n",
       "        </a>\n",
       "</h4>\n",
       "<ul>\n",
       "<li>\n",
       "<div class=\"favicon favicon-worldbuilding\" title=\"Worldbuilding Stack Exchange\"></div><a class=\"js-gps-track question-hyperlink mb0\" data-gps-track=\"site.switch({ item_type:9, target_site:579 }); posts_hot_network.click({ item_type:2, location:9 })\" href=\"https://worldbuilding.stackexchange.com/questions/268920/would-this-weapon-be-good-for-catching-melee-weapons\">\n",
       "                    Would this weapon be good for catching melee weapons?\n",
       "                </a>\n",
       "</li>\n",
       "<li>\n",
       "<div class=\"favicon favicon-rpg\" title=\"Role-playing Games Stack Exchange\"></div><a class=\"js-gps-track question-hyperlink mb0\" data-gps-track=\"site.switch({ item_type:9, target_site:122 }); posts_hot_network.click({ item_type:2, location:9 })\" href=\"https://rpg.stackexchange.com/questions/216454/which-vampiric-power-is-being-referenced-in-the-following-conversation\">\n",
       "                    Which vampiric power is being referenced in the following conversation?\n",
       "                </a>\n",
       "</li>\n",
       "<li>\n",
       "<div class=\"favicon favicon-ell\" title=\"English Language Learners Stack Exchange\"></div><a class=\"js-gps-track question-hyperlink mb0\" data-gps-track=\"site.switch({ item_type:9, target_site:481 }); posts_hot_network.click({ item_type:2, location:9 })\" href=\"https://ell.stackexchange.com/questions/368091/i-thought-well-ill-take-that-for-my-mum-because-she-wont-have-eaten-vs-ha\">\n",
       "                    I thought, Well, I'll take that for my mum because she \"won't have eaten\" vs \"hasn't eaten\"\n",
       "                </a>\n",
       "</li>\n",
       "<li>\n",
       "<div class=\"favicon favicon-rpg\" title=\"Role-playing Games Stack Exchange\"></div><a class=\"js-gps-track question-hyperlink mb0\" data-gps-track=\"site.switch({ item_type:9, target_site:122 }); posts_hot_network.click({ item_type:2, location:9 })\" href=\"https://rpg.stackexchange.com/questions/216450/does-innate-sorcery-grant-advantage-to-true-strike\">\n",
       "                    Does Innate Sorcery grant Advantage to True Strike?\n",
       "                </a>\n",
       "</li>\n",
       "<li>\n",
       "<div class=\"favicon favicon-tex\" title=\"TeX - LaTeX Stack Exchange\"></div><a class=\"js-gps-track question-hyperlink mb0\" data-gps-track=\"site.switch({ item_type:9, target_site:85 }); posts_hot_network.click({ item_type:2, location:9 })\" href=\"https://tex.stackexchange.com/questions/750458/extra-space-after-left-right-workaround-with-vphantom-in-latex\">\n",
       "                    Extra space after \\left…\\right workaround with \\vphantom in LaTeX\n",
       "                </a>\n",
       "</li>\n",
       "<li>\n",
       "<div class=\"favicon favicon-mechanics\" title=\"Motor Vehicle Maintenance &amp; Repair Stack Exchange\"></div><a class=\"js-gps-track question-hyperlink mb0\" data-gps-track=\"site.switch({ item_type:9, target_site:224 }); posts_hot_network.click({ item_type:2, location:9 })\" href=\"https://mechanics.stackexchange.com/questions/99435/do-these-ground-connections-look-ok\">\n",
       "                    Do these ground connections look ok?\n",
       "                </a>\n",
       "</li>\n",
       "<li>\n",
       "<div class=\"favicon favicon-law\" title=\"Law Stack Exchange\"></div><a class=\"js-gps-track question-hyperlink mb0\" data-gps-track=\"site.switch({ item_type:9, target_site:617 }); posts_hot_network.click({ item_type:2, location:9 })\" href=\"https://law.stackexchange.com/questions/110794/comparative-law-does-a-lease-transfer-all-benefits-at-once-or-gradually\">\n",
       "                    Comparative law: Does a lease transfer all benefits at once or gradually?\n",
       "                </a>\n",
       "</li>\n",
       "<li>\n",
       "<div class=\"favicon favicon-codegolf\" title=\"Code Golf Stack Exchange\"></div><a class=\"js-gps-track question-hyperlink mb0\" data-gps-track=\"site.switch({ item_type:9, target_site:200 }); posts_hot_network.click({ item_type:2, location:9 })\" href=\"https://codegolf.stackexchange.com/questions/283412/add-y-to-x-to-get-a-palindrome\">\n",
       "                    Add Y to X to get a palindrome\n",
       "                </a>\n",
       "</li>\n",
       "<li>\n",
       "<div class=\"favicon favicon-cooking\" title=\"Seasoned Advice\"></div><a class=\"js-gps-track question-hyperlink mb0\" data-gps-track=\"site.switch({ item_type:9, target_site:49 }); posts_hot_network.click({ item_type:2, location:9 })\" href=\"https://cooking.stackexchange.com/questions/133033/does-the-water-content-inside-food-regulate-the-cooking-process\">\n",
       "                    Does the water content inside food regulate the cooking process?\n",
       "                </a>\n",
       "</li>\n",
       "<li>\n",
       "<div class=\"favicon favicon-mathoverflow\" title=\"MathOverflow\"></div><a class=\"js-gps-track question-hyperlink mb0\" data-gps-track=\"site.switch({ item_type:9, target_site:504 }); posts_hot_network.click({ item_type:2, location:9 })\" href=\"https://mathoverflow.net/questions/499873/interesting-examples-of-non-isomorphic-groups-where-the-probability-distribution\">\n",
       "                    Interesting examples of non-isomorphic groups where the probability distribution of the number of square roots of elements is the same\n",
       "                </a>\n",
       "</li>\n",
       "<li>\n",
       "<div class=\"favicon favicon-unix\" title=\"Unix &amp; Linux Stack Exchange\"></div><a class=\"js-gps-track question-hyperlink mb0\" data-gps-track=\"site.switch({ item_type:9, target_site:106 }); posts_hot_network.click({ item_type:2, location:9 })\" href=\"https://unix.stackexchange.com/questions/799367/extract-email-addresses-from-line-with-multiple-email-addresses-per-line\">\n",
       "                    Extract email addresses from line, with multiple email addresses per line\n",
       "                </a>\n",
       "</li>\n",
       "<li>\n",
       "<div class=\"favicon favicon-math\" title=\"Mathematics Stack Exchange\"></div><a class=\"js-gps-track question-hyperlink mb0\" data-gps-track=\"site.switch({ item_type:9, target_site:69 }); posts_hot_network.click({ item_type:2, location:9 })\" href=\"https://math.stackexchange.com/questions/5093795/conjecture-possibly-related-to-hardy-littlewood-ii\">\n",
       "                    Conjecture possibly related to Hardy-Littlewood II\n",
       "                </a>\n",
       "</li>\n",
       "<li class=\"dno js-hidden\">\n",
       "<div class=\"favicon favicon-english\" title=\"English Language &amp; Usage Stack Exchange\"></div><a class=\"js-gps-track question-hyperlink mb0\" data-gps-track=\"site.switch({ item_type:9, target_site:97 }); posts_hot_network.click({ item_type:2, location:9 })\" href=\"https://english.stackexchange.com/questions/632958/how-to-write-the-positive-sign-is-replaced-by-negative-sign-and-negative-sign-b\">\n",
       "                    How to write \"the positive sign is replaced by negative sign and negative sign by positive sign\"?\n",
       "                </a>\n",
       "</li>\n",
       "<li class=\"dno js-hidden\">\n",
       "<div class=\"favicon favicon-christianity\" title=\"Christianity Stack Exchange\"></div><a class=\"js-gps-track question-hyperlink mb0\" data-gps-track=\"site.switch({ item_type:9, target_site:304 }); posts_hot_network.click({ item_type:2, location:9 })\" href=\"https://christianity.stackexchange.com/questions/108631/what-are-the-biblical-arguments-against-the-idea-of-a-post-mortem-opportunity-fo\">\n",
       "                    What are the biblical arguments against the idea of a post-mortem opportunity for salvation?\n",
       "                </a>\n",
       "</li>\n",
       "<li class=\"dno js-hidden\">\n",
       "<div class=\"favicon favicon-puzzling\" title=\"Puzzling Stack Exchange\"></div><a class=\"js-gps-track question-hyperlink mb0\" data-gps-track=\"site.switch({ item_type:9, target_site:559 }); posts_hot_network.click({ item_type:2, location:9 })\" href=\"https://puzzling.stackexchange.com/questions/133087/knowledge-is-free-but-time-costs-money\">\n",
       "                    Knowledge is free, but time costs money?\n",
       "                </a>\n",
       "</li>\n",
       "<li class=\"dno js-hidden\">\n",
       "<div class=\"favicon favicon-dba\" title=\"Database Administrators Stack Exchange\"></div><a class=\"js-gps-track question-hyperlink mb0\" data-gps-track=\"site.switch({ item_type:9, target_site:182 }); posts_hot_network.click({ item_type:2, location:9 })\" href=\"https://dba.stackexchange.com/questions/347659/meaning-of-suffix-on-sql-server-columns\">\n",
       "                    Meaning of '#' suffix on SQL Server columns\n",
       "                </a>\n",
       "</li>\n",
       "<li class=\"dno js-hidden\">\n",
       "<div class=\"favicon favicon-medicalsciences\" title=\"Medical Sciences Stack Exchange\"></div><a class=\"js-gps-track question-hyperlink mb0\" data-gps-track=\"site.switch({ item_type:9, target_site:607 }); posts_hot_network.click({ item_type:2, location:9 })\" href=\"https://medicalsciences.stackexchange.com/questions/34711/is-a-condition-termed-a-disease-only-when-it-has-a-known-cause\">\n",
       "                    Is a condition termed a \"disease\" only when it has a known cause?\n",
       "                </a>\n",
       "</li>\n",
       "<li class=\"dno js-hidden\">\n",
       "<div class=\"favicon favicon-math\" title=\"Mathematics Stack Exchange\"></div><a class=\"js-gps-track question-hyperlink mb0\" data-gps-track=\"site.switch({ item_type:9, target_site:69 }); posts_hot_network.click({ item_type:2, location:9 })\" href=\"https://math.stackexchange.com/questions/5093781/the-sum-of-an-irreducible-representation-over-a-subset-of-a-finite-group\">\n",
       "                    The sum of an irreducible representation over a subset of a finite group.\n",
       "                </a>\n",
       "</li>\n",
       "<li class=\"dno js-hidden\">\n",
       "<div class=\"favicon favicon-math\" title=\"Mathematics Stack Exchange\"></div><a class=\"js-gps-track question-hyperlink mb0\" data-gps-track=\"site.switch({ item_type:9, target_site:69 }); posts_hot_network.click({ item_type:2, location:9 })\" href=\"https://math.stackexchange.com/questions/5093766/how-to-show-that-the-complement-of-an-archimedean-spiral-is-open-and-connected\">\n",
       "                    How to show that the complement of an Archimedean spiral is open and connected?\n",
       "                </a>\n",
       "</li>\n",
       "<li class=\"dno js-hidden\">\n",
       "<div class=\"favicon favicon-english\" title=\"English Language &amp; Usage Stack Exchange\"></div><a class=\"js-gps-track question-hyperlink mb0\" data-gps-track=\"site.switch({ item_type:9, target_site:97 }); posts_hot_network.click({ item_type:2, location:9 })\" href=\"https://english.stackexchange.com/questions/632983/drop-as-arrival\">\n",
       "                    \"drop\" as arrival\n",
       "                </a>\n",
       "</li>\n",
       "<li class=\"dno js-hidden\">\n",
       "<div class=\"favicon favicon-stats\" title=\"Cross Validated\"></div><a class=\"js-gps-track question-hyperlink mb0\" data-gps-track=\"site.switch({ item_type:9, target_site:65 }); posts_hot_network.click({ item_type:2, location:9 })\" href=\"https://stats.stackexchange.com/questions/669915/what-is-a-sub-gaussian-distribution\">\n",
       "                    What is a sub-Gaussian distribution?\n",
       "                </a>\n",
       "</li>\n",
       "<li class=\"dno js-hidden\">\n",
       "<div class=\"favicon favicon-bicycles\" title=\"Bicycles Stack Exchange\"></div><a class=\"js-gps-track question-hyperlink mb0\" data-gps-track=\"site.switch({ item_type:9, target_site:126 }); posts_hot_network.click({ item_type:2, location:9 })\" href=\"https://bicycles.stackexchange.com/questions/97401/what-is-an-appropriate-automatic-tool-for-bolts\">\n",
       "                    What is an appropriate automatic tool for bolts?\n",
       "                </a>\n",
       "</li>\n",
       "<li class=\"dno js-hidden\">\n",
       "<div class=\"favicon favicon-superuser\" title=\"Super User\"></div><a class=\"js-gps-track question-hyperlink mb0\" data-gps-track=\"site.switch({ item_type:9, target_site:3 }); posts_hot_network.click({ item_type:2, location:9 })\" href=\"https://superuser.com/questions/1922559/in-utf-8-why-do-two-byte-codes-range-from-u0080-to-u07ff-instead-of-u0080-to\">\n",
       "                    In UTF-8, why do two-byte codes range from U+0080 to U+07FF instead of U+0080 to U+087F\n",
       "                </a>\n",
       "</li>\n",
       "<li class=\"dno js-hidden\">\n",
       "<div class=\"favicon favicon-proofassistants\" title=\"Proof Assistants Stack Exchange\"></div><a class=\"js-gps-track question-hyperlink mb0\" data-gps-track=\"site.switch({ item_type:9, target_site:708 }); posts_hot_network.click({ item_type:2, location:9 })\" href=\"https://proofassistants.stackexchange.com/questions/5227/how-to-prove-that-natural-number-less-than-is-irrelevant\">\n",
       "                    How to prove that natural number less than is irrelevant?\n",
       "                </a>\n",
       "</li>\n",
       "</ul>\n",
       "<a class=\"show-more js-show-more js-gps-track\" data-gps-track=\"posts_hot_network.click({ item_type:3, location:9 })\" href=\"#\">\n",
       "            más preguntas populares\n",
       "        </a>\n",
       "</div>\n",
       "</div>\n",
       "</div>\n",
       "</div>\n",
       "<script>\n",
       "        window.dataLayer = window.dataLayer || [];\n",
       "        function gtag() { dataLayer.push(arguments); }\n",
       "\n",
       "        gtag('consent', 'default', {\n",
       "            'ad_storage': 'denied',\n",
       "            'analytics_storage': 'denied',\n",
       "            'ad_user_data': 'denied',\n",
       "            'ad_personalization': 'denied'\n",
       "        });\n",
       "    </script>\n",
       "<!-- Google tag (gtag.js) -->\n",
       "<script async=\"\" src=\"https://www.googletagmanager.com/gtag/js?id=G-S812YQPLT2\"></script>\n",
       "<script>\n",
       "                window.dataLayer = window.dataLayer || [];\n",
       "                function gtag() { dataLayer.push(arguments); }\n",
       "            </script>\n",
       "<script>\n",
       "            StackExchange.ready(function() {\n",
       "\n",
       "                var ga3Settings = {\n",
       "                    autoLink: [\"stackoverflow.blog\",\"info.stackoverflowsolutions.com\",\"stackoverflowsolutions.com\"],\n",
       "                    sendTitles: true,\n",
       "                    tracker: window.ga,\n",
       "                    trackingCodes: [\n",
       "                        'UA-108242619-5'\n",
       "                    ],\n",
       "                    checkDimension: 'dimension42'\n",
       "                };\n",
       "\n",
       "                var customGA4Dimensions = {};\n",
       "\n",
       "\n",
       "                customGA4Dimensions[\"requestid\"] = \"e1bfdd54-c079-4eaf-bfd4-829e09e3fe5b\";\n",
       "\n",
       "                    customGA4Dimensions[\"routename\"] = \"Questions/List\";\n",
       "\n",
       "\n",
       "\n",
       "\n",
       "\n",
       "\n",
       "                var ga4Settings = {\n",
       "                    tracker: gtag,\n",
       "                    trackingCodes: [\n",
       "                        'G-S812YQPLT2'\n",
       "                    ],\n",
       "                    consentsToPerformanceCookies: \"denied\",\n",
       "                    consentsToTargetingCookies: \"denied\",\n",
       "                    eventParameters: customGA4Dimensions,\n",
       "                    checkForAdBlock: true,\n",
       "                    sendTitles: true,\n",
       "                    trackClicks: false,\n",
       "                };\n",
       "\n",
       "                StackExchange.ga.init({ GA3: ga3Settings, GA4: ga4Settings });\n",
       "\n",
       "\n",
       "\n",
       "\n",
       "                StackExchange.ga.setDimension('dimension3', 'Questions/List');\n",
       "\n",
       "\n",
       "                StackExchange.ga.setDimension('dimension7', \"1756870617.441522304\");\n",
       "\n",
       "                StackExchange.ga.trackPageView();\n",
       "            });\n",
       "        </script>\n",
       "<script charset=\"UTF-8\" data-document-language=\"true\" data-domain-script=\"9559b3a0-3b4d-4c4d-aee3-7b35aa801b9d\" src=\"https://cdn.cookielaw.org/scripttemplates/otSDKStub.js\"></script>\n",
       "<script defer=\"\" src=\"https://cdn.sstatic.net/Js/sprinkles/cookie-consent.es.js?v=7ee6963139c5\"></script>\n",
       "<script type=\"text/javascript\">\n",
       "    var cam = cam || { opt: {} };\n",
       "    var clcGamLoaderOptions = cam || { opt: {} };\n",
       "    var opt = clcGamLoaderOptions.opt;\n",
       "\n",
       "    opt.refresh = !1;\n",
       "    opt.refreshInterval = 30;\n",
       "    opt.sf = !1;\n",
       "    opt.hb = !1;\n",
       "    opt.ll = !0;\n",
       "    opt.tlb_position = 0;\n",
       "    opt.personalization_consent = !1;\n",
       "    opt.targeting_consent = !1;\n",
       "    opt.performance_consent = !1;\n",
       "\n",
       "    opt.targeting = {Registered:['false'],Reputation:['new'],cf_bot_score:'1'};\n",
       "    opt.adReportEnabled = !0;\n",
       "    opt.adReportUrl = '/ads/report-ad';\n",
       "    opt.adReportText = 'Reportar este anuncio';\n",
       "\topt.adReportFileTypeErrorMessage = 'Please select a PNG or JPG file.';\n",
       "    opt.adReportFileSizeErrorMessage = 'The file must be under 2 MiB.';\n",
       "\topt.adReportErrorText = 'Error uploading ad report.';\n",
       "\topt.adReportThanksText = 'Gracias por tus comentarios. Revisaremos esto contra nuestro código de conducta y tomaremos medidas si es necesario.';\n",
       "    opt.adReportLoginExpiredMessage = 'Your login session has expired, please login and try again.';\n",
       "    opt.adReportLoginErrorMessage = 'An error occurred when loading the report form - please try again';\n",
       "\topt.adReportModalClass = 'js-ad-report';\n",
       "    opt.countryCode = 'MX';\n",
       "    opt.qualtricsSurveyData = '{\"isRegistered\":\"False\",\"repBucket\":\"new\",\"referrer\":\"https%3a%2f%2fes.stackoverflow.com%2fquestions\",\"accountAge\":\"0\"}';\n",
       "\n",
       "    opt.perRequestGuid = 'e1bfdd54-c079-4eaf-bfd4-829e09e3fe5b';\n",
       "    opt.responseHash = 'S7IlS7S5DbVOPFogDNr4Xg0xteut7lzrIUWr&#x2B;huj5MI=';\n",
       "\n",
       "\n",
       "    opt.targeting.TargetingConsent = ['False_Passive'];\n",
       "    opt.allowAccountTargetingForThisRequest = !1;\n",
       "\n",
       "    const urlParams = new URLSearchParams(window.location.search);\n",
       "    if (urlParams.has('dfptestads')) {\n",
       "        const dfptestads = urlParams.get('dfptestads');\n",
       "        opt.targeting.DfpTestAds = dfptestads;\n",
       "    }\n",
       "</script>\n",
       "<script>;(()=>{\"use strict\";var __webpack_modules__={23:(e,t,s)=>{s.d(t,{Z7:()=>c,eq:()=>l,kG:()=>d});const n=\"248424177\",o=(a=location.pathname,/^\\/tags\\//.test(a)||/^\\/questions\\/tagged\\//.test(a)?\"tag-pages\":/^\\/discussions\\//.test(a)||/^\\/beta\\/discussions/.test(a)?\"discussions\":/^\\/$/.test(a)||/^\\/home/.test(a)?\"home-page\":/^\\/jobs$/.test(a)||/^\\/jobs\\//.test(a)?\"jobs\":\"question-pages\");var a;let i=location.hostname;const r={slots:{lb:[[728,90]],mlb:[[728,90]],smlb:[[728,90]],bmlb:[[728,90]],sb:e=>\"dfp-tsb\"===e?[[300,250],[300,600]]:[[300,250]],\"tag-sponsorship\":[[730,135]],\"mobile-below-question\":[[320,50],[300,250]],msb:[[300,250],[300,600]],\"talent-conversion-tracking\":[[1,1]],\"site-sponsorship\":[[230,60]]},ids:{\"dfp-tlb\":\"lb\",\"dfp-mlb\":\"mlb\",\"dfp-smlb\":\"smlb\",\"dfp-bmlb\":\"bmlb\",\"dfp-tsb\":\"sb\",\"dfp-isb\":\"sb\",\"dfp-tag\":\"tag-sponsorship\",\"dfp-msb\":\"msb\",\"dfp-sspon\":\"site-sponsorship\",\"dfp-m-aq\":\"mobile-below-question\"},idsToExcludeFromAdReports:[\"dfp-sspon\"]};function d(){return Object.keys(r.ids)}function l(e){return r.idsToExcludeFromAdReports.indexOf(e)<0}function c(e,t){var s=e.split(\"_\")[0];const a=r.ids[s];let d=r.slots[a];return\"function\"==typeof d&&(d=d(s)),{path:`/${n}/${t||i}/${a}/${o}`,sizes:d,zone:a}}},865:(e,t,s)=>{function n(e){return\"string\"==typeof e?document.getElementById(e):e}function o(e){return!!(e=n(e))&&\"none\"===getComputedStyle(e).display}function a(e){return!o(e)}function i(e){return!!e}function r(e){return/^\\s*$/.test(n(e).innerHTML)}function d(e){const{style:t}=e;t.height=t.maxHeight=t.minHeight=\"auto\",t.display=\"none\"}function l(e){const{style:t}=e;t.height=t.maxHeight=t.minHeight=\"auto\",t.display=\"none\",[].forEach.call(e.children,l)}function c(e){const{style:t}=e;t.height=t.maxHeight=t.minHeight=\"auto\",t.removeProperty(\"display\")}function g(e){const t=document.createElement(\"script\");t.src=e,document.body.appendChild(t)}function p(e){return s=e,(t=[]).push=function(e){return s(),delete this.push,this.push(e)},t;var t,s}function h(e){let t=\"function\"==typeof HTMLTemplateElement;var s=document.createElement(t?\"template\":\"div\");return e=e.trim(),s.innerHTML=e,t?s.content.firstChild:s.firstChild}s.d(t,{$Z:()=>c,Bv:()=>h,Gx:()=>g,Nj:()=>n,QZ:()=>p,cf:()=>d,pn:()=>a,wo:()=>l,xb:()=>r,xj:()=>o,yb:()=>i})},763:(__unused_webpack_module,__webpack_exports__,__webpack_require__)=>{__webpack_require__.d(__webpack_exports__,{t:()=>AdReports});var _common_helper__WEBPACK_IMPORTED_MODULE_2__=__webpack_require__(865),_console__WEBPACK_IMPORTED_MODULE_1__=__webpack_require__(276),_ad_units__WEBPACK_IMPORTED_MODULE_0__=__webpack_require__(23);class AdReports{constructor(e,t){if(this.googletag=e,this.cam=t,this.allowedFileTypes=[\"image/png\",\"image/jpg\",\"image/jpeg\"],this.ignoreValidation=!1,_console__WEBPACK_IMPORTED_MODULE_1__.cM(\"Ad reporting init\"),this.cam=t,this.callOnButtonClick=e=>this.onButtonClick(e),this.googletag.pubads().addEventListener(\"slotRenderEnded\",e=>this.handleSlotRendered(e)),Array.isArray(t.slotsRenderedEvents)){_console__WEBPACK_IMPORTED_MODULE_1__.cM(\"Adding report button to \"+t.slotsRenderedEvents.length+\" events that have transpired\");for(var s=0;s<t.slotsRenderedEvents.length;s++)this.handleSlotRendered(t.slotsRenderedEvents[s])}}handleSlotRendered(e){if(e&&e.slot&&!e.isEmpty&&(e.creativeId||e.lineItemId||!e.isEmpty)){var t=e.slot.getSlotElementId();if(t){var s=document.getElementById(t);if(s)if((0,_ad_units__WEBPACK_IMPORTED_MODULE_0__.eq)(t)){var n=s?.closest(\".js-zone-container\")?.querySelector(\".js-report-ad-button-container\");n?(n.innerHTML=\"\",n.append(this.createButton(e)),n.style.height=\"24px\",_console__WEBPACK_IMPORTED_MODULE_1__.cM(\"Added report button to the bottom of \"+t)):_console__WEBPACK_IMPORTED_MODULE_1__.cM(\"Ad report button not found, may be intentional, element: \"+t)}else _console__WEBPACK_IMPORTED_MODULE_1__.cM(\"Not adding report button to the bottom of \"+t+\": shouldHaveReportButton = false\");else _console__WEBPACK_IMPORTED_MODULE_1__.cM(\"Not adding report button to the bottom of \"+t+\": resolved invalid adUnit element\")}else _console__WEBPACK_IMPORTED_MODULE_1__.cM(\"Not adding report button to the bottom of element: invalid adUnitElementId\")}else _console__WEBPACK_IMPORTED_MODULE_1__.cM(\"Not adding report button to the bottom of element: invalid SlotRenderEndedEvent\")}async onButtonClick(e){e.preventDefault();let t=e.target;const s=t.dataset.modalUrl,n=t.dataset.googleEventData;return await this.loadModal(s,t,n),!1}createButton(e){let t=document.createElement(\"button\");var s=JSON.stringify(e);return t.dataset.googleEventData=s,t.dataset.modalUrl=this.cam.opt.adReportUrl,t.dataset.adUnit=e.slot.getSlotElementId(),t.classList.add(\"js-report-ad\",\"s-btn\",\"s-btn__link\",\"fs-fine\",\"mt2\",\"float-right\"),t.append(document.createTextNode(this.cam.opt.adReportText)),t.removeEventListener(\"click\",this.callOnButtonClick),t.addEventListener(\"click\",this.callOnButtonClick),t}async loadModal(url,$link,googleEventData){try{await window.StackExchange.helpers.loadModal(url,{returnElements:window.$($link)}),this.initForm(googleEventData)}catch(e){var message=\"\",response=e.responseText?eval(`(${e.responseText})`):null;message=response&&response.isLoggedOut?this.cam.opt.adReportLoginExpiredMessage:this.cam.opt.adReportLoginErrorMessage,window.StackExchange.helpers.showToast(message,{type:\"danger\"})}}removeModal(){window.StackExchange.helpers.closePopups(document.querySelectorAll(\".\"+this.cam.opt.adReportModalClass),\"dismiss\")}initForm(e,t=!1){this.ignoreValidation=t,this.$form=document.querySelector(\".js-ad-report-form\"),this.$googleEventData=this.$form.querySelector(\".js-json-data\"),this.$adReportReasons=this.$form.querySelectorAll(\".js-ad-report-reason\"),this.$adReportReasonOther=this.$form.querySelector(\".js-ad-report-reason-other\"),this.$fileUploaderInput=this.$form.querySelector(\".js-file-uploader-input\"),this.$imageUploader=this.$form.querySelector(\".js-image-uploader\"),this.$clearImageUpload=this.$form.querySelector(\".js-clear-image-upload\"),this.$imageUploaderText=this.$form.querySelector(\".js-image-uploader-text\"),this.$imageUploaderPreview=this.$form.querySelector(\".js-image-uploader-preview\"),this.$fileErrorMessage=this.$form.querySelector(\".js-file-error\");const s=this.$form.querySelector(\".js-drag-drop-enabled\"),n=this.$form.querySelector(\".js-drag-drop-disabled\");this.$googleEventData.value=e,this.$adReportReasons.forEach((e,t)=>e.addEventListener(\"change\",e=>{this.$adReportReasonOther.classList.toggle(\"d-none\",\"3\"!==e.target.value)})),this.$fileUploaderInput.addEventListener(\"change\",()=>{this.validateFileInput()&&this.updateImagePreview(this.$fileUploaderInput.files)}),this.$clearImageUpload.addEventListener(\"click\",e=>{e.preventDefault(),this.clearImageUpload()});try{this.$fileUploaderInput[0].value=\"\",this.$imageUploader.addEventListener(\"dragenter dragover dragleave drop\",this.preventDefaults),this.$imageUploader.addEventListener(\"dragenter dragover\",this.handleDragStart),this.$imageUploader.addEventListener(\"dragleave drop\",this.handleDragEnd),this.$imageUploader.addEventListener(\"drop\",this.handleDrop)}catch(e){s.classList.add(\"d-none\"),n.classList.remove(\"d-none\")}this.$form.removeEventListener(\"\",this.handleDragEnd),this.$form.addEventListener(\"submit\",async e=>(e.preventDefault(),this.submitForm(),!1))}clearImageUpload(){this.$fileUploaderInput.value=\"\",this.$imageUploaderPreview.setAttribute(\"src\",\"\"),this.$imageUploaderPreview.classList.add(\"d-none\"),this.$clearImageUpload.classList.add(\"d-none\"),this.$imageUploaderText.classList.remove(\"d-none\"),this.$imageUploader.classList.add(\"p16\",\"ba\",\"bas-dashed\",\"bc-black-100\")}preventDefaults(e){e.preventDefault(),e.stopPropagation()}handleDragStart(e){this.$imageUploader.classList.remove(\"bas-dashed\"),this.$imageUploader.classList.add(\"bas-solid\",\"bc-black-100\")}handleDragEnd(e){this.$imageUploader.classList.remove(\"bas-solid\",\"bc-black-100\"),this.$imageUploader.classList.add(\"bas-dashed\")}handleDrop(e){var t=e.originalEvent.dataTransfer.files;FileReader&&t&&1===t.length&&(this.$fileUploaderInput.files=t,this.validateFileInput()&&this.updateImagePreview(t))}setError(e){this.$fileErrorMessage.parentElement.classList.toggle(\"has-error\",e)}updateImagePreview(e){this.$imageUploader.classList.remove(\"p16\",\"ba\",\"bas-dashed\",\"bc-black-100\"),this.$clearImageUpload.classList.remove(\"d-none\"),this.$imageUploaderText.classList.add(\"d-none\");var t=new FileReader;t.onload=e=>{null!=e.target&&(this.$imageUploaderPreview.setAttribute(\"src\",e.target.result),this.$imageUploaderPreview.classList.remove(\"d-none\"))},t.readAsDataURL(e[0])}validateFileInput(){if(this.ignoreValidation)return!0;const e=this.cam.opt.adReportFileTypeErrorMessage,t=this.cam.opt.adReportFileSizeErrorMessage;if(null==this.$fileUploaderInput.files)return!1;var s=this.$fileUploaderInput.files[0];return null==s?(this.setError(!0),!1):this.allowedFileTypes.indexOf(s.type)<0?(this.$fileErrorMessage.textContent=e,this.$fileErrorMessage.classList.remove(\"d-none\"),this.setError(!0),!1):s.size>2097152?(this.$fileErrorMessage.textContent=t,this.$fileErrorMessage.classList.remove(\"d-none\"),this.setError(!0),!1):(this.$fileErrorMessage.classList.add(\"d-none\"),this.setError(!1),!0)}async gatherDiagnosticInfo(){return{BrowserVersion:await this.getBrowserVersion()}}getElementSource(e){return e.outerHTML}getNestedIFrameElement(e){var t=e.querySelector(\"iframe\");return t.contentDocument?t.contentDocument.documentElement:t.contentWindow.document.documentElement}async getBrowserVersion(){return await navigator.userAgentData.getHighEntropyValues([\"fullVersionList\"]).then(e=>JSON.stringify(e.fullVersionList))}async submitForm(){if(!this.validateFileInput())return!1;this.$form.querySelector(\"[type=submit]\").setAttribute(\"disabled\",\"true\");var e=JSON.parse(this.$googleEventData.value||\"{}\");e.Reason=parseInt(this.$form.querySelector(\".js-ad-report-reason:checked\").value,10),e.Description=this.$adReportReasonOther.value,this.$googleEventData.value=JSON.stringify(e);var t=new FormData(this.$form);if(\"1\"===t.get(\"shareDiagnosticInfo\")){var s=await this.gatherDiagnosticInfo();Object.keys(s).forEach(e=>t.append(e,s[e]))}try{const e=await window.fetch(this.$form.getAttribute(\"action\"),{method:this.$form.getAttribute(\"method\"),body:t,cache:\"no-cache\"}),s=e.headers.get(\"content-type\")||\"\",o=await e.text();if(!e.ok)throw new Error(\"response not valid\");if(0===s.indexOf(\"text/html\")){var n=(0,_common_helper__WEBPACK_IMPORTED_MODULE_2__.Bv)(o);const e=n?n.querySelector(\".js-modal-content\"):null;if(_console__WEBPACK_IMPORTED_MODULE_1__.cM(\"$popupContent\"),_console__WEBPACK_IMPORTED_MODULE_1__.cM(e),!e)throw new Error(`Could not find .js-modal-content in response from ${this.$form.getAttribute(\"action\")}`);document.querySelector(\".js-modal-content\").replaceWith(e)}else window.StackExchange.helpers.showToast(this.cam.opt.adReportThanksText,{type:\"success\"}),this.removeModal()}catch(e){window.StackExchange.helpers.showToast(this.cam.opt.adReportErrorText,{type:\"danger\"})}finally{let e=this.$form.querySelector(\"[type=submit]\");e&&e.removeAttribute(\"disabled\")}}}},276:(e,t,s)=>{function n(...e){}function o(...e){}s.d(t,{cM:()=>n,vU:()=>o})}},__webpack_module_cache__={};function __webpack_require__(e){var t=__webpack_module_cache__[e];if(void 0!==t)return t.exports;var s=__webpack_module_cache__[e]={exports:{}};return __webpack_modules__[e](s,s.exports,__webpack_require__),s.exports}__webpack_require__.d=(e,t)=>{for(var s in t)__webpack_require__.o(t,s)&&!__webpack_require__.o(e,s)&&Object.defineProperty(e,s,{enumerable:!0,get:t[s]})},__webpack_require__.o=(e,t)=>Object.prototype.hasOwnProperty.call(e,t);var __webpack_exports__={};(()=>{var e=__webpack_require__(276),t=(e=>(e[e.Above=0]=\"Above\",e[e.Below=1]=\"Below\",e))(t||{});const s=Object.assign({},{\"lib\":\"https://clc.stackoverflow.com/Content/bundles/js/gam_loader_script.bundle.741.815b66ba980177aab4be.js?v=ad7f6a1985a5\",\"style\":null,\"u\":null,\"wa\":true,\"kt\":2000,\"tto\":true,\"h\":\"clc.stackoverflow.com\",\"allowed\":\"^(((talent\\\\.)?stackoverflow)|(blog\\\\.codinghorror)|(serverfault|askubuntu)|([^\\\\.]+\\\\.stackexchange))\\\\.com$\",\"wv\":true,\"al\":false,\"abd\":true,\"cpa_liid\":[5882654614],\"cpa_cid\":[138377597667],\"dp\":false,\"tgt_to\":1000,\"tgt_u\":\"http://clc.stackoverflow.com/get-user-acct-tgt\",\"tgt_e\":true,\"tgt_p\":100,\"dv_enabled\":false,\"upo\":\"\"});var n=__webpack_require__(23),o=__webpack_require__(865),a=__webpack_require__(763);class i{constructor(t,s){this.googletag=t,this.interval=s,e.cM(\"Ad refresh init. interval: \"+s),this.googletag.pubads().addEventListener(\"impressionViewable\",e=>this.onImpressionViewable(e)),e.cM(\"done enabling ad refresh\")}onImpressionViewable(t){var s=t.slot;e.cM(\"ad refresh - slot \"+s.getSlotElementId()+\" is viewable, initializing refresh\"),this.scheduleRefresh(s)}scheduleRefresh(e){setTimeout(()=>this.refreshAdSlot(e),1e3*this.interval)}static refreshMyAd(t,s){let n=t.pubads().getSlots().find(e=>e.getSlotElementId()===s);n&&(e.cM(\"refreshMyAd - refreshing ad slot \"+s),t.pubads().refresh([n]))}static removeMyAd(t,s){let n=t.pubads().getSlots().find(e=>e.getSlotElementId()===s);n&&(e.cM(\"removeMyAd - destroying ad slot \"+s),t.destroySlots([n]))}refreshAdSlot(t){var s=t.getSlotElementId();this.isElementVisibleInBrowser(s)?(e.cM(\"refreshing ad slot \"+s),t.setTargeting(\"Refresh\",\"true\"),googletag.pubads().refresh([t])):(e.cM(\"refresh skipped this time; ad slot not viewable:\"+s),this.scheduleRefresh(t))}isElementVisibleInBrowser(e){var t=document.getElementById(e);if(null!==t){var s=t.getBoundingClientRect();if(s.top>=0&&s.left>=0&&s.bottom<=(window.innerHeight||document.documentElement.clientHeight)&&s.right<=(window.innerWidth||document.documentElement.clientWidth))return!0}return!1}}var r=(e=>(e.Off=\"Off\",e.PreSurvey=\"PreSurvey\",e.Collect=\"Collect\",e.PostSurvey=\"PostSurvey\",e))(r||{});class d{constructor(e,t){this.lineItemImpressions=[],this.surveysIdsCompleted=[],this.lineItemImpressions=e,this.surveysIdsCompleted=t}addImpression(e,t){let s={brandId:e,lineItemId:t,timestamp:new Date};this.lineItemImpressions.push(s)}addBrandSurveyCompleted(e){-1===this.surveysIdsCompleted.indexOf(e)&&this.surveysIdsCompleted.push(e)}getTotalBrandImpressions(){let e=new Map;for(let t of this.lineItemImpressions)if(e.has(t.brandId)){let s=e.get(t.brandId);e.set(t.brandId,s+1)}else e.set(t.brandId,1);return e}getBrandLineItemImpressions(e){let t={};for(let s of this.lineItemImpressions)if(s.brandId==e)if(void 0!==t[s.lineItemId]){let e=t[s.lineItemId];t[s.lineItemId]=e+1}else t[s.lineItemId]=1;return t}}class l{constructor(){this.surveyEngagementLocalStorageKey=\"clc-survey-engagement\"}getBrandSurveyEngagement(){let e=localStorage.getItem(this.surveyEngagementLocalStorageKey);if(null===e)return new d([],[]);let t=JSON.parse(e);return new d(t.lineItemImpressions,t.surveysIdsCompleted)}saveBrandSurveyEngagement(e){let t=JSON.stringify(e);localStorage.setItem(this.surveyEngagementLocalStorageKey,t)}}class c{constructor(){this.surveyRepository=new l}getBrandSurveyEngagement(){return this.surveyRepository.getBrandSurveyEngagement()}recordImpression(e,t){let s=this.getBrandSurveyEngagement();s.addImpression(e,t),this.surveyRepository.saveBrandSurveyEngagement(s)}recordBrandSurveyCompleted(e){let t=this.getBrandSurveyEngagement();t.addBrandSurveyCompleted(e),this.surveyRepository.saveBrandSurveyEngagement(t)}}class g{constructor(t,s){this.googletag=t,this.brandSettings=s,this.brandSlotMap=new Map,this.brandSurveyEngagementService=new c,e.cM(\"Brand Survey init: \"+JSON.stringify(s)),void 0!==s?(this.googletag.pubads().addEventListener(\"slotRenderEnded\",e=>this.handleSlotRendered(e)),this.googletag.pubads().addEventListener(\"impressionViewable\",e=>this.onImpressionViewable(e)),e.cM(\"done enabling Brand Survey\")):e.cM(\"Brand Survey init: brandSettings is undefined, not initializing\")}handleSlotRendered(t){e.cM(\"Brand Survey - slot rendered - slot:\"+JSON.stringify(t.slot.getSlotElementId())+\" lineItem: \"+t.lineItemId);let s=this.findItemWithId(t.lineItemId);if(null===s||s.mode!==r.Collect)this.brandSlotMap.delete(t.slot.getSlotElementId());else{let e={brandId:s.brandId,lineItemId:t.lineItemId};this.brandSlotMap.set(t.slot.getSlotElementId(),e)}}onImpressionViewable(t){let s=t.slot;if(e.cM(\"ad - Brand Survey - impression viewable.  Details: \"+JSON.stringify(s.getSlotElementId())),e.cM(\"ad - Brand Survey - slot \"+s.getSlotElementId()+\" is viewable\"),this.brandSlotMap.has(s.getSlotElementId())){let t=this.brandSlotMap.get(s.getSlotElementId());e.cM(\"Brand Survey - brand \"+t.brandId+\" is viewable\"),this.recordImpression(this.brandSlotMap.get(s.getSlotElementId()))}}recordImpression(t){e.cM(\"ad - Brand Survey - recording impression for brand \"+t.brandId),this.brandSurveyEngagementService.recordImpression(t.brandId,t.lineItemId)}findItemWithId(t){return e.cM(\"brand settings: \"+JSON.stringify(this.brandSettings)),this.brandSettings.find(e=>e.lineItemIds.includes(t))||null}}const p=\"response-brand-survey-submit|\",h=\"request-brand-survey-metadata|\",m=\"record-metric-on-server|\",u=\"request-dsp-tags\",f=\"response-dsp-tags|\";class _{static refreshAdIfBrandSurveyIsDuplicated(e,t,s){if(this.alreadyCompletedThisBrandSurvey(t)){var n=document.getElementById(s).closest(\".js-zone-container\");i.removeMyAd(e,s),n&&n.remove()}}static alreadyCompletedThisBrandSurvey(e){return(new c).getBrandSurveyEngagement().surveysIdsCompleted.includes(e)}}window.cam=new class{constructor(t=null){if(this.gptImported=!1,this.slotsRenderedEvents=[],this.collapsed={},e.cM(\"constructor\"),this.clc_options=s,window.clcGamLoaderOptions)Object.assign(this,window.clcGamLoaderOptions);else if(void 0===this.opt){let e=window.opt;e&&(this.opt=e)}}init(){if(e.cM(\"init\"),void 0===this.opt)throw new Error(\"opt not set, required by GAM Loader\");e.cM(\"init brand survey service\"),this.getUserMetaPromise=this.getUserMeta(),e.cM(\"setup message handler\"),window.addEventListener(\"message\",e=>{this.onmessage(e)})}handleSlotRenderedNoAdReport(){if(googletag.pubads().addEventListener(\"slotRenderEnded\",e=>this.applyExtraMarginBottom(e)),Array.isArray(this.slotsRenderedEvents))for(var e=0;e<this.slotsRenderedEvents.length;e++)this.applyExtraMarginBottom(this.slotsRenderedEvents[e])}onmessage(t){let s=\"omni\";if(t.data&&(\"string\"==typeof t.data||t.data instanceof String))if(0===t.data.indexOf(\"get-omni-\")){e.cM(\"Recevied get-omni message, sending back omni\");var n=t.source,a=this.opt.omni,i=\"string\"==typeof a?a:\"\";n.postMessage([s,i,this.opt.perRequestGuid].join(\"|\"),\"*\")}else if(0===t.data.indexOf(\"collapse-\")){e.cM(\"Recevied collapse message, collapse ad iframe\"),e.cM(t);for(var r=t.source.window,d=document.getElementsByTagName(\"IFRAME\"),l=0;l<d.length;l++){var g=d[l];if(g.contentWindow==r)return void(0,o.wo)(g.parentElement.parentElement.parentElement)}}else if(0===t.data.indexOf(\"resize|\")){e.cM(\"Recevied resize message, resize ad iframe\"),e.cM(t);let s=this._getFrameByEvent(t),n=t.data.indexOf(\"|\")+1,o=t.data.slice(n),a=parseFloat(o)+.5;e.cM(\"New iframe height \"+a),s.height=a.toString(),s.parentElement.style.height=a.toString()+\"px\"}else if(0===t.data.indexOf(\"getmarkup|\")){let s=t.data.indexOf(\"|\")+1,n=t.data.slice(s);e.cM(\"Recevied get markup message: \"+n);let o=this._getFrameByEvent(t).closest(\".everyonelovesstackoverflow\");const a=document.createElement(\"script\");a.dataset.adZoneId=o.id,a.src=n,document.body.appendChild(a)}else if(0===t.data.indexOf(\"window-location|\")){let s=t.data.indexOf(\"|\")+1,n=t.data.slice(s);e.cM(\"Recevied window location message: \"+n),n.startsWith(\"/\")||(n=\"/\"+n),window.open(window.location.protocol+\"//\"+window.location.host+n,\"_blank\")}else if(0===t.data.indexOf(\"request-brand-survey-submit|\")){let s=t.data.split(\"|\"),n=s[1],o=s[2],a=s[3],i=JSON.parse(a);e.cM(n),e.cM(o),e.cM(a),e.cM(\"Received brand survey \"+n+\" response message: \"+o);var v=new FormData;for(var b in i)v.append(b,i[b]);let r=this._getFrameByEvent(t);if(_.alreadyCompletedThisBrandSurvey(+n))return e.cM(\"Already completed this brand survey.  Not submitting duplicate to server.\"),void r.contentWindow.postMessage(\"response-brand-survey-submit-duplicate|\",\"*\");e.cM(\"Send the brand survey to the server\"),fetch(o,{method:\"POST\",body:v}).then(e=>e.json()).then(e=>r.contentWindow.postMessage({messageType:p},\"*\")).catch(e=>r.contentWindow.postMessage({messageType:p},\"*\"))}else if(0===t.data.indexOf(\"brand-survey-completed-store|\")){let s=t.data.split(\"|\"),n=(s[1],s[2]);if(e.cM(\"Received brand survey completed store message for survey ID \"+n),_.alreadyCompletedThisBrandSurvey(+n))return void e.cM(\"Already completed this brand survey.  Not recording duplicate locally.\");e.cM(\"Record brand survey completion locally\"),(new c).recordBrandSurveyCompleted(+n)}else if(0===t.data.indexOf(h)){let s=t.data.split(\"|\"),n=s[1],o=s[2];e.cM(\"Received message: \"+h+\" with Brand Survey ID \"+o);let a=(new c).getBrandSurveyEngagement().getBrandLineItemImpressions(+n),i=JSON.stringify(a),r=this._getFrameByEvent(t);e.cM(\"sending impression data: \"+i),r.contentWindow.postMessage(\"response-brand-survey-metadata|\"+this.opt.responseHash+\"|\"+this.opt.perRequestGuid+\"|\"+i+\"|\"+this.opt.countryCode+\"|\"+this.opt.qualtricsSurveyData,\"*\")}else if(0===t.data.indexOf(\"refresh-if-duplicate-brand-survey|\")){let e=t.data.split(\"|\")[1],s=this.getSlotElementIdByEvent(t);_.refreshAdIfBrandSurveyIsDuplicated(googletag,+e,s)}else if(0===t.data.indexOf(m)){e.cM(\"Received message: \"+m+\" with args: \"+t.data);let s=t.data.split(\"|\"),n=s[1],o=s[2],a=s[3],i=s[4],r=new FormData;r.append(\"brandSurveyId\",a.toString()),r.append(\"responseHash\",this.opt.responseHash),r.append(\"perRequestGuid\",this.opt.perRequestGuid),r.append(\"questionNumber\",n.toString()),r.append(\"metricType\",i.toString()),fetch(o,{method:\"POST\",body:r}).then(e=>e.ok).catch(t=>{e.cM(\"SendMetricToServer: Error sending metric to server: \"+t)})}else if(0===t.data.indexOf(u)){e.cM(\"Received message: \"+u+\" with args: \"+t.data);let s=this._getFrameByEvent(t);if(!this.opt.targeting[\"so-tag\"])return void s.contentWindow.postMessage(f,\"*\");const n=this.opt.targeting[\"so-tag\"].join(\",\");e.cM(\"sending targeting tags: \"+n),s.contentWindow.postMessage(f+n,\"*\")}else e.cM(\"Received unhandled message\")}getSlotElementIdByEvent(e){let t=this._getFrameByEvent(e),s=t.parentElement?.parentElement?.id;return s||\"\"}_getFrameByEvent(e){return Array.from(document.getElementsByTagName(\"iframe\")).filter(t=>t.contentWindow===e.source)[0]}classifyZoneIds(e){const t=e.map(o.Nj).filter(o.yb);return{eligible:t.filter(o.xb).filter(o.pn),ineligible:t.filter(o.xj)}}applyExtraMarginBottom(t){if(t&&t.slot&&!t.isEmpty&&(t.creativeId||t.lineItemId||!t.isEmpty)){var s=t.slot.getSlotElementId();if(s){var o=document.getElementById(s);if(o)if((0,n.eq)(s)){var a=o?.closest(\".js-zone-container\");a.style.marginBottom=\"24px\",e.cM(\"Applied extra margin to the bottom of \"+s)}else e.cM(\"Not applying extra margin to the bottom of \"+s+\": shouldHaveReportButton = false\");else e.cM(\"Not applying extra margin to the bottom of \"+s+\": resolved invalid adUnit element\")}else e.cM(\"Not applying extra margin to the bottom of element: invalid adUnitElementId\")}else e.cM(\"Not applying extra margin to the bottom of element: invalid SlotRenderEndedEvent\")}async load(s=(0,n.kG)()){const r=this.opt.tlb_position===t.Above?[\"dfp-mlb\",\"dfp-smlb\"]:[\"dfp-mlb\",\"dfp-smlb\",\"dfp-tlb\"];if(!this.isGptReady())return e.cM(\"Initializing...\"),this.initGpt(),void googletag.cmd.push(()=>this.load(s));this.opt.adReportEnabled?(e.cM(\"Ad reporting enabled\"),this.adReports=new a.t(googletag,this)):(e.cM(\"Ad reporting not enabled\"),this.handleSlotRenderedNoAdReport()),this.opt.refresh?(e.cM(\"Ad refresh enabled\"),this.adRefresh=new i(googletag,this.opt.refreshInterval)):e.cM(\"Ad refresh not enabled\"),this.opt.brandSurveyEnabled&&(e.cM(\"Brand Survey enabled\"),this.brandSurvey=new g(googletag,this.opt.brandSurveySettings)),e.cM(\"Attempting to load ads into ids: \",s);const{eligible:d,ineligible:l}=this.classifyZoneIds(s);if(this.initDebugPanel(googletag,d.concat(l)),d.forEach(e=>(0,o.cf)(e)),l.forEach(o.wo),0===d.length)return void e.cM(\"Found no ad ids on page\");e.cM(\"Eligible ids:\",d),this.opt.abd&&this.appendAdblockDetector();var c=googletag.pubads().getSlots();if(c){var p=c.filter(e=>s.indexOf(e.getSlotElementId())>=0);googletag.destroySlots(p)}this.opt.sf&&(googletag.pubads().setForceSafeFrame(!0),googletag.pubads().setSafeFrameConfig({allowOverlayExpansion:!0,allowPushExpansion:!0,sandbox:!0})),e.cM(\"Targeting consent: Checking...\");let h=!1,m=!1;void 0!==this.opt.targeting_consent&&(m=!0,e.cM(\"Targeting consent: Parameter set\"),e.cM(\"Targeting consent: Consent given? \",this.opt.targeting_consent),h=this.opt.targeting_consent),void 0!==this.opt.personalization_consent&&(e.cM(\"Personalization consent: Parameter set\"),e.cM(\"Personalization consent: Consent given? \",this.opt.personalization_consent),h=h&&this.opt.personalization_consent),h=h&&m,this.setPrivacySettings(h),this.opt.ll||googletag.pubads().enableSingleRequest(),cam.sreEvent||(googletag.pubads().addEventListener(\"slotRenderEnded\",e=>this.onSlotRendered(e)),cam.sreEvent=!0),await this.setTargeting();var u=d.filter(e=>!this.opt.ll||r.indexOf(e.id)<0),f=d.filter(e=>!!this.opt.ll&&r.indexOf(e.id)>=0);e.cM(\"Up front ids:\",u),e.cM(\"Lazy loaded ids:\",f),u.forEach(t=>{e.cM(`Defining ad for element ${t.id}`),this.defineSlot(t.id,googletag),t.setAttribute(\"data-dfp-zone\",\"true\")}),googletag.enableServices(),u.forEach(t=>{e.cM(`Displaying ad for element ${t.id}`),this.clc_options.dv_enabled?window.onDvtagReady(function(){googletag.display(t.id)}):googletag.cmd.push(()=>googletag.display(t.id))}),this.opt.ll&&(e.cM(\"Enabling lazy loading for GAM\"),googletag.pubads().enableLazyLoad({fetchMarginPercent:0,renderMarginPercent:0}),e.cM(\"Setting up lazy loaded ad units\"),f.forEach(t=>{e.cM(`Lazy loading - Defining Slot ${t.id}`),this.defineSlot(t.id,googletag)}),f.forEach(t=>{e.cM(`Lazy loading - Displaying ad for element ${t.id}`),this.clc_options.dv_enabled?window.onDvtagReady(function(){googletag.display(t.id)}):googletag.cmd.push(()=>googletag.display(t.id))}))}setPrivacySettings(e){e||googletag.pubads().setPrivacySettings({nonPersonalizedAds:!0,restrictDataProcessing:!0,limitedAds:!0})}async setTargeting(){if(!googletag)throw new Error(\"googletag not defined\");let t=this.opt.targeting;if(!t)throw new Error(\"Targeting not defined (is \"+typeof t+\")\");Object.keys(t).forEach(s=>{e.cM(`-> targeting - ${s}: ${t[s]}`),googletag.pubads().setTargeting(s,t[s])});let s=!1;if(void 0!==this.opt.targeting_consent&&(s=this.opt.targeting_consent),s){let t=(new c).getBrandSurveyEngagement();if(t.getTotalBrandImpressions().forEach((t,s)=>{e.cM(`-> targeting - BrandImpressions: ${s}: ${t}`),googletag.pubads().setTargeting(\"brand_\"+s.toString()+\"_impressions\",t.toString())}),t.surveysIdsCompleted.forEach(t=>{e.cM(`-> targeting - SurveysTaken: ${t}`),googletag.pubads().setTargeting(\"survey_\"+t+\"_taken\",\"true\")}),this.clc_options.tgt_e&&this.getUserMetaPromise){let t=await this.getUserMetaPromise;t&&t.tgt_acct?(e.cM(\"-> targeting - User Account: \"+t.tgt_acct),googletag.pubads().setTargeting(\"user-acct\",t.tgt_acct.company_name),googletag.pubads().setTargeting(\"user_acct_top\",t.tgt_acct.company_name),googletag.pubads().setTargeting(\"user_industry\",t.tgt_acct.industry),googletag.pubads().setTargeting(\"user_employee_count\",t.tgt_acct.employee_range)):e.cM(\"-> targeting - User Account: Not Found\"),t&&Object.prototype.hasOwnProperty.call(t,\"is_high_rep_earner\")?(e.cM(\"-> targeting - High Rep Earner: \"+t.is_high_rep_earner),googletag.pubads().setTargeting(\"IsHighRepEarner\",t.is_high_rep_earner?\"true\":\"false\")):e.cM(\"-> targeting - High Rep Earner: not found\")}if(localStorage){e.cM('Checking local storage for \"jobs-last-clicked\" key.');let t=localStorage.getItem(\"jobs-last-clicked\")?\"true\":\"false\";e.cM(`-> targeting - jobs_clicked: ${t}`),googletag.pubads().setTargeting(\"jobs_clicked\",t)}}}appendAdblockDetector(){const e=document.createElement(\"div\");e.className=\"adsbox\",e.id=\"clc-abd\",e.style.position=\"absolute\",e.style.pointerEvents=\"none\",e.innerHTML=\"&nbsp;\",document.body.appendChild(e)}onSlotRendered(s){try{const i=s.slot.getSlotElementId();let r=[];i||r.push(\"id=0\");const d=document.getElementById(i);if(i&&!d&&r.push(\"el=0\"),0!==r.length)return void this.stalled(r.join(\"&\"));const{path:l,sizes:c,zone:g}=(0,n.Z7)(i,this.clc_options.upo);if(this.collapsed[g]&&s.isEmpty)return e.cM(`No line item for the element #${d.id}... collapsing.`),void(0,o.wo)(d);if(this.slotsRenderedEvents.push(s),s.lineItemId||s.creativeId||!s.isEmpty){e.cM(`Rendered ad for element #${d.id} [line item #${s.lineItemId}]`),e.cM(s);var a=d.parentElement;if(a.classList.contains(\"js-zone-container\")){switch((0,o.cf)(a),i){case\"dfp-tlb\":this.opt.tlb_position===t.Above?a.classList.add(\"mb8\"):a.classList.add(\"mt16\");break;case\"dfp-tag\":a.classList.add(\"mb8\");break;case\"dfp-msb\":a.classList.add(\"mt16\");break;case\"dfp-mlb\":case\"dfp-smlb\":case\"dfp-bmlb\":a.classList.add(\"my8\");break;case\"dfp-isb\":a.classList.add(\"mt24\");break;case\"dfp-m-aq\":a.classList.add(\"my12\"),a.classList.add(\"mx-auto\")}(0,o.$Z)(a),(0,o.$Z)(d)}else e.cM(`No ad for element #${d.id}, collapsing`),e.cM(s),(0,o.wo)(d)}}catch(t){e.cM(\"Exception thrown onSlotRendered\"),e.cM(t),this.stalled(\"e=1\")}}stalled(e){(new Image).src=`https://${this.clc_options.h}/stalled.gif?${e}`}defineSlot(t,s){\"dfp-isb\"===t&&(e.cM(\"-> targeting - Sidebar: Inline\"),s.pubads().setTargeting(\"Sidebar\",[\"Inline\"])),\"dfp-tsb\"===t&&(e.cM(\"-> targeting - Sidebar: Right\"),s.pubads().setTargeting(\"Sidebar\",[\"Right\"]));const{path:o,sizes:a,zone:i}=(0,n.Z7)(t,this.clc_options.upo);e.cM(`Defining slot for ${t}: ${o}, sizes: ${JSON.stringify(a)}`),s.defineSlot(o,a,t).addService(s.pubads())}importGptLibrary(){this.gptImported||(this.gptImported=!0,void 0!==this.opt.targeting_consent&&this.opt.targeting_consent?(0,o.Gx)(\"https://securepubads.g.doubleclick.net/tag/js/gpt.js\"):(0,o.Gx)(\"https://pagead2.googlesyndication.com/tag/js/gpt.js\"))}importDvLibrary(){this.clc_options.dv_enabled&&(e.cM(\"Adding DoubleVerify library\"),(0,o.Gx)(\"https://pub.doubleverify.com/dvtag/21569774/DV1289064/pub.js\"),e.cM(\"Adding DoubleVerify onDvtagReady handler\"),window.onDvtagReady=function(t,s=750){e.cM(\"DoubleVerify onDvtagReady called\"),window.dvtag=window.dvtag||{},dvtag.cmd=dvtag.cmd||[];const n={callback:t,timeout:s,timestamp:(new Date).getTime()};dvtag.cmd.push(function(){dvtag.queueAdRequest(n)}),setTimeout(function(){const e=n.callback;n.callback=null,e&&e()},s)})}isGptReady(){return\"undefined\"!=typeof googletag&&!!googletag.apiReady}initGpt(){\"undefined\"==typeof googletag&&(window.googletag={cmd:(0,o.QZ)(()=>{this.importGptLibrary(),this.importDvLibrary()})})}getUserMeta(){if(this.opt.allowAccountTargetingForThisRequest&&this.clc_options.tgt_e&&this.clc_options.tgt_p>0){if(e.cM(\"Targeting enabled.\"),this.clc_options.tgt_p<100){e.cM(\"Targeting rate limit enabled.  Rolling the dice...\");const t=Math.floor(100*Math.random())+1;if(e.cM(\"Rolled \"+t+\" and the max is \"+this.clc_options.tgt_p),t>this.clc_options.tgt_p)return void e.cM(\"Will not request targeting.\")}return e.cM(\"Will request targeting.\"),function(e,t,s,n){if(t){const t=new Headers;return t.append(\"Accept\",\"application/json\"),async function(e,t={},s=5e3){if(\"number\"!=typeof s&&null!=s&&!1!==s){if(\"string\"!=typeof s)throw new Error(\"fetchWithTimeout: timeout must be a number\");if(s=parseInt(s),isNaN(s))throw new Error(\"fetchWithTimeout: timeout must be a number (or string that can be parsed to a number)\")}const n=new AbortController,{signal:o}=n,a=fetch(e,{...t,signal:o}),i=setTimeout(()=>n.abort(),s);try{const e=await a;return clearTimeout(i),e}catch(e){throw clearTimeout(i),e}}(s+\"?\"+new URLSearchParams({omni:e}),{method:\"GET\",mode:\"cors\",headers:t},n).then(e=>e.json())}return Promise.reject(\"No consent\")}(this.opt.omni,this.opt.targeting_consent,this.clc_options.tgt_u,this.clc_options.tgt_to).catch(t=>{e.vU(\"Error fetching user account targeting\"),e.vU(t)})}e.cM(\"Targeting disabled.  Will not request account targeting data.\")}initDebugPanel(t,s){e.cM(\"initDebugPanel\"),e.cM(\"Not showing debug panel.\")}},window.clcGamLoaderOptions&&(cam.init(),cam.load())})()})();</script>\n",
       "<footer class=\"site-footer js-footer\" id=\"footer\" role=\"contentinfo\">\n",
       "<div class=\"site-footer--container\">\n",
       "<nav aria-label=\"Footer\" class=\"site-footer--nav\">\n",
       "<div class=\"site-footer--col\">\n",
       "<h5 class=\"-title\"><a href=\"/\">Stack Overflow en español</a></h5>\n",
       "<ul class=\"-list js-primary-footer-links\">\n",
       "<li><a class=\"js-gps-track -link\" data-gps-track=\"footer.click({ location: 3, link: 2 })\" href=\"/tour\">Recorrido</a></li>\n",
       "<li><a class=\"js-gps-track -link\" data-gps-track=\"footer.click({ location: 3, link: 3 })\" href=\"/help\">Ayuda</a></li>\n",
       "<li><a class=\"js-gps-track -link\" data-gps-track=\"footer.click({ location: 3, link: 5 })\" href=\"https://chat.stackexchange.com/?tab=site&amp;host=es.stackoverflow.com\">Chat</a></li>\n",
       "<li><a class=\"js-gps-track -link\" data-gps-track=\"footer.click({ location: 3, link: 13 })\" href=\"/contact\">Contacto</a></li>\n",
       "<li><a class=\"js-gps-track -link\" data-gps-track=\"footer.click({ location: 3, link: 14 })\" href=\"https://es.meta.stackoverflow.com\">Comentarios</a></li>\n",
       "</ul>\n",
       "</div>\n",
       "<div class=\"site-footer--col\">\n",
       "<h5 class=\"-title\"><a class=\"js-gps-track\" data-gps-track=\"footer.click({ location: 3, link: 1 })\" href=\"https://stackoverflow.co/\">Empresa</a></h5>\n",
       "<ul class=\"-list\">\n",
       "<li><a class=\"js-gps-track -link\" data-gps-track=\"footer.click({ location: 3, link: 15})\" href=\"https://stackoverflow.com\">Stack Overflow</a></li>\n",
       "<li><a class=\"js-gps-track -link\" data-gps-track=\"footer.click({ location: 3, link: 29 })\" href=\"https://stackoverflow.co/teams/\">Teams</a></li>\n",
       "<li><a class=\"js-gps-track -link\" data-gps-track=\"footer.click({ location: 3, link: 21 })\" href=\"https://stackoverflow.co/advertising/\">Advertising</a></li>\n",
       "<li><a class=\"js-gps-track -link\" data-gps-track=\"footer.click({ location: 3, link: 20 })\" href=\"https://stackoverflow.co/advertising/employer-branding/\">Talent</a></li>\n",
       "<li><a class=\"js-gps-track -link\" data-gps-track=\"footer.click({ location: 3, link: 1 })\" href=\"https://stackoverflow.co/\">Acerca de</a></li>\n",
       "<li><a class=\"js-gps-track -link\" data-gps-track=\"footer.click({ location: 3, link: 27 })\" href=\"https://stackoverflow.co/company/press/\">Prensa</a></li>\n",
       "<li><a class=\"js-gps-track -link\" data-gps-track=\"footer.click({ location: 3, link: 7 })\" href=\"https://stackoverflow.com/legal\">Legal</a></li>\n",
       "<li><a class=\"js-gps-track -link\" data-gps-track=\"footer.click({ location: 3, link: 8 })\" href=\"https://stackoverflow.com/legal/privacy-policy\">Política de privacidad</a></li>\n",
       "<li><a class=\"js-gps-track -link\" data-gps-track=\"footer.click({ location: 3, link: 37 })\" href=\"https://stackoverflow.com/legal/terms-of-service/public\">Términos de Servicio</a></li>\n",
       "<li id=\"consent-footer-link\"><button class=\"s-btn s-btn__link py4 js-gps-track -link\" data-action=\"click-&gt;cookie-settings#toggle\" data-consent-popup-loader=\"footer\" data-controller=\"cookie-settings\" data-gps-track=\"footer.click({ location: 3, link: 38 })\" type=\"button\">\n",
       "Configuración de las cookies        </button></li>\n",
       "<li><a class=\"js-gps-track -link\" data-gps-track=\"footer.click({ location: 3, link: 39 })\" href=\"https://policies.stackoverflow.co/stack-overflow/cookie-policy\">Política de las cookies</a></li>\n",
       "</ul>\n",
       "</div>\n",
       "<div class=\"site-footer--col site-footer--categories-nav\">\n",
       "<div>\n",
       "<h5 class=\"-title\"><a data-gps-track=\"footer.click({ location: 3, link: 30 })\" href=\"https://stackexchange.com\">Red Stack Exchange</a></h5>\n",
       "<ul class=\"-list\">\n",
       "<li>\n",
       "<a class=\"-link js-gps-track\" data-gps-track=\"footer.click({ location: 3, link: 24 })\" href=\"https://stackexchange.com/sites#technology\">\n",
       "                                    Tecnología\n",
       "                                </a>\n",
       "</li>\n",
       "<li>\n",
       "<a class=\"-link js-gps-track\" data-gps-track=\"footer.click({ location: 3, link: 24 })\" href=\"https://stackexchange.com/sites#culturerecreation\">\n",
       "                                    Cultura y recreación\n",
       "                                </a>\n",
       "</li>\n",
       "<li>\n",
       "<a class=\"-link js-gps-track\" data-gps-track=\"footer.click({ location: 3, link: 24 })\" href=\"https://stackexchange.com/sites#lifearts\">\n",
       "                                    Vida y arte\n",
       "                                </a>\n",
       "</li>\n",
       "<li>\n",
       "<a class=\"-link js-gps-track\" data-gps-track=\"footer.click({ location: 3, link: 24 })\" href=\"https://stackexchange.com/sites#science\">\n",
       "                                    Ciencia\n",
       "                                </a>\n",
       "</li>\n",
       "<li>\n",
       "<a class=\"-link js-gps-track\" data-gps-track=\"footer.click({ location: 3, link: 24 })\" href=\"https://stackexchange.com/sites#professional\">\n",
       "                                    Profesional\n",
       "                                </a>\n",
       "</li>\n",
       "<li>\n",
       "<a class=\"-link js-gps-track\" data-gps-track=\"footer.click({ location: 3, link: 24 })\" href=\"https://stackexchange.com/sites#business\">\n",
       "                                    Negocios\n",
       "                                </a>\n",
       "</li>\n",
       "<li class=\"mt16 md:mt0\">\n",
       "<a class=\"-link js-gps-track\" data-gps-track=\"footer.click({ location: 3, link: 24 })\" href=\"https://api.stackexchange.com/\">\n",
       "                                    API\n",
       "                                </a>\n",
       "</li>\n",
       "<li>\n",
       "<a class=\"-link js-gps-track\" data-gps-track=\"footer.click({ location: 3, link: 24 })\" href=\"https://data.stackexchange.com/\">\n",
       "                                    Data\n",
       "                                </a>\n",
       "</li>\n",
       "</ul>\n",
       "</div>\n",
       "</div>\n",
       "</nav>\n",
       "<div class=\"site-footer--copyright fs-fine md:mt24\">\n",
       "<ul class=\"-list -social md:mb8\">\n",
       "<li><a class=\"js-gps-track -link\" data-gps-track=\"footer.click({ location: 3, link:4 })\" href=\"https://stackoverflow.blog?blb=1\">Blog</a></li>\n",
       "<li><a class=\"-link js-gps-track\" data-gps-track=\"footer.click({ location: 3, link: 31 })\" href=\"https://www.facebook.com/officialstackoverflow/\">Facebook</a></li>\n",
       "<li><a class=\"-link js-gps-track\" data-gps-track=\"footer.click({ location: 3, link: 32 })\" href=\"https://twitter.com/stackoverflow\">Twitter</a></li>\n",
       "<li><a class=\"-link js-gps-track\" data-gps-track=\"footer.click({ location: 3, link: 33 })\" href=\"https://linkedin.com/company/stack-overflow\">LinkedIn</a></li>\n",
       "<li><a class=\"-link js-gps-track\" data-gps-track=\"footer.click({ location: 3, link: 36 })\" href=\"https://www.instagram.com/thestackoverflow\">Instagram</a></li>\n",
       "</ul>\n",
       "<p class=\"md:mb0\">\n",
       "<span>Site design / logo © 2025 Stack Exchange Inc; </span>\n",
       "<span>user contributions licensed under </span>\n",
       "<a class=\"-link s-link td-underline\" href=\"https://stackoverflow.com/help/licensing\">CC BY-SA</a>\n",
       "<span>. </span>\n",
       "<span id=\"svnrev\">rev 2025.9.2.33422</span>\n",
       "</p>\n",
       "</div>\n",
       "</div>\n",
       "</footer>\n",
       "<script>(function(){function c(){var b=a.contentDocument||a.contentWindow.document;if(b){var d=b.createElement('script');d.innerHTML=\"window.__CF$cv$params={r:'979234b0ca35ac50',t:'MTc1Njg3MDYxNy4wMDAwMDA='};var a=document.createElement('script');a.nonce='';a.src='/cdn-cgi/challenge-platform/scripts/jsd/main.js';document.getElementsByTagName('head')[0].appendChild(a);\";b.getElementsByTagName('head')[0].appendChild(d)}}if(document.body){var a=document.createElement('iframe');a.height=1;a.width=1;a.style.position='absolute';a.style.top=0;a.style.left=0;a.style.border='none';a.style.visibility='hidden';document.body.appendChild(a);if('loading'!==document.readyState)c();else if(window.addEventListener)document.addEventListener('DOMContentLoaded',c);else{var e=document.onreadystatechange||function(){};document.onreadystatechange=function(b){e(b);'loading'!==document.readyState&&(document.onreadystatechange=e,c())}}}})();</script></body>\n",
       "</html>"
      ]
     },
     "execution_count": 98,
     "metadata": {},
     "output_type": "execute_result"
    }
   ],
   "source": [
    "soup"
   ]
  },
  {
   "cell_type": "markdown",
   "metadata": {},
   "source": [
    "### Tendremos que ir buscando por contenedores"
   ]
  },
  {
   "cell_type": "code",
   "execution_count": 99,
   "metadata": {},
   "outputs": [],
   "source": [
    "contenedorpreguntas = soup.find(id=\"questions\")  #solo devuelve un elemento find   "
   ]
  },
  {
   "cell_type": "code",
   "execution_count": 100,
   "metadata": {
    "collapsed": true
   },
   "outputs": [
    {
     "data": {
      "text/plain": [
       "<div class=\"flush-left\" id=\"questions\">\n",
       "<div class=\"s-post-summary js-post-summary\" data-post-id=\"632560\" data-post-type-id=\"1\" id=\"question-summary-632560\">\n",
       "<div class=\"s-post-summary--stats js-post-summary-stats\">\n",
       "<div class=\"s-post-summary--stats-item s-post-summary--stats-item__emphasized\" title=\"Puntuación de 0\">\n",
       "<span class=\"s-post-summary--stats-item-number\">0</span>\n",
       "<span class=\"s-post-summary--stats-item-unit\">votos</span>\n",
       "</div>\n",
       "<div class=\"s-post-summary--stats-item\" title=\"0 respuestas\">\n",
       "<span class=\"s-post-summary--stats-item-number\">0</span>\n",
       "<span class=\"s-post-summary--stats-item-unit\">respuestas</span>\n",
       "</div>\n",
       "<div class=\"s-post-summary--stats-item\" title=\"11 vistas\">\n",
       "<span class=\"s-post-summary--stats-item-number\">11</span>\n",
       "<span class=\"s-post-summary--stats-item-unit\">vistas</span>\n",
       "</div>\n",
       "</div>\n",
       "<div class=\"s-post-summary--content\">\n",
       "<h3 class=\"s-post-summary--content-title\">\n",
       "<a class=\"s-link\" href=\"/questions/632560/c%c3%b3mo-manejo-las-cookies-desde-mi-backend-node-js\">cómo manejo las cookies desde mi backend node.js?</a>\n",
       "</h3>\n",
       "<div class=\"s-post-summary--content-excerpt\">\n",
       "                Les comento mi problema:\n",
       "Me encuentro desarrollando una página web con angular 20 y node.js v24.5.0. Para ella, estoy construyendo el sistema de logIn, es por eso que confeccioné un back-end, el cual ...\n",
       "            </div>\n",
       "<div class=\"s-post-summary--meta\">\n",
       "<div class=\"s-post-summary--meta-tags d-inline-block tags js-tags t-javascript t-angular t-nodejs t-typescript\">\n",
       "<ul class=\"ml0 list-ls-none js-post-tag-list-wrapper d-inline\"><li class=\"d-inline mr4 js-post-tag-list-item\"><a aria-label='mostrar preguntas con la etiqueta \"javascript\"' aria-labelledby=\"tag-javascript-tooltip-container\" class=\"s-tag post-tag flex--item mt0 js-tagname-javascript\" data-tag-menu-origin=\"Unknown\" href=\"/questions/tagged/javascript\" rel=\"tag\" title='mostrar preguntas con la etiqueta \"javascript\"'>javascript</a></li><li class=\"d-inline mr4 js-post-tag-list-item\"><a aria-label='mostrar preguntas con la etiqueta \"angular\"' aria-labelledby=\"tag-angular-tooltip-container\" class=\"s-tag post-tag flex--item mt0 js-tagname-angular\" data-tag-menu-origin=\"Unknown\" href=\"/questions/tagged/angular\" rel=\"tag\" title='mostrar preguntas con la etiqueta \"angular\"'>angular</a></li><li class=\"d-inline mr4 js-post-tag-list-item\"><a aria-label='mostrar preguntas con la etiqueta \"nodejs\"' aria-labelledby=\"tag-nodejs-tooltip-container\" class=\"s-tag post-tag flex--item mt0 js-tagname-nodejs\" data-tag-menu-origin=\"Unknown\" href=\"/questions/tagged/nodejs\" rel=\"tag\" title='mostrar preguntas con la etiqueta \"nodejs\"'>nodejs</a></li><li class=\"d-inline mr4 js-post-tag-list-item\"><a aria-label='mostrar preguntas con la etiqueta \"typescript\"' aria-labelledby=\"tag-typescript-tooltip-container\" class=\"s-tag post-tag flex--item mt0 js-tagname-typescript\" data-tag-menu-origin=\"Unknown\" href=\"/questions/tagged/typescript\" rel=\"tag\" title='mostrar preguntas con la etiqueta \"typescript\"'>typescript</a></li></ul>\n",
       "</div>\n",
       "<div aria-live=\"polite\" class=\"s-user-card s-user-card__minimal\">\n",
       "<a class=\"s-avatar s-avatar__16 s-user-card--avatar\" data-user-id=\"476047\" href=\"/users/476047/ignacio-y%c3%a1%c3%b1ez\"> <div class=\"gravatar-wrapper-16\">\n",
       "<img alt=\"Avatar del usuario Ignacio Yáñez\" class=\"s-avatar--image\" height=\"16\" src=\"https://www.gravatar.com/avatar/4ae3b0618a43def777e88a52790030cf?s=32&amp;d=identicon&amp;r=PG&amp;f=y&amp;so-version=2\" width=\"16\"/>\n",
       "</div>\n",
       "</a>\n",
       "<div class=\"s-user-card--info\">\n",
       "<div class=\"s-user-card--link d-flex gs4\">\n",
       "<a class=\"flex--item\" href=\"/users/476047/ignacio-y%c3%a1%c3%b1ez\">Ignacio Yáñez</a>\n",
       "</div>\n",
       "<ul class=\"s-user-card--awards\">\n",
       "<li class=\"s-user-card--rep\"><span class=\"todo-no-class-here\" dir=\"ltr\" title=\"puntuación de reputación de \">1</span></li>\n",
       "</ul>\n",
       "</div>\n",
       "<time class=\"s-user-card--time\">formulada <span class=\"relativetime\" title=\"2025-09-02 23:23:19Z\">hace 4 horas</span></time>\n",
       "</div>\n",
       "</div>\n",
       "</div>\n",
       "</div>\n",
       "<div class=\"s-post-summary js-post-summary\" data-post-id=\"632559\" data-post-type-id=\"1\" id=\"question-summary-632559\">\n",
       "<div class=\"s-post-summary--stats js-post-summary-stats\">\n",
       "<div class=\"s-post-summary--stats-item s-post-summary--stats-item__emphasized\" title=\"Puntuación de 0\">\n",
       "<span class=\"s-post-summary--stats-item-number\">0</span>\n",
       "<span class=\"s-post-summary--stats-item-unit\">votos</span>\n",
       "</div>\n",
       "<div class=\"s-post-summary--stats-item\" title=\"0 respuestas\">\n",
       "<span class=\"s-post-summary--stats-item-number\">0</span>\n",
       "<span class=\"s-post-summary--stats-item-unit\">respuestas</span>\n",
       "</div>\n",
       "<div class=\"s-post-summary--stats-item\" title=\"6 vistas\">\n",
       "<span class=\"s-post-summary--stats-item-number\">6</span>\n",
       "<span class=\"s-post-summary--stats-item-unit\">vistas</span>\n",
       "</div>\n",
       "</div>\n",
       "<div class=\"s-post-summary--content\">\n",
       "<h3 class=\"s-post-summary--content-title\">\n",
       "<a class=\"s-link\" href=\"/questions/632559/ocultar-el-boton-de-nuevo-en-la-vista-lista-odoo-17\">Ocultar el boton de Nuevo en la vista Lista odoo 17</a>\n",
       "</h3>\n",
       "<div class=\"s-post-summary--content-excerpt\">\n",
       "                Amigos de la comunidad tengo una problema necesito ocultar en odoo 17 el boton de nuevo de la vista lista (tree) pero con el ocultamiento del botón también la opcion de importar y necesito poder dejar ...\n",
       "            </div>\n",
       "<div class=\"s-post-summary--meta\">\n",
       "<div class=\"s-post-summary--meta-tags d-inline-block tags js-tags t-xml t-odoo t-odoo17\">\n",
       "<ul class=\"ml0 list-ls-none js-post-tag-list-wrapper d-inline\"><li class=\"d-inline mr4 js-post-tag-list-item\"><a aria-label='mostrar preguntas con la etiqueta \"xml\"' aria-labelledby=\"tag-xml-tooltip-container\" class=\"s-tag post-tag flex--item mt0 js-tagname-xml\" data-tag-menu-origin=\"Unknown\" href=\"/questions/tagged/xml\" rel=\"tag\" title='mostrar preguntas con la etiqueta \"xml\"'>xml</a></li><li class=\"d-inline mr4 js-post-tag-list-item\"><a aria-label='mostrar preguntas con la etiqueta \"odoo\"' aria-labelledby=\"tag-odoo-tooltip-container\" class=\"s-tag post-tag flex--item mt0 js-tagname-odoo\" data-tag-menu-origin=\"Unknown\" href=\"/questions/tagged/odoo\" rel=\"tag\" title='mostrar preguntas con la etiqueta \"odoo\"'>odoo</a></li><li class=\"d-inline mr4 js-post-tag-list-item\"><a aria-label='mostrar preguntas con la etiqueta \"odoo17\"' aria-labelledby=\"tag-odoo17-tooltip-container\" class=\"s-tag post-tag flex--item mt0 js-tagname-odoo17\" data-tag-menu-origin=\"Unknown\" href=\"/questions/tagged/odoo17\" rel=\"tag\" title='mostrar preguntas con la etiqueta \"odoo17\"'>odoo17</a></li></ul>\n",
       "</div>\n",
       "<div aria-live=\"polite\" class=\"s-user-card s-user-card__minimal\">\n",
       "<a class=\"s-avatar s-avatar__16 s-user-card--avatar\" data-user-id=\"135989\" href=\"/users/135989/carlos-chavita\"> <div class=\"gravatar-wrapper-16\">\n",
       "<img alt=\"Avatar del usuario Carlos Chavita\" class=\"s-avatar--image\" height=\"16\" src=\"https://lh4.googleusercontent.com/-I6sSoxtnjcI/AAAAAAAAAAI/AAAAAAAAAAA/ACHi3rflT_8IinIU3O5t9SeGIJaDU5XqoA/s32-rj/photo.jpg\" width=\"16\"/>\n",
       "</div>\n",
       "</a>\n",
       "<div class=\"s-user-card--info\">\n",
       "<div class=\"s-user-card--link d-flex gs4\">\n",
       "<a class=\"flex--item\" href=\"/users/135989/carlos-chavita\">Carlos Chavita</a>\n",
       "</div>\n",
       "<ul class=\"s-user-card--awards\">\n",
       "<li class=\"s-user-card--rep\"><span class=\"todo-no-class-here\" dir=\"ltr\" title=\"puntuación de reputación de \">354</span></li>\n",
       "</ul>\n",
       "</div>\n",
       "<time class=\"s-user-card--time\">formulada <span class=\"relativetime\" title=\"2025-09-02 21:57:17Z\">hace 5 horas</span></time>\n",
       "</div>\n",
       "</div>\n",
       "</div>\n",
       "</div>\n",
       "<div class=\"s-post-summary js-post-summary\" data-post-id=\"632558\" data-post-type-id=\"1\" id=\"question-summary-632558\">\n",
       "<div class=\"s-post-summary--stats js-post-summary-stats\">\n",
       "<div class=\"s-post-summary--stats-item s-post-summary--stats-item__emphasized\" title=\"Puntuación de 0\">\n",
       "<span class=\"s-post-summary--stats-item-number\">0</span>\n",
       "<span class=\"s-post-summary--stats-item-unit\">votos</span>\n",
       "</div>\n",
       "<div class=\"s-post-summary--stats-item\" title=\"0 respuestas\">\n",
       "<span class=\"s-post-summary--stats-item-number\">0</span>\n",
       "<span class=\"s-post-summary--stats-item-unit\">respuestas</span>\n",
       "</div>\n",
       "<div class=\"s-post-summary--stats-item\" title=\"10 vistas\">\n",
       "<span class=\"s-post-summary--stats-item-number\">10</span>\n",
       "<span class=\"s-post-summary--stats-item-unit\">vistas</span>\n",
       "</div>\n",
       "</div>\n",
       "<div class=\"s-post-summary--content\">\n",
       "<h3 class=\"s-post-summary--content-title\">\n",
       "<a class=\"s-link\" href=\"/questions/632558/aws-ec2-no-puedo-conectar-a-trav%c3%a9s-de-ssh-como-lo-hacia-antes\">AWS EC2, no puedo conectar a través de SSH como lo hacia antes</a>\n",
       "</h3>\n",
       "<div class=\"s-post-summary--content-excerpt\">\n",
       "                Formulo está pregunta acá debido a que ya busque en la ayuda de AWS y también en Google. Todos coinciden que es problema de Key, par de de claves, .ppk, .pem, user, etc. Ya agoté todo cree nuevo .ppk ...\n",
       "            </div>\n",
       "<div class=\"s-post-summary--meta\">\n",
       "<div class=\"s-post-summary--meta-tags d-inline-block tags js-tags t-aws t-ssh t-ec2\">\n",
       "<ul class=\"ml0 list-ls-none js-post-tag-list-wrapper d-inline\"><li class=\"d-inline mr4 js-post-tag-list-item\"><a aria-label='mostrar preguntas con la etiqueta \"aws\"' aria-labelledby=\"tag-aws-tooltip-container\" class=\"s-tag post-tag flex--item mt0 js-tagname-aws\" data-tag-menu-origin=\"Unknown\" href=\"/questions/tagged/aws\" rel=\"tag\" title='mostrar preguntas con la etiqueta \"aws\"'>aws</a></li><li class=\"d-inline mr4 js-post-tag-list-item\"><a aria-label='mostrar preguntas con la etiqueta \"ssh\"' aria-labelledby=\"tag-ssh-tooltip-container\" class=\"s-tag post-tag flex--item mt0 js-tagname-ssh\" data-tag-menu-origin=\"Unknown\" href=\"/questions/tagged/ssh\" rel=\"tag\" title='mostrar preguntas con la etiqueta \"ssh\"'>ssh</a></li><li class=\"d-inline mr4 js-post-tag-list-item\"><a aria-label='mostrar preguntas con la etiqueta \"ec2\"' aria-labelledby=\"tag-ec2-tooltip-container\" class=\"s-tag post-tag flex--item mt0 js-tagname-ec2\" data-tag-menu-origin=\"Unknown\" href=\"/questions/tagged/ec2\" rel=\"tag\" title='mostrar preguntas con la etiqueta \"ec2\"'>ec2</a></li></ul>\n",
       "</div>\n",
       "<div aria-live=\"polite\" class=\"s-user-card s-user-card__minimal\">\n",
       "<a class=\"s-avatar s-avatar__16 s-user-card--avatar\" data-user-id=\"34886\" href=\"/users/34886/rene\"> <div class=\"gravatar-wrapper-16\">\n",
       "<img alt=\"Avatar del usuario Rene\" class=\"s-avatar--image\" height=\"16\" src=\"https://www.gravatar.com/avatar/3f5dfb5f08d335125e6bff05887262fe?s=32&amp;d=identicon&amp;r=PG&amp;f=y&amp;so-version=2\" width=\"16\"/>\n",
       "</div>\n",
       "</a>\n",
       "<div class=\"s-user-card--info\">\n",
       "<div class=\"s-user-card--link d-flex gs4\">\n",
       "<a class=\"flex--item\" href=\"/users/34886/rene\">Rene</a>\n",
       "</div>\n",
       "<ul class=\"s-user-card--awards\">\n",
       "<li class=\"s-user-card--rep\"><span class=\"todo-no-class-here\" dir=\"ltr\" title=\"puntuación de reputación de \">135</span></li>\n",
       "</ul>\n",
       "</div>\n",
       "<time class=\"s-user-card--time\">formulada <span class=\"relativetime\" title=\"2025-09-02 21:55:33Z\">hace 5 horas</span></time>\n",
       "</div>\n",
       "</div>\n",
       "</div>\n",
       "</div>\n",
       "<div class=\"s-post-summary js-post-summary\" data-post-id=\"632557\" data-post-type-id=\"1\" id=\"question-summary-632557\">\n",
       "<div class=\"s-post-summary--stats js-post-summary-stats\">\n",
       "<div class=\"s-post-summary--stats-item s-post-summary--stats-item__emphasized\" title=\"Puntuación de 0\">\n",
       "<span class=\"s-post-summary--stats-item-number\">0</span>\n",
       "<span class=\"s-post-summary--stats-item-unit\">votos</span>\n",
       "</div>\n",
       "<div class=\"s-post-summary--stats-item\" title=\"0 respuestas\">\n",
       "<span class=\"s-post-summary--stats-item-number\">0</span>\n",
       "<span class=\"s-post-summary--stats-item-unit\">respuestas</span>\n",
       "</div>\n",
       "<div class=\"s-post-summary--stats-item\" title=\"18 vistas\">\n",
       "<span class=\"s-post-summary--stats-item-number\">18</span>\n",
       "<span class=\"s-post-summary--stats-item-unit\">vistas</span>\n",
       "</div>\n",
       "</div>\n",
       "<div class=\"s-post-summary--content\">\n",
       "<h3 class=\"s-post-summary--content-title\">\n",
       "<a class=\"s-link\" href=\"/questions/632557/error-al-importar-mi-base-de-datos\">error al importar mi base de datos</a>\n",
       "</h3>\n",
       "<div class=\"s-post-summary--content-excerpt\">\n",
       "                Soy nuevo en php y mysql, y al tratar de importar una base de datos me aparece el siguiente error:\n",
       "Fatal error: Maximum execution time of 300 seconds exceeded in C:\\xampp\\phpMyAdmin\\vendor\\phpmyadmin\\...\n",
       "            </div>\n",
       "<div class=\"s-post-summary--meta\">\n",
       "<div class=\"s-post-summary--meta-tags d-inline-block tags js-tags t-php t-mysql\">\n",
       "<ul class=\"ml0 list-ls-none js-post-tag-list-wrapper d-inline\"><li class=\"d-inline mr4 js-post-tag-list-item\"><a aria-label='mostrar preguntas con la etiqueta \"php\"' aria-labelledby=\"tag-php-tooltip-container\" class=\"s-tag post-tag flex--item mt0 js-tagname-php\" data-tag-menu-origin=\"Unknown\" href=\"/questions/tagged/php\" rel=\"tag\" title='mostrar preguntas con la etiqueta \"php\"'>php</a></li><li class=\"d-inline mr4 js-post-tag-list-item\"><a aria-label='mostrar preguntas con la etiqueta \"mysql\"' aria-labelledby=\"tag-mysql-tooltip-container\" class=\"s-tag post-tag flex--item mt0 js-tagname-mysql\" data-tag-menu-origin=\"Unknown\" href=\"/questions/tagged/mysql\" rel=\"tag\" title='mostrar preguntas con la etiqueta \"mysql\"'>mysql</a></li></ul>\n",
       "</div>\n",
       "<div aria-live=\"polite\" class=\"s-user-card s-user-card__minimal\">\n",
       "<a class=\"s-avatar s-avatar__16 s-user-card--avatar\" data-user-id=\"476013\" href=\"/users/476013/soporte-ampi\"> <div class=\"gravatar-wrapper-16\">\n",
       "<img alt=\"Avatar del usuario soporte ampi\" class=\"s-avatar--image\" height=\"16\" src=\"https://www.gravatar.com/avatar/bc18d2e90d94bf86eb4cfcefff2ff467?s=32&amp;d=identicon&amp;r=PG&amp;f=y&amp;so-version=2\" width=\"16\"/>\n",
       "</div>\n",
       "</a>\n",
       "<div class=\"s-user-card--info\">\n",
       "<div class=\"s-user-card--link d-flex gs4\">\n",
       "<a class=\"flex--item\" href=\"/users/476013/soporte-ampi\">soporte ampi</a>\n",
       "</div>\n",
       "<ul class=\"s-user-card--awards\">\n",
       "<li class=\"s-user-card--rep\"><span class=\"todo-no-class-here\" dir=\"ltr\" title=\"puntuación de reputación de \">1</span></li>\n",
       "</ul>\n",
       "</div>\n",
       "<time class=\"s-user-card--time\">formulada <span class=\"relativetime\" title=\"2025-09-02 17:34:34Z\">hace 10 horas</span></time>\n",
       "</div>\n",
       "</div>\n",
       "</div>\n",
       "</div>\n",
       "<div class=\"s-post-summary js-post-summary\" data-post-id=\"632555\" data-post-type-id=\"1\" id=\"question-summary-632555\">\n",
       "<div class=\"s-post-summary--stats js-post-summary-stats\">\n",
       "<div class=\"s-post-summary--stats-item s-post-summary--stats-item__emphasized\" title=\"Puntuación de 0\">\n",
       "<span class=\"s-post-summary--stats-item-number\">0</span>\n",
       "<span class=\"s-post-summary--stats-item-unit\">votos</span>\n",
       "</div>\n",
       "<div class=\"s-post-summary--stats-item\" title=\"0 respuestas\">\n",
       "<span class=\"s-post-summary--stats-item-number\">0</span>\n",
       "<span class=\"s-post-summary--stats-item-unit\">respuestas</span>\n",
       "</div>\n",
       "<div class=\"s-post-summary--stats-item\" title=\"12 vistas\">\n",
       "<span class=\"s-post-summary--stats-item-number\">12</span>\n",
       "<span class=\"s-post-summary--stats-item-unit\">vistas</span>\n",
       "</div>\n",
       "</div>\n",
       "<div class=\"s-post-summary--content\">\n",
       "<h3 class=\"s-post-summary--content-title\">\n",
       "<a class=\"s-link\" href=\"/questions/632555/error-al-ejecutar-as-posixlt1994-01-01-en-r\">Error al ejecutar `as.POSIXlt(\"1994-01-01\")` en R</a>\n",
       "</h3>\n",
       "<div class=\"s-post-summary--content-excerpt\">\n",
       "                ¿A alguien más le devuelve este error luego de ejecutar as.POSIXlt(\"1994-01-01\")?\n",
       "Error en as.POSIXlt.character(x, tz, ...): \n",
       "  la cadena de caracteres no está en un formato estándar ...\n",
       "            </div>\n",
       "<div class=\"s-post-summary--meta\">\n",
       "<div class=\"s-post-summary--meta-tags d-inline-block tags js-tags t-r\">\n",
       "<ul class=\"ml0 list-ls-none js-post-tag-list-wrapper d-inline\"><li class=\"d-inline mr4 js-post-tag-list-item\"><a aria-label='mostrar preguntas con la etiqueta \"r\"' aria-labelledby=\"tag-r-tooltip-container\" class=\"s-tag post-tag flex--item mt0 js-tagname-r\" data-tag-menu-origin=\"Unknown\" href=\"/questions/tagged/r\" rel=\"tag\" title='mostrar preguntas con la etiqueta \"r\"'>r</a></li></ul>\n",
       "</div>\n",
       "<div aria-live=\"polite\" class=\"s-user-card s-user-card__minimal\">\n",
       "<a class=\"s-avatar s-avatar__16 s-user-card--avatar js-user-hover-target\" data-user-id=\"24348\" href=\"/users/24348/wenchenglaum\"> <div class=\"gravatar-wrapper-16\">\n",
       "<img alt=\"Avatar del usuario WenchengLauM\" class=\"s-avatar--image\" height=\"16\" src=\"https://i.sstatic.net/1HFRo.jpg?s=32\" width=\"16\"/>\n",
       "</div>\n",
       "</a>\n",
       "<div class=\"s-user-card--info\">\n",
       "<div class=\"s-user-card--link d-flex gs4\">\n",
       "<a class=\"flex--item\" href=\"/users/24348/wenchenglaum\">WenchengLauM</a>\n",
       "</div>\n",
       "<ul class=\"s-user-card--awards\">\n",
       "<li class=\"s-user-card--rep\"><span class=\"todo-no-class-here\" dir=\"ltr\" title=\"puntuación de reputación de \">101</span></li>\n",
       "</ul>\n",
       "</div>\n",
       "<time class=\"s-user-card--time\">formulada <span class=\"relativetime\" title=\"2025-09-02 15:56:04Z\">hace 11 horas</span></time>\n",
       "</div>\n",
       "</div>\n",
       "</div>\n",
       "</div>\n",
       "<div class=\"s-post-summary js-post-summary\" data-post-id=\"632554\" data-post-type-id=\"1\" id=\"question-summary-632554\">\n",
       "<div class=\"s-post-summary--stats js-post-summary-stats\">\n",
       "<div class=\"s-post-summary--stats-item s-post-summary--stats-item__emphasized\" title=\"Puntuación de 0\">\n",
       "<span class=\"s-post-summary--stats-item-number\">0</span>\n",
       "<span class=\"s-post-summary--stats-item-unit\">votos</span>\n",
       "</div>\n",
       "<div class=\"s-post-summary--stats-item\" title=\"0 respuestas\">\n",
       "<span class=\"s-post-summary--stats-item-number\">0</span>\n",
       "<span class=\"s-post-summary--stats-item-unit\">respuestas</span>\n",
       "</div>\n",
       "<div class=\"s-post-summary--stats-item\" title=\"29 vistas\">\n",
       "<span class=\"s-post-summary--stats-item-number\">29</span>\n",
       "<span class=\"s-post-summary--stats-item-unit\">vistas</span>\n",
       "</div>\n",
       "</div>\n",
       "<div class=\"s-post-summary--content\">\n",
       "<h3 class=\"s-post-summary--content-title\">\n",
       "<a class=\"s-link\" href=\"/questions/632554/uso-de-la-funci%c3%b3n-curlcmdopt-engine-en-curl-impersonate-en-php\">Uso de la función CURLCMDOPT_ENGINE en CURL IMPERSONATE en PHP</a>\n",
       "</h3>\n",
       "<div class=\"s-post-summary--content-excerpt\">\n",
       "                Tengo un problema con CURL IMPERSONATE, trato de levantar la página con Chromium y sí lo carga, pero no puedo guardar la información que carga la página y también me carga otra página con error GET.\n",
       "//...\n",
       "            </div>\n",
       "<div class=\"s-post-summary--meta\">\n",
       "<div class=\"s-post-summary--meta-tags d-inline-block tags js-tags t-php\">\n",
       "<ul class=\"ml0 list-ls-none js-post-tag-list-wrapper d-inline\"><li class=\"d-inline mr4 js-post-tag-list-item\"><a aria-label='mostrar preguntas con la etiqueta \"php\"' aria-labelledby=\"tag-php-tooltip-container\" class=\"s-tag post-tag flex--item mt0 js-tagname-php\" data-tag-menu-origin=\"Unknown\" href=\"/questions/tagged/php\" rel=\"tag\" title='mostrar preguntas con la etiqueta \"php\"'>php</a></li></ul>\n",
       "</div>\n",
       "<div aria-live=\"polite\" class=\"s-user-card s-user-card__minimal\">\n",
       "<a class=\"s-avatar s-avatar__16 s-user-card--avatar\" data-user-id=\"81808\" href=\"/users/81808/jose-mariano\"> <div class=\"gravatar-wrapper-16\">\n",
       "<img alt=\"Avatar del usuario Jose Mariano\" class=\"s-avatar--image\" height=\"16\" src=\"https://www.gravatar.com/avatar/0ff0bd3996dd3a336d4367147c4a088f?s=32&amp;d=identicon&amp;r=PG&amp;f=y&amp;so-version=2\" width=\"16\"/>\n",
       "</div>\n",
       "</a>\n",
       "<div class=\"s-user-card--info\">\n",
       "<div class=\"s-user-card--link d-flex gs4\">\n",
       "<a class=\"flex--item\" href=\"/users/81808/jose-mariano\">Jose Mariano</a>\n",
       "</div>\n",
       "<ul class=\"s-user-card--awards\">\n",
       "<li class=\"s-user-card--rep\"><span class=\"todo-no-class-here\" dir=\"ltr\" title=\"puntuación de reputación de \">45</span></li>\n",
       "</ul>\n",
       "</div>\n",
       "<time class=\"s-user-card--time\">formulada <span class=\"relativetime\" title=\"2025-09-02 13:40:20Z\">hace 13 horas</span></time>\n",
       "</div>\n",
       "</div>\n",
       "</div>\n",
       "</div>\n",
       "<div class=\"s-post-summary js-post-summary\" data-post-id=\"632551\" data-post-type-id=\"1\" id=\"question-summary-632551\">\n",
       "<div class=\"s-post-summary--stats js-post-summary-stats\">\n",
       "<div class=\"s-post-summary--stats-item s-post-summary--stats-item__emphasized\" title=\"Puntuación de 0\">\n",
       "<span class=\"s-post-summary--stats-item-number\">0</span>\n",
       "<span class=\"s-post-summary--stats-item-unit\">votos</span>\n",
       "</div>\n",
       "<div class=\"s-post-summary--stats-item has-answers\" title=\"1 respuesta\">\n",
       "<span class=\"s-post-summary--stats-item-number\">1</span>\n",
       "<span class=\"s-post-summary--stats-item-unit\">respuesta</span>\n",
       "</div>\n",
       "<div class=\"s-post-summary--stats-item\" title=\"19 vistas\">\n",
       "<span class=\"s-post-summary--stats-item-number\">19</span>\n",
       "<span class=\"s-post-summary--stats-item-unit\">vistas</span>\n",
       "</div>\n",
       "</div>\n",
       "<div class=\"s-post-summary--content\">\n",
       "<h3 class=\"s-post-summary--content-title\">\n",
       "<a class=\"s-link\" href=\"/questions/632551/guardar-imagen-base-64-en-un-formato-de-imagen-convencional-en-php\">Guardar imagen base 64 en un formato de imagen 'convencional' en php</a>\n",
       "</h3>\n",
       "<div class=\"s-post-summary--content-excerpt\">\n",
       "                Tengo un script donde en un modal aplico un crop a una imagen, este script lo encontré en la web, y le agregué algunas líneas. funciona bien originalmente (sube solo como jpg):\n",
       "    $anio = date(\"...\n",
       "            </div>\n",
       "<div class=\"s-post-summary--meta\">\n",
       "<div class=\"s-post-summary--meta-tags d-inline-block tags js-tags t-php t-base64 t-explode t-image-parts t-postimage\">\n",
       "<ul class=\"ml0 list-ls-none js-post-tag-list-wrapper d-inline\"><li class=\"d-inline mr4 js-post-tag-list-item\"><a aria-label='mostrar preguntas con la etiqueta \"php\"' aria-labelledby=\"tag-php-tooltip-container\" class=\"s-tag post-tag flex--item mt0 js-tagname-php\" data-tag-menu-origin=\"Unknown\" href=\"/questions/tagged/php\" rel=\"tag\" title='mostrar preguntas con la etiqueta \"php\"'>php</a></li><li class=\"d-inline mr4 js-post-tag-list-item\"><a aria-label='mostrar preguntas con la etiqueta \"base64\"' aria-labelledby=\"tag-base64-tooltip-container\" class=\"s-tag post-tag flex--item mt0 js-tagname-base64\" data-tag-menu-origin=\"Unknown\" href=\"/questions/tagged/base64\" rel=\"tag\" title='mostrar preguntas con la etiqueta \"base64\"'>base64</a></li><li class=\"d-inline mr4 js-post-tag-list-item\"><a aria-label='mostrar preguntas con la etiqueta \"explode\"' aria-labelledby=\"tag-explode-tooltip-container\" class=\"s-tag post-tag flex--item mt0 js-tagname-explode\" data-tag-menu-origin=\"Unknown\" href=\"/questions/tagged/explode\" rel=\"tag\" title='mostrar preguntas con la etiqueta \"explode\"'>explode</a></li><li class=\"d-inline mr4 js-post-tag-list-item\"><a aria-label='mostrar preguntas con la etiqueta \"image-parts\"' aria-labelledby=\"tag-image-parts-tooltip-container\" class=\"s-tag post-tag flex--item mt0 js-tagname-image-parts\" data-tag-menu-origin=\"Unknown\" href=\"/questions/tagged/image-parts\" rel=\"tag\" title='mostrar preguntas con la etiqueta \"image-parts\"'>image-parts</a></li><li class=\"d-inline mr4 js-post-tag-list-item\"><a aria-label='mostrar preguntas con la etiqueta \"postimage\"' aria-labelledby=\"tag-postimage-tooltip-container\" class=\"s-tag post-tag flex--item mt0 js-tagname-postimage\" data-tag-menu-origin=\"Unknown\" href=\"/questions/tagged/postimage\" rel=\"tag\" title='mostrar preguntas con la etiqueta \"postimage\"'>postimage</a></li></ul>\n",
       "</div>\n",
       "<div aria-live=\"polite\" class=\"s-user-card s-user-card__minimal\">\n",
       "<a class=\"s-avatar s-avatar__16 s-user-card--avatar\" data-user-id=\"124898\" href=\"/users/124898/jorge-b\"> <div class=\"gravatar-wrapper-16\">\n",
       "<img alt=\"Avatar del usuario Jorge B\" class=\"s-avatar--image\" height=\"16\" src=\"https://www.gravatar.com/avatar/ace2c7f9ee0235c6bf6d6b3a2c5ec7ac?s=32&amp;d=identicon&amp;r=PG&amp;f=y&amp;so-version=2\" width=\"16\"/>\n",
       "</div>\n",
       "</a>\n",
       "<div class=\"s-user-card--info\">\n",
       "<div class=\"s-user-card--link d-flex gs4\">\n",
       "<a class=\"flex--item\" href=\"/users/124898/jorge-b\">Jorge B</a>\n",
       "</div>\n",
       "<ul class=\"s-user-card--awards\">\n",
       "<li class=\"s-user-card--rep\"><span class=\"todo-no-class-here\" dir=\"ltr\" title=\"puntuación de reputación de \">370</span></li>\n",
       "</ul>\n",
       "</div>\n",
       "<time class=\"s-user-card--time\">formulada <span class=\"relativetime\" title=\"2025-09-02 11:21:51Z\">hace 16 horas</span></time>\n",
       "</div>\n",
       "</div>\n",
       "</div>\n",
       "</div>\n",
       "<div class=\"s-post-summary js-post-summary\" data-post-id=\"632549\" data-post-type-id=\"1\" id=\"question-summary-632549\">\n",
       "<div class=\"s-post-summary--stats js-post-summary-stats\">\n",
       "<div class=\"s-post-summary--stats-item s-post-summary--stats-item__emphasized\" title=\"Puntuación de -4\">\n",
       "<span class=\"s-post-summary--stats-item-number\">-4</span>\n",
       "<span class=\"s-post-summary--stats-item-unit\">votos</span>\n",
       "</div>\n",
       "<div class=\"s-post-summary--stats-item\" title=\"0 respuestas\">\n",
       "<span class=\"s-post-summary--stats-item-number\">0</span>\n",
       "<span class=\"s-post-summary--stats-item-unit\">respuestas</span>\n",
       "</div>\n",
       "<div class=\"s-post-summary--stats-item\" title=\"24 vistas\">\n",
       "<span class=\"s-post-summary--stats-item-number\">24</span>\n",
       "<span class=\"s-post-summary--stats-item-unit\">vistas</span>\n",
       "</div>\n",
       "</div>\n",
       "<div class=\"s-post-summary--content\">\n",
       "<h3 class=\"s-post-summary--content-title\">\n",
       "<a class=\"s-link\" href=\"/questions/632549/soy-un-aprendiz-de-programacion-estoy-trabajando-con-visual-code-desarrolando-un\">soy un aprendiz de programacion estoy trabajando con visual code desarrolando un app mediante instrucciones alguna sigerencia de AI para trabajar? [cerrada]</a>\n",
       "</h3>\n",
       "<div class=\"s-post-summary--content-excerpt\">\n",
       "                estoy trabajando con claude es muy buena pero me gustaria saber si conocen alguna otra AI que pueda ser igual o mas eficiente que claude estoy trabajando en una app que esta conectada a firebase!\n",
       "            </div>\n",
       "<div class=\"s-post-summary--meta\">\n",
       "<div class=\"s-post-summary--meta-tags d-inline-block tags js-tags t-firebase t-vscode t-inteligencia-artificial\">\n",
       "<ul class=\"ml0 list-ls-none js-post-tag-list-wrapper d-inline\"><li class=\"d-inline mr4 js-post-tag-list-item\"><a aria-label='mostrar preguntas con la etiqueta \"firebase\"' aria-labelledby=\"tag-firebase-tooltip-container\" class=\"s-tag post-tag flex--item mt0 js-tagname-firebase\" data-tag-menu-origin=\"Unknown\" href=\"/questions/tagged/firebase\" rel=\"tag\" title='mostrar preguntas con la etiqueta \"firebase\"'>firebase</a></li><li class=\"d-inline mr4 js-post-tag-list-item\"><a aria-label='mostrar preguntas con la etiqueta \"vscode\"' aria-labelledby=\"tag-vscode-tooltip-container\" class=\"s-tag post-tag flex--item mt0 js-tagname-vscode\" data-tag-menu-origin=\"Unknown\" href=\"/questions/tagged/vscode\" rel=\"tag\" title='mostrar preguntas con la etiqueta \"vscode\"'>vscode</a></li><li class=\"d-inline mr4 js-post-tag-list-item\"><a aria-label='mostrar preguntas con la etiqueta \"inteligencia-artificial\"' aria-labelledby=\"tag-inteligencia-artificial-tooltip-container\" class=\"s-tag post-tag flex--item mt0 js-tagname-inteligencia-artificial\" data-tag-menu-origin=\"Unknown\" href=\"/questions/tagged/inteligencia-artificial\" rel=\"tag\" title='mostrar preguntas con la etiqueta \"inteligencia-artificial\"'>inteligencia-artificial</a></li></ul>\n",
       "</div>\n",
       "<div aria-live=\"polite\" class=\"s-user-card s-user-card__minimal\">\n",
       "<a class=\"s-avatar s-avatar__16 s-user-card--avatar js-user-hover-target\" data-user-id=\"475875\" href=\"/users/475875/joseph-quintero\"> <div class=\"gravatar-wrapper-16\">\n",
       "<img alt=\"Avatar del usuario Joseph Quintero\" class=\"s-avatar--image\" height=\"16\" src=\"https://www.gravatar.com/avatar/9ac606a85f3e1ac5bede213bc4b96893?s=32&amp;d=identicon&amp;r=PG&amp;f=y&amp;so-version=2\" width=\"16\"/>\n",
       "</div>\n",
       "</a>\n",
       "<div class=\"s-user-card--info\">\n",
       "<div class=\"s-user-card--link d-flex gs4\">\n",
       "<a class=\"flex--item\" href=\"/users/475875/joseph-quintero\">Joseph Quintero</a>\n",
       "</div>\n",
       "<ul class=\"s-user-card--awards\">\n",
       "<li class=\"s-user-card--rep\"><span class=\"todo-no-class-here\" dir=\"ltr\" title=\"puntuación de reputación de \">1</span></li>\n",
       "</ul>\n",
       "</div>\n",
       "<time class=\"s-user-card--time\">formulada <span class=\"relativetime\" title=\"2025-09-01 19:23:42Z\">ayer</span></time>\n",
       "</div>\n",
       "</div>\n",
       "</div>\n",
       "</div>\n",
       "<div class=\"s-post-summary js-post-summary\" data-post-id=\"632547\" data-post-type-id=\"1\" id=\"question-summary-632547\">\n",
       "<div class=\"s-post-summary--stats js-post-summary-stats\">\n",
       "<div class=\"s-post-summary--stats-item s-post-summary--stats-item__emphasized\" title=\"Puntuación de 0\">\n",
       "<span class=\"s-post-summary--stats-item-number\">0</span>\n",
       "<span class=\"s-post-summary--stats-item-unit\">votos</span>\n",
       "</div>\n",
       "<div class=\"s-post-summary--stats-item\" title=\"0 respuestas\">\n",
       "<span class=\"s-post-summary--stats-item-number\">0</span>\n",
       "<span class=\"s-post-summary--stats-item-unit\">respuestas</span>\n",
       "</div>\n",
       "<div class=\"s-post-summary--stats-item\" title=\"33 vistas\">\n",
       "<span class=\"s-post-summary--stats-item-number\">33</span>\n",
       "<span class=\"s-post-summary--stats-item-unit\">vistas</span>\n",
       "</div>\n",
       "</div>\n",
       "<div class=\"s-post-summary--content\">\n",
       "<h3 class=\"s-post-summary--content-title\">\n",
       "<a class=\"s-link\" href=\"/questions/632547/uso-del-togglepassword-en-formulario-html-con-bootstrap-5\">Uso del togglePassword en formulario HTML con Bootstrap 5 [cerrada]</a>\n",
       "</h3>\n",
       "<div class=\"s-post-summary--content-excerpt\">\n",
       "                Tengo una caja de texto que tiene la función de mostrar contraseña pero al momento de escribir desaparece el icono del \"ojo\". Lo que me gustaria es que este icono no desaparezca al momento ...\n",
       "            </div>\n",
       "<div class=\"s-post-summary--meta\">\n",
       "<div class=\"s-post-summary--meta-tags d-inline-block tags js-tags t-javascript t-html t-bootstrap\">\n",
       "<ul class=\"ml0 list-ls-none js-post-tag-list-wrapper d-inline\"><li class=\"d-inline mr4 js-post-tag-list-item\"><a aria-label='mostrar preguntas con la etiqueta \"javascript\"' aria-labelledby=\"tag-javascript-tooltip-container\" class=\"s-tag post-tag flex--item mt0 js-tagname-javascript\" data-tag-menu-origin=\"Unknown\" href=\"/questions/tagged/javascript\" rel=\"tag\" title='mostrar preguntas con la etiqueta \"javascript\"'>javascript</a></li><li class=\"d-inline mr4 js-post-tag-list-item\"><a aria-label='mostrar preguntas con la etiqueta \"html\"' aria-labelledby=\"tag-html-tooltip-container\" class=\"s-tag post-tag flex--item mt0 js-tagname-html\" data-tag-menu-origin=\"Unknown\" href=\"/questions/tagged/html\" rel=\"tag\" title='mostrar preguntas con la etiqueta \"html\"'>html</a></li><li class=\"d-inline mr4 js-post-tag-list-item\"><a aria-label='mostrar preguntas con la etiqueta \"bootstrap\"' aria-labelledby=\"tag-bootstrap-tooltip-container\" class=\"s-tag post-tag flex--item mt0 js-tagname-bootstrap\" data-tag-menu-origin=\"Unknown\" href=\"/questions/tagged/bootstrap\" rel=\"tag\" title='mostrar preguntas con la etiqueta \"bootstrap\"'>bootstrap</a></li></ul>\n",
       "</div>\n",
       "<div aria-live=\"polite\" class=\"s-user-card s-user-card__minimal\">\n",
       "<a class=\"s-avatar s-avatar__16 s-user-card--avatar\" data-user-id=\"25459\" href=\"/users/25459/felix-n\"> <div class=\"gravatar-wrapper-16\">\n",
       "<img alt=\"Avatar del usuario Felix N.\" class=\"s-avatar--image\" height=\"16\" src=\"https://www.gravatar.com/avatar/53e046009567f242bb4f18baf2d5e02e?s=32&amp;d=identicon&amp;r=PG&amp;f=y&amp;so-version=2\" width=\"16\"/>\n",
       "</div>\n",
       "</a>\n",
       "<div class=\"s-user-card--info\">\n",
       "<div class=\"s-user-card--link d-flex gs4\">\n",
       "<a class=\"flex--item\" href=\"/users/25459/felix-n\">Felix N.</a>\n",
       "</div>\n",
       "<ul class=\"s-user-card--awards\">\n",
       "<li class=\"s-user-card--rep\"><span class=\"todo-no-class-here\" dir=\"ltr\" title=\"puntuación de reputación de \">1,859</span></li>\n",
       "</ul>\n",
       "</div>\n",
       "<time class=\"s-user-card--time\">formulada <span class=\"relativetime\" title=\"2025-09-01 13:20:04Z\">ayer</span></time>\n",
       "</div>\n",
       "</div>\n",
       "</div>\n",
       "</div>\n",
       "<div class=\"s-post-summary js-post-summary\" data-post-id=\"632545\" data-post-type-id=\"1\" id=\"question-summary-632545\">\n",
       "<div class=\"s-post-summary--stats js-post-summary-stats\">\n",
       "<div class=\"s-post-summary--stats-item s-post-summary--stats-item__emphasized\" title=\"Puntuación de 0\">\n",
       "<span class=\"s-post-summary--stats-item-number\">0</span>\n",
       "<span class=\"s-post-summary--stats-item-unit\">votos</span>\n",
       "</div>\n",
       "<div class=\"s-post-summary--stats-item has-answers\" title=\"1 respuesta\">\n",
       "<span class=\"s-post-summary--stats-item-number\">1</span>\n",
       "<span class=\"s-post-summary--stats-item-unit\">respuesta</span>\n",
       "</div>\n",
       "<div class=\"s-post-summary--stats-item\" title=\"22 vistas\">\n",
       "<span class=\"s-post-summary--stats-item-number\">22</span>\n",
       "<span class=\"s-post-summary--stats-item-unit\">vistas</span>\n",
       "</div>\n",
       "</div>\n",
       "<div class=\"s-post-summary--content\">\n",
       "<h3 class=\"s-post-summary--content-title\">\n",
       "<a class=\"s-link\" href=\"/questions/632545/problema-al-iniciar-la-c%c3%a1mara-en-el-movil-net9-con-maui-blazor\">Problema al Iniciar la cámara en el movil, .NET9 con MAUI Blazor</a>\n",
       "</h3>\n",
       "<div class=\"s-post-summary--content-excerpt\">\n",
       "                Estoy teniendo un problema bastante grande que me lleva rompiendo la cabeza un tiempo. Necesito leer un QR desde un dispositivo Móvil, en este caso es un XIAOMI Android 14 - API 34 pero siempre que ...\n",
       "            </div>\n",
       "<div class=\"s-post-summary--meta\">\n",
       "<div class=\"s-post-summary--meta-tags d-inline-block tags js-tags t-cñ t-android t-ûnet t-blazor t-qrcode\">\n",
       "<ul class=\"ml0 list-ls-none js-post-tag-list-wrapper d-inline\"><li class=\"d-inline mr4 js-post-tag-list-item\"><a aria-label='mostrar preguntas con la etiqueta \"c#\"' aria-labelledby=\"tag-c#-tooltip-container\" class=\"s-tag post-tag flex--item mt0 js-tagname-cñ\" data-tag-menu-origin=\"Unknown\" href=\"/questions/tagged/c%23\" rel=\"tag\" title='mostrar preguntas con la etiqueta \"c#\"'>c#</a></li><li class=\"d-inline mr4 js-post-tag-list-item\"><a aria-label='mostrar preguntas con la etiqueta \"android\"' aria-labelledby=\"tag-android-tooltip-container\" class=\"s-tag post-tag flex--item mt0 js-tagname-android\" data-tag-menu-origin=\"Unknown\" href=\"/questions/tagged/android\" rel=\"tag\" title='mostrar preguntas con la etiqueta \"android\"'>android</a></li><li class=\"d-inline mr4 js-post-tag-list-item\"><a aria-label='mostrar preguntas con la etiqueta \".net\"' aria-labelledby=\"tag-.net-tooltip-container\" class=\"s-tag post-tag flex--item mt0 js-tagname-ûnet\" data-tag-menu-origin=\"Unknown\" href=\"/questions/tagged/.net\" rel=\"tag\" title='mostrar preguntas con la etiqueta \".net\"'>.net</a></li><li class=\"d-inline mr4 js-post-tag-list-item\"><a aria-label='mostrar preguntas con la etiqueta \"blazor\"' aria-labelledby=\"tag-blazor-tooltip-container\" class=\"s-tag post-tag flex--item mt0 js-tagname-blazor\" data-tag-menu-origin=\"Unknown\" href=\"/questions/tagged/blazor\" rel=\"tag\" title='mostrar preguntas con la etiqueta \"blazor\"'>blazor</a></li><li class=\"d-inline mr4 js-post-tag-list-item\"><a aria-label='mostrar preguntas con la etiqueta \"qrcode\"' aria-labelledby=\"tag-qrcode-tooltip-container\" class=\"s-tag post-tag flex--item mt0 js-tagname-qrcode\" data-tag-menu-origin=\"Unknown\" href=\"/questions/tagged/qrcode\" rel=\"tag\" title='mostrar preguntas con la etiqueta \"qrcode\"'>qrcode</a></li></ul>\n",
       "</div>\n",
       "<div aria-live=\"polite\" class=\"s-user-card s-user-card__minimal\">\n",
       "<a class=\"s-avatar s-avatar__16 s-user-card--avatar js-user-hover-target\" data-user-id=\"404299\" href=\"/users/404299/igledev\"> <div class=\"gravatar-wrapper-16\">\n",
       "<img alt=\"Avatar del usuario IgleDev\" class=\"s-avatar--image\" height=\"16\" src=\"https://i.sstatic.net/oTTReW6A.jpg?s=32\" width=\"16\"/>\n",
       "</div>\n",
       "</a>\n",
       "<div class=\"s-user-card--info\">\n",
       "<div class=\"s-user-card--link d-flex gs4\">\n",
       "<a class=\"flex--item\" href=\"/users/404299/igledev\">IgleDev</a>\n",
       "</div>\n",
       "<ul class=\"s-user-card--awards\">\n",
       "<li class=\"s-user-card--rep\"><span class=\"todo-no-class-here\" dir=\"ltr\" title=\"puntuación de reputación de \">156</span></li>\n",
       "</ul>\n",
       "</div>\n",
       "<time class=\"s-user-card--time\">formulada <span class=\"relativetime\" title=\"2025-09-01 12:39:03Z\">ayer</span></time>\n",
       "</div>\n",
       "</div>\n",
       "</div>\n",
       "</div>\n",
       "<div class=\"s-post-summary js-post-summary\" data-post-id=\"632543\" data-post-type-id=\"1\" id=\"question-summary-632543\">\n",
       "<div class=\"s-post-summary--stats js-post-summary-stats\">\n",
       "<div class=\"s-post-summary--stats-item s-post-summary--stats-item__emphasized\" title=\"Puntuación de 0\">\n",
       "<span class=\"s-post-summary--stats-item-number\">0</span>\n",
       "<span class=\"s-post-summary--stats-item-unit\">votos</span>\n",
       "</div>\n",
       "<div class=\"s-post-summary--stats-item\" title=\"0 respuestas\">\n",
       "<span class=\"s-post-summary--stats-item-number\">0</span>\n",
       "<span class=\"s-post-summary--stats-item-unit\">respuestas</span>\n",
       "</div>\n",
       "<div class=\"s-post-summary--stats-item\" title=\"18 vistas\">\n",
       "<span class=\"s-post-summary--stats-item-number\">18</span>\n",
       "<span class=\"s-post-summary--stats-item-unit\">vistas</span>\n",
       "</div>\n",
       "</div>\n",
       "<div class=\"s-post-summary--content\">\n",
       "<h3 class=\"s-post-summary--content-title\">\n",
       "<a class=\"s-link\" href=\"/questions/632543/problemas-al-abrir-un-scheduler-de-ievent-en-devexpress-xaf-blazor\">Problemas al abrir un scheduler de IEvent en DevExpress XAF Blazor</a>\n",
       "</h3>\n",
       "<div class=\"s-post-summary--content-excerpt\">\n",
       "                Estoy trabajando en un proyecto de una agenda con DevExpress, para ello uso el IEvent para que obtenga las acciones de la agenda, en eso me tope con que IEvent obliga a tener un dato Type, el cual lo ...\n",
       "            </div>\n",
       "<div class=\"s-post-summary--meta\">\n",
       "<div class=\"s-post-summary--meta-tags d-inline-block tags js-tags t-cñ t-devexpress t-blazor\">\n",
       "<ul class=\"ml0 list-ls-none js-post-tag-list-wrapper d-inline\"><li class=\"d-inline mr4 js-post-tag-list-item\"><a aria-label='mostrar preguntas con la etiqueta \"c#\"' aria-labelledby=\"tag-c#-tooltip-container\" class=\"s-tag post-tag flex--item mt0 js-tagname-cñ\" data-tag-menu-origin=\"Unknown\" href=\"/questions/tagged/c%23\" rel=\"tag\" title='mostrar preguntas con la etiqueta \"c#\"'>c#</a></li><li class=\"d-inline mr4 js-post-tag-list-item\"><a aria-label='mostrar preguntas con la etiqueta \"devexpress\"' aria-labelledby=\"tag-devexpress-tooltip-container\" class=\"s-tag post-tag flex--item mt0 js-tagname-devexpress\" data-tag-menu-origin=\"Unknown\" href=\"/questions/tagged/devexpress\" rel=\"tag\" title='mostrar preguntas con la etiqueta \"devexpress\"'>devexpress</a></li><li class=\"d-inline mr4 js-post-tag-list-item\"><a aria-label='mostrar preguntas con la etiqueta \"blazor\"' aria-labelledby=\"tag-blazor-tooltip-container\" class=\"s-tag post-tag flex--item mt0 js-tagname-blazor\" data-tag-menu-origin=\"Unknown\" href=\"/questions/tagged/blazor\" rel=\"tag\" title='mostrar preguntas con la etiqueta \"blazor\"'>blazor</a></li></ul>\n",
       "</div>\n",
       "<div aria-live=\"polite\" class=\"s-user-card s-user-card__minimal\">\n",
       "<a class=\"s-avatar s-avatar__16 s-user-card--avatar\" data-user-id=\"184253\" href=\"/users/184253/deither\"> <div class=\"gravatar-wrapper-16\">\n",
       "<img alt=\"Avatar del usuario Deither\" class=\"s-avatar--image\" height=\"16\" src=\"https://lh3.googleusercontent.com/a-/AOh14GitaL5YqEfnGmxlgf6opmQ7fINvkO9gGvKte-cf=k-s32\" width=\"16\"/>\n",
       "</div>\n",
       "</a>\n",
       "<div class=\"s-user-card--info\">\n",
       "<div class=\"s-user-card--link d-flex gs4\">\n",
       "<a class=\"flex--item\" href=\"/users/184253/deither\">Deither</a>\n",
       "</div>\n",
       "<ul class=\"s-user-card--awards\">\n",
       "<li class=\"s-user-card--rep\"><span class=\"todo-no-class-here\" dir=\"ltr\" title=\"puntuación de reputación de \">13</span></li>\n",
       "</ul>\n",
       "</div>\n",
       "<time class=\"s-user-card--time\">formulada <span class=\"relativetime\" title=\"2025-08-31 16:04:21Z\">hace 2 días</span></time>\n",
       "</div>\n",
       "</div>\n",
       "</div>\n",
       "</div>\n",
       "<div class=\"s-post-summary js-post-summary\" data-post-id=\"632540\" data-post-type-id=\"1\" id=\"question-summary-632540\">\n",
       "<div class=\"s-post-summary--stats js-post-summary-stats\">\n",
       "<div class=\"s-post-summary--stats-item s-post-summary--stats-item__emphasized\" title=\"Puntuación de -1\">\n",
       "<span class=\"s-post-summary--stats-item-number\">-1</span>\n",
       "<span class=\"s-post-summary--stats-item-unit\">votos</span>\n",
       "</div>\n",
       "<div class=\"s-post-summary--stats-item\" title=\"0 respuestas\">\n",
       "<span class=\"s-post-summary--stats-item-number\">0</span>\n",
       "<span class=\"s-post-summary--stats-item-unit\">respuestas</span>\n",
       "</div>\n",
       "<div class=\"s-post-summary--stats-item\" title=\"28 vistas\">\n",
       "<span class=\"s-post-summary--stats-item-number\">28</span>\n",
       "<span class=\"s-post-summary--stats-item-unit\">vistas</span>\n",
       "</div>\n",
       "</div>\n",
       "<div class=\"s-post-summary--content\">\n",
       "<h3 class=\"s-post-summary--content-title\">\n",
       "<a class=\"s-link\" href=\"/questions/632540/quien-me-puede-terminar-mi-bot-de-trading\">quien me puede terminar mi bot de trading [cerrada]</a>\n",
       "</h3>\n",
       "<div class=\"s-post-summary--content-excerpt\">\n",
       "                Hola quien puede ayudarme a terminar un bot de trading para comprar y vender criptomonedas? yo comparto el codigo para que lo utilicen\n",
       "from binance.client import Client from binance.enums import *\n",
       "&gt;...\n",
       "            </div>\n",
       "<div class=\"s-post-summary--meta\">\n",
       "<div class=\"s-post-summary--meta-tags d-inline-block tags js-tags t-python t-bot\">\n",
       "<ul class=\"ml0 list-ls-none js-post-tag-list-wrapper d-inline\"><li class=\"d-inline mr4 js-post-tag-list-item\"><a aria-label='mostrar preguntas con la etiqueta \"python\"' aria-labelledby=\"tag-python-tooltip-container\" class=\"s-tag post-tag flex--item mt0 js-tagname-python\" data-tag-menu-origin=\"Unknown\" href=\"/questions/tagged/python\" rel=\"tag\" title='mostrar preguntas con la etiqueta \"python\"'>python</a></li><li class=\"d-inline mr4 js-post-tag-list-item\"><a aria-label='mostrar preguntas con la etiqueta \"bot\"' aria-labelledby=\"tag-bot-tooltip-container\" class=\"s-tag post-tag flex--item mt0 js-tagname-bot\" data-tag-menu-origin=\"Unknown\" href=\"/questions/tagged/bot\" rel=\"tag\" title='mostrar preguntas con la etiqueta \"bot\"'>bot</a></li></ul>\n",
       "</div>\n",
       "<div aria-live=\"polite\" class=\"s-user-card s-user-card__minimal\">\n",
       "<a class=\"s-avatar s-avatar__16 s-user-card--avatar\" data-user-id=\"155849\" href=\"/users/155849/releveit-candol\"> <div class=\"gravatar-wrapper-16\">\n",
       "<img alt=\"Avatar del usuario Releveit Candol\" class=\"s-avatar--image\" height=\"16\" src=\"https://lh3.googleusercontent.com/a-/AAuE7mBLK7PElaGp74YupMH210MaLUVOoPCTXJ0WDVBR7g=k-s32\" width=\"16\"/>\n",
       "</div>\n",
       "</a>\n",
       "<div class=\"s-user-card--info\">\n",
       "<div class=\"s-user-card--link d-flex gs4\">\n",
       "<a class=\"flex--item\" href=\"/users/155849/releveit-candol\">Releveit Candol</a>\n",
       "</div>\n",
       "<ul class=\"s-user-card--awards\">\n",
       "<li class=\"s-user-card--rep\"><span class=\"todo-no-class-here\" dir=\"ltr\" title=\"puntuación de reputación de \">47</span></li>\n",
       "</ul>\n",
       "</div>\n",
       "<time class=\"s-user-card--time\">formulada <span class=\"relativetime\" title=\"2025-08-30 17:51:17Z\">el 30 ago a las 17:51</span></time>\n",
       "</div>\n",
       "</div>\n",
       "</div>\n",
       "</div>\n",
       "<div class=\"s-post-summary js-post-summary\" data-post-id=\"632538\" data-post-type-id=\"1\" id=\"question-summary-632538\">\n",
       "<div class=\"s-post-summary--stats js-post-summary-stats\">\n",
       "<div class=\"s-post-summary--stats-item s-post-summary--stats-item__emphasized\" title=\"Puntuación de 0\">\n",
       "<span class=\"s-post-summary--stats-item-number\">0</span>\n",
       "<span class=\"s-post-summary--stats-item-unit\">votos</span>\n",
       "</div>\n",
       "<div class=\"s-post-summary--stats-item\" title=\"0 respuestas\">\n",
       "<span class=\"s-post-summary--stats-item-number\">0</span>\n",
       "<span class=\"s-post-summary--stats-item-unit\">respuestas</span>\n",
       "</div>\n",
       "<div class=\"s-post-summary--stats-item\" title=\"29 vistas\">\n",
       "<span class=\"s-post-summary--stats-item-number\">29</span>\n",
       "<span class=\"s-post-summary--stats-item-unit\">vistas</span>\n",
       "</div>\n",
       "</div>\n",
       "<div class=\"s-post-summary--content\">\n",
       "<h3 class=\"s-post-summary--content-title\">\n",
       "<a class=\"s-link\" href=\"/questions/632538/c%c3%b3mo-liberar-memoria-ram-ocupada-por-procesos-en-segundo-plano-en-windows-usand\">¿Cómo liberar memoria RAM ocupada por procesos en segundo plano en Windows usando Python?</a>\n",
       "</h3>\n",
       "<div class=\"s-post-summary--content-excerpt\">\n",
       "                Estoy desarrollando un script en Python que libera la memoria RAM usada por otros procesos en segundo plano, utilizando psutil y funciones del API de Windows como EmptyWorkingSet.\n",
       "Funciona bien, pero ...\n",
       "            </div>\n",
       "<div class=\"s-post-summary--meta\">\n",
       "<div class=\"s-post-summary--meta-tags d-inline-block tags js-tags t-python t-windows t-optimización t-manejo-de-memoria t-rendimiento\">\n",
       "<ul class=\"ml0 list-ls-none js-post-tag-list-wrapper d-inline\"><li class=\"d-inline mr4 js-post-tag-list-item\"><a aria-label='mostrar preguntas con la etiqueta \"python\"' aria-labelledby=\"tag-python-tooltip-container\" class=\"s-tag post-tag flex--item mt0 js-tagname-python\" data-tag-menu-origin=\"Unknown\" href=\"/questions/tagged/python\" rel=\"tag\" title='mostrar preguntas con la etiqueta \"python\"'>python</a></li><li class=\"d-inline mr4 js-post-tag-list-item\"><a aria-label='mostrar preguntas con la etiqueta \"windows\"' aria-labelledby=\"tag-windows-tooltip-container\" class=\"s-tag post-tag flex--item mt0 js-tagname-windows\" data-tag-menu-origin=\"Unknown\" href=\"/questions/tagged/windows\" rel=\"tag\" title='mostrar preguntas con la etiqueta \"windows\"'>windows</a></li><li class=\"d-inline mr4 js-post-tag-list-item\"><a aria-label='mostrar preguntas con la etiqueta \"optimización\"' aria-labelledby=\"tag-optimización-tooltip-container\" class=\"s-tag post-tag flex--item mt0 js-tagname-optimización\" data-tag-menu-origin=\"Unknown\" href=\"/questions/tagged/optimizaci%c3%b3n\" rel=\"tag\" title='mostrar preguntas con la etiqueta \"optimización\"'>optimización</a></li><li class=\"d-inline mr4 js-post-tag-list-item\"><a aria-label='mostrar preguntas con la etiqueta \"manejo-de-memoria\"' aria-labelledby=\"tag-manejo-de-memoria-tooltip-container\" class=\"s-tag post-tag flex--item mt0 js-tagname-manejo-de-memoria\" data-tag-menu-origin=\"Unknown\" href=\"/questions/tagged/manejo-de-memoria\" rel=\"tag\" title='mostrar preguntas con la etiqueta \"manejo-de-memoria\"'>manejo-de-memoria</a></li><li class=\"d-inline mr4 js-post-tag-list-item\"><a aria-label='mostrar preguntas con la etiqueta \"rendimiento\"' aria-labelledby=\"tag-rendimiento-tooltip-container\" class=\"s-tag post-tag flex--item mt0 js-tagname-rendimiento\" data-tag-menu-origin=\"Unknown\" href=\"/questions/tagged/rendimiento\" rel=\"tag\" title='mostrar preguntas con la etiqueta \"rendimiento\"'>rendimiento</a></li></ul>\n",
       "</div>\n",
       "<div aria-live=\"polite\" class=\"s-user-card s-user-card__minimal\">\n",
       "<a class=\"s-avatar s-avatar__16 s-user-card--avatar\" data-user-id=\"475593\" href=\"/users/475593/rodolfo-mb\"> <div class=\"gravatar-wrapper-16\">\n",
       "<img alt=\"Avatar del usuario Rodolfo MB\" class=\"s-avatar--image\" height=\"16\" src=\"https://www.gravatar.com/avatar/2b0644316f909d313cef78cbb0c62b7f?s=32&amp;d=identicon&amp;r=PG&amp;f=y&amp;so-version=2\" width=\"16\"/>\n",
       "</div>\n",
       "</a>\n",
       "<div class=\"s-user-card--info\">\n",
       "<div class=\"s-user-card--link d-flex gs4\">\n",
       "<a class=\"flex--item\" href=\"/users/475593/rodolfo-mb\">Rodolfo MB</a>\n",
       "</div>\n",
       "<ul class=\"s-user-card--awards\">\n",
       "<li class=\"s-user-card--rep\"><span class=\"todo-no-class-here\" dir=\"ltr\" title=\"puntuación de reputación de \">1</span></li>\n",
       "</ul>\n",
       "</div>\n",
       "<time class=\"s-user-card--time\">formulada <span class=\"relativetime\" title=\"2025-08-30 01:16:48Z\">el 30 ago a las 1:16</span></time>\n",
       "</div>\n",
       "</div>\n",
       "</div>\n",
       "</div>\n",
       "<div class=\"s-post-summary js-post-summary\" data-post-id=\"632537\" data-post-type-id=\"1\" id=\"question-summary-632537\">\n",
       "<div class=\"s-post-summary--stats js-post-summary-stats\">\n",
       "<div class=\"s-post-summary--stats-item s-post-summary--stats-item__emphasized\" title=\"Puntuación de 0\">\n",
       "<span class=\"s-post-summary--stats-item-number\">0</span>\n",
       "<span class=\"s-post-summary--stats-item-unit\">votos</span>\n",
       "</div>\n",
       "<div class=\"s-post-summary--stats-item\" title=\"0 respuestas\">\n",
       "<span class=\"s-post-summary--stats-item-number\">0</span>\n",
       "<span class=\"s-post-summary--stats-item-unit\">respuestas</span>\n",
       "</div>\n",
       "<div class=\"s-post-summary--stats-item\" title=\"37 vistas\">\n",
       "<span class=\"s-post-summary--stats-item-number\">37</span>\n",
       "<span class=\"s-post-summary--stats-item-unit\">vistas</span>\n",
       "</div>\n",
       "</div>\n",
       "<div class=\"s-post-summary--content\">\n",
       "<h3 class=\"s-post-summary--content-title\">\n",
       "<a class=\"s-link\" href=\"/questions/632537/inconveniente-en-la-creaci%c3%b3n-de-un-contenedor-para-phpmyadmin-mysql-en-docker\">Inconveniente en la creación de un contenedor para PhpMyAdmin (Mysql) en Docker usando PowerShell(X86):</a>\n",
       "</h3>\n",
       "<div class=\"s-post-summary--content-excerpt\">\n",
       "                Hola equipo deseo pedirles el favor con el siguiente inconveniente:\n",
       "Estoy creando un contenedor de PhpMyAdmin (Mysql) en PowerShell para que se ejecute en Docker, utilizando la siguiente instrucción:\n",
       "...\n",
       "            </div>\n",
       "<div class=\"s-post-summary--meta\">\n",
       "<div class=\"s-post-summary--meta-tags d-inline-block tags js-tags t-docker t-docker-machine\">\n",
       "<ul class=\"ml0 list-ls-none js-post-tag-list-wrapper d-inline\"><li class=\"d-inline mr4 js-post-tag-list-item\"><a aria-label='mostrar preguntas con la etiqueta \"docker\"' aria-labelledby=\"tag-docker-tooltip-container\" class=\"s-tag post-tag flex--item mt0 js-tagname-docker\" data-tag-menu-origin=\"Unknown\" href=\"/questions/tagged/docker\" rel=\"tag\" title='mostrar preguntas con la etiqueta \"docker\"'>docker</a></li><li class=\"d-inline mr4 js-post-tag-list-item\"><a aria-label='mostrar preguntas con la etiqueta \"docker-machine\"' aria-labelledby=\"tag-docker-machine-tooltip-container\" class=\"s-tag post-tag flex--item mt0 js-tagname-docker-machine\" data-tag-menu-origin=\"Unknown\" href=\"/questions/tagged/docker-machine\" rel=\"tag\" title='mostrar preguntas con la etiqueta \"docker-machine\"'>docker-machine</a></li></ul>\n",
       "</div>\n",
       "<div aria-live=\"polite\" class=\"s-user-card s-user-card__minimal\">\n",
       "<a class=\"s-avatar s-avatar__16 s-user-card--avatar\" data-user-id=\"431841\" href=\"/users/431841/mart%c3%adn-hern%c3%a1ndez\"> <div class=\"gravatar-wrapper-16\">\n",
       "<img alt=\"Avatar del usuario Martín Hernández\" class=\"s-avatar--image\" height=\"16\" src=\"https://www.gravatar.com/avatar/d07e2b4b482919fa79bee26ea4d22dbd?s=32&amp;d=identicon&amp;r=PG&amp;f=y&amp;so-version=2\" width=\"16\"/>\n",
       "</div>\n",
       "</a>\n",
       "<div class=\"s-user-card--info\">\n",
       "<div class=\"s-user-card--link d-flex gs4\">\n",
       "<a class=\"flex--item\" href=\"/users/431841/mart%c3%adn-hern%c3%a1ndez\">Martín Hernández</a>\n",
       "</div>\n",
       "<ul class=\"s-user-card--awards\">\n",
       "<li class=\"s-user-card--rep\"><span class=\"todo-no-class-here\" dir=\"ltr\" title=\"puntuación de reputación de \">67</span></li>\n",
       "</ul>\n",
       "</div>\n",
       "<time class=\"s-user-card--time\">formulada <span class=\"relativetime\" title=\"2025-08-29 20:31:19Z\">el 29 ago a las 20:31</span></time>\n",
       "</div>\n",
       "</div>\n",
       "</div>\n",
       "</div>\n",
       "<div class=\"s-post-summary js-post-summary\" data-post-id=\"632529\" data-post-type-id=\"1\" id=\"question-summary-632529\">\n",
       "<div class=\"s-post-summary--stats js-post-summary-stats\">\n",
       "<div class=\"s-post-summary--stats-item s-post-summary--stats-item__emphasized\" title=\"Puntuación de 0\">\n",
       "<span class=\"s-post-summary--stats-item-number\">0</span>\n",
       "<span class=\"s-post-summary--stats-item-unit\">votos</span>\n",
       "</div>\n",
       "<div class=\"s-post-summary--stats-item has-answers\" title=\"1 respuesta\">\n",
       "<span class=\"s-post-summary--stats-item-number\">1</span>\n",
       "<span class=\"s-post-summary--stats-item-unit\">respuesta</span>\n",
       "</div>\n",
       "<div class=\"s-post-summary--stats-item\" title=\"34 vistas\">\n",
       "<span class=\"s-post-summary--stats-item-number\">34</span>\n",
       "<span class=\"s-post-summary--stats-item-unit\">vistas</span>\n",
       "</div>\n",
       "</div>\n",
       "<div class=\"s-post-summary--content\">\n",
       "<h3 class=\"s-post-summary--content-title\">\n",
       "<a class=\"s-link\" href=\"/questions/632529/como-logro-crear-un-boton-dentro-de-una-tabla-html-que-me-muestre-un-dato-de-su\">¿Como logro crear un boton dentro de una tabla HTML que me muestre un dato de su fila en la consola?</a>\n",
       "</h3>\n",
       "<div class=\"s-post-summary--content-excerpt\">\n",
       "                En este programa logro hacer que la barra de busqueda pueda buscar los datos de la tabla en tiempo real, pero quiero que el boton (Si) que esta dentro de la tabla me consiga el dato de la curp de la ...\n",
       "            </div>\n",
       "<div class=\"s-post-summary--meta\">\n",
       "<div class=\"s-post-summary--meta-tags d-inline-block tags js-tags t-php t-html t-script t-botón t-html-tabla\">\n",
       "<ul class=\"ml0 list-ls-none js-post-tag-list-wrapper d-inline\"><li class=\"d-inline mr4 js-post-tag-list-item\"><a aria-label='mostrar preguntas con la etiqueta \"php\"' aria-labelledby=\"tag-php-tooltip-container\" class=\"s-tag post-tag flex--item mt0 js-tagname-php\" data-tag-menu-origin=\"Unknown\" href=\"/questions/tagged/php\" rel=\"tag\" title='mostrar preguntas con la etiqueta \"php\"'>php</a></li><li class=\"d-inline mr4 js-post-tag-list-item\"><a aria-label='mostrar preguntas con la etiqueta \"html\"' aria-labelledby=\"tag-html-tooltip-container\" class=\"s-tag post-tag flex--item mt0 js-tagname-html\" data-tag-menu-origin=\"Unknown\" href=\"/questions/tagged/html\" rel=\"tag\" title='mostrar preguntas con la etiqueta \"html\"'>html</a></li><li class=\"d-inline mr4 js-post-tag-list-item\"><a aria-label='mostrar preguntas con la etiqueta \"script\"' aria-labelledby=\"tag-script-tooltip-container\" class=\"s-tag post-tag flex--item mt0 js-tagname-script\" data-tag-menu-origin=\"Unknown\" href=\"/questions/tagged/script\" rel=\"tag\" title='mostrar preguntas con la etiqueta \"script\"'>script</a></li><li class=\"d-inline mr4 js-post-tag-list-item\"><a aria-label='mostrar preguntas con la etiqueta \"botón\"' aria-labelledby=\"tag-botón-tooltip-container\" class=\"s-tag post-tag flex--item mt0 js-tagname-botón\" data-tag-menu-origin=\"Unknown\" href=\"/questions/tagged/bot%c3%b3n\" rel=\"tag\" title='mostrar preguntas con la etiqueta \"botón\"'>botón</a></li><li class=\"d-inline mr4 js-post-tag-list-item\"><a aria-label='mostrar preguntas con la etiqueta \"html-tabla\"' aria-labelledby=\"tag-html-tabla-tooltip-container\" class=\"s-tag post-tag flex--item mt0 js-tagname-html-tabla\" data-tag-menu-origin=\"Unknown\" href=\"/questions/tagged/html-tabla\" rel=\"tag\" title='mostrar preguntas con la etiqueta \"html-tabla\"'>html-tabla</a></li></ul>\n",
       "</div>\n",
       "<div aria-live=\"polite\" class=\"s-user-card s-user-card__minimal\">\n",
       "<a class=\"s-avatar s-avatar__16 s-user-card--avatar\" data-user-id=\"475508\" href=\"/users/475508/user475508\"> <div class=\"gravatar-wrapper-16\">\n",
       "<img alt=\"Avatar del usuario user475508\" class=\"s-avatar--image\" height=\"16\" src=\"https://www.gravatar.com/avatar/a818d8658e8e83867ff0cff2564eb05f?s=32&amp;d=identicon&amp;r=PG&amp;f=y&amp;so-version=2\" width=\"16\"/>\n",
       "</div>\n",
       "</a>\n",
       "<div class=\"s-user-card--info\">\n",
       "<div class=\"s-user-card--link d-flex gs4\">\n",
       "<a class=\"flex--item\" href=\"/users/475508/user475508\">user475508</a>\n",
       "</div>\n",
       "<ul class=\"s-user-card--awards\">\n",
       "<li class=\"s-user-card--rep\"><span class=\"todo-no-class-here\" dir=\"ltr\" title=\"puntuación de reputación de \">1</span></li>\n",
       "</ul>\n",
       "</div>\n",
       "<time class=\"s-user-card--time\">formulada <span class=\"relativetime\" title=\"2025-08-29 01:41:35Z\">el 29 ago a las 1:41</span></time>\n",
       "</div>\n",
       "</div>\n",
       "</div>\n",
       "</div>\n",
       "</div>"
      ]
     },
     "execution_count": 100,
     "metadata": {},
     "output_type": "execute_result"
    }
   ],
   "source": [
    "contenedorpreguntas"
   ]
  },
  {
   "cell_type": "markdown",
   "metadata": {},
   "source": [
    "### como ya tenemos guardado nuestro primer contenedor, ya no se busca en todo el arbol sino unicamente en el nuevo contenedor"
   ]
  },
  {
   "cell_type": "code",
   "execution_count": 101,
   "metadata": {},
   "outputs": [],
   "source": [
    "listapreg = contenedorpreguntas.find_all(\"div\",class_=\"s-post-summary--content\")  #findall busca todas las coincidencias"
   ]
  },
  {
   "cell_type": "code",
   "execution_count": 114,
   "metadata": {},
   "outputs": [
    {
     "data": {
      "text/plain": [
       "'cómo manejo las cookies desde mi backend node.js?'"
      ]
     },
     "execution_count": 114,
     "metadata": {},
     "output_type": "execute_result"
    }
   ],
   "source": [
    "listapreg[0].find(\"h3\").find(\"a\").text"
   ]
  },
  {
   "cell_type": "code",
   "execution_count": null,
   "metadata": {},
   "outputs": [],
   "source": [
    "print(listapreg[0].find(class_=\"s-post-summary--content-excerpt\").text)"
   ]
  },
  {
   "cell_type": "code",
   "execution_count": 115,
   "metadata": {},
   "outputs": [
    {
     "name": "stdout",
     "output_type": "stream",
     "text": [
      "\n",
      "cómo manejo las cookies desde mi backend node.js?\n",
      "\n",
      "\n",
      "Ocultar el boton de Nuevo en la vista Lista odoo 17\n",
      "\n",
      "\n",
      "AWS EC2, no puedo conectar a través de SSH como lo hacia antes\n",
      "\n",
      "\n",
      "error al importar mi base de datos\n",
      "\n",
      "\n",
      "Error al ejecutar `as.POSIXlt(\"1994-01-01\")` en R\n",
      "\n",
      "\n",
      "Uso de la función CURLCMDOPT_ENGINE en CURL IMPERSONATE en PHP\n",
      "\n",
      "\n",
      "Guardar imagen base 64 en un formato de imagen 'convencional' en php\n",
      "\n",
      "\n",
      "soy un aprendiz de programacion estoy trabajando con visual code desarrolando un app mediante instrucciones alguna sigerencia de AI para trabajar? [cerrada]\n",
      "\n",
      "\n",
      "Uso del togglePassword en formulario HTML con Bootstrap 5 [cerrada]\n",
      "\n",
      "\n",
      "Problema al Iniciar la cámara en el movil, .NET9 con MAUI Blazor\n",
      "\n",
      "\n",
      "Problemas al abrir un scheduler de IEvent en DevExpress XAF Blazor\n",
      "\n",
      "\n",
      "quien me puede terminar mi bot de trading [cerrada]\n",
      "\n",
      "\n",
      "¿Cómo liberar memoria RAM ocupada por procesos en segundo plano en Windows usando Python?\n",
      "\n",
      "\n",
      "Inconveniente en la creación de un contenedor para PhpMyAdmin (Mysql) en Docker usando PowerShell(X86):\n",
      "\n",
      "\n",
      "¿Como logro crear un boton dentro de una tabla HTML que me muestre un dato de su fila en la consola?\n",
      "\n"
     ]
    }
   ],
   "source": [
    "for i in listapreg:   #cada i es un elemento html\n",
    "    textop = i.find(\"h3\").text\n",
    "    print(textop)\n",
    "    \n",
    "   "
   ]
  },
  {
   "cell_type": "code",
   "execution_count": 116,
   "metadata": {},
   "outputs": [
    {
     "name": "stdout",
     "output_type": "stream",
     "text": [
      "Les comento mi problema:Me encuentro desarrollando una página web con angular 20 y node.js v24.5.0. Para ella, estoy construyendo el sistema de logIn, es por eso que confeccioné un back-end, el cual ...\n",
      "\n",
      "Amigos de la comunidad tengo una problema necesito ocultar en odoo 17 el boton de nuevo de la vista lista (tree) pero con el ocultamiento del botón también la opcion de importar y necesito poder dejar ...\n",
      "\n",
      "Formulo está pregunta acá debido a que ya busque en la ayuda de AWS y también en Google. Todos coinciden que es problema de Key, par de de claves, .ppk, .pem, user, etc. Ya agoté todo cree nuevo .ppk ...\n",
      "\n",
      "Soy nuevo en php y mysql, y al tratar de importar una base de datos me aparece el siguiente error:Fatal error: Maximum execution time of 300 seconds exceeded in C:\\xampp\\phpMyAdmin\\vendor\\phpmyadmin\\...\n",
      "\n",
      "¿A alguien más le devuelve este error luego de ejecutar as.POSIXlt(\"1994-01-01\")?Error en as.POSIXlt.character(x, tz, ...):   la cadena de caracteres no está en un formato estándar ...\n",
      "\n",
      "Tengo un problema con CURL IMPERSONATE, trato de levantar la página con Chromium y sí lo carga, pero no puedo guardar la información que carga la página y también me carga otra página con error GET.//...\n",
      "\n",
      "Tengo un script donde en un modal aplico un crop a una imagen, este script lo encontré en la web, y le agregué algunas líneas. funciona bien originalmente (sube solo como jpg):    $anio = date(\"...\n",
      "\n",
      "estoy trabajando con claude es muy buena pero me gustaria saber si conocen alguna otra AI que pueda ser igual o mas eficiente que claude estoy trabajando en una app que esta conectada a firebase!\n",
      "\n",
      "Tengo una caja de texto que tiene la función de mostrar contraseña pero al momento de escribir desaparece el icono del \"ojo\". Lo que me gustaria es que este icono no desaparezca al momento ...\n",
      "\n",
      "Estoy teniendo un problema bastante grande que me lleva rompiendo la cabeza un tiempo. Necesito leer un QR desde un dispositivo Móvil, en este caso es un XIAOMI Android 14 - API 34 pero siempre que ...\n",
      "\n",
      "Estoy trabajando en un proyecto de una agenda con DevExpress, para ello uso el IEvent para que obtenga las acciones de la agenda, en eso me tope con que IEvent obliga a tener un dato Type, el cual lo ...\n",
      "\n",
      "Hola quien puede ayudarme a terminar un bot de trading para comprar y vender criptomonedas? yo comparto el codigo para que lo utilicenfrom binance.client import Client from binance.enums import *>...\n",
      "\n",
      "Estoy desarrollando un script en Python que libera la memoria RAM usada por otros procesos en segundo plano, utilizando psutil y funciones del API de Windows como EmptyWorkingSet.Funciona bien, pero ...\n",
      "\n",
      "Hola equipo deseo pedirles el favor con el siguiente inconveniente:Estoy creando un contenedor de PhpMyAdmin (Mysql) en PowerShell para que se ejecute en Docker, utilizando la siguiente instrucción:...\n",
      "\n",
      "En este programa logro hacer que la barra de busqueda pueda buscar los datos de la tabla en tiempo real, pero quiero que el boton (Si) que esta dentro de la tabla me consiga el dato de la curp de la ...\n",
      "\n"
     ]
    }
   ],
   "source": [
    "for i in listapreg:\n",
    "    descrip = i.find(class_=\"s-post-summary--content-excerpt\").text\n",
    "    descrip = descrip.replace(\"\\n\",\"\").replace(\"\\r\",\"\").strip()\n",
    "    print(descrip)\n",
    "    print()"
   ]
  },
  {
   "cell_type": "code",
   "execution_count": 125,
   "metadata": {},
   "outputs": [
    {
     "data": {
      "text/plain": [
       "'Amigos de la comunidad tengo una problema necesito ocultar en odoo 17 el boton de nuevo de la vista lista (tree) pero con el ocultamiento del botón también la opcion de importar y necesito poder dejar ...'"
      ]
     },
     "execution_count": 125,
     "metadata": {},
     "output_type": "execute_result"
    }
   ],
   "source": [
    "[x.find(class_=\"s-post-summary--content-excerpt\").text.replace(\"\\n\",\"\").replace(\"\\r\",\"\").strip() for x in listapreg][1]"
   ]
  },
  {
   "cell_type": "code",
   "execution_count": null,
   "metadata": {},
   "outputs": [],
   "source": [
    "[x for x in list]\n",
    "\n",
    "[  x.find(\"a\") for x in      contenedor]\n",
    "\n",
    "\n",
    " \n",
    " \n",
    " "
   ]
  },
  {
   "cell_type": "code",
   "execution_count": 117,
   "metadata": {
    "collapsed": true
   },
   "outputs": [
    {
     "name": "stdout",
     "output_type": "stream",
     "text": [
      "\n",
      "cómo manejo las cookies desde mi backend node.js?\n",
      "\n",
      "Les comento mi problema:Me encuentro desarrollando una página web con angular 20 y node.js v24.5.0. Para ella, estoy construyendo el sistema de logIn, es por eso que confeccioné un back-end, el cual ...\n",
      "\n",
      "\n",
      "Ocultar el boton de Nuevo en la vista Lista odoo 17\n",
      "\n",
      "Amigos de la comunidad tengo una problema necesito ocultar en odoo 17 el boton de nuevo de la vista lista (tree) pero con el ocultamiento del botón también la opcion de importar y necesito poder dejar ...\n",
      "\n",
      "\n",
      "AWS EC2, no puedo conectar a través de SSH como lo hacia antes\n",
      "\n",
      "Formulo está pregunta acá debido a que ya busque en la ayuda de AWS y también en Google. Todos coinciden que es problema de Key, par de de claves, .ppk, .pem, user, etc. Ya agoté todo cree nuevo .ppk ...\n",
      "\n",
      "\n",
      "error al importar mi base de datos\n",
      "\n",
      "Soy nuevo en php y mysql, y al tratar de importar una base de datos me aparece el siguiente error:Fatal error: Maximum execution time of 300 seconds exceeded in C:\\xampp\\phpMyAdmin\\vendor\\phpmyadmin\\...\n",
      "\n",
      "\n",
      "Error al ejecutar `as.POSIXlt(\"1994-01-01\")` en R\n",
      "\n",
      "¿A alguien más le devuelve este error luego de ejecutar as.POSIXlt(\"1994-01-01\")?Error en as.POSIXlt.character(x, tz, ...):   la cadena de caracteres no está en un formato estándar ...\n",
      "\n",
      "\n",
      "Uso de la función CURLCMDOPT_ENGINE en CURL IMPERSONATE en PHP\n",
      "\n",
      "Tengo un problema con CURL IMPERSONATE, trato de levantar la página con Chromium y sí lo carga, pero no puedo guardar la información que carga la página y también me carga otra página con error GET.//...\n",
      "\n",
      "\n",
      "Guardar imagen base 64 en un formato de imagen 'convencional' en php\n",
      "\n",
      "Tengo un script donde en un modal aplico un crop a una imagen, este script lo encontré en la web, y le agregué algunas líneas. funciona bien originalmente (sube solo como jpg):    $anio = date(\"...\n",
      "\n",
      "\n",
      "soy un aprendiz de programacion estoy trabajando con visual code desarrolando un app mediante instrucciones alguna sigerencia de AI para trabajar? [cerrada]\n",
      "\n",
      "estoy trabajando con claude es muy buena pero me gustaria saber si conocen alguna otra AI que pueda ser igual o mas eficiente que claude estoy trabajando en una app que esta conectada a firebase!\n",
      "\n",
      "\n",
      "Uso del togglePassword en formulario HTML con Bootstrap 5 [cerrada]\n",
      "\n",
      "Tengo una caja de texto que tiene la función de mostrar contraseña pero al momento de escribir desaparece el icono del \"ojo\". Lo que me gustaria es que este icono no desaparezca al momento ...\n",
      "\n",
      "\n",
      "Problema al Iniciar la cámara en el movil, .NET9 con MAUI Blazor\n",
      "\n",
      "Estoy teniendo un problema bastante grande que me lleva rompiendo la cabeza un tiempo. Necesito leer un QR desde un dispositivo Móvil, en este caso es un XIAOMI Android 14 - API 34 pero siempre que ...\n",
      "\n",
      "\n",
      "Problemas al abrir un scheduler de IEvent en DevExpress XAF Blazor\n",
      "\n",
      "Estoy trabajando en un proyecto de una agenda con DevExpress, para ello uso el IEvent para que obtenga las acciones de la agenda, en eso me tope con que IEvent obliga a tener un dato Type, el cual lo ...\n",
      "\n",
      "\n",
      "quien me puede terminar mi bot de trading [cerrada]\n",
      "\n",
      "Hola quien puede ayudarme a terminar un bot de trading para comprar y vender criptomonedas? yo comparto el codigo para que lo utilicenfrom binance.client import Client from binance.enums import *>...\n",
      "\n",
      "\n",
      "¿Cómo liberar memoria RAM ocupada por procesos en segundo plano en Windows usando Python?\n",
      "\n",
      "Estoy desarrollando un script en Python que libera la memoria RAM usada por otros procesos en segundo plano, utilizando psutil y funciones del API de Windows como EmptyWorkingSet.Funciona bien, pero ...\n",
      "\n",
      "\n",
      "Inconveniente en la creación de un contenedor para PhpMyAdmin (Mysql) en Docker usando PowerShell(X86):\n",
      "\n",
      "Hola equipo deseo pedirles el favor con el siguiente inconveniente:Estoy creando un contenedor de PhpMyAdmin (Mysql) en PowerShell para que se ejecute en Docker, utilizando la siguiente instrucción:...\n",
      "\n",
      "\n",
      "¿Como logro crear un boton dentro de una tabla HTML que me muestre un dato de su fila en la consola?\n",
      "\n",
      "En este programa logro hacer que la barra de busqueda pueda buscar los datos de la tabla en tiempo real, pero quiero que el boton (Si) que esta dentro de la tabla me consiga el dato de la curp de la ...\n",
      "\n"
     ]
    }
   ],
   "source": [
    "for i in listapreg:\n",
    "    descrip = i.find(class_=\"s-post-summary--content-excerpt\").text\n",
    "    descrip = descrip.replace(\"\\n\",\"\").replace(\"\\r\",\"\").strip()\n",
    "    textop = i.find(\"h3\").text\n",
    "    print(textop)\n",
    "    print(descrip)\n",
    "    print()"
   ]
  },
  {
   "cell_type": "markdown",
   "metadata": {},
   "source": [
    "# Ejemplo\n",
    "### Extraer de la pagina de bbva, los links de sus prospectos de sus fondos de inversión"
   ]
  },
  {
   "cell_type": "code",
   "execution_count": 7,
   "metadata": {},
   "outputs": [],
   "source": [
    "urls = ['https://www.bbva.mx/personas/productos/inversion/normativa-de-fondos/fondos-renta-variable.html','https://www.bbva.mx/personas/productos/inversion/normativa-de-fondos/fondos-de-deuda.html',\n",
    "          'https://www.bbva.mx/personas/productos/inversion/normativa-de-fondos/fondos-de-estrategias.html','https://www.bbva.mx/personas/productos/inversion/normativa-de-fondos/fondos-de-multiestrategias.html']"
   ]
  },
  {
   "cell_type": "code",
   "execution_count": 8,
   "metadata": {},
   "outputs": [],
   "source": [
    "url='https://www.bbva.mx/personas/productos/inversion/normativa-de-fondos/fondos-renta-variable.html'\n",
    "\n",
    "encabezado = {\n",
    "        'user-agent':'Mozilla/5.0 (X11; Linux x86_64) AppleWebKit/537.36 (KHTML, like Gecko) Ubuntu Chromium/71.0.3578.80 Chrome/71.0.3578.80 Safari/537.36'\n",
    "}\n",
    "\n",
    "respuesta = requests.get(url,headers=encabezado)\n",
    "parser = html.fromstring(respuesta.text)\n",
    "\n"
   ]
  },
  {
   "cell_type": "code",
   "execution_count": 9,
   "metadata": {},
   "outputs": [
    {
     "data": {
      "text/plain": [
       "<Element html at 0x2820719acb0>"
      ]
     },
     "execution_count": 9,
     "metadata": {},
     "output_type": "execute_result"
    }
   ],
   "source": [
    "parser"
   ]
  },
  {
   "cell_type": "code",
   "execution_count": 31,
   "metadata": {},
   "outputs": [
    {
     "data": {
      "text/plain": [
       "['https://portal.bbva.mx/siabinternet/Repositorio/import/doctos/analisis/00004192.pdf',\n",
       " 'https://portal.bbva.mx/siabinternet/Repositorio/import/doctos/analisis/00004826.pdf',\n",
       " 'https://portal.bbva.mx/siabinternet/Repositorio/import/doctos/analisis/00006012.pdf',\n",
       " 'https://portal.bbva.mx/siabinternet/Repositorio/import/doctos/analisis/00018047.pdf',\n",
       " 'https://portal.bbva.mx/siabinternet/Repositorio/import/doctos/analisis/00003937.pdf',\n",
       " 'https://portal.bbva.mx/siabinternet/Repositorio/import/doctos/analisis/00004509.pdf',\n",
       " 'https://portal.bbva.mx/siabinternet/Repositorio/import/doctos/analisis/00009278.pdf',\n",
       " 'https://portal.bbva.mx/siabinternet/Repositorio/import/doctos/analisis/00027565.pdf',\n",
       " 'https://portal.bbva.mx/siabinternet/Repositorio/import/doctos/analisis/00007831.pdf',\n",
       " 'https://portal.bbva.mx/siabinternet/Repositorio/import/doctos/analisis/00009637.pdf',\n",
       " 'https://portal.bbva.mx/siabinternet/Repositorio/import/doctos/analisis/00012310.pdf',\n",
       " 'https://portal.bbva.mx/siabinternet/Repositorio/import/doctos/analisis/00006345.pdf',\n",
       " 'https://portal.bbva.mx/siabinternet/Repositorio/import/doctos/analisis/00006658.pdf',\n",
       " 'https://portal.bbva.mx/siabinternet/Repositorio/import/doctos/analisis/00004845.pdf']"
      ]
     },
     "execution_count": 31,
     "metadata": {},
     "output_type": "execute_result"
    }
   ],
   "source": [
    "parser.xpath(\"//div[@class='table__container table--data-gridlines']//tr//td[position()=2]//a/@href\")"
   ]
  },
  {
   "cell_type": "code",
   "execution_count": 26,
   "metadata": {},
   "outputs": [
    {
     "data": {
      "text/plain": [
       "['https://portal.bbva.mx/siabinternet/Repositorio/import/doctos/analisis/00004192.pdf',\n",
       " 'https://portal.bbva.mx/siabinternet/Repositorio/import/doctos/analisis/00004826.pdf',\n",
       " 'https://portal.bbva.mx/siabinternet/Repositorio/import/doctos/analisis/00006012.pdf',\n",
       " 'https://portal.bbva.mx/siabinternet/Repositorio/import/doctos/analisis/00018047.pdf',\n",
       " 'https://portal.bbva.mx/siabinternet/Repositorio/import/doctos/analisis/00003937.pdf',\n",
       " 'https://portal.bbva.mx/siabinternet/Repositorio/import/doctos/analisis/00004509.pdf',\n",
       " 'https://portal.bbva.mx/siabinternet/Repositorio/import/doctos/analisis/00009278.pdf',\n",
       " 'https://portal.bbva.mx/siabinternet/Repositorio/import/doctos/analisis/00027565.pdf',\n",
       " 'https://portal.bbva.mx/siabinternet/Repositorio/import/doctos/analisis/00007831.pdf',\n",
       " 'https://portal.bbva.mx/siabinternet/Repositorio/import/doctos/analisis/00009637.pdf',\n",
       " 'https://portal.bbva.mx/siabinternet/Repositorio/import/doctos/analisis/00012310.pdf',\n",
       " 'https://portal.bbva.mx/siabinternet/Repositorio/import/doctos/analisis/00006345.pdf',\n",
       " 'https://portal.bbva.mx/siabinternet/Repositorio/import/doctos/analisis/00006658.pdf',\n",
       " 'https://portal.bbva.mx/siabinternet/Repositorio/import/doctos/analisis/00004845.pdf']"
      ]
     },
     "execution_count": 26,
     "metadata": {},
     "output_type": "execute_result"
    }
   ],
   "source": [
    "parser.xpath(\"//div[@class='table__container table--data-gridlines']//tr//td[position()=2]//a/@href\")"
   ]
  },
  {
   "cell_type": "code",
   "execution_count": 22,
   "metadata": {},
   "outputs": [
    {
     "data": {
      "text/plain": [
       "[<Element div at 0x282071a7340>,\n",
       " <Element div at 0x282071a74d0>,\n",
       " <Element div at 0x282071a7660>,\n",
       " <Element div at 0x282071a77f0>,\n",
       " <Element div at 0x282071a7980>,\n",
       " <Element div at 0x282071a7b10>,\n",
       " <Element div at 0x282071a7ca0>,\n",
       " <Element div at 0x282071a7e30>,\n",
       " <Element div at 0x282071a7fc0>,\n",
       " <Element div at 0x282071a8190>,\n",
       " <Element div at 0x282071a8320>,\n",
       " <Element div at 0x282071a84b0>,\n",
       " <Element div at 0x282071a8640>,\n",
       " <Element div at 0x282071a87d0>,\n",
       " <Element div at 0x282071a8960>]"
      ]
     },
     "execution_count": 22,
     "metadata": {},
     "output_type": "execute_result"
    }
   ],
   "source": [
    "parser.xpath(\"//div[@class='table__container table--data-gridlines']//tr//td[position()=2]//div[@class='table--value']\")"
   ]
  },
  {
   "cell_type": "code",
   "execution_count": 27,
   "metadata": {},
   "outputs": [
    {
     "data": {
      "text/plain": [
       "['\\n     ',\n",
       " '\\n     ',\n",
       " '\\n    ',\n",
       " '\\n     B+RVUS2\\n    ',\n",
       " '\\n     BBVARFG\\n    ',\n",
       " '\\n     BBVARFL\\n    ',\n",
       " '\\n     BBVACAP\\n    ',\n",
       " '\\n     BBVACRE\\n    ',\n",
       " '\\n     BBVARVE\\n    ',\n",
       " '\\n     BBVAEMG\\n    ',\n",
       " '\\n     BBVAESG\\n    ',\n",
       " '\\n     BBVANDQ\\n    ',\n",
       " '\\n     BBVARV\\n    ',\n",
       " '\\n     BBVADIG\\n    ',\n",
       " '\\n     BBVASIC\\n    ',\n",
       " '\\n     BBVAUS\\n    ',\n",
       " '\\n     BBVANSH\\n    ']"
      ]
     },
     "execution_count": 27,
     "metadata": {},
     "output_type": "execute_result"
    }
   ],
   "source": [
    "parser.xpath('//div[@class=\"table__container table--data-gridlines\"]//tr//td[position()=1]//div[@class=\"table--value\"]/text()')"
   ]
  },
  {
   "cell_type": "code",
   "execution_count": 32,
   "metadata": {},
   "outputs": [],
   "source": [
    "\n",
    "linksprospec =parser.xpath('//div[@class=\"table__container table--data-gridlines\"]//tr//td[position()=2]//div[@class=\"table--value\"]//a/@href')\n",
    "\n",
    "fondos =parser.xpath('//div[@class=\"table__container table--data-gridlines\"]//tr//td[position()=1]//div[@class=\"table--value\"]/text()')\n"
   ]
  },
  {
   "cell_type": "code",
   "execution_count": null,
   "metadata": {},
   "outputs": [],
   "source": [
    "linksprospec"
   ]
  },
  {
   "cell_type": "code",
   "execution_count": null,
   "metadata": {},
   "outputs": [],
   "source": [
    "fondos   #limpiar texto"
   ]
  },
  {
   "cell_type": "code",
   "execution_count": 33,
   "metadata": {},
   "outputs": [],
   "source": [
    "fontot= [x for x in list(map(lambda x: x.replace(\"\\n\",\"\").strip(),fondos)) if x!='']"
   ]
  },
  {
   "cell_type": "code",
   "execution_count": null,
   "metadata": {},
   "outputs": [],
   "source": [
    "fontot"
   ]
  },
  {
   "cell_type": "code",
   "execution_count": 34,
   "metadata": {},
   "outputs": [
    {
     "data": {
      "text/plain": [
       "['B+RVUS2',\n",
       " 'BBVARFG',\n",
       " 'BBVARFL',\n",
       " 'BBVACAP',\n",
       " 'BBVACRE',\n",
       " 'BBVARVE',\n",
       " 'BBVAEMG',\n",
       " 'BBVAESG',\n",
       " 'BBVANDQ',\n",
       " 'BBVARV',\n",
       " 'BBVADIG',\n",
       " 'BBVASIC',\n",
       " 'BBVAUS',\n",
       " 'BBVANSH']"
      ]
     },
     "execution_count": 34,
     "metadata": {},
     "output_type": "execute_result"
    }
   ],
   "source": [
    "f=[x.replace(\"\\n\",\"\").strip() for x in fondos]\n",
    "\n",
    "list(filter(None,f))"
   ]
  },
  {
   "cell_type": "markdown",
   "metadata": {},
   "source": [
    "# Automatización de rutinas"
   ]
  },
  {
   "cell_type": "markdown",
   "metadata": {},
   "source": [
    "# Selenium"
   ]
  },
  {
   "cell_type": "markdown",
   "metadata": {},
   "source": [
    "En sus inicios, Selenium fue desarrollado para facilitar la automatización de pruebas en entornos que utilizan navegadores web como interfaz, permitiendo verificar cada cambio en un entorno controlado y automático. Aunque en proyectos pequeños las pruebas manuales pueden ser suficientes, el creciente número de navegadores y la complejidad de las aplicaciones hacen que la automatización sea cada vez más necesaria. Selenium ofrece un conjunto de funciones que permiten definir pruebas automáticas, ejecutar interacciones paso a paso con una página web y evaluar cómo responde el navegador ante diferentes cambios, facilitando así la detección automática de resultados y validando si el comportamiento cumple con las expectativas.\n",
    "\n",
    "Para un uso efectivo de Selenium, es recomendable tener conocimientos básicos de desarrollo front-end, especialmente del DOM (Document Object Model).\n",
    "\n",
    "En el contexto de este curso, Selenium se empleará para automatizar tareas repetitivas que, combinadas con técnicas de web scraping vistas previamente, constituyen una herramienta poderosa para manejar páginas web dinámicas que requieren interacciones de usuario para acceder a ciertos elementos del DOM.\n",
    "\n",
    "Para usar Selenium en Python, básicamente necesitaremos dos componentes: la biblioteca de Selenium y un driver, que es el navegador que se utilizará para ejecutar las pruebas. Para este curso utilizaremos Chrome, por lo que descargaremos el driver correspondiente desde la página oficial de Selenium."
   ]
  },
  {
   "cell_type": "markdown",
   "metadata": {},
   "source": [
    "[Descarga de WebDriver](https://googlechromelabs.github.io/chrome-for-testing/)  "
   ]
  },
  {
   "cell_type": "markdown",
   "metadata": {},
   "source": [
    "Una vez descargado lo guardaremos en una carpeta donde nos direccionaremos cada vez que lo usemos"
   ]
  },
  {
   "cell_type": "code",
   "execution_count": null,
   "metadata": {},
   "outputs": [],
   "source": [
    "!pip install selenium"
   ]
  },
  {
   "cell_type": "markdown",
   "metadata": {},
   "source": [
    "First import the webdriver and Keys classes from Selenium."
   ]
  },
  {
   "cell_type": "code",
   "execution_count": 35,
   "metadata": {},
   "outputs": [],
   "source": [
    "from selenium import webdriver\n",
    "from selenium.webdriver.common.keys import Keys"
   ]
  },
  {
   "cell_type": "code",
   "execution_count": null,
   "metadata": {},
   "outputs": [],
   "source": [
    "busq.sent_keys(\"fondo\")"
   ]
  },
  {
   "cell_type": "markdown",
   "metadata": {},
   "source": [
    "La clase webdriver lo conectará a la instancia de un navegador( el webDriver). La clase Keys le permite emular el trazo de las teclas del teclado, incluidas teclas especiales como \"Shift\" y \"Return\" con lo que podremos presioanr, rellenar campos, hacer checks, etc."
   ]
  },
  {
   "cell_type": "markdown",
   "metadata": {},
   "source": [
    "A continuación, se debe crear una instancia de Chrome con la ruta del controlador que descargó a través de los sitios web del navegador respectivo. ."
   ]
  },
  {
   "cell_type": "code",
   "execution_count": 37,
   "metadata": {},
   "outputs": [
    {
     "data": {
      "text/plain": [
       "<selenium.webdriver.chrome.webdriver.WebDriver (session=\"cee1b015dd5c24e0e005299eefc0fbf2\")>"
      ]
     },
     "execution_count": 37,
     "metadata": {},
     "output_type": "execute_result"
    }
   ],
   "source": [
    "webdriver.Chrome()"
   ]
  },
  {
   "cell_type": "code",
   "execution_count": 40,
   "metadata": {},
   "outputs": [],
   "source": [
    "driver = webdriver.Chrome()"
   ]
  },
  {
   "cell_type": "code",
   "execution_count": 41,
   "metadata": {},
   "outputs": [],
   "source": [
    "driver.maximize_window()"
   ]
  },
  {
   "cell_type": "markdown",
   "metadata": {},
   "source": [
    "A partir de ahora podremos acceder a las paginas que deseemos y extraer elementos del doom como conocemos apoyandonos de las clases, etiquetas, ids, etc."
   ]
  },
  {
   "cell_type": "code",
   "execution_count": 43,
   "metadata": {},
   "outputs": [],
   "source": [
    "urls=\"https://www.scotiabank.com.mx/scotia-fondos/terceros-distribuidores.aspx\""
   ]
  },
  {
   "cell_type": "code",
   "execution_count": 44,
   "metadata": {},
   "outputs": [],
   "source": [
    "driver.get(urls)"
   ]
  },
  {
   "cell_type": "markdown",
   "metadata": {},
   "source": [
    "Hay que recordar que algunas paginas presentan protocolos de seguridad con lo que detectan cuando se esta generando un proceso de forma automatizada, por lo que para realizar una simulacion más \"humana\", usaremos el modulo sleep con el cual detendremos por algunos segundos algunos procesos, con lo cual no se realizara simultaneamente todas las tareas"
   ]
  },
  {
   "cell_type": "code",
   "execution_count": 45,
   "metadata": {},
   "outputs": [],
   "source": [
    "from time import sleep"
   ]
  },
  {
   "cell_type": "code",
   "execution_count": 46,
   "metadata": {},
   "outputs": [
    {
     "name": "stdout",
     "output_type": "stream",
     "text": [
      "hola mundo\n",
      "adios mundo\n"
     ]
    }
   ],
   "source": [
    "print(\"hola mundo\")\n",
    "print(\"adios mundo\")"
   ]
  },
  {
   "cell_type": "code",
   "execution_count": 47,
   "metadata": {},
   "outputs": [
    {
     "name": "stdout",
     "output_type": "stream",
     "text": [
      "hola mundo\n",
      "adios mundo\n"
     ]
    }
   ],
   "source": [
    "print(\"hola mundo\")\n",
    "sleep(5)\n",
    "print(\"adios mundo\")"
   ]
  },
  {
   "cell_type": "markdown",
   "metadata": {},
   "source": [
    "Una vez teniendo nuestro driver funcional , tenemos acceso a todas las propeidades de la pag asi como su contenido HTML"
   ]
  },
  {
   "cell_type": "code",
   "execution_count": 49,
   "metadata": {},
   "outputs": [
    {
     "name": "stdout",
     "output_type": "stream",
     "text": [
      "Terceros Distribuidores | Fondos de Inversión | Scotiabank México\n"
     ]
    }
   ],
   "source": [
    "print(driver.title)"
   ]
  },
  {
   "cell_type": "markdown",
   "metadata": {},
   "source": [
    "### HTML en selenium"
   ]
  },
  {
   "cell_type": "markdown",
   "metadata": {},
   "source": [
    "Elementos únicos  \n",
    "* find_element(By.ID, \"id\")\n",
    "* find_element(By.NAME, \"name\")\n",
    "* find_element(By.XPATH, \"xpath\")\n",
    "* find_element(By.LINK_TEXT, \"link text\")\n",
    "* find_element(By.PARTIAL_LINK_TEXT, \"partial link text\")\n",
    "* find_element(By.TAG_NAME, \"tag name\")\n",
    "* find_element(By.CLASS_NAME, \"class name\")\n",
    "* find_element(By.CSS_SELECTOR, \"css selector\")\n",
    "\n",
    "Elementos múltiples  \n",
    "* find_elements(By.ID, \"id\")\n",
    "* find_elements(By.NAME, \"name\")\n",
    "* find_elements(By.XPATH, \"xpath\")\n",
    "* find_elements(By.LINK_TEXT, \"link text\")\n",
    "* find_elements(By.PARTIAL_LINK_TEXT, \"partial link text\")\n",
    "* find_elements(By.TAG_NAME, \"tag name\")\n",
    "* find_elements(By.CLASS_NAME, \"class name\")\n",
    "* find_elements(By.CSS_SELECTOR, \"css selector\")"
   ]
  },
  {
   "cell_type": "code",
   "execution_count": 50,
   "metadata": {},
   "outputs": [],
   "source": [
    "from selenium.webdriver.common.by import By"
   ]
  },
  {
   "cell_type": "code",
   "execution_count": 51,
   "metadata": {},
   "outputs": [
    {
     "data": {
      "text/plain": [
       "<selenium.webdriver.remote.webelement.WebElement (session=\"0a3535cc1c9a2b55947f9509b2968aad\", element=\"f.65101F219E1C466D789807371472CC83.d.5ECC9D30E3C764D37826A01BF42F94D9.e.62\")>"
      ]
     },
     "execution_count": 51,
     "metadata": {},
     "output_type": "execute_result"
    }
   ],
   "source": [
    "driver.find_element(By.CLASS_NAME,\"block-noBttm\")"
   ]
  },
  {
   "cell_type": "code",
   "execution_count": 52,
   "metadata": {},
   "outputs": [
    {
     "data": {
      "text/plain": [
       "[<selenium.webdriver.remote.webelement.WebElement (session=\"0a3535cc1c9a2b55947f9509b2968aad\", element=\"f.65101F219E1C466D789807371472CC83.d.5ECC9D30E3C764D37826A01BF42F94D9.e.62\")>,\n",
       " <selenium.webdriver.remote.webelement.WebElement (session=\"0a3535cc1c9a2b55947f9509b2968aad\", element=\"f.65101F219E1C466D789807371472CC83.d.5ECC9D30E3C764D37826A01BF42F94D9.e.100\")>]"
      ]
     },
     "execution_count": 52,
     "metadata": {},
     "output_type": "execute_result"
    }
   ],
   "source": [
    "driver.find_elements(By.CLASS_NAME,\"block-noBttm\")"
   ]
  },
  {
   "cell_type": "code",
   "execution_count": 53,
   "metadata": {},
   "outputs": [],
   "source": [
    "# se guardan en variables los contenedores\n",
    "x = driver.find_elements(By.CLASS_NAME,\"block-noBttm\")"
   ]
  },
  {
   "cell_type": "code",
   "execution_count": 54,
   "metadata": {},
   "outputs": [
    {
     "data": {
      "text/plain": [
       "[<selenium.webdriver.remote.webelement.WebElement (session=\"0a3535cc1c9a2b55947f9509b2968aad\", element=\"f.65101F219E1C466D789807371472CC83.d.5ECC9D30E3C764D37826A01BF42F94D9.e.62\")>,\n",
       " <selenium.webdriver.remote.webelement.WebElement (session=\"0a3535cc1c9a2b55947f9509b2968aad\", element=\"f.65101F219E1C466D789807371472CC83.d.5ECC9D30E3C764D37826A01BF42F94D9.e.100\")>]"
      ]
     },
     "execution_count": 54,
     "metadata": {},
     "output_type": "execute_result"
    }
   ],
   "source": [
    "x   #es una lista , no el elemento web"
   ]
  },
  {
   "cell_type": "code",
   "execution_count": 55,
   "metadata": {},
   "outputs": [
    {
     "ename": "AttributeError",
     "evalue": "'list' object has no attribute 'find_element'",
     "output_type": "error",
     "traceback": [
      "\u001b[1;31m---------------------------------------------------------------------------\u001b[0m",
      "\u001b[1;31mAttributeError\u001b[0m                            Traceback (most recent call last)",
      "Cell \u001b[1;32mIn[55], line 1\u001b[0m\n\u001b[1;32m----> 1\u001b[0m x\u001b[38;5;241m.\u001b[39mfind_element(By\u001b[38;5;241m.\u001b[39mCLASS_NAME,\u001b[38;5;124m\"\u001b[39m\u001b[38;5;124mgreen-list\u001b[39m\u001b[38;5;124m\"\u001b[39m)\n",
      "\u001b[1;31mAttributeError\u001b[0m: 'list' object has no attribute 'find_element'"
     ]
    }
   ],
   "source": [
    "x.find_element(By.CLASS_NAME,\"green-list\")"
   ]
  },
  {
   "cell_type": "code",
   "execution_count": 56,
   "metadata": {},
   "outputs": [
    {
     "data": {
      "text/plain": [
       "<selenium.webdriver.remote.webelement.WebElement (session=\"0a3535cc1c9a2b55947f9509b2968aad\", element=\"f.65101F219E1C466D789807371472CC83.d.5ECC9D30E3C764D37826A01BF42F94D9.e.62\")>"
      ]
     },
     "execution_count": 56,
     "metadata": {},
     "output_type": "execute_result"
    }
   ],
   "source": [
    "x[0]"
   ]
  },
  {
   "cell_type": "code",
   "execution_count": 59,
   "metadata": {},
   "outputs": [
    {
     "data": {
      "text/plain": [
       "<selenium.webdriver.remote.webelement.WebElement (session=\"0a3535cc1c9a2b55947f9509b2968aad\", element=\"f.65101F219E1C466D789807371472CC83.d.5ECC9D30E3C764D37826A01BF42F94D9.e.63\")>"
      ]
     },
     "execution_count": 59,
     "metadata": {},
     "output_type": "execute_result"
    }
   ],
   "source": [
    "x[0].find_element(By.CLASS_NAME,\"green-list\")"
   ]
  },
  {
   "cell_type": "code",
   "execution_count": null,
   "metadata": {},
   "outputs": [],
   "source": [
    "x"
   ]
  },
  {
   "cell_type": "code",
   "execution_count": 60,
   "metadata": {
    "collapsed": true
   },
   "outputs": [
    {
     "data": {
      "text/plain": [
       "[[<selenium.webdriver.remote.webelement.WebElement (session=\"0a3535cc1c9a2b55947f9509b2968aad\", element=\"f.65101F219E1C466D789807371472CC83.d.5ECC9D30E3C764D37826A01BF42F94D9.e.63\")>,\n",
       "  <selenium.webdriver.remote.webelement.WebElement (session=\"0a3535cc1c9a2b55947f9509b2968aad\", element=\"f.65101F219E1C466D789807371472CC83.d.5ECC9D30E3C764D37826A01BF42F94D9.e.101\")>,\n",
       "  <selenium.webdriver.remote.webelement.WebElement (session=\"0a3535cc1c9a2b55947f9509b2968aad\", element=\"f.65101F219E1C466D789807371472CC83.d.5ECC9D30E3C764D37826A01BF42F94D9.e.102\")>],\n",
       " []]"
      ]
     },
     "execution_count": 60,
     "metadata": {},
     "output_type": "execute_result"
    }
   ],
   "source": [
    "[y.find_elements(By.CLASS_NAME,\"green-list\") for y in x]"
   ]
  },
  {
   "cell_type": "markdown",
   "metadata": {},
   "source": [
    "Veamos como utilizar estos elementos\n"
   ]
  },
  {
   "cell_type": "code",
   "execution_count": null,
   "metadata": {},
   "outputs": [],
   "source": []
  },
  {
   "cell_type": "code",
   "execution_count": 61,
   "metadata": {},
   "outputs": [],
   "source": [
    "contTipos = x[0].find_element(By.CLASS_NAME,\"green-list\")"
   ]
  },
  {
   "cell_type": "code",
   "execution_count": 62,
   "metadata": {},
   "outputs": [
    {
     "data": {
      "text/plain": [
       "<selenium.webdriver.remote.webelement.WebElement (session=\"0a3535cc1c9a2b55947f9509b2968aad\", element=\"f.65101F219E1C466D789807371472CC83.d.5ECC9D30E3C764D37826A01BF42F94D9.e.63\")>"
      ]
     },
     "execution_count": 62,
     "metadata": {},
     "output_type": "execute_result"
    }
   ],
   "source": [
    "contTipos"
   ]
  },
  {
   "cell_type": "markdown",
   "metadata": {},
   "source": [
    "entrar a los links y regresar"
   ]
  },
  {
   "cell_type": "code",
   "execution_count": 63,
   "metadata": {},
   "outputs": [
    {
     "data": {
      "text/plain": [
       "[<selenium.webdriver.remote.webelement.WebElement (session=\"0a3535cc1c9a2b55947f9509b2968aad\", element=\"f.65101F219E1C466D789807371472CC83.d.5ECC9D30E3C764D37826A01BF42F94D9.e.103\")>,\n",
       " <selenium.webdriver.remote.webelement.WebElement (session=\"0a3535cc1c9a2b55947f9509b2968aad\", element=\"f.65101F219E1C466D789807371472CC83.d.5ECC9D30E3C764D37826A01BF42F94D9.e.104\")>,\n",
       " <selenium.webdriver.remote.webelement.WebElement (session=\"0a3535cc1c9a2b55947f9509b2968aad\", element=\"f.65101F219E1C466D789807371472CC83.d.5ECC9D30E3C764D37826A01BF42F94D9.e.105\")>,\n",
       " <selenium.webdriver.remote.webelement.WebElement (session=\"0a3535cc1c9a2b55947f9509b2968aad\", element=\"f.65101F219E1C466D789807371472CC83.d.5ECC9D30E3C764D37826A01BF42F94D9.e.106\")>,\n",
       " <selenium.webdriver.remote.webelement.WebElement (session=\"0a3535cc1c9a2b55947f9509b2968aad\", element=\"f.65101F219E1C466D789807371472CC83.d.5ECC9D30E3C764D37826A01BF42F94D9.e.107\")>,\n",
       " <selenium.webdriver.remote.webelement.WebElement (session=\"0a3535cc1c9a2b55947f9509b2968aad\", element=\"f.65101F219E1C466D789807371472CC83.d.5ECC9D30E3C764D37826A01BF42F94D9.e.108\")>,\n",
       " <selenium.webdriver.remote.webelement.WebElement (session=\"0a3535cc1c9a2b55947f9509b2968aad\", element=\"f.65101F219E1C466D789807371472CC83.d.5ECC9D30E3C764D37826A01BF42F94D9.e.109\")>]"
      ]
     },
     "execution_count": 63,
     "metadata": {},
     "output_type": "execute_result"
    }
   ],
   "source": [
    "contTipos.find_elements(By.TAG_NAME,\"a\")"
   ]
  },
  {
   "cell_type": "code",
   "execution_count": 64,
   "metadata": {},
   "outputs": [],
   "source": [
    "links=contTipos.find_elements(By.TAG_NAME,\"a\")"
   ]
  },
  {
   "cell_type": "code",
   "execution_count": 65,
   "metadata": {},
   "outputs": [
    {
     "data": {
      "text/plain": [
       "<selenium.webdriver.remote.webelement.WebElement (session=\"0a3535cc1c9a2b55947f9509b2968aad\", element=\"f.65101F219E1C466D789807371472CC83.d.5ECC9D30E3C764D37826A01BF42F94D9.e.103\")>"
      ]
     },
     "execution_count": 65,
     "metadata": {},
     "output_type": "execute_result"
    }
   ],
   "source": [
    "links[0]"
   ]
  },
  {
   "cell_type": "code",
   "execution_count": 66,
   "metadata": {},
   "outputs": [],
   "source": [
    "links[0].click()   # dar click en enlases, deben estar en el elemento web que contiene el link"
   ]
  },
  {
   "cell_type": "code",
   "execution_count": 67,
   "metadata": {},
   "outputs": [],
   "source": [
    "driver.back()   #regresar a la pagina anterior"
   ]
  },
  {
   "cell_type": "code",
   "execution_count": 68,
   "metadata": {},
   "outputs": [
    {
     "data": {
      "text/plain": [
       "'https://www.scotiabank.com.mx/scotia-fondos/terceros-distribuidores.aspx'"
      ]
     },
     "execution_count": 68,
     "metadata": {},
     "output_type": "execute_result"
    }
   ],
   "source": [
    "driver.current_url    # obtener la url actual"
   ]
  },
  {
   "cell_type": "code",
   "execution_count": 69,
   "metadata": {},
   "outputs": [],
   "source": [
    "driver.forward()   # ir a pagina adelante"
   ]
  },
  {
   "cell_type": "code",
   "execution_count": 70,
   "metadata": {},
   "outputs": [
    {
     "data": {
      "text/plain": [
       "'https://www.scotiabank.com.mx/scotia-fondos/deuda-plazos.aspx'"
      ]
     },
     "execution_count": 70,
     "metadata": {},
     "output_type": "execute_result"
    }
   ],
   "source": [
    "driver.current_url "
   ]
  },
  {
   "cell_type": "code",
   "execution_count": 71,
   "metadata": {},
   "outputs": [],
   "source": [
    "driver.close() "
   ]
  },
  {
   "cell_type": "markdown",
   "metadata": {},
   "source": [
    "# Como podemos convinar selenium con requests"
   ]
  },
  {
   "cell_type": "code",
   "execution_count": 72,
   "metadata": {},
   "outputs": [],
   "source": [
    "driver = webdriver.Chrome()"
   ]
  },
  {
   "cell_type": "code",
   "execution_count": 73,
   "metadata": {},
   "outputs": [],
   "source": [
    "driver.maximize_window()"
   ]
  },
  {
   "cell_type": "code",
   "execution_count": 74,
   "metadata": {},
   "outputs": [],
   "source": [
    "urls=\"https://www.scotiabank.com.mx/scotia-fondos/terceros-distribuidores.aspx\""
   ]
  },
  {
   "cell_type": "code",
   "execution_count": 75,
   "metadata": {},
   "outputs": [],
   "source": [
    "driver.get(urls)"
   ]
  },
  {
   "cell_type": "code",
   "execution_count": 76,
   "metadata": {},
   "outputs": [],
   "source": [
    "x= driver.find_elements(By.CLASS_NAME,\"block-noBttm\")"
   ]
  },
  {
   "cell_type": "code",
   "execution_count": 77,
   "metadata": {},
   "outputs": [],
   "source": [
    "contTipos=x[0].find_element(By.CLASS_NAME,\"green-list\")"
   ]
  },
  {
   "cell_type": "code",
   "execution_count": 78,
   "metadata": {},
   "outputs": [],
   "source": [
    "links=contTipos.find_elements(By.TAG_NAME,\"a\")"
   ]
  },
  {
   "cell_type": "code",
   "execution_count": 84,
   "metadata": {},
   "outputs": [
    {
     "data": {
      "text/plain": [
       "['https://www.scotiabank.com.mx/scotia-fondos/deuda-plazos.aspx',\n",
       " 'https://www.scotiabank.com.mx/scotia-fondos/deuda-internacional.aspx',\n",
       " 'https://www.scotiabank.com.mx/scotia-fondos/estrategicos.aspx',\n",
       " 'https://www.scotiabank.com.mx/scotia-fondos/perspectivas.aspx',\n",
       " 'https://www.scotiabank.com.mx/scotia-fondos/futuro-retiro.aspx',\n",
       " 'https://www.scotiabank.com.mx/scotia-fondos/acciones-mexico.aspx',\n",
       " 'https://www.scotiabank.com.mx/scotia-fondos/acciones-internacionales.aspx']"
      ]
     },
     "execution_count": 84,
     "metadata": {},
     "output_type": "execute_result"
    }
   ],
   "source": [
    "[x.get_attribute(\"href\") for x in links]"
   ]
  },
  {
   "cell_type": "code",
   "execution_count": 82,
   "metadata": {
    "scrolled": true
   },
   "outputs": [
    {
     "data": {
      "text/plain": [
       "'https://www.scotiabank.com.mx/scotia-fondos/deuda-plazos.aspx'"
      ]
     },
     "execution_count": 82,
     "metadata": {},
     "output_type": "execute_result"
    }
   ],
   "source": [
    "links[0].get_attribute(\"href\")"
   ]
  },
  {
   "cell_type": "code",
   "execution_count": 85,
   "metadata": {},
   "outputs": [],
   "source": [
    "links[0].click()"
   ]
  },
  {
   "cell_type": "code",
   "execution_count": 93,
   "metadata": {},
   "outputs": [
    {
     "data": {
      "text/plain": [
       "<selenium.webdriver.remote.webelement.WebElement (session=\"f152ccc9ccb76b6e295c95ac61a13b3f\", element=\"f.7E66E93F791724F408CEEA34DBEE02D4.d.F11BBFFB61E9943AAE727AEFBBA47886.e.115\")>"
      ]
     },
     "execution_count": 93,
     "metadata": {},
     "output_type": "execute_result"
    }
   ],
   "source": [
    "driver.find_elements(By.CLASS_NAME,\"cardWrapper\")[0].find_elements(By.CLASS_NAME,\"card-found\")[0]"
   ]
  },
  {
   "cell_type": "code",
   "execution_count": 91,
   "metadata": {
    "collapsed": true
   },
   "outputs": [
    {
     "data": {
      "text/plain": [
       "[<selenium.webdriver.remote.webelement.WebElement (session=\"f152ccc9ccb76b6e295c95ac61a13b3f\", element=\"f.7E66E93F791724F408CEEA34DBEE02D4.d.F11BBFFB61E9943AAE727AEFBBA47886.e.115\")>,\n",
       " <selenium.webdriver.remote.webelement.WebElement (session=\"f152ccc9ccb76b6e295c95ac61a13b3f\", element=\"f.7E66E93F791724F408CEEA34DBEE02D4.d.F11BBFFB61E9943AAE727AEFBBA47886.e.116\")>,\n",
       " <selenium.webdriver.remote.webelement.WebElement (session=\"f152ccc9ccb76b6e295c95ac61a13b3f\", element=\"f.7E66E93F791724F408CEEA34DBEE02D4.d.F11BBFFB61E9943AAE727AEFBBA47886.e.117\")>,\n",
       " <selenium.webdriver.remote.webelement.WebElement (session=\"f152ccc9ccb76b6e295c95ac61a13b3f\", element=\"f.7E66E93F791724F408CEEA34DBEE02D4.d.F11BBFFB61E9943AAE727AEFBBA47886.e.118\")>,\n",
       " <selenium.webdriver.remote.webelement.WebElement (session=\"f152ccc9ccb76b6e295c95ac61a13b3f\", element=\"f.7E66E93F791724F408CEEA34DBEE02D4.d.F11BBFFB61E9943AAE727AEFBBA47886.e.119\")>,\n",
       " <selenium.webdriver.remote.webelement.WebElement (session=\"f152ccc9ccb76b6e295c95ac61a13b3f\", element=\"f.7E66E93F791724F408CEEA34DBEE02D4.d.F11BBFFB61E9943AAE727AEFBBA47886.e.120\")>,\n",
       " <selenium.webdriver.remote.webelement.WebElement (session=\"f152ccc9ccb76b6e295c95ac61a13b3f\", element=\"f.7E66E93F791724F408CEEA34DBEE02D4.d.F11BBFFB61E9943AAE727AEFBBA47886.e.121\")>,\n",
       " <selenium.webdriver.remote.webelement.WebElement (session=\"f152ccc9ccb76b6e295c95ac61a13b3f\", element=\"f.7E66E93F791724F408CEEA34DBEE02D4.d.F11BBFFB61E9943AAE727AEFBBA47886.e.122\")>,\n",
       " <selenium.webdriver.remote.webelement.WebElement (session=\"f152ccc9ccb76b6e295c95ac61a13b3f\", element=\"f.7E66E93F791724F408CEEA34DBEE02D4.d.F11BBFFB61E9943AAE727AEFBBA47886.e.123\")>,\n",
       " <selenium.webdriver.remote.webelement.WebElement (session=\"f152ccc9ccb76b6e295c95ac61a13b3f\", element=\"f.7E66E93F791724F408CEEA34DBEE02D4.d.F11BBFFB61E9943AAE727AEFBBA47886.e.124\")>,\n",
       " <selenium.webdriver.remote.webelement.WebElement (session=\"f152ccc9ccb76b6e295c95ac61a13b3f\", element=\"f.7E66E93F791724F408CEEA34DBEE02D4.d.F11BBFFB61E9943AAE727AEFBBA47886.e.125\")>,\n",
       " <selenium.webdriver.remote.webelement.WebElement (session=\"f152ccc9ccb76b6e295c95ac61a13b3f\", element=\"f.7E66E93F791724F408CEEA34DBEE02D4.d.F11BBFFB61E9943AAE727AEFBBA47886.e.126\")>]"
      ]
     },
     "execution_count": 91,
     "metadata": {},
     "output_type": "execute_result"
    }
   ],
   "source": [
    "driver.find_elements(By.CLASS_NAME,\"card-found\")"
   ]
  },
  {
   "cell_type": "code",
   "execution_count": 92,
   "metadata": {},
   "outputs": [
    {
     "data": {
      "text/plain": [
       "12"
      ]
     },
     "execution_count": 92,
     "metadata": {},
     "output_type": "execute_result"
    }
   ],
   "source": [
    "len(driver.find_elements(By.CLASS_NAME,\"card-found\"))"
   ]
  },
  {
   "cell_type": "code",
   "execution_count": 96,
   "metadata": {},
   "outputs": [],
   "source": [
    "tarjeta= driver.find_elements(By.CLASS_NAME,\"card-found\")"
   ]
  },
  {
   "cell_type": "code",
   "execution_count": 98,
   "metadata": {},
   "outputs": [
    {
     "data": {
      "text/plain": [
       "[<selenium.webdriver.remote.webelement.WebElement (session=\"f152ccc9ccb76b6e295c95ac61a13b3f\", element=\"f.7E66E93F791724F408CEEA34DBEE02D4.d.F11BBFFB61E9943AAE727AEFBBA47886.e.115\")>,\n",
       " <selenium.webdriver.remote.webelement.WebElement (session=\"f152ccc9ccb76b6e295c95ac61a13b3f\", element=\"f.7E66E93F791724F408CEEA34DBEE02D4.d.F11BBFFB61E9943AAE727AEFBBA47886.e.116\")>,\n",
       " <selenium.webdriver.remote.webelement.WebElement (session=\"f152ccc9ccb76b6e295c95ac61a13b3f\", element=\"f.7E66E93F791724F408CEEA34DBEE02D4.d.F11BBFFB61E9943AAE727AEFBBA47886.e.117\")>,\n",
       " <selenium.webdriver.remote.webelement.WebElement (session=\"f152ccc9ccb76b6e295c95ac61a13b3f\", element=\"f.7E66E93F791724F408CEEA34DBEE02D4.d.F11BBFFB61E9943AAE727AEFBBA47886.e.118\")>,\n",
       " <selenium.webdriver.remote.webelement.WebElement (session=\"f152ccc9ccb76b6e295c95ac61a13b3f\", element=\"f.7E66E93F791724F408CEEA34DBEE02D4.d.F11BBFFB61E9943AAE727AEFBBA47886.e.119\")>,\n",
       " <selenium.webdriver.remote.webelement.WebElement (session=\"f152ccc9ccb76b6e295c95ac61a13b3f\", element=\"f.7E66E93F791724F408CEEA34DBEE02D4.d.F11BBFFB61E9943AAE727AEFBBA47886.e.120\")>,\n",
       " <selenium.webdriver.remote.webelement.WebElement (session=\"f152ccc9ccb76b6e295c95ac61a13b3f\", element=\"f.7E66E93F791724F408CEEA34DBEE02D4.d.F11BBFFB61E9943AAE727AEFBBA47886.e.121\")>,\n",
       " <selenium.webdriver.remote.webelement.WebElement (session=\"f152ccc9ccb76b6e295c95ac61a13b3f\", element=\"f.7E66E93F791724F408CEEA34DBEE02D4.d.F11BBFFB61E9943AAE727AEFBBA47886.e.122\")>,\n",
       " <selenium.webdriver.remote.webelement.WebElement (session=\"f152ccc9ccb76b6e295c95ac61a13b3f\", element=\"f.7E66E93F791724F408CEEA34DBEE02D4.d.F11BBFFB61E9943AAE727AEFBBA47886.e.123\")>,\n",
       " <selenium.webdriver.remote.webelement.WebElement (session=\"f152ccc9ccb76b6e295c95ac61a13b3f\", element=\"f.7E66E93F791724F408CEEA34DBEE02D4.d.F11BBFFB61E9943AAE727AEFBBA47886.e.124\")>,\n",
       " <selenium.webdriver.remote.webelement.WebElement (session=\"f152ccc9ccb76b6e295c95ac61a13b3f\", element=\"f.7E66E93F791724F408CEEA34DBEE02D4.d.F11BBFFB61E9943AAE727AEFBBA47886.e.125\")>,\n",
       " <selenium.webdriver.remote.webelement.WebElement (session=\"f152ccc9ccb76b6e295c95ac61a13b3f\", element=\"f.7E66E93F791724F408CEEA34DBEE02D4.d.F11BBFFB61E9943AAE727AEFBBA47886.e.126\")>]"
      ]
     },
     "execution_count": 98,
     "metadata": {},
     "output_type": "execute_result"
    }
   ],
   "source": [
    "tarjeta"
   ]
  },
  {
   "cell_type": "code",
   "execution_count": 100,
   "metadata": {
    "collapsed": true
   },
   "outputs": [
    {
     "data": {
      "text/plain": [
       "[<selenium.webdriver.remote.webelement.WebElement (session=\"f152ccc9ccb76b6e295c95ac61a13b3f\", element=\"f.7E66E93F791724F408CEEA34DBEE02D4.d.F11BBFFB61E9943AAE727AEFBBA47886.e.127\")>,\n",
       " <selenium.webdriver.remote.webelement.WebElement (session=\"f152ccc9ccb76b6e295c95ac61a13b3f\", element=\"f.7E66E93F791724F408CEEA34DBEE02D4.d.F11BBFFB61E9943AAE727AEFBBA47886.e.128\")>,\n",
       " <selenium.webdriver.remote.webelement.WebElement (session=\"f152ccc9ccb76b6e295c95ac61a13b3f\", element=\"f.7E66E93F791724F408CEEA34DBEE02D4.d.F11BBFFB61E9943AAE727AEFBBA47886.e.129\")>,\n",
       " <selenium.webdriver.remote.webelement.WebElement (session=\"f152ccc9ccb76b6e295c95ac61a13b3f\", element=\"f.7E66E93F791724F408CEEA34DBEE02D4.d.F11BBFFB61E9943AAE727AEFBBA47886.e.130\")>,\n",
       " <selenium.webdriver.remote.webelement.WebElement (session=\"f152ccc9ccb76b6e295c95ac61a13b3f\", element=\"f.7E66E93F791724F408CEEA34DBEE02D4.d.F11BBFFB61E9943AAE727AEFBBA47886.e.131\")>,\n",
       " <selenium.webdriver.remote.webelement.WebElement (session=\"f152ccc9ccb76b6e295c95ac61a13b3f\", element=\"f.7E66E93F791724F408CEEA34DBEE02D4.d.F11BBFFB61E9943AAE727AEFBBA47886.e.132\")>,\n",
       " <selenium.webdriver.remote.webelement.WebElement (session=\"f152ccc9ccb76b6e295c95ac61a13b3f\", element=\"f.7E66E93F791724F408CEEA34DBEE02D4.d.F11BBFFB61E9943AAE727AEFBBA47886.e.133\")>,\n",
       " <selenium.webdriver.remote.webelement.WebElement (session=\"f152ccc9ccb76b6e295c95ac61a13b3f\", element=\"f.7E66E93F791724F408CEEA34DBEE02D4.d.F11BBFFB61E9943AAE727AEFBBA47886.e.134\")>,\n",
       " <selenium.webdriver.remote.webelement.WebElement (session=\"f152ccc9ccb76b6e295c95ac61a13b3f\", element=\"f.7E66E93F791724F408CEEA34DBEE02D4.d.F11BBFFB61E9943AAE727AEFBBA47886.e.135\")>,\n",
       " <selenium.webdriver.remote.webelement.WebElement (session=\"f152ccc9ccb76b6e295c95ac61a13b3f\", element=\"f.7E66E93F791724F408CEEA34DBEE02D4.d.F11BBFFB61E9943AAE727AEFBBA47886.e.136\")>,\n",
       " <selenium.webdriver.remote.webelement.WebElement (session=\"f152ccc9ccb76b6e295c95ac61a13b3f\", element=\"f.7E66E93F791724F408CEEA34DBEE02D4.d.F11BBFFB61E9943AAE727AEFBBA47886.e.137\")>,\n",
       " <selenium.webdriver.remote.webelement.WebElement (session=\"f152ccc9ccb76b6e295c95ac61a13b3f\", element=\"f.7E66E93F791724F408CEEA34DBEE02D4.d.F11BBFFB61E9943AAE727AEFBBA47886.e.138\")>]"
      ]
     },
     "execution_count": 100,
     "metadata": {},
     "output_type": "execute_result"
    }
   ],
   "source": [
    "[x.find_element(By.TAG_NAME,\"a\") for x in tarjeta]"
   ]
  },
  {
   "cell_type": "code",
   "execution_count": 97,
   "metadata": {},
   "outputs": [
    {
     "ename": "AttributeError",
     "evalue": "'list' object has no attribute 'find_elements'",
     "output_type": "error",
     "traceback": [
      "\u001b[1;31m---------------------------------------------------------------------------\u001b[0m",
      "\u001b[1;31mAttributeError\u001b[0m                            Traceback (most recent call last)",
      "Cell \u001b[1;32mIn[97], line 1\u001b[0m\n\u001b[1;32m----> 1\u001b[0m tarjeta\u001b[38;5;241m.\u001b[39mfind_elements(By\u001b[38;5;241m.\u001b[39mTAG_NAME,\u001b[38;5;124m\"\u001b[39m\u001b[38;5;124ma\u001b[39m\u001b[38;5;124m\"\u001b[39m)\n",
      "\u001b[1;31mAttributeError\u001b[0m: 'list' object has no attribute 'find_elements'"
     ]
    }
   ],
   "source": [
    "tarjeta.find_elements(By.TAG_NAME,\"a\")"
   ]
  },
  {
   "cell_type": "code",
   "execution_count": 101,
   "metadata": {},
   "outputs": [],
   "source": [
    "links=[x.find_element(By.TAG_NAME,\"a\") for x in tarjeta]"
   ]
  },
  {
   "cell_type": "code",
   "execution_count": 103,
   "metadata": {},
   "outputs": [
    {
     "data": {
      "text/plain": [
       "'https://www.scotiabank.com.mx/scotia-fondos/deuda-plazos/scotiag.aspx'"
      ]
     },
     "execution_count": 103,
     "metadata": {},
     "output_type": "execute_result"
    }
   ],
   "source": [
    "links[0].get_attribute(\"href\")"
   ]
  },
  {
   "cell_type": "code",
   "execution_count": 104,
   "metadata": {},
   "outputs": [
    {
     "data": {
      "text/plain": [
       "'https://www.scotiabank.com.mx/scotia-fondos/deuda-plazos/scotiag.aspx'"
      ]
     },
     "execution_count": 104,
     "metadata": {},
     "output_type": "execute_result"
    }
   ],
   "source": [
    "links[0].get_attribute(\"href\")"
   ]
  },
  {
   "cell_type": "code",
   "execution_count": null,
   "metadata": {},
   "outputs": [],
   "source": [
    "links[0].get_attribute(\"href\")"
   ]
  },
  {
   "cell_type": "code",
   "execution_count": null,
   "metadata": {},
   "outputs": [],
   "source": [
    "# si quisieramos el texto de las cartas"
   ]
  },
  {
   "cell_type": "code",
   "execution_count": 105,
   "metadata": {
    "collapsed": true
   },
   "outputs": [
    {
     "data": {
      "text/plain": [
       "['\\n<div>Scotia Deuda Gubernamental Corto Plazo</div>\\n<div>SCOTIAG</div>\\n<div>El fondo invierte 100% en valores gubernamentales de corto plazo</div>\\n<div><a href=\"https://www.scotiabank.com.mx/scotia-fondos/deuda-plazos/scotiag.aspx\"><img alt=\"flecha derecha\" src=\"https://cdn.aglty.io/scotia-bank-mexico/digital-factory/fi/img/arrowR.svg\"></a></div>\\n',\n",
       " '\\n<div>Scotia Deuda Corto Plazo Plus</div>\\n<div>SCOTIA1</div>\\n<div>El fondo invierte en instrumentos corporativos, bancarios y gubernamentales de corto y mediano plazo</div>\\n<div><a href=\"https://www.scotiabank.com.mx/scotia-fondos/deuda-plazos/scotia1.aspx\"><img alt=\"flecha derecha\" src=\"https://cdn.aglty.io/scotia-bank-mexico/digital-factory/fi/img/arrowR.svg\"></a></div>\\n',\n",
       " '\\n<div>Scotia Deuda Corto Plazo</div>\\n<div>SBANKCP</div>\\n<div>El fondo invierte en instrumentos corporativos, bancarios y gubernamentales de corto y mediano plazo</div>\\n<div><a href=\"https://www.scotiabank.com.mx/scotia-fondos/deuda-plazos/sbankcp.aspx\"><img alt=\"flecha derecha\" src=\"https://cdn.aglty.io/scotia-bank-mexico/digital-factory/fi/img/arrowR.svg\"></a></div>\\n',\n",
       " '\\n<div>Scotia Deuda Mediano Plazo</div>\\n<div>SCOTIA2</div>\\n<div>El fondo invierte en instrumentos corporativos, bancarios y gubernamentales de mediano plazo</div>\\n<div><a href=\"https://www.scotiabank.com.mx/scotia-fondos/deuda-plazos/scotia2.aspx\"><img alt=\"flecha derecha\" src=\"https://cdn.aglty.io/scotia-bank-mexico/digital-factory/fi/img/arrowR.svg\"></a></div>\\n',\n",
       " '\\n<div>Scotia Deuda Corporativa Mediano Plazo</div>\\n<div>SCOTI10</div>\\n<div>El fondo invierte principalmente en instrumentos corporativos de mediano plazo</div>\\n<div><a href=\"https://www.scotiabank.com.mx/scotia-fondos/deuda-plazos/scoti10.aspx\"><img alt=\"flecha derecha\" src=\"https://cdn.aglty.io/scotia-bank-mexico/digital-factory/fi/img/arrowR.svg\"></a></div>\\n',\n",
       " '\\n<div>Scotia Deuda Mediano Plazo Fondo de Fondos</div>\\n<div>SBANKMP</div>\\n<div>El fondo invierte mayoritariamente en deuda nacional a través de fondos de deuda de Scotiabank</div>\\n<div><a href=\"https://www.scotiabank.com.mx/scotia-fondos/deuda-plazos/sbankmp.aspx\"><img alt=\"flecha derecha\" src=\"https://cdn.aglty.io/scotia-bank-mexico/digital-factory/fi/img/arrowR.svg\"></a></div>\\n',\n",
       " '\\n<div>Scotia Deuda Tasa Real</div>\\n<div>SCOT-TR</div>\\n<div>El fondo invierte en instrumentos corporativos, gubernamentales y bancarios a tasa real de corto y mediano plazo</div>\\n<div><a href=\"https://www.scotiabank.com.mx/scotia-fondos/deuda-plazos/scot-tr.aspx\"><img alt=\"flecha derecha\" src=\"https://cdn.aglty.io/scotia-bank-mexico/digital-factory/fi/img/arrowR.svg\"></a></div>\\n',\n",
       " '\\n<div>Scotia Deuda Largo Plazo</div>\\n<div>SCOTILP</div>\\n<div>El fondo invierte en instrumentos corporativos, bancarios y gubernamentales de largo plazo</div>\\n<div><a href=\"https://www.scotiabank.com.mx/scotia-fondos/deuda-plazos/scotilp.aspx\"><img alt=\"flecha derecha\" src=\"https://cdn.aglty.io/scotia-bank-mexico/digital-factory/fi/img/arrowR.svg\"></a></div>\\n',\n",
       " '\\n<div>Scotia Deuda Quant</div>\\n<div>SCOTIMB</div>\\n<div>El fondo invierte 100% en bonos gubernamentales de tasa fija nominal</div>\\n<div><a href=\"https://www.scotiabank.com.mx/scotia-fondos/deuda-plazos/scotimb.aspx\"><img alt=\"flecha derecha\" src=\"https://cdn.aglty.io/scotia-bank-mexico/digital-factory/fi/img/arrowR.svg\"></a></div>\\n',\n",
       " '\\n<div>Scotia Deuda Gubernamental Tasa Real</div>\\n<div>SCOTUDI</div>\\n<div>El fondo invierte principalmente en udibonos de largo plazo</div>\\n<div><a href=\"https://www.scotiabank.com.mx/scotia-fondos/deuda-plazos/scotudi.aspx\"><img alt=\"flecha derecha\" src=\"https://cdn.aglty.io/scotia-bank-mexico/digital-factory/fi/img/arrowR.svg\"></a></div>\\n',\n",
       " '\\n<div>Scotia Gubernamental Largo Plazo</div>\\n<div>SCOTLPG</div>\\n<div>El fondo invierte 100% en valores gubernamentales de largo plazo</div>\\n<div><a href=\"https://www.scotiabank.com.mx/scotia-fondos/deuda-plazos/scotlpg.aspx\"><img alt=\"flecha derecha\" src=\"https://cdn.aglty.io/scotia-bank-mexico/digital-factory/fi/img/arrowR.svg\"></a></div>\\n',\n",
       " '\\n<div>Scotia SAMA Deuda Gubernamental</div>\\n<div>SCOT200</div>\\n<div>El fondo invierte 100% en valores gubernamentales de corto, mediano y largo plazo</div>\\n<div><a href=\"https://www.scotiabank.com.mx/scotia-fondos/deuda-plazos/scot200.aspx\"><img alt=\"flecha derecha\" src=\"https://cdn.aglty.io/scotia-bank-mexico/digital-factory/fi/img/arrowR.svg\"></a></div>\\n']"
      ]
     },
     "execution_count": 105,
     "metadata": {},
     "output_type": "execute_result"
    }
   ],
   "source": [
    "[x.get_attribute(\"innerHTML\") for x in tarjeta]"
   ]
  },
  {
   "cell_type": "code",
   "execution_count": 106,
   "metadata": {},
   "outputs": [
    {
     "data": {
      "text/plain": [
       "['https://www.scotiabank.com.mx/scotia-fondos/deuda-plazos/scotiag.aspx',\n",
       " 'https://www.scotiabank.com.mx/scotia-fondos/deuda-plazos/scotia1.aspx',\n",
       " 'https://www.scotiabank.com.mx/scotia-fondos/deuda-plazos/sbankcp.aspx',\n",
       " 'https://www.scotiabank.com.mx/scotia-fondos/deuda-plazos/scotia2.aspx',\n",
       " 'https://www.scotiabank.com.mx/scotia-fondos/deuda-plazos/scoti10.aspx',\n",
       " 'https://www.scotiabank.com.mx/scotia-fondos/deuda-plazos/sbankmp.aspx',\n",
       " 'https://www.scotiabank.com.mx/scotia-fondos/deuda-plazos/scot-tr.aspx',\n",
       " 'https://www.scotiabank.com.mx/scotia-fondos/deuda-plazos/scotilp.aspx',\n",
       " 'https://www.scotiabank.com.mx/scotia-fondos/deuda-plazos/scotimb.aspx',\n",
       " 'https://www.scotiabank.com.mx/scotia-fondos/deuda-plazos/scotudi.aspx',\n",
       " 'https://www.scotiabank.com.mx/scotia-fondos/deuda-plazos/scotlpg.aspx',\n",
       " 'https://www.scotiabank.com.mx/scotia-fondos/deuda-plazos/scot200.aspx']"
      ]
     },
     "execution_count": 106,
     "metadata": {},
     "output_type": "execute_result"
    }
   ],
   "source": [
    "[x.get_attribute(\"href\") for x in links]"
   ]
  },
  {
   "cell_type": "code",
   "execution_count": 107,
   "metadata": {},
   "outputs": [],
   "source": [
    "linkf=links[0].get_attribute(\"href\")"
   ]
  },
  {
   "cell_type": "code",
   "execution_count": 108,
   "metadata": {},
   "outputs": [
    {
     "data": {
      "text/plain": [
       "'https://www.scotiabank.com.mx/scotia-fondos/deuda-plazos/scotiag.aspx'"
      ]
     },
     "execution_count": 108,
     "metadata": {},
     "output_type": "execute_result"
    }
   ],
   "source": [
    "linkf"
   ]
  },
  {
   "cell_type": "code",
   "execution_count": 110,
   "metadata": {},
   "outputs": [],
   "source": [
    "driver = webdriver.Chrome()"
   ]
  },
  {
   "cell_type": "code",
   "execution_count": 112,
   "metadata": {},
   "outputs": [],
   "source": [
    "driver.maximize_window()"
   ]
  },
  {
   "cell_type": "code",
   "execution_count": 113,
   "metadata": {},
   "outputs": [],
   "source": [
    "driver.get(linkf)"
   ]
  },
  {
   "cell_type": "code",
   "execution_count": 114,
   "metadata": {},
   "outputs": [
    {
     "data": {
      "text/plain": [
       "<selenium.webdriver.remote.webelement.WebElement (session=\"507dcd1c8856dcb00a03287ca1404fea\", element=\"f.51F9F37B8D3A021B9A7365C77048FEFF.d.520737FF528E62F32AC8EEA2103B3852.e.63\")>"
      ]
     },
     "execution_count": 114,
     "metadata": {},
     "output_type": "execute_result"
    }
   ],
   "source": [
    " driver.find_element(By.CLASS_NAME,\"documents\")"
   ]
  },
  {
   "cell_type": "code",
   "execution_count": 115,
   "metadata": {},
   "outputs": [],
   "source": [
    "documentos= driver.find_element(By.CLASS_NAME,\"documents\")"
   ]
  },
  {
   "cell_type": "code",
   "execution_count": null,
   "metadata": {},
   "outputs": [],
   "source": [
    "documentos"
   ]
  },
  {
   "cell_type": "code",
   "execution_count": 116,
   "metadata": {},
   "outputs": [
    {
     "data": {
      "text/plain": [
       "[<selenium.webdriver.remote.webelement.WebElement (session=\"507dcd1c8856dcb00a03287ca1404fea\", element=\"f.51F9F37B8D3A021B9A7365C77048FEFF.d.520737FF528E62F32AC8EEA2103B3852.e.64\")>,\n",
       " <selenium.webdriver.remote.webelement.WebElement (session=\"507dcd1c8856dcb00a03287ca1404fea\", element=\"f.51F9F37B8D3A021B9A7365C77048FEFF.d.520737FF528E62F32AC8EEA2103B3852.e.65\")>,\n",
       " <selenium.webdriver.remote.webelement.WebElement (session=\"507dcd1c8856dcb00a03287ca1404fea\", element=\"f.51F9F37B8D3A021B9A7365C77048FEFF.d.520737FF528E62F32AC8EEA2103B3852.e.66\")>,\n",
       " <selenium.webdriver.remote.webelement.WebElement (session=\"507dcd1c8856dcb00a03287ca1404fea\", element=\"f.51F9F37B8D3A021B9A7365C77048FEFF.d.520737FF528E62F32AC8EEA2103B3852.e.67\")>,\n",
       " <selenium.webdriver.remote.webelement.WebElement (session=\"507dcd1c8856dcb00a03287ca1404fea\", element=\"f.51F9F37B8D3A021B9A7365C77048FEFF.d.520737FF528E62F32AC8EEA2103B3852.e.68\")>,\n",
       " <selenium.webdriver.remote.webelement.WebElement (session=\"507dcd1c8856dcb00a03287ca1404fea\", element=\"f.51F9F37B8D3A021B9A7365C77048FEFF.d.520737FF528E62F32AC8EEA2103B3852.e.69\")>]"
      ]
     },
     "execution_count": 116,
     "metadata": {},
     "output_type": "execute_result"
    }
   ],
   "source": [
    "documentos.find_elements(By.TAG_NAME,\"a\")"
   ]
  },
  {
   "cell_type": "code",
   "execution_count": 117,
   "metadata": {},
   "outputs": [],
   "source": [
    "documentos2=documentos.find_elements(By.TAG_NAME,\"a\")"
   ]
  },
  {
   "cell_type": "code",
   "execution_count": 118,
   "metadata": {},
   "outputs": [
    {
     "data": {
      "text/plain": [
       "[<selenium.webdriver.remote.webelement.WebElement (session=\"507dcd1c8856dcb00a03287ca1404fea\", element=\"f.51F9F37B8D3A021B9A7365C77048FEFF.d.520737FF528E62F32AC8EEA2103B3852.e.64\")>,\n",
       " <selenium.webdriver.remote.webelement.WebElement (session=\"507dcd1c8856dcb00a03287ca1404fea\", element=\"f.51F9F37B8D3A021B9A7365C77048FEFF.d.520737FF528E62F32AC8EEA2103B3852.e.65\")>,\n",
       " <selenium.webdriver.remote.webelement.WebElement (session=\"507dcd1c8856dcb00a03287ca1404fea\", element=\"f.51F9F37B8D3A021B9A7365C77048FEFF.d.520737FF528E62F32AC8EEA2103B3852.e.66\")>,\n",
       " <selenium.webdriver.remote.webelement.WebElement (session=\"507dcd1c8856dcb00a03287ca1404fea\", element=\"f.51F9F37B8D3A021B9A7365C77048FEFF.d.520737FF528E62F32AC8EEA2103B3852.e.67\")>,\n",
       " <selenium.webdriver.remote.webelement.WebElement (session=\"507dcd1c8856dcb00a03287ca1404fea\", element=\"f.51F9F37B8D3A021B9A7365C77048FEFF.d.520737FF528E62F32AC8EEA2103B3852.e.68\")>,\n",
       " <selenium.webdriver.remote.webelement.WebElement (session=\"507dcd1c8856dcb00a03287ca1404fea\", element=\"f.51F9F37B8D3A021B9A7365C77048FEFF.d.520737FF528E62F32AC8EEA2103B3852.e.69\")>]"
      ]
     },
     "execution_count": 118,
     "metadata": {},
     "output_type": "execute_result"
    }
   ],
   "source": [
    "documentos2"
   ]
  },
  {
   "cell_type": "code",
   "execution_count": null,
   "metadata": {},
   "outputs": [],
   "source": [
    "[carros for carros in documentos2]"
   ]
  },
  {
   "cell_type": "code",
   "execution_count": 119,
   "metadata": {},
   "outputs": [
    {
     "data": {
      "text/plain": [
       "['Precios Diarios',\n",
       " 'Cartera Semanal',\n",
       " 'Rendimientos históricos',\n",
       " 'Información Clave (DICI)',\n",
       " 'Cartera Mensual',\n",
       " 'Prospecto de Información']"
      ]
     },
     "execution_count": 119,
     "metadata": {},
     "output_type": "execute_result"
    }
   ],
   "source": [
    "[z.get_attribute(\"innerHTML\") for z in documentos2]"
   ]
  },
  {
   "cell_type": "code",
   "execution_count": 120,
   "metadata": {},
   "outputs": [
    {
     "data": {
      "text/plain": [
       "['https://cdn.aglty.io/scotia-bank-mexico/pdf/scotia-fondos/precios/Precios.pdf?v=1757042878215',\n",
       " 'https://cdn.aglty.io/scotia-bank-mexico/spanish/pdf/personas/fondos-de-inversion/carteras/CARTERA_SCOTIAG.pdf?v=1757042878215',\n",
       " 'https://www.scotiabank.com.mx/scotia-fondos/informacion.aspx',\n",
       " 'https://cdn.aglty.io/scotia-bank-mexico/spanish/pdf/personas/fondos-de-inversion/dici/DICI_SCOTIAG.pdf?v=1757042878215',\n",
       " 'https://cdn.aglty.io/scotia-bank-mexico/spanish/pdf/personas/fondos-de-inversion/carteras/CM_SCOTIAG.pdf?v=1757042878215',\n",
       " 'https://cdn.aglty.io/scotia-bank-mexico/pdf/scotia-fondos/prospectos/Prospecto_SCOTIAG.pdf?v=1757042878215']"
      ]
     },
     "execution_count": 120,
     "metadata": {},
     "output_type": "execute_result"
    }
   ],
   "source": [
    "[z.get_attribute(\"href\") for z in documentos2]"
   ]
  },
  {
   "cell_type": "code",
   "execution_count": null,
   "metadata": {},
   "outputs": [],
   "source": [
    "[ x for x in list if ]"
   ]
  },
  {
   "cell_type": "code",
   "execution_count": 121,
   "metadata": {},
   "outputs": [
    {
     "data": {
      "text/plain": [
       "['https://cdn.aglty.io/scotia-bank-mexico/pdf/scotia-fondos/prospectos/Prospecto_SCOTIAG.pdf?v=1757042878215']"
      ]
     },
     "execution_count": 121,
     "metadata": {},
     "output_type": "execute_result"
    }
   ],
   "source": [
    "[z.get_attribute(\"href\") for z in documentos2 if \"prospecto\" in z.get_attribute(\"innerHTML\").lower()]"
   ]
  },
  {
   "cell_type": "code",
   "execution_count": 122,
   "metadata": {},
   "outputs": [],
   "source": [
    "#uso de request\n",
    "import requests as rq"
   ]
  },
  {
   "cell_type": "code",
   "execution_count": 123,
   "metadata": {},
   "outputs": [],
   "source": [
    "url=[z.get_attribute(\"href\") for z in documentos2 if \"prospecto\" in z.get_attribute(\"innerHTML\").lower()][0]\n",
    "\n",
    "page = rq.get(url)"
   ]
  },
  {
   "cell_type": "code",
   "execution_count": 124,
   "metadata": {},
   "outputs": [
    {
     "data": {
      "text/plain": [
       "<Response [200]>"
      ]
     },
     "execution_count": 124,
     "metadata": {},
     "output_type": "execute_result"
    }
   ],
   "source": [
    "page"
   ]
  },
  {
   "cell_type": "code",
   "execution_count": 125,
   "metadata": {},
   "outputs": [],
   "source": [
    "import os\n",
    "os.chdir(\"C:\\\\Users\\\\ortca\\\\Downloads\")"
   ]
  },
  {
   "cell_type": "code",
   "execution_count": 126,
   "metadata": {},
   "outputs": [],
   "source": [
    "with open(\"Pruebafer.pdf\", \"wb\") as f:\n",
    "    f.write(page.content)"
   ]
  },
  {
   "cell_type": "code",
   "execution_count": 127,
   "metadata": {},
   "outputs": [
    {
     "data": {
      "text/plain": [
       "<selenium.webdriver.chrome.webdriver.WebDriver (session=\"d3c1a88c050e3e85b86f34ee69ccb430\")>"
      ]
     },
     "execution_count": 127,
     "metadata": {},
     "output_type": "execute_result"
    }
   ],
   "source": [
    "webdriver.Chrome()"
   ]
  },
  {
   "cell_type": "code",
   "execution_count": null,
   "metadata": {},
   "outputs": [],
   "source": [
    "try:\n",
    "    flujo\n",
    "except:\n",
    "    errro.append(nombre_fondo)"
   ]
  },
  {
   "cell_type": "code",
   "execution_count": null,
   "metadata": {},
   "outputs": [],
   "source": []
  }
 ],
 "metadata": {
  "kernelspec": {
   "display_name": "Python 3 (ipykernel)",
   "language": "python",
   "name": "python3"
  },
  "language_info": {
   "codemirror_mode": {
    "name": "ipython",
    "version": 3
   },
   "file_extension": ".py",
   "mimetype": "text/x-python",
   "name": "python",
   "nbconvert_exporter": "python",
   "pygments_lexer": "ipython3",
   "version": "3.11.3"
  }
 },
 "nbformat": 4,
 "nbformat_minor": 2
}
