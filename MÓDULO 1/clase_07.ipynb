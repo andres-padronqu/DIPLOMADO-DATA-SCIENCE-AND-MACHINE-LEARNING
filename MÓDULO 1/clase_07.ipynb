{
 "cells": [
  {
   "attachments": {
    "logo_ITAM.png": {
     "image/png": "[encoded data removed]"
    }
   },
   "cell_type": "markdown",
   "id": "559909bd",
   "metadata": {},
   "source": [
    "![logo_ITAM.png](attachment:logo_ITAM.png)"
   ]
  },
  {
   "cell_type": "markdown",
   "id": "3aa4fa49",
   "metadata": {},
   "source": [
    "# Clase 7 - Listas de comprensión, funciones lambda y manejo de excepciones\n",
    "\n",
    "Veremos cómo construir listas usando un for \"abreviado\" - listas de comprensión.\n",
    "\n",
    "También veremos cómo manejar excepciones y profundizaremos en un ejemplo usando funciones.\n",
    "\n",
    "Por último, haremos un ejercicio para importar funciones desde otro archivo generado por nosotros."
   ]
  },
  {
   "cell_type": "markdown",
   "id": "88335d84",
   "metadata": {},
   "source": [
    "## ¿Cómo identificar qué cosas forman parte de la librería estándar?\n",
    "\n",
    "Esto lo podemos consultar directamente de la página de ayuda de python:\n",
    "\n",
    "https://docs.python.org/es/3/library/\n",
    "\n",
    "\n",
    "Vamos a revisar la página para identificar coss con las que ya hemos trabajado."
   ]
  },
  {
   "cell_type": "markdown",
   "id": "73088ed2",
   "metadata": {},
   "source": [
    "## Listas de comprensión"
   ]
  },
  {
   "cell_type": "markdown",
   "id": "b27240bf",
   "metadata": {},
   "source": [
    "La listas de comprensión, del inglés list comprehensions, es una funcionalidad que le permite crear listas avanzadas en una misma línea de código.\n",
    "\n",
    "La forma general de la definición de una lista por comprensión es:\n",
    "\n",
    "```python\n",
    "[expresion for item in iterable]\n",
    "```\n",
    "\n",
    "\n",
    "Opcionalmente, se puede incluir un condicional en la expresión:\n",
    "\n",
    "```python\n",
    "[expresion for item in iterable if condition]\n",
    "```\n"
   ]
  },
  {
   "cell_type": "code",
   "execution_count": null,
   "id": "484cb21a",
   "metadata": {},
   "outputs": [],
   "source": [
    "3 if \"b\" in \"hola\" else 4"
   ]
  },
  {
   "cell_type": "code",
   "execution_count": null,
   "id": "55d45652",
   "metadata": {},
   "outputs": [],
   "source": [
    "if \"b\" in \"hola\":\n",
    "    print(3)\n",
    "else:\n",
    "    print(4)"
   ]
  },
  {
   "cell_type": "code",
   "execution_count": null,
   "id": "d650c1a5",
   "metadata": {},
   "outputs": [],
   "source": [
    "random.randint(0, 1_000_000)"
   ]
  },
  {
   "cell_type": "code",
   "execution_count": null,
   "id": "820998c1",
   "metadata": {},
   "outputs": [],
   "source": [
    "N = 10_000\n",
    "A = []\n",
    "\n",
    "for i in range(N):\n",
    "    A.append(random.randint(0, 1_000_000))"
   ]
  },
  {
   "cell_type": "code",
   "execution_count": null,
   "id": "24f87e41",
   "metadata": {},
   "outputs": [],
   "source": [
    "A"
   ]
  },
  {
   "cell_type": "code",
   "execution_count": null,
   "id": "b438a088",
   "metadata": {},
   "outputs": [],
   "source": [
    "import random\n",
    "\n",
    "N = 1000\n",
    "\n",
    "[random.randint(0, 1000000) for i in range(N)]"
   ]
  },
  {
   "cell_type": "code",
   "execution_count": null,
   "id": "58ca675c",
   "metadata": {},
   "outputs": [],
   "source": [
    "[i**3 for i in range(10)]"
   ]
  },
  {
   "cell_type": "code",
   "execution_count": null,
   "id": "5c098b1b",
   "metadata": {},
   "outputs": [],
   "source": [
    "[i**3 for i in range(10) if i%2 == 0]"
   ]
  },
  {
   "cell_type": "code",
   "execution_count": null,
   "id": "b918efee",
   "metadata": {},
   "outputs": [],
   "source": [
    "A = []\n",
    "\n",
    "for i in range(10):\n",
    "    if i%2 == 0:\n",
    "        A.append(i**3)\n",
    "        \n",
    "A"
   ]
  },
  {
   "cell_type": "code",
   "execution_count": null,
   "id": "521b49f1",
   "metadata": {},
   "outputs": [],
   "source": [
    "[i**3 if i%2 == 0 else i**2 for i in range(10)]"
   ]
  },
  {
   "cell_type": "code",
   "execution_count": null,
   "id": "8a6f8aea",
   "metadata": {},
   "outputs": [],
   "source": [
    "# qué podemos hacer para generar una lista con los primeros n números de fibonacci?\n",
    "\n",
    "def fibonacci(n):\n",
    "    if n <=1:\n",
    "        return n\n",
    "    return fibonacci(n - 1) + fibonacci(n - 2)"
   ]
  },
  {
   "cell_type": "code",
   "execution_count": null,
   "id": "209827ed",
   "metadata": {},
   "outputs": [],
   "source": [
    "## tendríamos que crear una función que llame a la anterior varias veces\n",
    "\n"
   ]
  },
  {
   "cell_type": "code",
   "execution_count": null,
   "id": "a2b720dd",
   "metadata": {},
   "outputs": [],
   "source": [
    "# otra forma de hacerlo sería la siguiente:\n",
    "\n",
    "[fibonacci(n) for n in range(10)]"
   ]
  },
  {
   "cell_type": "code",
   "execution_count": null,
   "id": "d5973017",
   "metadata": {},
   "outputs": [],
   "source": [
    "# de la forma anterior se haría así:\n",
    "fibo = []\n",
    "\n",
    "for i in range(10):\n",
    "    fibo.append(fibonacci(i))\n",
    "    \n",
    "fibo"
   ]
  },
  {
   "cell_type": "code",
   "execution_count": null,
   "id": "0e497db4",
   "metadata": {},
   "outputs": [],
   "source": [
    "## esto nos podría ayudar a ver la convergencia de la sucesión de Fibonacci al número aureo:\n",
    "\n",
    "def fibonacci(n):\n",
    "    c = [0,1]\n",
    "    if n==1:\n",
    "        return(0)\n",
    "    else:\n",
    "        for i in range(0,n-2):\n",
    "            c.append(c[i]+c[i+1])\n",
    "        return(c)"
   ]
  },
  {
   "cell_type": "code",
   "execution_count": null,
   "id": "c7a095b6",
   "metadata": {},
   "outputs": [],
   "source": [
    "## razon aurea\n",
    "a = [fibonacci(n) for n in range(20)]\n",
    "\n",
    "[a[i+1]/a[i] for i in range(1,19)]"
   ]
  },
  {
   "cell_type": "code",
   "execution_count": null,
   "id": "e7e850b7",
   "metadata": {},
   "outputs": [],
   "source": [
    "a"
   ]
  },
  {
   "cell_type": "code",
   "execution_count": null,
   "id": "6e3a89b5",
   "metadata": {},
   "outputs": [],
   "source": [
    "(1 + 5**0.5)/2"
   ]
  },
  {
   "cell_type": "code",
   "execution_count": null,
   "id": "9a923d58",
   "metadata": {},
   "outputs": [],
   "source": [
    "type([i for i in range(10)])   #for en una linea que devuelve una lista [list comprehension]type()"
   ]
  },
  {
   "cell_type": "code",
   "execution_count": null,
   "id": "1cb8e7b2",
   "metadata": {},
   "outputs": [],
   "source": [
    "lista = []\n",
    "for i in range(4):\n",
    "    lista.append(i**2)\n",
    "\n",
    "lista"
   ]
  },
  {
   "cell_type": "code",
   "execution_count": null,
   "id": "98548d0d",
   "metadata": {},
   "outputs": [],
   "source": [
    "[i**2 for i in range(4)]"
   ]
  },
  {
   "cell_type": "code",
   "execution_count": null,
   "id": "dee2a00a",
   "metadata": {},
   "outputs": [],
   "source": [
    "lista = [numero**2 for numero in range(0,11)]\n",
    "print(lista)"
   ]
  },
  {
   "cell_type": "code",
   "execution_count": null,
   "id": "22707815",
   "metadata": {},
   "outputs": [],
   "source": [
    "lista = [numero for numero in range(0,11) if numero % 2 == 0 ]\n",
    "print(lista)"
   ]
  },
  {
   "cell_type": "code",
   "execution_count": null,
   "id": "a33574b1",
   "metadata": {},
   "outputs": [],
   "source": [
    "names_1 = ['Oralie' ,'Imojean' ,'Michele', 'Ailbert', 'Stevy']\n",
    "names_2 = ['Jayson', 'Oralie' ,'Michele', 'Stevy', 'Alwyn','Michele']\n",
    "names_3 = ['Oralie' ,'Stevy', 'Alwyn']\n",
    "\n",
    "##     [expr  for it  if cond]\n",
    "common = [b for a in names_1 for b in names_2 for c in names_3 if (a == b == c)]\n",
    "common"
   ]
  },
  {
   "cell_type": "code",
   "execution_count": null,
   "id": "b661b4a1",
   "metadata": {},
   "outputs": [],
   "source": [
    "common = []\n",
    "\n",
    "for a in names_1:\n",
    "    for b in names_2:\n",
    "        for c in names_3:\n",
    "            if a == b == c:\n",
    "                common.append(a)\n",
    "common"
   ]
  },
  {
   "cell_type": "code",
   "execution_count": null,
   "id": "ddc39fe4",
   "metadata": {},
   "outputs": [],
   "source": [
    "list(set(names_1) & set(names_2) & set(names_3))"
   ]
  },
  {
   "cell_type": "markdown",
   "id": "64edde37",
   "metadata": {},
   "source": [
    "Suma de los primeros $n$ números al cuadrado:\n",
    "\n",
    "$$\\sum_{i=1}^n i^2 = \\frac{n(n+1)(2n+1)}{6}$$"
   ]
  },
  {
   "cell_type": "code",
   "execution_count": null,
   "id": "ad5d7c85",
   "metadata": {},
   "outputs": [],
   "source": [
    "n = 1_000_000\n",
    "\n",
    "t_0 = time.time()\n",
    "\n",
    "s = 0\n",
    "\n",
    "for i in range(1, n+1):\n",
    "    s += i**2\n",
    "\n",
    "t_1 = time.time()\n",
    "\n",
    "print(t_1-t_0)"
   ]
  },
  {
   "cell_type": "code",
   "execution_count": null,
   "id": "89e8d06c",
   "metadata": {},
   "outputs": [],
   "source": [
    "s"
   ]
  },
  {
   "cell_type": "code",
   "execution_count": null,
   "id": "94a83a6a",
   "metadata": {},
   "outputs": [],
   "source": [
    "n * (n+1) * (2*n+1) / 6"
   ]
  },
  {
   "cell_type": "code",
   "execution_count": null,
   "id": "8e73970b",
   "metadata": {},
   "outputs": [],
   "source": [
    "t_0 = time.time()\n",
    "\n",
    "sum([i**2 for i in range(1, n+1)])\n",
    "\n",
    "t_1 = time.time()\n",
    "\n",
    "print(t_1-t_0)"
   ]
  },
  {
   "cell_type": "markdown",
   "id": "a34a3b1f",
   "metadata": {},
   "source": [
    "## Funciones lambda\n",
    "\n",
    "Así como podemos valuar un if o construir una lista en una línea, también podemos crear funciones en una sóla línea.\n",
    "\n",
    "La única limitante que tenemos es que deben ser funciones sencillas.\n",
    "\n",
    "Esto puede ser muy útil, ya que inclusive nos permite que una función devuelva otra función.\n",
    "\n",
    "\n",
    "Sintaxis:\n",
    "\n",
    "```python\n",
    "funct_name = lambda var_1, var_2 : operations\n",
    "```"
   ]
  },
  {
   "cell_type": "code",
   "execution_count": 1,
   "id": "a6e63bfe",
   "metadata": {},
   "outputs": [],
   "source": [
    "def my_funct_2(x):\n",
    "    \"\"\"esta función eleva al cuadrado un número\"\"\"\n",
    "    return x**2"
   ]
  },
  {
   "cell_type": "code",
   "execution_count": 2,
   "id": "977035ab",
   "metadata": {},
   "outputs": [
    {
     "data": {
      "text/plain": [
       "16"
      ]
     },
     "execution_count": 2,
     "metadata": {},
     "output_type": "execute_result"
    }
   ],
   "source": [
    "my_funct_2(4)"
   ]
  },
  {
   "cell_type": "code",
   "execution_count": 3,
   "id": "12cdb753",
   "metadata": {},
   "outputs": [
    {
     "name": "stdout",
     "output_type": "stream",
     "text": [
      "Help on function my_funct_2 in module __main__:\n",
      "\n",
      "my_funct_2(x)\n",
      "    esta función eleva al cuadrado un número\n",
      "\n"
     ]
    }
   ],
   "source": [
    "help(my_funct_2)"
   ]
  },
  {
   "cell_type": "code",
   "execution_count": 4,
   "id": "aeb3b0aa",
   "metadata": {},
   "outputs": [],
   "source": [
    "my_funct = lambda x : x**2\n",
    "\n",
    "def my_funct_2(x):\n",
    "    return x**2"
   ]
  },
  {
   "cell_type": "code",
   "execution_count": 5,
   "id": "7b098c64",
   "metadata": {},
   "outputs": [
    {
     "data": {
      "text/plain": [
       "function"
      ]
     },
     "execution_count": 5,
     "metadata": {},
     "output_type": "execute_result"
    }
   ],
   "source": [
    "type(my_funct)"
   ]
  },
  {
   "cell_type": "code",
   "execution_count": 6,
   "id": "e62d3a33",
   "metadata": {},
   "outputs": [
    {
     "name": "stdout",
     "output_type": "stream",
     "text": [
      "Variable     Type        Data/Info\n",
      "----------------------------------\n",
      "my_funct     function    <function <lambda> at 0x000002772B0791B0>\n",
      "my_funct_2   function    <function my_funct_2 at 0x000002772B079AB0>\n"
     ]
    }
   ],
   "source": [
    "%whos"
   ]
  },
  {
   "cell_type": "code",
   "execution_count": 7,
   "id": "521120b6",
   "metadata": {},
   "outputs": [
    {
     "data": {
      "text/plain": [
       "25"
      ]
     },
     "execution_count": 7,
     "metadata": {},
     "output_type": "execute_result"
    }
   ],
   "source": [
    "my_funct(5)"
   ]
  },
  {
   "cell_type": "code",
   "execution_count": 8,
   "id": "f790fc7c",
   "metadata": {},
   "outputs": [
    {
     "data": {
      "text/plain": [
       "25"
      ]
     },
     "execution_count": 8,
     "metadata": {},
     "output_type": "execute_result"
    }
   ],
   "source": [
    "my_funct_2(5)"
   ]
  },
  {
   "cell_type": "code",
   "execution_count": 9,
   "id": "7007096e",
   "metadata": {},
   "outputs": [],
   "source": [
    "prueba = lambda x, y, z=1 : x * y * my_funct(z) "
   ]
  },
  {
   "cell_type": "code",
   "execution_count": 10,
   "id": "2ea7ab0d",
   "metadata": {},
   "outputs": [
    {
     "name": "stdout",
     "output_type": "stream",
     "text": [
      "Help on function <lambda> in module __main__:\n",
      "\n",
      "<lambda> lambda x, y, z=1\n",
      "\n"
     ]
    }
   ],
   "source": [
    "help(prueba)"
   ]
  },
  {
   "cell_type": "code",
   "execution_count": 11,
   "id": "189a47f0",
   "metadata": {},
   "outputs": [
    {
     "data": {
      "text/plain": [
       "135"
      ]
     },
     "execution_count": 11,
     "metadata": {},
     "output_type": "execute_result"
    }
   ],
   "source": [
    "prueba(5, 3, 3)"
   ]
  },
  {
   "cell_type": "markdown",
   "id": "587a3bde",
   "metadata": {},
   "source": [
    "### ¿por qué usar funciones lambda?\n",
    "\n",
    "1. Para definir funciones muy sencillas en una sola línea.\n",
    "\n",
    "2. Para no consumir espacio de memoria creando una función que no nos interesa mucho"
   ]
  },
  {
   "cell_type": "markdown",
   "id": "a1cca116",
   "metadata": {},
   "source": [
    "$$\\sin(x^2 -1) =0$$"
   ]
  },
  {
   "cell_type": "code",
   "execution_count": 13,
   "id": "fcd89865",
   "metadata": {},
   "outputs": [
    {
     "name": "stdout",
     "output_type": "stream",
     "text": [
      "Variable     Type        Data/Info\n",
      "----------------------------------\n",
      "fsolve       function    <function fsolve at 0x000002772CA93B50>\n",
      "math         module      <module 'math' (built-in)>\n",
      "my_funct     function    <function <lambda> at 0x000002772B0791B0>\n",
      "my_funct_2   function    <function my_funct_2 at 0x000002772B079AB0>\n",
      "prueba       function    <function <lambda> at 0x000002772B079240>\n"
     ]
    }
   ],
   "source": [
    "%whos"
   ]
  },
  {
   "cell_type": "code",
   "execution_count": 12,
   "id": "4e4ae0c3",
   "metadata": {},
   "outputs": [
    {
     "data": {
      "text/plain": [
       "-11.665696897500856"
      ]
     },
     "execution_count": 12,
     "metadata": {},
     "output_type": "execute_result"
    }
   ],
   "source": [
    "from scipy.optimize import fsolve\n",
    "import math\n",
    "\n",
    "fsolve(lambda x : math.sin(x**2 - 1), x0=-11.7,xtol=1E-12)[0]"
   ]
  },
  {
   "cell_type": "code",
   "execution_count": null,
   "id": "4efd8f13",
   "metadata": {},
   "outputs": [],
   "source": [
    "math.sin((-11.665696897500856)**2 - 1)"
   ]
  },
  {
   "cell_type": "code",
   "execution_count": 14,
   "id": "5a5eb36c",
   "metadata": {},
   "outputs": [
    {
     "name": "stdout",
     "output_type": "stream",
     "text": [
      "Variable     Type        Data/Info\n",
      "----------------------------------\n",
      "fsolve       function    <function fsolve at 0x000002772CA93B50>\n",
      "math         module      <module 'math' (built-in)>\n",
      "my_funct     function    <function <lambda> at 0x000002772B0791B0>\n",
      "my_funct_2   function    <function my_funct_2 at 0x000002772B079AB0>\n",
      "prueba       function    <function <lambda> at 0x000002772B079240>\n"
     ]
    }
   ],
   "source": [
    "%whos"
   ]
  },
  {
   "cell_type": "markdown",
   "id": "e02e29d2",
   "metadata": {},
   "source": [
    "**3. ¿Una función puede regresar otra función?**"
   ]
  },
  {
   "cell_type": "code",
   "execution_count": 15,
   "id": "5221ccff",
   "metadata": {},
   "outputs": [],
   "source": [
    "def my_funct(x):\n",
    "    return x**2\n",
    "\n",
    "def prueba():\n",
    "    return my_funct"
   ]
  },
  {
   "cell_type": "code",
   "execution_count": 16,
   "id": "81606748",
   "metadata": {},
   "outputs": [
    {
     "data": {
      "text/plain": [
       "4"
      ]
     },
     "execution_count": 16,
     "metadata": {},
     "output_type": "execute_result"
    }
   ],
   "source": [
    "my_funct(2)"
   ]
  },
  {
   "cell_type": "code",
   "execution_count": 17,
   "id": "536e0d71",
   "metadata": {
    "scrolled": true
   },
   "outputs": [
    {
     "data": {
      "text/plain": [
       "<function __main__.my_funct(x)>"
      ]
     },
     "execution_count": 17,
     "metadata": {},
     "output_type": "execute_result"
    }
   ],
   "source": [
    "prueba()  # aquí estoy ejecutando la función prueba y me devuelve otra función"
   ]
  },
  {
   "cell_type": "code",
   "execution_count": 18,
   "id": "045fe4de",
   "metadata": {},
   "outputs": [
    {
     "data": {
      "text/plain": [
       "function"
      ]
     },
     "execution_count": 18,
     "metadata": {},
     "output_type": "execute_result"
    }
   ],
   "source": [
    "type(prueba())"
   ]
  },
  {
   "cell_type": "code",
   "execution_count": 19,
   "id": "eef6a9e7",
   "metadata": {},
   "outputs": [
    {
     "data": {
      "text/plain": [
       "4"
      ]
     },
     "execution_count": 19,
     "metadata": {},
     "output_type": "execute_result"
    }
   ],
   "source": [
    "prueba()(2)  # aquí estoy llamando a la función que me devuelve la función prueba con x=2"
   ]
  },
  {
   "cell_type": "markdown",
   "id": "d963b344",
   "metadata": {},
   "source": [
    "$$f(x;\\ n) = x^n$$"
   ]
  },
  {
   "cell_type": "code",
   "execution_count": null,
   "id": "055fd223",
   "metadata": {},
   "outputs": [],
   "source": [
    "def elevar_a_la_n(x, n):\n",
    "    return x**n\n",
    "\n",
    "elevar_a_la_n(3,2)"
   ]
  },
  {
   "cell_type": "markdown",
   "id": "a25e4eb1",
   "metadata": {},
   "source": [
    "Queremos crear una función que reciba como input el valor del exponente ($n$) y que su regla sea\n",
    "\n",
    "$$g_n(x) = x^n$$"
   ]
  },
  {
   "cell_type": "code",
   "execution_count": 20,
   "id": "387b5c30",
   "metadata": {},
   "outputs": [],
   "source": [
    "## función que devuelve otra función\n",
    "def prueba(potencia):\n",
    "    return lambda x : x**potencia"
   ]
  },
  {
   "cell_type": "code",
   "execution_count": 21,
   "id": "129b97a3",
   "metadata": {},
   "outputs": [
    {
     "data": {
      "text/plain": [
       "<function __main__.prueba.<locals>.<lambda>(x)>"
      ]
     },
     "execution_count": 21,
     "metadata": {},
     "output_type": "execute_result"
    }
   ],
   "source": [
    "prueba(2)"
   ]
  },
  {
   "cell_type": "code",
   "execution_count": 22,
   "id": "b33962f6",
   "metadata": {},
   "outputs": [
    {
     "data": {
      "text/plain": [
       "function"
      ]
     },
     "execution_count": 22,
     "metadata": {},
     "output_type": "execute_result"
    }
   ],
   "source": [
    "type(prueba(2))"
   ]
  },
  {
   "cell_type": "code",
   "execution_count": 23,
   "id": "14d7ece8",
   "metadata": {},
   "outputs": [],
   "source": [
    "f_2 = prueba(2)  # función que eleva x^2"
   ]
  },
  {
   "cell_type": "code",
   "execution_count": 24,
   "id": "8661e4ab",
   "metadata": {},
   "outputs": [
    {
     "data": {
      "text/plain": [
       "function"
      ]
     },
     "execution_count": 24,
     "metadata": {},
     "output_type": "execute_result"
    }
   ],
   "source": [
    "type(f_2)"
   ]
  },
  {
   "cell_type": "code",
   "execution_count": 25,
   "id": "c50b27a3",
   "metadata": {},
   "outputs": [
    {
     "data": {
      "text/plain": [
       "25"
      ]
     },
     "execution_count": 25,
     "metadata": {},
     "output_type": "execute_result"
    }
   ],
   "source": [
    "f_2(5)"
   ]
  },
  {
   "cell_type": "code",
   "execution_count": 26,
   "id": "88bd06ac",
   "metadata": {},
   "outputs": [
    {
     "data": {
      "text/plain": [
       "25"
      ]
     },
     "execution_count": 26,
     "metadata": {},
     "output_type": "execute_result"
    }
   ],
   "source": [
    "prueba(2)(5)"
   ]
  },
  {
   "cell_type": "code",
   "execution_count": 27,
   "id": "e19e6b78",
   "metadata": {},
   "outputs": [
    {
     "name": "stdout",
     "output_type": "stream",
     "text": [
      "<class 'function'>\n"
     ]
    },
    {
     "data": {
      "text/plain": [
       "8"
      ]
     },
     "execution_count": 27,
     "metadata": {},
     "output_type": "execute_result"
    }
   ],
   "source": [
    "pow_3 = prueba(3)\n",
    "\n",
    "print(type(pow_3))\n",
    "pow_3(2)"
   ]
  },
  {
   "cell_type": "code",
   "execution_count": null,
   "id": "60251fd9",
   "metadata": {},
   "outputs": [],
   "source": [
    "type(pow_3)"
   ]
  },
  {
   "cell_type": "code",
   "execution_count": 28,
   "id": "756dc897",
   "metadata": {},
   "outputs": [
    {
     "data": {
      "text/plain": [
       "2.0"
      ]
     },
     "execution_count": 28,
     "metadata": {},
     "output_type": "execute_result"
    }
   ],
   "source": [
    "my_sqrt = prueba(0.5)\n",
    "\n",
    "my_sqrt(4)"
   ]
  },
  {
   "cell_type": "markdown",
   "id": "5796c5b6",
   "metadata": {},
   "source": [
    "$$f(x) = 2x^3 + 3x -1$$"
   ]
  },
  {
   "cell_type": "markdown",
   "id": "d261a369",
   "metadata": {},
   "source": [
    "$$f'(x) = 6x^2 + 3, \\qquad f'(0)=3$$"
   ]
  },
  {
   "cell_type": "markdown",
   "id": "3b4f9fa8",
   "metadata": {},
   "source": [
    "$$f''(x)= 12x,\\qquad f''(0)= 0$$"
   ]
  },
  {
   "cell_type": "markdown",
   "id": "550f2a88",
   "metadata": {},
   "source": [
    "$$f'(x_0) \\approx \\frac{f(x_0 + h) - f(x_0)}{h}$$"
   ]
  },
  {
   "cell_type": "markdown",
   "id": "3a7877ec",
   "metadata": {},
   "source": [
    "$$f'(x_0) \\approx \\frac{f(x_0 + h) - f(x_0-h)}{2h}$$"
   ]
  },
  {
   "cell_type": "code",
   "execution_count": 32,
   "id": "cddb5095",
   "metadata": {},
   "outputs": [
    {
     "name": "stdout",
     "output_type": "stream",
     "text": [
      "f'(0) = 1.9999999999986668\n",
      "f''(0) = -3.6372016509744753\n"
     ]
    }
   ],
   "source": [
    "import math\n",
    "\n",
    "def pol(x):\n",
    "    return 2*x**3 + 3*x - 1\n",
    "\n",
    "def derivada_f(f, h=0.000001):\n",
    "    return lambda x : (f(x + h) - f(x-h)) / (2*h)\n",
    "\n",
    "\n",
    "def otra_func(x):\n",
    "    return math.sin(2*x)\n",
    "\n",
    "\n",
    "d_pol = derivada_f(otra_func)  # note que d_pol es una función\n",
    "dd_pol = derivada_f(d_pol)\n",
    "\n",
    "\n",
    "print(f\"f'(0) = {d_pol(0)}\")\n",
    "print(f\"f''(0) = {dd_pol(1)}\")"
   ]
  },
  {
   "cell_type": "code",
   "execution_count": null,
   "id": "e9cf6226",
   "metadata": {},
   "outputs": [],
   "source": [
    "test = lambda x,y : x**2 + 3*y"
   ]
  },
  {
   "cell_type": "code",
   "execution_count": null,
   "id": "61c2cbba",
   "metadata": {},
   "outputs": [],
   "source": [
    "test(1,2)"
   ]
  },
  {
   "cell_type": "code",
   "execution_count": null,
   "id": "49dd09e6",
   "metadata": {},
   "outputs": [],
   "source": [
    "from math import log, sqrt, exp\n",
    "from scipy.stats import norm \n",
    "\n",
    "def option(s, k, r, ttm, sigma, kind=\"call\"):\n",
    "    \"\"\"\n",
    "    Valora una opción \"call\" o \"put\" europeo bajo el modelo Black & Scholes de 1976. Para referencia ver \n",
    "    https://en.wikipedia.org/wiki/black_model\n",
    "    \n",
    "    Parámetros: \n",
    "    * $s$ es el valor de la acción a tiempo $t$\n",
    "    * $k$ es el *strike* de la opción\n",
    "    * $r$ es la tasa libre de riesgo\n",
    "    * $ttm$ es el tiempo a vencimiento de la opción en años\n",
    "    * $\\sigma$ es la volatidad de la acción\n",
    "    * kind es el tipo de opción (call o put)\n",
    "    \n",
    "    Returns: \n",
    "    El valor/precio/prima de la opción bajo el modelo de BS. \n",
    "    \n",
    "    \"\"\"\n",
    "    \n",
    "    epsilon = 1 if kind==\"call\" else -1\n",
    "    \n",
    "    d1 = (log(s/k)+ttm*(r+(sigma**2)/2)) / (sigma*sqrt(ttm))\n",
    "    d2 = d1 - sigma*sqrt(ttm)\n",
    "    \n",
    "    Fd1 = norm.cdf(d1*epsilon)   ## Phi(d_1)\n",
    "    Fd2 = norm.cdf(d2*epsilon)   ## Phi(d_2)\n",
    "    \n",
    "    option = epsilon*((s*Fd1)-k*exp(-r*ttm)*Fd2)\n",
    "    \n",
    "    return option"
   ]
  },
  {
   "cell_type": "code",
   "execution_count": null,
   "id": "73e2acfc",
   "metadata": {},
   "outputs": [],
   "source": [
    "S0 = 100      # Precio inicial del activo subyacente\n",
    "K = 100       # Precio de ejercicio\n",
    "T = 1         # Tiempo hasta el vencimiento en años\n",
    "r = 0.05      # Tasa de interés libre de riesgo\n",
    "sigma = 0.2   # Volatilidad"
   ]
  },
  {
   "cell_type": "code",
   "execution_count": null,
   "id": "f79c7a8c",
   "metadata": {},
   "outputs": [],
   "source": [
    "C = option(s=S0, k=K, r=r, ttm=T, sigma=sigma, kind=\"call\")\n",
    "C"
   ]
  },
  {
   "cell_type": "code",
   "execution_count": null,
   "id": "07d9cf41",
   "metadata": {},
   "outputs": [],
   "source": [
    "BS_spot = lambda s : option(s, K, r, T, sigma, \"call\")"
   ]
  },
  {
   "cell_type": "code",
   "execution_count": null,
   "id": "b8864ba4",
   "metadata": {},
   "outputs": [],
   "source": [
    "delta = derivada_f(BS_spot)\n",
    "\n",
    "delta(S0)"
   ]
  },
  {
   "cell_type": "code",
   "execution_count": null,
   "id": "b6d4cc73",
   "metadata": {},
   "outputs": [],
   "source": [
    "## formula cerrada de la delta de una opción\n",
    "d1 = (log(S0/K)+T*(r+(sigma**2)/2)) / (sigma*sqrt(T))\n",
    "norm.cdf(d1) "
   ]
  },
  {
   "cell_type": "markdown",
   "id": "a68e88ae",
   "metadata": {},
   "source": [
    "## Generadores\n",
    "\n",
    "\n",
    "En las clases pasadas hemos usado este tipo de objeto:\n",
    "\n",
    "```python\n",
    "range(n)\n",
    "```\n",
    "\n",
    "Este lo usamos principalmente como iterador en los bucles  ```for```. Pero para ver los elementos que lo componen tenemos que convertirlo a una lista, ¿por qué?\n",
    "\n",
    "\n",
    "A diferencia de las listas y tuplas, un generador va creando los números que se necesitan cuando se requieren; esto nos ayuda a mejorar el uso de memoria, sobre todo cuando una lista larga no se requiere mantener en memoria."
   ]
  },
  {
   "cell_type": "code",
   "execution_count": null,
   "id": "30e5af0b",
   "metadata": {},
   "outputs": [],
   "source": [
    "a = range(19)\n",
    "print(type(a))\n",
    "print(a)"
   ]
  },
  {
   "cell_type": "code",
   "execution_count": null,
   "id": "b2e2fb24",
   "metadata": {},
   "outputs": [],
   "source": [
    "list(a)"
   ]
  },
  {
   "cell_type": "code",
   "execution_count": null,
   "id": "51b8c8a6",
   "metadata": {},
   "outputs": [],
   "source": [
    "## ejemplo de generador\n",
    "\n",
    "def my_funct(n):\n",
    "    for i in range(n):\n",
    "        if i % 2 == 0:\n",
    "            return i\n",
    "\n",
    "\n",
    "def my_gen(n):\n",
    "    for i in range(n):\n",
    "        if i % 2 == 0:\n",
    "            yield i "
   ]
  },
  {
   "cell_type": "code",
   "execution_count": null,
   "id": "52917e83",
   "metadata": {},
   "outputs": [],
   "source": [
    "my_funct(23422)"
   ]
  },
  {
   "cell_type": "code",
   "execution_count": null,
   "id": "120d3872",
   "metadata": {},
   "outputs": [],
   "source": [
    "gen = my_gen(15)"
   ]
  },
  {
   "cell_type": "code",
   "execution_count": null,
   "id": "53711565",
   "metadata": {
    "scrolled": true
   },
   "outputs": [],
   "source": [
    "gen"
   ]
  },
  {
   "cell_type": "code",
   "execution_count": null,
   "id": "65775e61",
   "metadata": {
    "scrolled": true
   },
   "outputs": [],
   "source": [
    "next(gen)"
   ]
  },
  {
   "cell_type": "code",
   "execution_count": null,
   "id": "0088bba8",
   "metadata": {
    "scrolled": true
   },
   "outputs": [],
   "source": [
    "for k in gen:\n",
    "    print(k)"
   ]
  },
  {
   "cell_type": "code",
   "execution_count": null,
   "id": "de3186f9",
   "metadata": {},
   "outputs": [],
   "source": [
    "[i for i in range(0,15,2)]"
   ]
  },
  {
   "cell_type": "code",
   "execution_count": null,
   "id": "e074b590",
   "metadata": {},
   "outputs": [],
   "source": [
    "[i for i in gen]"
   ]
  },
  {
   "cell_type": "code",
   "execution_count": null,
   "id": "d271d2e0",
   "metadata": {},
   "outputs": [],
   "source": [
    "gen = my_gen(15)"
   ]
  },
  {
   "cell_type": "code",
   "execution_count": null,
   "id": "f7519267",
   "metadata": {},
   "outputs": [],
   "source": [
    "next(gen)"
   ]
  },
  {
   "cell_type": "code",
   "execution_count": null,
   "id": "ce7fbc3c",
   "metadata": {},
   "outputs": [],
   "source": [
    "list(gen)"
   ]
  },
  {
   "cell_type": "code",
   "execution_count": null,
   "id": "c249ceae",
   "metadata": {},
   "outputs": [],
   "source": [
    "for i in gen:\n",
    "    print(i)"
   ]
  },
  {
   "cell_type": "code",
   "execution_count": null,
   "id": "a0f98f14",
   "metadata": {},
   "outputs": [],
   "source": [
    "## vemos que funciona similar a un apuntador\n",
    "#gen = my_gen(15)\n",
    "\n",
    "next(gen)"
   ]
  },
  {
   "cell_type": "code",
   "execution_count": null,
   "id": "153dcff3",
   "metadata": {},
   "outputs": [],
   "source": [
    "## de la misma forma podemos usar la siguiente notación abreviada para crear un generador:\n",
    "\n",
    "gen = (i for i in range(15) if i%2==0)\n",
    "\n",
    "for i in gen:\n",
    "    print(i)"
   ]
  },
  {
   "cell_type": "code",
   "execution_count": null,
   "id": "1a1ef27c",
   "metadata": {},
   "outputs": [],
   "source": [
    "## EJEMPLO\n",
    "\n",
    "## haremos un generador para iterar una lista de 3 en 3 elementos.\n",
    "\n",
    "lista = list(range(14))\n",
    "lista"
   ]
  },
  {
   "cell_type": "code",
   "execution_count": null,
   "id": "d76beef3",
   "metadata": {},
   "outputs": [],
   "source": [
    "n = 5\n",
    "for i in range(len(lista) // n):\n",
    "    print(lista[i*n:(i+1)*n])"
   ]
  },
  {
   "cell_type": "code",
   "execution_count": null,
   "id": "d27a8715",
   "metadata": {},
   "outputs": [],
   "source": [
    "def iter_lista(lista, n):\n",
    "    for i in range(len(lista) // n):\n",
    "        #print(i, i*n, (i+1)*n)\n",
    "        yield lista[i*n:(i+1)*n]\n",
    "        \n",
    "        \n",
    "gen = iter_lista(lista, 3)\n"
   ]
  },
  {
   "cell_type": "code",
   "execution_count": null,
   "id": "04e8921f",
   "metadata": {},
   "outputs": [],
   "source": [
    "next(gen)"
   ]
  },
  {
   "cell_type": "code",
   "execution_count": null,
   "id": "46184aff",
   "metadata": {},
   "outputs": [],
   "source": [
    "# otra forma de recorrer el generador\n",
    "\n",
    "for idx, i in enumerate(gen):\n",
    "    print(idx, i)"
   ]
  },
  {
   "cell_type": "code",
   "execution_count": null,
   "id": "cae203ee",
   "metadata": {},
   "outputs": [],
   "source": [
    "## para entender mejor qué pasa en cada iteración, a veces es mejor usar print:\n",
    "\n",
    "def iter_lista(l, n):\n",
    "    for i in range(len(l) // n):\n",
    "        print(i, i*n, (i+1)*n)\n",
    "        yield l[i*n:(i+1)*n]\n",
    "        \n",
    "        \n",
    "gen = iter_lista(lista, 3)\n"
   ]
  },
  {
   "cell_type": "markdown",
   "id": "da39a85b",
   "metadata": {},
   "source": [
    "## Gestionar errores\n",
    "\n",
    "En ocasiones es importante gestionar posibles errores en nuestras funciones, veamos cómo podemos hacerlo."
   ]
  },
  {
   "cell_type": "code",
   "execution_count": 33,
   "id": "bb7446f8",
   "metadata": {},
   "outputs": [
    {
     "data": {
      "text/plain": [
       "1"
      ]
     },
     "execution_count": 33,
     "metadata": {},
     "output_type": "execute_result"
    }
   ],
   "source": [
    "## qué pasa cuando queremos convertir una variable a entero:\n",
    "\n",
    "int(1)  ## funciona"
   ]
  },
  {
   "cell_type": "code",
   "execution_count": 34,
   "id": "6ca9c933",
   "metadata": {},
   "outputs": [
    {
     "data": {
      "text/plain": [
       "1"
      ]
     },
     "execution_count": 34,
     "metadata": {},
     "output_type": "execute_result"
    }
   ],
   "source": [
    "int(1.6)  # funciona"
   ]
  },
  {
   "cell_type": "code",
   "execution_count": 35,
   "id": "6de18673",
   "metadata": {
    "scrolled": true
   },
   "outputs": [
    {
     "data": {
      "text/plain": [
       "1"
      ]
     },
     "execution_count": 35,
     "metadata": {},
     "output_type": "execute_result"
    }
   ],
   "source": [
    "int(\"1\")  ## funciona"
   ]
  },
  {
   "cell_type": "code",
   "execution_count": 36,
   "id": "7495ebbe",
   "metadata": {
    "scrolled": true
   },
   "outputs": [
    {
     "ename": "ValueError",
     "evalue": "invalid literal for int() with base 10: 'a'",
     "output_type": "error",
     "traceback": [
      "\u001b[1;31m---------------------------------------------------------------------------\u001b[0m",
      "\u001b[1;31mValueError\u001b[0m                                Traceback (most recent call last)",
      "Cell \u001b[1;32mIn[36], line 1\u001b[0m\n\u001b[1;32m----> 1\u001b[0m \u001b[38;5;28;43mint\u001b[39;49m\u001b[43m(\u001b[49m\u001b[38;5;124;43m\"\u001b[39;49m\u001b[38;5;124;43ma\u001b[39;49m\u001b[38;5;124;43m\"\u001b[39;49m\u001b[43m)\u001b[49m\n",
      "\u001b[1;31mValueError\u001b[0m: invalid literal for int() with base 10: 'a'"
     ]
    }
   ],
   "source": [
    "int(\"a\")   # pero no para todos los casos"
   ]
  },
  {
   "cell_type": "code",
   "execution_count": 7,
   "id": "b549b625",
   "metadata": {},
   "outputs": [],
   "source": [
    "# si tenemos una función como esta, podríamos tener errores:\n",
    "\n",
    "def funct(x):\n",
    "    return int(x)\n"
   ]
  },
  {
   "cell_type": "code",
   "execution_count": 8,
   "id": "eb13a51d",
   "metadata": {},
   "outputs": [
    {
     "ename": "TypeError",
     "evalue": "int() argument must be a string, a bytes-like object or a real number, not 'list'",
     "output_type": "error",
     "traceback": [
      "\u001b[0;31m---------------------------------------------------------------------------\u001b[0m",
      "\u001b[0;31mTypeError\u001b[0m                                 Traceback (most recent call last)",
      "Cell \u001b[0;32mIn[8], line 1\u001b[0m\n\u001b[0;32m----> 1\u001b[0m funct([\u001b[38;5;241m1\u001b[39m])\n",
      "Cell \u001b[0;32mIn[7], line 4\u001b[0m, in \u001b[0;36mfunct\u001b[0;34m(x)\u001b[0m\n\u001b[1;32m      3\u001b[0m \u001b[38;5;28;01mdef\u001b[39;00m \u001b[38;5;21mfunct\u001b[39m(x):\n\u001b[0;32m----> 4\u001b[0m     \u001b[38;5;28;01mreturn\u001b[39;00m \u001b[38;5;28mint\u001b[39m(x)\n",
      "\u001b[0;31mTypeError\u001b[0m: int() argument must be a string, a bytes-like object or a real number, not 'list'"
     ]
    }
   ],
   "source": [
    "funct([1])"
   ]
  },
  {
   "cell_type": "markdown",
   "id": "050faa40",
   "metadata": {},
   "source": [
    "Para gestionar errores en nuestras funciones, tenemos que usar la siguiente sintaxis:\n",
    "\n",
    "```python\n",
    "def my_funct(args):\n",
    "    try:\n",
    "        <do something>\n",
    "    except:\n",
    "        <do this when error>\n",
    "```\n",
    "\n",
    "\n",
    "pero una estructura más completa sería la siguiente:\n",
    "\n",
    "\n",
    "```python\n",
    "def my_funct(args):\n",
    "    try:\n",
    "        <do something>\n",
    "    except ExceptType as my_name:\n",
    "        <do this when error>\n",
    "    finally:\n",
    "        <always execute this code>\n",
    "```"
   ]
  },
  {
   "cell_type": "code",
   "execution_count": 38,
   "id": "180ff6ca",
   "metadata": {},
   "outputs": [
    {
     "name": "stdout",
     "output_type": "stream",
     "text": [
      "no se pudo convertir a entero\n"
     ]
    }
   ],
   "source": [
    "try:\n",
    "    int(\"a\")\n",
    "except:\n",
    "    print(\"no se pudo convertir a entero\")"
   ]
  },
  {
   "cell_type": "code",
   "execution_count": 9,
   "id": "e54c2c22",
   "metadata": {},
   "outputs": [],
   "source": [
    "def funct(x):\n",
    "    try:\n",
    "        return int(x)\n",
    "    except:\n",
    "        print(\"error\")\n",
    "        return 0"
   ]
  },
  {
   "cell_type": "code",
   "execution_count": 10,
   "id": "e0af6128",
   "metadata": {},
   "outputs": [
    {
     "data": {
      "text/plain": [
       "2"
      ]
     },
     "execution_count": 10,
     "metadata": {},
     "output_type": "execute_result"
    }
   ],
   "source": [
    "funct(\"2\")"
   ]
  },
  {
   "cell_type": "code",
   "execution_count": 41,
   "id": "d572bb4a",
   "metadata": {},
   "outputs": [
    {
     "name": "stdout",
     "output_type": "stream",
     "text": [
      "error\n"
     ]
    },
    {
     "data": {
      "text/plain": [
       "0"
      ]
     },
     "execution_count": 41,
     "metadata": {},
     "output_type": "execute_result"
    }
   ],
   "source": [
    "funct(\"a\")"
   ]
  },
  {
   "cell_type": "code",
   "execution_count": 42,
   "id": "16ef77f0",
   "metadata": {},
   "outputs": [
    {
     "name": "stdout",
     "output_type": "stream",
     "text": [
      "error\n"
     ]
    },
    {
     "data": {
      "text/plain": [
       "0"
      ]
     },
     "execution_count": 42,
     "metadata": {},
     "output_type": "execute_result"
    }
   ],
   "source": [
    "funct( [354,345,345] )"
   ]
  },
  {
   "cell_type": "code",
   "execution_count": 11,
   "id": "0ffd1eb6",
   "metadata": {},
   "outputs": [],
   "source": [
    "def funct(x):\n",
    "    try:\n",
    "        return int(x)\n",
    "    except Exception as e:\n",
    "        print(e)\n",
    "        #print(\"error\")\n",
    "        #return \"error\"\n",
    "        "
   ]
  },
  {
   "cell_type": "code",
   "execution_count": 12,
   "id": "f2ea85e9",
   "metadata": {},
   "outputs": [
    {
     "name": "stdout",
     "output_type": "stream",
     "text": [
      "invalid literal for int() with base 10: '34.5'\n"
     ]
    }
   ],
   "source": [
    "funct(\"34.5\")"
   ]
  },
  {
   "cell_type": "code",
   "execution_count": 45,
   "id": "6b6c6a65",
   "metadata": {
    "scrolled": true
   },
   "outputs": [
    {
     "ename": "ValueError",
     "evalue": "invalid literal for int() with base 10: '34.5'",
     "output_type": "error",
     "traceback": [
      "\u001b[1;31m---------------------------------------------------------------------------\u001b[0m",
      "\u001b[1;31mValueError\u001b[0m                                Traceback (most recent call last)",
      "Cell \u001b[1;32mIn[45], line 1\u001b[0m\n\u001b[1;32m----> 1\u001b[0m \u001b[38;5;28;43mint\u001b[39;49m\u001b[43m(\u001b[49m\u001b[38;5;124;43m\"\u001b[39;49m\u001b[38;5;124;43m34.5\u001b[39;49m\u001b[38;5;124;43m\"\u001b[39;49m\u001b[43m)\u001b[49m\n",
      "\u001b[1;31mValueError\u001b[0m: invalid literal for int() with base 10: '34.5'"
     ]
    }
   ],
   "source": [
    "int(\"34.5\")"
   ]
  },
  {
   "cell_type": "code",
   "execution_count": 46,
   "id": "ebe20837",
   "metadata": {},
   "outputs": [
    {
     "name": "stdout",
     "output_type": "stream",
     "text": [
      "int() argument must be a string, a bytes-like object or a real number, not 'list'\n"
     ]
    }
   ],
   "source": [
    "funct([1])"
   ]
  },
  {
   "cell_type": "code",
   "execution_count": 47,
   "id": "de9e87f0",
   "metadata": {},
   "outputs": [
    {
     "ename": "TypeError",
     "evalue": "int() argument must be a string, a bytes-like object or a real number, not 'list'",
     "output_type": "error",
     "traceback": [
      "\u001b[1;31m---------------------------------------------------------------------------\u001b[0m",
      "\u001b[1;31mTypeError\u001b[0m                                 Traceback (most recent call last)",
      "Cell \u001b[1;32mIn[47], line 1\u001b[0m\n\u001b[1;32m----> 1\u001b[0m \u001b[38;5;28;43mint\u001b[39;49m\u001b[43m(\u001b[49m\u001b[43m[\u001b[49m\u001b[38;5;241;43m1\u001b[39;49m\u001b[43m]\u001b[49m\u001b[43m)\u001b[49m\n",
      "\u001b[1;31mTypeError\u001b[0m: int() argument must be a string, a bytes-like object or a real number, not 'list'"
     ]
    }
   ],
   "source": [
    "int([1])"
   ]
  },
  {
   "cell_type": "code",
   "execution_count": null,
   "id": "0c1aaede",
   "metadata": {},
   "outputs": [],
   "source": [
    "if funct(\"1\"):\n",
    "    print(\"todo bien\")  # True   bool(funct(\"1\"))\n",
    "else:\n",
    "    print(\"error\")"
   ]
  },
  {
   "cell_type": "code",
   "execution_count": 48,
   "id": "2768fe9e",
   "metadata": {},
   "outputs": [],
   "source": [
    "def funct(x):\n",
    "    try:\n",
    "        return int(x)\n",
    "    except ValueError as val:\n",
    "        #print(val)\n",
    "        print(\"es un valueError\")\n",
    "    except TypeError as typeE:\n",
    "        print(\"es un TypeError\")\n",
    "    except Exception as e:\n",
    "        print(e)\n",
    "    finally:\n",
    "        print(\"adios\")"
   ]
  },
  {
   "cell_type": "code",
   "execution_count": 49,
   "id": "2e39f34b",
   "metadata": {},
   "outputs": [
    {
     "name": "stdout",
     "output_type": "stream",
     "text": [
      "adios\n"
     ]
    },
    {
     "data": {
      "text/plain": [
       "1"
      ]
     },
     "execution_count": 49,
     "metadata": {},
     "output_type": "execute_result"
    }
   ],
   "source": [
    "funct(\"1\")"
   ]
  },
  {
   "cell_type": "code",
   "execution_count": 50,
   "id": "6269a6bc",
   "metadata": {},
   "outputs": [
    {
     "name": "stdout",
     "output_type": "stream",
     "text": [
      "es un TypeError\n",
      "adios\n"
     ]
    }
   ],
   "source": [
    "funct([12])"
   ]
  },
  {
   "cell_type": "code",
   "execution_count": 51,
   "id": "192e061d",
   "metadata": {},
   "outputs": [
    {
     "name": "stdout",
     "output_type": "stream",
     "text": [
      "es un valueError\n",
      "adios\n"
     ]
    }
   ],
   "source": [
    "funct(\"1344sf5\")"
   ]
  },
  {
   "cell_type": "code",
   "execution_count": null,
   "id": "c6bd82bb",
   "metadata": {},
   "outputs": [],
   "source": [
    "def f_1():\n",
    "    try:\n",
    "        call f_2\n",
    "\n",
    "        call f_3\n",
    "\n",
    "        call f_4\n",
    "\n",
    "        return 0\n",
    "    \n",
    "    except ZeroDivisionError as ZD:\n",
    "        <cosas que ejecutan si se encuentra un eeror rdel tipo ZeroDivisionError>\n",
    "    \n",
    "    except:\n",
    "        <hace otra cosa>\n",
    "        \n",
    "    finally:\n",
    "        <cosas que quiero ejecutar sin importar si rompe el código o no>"
   ]
  },
  {
   "cell_type": "code",
   "execution_count": 52,
   "id": "d53da81b",
   "metadata": {},
   "outputs": [],
   "source": [
    "\n",
    "def try_try(x):\n",
    "    try:\n",
    "        return int(x)\n",
    "    except ValueError as val:\n",
    "        return otra_funct(x)\n",
    "\n",
    "def otra_funct(x):\n",
    "    try:\n",
    "        return int(float(x))\n",
    "    except:\n",
    "        print(\"error\")\n"
   ]
  },
  {
   "cell_type": "code",
   "execution_count": 53,
   "id": "e1be6e68",
   "metadata": {},
   "outputs": [
    {
     "data": {
      "text/plain": [
       "2"
      ]
     },
     "execution_count": 53,
     "metadata": {},
     "output_type": "execute_result"
    }
   ],
   "source": [
    "try_try(\"2.4\")"
   ]
  },
  {
   "cell_type": "code",
   "execution_count": 54,
   "id": "2304be6c",
   "metadata": {},
   "outputs": [
    {
     "ename": "TypeError",
     "evalue": "int() argument must be a string, a bytes-like object or a real number, not 'list'",
     "output_type": "error",
     "traceback": [
      "\u001b[1;31m---------------------------------------------------------------------------\u001b[0m",
      "\u001b[1;31mTypeError\u001b[0m                                 Traceback (most recent call last)",
      "Cell \u001b[1;32mIn[54], line 1\u001b[0m\n\u001b[1;32m----> 1\u001b[0m \u001b[43mtry_try\u001b[49m\u001b[43m(\u001b[49m\u001b[43m[\u001b[49m\u001b[38;5;241;43m1\u001b[39;49m\u001b[43m]\u001b[49m\u001b[43m)\u001b[49m\n",
      "Cell \u001b[1;32mIn[52], line 3\u001b[0m, in \u001b[0;36mtry_try\u001b[1;34m(x)\u001b[0m\n\u001b[0;32m      1\u001b[0m \u001b[38;5;28;01mdef\u001b[39;00m \u001b[38;5;21mtry_try\u001b[39m(x):\n\u001b[0;32m      2\u001b[0m     \u001b[38;5;28;01mtry\u001b[39;00m:\n\u001b[1;32m----> 3\u001b[0m         \u001b[38;5;28;01mreturn\u001b[39;00m \u001b[38;5;28;43mint\u001b[39;49m\u001b[43m(\u001b[49m\u001b[43mx\u001b[49m\u001b[43m)\u001b[49m\n\u001b[0;32m      4\u001b[0m     \u001b[38;5;28;01mexcept\u001b[39;00m \u001b[38;5;167;01mValueError\u001b[39;00m \u001b[38;5;28;01mas\u001b[39;00m val:\n\u001b[0;32m      5\u001b[0m         \u001b[38;5;28;01mreturn\u001b[39;00m otra_funct(x)\n",
      "\u001b[1;31mTypeError\u001b[0m: int() argument must be a string, a bytes-like object or a real number, not 'list'"
     ]
    }
   ],
   "source": [
    "try_try([1])"
   ]
  },
  {
   "attachments": {
    "errores_python.png": {
     "image/png": "[encoded data removed]"
    }
   },
   "cell_type": "markdown",
   "id": "1d01589b",
   "metadata": {},
   "source": [
    "![errores_python.png](attachment:errores_python.png)"
   ]
  },
  {
   "cell_type": "markdown",
   "id": "a68cfd0a",
   "metadata": {},
   "source": [
    "Gestionar errores fortalece nuestro código y nos permite saber cómo actuar en caso de que ocurra algo que no se espera.\n",
    "\n",
    "Esto suele hacerse sólo en aquellos métodos o funciones que sabemos que podrían fallar; no es necesario gestionar errores en todas las funciones.\n",
    "\n",
    "$$$$\n",
    "\n",
    "También podemos generar nuestros propios errores en nuestras funciones:"
   ]
  },
  {
   "cell_type": "code",
   "execution_count": 55,
   "id": "2310bb4c",
   "metadata": {},
   "outputs": [
    {
     "data": {
      "text/plain": [
       "['ArithmeticError',\n",
       " 'AssertionError',\n",
       " 'AttributeError',\n",
       " 'BlockingIOError',\n",
       " 'BrokenPipeError',\n",
       " 'BufferError',\n",
       " 'ChildProcessError',\n",
       " 'ConnectionAbortedError',\n",
       " 'ConnectionError',\n",
       " 'ConnectionRefusedError',\n",
       " 'ConnectionResetError',\n",
       " 'EOFError',\n",
       " 'EnvironmentError',\n",
       " 'FileExistsError',\n",
       " 'FileNotFoundError',\n",
       " 'FloatingPointError',\n",
       " 'IOError',\n",
       " 'ImportError',\n",
       " 'IndentationError',\n",
       " 'IndexError',\n",
       " 'InterruptedError',\n",
       " 'IsADirectoryError',\n",
       " 'KeyError',\n",
       " 'LookupError',\n",
       " 'MemoryError',\n",
       " 'ModuleNotFoundError',\n",
       " 'NameError',\n",
       " 'NotADirectoryError',\n",
       " 'NotImplementedError',\n",
       " 'OSError',\n",
       " 'OverflowError',\n",
       " 'PermissionError',\n",
       " 'ProcessLookupError',\n",
       " 'RecursionError',\n",
       " 'ReferenceError',\n",
       " 'RuntimeError',\n",
       " 'SyntaxError',\n",
       " 'SystemError',\n",
       " 'TabError',\n",
       " 'TimeoutError',\n",
       " 'TypeError',\n",
       " 'UnboundLocalError',\n",
       " 'UnicodeDecodeError',\n",
       " 'UnicodeEncodeError',\n",
       " 'UnicodeError',\n",
       " 'UnicodeTranslateError',\n",
       " 'ValueError',\n",
       " 'WindowsError',\n",
       " 'ZeroDivisionError']"
      ]
     },
     "execution_count": 55,
     "metadata": {},
     "output_type": "execute_result"
    }
   ],
   "source": [
    "[x for x in dir(__builtins__) if \"Error\" in x]"
   ]
  },
  {
   "cell_type": "code",
   "execution_count": 56,
   "id": "61ac4614",
   "metadata": {},
   "outputs": [],
   "source": [
    "def funct(x):\n",
    "    if (type(x) is int) or (type(x) is float):\n",
    "        return int(x)\n",
    "    \n",
    "    raise Exception(f\"No puedo castear el valor dado a entero: {x}\")"
   ]
  },
  {
   "cell_type": "code",
   "execution_count": 57,
   "id": "9a2ef62b",
   "metadata": {},
   "outputs": [
    {
     "data": {
      "text/plain": [
       "2"
      ]
     },
     "execution_count": 57,
     "metadata": {},
     "output_type": "execute_result"
    }
   ],
   "source": [
    "funct(2.4)"
   ]
  },
  {
   "cell_type": "code",
   "execution_count": 58,
   "id": "7bd5777d",
   "metadata": {},
   "outputs": [
    {
     "ename": "Exception",
     "evalue": "No puedo castear el valor dado a entero: 1.5",
     "output_type": "error",
     "traceback": [
      "\u001b[1;31m---------------------------------------------------------------------------\u001b[0m",
      "\u001b[1;31mException\u001b[0m                                 Traceback (most recent call last)",
      "Cell \u001b[1;32mIn[58], line 1\u001b[0m\n\u001b[1;32m----> 1\u001b[0m \u001b[43mfunct\u001b[49m\u001b[43m(\u001b[49m\u001b[38;5;124;43m\"\u001b[39;49m\u001b[38;5;124;43m1.5\u001b[39;49m\u001b[38;5;124;43m\"\u001b[39;49m\u001b[43m)\u001b[49m\n",
      "Cell \u001b[1;32mIn[56], line 5\u001b[0m, in \u001b[0;36mfunct\u001b[1;34m(x)\u001b[0m\n\u001b[0;32m      2\u001b[0m \u001b[38;5;28;01mif\u001b[39;00m (\u001b[38;5;28mtype\u001b[39m(x) \u001b[38;5;129;01mis\u001b[39;00m \u001b[38;5;28mint\u001b[39m) \u001b[38;5;129;01mor\u001b[39;00m (\u001b[38;5;28mtype\u001b[39m(x) \u001b[38;5;129;01mis\u001b[39;00m \u001b[38;5;28mfloat\u001b[39m):\n\u001b[0;32m      3\u001b[0m     \u001b[38;5;28;01mreturn\u001b[39;00m \u001b[38;5;28mint\u001b[39m(x)\n\u001b[1;32m----> 5\u001b[0m \u001b[38;5;28;01mraise\u001b[39;00m \u001b[38;5;167;01mException\u001b[39;00m(\u001b[38;5;124mf\u001b[39m\u001b[38;5;124m\"\u001b[39m\u001b[38;5;124mNo puedo castear el valor dado a entero: \u001b[39m\u001b[38;5;132;01m{\u001b[39;00mx\u001b[38;5;132;01m}\u001b[39;00m\u001b[38;5;124m\"\u001b[39m)\n",
      "\u001b[1;31mException\u001b[0m: No puedo castear el valor dado a entero: 1.5"
     ]
    }
   ],
   "source": [
    "funct(\"1.5\")"
   ]
  },
  {
   "cell_type": "code",
   "execution_count": 59,
   "id": "6279fc25",
   "metadata": {},
   "outputs": [],
   "source": [
    "def cast_int(x):\n",
    "    try:\n",
    "        return funct(x)\n",
    "    except Exception as e:\n",
    "        print(e)"
   ]
  },
  {
   "cell_type": "code",
   "execution_count": 60,
   "id": "425f0876",
   "metadata": {},
   "outputs": [
    {
     "name": "stdout",
     "output_type": "stream",
     "text": [
      "No puedo castear el valor dado a entero: f\n"
     ]
    }
   ],
   "source": [
    "cast_int(\"f\")"
   ]
  },
  {
   "cell_type": "code",
   "execution_count": null,
   "id": "8cc525b9",
   "metadata": {},
   "outputs": [],
   "source": [
    "int(\"f\")"
   ]
  },
  {
   "cell_type": "markdown",
   "id": "de985587",
   "metadata": {},
   "source": [
    "De esta forma, si alguna otra función llama a ```funct``` entonces debería usar un ```try-except``` para gestionar erorres:"
   ]
  },
  {
   "cell_type": "code",
   "execution_count": null,
   "id": "7e4a6b5e",
   "metadata": {},
   "outputs": [],
   "source": [
    "## como podemos ver, try - except directamente, no sólo dentro de una función:\n",
    "\n",
    "try:\n",
    "    a = input(\"Dame un numero:\")\n",
    "    b = int(a)\n",
    "except:\n",
    "    print(\"error\")"
   ]
  },
  {
   "cell_type": "code",
   "execution_count": null,
   "id": "70e1aff9",
   "metadata": {},
   "outputs": [],
   "source": [
    "def funct_2(x):\n",
    "    try:\n",
    "        return funct(x)\n",
    "    except Exception as e:\n",
    "        print(e)"
   ]
  },
  {
   "cell_type": "code",
   "execution_count": null,
   "id": "6781ced3",
   "metadata": {},
   "outputs": [],
   "source": [
    "funct_2(\"d\")"
   ]
  },
  {
   "cell_type": "markdown",
   "id": "bf25275e",
   "metadata": {},
   "source": [
    "> <h2 style=\"color:green\"> $\\ll\\!\\!\\prec\\quad$ Ejercicios$\\quad\\succ\\!\\!\\gg$ </h2>"
   ]
  },
  {
   "cell_type": "markdown",
   "id": "3955f307",
   "metadata": {},
   "source": [
    "1. Crear una rutina que se encargue de pedir al usuario un número entero usando gestión de errores o alguna otra metodología que se les ocurra."
   ]
  },
  {
   "cell_type": "code",
   "execution_count": 62,
   "id": "d1d215e7",
   "metadata": {},
   "outputs": [
    {
     "name": "stdout",
     "output_type": "stream",
     "text": [
      "Dame un entero: fhd\n"
     ]
    },
    {
     "ename": "ValueError",
     "evalue": "invalid literal for int() with base 10: 'fhd'",
     "output_type": "error",
     "traceback": [
      "\u001b[1;31m---------------------------------------------------------------------------\u001b[0m",
      "\u001b[1;31mValueError\u001b[0m                                Traceback (most recent call last)",
      "Cell \u001b[1;32mIn[62], line 1\u001b[0m\n\u001b[1;32m----> 1\u001b[0m a \u001b[38;5;241m=\u001b[39m \u001b[38;5;28;43mint\u001b[39;49m\u001b[43m(\u001b[49m\u001b[38;5;28;43minput\u001b[39;49m\u001b[43m(\u001b[49m\u001b[38;5;124;43m\"\u001b[39;49m\u001b[38;5;124;43mDame un entero: \u001b[39;49m\u001b[38;5;124;43m\"\u001b[39;49m\u001b[43m)\u001b[49m\u001b[43m)\u001b[49m\n",
      "\u001b[1;31mValueError\u001b[0m: invalid literal for int() with base 10: 'fhd'"
     ]
    }
   ],
   "source": [
    "a = int(input(\"Dame un entero: \"))"
   ]
  },
  {
   "cell_type": "code",
   "execution_count": 63,
   "id": "f2e357da",
   "metadata": {},
   "outputs": [],
   "source": [
    "def get_int():\n",
    "    while True:\n",
    "        try:\n",
    "            a = int(input(\"Dame un número entero: \"))\n",
    "            break\n",
    "        except:\n",
    "            print(\"No es un entero. Intenta de nuevo...\")\n",
    "    \n",
    "    return a"
   ]
  },
  {
   "cell_type": "code",
   "execution_count": 64,
   "id": "c2bcbb2d",
   "metadata": {},
   "outputs": [
    {
     "name": "stdout",
     "output_type": "stream",
     "text": [
      "Dame un número entero: rrter\n",
      "No es un entero. Intenta de nuevo...\n",
      "Dame un número entero: e4tferge\n",
      "No es un entero. Intenta de nuevo...\n",
      "Dame un número entero: wrwef\n",
      "No es un entero. Intenta de nuevo...\n",
      "Dame un número entero: sdf\n",
      "No es un entero. Intenta de nuevo...\n",
      "Dame un número entero: sdfs\n",
      "No es un entero. Intenta de nuevo...\n",
      "Dame un número entero: sdf\n",
      "No es un entero. Intenta de nuevo...\n",
      "Dame un número entero: sdf\n",
      "No es un entero. Intenta de nuevo...\n",
      "Dame un número entero: sdf\n",
      "No es un entero. Intenta de nuevo...\n",
      "Dame un número entero: sdf\n",
      "No es un entero. Intenta de nuevo...\n",
      "Dame un número entero: 50205.16\n",
      "No es un entero. Intenta de nuevo...\n",
      "Dame un número entero: 515\n"
     ]
    }
   ],
   "source": [
    "a = get_int()"
   ]
  },
  {
   "cell_type": "code",
   "execution_count": 65,
   "id": "b4a17128",
   "metadata": {},
   "outputs": [
    {
     "data": {
      "text/plain": [
       "515"
      ]
     },
     "execution_count": 65,
     "metadata": {},
     "output_type": "execute_result"
    }
   ],
   "source": [
    "a"
   ]
  },
  {
   "cell_type": "code",
   "execution_count": 68,
   "id": "780d46b4",
   "metadata": {},
   "outputs": [],
   "source": [
    "\n",
    "def my_int():\n",
    "    a = 0\n",
    "\n",
    "    while True:\n",
    "        if (a > 10) or (a < 5):\n",
    "            a = get_int()\n",
    "        else:\n",
    "            break\n",
    "    \n",
    "    return a"
   ]
  },
  {
   "cell_type": "code",
   "execution_count": 69,
   "id": "b2c10837",
   "metadata": {},
   "outputs": [
    {
     "name": "stdout",
     "output_type": "stream",
     "text": [
      "Dame un número entero: 4\n",
      "Dame un número entero: 3\n",
      "Dame un número entero: 11\n",
      "Dame un número entero: 5\n"
     ]
    }
   ],
   "source": [
    "b = my_int()"
   ]
  },
  {
   "cell_type": "markdown",
   "id": "f46932aa",
   "metadata": {},
   "source": [
    "2. Crear una función que le pida al usuario un número y calcule su factorial usando gestión de posibles errores (suponemos que el factorial está definido para enteros positivos y el cero)."
   ]
  },
  {
   "cell_type": "code",
   "execution_count": null,
   "id": "0af5b2ac",
   "metadata": {},
   "outputs": [],
   "source": [
    "def factorial(n):\n",
    "    if n<0:\n",
    "        raise Exception(\"no puedo calcular el factorial de un número negativo\")\n",
    "    if n==0 or n==1:\n",
    "        return 1\n",
    "    return n* factorial(n-1)"
   ]
  },
  {
   "cell_type": "code",
   "execution_count": null,
   "id": "d9ff41c0",
   "metadata": {},
   "outputs": [],
   "source": [
    "def fact_input():\n",
    "    print(\"Este programa calcula el factorial de un número.\")\n",
    "    a = get_int()\n",
    "    try:\n",
    "        print(f\"{a}! = {factorial(a)}\")\n",
    "    except Exception as e:\n",
    "        print(e)\n"
   ]
  },
  {
   "cell_type": "code",
   "execution_count": null,
   "id": "aa1d01b3",
   "metadata": {},
   "outputs": [],
   "source": [
    "fact_input()"
   ]
  },
  {
   "cell_type": "markdown",
   "id": "ddeaffbf",
   "metadata": {},
   "source": [
    "### Importar funciones desde otros ficheros.\n",
    "\n",
    "Usaremos este ejemplo para explicar cómo se importan librerías; en la siguiente sesión veremos con más detalle esto.\n",
    "\n",
    "Esto suele hacerse cuando hemos generado nuestras propias funciones, desde algo muy sencillo a algo muy complejo (funciones básicas, formato, limpieza de datos, algún algoritmo complejo, etc)."
   ]
  },
  {
   "cell_type": "code",
   "execution_count": 1,
   "id": "0d469245",
   "metadata": {},
   "outputs": [],
   "source": [
    "import math\n",
    "import math as m\n",
    "\n",
    "import numpy as np\n",
    "import pandas as pd\n",
    "\n",
    "\n",
    "from math import exp\n",
    "from math import exp as e_funct\n"
   ]
  },
  {
   "cell_type": "code",
   "execution_count": 2,
   "id": "4ab90c23",
   "metadata": {},
   "outputs": [
    {
     "data": {
      "text/plain": [
       "'/Users/andrespadronquintana/Desktop/DIPLOMADO MACHINE LEARNING DS/MÓDULO 1'"
      ]
     },
     "execution_count": 2,
     "metadata": {},
     "output_type": "execute_result"
    }
   ],
   "source": [
    "import os\n",
    "os.getcwd()"
   ]
  },
  {
   "cell_type": "code",
   "execution_count": 3,
   "id": "94eaaa61",
   "metadata": {},
   "outputs": [
    {
     "data": {
      "text/plain": [
       "'/Users/andrespadronquintana/Desktop/DIPLOMADO MACHINE LEARNING DS/MÓDULO 1'"
      ]
     },
     "execution_count": 3,
     "metadata": {},
     "output_type": "execute_result"
    }
   ],
   "source": [
    "pwd\n"
   ]
  },
  {
   "cell_type": "code",
   "execution_count": 5,
   "id": "d3143952",
   "metadata": {},
   "outputs": [
    {
     "name": "stdout",
     "output_type": "stream",
     "text": [
      "Variable   Type                          Data/Info\n",
      "--------------------------------------------------\n",
      "e_funct    builtin_function_or_method    <built-in function exp>\n",
      "exp        builtin_function_or_method    <built-in function exp>\n",
      "m          module                        <module 'math' from '/Use<...>h.cpython-311-darwin.so'>\n",
      "math       module                        <module 'math' from '/Use<...>h.cpython-311-darwin.so'>\n",
      "np         module                        <module 'numpy' from '/Us<...>kages/numpy/__init__.py'>\n",
      "os         module                        <module 'os' (frozen)>\n",
      "pd         module                        <module 'pandas' from '/U<...>ages/pandas/__init__.py'>\n"
     ]
    }
   ],
   "source": [
    "%whos"
   ]
  },
  {
   "cell_type": "code",
   "execution_count": 4,
   "id": "312dc342",
   "metadata": {
    "scrolled": true
   },
   "outputs": [
    {
     "ename": "ModuleNotFoundError",
     "evalue": "No module named 'aux_funct'",
     "output_type": "error",
     "traceback": [
      "\u001b[0;31m---------------------------------------------------------------------------\u001b[0m",
      "\u001b[0;31mModuleNotFoundError\u001b[0m                       Traceback (most recent call last)",
      "Cell \u001b[0;32mIn[4], line 1\u001b[0m\n\u001b[0;32m----> 1\u001b[0m \u001b[38;5;28;01mimport\u001b[39;00m \u001b[38;5;21;01maux_funct\u001b[39;00m\n",
      "\u001b[0;31mModuleNotFoundError\u001b[0m: No module named 'aux_funct'"
     ]
    }
   ],
   "source": [
    "import aux_funct   ##  import + file_name"
   ]
  },
  {
   "cell_type": "code",
   "execution_count": 6,
   "id": "895af4ff",
   "metadata": {},
   "outputs": [
    {
     "ename": "NameError",
     "evalue": "name 'aux_funct' is not defined",
     "output_type": "error",
     "traceback": [
      "\u001b[0;31m---------------------------------------------------------------------------\u001b[0m",
      "\u001b[0;31mNameError\u001b[0m                                 Traceback (most recent call last)",
      "Cell \u001b[0;32mIn[6], line 1\u001b[0m\n\u001b[0;32m----> 1\u001b[0m help(aux_funct)\n",
      "\u001b[0;31mNameError\u001b[0m: name 'aux_funct' is not defined"
     ]
    }
   ],
   "source": [
    "help(aux_funct)"
   ]
  },
  {
   "cell_type": "code",
   "execution_count": null,
   "id": "078cf876",
   "metadata": {},
   "outputs": [],
   "source": [
    "aux_funct.factorial(5)"
   ]
  },
  {
   "cell_type": "code",
   "execution_count": null,
   "id": "7380b88d",
   "metadata": {},
   "outputs": [],
   "source": [
    "aux_funct.doble_factorial(5)"
   ]
  },
  {
   "cell_type": "code",
   "execution_count": null,
   "id": "dfbc388c",
   "metadata": {},
   "outputs": [],
   "source": [
    "aux_funct.fibonacci(10)"
   ]
  },
  {
   "cell_type": "code",
   "execution_count": null,
   "id": "1c85af38",
   "metadata": {},
   "outputs": [],
   "source": [
    "help(aux_funct.fibonacci)"
   ]
  },
  {
   "cell_type": "code",
   "execution_count": null,
   "id": "9cc5c8c8",
   "metadata": {},
   "outputs": [],
   "source": [
    "a = aux_funct.get_int_from_user()\n",
    "\n",
    "b = aux_funct.get_int_from_user()"
   ]
  },
  {
   "cell_type": "code",
   "execution_count": null,
   "id": "837e654b",
   "metadata": {},
   "outputs": [],
   "source": [
    "print(f\"a = {a}, b = {b}\")"
   ]
  },
  {
   "cell_type": "code",
   "execution_count": null,
   "id": "d04f40b0",
   "metadata": {},
   "outputs": [],
   "source": [
    "import aux_funct as AF"
   ]
  },
  {
   "cell_type": "code",
   "execution_count": null,
   "id": "9d6b5e39",
   "metadata": {},
   "outputs": [],
   "source": [
    "AF."
   ]
  },
  {
   "cell_type": "code",
   "execution_count": null,
   "id": "a2ff712a",
   "metadata": {},
   "outputs": [],
   "source": [
    "AF.doble_factorial(3)"
   ]
  },
  {
   "cell_type": "code",
   "execution_count": null,
   "id": "3d4c800f",
   "metadata": {},
   "outputs": [],
   "source": [
    "# si hay más cosas, podemos hacer esto:\n",
    "\n",
    "## from mi_paquetería import cierta_funct as nombre_corto\n",
    "\n",
    "from aux_funct import fibonacci as fib"
   ]
  },
  {
   "cell_type": "code",
   "execution_count": null,
   "id": "74c2104c",
   "metadata": {},
   "outputs": [],
   "source": [
    "fib(5)"
   ]
  },
  {
   "cell_type": "code",
   "execution_count": null,
   "id": "ebafea31",
   "metadata": {},
   "outputs": [],
   "source": [
    "from aux_funct import doble_factorial as dbl_fact\n",
    "\n",
    "dbl_fact(5)"
   ]
  },
  {
   "cell_type": "code",
   "execution_count": null,
   "id": "65900eec",
   "metadata": {},
   "outputs": [],
   "source": [
    "aux_funct.doble_factorial(5)"
   ]
  },
  {
   "cell_type": "code",
   "execution_count": null,
   "id": "d35737c2",
   "metadata": {},
   "outputs": [],
   "source": [
    "dir(aux_funct)"
   ]
  },
  {
   "cell_type": "markdown",
   "id": "dcd2070a",
   "metadata": {},
   "source": [
    "## Importar todo el paquete\n",
    "\n",
    "```python\n",
    "import pkg_name\n",
    "\n",
    "import pkg_name as other_name\n",
    "\n",
    "\n",
    "## importar sólo una función\n",
    "\n",
    "from pkg_name import funct_name\n",
    "\n",
    "from pkg_name import funct_name as other_name_func\n"
   ]
  },
  {
   "cell_type": "markdown",
   "id": "ed185fc5",
   "metadata": {},
   "source": [
    "Hay paquetes que se usarán muy frecuentemente a lo largo del diplomado, dependiendo de lo que se necesite hacer.\n",
    "\n",
    "Los de uso más frecuente (y que estaremos viendo a lo largo de las siguientes clases) son:\n",
    "\n",
    "* numpy\n",
    "\n",
    "* pandas\n",
    "\n",
    "* matplotlib\n"
   ]
  },
  {
   "cell_type": "markdown",
   "id": "6872c356",
   "metadata": {},
   "source": [
    "### Para importar módulos desde otra ubicación, ver:\n",
    "\n",
    "https://csatlas.com/python-import-file-module/\n",
    "\n",
    "\n",
    "$$$$"
   ]
  },
  {
   "cell_type": "code",
   "execution_count": 14,
   "id": "4cfefd3e",
   "metadata": {},
   "outputs": [],
   "source": [
    "from math import *"
   ]
  },
  {
   "cell_type": "code",
   "execution_count": 15,
   "id": "be765611",
   "metadata": {},
   "outputs": [
    {
     "name": "stdout",
     "output_type": "stream",
     "text": [
      "Variable    Type                          Data/Info\n",
      "---------------------------------------------------\n",
      "acos        builtin_function_or_method    <built-in function acos>\n",
      "acosh       builtin_function_or_method    <built-in function acosh>\n",
      "asin        builtin_function_or_method    <built-in function asin>\n",
      "asinh       builtin_function_or_method    <built-in function asinh>\n",
      "atan        builtin_function_or_method    <built-in function atan>\n",
      "atan2       builtin_function_or_method    <built-in function atan2>\n",
      "atanh       builtin_function_or_method    <built-in function atanh>\n",
      "cbrt        builtin_function_or_method    <built-in function cbrt>\n",
      "ceil        builtin_function_or_method    <built-in function ceil>\n",
      "comb        builtin_function_or_method    <built-in function comb>\n",
      "copysign    builtin_function_or_method    <built-in function copysign>\n",
      "cos         builtin_function_or_method    <built-in function cos>\n",
      "cosh        builtin_function_or_method    <built-in function cosh>\n",
      "degrees     builtin_function_or_method    <built-in function degrees>\n",
      "dist        builtin_function_or_method    <built-in function dist>\n",
      "e           float                         2.718281828459045\n",
      "e_funct     builtin_function_or_method    <built-in function exp>\n",
      "erf         builtin_function_or_method    <built-in function erf>\n",
      "erfc        builtin_function_or_method    <built-in function erfc>\n",
      "exp         builtin_function_or_method    <built-in function exp>\n",
      "exp2        builtin_function_or_method    <built-in function exp2>\n",
      "expm1       builtin_function_or_method    <built-in function expm1>\n",
      "fabs        builtin_function_or_method    <built-in function fabs>\n",
      "factorial   builtin_function_or_method    <built-in function factorial>\n",
      "floor       builtin_function_or_method    <built-in function floor>\n",
      "fmod        builtin_function_or_method    <built-in function fmod>\n",
      "frexp       builtin_function_or_method    <built-in function frexp>\n",
      "fsum        builtin_function_or_method    <built-in function fsum>\n",
      "funct       function                      <function funct at 0x14a4e6de0>\n",
      "gamma       builtin_function_or_method    <built-in function gamma>\n",
      "gcd         builtin_function_or_method    <built-in function gcd>\n",
      "hypot       builtin_function_or_method    <built-in function hypot>\n",
      "inf         float                         inf\n",
      "isclose     builtin_function_or_method    <built-in function isclose>\n",
      "isfinite    builtin_function_or_method    <built-in function isfinite>\n",
      "isinf       builtin_function_or_method    <built-in function isinf>\n",
      "isnan       builtin_function_or_method    <built-in function isnan>\n",
      "isqrt       builtin_function_or_method    <built-in function isqrt>\n",
      "lcm         builtin_function_or_method    <built-in function lcm>\n",
      "ldexp       builtin_function_or_method    <built-in function ldexp>\n",
      "lgamma      builtin_function_or_method    <built-in function lgamma>\n",
      "log         builtin_function_or_method    <built-in function log>\n",
      "log10       builtin_function_or_method    <built-in function log10>\n",
      "log1p       builtin_function_or_method    <built-in function log1p>\n",
      "log2        builtin_function_or_method    <built-in function log2>\n",
      "m           module                        <module 'math' from '/Use<...>h.cpython-311-darwin.so'>\n",
      "math        module                        <module 'math' from '/Use<...>h.cpython-311-darwin.so'>\n",
      "modf        builtin_function_or_method    <built-in function modf>\n",
      "nan         float                         nan\n",
      "nextafter   builtin_function_or_method    <built-in function nextafter>\n",
      "np          module                        <module 'numpy' from '/Us<...>kages/numpy/__init__.py'>\n",
      "os          module                        <module 'os' (frozen)>\n",
      "pd          module                        <module 'pandas' from '/U<...>ages/pandas/__init__.py'>\n",
      "perm        builtin_function_or_method    <built-in function perm>\n",
      "pi          float                         3.141592653589793\n",
      "pow         builtin_function_or_method    <built-in function pow>\n",
      "prod        builtin_function_or_method    <built-in function prod>\n",
      "radians     builtin_function_or_method    <built-in function radians>\n",
      "remainder   builtin_function_or_method    <built-in function remainder>\n",
      "sin         builtin_function_or_method    <built-in function sin>\n",
      "sinh        builtin_function_or_method    <built-in function sinh>\n",
      "sqrt        builtin_function_or_method    <built-in function sqrt>\n",
      "tan         builtin_function_or_method    <built-in function tan>\n",
      "tanh        builtin_function_or_method    <built-in function tanh>\n",
      "tau         float                         6.283185307179586\n",
      "trunc       builtin_function_or_method    <built-in function trunc>\n",
      "ulp         builtin_function_or_method    <built-in function ulp>\n"
     ]
    }
   ],
   "source": [
    "%whos"
   ]
  },
  {
   "cell_type": "code",
   "execution_count": 16,
   "id": "0b0a6b14",
   "metadata": {},
   "outputs": [
    {
     "data": {
      "text/plain": [
       "-1.2246467991473532e-16"
      ]
     },
     "execution_count": 16,
     "metadata": {},
     "output_type": "execute_result"
    }
   ],
   "source": [
    "tan(pi)"
   ]
  },
  {
   "cell_type": "code",
   "execution_count": 17,
   "id": "99c3d7c0",
   "metadata": {},
   "outputs": [
    {
     "data": {
      "text/plain": [
       "-1.2246467991473532e-16"
      ]
     },
     "execution_count": 17,
     "metadata": {},
     "output_type": "execute_result"
    }
   ],
   "source": [
    "math.tan(math.pi) #sin necesidad de llamar el paquete"
   ]
  },
  {
   "cell_type": "code",
   "execution_count": 18,
   "id": "382013c0",
   "metadata": {},
   "outputs": [
    {
     "name": "stdout",
     "output_type": "stream",
     "text": [
      "Help on built-in function pow in module math:\n",
      "\n",
      "pow(x, y, /)\n",
      "    Return x**y (x to the power of y).\n",
      "\n"
     ]
    }
   ],
   "source": [
    "help(pow)"
   ]
  },
  {
   "cell_type": "code",
   "execution_count": null,
   "id": "7fd32cf4",
   "metadata": {},
   "outputs": [],
   "source": []
  }
 ],
 "metadata": {
  "kernelspec": {
   "display_name": "Python 3 (ipykernel)",
   "language": "python",
   "name": "python3"
  },
  "language_info": {
   "codemirror_mode": {
    "name": "ipython",
    "version": 3
   },
   "file_extension": ".py",
   "mimetype": "text/x-python",
   "name": "python",
   "nbconvert_exporter": "python",
   "pygments_lexer": "ipython3",
   "version": "3.11.3"
  }
 },
 "nbformat": 4,
 "nbformat_minor": 5
}
