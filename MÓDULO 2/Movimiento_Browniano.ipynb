{
 "cells": [
  {
   "cell_type": "markdown",
   "id": "bridal-dietary",
   "metadata": {},
   "source": [
    "# Simulación del Movimiento Browniano y Algunos Procesos Relacionados"
   ]
  },
  {
   "cell_type": "code",
   "execution_count": 1,
   "id": "upset-nebraska",
   "metadata": {},
   "outputs": [],
   "source": [
    "import scipy.stats as stats\n",
    "import numpy as np\n",
    "import pandas as pd\n",
    "import matplotlib.pyplot as plt"
   ]
  },
  {
   "cell_type": "markdown",
   "id": "0a7126ec",
   "metadata": {},
   "source": [
    "# Lema de Itô\n",
    "\n",
    "El Lema de Itô es una herramienta matemática fundamental en el cálculo estocástico que extiende la regla de la cadena a procesos estocásticos. Es esencial para modelar sistemas que involucran incertidumbre, como el movimiento browniano.\n",
    "\n",
    "Supongamos que $X_t$ es un proceso estocástico y $f(X_t, t)$ es una función diferenciable. El Lema de Itô establece que el diferencial de $f$ es:\n",
    "$$\n",
    "df(X_t, t) = \\frac{\\partial f}{\\partial t} dt + \\frac{\\partial f}{\\partial X_t} dX_t + \\frac{1}{2} \\frac{\\partial^2 f}{\\partial X_t^2} (dX_t)^2.\n",
    "$$\n",
    "\n",
    "Si $X_t$ sigue la dinámica:\n",
    "$$\n",
    "dX_t = \\mu dt + \\sigma dW_t,\n",
    "$$\n",
    "donde $dW_t$ es un incremento del movimiento browniano estándar ($N(0, dt)$), entonces:\n",
    "$$\n",
    "df(X_t, t) = \\frac{\\partial f}{\\partial t} dt + \\frac{\\partial f}{\\partial X_t} (\\mu dt + \\sigma dW_t) + \\frac{1}{2} \\frac{\\partial^2 f}{\\partial X_t^2} \\sigma^2 dt.\n",
    "$$\n",
    "\n",
    "### ¿Para qué sirve?\n",
    "\n",
    "El Lema de Itô es útil para analizar cómo evolucionan las funciones de procesos estocásticos en el tiempo. Por ejemplo:\n",
    "- En finanzas, se usa para modelar precios de activos que siguen un **movimiento browniano geométrico**.\n",
    "- Es esencial para derivar la famosa fórmula de **Black-Scholes** para valuar opciones financieras.\n",
    "\n",
    "### Relación con el Movimiento Browniano Geométrico\n",
    "\n",
    "El movimiento browniano geométrico es un modelo utilizado para describir la evolución de precios de activos financieros, y su ecuación diferencial es:\n",
    "$$\n",
    "dS_t = \\mu S_t dt + \\sigma S_t dW_t.\n",
    "$$\n",
    "\n",
    "Aplicando el Lema de Itô a $S_t$, se puede obtener su solución explícita:\n",
    "$$\n",
    "S_t = S_0 \\exp\\left(\\left(\\mu - \\frac{\\sigma^2}{2}\\right)t + \\sigma W_t\\right).\n",
    "$$\n",
    "\n",
    "Esta solución muestra cómo los precios de los activos evolucionan bajo incertidumbre, considerando tanto el crecimiento promedio ($\\mu$) como la volatilidad ($\\sigma$).\n",
    "\n",
    "---\n",
    "\n",
    "# Ejemplos Sencillos para Entender el Lema de Itô\n",
    "\n",
    "## Ejemplo 1: Función lineal\n",
    "\n",
    "Supongamos que $f(X_t, t) = a X_t + b$, donde $a$ y $b$ son constantes, y $X_t$ sigue la dinámica:\n",
    "$$\n",
    "dX_t = \\mu dt + \\sigma dW_t.\n",
    "$$\n",
    "\n",
    "El diferencial de $f$ es:\n",
    "$$\n",
    "df(X_t, t) = a dX_t.\n",
    "$$\n",
    "\n",
    "Sustituyendo $dX_t$:\n",
    "$$\n",
    "df(X_t, t) = a (\\mu dt + \\sigma dW_t).\n",
    "$$\n",
    "\n",
    "Así que:\n",
    "$$\n",
    "df(X_t, t) = a \\mu dt + a \\sigma dW_t.\n",
    "$$\n",
    "\n",
    "Este es un caso sencillo donde no hay términos cuadráticos, ya que la segunda derivada de $f$ respecto a $X_t$ es cero.\n",
    "\n",
    "---\n",
    "\n",
    "## Ejemplo 2: Función cuadrática\n",
    "\n",
    "Supongamos que $f(X_t, t) = X_t^2$, y $X_t$ sigue la misma dinámica:\n",
    "$$\n",
    "dX_t = \\mu dt + \\sigma dW_t.\n",
    "$$\n",
    "\n",
    "El Lema de Itô dice:\n",
    "$$\n",
    "df(X_t, t) = \\frac{\\partial f}{\\partial t} dt + \\frac{\\partial f}{\\partial X_t} dX_t + \\frac{1}{2} \\frac{\\partial^2 f}{\\partial X_t^2} (dX_t)^2.\n",
    "$$\n",
    "\n",
    "Calculamos las derivadas parciales:\n",
    "- $\\frac{\\partial f}{\\partial X_t} = 2X_t$,\n",
    "- $\\frac{\\partial^2 f}{\\partial X_t^2} = 2$,\n",
    "- $\\frac{\\partial f}{\\partial t} = 0$ (porque $f$ no depende de $t$ directamente).\n",
    "\n",
    "Entonces:\n",
    "$$\n",
    "df(X_t, t) = 2X_t dX_t + \\frac{1}{2} \\cdot 2 \\cdot (\\sigma^2 dt).\n",
    "$$\n",
    "\n",
    "Sustituyendo $dX_t$:\n",
    "$$\n",
    "df(X_t, t) = 2X_t (\\mu dt + \\sigma dW_t) + \\sigma^2 dt.\n",
    "$$\n",
    "\n",
    "Simplificando:\n",
    "$$\n",
    "df(X_t, t) = 2X_t \\mu dt + 2X_t \\sigma dW_t + \\sigma^2 dt.\n",
    "$$\n",
    "\n",
    "---\n",
    "\n",
    "## Ejemplo 3: Función logarítmica\n",
    "\n",
    "Supongamos que $f(X_t, t) = \\ln(X_t)$, y $X_t$ sigue la dinámica:\n",
    "$$\n",
    "dX_t = \\mu dt + \\sigma dW_t.\n",
    "$$\n",
    "\n",
    "Las derivadas son:\n",
    "- $\\frac{\\partial f}{\\partial X_t} = \\frac{1}{X_t}$,\n",
    "- $\\frac{\\partial^2 f}{\\partial X_t^2} = -\\frac{1}{X_t^2}$,\n",
    "- $\\frac{\\partial f}{\\partial t} = 0$.\n",
    "\n",
    "Aplicando el Lema de Itô:\n",
    "$$\n",
    "df(X_t, t) = \\frac{1}{X_t} dX_t - \\frac{1}{2} \\frac{1}{X_t^2} (\\sigma^2 dt).\n",
    "$$\n",
    "\n",
    "Sustituyendo $dX_t$:\n",
    "$$\n",
    "df(X_t, t) = \\frac{1}{X_t} (\\mu dt + \\sigma dW_t) - \\frac{1}{2} \\frac{\\sigma^2}{X_t^2} dt.\n",
    "$$\n",
    "\n",
    "Simplificando:\n",
    "$$\n",
    "df(X_t, t) = \\frac{\\mu}{X_t} dt + \\frac{\\sigma}{X_t} dW_t - \\frac{\\sigma^2}{2X_t^2} dt.\n",
    "$$\n"
   ]
  },
  {
   "cell_type": "code",
   "execution_count": null,
   "id": "bb3c1555",
   "metadata": {},
   "outputs": [],
   "source": [
    "np.random.choice((-1,1),1000)"
   ]
  },
  {
   "cell_type": "code",
   "execution_count": null,
   "id": "f02232c7",
   "metadata": {},
   "outputs": [],
   "source": [
    "grid = np.linspace(0,1,1001)\n",
    "grid"
   ]
  },
  {
   "cell_type": "code",
   "execution_count": null,
   "id": "9f8d7db1",
   "metadata": {},
   "outputs": [],
   "source": [
    "len(grid)"
   ]
  },
  {
   "cell_type": "code",
   "execution_count": null,
   "id": "22c66753",
   "metadata": {},
   "outputs": [],
   "source": [
    "S = np.append(0,np.random.choice((-1,1),1000).cumsum())\n",
    "S"
   ]
  },
  {
   "cell_type": "code",
   "execution_count": null,
   "id": "7316fdd3",
   "metadata": {},
   "outputs": [],
   "source": [
    "X_T = S/(1000**0.5)\n",
    "X_T"
   ]
  },
  {
   "cell_type": "code",
   "execution_count": null,
   "id": "consolidated-advocate",
   "metadata": {},
   "outputs": [],
   "source": [
    "# Primero simularemos por medio de una caminata aleatoria.\n",
    "grid = np.linspace(0,1,1001)\n",
    "np.random.seed(seed = 467)\n",
    "S = np.append(0,np.random.choice((-1,1),1000).cumsum())\n",
    "X_T = S/(1000**0.5)\n",
    "plt.figure(figsize=(15,6))\n",
    "plt.plot(grid,X_T)\n",
    "plt.title(\"Aproximación de una trayectoria del MB a través de una Caminata Aleatoria\", fontsize = 18)"
   ]
  },
  {
   "cell_type": "markdown",
   "id": "strange-affairs",
   "metadata": {},
   "source": [
    "Sea $\\{B_t: t \\geq 0\\}$ entonces es un movimiento browniano si\n",
    "\n",
    "1. $B_0$ = 0\n",
    "2. Tiene incrementos independientes y estacionarios\n",
    "3. $B_t - B_s \\sim N(0,t-s)$ si $s < t$\n",
    "4. Tiene trayectorias continuas.\n",
    "\n",
    "$B_{t_k} = \\sum_{i=1}^k(B_{t_i}-B_{t_{i-1}})$"
   ]
  },
  {
   "cell_type": "markdown",
   "id": "voluntary-attack",
   "metadata": {},
   "source": [
    "Para simular la trayectorias de un MB utilizaremos la propiedad de incrementos independientes y estacionarios, basta saber simulas observaciones independientes de una distribución normal."
   ]
  },
  {
   "cell_type": "code",
   "execution_count": null,
   "id": "816ac134",
   "metadata": {},
   "outputs": [],
   "source": [
    "stats.norm.rvs(0,(1/1000)**0.5,size = 1000)"
   ]
  },
  {
   "cell_type": "code",
   "execution_count": null,
   "id": "covered-judge",
   "metadata": {},
   "outputs": [],
   "source": [
    "## Scipy nos permite simular varias distribuciones, entre ellas la normal\n",
    "grid = np.linspace(0,1,1001)\n",
    "np.random.seed(seed = 4678)\n",
    "Browniano = np.append(0,stats.norm.rvs(0,(1/1000)**0.5,size = 1000).cumsum())\n",
    "plt.figure(figsize=(15,6))\n",
    "plt.plot(grid,Browniano)\n",
    "plt.title(\"Trayectoria del MB\", fontsize = 18)"
   ]
  },
  {
   "cell_type": "code",
   "execution_count": null,
   "id": "15c54395",
   "metadata": {},
   "outputs": [],
   "source": [
    "Browniano"
   ]
  },
  {
   "cell_type": "code",
   "execution_count": null,
   "id": "opened-license",
   "metadata": {},
   "outputs": [],
   "source": [
    "#Vamos a simular varias trayectorias juntas\n",
    "grid = np.linspace(0,1,1001)\n",
    "\n",
    "plt.figure(figsize=(15,6))\n",
    "\n",
    "for i in range(100):\n",
    "    Browniano = np.append(0,stats.norm.rvs(0,(1/1000)**0.5,size = 1000).cumsum())\n",
    "    plt.plot(grid,Browniano)\n",
    "plt.title(\"Trayectorias del Movimiento Browniano\", fontsize = 18)   "
   ]
  },
  {
   "cell_type": "code",
   "execution_count": null,
   "id": "unlimited-friendly",
   "metadata": {},
   "outputs": [],
   "source": [
    "#Trayectorias del Movimiento Browniano Geometrico\n",
    "S_0 = 100\n",
    "mu = 0.21\n",
    "sigma = 0.15\n",
    "\n",
    "grid = np.linspace(0,1,1001)\n",
    "\n",
    "np.random.seed(seed = 4678)\n",
    "Browniano = np.append(0,stats.norm.rvs(0,(1/1000)**0.5,size = 1000).cumsum())\n",
    "BGeometrico = S_0*np.e**((mu-sigma**2/2)*grid + sigma*Browniano)\n",
    "plt.figure(figsize=(15,6))\n",
    "plt.plot(grid,BGeometrico, color = \"lightcoral\")\n",
    "plt.title(\"Trayectoria del Browniano Geométrico\", fontsize = 18)"
   ]
  },
  {
   "cell_type": "code",
   "execution_count": null,
   "id": "2ac762a1",
   "metadata": {},
   "outputs": [],
   "source": [
    "BGeometrico"
   ]
  },
  {
   "cell_type": "code",
   "execution_count": null,
   "id": "6d37c158",
   "metadata": {},
   "outputs": [],
   "source": [
    "Browniano"
   ]
  },
  {
   "cell_type": "code",
   "execution_count": null,
   "id": "selected-cleanup",
   "metadata": {},
   "outputs": [],
   "source": [
    "#Haciendo Varias trayectorias del Browniano Geométrico\n",
    "grid = np.linspace(0,1,1001)\n",
    "\n",
    "plt.figure(figsize=(15,6))\n",
    "\n",
    "for i in range(100):\n",
    "    Browniano = np.append(0,stats.norm.rvs(0,(1/1000)**0.5,size = 1000).cumsum())\n",
    "    BGeometrico = S_0*np.e**((mu-sigma**2/2)*grid + sigma*Browniano)\n",
    "    plt.plot(grid,BGeometrico)\n",
    "plt.title(\"Trayectorias del Movimiento Browniano Geométrico\", fontsize = 18) "
   ]
  },
  {
   "cell_type": "markdown",
   "id": "waiting-dinner",
   "metadata": {},
   "source": [
    "## Utilizando el Movimiento Browniano Geométrico para simular el comportamiento de un activo"
   ]
  },
  {
   "cell_type": "markdown",
   "id": "rising-wedding",
   "metadata": {},
   "source": [
    "Supongamos que el precio de un activo $\\{S_t: t\\geq0\\}$ se comporta como un movimiento geométrico y nosotros quisieramos simular distintas trayectorias para ver el comportamiento del precio en un tiempo $T$, entonces necesitariamos estimar los paramétros del modelo.\n",
    "\n",
    "$$S_T = S_0 e^{(\\mu - \\sigma ^2/2)T + \\sigma B_T}$$\n",
    "\n",
    "Si tenemos observaciones de los precios diarios sabemos que los logrendimientos diarios tienen una distribución normal con media $\\mu - \\sigma ^2/2$ y desviación $\\sigma$, podemos reparametrizar y decir que siguen una distribución con media $\\overline{\\mu}$ y varianza $\\overline{\\sigma}$ y con ello podemos utilizar los siguientes estimadores.\n",
    "\n",
    "$$\\hat{\\overline{\\mu}} = \\frac{1}{N}\\sum_{i = 1}^N lR_i$$\n",
    "\n",
    "$$\\hat{\\overline{\\sigma}} =\\sqrt{ \\frac{1}{N-1} \\sum_{i = 1}^N (lR_i - \\hat{\\overline{\\mu}})^2} $$\n",
    "\n",
    "donde $lR_i$ son los log-rendimientos."
   ]
  },
  {
   "cell_type": "code",
   "execution_count": null,
   "id": "identical-variable",
   "metadata": {
    "scrolled": false
   },
   "outputs": [],
   "source": [
    "# Vamos a cargar los datos\n",
    "precios_AB = pd.read_csv('precios_amz_dis.csv', header = 0, index_col = 0)\n",
    "precios_AB"
   ]
  },
  {
   "cell_type": "code",
   "execution_count": null,
   "id": "074a4aa2",
   "metadata": {},
   "outputs": [],
   "source": [
    "# Vamos a cargar los datos\n",
    "precios_AB = pd.read_csv('precios_amz_dis.csv', header = 0, index_col = 0)\n",
    "precios_AB.index = pd.to_datetime(precios_AB.index, dayfirst = True)\n",
    "precios_AB"
   ]
  },
  {
   "cell_type": "code",
   "execution_count": null,
   "id": "e84e6964",
   "metadata": {},
   "outputs": [],
   "source": [
    "# Vamos a cargar los datos\n",
    "precios_AB = pd.read_csv('precios_amz_dis.csv', header = 0, index_col = 0)\n",
    "precios_AB.index = pd.to_datetime(precios_AB.index, dayfirst = True)\n",
    "precios_AB.index = precios_AB.index.to_period('D')\n",
    "precios_AB.tail()"
   ]
  },
  {
   "cell_type": "markdown",
   "id": "a3a8e28a",
   "metadata": {},
   "source": [
    "1. El argumento header=0 se usa para especificar que la primera fila del archivo CSV contiene los nombres de las columnas.\n",
    "\n",
    "2. El argumento index_col=0 se usa para especificar que la primera columna del archivo CSV debe ser utilizada como el índice (etiqueta) de las filas en el DataFrame resultante."
   ]
  },
  {
   "cell_type": "markdown",
   "id": "64a73d76",
   "metadata": {},
   "source": [
    "El argumento dayfirst=True se utiliza para indicar que el formato de fecha en el índice sigue el formato día-mes-año."
   ]
  },
  {
   "cell_type": "markdown",
   "id": "98b9abb2",
   "metadata": {},
   "source": [
    "Se convierten los objetos de fecha y hora en objetos de período utilizando el método to_period('D'). Esto significa que ahora los índices representan períodos de un día en lugar de fechas y horas precisas."
   ]
  },
  {
   "cell_type": "code",
   "execution_count": null,
   "id": "a096fcc7",
   "metadata": {},
   "outputs": [],
   "source": [
    "precios_AB['AMZ']"
   ]
  },
  {
   "cell_type": "code",
   "execution_count": null,
   "id": "interesting-spirit",
   "metadata": {},
   "outputs": [],
   "source": [
    "rend_amazon = precios_AB['AMZ'].pct_change().dropna()\n",
    "rend_amazon"
   ]
  },
  {
   "cell_type": "code",
   "execution_count": null,
   "id": "equivalent-animation",
   "metadata": {},
   "outputs": [],
   "source": [
    "lr_amazon = np.log(rend_amazon+1)"
   ]
  },
  {
   "cell_type": "code",
   "execution_count": null,
   "id": "international-cutting",
   "metadata": {},
   "outputs": [],
   "source": [
    "lr_amazon_prueba = lr_amazon[:-13]\n",
    "lr_amazon_prueba"
   ]
  },
  {
   "cell_type": "code",
   "execution_count": null,
   "id": "efficient-switzerland",
   "metadata": {},
   "outputs": [],
   "source": [
    "mu = lr_amazon_prueba.mean()\n",
    "sigma = lr_amazon_prueba.std(ddof = 1)"
   ]
  },
  {
   "cell_type": "code",
   "execution_count": null,
   "id": "medium-merchandise",
   "metadata": {},
   "outputs": [],
   "source": [
    "mu,sigma"
   ]
  },
  {
   "cell_type": "code",
   "execution_count": null,
   "id": "5ee38563",
   "metadata": {},
   "outputs": [],
   "source": [
    "precios_AB['AMZ'][-14]"
   ]
  },
  {
   "cell_type": "code",
   "execution_count": null,
   "id": "understanding-watch",
   "metadata": {},
   "outputs": [],
   "source": [
    "## Primero simulamos una trayectoria\n",
    "S_0 = precios_AB['AMZ'][-14]\n",
    "grid = np.array(range(0,14))\n",
    "Browniano = np.append(0,stats.norm.rvs(0,1,size = 13).cumsum())\n",
    "BGeometrico = S_0*np.e**(mu*grid + sigma*Browniano)\n",
    "\n",
    "plt.figure(figsize=(15,6))\n",
    "plt.plot(grid,BGeometrico, color = \"lightcoral\", label = \"Simulación\")\n",
    "plt.title(\"Simulación y Precio Real AMZ\", fontsize = 18)\n",
    "plt.plot(grid,precios_AB['AMZ'][-14:], color = \"black\", label = \"Precio Real\")\n",
    "plt.legend(loc = \"upper left\", fontsize = 15)"
   ]
  },
  {
   "cell_type": "code",
   "execution_count": null,
   "id": "accessible-provider",
   "metadata": {},
   "outputs": [],
   "source": [
    "# Ahora vamos a simular varias trayectorias\n",
    "S_0 = precios_AB['AMZ'][-14]\n",
    "grid = np.array(range(0,14))\n",
    "\n",
    "plt.figure(figsize=(15,6))\n",
    "for i in range(0,200):\n",
    "    Browniano = np.append(0,stats.norm.rvs(0,1,size = 13).cumsum())\n",
    "    BGeometrico = S_0*np.e**((mu-sigma**2/2)*grid + sigma*Browniano)\n",
    "    plt.plot(grid,BGeometrico, color = \"lightcoral\")\n",
    "    \n",
    "plt.title(\"Simulaciones y Precio Real AMZ\", fontsize = 18)\n",
    "plt.plot(grid,precios_AB['AMZ'][-14:], color = \"black\", label = \"Precio Real\")\n",
    "plt.legend(loc = \"upper left\", fontsize = 15)"
   ]
  },
  {
   "cell_type": "markdown",
   "id": "quarterly-madness",
   "metadata": {},
   "source": [
    "Podemos crear un intervalo de confianza de $S_T$ ya sea de forma teorica y con ayuda de las simulaciones.\n",
    "\n",
    "1. De forma teorica sabemos que $ln(S_T)$ sigue una distribución normal con media $ln(S_0) + \\overline{\\mu}T$ y varianza $\\sigma^2 T$, el intervalo de confianza de nivel $\\alpha$ estaría dado por \n",
    "\n",
    "$$(e^{ln(S_0) + \\overline{\\mu}T - z_{\\alpha/2}\\sigma\\sqrt{T}},e^{ln(S_0) + \\overline{\\mu}T + z_{\\alpha/2}\\sigma\\sqrt{T}})$$"
   ]
  },
  {
   "cell_type": "code",
   "execution_count": null,
   "id": "victorian-voluntary",
   "metadata": {},
   "outputs": [],
   "source": [
    "z = stats.norm.ppf(0.70)\n",
    "lower = np.e**(np.log(S_0) + mu*13-z*sigma*(13**0.5))\n",
    "upper = np.e**(np.log(S_0) + mu*13+z*sigma*(13**0.5))"
   ]
  },
  {
   "cell_type": "code",
   "execution_count": null,
   "id": "increased-caribbean",
   "metadata": {},
   "outputs": [],
   "source": [
    "# Intervalo de confianza del 97.5%\n",
    "lower,upper, S_0"
   ]
  },
  {
   "cell_type": "code",
   "execution_count": null,
   "id": "forbidden-geology",
   "metadata": {},
   "outputs": [],
   "source": [
    "## Hagamos un análisis para los precios de NETFLIX\n",
    "precios_NFLX = pd.read_csv('NLFX.csv', header = 0, index_col = 0)\n",
    "precios_NFLX.index = pd.to_datetime(precios_NFLX.index, dayfirst = True)\n",
    "precios_NFLX.index = precios_NFLX.index.to_period('D')\n",
    "precios_NFLX.tail()"
   ]
  },
  {
   "cell_type": "code",
   "execution_count": null,
   "id": "03e187c4",
   "metadata": {},
   "outputs": [],
   "source": [
    "precios_NFLX.loc['2023']"
   ]
  },
  {
   "cell_type": "code",
   "execution_count": null,
   "id": "legal-argentina",
   "metadata": {},
   "outputs": [],
   "source": [
    "# Vamos a utilizar solo el año 2023 y simular trayectorias del 2024\n",
    "\n",
    "rend_NFLX = precios_NFLX.loc['2023'].pct_change().dropna()\n",
    "lr_NFLX = np.log(rend_NFLX+1)"
   ]
  },
  {
   "cell_type": "code",
   "execution_count": null,
   "id": "04d06658",
   "metadata": {},
   "outputs": [],
   "source": [
    "lr_NFLX"
   ]
  },
  {
   "cell_type": "code",
   "execution_count": null,
   "id": "dutch-component",
   "metadata": {},
   "outputs": [],
   "source": [
    "mu_lr_NFLX = lr_NFLX.mean()\n",
    "std_lr_NFLX = lr_NFLX.std(ddof = 1)\n",
    "\n",
    "# El histograma de los datos \n",
    "plt.hist(lr_NFLX, bins = 10, density = True, color = \"darkcyan\")\n",
    "\n",
    "# Agregando la densidad normal\n",
    "x = np.linspace(lr_NFLX.min(),lr_NFLX.max(),100)\n",
    "densidad = stats.norm.pdf(x,mu_lr_NFLX,std_lr_NFLX)\n",
    "plt.plot(x,densidad,'--k')\n",
    "plt.title('Log-Rendimientos Netflix y Ajuste Normal')"
   ]
  },
  {
   "cell_type": "code",
   "execution_count": null,
   "id": "olympic-surrey",
   "metadata": {},
   "outputs": [],
   "source": [
    "# Prueba JarqueBera\n",
    "stats.jarque_bera(lr_NFLX) # Me dice que Rechaze :/"
   ]
  },
  {
   "cell_type": "code",
   "execution_count": null,
   "id": "8459f2d6",
   "metadata": {
    "scrolled": true
   },
   "outputs": [],
   "source": [
    "precios_NFLX.loc['2024']['NFLX'][0]"
   ]
  },
  {
   "cell_type": "code",
   "execution_count": null,
   "id": "35717786",
   "metadata": {},
   "outputs": [],
   "source": [
    "len(precios_NFLX.loc['2024'])"
   ]
  },
  {
   "cell_type": "code",
   "execution_count": null,
   "id": "265c56c9",
   "metadata": {},
   "outputs": [],
   "source": [
    "np.arange(len(precios_NFLX.loc['2024']))"
   ]
  },
  {
   "cell_type": "code",
   "execution_count": null,
   "id": "aging-enterprise",
   "metadata": {},
   "outputs": [],
   "source": [
    "# Vamos a hacer la simulación de trayectorias\n",
    "S_0 = precios_NFLX.loc['2024']['NFLX'][0]\n",
    "grid = np.arange(len(precios_NFLX.loc['2024']))\n",
    "\n",
    "plt.figure(figsize=(15,6))\n",
    "for i in range(0,500):\n",
    "    Browniano = np.append(0,stats.norm.rvs(0,1,size = len(grid)-1).cumsum())\n",
    "    BGeometrico = S_0*np.e**((mu_lr_NFLX[0])*grid + std_lr_NFLX[0]*Browniano)\n",
    "    plt.plot(grid,BGeometrico, color = \"lightcoral\")\n",
    "    \n",
    "plt.title(\"Simulaciones y Precio Real Netflix 2024\", fontsize = 18)\n",
    "plt.plot(grid,precios_NFLX.loc['2024'], color = \"black\", label = \"Precio Real\")\n",
    "plt.legend(loc = \"upper left\", fontsize = 15)"
   ]
  },
  {
   "cell_type": "code",
   "execution_count": null,
   "id": "measured-prescription",
   "metadata": {},
   "outputs": [],
   "source": [
    "# Vamos a graficar unicamente los intervalos de confianza.\n",
    "z = stats.norm.ppf(0.97)\n",
    "lower = np.e**(np.log(S_0) + mu_lr_NFLX[0]*grid-z*std_lr_NFLX[0]*(grid**0.5))\n",
    "upper = np.e**(np.log(S_0) + mu_lr_NFLX[0]*grid+z*std_lr_NFLX[0]*(grid**0.5))"
   ]
  },
  {
   "cell_type": "code",
   "execution_count": null,
   "id": "0f892a52",
   "metadata": {},
   "outputs": [],
   "source": [
    "lower"
   ]
  },
  {
   "cell_type": "code",
   "execution_count": null,
   "id": "ef8932aa",
   "metadata": {},
   "outputs": [],
   "source": [
    "upper"
   ]
  },
  {
   "cell_type": "code",
   "execution_count": null,
   "id": "bound-architecture",
   "metadata": {},
   "outputs": [],
   "source": [
    "plt.figure(figsize=(15,6))\n",
    "plt.plot(grid,precios_NFLX.loc['2024'], color = \"black\", label = \"Precio Real\")\n",
    "plt.plot(grid,lower,'--r',label = \"Mínimo\")\n",
    "plt.plot(grid,upper,'--r',label = \"Máximo\")\n",
    "\n",
    "plt.title(\"Precio Real Netflix 2024 e intervalos de confianza 90%\", fontsize = 18)\n",
    "plt.legend(fontsize = 15)\n",
    "plt.gca().fill_between(grid, \n",
    "                       lower, upper, \n",
    "                       facecolor='lightsteelblue', \n",
    "                       alpha=0.1)"
   ]
  },
  {
   "cell_type": "code",
   "execution_count": null,
   "id": "sufficient-bangladesh",
   "metadata": {},
   "outputs": [],
   "source": [
    "plt.figure(figsize=(15,6))\n",
    "for i in range(0,100):\n",
    "    Browniano = np.append(0,stats.norm.rvs(0,1,size = len(grid)-1).cumsum())\n",
    "    BGeometrico = S_0*np.e**((mu_lr_NFLX[0]-std_lr_NFLX[0]**2/2)*grid + std_lr_NFLX[0]*Browniano)\n",
    "    plt.plot(grid,BGeometrico, color = \"lightgray\")\n",
    "    \n",
    "plt.title(\"Precio Real Netflix 2024, simulaciones e intervalos de confianza 97.5%\", fontsize = 18)\n",
    "plt.plot(grid,precios_NFLX.loc['2024'], color = \"black\", label = \"Precio Real\")\n",
    "plt.plot(grid,lower,'--r',label = \"Mínimo\")\n",
    "plt.plot(grid,upper,'--r',label = \"Máximo\")\n",
    "\n",
    "plt.legend(fontsize = 15)\n",
    "plt.gca().fill_between(grid, \n",
    "                       lower, upper, \n",
    "                       facecolor='lightsteelblue', \n",
    "                       alpha=0.2)"
   ]
  }
 ],
 "metadata": {
  "kernelspec": {
   "display_name": "Python 3 (ipykernel)",
   "language": "python",
   "name": "python3"
  },
  "language_info": {
   "codemirror_mode": {
    "name": "ipython",
    "version": 3
   },
   "file_extension": ".py",
   "mimetype": "text/x-python",
   "name": "python",
   "nbconvert_exporter": "python",
   "pygments_lexer": "ipython3",
   "version": "3.11.3"
  }
 },
 "nbformat": 4,
 "nbformat_minor": 5
}
