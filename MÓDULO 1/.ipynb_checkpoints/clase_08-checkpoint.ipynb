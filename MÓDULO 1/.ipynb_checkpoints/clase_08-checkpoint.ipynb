{
 "cells": [
  {
   "attachments": {
    "logo_ITAM.png": {
     "image/png": "[encoded data removed]"
    }
   },
   "cell_type": "markdown",
   "id": "09e11282",
   "metadata": {},
   "source": [
    "![logo_ITAM.png](attachment:logo_ITAM.png)"
   ]
  },
  {
   "cell_type": "markdown",
   "id": "bff7863a",
   "metadata": {},
   "source": [
    "# Clase 8 - Módulos de la librería estándar \n",
    "\n",
    "Daremos un recorrido por los módulos más importantes de la librería estándar"
   ]
  },
  {
   "cell_type": "markdown",
   "id": "135f0040",
   "metadata": {},
   "source": [
    "Como ya hemos visto, podemos importar nuevos módulos de la librería extándar de Python o de terceros (o hechos por nosotros mismos) de la siguiente forma:\n",
    "\n",
    "```python\n",
    "import module_name                      ## option 1\n",
    "\n",
    "import module_name as short_name        ## option 2\n",
    "\n",
    "from module_name import funct_name      ## option 3\n",
    "\n",
    "from module_name import funct_name as shor_funct_name    ## option 4\n",
    "\n",
    "```"
   ]
  },
  {
   "cell_type": "code",
   "execution_count": 1,
   "id": "b48ed80f",
   "metadata": {},
   "outputs": [
    {
     "name": "stdout",
     "output_type": "stream",
     "text": [
      "\u001b[31mERROR: Could not find a version that satisfies the requirement pkg_name (from versions: none)\u001b[0m\u001b[31m\n",
      "\u001b[0m\u001b[31mERROR: No matching distribution found for pkg_name\u001b[0m\u001b[31m\n",
      "\u001b[0mNote: you may need to restart the kernel to use updated packages.\n"
     ]
    }
   ],
   "source": [
    "pip install pkg_name"
   ]
  },
  {
   "cell_type": "markdown",
   "id": "a6a084ea",
   "metadata": {},
   "source": [
    "De acuerdo a cada opción, podemos acceder a las funciones definidas en cada módulo de la siguiente forma:"
   ]
  },
  {
   "cell_type": "code",
   "execution_count": 2,
   "id": "aa859445",
   "metadata": {},
   "outputs": [
    {
     "data": {
      "text/plain": [
       "-1.0"
      ]
     },
     "execution_count": 2,
     "metadata": {},
     "output_type": "execute_result"
    }
   ],
   "source": [
    "### vemos ejemplos importando math\n",
    "\n",
    "import math\n",
    "\n",
    "math.cos(math.pi)"
   ]
  },
  {
   "cell_type": "code",
   "execution_count": 3,
   "id": "de218e5c",
   "metadata": {},
   "outputs": [],
   "source": [
    "pi = 10"
   ]
  },
  {
   "cell_type": "code",
   "execution_count": 4,
   "id": "63779411",
   "metadata": {},
   "outputs": [
    {
     "data": {
      "text/plain": [
       "10"
      ]
     },
     "execution_count": 4,
     "metadata": {},
     "output_type": "execute_result"
    }
   ],
   "source": [
    "pi"
   ]
  },
  {
   "cell_type": "code",
   "execution_count": 5,
   "id": "1fd95490",
   "metadata": {},
   "outputs": [
    {
     "data": {
      "text/plain": [
       "3.141592653589793"
      ]
     },
     "execution_count": 5,
     "metadata": {},
     "output_type": "execute_result"
    }
   ],
   "source": [
    "from math import pi\n",
    "\n",
    "pi"
   ]
  },
  {
   "cell_type": "code",
   "execution_count": null,
   "id": "bbd7e1aa",
   "metadata": {},
   "outputs": [],
   "source": [
    "from math import factorial as fact\n",
    "\n",
    "fact(10)"
   ]
  },
  {
   "cell_type": "code",
   "execution_count": null,
   "id": "ee6801fd",
   "metadata": {},
   "outputs": [],
   "source": [
    "import math as m\n",
    "\n",
    "m.acos(0)"
   ]
  },
  {
   "cell_type": "markdown",
   "id": "90fd84d5",
   "metadata": {},
   "source": [
    "Dentro de python hay varios paquetes que podemos importar sin necesidad de instalarlos:\n",
    "\n",
    "\n",
    "* **```math```** : para operaciones matemáticas y algunas constantes.\n",
    "\n",
    "* **```random```** : números aleatorios y generar muestras aleatorias.\n",
    "\n",
    "* **```complex```** : trabajar con números complejos.\n",
    "\n",
    "* **```os```** : creación y administración de ficheros.\n",
    "\n",
    "* **```datetime```**, **```time```** : trabajar con fechas y tiempo.\n",
    "\n",
    "* etc\n",
    "\n",
    "\n",
    "Una página interesante para cosas básicas de la librería estándar:\n",
    "\n",
    "http://research.iac.es/sieinvens/python-course/modulos.html#la-libreria-estandar-de-python\n",
    "\n",
    "$$$$\n",
    "\n",
    "Aquí podemos ver la estructura general de un paquete de python:"
   ]
  },
  {
   "cell_type": "code",
   "execution_count": null,
   "id": "e98da2d1",
   "metadata": {},
   "outputs": [],
   "source": [
    "import random\n",
    "\n",
    "random.randint(0, 10)"
   ]
  },
  {
   "cell_type": "code",
   "execution_count": null,
   "id": "c19ffa72",
   "metadata": {},
   "outputs": [],
   "source": [
    "random.random()"
   ]
  },
  {
   "cell_type": "code",
   "execution_count": null,
   "id": "7a35a1bc",
   "metadata": {},
   "outputs": [],
   "source": [
    "random.sample([1,2,3,4,5], 2)"
   ]
  },
  {
   "attachments": {
    "estructura_paquete.png": {
     "image/png": "[encoded data removed]"
    }
   },
   "cell_type": "markdown",
   "id": "d5aa997b",
   "metadata": {},
   "source": [
    "![estructura_paquete.png](attachment:estructura_paquete.png)"
   ]
  },
  {
   "cell_type": "markdown",
   "id": "f624ac3e",
   "metadata": {},
   "source": [
    "Con cualquier paquete, podemos acceder a la ayuda mendiante la siguiente función:"
   ]
  },
  {
   "cell_type": "code",
   "execution_count": null,
   "id": "397d0b9b",
   "metadata": {},
   "outputs": [],
   "source": [
    "import math\n",
    "help(math)"
   ]
  },
  {
   "cell_type": "markdown",
   "id": "dc7b9a32",
   "metadata": {},
   "source": [
    "Si queremos enlistar todos los paquetes que tenemos (instalados con pip + librería estándar)"
   ]
  },
  {
   "cell_type": "code",
   "execution_count": null,
   "id": "55beefd2",
   "metadata": {},
   "outputs": [],
   "source": [
    "import distutils.sysconfig as sysconfig\n",
    "import os\n",
    "std_lib = sysconfig.get_python_lib(standard_lib=True)\n",
    "for top, dirs, files in os.walk(std_lib):\n",
    "    for nm in files:\n",
    "        if nm != '__init__.py' and nm[-3:] == '.py':\n",
    "            print(os.path.join(top, nm)[len(std_lib)+1:-3].replace(os.sep, '.'))"
   ]
  },
  {
   "cell_type": "markdown",
   "id": "01e0224b",
   "metadata": {},
   "source": [
    "Veamos algunos de los paquetes más importantes:\n",
    "\n",
    "## Open"
   ]
  },
  {
   "cell_type": "markdown",
   "id": "f46e6b01",
   "metadata": {},
   "source": [
    "La función `open`nos permite abrir un archivo encontrado desde nuestra pc. Con un archivo abierto, podemos escribir, leer o añadir. **Es importante tener en cuenta en donde estamos trabajando y en donde se encuentra el archivo que queremos leer**"
   ]
  },
  {
   "cell_type": "markdown",
   "id": "8cde03f6",
   "metadata": {},
   "source": [
    "Actualmente me encuentro en este directorio: "
   ]
  },
  {
   "cell_type": "code",
   "execution_count": 6,
   "id": "17532fe0",
   "metadata": {
    "scrolled": true
   },
   "outputs": [
    {
     "data": {
      "text/plain": [
       "'/Users/andrespadronquintana/Desktop/DIPLOMADO MACHINE LEARNING DS/MÓDULO 1'"
      ]
     },
     "execution_count": 6,
     "metadata": {},
     "output_type": "execute_result"
    }
   ],
   "source": [
    "pwd"
   ]
  },
  {
   "cell_type": "markdown",
   "id": "c83e641c",
   "metadata": {},
   "source": [
    "El archivo que deseamos leer se llama `ejemplo.txt`, el cual se encuentra dentro de mi carpeta actual:"
   ]
  },
  {
   "cell_type": "code",
   "execution_count": 7,
   "id": "92ded633",
   "metadata": {},
   "outputs": [
    {
     "name": "stdout",
     "output_type": "stream",
     "text": [
      "amzn_data.csv              clase_04_07.ipynb\r\n",
      "amzn_data.parquet          clase_07.ipynb\r\n",
      "clase_01.ipynb             clase_08.ipynb\r\n",
      "clase_02_alumnos.ipynb     Numpy.ipynb\r\n",
      "clase_03.ipynb             Pandas.ipynb\r\n",
      "clase_04_07_alumnos.ipynb  \u001b[34mTAREAS1\u001b[m\u001b[m/\r\n"
     ]
    }
   ],
   "source": [
    "ls"
   ]
  },
  {
   "cell_type": "markdown",
   "id": "15c11034",
   "metadata": {},
   "source": [
    "Existen **dos maneras de acceder directamente** al archivo sin necesidad de modificar el directorio en donde estamos trabajando:"
   ]
  },
  {
   "attachments": {
    "Screen%20Shot%202021-10-07%20at%2019.24.49.png": {
     "image/png": "[encoded data removed]"
    }
   },
   "cell_type": "markdown",
   "id": "22aa6243",
   "metadata": {},
   "source": [
    "![Screen%20Shot%202021-10-07%20at%2019.24.49.png](attachment:Screen%20Shot%202021-10-07%20at%2019.24.49.png)"
   ]
  },
  {
   "cell_type": "markdown",
   "id": "02d8454b",
   "metadata": {},
   "source": [
    "$$$$\n",
    "Abrimos y leemos un archivo en Python con la función `open` cuayo primer argumento es la ruta del archivo a acceder\n",
    "\n",
    "```python\n",
    "open(file,mode='r',buffering=-1,encoding=None,error=None, newline=None,closefd=True, opener=None)\n",
    "```"
   ]
  },
  {
   "cell_type": "code",
   "execution_count": 8,
   "id": "37678b92",
   "metadata": {
    "scrolled": true
   },
   "outputs": [
    {
     "data": {
      "text/plain": [
       "'/Users/andrespadronquintana/Desktop/DIPLOMADO MACHINE LEARNING DS/MÓDULO 1'"
      ]
     },
     "execution_count": 8,
     "metadata": {},
     "output_type": "execute_result"
    }
   ],
   "source": [
    "pwd"
   ]
  },
  {
   "cell_type": "code",
   "execution_count": 9,
   "id": "95162cbe",
   "metadata": {},
   "outputs": [
    {
     "ename": "FileNotFoundError",
     "evalue": "[Errno 2] No such file or directory: 'C:\\\\Users\\\\artur\\\\Documents\\\\DS_ML - ITAM\\\\modulo 1\\\\G15 - mayo 2024\\\\ejemplo.txt'",
     "output_type": "error",
     "traceback": [
      "\u001b[0;31m---------------------------------------------------------------------------\u001b[0m",
      "\u001b[0;31mFileNotFoundError\u001b[0m                         Traceback (most recent call last)",
      "Cell \u001b[0;32mIn[9], line 3\u001b[0m\n\u001b[1;32m      1\u001b[0m route \u001b[38;5;241m=\u001b[39m \u001b[38;5;124m\"\u001b[39m\u001b[38;5;124mC:\u001b[39m\u001b[38;5;130;01m\\\\\u001b[39;00m\u001b[38;5;124mUsers\u001b[39m\u001b[38;5;130;01m\\\\\u001b[39;00m\u001b[38;5;124martur\u001b[39m\u001b[38;5;130;01m\\\\\u001b[39;00m\u001b[38;5;124mDocuments\u001b[39m\u001b[38;5;130;01m\\\\\u001b[39;00m\u001b[38;5;124mDS_ML - ITAM\u001b[39m\u001b[38;5;130;01m\\\\\u001b[39;00m\u001b[38;5;124mmodulo 1\u001b[39m\u001b[38;5;130;01m\\\\\u001b[39;00m\u001b[38;5;124mG15 - mayo 2024\u001b[39m\u001b[38;5;130;01m\\\\\u001b[39;00m\u001b[38;5;124mejemplo.txt\u001b[39m\u001b[38;5;124m\"\u001b[39m\n\u001b[0;32m----> 3\u001b[0m f \u001b[38;5;241m=\u001b[39m \u001b[38;5;28mopen\u001b[39m(route)\n\u001b[1;32m      4\u001b[0m f\n",
      "File \u001b[0;32m~/anaconda3/lib/python3.11/site-packages/IPython/core/interactiveshell.py:284\u001b[0m, in \u001b[0;36m_modified_open\u001b[0;34m(file, *args, **kwargs)\u001b[0m\n\u001b[1;32m    277\u001b[0m \u001b[38;5;28;01mif\u001b[39;00m file \u001b[38;5;129;01min\u001b[39;00m {\u001b[38;5;241m0\u001b[39m, \u001b[38;5;241m1\u001b[39m, \u001b[38;5;241m2\u001b[39m}:\n\u001b[1;32m    278\u001b[0m     \u001b[38;5;28;01mraise\u001b[39;00m \u001b[38;5;167;01mValueError\u001b[39;00m(\n\u001b[1;32m    279\u001b[0m         \u001b[38;5;124mf\u001b[39m\u001b[38;5;124m\"\u001b[39m\u001b[38;5;124mIPython won\u001b[39m\u001b[38;5;124m'\u001b[39m\u001b[38;5;124mt let you open fd=\u001b[39m\u001b[38;5;132;01m{\u001b[39;00mfile\u001b[38;5;132;01m}\u001b[39;00m\u001b[38;5;124m by default \u001b[39m\u001b[38;5;124m\"\u001b[39m\n\u001b[1;32m    280\u001b[0m         \u001b[38;5;124m\"\u001b[39m\u001b[38;5;124mas it is likely to crash IPython. If you know what you are doing, \u001b[39m\u001b[38;5;124m\"\u001b[39m\n\u001b[1;32m    281\u001b[0m         \u001b[38;5;124m\"\u001b[39m\u001b[38;5;124myou can use builtins\u001b[39m\u001b[38;5;124m'\u001b[39m\u001b[38;5;124m open.\u001b[39m\u001b[38;5;124m\"\u001b[39m\n\u001b[1;32m    282\u001b[0m     )\n\u001b[0;32m--> 284\u001b[0m \u001b[38;5;28;01mreturn\u001b[39;00m io_open(file, \u001b[38;5;241m*\u001b[39margs, \u001b[38;5;241m*\u001b[39m\u001b[38;5;241m*\u001b[39mkwargs)\n",
      "\u001b[0;31mFileNotFoundError\u001b[0m: [Errno 2] No such file or directory: 'C:\\\\Users\\\\artur\\\\Documents\\\\DS_ML - ITAM\\\\modulo 1\\\\G15 - mayo 2024\\\\ejemplo.txt'"
     ]
    }
   ],
   "source": [
    "route = \"C:\\\\Users\\\\artur\\\\Documents\\\\DS_ML - ITAM\\\\modulo 1\\\\G15 - mayo 2024\\\\ejemplo.txt\"\n",
    "\n",
    "f = open(route)\n",
    "f"
   ]
  },
  {
   "cell_type": "code",
   "execution_count": null,
   "id": "aaa740c3",
   "metadata": {},
   "outputs": [],
   "source": [
    "type(f)"
   ]
  },
  {
   "cell_type": "markdown",
   "id": "36d20794",
   "metadata": {},
   "source": [
    "El resultado de abrir un archivo es un `file object` sobre el cual podemos manipular antes de visualizar el contenido del archivo. Dependiendo del *modo* seleccionado para trabajar con el archivo, `f` toma diferentes propiedades. Por `default` el modo es `r` (read), sin embargo, existen diferentes modos de trabajo. Enunciaremos los más comunes: \n",
    "* `r`: leer (default)\n",
    "* `w`: escribir\n",
    "* `a`: escribir. Agregar información al final del archivo si este ya existe\n",
    "* `b`: binario. Para trabajr con archivo binario"
   ]
  },
  {
   "cell_type": "code",
   "execution_count": 12,
   "id": "383d54df",
   "metadata": {},
   "outputs": [
    {
     "ename": "NameError",
     "evalue": "name 'f' is not defined",
     "output_type": "error",
     "traceback": [
      "\u001b[0;31m---------------------------------------------------------------------------\u001b[0m",
      "\u001b[0;31mNameError\u001b[0m                                 Traceback (most recent call last)",
      "Cell \u001b[0;32mIn[12], line 2\u001b[0m\n\u001b[1;32m      1\u001b[0m \u001b[38;5;66;03m# Con el método f.read() leemos el contenido el archivo\u001b[39;00m\n\u001b[0;32m----> 2\u001b[0m \u001b[38;5;28mprint\u001b[39m(f\u001b[38;5;241m.\u001b[39mread())\n",
      "\u001b[0;31mNameError\u001b[0m: name 'f' is not defined"
     ]
    }
   ],
   "source": [
    "# Con el método f.read() leemos el contenido el archivo\n",
    "print(f.read())"
   ]
  },
  {
   "cell_type": "markdown",
   "id": "d537a52c",
   "metadata": {},
   "source": [
    "Para evitar posibles conflictos en el archivo, es importante cerrarlo una vez que se haya terminado de usar"
   ]
  },
  {
   "cell_type": "code",
   "execution_count": 10,
   "id": "18f1a1c6",
   "metadata": {},
   "outputs": [
    {
     "ename": "NameError",
     "evalue": "name 'f' is not defined",
     "output_type": "error",
     "traceback": [
      "\u001b[0;31m---------------------------------------------------------------------------\u001b[0m",
      "\u001b[0;31mNameError\u001b[0m                                 Traceback (most recent call last)",
      "Cell \u001b[0;32mIn[10], line 1\u001b[0m\n\u001b[0;32m----> 1\u001b[0m f\u001b[38;5;241m.\u001b[39mclose()\n",
      "\u001b[0;31mNameError\u001b[0m: name 'f' is not defined"
     ]
    }
   ],
   "source": [
    "f.close()"
   ]
  },
  {
   "cell_type": "code",
   "execution_count": 11,
   "id": "a77c0274",
   "metadata": {},
   "outputs": [
    {
     "data": {
      "text/plain": [
       "'/Users/andrespadronquintana/Desktop/DIPLOMADO MACHINE LEARNING DS/MÓDULO 1'"
      ]
     },
     "execution_count": 11,
     "metadata": {},
     "output_type": "execute_result"
    }
   ],
   "source": [
    "pwd"
   ]
  },
  {
   "cell_type": "code",
   "execution_count": null,
   "id": "ded09490",
   "metadata": {},
   "outputs": [],
   "source": [
    "#Código completo para abrir y ver contenido\n",
    "route = \"ejemplo.txt\"\n",
    "\n",
    "f = open(route)\n",
    "\n",
    "print(f.read())\n",
    "\n",
    "f.close()"
   ]
  },
  {
   "cell_type": "code",
   "execution_count": null,
   "id": "16c1dc36",
   "metadata": {},
   "outputs": [],
   "source": [
    "f.read()"
   ]
  },
  {
   "cell_type": "markdown",
   "id": "f59c3b54",
   "metadata": {},
   "source": [
    "Una vez abierto un archivo es imprescindible cerrarlo. Para tener una legibilidad y no olvidar cerrar el archivo, se puede hacer uso del *keyword* `with` que abre un archivo dentro de un bloque de texto para posteriorment cerrarlo. \n",
    "\n",
    "El *keyword* `with` toma un objeto (en nuestro caso es un lector de archivos) que incluya dos métodos: `.open` y `.close`. Python se encarga de abrir y el cerrar el archivo. \n",
    "\n",
    "```python\n",
    "with open(filename,mode) as f:\n",
    "    <manipulacion del archivo>\n",
    "\n",
    "```"
   ]
  },
  {
   "cell_type": "code",
   "execution_count": null,
   "id": "9cbb22dd",
   "metadata": {
    "scrolled": true
   },
   "outputs": [],
   "source": [
    "route = \"ejemplo.txt\"\n",
    "\n",
    "with open(route, \"r\") as file: \n",
    "    print(file.read())\n",
    "    #file.close()"
   ]
  },
  {
   "cell_type": "markdown",
   "id": "4e0cc0dc",
   "metadata": {},
   "source": [
    "Si tratamos de volver a leer un archivo, el siguient error nos aparece: \n"
   ]
  },
  {
   "cell_type": "code",
   "execution_count": null,
   "id": "a0501012",
   "metadata": {},
   "outputs": [],
   "source": [
    "help(open)"
   ]
  },
  {
   "cell_type": "code",
   "execution_count": null,
   "id": "9b16d4f9",
   "metadata": {
    "scrolled": true
   },
   "outputs": [],
   "source": [
    "file.read()"
   ]
  },
  {
   "cell_type": "markdown",
   "id": "63240f04",
   "metadata": {},
   "source": [
    "Este error anuncia que al archivo ya ha sido cerrado con `with`."
   ]
  },
  {
   "cell_type": "markdown",
   "id": "f5babec7",
   "metadata": {},
   "source": [
    "### Escribiendo Archivos\n",
    "El modo `\"w\"` dentro de `open` nos permite crear nuevos archivos. La sintáxis sería la siguiente: \n",
    "\n",
    "```python\n",
    "open(filename,\"w\")\n",
    "\n",
    "```"
   ]
  },
  {
   "cell_type": "code",
   "execution_count": null,
   "id": "10c171c8",
   "metadata": {},
   "outputs": [],
   "source": [
    "#Escribir número del 0 al 9\n",
    "route = \"ejemplo_02.txt\"\n",
    "\n",
    "with open(route,\"w\") as f: \n",
    "    for i in range(5):\n",
    "        f.write(str(i) + \" \")"
   ]
  },
  {
   "cell_type": "markdown",
   "id": "e2112d11",
   "metadata": {},
   "source": [
    "##### Notas\n",
    "* El código anterior escribió un caracter después de otro.\n",
    "\n",
    "\n",
    "* Fue necesario convertir nuestro `int` a un `str` para poder escribir su valor. \n",
    "\n",
    "\n",
    "* El contenido del archivo se sobreescribe; ¿cómo podríamos evitar eso?"
   ]
  },
  {
   "cell_type": "code",
   "execution_count": null,
   "id": "2673a877",
   "metadata": {},
   "outputs": [],
   "source": [
    "type(open(route,\"a\"))"
   ]
  },
  {
   "cell_type": "code",
   "execution_count": null,
   "id": "180bb8e5",
   "metadata": {},
   "outputs": [],
   "source": [
    "## si queremos escribir más cosas en el fichero:\n",
    "route = \"ejemplo_02.txt\"\n",
    "\n",
    "with open(route,\"a\") as f:\n",
    "    f.write(\"\\n\")\n",
    "    for i in range(15):\n",
    "        f.write(\"*\" + str(i) + \"*\")"
   ]
  },
  {
   "cell_type": "markdown",
   "id": "8b41e78a",
   "metadata": {},
   "source": [
    "# Módulo I/O"
   ]
  },
  {
   "cell_type": "markdown",
   "id": "d7d0d23d",
   "metadata": {},
   "source": [
    "# JSON\n",
    "JSON (JavaScript Object Notation) es un formato de bajo peso para intercambio de información basado en el lenguaje de programación de JavaScript. Es parecido, en estructura, a un diccionario. Podemos cargar objetos json desde python con la librería `json`"
   ]
  },
  {
   "cell_type": "code",
   "execution_count": 13,
   "id": "748d7397",
   "metadata": {},
   "outputs": [],
   "source": [
    "import json"
   ]
  },
  {
   "cell_type": "code",
   "execution_count": 14,
   "id": "68538b6c",
   "metadata": {},
   "outputs": [
    {
     "data": {
      "text/plain": [
       "['JSONDecodeError',\n",
       " 'JSONDecoder',\n",
       " 'JSONEncoder',\n",
       " '__all__',\n",
       " '__author__',\n",
       " '__builtins__',\n",
       " '__cached__',\n",
       " '__doc__',\n",
       " '__file__',\n",
       " '__loader__',\n",
       " '__name__',\n",
       " '__package__',\n",
       " '__path__',\n",
       " '__spec__',\n",
       " '__version__',\n",
       " '_default_decoder',\n",
       " '_default_encoder',\n",
       " 'codecs',\n",
       " 'decoder',\n",
       " 'detect_encoding',\n",
       " 'dump',\n",
       " 'dumps',\n",
       " 'encoder',\n",
       " 'load',\n",
       " 'loads',\n",
       " 'scanner']"
      ]
     },
     "execution_count": 14,
     "metadata": {},
     "output_type": "execute_result"
    }
   ],
   "source": [
    "dir(json)"
   ]
  },
  {
   "cell_type": "markdown",
   "id": "2b39a283",
   "metadata": {},
   "source": [
    "Para cargar archivos json, es necesario abrir un archivo y usar la función `json.load()` aplicado sobre el archivo abierto. "
   ]
  },
  {
   "cell_type": "code",
   "execution_count": 15,
   "id": "ab150084",
   "metadata": {},
   "outputs": [
    {
     "ename": "FileNotFoundError",
     "evalue": "[Errno 2] No such file or directory: 'colors.json'",
     "output_type": "error",
     "traceback": [
      "\u001b[0;31m---------------------------------------------------------------------------\u001b[0m",
      "\u001b[0;31mFileNotFoundError\u001b[0m                         Traceback (most recent call last)",
      "Cell \u001b[0;32mIn[15], line 3\u001b[0m\n\u001b[1;32m      1\u001b[0m route \u001b[38;5;241m=\u001b[39m \u001b[38;5;124m\"\u001b[39m\u001b[38;5;124mcolors.json\u001b[39m\u001b[38;5;124m\"\u001b[39m\n\u001b[0;32m----> 3\u001b[0m \u001b[38;5;28;01mwith\u001b[39;00m \u001b[38;5;28mopen\u001b[39m(route,\u001b[38;5;124m\"\u001b[39m\u001b[38;5;124mr\u001b[39m\u001b[38;5;124m\"\u001b[39m) \u001b[38;5;28;01mas\u001b[39;00m f: \n\u001b[1;32m      4\u001b[0m     \u001b[38;5;28mprint\u001b[39m(f\u001b[38;5;241m.\u001b[39mread())\n",
      "File \u001b[0;32m~/anaconda3/lib/python3.11/site-packages/IPython/core/interactiveshell.py:284\u001b[0m, in \u001b[0;36m_modified_open\u001b[0;34m(file, *args, **kwargs)\u001b[0m\n\u001b[1;32m    277\u001b[0m \u001b[38;5;28;01mif\u001b[39;00m file \u001b[38;5;129;01min\u001b[39;00m {\u001b[38;5;241m0\u001b[39m, \u001b[38;5;241m1\u001b[39m, \u001b[38;5;241m2\u001b[39m}:\n\u001b[1;32m    278\u001b[0m     \u001b[38;5;28;01mraise\u001b[39;00m \u001b[38;5;167;01mValueError\u001b[39;00m(\n\u001b[1;32m    279\u001b[0m         \u001b[38;5;124mf\u001b[39m\u001b[38;5;124m\"\u001b[39m\u001b[38;5;124mIPython won\u001b[39m\u001b[38;5;124m'\u001b[39m\u001b[38;5;124mt let you open fd=\u001b[39m\u001b[38;5;132;01m{\u001b[39;00mfile\u001b[38;5;132;01m}\u001b[39;00m\u001b[38;5;124m by default \u001b[39m\u001b[38;5;124m\"\u001b[39m\n\u001b[1;32m    280\u001b[0m         \u001b[38;5;124m\"\u001b[39m\u001b[38;5;124mas it is likely to crash IPython. If you know what you are doing, \u001b[39m\u001b[38;5;124m\"\u001b[39m\n\u001b[1;32m    281\u001b[0m         \u001b[38;5;124m\"\u001b[39m\u001b[38;5;124myou can use builtins\u001b[39m\u001b[38;5;124m'\u001b[39m\u001b[38;5;124m open.\u001b[39m\u001b[38;5;124m\"\u001b[39m\n\u001b[1;32m    282\u001b[0m     )\n\u001b[0;32m--> 284\u001b[0m \u001b[38;5;28;01mreturn\u001b[39;00m io_open(file, \u001b[38;5;241m*\u001b[39margs, \u001b[38;5;241m*\u001b[39m\u001b[38;5;241m*\u001b[39mkwargs)\n",
      "\u001b[0;31mFileNotFoundError\u001b[0m: [Errno 2] No such file or directory: 'colors.json'"
     ]
    }
   ],
   "source": [
    "route = \"colors.json\"\n",
    "\n",
    "with open(route,\"r\") as f: \n",
    "    print(f.read())"
   ]
  },
  {
   "cell_type": "code",
   "execution_count": 16,
   "id": "89c4e134",
   "metadata": {},
   "outputs": [
    {
     "ename": "FileNotFoundError",
     "evalue": "[Errno 2] No such file or directory: 'colors.json'",
     "output_type": "error",
     "traceback": [
      "\u001b[0;31m---------------------------------------------------------------------------\u001b[0m",
      "\u001b[0;31mFileNotFoundError\u001b[0m                         Traceback (most recent call last)",
      "Cell \u001b[0;32mIn[16], line 4\u001b[0m\n\u001b[1;32m      1\u001b[0m \u001b[38;5;66;03m## si el fichero está en el mismo directorio, podemos hacer esto:\u001b[39;00m\n\u001b[1;32m      2\u001b[0m route \u001b[38;5;241m=\u001b[39m \u001b[38;5;124m\"\u001b[39m\u001b[38;5;124mcolors.json\u001b[39m\u001b[38;5;124m\"\u001b[39m\n\u001b[0;32m----> 4\u001b[0m \u001b[38;5;28;01mwith\u001b[39;00m \u001b[38;5;28mopen\u001b[39m(route) \u001b[38;5;28;01mas\u001b[39;00m f: \n\u001b[1;32m      5\u001b[0m     colors \u001b[38;5;241m=\u001b[39m json\u001b[38;5;241m.\u001b[39mload(f)\n\u001b[1;32m      7\u001b[0m \u001b[38;5;28mtype\u001b[39m(colors)\n",
      "File \u001b[0;32m~/anaconda3/lib/python3.11/site-packages/IPython/core/interactiveshell.py:284\u001b[0m, in \u001b[0;36m_modified_open\u001b[0;34m(file, *args, **kwargs)\u001b[0m\n\u001b[1;32m    277\u001b[0m \u001b[38;5;28;01mif\u001b[39;00m file \u001b[38;5;129;01min\u001b[39;00m {\u001b[38;5;241m0\u001b[39m, \u001b[38;5;241m1\u001b[39m, \u001b[38;5;241m2\u001b[39m}:\n\u001b[1;32m    278\u001b[0m     \u001b[38;5;28;01mraise\u001b[39;00m \u001b[38;5;167;01mValueError\u001b[39;00m(\n\u001b[1;32m    279\u001b[0m         \u001b[38;5;124mf\u001b[39m\u001b[38;5;124m\"\u001b[39m\u001b[38;5;124mIPython won\u001b[39m\u001b[38;5;124m'\u001b[39m\u001b[38;5;124mt let you open fd=\u001b[39m\u001b[38;5;132;01m{\u001b[39;00mfile\u001b[38;5;132;01m}\u001b[39;00m\u001b[38;5;124m by default \u001b[39m\u001b[38;5;124m\"\u001b[39m\n\u001b[1;32m    280\u001b[0m         \u001b[38;5;124m\"\u001b[39m\u001b[38;5;124mas it is likely to crash IPython. If you know what you are doing, \u001b[39m\u001b[38;5;124m\"\u001b[39m\n\u001b[1;32m    281\u001b[0m         \u001b[38;5;124m\"\u001b[39m\u001b[38;5;124myou can use builtins\u001b[39m\u001b[38;5;124m'\u001b[39m\u001b[38;5;124m open.\u001b[39m\u001b[38;5;124m\"\u001b[39m\n\u001b[1;32m    282\u001b[0m     )\n\u001b[0;32m--> 284\u001b[0m \u001b[38;5;28;01mreturn\u001b[39;00m io_open(file, \u001b[38;5;241m*\u001b[39margs, \u001b[38;5;241m*\u001b[39m\u001b[38;5;241m*\u001b[39mkwargs)\n",
      "\u001b[0;31mFileNotFoundError\u001b[0m: [Errno 2] No such file or directory: 'colors.json'"
     ]
    }
   ],
   "source": [
    "## si el fichero está en el mismo directorio, podemos hacer esto:\n",
    "route = \"colors.json\"\n",
    "\n",
    "with open(route) as f: \n",
    "    colors = json.load(f)\n",
    "    \n",
    "type(colors)"
   ]
  },
  {
   "cell_type": "code",
   "execution_count": null,
   "id": "b99eeed6",
   "metadata": {},
   "outputs": [],
   "source": [
    "colors   ## {\"colors\" : list}"
   ]
  },
  {
   "cell_type": "code",
   "execution_count": null,
   "id": "65688465",
   "metadata": {},
   "outputs": [],
   "source": [
    "colors.keys()"
   ]
  },
  {
   "cell_type": "code",
   "execution_count": null,
   "id": "a2dc28a8",
   "metadata": {},
   "outputs": [],
   "source": [
    "colors[\"colors\"]"
   ]
  },
  {
   "cell_type": "code",
   "execution_count": null,
   "id": "cd534ef2",
   "metadata": {},
   "outputs": [],
   "source": [
    "type(colors[\"colors\"])"
   ]
  },
  {
   "cell_type": "code",
   "execution_count": null,
   "id": "d25e4a40",
   "metadata": {},
   "outputs": [],
   "source": [
    "len(colors[\"colors\"])"
   ]
  },
  {
   "cell_type": "code",
   "execution_count": null,
   "id": "b358fc5a",
   "metadata": {},
   "outputs": [],
   "source": [
    "#Cómo accederíamos a las características de black\n",
    "colors['colors'][0]"
   ]
  },
  {
   "cell_type": "code",
   "execution_count": null,
   "id": "9cad6803",
   "metadata": {},
   "outputs": [],
   "source": [
    "type(colors['colors'][0])"
   ]
  },
  {
   "cell_type": "code",
   "execution_count": null,
   "id": "d4c2d2fb",
   "metadata": {},
   "outputs": [],
   "source": [
    "#Como accederían un nivel más profundo, por ejemplo: type\n",
    "colors['colors'][0][\"code\"]"
   ]
  },
  {
   "cell_type": "code",
   "execution_count": null,
   "id": "de735d33",
   "metadata": {},
   "outputs": [],
   "source": [
    "#Cómo agregariían al final del diciconario original un nuevo color verde\n",
    "type(colors[\"colors\"])"
   ]
  },
  {
   "cell_type": "code",
   "execution_count": null,
   "id": "afcea5b5",
   "metadata": {},
   "outputs": [],
   "source": [
    "colors[\"colors\"].append({\"color\":\"green\"}) #agregar al final"
   ]
  },
  {
   "cell_type": "code",
   "execution_count": null,
   "id": "8fd2e425",
   "metadata": {},
   "outputs": [],
   "source": [
    "colors"
   ]
  },
  {
   "cell_type": "code",
   "execution_count": null,
   "id": "09e2ab44",
   "metadata": {},
   "outputs": [],
   "source": [
    "colors[\"categoría_nueva\"] = [{'color':'blue'}] #estaría fuera del original"
   ]
  },
  {
   "cell_type": "code",
   "execution_count": null,
   "id": "92cb8c37",
   "metadata": {},
   "outputs": [],
   "source": [
    "colors"
   ]
  },
  {
   "cell_type": "code",
   "execution_count": null,
   "id": "547d7414",
   "metadata": {},
   "outputs": [],
   "source": [
    "colors.keys()"
   ]
  },
  {
   "cell_type": "markdown",
   "id": "94bfd942",
   "metadata": {},
   "source": [
    "## CSV"
   ]
  },
  {
   "cell_type": "code",
   "execution_count": 17,
   "id": "a26058f9",
   "metadata": {},
   "outputs": [],
   "source": [
    "import csv "
   ]
  },
  {
   "cell_type": "code",
   "execution_count": 18,
   "id": "dd8abb7e",
   "metadata": {},
   "outputs": [
    {
     "data": {
      "text/plain": [
       "['Dialect',\n",
       " 'DictReader',\n",
       " 'DictWriter',\n",
       " 'Error',\n",
       " 'QUOTE_ALL',\n",
       " 'QUOTE_MINIMAL',\n",
       " 'QUOTE_NONE',\n",
       " 'QUOTE_NONNUMERIC',\n",
       " 'Sniffer',\n",
       " 'StringIO',\n",
       " '_Dialect',\n",
       " '__all__',\n",
       " '__builtins__',\n",
       " '__cached__',\n",
       " '__doc__',\n",
       " '__file__',\n",
       " '__loader__',\n",
       " '__name__',\n",
       " '__package__',\n",
       " '__spec__',\n",
       " '__version__',\n",
       " 'excel',\n",
       " 'excel_tab',\n",
       " 'field_size_limit',\n",
       " 'get_dialect',\n",
       " 'list_dialects',\n",
       " 're',\n",
       " 'reader',\n",
       " 'register_dialect',\n",
       " 'unix_dialect',\n",
       " 'unregister_dialect',\n",
       " 'writer']"
      ]
     },
     "execution_count": 18,
     "metadata": {},
     "output_type": "execute_result"
    }
   ],
   "source": [
    "dir(csv)"
   ]
  },
  {
   "cell_type": "code",
   "execution_count": null,
   "id": "fadeb195",
   "metadata": {},
   "outputs": [],
   "source": [
    "#leer archivo\n",
    "route = \"mun_cdmx.csv\"\n",
    "\n",
    "with open(route) as f:\n",
    "    munmx = csv.DictReader(f)\n",
    "    print(type(munmx))\n",
    "    print(munmx.fieldnames)"
   ]
  },
  {
   "cell_type": "code",
   "execution_count": null,
   "id": "a43c607d",
   "metadata": {},
   "outputs": [],
   "source": [
    "munmx"
   ]
  },
  {
   "cell_type": "code",
   "execution_count": null,
   "id": "5c02b2cf",
   "metadata": {
    "scrolled": true
   },
   "outputs": [],
   "source": [
    "type(munmx)"
   ]
  },
  {
   "cell_type": "code",
   "execution_count": null,
   "id": "aaf86e29",
   "metadata": {},
   "outputs": [],
   "source": [
    "for row in munmx:\n",
    "    print(row)"
   ]
  },
  {
   "cell_type": "code",
   "execution_count": null,
   "id": "599a20ef",
   "metadata": {
    "scrolled": true
   },
   "outputs": [],
   "source": [
    "#route=\"../files/lec07/mun_cdmx.csv\"\n",
    "with open(route) as f:\n",
    "    munmx=csv.DictReader(f)\n",
    "    print(munmx.fieldnames)\n",
    "    print(\"\\n\")\n",
    "    for row in munmx:\n",
    "        print(row)\n",
    "        #int_clave=int(row[\"CVE_MUN\"])\n",
    "        #nom_mun=int(row[\"\"])"
   ]
  },
  {
   "cell_type": "code",
   "execution_count": null,
   "id": "cb13775d",
   "metadata": {
    "scrolled": true
   },
   "outputs": [],
   "source": [
    "\n",
    "with open(route) as f:\n",
    "    munmx=csv.DictReader(f)\n",
    "    #print(munmx.fieldnames)\n",
    "    for row in munmx:\n",
    "        #print(row)\n",
    "        int_clave=int(row[\"col1\"])\n",
    "        nom_mun=row[\"col2\"]\n",
    "        print(f\"{int_clave:02}\\t{nom_mun}\")"
   ]
  },
  {
   "cell_type": "code",
   "execution_count": null,
   "id": "a40e29a2",
   "metadata": {
    "scrolled": false
   },
   "outputs": [],
   "source": [
    "import pandas as pd\n",
    "pd.read_csv(route)"
   ]
  },
  {
   "cell_type": "code",
   "execution_count": null,
   "id": "dc3afa54",
   "metadata": {},
   "outputs": [],
   "source": [
    "## revisar porque pone saltos de linea\n",
    "\n",
    "#Escritura\n",
    "route = \"csv_ejemplo.csv\"\n",
    "\n",
    "with open(route,\"w\") as f:\n",
    "    csvfile = csv.DictWriter(f,[\"col1\",\"col2\"])\n",
    "    \n",
    "    csvfile.writeheader()\n",
    "    \n",
    "    for num in range(11):\n",
    "        csvfile.writerow({\"col1\":num,\"col2\":num**2})"
   ]
  },
  {
   "cell_type": "markdown",
   "id": "427972fe",
   "metadata": {},
   "source": [
    "## OS"
   ]
  },
  {
   "cell_type": "markdown",
   "id": "7a4eda3e",
   "metadata": {},
   "source": [
    "Este paquete contiene funciones que dependen del sistema operativo que estamos usando; nos permiten acceder a rutas, lectura y escritura de ficheros y manejo a alto nivel de nuestros archivos."
   ]
  },
  {
   "cell_type": "code",
   "execution_count": 19,
   "id": "2acdb0a0",
   "metadata": {},
   "outputs": [],
   "source": [
    "import os"
   ]
  },
  {
   "cell_type": "code",
   "execution_count": 20,
   "id": "19715502",
   "metadata": {},
   "outputs": [
    {
     "data": {
      "text/plain": [
       "['CLD_CONTINUED',\n",
       " 'CLD_DUMPED',\n",
       " 'CLD_EXITED',\n",
       " 'CLD_KILLED',\n",
       " 'CLD_STOPPED',\n",
       " 'CLD_TRAPPED',\n",
       " 'DirEntry',\n",
       " 'EX_CANTCREAT',\n",
       " 'EX_CONFIG',\n",
       " 'EX_DATAERR',\n",
       " 'EX_IOERR',\n",
       " 'EX_NOHOST',\n",
       " 'EX_NOINPUT',\n",
       " 'EX_NOPERM',\n",
       " 'EX_NOUSER',\n",
       " 'EX_OK',\n",
       " 'EX_OSERR',\n",
       " 'EX_OSFILE',\n",
       " 'EX_PROTOCOL',\n",
       " 'EX_SOFTWARE',\n",
       " 'EX_TEMPFAIL',\n",
       " 'EX_UNAVAILABLE',\n",
       " 'EX_USAGE',\n",
       " 'F_LOCK',\n",
       " 'F_OK',\n",
       " 'F_TEST',\n",
       " 'F_TLOCK',\n",
       " 'F_ULOCK',\n",
       " 'GenericAlias',\n",
       " 'Mapping',\n",
       " 'MutableMapping',\n",
       " 'NGROUPS_MAX',\n",
       " 'O_ACCMODE',\n",
       " 'O_APPEND',\n",
       " 'O_ASYNC',\n",
       " 'O_CLOEXEC',\n",
       " 'O_CREAT',\n",
       " 'O_DIRECTORY',\n",
       " 'O_DSYNC',\n",
       " 'O_EVTONLY',\n",
       " 'O_EXCL',\n",
       " 'O_EXLOCK',\n",
       " 'O_FSYNC',\n",
       " 'O_NDELAY',\n",
       " 'O_NOCTTY',\n",
       " 'O_NOFOLLOW',\n",
       " 'O_NONBLOCK',\n",
       " 'O_RDONLY',\n",
       " 'O_RDWR',\n",
       " 'O_SHLOCK',\n",
       " 'O_SYMLINK',\n",
       " 'O_SYNC',\n",
       " 'O_TRUNC',\n",
       " 'O_WRONLY',\n",
       " 'POSIX_SPAWN_CLOSE',\n",
       " 'POSIX_SPAWN_DUP2',\n",
       " 'POSIX_SPAWN_OPEN',\n",
       " 'PRIO_PGRP',\n",
       " 'PRIO_PROCESS',\n",
       " 'PRIO_USER',\n",
       " 'P_ALL',\n",
       " 'P_NOWAIT',\n",
       " 'P_NOWAITO',\n",
       " 'P_PGID',\n",
       " 'P_PID',\n",
       " 'P_WAIT',\n",
       " 'PathLike',\n",
       " 'RTLD_GLOBAL',\n",
       " 'RTLD_LAZY',\n",
       " 'RTLD_LOCAL',\n",
       " 'RTLD_NODELETE',\n",
       " 'RTLD_NOLOAD',\n",
       " 'RTLD_NOW',\n",
       " 'R_OK',\n",
       " 'SCHED_FIFO',\n",
       " 'SCHED_OTHER',\n",
       " 'SCHED_RR',\n",
       " 'SEEK_CUR',\n",
       " 'SEEK_DATA',\n",
       " 'SEEK_END',\n",
       " 'SEEK_HOLE',\n",
       " 'SEEK_SET',\n",
       " 'ST_NOSUID',\n",
       " 'ST_RDONLY',\n",
       " 'TMP_MAX',\n",
       " 'WCONTINUED',\n",
       " 'WCOREDUMP',\n",
       " 'WEXITED',\n",
       " 'WEXITSTATUS',\n",
       " 'WIFCONTINUED',\n",
       " 'WIFEXITED',\n",
       " 'WIFSIGNALED',\n",
       " 'WIFSTOPPED',\n",
       " 'WNOHANG',\n",
       " 'WNOWAIT',\n",
       " 'WSTOPPED',\n",
       " 'WSTOPSIG',\n",
       " 'WTERMSIG',\n",
       " 'WUNTRACED',\n",
       " 'W_OK',\n",
       " 'X_OK',\n",
       " '_Environ',\n",
       " '__all__',\n",
       " '__builtins__',\n",
       " '__doc__',\n",
       " '__file__',\n",
       " '__loader__',\n",
       " '__name__',\n",
       " '__package__',\n",
       " '__spec__',\n",
       " '_check_methods',\n",
       " '_execvpe',\n",
       " '_exists',\n",
       " '_exit',\n",
       " '_fspath',\n",
       " '_fwalk',\n",
       " '_get_exports_list',\n",
       " '_spawnvef',\n",
       " '_walk',\n",
       " '_wrap_close',\n",
       " 'abc',\n",
       " 'abort',\n",
       " 'access',\n",
       " 'altsep',\n",
       " 'chdir',\n",
       " 'chflags',\n",
       " 'chmod',\n",
       " 'chown',\n",
       " 'chroot',\n",
       " 'close',\n",
       " 'closerange',\n",
       " 'confstr',\n",
       " 'confstr_names',\n",
       " 'cpu_count',\n",
       " 'ctermid',\n",
       " 'curdir',\n",
       " 'defpath',\n",
       " 'device_encoding',\n",
       " 'devnull',\n",
       " 'dup',\n",
       " 'dup2',\n",
       " 'environ',\n",
       " 'environb',\n",
       " 'error',\n",
       " 'execl',\n",
       " 'execle',\n",
       " 'execlp',\n",
       " 'execlpe',\n",
       " 'execv',\n",
       " 'execve',\n",
       " 'execvp',\n",
       " 'execvpe',\n",
       " 'extsep',\n",
       " 'fchdir',\n",
       " 'fchmod',\n",
       " 'fchown',\n",
       " 'fdopen',\n",
       " 'fork',\n",
       " 'forkpty',\n",
       " 'fpathconf',\n",
       " 'fsdecode',\n",
       " 'fsencode',\n",
       " 'fspath',\n",
       " 'fstat',\n",
       " 'fstatvfs',\n",
       " 'fsync',\n",
       " 'ftruncate',\n",
       " 'fwalk',\n",
       " 'get_blocking',\n",
       " 'get_exec_path',\n",
       " 'get_inheritable',\n",
       " 'get_terminal_size',\n",
       " 'getcwd',\n",
       " 'getcwdb',\n",
       " 'getegid',\n",
       " 'getenv',\n",
       " 'getenvb',\n",
       " 'geteuid',\n",
       " 'getgid',\n",
       " 'getgrouplist',\n",
       " 'getgroups',\n",
       " 'getloadavg',\n",
       " 'getlogin',\n",
       " 'getpgid',\n",
       " 'getpgrp',\n",
       " 'getpid',\n",
       " 'getppid',\n",
       " 'getpriority',\n",
       " 'getsid',\n",
       " 'getuid',\n",
       " 'initgroups',\n",
       " 'isatty',\n",
       " 'kill',\n",
       " 'killpg',\n",
       " 'lchflags',\n",
       " 'lchmod',\n",
       " 'lchown',\n",
       " 'linesep',\n",
       " 'link',\n",
       " 'listdir',\n",
       " 'lockf',\n",
       " 'login_tty',\n",
       " 'lseek',\n",
       " 'lstat',\n",
       " 'major',\n",
       " 'makedev',\n",
       " 'makedirs',\n",
       " 'minor',\n",
       " 'mkdir',\n",
       " 'mkfifo',\n",
       " 'mknod',\n",
       " 'name',\n",
       " 'nice',\n",
       " 'open',\n",
       " 'openpty',\n",
       " 'pardir',\n",
       " 'path',\n",
       " 'pathconf',\n",
       " 'pathconf_names',\n",
       " 'pathsep',\n",
       " 'pipe',\n",
       " 'popen',\n",
       " 'posix_spawn',\n",
       " 'posix_spawnp',\n",
       " 'pread',\n",
       " 'putenv',\n",
       " 'pwrite',\n",
       " 'read',\n",
       " 'readlink',\n",
       " 'readv',\n",
       " 'register_at_fork',\n",
       " 'remove',\n",
       " 'removedirs',\n",
       " 'rename',\n",
       " 'renames',\n",
       " 'replace',\n",
       " 'rmdir',\n",
       " 'scandir',\n",
       " 'sched_get_priority_max',\n",
       " 'sched_get_priority_min',\n",
       " 'sched_yield',\n",
       " 'sendfile',\n",
       " 'sep',\n",
       " 'set_blocking',\n",
       " 'set_inheritable',\n",
       " 'setegid',\n",
       " 'seteuid',\n",
       " 'setgid',\n",
       " 'setgroups',\n",
       " 'setpgid',\n",
       " 'setpgrp',\n",
       " 'setpriority',\n",
       " 'setregid',\n",
       " 'setreuid',\n",
       " 'setsid',\n",
       " 'setuid',\n",
       " 'spawnl',\n",
       " 'spawnle',\n",
       " 'spawnlp',\n",
       " 'spawnlpe',\n",
       " 'spawnv',\n",
       " 'spawnve',\n",
       " 'spawnvp',\n",
       " 'spawnvpe',\n",
       " 'st',\n",
       " 'stat',\n",
       " 'stat_result',\n",
       " 'statvfs',\n",
       " 'statvfs_result',\n",
       " 'strerror',\n",
       " 'supports_bytes_environ',\n",
       " 'supports_dir_fd',\n",
       " 'supports_effective_ids',\n",
       " 'supports_fd',\n",
       " 'supports_follow_symlinks',\n",
       " 'symlink',\n",
       " 'sync',\n",
       " 'sys',\n",
       " 'sysconf',\n",
       " 'sysconf_names',\n",
       " 'system',\n",
       " 'tcgetpgrp',\n",
       " 'tcsetpgrp',\n",
       " 'terminal_size',\n",
       " 'times',\n",
       " 'times_result',\n",
       " 'truncate',\n",
       " 'ttyname',\n",
       " 'umask',\n",
       " 'uname',\n",
       " 'uname_result',\n",
       " 'unlink',\n",
       " 'unsetenv',\n",
       " 'urandom',\n",
       " 'utime',\n",
       " 'wait',\n",
       " 'wait3',\n",
       " 'wait4',\n",
       " 'waitpid',\n",
       " 'waitstatus_to_exitcode',\n",
       " 'walk',\n",
       " 'write',\n",
       " 'writev']"
      ]
     },
     "execution_count": 20,
     "metadata": {},
     "output_type": "execute_result"
    }
   ],
   "source": [
    "dir(os)"
   ]
  },
  {
   "cell_type": "code",
   "execution_count": 21,
   "id": "62e80501",
   "metadata": {},
   "outputs": [
    {
     "name": "stdout",
     "output_type": "stream",
     "text": [
      "Help on module os:\n",
      "\n",
      "NAME\n",
      "    os - OS routines for NT or Posix depending on what system we're on.\n",
      "\n",
      "MODULE REFERENCE\n",
      "    https://docs.python.org/3.11/library/os.html\n",
      "    \n",
      "    The following documentation is automatically generated from the Python\n",
      "    source files.  It may be incomplete, incorrect or include features that\n",
      "    are considered implementation detail and may vary between Python\n",
      "    implementations.  When in doubt, consult the module reference at the\n",
      "    location listed above.\n",
      "\n",
      "DESCRIPTION\n",
      "    This exports:\n",
      "      - all functions from posix or nt, e.g. unlink, stat, etc.\n",
      "      - os.path is either posixpath or ntpath\n",
      "      - os.name is either 'posix' or 'nt'\n",
      "      - os.curdir is a string representing the current directory (always '.')\n",
      "      - os.pardir is a string representing the parent directory (always '..')\n",
      "      - os.sep is the (or a most common) pathname separator ('/' or '\\\\')\n",
      "      - os.extsep is the extension separator (always '.')\n",
      "      - os.altsep is the alternate pathname separator (None or '/')\n",
      "      - os.pathsep is the component separator used in $PATH etc\n",
      "      - os.linesep is the line separator in text files ('\\r' or '\\n' or '\\r\\n')\n",
      "      - os.defpath is the default search path for executables\n",
      "      - os.devnull is the file path of the null device ('/dev/null', etc.)\n",
      "    \n",
      "    Programs that import and use 'os' stand a better chance of being\n",
      "    portable between different platforms.  Of course, they must then\n",
      "    only use functions that are defined by all platforms (e.g., unlink\n",
      "    and opendir), and leave all pathname manipulation to os.path\n",
      "    (e.g., split and join).\n",
      "\n",
      "CLASSES\n",
      "    builtins.Exception(builtins.BaseException)\n",
      "        builtins.OSError\n",
      "    builtins.object\n",
      "        posix.DirEntry\n",
      "    builtins.tuple(builtins.object)\n",
      "        stat_result\n",
      "        statvfs_result\n",
      "        terminal_size\n",
      "        posix.times_result\n",
      "        posix.uname_result\n",
      "    \n",
      "    class DirEntry(builtins.object)\n",
      "     |  Methods defined here:\n",
      "     |  \n",
      "     |  __fspath__(self, /)\n",
      "     |      Returns the path for the entry.\n",
      "     |  \n",
      "     |  __repr__(self, /)\n",
      "     |      Return repr(self).\n",
      "     |  \n",
      "     |  inode(self, /)\n",
      "     |      Return inode of the entry; cached per entry.\n",
      "     |  \n",
      "     |  is_dir(self, /, *, follow_symlinks=True)\n",
      "     |      Return True if the entry is a directory; cached per entry.\n",
      "     |  \n",
      "     |  is_file(self, /, *, follow_symlinks=True)\n",
      "     |      Return True if the entry is a file; cached per entry.\n",
      "     |  \n",
      "     |  is_symlink(self, /)\n",
      "     |      Return True if the entry is a symbolic link; cached per entry.\n",
      "     |  \n",
      "     |  stat(self, /, *, follow_symlinks=True)\n",
      "     |      Return stat_result object for the entry; cached per entry.\n",
      "     |  \n",
      "     |  ----------------------------------------------------------------------\n",
      "     |  Class methods defined here:\n",
      "     |  \n",
      "     |  __class_getitem__(...) from builtins.type\n",
      "     |      See PEP 585\n",
      "     |  \n",
      "     |  ----------------------------------------------------------------------\n",
      "     |  Data descriptors defined here:\n",
      "     |  \n",
      "     |  name\n",
      "     |      the entry's base filename, relative to scandir() \"path\" argument\n",
      "     |  \n",
      "     |  path\n",
      "     |      the entry's full path name; equivalent to os.path.join(scandir_path, entry.name)\n",
      "    \n",
      "    error = class OSError(Exception)\n",
      "     |  Base class for I/O related errors.\n",
      "     |  \n",
      "     |  Method resolution order:\n",
      "     |      OSError\n",
      "     |      Exception\n",
      "     |      BaseException\n",
      "     |      object\n",
      "     |  \n",
      "     |  Built-in subclasses:\n",
      "     |      BlockingIOError\n",
      "     |      ChildProcessError\n",
      "     |      ConnectionError\n",
      "     |      FileExistsError\n",
      "     |      ... and 7 other subclasses\n",
      "     |  \n",
      "     |  Methods defined here:\n",
      "     |  \n",
      "     |  __init__(self, /, *args, **kwargs)\n",
      "     |      Initialize self.  See help(type(self)) for accurate signature.\n",
      "     |  \n",
      "     |  __reduce__(...)\n",
      "     |      Helper for pickle.\n",
      "     |  \n",
      "     |  __str__(self, /)\n",
      "     |      Return str(self).\n",
      "     |  \n",
      "     |  ----------------------------------------------------------------------\n",
      "     |  Static methods defined here:\n",
      "     |  \n",
      "     |  __new__(*args, **kwargs) from builtins.type\n",
      "     |      Create and return a new object.  See help(type) for accurate signature.\n",
      "     |  \n",
      "     |  ----------------------------------------------------------------------\n",
      "     |  Data descriptors defined here:\n",
      "     |  \n",
      "     |  characters_written\n",
      "     |  \n",
      "     |  errno\n",
      "     |      POSIX exception code\n",
      "     |  \n",
      "     |  filename\n",
      "     |      exception filename\n",
      "     |  \n",
      "     |  filename2\n",
      "     |      second exception filename\n",
      "     |  \n",
      "     |  strerror\n",
      "     |      exception strerror\n",
      "     |  \n",
      "     |  ----------------------------------------------------------------------\n",
      "     |  Methods inherited from BaseException:\n",
      "     |  \n",
      "     |  __delattr__(self, name, /)\n",
      "     |      Implement delattr(self, name).\n",
      "     |  \n",
      "     |  __getattribute__(self, name, /)\n",
      "     |      Return getattr(self, name).\n",
      "     |  \n",
      "     |  __repr__(self, /)\n",
      "     |      Return repr(self).\n",
      "     |  \n",
      "     |  __setattr__(self, name, value, /)\n",
      "     |      Implement setattr(self, name, value).\n",
      "     |  \n",
      "     |  __setstate__(...)\n",
      "     |  \n",
      "     |  add_note(...)\n",
      "     |      Exception.add_note(note) --\n",
      "     |      add a note to the exception\n",
      "     |  \n",
      "     |  with_traceback(...)\n",
      "     |      Exception.with_traceback(tb) --\n",
      "     |      set self.__traceback__ to tb and return self.\n",
      "     |  \n",
      "     |  ----------------------------------------------------------------------\n",
      "     |  Data descriptors inherited from BaseException:\n",
      "     |  \n",
      "     |  __cause__\n",
      "     |      exception cause\n",
      "     |  \n",
      "     |  __context__\n",
      "     |      exception context\n",
      "     |  \n",
      "     |  __dict__\n",
      "     |  \n",
      "     |  __suppress_context__\n",
      "     |  \n",
      "     |  __traceback__\n",
      "     |  \n",
      "     |  args\n",
      "    \n",
      "    class stat_result(builtins.tuple)\n",
      "     |  stat_result(iterable=(), /)\n",
      "     |  \n",
      "     |  stat_result: Result from stat, fstat, or lstat.\n",
      "     |  \n",
      "     |  This object may be accessed either as a tuple of\n",
      "     |    (mode, ino, dev, nlink, uid, gid, size, atime, mtime, ctime)\n",
      "     |  or via the attributes st_mode, st_ino, st_dev, st_nlink, st_uid, and so on.\n",
      "     |  \n",
      "     |  Posix/windows: If your platform supports st_blksize, st_blocks, st_rdev,\n",
      "     |  or st_flags, they are available as attributes only.\n",
      "     |  \n",
      "     |  See os.stat for more information.\n",
      "     |  \n",
      "     |  Method resolution order:\n",
      "     |      stat_result\n",
      "     |      builtins.tuple\n",
      "     |      builtins.object\n",
      "     |  \n",
      "     |  Methods defined here:\n",
      "     |  \n",
      "     |  __reduce__(...)\n",
      "     |      Helper for pickle.\n",
      "     |  \n",
      "     |  __repr__(self, /)\n",
      "     |      Return repr(self).\n",
      "     |  \n",
      "     |  ----------------------------------------------------------------------\n",
      "     |  Static methods defined here:\n",
      "     |  \n",
      "     |  __new__(*args, **kwargs) from builtins.type\n",
      "     |      Create and return a new object.  See help(type) for accurate signature.\n",
      "     |  \n",
      "     |  ----------------------------------------------------------------------\n",
      "     |  Data descriptors defined here:\n",
      "     |  \n",
      "     |  st_atime\n",
      "     |      time of last access\n",
      "     |  \n",
      "     |  st_atime_ns\n",
      "     |      time of last access in nanoseconds\n",
      "     |  \n",
      "     |  st_birthtime\n",
      "     |      time of creation\n",
      "     |  \n",
      "     |  st_blksize\n",
      "     |      blocksize for filesystem I/O\n",
      "     |  \n",
      "     |  st_blocks\n",
      "     |      number of blocks allocated\n",
      "     |  \n",
      "     |  st_ctime\n",
      "     |      time of last change\n",
      "     |  \n",
      "     |  st_ctime_ns\n",
      "     |      time of last change in nanoseconds\n",
      "     |  \n",
      "     |  st_dev\n",
      "     |      device\n",
      "     |  \n",
      "     |  st_flags\n",
      "     |      user defined flags for file\n",
      "     |  \n",
      "     |  st_gen\n",
      "     |      generation number\n",
      "     |  \n",
      "     |  st_gid\n",
      "     |      group ID of owner\n",
      "     |  \n",
      "     |  st_ino\n",
      "     |      inode\n",
      "     |  \n",
      "     |  st_mode\n",
      "     |      protection bits\n",
      "     |  \n",
      "     |  st_mtime\n",
      "     |      time of last modification\n",
      "     |  \n",
      "     |  st_mtime_ns\n",
      "     |      time of last modification in nanoseconds\n",
      "     |  \n",
      "     |  st_nlink\n",
      "     |      number of hard links\n",
      "     |  \n",
      "     |  st_rdev\n",
      "     |      device type (if inode device)\n",
      "     |  \n",
      "     |  st_size\n",
      "     |      total size, in bytes\n",
      "     |  \n",
      "     |  st_uid\n",
      "     |      user ID of owner\n",
      "     |  \n",
      "     |  ----------------------------------------------------------------------\n",
      "     |  Data and other attributes defined here:\n",
      "     |  \n",
      "     |  __match_args__ = ('st_mode', 'st_ino', 'st_dev', 'st_nlink', 'st_uid',...\n",
      "     |  \n",
      "     |  n_fields = 22\n",
      "     |  \n",
      "     |  n_sequence_fields = 10\n",
      "     |  \n",
      "     |  n_unnamed_fields = 3\n",
      "     |  \n",
      "     |  ----------------------------------------------------------------------\n",
      "     |  Methods inherited from builtins.tuple:\n",
      "     |  \n",
      "     |  __add__(self, value, /)\n",
      "     |      Return self+value.\n",
      "     |  \n",
      "     |  __contains__(self, key, /)\n",
      "     |      Return key in self.\n",
      "     |  \n",
      "     |  __eq__(self, value, /)\n",
      "     |      Return self==value.\n",
      "     |  \n",
      "     |  __ge__(self, value, /)\n",
      "     |      Return self>=value.\n",
      "     |  \n",
      "     |  __getattribute__(self, name, /)\n",
      "     |      Return getattr(self, name).\n",
      "     |  \n",
      "     |  __getitem__(self, key, /)\n",
      "     |      Return self[key].\n",
      "     |  \n",
      "     |  __getnewargs__(self, /)\n",
      "     |  \n",
      "     |  __gt__(self, value, /)\n",
      "     |      Return self>value.\n",
      "     |  \n",
      "     |  __hash__(self, /)\n",
      "     |      Return hash(self).\n",
      "     |  \n",
      "     |  __iter__(self, /)\n",
      "     |      Implement iter(self).\n",
      "     |  \n",
      "     |  __le__(self, value, /)\n",
      "     |      Return self<=value.\n",
      "     |  \n",
      "     |  __len__(self, /)\n",
      "     |      Return len(self).\n",
      "     |  \n",
      "     |  __lt__(self, value, /)\n",
      "     |      Return self<value.\n",
      "     |  \n",
      "     |  __mul__(self, value, /)\n",
      "     |      Return self*value.\n",
      "     |  \n",
      "     |  __ne__(self, value, /)\n",
      "     |      Return self!=value.\n",
      "     |  \n",
      "     |  __rmul__(self, value, /)\n",
      "     |      Return value*self.\n",
      "     |  \n",
      "     |  count(self, value, /)\n",
      "     |      Return number of occurrences of value.\n",
      "     |  \n",
      "     |  index(self, value, start=0, stop=9223372036854775807, /)\n",
      "     |      Return first index of value.\n",
      "     |      \n",
      "     |      Raises ValueError if the value is not present.\n",
      "     |  \n",
      "     |  ----------------------------------------------------------------------\n",
      "     |  Class methods inherited from builtins.tuple:\n",
      "     |  \n",
      "     |  __class_getitem__(...) from builtins.type\n",
      "     |      See PEP 585\n",
      "    \n",
      "    class statvfs_result(builtins.tuple)\n",
      "     |  statvfs_result(iterable=(), /)\n",
      "     |  \n",
      "     |  statvfs_result: Result from statvfs or fstatvfs.\n",
      "     |  \n",
      "     |  This object may be accessed either as a tuple of\n",
      "     |    (bsize, frsize, blocks, bfree, bavail, files, ffree, favail, flag, namemax),\n",
      "     |  or via the attributes f_bsize, f_frsize, f_blocks, f_bfree, and so on.\n",
      "     |  \n",
      "     |  See os.statvfs for more information.\n",
      "     |  \n",
      "     |  Method resolution order:\n",
      "     |      statvfs_result\n",
      "     |      builtins.tuple\n",
      "     |      builtins.object\n",
      "     |  \n",
      "     |  Methods defined here:\n",
      "     |  \n",
      "     |  __reduce__(...)\n",
      "     |      Helper for pickle.\n",
      "     |  \n",
      "     |  __repr__(self, /)\n",
      "     |      Return repr(self).\n",
      "     |  \n",
      "     |  ----------------------------------------------------------------------\n",
      "     |  Static methods defined here:\n",
      "     |  \n",
      "     |  __new__(*args, **kwargs) from builtins.type\n",
      "     |      Create and return a new object.  See help(type) for accurate signature.\n",
      "     |  \n",
      "     |  ----------------------------------------------------------------------\n",
      "     |  Data descriptors defined here:\n",
      "     |  \n",
      "     |  f_bavail\n",
      "     |  \n",
      "     |  f_bfree\n",
      "     |  \n",
      "     |  f_blocks\n",
      "     |  \n",
      "     |  f_bsize\n",
      "     |  \n",
      "     |  f_favail\n",
      "     |  \n",
      "     |  f_ffree\n",
      "     |  \n",
      "     |  f_files\n",
      "     |  \n",
      "     |  f_flag\n",
      "     |  \n",
      "     |  f_frsize\n",
      "     |  \n",
      "     |  f_fsid\n",
      "     |  \n",
      "     |  f_namemax\n",
      "     |  \n",
      "     |  ----------------------------------------------------------------------\n",
      "     |  Data and other attributes defined here:\n",
      "     |  \n",
      "     |  __match_args__ = ('f_bsize', 'f_frsize', 'f_blocks', 'f_bfree', 'f_bav...\n",
      "     |  \n",
      "     |  n_fields = 11\n",
      "     |  \n",
      "     |  n_sequence_fields = 10\n",
      "     |  \n",
      "     |  n_unnamed_fields = 0\n",
      "     |  \n",
      "     |  ----------------------------------------------------------------------\n",
      "     |  Methods inherited from builtins.tuple:\n",
      "     |  \n",
      "     |  __add__(self, value, /)\n",
      "     |      Return self+value.\n",
      "     |  \n",
      "     |  __contains__(self, key, /)\n",
      "     |      Return key in self.\n",
      "     |  \n",
      "     |  __eq__(self, value, /)\n",
      "     |      Return self==value.\n",
      "     |  \n",
      "     |  __ge__(self, value, /)\n",
      "     |      Return self>=value.\n",
      "     |  \n",
      "     |  __getattribute__(self, name, /)\n",
      "     |      Return getattr(self, name).\n",
      "     |  \n",
      "     |  __getitem__(self, key, /)\n",
      "     |      Return self[key].\n",
      "     |  \n",
      "     |  __getnewargs__(self, /)\n",
      "     |  \n",
      "     |  __gt__(self, value, /)\n",
      "     |      Return self>value.\n",
      "     |  \n",
      "     |  __hash__(self, /)\n",
      "     |      Return hash(self).\n",
      "     |  \n",
      "     |  __iter__(self, /)\n",
      "     |      Implement iter(self).\n",
      "     |  \n",
      "     |  __le__(self, value, /)\n",
      "     |      Return self<=value.\n",
      "     |  \n",
      "     |  __len__(self, /)\n",
      "     |      Return len(self).\n",
      "     |  \n",
      "     |  __lt__(self, value, /)\n",
      "     |      Return self<value.\n",
      "     |  \n",
      "     |  __mul__(self, value, /)\n",
      "     |      Return self*value.\n",
      "     |  \n",
      "     |  __ne__(self, value, /)\n",
      "     |      Return self!=value.\n",
      "     |  \n",
      "     |  __rmul__(self, value, /)\n",
      "     |      Return value*self.\n",
      "     |  \n",
      "     |  count(self, value, /)\n",
      "     |      Return number of occurrences of value.\n",
      "     |  \n",
      "     |  index(self, value, start=0, stop=9223372036854775807, /)\n",
      "     |      Return first index of value.\n",
      "     |      \n",
      "     |      Raises ValueError if the value is not present.\n",
      "     |  \n",
      "     |  ----------------------------------------------------------------------\n",
      "     |  Class methods inherited from builtins.tuple:\n",
      "     |  \n",
      "     |  __class_getitem__(...) from builtins.type\n",
      "     |      See PEP 585\n",
      "    \n",
      "    class terminal_size(builtins.tuple)\n",
      "     |  terminal_size(iterable=(), /)\n",
      "     |  \n",
      "     |  A tuple of (columns, lines) for holding terminal window size\n",
      "     |  \n",
      "     |  Method resolution order:\n",
      "     |      terminal_size\n",
      "     |      builtins.tuple\n",
      "     |      builtins.object\n",
      "     |  \n",
      "     |  Methods defined here:\n",
      "     |  \n",
      "     |  __reduce__(...)\n",
      "     |      Helper for pickle.\n",
      "     |  \n",
      "     |  __repr__(self, /)\n",
      "     |      Return repr(self).\n",
      "     |  \n",
      "     |  ----------------------------------------------------------------------\n",
      "     |  Static methods defined here:\n",
      "     |  \n",
      "     |  __new__(*args, **kwargs) from builtins.type\n",
      "     |      Create and return a new object.  See help(type) for accurate signature.\n",
      "     |  \n",
      "     |  ----------------------------------------------------------------------\n",
      "     |  Data descriptors defined here:\n",
      "     |  \n",
      "     |  columns\n",
      "     |      width of the terminal window in characters\n",
      "     |  \n",
      "     |  lines\n",
      "     |      height of the terminal window in characters\n",
      "     |  \n",
      "     |  ----------------------------------------------------------------------\n",
      "     |  Data and other attributes defined here:\n",
      "     |  \n",
      "     |  __match_args__ = ('columns', 'lines')\n",
      "     |  \n",
      "     |  n_fields = 2\n",
      "     |  \n",
      "     |  n_sequence_fields = 2\n",
      "     |  \n",
      "     |  n_unnamed_fields = 0\n",
      "     |  \n",
      "     |  ----------------------------------------------------------------------\n",
      "     |  Methods inherited from builtins.tuple:\n",
      "     |  \n",
      "     |  __add__(self, value, /)\n",
      "     |      Return self+value.\n",
      "     |  \n",
      "     |  __contains__(self, key, /)\n",
      "     |      Return key in self.\n",
      "     |  \n",
      "     |  __eq__(self, value, /)\n",
      "     |      Return self==value.\n",
      "     |  \n",
      "     |  __ge__(self, value, /)\n",
      "     |      Return self>=value.\n",
      "     |  \n",
      "     |  __getattribute__(self, name, /)\n",
      "     |      Return getattr(self, name).\n",
      "     |  \n",
      "     |  __getitem__(self, key, /)\n",
      "     |      Return self[key].\n",
      "     |  \n",
      "     |  __getnewargs__(self, /)\n",
      "     |  \n",
      "     |  __gt__(self, value, /)\n",
      "     |      Return self>value.\n",
      "     |  \n",
      "     |  __hash__(self, /)\n",
      "     |      Return hash(self).\n",
      "     |  \n",
      "     |  __iter__(self, /)\n",
      "     |      Implement iter(self).\n",
      "     |  \n",
      "     |  __le__(self, value, /)\n",
      "     |      Return self<=value.\n",
      "     |  \n",
      "     |  __len__(self, /)\n",
      "     |      Return len(self).\n",
      "     |  \n",
      "     |  __lt__(self, value, /)\n",
      "     |      Return self<value.\n",
      "     |  \n",
      "     |  __mul__(self, value, /)\n",
      "     |      Return self*value.\n",
      "     |  \n",
      "     |  __ne__(self, value, /)\n",
      "     |      Return self!=value.\n",
      "     |  \n",
      "     |  __rmul__(self, value, /)\n",
      "     |      Return value*self.\n",
      "     |  \n",
      "     |  count(self, value, /)\n",
      "     |      Return number of occurrences of value.\n",
      "     |  \n",
      "     |  index(self, value, start=0, stop=9223372036854775807, /)\n",
      "     |      Return first index of value.\n",
      "     |      \n",
      "     |      Raises ValueError if the value is not present.\n",
      "     |  \n",
      "     |  ----------------------------------------------------------------------\n",
      "     |  Class methods inherited from builtins.tuple:\n",
      "     |  \n",
      "     |  __class_getitem__(...) from builtins.type\n",
      "     |      See PEP 585\n",
      "    \n",
      "    class times_result(builtins.tuple)\n",
      "     |  times_result(iterable=(), /)\n",
      "     |  \n",
      "     |  times_result: Result from os.times().\n",
      "     |  \n",
      "     |  This object may be accessed either as a tuple of\n",
      "     |    (user, system, children_user, children_system, elapsed),\n",
      "     |  or via the attributes user, system, children_user, children_system,\n",
      "     |  and elapsed.\n",
      "     |  \n",
      "     |  See os.times for more information.\n",
      "     |  \n",
      "     |  Method resolution order:\n",
      "     |      times_result\n",
      "     |      builtins.tuple\n",
      "     |      builtins.object\n",
      "     |  \n",
      "     |  Methods defined here:\n",
      "     |  \n",
      "     |  __reduce__(...)\n",
      "     |      Helper for pickle.\n",
      "     |  \n",
      "     |  __repr__(self, /)\n",
      "     |      Return repr(self).\n",
      "     |  \n",
      "     |  ----------------------------------------------------------------------\n",
      "     |  Static methods defined here:\n",
      "     |  \n",
      "     |  __new__(*args, **kwargs) from builtins.type\n",
      "     |      Create and return a new object.  See help(type) for accurate signature.\n",
      "     |  \n",
      "     |  ----------------------------------------------------------------------\n",
      "     |  Data descriptors defined here:\n",
      "     |  \n",
      "     |  children_system\n",
      "     |      system time of children\n",
      "     |  \n",
      "     |  children_user\n",
      "     |      user time of children\n",
      "     |  \n",
      "     |  elapsed\n",
      "     |      elapsed time since an arbitrary point in the past\n",
      "     |  \n",
      "     |  system\n",
      "     |      system time\n",
      "     |  \n",
      "     |  user\n",
      "     |      user time\n",
      "     |  \n",
      "     |  ----------------------------------------------------------------------\n",
      "     |  Data and other attributes defined here:\n",
      "     |  \n",
      "     |  __match_args__ = ('user', 'system', 'children_user', 'children_system'...\n",
      "     |  \n",
      "     |  n_fields = 5\n",
      "     |  \n",
      "     |  n_sequence_fields = 5\n",
      "     |  \n",
      "     |  n_unnamed_fields = 0\n",
      "     |  \n",
      "     |  ----------------------------------------------------------------------\n",
      "     |  Methods inherited from builtins.tuple:\n",
      "     |  \n",
      "     |  __add__(self, value, /)\n",
      "     |      Return self+value.\n",
      "     |  \n",
      "     |  __contains__(self, key, /)\n",
      "     |      Return key in self.\n",
      "     |  \n",
      "     |  __eq__(self, value, /)\n",
      "     |      Return self==value.\n",
      "     |  \n",
      "     |  __ge__(self, value, /)\n",
      "     |      Return self>=value.\n",
      "     |  \n",
      "     |  __getattribute__(self, name, /)\n",
      "     |      Return getattr(self, name).\n",
      "     |  \n",
      "     |  __getitem__(self, key, /)\n",
      "     |      Return self[key].\n",
      "     |  \n",
      "     |  __getnewargs__(self, /)\n",
      "     |  \n",
      "     |  __gt__(self, value, /)\n",
      "     |      Return self>value.\n",
      "     |  \n",
      "     |  __hash__(self, /)\n",
      "     |      Return hash(self).\n",
      "     |  \n",
      "     |  __iter__(self, /)\n",
      "     |      Implement iter(self).\n",
      "     |  \n",
      "     |  __le__(self, value, /)\n",
      "     |      Return self<=value.\n",
      "     |  \n",
      "     |  __len__(self, /)\n",
      "     |      Return len(self).\n",
      "     |  \n",
      "     |  __lt__(self, value, /)\n",
      "     |      Return self<value.\n",
      "     |  \n",
      "     |  __mul__(self, value, /)\n",
      "     |      Return self*value.\n",
      "     |  \n",
      "     |  __ne__(self, value, /)\n",
      "     |      Return self!=value.\n",
      "     |  \n",
      "     |  __rmul__(self, value, /)\n",
      "     |      Return value*self.\n",
      "     |  \n",
      "     |  count(self, value, /)\n",
      "     |      Return number of occurrences of value.\n",
      "     |  \n",
      "     |  index(self, value, start=0, stop=9223372036854775807, /)\n",
      "     |      Return first index of value.\n",
      "     |      \n",
      "     |      Raises ValueError if the value is not present.\n",
      "     |  \n",
      "     |  ----------------------------------------------------------------------\n",
      "     |  Class methods inherited from builtins.tuple:\n",
      "     |  \n",
      "     |  __class_getitem__(...) from builtins.type\n",
      "     |      See PEP 585\n",
      "    \n",
      "    class uname_result(builtins.tuple)\n",
      "     |  uname_result(iterable=(), /)\n",
      "     |  \n",
      "     |  uname_result: Result from os.uname().\n",
      "     |  \n",
      "     |  This object may be accessed either as a tuple of\n",
      "     |    (sysname, nodename, release, version, machine),\n",
      "     |  or via the attributes sysname, nodename, release, version, and machine.\n",
      "     |  \n",
      "     |  See os.uname for more information.\n",
      "     |  \n",
      "     |  Method resolution order:\n",
      "     |      uname_result\n",
      "     |      builtins.tuple\n",
      "     |      builtins.object\n",
      "     |  \n",
      "     |  Methods defined here:\n",
      "     |  \n",
      "     |  __reduce__(...)\n",
      "     |      Helper for pickle.\n",
      "     |  \n",
      "     |  __repr__(self, /)\n",
      "     |      Return repr(self).\n",
      "     |  \n",
      "     |  ----------------------------------------------------------------------\n",
      "     |  Static methods defined here:\n",
      "     |  \n",
      "     |  __new__(*args, **kwargs) from builtins.type\n",
      "     |      Create and return a new object.  See help(type) for accurate signature.\n",
      "     |  \n",
      "     |  ----------------------------------------------------------------------\n",
      "     |  Data descriptors defined here:\n",
      "     |  \n",
      "     |  machine\n",
      "     |      hardware identifier\n",
      "     |  \n",
      "     |  nodename\n",
      "     |      name of machine on network (implementation-defined)\n",
      "     |  \n",
      "     |  release\n",
      "     |      operating system release\n",
      "     |  \n",
      "     |  sysname\n",
      "     |      operating system name\n",
      "     |  \n",
      "     |  version\n",
      "     |      operating system version\n",
      "     |  \n",
      "     |  ----------------------------------------------------------------------\n",
      "     |  Data and other attributes defined here:\n",
      "     |  \n",
      "     |  __match_args__ = ('sysname', 'nodename', 'release', 'version', 'machin...\n",
      "     |  \n",
      "     |  n_fields = 5\n",
      "     |  \n",
      "     |  n_sequence_fields = 5\n",
      "     |  \n",
      "     |  n_unnamed_fields = 0\n",
      "     |  \n",
      "     |  ----------------------------------------------------------------------\n",
      "     |  Methods inherited from builtins.tuple:\n",
      "     |  \n",
      "     |  __add__(self, value, /)\n",
      "     |      Return self+value.\n",
      "     |  \n",
      "     |  __contains__(self, key, /)\n",
      "     |      Return key in self.\n",
      "     |  \n",
      "     |  __eq__(self, value, /)\n",
      "     |      Return self==value.\n",
      "     |  \n",
      "     |  __ge__(self, value, /)\n",
      "     |      Return self>=value.\n",
      "     |  \n",
      "     |  __getattribute__(self, name, /)\n",
      "     |      Return getattr(self, name).\n",
      "     |  \n",
      "     |  __getitem__(self, key, /)\n",
      "     |      Return self[key].\n",
      "     |  \n",
      "     |  __getnewargs__(self, /)\n",
      "     |  \n",
      "     |  __gt__(self, value, /)\n",
      "     |      Return self>value.\n",
      "     |  \n",
      "     |  __hash__(self, /)\n",
      "     |      Return hash(self).\n",
      "     |  \n",
      "     |  __iter__(self, /)\n",
      "     |      Implement iter(self).\n",
      "     |  \n",
      "     |  __le__(self, value, /)\n",
      "     |      Return self<=value.\n",
      "     |  \n",
      "     |  __len__(self, /)\n",
      "     |      Return len(self).\n",
      "     |  \n",
      "     |  __lt__(self, value, /)\n",
      "     |      Return self<value.\n",
      "     |  \n",
      "     |  __mul__(self, value, /)\n",
      "     |      Return self*value.\n",
      "     |  \n",
      "     |  __ne__(self, value, /)\n",
      "     |      Return self!=value.\n",
      "     |  \n",
      "     |  __rmul__(self, value, /)\n",
      "     |      Return value*self.\n",
      "     |  \n",
      "     |  count(self, value, /)\n",
      "     |      Return number of occurrences of value.\n",
      "     |  \n",
      "     |  index(self, value, start=0, stop=9223372036854775807, /)\n",
      "     |      Return first index of value.\n",
      "     |      \n",
      "     |      Raises ValueError if the value is not present.\n",
      "     |  \n",
      "     |  ----------------------------------------------------------------------\n",
      "     |  Class methods inherited from builtins.tuple:\n",
      "     |  \n",
      "     |  __class_getitem__(...) from builtins.type\n",
      "     |      See PEP 585\n",
      "\n",
      "FUNCTIONS\n",
      "    WCOREDUMP(status, /)\n",
      "        Return True if the process returning status was dumped to a core file.\n",
      "    \n",
      "    WEXITSTATUS(status)\n",
      "        Return the process return code from status.\n",
      "    \n",
      "    WIFCONTINUED(status)\n",
      "        Return True if a particular process was continued from a job control stop.\n",
      "        \n",
      "        Return True if the process returning status was continued from a\n",
      "        job control stop.\n",
      "    \n",
      "    WIFEXITED(status)\n",
      "        Return True if the process returning status exited via the exit() system call.\n",
      "    \n",
      "    WIFSIGNALED(status)\n",
      "        Return True if the process returning status was terminated by a signal.\n",
      "    \n",
      "    WIFSTOPPED(status)\n",
      "        Return True if the process returning status was stopped.\n",
      "    \n",
      "    WSTOPSIG(status)\n",
      "        Return the signal that stopped the process that provided the status value.\n",
      "    \n",
      "    WTERMSIG(status)\n",
      "        Return the signal that terminated the process that provided the status value.\n",
      "    \n",
      "    _exit(status)\n",
      "        Exit to the system with specified status, without normal exit processing.\n",
      "    \n",
      "    abort()\n",
      "        Abort the interpreter immediately.\n",
      "        \n",
      "        This function 'dumps core' or otherwise fails in the hardest way possible\n",
      "        on the hosting operating system.  This function never returns.\n",
      "    \n",
      "    access(path, mode, *, dir_fd=None, effective_ids=False, follow_symlinks=True)\n",
      "        Use the real uid/gid to test for access to a path.\n",
      "        \n",
      "          path\n",
      "            Path to be tested; can be string, bytes, or a path-like object.\n",
      "          mode\n",
      "            Operating-system mode bitfield.  Can be F_OK to test existence,\n",
      "            or the inclusive-OR of R_OK, W_OK, and X_OK.\n",
      "          dir_fd\n",
      "            If not None, it should be a file descriptor open to a directory,\n",
      "            and path should be relative; path will then be relative to that\n",
      "            directory.\n",
      "          effective_ids\n",
      "            If True, access will use the effective uid/gid instead of\n",
      "            the real uid/gid.\n",
      "          follow_symlinks\n",
      "            If False, and the last element of the path is a symbolic link,\n",
      "            access will examine the symbolic link itself instead of the file\n",
      "            the link points to.\n",
      "        \n",
      "        dir_fd, effective_ids, and follow_symlinks may not be implemented\n",
      "          on your platform.  If they are unavailable, using them will raise a\n",
      "          NotImplementedError.\n",
      "        \n",
      "        Note that most operations will use the effective uid/gid, therefore this\n",
      "          routine can be used in a suid/sgid environment to test if the invoking user\n",
      "          has the specified access to the path.\n",
      "    \n",
      "    chdir(path)\n",
      "        Change the current working directory to the specified path.\n",
      "        \n",
      "        path may always be specified as a string.\n",
      "        On some platforms, path may also be specified as an open file descriptor.\n",
      "          If this functionality is unavailable, using it raises an exception.\n",
      "    \n",
      "    chflags(path, flags, follow_symlinks=True)\n",
      "        Set file flags.\n",
      "        \n",
      "        If follow_symlinks is False, and the last element of the path is a symbolic\n",
      "          link, chflags will change flags on the symbolic link itself instead of the\n",
      "          file the link points to.\n",
      "        follow_symlinks may not be implemented on your platform.  If it is\n",
      "        unavailable, using it will raise a NotImplementedError.\n",
      "    \n",
      "    chmod(path, mode, *, dir_fd=None, follow_symlinks=True)\n",
      "        Change the access permissions of a file.\n",
      "        \n",
      "          path\n",
      "            Path to be modified.  May always be specified as a str, bytes, or a path-like object.\n",
      "            On some platforms, path may also be specified as an open file descriptor.\n",
      "            If this functionality is unavailable, using it raises an exception.\n",
      "          mode\n",
      "            Operating-system mode bitfield.\n",
      "          dir_fd\n",
      "            If not None, it should be a file descriptor open to a directory,\n",
      "            and path should be relative; path will then be relative to that\n",
      "            directory.\n",
      "          follow_symlinks\n",
      "            If False, and the last element of the path is a symbolic link,\n",
      "            chmod will modify the symbolic link itself instead of the file\n",
      "            the link points to.\n",
      "        \n",
      "        It is an error to use dir_fd or follow_symlinks when specifying path as\n",
      "          an open file descriptor.\n",
      "        dir_fd and follow_symlinks may not be implemented on your platform.\n",
      "          If they are unavailable, using them will raise a NotImplementedError.\n",
      "    \n",
      "    chown(path, uid, gid, *, dir_fd=None, follow_symlinks=True)\n",
      "        Change the owner and group id of path to the numeric uid and gid.\\\n",
      "        \n",
      "          path\n",
      "            Path to be examined; can be string, bytes, a path-like object, or open-file-descriptor int.\n",
      "          dir_fd\n",
      "            If not None, it should be a file descriptor open to a directory,\n",
      "            and path should be relative; path will then be relative to that\n",
      "            directory.\n",
      "          follow_symlinks\n",
      "            If False, and the last element of the path is a symbolic link,\n",
      "            stat will examine the symbolic link itself instead of the file\n",
      "            the link points to.\n",
      "        \n",
      "        path may always be specified as a string.\n",
      "        On some platforms, path may also be specified as an open file descriptor.\n",
      "          If this functionality is unavailable, using it raises an exception.\n",
      "        If dir_fd is not None, it should be a file descriptor open to a directory,\n",
      "          and path should be relative; path will then be relative to that directory.\n",
      "        If follow_symlinks is False, and the last element of the path is a symbolic\n",
      "          link, chown will modify the symbolic link itself instead of the file the\n",
      "          link points to.\n",
      "        It is an error to use dir_fd or follow_symlinks when specifying path as\n",
      "          an open file descriptor.\n",
      "        dir_fd and follow_symlinks may not be implemented on your platform.\n",
      "          If they are unavailable, using them will raise a NotImplementedError.\n",
      "    \n",
      "    chroot(path)\n",
      "        Change root directory to path.\n",
      "    \n",
      "    close(fd)\n",
      "        Close a file descriptor.\n",
      "    \n",
      "    closerange(fd_low, fd_high, /)\n",
      "        Closes all file descriptors in [fd_low, fd_high), ignoring errors.\n",
      "    \n",
      "    confstr(name, /)\n",
      "        Return a string-valued system configuration variable.\n",
      "    \n",
      "    cpu_count()\n",
      "        Return the number of CPUs in the system; return None if indeterminable.\n",
      "        \n",
      "        This number is not equivalent to the number of CPUs the current process can\n",
      "        use.  The number of usable CPUs can be obtained with\n",
      "        ``len(os.sched_getaffinity(0))``\n",
      "    \n",
      "    ctermid()\n",
      "        Return the name of the controlling terminal for this process.\n",
      "    \n",
      "    device_encoding(fd)\n",
      "        Return a string describing the encoding of a terminal's file descriptor.\n",
      "        \n",
      "        The file descriptor must be attached to a terminal.\n",
      "        If the device is not a terminal, return None.\n",
      "    \n",
      "    dup(fd, /)\n",
      "        Return a duplicate of a file descriptor.\n",
      "    \n",
      "    dup2(fd, fd2, inheritable=True)\n",
      "        Duplicate file descriptor.\n",
      "    \n",
      "    execl(file, *args)\n",
      "        execl(file, *args)\n",
      "        \n",
      "        Execute the executable file with argument list args, replacing the\n",
      "        current process.\n",
      "    \n",
      "    execle(file, *args)\n",
      "        execle(file, *args, env)\n",
      "        \n",
      "        Execute the executable file with argument list args and\n",
      "        environment env, replacing the current process.\n",
      "    \n",
      "    execlp(file, *args)\n",
      "        execlp(file, *args)\n",
      "        \n",
      "        Execute the executable file (which is searched for along $PATH)\n",
      "        with argument list args, replacing the current process.\n",
      "    \n",
      "    execlpe(file, *args)\n",
      "        execlpe(file, *args, env)\n",
      "        \n",
      "        Execute the executable file (which is searched for along $PATH)\n",
      "        with argument list args and environment env, replacing the current\n",
      "        process.\n",
      "    \n",
      "    execv(path, argv, /)\n",
      "        Execute an executable path with arguments, replacing current process.\n",
      "        \n",
      "        path\n",
      "          Path of executable file.\n",
      "        argv\n",
      "          Tuple or list of strings.\n",
      "    \n",
      "    execve(path, argv, env)\n",
      "        Execute an executable path with arguments, replacing current process.\n",
      "        \n",
      "        path\n",
      "          Path of executable file.\n",
      "        argv\n",
      "          Tuple or list of strings.\n",
      "        env\n",
      "          Dictionary of strings mapping to strings.\n",
      "    \n",
      "    execvp(file, args)\n",
      "        execvp(file, args)\n",
      "        \n",
      "        Execute the executable file (which is searched for along $PATH)\n",
      "        with argument list args, replacing the current process.\n",
      "        args may be a list or tuple of strings.\n",
      "    \n",
      "    execvpe(file, args, env)\n",
      "        execvpe(file, args, env)\n",
      "        \n",
      "        Execute the executable file (which is searched for along $PATH)\n",
      "        with argument list args and environment env, replacing the\n",
      "        current process.\n",
      "        args may be a list or tuple of strings.\n",
      "    \n",
      "    fchdir(fd)\n",
      "        Change to the directory of the given file descriptor.\n",
      "        \n",
      "        fd must be opened on a directory, not a file.\n",
      "        Equivalent to os.chdir(fd).\n",
      "    \n",
      "    fchmod(fd, mode)\n",
      "        Change the access permissions of the file given by file descriptor fd.\n",
      "        \n",
      "        Equivalent to os.chmod(fd, mode).\n",
      "    \n",
      "    fchown(fd, uid, gid)\n",
      "        Change the owner and group id of the file specified by file descriptor.\n",
      "        \n",
      "        Equivalent to os.chown(fd, uid, gid).\n",
      "    \n",
      "    fdopen(fd, mode='r', buffering=-1, encoding=None, *args, **kwargs)\n",
      "    \n",
      "    fork()\n",
      "        Fork a child process.\n",
      "        \n",
      "        Return 0 to child process and PID of child to parent process.\n",
      "    \n",
      "    forkpty()\n",
      "        Fork a new process with a new pseudo-terminal as controlling tty.\n",
      "        \n",
      "        Returns a tuple of (pid, master_fd).\n",
      "        Like fork(), return pid of 0 to the child process,\n",
      "        and pid of child to the parent process.\n",
      "        To both, return fd of newly opened pseudo-terminal.\n",
      "    \n",
      "    fpathconf(fd, name, /)\n",
      "        Return the configuration limit name for the file descriptor fd.\n",
      "        \n",
      "        If there is no limit, return -1.\n",
      "    \n",
      "    fsdecode(filename)\n",
      "        Decode filename (an os.PathLike, bytes, or str) from the filesystem\n",
      "        encoding with 'surrogateescape' error handler, return str unchanged. On\n",
      "        Windows, use 'strict' error handler if the file system encoding is\n",
      "        'mbcs' (which is the default encoding).\n",
      "    \n",
      "    fsencode(filename)\n",
      "        Encode filename (an os.PathLike, bytes, or str) to the filesystem\n",
      "        encoding with 'surrogateescape' error handler, return bytes unchanged.\n",
      "        On Windows, use 'strict' error handler if the file system encoding is\n",
      "        'mbcs' (which is the default encoding).\n",
      "    \n",
      "    fspath(path)\n",
      "        Return the file system path representation of the object.\n",
      "        \n",
      "        If the object is str or bytes, then allow it to pass through as-is. If the\n",
      "        object defines __fspath__(), then return the result of that method. All other\n",
      "        types raise a TypeError.\n",
      "    \n",
      "    fstat(fd)\n",
      "        Perform a stat system call on the given file descriptor.\n",
      "        \n",
      "        Like stat(), but for an open file descriptor.\n",
      "        Equivalent to os.stat(fd).\n",
      "    \n",
      "    fstatvfs(fd, /)\n",
      "        Perform an fstatvfs system call on the given fd.\n",
      "        \n",
      "        Equivalent to statvfs(fd).\n",
      "    \n",
      "    fsync(fd)\n",
      "        Force write of fd to disk.\n",
      "    \n",
      "    ftruncate(fd, length, /)\n",
      "        Truncate a file, specified by file descriptor, to a specific length.\n",
      "    \n",
      "    fwalk(top='.', topdown=True, onerror=None, *, follow_symlinks=False, dir_fd=None)\n",
      "        Directory tree generator.\n",
      "        \n",
      "        This behaves exactly like walk(), except that it yields a 4-tuple\n",
      "        \n",
      "            dirpath, dirnames, filenames, dirfd\n",
      "        \n",
      "        `dirpath`, `dirnames` and `filenames` are identical to walk() output,\n",
      "        and `dirfd` is a file descriptor referring to the directory `dirpath`.\n",
      "        \n",
      "        The advantage of fwalk() over walk() is that it's safe against symlink\n",
      "        races (when follow_symlinks is False).\n",
      "        \n",
      "        If dir_fd is not None, it should be a file descriptor open to a directory,\n",
      "          and top should be relative; top will then be relative to that directory.\n",
      "          (dir_fd is always supported for fwalk.)\n",
      "        \n",
      "        Caution:\n",
      "        Since fwalk() yields file descriptors, those are only valid until the\n",
      "        next iteration step, so you should dup() them if you want to keep them\n",
      "        for a longer period.\n",
      "        \n",
      "        Example:\n",
      "        \n",
      "        import os\n",
      "        for root, dirs, files, rootfd in os.fwalk('python/Lib/email'):\n",
      "            print(root, \"consumes\", end=\"\")\n",
      "            print(sum(os.stat(name, dir_fd=rootfd).st_size for name in files),\n",
      "                  end=\"\")\n",
      "            print(\"bytes in\", len(files), \"non-directory files\")\n",
      "            if 'CVS' in dirs:\n",
      "                dirs.remove('CVS')  # don't visit CVS directories\n",
      "    \n",
      "    get_blocking(fd, /)\n",
      "        Get the blocking mode of the file descriptor.\n",
      "        \n",
      "        Return False if the O_NONBLOCK flag is set, True if the flag is cleared.\n",
      "    \n",
      "    get_exec_path(env=None)\n",
      "        Returns the sequence of directories that will be searched for the\n",
      "        named executable (similar to a shell) when launching a process.\n",
      "        \n",
      "        *env* must be an environment variable dict or None.  If *env* is None,\n",
      "        os.environ will be used.\n",
      "    \n",
      "    get_inheritable(fd, /)\n",
      "        Get the close-on-exe flag of the specified file descriptor.\n",
      "    \n",
      "    get_terminal_size(...)\n",
      "        Return the size of the terminal window as (columns, lines).\n",
      "        \n",
      "        The optional argument fd (default standard output) specifies\n",
      "        which file descriptor should be queried.\n",
      "        \n",
      "        If the file descriptor is not connected to a terminal, an OSError\n",
      "        is thrown.\n",
      "        \n",
      "        This function will only be defined if an implementation is\n",
      "        available for this system.\n",
      "        \n",
      "        shutil.get_terminal_size is the high-level function which should\n",
      "        normally be used, os.get_terminal_size is the low-level implementation.\n",
      "    \n",
      "    getcwd()\n",
      "        Return a unicode string representing the current working directory.\n",
      "    \n",
      "    getcwdb()\n",
      "        Return a bytes string representing the current working directory.\n",
      "    \n",
      "    getegid()\n",
      "        Return the current process's effective group id.\n",
      "    \n",
      "    getenv(key, default=None)\n",
      "        Get an environment variable, return None if it doesn't exist.\n",
      "        The optional second argument can specify an alternate default.\n",
      "        key, default and the result are str.\n",
      "    \n",
      "    getenvb(key, default=None)\n",
      "        Get an environment variable, return None if it doesn't exist.\n",
      "        The optional second argument can specify an alternate default.\n",
      "        key, default and the result are bytes.\n",
      "    \n",
      "    geteuid()\n",
      "        Return the current process's effective user id.\n",
      "    \n",
      "    getgid()\n",
      "        Return the current process's group id.\n",
      "    \n",
      "    getgrouplist(user, group, /)\n",
      "        Returns a list of groups to which a user belongs.\n",
      "        \n",
      "        user\n",
      "          username to lookup\n",
      "        group\n",
      "          base group id of the user\n",
      "    \n",
      "    getgroups()\n",
      "        Return list of supplemental group IDs for the process.\n",
      "    \n",
      "    getloadavg()\n",
      "        Return average recent system load information.\n",
      "        \n",
      "        Return the number of processes in the system run queue averaged over\n",
      "        the last 1, 5, and 15 minutes as a tuple of three floats.\n",
      "        Raises OSError if the load average was unobtainable.\n",
      "    \n",
      "    getlogin()\n",
      "        Return the actual login name.\n",
      "    \n",
      "    getpgid(pid)\n",
      "        Call the system call getpgid(), and return the result.\n",
      "    \n",
      "    getpgrp()\n",
      "        Return the current process group id.\n",
      "    \n",
      "    getpid()\n",
      "        Return the current process id.\n",
      "    \n",
      "    getppid()\n",
      "        Return the parent's process id.\n",
      "        \n",
      "        If the parent process has already exited, Windows machines will still\n",
      "        return its id; others systems will return the id of the 'init' process (1).\n",
      "    \n",
      "    getpriority(which, who)\n",
      "        Return program scheduling priority.\n",
      "    \n",
      "    getsid(pid, /)\n",
      "        Call the system call getsid(pid) and return the result.\n",
      "    \n",
      "    getuid()\n",
      "        Return the current process's user id.\n",
      "    \n",
      "    initgroups(username, gid, /)\n",
      "        Initialize the group access list.\n",
      "        \n",
      "        Call the system initgroups() to initialize the group access list with all of\n",
      "        the groups of which the specified username is a member, plus the specified\n",
      "        group id.\n",
      "    \n",
      "    isatty(fd, /)\n",
      "        Return True if the fd is connected to a terminal.\n",
      "        \n",
      "        Return True if the file descriptor is an open file descriptor\n",
      "        connected to the slave end of a terminal.\n",
      "    \n",
      "    kill(pid, signal, /)\n",
      "        Kill a process with a signal.\n",
      "    \n",
      "    killpg(pgid, signal, /)\n",
      "        Kill a process group with a signal.\n",
      "    \n",
      "    lchflags(path, flags)\n",
      "        Set file flags.\n",
      "        \n",
      "        This function will not follow symbolic links.\n",
      "        Equivalent to chflags(path, flags, follow_symlinks=False).\n",
      "    \n",
      "    lchmod(path, mode)\n",
      "        Change the access permissions of a file, without following symbolic links.\n",
      "        \n",
      "        If path is a symlink, this affects the link itself rather than the target.\n",
      "        Equivalent to chmod(path, mode, follow_symlinks=False).\"\n",
      "    \n",
      "    lchown(path, uid, gid)\n",
      "        Change the owner and group id of path to the numeric uid and gid.\n",
      "        \n",
      "        This function will not follow symbolic links.\n",
      "        Equivalent to os.chown(path, uid, gid, follow_symlinks=False).\n",
      "    \n",
      "    link(src, dst, *, src_dir_fd=None, dst_dir_fd=None, follow_symlinks=True)\n",
      "        Create a hard link to a file.\n",
      "        \n",
      "        If either src_dir_fd or dst_dir_fd is not None, it should be a file\n",
      "          descriptor open to a directory, and the respective path string (src or dst)\n",
      "          should be relative; the path will then be relative to that directory.\n",
      "        If follow_symlinks is False, and the last element of src is a symbolic\n",
      "          link, link will create a link to the symbolic link itself instead of the\n",
      "          file the link points to.\n",
      "        src_dir_fd, dst_dir_fd, and follow_symlinks may not be implemented on your\n",
      "          platform.  If they are unavailable, using them will raise a\n",
      "          NotImplementedError.\n",
      "    \n",
      "    listdir(path=None)\n",
      "        Return a list containing the names of the files in the directory.\n",
      "        \n",
      "        path can be specified as either str, bytes, or a path-like object.  If path is bytes,\n",
      "          the filenames returned will also be bytes; in all other circumstances\n",
      "          the filenames returned will be str.\n",
      "        If path is None, uses the path='.'.\n",
      "        On some platforms, path may also be specified as an open file descriptor;\\\n",
      "          the file descriptor must refer to a directory.\n",
      "          If this functionality is unavailable, using it raises NotImplementedError.\n",
      "        \n",
      "        The list is in arbitrary order.  It does not include the special\n",
      "        entries '.' and '..' even if they are present in the directory.\n",
      "    \n",
      "    lockf(fd, command, length, /)\n",
      "        Apply, test or remove a POSIX lock on an open file descriptor.\n",
      "        \n",
      "        fd\n",
      "          An open file descriptor.\n",
      "        command\n",
      "          One of F_LOCK, F_TLOCK, F_ULOCK or F_TEST.\n",
      "        length\n",
      "          The number of bytes to lock, starting at the current position.\n",
      "    \n",
      "    login_tty(fd, /)\n",
      "        Prepare the tty of which fd is a file descriptor for a new login session.\n",
      "        \n",
      "        Make the calling process a session leader; make the tty the\n",
      "        controlling tty, the stdin, the stdout, and the stderr of the\n",
      "        calling process; close fd.\n",
      "    \n",
      "    lseek(fd, position, how, /)\n",
      "        Set the position of a file descriptor.  Return the new position.\n",
      "        \n",
      "        Return the new cursor position in number of bytes\n",
      "        relative to the beginning of the file.\n",
      "    \n",
      "    lstat(path, *, dir_fd=None)\n",
      "        Perform a stat system call on the given path, without following symbolic links.\n",
      "        \n",
      "        Like stat(), but do not follow symbolic links.\n",
      "        Equivalent to stat(path, follow_symlinks=False).\n",
      "    \n",
      "    major(device, /)\n",
      "        Extracts a device major number from a raw device number.\n",
      "    \n",
      "    makedev(major, minor, /)\n",
      "        Composes a raw device number from the major and minor device numbers.\n",
      "    \n",
      "    makedirs(name, mode=511, exist_ok=False)\n",
      "        makedirs(name [, mode=0o777][, exist_ok=False])\n",
      "        \n",
      "        Super-mkdir; create a leaf directory and all intermediate ones.  Works like\n",
      "        mkdir, except that any intermediate path segment (not just the rightmost)\n",
      "        will be created if it does not exist. If the target directory already\n",
      "        exists, raise an OSError if exist_ok is False. Otherwise no exception is\n",
      "        raised.  This is recursive.\n",
      "    \n",
      "    minor(device, /)\n",
      "        Extracts a device minor number from a raw device number.\n",
      "    \n",
      "    mkdir(path, mode=511, *, dir_fd=None)\n",
      "        Create a directory.\n",
      "        \n",
      "        If dir_fd is not None, it should be a file descriptor open to a directory,\n",
      "          and path should be relative; path will then be relative to that directory.\n",
      "        dir_fd may not be implemented on your platform.\n",
      "          If it is unavailable, using it will raise a NotImplementedError.\n",
      "        \n",
      "        The mode argument is ignored on Windows. Where it is used, the current umask\n",
      "        value is first masked out.\n",
      "    \n",
      "    mkfifo(path, mode=438, *, dir_fd=None)\n",
      "        Create a \"fifo\" (a POSIX named pipe).\n",
      "        \n",
      "        If dir_fd is not None, it should be a file descriptor open to a directory,\n",
      "          and path should be relative; path will then be relative to that directory.\n",
      "        dir_fd may not be implemented on your platform.\n",
      "          If it is unavailable, using it will raise a NotImplementedError.\n",
      "    \n",
      "    mknod(path, mode=384, device=0, *, dir_fd=None)\n",
      "        Create a node in the file system.\n",
      "        \n",
      "        Create a node in the file system (file, device special file or named pipe)\n",
      "        at path.  mode specifies both the permissions to use and the\n",
      "        type of node to be created, being combined (bitwise OR) with one of\n",
      "        S_IFREG, S_IFCHR, S_IFBLK, and S_IFIFO.  If S_IFCHR or S_IFBLK is set on mode,\n",
      "        device defines the newly created device special file (probably using\n",
      "        os.makedev()).  Otherwise device is ignored.\n",
      "        \n",
      "        If dir_fd is not None, it should be a file descriptor open to a directory,\n",
      "          and path should be relative; path will then be relative to that directory.\n",
      "        dir_fd may not be implemented on your platform.\n",
      "          If it is unavailable, using it will raise a NotImplementedError.\n",
      "    \n",
      "    nice(increment, /)\n",
      "        Add increment to the priority of process and return the new priority.\n",
      "    \n",
      "    open(path, flags, mode=511, *, dir_fd=None)\n",
      "        Open a file for low level IO.  Returns a file descriptor (integer).\n",
      "        \n",
      "        If dir_fd is not None, it should be a file descriptor open to a directory,\n",
      "          and path should be relative; path will then be relative to that directory.\n",
      "        dir_fd may not be implemented on your platform.\n",
      "          If it is unavailable, using it will raise a NotImplementedError.\n",
      "    \n",
      "    openpty()\n",
      "        Open a pseudo-terminal.\n",
      "        \n",
      "        Return a tuple of (master_fd, slave_fd) containing open file descriptors\n",
      "        for both the master and slave ends.\n",
      "    \n",
      "    pathconf(path, name)\n",
      "        Return the configuration limit name for the file or directory path.\n",
      "        \n",
      "        If there is no limit, return -1.\n",
      "        On some platforms, path may also be specified as an open file descriptor.\n",
      "          If this functionality is unavailable, using it raises an exception.\n",
      "    \n",
      "    pipe()\n",
      "        Create a pipe.\n",
      "        \n",
      "        Returns a tuple of two file descriptors:\n",
      "          (read_fd, write_fd)\n",
      "    \n",
      "    popen(cmd, mode='r', buffering=-1)\n",
      "    \n",
      "    posix_spawn(...)\n",
      "        Execute the program specified by path in a new process.\n",
      "        \n",
      "        path\n",
      "          Path of executable file.\n",
      "        argv\n",
      "          Tuple or list of strings.\n",
      "        env\n",
      "          Dictionary of strings mapping to strings.\n",
      "        file_actions\n",
      "          A sequence of file action tuples.\n",
      "        setpgroup\n",
      "          The pgroup to use with the POSIX_SPAWN_SETPGROUP flag.\n",
      "        resetids\n",
      "          If the value is `true` the POSIX_SPAWN_RESETIDS will be activated.\n",
      "        setsid\n",
      "          If the value is `true` the POSIX_SPAWN_SETSID or POSIX_SPAWN_SETSID_NP will be activated.\n",
      "        setsigmask\n",
      "          The sigmask to use with the POSIX_SPAWN_SETSIGMASK flag.\n",
      "        setsigdef\n",
      "          The sigmask to use with the POSIX_SPAWN_SETSIGDEF flag.\n",
      "        scheduler\n",
      "          A tuple with the scheduler policy (optional) and parameters.\n",
      "    \n",
      "    posix_spawnp(...)\n",
      "        Execute the program specified by path in a new process.\n",
      "        \n",
      "        path\n",
      "          Path of executable file.\n",
      "        argv\n",
      "          Tuple or list of strings.\n",
      "        env\n",
      "          Dictionary of strings mapping to strings.\n",
      "        file_actions\n",
      "          A sequence of file action tuples.\n",
      "        setpgroup\n",
      "          The pgroup to use with the POSIX_SPAWN_SETPGROUP flag.\n",
      "        resetids\n",
      "          If the value is `True` the POSIX_SPAWN_RESETIDS will be activated.\n",
      "        setsid\n",
      "          If the value is `True` the POSIX_SPAWN_SETSID or POSIX_SPAWN_SETSID_NP will be activated.\n",
      "        setsigmask\n",
      "          The sigmask to use with the POSIX_SPAWN_SETSIGMASK flag.\n",
      "        setsigdef\n",
      "          The sigmask to use with the POSIX_SPAWN_SETSIGDEF flag.\n",
      "        scheduler\n",
      "          A tuple with the scheduler policy (optional) and parameters.\n",
      "    \n",
      "    pread(fd, length, offset, /)\n",
      "        Read a number of bytes from a file descriptor starting at a particular offset.\n",
      "        \n",
      "        Read length bytes from file descriptor fd, starting at offset bytes from\n",
      "        the beginning of the file.  The file offset remains unchanged.\n",
      "    \n",
      "    putenv(name, value, /)\n",
      "        Change or add an environment variable.\n",
      "    \n",
      "    pwrite(fd, buffer, offset, /)\n",
      "        Write bytes to a file descriptor starting at a particular offset.\n",
      "        \n",
      "        Write buffer to fd, starting at offset bytes from the beginning of\n",
      "        the file.  Returns the number of bytes writte.  Does not change the\n",
      "        current file offset.\n",
      "    \n",
      "    read(fd, length, /)\n",
      "        Read from a file descriptor.  Returns a bytes object.\n",
      "    \n",
      "    readlink(path, *, dir_fd=None)\n",
      "        Return a string representing the path to which the symbolic link points.\n",
      "        \n",
      "        If dir_fd is not None, it should be a file descriptor open to a directory,\n",
      "        and path should be relative; path will then be relative to that directory.\n",
      "        \n",
      "        dir_fd may not be implemented on your platform.  If it is unavailable,\n",
      "        using it will raise a NotImplementedError.\n",
      "    \n",
      "    readv(fd, buffers, /)\n",
      "        Read from a file descriptor fd into an iterable of buffers.\n",
      "        \n",
      "        The buffers should be mutable buffers accepting bytes.\n",
      "        readv will transfer data into each buffer until it is full\n",
      "        and then move on to the next buffer in the sequence to hold\n",
      "        the rest of the data.\n",
      "        \n",
      "        readv returns the total number of bytes read,\n",
      "        which may be less than the total capacity of all the buffers.\n",
      "    \n",
      "    register_at_fork(...)\n",
      "        Register callables to be called when forking a new process.\n",
      "        \n",
      "          before\n",
      "            A callable to be called in the parent before the fork() syscall.\n",
      "          after_in_child\n",
      "            A callable to be called in the child after fork().\n",
      "          after_in_parent\n",
      "            A callable to be called in the parent after fork().\n",
      "        \n",
      "        'before' callbacks are called in reverse order.\n",
      "        'after_in_child' and 'after_in_parent' callbacks are called in order.\n",
      "    \n",
      "    remove(path, *, dir_fd=None)\n",
      "        Remove a file (same as unlink()).\n",
      "        \n",
      "        If dir_fd is not None, it should be a file descriptor open to a directory,\n",
      "          and path should be relative; path will then be relative to that directory.\n",
      "        dir_fd may not be implemented on your platform.\n",
      "          If it is unavailable, using it will raise a NotImplementedError.\n",
      "    \n",
      "    removedirs(name)\n",
      "        removedirs(name)\n",
      "        \n",
      "        Super-rmdir; remove a leaf directory and all empty intermediate\n",
      "        ones.  Works like rmdir except that, if the leaf directory is\n",
      "        successfully removed, directories corresponding to rightmost path\n",
      "        segments will be pruned away until either the whole path is\n",
      "        consumed or an error occurs.  Errors during this latter phase are\n",
      "        ignored -- they generally mean that a directory was not empty.\n",
      "    \n",
      "    rename(src, dst, *, src_dir_fd=None, dst_dir_fd=None)\n",
      "        Rename a file or directory.\n",
      "        \n",
      "        If either src_dir_fd or dst_dir_fd is not None, it should be a file\n",
      "          descriptor open to a directory, and the respective path string (src or dst)\n",
      "          should be relative; the path will then be relative to that directory.\n",
      "        src_dir_fd and dst_dir_fd, may not be implemented on your platform.\n",
      "          If they are unavailable, using them will raise a NotImplementedError.\n",
      "    \n",
      "    renames(old, new)\n",
      "        renames(old, new)\n",
      "        \n",
      "        Super-rename; create directories as necessary and delete any left\n",
      "        empty.  Works like rename, except creation of any intermediate\n",
      "        directories needed to make the new pathname good is attempted\n",
      "        first.  After the rename, directories corresponding to rightmost\n",
      "        path segments of the old name will be pruned until either the\n",
      "        whole path is consumed or a nonempty directory is found.\n",
      "        \n",
      "        Note: this function can fail with the new directory structure made\n",
      "        if you lack permissions needed to unlink the leaf directory or\n",
      "        file.\n",
      "    \n",
      "    replace(src, dst, *, src_dir_fd=None, dst_dir_fd=None)\n",
      "        Rename a file or directory, overwriting the destination.\n",
      "        \n",
      "        If either src_dir_fd or dst_dir_fd is not None, it should be a file\n",
      "          descriptor open to a directory, and the respective path string (src or dst)\n",
      "          should be relative; the path will then be relative to that directory.\n",
      "        src_dir_fd and dst_dir_fd, may not be implemented on your platform.\n",
      "          If they are unavailable, using them will raise a NotImplementedError.\n",
      "    \n",
      "    rmdir(path, *, dir_fd=None)\n",
      "        Remove a directory.\n",
      "        \n",
      "        If dir_fd is not None, it should be a file descriptor open to a directory,\n",
      "          and path should be relative; path will then be relative to that directory.\n",
      "        dir_fd may not be implemented on your platform.\n",
      "          If it is unavailable, using it will raise a NotImplementedError.\n",
      "    \n",
      "    scandir(path=None)\n",
      "        Return an iterator of DirEntry objects for given path.\n",
      "        \n",
      "        path can be specified as either str, bytes, or a path-like object.  If path\n",
      "        is bytes, the names of yielded DirEntry objects will also be bytes; in\n",
      "        all other circumstances they will be str.\n",
      "        \n",
      "        If path is None, uses the path='.'.\n",
      "    \n",
      "    sched_get_priority_max(policy)\n",
      "        Get the maximum scheduling priority for policy.\n",
      "    \n",
      "    sched_get_priority_min(policy)\n",
      "        Get the minimum scheduling priority for policy.\n",
      "    \n",
      "    sched_yield()\n",
      "        Voluntarily relinquish the CPU.\n",
      "    \n",
      "    sendfile(out_fd, in_fd, offset, count, headers=(), trailers=(), flags=0)\n",
      "        Copy count bytes from file descriptor in_fd to file descriptor out_fd.\n",
      "    \n",
      "    set_blocking(fd, blocking, /)\n",
      "        Set the blocking mode of the specified file descriptor.\n",
      "        \n",
      "        Set the O_NONBLOCK flag if blocking is False,\n",
      "        clear the O_NONBLOCK flag otherwise.\n",
      "    \n",
      "    set_inheritable(fd, inheritable, /)\n",
      "        Set the inheritable flag of the specified file descriptor.\n",
      "    \n",
      "    setegid(egid, /)\n",
      "        Set the current process's effective group id.\n",
      "    \n",
      "    seteuid(euid, /)\n",
      "        Set the current process's effective user id.\n",
      "    \n",
      "    setgid(gid, /)\n",
      "        Set the current process's group id.\n",
      "    \n",
      "    setgroups(groups, /)\n",
      "        Set the groups of the current process to list.\n",
      "    \n",
      "    setpgid(pid, pgrp, /)\n",
      "        Call the system call setpgid(pid, pgrp).\n",
      "    \n",
      "    setpgrp()\n",
      "        Make the current process the leader of its process group.\n",
      "    \n",
      "    setpriority(which, who, priority)\n",
      "        Set program scheduling priority.\n",
      "    \n",
      "    setregid(rgid, egid, /)\n",
      "        Set the current process's real and effective group ids.\n",
      "    \n",
      "    setreuid(ruid, euid, /)\n",
      "        Set the current process's real and effective user ids.\n",
      "    \n",
      "    setsid()\n",
      "        Call the system call setsid().\n",
      "    \n",
      "    setuid(uid, /)\n",
      "        Set the current process's user id.\n",
      "    \n",
      "    spawnl(mode, file, *args)\n",
      "        spawnl(mode, file, *args) -> integer\n",
      "        \n",
      "        Execute file with arguments from args in a subprocess.\n",
      "        If mode == P_NOWAIT return the pid of the process.\n",
      "        If mode == P_WAIT return the process's exit code if it exits normally;\n",
      "        otherwise return -SIG, where SIG is the signal that killed it.\n",
      "    \n",
      "    spawnle(mode, file, *args)\n",
      "        spawnle(mode, file, *args, env) -> integer\n",
      "        \n",
      "        Execute file with arguments from args in a subprocess with the\n",
      "        supplied environment.\n",
      "        If mode == P_NOWAIT return the pid of the process.\n",
      "        If mode == P_WAIT return the process's exit code if it exits normally;\n",
      "        otherwise return -SIG, where SIG is the signal that killed it.\n",
      "    \n",
      "    spawnlp(mode, file, *args)\n",
      "        spawnlp(mode, file, *args) -> integer\n",
      "        \n",
      "        Execute file (which is looked for along $PATH) with arguments from\n",
      "        args in a subprocess with the supplied environment.\n",
      "        If mode == P_NOWAIT return the pid of the process.\n",
      "        If mode == P_WAIT return the process's exit code if it exits normally;\n",
      "        otherwise return -SIG, where SIG is the signal that killed it.\n",
      "    \n",
      "    spawnlpe(mode, file, *args)\n",
      "        spawnlpe(mode, file, *args, env) -> integer\n",
      "        \n",
      "        Execute file (which is looked for along $PATH) with arguments from\n",
      "        args in a subprocess with the supplied environment.\n",
      "        If mode == P_NOWAIT return the pid of the process.\n",
      "        If mode == P_WAIT return the process's exit code if it exits normally;\n",
      "        otherwise return -SIG, where SIG is the signal that killed it.\n",
      "    \n",
      "    spawnv(mode, file, args)\n",
      "        spawnv(mode, file, args) -> integer\n",
      "        \n",
      "        Execute file with arguments from args in a subprocess.\n",
      "        If mode == P_NOWAIT return the pid of the process.\n",
      "        If mode == P_WAIT return the process's exit code if it exits normally;\n",
      "        otherwise return -SIG, where SIG is the signal that killed it.\n",
      "    \n",
      "    spawnve(mode, file, args, env)\n",
      "        spawnve(mode, file, args, env) -> integer\n",
      "        \n",
      "        Execute file with arguments from args in a subprocess with the\n",
      "        specified environment.\n",
      "        If mode == P_NOWAIT return the pid of the process.\n",
      "        If mode == P_WAIT return the process's exit code if it exits normally;\n",
      "        otherwise return -SIG, where SIG is the signal that killed it.\n",
      "    \n",
      "    spawnvp(mode, file, args)\n",
      "        spawnvp(mode, file, args) -> integer\n",
      "        \n",
      "        Execute file (which is looked for along $PATH) with arguments from\n",
      "        args in a subprocess.\n",
      "        If mode == P_NOWAIT return the pid of the process.\n",
      "        If mode == P_WAIT return the process's exit code if it exits normally;\n",
      "        otherwise return -SIG, where SIG is the signal that killed it.\n",
      "    \n",
      "    spawnvpe(mode, file, args, env)\n",
      "        spawnvpe(mode, file, args, env) -> integer\n",
      "        \n",
      "        Execute file (which is looked for along $PATH) with arguments from\n",
      "        args in a subprocess with the supplied environment.\n",
      "        If mode == P_NOWAIT return the pid of the process.\n",
      "        If mode == P_WAIT return the process's exit code if it exits normally;\n",
      "        otherwise return -SIG, where SIG is the signal that killed it.\n",
      "    \n",
      "    stat(path, *, dir_fd=None, follow_symlinks=True)\n",
      "        Perform a stat system call on the given path.\n",
      "        \n",
      "          path\n",
      "            Path to be examined; can be string, bytes, a path-like object or\n",
      "            open-file-descriptor int.\n",
      "          dir_fd\n",
      "            If not None, it should be a file descriptor open to a directory,\n",
      "            and path should be a relative string; path will then be relative to\n",
      "            that directory.\n",
      "          follow_symlinks\n",
      "            If False, and the last element of the path is a symbolic link,\n",
      "            stat will examine the symbolic link itself instead of the file\n",
      "            the link points to.\n",
      "        \n",
      "        dir_fd and follow_symlinks may not be implemented\n",
      "          on your platform.  If they are unavailable, using them will raise a\n",
      "          NotImplementedError.\n",
      "        \n",
      "        It's an error to use dir_fd or follow_symlinks when specifying path as\n",
      "          an open file descriptor.\n",
      "    \n",
      "    statvfs(path)\n",
      "        Perform a statvfs system call on the given path.\n",
      "        \n",
      "        path may always be specified as a string.\n",
      "        On some platforms, path may also be specified as an open file descriptor.\n",
      "          If this functionality is unavailable, using it raises an exception.\n",
      "    \n",
      "    strerror(code, /)\n",
      "        Translate an error code to a message string.\n",
      "    \n",
      "    symlink(src, dst, target_is_directory=False, *, dir_fd=None)\n",
      "        Create a symbolic link pointing to src named dst.\n",
      "        \n",
      "        target_is_directory is required on Windows if the target is to be\n",
      "          interpreted as a directory.  (On Windows, symlink requires\n",
      "          Windows 6.0 or greater, and raises a NotImplementedError otherwise.)\n",
      "          target_is_directory is ignored on non-Windows platforms.\n",
      "        \n",
      "        If dir_fd is not None, it should be a file descriptor open to a directory,\n",
      "          and path should be relative; path will then be relative to that directory.\n",
      "        dir_fd may not be implemented on your platform.\n",
      "          If it is unavailable, using it will raise a NotImplementedError.\n",
      "    \n",
      "    sync()\n",
      "        Force write of everything to disk.\n",
      "    \n",
      "    sysconf(name, /)\n",
      "        Return an integer-valued system configuration variable.\n",
      "    \n",
      "    system(command)\n",
      "        Execute the command in a subshell.\n",
      "    \n",
      "    tcgetpgrp(fd, /)\n",
      "        Return the process group associated with the terminal specified by fd.\n",
      "    \n",
      "    tcsetpgrp(fd, pgid, /)\n",
      "        Set the process group associated with the terminal specified by fd.\n",
      "    \n",
      "    times()\n",
      "        Return a collection containing process timing information.\n",
      "        \n",
      "        The object returned behaves like a named tuple with these fields:\n",
      "          (utime, stime, cutime, cstime, elapsed_time)\n",
      "        All fields are floating point numbers.\n",
      "    \n",
      "    truncate(path, length)\n",
      "        Truncate a file, specified by path, to a specific length.\n",
      "        \n",
      "        On some platforms, path may also be specified as an open file descriptor.\n",
      "          If this functionality is unavailable, using it raises an exception.\n",
      "    \n",
      "    ttyname(fd, /)\n",
      "        Return the name of the terminal device connected to 'fd'.\n",
      "        \n",
      "        fd\n",
      "          Integer file descriptor handle.\n",
      "    \n",
      "    umask(mask, /)\n",
      "        Set the current numeric umask and return the previous umask.\n",
      "    \n",
      "    uname()\n",
      "        Return an object identifying the current operating system.\n",
      "        \n",
      "        The object behaves like a named tuple with the following fields:\n",
      "          (sysname, nodename, release, version, machine)\n",
      "    \n",
      "    unlink(path, *, dir_fd=None)\n",
      "        Remove a file (same as remove()).\n",
      "        \n",
      "        If dir_fd is not None, it should be a file descriptor open to a directory,\n",
      "          and path should be relative; path will then be relative to that directory.\n",
      "        dir_fd may not be implemented on your platform.\n",
      "          If it is unavailable, using it will raise a NotImplementedError.\n",
      "    \n",
      "    unsetenv(name, /)\n",
      "        Delete an environment variable.\n",
      "    \n",
      "    urandom(size, /)\n",
      "        Return a bytes object containing random bytes suitable for cryptographic use.\n",
      "    \n",
      "    utime(...)\n",
      "        Set the access and modified time of path.\n",
      "        \n",
      "        path may always be specified as a string.\n",
      "        On some platforms, path may also be specified as an open file descriptor.\n",
      "          If this functionality is unavailable, using it raises an exception.\n",
      "        \n",
      "        If times is not None, it must be a tuple (atime, mtime);\n",
      "            atime and mtime should be expressed as float seconds since the epoch.\n",
      "        If ns is specified, it must be a tuple (atime_ns, mtime_ns);\n",
      "            atime_ns and mtime_ns should be expressed as integer nanoseconds\n",
      "            since the epoch.\n",
      "        If times is None and ns is unspecified, utime uses the current time.\n",
      "        Specifying tuples for both times and ns is an error.\n",
      "        \n",
      "        If dir_fd is not None, it should be a file descriptor open to a directory,\n",
      "          and path should be relative; path will then be relative to that directory.\n",
      "        If follow_symlinks is False, and the last element of the path is a symbolic\n",
      "          link, utime will modify the symbolic link itself instead of the file the\n",
      "          link points to.\n",
      "        It is an error to use dir_fd or follow_symlinks when specifying path\n",
      "          as an open file descriptor.\n",
      "        dir_fd and follow_symlinks may not be available on your platform.\n",
      "          If they are unavailable, using them will raise a NotImplementedError.\n",
      "    \n",
      "    wait()\n",
      "        Wait for completion of a child process.\n",
      "        \n",
      "        Returns a tuple of information about the child process:\n",
      "            (pid, status)\n",
      "    \n",
      "    wait3(options)\n",
      "        Wait for completion of a child process.\n",
      "        \n",
      "        Returns a tuple of information about the child process:\n",
      "          (pid, status, rusage)\n",
      "    \n",
      "    wait4(pid, options)\n",
      "        Wait for completion of a specific child process.\n",
      "        \n",
      "        Returns a tuple of information about the child process:\n",
      "          (pid, status, rusage)\n",
      "    \n",
      "    waitpid(pid, options, /)\n",
      "        Wait for completion of a given child process.\n",
      "        \n",
      "        Returns a tuple of information regarding the child process:\n",
      "            (pid, status)\n",
      "        \n",
      "        The options argument is ignored on Windows.\n",
      "    \n",
      "    waitstatus_to_exitcode(status)\n",
      "        Convert a wait status to an exit code.\n",
      "        \n",
      "        On Unix:\n",
      "        \n",
      "        * If WIFEXITED(status) is true, return WEXITSTATUS(status).\n",
      "        * If WIFSIGNALED(status) is true, return -WTERMSIG(status).\n",
      "        * Otherwise, raise a ValueError.\n",
      "        \n",
      "        On Windows, return status shifted right by 8 bits.\n",
      "        \n",
      "        On Unix, if the process is being traced or if waitpid() was called with\n",
      "        WUNTRACED option, the caller must first check if WIFSTOPPED(status) is true.\n",
      "        This function must not be called if WIFSTOPPED(status) is true.\n",
      "    \n",
      "    walk(top, topdown=True, onerror=None, followlinks=False)\n",
      "        Directory tree generator.\n",
      "        \n",
      "        For each directory in the directory tree rooted at top (including top\n",
      "        itself, but excluding '.' and '..'), yields a 3-tuple\n",
      "        \n",
      "            dirpath, dirnames, filenames\n",
      "        \n",
      "        dirpath is a string, the path to the directory.  dirnames is a list of\n",
      "        the names of the subdirectories in dirpath (including symlinks to directories,\n",
      "        and excluding '.' and '..').\n",
      "        filenames is a list of the names of the non-directory files in dirpath.\n",
      "        Note that the names in the lists are just names, with no path components.\n",
      "        To get a full path (which begins with top) to a file or directory in\n",
      "        dirpath, do os.path.join(dirpath, name).\n",
      "        \n",
      "        If optional arg 'topdown' is true or not specified, the triple for a\n",
      "        directory is generated before the triples for any of its subdirectories\n",
      "        (directories are generated top down).  If topdown is false, the triple\n",
      "        for a directory is generated after the triples for all of its\n",
      "        subdirectories (directories are generated bottom up).\n",
      "        \n",
      "        When topdown is true, the caller can modify the dirnames list in-place\n",
      "        (e.g., via del or slice assignment), and walk will only recurse into the\n",
      "        subdirectories whose names remain in dirnames; this can be used to prune the\n",
      "        search, or to impose a specific order of visiting.  Modifying dirnames when\n",
      "        topdown is false has no effect on the behavior of os.walk(), since the\n",
      "        directories in dirnames have already been generated by the time dirnames\n",
      "        itself is generated. No matter the value of topdown, the list of\n",
      "        subdirectories is retrieved before the tuples for the directory and its\n",
      "        subdirectories are generated.\n",
      "        \n",
      "        By default errors from the os.scandir() call are ignored.  If\n",
      "        optional arg 'onerror' is specified, it should be a function; it\n",
      "        will be called with one argument, an OSError instance.  It can\n",
      "        report the error to continue with the walk, or raise the exception\n",
      "        to abort the walk.  Note that the filename is available as the\n",
      "        filename attribute of the exception object.\n",
      "        \n",
      "        By default, os.walk does not follow symbolic links to subdirectories on\n",
      "        systems that support them.  In order to get this functionality, set the\n",
      "        optional argument 'followlinks' to true.\n",
      "        \n",
      "        Caution:  if you pass a relative pathname for top, don't change the\n",
      "        current working directory between resumptions of walk.  walk never\n",
      "        changes the current directory, and assumes that the client doesn't\n",
      "        either.\n",
      "        \n",
      "        Example:\n",
      "        \n",
      "        import os\n",
      "        from os.path import join, getsize\n",
      "        for root, dirs, files in os.walk('python/Lib/email'):\n",
      "            print(root, \"consumes \")\n",
      "            print(sum(getsize(join(root, name)) for name in files), end=\" \")\n",
      "            print(\"bytes in\", len(files), \"non-directory files\")\n",
      "            if 'CVS' in dirs:\n",
      "                dirs.remove('CVS')  # don't visit CVS directories\n",
      "    \n",
      "    write(fd, data, /)\n",
      "        Write a bytes object to a file descriptor.\n",
      "    \n",
      "    writev(fd, buffers, /)\n",
      "        Iterate over buffers, and write the contents of each to a file descriptor.\n",
      "        \n",
      "        Returns the total number of bytes written.\n",
      "        buffers must be a sequence of bytes-like objects.\n",
      "\n",
      "DATA\n",
      "    CLD_CONTINUED = 6\n",
      "    CLD_DUMPED = 3\n",
      "    CLD_EXITED = 1\n",
      "    CLD_KILLED = 2\n",
      "    CLD_STOPPED = 5\n",
      "    CLD_TRAPPED = 4\n",
      "    EX_CANTCREAT = 73\n",
      "    EX_CONFIG = 78\n",
      "    EX_DATAERR = 65\n",
      "    EX_IOERR = 74\n",
      "    EX_NOHOST = 68\n",
      "    EX_NOINPUT = 66\n",
      "    EX_NOPERM = 77\n",
      "    EX_NOUSER = 67\n",
      "    EX_OK = 0\n",
      "    EX_OSERR = 71\n",
      "    EX_OSFILE = 72\n",
      "    EX_PROTOCOL = 76\n",
      "    EX_SOFTWARE = 70\n",
      "    EX_TEMPFAIL = 75\n",
      "    EX_UNAVAILABLE = 69\n",
      "    EX_USAGE = 64\n",
      "    F_LOCK = 1\n",
      "    F_OK = 0\n",
      "    F_TEST = 3\n",
      "    F_TLOCK = 2\n",
      "    F_ULOCK = 0\n",
      "    NGROUPS_MAX = 16\n",
      "    O_ACCMODE = 3\n",
      "    O_APPEND = 8\n",
      "    O_ASYNC = 64\n",
      "    O_CLOEXEC = 16777216\n",
      "    O_CREAT = 512\n",
      "    O_DIRECTORY = 1048576\n",
      "    O_DSYNC = 4194304\n",
      "    O_EVTONLY = 32768\n",
      "    O_EXCL = 2048\n",
      "    O_EXLOCK = 32\n",
      "    O_FSYNC = 128\n",
      "    O_NDELAY = 4\n",
      "    O_NOCTTY = 131072\n",
      "    O_NOFOLLOW = 256\n",
      "    O_NONBLOCK = 4\n",
      "    O_RDONLY = 0\n",
      "    O_RDWR = 2\n",
      "    O_SHLOCK = 16\n",
      "    O_SYMLINK = 2097152\n",
      "    O_SYNC = 128\n",
      "    O_TRUNC = 1024\n",
      "    O_WRONLY = 1\n",
      "    POSIX_SPAWN_CLOSE = 1\n",
      "    POSIX_SPAWN_DUP2 = 2\n",
      "    POSIX_SPAWN_OPEN = 0\n",
      "    PRIO_PGRP = 1\n",
      "    PRIO_PROCESS = 0\n",
      "    PRIO_USER = 2\n",
      "    P_ALL = 0\n",
      "    P_NOWAIT = 1\n",
      "    P_NOWAITO = 1\n",
      "    P_PGID = 2\n",
      "    P_PID = 1\n",
      "    P_WAIT = 0\n",
      "    RTLD_GLOBAL = 8\n",
      "    RTLD_LAZY = 1\n",
      "    RTLD_LOCAL = 4\n",
      "    RTLD_NODELETE = 128\n",
      "    RTLD_NOLOAD = 16\n",
      "    RTLD_NOW = 2\n",
      "    R_OK = 4\n",
      "    SCHED_FIFO = 4\n",
      "    SCHED_OTHER = 1\n",
      "    SCHED_RR = 2\n",
      "    SEEK_CUR = 1\n",
      "    SEEK_DATA = 4\n",
      "    SEEK_END = 2\n",
      "    SEEK_HOLE = 3\n",
      "    SEEK_SET = 0\n",
      "    ST_NOSUID = 2\n",
      "    ST_RDONLY = 1\n",
      "    TMP_MAX = 308915776\n",
      "    WCONTINUED = 16\n",
      "    WEXITED = 4\n",
      "    WNOHANG = 1\n",
      "    WNOWAIT = 32\n",
      "    WSTOPPED = 8\n",
      "    WUNTRACED = 2\n",
      "    W_OK = 2\n",
      "    X_OK = 1\n",
      "    __all__ = ['altsep', 'curdir', 'pardir', 'sep', 'pathsep', 'linesep', ...\n",
      "    altsep = None\n",
      "    confstr_names = {'CS_PATH': 1, 'CS_XBS5_ILP32_OFF32_CFLAGS': 20, 'CS_X...\n",
      "    curdir = '.'\n",
      "    defpath = '/bin:/usr/bin'\n",
      "    devnull = '/dev/null'\n",
      "    environ = environ({'TERM_PROGRAM': 'Apple_Terminal', 'SHEL...D': 'modu...\n",
      "    environb = environ({b'TERM_PROGRAM': b'Apple_Terminal', b'S...': b'mod...\n",
      "    extsep = '.'\n",
      "    linesep = '\\n'\n",
      "    name = 'posix'\n",
      "    pardir = '..'\n",
      "    pathconf_names = {'PC_ALLOC_SIZE_MIN': 16, 'PC_ASYNC_IO': 17, 'PC_CHOW...\n",
      "    pathsep = ':'\n",
      "    sep = '/'\n",
      "    supports_bytes_environ = True\n",
      "    sysconf_names = {'SC_2_CHAR_TERM': 20, 'SC_2_C_BIND': 18, 'SC_2_C_DEV'...\n",
      "\n",
      "FILE\n",
      "    /Users/andrespadronquintana/anaconda3/lib/python3.11/os.py\n",
      "\n",
      "\n"
     ]
    }
   ],
   "source": [
    "help(os)"
   ]
  },
  {
   "cell_type": "code",
   "execution_count": 22,
   "id": "9dca68de",
   "metadata": {},
   "outputs": [
    {
     "data": {
      "text/plain": [
       "'/Users/andrespadronquintana/Desktop/DIPLOMADO MACHINE LEARNING DS/MÓDULO 1'"
      ]
     },
     "execution_count": 22,
     "metadata": {},
     "output_type": "execute_result"
    }
   ],
   "source": [
    "os.getcwd()"
   ]
  },
  {
   "cell_type": "code",
   "execution_count": 23,
   "id": "be574c29",
   "metadata": {},
   "outputs": [
    {
     "data": {
      "text/plain": [
       "'/Users/andrespadronquintana/Desktop/DIPLOMADO MACHINE LEARNING DS/MÓDULO 1'"
      ]
     },
     "execution_count": 23,
     "metadata": {},
     "output_type": "execute_result"
    }
   ],
   "source": [
    "pwd"
   ]
  },
  {
   "cell_type": "code",
   "execution_count": null,
   "id": "ca98231a",
   "metadata": {
    "scrolled": true
   },
   "outputs": [],
   "source": [
    "os.listdir(\"../\")\n",
    "#os.listdir()"
   ]
  },
  {
   "cell_type": "code",
   "execution_count": null,
   "id": "a974eb2e",
   "metadata": {},
   "outputs": [],
   "source": [
    "#pueden escribir carpeta también desdea aquí\n",
    "os.mkdir(\"prueba\")"
   ]
  },
  {
   "cell_type": "code",
   "execution_count": null,
   "id": "2666e118",
   "metadata": {
    "scrolled": true
   },
   "outputs": [],
   "source": [
    "os.listdir()"
   ]
  },
  {
   "cell_type": "code",
   "execution_count": null,
   "id": "8c93ec66",
   "metadata": {},
   "outputs": [],
   "source": [
    "#si quiero elimiar la carpeta\n",
    "os.removedirs(\"prueba\")"
   ]
  },
  {
   "cell_type": "code",
   "execution_count": null,
   "id": "ac2b01ac",
   "metadata": {},
   "outputs": [],
   "source": [
    "#voy a verificar si está o no está. Y ya no aparece. \n",
    "os.listdir()"
   ]
  },
  {
   "cell_type": "code",
   "execution_count": null,
   "id": "e74770f6",
   "metadata": {},
   "outputs": [],
   "source": [
    "# también podemos accederr a la carpeta actual así\n",
    "os.listdir(\".\\\\\")"
   ]
  },
  {
   "cell_type": "code",
   "execution_count": null,
   "id": "c3e996f5",
   "metadata": {},
   "outputs": [],
   "source": [
    "# cambiar la path\n",
    "\n",
    "nueva_path = \"C:\\\\Users\\\\artur\\\\Documents\\\\DS_ML - ITAM\"\n",
    "\n",
    "os.chdir(nueva_path)"
   ]
  },
  {
   "cell_type": "code",
   "execution_count": null,
   "id": "40ba8f70",
   "metadata": {},
   "outputs": [],
   "source": [
    "os.getcwd()"
   ]
  },
  {
   "cell_type": "markdown",
   "id": "33160ce0",
   "metadata": {},
   "source": [
    "## Otros módulos *Standard* Library"
   ]
  },
  {
   "cell_type": "markdown",
   "id": "df138ea2",
   "metadata": {},
   "source": [
    "## Collections\n",
    "El módulo [collection](https://docs.python.org/3.6/library/collections.html#collections.Counter) implementa colecciones especializadas como alternativas incluidas en Python: `dict`, `list`, `set` y `tuples`."
   ]
  },
  {
   "cell_type": "code",
   "execution_count": 24,
   "id": "57dcbdb1",
   "metadata": {},
   "outputs": [],
   "source": [
    "from collections import Counter"
   ]
  },
  {
   "cell_type": "code",
   "execution_count": 25,
   "id": "755ffd09",
   "metadata": {},
   "outputs": [],
   "source": [
    "c1 = Counter(\"aabbbddd222ccdddeeeee\")"
   ]
  },
  {
   "cell_type": "code",
   "execution_count": 26,
   "id": "466349e1",
   "metadata": {},
   "outputs": [
    {
     "data": {
      "text/plain": [
       "Counter({'a': 2, 'b': 3, 'd': 6, '2': 3, 'c': 2, 'e': 5})"
      ]
     },
     "execution_count": 26,
     "metadata": {},
     "output_type": "execute_result"
    }
   ],
   "source": [
    "c1"
   ]
  },
  {
   "cell_type": "code",
   "execution_count": 27,
   "id": "75be6588",
   "metadata": {},
   "outputs": [
    {
     "data": {
      "text/plain": [
       "collections.Counter"
      ]
     },
     "execution_count": 27,
     "metadata": {},
     "output_type": "execute_result"
    }
   ],
   "source": [
    "type(c1)"
   ]
  },
  {
   "cell_type": "code",
   "execution_count": 28,
   "id": "e26a3bc1",
   "metadata": {},
   "outputs": [
    {
     "data": {
      "text/plain": [
       "2"
      ]
     },
     "execution_count": 28,
     "metadata": {},
     "output_type": "execute_result"
    }
   ],
   "source": [
    "c1[\"a\"]"
   ]
  },
  {
   "cell_type": "code",
   "execution_count": 29,
   "id": "47141512",
   "metadata": {},
   "outputs": [
    {
     "ename": "KeyError",
     "evalue": "'A'",
     "output_type": "error",
     "traceback": [
      "\u001b[0;31m---------------------------------------------------------------------------\u001b[0m",
      "\u001b[0;31mKeyError\u001b[0m                                  Traceback (most recent call last)",
      "Cell \u001b[0;32mIn[29], line 3\u001b[0m\n\u001b[1;32m      1\u001b[0m test \u001b[38;5;241m=\u001b[39m {\u001b[38;5;124m'\u001b[39m\u001b[38;5;124ma\u001b[39m\u001b[38;5;124m'\u001b[39m: \u001b[38;5;241m2\u001b[39m, \u001b[38;5;124m'\u001b[39m\u001b[38;5;124mb\u001b[39m\u001b[38;5;124m'\u001b[39m: \u001b[38;5;241m3\u001b[39m, \u001b[38;5;124m'\u001b[39m\u001b[38;5;124md\u001b[39m\u001b[38;5;124m'\u001b[39m: \u001b[38;5;241m6\u001b[39m, \u001b[38;5;124m'\u001b[39m\u001b[38;5;124m2\u001b[39m\u001b[38;5;124m'\u001b[39m: \u001b[38;5;241m3\u001b[39m, \u001b[38;5;124m'\u001b[39m\u001b[38;5;124mc\u001b[39m\u001b[38;5;124m'\u001b[39m: \u001b[38;5;241m2\u001b[39m, \u001b[38;5;124m'\u001b[39m\u001b[38;5;124me\u001b[39m\u001b[38;5;124m'\u001b[39m: \u001b[38;5;241m5\u001b[39m}\n\u001b[0;32m----> 3\u001b[0m test[\u001b[38;5;124m\"\u001b[39m\u001b[38;5;124mA\u001b[39m\u001b[38;5;124m\"\u001b[39m]\n",
      "\u001b[0;31mKeyError\u001b[0m: 'A'"
     ]
    }
   ],
   "source": [
    "test = {'a': 2, 'b': 3, 'd': 6, '2': 3, 'c': 2, 'e': 5}\n",
    "\n",
    "test[\"A\"] # no está por eso marca error"
   ]
  },
  {
   "cell_type": "code",
   "execution_count": 30,
   "id": "abe1d407",
   "metadata": {},
   "outputs": [
    {
     "data": {
      "text/plain": [
       "0"
      ]
     },
     "execution_count": 30,
     "metadata": {},
     "output_type": "execute_result"
    }
   ],
   "source": [
    "c1[\"A\"] # no me da error"
   ]
  },
  {
   "cell_type": "code",
   "execution_count": 31,
   "id": "2afb6756",
   "metadata": {},
   "outputs": [
    {
     "data": {
      "text/plain": [
       "0"
      ]
     },
     "execution_count": 31,
     "metadata": {},
     "output_type": "execute_result"
    }
   ],
   "source": [
    "c1[\"x\"]"
   ]
  },
  {
   "cell_type": "markdown",
   "id": "983643e1",
   "metadata": {},
   "source": [
    "¿Cómo hacemos este tipo de cálculos sin usar Counter?"
   ]
  },
  {
   "cell_type": "code",
   "execution_count": 32,
   "id": "98502ed9",
   "metadata": {},
   "outputs": [
    {
     "data": {
      "text/plain": [
       "{'a': 2, 'e': 5, 'b': 3, 'd': 6, 'c': 2}"
      ]
     },
     "execution_count": 32,
     "metadata": {},
     "output_type": "execute_result"
    }
   ],
   "source": [
    "cadena = \"aabbbdddccdddeeeee\"\n",
    "\n",
    "result = {}\n",
    "\n",
    "for c in set(cadena):\n",
    "    result[c] = cadena.count(c)\n",
    "    \n",
    "result"
   ]
  },
  {
   "cell_type": "code",
   "execution_count": 33,
   "id": "01d5510e",
   "metadata": {},
   "outputs": [
    {
     "data": {
      "text/plain": [
       "{'a': 2, 'e': 5, 'b': 3, 'd': 6, 'c': 2}"
      ]
     },
     "execution_count": 33,
     "metadata": {},
     "output_type": "execute_result"
    }
   ],
   "source": [
    "{c : cadena.count(c) for c in set(cadena)}"
   ]
  },
  {
   "cell_type": "code",
   "execution_count": 34,
   "id": "51d3411f",
   "metadata": {},
   "outputs": [
    {
     "data": {
      "text/plain": [
       "2"
      ]
     },
     "execution_count": 34,
     "metadata": {},
     "output_type": "execute_result"
    }
   ],
   "source": [
    "result[\"a\"]"
   ]
  },
  {
   "cell_type": "code",
   "execution_count": 35,
   "id": "1f353862",
   "metadata": {},
   "outputs": [
    {
     "ename": "KeyError",
     "evalue": "'z'",
     "output_type": "error",
     "traceback": [
      "\u001b[0;31m---------------------------------------------------------------------------\u001b[0m",
      "\u001b[0;31mKeyError\u001b[0m                                  Traceback (most recent call last)",
      "Cell \u001b[0;32mIn[35], line 1\u001b[0m\n\u001b[0;32m----> 1\u001b[0m result[\u001b[38;5;124m\"\u001b[39m\u001b[38;5;124mz\u001b[39m\u001b[38;5;124m\"\u001b[39m]\n",
      "\u001b[0;31mKeyError\u001b[0m: 'z'"
     ]
    }
   ],
   "source": [
    "result[\"z\"]"
   ]
  },
  {
   "cell_type": "markdown",
   "id": "c16d346d",
   "metadata": {},
   "source": [
    "## Defaultdict"
   ]
  },
  {
   "cell_type": "markdown",
   "id": "2e362b4c",
   "metadata": {},
   "source": [
    "Un `defaultdict` es un pseudo-diccionario de Python que nos permite manipular la entrada de cualquier nuevo elemento en el diccionario sin necesidad de declararlo como nuevo explícitamente"
   ]
  },
  {
   "cell_type": "markdown",
   "id": "48b18366",
   "metadata": {},
   "source": [
    "Ejemplo: Supongamos que queremos crear paso a paso un diccionario llamado `instrumentos` con tipos y subtipos de instrumentos financiero; algo como lo siguiente:\n",
    "\n",
    "```python\n",
    "{ 'derivados': ['opciones', 'forwards', 'swaps'],\n",
    "  'deuda': ['bonosM', 'cetes'],\n",
    "  'bursatil': ['AAPL', 'GOOG'] }\n",
    "```"
   ]
  },
  {
   "cell_type": "code",
   "execution_count": 36,
   "id": "a0925e15",
   "metadata": {},
   "outputs": [
    {
     "data": {
      "text/plain": [
       "{'derivados': ['opciones']}"
      ]
     },
     "execution_count": 36,
     "metadata": {},
     "output_type": "execute_result"
    }
   ],
   "source": [
    "#como lo haríamos sin conocer defaultdict\n",
    "instrumentos = {}\n",
    "#quieren agregar opciones a la llave derivados\n",
    "\n",
    "#tendrían que verificar primero que derivados existe. \n",
    "if \"derivados\" not in instrumentos.keys():\n",
    "    instrumentos[\"derivados\"] = [] #tendrían que crear el arreglo/lista para hacer el append\n",
    "    instrumentos[\"derivados\"].append(\"opciones\")\n",
    "    \n",
    "instrumentos"
   ]
  },
  {
   "cell_type": "code",
   "execution_count": 37,
   "id": "b48ded94",
   "metadata": {},
   "outputs": [
    {
     "data": {
      "text/plain": [
       "{'derivados': ['opciones', 'forwards', 'swaps']}"
      ]
     },
     "execution_count": 37,
     "metadata": {},
     "output_type": "execute_result"
    }
   ],
   "source": [
    "instrumentos[\"derivados\"].append(\"forwards\")\n",
    "instrumentos[\"derivados\"].append(\"swaps\")\n",
    "\n",
    "instrumentos"
   ]
  },
  {
   "cell_type": "markdown",
   "id": "ec85941b",
   "metadata": {},
   "source": [
    "Una solución al problema anterior se logra mediante un `defaultdic` inicializando como una lista. "
   ]
  },
  {
   "cell_type": "code",
   "execution_count": 38,
   "id": "3d8d162c",
   "metadata": {},
   "outputs": [],
   "source": [
    "from collections import defaultdict\n",
    "\n",
    "instrumentos = defaultdict(list)"
   ]
  },
  {
   "cell_type": "code",
   "execution_count": 39,
   "id": "e61e65d8",
   "metadata": {},
   "outputs": [
    {
     "data": {
      "text/plain": [
       "defaultdict(list, {})"
      ]
     },
     "execution_count": 39,
     "metadata": {},
     "output_type": "execute_result"
    }
   ],
   "source": [
    "instrumentos"
   ]
  },
  {
   "cell_type": "code",
   "execution_count": 40,
   "id": "0f0f0901",
   "metadata": {},
   "outputs": [
    {
     "data": {
      "text/plain": [
       "defaultdict(list,\n",
       "            {'derivados': ['opciones', 'forwards', 'swaps'],\n",
       "             'deuda': ['bonosM', 'cetes'],\n",
       "             'bursatil': ['AAPL', 'GOOG']})"
      ]
     },
     "execution_count": 40,
     "metadata": {},
     "output_type": "execute_result"
    }
   ],
   "source": [
    "\n",
    "instrumentos[\"derivados\"].append(\"opciones\")\n",
    "instrumentos[\"derivados\"].append(\"forwards\")\n",
    "instrumentos[\"derivados\"].append(\"swaps\")\n",
    "\n",
    "instrumentos[\"deuda\"].append(\"bonosM\")\n",
    "instrumentos[\"deuda\"].append(\"cetes\")\n",
    "\n",
    "instrumentos[\"bursatil\"].append(\"AAPL\")\n",
    "instrumentos[\"bursatil\"].append(\"GOOG\")\n",
    "\n",
    "instrumentos\n",
    "#no hay necesidad de tener que declarar la lista antes del append"
   ]
  },
  {
   "cell_type": "code",
   "execution_count": 41,
   "id": "82a4e310",
   "metadata": {},
   "outputs": [
    {
     "data": {
      "text/plain": [
       "collections.defaultdict"
      ]
     },
     "execution_count": 41,
     "metadata": {},
     "output_type": "execute_result"
    }
   ],
   "source": [
    "type(instrumentos)"
   ]
  },
  {
   "cell_type": "code",
   "execution_count": 42,
   "id": "6dee61ef",
   "metadata": {},
   "outputs": [
    {
     "data": {
      "text/plain": [
       "['opciones', 'forwards', 'swaps']"
      ]
     },
     "execution_count": 42,
     "metadata": {},
     "output_type": "execute_result"
    }
   ],
   "source": [
    "instrumentos[\"derivados\"]"
   ]
  },
  {
   "cell_type": "code",
   "execution_count": 43,
   "id": "816f1b35",
   "metadata": {},
   "outputs": [
    {
     "data": {
      "text/plain": [
       "dict_keys(['derivados', 'deuda', 'bursatil'])"
      ]
     },
     "execution_count": 43,
     "metadata": {},
     "output_type": "execute_result"
    }
   ],
   "source": [
    "instrumentos.keys()"
   ]
  },
  {
   "cell_type": "code",
   "execution_count": 44,
   "id": "96662ff4",
   "metadata": {},
   "outputs": [
    {
     "data": {
      "text/plain": [
       "dict_values([['opciones', 'forwards', 'swaps'], ['bonosM', 'cetes'], ['AAPL', 'GOOG']])"
      ]
     },
     "execution_count": 44,
     "metadata": {},
     "output_type": "execute_result"
    }
   ],
   "source": [
    "instrumentos.values()"
   ]
  },
  {
   "cell_type": "code",
   "execution_count": null,
   "id": "6daecfcd",
   "metadata": {},
   "outputs": [],
   "source": [
    "instrumentos[\"bursatil\"].append(\"VIX\")\n",
    "\n",
    "instrumentos"
   ]
  },
  {
   "cell_type": "code",
   "execution_count": null,
   "id": "632d2697",
   "metadata": {},
   "outputs": [],
   "source": [
    "# esto es medio basura porque no devuelve error:\n",
    "instrumentos[\"nueva_key\"] = 5\n",
    "\n",
    "instrumentos"
   ]
  },
  {
   "cell_type": "markdown",
   "id": "3f374560",
   "metadata": {},
   "source": [
    "## Namedtuple"
   ]
  },
  {
   "cell_type": "code",
   "execution_count": 45,
   "id": "90e85245",
   "metadata": {},
   "outputs": [],
   "source": [
    "from collections import namedtuple"
   ]
  },
  {
   "cell_type": "code",
   "execution_count": 46,
   "id": "9abcc59f",
   "metadata": {},
   "outputs": [
    {
     "data": {
      "text/plain": [
       "'c'"
      ]
     },
     "execution_count": 46,
     "metadata": {},
     "output_type": "execute_result"
    }
   ],
   "source": [
    "a = (\"a\", \"b\", \"c\")\n",
    "\n",
    "## acceder al tercer elemento\n",
    "a[2]"
   ]
  },
  {
   "cell_type": "code",
   "execution_count": null,
   "id": "346a4428",
   "metadata": {},
   "outputs": [],
   "source": [
    "def test(nombre, tipo, mesa, nominal):\n",
    "    pass\n",
    "\n"
   ]
  },
  {
   "cell_type": "code",
   "execution_count": 47,
   "id": "613f1e98",
   "metadata": {},
   "outputs": [],
   "source": [
    "# aqui definimos la tupla con nombres:\n",
    "\n",
    "Instr = namedtuple(\"Instrumento\", [\"nombre\", \"tipo\", \"mesa\", \"nominal\", \"delta\", \"strike\"])"
   ]
  },
  {
   "cell_type": "code",
   "execution_count": 48,
   "id": "30d5da18",
   "metadata": {},
   "outputs": [
    {
     "data": {
      "text/plain": [
       "type"
      ]
     },
     "execution_count": 48,
     "metadata": {},
     "output_type": "execute_result"
    }
   ],
   "source": [
    "# una tupla con nombre es un tipo de dato:\n",
    "type(Instr)"
   ]
  },
  {
   "cell_type": "code",
   "execution_count": 51,
   "id": "a8ff190c",
   "metadata": {},
   "outputs": [],
   "source": [
    "i1 = Instr(nombre=\"Asian\", tipo=\"opcion\", mesa=\"dermx\", nominal=1000, delta=0.05,strike = 105)"
   ]
  },
  {
   "cell_type": "code",
   "execution_count": 52,
   "id": "73ea9bc8",
   "metadata": {},
   "outputs": [
    {
     "data": {
      "text/plain": [
       "Instrumento(nombre='Asian', tipo='opcion', mesa='dermx', nominal=1000, delta=0.05, strike=105)"
      ]
     },
     "execution_count": 52,
     "metadata": {},
     "output_type": "execute_result"
    }
   ],
   "source": [
    "i1"
   ]
  },
  {
   "cell_type": "code",
   "execution_count": 53,
   "id": "5364f570",
   "metadata": {},
   "outputs": [
    {
     "data": {
      "text/plain": [
       "__main__.Instrumento"
      ]
     },
     "execution_count": 53,
     "metadata": {},
     "output_type": "execute_result"
    }
   ],
   "source": [
    "type(i1)"
   ]
  },
  {
   "cell_type": "code",
   "execution_count": null,
   "id": "eaabedf6",
   "metadata": {},
   "outputs": [],
   "source": [
    "i1.  #accedo a los elementos que le puse al momento de crearlo"
   ]
  },
  {
   "cell_type": "code",
   "execution_count": 54,
   "id": "0cda7f3b",
   "metadata": {},
   "outputs": [
    {
     "data": {
      "text/plain": [
       "'dermx'"
      ]
     },
     "execution_count": 54,
     "metadata": {},
     "output_type": "execute_result"
    }
   ],
   "source": [
    "i1.mesa"
   ]
  },
  {
   "cell_type": "code",
   "execution_count": 55,
   "id": "07bcfe35",
   "metadata": {},
   "outputs": [
    {
     "data": {
      "text/plain": [
       "('Asian', 'dermx')"
      ]
     },
     "execution_count": 55,
     "metadata": {},
     "output_type": "execute_result"
    }
   ],
   "source": [
    "i1.nombre, i1.mesa  #son atributos. "
   ]
  },
  {
   "cell_type": "code",
   "execution_count": 56,
   "id": "60155755",
   "metadata": {},
   "outputs": [
    {
     "data": {
      "text/plain": [
       "1000"
      ]
     },
     "execution_count": 56,
     "metadata": {},
     "output_type": "execute_result"
    }
   ],
   "source": [
    "i1.nominal"
   ]
  },
  {
   "cell_type": "code",
   "execution_count": 57,
   "id": "1ce6e64e",
   "metadata": {},
   "outputs": [],
   "source": [
    "def price_instrument(notional, tipo_instr, desk, delta, instr_name, strike):\n",
    "    #hace varias cosas usando las variables dadas por el usuario\n",
    "    price = 1_000\n",
    "    return price\n",
    "\n",
    "def price_instrument_2(instr):\n",
    "    # en este caso, la variable instr es del tipo Instrument\n",
    "    instr.nombre\n",
    "    instr.nominal\n",
    "    instr.strike\n",
    "    "
   ]
  },
  {
   "cell_type": "code",
   "execution_count": 58,
   "id": "22ded87a",
   "metadata": {},
   "outputs": [],
   "source": [
    "\n",
    "\n",
    "def function_k(**kargs):\n",
    "    name = kargs[\"name\"]\n",
    "    tipo = kargs[\"tipo\"]\n",
    "    desk = kargs[\"mesa\"]\n",
    "    print(f\"El derivado {name} es del tipo {tipo} y pertenece a la mesa {desk}-\")\n",
    "    \n",
    "\n",
    "def function(my_tuple):\n",
    "    name = my_tuple.nombre\n",
    "    tipo = my_tuple.tipo\n",
    "    desk = my_tuple.mesa\n",
    "    nominal = my_tuple.nominal\n",
    "    print(f\"El derivado {name} es del tipo {tipo} y pertenece a la mesa {desk}-\")\n",
    "\n",
    "\n",
    "def my_funct(name, type_inst, desk, nom):\n",
    "    #aqui va la def de mi función\n",
    "    return 0\n",
    "    \n",
    "\n",
    "def my_funct2(tuple_named, a1, a2, asd, sdfsf, srgr, rter, rt):\n",
    "    # \"def de funct_2\"\n",
    "    return 0"
   ]
  },
  {
   "cell_type": "code",
   "execution_count": 59,
   "id": "d3f7340b",
   "metadata": {},
   "outputs": [
    {
     "name": "stdout",
     "output_type": "stream",
     "text": [
      "El derivado Asian es del tipo opcion y pertenece a la mesa dermx-\n"
     ]
    }
   ],
   "source": [
    "function_k(name=\"Asian\", tipo=\"opcion\", mesa=\"dermx\", nominal=1000)"
   ]
  },
  {
   "cell_type": "code",
   "execution_count": 60,
   "id": "1e19f749",
   "metadata": {},
   "outputs": [
    {
     "name": "stdout",
     "output_type": "stream",
     "text": [
      "El derivado Asian es del tipo opcion y pertenece a la mesa dermx-\n"
     ]
    }
   ],
   "source": [
    "function(i1)"
   ]
  },
  {
   "cell_type": "markdown",
   "id": "d3853080",
   "metadata": {},
   "source": [
    "# Datetime"
   ]
  },
  {
   "cell_type": "code",
   "execution_count": 1,
   "id": "0b58569a",
   "metadata": {},
   "outputs": [
    {
     "data": {
      "text/plain": [
       "['MAXYEAR',\n",
       " 'MINYEAR',\n",
       " '__all__',\n",
       " '__builtins__',\n",
       " '__cached__',\n",
       " '__doc__',\n",
       " '__file__',\n",
       " '__loader__',\n",
       " '__name__',\n",
       " '__package__',\n",
       " '__spec__',\n",
       " 'date',\n",
       " 'datetime',\n",
       " 'datetime_CAPI',\n",
       " 'sys',\n",
       " 'time',\n",
       " 'timedelta',\n",
       " 'timezone',\n",
       " 'tzinfo']"
      ]
     },
     "execution_count": 1,
     "metadata": {},
     "output_type": "execute_result"
    }
   ],
   "source": [
    "import datetime\n",
    "\n",
    "dir(datetime)\n",
    "\n",
    "#datetime.datetime.now()"
   ]
  },
  {
   "cell_type": "code",
   "execution_count": 2,
   "id": "a1aa7f73",
   "metadata": {},
   "outputs": [],
   "source": [
    "from datetime import datetime  ## esto es así porque datetime es un módulo dentro del paquete time\n",
    "\n",
    "from datetime import timedelta\n",
    "\n",
    "## si hacemos esto:\n",
    "## import datetime\n",
    "## vamos a importar todos los módulos que están dentro del paquete datetime"
   ]
  },
  {
   "cell_type": "code",
   "execution_count": 3,
   "id": "8eba4ee5",
   "metadata": {},
   "outputs": [
    {
     "data": {
      "text/plain": [
       "['__abs__',\n",
       " '__add__',\n",
       " '__bool__',\n",
       " '__class__',\n",
       " '__delattr__',\n",
       " '__dir__',\n",
       " '__divmod__',\n",
       " '__doc__',\n",
       " '__eq__',\n",
       " '__floordiv__',\n",
       " '__format__',\n",
       " '__ge__',\n",
       " '__getattribute__',\n",
       " '__gt__',\n",
       " '__hash__',\n",
       " '__init__',\n",
       " '__init_subclass__',\n",
       " '__le__',\n",
       " '__lt__',\n",
       " '__mod__',\n",
       " '__mul__',\n",
       " '__ne__',\n",
       " '__neg__',\n",
       " '__new__',\n",
       " '__pos__',\n",
       " '__radd__',\n",
       " '__rdivmod__',\n",
       " '__reduce__',\n",
       " '__reduce_ex__',\n",
       " '__repr__',\n",
       " '__rfloordiv__',\n",
       " '__rmod__',\n",
       " '__rmul__',\n",
       " '__rsub__',\n",
       " '__rtruediv__',\n",
       " '__setattr__',\n",
       " '__sizeof__',\n",
       " '__str__',\n",
       " '__sub__',\n",
       " '__subclasshook__',\n",
       " '__truediv__',\n",
       " 'days',\n",
       " 'max',\n",
       " 'microseconds',\n",
       " 'min',\n",
       " 'resolution',\n",
       " 'seconds',\n",
       " 'total_seconds']"
      ]
     },
     "execution_count": 3,
     "metadata": {},
     "output_type": "execute_result"
    }
   ],
   "source": [
    "dir(timedelta)"
   ]
  },
  {
   "cell_type": "code",
   "execution_count": 4,
   "id": "e17562c5",
   "metadata": {
    "scrolled": false
   },
   "outputs": [
    {
     "data": {
      "text/plain": [
       "['__add__',\n",
       " '__class__',\n",
       " '__delattr__',\n",
       " '__dir__',\n",
       " '__doc__',\n",
       " '__eq__',\n",
       " '__format__',\n",
       " '__ge__',\n",
       " '__getattribute__',\n",
       " '__gt__',\n",
       " '__hash__',\n",
       " '__init__',\n",
       " '__init_subclass__',\n",
       " '__le__',\n",
       " '__lt__',\n",
       " '__ne__',\n",
       " '__new__',\n",
       " '__radd__',\n",
       " '__reduce__',\n",
       " '__reduce_ex__',\n",
       " '__repr__',\n",
       " '__rsub__',\n",
       " '__setattr__',\n",
       " '__sizeof__',\n",
       " '__str__',\n",
       " '__sub__',\n",
       " '__subclasshook__',\n",
       " 'astimezone',\n",
       " 'combine',\n",
       " 'ctime',\n",
       " 'date',\n",
       " 'day',\n",
       " 'dst',\n",
       " 'fold',\n",
       " 'fromisocalendar',\n",
       " 'fromisoformat',\n",
       " 'fromordinal',\n",
       " 'fromtimestamp',\n",
       " 'hour',\n",
       " 'isocalendar',\n",
       " 'isoformat',\n",
       " 'isoweekday',\n",
       " 'max',\n",
       " 'microsecond',\n",
       " 'min',\n",
       " 'minute',\n",
       " 'month',\n",
       " 'now',\n",
       " 'replace',\n",
       " 'resolution',\n",
       " 'second',\n",
       " 'strftime',\n",
       " 'strptime',\n",
       " 'time',\n",
       " 'timestamp',\n",
       " 'timetuple',\n",
       " 'timetz',\n",
       " 'today',\n",
       " 'toordinal',\n",
       " 'tzinfo',\n",
       " 'tzname',\n",
       " 'utcfromtimestamp',\n",
       " 'utcnow',\n",
       " 'utcoffset',\n",
       " 'utctimetuple',\n",
       " 'weekday',\n",
       " 'year']"
      ]
     },
     "execution_count": 4,
     "metadata": {},
     "output_type": "execute_result"
    }
   ],
   "source": [
    "dir(datetime)"
   ]
  },
  {
   "cell_type": "code",
   "execution_count": 5,
   "id": "6d72470d",
   "metadata": {},
   "outputs": [],
   "source": [
    "from datetime import datetime\n",
    "\n",
    "start_date = datetime(2025, 7, 9) #año, mes, día para definir una "
   ]
  },
  {
   "cell_type": "code",
   "execution_count": 6,
   "id": "1db0c911",
   "metadata": {},
   "outputs": [
    {
     "data": {
      "text/plain": [
       "datetime.datetime"
      ]
     },
     "execution_count": 6,
     "metadata": {},
     "output_type": "execute_result"
    }
   ],
   "source": [
    "type(start_date)"
   ]
  },
  {
   "cell_type": "code",
   "execution_count": 7,
   "id": "65d08378",
   "metadata": {},
   "outputs": [
    {
     "data": {
      "text/plain": [
       "datetime.datetime(2025, 7, 9, 0, 0)"
      ]
     },
     "execution_count": 7,
     "metadata": {},
     "output_type": "execute_result"
    }
   ],
   "source": [
    "start_date"
   ]
  },
  {
   "cell_type": "code",
   "execution_count": null,
   "id": "159ea334",
   "metadata": {
    "scrolled": false
   },
   "outputs": [],
   "source": [
    "dir(start_date)"
   ]
  },
  {
   "cell_type": "code",
   "execution_count": 8,
   "id": "e9193cc6",
   "metadata": {},
   "outputs": [
    {
     "data": {
      "text/plain": [
       "2"
      ]
     },
     "execution_count": 8,
     "metadata": {},
     "output_type": "execute_result"
    }
   ],
   "source": [
    "#0 es lunes y el domingo es 6\n",
    "\n",
    "start_date.weekday() #paréntesis son métodos"
   ]
  },
  {
   "cell_type": "code",
   "execution_count": 9,
   "id": "5241ff0e",
   "metadata": {},
   "outputs": [
    {
     "data": {
      "text/plain": [
       "<function datetime.weekday>"
      ]
     },
     "execution_count": 9,
     "metadata": {},
     "output_type": "execute_result"
    }
   ],
   "source": [
    "start_date.weekday"
   ]
  },
  {
   "cell_type": "code",
   "execution_count": 10,
   "id": "47123fd4",
   "metadata": {},
   "outputs": [
    {
     "data": {
      "text/plain": [
       "7"
      ]
     },
     "execution_count": 10,
     "metadata": {},
     "output_type": "execute_result"
    }
   ],
   "source": [
    "start_date.month # sin paréntesis son atributos"
   ]
  },
  {
   "cell_type": "code",
   "execution_count": 11,
   "id": "798142dd",
   "metadata": {},
   "outputs": [
    {
     "data": {
      "text/plain": [
       "2025"
      ]
     },
     "execution_count": 11,
     "metadata": {},
     "output_type": "execute_result"
    }
   ],
   "source": [
    "start_date.year"
   ]
  },
  {
   "cell_type": "code",
   "execution_count": 12,
   "id": "610e98aa",
   "metadata": {},
   "outputs": [
    {
     "data": {
      "text/plain": [
       "0"
      ]
     },
     "execution_count": 12,
     "metadata": {},
     "output_type": "execute_result"
    }
   ],
   "source": [
    "start_date.minute"
   ]
  },
  {
   "cell_type": "code",
   "execution_count": 13,
   "id": "95ad384b",
   "metadata": {},
   "outputs": [
    {
     "data": {
      "text/plain": [
       "0"
      ]
     },
     "execution_count": 13,
     "metadata": {},
     "output_type": "execute_result"
    }
   ],
   "source": [
    "start_date.hour"
   ]
  },
  {
   "cell_type": "code",
   "execution_count": 14,
   "id": "2b168c02",
   "metadata": {},
   "outputs": [
    {
     "name": "stdout",
     "output_type": "stream",
     "text": [
      "9/7/2025\n"
     ]
    }
   ],
   "source": [
    "print(f\"{start_date.day}/{start_date.month}/{start_date.year}\")"
   ]
  },
  {
   "cell_type": "code",
   "execution_count": 15,
   "id": "1d02e00f",
   "metadata": {},
   "outputs": [
    {
     "data": {
      "text/plain": [
       "'2025-07-09'"
      ]
     },
     "execution_count": 15,
     "metadata": {},
     "output_type": "execute_result"
    }
   ],
   "source": [
    "start_date.strftime(\"%Y-%m-%d\")"
   ]
  },
  {
   "cell_type": "code",
   "execution_count": 16,
   "id": "e76e0a39",
   "metadata": {},
   "outputs": [
    {
     "data": {
      "text/plain": [
       "str"
      ]
     },
     "execution_count": 16,
     "metadata": {},
     "output_type": "execute_result"
    }
   ],
   "source": [
    "type(start_date.strftime(\"%Y-%m-%d\"))"
   ]
  },
  {
   "cell_type": "code",
   "execution_count": 17,
   "id": "21f73f44",
   "metadata": {},
   "outputs": [
    {
     "data": {
      "text/plain": [
       "datetime.datetime(2025, 7, 9, 21, 51, 47, 528483)"
      ]
     },
     "execution_count": 17,
     "metadata": {},
     "output_type": "execute_result"
    }
   ],
   "source": [
    "today = datetime.now()\n",
    "today"
   ]
  },
  {
   "cell_type": "code",
   "execution_count": 18,
   "id": "62975506",
   "metadata": {},
   "outputs": [
    {
     "data": {
      "text/plain": [
       "'21:51:47.528483'"
      ]
     },
     "execution_count": 18,
     "metadata": {},
     "output_type": "execute_result"
    }
   ],
   "source": [
    "today.strftime(\"%H:%M:%S.%f\")"
   ]
  },
  {
   "cell_type": "code",
   "execution_count": 19,
   "id": "314475fd",
   "metadata": {},
   "outputs": [
    {
     "data": {
      "text/plain": [
       "'July'"
      ]
     },
     "execution_count": 19,
     "metadata": {},
     "output_type": "execute_result"
    }
   ],
   "source": [
    "today.strftime(\"%B\")"
   ]
  },
  {
   "cell_type": "code",
   "execution_count": 20,
   "id": "fcaad3ea",
   "metadata": {},
   "outputs": [
    {
     "name": "stdout",
     "output_type": "stream",
     "text": [
      "2025-07-09 21:52:38.577254\n",
      "\n",
      "Directives\n",
      "--------------\n",
      "Weekday short version : Wed\n",
      "Weekday full version  : Wednesday\n",
      "Weekday as a number   : 3\n",
      "Day of month          : 09\n",
      "Month Name short ver  : Jul\n",
      "Month Name full ver   : July\n",
      "Month as a number     : 07\n",
      "Year short version    : 25\n",
      "Year full version     : 2025\n",
      "Hour (00-23)          : 21\n",
      "Hour (00-11)          : 09\n",
      "AM/PM                 : PM\n",
      "Minute                : 52\n",
      "Second                : 38\n",
      "\n",
      "Formatted Date Strings\n",
      "--------------\n",
      "Wed 09-07-2025\n",
      "Wed 09/07/2025\n",
      "Wed 09/07/25\n",
      "Wednesday 09-07-2025, 21:52:38\n",
      "21:52:38 07/09/25\n"
     ]
    }
   ],
   "source": [
    "## aqui vemos todos los formatos que podemos combinar\n",
    "\n",
    "dt = datetime.now()\n",
    "\n",
    "print(dt)\n",
    "print('\\nDirectives\\n--------------')\n",
    "print(dt.strftime('Weekday short version : %a'))\n",
    "print(dt.strftime('Weekday full version  : %A'))\n",
    "print(dt.strftime('Weekday as a number   : %w'))\n",
    "print(dt.strftime('Day of month          : %d'))\n",
    "print(dt.strftime('Month Name short ver  : %b'))\n",
    "print(dt.strftime('Month Name full ver   : %B'))\n",
    "print(dt.strftime('Month as a number     : %m'))\n",
    "print(dt.strftime('Year short version    : %y'))\n",
    "print(dt.strftime('Year full version     : %Y'))\n",
    "print(dt.strftime('Hour (00-23)          : %H'))\n",
    "print(dt.strftime('Hour (00-11)          : %I'))\n",
    "print(dt.strftime('AM/PM                 : %p'))\n",
    "print(dt.strftime('Minute                : %M'))\n",
    "print(dt.strftime('Second                : %S'))\n",
    "\n",
    "\n",
    "print('\\nFormatted Date Strings\\n--------------')\n",
    "print(dt.strftime('%a %d-%m-%Y'))\n",
    "print(dt.strftime('%a %d/%m/%Y'))\n",
    "print(dt.strftime('%a %d/%m/%y'))\n",
    "print(dt.strftime('%A %d-%m-%Y, %H:%M:%S'))\n",
    "print(dt.strftime('%X %x'))"
   ]
  },
  {
   "cell_type": "code",
   "execution_count": 21,
   "id": "d86ef33b",
   "metadata": {},
   "outputs": [
    {
     "data": {
      "text/plain": [
       "datetime.datetime(2020, 10, 7, 0, 0)"
      ]
     },
     "execution_count": 21,
     "metadata": {},
     "output_type": "execute_result"
    }
   ],
   "source": [
    "str_date = \"2020/10/7\"\n",
    "\n",
    "dt_date = datetime.strptime(str_date, \"%Y/%m/%d\")\n",
    "dt_date"
   ]
  },
  {
   "cell_type": "code",
   "execution_count": 24,
   "id": "71752074",
   "metadata": {},
   "outputs": [
    {
     "data": {
      "text/plain": [
       "datetime.datetime(2020, 1, 7, 0, 0)"
      ]
     },
     "execution_count": 24,
     "metadata": {},
     "output_type": "execute_result"
    }
   ],
   "source": [
    "str_date = \"7-01-20\"\n",
    "\n",
    "dt_date_2 = datetime.strptime(str_date, \"%d-%m-%y\")\n",
    "dt_date_2"
   ]
  },
  {
   "cell_type": "code",
   "execution_count": 25,
   "id": "1aeb0e67",
   "metadata": {},
   "outputs": [],
   "source": [
    "from datetime import timedelta"
   ]
  },
  {
   "cell_type": "code",
   "execution_count": 26,
   "id": "01b1634a",
   "metadata": {},
   "outputs": [
    {
     "data": {
      "text/plain": [
       "datetime.datetime(2020, 10, 7, 0, 0)"
      ]
     },
     "execution_count": 26,
     "metadata": {},
     "output_type": "execute_result"
    }
   ],
   "source": [
    "dt_date"
   ]
  },
  {
   "cell_type": "code",
   "execution_count": 27,
   "id": "6007742f",
   "metadata": {},
   "outputs": [
    {
     "ename": "TypeError",
     "evalue": "unsupported operand type(s) for +: 'datetime.datetime' and 'int'",
     "output_type": "error",
     "traceback": [
      "\u001b[1;31m---------------------------------------------------------------------------\u001b[0m",
      "\u001b[1;31mTypeError\u001b[0m                                 Traceback (most recent call last)",
      "Cell \u001b[1;32mIn[27], line 1\u001b[0m\n\u001b[1;32m----> 1\u001b[0m \u001b[43mdt_date\u001b[49m\u001b[43m \u001b[49m\u001b[38;5;241;43m+\u001b[39;49m\u001b[43m \u001b[49m\u001b[38;5;241;43m365\u001b[39;49m\n",
      "\u001b[1;31mTypeError\u001b[0m: unsupported operand type(s) for +: 'datetime.datetime' and 'int'"
     ]
    }
   ],
   "source": [
    "dt_date + 365"
   ]
  },
  {
   "cell_type": "code",
   "execution_count": 28,
   "id": "c79f2d87",
   "metadata": {},
   "outputs": [
    {
     "data": {
      "text/plain": [
       "datetime.datetime(2021, 10, 7, 0, 0)"
      ]
     },
     "execution_count": 28,
     "metadata": {},
     "output_type": "execute_result"
    }
   ],
   "source": [
    "dt_date + timedelta(days=365)"
   ]
  },
  {
   "cell_type": "code",
   "execution_count": null,
   "id": "af9589c1",
   "metadata": {
    "scrolled": true
   },
   "outputs": [],
   "source": [
    "datetime.now() - dt_date"
   ]
  },
  {
   "cell_type": "code",
   "execution_count": null,
   "id": "a25ade7d",
   "metadata": {},
   "outputs": [],
   "source": [
    "delta = datetime.now() - dt_date #me da el número de segundo desde que inicia el día (date_date es hoy)\n",
    "delta "
   ]
  },
  {
   "cell_type": "code",
   "execution_count": null,
   "id": "dc184b11",
   "metadata": {
    "scrolled": true
   },
   "outputs": [],
   "source": [
    "delta.microseconds"
   ]
  },
  {
   "cell_type": "code",
   "execution_count": null,
   "id": "326e836a",
   "metadata": {},
   "outputs": [],
   "source": [
    "delta.seconds"
   ]
  },
  {
   "cell_type": "code",
   "execution_count": null,
   "id": "ddcd3a06",
   "metadata": {},
   "outputs": [],
   "source": [
    "delta.days "
   ]
  },
  {
   "cell_type": "code",
   "execution_count": null,
   "id": "d155e5b7",
   "metadata": {},
   "outputs": [],
   "source": [
    "(datetime.now() - dt_date).days"
   ]
  },
  {
   "cell_type": "markdown",
   "id": "606aa26d",
   "metadata": {},
   "source": [
    "Dando formato a las fechas: Más información en: \n",
    "https://docs.python.org/3/library/datetime.html?highlight=datetime#strftime-and-strptime-behavior"
   ]
  },
  {
   "cell_type": "code",
   "execution_count": null,
   "id": "7be87cf2",
   "metadata": {},
   "outputs": [],
   "source": [
    "start_date"
   ]
  },
  {
   "cell_type": "code",
   "execution_count": null,
   "id": "189f8b4f",
   "metadata": {},
   "outputs": [],
   "source": [
    "start_date.strftime(\"%m-%d-%y\")"
   ]
  },
  {
   "cell_type": "code",
   "execution_count": null,
   "id": "717b0e54",
   "metadata": {},
   "outputs": [],
   "source": [
    "start_date.strftime(\"%A, %B %d %Y\")"
   ]
  },
  {
   "cell_type": "code",
   "execution_count": null,
   "id": "00694d98",
   "metadata": {},
   "outputs": [],
   "source": [
    "duracion = timedelta(days=252)"
   ]
  },
  {
   "cell_type": "code",
   "execution_count": null,
   "id": "44ffe8a0",
   "metadata": {
    "scrolled": true
   },
   "outputs": [],
   "source": [
    "duracion"
   ]
  },
  {
   "cell_type": "code",
   "execution_count": null,
   "id": "45fd350b",
   "metadata": {},
   "outputs": [],
   "source": [
    "maturity = start_date + duracion"
   ]
  },
  {
   "cell_type": "code",
   "execution_count": null,
   "id": "c1352827",
   "metadata": {},
   "outputs": [],
   "source": [
    "maturity"
   ]
  },
  {
   "cell_type": "code",
   "execution_count": null,
   "id": "cbbb2fdd",
   "metadata": {},
   "outputs": [],
   "source": [
    "maturity.strftime(\"%A, %B %d %Y\")"
   ]
  },
  {
   "cell_type": "code",
   "execution_count": null,
   "id": "5886317f",
   "metadata": {},
   "outputs": [],
   "source": [
    "#string a datetime. Le estamos pasando un string en el primer arguemnto y el segundo le dice \n",
    "#en qué formato viene ese string\n",
    "datetime.strptime(\"2021.10.07\",\"%Y.%m.%d\")"
   ]
  },
  {
   "cell_type": "code",
   "execution_count": null,
   "id": "6d7a922b",
   "metadata": {},
   "outputs": [],
   "source": [
    "datetime.strptime(\"2021/10/07\",\"%Y/%m/%d\")"
   ]
  },
  {
   "cell_type": "code",
   "execution_count": null,
   "id": "8c557ad7",
   "metadata": {},
   "outputs": [],
   "source": [
    "today = datetime(2023,1,31)\n",
    "today"
   ]
  },
  {
   "cell_type": "code",
   "execution_count": null,
   "id": "63747d29",
   "metadata": {},
   "outputs": [],
   "source": [
    "## sumar 1 mes al 31 de enero\n",
    "today + timedelta(days=59)"
   ]
  },
  {
   "cell_type": "code",
   "execution_count": null,
   "id": "8b9cbf00",
   "metadata": {},
   "outputs": [],
   "source": [
    "## sumar 1 meses\n",
    "resultado = datetime(today.year, today.month+2, today.day)\n",
    "resultado"
   ]
  },
  {
   "cell_type": "code",
   "execution_count": null,
   "id": "b4c4afc5",
   "metadata": {},
   "outputs": [],
   "source": [
    "## sumar 3 meses\n",
    "resultado = datetime(today.year+3, today.month , today.day)\n",
    "resultado"
   ]
  },
  {
   "cell_type": "markdown",
   "id": "15dd3da6",
   "metadata": {},
   "source": [
    "Supongamos que estamos a 30/01/2023, sumamos 1 día y luego 1 mes\n",
    "\n",
    "¿Es lo mismo sumar 1 mes y luego 1 día?\n",
    "\n",
    "\n",
    "( 30/01/2023  + 1día ) + 1month  == ( 30/01/2023 + 1month ) + 1day"
   ]
  },
  {
   "cell_type": "code",
   "execution_count": 29,
   "id": "6e98ced2",
   "metadata": {},
   "outputs": [],
   "source": [
    "from dateutil.relativedelta import relativedelta"
   ]
  },
  {
   "cell_type": "code",
   "execution_count": 30,
   "id": "8b5cabd3",
   "metadata": {},
   "outputs": [
    {
     "data": {
      "text/plain": [
       "datetime.datetime(2025, 7, 9, 21, 51, 47, 528483)"
      ]
     },
     "execution_count": 30,
     "metadata": {},
     "output_type": "execute_result"
    }
   ],
   "source": [
    "today"
   ]
  },
  {
   "cell_type": "code",
   "execution_count": 32,
   "id": "617209b8",
   "metadata": {},
   "outputs": [
    {
     "data": {
      "text/plain": [
       "datetime.datetime(2026, 9, 9, 21, 51, 47, 528483)"
      ]
     },
     "execution_count": 32,
     "metadata": {},
     "output_type": "execute_result"
    }
   ],
   "source": [
    "today + relativedelta(months=14)"
   ]
  },
  {
   "cell_type": "code",
   "execution_count": 34,
   "id": "bf7514c1",
   "metadata": {},
   "outputs": [
    {
     "data": {
      "text/plain": [
       "datetime.datetime(2025, 3, 29, 0, 0)"
      ]
     },
     "execution_count": 34,
     "metadata": {},
     "output_type": "execute_result"
    }
   ],
   "source": [
    "fecha = datetime(2025,2,28)\n",
    "\n",
    "(fecha + relativedelta(months=1)) + relativedelta(days=1)"
   ]
  },
  {
   "cell_type": "code",
   "execution_count": 35,
   "id": "55b2e8ea",
   "metadata": {},
   "outputs": [
    {
     "data": {
      "text/plain": [
       "datetime.datetime(2025, 4, 1, 0, 0)"
      ]
     },
     "execution_count": 35,
     "metadata": {},
     "output_type": "execute_result"
    }
   ],
   "source": [
    "(fecha + relativedelta(days=1)) + relativedelta(months=1)"
   ]
  },
  {
   "cell_type": "markdown",
   "id": "969f65b5",
   "metadata": {},
   "source": [
    "# Intro a NumPy\n",
    "\n",
    "NumPy es una biblioteca de Python que proporciona un objeto de matriz multidimensional y una variedad de rutinas para operaciones rápidas en matrices, que incluyen matemáticas, lógicas, manipulación de formas, clasificación, selección, transformadas de Fourier discretas, álgebra lineal básica, operaciones estadísticas básicas, simulación aleatoria y mucho más.\n",
    "\n",
    "\n",
    "Los objetos principales de este paquete se conocen como ndarrays, que no son otra cosa más que matrices (o vectores). El código está optimizado para realizar operaciones entre matrices (vectores), esa es la razón principal por la que es preferible usar `array` en vez de `list`.\n",
    "\n",
    "$$$$\n",
    "\n",
    "Aquellos paquetes que no forman parte de la librería estándar, como NumPy, se pueden instalar desde consola o por medio de IDE:\n",
    "\n",
    "```pytho\n",
    "pip install package_name\n",
    "```"
   ]
  },
  {
   "cell_type": "code",
   "execution_count": null,
   "id": "e0c7fa46",
   "metadata": {},
   "outputs": [],
   "source": [
    "pip install numpy"
   ]
  },
  {
   "cell_type": "markdown",
   "id": "3a985409",
   "metadata": {},
   "source": [
    "Esto nos permite ver un listado de todos los paquetes que hemos instalado:"
   ]
  },
  {
   "cell_type": "code",
   "execution_count": null,
   "id": "6b1d6e42",
   "metadata": {},
   "outputs": [],
   "source": [
    "pip freeze"
   ]
  },
  {
   "cell_type": "markdown",
   "id": "358c2e31",
   "metadata": {},
   "source": [
    "Veremos una introducción a NumPy (Numerical Python) y la próxima clase continuaremos viendo algunos otros ejemplos, pero si tienen tiempo, pueden darle un vistazo a la página principal del paquete:\n",
    "\n",
    "https://numpy.org/"
   ]
  },
  {
   "cell_type": "code",
   "execution_count": null,
   "id": "23eb2fe2",
   "metadata": {},
   "outputs": [],
   "source": [
    "pip install numpy==n_version --proxy https:// "
   ]
  },
  {
   "cell_type": "code",
   "execution_count": null,
   "id": "ea8a670f",
   "metadata": {
    "scrolled": true
   },
   "outputs": [],
   "source": [
    "# importamos el paquete\n",
    "import numpy as np\n",
    "\n",
    "dir(np)"
   ]
  },
  {
   "cell_type": "code",
   "execution_count": null,
   "id": "6cb8bfe3",
   "metadata": {},
   "outputs": [],
   "source": [
    "# crear lista con numeros primos\n",
    "prime_numbers = [2,3,5,7,11,13,17,19]\n",
    "prime_numbers"
   ]
  },
  {
   "cell_type": "code",
   "execution_count": null,
   "id": "1a19221c",
   "metadata": {},
   "outputs": [],
   "source": [
    "# crear array a partir de lista\n",
    "arr_p_numbers = np.array(prime_numbers)   # np.array(list)\n",
    "arr_p_numbers"
   ]
  },
  {
   "cell_type": "code",
   "execution_count": null,
   "id": "96b3b2ce",
   "metadata": {},
   "outputs": [],
   "source": [
    "arr_p_numbers / 2"
   ]
  },
  {
   "cell_type": "code",
   "execution_count": null,
   "id": "0836a685",
   "metadata": {},
   "outputs": [],
   "source": [
    "prime_numbers / 2"
   ]
  },
  {
   "cell_type": "code",
   "execution_count": null,
   "id": "cf50150e",
   "metadata": {},
   "outputs": [],
   "source": [
    "2 * prime_numbers"
   ]
  },
  {
   "cell_type": "code",
   "execution_count": null,
   "id": "de1d27c4",
   "metadata": {},
   "outputs": [],
   "source": [
    "2 * arr_p_numbers"
   ]
  },
  {
   "cell_type": "markdown",
   "id": "bcfd0d85",
   "metadata": {},
   "source": [
    "### Cómo inicializar un arreglo de numpy"
   ]
  },
  {
   "cell_type": "code",
   "execution_count": null,
   "id": "10162f0e",
   "metadata": {},
   "outputs": [],
   "source": [
    "## 1. Creando un array de ceros:\n",
    "\n",
    "arr_zeros = np.zeros(10)\n",
    "arr_zeros"
   ]
  },
  {
   "cell_type": "code",
   "execution_count": null,
   "id": "659f4402",
   "metadata": {},
   "outputs": [],
   "source": [
    "## 2. Creando un array de unos:\n",
    "\n",
    "arr_unos = np.ones(7)\n",
    "arr_unos"
   ]
  },
  {
   "cell_type": "code",
   "execution_count": null,
   "id": "0dfb85a8",
   "metadata": {},
   "outputs": [],
   "source": [
    "# 3. Creando un array de números sucesivos\n",
    "\n",
    "arr_range = np.arange(10)\n",
    "arr_range"
   ]
  },
  {
   "cell_type": "code",
   "execution_count": null,
   "id": "8a9fa95d",
   "metadata": {},
   "outputs": [],
   "source": [
    "np.array(range(10))"
   ]
  },
  {
   "cell_type": "code",
   "execution_count": null,
   "id": "fc8bca63",
   "metadata": {},
   "outputs": [],
   "source": [
    "# 4. Creando un array con una secuencia:\n",
    "arr_pares = np.arange(0,20,2)\n",
    "arr_pares"
   ]
  },
  {
   "cell_type": "code",
   "execution_count": null,
   "id": "660cb846",
   "metadata": {},
   "outputs": [],
   "source": [
    "list(range(0, 20 ,2))"
   ]
  },
  {
   "cell_type": "code",
   "execution_count": null,
   "id": "33f2031f",
   "metadata": {},
   "outputs": [],
   "source": [
    "range(0.5, 10, 0.5)"
   ]
  },
  {
   "cell_type": "code",
   "execution_count": null,
   "id": "ad15e62a",
   "metadata": {},
   "outputs": [],
   "source": [
    "np.arange(0.5, 10, 0.5)"
   ]
  },
  {
   "cell_type": "code",
   "execution_count": null,
   "id": "100a91dd",
   "metadata": {},
   "outputs": [],
   "source": [
    "# 5. Creando un array sin inicializar entradas:\n",
    "arr_empty = np.empty(10)\n",
    "arr_empty"
   ]
  },
  {
   "cell_type": "code",
   "execution_count": null,
   "id": "b5b6fa47",
   "metadata": {},
   "outputs": [],
   "source": [
    "arr_pares"
   ]
  },
  {
   "cell_type": "code",
   "execution_count": null,
   "id": "16815947",
   "metadata": {},
   "outputs": [],
   "source": [
    "len(arr_pares)"
   ]
  },
  {
   "cell_type": "code",
   "execution_count": null,
   "id": "8afe7b7b",
   "metadata": {},
   "outputs": [],
   "source": [
    "arr_pares.shape"
   ]
  },
  {
   "cell_type": "code",
   "execution_count": null,
   "id": "30ebd4b5",
   "metadata": {},
   "outputs": [],
   "source": [
    "# 6. Haciendo un reshape\n",
    "arr_reshape = np.reshape(arr_pares, (5,2))\n",
    "arr_reshape"
   ]
  },
  {
   "cell_type": "code",
   "execution_count": null,
   "id": "6a81b422",
   "metadata": {},
   "outputs": [],
   "source": [
    "arr_reshape.shape"
   ]
  },
  {
   "cell_type": "code",
   "execution_count": null,
   "id": "8fb0d1cf",
   "metadata": {},
   "outputs": [],
   "source": [
    "# 7. Usnado linespace\n",
    "arr_linespace = np.linspace(0,1,101)\n",
    "arr_linespace"
   ]
  },
  {
   "cell_type": "code",
   "execution_count": null,
   "id": "374ef513",
   "metadata": {},
   "outputs": [],
   "source": [
    "## discretización del intervalo [a, b] de tamaño N de puntos equidistantes\n",
    "np.linspace(0, 1, 9)"
   ]
  },
  {
   "cell_type": "code",
   "execution_count": null,
   "id": "9f4e2491",
   "metadata": {
    "scrolled": true
   },
   "outputs": [],
   "source": [
    "np.linspace(-1, 10, 101)"
   ]
  },
  {
   "cell_type": "markdown",
   "id": "74654452",
   "metadata": {},
   "source": [
    "### Propiedades y Operaciones aritméticas"
   ]
  },
  {
   "cell_type": "code",
   "execution_count": null,
   "id": "f642ad61",
   "metadata": {
    "scrolled": true
   },
   "outputs": [],
   "source": [
    "dir(arr_empty)"
   ]
  },
  {
   "cell_type": "code",
   "execution_count": null,
   "id": "57a65ace",
   "metadata": {},
   "outputs": [],
   "source": [
    "arr_pares"
   ]
  },
  {
   "cell_type": "code",
   "execution_count": null,
   "id": "c7129e9b",
   "metadata": {},
   "outputs": [],
   "source": [
    "arr_pares.ndim"
   ]
  },
  {
   "cell_type": "code",
   "execution_count": null,
   "id": "845655ee",
   "metadata": {},
   "outputs": [],
   "source": [
    "## Tamaño de un array\n",
    "arr_pares.shape  # devuelve una tupla"
   ]
  },
  {
   "cell_type": "code",
   "execution_count": null,
   "id": "d00ca659",
   "metadata": {},
   "outputs": [],
   "source": [
    "len(arr_pares)"
   ]
  },
  {
   "cell_type": "code",
   "execution_count": null,
   "id": "388701ca",
   "metadata": {},
   "outputs": [],
   "source": [
    "arr_reshape"
   ]
  },
  {
   "cell_type": "code",
   "execution_count": null,
   "id": "d05cf777",
   "metadata": {},
   "outputs": [],
   "source": [
    "arr_reshape.ndim"
   ]
  },
  {
   "cell_type": "code",
   "execution_count": null,
   "id": "c0caef6f",
   "metadata": {},
   "outputs": [],
   "source": [
    "arr_reshape.shape"
   ]
  },
  {
   "cell_type": "code",
   "execution_count": null,
   "id": "cd4907fe",
   "metadata": {},
   "outputs": [],
   "source": [
    "len(arr_reshape)"
   ]
  },
  {
   "cell_type": "code",
   "execution_count": null,
   "id": "4a3b5ef6",
   "metadata": {},
   "outputs": [],
   "source": [
    "np.array([[1,2,3], [4,5,6], [7,8,9]])"
   ]
  },
  {
   "cell_type": "code",
   "execution_count": null,
   "id": "65c9eae1",
   "metadata": {},
   "outputs": [],
   "source": [
    "# operaciones aritmeticas sobre np array 1-dimension y 2-dimension\n",
    "arr_impares = arr_pares + 1\n",
    "arr_impares"
   ]
  },
  {
   "cell_type": "code",
   "execution_count": null,
   "id": "ead2b07b",
   "metadata": {},
   "outputs": [],
   "source": [
    "arr_range"
   ]
  },
  {
   "cell_type": "code",
   "execution_count": null,
   "id": "f4a16896",
   "metadata": {},
   "outputs": [],
   "source": [
    "# multiplicar por 100\n",
    "arr_range * 100"
   ]
  },
  {
   "cell_type": "code",
   "execution_count": null,
   "id": "73e32f9c",
   "metadata": {},
   "outputs": [],
   "source": [
    "# resta entre arrays\n",
    "arr_impares - arr_pares"
   ]
  },
  {
   "cell_type": "code",
   "execution_count": null,
   "id": "02c75e56",
   "metadata": {},
   "outputs": [],
   "source": [
    "arr_p_numbers"
   ]
  },
  {
   "cell_type": "code",
   "execution_count": null,
   "id": "eec6c67f",
   "metadata": {},
   "outputs": [],
   "source": [
    "arr_pares"
   ]
  },
  {
   "cell_type": "code",
   "execution_count": null,
   "id": "a96235aa",
   "metadata": {},
   "outputs": [],
   "source": [
    "## se pueden sumar arr_p_numbers con arr_pares?\n",
    "\n",
    "arr_p_numbers + arr_pares"
   ]
  },
  {
   "cell_type": "code",
   "execution_count": null,
   "id": "2e0e6b7b",
   "metadata": {},
   "outputs": [],
   "source": [
    "arr_impares + arr_pares"
   ]
  },
  {
   "cell_type": "code",
   "execution_count": null,
   "id": "076a0ede",
   "metadata": {},
   "outputs": [],
   "source": [
    "# la multiplicación se hace elemento a elemento\n",
    "arr_impares * arr_pares"
   ]
  },
  {
   "cell_type": "code",
   "execution_count": null,
   "id": "08b84999",
   "metadata": {},
   "outputs": [],
   "source": [
    "# cuidado con la división entre cero\n",
    "arr_impares / arr_pares"
   ]
  },
  {
   "cell_type": "code",
   "execution_count": null,
   "id": "11508360",
   "metadata": {},
   "outputs": [],
   "source": [
    "np.inf * (-1)"
   ]
  },
  {
   "cell_type": "code",
   "execution_count": null,
   "id": "be9b2be0",
   "metadata": {},
   "outputs": [],
   "source": [
    "arr_p_numbers"
   ]
  },
  {
   "cell_type": "code",
   "execution_count": null,
   "id": "1231c0af",
   "metadata": {},
   "outputs": [],
   "source": [
    "# métodos asociados a estadística\n",
    "# suma\n",
    "arr_p_numbers.sum()"
   ]
  },
  {
   "cell_type": "code",
   "execution_count": null,
   "id": "06fcf833",
   "metadata": {},
   "outputs": [],
   "source": [
    "sum(arr_p_numbers)"
   ]
  },
  {
   "cell_type": "code",
   "execution_count": null,
   "id": "52501af8",
   "metadata": {},
   "outputs": [],
   "source": [
    "# promedio\n",
    "arr_p_numbers.mean()    ## arr.sum / len(arr)"
   ]
  },
  {
   "cell_type": "code",
   "execution_count": null,
   "id": "3d9a1d41",
   "metadata": {},
   "outputs": [],
   "source": [
    "# varianza\n",
    "arr_p_numbers.var()    # (arr - arr.mean)^2 / len(arr)"
   ]
  },
  {
   "cell_type": "code",
   "execution_count": null,
   "id": "d1e7c537",
   "metadata": {},
   "outputs": [],
   "source": [
    "# (arr - arr.mean)^2 / len(arr)  (varianza poblacional)\n",
    "\n",
    "(((arr_p_numbers - arr_p_numbers.mean()) * (arr_p_numbers - arr_p_numbers.mean())).sum()) / len(arr_p_numbers)"
   ]
  },
  {
   "cell_type": "code",
   "execution_count": null,
   "id": "57bae54a",
   "metadata": {},
   "outputs": [],
   "source": [
    "# como ordenar un np array\n",
    "arr_example = np.array([0, -1, 5, -4, 9])\n",
    "arr_example"
   ]
  },
  {
   "cell_type": "code",
   "execution_count": null,
   "id": "604aa35e",
   "metadata": {},
   "outputs": [],
   "source": [
    "# orden ascendente: de menor a mayor\n",
    "np.sort(arr_example)"
   ]
  },
  {
   "cell_type": "code",
   "execution_count": null,
   "id": "8bf9d8ca",
   "metadata": {},
   "outputs": [],
   "source": [
    "# orden descendente: de mayor a menor\n",
    "-np.sort(-arr_example)"
   ]
  },
  {
   "cell_type": "markdown",
   "id": "0a6819aa",
   "metadata": {},
   "source": [
    "Cuál es la diferencia entre usar sum y np.sum?"
   ]
  },
  {
   "cell_type": "code",
   "execution_count": null,
   "id": "37fff874",
   "metadata": {},
   "outputs": [],
   "source": [
    "arr_reshape"
   ]
  },
  {
   "cell_type": "code",
   "execution_count": null,
   "id": "866c4847",
   "metadata": {},
   "outputs": [],
   "source": [
    "arr_reshape.sum(axis=1)"
   ]
  },
  {
   "cell_type": "code",
   "execution_count": null,
   "id": "842c8777",
   "metadata": {},
   "outputs": [],
   "source": [
    "sum(arr_reshape)"
   ]
  },
  {
   "cell_type": "markdown",
   "id": "c010015e",
   "metadata": {},
   "source": [
    "### Seleccionar elementos de un array"
   ]
  },
  {
   "cell_type": "code",
   "execution_count": null,
   "id": "09233258",
   "metadata": {},
   "outputs": [],
   "source": [
    "np.linspace(2,3,100)"
   ]
  },
  {
   "cell_type": "code",
   "execution_count": null,
   "id": "dfdba4e2",
   "metadata": {},
   "outputs": [],
   "source": [
    "arr_linespace"
   ]
  },
  {
   "cell_type": "code",
   "execution_count": null,
   "id": "d62e1ff5",
   "metadata": {},
   "outputs": [],
   "source": [
    "## funciona similar a las listas:\n",
    "\n",
    "arr_linespace[1::5]"
   ]
  },
  {
   "cell_type": "code",
   "execution_count": null,
   "id": "ba05fe2f",
   "metadata": {},
   "outputs": [],
   "source": [
    "arr_reshape"
   ]
  },
  {
   "cell_type": "code",
   "execution_count": null,
   "id": "e33458bd",
   "metadata": {},
   "outputs": [],
   "source": [
    "arr_reshape.ndim"
   ]
  },
  {
   "cell_type": "code",
   "execution_count": null,
   "id": "379cf9bf",
   "metadata": {},
   "outputs": [],
   "source": [
    "# y funciona de esta manera para 2 o más dimensiones:\n",
    "arr_reshape[0,1]"
   ]
  },
  {
   "cell_type": "code",
   "execution_count": null,
   "id": "2f5b5ec1",
   "metadata": {},
   "outputs": [],
   "source": [
    "# seleccionar algún otro elemento\n",
    "arr_reshape[3,1]"
   ]
  },
  {
   "cell_type": "code",
   "execution_count": null,
   "id": "d7f50ba5",
   "metadata": {},
   "outputs": [],
   "source": [
    "# seleccionar por fila\n",
    "arr_reshape[0,:]"
   ]
  },
  {
   "cell_type": "code",
   "execution_count": null,
   "id": "2298e40f",
   "metadata": {
    "scrolled": true
   },
   "outputs": [],
   "source": [
    "# seleccionar por columna\n",
    "arr_reshape[:,1]"
   ]
  },
  {
   "cell_type": "code",
   "execution_count": null,
   "id": "a5b43d70",
   "metadata": {},
   "outputs": [],
   "source": [
    "arr_reshape[1:3]  #aquí entiende que estoy haciendo slicing en la primera dimensión y recorreremos toda la segunda dimensión"
   ]
  },
  {
   "cell_type": "code",
   "execution_count": null,
   "id": "8c8513bc",
   "metadata": {},
   "outputs": [],
   "source": [
    "arr_reshape[1:,:]"
   ]
  },
  {
   "cell_type": "markdown",
   "id": "39360166",
   "metadata": {},
   "source": [
    "### Se pueden utilizar filtros"
   ]
  },
  {
   "cell_type": "code",
   "execution_count": null,
   "id": "6a208351",
   "metadata": {},
   "outputs": [],
   "source": [
    "arr_pares"
   ]
  },
  {
   "cell_type": "code",
   "execution_count": null,
   "id": "93d6519a",
   "metadata": {
    "scrolled": true
   },
   "outputs": [],
   "source": [
    "arr_pares > 6"
   ]
  },
  {
   "cell_type": "code",
   "execution_count": null,
   "id": "854daaf5",
   "metadata": {},
   "outputs": [],
   "source": [
    "# filtrar el array\n",
    "\n",
    "arr_pares[arr_pares > 6]"
   ]
  },
  {
   "cell_type": "markdown",
   "id": "f06545f2",
   "metadata": {},
   "source": [
    "## Ejemplo: aproximación de una integral por sumas de Riemann\n",
    "\n",
    "\n",
    "A continuación vemos una breve descripción de cómo se definen las sumas de Riemann:"
   ]
  },
  {
   "attachments": {
    "Imagen%20capturada-04-04-2022%2020-42-40.png": {
     "image/png": "[encoded data removed]"
    }
   },
   "cell_type": "markdown",
   "id": "79725c10",
   "metadata": {},
   "source": [
    "![Imagen%20capturada-04-04-2022%2020-42-40.png](attachment:Imagen%20capturada-04-04-2022%2020-42-40.png)"
   ]
  },
  {
   "cell_type": "markdown",
   "id": "9b8dc827",
   "metadata": {},
   "source": [
    "Este gift nos muestra cómo funciona la aproximación por sumas de Riemann:"
   ]
  },
  {
   "attachments": {
    "integral_riemann.gif": {
     "image/gif": "[encoded data removed]"
    }
   },
   "cell_type": "markdown",
   "id": "459455aa",
   "metadata": {},
   "source": [
    "![integral_riemann.gif](attachment:integral_riemann.gif)"
   ]
  },
  {
   "cell_type": "code",
   "execution_count": null,
   "id": "dab1da5d",
   "metadata": {},
   "outputs": [],
   "source": [
    "## Paso 1. definir la función y el intervalo\n",
    "\n",
    "\n",
    "def f(x):\n",
    "    return x**2\n",
    "\n",
    "\n",
    "a = 0\n",
    "\n",
    "b = 2\n",
    "\n"
   ]
  },
  {
   "cell_type": "markdown",
   "id": "8203660c",
   "metadata": {},
   "source": [
    "$$\\int_0^2 x^2\\ d x = \\left.\\frac{x^3}{3}\\right|_0^2 = \\frac{8}{3}$$"
   ]
  },
  {
   "cell_type": "markdown",
   "id": "3c1a21dc",
   "metadata": {},
   "source": [
    "$$\\int_0^2 x^2\\ d x \\approx \\sum_{i=1}^n A(rect_i) = \\sum_{i=1}^n b_i\\cdot h_i = b\\sum_{i=1}^n h_i = b\\sum_{i=1}^n f(x_i)$$"
   ]
  },
  {
   "cell_type": "code",
   "execution_count": null,
   "id": "76e7f215",
   "metadata": {},
   "outputs": [],
   "source": [
    "## Paso 2. Definir nuestra partición\n",
    "\n",
    "import numpy as np\n",
    "\n",
    "a = 0\n",
    "b = 2\n",
    "\n",
    "X = np.linspace(a,b,10_000_001)\n",
    "\n",
    "## Paso 3. Calcular las alturas de mis rectángulos\n",
    "\n",
    "## vamos a ver el caso en el que h = f(en el extremo izquierdo)\n",
    "integrando = f(X)  #alturas de los rectángulos\n",
    "\n",
    "h = X[1] - X[0]   #ancho del rectángulo\n",
    "\n",
    "integral = integrando[1:].sum() * h  #integral por la izquierda\n",
    "integral\n"
   ]
  },
  {
   "cell_type": "code",
   "execution_count": null,
   "id": "4a48b69b",
   "metadata": {},
   "outputs": [],
   "source": [
    "8/3"
   ]
  },
  {
   "cell_type": "code",
   "execution_count": null,
   "id": "15be9642",
   "metadata": {},
   "outputs": [],
   "source": [
    "a = 1\n",
    "b = 1_000_000\n",
    "\n",
    "X = np.linspace(a,b,100_000_001)\n",
    "X"
   ]
  },
  {
   "cell_type": "markdown",
   "id": "b4b3cf52",
   "metadata": {},
   "source": [
    "$$\\int_1^\\infty e^{-x}\\ dx = \\frac{1}{e}$$"
   ]
  },
  {
   "cell_type": "code",
   "execution_count": null,
   "id": "3f17fd72",
   "metadata": {},
   "outputs": [],
   "source": [
    "import math\n",
    "def f(x):\n",
    "    return math.exp(-x)"
   ]
  },
  {
   "cell_type": "code",
   "execution_count": null,
   "id": "44b5aefd",
   "metadata": {},
   "outputs": [],
   "source": [
    "f(X)"
   ]
  },
  {
   "cell_type": "code",
   "execution_count": null,
   "id": "e3bf8071",
   "metadata": {},
   "outputs": [],
   "source": [
    "import math\n",
    "def f(x):\n",
    "    return math.exp(-x)\n",
    "\n",
    "X = np.array([1,2,3])\n",
    "\n",
    "np.array([f(x_i) for x_i in X])"
   ]
  },
  {
   "cell_type": "code",
   "execution_count": null,
   "id": "b4da4c02",
   "metadata": {},
   "outputs": [],
   "source": [
    "import math\n",
    "\n",
    "a = 1\n",
    "b = 1_000_000\n",
    "\n",
    "def f(x):\n",
    "    return math.exp(-x)\n",
    "\n",
    "\n",
    "X = np.linspace(a,b,10_000_001)\n",
    "\n",
    "mid_X = (X[1:] + X[:-1]) / 2\n",
    "\n",
    "integrand = np.array([f(x_i) for x_i in X])\n",
    "integrand_mid = np.array([f(x_i) for x_i in mid_X])\n",
    "\n",
    "delta_X = X[1] - X[0]  #ancho del rectángulo\n",
    "\n",
    "integral_left = np.sum(integrand[:-1]) * delta_X\n",
    "print(\"Suma de Riemann por la izquierda:\", integral_left)\n",
    "\n",
    "integral_right = np.sum(integrand[1:]) * delta_X\n",
    "print(\"Suma de Riemann por la derecha:\", integral_right)\n",
    "\n",
    "integral_mid = np.sum(integrand_mid) * delta_X\n",
    "print(\"Regla del punto medio:\", integral_mid)\n",
    "\n",
    "trapecio = 0.5 * np.sum(integrand[1:] + integrand[:-1]) * delta_X  ## = (integral_left + integral_right) / 2\n",
    "print(\"Regla del trapecio:\", trapecio)"
   ]
  },
  {
   "cell_type": "code",
   "execution_count": null,
   "id": "7985d8bd",
   "metadata": {},
   "outputs": [],
   "source": [
    "# integral por izquierda + integral por derecha = trapecio\n",
    "(0.36972007694570796 + 0.36604492457688154) / 2"
   ]
  },
  {
   "cell_type": "code",
   "execution_count": null,
   "id": "4f9766ca",
   "metadata": {
    "scrolled": true
   },
   "outputs": [],
   "source": [
    "1/math.e"
   ]
  },
  {
   "cell_type": "code",
   "execution_count": null,
   "id": "a80766d9",
   "metadata": {},
   "outputs": [],
   "source": [
    "X = np.linspace(0,10,11)\n",
    "\n",
    "print(X)\n",
    "\n",
    "mid_X = (X[1:] + X[:-1]) / 2\n",
    "mid_X"
   ]
  },
  {
   "cell_type": "code",
   "execution_count": null,
   "id": "498e77bd",
   "metadata": {},
   "outputs": [],
   "source": [
    "X[1:]"
   ]
  },
  {
   "cell_type": "code",
   "execution_count": null,
   "id": "7a25218a",
   "metadata": {
    "scrolled": true
   },
   "outputs": [],
   "source": [
    "X[:-1]"
   ]
  },
  {
   "cell_type": "code",
   "execution_count": null,
   "id": "bca86d60",
   "metadata": {},
   "outputs": [],
   "source": [
    "import sympy"
   ]
  },
  {
   "cell_type": "code",
   "execution_count": null,
   "id": "d7e82c0e",
   "metadata": {},
   "outputs": [],
   "source": [
    "dir(sympy)"
   ]
  },
  {
   "cell_type": "code",
   "execution_count": null,
   "id": "9a73067d",
   "metadata": {},
   "outputs": [],
   "source": [
    "from sympy import *   # estoy importando todo el paquete pero ya no necesito poner el nombre para acceder a las funciones\n",
    "x, y, z = symbols('x y z')"
   ]
  },
  {
   "cell_type": "code",
   "execution_count": null,
   "id": "59d2f339",
   "metadata": {},
   "outputs": [],
   "source": [
    "x, y, z"
   ]
  },
  {
   "cell_type": "code",
   "execution_count": null,
   "id": "30076167",
   "metadata": {},
   "outputs": [],
   "source": [
    "diff(cos(x*y), x)"
   ]
  },
  {
   "cell_type": "code",
   "execution_count": null,
   "id": "69291142",
   "metadata": {},
   "outputs": [],
   "source": [
    "integrate(exp(-x), x)"
   ]
  },
  {
   "cell_type": "code",
   "execution_count": null,
   "id": "60116a16",
   "metadata": {},
   "outputs": [],
   "source": [
    "integrate(exp(-x), (x, 1, oo))"
   ]
  },
  {
   "cell_type": "code",
   "execution_count": null,
   "id": "9ba12339",
   "metadata": {},
   "outputs": [],
   "source": [
    "z = cos(x*y)\n",
    "z"
   ]
  },
  {
   "cell_type": "markdown",
   "id": "fa2bdef6",
   "metadata": {},
   "source": [
    "> <h2 style=\"color:darkorange\"> $\\ll\\!\\!\\prec\\quad$ Tarea 2 $\\quad\\succ\\!\\!\\gg$ </h2>\n",
    "\n",
    "\n",
    "> $\\quad$ ENTREGA máximo jueves 16 de julio antes de la clase\n",
    "\n",
    "Resolver 3 de 4 problemas."
   ]
  },
  {
   "cell_type": "markdown",
   "id": "4975524b",
   "metadata": {},
   "source": [
    "1. Pedir al usuario un número entero positivo [N] mayor que dos - asegurarse de esto usando gestión de erorres o algún otro método que se les ocurra. Imprima en una lista de listas las tablas de multiplicar hasta el número N.\n",
    "\n",
    "\n",
    "```\n",
    "Dame un número entero mayor que dos: 14\n",
    "\n",
    "Tabla del 1: [1, 2, 3, 4, 5, 6, 7, 8, 9, 10]\n",
    "Tabla del 2: [2, 4, 6, 8, 10, 12, 14, 16, 18, 20]\n",
    "Tabla del 3: [3, 6, 9, 12, 15, 18, 21, 24, 27, 30]\n",
    "Tabla del 4: [4, 8, 12, 16, 20, 24, 28, 32, 36, 40]\n",
    "Tabla del 5: [5, 10, 15, 20, 25, 30, 35, 40, 45, 50]\n",
    "Tabla del 6: [6, 12, 18, 24, 30, 36, 42, 48, 54, 60]\n",
    "Tabla del 7: [7, 14, 21, 28, 35, 42, 49, 56, 63, 70]\n",
    "Tabla del 8: [8, 16, 24, 32, 40, 48, 56, 64, 72, 80]\n",
    "Tabla del 9: [9, 18, 27, 36, 45, 54, 63, 72, 81, 90]\n",
    "Tabla del 10: [10, 20, 30, 40, 50, 60, 70, 80, 90, 100]\n",
    "Tabla del 11: [11, 22, 33, 44, 55, 66, 77, 88, 99, 110]\n",
    "Tabla del 12: [12, 24, 36, 48, 60, 72, 84, 96, 108, 120]\n",
    "Tabla del 13: [13, 26, 39, 52, 65, 78, 91, 104, 117, 130]\n",
    "Tabla del 14: [14, 28, 42, 56, 70, 84, 98, 112, 126, 140]\n",
    "```"
   ]
  },
  {
   "cell_type": "markdown",
   "id": "a2c1bcf8",
   "metadata": {},
   "source": [
    "2. Para valuar derivados lineales (bonos, swaps, etc) es muy útil contar con funciones para calcular fechas de pago. Genere tres funciones que reciban una fecha (tipo datetime) y un entero para sumar el número de dias/meses/años que se quiera. (shift_date_by_days, etc)\n",
    "\n",
    "\n",
    "Ejemplo:\n",
    "\n",
    "```python\n",
    "def shift_date_by_days(date, n_days):  # date es datetime, n_days es entero\n",
    "    return date + n_days\n",
    "\n",
    "def shift_date_by_months(date, n_months):  # date es datetime, n_months es entero\n",
    "    return date + n_months\n",
    "\n",
    "def shift_date_by_years(date, n_years):  # date es datetime, n_years es entero\n",
    "    return date + n_years\n",
    "```\n",
    "\n",
    "Usando las funciones anteriores, generalice el ejercicio para construir la función:\n",
    "\n",
    "```python\n",
    "def shift_date_by_tenor(date, tenor)   ## date es datetime, tenor es string del tipo \"28D\", \"1M\", \"3Y\", etc\n",
    "```\n",
    "\n",
    "OJO: Se puede usar relativedelta\n"
   ]
  },
  {
   "cell_type": "markdown",
   "id": "b2b9b873",
   "metadata": {},
   "source": [
    "```python\n",
    "today = datetime(2023, 6, 27)\n",
    "\n",
    "tenor = \"3Y\"\n",
    "\n",
    "shift_date_by_tenor(today, tenor)\n",
    "\n",
    "  >> datetime(2026, 6, 27)\n",
    "```"
   ]
  },
  {
   "cell_type": "code",
   "execution_count": null,
   "id": "a1786d4f",
   "metadata": {},
   "outputs": [],
   "source": [
    "from dateutil.relativedelta import relativedelta\n",
    "from datetime import datetime\n",
    "\n",
    "today = datetime(2024,12,3)\n",
    "today"
   ]
  },
  {
   "cell_type": "code",
   "execution_count": null,
   "id": "c098cdf1",
   "metadata": {},
   "outputs": [],
   "source": [
    "relativedelta(years=2)"
   ]
  },
  {
   "cell_type": "code",
   "execution_count": null,
   "id": "551e19e4",
   "metadata": {},
   "outputs": [],
   "source": [
    "today + relativedelta(years=2)"
   ]
  },
  {
   "cell_type": "code",
   "execution_count": null,
   "id": "24a014b0",
   "metadata": {},
   "outputs": [],
   "source": [
    "def shift_date_by_days(fecha, n_days):\n",
    "    return fecha + relativedelta(days=n_days)"
   ]
  },
  {
   "cell_type": "code",
   "execution_count": null,
   "id": "582212d7",
   "metadata": {},
   "outputs": [],
   "source": [
    "shift_date_by_days(today, 1)"
   ]
  },
  {
   "cell_type": "code",
   "execution_count": null,
   "id": "f0bdb580",
   "metadata": {},
   "outputs": [],
   "source": [
    "###   (t + n_days) + n_months  !=   (t + n_months ) + n_days\n",
    "\n",
    "fecha_1 = datetime(2024,2,28)\n",
    "\n",
    "(fecha_1 + relativedelta(days=2)) + relativedelta(months=1)\n"
   ]
  },
  {
   "cell_type": "code",
   "execution_count": null,
   "id": "45c013e2",
   "metadata": {},
   "outputs": [],
   "source": [
    "(fecha_1 + relativedelta(months=1)) + relativedelta(days=2)"
   ]
  },
  {
   "cell_type": "markdown",
   "id": "2c4e8b22",
   "metadata": {},
   "source": [
    "2.1 ¿De qué manera podríamos usar un vector de holidays para calcular fechas de vencimiento?"
   ]
  },
  {
   "cell_type": "markdown",
   "id": "164e1c30",
   "metadata": {},
   "source": [
    "3. Usando recurrencia, calcule el límite de las siguientes sucesiones ($\\epsilon = 10^{-7}$):\n",
    "\n",
    "a) $$a_n = \\sqrt{2\\,a_{n-1}},\\qquad a_0=1\\qquad\\quad \\mbox{Es decir,}\\quad a_n = \\sqrt{2\\sqrt{2\\sqrt{2\\sqrt{2\\sqrt{2\\cdots}}}}}\\quad\\mbox{n-veces}$$\n",
    "\n",
    "b) $$b_{n+1} = \\frac{1}{2}\\left(b_n + \\frac{25}{b_n}\\right), \\qquad b_1 =3$$\n",
    "\n",
    "\n",
    "Vamos a suponer que ya convergió cuando\n",
    "\n",
    "$$|f(n) - f(n+1)| < \\epsilon $$"
   ]
  },
  {
   "cell_type": "markdown",
   "id": "534cc056",
   "metadata": {},
   "source": [
    "Ejemplo rápido:\n",
    "\n",
    "$$a_n = \\frac{2n+1}{3n-2}$$"
   ]
  },
  {
   "cell_type": "code",
   "execution_count": 36,
   "id": "6c922269",
   "metadata": {},
   "outputs": [],
   "source": [
    "def sucesion(n):\n",
    "    return (2*n + 1) / (3*n-2)"
   ]
  },
  {
   "cell_type": "code",
   "execution_count": 37,
   "id": "58d19269",
   "metadata": {},
   "outputs": [
    {
     "data": {
      "text/plain": [
       "1.25"
      ]
     },
     "execution_count": 37,
     "metadata": {},
     "output_type": "execute_result"
    }
   ],
   "source": [
    "sucesion(2)"
   ]
  },
  {
   "cell_type": "code",
   "execution_count": 38,
   "id": "e2a6eb4f",
   "metadata": {
    "scrolled": true
   },
   "outputs": [
    {
     "data": {
      "text/plain": [
       "[3.0,\n",
       " 1.25,\n",
       " 1.0,\n",
       " 0.9,\n",
       " 0.8461538461538461,\n",
       " 0.8125,\n",
       " 0.7894736842105263,\n",
       " 0.7727272727272727,\n",
       " 0.76,\n",
       " 0.75,\n",
       " 0.7419354838709677,\n",
       " 0.7352941176470589,\n",
       " 0.7297297297297297,\n",
       " 0.725,\n",
       " 0.7209302325581395,\n",
       " 0.717391304347826,\n",
       " 0.7142857142857143,\n",
       " 0.7115384615384616,\n",
       " 0.7090909090909091,\n",
       " 0.7068965517241379,\n",
       " 0.7049180327868853,\n",
       " 0.703125,\n",
       " 0.7014925373134329,\n",
       " 0.7,\n",
       " 0.6986301369863014,\n",
       " 0.6973684210526315,\n",
       " 0.6962025316455697,\n",
       " 0.6951219512195121,\n",
       " 0.6941176470588235,\n",
       " 0.6931818181818182,\n",
       " 0.6923076923076923,\n",
       " 0.6914893617021277,\n",
       " 0.6907216494845361,\n",
       " 0.69,\n",
       " 0.6893203883495146,\n",
       " 0.6886792452830188,\n",
       " 0.6880733944954128,\n",
       " 0.6875,\n",
       " 0.6869565217391305,\n",
       " 0.6864406779661016,\n",
       " 0.6859504132231405,\n",
       " 0.6854838709677419,\n",
       " 0.6850393700787402,\n",
       " 0.6846153846153846,\n",
       " 0.6842105263157895,\n",
       " 0.6838235294117647,\n",
       " 0.6834532374100719,\n",
       " 0.6830985915492958,\n",
       " 0.6827586206896552,\n",
       " 0.6824324324324325,\n",
       " 0.6821192052980133,\n",
       " 0.6818181818181818,\n",
       " 0.6815286624203821,\n",
       " 0.68125,\n",
       " 0.6809815950920245,\n",
       " 0.6807228915662651,\n",
       " 0.6804733727810651,\n",
       " 0.6802325581395349,\n",
       " 0.68,\n",
       " 0.6797752808988764,\n",
       " 0.6795580110497238,\n",
       " 0.6793478260869565,\n",
       " 0.679144385026738,\n",
       " 0.6789473684210526,\n",
       " 0.6787564766839378,\n",
       " 0.6785714285714286,\n",
       " 0.678391959798995,\n",
       " 0.6782178217821783,\n",
       " 0.6780487804878049,\n",
       " 0.6778846153846154,\n",
       " 0.6777251184834123,\n",
       " 0.677570093457944,\n",
       " 0.6774193548387096,\n",
       " 0.6772727272727272,\n",
       " 0.6771300448430493,\n",
       " 0.6769911504424779,\n",
       " 0.6768558951965066,\n",
       " 0.6767241379310345,\n",
       " 0.676595744680851,\n",
       " 0.6764705882352942,\n",
       " 0.6763485477178424,\n",
       " 0.6762295081967213,\n",
       " 0.6761133603238867,\n",
       " 0.676,\n",
       " 0.6758893280632411,\n",
       " 0.67578125,\n",
       " 0.6756756756756757,\n",
       " 0.6755725190839694,\n",
       " 0.6754716981132075,\n",
       " 0.6753731343283582,\n",
       " 0.6752767527675276,\n",
       " 0.6751824817518248,\n",
       " 0.6750902527075813,\n",
       " 0.675,\n",
       " 0.6749116607773852,\n",
       " 0.6748251748251748,\n",
       " 0.6747404844290658,\n",
       " 0.6746575342465754,\n",
       " 0.6745762711864407,\n",
       " 0.674496644295302,\n",
       " 0.6744186046511628,\n",
       " 0.6743421052631579,\n",
       " 0.6742671009771987,\n",
       " 0.6741935483870968,\n",
       " 0.6741214057507987,\n",
       " 0.6740506329113924,\n",
       " 0.6739811912225705,\n",
       " 0.6739130434782609,\n",
       " 0.6738461538461539,\n",
       " 0.6737804878048781,\n",
       " 0.6737160120845922,\n",
       " 0.6736526946107785,\n",
       " 0.6735905044510386,\n",
       " 0.6735294117647059,\n",
       " 0.673469387755102,\n",
       " 0.6734104046242775,\n",
       " 0.673352435530086,\n",
       " 0.6732954545454546,\n",
       " 0.6732394366197183,\n",
       " 0.6731843575418994,\n",
       " 0.6731301939058172,\n",
       " 0.6730769230769231,\n",
       " 0.6730245231607629,\n",
       " 0.672972972972973,\n",
       " 0.6729222520107239,\n",
       " 0.6728723404255319,\n",
       " 0.6728232189973615,\n",
       " 0.6727748691099477,\n",
       " 0.6727272727272727,\n",
       " 0.6726804123711341,\n",
       " 0.6726342710997443,\n",
       " 0.6725888324873096,\n",
       " 0.672544080604534,\n",
       " 0.6725,\n",
       " 0.6724565756823822,\n",
       " 0.6724137931034483,\n",
       " 0.6723716381418093,\n",
       " 0.6723300970873787,\n",
       " 0.672289156626506,\n",
       " 0.6722488038277512,\n",
       " 0.672209026128266,\n",
       " 0.6721698113207547,\n",
       " 0.6721311475409836,\n",
       " 0.672093023255814,\n",
       " 0.6720554272517321,\n",
       " 0.6720183486238532,\n",
       " 0.6719817767653758,\n",
       " 0.6719457013574661,\n",
       " 0.6719101123595506,\n",
       " 0.671875,\n",
       " 0.6718403547671841,\n",
       " 0.6718061674008811,\n",
       " 0.6717724288840262,\n",
       " 0.6717391304347826,\n",
       " 0.67170626349892,\n",
       " 0.6716738197424893,\n",
       " 0.6716417910447762,\n",
       " 0.6716101694915254,\n",
       " 0.671578947368421,\n",
       " 0.6715481171548117,\n",
       " 0.6715176715176715,\n",
       " 0.6714876033057852,\n",
       " 0.6714579055441479,\n",
       " 0.6714285714285714,\n",
       " 0.6713995943204868,\n",
       " 0.6713709677419355,\n",
       " 0.6713426853707415,\n",
       " 0.6713147410358565,\n",
       " 0.6712871287128713,\n",
       " 0.6712598425196851,\n",
       " 0.6712328767123288,\n",
       " 0.6712062256809338,\n",
       " 0.6711798839458414,\n",
       " 0.6711538461538461,\n",
       " 0.6711281070745698,\n",
       " 0.6711026615969582,\n",
       " 0.6710775047258979,\n",
       " 0.6710526315789473,\n",
       " 0.6710280373831776,\n",
       " 0.671003717472119,\n",
       " 0.6709796672828097,\n",
       " 0.6709558823529411,\n",
       " 0.6709323583180987,\n",
       " 0.6709090909090909,\n",
       " 0.6708860759493671,\n",
       " 0.670863309352518,\n",
       " 0.6708407871198568,\n",
       " 0.6708185053380783,\n",
       " 0.6707964601769911,\n",
       " 0.670774647887324,\n",
       " 0.670753064798599,\n",
       " 0.6707317073170732,\n",
       " 0.6707105719237435,\n",
       " 0.6706896551724137,\n",
       " 0.6706689536878216,\n",
       " 0.6706484641638225,\n",
       " 0.6706281833616299,\n",
       " 0.6706081081081081,\n",
       " 0.6705882352941176,\n",
       " 0.6705685618729097,\n",
       " 0.670549084858569,\n",
       " 0.6705298013245033,\n",
       " 0.6705107084019769,\n",
       " 0.6704918032786885,\n",
       " 0.6704730831973899,\n",
       " 0.6704545454545454,\n",
       " 0.6704361873990307,\n",
       " 0.6704180064308681,\n",
       " 0.6704,\n",
       " 0.6703821656050956,\n",
       " 0.6703645007923931,\n",
       " 0.6703470031545742,\n",
       " 0.6703296703296703,\n",
       " 0.6703125,\n",
       " 0.6702954898911353,\n",
       " 0.6702786377708978,\n",
       " 0.6702619414483821,\n",
       " 0.6702453987730062,\n",
       " 0.6702290076335878,\n",
       " 0.6702127659574468,\n",
       " 0.670196671709531,\n",
       " 0.6701807228915663,\n",
       " 0.6701649175412294,\n",
       " 0.6701492537313433,\n",
       " 0.6701337295690936,\n",
       " 0.6701183431952663,\n",
       " 0.6701030927835051,\n",
       " 0.6700879765395894,\n",
       " 0.67007299270073,\n",
       " 0.6700581395348837,\n",
       " 0.6700434153400868,\n",
       " 0.670028818443804,\n",
       " 0.6700143472022956,\n",
       " 0.67,\n",
       " 0.6699857752489331,\n",
       " 0.669971671388102,\n",
       " 0.6699576868829337,\n",
       " 0.6699438202247191,\n",
       " 0.66993006993007,\n",
       " 0.66991643454039,\n",
       " 0.6699029126213593,\n",
       " 0.669889502762431,\n",
       " 0.6698762035763411,\n",
       " 0.6698630136986301,\n",
       " 0.669849931787176,\n",
       " 0.6698369565217391,\n",
       " 0.6698240866035182,\n",
       " 0.6698113207547169,\n",
       " 0.6697986577181209,\n",
       " 0.6697860962566845,\n",
       " 0.6697736351531292,\n",
       " 0.669761273209549,\n",
       " 0.6697490092470277,\n",
       " 0.6697368421052632,\n",
       " 0.6697247706422018,\n",
       " 0.6697127937336814,\n",
       " 0.6697009102730819,\n",
       " 0.6696891191709845,\n",
       " 0.6696774193548387,\n",
       " 0.6696658097686375,\n",
       " 0.6696542893725992,\n",
       " 0.6696428571428571,\n",
       " 0.6696315120711563,\n",
       " 0.669620253164557,\n",
       " 0.669609079445145,\n",
       " 0.6695979899497487,\n",
       " 0.6695869837296621,\n",
       " 0.669576059850374,\n",
       " 0.6695652173913044,\n",
       " 0.6695544554455446,\n",
       " 0.6695437731196054,\n",
       " 0.6695331695331695,\n",
       " 0.6695226438188494,\n",
       " 0.6695121951219513,\n",
       " 0.669501822600243,\n",
       " 0.6694915254237288,\n",
       " 0.669481302774427,\n",
       " 0.6694711538461539,\n",
       " 0.6694610778443114,\n",
       " 0.6694510739856802,\n",
       " 0.6694411414982164,\n",
       " 0.669431279620853,\n",
       " 0.6694214876033058,\n",
       " 0.6694117647058824,\n",
       " 0.6694021101992966,\n",
       " 0.669392523364486,\n",
       " 0.6693830034924331,\n",
       " 0.6693735498839907,\n",
       " 0.669364161849711,\n",
       " 0.6693548387096774,\n",
       " 0.669345579793341,\n",
       " 0.6693363844393593,\n",
       " 0.669327251995439,\n",
       " 0.6693181818181818,\n",
       " 0.6693091732729332,\n",
       " 0.6693002257336343,\n",
       " 0.6692913385826772,\n",
       " 0.6692825112107623,\n",
       " 0.6692737430167598,\n",
       " 0.6692650334075724,\n",
       " 0.6692563817980022,\n",
       " 0.6692477876106194,\n",
       " 0.6692392502756339,\n",
       " 0.6692307692307692,\n",
       " 0.6692223439211391,\n",
       " 0.6692139737991266,\n",
       " 0.6692056583242655,\n",
       " 0.6691973969631236,\n",
       " 0.6691891891891892,\n",
       " 0.6691810344827587,\n",
       " 0.6691729323308271,\n",
       " 0.6691648822269807,\n",
       " 0.6691568836712913,\n",
       " 0.6691489361702128,\n",
       " 0.6691410392364793,\n",
       " 0.6691331923890064,\n",
       " 0.6691253951527925,\n",
       " 0.6691176470588235,\n",
       " 0.669109947643979,\n",
       " 0.6691022964509394,\n",
       " 0.6690946930280958,\n",
       " 0.6690871369294605,\n",
       " 0.6690796277145812,\n",
       " 0.6690721649484536,\n",
       " 0.6690647482014388,\n",
       " 0.6690573770491803,\n",
       " 0.669050051072523,\n",
       " 0.6690427698574338,\n",
       " 0.6690355329949239,\n",
       " 0.6690283400809717,\n",
       " 0.669021190716448,\n",
       " 0.6690140845070423,\n",
       " 0.6690070210631895,\n",
       " 0.669,\n",
       " 0.6689930209371885,\n",
       " 0.668986083499006,\n",
       " 0.6689791873141725,\n",
       " 0.6689723320158103,\n",
       " 0.6689655172413793,\n",
       " 0.668958742632613,\n",
       " 0.6689520078354554,\n",
       " 0.6689453125,\n",
       " 0.6689386562804285,\n",
       " 0.6689320388349514,\n",
       " 0.6689254598257502,\n",
       " 0.668918918918919,\n",
       " 0.6689124157844081,\n",
       " 0.6689059500959693,\n",
       " 0.6688995215311004,\n",
       " 0.6688931297709924,\n",
       " 0.6688867745004757,\n",
       " 0.6688804554079696,\n",
       " 0.6688741721854304,\n",
       " 0.6688679245283019,\n",
       " 0.6688617121354656,\n",
       " 0.6688555347091932,\n",
       " 0.6688493919550982,\n",
       " 0.6688432835820896,\n",
       " 0.6688372093023256,\n",
       " 0.6688311688311688,\n",
       " 0.6688251618871416,\n",
       " 0.6688191881918819,\n",
       " 0.6688132474701012,\n",
       " 0.6688073394495413,\n",
       " 0.6688014638609332,\n",
       " 0.6687956204379562,\n",
       " 0.6687898089171974,\n",
       " 0.6687840290381125,\n",
       " 0.6687782805429864,\n",
       " 0.6687725631768953,\n",
       " 0.6687668766876688,\n",
       " 0.6687612208258528,\n",
       " 0.6687555953446732,\n",
       " 0.66875,\n",
       " 0.6687444345503116,\n",
       " 0.6687388987566607,\n",
       " 0.6687333923826395,\n",
       " 0.6687279151943463,\n",
       " 0.6687224669603524,\n",
       " 0.6687170474516696,\n",
       " 0.6687116564417178,\n",
       " 0.6687062937062938,\n",
       " 0.6687009590235397,\n",
       " 0.668695652173913,\n",
       " 0.6686903729401561,\n",
       " 0.6686851211072664,\n",
       " 0.6686798964624676,\n",
       " 0.6686746987951807,\n",
       " 0.6686695278969957,\n",
       " 0.6686643835616438,\n",
       " 0.6686592655849701,\n",
       " 0.6686541737649063,\n",
       " 0.6686491079014444,\n",
       " 0.6686440677966101,\n",
       " 0.6686390532544378,\n",
       " 0.6686340640809444,\n",
       " 0.6686291000841043,\n",
       " 0.6686241610738255,\n",
       " 0.6686192468619246,\n",
       " 0.6686143572621035,\n",
       " 0.668609492089925,\n",
       " 0.6686046511627907,\n",
       " 0.6685998342999171,\n",
       " 0.6685950413223141,\n",
       " 0.6685902720527618,\n",
       " 0.6685855263157895,\n",
       " 0.6685808039376538,\n",
       " 0.6685761047463176,\n",
       " 0.6685714285714286,\n",
       " 0.6685667752442996,\n",
       " 0.6685621445978879,\n",
       " 0.6685575364667747,\n",
       " 0.6685529506871464,\n",
       " 0.6685483870967742,\n",
       " 0.668543845534996,\n",
       " 0.6685393258426966,\n",
       " 0.6685348278622898,\n",
       " 0.6685303514376997,\n",
       " 0.6685258964143427,\n",
       " 0.6685214626391097,\n",
       " 0.6685170499603489,\n",
       " 0.6685126582278481,\n",
       " 0.6685082872928176,\n",
       " 0.668503937007874,\n",
       " 0.6684996072270227,\n",
       " 0.6684952978056427,\n",
       " 0.6684910086004691,\n",
       " 0.6684867394695788,\n",
       " 0.6684824902723735,\n",
       " 0.6684782608695652,\n",
       " 0.6684740511231604,\n",
       " 0.6684698608964451,\n",
       " 0.6684656900539707,\n",
       " 0.6684615384615384,\n",
       " 0.6684574059861857,\n",
       " 0.6684532924961715,\n",
       " 0.6684491978609626,\n",
       " 0.6684451219512195,\n",
       " 0.6684410646387833,\n",
       " 0.6684370257966616,\n",
       " 0.668433005299016,\n",
       " 0.668429003021148,\n",
       " 0.6684250188394876,\n",
       " 0.6684210526315789,\n",
       " 0.668417104276069,\n",
       " 0.6684131736526946,\n",
       " 0.6684092606422704,\n",
       " 0.6684053651266766,\n",
       " 0.6684014869888476,\n",
       " 0.6683976261127597,\n",
       " 0.6683937823834197,\n",
       " 0.6683899556868538,\n",
       " 0.6683861459100958,\n",
       " 0.6683823529411764,\n",
       " 0.6683785766691123,\n",
       " 0.6683748169838946,\n",
       " 0.6683710737764792,\n",
       " 0.6683673469387755,\n",
       " 0.6683636363636364,\n",
       " 0.6683599419448476,\n",
       " 0.6683562635771181,\n",
       " 0.6683526011560693,\n",
       " 0.6683489545782264,\n",
       " 0.6683453237410072,\n",
       " 0.6683417085427136,\n",
       " 0.6683381088825215,\n",
       " 0.6683345246604717,\n",
       " 0.6683309557774608,\n",
       " 0.6683274021352313,\n",
       " 0.6683238636363636,\n",
       " 0.6683203401842664,\n",
       " 0.6683168316831684,\n",
       " 0.6683133380381087,\n",
       " 0.6683098591549296,\n",
       " 0.668306394940267,\n",
       " 0.6683029453015428,\n",
       " 0.6682995101469559,\n",
       " 0.6682960893854749,\n",
       " 0.6682926829268293,\n",
       " 0.6682892906815021,\n",
       " 0.6682859125607217,\n",
       " 0.6682825484764543,\n",
       " 0.668279198341396,\n",
       " 0.6682758620689655,\n",
       " 0.6682725395732966,\n",
       " 0.6682692307692307,\n",
       " 0.6682659355723098,\n",
       " 0.6682626538987688,\n",
       " 0.668259385665529,\n",
       " 0.6682561307901907,\n",
       " 0.6682528891910265,\n",
       " 0.6682496607869742,\n",
       " 0.6682464454976303,\n",
       " 0.6682432432432432,\n",
       " 0.6682400539447066,\n",
       " 0.6682368775235532,\n",
       " 0.6682337139019476,\n",
       " 0.6682305630026809,\n",
       " 0.6682274247491639,\n",
       " 0.6682242990654206,\n",
       " 0.6682211858760826,\n",
       " 0.668218085106383,\n",
       " 0.66821499668215,\n",
       " 0.6682119205298013,\n",
       " 0.6682088565763384,\n",
       " 0.6682058047493403,\n",
       " 0.6682027649769585,\n",
       " 0.6681997371879106,\n",
       " 0.6681967213114755,\n",
       " 0.6681937172774869,\n",
       " 0.6681907250163291,\n",
       " 0.6681877444589309,\n",
       " 0.6681847755367599,\n",
       " 0.6681818181818182,\n",
       " 0.6681788723266364,\n",
       " 0.6681759379042691,\n",
       " 0.6681730148482892,\n",
       " 0.6681701030927835,\n",
       " 0.6681672025723473,\n",
       " 0.6681643132220796,\n",
       " 0.6681614349775785,\n",
       " 0.6681585677749361,\n",
       " 0.6681557115507338,\n",
       " 0.6681528662420382,\n",
       " 0.6681500317863954,\n",
       " 0.6681472081218274,\n",
       " 0.6681443951868271,\n",
       " 0.668141592920354,\n",
       " 0.6681388012618297,\n",
       " 0.6681360201511335,\n",
       " 0.6681332495285983,\n",
       " 0.6681304893350063,\n",
       " 0.6681277395115842,\n",
       " 0.668125,\n",
       " 0.6681222707423581,\n",
       " 0.6681195516811955,\n",
       " 0.6681168427594779,\n",
       " 0.6681141439205955,\n",
       " 0.6681114551083591,\n",
       " 0.6681087762669963,\n",
       " 0.6681061073411474,\n",
       " 0.6681034482758621,\n",
       " 0.6681007990165949,\n",
       " 0.6680981595092025,\n",
       " 0.6680955296999388,\n",
       " 0.6680929095354523,\n",
       " 0.6680902989627822,\n",
       " 0.6680876979293544,\n",
       " 0.6680851063829787,\n",
       " 0.6680825242718447,\n",
       " 0.6680799515445185,\n",
       " 0.6680773881499396,\n",
       " 0.668074834037417,\n",
       " 0.6680722891566265,\n",
       " 0.6680697534576068,\n",
       " 0.6680672268907563,\n",
       " 0.6680647094068305,\n",
       " 0.6680622009569378,\n",
       " 0.6680597014925374,\n",
       " 0.668057210965435,\n",
       " 0.6680547293277811,\n",
       " 0.6680522565320665,\n",
       " 0.6680497925311203,\n",
       " 0.6680473372781065,\n",
       " 0.668044890726521,\n",
       " 0.6680424528301887,\n",
       " 0.6680400235432608,\n",
       " 0.6680376028202115,\n",
       " 0.6680351906158358,\n",
       " 0.6680327868852459,\n",
       " 0.6680303915838691,\n",
       " 0.6680280046674446,\n",
       " 0.668025626092021,\n",
       " 0.6680232558139535,\n",
       " 0.6680208937899014,\n",
       " 0.668018539976825,\n",
       " 0.6680161943319838,\n",
       " 0.668013856812933,\n",
       " 0.6680115273775216,\n",
       " 0.6680092059838896,\n",
       " 0.6680068925904652,\n",
       " 0.6680045871559633,\n",
       " 0.6680022896393818,\n",
       " 0.668,\n",
       " 0.667997718197376,\n",
       " 0.6679954441913439,\n",
       " 0.6679931779420125,\n",
       " 0.6679909194097616,\n",
       " 0.6679886685552407,\n",
       " 0.6679864253393665,\n",
       " 0.6679841897233202,\n",
       " 0.6679819616685456,\n",
       " 0.6679797411367473,\n",
       " 0.6679775280898876,\n",
       " 0.6679753224901851,\n",
       " 0.667973124300112,\n",
       " 0.6679709334823924,\n",
       " 0.66796875,\n",
       " 0.667966573816156,\n",
       " 0.6679644048943271,\n",
       " 0.6679622431982232,\n",
       " 0.667960088691796,\n",
       " 0.6679579413392362,\n",
       " 0.6679558011049723,\n",
       " 0.667953667953668,\n",
       " 0.6679515418502202,\n",
       " 0.6679494227597581,\n",
       " 0.6679473106476399,\n",
       " 0.667945205479452,\n",
       " 0.6679431072210066,\n",
       " 0.6679410158383398,\n",
       " 0.6679389312977099,\n",
       " 0.6679368535655961,\n",
       " 0.6679347826086957,\n",
       " 0.667932718393923,\n",
       " 0.6679306608884074,\n",
       " 0.6679286100594917,\n",
       " 0.66792656587473,\n",
       " 0.6679245283018868,\n",
       " 0.6679224973089344,\n",
       " 0.6679204728640515,\n",
       " 0.6679184549356223,\n",
       " 0.6679164434922336,\n",
       " 0.6679144385026738,\n",
       " 0.6679124399359316,\n",
       " 0.667910447761194,\n",
       " 0.6679084619478446,\n",
       " 0.6679064824654622,\n",
       " 0.6679045092838196,\n",
       " 0.6679025423728814,\n",
       " 0.6679005817028028,\n",
       " 0.6678986272439282,\n",
       " 0.6678966789667896,\n",
       " 0.6678947368421052,\n",
       " 0.6678928008407777,\n",
       " 0.667890870933893,\n",
       " 0.6678889470927187,\n",
       " 0.6678870292887029,\n",
       " 0.6678851174934726,\n",
       " 0.6678832116788321,\n",
       " 0.6678813118167621,\n",
       " 0.6678794178794178,\n",
       " 0.6678775298391282,\n",
       " 0.6678756476683938,\n",
       " 0.6678737713398862,\n",
       " 0.6678719008264463,\n",
       " 0.6678700361010831,\n",
       " 0.6678681771369722,\n",
       " 0.667866323907455,\n",
       " 0.667864476386037,\n",
       " 0.6678626345463865,\n",
       " 0.6678607983623337,\n",
       " 0.6678589678078692,\n",
       " 0.6678571428571428,\n",
       " 0.6678553234844625,\n",
       " 0.667853509664293,\n",
       " 0.6678517013712545,\n",
       " 0.6678498985801217,\n",
       " 0.6678481012658228,\n",
       " 0.6678463094034378,\n",
       " 0.6678445229681979,\n",
       " 0.6678427419354839,\n",
       " 0.6678409662808253,\n",
       " 0.6678391959798995,\n",
       " 0.6678374310085299,\n",
       " 0.6678356713426854,\n",
       " 0.6678339169584793,\n",
       " 0.6678321678321678,\n",
       " 0.6678304239401496,\n",
       " 0.6678286852589641,\n",
       " 0.6678269517652909,\n",
       " 0.6678252234359484,\n",
       " 0.6678235002478929,\n",
       " 0.6678217821782179,\n",
       " 0.6678200692041523,\n",
       " 0.6678183613030603,\n",
       " 0.6678166584524396,\n",
       " 0.6678149606299213,\n",
       " 0.6678132678132678,\n",
       " 0.6678115799803729,\n",
       " 0.6678098971092602,\n",
       " 0.6678082191780822,\n",
       " 0.6678065461651197,\n",
       " 0.6678048780487805,\n",
       " 0.6678032148075986,\n",
       " 0.6678015564202334,\n",
       " 0.6677999028654686,\n",
       " 0.6677982541222115,\n",
       " 0.6677966101694915,\n",
       " 0.6677949709864603,\n",
       " 0.6677933365523901,\n",
       " 0.6677917068466731,\n",
       " 0.6677900818488204,\n",
       " 0.6677884615384615,\n",
       " 0.6677868458953432,\n",
       " 0.6677852348993288,\n",
       " 0.6677836285303973,\n",
       " 0.6677820267686424,\n",
       " 0.6677804295942721,\n",
       " 0.6677788369876072,\n",
       " 0.6677772489290814,\n",
       " 0.6677756653992395,\n",
       " 0.6677740863787376,\n",
       " 0.6677725118483412,\n",
       " 0.6677709417889257,\n",
       " 0.6677693761814745,\n",
       " 0.6677678150070788,\n",
       " 0.6677662582469368,\n",
       " 0.6677647058823529,\n",
       " 0.6677631578947368,\n",
       " 0.667761614265603,\n",
       " 0.6677600749765699,\n",
       " 0.667758540009359,\n",
       " 0.6677570093457944,\n",
       " 0.6677554829678022,\n",
       " 0.6677539608574091,\n",
       " 0.6677524429967426,\n",
       " 0.6677509293680297,\n",
       " 0.6677494199535963,\n",
       " 0.6677479147358666,\n",
       " 0.6677464136973623,\n",
       " 0.6677449168207024,\n",
       " 0.6677434240886018,\n",
       " 0.667741935483871,\n",
       " 0.6677404509894156,\n",
       " 0.6677389705882353,\n",
       " 0.6677374942634235,\n",
       " 0.6677360219981668,\n",
       " 0.6677345537757438,\n",
       " 0.6677330895795247,\n",
       " 0.6677316293929713,\n",
       " 0.6677301731996353,\n",
       " 0.6677287209831588,\n",
       " 0.6677272727272727,\n",
       " 0.6677258284157966,\n",
       " 0.6677243880326382,\n",
       " 0.6677229515617926,\n",
       " 0.6677215189873418,\n",
       " 0.6677200902934537,\n",
       " 0.6677186654643823,\n",
       " 0.6677172444844665,\n",
       " 0.6677158273381295,\n",
       " 0.6677144140098787,\n",
       " 0.6677130044843049,\n",
       " 0.6677115987460815,\n",
       " 0.6677101967799642,\n",
       " 0.6677087985707906,\n",
       " 0.6677074041034791,\n",
       " 0.6677060133630289,\n",
       " 0.6677046263345195,\n",
       " 0.6677032430031097,\n",
       " 0.6677018633540373,\n",
       " 0.6677004873726186,\n",
       " 0.6676991150442478,\n",
       " 0.6676977463543968,\n",
       " 0.6676963812886143,\n",
       " 0.6676950198325253,\n",
       " 0.667693661971831,\n",
       " 0.6676923076923077,\n",
       " 0.6676909569798068,\n",
       " 0.6676896098202543,\n",
       " 0.6676882661996497,\n",
       " 0.6676869261040664,\n",
       " 0.6676855895196506,\n",
       " 0.667684256432621,\n",
       " 0.6676829268292683,\n",
       " 0.6676816006959547,\n",
       " 0.6676802780191138,\n",
       " 0.6676789587852494,\n",
       " 0.6676776429809359,\n",
       " 0.667676330592817,\n",
       " 0.6676750216076058,\n",
       " 0.6676737160120846,\n",
       " 0.6676724137931035,\n",
       " 0.6676711149375807,\n",
       " 0.6676698194325021,\n",
       " 0.6676685272649205,\n",
       " 0.6676672384219554,\n",
       " 0.6676659528907923,\n",
       " 0.6676646706586826,\n",
       " 0.6676633917129432,\n",
       " 0.6676621160409556,\n",
       " 0.6676608436301662,\n",
       " 0.6676595744680851,\n",
       " 0.6676583085422865,\n",
       " 0.6676570458404074,\n",
       " 0.6676557863501483,\n",
       " 0.6676545300592718,\n",
       " 0.6676532769556025,\n",
       " 0.667652027027027,\n",
       " 0.667650780261493,\n",
       " 0.6676495366470092,\n",
       " 0.6676482961716449,\n",
       " 0.6676470588235294,\n",
       " 0.6676458245908519,\n",
       " 0.6676445934618609,\n",
       " 0.6676433654248639,\n",
       " 0.6676421404682275,\n",
       " 0.6676409185803758,\n",
       " 0.6676396997497915,\n",
       " 0.6676384839650146,\n",
       " 0.6676372712146422,\n",
       " 0.6676360614873287,\n",
       " 0.6676348547717842,\n",
       " 0.6676336510567757,\n",
       " 0.6676324503311258,\n",
       " 0.6676312525837123,\n",
       " 0.6676300578034682,\n",
       " 0.6676288659793814,\n",
       " 0.6676276771004942,\n",
       " 0.6676264911559029,\n",
       " 0.6676253081347576,\n",
       " 0.6676241280262618,\n",
       " 0.6676229508196722,\n",
       " 0.667621776504298,\n",
       " 0.6676206050695013,\n",
       " 0.6676194365046958,\n",
       " 0.6676182707993474,\n",
       " 0.6676171079429736,\n",
       " 0.6676159479251423,\n",
       " 0.6676147907354734,\n",
       " 0.6676136363636364,\n",
       " 0.6676124847993514,\n",
       " 0.6676113360323886,\n",
       " 0.6676101900525677,\n",
       " 0.6676090468497576,\n",
       " 0.6676079064138766,\n",
       " 0.6676067687348912,\n",
       " 0.6676056338028169,\n",
       " 0.667604501607717,\n",
       " 0.6676033721397029,\n",
       " 0.6676022453889334,\n",
       " 0.6676011213456148,\n",
       " 0.6676,\n",
       " 0.6675988813423891,\n",
       " 0.6675977653631285,\n",
       " 0.6675966520526107,\n",
       " 0.6675955414012739,\n",
       " 0.6675944333996023,\n",
       " 0.6675933280381255,\n",
       " 0.6675922253074177,\n",
       " 0.6675911251980983,\n",
       " 0.667590027700831,\n",
       " 0.6675889328063241,\n",
       " 0.6675878405053296,\n",
       " 0.6675867507886435,\n",
       " 0.6675856636471051,\n",
       " 0.6675845790715972,\n",
       " 0.6675834970530452,\n",
       " 0.6675824175824175,\n",
       " 0.6675813406507252,\n",
       " 0.6675802662490211,\n",
       " 0.6675791943684005,\n",
       " 0.667578125,\n",
       " 0.667577058134998,\n",
       " 0.6675759937646142,\n",
       " 0.667574931880109,\n",
       " 0.6675738724727839,\n",
       " 0.6675728155339806,\n",
       " 0.6675717610550814,\n",
       " 0.6675707090275087,\n",
       " 0.6675696594427245,\n",
       " 0.6675686122922304,\n",
       " 0.6675675675675675,\n",
       " 0.6675665252603162,\n",
       " 0.6675654853620955,\n",
       " 0.6675644478645633,\n",
       " 0.6675634127594159,\n",
       " 0.6675623800383877,\n",
       " 0.6675613496932515,\n",
       " 0.6675603217158177,\n",
       " 0.6675592960979342,\n",
       " 0.6675582728314864,\n",
       " 0.667557251908397,\n",
       " 0.6675562333206252,\n",
       " 0.6675552170601675,\n",
       " 0.6675542031190567,\n",
       " 0.6675531914893617,\n",
       " 0.6675521821631879,\n",
       " 0.6675511751326763,\n",
       " 0.6675501703900037,\n",
       " 0.6675491679273827,\n",
       " 0.6675481677370608,\n",
       " 0.6675471698113208,\n",
       " 0.6675461741424802,\n",
       " 0.6675451807228916,\n",
       " 0.6675441895449417,\n",
       " 0.6675432006010519,\n",
       " 0.6675422138836773,\n",
       " 0.6675412293853074,\n",
       " 0.667540247098465,\n",
       " 0.6675392670157068,\n",
       " 0.6675382891296228,\n",
       " 0.6675373134328358,\n",
       " 0.6675363399180022,\n",
       " 0.6675353685778108,\n",
       " 0.6675343994049833,\n",
       " 0.6675334323922734,\n",
       " 0.6675324675324675,\n",
       " 0.667531504818384,\n",
       " 0.6675305442428731,\n",
       " 0.6675295857988166,\n",
       " 0.6675286294791282,\n",
       " 0.6675276752767527,\n",
       " 0.6675267231846664,\n",
       " 0.6675257731958762,\n",
       " 0.6675248253034204,\n",
       " 0.6675238795003674,\n",
       " 0.6675229357798165,\n",
       " 0.6675219941348973,\n",
       " 0.6675210545587696,\n",
       " 0.6675201170446232,\n",
       " 0.6675191815856778,\n",
       " 0.6675182481751825,\n",
       " 0.6675173168064163,\n",
       " 0.6675163874726876,\n",
       " 0.6675154601673335,\n",
       " 0.6675145348837209,\n",
       " 0.667513611615245,\n",
       " 0.6675126903553299,\n",
       " 0.6675117710974284,\n",
       " 0.6675108538350217,\n",
       " 0.6675099385616191,\n",
       " 0.6675090252707582,\n",
       " 0.6675081139560043,\n",
       " 0.667507204610951,\n",
       " 0.6675062972292192,\n",
       " 0.6675053918044572,\n",
       " 0.6675044883303412,\n",
       " 0.6675035868005739,\n",
       " 0.6675026872088857,\n",
       " 0.6675017895490336,\n",
       " 0.6675008938148016,\n",
       " 0.6675,\n",
       " 0.6674991080984659,\n",
       " 0.6674982181040627,\n",
       " 0.66749733001068,\n",
       " 0.6674964438122333,\n",
       " 0.6674955595026643,\n",
       " 0.6674946770759403,\n",
       " 0.6674937965260546,\n",
       " 0.6674929178470255,\n",
       " 0.667492041032897,\n",
       " 0.6674911660777385,\n",
       " 0.6674902929756442,\n",
       " 0.6674894217207334,\n",
       " 0.6674885523071504,\n",
       " 0.6674876847290641,\n",
       " 0.6674868189806679,\n",
       " 0.6674859550561798,\n",
       " 0.6674850929498422,\n",
       " 0.6674842326559215,\n",
       " 0.6674833741687084,\n",
       " 0.6674825174825175,\n",
       " 0.6674816625916871,\n",
       " 0.6674808094905792,\n",
       " 0.6674799581735796,\n",
       " 0.6674791086350975,\n",
       " 0.6674782608695652,\n",
       " 0.6674774148714385,\n",
       " 0.6674765706351962,\n",
       " 0.6674757281553398,\n",
       " 0.6674748874263942,\n",
       " 0.6674740484429066,\n",
       " 0.6674732111994469,\n",
       " 0.6674723756906077,\n",
       " 0.6674715419110038,\n",
       " 0.6674707098552722,\n",
       " 0.6674698795180722,\n",
       " 0.6674690508940853,\n",
       " 0.6674682239780144,\n",
       " 0.6674673987645847,\n",
       " 0.667466575248543,\n",
       " 0.6674657534246575,\n",
       " 0.667464933287718,\n",
       " 0.6674641148325359,\n",
       " 0.6674632980539433,\n",
       " 0.667462482946794,\n",
       " 0.6674616695059625,\n",
       " 0.6674608577263444,\n",
       " 0.6674600476028562,\n",
       " 0.6674592391304348,\n",
       " 0.667458432304038,\n",
       " 0.6674576271186441,\n",
       " 0.6674568235692516,\n",
       " 0.6674560216508796,\n",
       " 0.667455221358567,\n",
       " 0.6674544226873734,\n",
       " 0.6674536256323778,\n",
       " 0.6674528301886793,\n",
       " 0.6674520363513968,\n",
       " 0.6674512441156691,\n",
       " 0.6674504534766543,\n",
       " 0.6674496644295302,\n",
       " 0.6674488769694938,\n",
       " 0.6674480910917615,\n",
       " 0.667447306791569,\n",
       " 0.6674465240641712,\n",
       " 0.6674457429048414,\n",
       " 0.6674449633088726]"
      ]
     },
     "execution_count": 38,
     "metadata": {},
     "output_type": "execute_result"
    }
   ],
   "source": [
    "[sucesion(i) for i in range(1,1001)]"
   ]
  },
  {
   "cell_type": "code",
   "execution_count": null,
   "id": "0eec51fc",
   "metadata": {},
   "outputs": [],
   "source": [
    "s = [sucesion(i) for i in range(1,10_000_001)]\n",
    "\n",
    "abs(s[-1] - s[-2]) < 1e-7"
   ]
  },
  {
   "cell_type": "code",
   "execution_count": null,
   "id": "530c1421",
   "metadata": {},
   "outputs": [],
   "source": [
    "s[-1]"
   ]
  },
  {
   "cell_type": "markdown",
   "id": "18eade2f",
   "metadata": {},
   "source": [
    "**Bosquejo de la posible solución:**\n",
    "\n",
    "1. Construir una función que me de el n-ésimo término usando recurrencia\n",
    "\n",
    "1.1 Construir una función que te dé los primeros n términos de la sucesión\n",
    "\n",
    "2. Calcular los términos que sean necesarios para que la condición de convergencia se cumpla"
   ]
  },
  {
   "cell_type": "markdown",
   "id": "8f612691",
   "metadata": {},
   "source": [
    "**4.** Crea una función que reciba dos enteros positivos (asegurarse de esto con gestión de errores) y devuelva una matriz de números enteros aleatorios entre 1 y 10."
   ]
  },
  {
   "cell_type": "code",
   "execution_count": null,
   "id": "c86ac1f2",
   "metadata": {},
   "outputs": [],
   "source": [
    "rows = 4\n",
    "cols = 2\n",
    "\n",
    "array([[1,2],\n",
    "[1,2],\n",
    "[1,2],\n",
    "[1,2]])"
   ]
  }
 ],
 "metadata": {
  "kernelspec": {
   "display_name": "Python 3 (ipykernel)",
   "language": "python",
   "name": "python3"
  },
  "language_info": {
   "codemirror_mode": {
    "name": "ipython",
    "version": 3
   },
   "file_extension": ".py",
   "mimetype": "text/x-python",
   "name": "python",
   "nbconvert_exporter": "python",
   "pygments_lexer": "ipython3",
   "version": "3.11.3"
  }
 },
 "nbformat": 4,
 "nbformat_minor": 5
}
